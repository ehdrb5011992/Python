{
 "cells": [
  {
   "cell_type": "markdown",
   "metadata": {},
   "source": [
    "# [2-4 CNN(ResNet)]"
   ]
  },
  {
   "cell_type": "markdown",
   "metadata": {},
   "source": [
    "*KU LeeDongGyu*"
   ]
  },
  {
   "cell_type": "markdown",
   "metadata": {},
   "source": [
    "### Note :"
   ]
  },
  {
   "cell_type": "markdown",
   "metadata": {},
   "source": [
    "This code was used during the workshop at Kyungpook National University. <br>\n",
    "Also, the content of this material is what I learned while moving Pycham to Jupyter."
   ]
  },
  {
   "cell_type": "markdown",
   "metadata": {},
   "source": [
    "Reference : TensorFlow 2.1 Quick Start Guide (by Holdroyd)"
   ]
  },
  {
   "cell_type": "markdown",
   "metadata": {},
   "source": [
    "### Modules"
   ]
  },
  {
   "cell_type": "code",
   "execution_count": 2,
   "metadata": {},
   "outputs": [],
   "source": [
    "from tensorflow.keras.applications.resnet50 import ResNet50 # resnet50을 제공한다\n",
    "from tensorflow.keras.preprocessing import image\n",
    "from tensorflow.keras.applications.resnet50 import preprocess_input, decode_predictions\n",
    "import numpy as np"
   ]
  },
  {
   "cell_type": "markdown",
   "metadata": {},
   "source": [
    "## 1. ResNet50\n",
    "---"
   ]
  },
  {
   "cell_type": "code",
   "execution_count": 3,
   "metadata": {},
   "outputs": [],
   "source": [
    "\"\"\"\n",
    "예제 2-1-4. Pretrained ResNet50 classification on the imagenet dataset  \n",
    "  \n",
    "African_Bush_Elephant.jpg\n",
    "\"\"\"\n",
    "model = ResNet50(weights='imagenet') #imagenet으로 train된 모형을 불러오게 된다."
   ]
  },
  {
   "cell_type": "code",
   "execution_count": 5,
   "metadata": {},
   "outputs": [],
   "source": [
    "#인터넷에서 아무거나 코끼리를 다운받음\n",
    "img_path = 'C:\\\\Users\\\\82104\\\\Desktop\\\\연구실\\\\2019_Winter\\\\경북대 딥러닝 강의\\\\Pycharm (given)\\\\African_Bush_Elephant.jpg' \n",
    "img = image.load_img(img_path, target_size=(224, 224)) # 이미지 사이즈도 이렇게 변환 가능.\n"
   ]
  },
  {
   "cell_type": "code",
   "execution_count": 11,
   "metadata": {},
   "outputs": [],
   "source": [
    "x = image.img_to_array(img)"
   ]
  },
  {
   "cell_type": "code",
   "execution_count": 12,
   "metadata": {
    "scrolled": true
   },
   "outputs": [
    {
     "data": {
      "text/plain": [
       "array([[[103.,  96.,  44.],\n",
       "        [ 48.,  42.,   0.],\n",
       "        [ 62.,  55.,  11.],\n",
       "        ...,\n",
       "        [128., 128.,  64.],\n",
       "        [117., 119.,  56.],\n",
       "        [107., 109.,  46.]],\n",
       "\n",
       "       [[118., 111.,  57.],\n",
       "        [127., 120.,  68.],\n",
       "        [ 92.,  86.,  38.],\n",
       "        ...,\n",
       "        [131., 134.,  67.],\n",
       "        [123., 125.,  60.],\n",
       "        [114., 116.,  51.]],\n",
       "\n",
       "       [[147., 138.,  79.],\n",
       "        [156., 150.,  92.],\n",
       "        [125., 118.,  64.],\n",
       "        ...,\n",
       "        [132., 135.,  66.],\n",
       "        [127., 130.,  61.],\n",
       "        [121., 124.,  55.]],\n",
       "\n",
       "       ...,\n",
       "\n",
       "       [[121., 141.,  54.],\n",
       "        [ 79.,  99.,  12.],\n",
       "        [ 29.,  49.,   0.],\n",
       "        ...,\n",
       "        [118., 119.,  53.],\n",
       "        [ 86.,  92.,  20.],\n",
       "        [114., 121.,  51.]],\n",
       "\n",
       "       [[135., 137.,  54.],\n",
       "        [165., 168.,  87.],\n",
       "        [ 91.,  95.,  18.],\n",
       "        ...,\n",
       "        [ 63.,  58.,   0.],\n",
       "        [103., 101.,  42.],\n",
       "        [ 62.,  61.,   4.]],\n",
       "\n",
       "       [[156., 149.,  69.],\n",
       "        [162., 156.,  78.],\n",
       "        [136., 133.,  62.],\n",
       "        ...,\n",
       "        [ 74.,  69.,  14.],\n",
       "        [116., 110.,  58.],\n",
       "        [ 76.,  70.,  18.]]], dtype=float32)"
      ]
     },
     "execution_count": 12,
     "metadata": {},
     "output_type": "execute_result"
    }
   ],
   "source": [
    "x"
   ]
  },
  {
   "cell_type": "code",
   "execution_count": 13,
   "metadata": {},
   "outputs": [
    {
     "data": {
      "text/plain": [
       "(224, 224, 3)"
      ]
     },
     "execution_count": 13,
     "metadata": {},
     "output_type": "execute_result"
    }
   ],
   "source": [
    "x.shape # 단일 이미지를 load하면 아래와 같이 불러와진다."
   ]
  },
  {
   "cell_type": "code",
   "execution_count": 14,
   "metadata": {},
   "outputs": [],
   "source": [
    "x = np.expand_dims(x, axis=0) # 따라서 아래에서 preprocess_input을 사용하기 위해, 데이터 개수에 해당하는 차원을 추가해줘야 한다."
   ]
  },
  {
   "cell_type": "code",
   "execution_count": 15,
   "metadata": {},
   "outputs": [
    {
     "data": {
      "text/plain": [
       "(1, 224, 224, 3)"
      ]
     },
     "execution_count": 15,
     "metadata": {},
     "output_type": "execute_result"
    }
   ],
   "source": [
    "x.shape "
   ]
  },
  {
   "cell_type": "code",
   "execution_count": 16,
   "metadata": {},
   "outputs": [],
   "source": [
    "x = preprocess_input(x) #tensorflow.keras.applications.resnet50.preprocess_input , 전처리작업.\n",
    "\n",
    "# Some models use images with values ranging from 0 to 1. Others from -1 to +1. \n",
    "# Others use the \"caffe\" style, that is not normalized, but is centered.\n",
    "\n",
    "\n",
    "# mode: One of \"caffe\", \"tf\" or \"torch\".\n",
    "#            - caffe: will convert the images from RGB to BGR,\n",
    "#                then will zero-center each color channel with\n",
    "#                respect to the ImageNet dataset,\n",
    "#                without scaling.\n",
    "#            - tf: will scale pixels between -1 and 1,\n",
    "#                sample-wise.\n",
    "#            - torch: will scale pixels between 0 and 1 and then\n",
    "#                will normalize each channel with respect to the\n",
    "#                ImageNet dataset.\n",
    "\n",
    "# resnet 은 \"caffe\" style 채택\n",
    "\n",
    "# 자세한내용은 아래 링크 참고.\n",
    "# https://stackoverflow.com/questions/47555829/preprocess-input-method-in-keras "
   ]
  },
  {
   "cell_type": "code",
   "execution_count": 18,
   "metadata": {
    "scrolled": true
   },
   "outputs": [
    {
     "data": {
      "text/plain": [
       "array([[[[ -59.939003 ,  -20.779    ,  -20.68     ],\n",
       "         [-103.939    ,  -74.779    ,  -75.68     ],\n",
       "         [ -92.939    ,  -61.779    ,  -61.68     ],\n",
       "         ...,\n",
       "         [ -39.939003 ,   11.221001 ,    4.3199997],\n",
       "         [ -47.939003 ,    2.2210007,   -6.6800003],\n",
       "         [ -57.939003 ,   -7.7789993,  -16.68     ]],\n",
       "\n",
       "        [[ -46.939003 ,   -5.7789993,   -5.6800003],\n",
       "         [ -35.939003 ,    3.2210007,    3.3199997],\n",
       "         [ -65.939    ,  -30.779    ,  -31.68     ],\n",
       "         ...,\n",
       "         [ -36.939003 ,   17.221    ,    7.3199997],\n",
       "         [ -43.939003 ,    8.221001 ,   -0.6800003],\n",
       "         [ -52.939003 ,   -0.7789993,   -9.68     ]],\n",
       "\n",
       "        [[ -24.939003 ,   21.221    ,   23.32     ],\n",
       "         [ -11.939003 ,   33.221    ,   32.32     ],\n",
       "         [ -39.939003 ,    1.2210007,    1.3199997],\n",
       "         ...,\n",
       "         [ -37.939003 ,   18.221    ,    8.32     ],\n",
       "         [ -42.939003 ,   13.221001 ,    3.3199997],\n",
       "         [ -48.939003 ,    7.2210007,   -2.6800003]],\n",
       "\n",
       "        ...,\n",
       "\n",
       "        [[ -49.939003 ,   24.221    ,   -2.6800003],\n",
       "         [ -91.939    ,  -17.779    ,  -44.68     ],\n",
       "         [-103.939    ,  -67.779    ,  -94.68     ],\n",
       "         ...,\n",
       "         [ -50.939003 ,    2.2210007,   -5.6800003],\n",
       "         [ -83.939    ,  -24.779    ,  -37.68     ],\n",
       "         [ -52.939003 ,    4.2210007,   -9.68     ]],\n",
       "\n",
       "        [[ -49.939003 ,   20.221    ,   11.32     ],\n",
       "         [ -16.939003 ,   51.221    ,   41.32     ],\n",
       "         [ -85.939    ,  -21.779    ,  -32.68     ],\n",
       "         ...,\n",
       "         [-103.939    ,  -58.779    ,  -60.68     ],\n",
       "         [ -61.939003 ,  -15.778999 ,  -20.68     ],\n",
       "         [ -99.939    ,  -55.779    ,  -61.68     ]],\n",
       "\n",
       "        [[ -34.939003 ,   32.221    ,   32.32     ],\n",
       "         [ -25.939003 ,   39.221    ,   38.32     ],\n",
       "         [ -41.939003 ,   16.221    ,   12.32     ],\n",
       "         ...,\n",
       "         [ -89.939    ,  -47.779    ,  -49.68     ],\n",
       "         [ -45.939003 ,   -6.7789993,   -7.6800003],\n",
       "         [ -85.939    ,  -46.779    ,  -47.68     ]]]], dtype=float32)"
      ]
     },
     "execution_count": 18,
     "metadata": {},
     "output_type": "execute_result"
    }
   ],
   "source": [
    "x"
   ]
  },
  {
   "cell_type": "code",
   "execution_count": 19,
   "metadata": {},
   "outputs": [],
   "source": [
    "preds = model.predict(x)"
   ]
  },
  {
   "cell_type": "code",
   "execution_count": 20,
   "metadata": {},
   "outputs": [
    {
     "name": "stdout",
     "output_type": "stream",
     "text": [
      "Downloading data from https://storage.googleapis.com/download.tensorflow.org/data/imagenet_class_index.json\n",
      "40960/35363 [==================================] - 0s 1us/step\n",
      "Predicted: [('n02504458', 'African_elephant', 0.6988057), ('n01871265', 'tusker', 0.15658328), ('n02504013', 'Indian_elephant', 0.14460719)]\n"
     ]
    }
   ],
   "source": [
    "print('Predicted:', decode_predictions(preds, top=3)[0]) # 70% 확률로 잘 맞춘다"
   ]
  },
  {
   "cell_type": "markdown",
   "metadata": {},
   "source": [
    "## 2. Reference\n",
    "---"
   ]
  },
  {
   "cell_type": "markdown",
   "metadata": {},
   "source": [
    "- [preprocess_input](https://stackoverflow.com/questions/47555829/preprocess-input-method-in-keras )\n",
    "- [Style Transfer](https://lazyer.tistory.com/15 )\n"
   ]
  }
 ],
 "metadata": {
  "kernelspec": {
   "display_name": "Python 3",
   "language": "python",
   "name": "python3"
  },
  "language_info": {
   "codemirror_mode": {
    "name": "ipython",
    "version": 3
   },
   "file_extension": ".py",
   "mimetype": "text/x-python",
   "name": "python",
   "nbconvert_exporter": "python",
   "pygments_lexer": "ipython3",
   "version": "3.7.3"
  }
 },
 "nbformat": 4,
 "nbformat_minor": 2
}
