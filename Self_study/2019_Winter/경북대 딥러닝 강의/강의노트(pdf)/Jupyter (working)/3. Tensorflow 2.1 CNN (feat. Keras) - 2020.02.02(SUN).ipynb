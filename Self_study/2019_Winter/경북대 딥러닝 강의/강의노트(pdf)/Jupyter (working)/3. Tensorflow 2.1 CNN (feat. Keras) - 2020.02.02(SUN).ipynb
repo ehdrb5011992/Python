{
 "cells": [
  {
   "cell_type": "markdown",
   "metadata": {},
   "source": [
    "# [2-1 CNN]"
   ]
  },
  {
   "cell_type": "markdown",
   "metadata": {},
   "source": [
    "*KU LeeDongGyu*"
   ]
  },
  {
   "cell_type": "markdown",
   "metadata": {},
   "source": [
    "### Note :"
   ]
  },
  {
   "cell_type": "markdown",
   "metadata": {},
   "source": [
    "This code was used during the workshop at Kyungpook National University. <br>\n",
    "Also, the content of this material is what I learned while moving Pycham to Jupyter."
   ]
  },
  {
   "cell_type": "markdown",
   "metadata": {},
   "source": [
    "Reference : TensorFlow 2.1 Quick Start Guide (by Holdroyd)"
   ]
  },
  {
   "cell_type": "markdown",
   "metadata": {},
   "source": [
    "### Install"
   ]
  },
  {
   "cell_type": "code",
   "execution_count": 7,
   "metadata": {},
   "outputs": [
    {
     "name": "stdout",
     "output_type": "stream",
     "text": [
      "Requirement already up-to-date: pip in c:\\users\\82104\\appdata\\local\\programs\\python\\python37\\lib\\site-packages (20.0.2)\n",
      "Note: you may need to restart the kernel to use updated packages.\n"
     ]
    }
   ],
   "source": [
    "pip install --upgrade pip"
   ]
  },
  {
   "cell_type": "code",
   "execution_count": 1,
   "metadata": {},
   "outputs": [
    {
     "name": "stdout",
     "output_type": "stream",
     "text": [
      "Collecting keras\n",
      "  Downloading https://files.pythonhosted.org/packages/ad/fd/6bfe87920d7f4fd475acd28500a42482b6b84479832bdc0fe9e589a60ceb/Keras-2.3.1-py2.py3-none-any.whl (377kB)\n",
      "Requirement already satisfied: h5py in c:\\users\\user\\anaconda3\\lib\\site-packages (from keras) (2.9.0)\n",
      "Requirement already satisfied: scipy>=0.14 in c:\\users\\user\\anaconda3\\lib\\site-packages (from keras) (1.3.1)\n",
      "Requirement already satisfied: six>=1.9.0 in c:\\users\\user\\anaconda3\\lib\\site-packages (from keras) (1.12.0)\n",
      "Collecting keras-applications>=1.0.6 (from keras)\n",
      "  Downloading https://files.pythonhosted.org/packages/71/e3/19762fdfc62877ae9102edf6342d71b28fbfd9dea3d2f96a882ce099b03f/Keras_Applications-1.0.8-py3-none-any.whl (50kB)\n",
      "Requirement already satisfied: numpy>=1.9.1 in c:\\users\\user\\anaconda3\\lib\\site-packages (from keras) (1.16.5)\n",
      "Collecting keras-preprocessing>=1.0.5 (from keras)\n",
      "  Downloading https://files.pythonhosted.org/packages/28/6a/8c1f62c37212d9fc441a7e26736df51ce6f0e38455816445471f10da4f0a/Keras_Preprocessing-1.1.0-py2.py3-none-any.whl (41kB)\n",
      "Requirement already satisfied: pyyaml in c:\\users\\user\\anaconda3\\lib\\site-packages (from keras) (5.1.2)\n",
      "Installing collected packages: keras-applications, keras-preprocessing, keras\n",
      "Successfully installed keras-2.3.1 keras-applications-1.0.8 keras-preprocessing-1.1.0\n",
      "Note: you may need to restart the kernel to use updated packages.\n"
     ]
    }
   ],
   "source": [
    "pip install keras # 쓰지 말자.. tf.keras 쓰자.."
   ]
  },
  {
   "cell_type": "code",
   "execution_count": 2,
   "metadata": {},
   "outputs": [
    {
     "name": "stdout",
     "output_type": "stream",
     "text": [
      "Collecting theano\n",
      "  Downloading https://files.pythonhosted.org/packages/7d/c4/6341148ad458b6cd8361b774d7ee6895c38eab88f05331f22304c484ed5d/Theano-1.0.4.tar.gz (2.8MB)\n",
      "Requirement already satisfied: numpy>=1.9.1 in c:\\users\\user\\anaconda3\\lib\\site-packages (from theano) (1.16.5)\n",
      "Requirement already satisfied: scipy>=0.14 in c:\\users\\user\\anaconda3\\lib\\site-packages (from theano) (1.3.1)\n",
      "Requirement already satisfied: six>=1.9.0 in c:\\users\\user\\anaconda3\\lib\\site-packages (from theano) (1.12.0)\n",
      "Building wheels for collected packages: theano\n",
      "  Building wheel for theano (setup.py): started\n",
      "  Building wheel for theano (setup.py): finished with status 'done'\n",
      "  Created wheel for theano: filename=Theano-1.0.4-cp37-none-any.whl size=2667193 sha256=d8511df41d4d8f70ae5d59a4319621f0f086aee50341b19a3aeab276d9456cb9\n",
      "  Stored in directory: C:\\Users\\user\\AppData\\Local\\pip\\Cache\\wheels\\88\\fb\\be\\483910ff7e9f703f30a10605ad7605f3316493875c86637014\n",
      "Successfully built theano\n",
      "Installing collected packages: theano\n",
      "Successfully installed theano-1.0.4\n",
      "Note: you may need to restart the kernel to use updated packages.\n"
     ]
    }
   ],
   "source": [
    "pip install theano\n",
    "# keras에서 필요하다. 근데.. 그냥 tf.keras쓰자. keras만 쓰면 뭔가가 굉장히 안돌아감.(속도도 느림)"
   ]
  },
  {
   "cell_type": "markdown",
   "metadata": {},
   "source": [
    "### Modules"
   ]
  },
  {
   "cell_type": "code",
   "execution_count": 19,
   "metadata": {},
   "outputs": [],
   "source": [
    "from __future__ import absolute_import\n",
    "from __future__ import division\n",
    "from __future__ import print_function\n",
    "# 현재 python2 버전을 쓰면서, 3버전의 함수가 필요할 경우, __future__ 모듈을 사용\n",
    "# 즉, 나에게는 필요 없는 모듈이다. 자세한 내용은 아래 Reference를 참고.\n",
    "\n",
    "import numpy as np\n",
    "import tensorflow as tf\n",
    "from tensorflow.keras.layers import Dense, Dropout, Input\n",
    "from tensorflow.keras.layers import Conv2D, MaxPooling2D, Flatten\n",
    "from tensorflow.keras.models import Model\n",
    "from tensorflow.keras.datasets import mnist\n",
    "from tensorflow.keras.utils import to_categorical"
   ]
  },
  {
   "cell_type": "markdown",
   "metadata": {},
   "source": [
    "## 1. MNIST\n",
    "---"
   ]
  },
  {
   "cell_type": "code",
   "execution_count": 2,
   "metadata": {},
   "outputs": [],
   "source": [
    "\"\"\"\n",
    "참고교재: Advanced Deep Learning with Keras\n",
    "\n",
    "예제 2-1-1: CNN classification on MNIST data set  \n",
    "CNN을 구축하기 위해 \"Functional API\"를 사용함  \n",
    "\"\"\"\n",
    "\n",
    "\n",
    "# MNIST 데이터를 읽어들임\n",
    "(x_train, y_train), (x_test, y_test) = mnist.load_data()"
   ]
  },
  {
   "cell_type": "code",
   "execution_count": 3,
   "metadata": {},
   "outputs": [],
   "source": [
    "num_labels = len(np.unique(y_train)) # set 함수와 유사함."
   ]
  },
  {
   "cell_type": "code",
   "execution_count": 4,
   "metadata": {},
   "outputs": [
    {
     "name": "stdout",
     "output_type": "stream",
     "text": [
      "[0. 0. 0. 0. 0. 1. 0. 0. 0. 0.]\n"
     ]
    }
   ],
   "source": [
    "# one-hot encoding\n",
    "# keras.utils.to_categorical\n",
    "y_train = to_categorical(y_train)\n",
    "y_test = to_categorical(y_test)\n",
    "print(y_train[0])"
   ]
  },
  {
   "cell_type": "code",
   "execution_count": 5,
   "metadata": {},
   "outputs": [
    {
     "name": "stdout",
     "output_type": "stream",
     "text": [
      "28\n"
     ]
    }
   ],
   "source": [
    "image_size = x_train.shape[1]\n",
    "print(image_size)"
   ]
  },
  {
   "cell_type": "code",
   "execution_count": 6,
   "metadata": {},
   "outputs": [],
   "source": [
    "x_train = np.reshape(x_train,[-1,image_size,image_size,1])\n",
    "x_test = x_test.reshape([-1,image_size,image_size,1])"
   ]
  },
  {
   "cell_type": "code",
   "execution_count": 7,
   "metadata": {},
   "outputs": [
    {
     "data": {
      "text/plain": [
       "(60000, 28, 28, 1)"
      ]
     },
     "execution_count": 7,
     "metadata": {},
     "output_type": "execute_result"
    }
   ],
   "source": [
    "x_train.shape\n",
    "# 데이터수, 가로, 세로, 깊이"
   ]
  },
  {
   "cell_type": "code",
   "execution_count": 8,
   "metadata": {},
   "outputs": [],
   "source": [
    "x_train = x_train.astype('float32')/255\n",
    "x_test = x_test.astype('float32')/255"
   ]
  },
  {
   "cell_type": "code",
   "execution_count": 9,
   "metadata": {},
   "outputs": [],
   "source": [
    "# network parameters\n",
    "input_shape = (image_size,image_size,1)\n",
    "batch_size = 32\n",
    "kernel_size = 3 # 3 x 3 필터\n",
    "filters = 32 # 필터 32개\n",
    "dropout = 0.3 # 0.7만 활성화"
   ]
  },
  {
   "cell_type": "code",
   "execution_count": 10,
   "metadata": {},
   "outputs": [],
   "source": [
    "# CNN 만들기\n",
    "\n",
    "inputs = Input(shape=input_shape)\n",
    "# keras.layers.Input 임. class로 지정되어있음. 얘가 input층.\n",
    "\n",
    "y = Conv2D(filters = filters,\n",
    "          kernel_size = kernel_size,\n",
    "          activation = 'relu')(inputs)\n",
    "# keras.layers.Conv2D 임. class로 지정되어 있음. convolution층\n",
    "y = MaxPooling2D()(y)\n",
    "# keras.layers.MaxPooling2D 임. class로 지정되어 있음. pooling.\n",
    "\n",
    "y = Conv2D(filters = filters, \n",
    "          kernel_size = kernel_size,\n",
    "          activation = 'relu')(y)\n",
    "y = MaxPooling2D()(y)\n",
    "y = Conv2D(filters=filters,\n",
    "           kernel_size=kernel_size,\n",
    "           activation='relu')(y)\n",
    "y = Flatten()(y)\n",
    "# keras.layers.Flatten 임. class로 지정되어 있음. fully connected.\n",
    "\n",
    "y = Dropout(dropout)(y) \n",
    "# keras.layers.Dropout 임. class로 지정되어 있음. overfitting 방지.\n",
    "\n",
    "outputs = Dense(num_labels, activation = 'softmax')(y)\n",
    "# keras.layers.Dense 임. class로 지정되어 있음. classification."
   ]
  },
  {
   "cell_type": "code",
   "execution_count": 11,
   "metadata": {},
   "outputs": [],
   "source": [
    "model = Model(inputs = inputs , outputs = outputs)\n",
    "# keras.models.Model 임. Class로 지정되어 있음. 모델로써 정의.\n",
    "# keras.Model 도 똑같음."
   ]
  },
  {
   "cell_type": "code",
   "execution_count": 12,
   "metadata": {},
   "outputs": [
    {
     "name": "stdout",
     "output_type": "stream",
     "text": [
      "Model: \"model\"\n",
      "_________________________________________________________________\n",
      "Layer (type)                 Output Shape              Param #   \n",
      "=================================================================\n",
      "input_1 (InputLayer)         [(None, 28, 28, 1)]       0         \n",
      "_________________________________________________________________\n",
      "conv2d (Conv2D)              (None, 26, 26, 32)        320       \n",
      "_________________________________________________________________\n",
      "max_pooling2d (MaxPooling2D) (None, 13, 13, 32)        0         \n",
      "_________________________________________________________________\n",
      "conv2d_1 (Conv2D)            (None, 11, 11, 32)        9248      \n",
      "_________________________________________________________________\n",
      "max_pooling2d_1 (MaxPooling2 (None, 5, 5, 32)          0         \n",
      "_________________________________________________________________\n",
      "conv2d_2 (Conv2D)            (None, 3, 3, 32)          9248      \n",
      "_________________________________________________________________\n",
      "flatten (Flatten)            (None, 288)               0         \n",
      "_________________________________________________________________\n",
      "dropout (Dropout)            (None, 288)               0         \n",
      "_________________________________________________________________\n",
      "dense (Dense)                (None, 10)                2890      \n",
      "=================================================================\n",
      "Total params: 21,706\n",
      "Trainable params: 21,706\n",
      "Non-trainable params: 0\n",
      "_________________________________________________________________\n"
     ]
    }
   ],
   "source": [
    "model.summary()"
   ]
  },
  {
   "cell_type": "code",
   "execution_count": 13,
   "metadata": {},
   "outputs": [],
   "source": [
    "# classifier loss, Adam optimizer, classifier accuracy\n",
    "model.compile(loss = 'categorical_crossentropy',\n",
    "             optimizer = 'adam',\n",
    "             metrics = ['accuracy'])"
   ]
  },
  {
   "cell_type": "code",
   "execution_count": 15,
   "metadata": {
    "scrolled": true
   },
   "outputs": [
    {
     "name": "stdout",
     "output_type": "stream",
     "text": [
      "Train on 60000 samples, validate on 10000 samples\n",
      "Epoch 1/3\n",
      "60000/60000 [==============================] - 45s 752us/sample - loss: 0.0701 - accuracy: 0.9781 - val_loss: 0.0313 - val_accuracy: 0.9889\n",
      "Epoch 2/3\n",
      "60000/60000 [==============================] - 46s 772us/sample - loss: 0.0534 - accuracy: 0.9834 - val_loss: 0.0373 - val_accuracy: 0.9879\n",
      "Epoch 3/3\n",
      "60000/60000 [==============================] - 46s 773us/sample - loss: 0.0447 - accuracy: 0.9858 - val_loss: 0.0272 - val_accuracy: 0.9912\n"
     ]
    },
    {
     "data": {
      "text/plain": [
       "<tensorflow.python.keras.callbacks.History at 0x157013dfa58>"
      ]
     },
     "execution_count": 15,
     "metadata": {},
     "output_type": "execute_result"
    }
   ],
   "source": [
    "model.fit(x_train,y_train,\n",
    "         validation_data = (x_test,y_test),\n",
    "         epochs=3,\n",
    "         batch_size=batch_size)"
   ]
  },
  {
   "cell_type": "code",
   "execution_count": 16,
   "metadata": {},
   "outputs": [
    {
     "name": "stdout",
     "output_type": "stream",
     "text": [
      "10000/10000 [==============================] - 2s 209us/sample - loss: 0.0272 - accuracy: 0.9912\n",
      "\n",
      " Test accuracy: 99.1%\n"
     ]
    }
   ],
   "source": [
    "score = model.evaluate(x_test,y_test,batch_size=batch_size)\n",
    "print(\"\\n Test accuracy: %.1f%%\" % (100.0 * score[1]))"
   ]
  },
  {
   "cell_type": "markdown",
   "metadata": {},
   "source": [
    "## 2. fashion MNIST\n",
    "---"
   ]
  },
  {
   "cell_type": "code",
   "execution_count": 17,
   "metadata": {},
   "outputs": [],
   "source": [
    "\"\"\"\n",
    "예제 2-1-2: CNN classification on fashion MNIST dataset\n",
    "\n",
    "참고교재: Learn Tensorflow 2.0\n",
    "\n",
    "https://raw.githubusercontent.com/Apress/learn-tensorflow-2/master/Chapter_2_3_and_4_code/cnn_fashion_mnist.py\n",
    "\"\"\"\n",
    "\n",
    "# Create class_names list object for mapping labels to names\n",
    "class_names = ['T-shirt/top', 'Trouser', 'Pullover', 'Dress', 'Coat', 'Sandal', 'Shirt', 'Sneaker', 'Bag', 'Ankle boot']\n"
   ]
  },
  {
   "cell_type": "code",
   "execution_count": 20,
   "metadata": {},
   "outputs": [],
   "source": [
    "mnist_fashion = tf.keras.datasets.fashion_mnist"
   ]
  },
  {
   "cell_type": "code",
   "execution_count": 21,
   "metadata": {},
   "outputs": [
    {
     "name": "stdout",
     "output_type": "stream",
     "text": [
      "Downloading data from https://storage.googleapis.com/tensorflow/tf-keras-datasets/train-labels-idx1-ubyte.gz\n",
      "32768/29515 [=================================] - 0s 2us/step\n",
      "Downloading data from https://storage.googleapis.com/tensorflow/tf-keras-datasets/train-images-idx3-ubyte.gz\n",
      "26427392/26421880 [==============================] - 1s 0us/step\n",
      "Downloading data from https://storage.googleapis.com/tensorflow/tf-keras-datasets/t10k-labels-idx1-ubyte.gz\n",
      "8192/5148 [===============================================] - 0s 0us/step\n",
      "Downloading data from https://storage.googleapis.com/tensorflow/tf-keras-datasets/t10k-images-idx3-ubyte.gz\n",
      "4423680/4422102 [==============================] - 0s 0us/step\n"
     ]
    }
   ],
   "source": [
    "(training_images,training_labels),(test_images,test_labels) = mnist_fashion.load_data()"
   ]
  },
  {
   "cell_type": "code",
   "execution_count": 22,
   "metadata": {},
   "outputs": [
    {
     "name": "stdout",
     "output_type": "stream",
     "text": [
      "Training Dataset Shape: (60000, 28, 28)\n",
      "No. of Training Dataset Labels: 60000\n",
      "Test Dataset Shape: (10000, 28, 28)\n",
      "No. of Test Dataset Labels: 10000\n"
     ]
    }
   ],
   "source": [
    "#------------- Data Exploration ------------------#\n",
    "# Shape of Training and Test Set\n",
    "print('Training Dataset Shape: {}'.format(training_images.shape))\n",
    "print('No. of Training Dataset Labels: {}'.format(len(training_labels)))\n",
    "print('Test Dataset Shape: {}'.format(test_images.shape))\n",
    "print('No. of Test Dataset Labels: {}'.format(len(test_labels)))\n"
   ]
  },
  {
   "cell_type": "code",
   "execution_count": 23,
   "metadata": {},
   "outputs": [],
   "source": [
    "#------------- Data Preprocessing ------------------#\n",
    "training_images = training_images / 255.0\n",
    "test_images = test_images / 255.0"
   ]
  },
  {
   "cell_type": "code",
   "execution_count": 24,
   "metadata": {},
   "outputs": [],
   "source": [
    "#------------- Reshaping the Training and Test dataset ------------------#\n",
    "training_images = training_images.reshape((60000, 28, 28, 1))\n",
    "test_images = test_images.reshape((10000, 28, 28, 1))\n",
    "\n",
    "#각 값들을 float으로 바꾸고 나서, reshape을 해준다."
   ]
  },
  {
   "cell_type": "code",
   "execution_count": 25,
   "metadata": {},
   "outputs": [
    {
     "name": "stdout",
     "output_type": "stream",
     "text": [
      "Training Dataset Shape: (60000, 28, 28, 1)\n",
      "No. of Training Dataset Labels: 60000\n",
      "Test Dataset Shape: (10000, 28, 28, 1)\n",
      "No. of Test Dataset Labels: 10000\n"
     ]
    }
   ],
   "source": [
    "# Shape of Training and Test Set after applying reshape\n",
    "print('Training Dataset Shape: {}'.format(training_images.shape))\n",
    "print('No. of Training Dataset Labels: {}'.format(len(training_labels)))\n",
    "print('Test Dataset Shape: {}'.format(test_images.shape))\n",
    "print('No. of Test Dataset Labels: {}'.format(len(test_labels)))"
   ]
  },
  {
   "cell_type": "code",
   "execution_count": 27,
   "metadata": {},
   "outputs": [],
   "source": [
    "#------------- Model Building ------------------#\n",
    "cnn_model = tf.keras.models.Sequential()\n",
    "cnn_model.add(tf.keras.layers.Conv2D(50, (3, 3), activation='relu', input_shape=(28, 28, 1), name='Conv2D_layer'))\n",
    "cnn_model.add(tf.keras.layers.MaxPooling2D((2, 2), name='Maxpooling_2D'))\n",
    "cnn_model.add(tf.keras.layers.Flatten(name='Flatten'))\n",
    "cnn_model.add(tf.keras.layers.Dense(50, activation='relu', name='Hidden_layer'))\n",
    "cnn_model.add(tf.keras.layers.Dense(10, activation='softmax', name='Output_layer'))\n"
   ]
  },
  {
   "cell_type": "code",
   "execution_count": 28,
   "metadata": {},
   "outputs": [
    {
     "name": "stdout",
     "output_type": "stream",
     "text": [
      "Model: \"sequential_1\"\n",
      "_________________________________________________________________\n",
      "Layer (type)                 Output Shape              Param #   \n",
      "=================================================================\n",
      "Conv2D_layer (Conv2D)        (None, 26, 26, 50)        500       \n",
      "_________________________________________________________________\n",
      "Maxpooling_2D (MaxPooling2D) (None, 13, 13, 50)        0         \n",
      "_________________________________________________________________\n",
      "Flatten (Flatten)            (None, 8450)              0         \n",
      "_________________________________________________________________\n",
      "Hidden_layer (Dense)         (None, 50)                422550    \n",
      "_________________________________________________________________\n",
      "Output_layer (Dense)         (None, 10)                510       \n",
      "=================================================================\n",
      "Total params: 423,560\n",
      "Trainable params: 423,560\n",
      "Non-trainable params: 0\n",
      "_________________________________________________________________\n"
     ]
    }
   ],
   "source": [
    "#------------- Check the details of different layers built in the CNN model ------------------#\n",
    "cnn_model.summary()\n"
   ]
  },
  {
   "cell_type": "code",
   "execution_count": 29,
   "metadata": {},
   "outputs": [],
   "source": [
    "# tf.keras.utils.to_categorical 을 하지 않았음. -> sparse_categorical_crossentropy\n",
    "#------------- Optimization function ------------------#\n",
    "cnn_model.compile(optimizer='adam', loss='sparse_categorical_crossentropy', metrics=['accuracy'])\n"
   ]
  },
  {
   "cell_type": "code",
   "execution_count": 30,
   "metadata": {},
   "outputs": [
    {
     "name": "stdout",
     "output_type": "stream",
     "text": [
      "Train on 60000 samples\n",
      "Epoch 1/3\n",
      "60000/60000 [==============================] - 50s 838us/sample - loss: 0.4074 - accuracy: 0.8557\n",
      "Epoch 2/3\n",
      "60000/60000 [==============================] - 51s 854us/sample - loss: 0.2842 - accuracy: 0.8974\n",
      "Epoch 3/3\n",
      "60000/60000 [==============================] - 48s 807us/sample - loss: 0.2416 - accuracy: 0.9119\n"
     ]
    },
    {
     "data": {
      "text/plain": [
       "<tensorflow.python.keras.callbacks.History at 0x15705457b70>"
      ]
     },
     "execution_count": 30,
     "metadata": {},
     "output_type": "execute_result"
    }
   ],
   "source": [
    "#------------- Model Training ------------------#\n",
    "cnn_model.fit(training_images, training_labels, epochs=3)"
   ]
  },
  {
   "cell_type": "code",
   "execution_count": 31,
   "metadata": {},
   "outputs": [
    {
     "name": "stdout",
     "output_type": "stream",
     "text": [
      "60000/60000 [==============================] - 15s 252us/sample - loss: 0.2185 - accuracy: 0.9190\n",
      "Training Accuracy 0.92\n"
     ]
    }
   ],
   "source": [
    "#------------- Model Evaluation ------------------#\n",
    "# 1. Training Evaluation\n",
    "training_loss, training_accuracy = cnn_model.evaluate(training_images, training_labels)\n",
    "print('Training Accuracy {}'.format(round(float(training_accuracy), 2)))\n"
   ]
  },
  {
   "cell_type": "code",
   "execution_count": 32,
   "metadata": {},
   "outputs": [
    {
     "name": "stdout",
     "output_type": "stream",
     "text": [
      "10000/10000 [==============================] - 3s 286us/sample - loss: 0.2876 - accuracy: 0.8950\n",
      "Test Accuracy 0.89\n"
     ]
    }
   ],
   "source": [
    "# 2. Test Evaluation\n",
    "test_loss, test_accuracy = cnn_model.evaluate(test_images, test_labels)\n",
    "print('Test Accuracy {}'.format(round(float(test_accuracy), 2)))"
   ]
  },
  {
   "cell_type": "markdown",
   "metadata": {},
   "source": [
    "## 3. Reference\n",
    "---"
   ]
  },
  {
   "cell_type": "markdown",
   "metadata": {},
   "source": [
    "- [Module: future](http://www.hanbit.co.kr/channel/category/category_view.html?cms_code=CMS9324226566) "
   ]
  }
 ],
 "metadata": {
  "kernelspec": {
   "display_name": "Python 3",
   "language": "python",
   "name": "python3"
  },
  "language_info": {
   "codemirror_mode": {
    "name": "ipython",
    "version": 3
   },
   "file_extension": ".py",
   "mimetype": "text/x-python",
   "name": "python",
   "nbconvert_exporter": "python",
   "pygments_lexer": "ipython3",
   "version": "3.7.3"
  }
 },
 "nbformat": 4,
 "nbformat_minor": 2
}
