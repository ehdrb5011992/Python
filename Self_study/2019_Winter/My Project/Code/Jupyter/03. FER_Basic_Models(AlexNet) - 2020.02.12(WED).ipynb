{
 "cells": [
  {
   "cell_type": "markdown",
   "metadata": {
    "colab_type": "text",
    "id": "vwVmRuFcUBkT"
   },
   "source": [
    "# [AlexNet]"
   ]
  },
  {
   "cell_type": "markdown",
   "metadata": {
    "colab_type": "text",
    "id": "N0MMz6DhUBkW"
   },
   "source": [
    "*KU LeeDongGyu*"
   ]
  },
  {
   "cell_type": "markdown",
   "metadata": {
    "colab_type": "text",
    "id": "U01q4o40UBkY"
   },
   "source": [
    "### Install Packages"
   ]
  },
  {
   "cell_type": "code",
   "execution_count": 0,
   "metadata": {
    "colab": {
     "base_uri": "https://localhost:8080/",
     "height": 53
    },
    "colab_type": "code",
    "executionInfo": {
     "elapsed": 4581,
     "status": "ok",
     "timestamp": 1581559861213,
     "user": {
      "displayName": "‍이동규[ 대학원석사과정재학 / 통계학과 ]",
      "photoUrl": "",
      "userId": "08134145419451519269"
     },
     "user_tz": -540
    },
    "id": "crt5-Uz4UBkZ",
    "outputId": "97b13743-1993-442b-cbec-0c465f72a8ee",
    "scrolled": false
   },
   "outputs": [
    {
     "name": "stdout",
     "output_type": "stream",
     "text": [
      "Requirement already satisfied: opencv-python in /usr/local/lib/python3.6/dist-packages (4.1.2.30)\n",
      "Requirement already satisfied: numpy>=1.11.3 in /usr/local/lib/python3.6/dist-packages (from opencv-python) (1.17.5)\n"
     ]
    }
   ],
   "source": [
    "pip install opencv-python"
   ]
  },
  {
   "cell_type": "markdown",
   "metadata": {
    "colab_type": "text",
    "id": "XjdygsS_UBke"
   },
   "source": [
    "### Module"
   ]
  },
  {
   "cell_type": "code",
   "execution_count": 2,
   "metadata": {
    "colab": {
     "base_uri": "https://localhost:8080/",
     "height": 35
    },
    "colab_type": "code",
    "executionInfo": {
     "elapsed": 670,
     "status": "ok",
     "timestamp": 1581645584116,
     "user": {
      "displayName": "‍이동규[ 대학원석사과정재학 / 통계학과 ]",
      "photoUrl": "",
      "userId": "08134145419451519269"
     },
     "user_tz": -540
    },
    "id": "o1tpIlBhXG2i",
    "outputId": "26cb90d7-f257-4ce7-ee6e-32f1af1cc984"
   },
   "outputs": [
    {
     "name": "stdout",
     "output_type": "stream",
     "text": [
      "Drive already mounted at /content/drive; to attempt to forcibly remount, call drive.mount(\"/content/drive\", force_remount=True).\n"
     ]
    }
   ],
   "source": [
    "from google.colab import drive\n",
    "drive.mount('/content/drive')"
   ]
  },
  {
   "cell_type": "code",
   "execution_count": 3,
   "metadata": {
    "colab": {
     "base_uri": "https://localhost:8080/",
     "height": 35
    },
    "colab_type": "code",
    "executionInfo": {
     "elapsed": 687,
     "status": "ok",
     "timestamp": 1581645587087,
     "user": {
      "displayName": "‍이동규[ 대학원석사과정재학 / 통계학과 ]",
      "photoUrl": "",
      "userId": "08134145419451519269"
     },
     "user_tz": -540
    },
    "id": "IJdbC2nRXR6h",
    "outputId": "ee5dce4c-34c1-4952-970d-de1fd326299b"
   },
   "outputs": [
    {
     "name": "stdout",
     "output_type": "stream",
     "text": [
      "/content/drive/My Drive/Colab Notebooks/project\n"
     ]
    }
   ],
   "source": [
    "cd /content/drive/My Drive/Colab Notebooks/project"
   ]
  },
  {
   "cell_type": "code",
   "execution_count": 0,
   "metadata": {
    "colab": {},
    "colab_type": "code",
    "id": "bCx2JDrkW6sn"
   },
   "outputs": [],
   "source": [
    "import sys"
   ]
  },
  {
   "cell_type": "code",
   "execution_count": 5,
   "metadata": {
    "colab": {
     "base_uri": "https://localhost:8080/",
     "height": 179
    },
    "colab_type": "code",
    "executionInfo": {
     "elapsed": 405,
     "status": "ok",
     "timestamp": 1581645589750,
     "user": {
      "displayName": "‍이동규[ 대학원석사과정재학 / 통계학과 ]",
      "photoUrl": "",
      "userId": "08134145419451519269"
     },
     "user_tz": -540
    },
    "id": "qQKQi4SjY3Ug",
    "outputId": "9a19cdb3-cfd7-4e21-8628-0b3ab1fbd001"
   },
   "outputs": [
    {
     "data": {
      "text/plain": [
       "['',\n",
       " '/env/python',\n",
       " '/usr/lib/python36.zip',\n",
       " '/usr/lib/python3.6',\n",
       " '/usr/lib/python3.6/lib-dynload',\n",
       " '/usr/local/lib/python3.6/dist-packages',\n",
       " '/usr/lib/python3/dist-packages',\n",
       " '/usr/local/lib/python3.6/dist-packages/IPython/extensions',\n",
       " '/root/.ipython']"
      ]
     },
     "execution_count": 5,
     "metadata": {
      "tags": []
     },
     "output_type": "execute_result"
    }
   ],
   "source": [
    "# 모듈로 받을 경로 확인\n",
    "sys.path"
   ]
  },
  {
   "cell_type": "code",
   "execution_count": 0,
   "metadata": {
    "colab": {},
    "colab_type": "code",
    "id": "d9dGjq6aY3cN"
   },
   "outputs": [],
   "source": [
    "# 내 노트북이 아닌, 전산실 컴퓨터의 colab에서 돌렸으므로, 다시돌리려면 경로 수정할것!\n",
    "sys.path.append(\"/content/drive/My Drive/Colab Notebooks/project\")"
   ]
  },
  {
   "cell_type": "code",
   "execution_count": 7,
   "metadata": {
    "colab": {
     "base_uri": "https://localhost:8080/",
     "height": 64
    },
    "colab_type": "code",
    "executionInfo": {
     "elapsed": 2262,
     "status": "ok",
     "timestamp": 1581645596849,
     "user": {
      "displayName": "‍이동규[ 대학원석사과정재학 / 통계학과 ]",
      "photoUrl": "",
      "userId": "08134145419451519269"
     },
     "user_tz": -540
    },
    "id": "HKLMWqbuUBkf",
    "outputId": "10b38671-44b7-40b0-d195-27d4e3eb0846"
   },
   "outputs": [
    {
     "data": {
      "text/html": [
       "<p style=\"color: red;\">\n",
       "The default version of TensorFlow in Colab will soon switch to TensorFlow 2.x.<br>\n",
       "We recommend you <a href=\"https://www.tensorflow.org/guide/migrate\" target=\"_blank\">upgrade</a> now \n",
       "or ensure your notebook will continue to use TensorFlow 1.x via the <code>%tensorflow_version 1.x</code> magic:\n",
       "<a href=\"https://colab.research.google.com/notebooks/tensorflow_version.ipynb\" target=\"_blank\">more info</a>.</p>\n"
      ],
      "text/plain": [
       "<IPython.core.display.HTML object>"
      ]
     },
     "metadata": {
      "tags": []
     },
     "output_type": "display_data"
    }
   ],
   "source": [
    "import pandas as pd\n",
    "import numpy as np\n",
    "import cv2\n",
    "import os\n",
    "from lrn import LRN #만든 모듈, class\n",
    "import tensorflow as tf\n",
    "from tensorflow.keras.models import Sequential\n",
    "from tensorflow.keras.layers import Dense, Dropout, Activation, Flatten\n",
    "from tensorflow.keras.layers import Conv2D, MaxPooling2D\n",
    "from tensorflow.keras.regularizers import l2\n",
    "from tensorflow.keras import backend as K"
   ]
  },
  {
   "cell_type": "code",
   "execution_count": 8,
   "metadata": {
    "colab": {
     "base_uri": "https://localhost:8080/",
     "height": 35
    },
    "colab_type": "code",
    "executionInfo": {
     "elapsed": 642,
     "status": "ok",
     "timestamp": 1581645600026,
     "user": {
      "displayName": "‍이동규[ 대학원석사과정재학 / 통계학과 ]",
      "photoUrl": "",
      "userId": "08134145419451519269"
     },
     "user_tz": -540
    },
    "id": "cbiFovMgXTax",
    "outputId": "31f8db6a-7f0d-49c0-d702-c3b03f86642e"
   },
   "outputs": [
    {
     "data": {
      "text/plain": [
       "'/content/drive/My Drive/Colab Notebooks/project'"
      ]
     },
     "execution_count": 8,
     "metadata": {
      "tags": []
     },
     "output_type": "execute_result"
    }
   ],
   "source": [
    "os.getcwd()"
   ]
  },
  {
   "cell_type": "markdown",
   "metadata": {
    "colab_type": "text",
    "id": "z8Qln4KvUBkj"
   },
   "source": [
    "### F1-score Function"
   ]
  },
  {
   "cell_type": "code",
   "execution_count": 0,
   "metadata": {
    "colab": {},
    "colab_type": "code",
    "id": "W1MOHIYSUBkk"
   },
   "outputs": [],
   "source": [
    "'''\n",
    "아래 코드는 f1-score를 정의한 함수.\n",
    "tensorflow2.0 버전 이후로 f1-score 지원이 metrics애서 사라졌다.\n",
    "'''\n",
    "\n",
    "def recall(y_target, y_pred):\n",
    "    # clip(t, clip_value_min, clip_value_max) : clip_value_min~clip_value_max 이외 가장자리를 깎아 낸다\n",
    "    # round : 반올림한다\n",
    "    y_target_yn = K.round(K.clip(y_target, 0, 1))  # 실제값을 0(Negative) 또는 1(Positive)로 설정한다\n",
    "    y_pred_yn = K.round(K.clip(y_pred, 0, 1))  # 예측값을 0(Negative) 또는 1(Positive)로 설정한다\n",
    "    # True Positive는 실제 값과 예측 값이 모두 1(Positive)인 경우이다\n",
    "    count_true_positive = K.sum(y_target_yn * y_pred_yn)\n",
    "    # (True Positive + False Negative) = 실제 값이 1(Positive) 전체\n",
    "    count_true_positive_false_negative = K.sum(y_target_yn)\n",
    "    # Recall =  (True Positive) / (True Positive + False Negative)\n",
    "    # K.epsilon()는 'divide by zero error' 예방차원에서 작은 수를 더한다\n",
    "    recall = count_true_positive / (count_true_positive_false_negative + K.epsilon())\n",
    "    # return a single tensor value\n",
    "    return recall\n",
    "\n",
    "def precision(y_target, y_pred):\n",
    "    # clip(t, clip_value_min, clip_value_max) : clip_value_min~clip_value_max 이외 가장자리를 깎아 낸다\n",
    "    # round : 반올림한다\n",
    "    y_pred_yn = K.round(K.clip(y_pred, 0, 1))  # 예측값을 0(Negative) 또는 1(Positive)로 설정한다\n",
    "    y_target_yn = K.round(K.clip(y_target, 0, 1))  # 실제값을 0(Negative) 또는 1(Positive)로 설정한다\n",
    "    # True Positive는 실제 값과 예측 값이 모두 1(Positive)인 경우이다\n",
    "    count_true_positive = K.sum(y_target_yn * y_pred_yn)\n",
    "    # (True Positive + False Positive) = 예측 값이 1(Positive) 전체\n",
    "    count_true_positive_false_positive = K.sum(y_pred_yn)\n",
    "    # Precision = (True Positive) / (True Positive + False Positive)\n",
    "    # K.epsilon()는 'divide by zero error' 예방차원에서 작은 수를 더한다\n",
    "    precision = count_true_positive / (count_true_positive_false_positive + K.epsilon())\n",
    "    # return a single tensor value\n",
    "    return precision\n",
    "\n",
    "def f1score(y_target, y_pred):\n",
    "    _recall = recall(y_target, y_pred)\n",
    "    _precision = precision(y_target, y_pred)\n",
    "    # K.epsilon()는 'divide by zero error' 예방차원에서 작은 수를 더한다\n",
    "    _f1score = (2 * _recall * _precision) / (_recall + _precision + K.epsilon())\n",
    "    # return a single tensor value\n",
    "    return _f1score"
   ]
  },
  {
   "cell_type": "markdown",
   "metadata": {
    "colab_type": "text",
    "id": "OOsm86eVUBko"
   },
   "source": [
    "## 1. Data Handling\n",
    "---"
   ]
  },
  {
   "cell_type": "code",
   "execution_count": 0,
   "metadata": {
    "colab": {},
    "colab_type": "code",
    "id": "FU8MecfwUBkt"
   },
   "outputs": [],
   "source": [
    "# data import\n",
    "x_train = pd.read_csv(\"mydata/X_train.csv\",header=0,index_col=0)\n",
    "x_valid = pd.read_csv(\"mydata/X_private_test.csv\",header=0,index_col=0)\n",
    "x_test = pd.read_csv(\"mydata/X_public_test.csv\",header=0,index_col=0)\n",
    "y_train = pd.read_csv(\"mydata/y_train.csv\",header=0,index_col=0)\n",
    "y_valid = pd.read_csv(\"mydata/y_private_test.csv\",header=0,index_col=0)\n",
    "y_test = pd.read_csv(\"mydata/y_public_test.csv\",header=0,index_col=0)\n",
    "\n",
    "\n",
    "y_train = np.array(y_train).reshape([-1,])\n",
    "y_valid = np.array(y_valid).reshape([-1,])\n",
    "y_test = np.array(y_test).reshape([-1,])"
   ]
  },
  {
   "cell_type": "code",
   "execution_count": 0,
   "metadata": {
    "colab": {},
    "colab_type": "code",
    "id": "wuAEBQRtUBk3"
   },
   "outputs": [],
   "source": [
    "# data handling\n",
    "# uint는 부호없는 정수로, 타입을 바꿔줘야함!\n",
    "size = 227\n",
    "x_train = np.array(x_train).reshape([-1,48,48,1])"
   ]
  },
  {
   "cell_type": "code",
   "execution_count": 0,
   "metadata": {
    "colab": {
     "base_uri": "https://localhost:8080/",
     "height": 35
    },
    "colab_type": "code",
    "executionInfo": {
     "elapsed": 692,
     "status": "ok",
     "timestamp": 1581561172336,
     "user": {
      "displayName": "‍이동규[ 대학원석사과정재학 / 통계학과 ]",
      "photoUrl": "",
      "userId": "08134145419451519269"
     },
     "user_tz": -540
    },
    "id": "LpYcNYHpUBk7",
    "outputId": "2a8e1cf4-606d-4748-ea76-a6cf6afccd37"
   },
   "outputs": [
    {
     "data": {
      "text/plain": [
       "(28698, 48, 48, 1)"
      ]
     },
     "execution_count": 12,
     "metadata": {
      "tags": []
     },
     "output_type": "execute_result"
    }
   ],
   "source": [
    "x_train.shape"
   ]
  },
  {
   "cell_type": "code",
   "execution_count": 0,
   "metadata": {
    "colab": {},
    "colab_type": "code",
    "id": "JUh5IzGYUBk-"
   },
   "outputs": [],
   "source": [
    "x_train_zoom = np.zeros([x_train.shape[0],size,size,1],dtype=\"float32\")\n",
    "\n",
    "for i in range(x_train.shape[0]):\n",
    "    x_train_zoom[i,:] = cv2.resize(x_train[i,:].astype('uint8'), (size, size),\n",
    "                                  interpolation=cv2.INTER_CUBIC).reshape(size,size,1) /255"
   ]
  },
  {
   "cell_type": "code",
   "execution_count": 0,
   "metadata": {
    "colab": {
     "base_uri": "https://localhost:8080/",
     "height": 35
    },
    "colab_type": "code",
    "executionInfo": {
     "elapsed": 6207,
     "status": "ok",
     "timestamp": 1581561184662,
     "user": {
      "displayName": "‍이동규[ 대학원석사과정재학 / 통계학과 ]",
      "photoUrl": "",
      "userId": "08134145419451519269"
     },
     "user_tz": -540
    },
    "id": "jPHUMDkCUBlB",
    "outputId": "b53c3e60-f9ff-42ce-a874-8ae1c09e23dc"
   },
   "outputs": [
    {
     "data": {
      "text/plain": [
       "(28698, 227, 227, 1)"
      ]
     },
     "execution_count": 14,
     "metadata": {
      "tags": []
     },
     "output_type": "execute_result"
    }
   ],
   "source": [
    "x_train_zoom.shape"
   ]
  },
  {
   "cell_type": "code",
   "execution_count": 0,
   "metadata": {
    "colab": {},
    "colab_type": "code",
    "id": "w3qmmnzNUBlE"
   },
   "outputs": [],
   "source": [
    "x_valid = np.array(x_valid).reshape([-1,48,48,1])\n",
    "x_valid_zoom = np.zeros([x_valid.shape[0],size,size,1],dtype=\"float32\")\n",
    "for i in range(x_valid.shape[0]):\n",
    "    x_valid_zoom[i,:] = cv2.resize(x_valid[i,:].astype('uint8'), (size, size),\n",
    "                                  interpolation=cv2.INTER_CUBIC).reshape(size,size,1) /255"
   ]
  },
  {
   "cell_type": "code",
   "execution_count": 0,
   "metadata": {
    "colab": {
     "base_uri": "https://localhost:8080/",
     "height": 35
    },
    "colab_type": "code",
    "executionInfo": {
     "elapsed": 4698,
     "status": "ok",
     "timestamp": 1581561186193,
     "user": {
      "displayName": "‍이동규[ 대학원석사과정재학 / 통계학과 ]",
      "photoUrl": "",
      "userId": "08134145419451519269"
     },
     "user_tz": -540
    },
    "id": "I3V15xJuUBlH",
    "outputId": "b7a19d95-31cb-4c91-979d-6ff18c12f113"
   },
   "outputs": [
    {
     "data": {
      "text/plain": [
       "(3589, 227, 227, 1)"
      ]
     },
     "execution_count": 16,
     "metadata": {
      "tags": []
     },
     "output_type": "execute_result"
    }
   ],
   "source": [
    "x_valid_zoom.shape"
   ]
  },
  {
   "cell_type": "code",
   "execution_count": 0,
   "metadata": {
    "colab": {},
    "colab_type": "code",
    "id": "qFInNp5RUBlK"
   },
   "outputs": [],
   "source": [
    "x_test = np.array(x_test).reshape([-1,48,48,1])\n",
    "x_test_zoom = np.zeros([x_test.shape[0],size,size,1],dtype=\"float32\")\n",
    "for i in range(x_test.shape[0]):\n",
    "    x_test_zoom[i,:] = cv2.resize(x_test[i,:].astype('uint8'), (size, size),\n",
    "                                  interpolation=cv2.INTER_CUBIC).reshape(size,size,1) /255"
   ]
  },
  {
   "cell_type": "code",
   "execution_count": 0,
   "metadata": {
    "colab": {
     "base_uri": "https://localhost:8080/",
     "height": 35
    },
    "colab_type": "code",
    "executionInfo": {
     "elapsed": 3951,
     "status": "ok",
     "timestamp": 1581561187740,
     "user": {
      "displayName": "‍이동규[ 대학원석사과정재학 / 통계학과 ]",
      "photoUrl": "",
      "userId": "08134145419451519269"
     },
     "user_tz": -540
    },
    "id": "pZHAXg5nUBlV",
    "outputId": "0db52739-31cc-4866-c52b-58b5adfdd96a"
   },
   "outputs": [
    {
     "data": {
      "text/plain": [
       "(3588, 227, 227, 1)"
      ]
     },
     "execution_count": 18,
     "metadata": {
      "tags": []
     },
     "output_type": "execute_result"
    }
   ],
   "source": [
    "x_test_zoom.shape"
   ]
  },
  {
   "cell_type": "markdown",
   "metadata": {
    "colab_type": "text",
    "id": "gpYuNpeSUBlY"
   },
   "source": [
    "## 2. Alexnet\n",
    "---"
   ]
  },
  {
   "cell_type": "markdown",
   "metadata": {
    "colab_type": "text",
    "id": "gpYuNpeSUBlY"
   },
   "source": [
    "### 1) Almost Original Alexnet"
   ]
  },
  {
   "cell_type": "code",
   "execution_count": 0,
   "metadata": {
    "colab": {},
    "colab_type": "code",
    "id": "RQQSvuzfUBlZ"
   },
   "outputs": [],
   "source": [
    "# Alexnet을 최대한 논문에 가깝게 맞춰 모형작성.\n",
    "# 또한, Data Augmentation은 컴퓨터 성능의 한계로 하지 않음.\n",
    "# 출처 : https://github.com/eweill/keras-deepcv/blob/master/models/classification/alexnet.py\n",
    "\n",
    "def Alexnet(img_shape=(227, 227, 1), n_classes=10, l2_reg=0.,weights=None):\n",
    "\n",
    "    # Initialize model\n",
    "    alexnet = Sequential()\n",
    "\n",
    "    # Layer 1\n",
    "    alexnet.add(Conv2D(96, (11, 11), input_shape=img_shape, strides=4,kernel_regularizer=l2(l2_reg)))\n",
    "    alexnet.add(Activation('relu'))\n",
    "    alexnet.add(LRN(name='layer1_LRN'))\n",
    "    alexnet.add(MaxPooling2D(pool_size=(3, 3),strides=2))\n",
    "\n",
    "    # Layer 2\n",
    "    alexnet.add(Conv2D(256, (5, 5), padding='same',strides=1,kernel_regularizer=l2(l2_reg)))\n",
    "    alexnet.add(Activation('relu'))\n",
    "    alexnet.add(LRN(name='layer2_LRN'))\n",
    "    alexnet.add(MaxPooling2D(pool_size=(3, 3),strides=2))\n",
    "    \n",
    "    # Layer 3\n",
    "    alexnet.add(Conv2D(384, (3, 3), padding='same', strides=1,kernel_regularizer=l2(l2_reg)))\n",
    "    alexnet.add(Activation('relu'))\n",
    "    alexnet.add(LRN(name='layer3_LRN'))\n",
    "    \n",
    "    # Layer 4\n",
    "    alexnet.add(Conv2D(384, (3, 3), padding='same'))\n",
    "    alexnet.add(Activation('relu'))\n",
    "    alexnet.add(LRN(name='layer4_LRN'))\n",
    "\n",
    "    # Layer 5\n",
    "    alexnet.add(Conv2D(256, (3, 3), padding='same'))\n",
    "    alexnet.add(Activation('relu'))\n",
    "    alexnet.add(LRN(name='layer5_LRN'))\n",
    "    alexnet.add(MaxPooling2D(pool_size=(3, 3),strides=2))\n",
    "\n",
    "    # Layer 6\n",
    "    alexnet.add(Flatten())\n",
    "    alexnet.add(Dense(4096,kernel_regularizer=l2(l2_reg)))\n",
    "    alexnet.add(Activation('relu'))\n",
    "    alexnet.add(Dropout(0.5))\n",
    "\n",
    "    # Layer 7\n",
    "    alexnet.add(Dense(4096,kernel_regularizer=l2(l2_reg)))\n",
    "    alexnet.add(Activation('relu'))\n",
    "    alexnet.add(Dropout(0.5))\n",
    "\n",
    "    # Layer 8\n",
    "    alexnet.add(Dense(n_classes))\n",
    "    alexnet.add(Activation('softmax'))\n",
    "\n",
    "    if weights is not None:\n",
    "        alexnet.load_weights(weights)\n",
    "\n",
    "    return alexnet"
   ]
  },
  {
   "cell_type": "code",
   "execution_count": 0,
   "metadata": {
    "colab": {
     "base_uri": "https://localhost:8080/",
     "height": 91
    },
    "colab_type": "code",
    "executionInfo": {
     "elapsed": 3565,
     "status": "ok",
     "timestamp": 1581561195840,
     "user": {
      "displayName": "‍이동규[ 대학원석사과정재학 / 통계학과 ]",
      "photoUrl": "",
      "userId": "08134145419451519269"
     },
     "user_tz": -540
    },
    "id": "oKNZkR1NUBlc",
    "outputId": "bcf7bb9d-2aef-4028-e801-82af6f8fdb51"
   },
   "outputs": [
    {
     "name": "stdout",
     "output_type": "stream",
     "text": [
      "WARNING:tensorflow:From /usr/local/lib/python3.6/dist-packages/tensorflow_core/python/ops/resource_variable_ops.py:1630: calling BaseResourceVariable.__init__ (from tensorflow.python.ops.resource_variable_ops) with constraint is deprecated and will be removed in a future version.\n",
      "Instructions for updating:\n",
      "If using Keras pass *_constraint arguments to layers.\n"
     ]
    }
   ],
   "source": [
    "model = Alexnet(img_shape=(227, 227, 1), n_classes=7, l2_reg=0.,weights=None)"
   ]
  },
  {
   "cell_type": "code",
   "execution_count": 0,
   "metadata": {
    "colab": {
     "base_uri": "https://localhost:8080/",
     "height": 1000
    },
    "colab_type": "code",
    "executionInfo": {
     "elapsed": 640,
     "status": "ok",
     "timestamp": 1581561200053,
     "user": {
      "displayName": "‍이동규[ 대학원석사과정재학 / 통계학과 ]",
      "photoUrl": "",
      "userId": "08134145419451519269"
     },
     "user_tz": -540
    },
    "id": "te4pinumUBle",
    "outputId": "ab4faee0-877d-4c0e-bee2-14e2573c0b9f"
   },
   "outputs": [
    {
     "name": "stdout",
     "output_type": "stream",
     "text": [
      "Model: \"sequential\"\n",
      "_________________________________________________________________\n",
      "Layer (type)                 Output Shape              Param #   \n",
      "=================================================================\n",
      "conv2d (Conv2D)              (None, 55, 55, 96)        11712     \n",
      "_________________________________________________________________\n",
      "activation (Activation)      (None, 55, 55, 96)        0         \n",
      "_________________________________________________________________\n",
      "layer1_LRN (LRN)             (None, 55, 55, 96)        0         \n",
      "_________________________________________________________________\n",
      "max_pooling2d (MaxPooling2D) (None, 27, 27, 96)        0         \n",
      "_________________________________________________________________\n",
      "conv2d_1 (Conv2D)            (None, 27, 27, 256)       614656    \n",
      "_________________________________________________________________\n",
      "activation_1 (Activation)    (None, 27, 27, 256)       0         \n",
      "_________________________________________________________________\n",
      "layer2_LRN (LRN)             (None, 27, 27, 256)       0         \n",
      "_________________________________________________________________\n",
      "max_pooling2d_1 (MaxPooling2 (None, 13, 13, 256)       0         \n",
      "_________________________________________________________________\n",
      "conv2d_2 (Conv2D)            (None, 13, 13, 384)       885120    \n",
      "_________________________________________________________________\n",
      "activation_2 (Activation)    (None, 13, 13, 384)       0         \n",
      "_________________________________________________________________\n",
      "layer3_LRN (LRN)             (None, 13, 13, 384)       0         \n",
      "_________________________________________________________________\n",
      "conv2d_3 (Conv2D)            (None, 13, 13, 384)       1327488   \n",
      "_________________________________________________________________\n",
      "activation_3 (Activation)    (None, 13, 13, 384)       0         \n",
      "_________________________________________________________________\n",
      "layer4_LRN (LRN)             (None, 13, 13, 384)       0         \n",
      "_________________________________________________________________\n",
      "conv2d_4 (Conv2D)            (None, 13, 13, 256)       884992    \n",
      "_________________________________________________________________\n",
      "activation_4 (Activation)    (None, 13, 13, 256)       0         \n",
      "_________________________________________________________________\n",
      "layer5_LRN (LRN)             (None, 13, 13, 256)       0         \n",
      "_________________________________________________________________\n",
      "max_pooling2d_2 (MaxPooling2 (None, 6, 6, 256)         0         \n",
      "_________________________________________________________________\n",
      "flatten (Flatten)            (None, 9216)              0         \n",
      "_________________________________________________________________\n",
      "dense (Dense)                (None, 4096)              37752832  \n",
      "_________________________________________________________________\n",
      "activation_5 (Activation)    (None, 4096)              0         \n",
      "_________________________________________________________________\n",
      "dropout (Dropout)            (None, 4096)              0         \n",
      "_________________________________________________________________\n",
      "dense_1 (Dense)              (None, 4096)              16781312  \n",
      "_________________________________________________________________\n",
      "activation_6 (Activation)    (None, 4096)              0         \n",
      "_________________________________________________________________\n",
      "dropout_1 (Dropout)          (None, 4096)              0         \n",
      "_________________________________________________________________\n",
      "dense_2 (Dense)              (None, 7)                 28679     \n",
      "_________________________________________________________________\n",
      "activation_7 (Activation)    (None, 7)                 0         \n",
      "=================================================================\n",
      "Total params: 58,286,791\n",
      "Trainable params: 58,286,791\n",
      "Non-trainable params: 0\n",
      "_________________________________________________________________\n"
     ]
    }
   ],
   "source": [
    "#모수가 데이터에 비해 굉장히 많지만, 일단 진행\n",
    "model.summary()"
   ]
  },
  {
   "cell_type": "code",
   "execution_count": 0,
   "metadata": {
    "colab": {},
    "colab_type": "code",
    "id": "lIilrDtxUBli"
   },
   "outputs": [],
   "source": [
    "# 여기는 학습의 효율을 위해. Adam으로 넘어간다.\n",
    "model.compile(optimizer=tf.keras.optimizers.Adam(lr=0.001), loss='sparse_categorical_crossentropy',\n",
    "              metrics=['accuracy',f1score])"
   ]
  },
  {
   "cell_type": "code",
   "execution_count": 0,
   "metadata": {
    "colab": {
     "base_uri": "https://localhost:8080/",
     "height": 413
    },
    "colab_type": "code",
    "executionInfo": {
     "elapsed": 30505159,
     "status": "ok",
     "timestamp": 1581592978211,
     "user": {
      "displayName": "‍이동규[ 대학원석사과정재학 / 통계학과 ]",
      "photoUrl": "",
      "userId": "08134145419451519269"
     },
     "user_tz": -540
    },
    "id": "eh9WSnNLUBlk",
    "outputId": "5b066f9e-6d1b-4d9f-c738-3c5c71c28b55",
    "scrolled": false
   },
   "outputs": [
    {
     "name": "stdout",
     "output_type": "stream",
     "text": [
      "Train on 28698 samples, validate on 3589 samples\n",
      "Epoch 1/10\n",
      "28698/28698 [==============================] - 3031s 106ms/sample - loss: 1.8141 - acc: 0.2514 - f1score: 0.0000e+00 - val_loss: 1.8168 - val_acc: 0.2449 - val_f1score: 0.0000e+00\n",
      "Epoch 2/10\n",
      "28698/28698 [==============================] - 3042s 106ms/sample - loss: 1.8126 - acc: 0.2514 - f1score: 0.0000e+00 - val_loss: 1.8181 - val_acc: 0.2449 - val_f1score: 0.0000e+00\n",
      "Epoch 3/10\n",
      "28698/28698 [==============================] - 3058s 107ms/sample - loss: 1.8121 - acc: 0.2514 - f1score: 0.0000e+00 - val_loss: 1.8155 - val_acc: 0.2449 - val_f1score: 0.0000e+00\n",
      "Epoch 4/10\n",
      "28698/28698 [==============================] - 3042s 106ms/sample - loss: 1.8118 - acc: 0.2514 - f1score: 0.0000e+00 - val_loss: 1.8170 - val_acc: 0.2449 - val_f1score: 0.0000e+00\n",
      "Epoch 5/10\n",
      "28698/28698 [==============================] - 3062s 107ms/sample - loss: 1.8118 - acc: 0.2514 - f1score: 0.0000e+00 - val_loss: 1.8160 - val_acc: 0.2449 - val_f1score: 0.0000e+00\n",
      "Epoch 6/10\n",
      "28698/28698 [==============================] - 3052s 106ms/sample - loss: 1.8113 - acc: 0.2514 - f1score: 0.0000e+00 - val_loss: 1.8167 - val_acc: 0.2449 - val_f1score: 0.0000e+00\n",
      "Epoch 7/10\n",
      "28698/28698 [==============================] - 3051s 106ms/sample - loss: 1.8112 - acc: 0.2514 - f1score: 0.0000e+00 - val_loss: 1.8156 - val_acc: 0.2449 - val_f1score: 0.0000e+00\n",
      "Epoch 8/10\n",
      "28698/28698 [==============================] - 3045s 106ms/sample - loss: 1.8110 - acc: 0.2514 - f1score: 0.0000e+00 - val_loss: 1.8170 - val_acc: 0.2449 - val_f1score: 0.0000e+00\n",
      "Epoch 9/10\n",
      "28698/28698 [==============================] - 3041s 106ms/sample - loss: 1.8112 - acc: 0.2514 - f1score: 0.0000e+00 - val_loss: 1.8152 - val_acc: 0.2449 - val_f1score: 0.0000e+00\n",
      "Epoch 10/10\n",
      "28698/28698 [==============================] - 3079s 107ms/sample - loss: 1.8110 - acc: 0.2514 - f1score: 0.0000e+00 - val_loss: 1.8154 - val_acc: 0.2449 - val_f1score: 0.0000e+00\n"
     ]
    },
    {
     "data": {
      "text/plain": [
       "<tensorflow.python.keras.callbacks.History at 0x7f1c6eb0eda0>"
      ]
     },
     "execution_count": 24,
     "metadata": {
      "tags": []
     },
     "output_type": "execute_result"
    }
   ],
   "source": [
    "model.fit(x_train_zoom,y_train,batch_size=128, validation_data=(x_valid_zoom,y_valid) , epochs=10)"
   ]
  },
  {
   "cell_type": "markdown",
   "metadata": {},
   "source": [
    "Too many parameters compared to the data. <br>\n",
    "So it doesn't work."
   ]
  },
  {
   "cell_type": "markdown",
   "metadata": {
    "colab_type": "text",
    "id": "gpYuNpeSUBlY"
   },
   "source": [
    "### 2) My Alexnet"
   ]
  },
  {
   "cell_type": "code",
   "execution_count": 0,
   "metadata": {
    "colab": {},
    "colab_type": "code",
    "id": "5Ix8wPCMWm-z"
   },
   "outputs": [],
   "source": [
    "# 2. my alexnet\n",
    "# Alexnet을 개조\n",
    "# Data Augmentation은 컴퓨터 성능의 한계로 못하기 때문에 변형함.\n",
    "\n",
    "# 주의 !!!!기본은 모형을 조절하는 것이 아닌, 데이터를 뻥튀기 하는 것임을 늘 잊지말기!!!!\n",
    "\n",
    "# data import\n",
    "x_train = pd.read_csv(\"mydata/X_train.csv\",header=0,index_col=0)\n",
    "x_valid = pd.read_csv(\"mydata/X_private_test.csv\",header=0,index_col=0)\n",
    "x_test = pd.read_csv(\"mydata/X_public_test.csv\",header=0,index_col=0)\n",
    "y_train = pd.read_csv(\"mydata/y_train.csv\",header=0,index_col=0)\n",
    "y_valid = pd.read_csv(\"mydata/y_private_test.csv\",header=0,index_col=0)\n",
    "y_test = pd.read_csv(\"mydata/y_public_test.csv\",header=0,index_col=0)"
   ]
  },
  {
   "cell_type": "code",
   "execution_count": 0,
   "metadata": {
    "colab": {},
    "colab_type": "code",
    "id": "u4J2YJEXb4H0"
   },
   "outputs": [],
   "source": [
    "# data handling\n",
    "size = 57 # 적당한 크기로 잡음.\n",
    "x_train = np.array(x_train).reshape([-1,48,48,1])"
   ]
  },
  {
   "cell_type": "code",
   "execution_count": 14,
   "metadata": {
    "colab": {
     "base_uri": "https://localhost:8080/",
     "height": 35
    },
    "colab_type": "code",
    "executionInfo": {
     "elapsed": 604,
     "status": "ok",
     "timestamp": 1581645809989,
     "user": {
      "displayName": "‍이동규[ 대학원석사과정재학 / 통계학과 ]",
      "photoUrl": "",
      "userId": "08134145419451519269"
     },
     "user_tz": -540
    },
    "id": "PGBslOblb7AP",
    "outputId": "0f02a080-2818-4372-bbc1-82323db05356"
   },
   "outputs": [
    {
     "data": {
      "text/plain": [
       "(28698, 48, 48, 1)"
      ]
     },
     "execution_count": 14,
     "metadata": {
      "tags": []
     },
     "output_type": "execute_result"
    }
   ],
   "source": [
    "x_train.shape"
   ]
  },
  {
   "cell_type": "code",
   "execution_count": 0,
   "metadata": {
    "colab": {},
    "colab_type": "code",
    "id": "PzT0Hoc0WnK3"
   },
   "outputs": [],
   "source": [
    "x_train_zoom = np.zeros([x_train.shape[0],size,size,1],dtype=\"float32\")\n",
    "for i in range(x_train.shape[0]):\n",
    "    x_train_zoom[i,:] = cv2.resize(x_train[i,:].astype('uint8'), (size, size),\n",
    "                                  interpolation=cv2.INTER_CUBIC).reshape(size,size,1) /255"
   ]
  },
  {
   "cell_type": "code",
   "execution_count": 16,
   "metadata": {
    "colab": {
     "base_uri": "https://localhost:8080/",
     "height": 35
    },
    "colab_type": "code",
    "executionInfo": {
     "elapsed": 592,
     "status": "ok",
     "timestamp": 1581645812950,
     "user": {
      "displayName": "‍이동규[ 대학원석사과정재학 / 통계학과 ]",
      "photoUrl": "",
      "userId": "08134145419451519269"
     },
     "user_tz": -540
    },
    "id": "3GGQnreNWnPw",
    "outputId": "6eef9e7b-c88c-4282-e1fc-311d3f42314e"
   },
   "outputs": [
    {
     "data": {
      "text/plain": [
       "(28698, 57, 57, 1)"
      ]
     },
     "execution_count": 16,
     "metadata": {
      "tags": []
     },
     "output_type": "execute_result"
    }
   ],
   "source": [
    "x_train_zoom.shape"
   ]
  },
  {
   "cell_type": "code",
   "execution_count": 0,
   "metadata": {
    "colab": {},
    "colab_type": "code",
    "id": "N-W1s7KpWnee"
   },
   "outputs": [],
   "source": [
    "x_valid = np.array(x_valid).reshape([-1,48,48,1])\n",
    "x_valid_zoom = np.zeros([x_valid.shape[0],size,size,1],dtype=\"float32\")\n",
    "for i in range(x_valid.shape[0]):\n",
    "    x_valid_zoom[i,:] = cv2.resize(x_valid[i,:].astype('uint8'), (size, size),\n",
    "                                  interpolation=cv2.INTER_CUBIC).reshape(size,size,1) /255"
   ]
  },
  {
   "cell_type": "code",
   "execution_count": 18,
   "metadata": {
    "colab": {
     "base_uri": "https://localhost:8080/",
     "height": 35
    },
    "colab_type": "code",
    "executionInfo": {
     "elapsed": 471,
     "status": "ok",
     "timestamp": 1581645834469,
     "user": {
      "displayName": "‍이동규[ 대학원석사과정재학 / 통계학과 ]",
      "photoUrl": "",
      "userId": "08134145419451519269"
     },
     "user_tz": -540
    },
    "id": "M9kLXfu0WnN2",
    "outputId": "ddef1744-2f36-4531-d5cb-88a1bfcf6f1f"
   },
   "outputs": [
    {
     "data": {
      "text/plain": [
       "(3589, 57, 57, 1)"
      ]
     },
     "execution_count": 18,
     "metadata": {
      "tags": []
     },
     "output_type": "execute_result"
    }
   ],
   "source": [
    "x_valid_zoom.shape"
   ]
  },
  {
   "cell_type": "code",
   "execution_count": 0,
   "metadata": {
    "colab": {},
    "colab_type": "code",
    "id": "zBIQHqomb--R"
   },
   "outputs": [],
   "source": [
    "x_test = np.array(x_test).reshape([-1,48,48,1])\n",
    "x_test_zoom = np.zeros([x_test.shape[0],size,size,1],dtype=\"float32\")\n",
    "for i in range(x_test.shape[0]):\n",
    "    x_test_zoom[i,:] = cv2.resize(x_test[i,:].astype('uint8'), (size, size),\n",
    "                                  interpolation=cv2.INTER_CUBIC).reshape(size,size,1) /255"
   ]
  },
  {
   "cell_type": "code",
   "execution_count": 20,
   "metadata": {
    "colab": {
     "base_uri": "https://localhost:8080/",
     "height": 35
    },
    "colab_type": "code",
    "executionInfo": {
     "elapsed": 636,
     "status": "ok",
     "timestamp": 1581645839067,
     "user": {
      "displayName": "‍이동규[ 대학원석사과정재학 / 통계학과 ]",
      "photoUrl": "",
      "userId": "08134145419451519269"
     },
     "user_tz": -540
    },
    "id": "PcshKAu1b_H6",
    "outputId": "677510e0-3d05-495d-bac4-5c0342738f43"
   },
   "outputs": [
    {
     "data": {
      "text/plain": [
       "(3588, 57, 57, 1)"
      ]
     },
     "execution_count": 20,
     "metadata": {
      "tags": []
     },
     "output_type": "execute_result"
    }
   ],
   "source": [
    "x_test_zoom.shape"
   ]
  },
  {
   "cell_type": "code",
   "execution_count": 0,
   "metadata": {
    "colab": {},
    "colab_type": "code",
    "id": "bSApK_jeb_Lo"
   },
   "outputs": [],
   "source": [
    "# 다음의 절차로 모형을 개조한다.\n",
    "\n",
    "# 1. 227의 1/4 연산인 57로 이미지사이즈를 재조정한다.\n",
    "# 2. 모수와 관련이 가장 깊은 fc층에서, 기존의 4096개의 노드를 1/16 (비율) 배 만큼, 즉 256개로줄인다.\n",
    "# 3. 다음과 같이 모형을 재구성한다.\n",
    "\n",
    "# convolution layer\n",
    "# 입력 : 57x57x1\n",
    "# 첫번째 층 : 5x5 필터 24장, strides = 2 -> maxpooling 3x3 , stirdes = 2   ===> 13 x 13 x 24 feature map\n",
    "# 두번째 층 : 3x3 필터 64장, strides = 1, padding = \"same\"                 ===> 13 x 13 x 64 feature map\n",
    "# 세번째 층 : 3x3 필터 96장, strides = 1                                   ===> 11 x 11 x 96 feature map\n",
    "# 네번째 층 : 3x3 필터 96장, strides = 1, padding = \"same\"                 ===> 11 x 11 x 96 feature map\n",
    "# 다섯째 층 : 3x3 필터 64장, strides = 1 -> maxpooling 3x3 , strides = 2   ===> 4 x 4 x 64 feature map\n",
    "\n",
    "# fc layer\n",
    "# 여섯째 층 : 노드 256개, dropout = 0.5\n",
    "# 일곱째 층 : 노드 256개, dropout = 0.5\n",
    "# 여덟째 층 : 노드 7개\n",
    "\n",
    "\n",
    "\n",
    "def Alexnet(img_shape=(57, 57, 1), n_classes=10, l2_reg=0.,\n",
    "\tweights=None):\n",
    "\n",
    "\t# Initialize model\n",
    "\talexnet = Sequential()\n",
    "\n",
    "\t# Layer 1\n",
    "\talexnet.add(Conv2D(24, (5, 5), input_shape=img_shape, strides=2,kernel_regularizer=l2(l2_reg)))\n",
    "\talexnet.add(Activation('relu'))\n",
    "\talexnet.add(LRN(name='layer1_LRN'))\n",
    "\talexnet.add(MaxPooling2D(pool_size=(3, 3),strides=2))\n",
    "\n",
    "\t# Layer 2\n",
    "\talexnet.add(Conv2D(64, (3, 3), padding='same',strides=1,kernel_regularizer=l2(l2_reg)))\n",
    "\talexnet.add(Activation('relu'))\n",
    "\talexnet.add(LRN(name='layer2_LRN'))\n",
    "\n",
    "\t# Layer 3\n",
    "\talexnet.add(Conv2D(96, (3, 3),  strides=1,kernel_regularizer=l2(l2_reg)))\n",
    "\talexnet.add(Activation('relu'))\n",
    "\talexnet.add(LRN(name='layer3_LRN'))\n",
    "\n",
    "\t# Layer 4\n",
    "\talexnet.add(Conv2D(96, (3, 3), padding='same'))\n",
    "\talexnet.add(Activation('relu'))\n",
    "\talexnet.add(LRN(name='layer4_LRN'))\n",
    "\n",
    "\t# Layer 5\n",
    "\talexnet.add(Conv2D(64, (3, 3)))\n",
    "\talexnet.add(Activation('relu'))\n",
    "\talexnet.add(LRN(name='layer5_LRN'))\n",
    "\talexnet.add(MaxPooling2D(pool_size=(3, 3),strides=2))\n",
    "\n",
    "\t# Layer 6\n",
    "\talexnet.add(Flatten())\n",
    "\talexnet.add(Dense(256,kernel_regularizer=l2(l2_reg)))\n",
    "\n",
    "\talexnet.add(Activation('relu'))\n",
    "\talexnet.add(Dropout(0.5))\n",
    "\n",
    "\t# Layer 7\n",
    "\talexnet.add(Dense(256,kernel_regularizer=l2(l2_reg)))\n",
    "\talexnet.add(Activation('relu'))\n",
    "\talexnet.add(Dropout(0.5))\n",
    "\n",
    "\t# Layer 8\n",
    "\talexnet.add(Dense(n_classes))\n",
    "\talexnet.add(Activation('softmax'))\n",
    "\n",
    "\tif weights is not None:\n",
    "\t\talexnet.load_weights(weights)\n",
    "\n",
    "\treturn alexnet"
   ]
  },
  {
   "cell_type": "code",
   "execution_count": 0,
   "metadata": {
    "colab": {},
    "colab_type": "code",
    "id": "6BGhZH2FcL4S"
   },
   "outputs": [],
   "source": [
    "#내 데이터 맞춤형 모형\n",
    "model = Alexnet(img_shape=(57, 57, 1), n_classes=7, l2_reg=0.,weights=None)"
   ]
  },
  {
   "cell_type": "code",
   "execution_count": 22,
   "metadata": {
    "colab": {
     "base_uri": "https://localhost:8080/",
     "height": 1000
    },
    "colab_type": "code",
    "executionInfo": {
     "elapsed": 1810,
     "status": "ok",
     "timestamp": 1581645866927,
     "user": {
      "displayName": "‍이동규[ 대학원석사과정재학 / 통계학과 ]",
      "photoUrl": "",
      "userId": "08134145419451519269"
     },
     "user_tz": -540
    },
    "id": "TKsFtx5-b_PS",
    "outputId": "564de5ff-f7c3-4d08-97fe-32f05b5e5498",
    "scrolled": false
   },
   "outputs": [
    {
     "name": "stdout",
     "output_type": "stream",
     "text": [
      "WARNING:tensorflow:From /usr/local/lib/python3.6/dist-packages/tensorflow_core/python/ops/resource_variable_ops.py:1630: calling BaseResourceVariable.__init__ (from tensorflow.python.ops.resource_variable_ops) with constraint is deprecated and will be removed in a future version.\n",
      "Instructions for updating:\n",
      "If using Keras pass *_constraint arguments to layers.\n",
      "Model: \"sequential\"\n",
      "_________________________________________________________________\n",
      "Layer (type)                 Output Shape              Param #   \n",
      "=================================================================\n",
      "conv2d (Conv2D)              (None, 27, 27, 24)        624       \n",
      "_________________________________________________________________\n",
      "activation (Activation)      (None, 27, 27, 24)        0         \n",
      "_________________________________________________________________\n",
      "layer1_LRN (LRN)             (None, 27, 27, 24)        0         \n",
      "_________________________________________________________________\n",
      "max_pooling2d (MaxPooling2D) (None, 13, 13, 24)        0         \n",
      "_________________________________________________________________\n",
      "conv2d_1 (Conv2D)            (None, 13, 13, 64)        13888     \n",
      "_________________________________________________________________\n",
      "activation_1 (Activation)    (None, 13, 13, 64)        0         \n",
      "_________________________________________________________________\n",
      "layer2_LRN (LRN)             (None, 13, 13, 64)        0         \n",
      "_________________________________________________________________\n",
      "conv2d_2 (Conv2D)            (None, 11, 11, 96)        55392     \n",
      "_________________________________________________________________\n",
      "activation_2 (Activation)    (None, 11, 11, 96)        0         \n",
      "_________________________________________________________________\n",
      "layer3_LRN (LRN)             (None, 11, 11, 96)        0         \n",
      "_________________________________________________________________\n",
      "conv2d_3 (Conv2D)            (None, 11, 11, 96)        83040     \n",
      "_________________________________________________________________\n",
      "activation_3 (Activation)    (None, 11, 11, 96)        0         \n",
      "_________________________________________________________________\n",
      "layer4_LRN (LRN)             (None, 11, 11, 96)        0         \n",
      "_________________________________________________________________\n",
      "conv2d_4 (Conv2D)            (None, 9, 9, 64)          55360     \n",
      "_________________________________________________________________\n",
      "activation_4 (Activation)    (None, 9, 9, 64)          0         \n",
      "_________________________________________________________________\n",
      "layer5_LRN (LRN)             (None, 9, 9, 64)          0         \n",
      "_________________________________________________________________\n",
      "max_pooling2d_1 (MaxPooling2 (None, 4, 4, 64)          0         \n",
      "_________________________________________________________________\n",
      "flatten (Flatten)            (None, 1024)              0         \n",
      "_________________________________________________________________\n",
      "dense (Dense)                (None, 256)               262400    \n",
      "_________________________________________________________________\n",
      "activation_5 (Activation)    (None, 256)               0         \n",
      "_________________________________________________________________\n",
      "dropout (Dropout)            (None, 256)               0         \n",
      "_________________________________________________________________\n",
      "dense_1 (Dense)              (None, 256)               65792     \n",
      "_________________________________________________________________\n",
      "activation_6 (Activation)    (None, 256)               0         \n",
      "_________________________________________________________________\n",
      "dropout_1 (Dropout)          (None, 256)               0         \n",
      "_________________________________________________________________\n",
      "dense_2 (Dense)              (None, 7)                 1799      \n",
      "_________________________________________________________________\n",
      "activation_7 (Activation)    (None, 7)                 0         \n",
      "=================================================================\n",
      "Total params: 538,295\n",
      "Trainable params: 538,295\n",
      "Non-trainable params: 0\n",
      "_________________________________________________________________\n"
     ]
    }
   ],
   "source": [
    "model.summary()"
   ]
  },
  {
   "cell_type": "code",
   "execution_count": 0,
   "metadata": {
    "colab": {},
    "colab_type": "code",
    "id": "ipySpUqSb_TI"
   },
   "outputs": [],
   "source": [
    "# 여기는 학습의 효율을 위해. Adam으로 넘어간다.\n",
    "model.compile(optimizer=tf.keras.optimizers.Adam(lr=0.001), loss='sparse_categorical_crossentropy',\n",
    "              metrics=['accuracy',f1score])"
   ]
  },
  {
   "cell_type": "code",
   "execution_count": 25,
   "metadata": {
    "colab": {
     "base_uri": "https://localhost:8080/",
     "height": 1000
    },
    "colab_type": "code",
    "executionInfo": {
     "elapsed": 4823997,
     "status": "ok",
     "timestamp": 1581650740282,
     "user": {
      "displayName": "‍이동규[ 대학원석사과정재학 / 통계학과 ]",
      "photoUrl": "",
      "userId": "08134145419451519269"
     },
     "user_tz": -540
    },
    "id": "kDIuXikrb_R2",
    "outputId": "63bcb20e-824d-4418-94af-a2d0a87e13f4",
    "scrolled": false
   },
   "outputs": [
    {
     "name": "stdout",
     "output_type": "stream",
     "text": [
      "WARNING:tensorflow:From /usr/local/lib/python3.6/dist-packages/tensorflow_core/python/ops/math_grad.py:1375: where (from tensorflow.python.ops.array_ops) is deprecated and will be removed in a future version.\n",
      "Instructions for updating:\n",
      "Use tf.where in 2.0, which has the same broadcast rule as np.where\n",
      "Train on 28698 samples, validate on 3589 samples\n",
      "Epoch 1/30\n",
      "28698/28698 [==============================] - 162s 6ms/sample - loss: 1.8253 - acc: 0.2447 - f1score: 0.0000e+00 - val_loss: 1.8173 - val_acc: 0.2449 - val_f1score: 0.0000e+00\n",
      "Epoch 2/30\n",
      "28698/28698 [==============================] - 160s 6ms/sample - loss: 1.7211 - acc: 0.3036 - f1score: 0.1744 - val_loss: 1.5881 - val_acc: 0.3798 - val_f1score: 0.3118\n",
      "Epoch 3/30\n",
      "28698/28698 [==============================] - 161s 6ms/sample - loss: 1.5451 - acc: 0.3936 - f1score: 0.3714 - val_loss: 1.4838 - val_acc: 0.4235 - val_f1score: 0.4127\n",
      "Epoch 4/30\n",
      "28698/28698 [==============================] - 161s 6ms/sample - loss: 1.4434 - acc: 0.4368 - f1score: 0.4403 - val_loss: 1.3840 - val_acc: 0.4567 - val_f1score: 0.4974\n",
      "Epoch 5/30\n",
      "28698/28698 [==============================] - 165s 6ms/sample - loss: 1.3770 - acc: 0.4662 - f1score: 0.4840 - val_loss: 1.3214 - val_acc: 0.4840 - val_f1score: 0.4824\n",
      "Epoch 6/30\n",
      "28698/28698 [==============================] - 160s 6ms/sample - loss: 1.3147 - acc: 0.4968 - f1score: 0.5273 - val_loss: 1.2896 - val_acc: 0.5004 - val_f1score: 0.5775\n",
      "Epoch 7/30\n",
      "28698/28698 [==============================] - 160s 6ms/sample - loss: 1.2705 - acc: 0.5131 - f1score: 0.5566 - val_loss: 1.2416 - val_acc: 0.5188 - val_f1score: 0.6072\n",
      "Epoch 8/30\n",
      "28698/28698 [==============================] - 162s 6ms/sample - loss: 1.2294 - acc: 0.5324 - f1score: 0.5929 - val_loss: 1.2124 - val_acc: 0.5414 - val_f1score: 0.5480\n",
      "Epoch 9/30\n",
      "28698/28698 [==============================] - 159s 6ms/sample - loss: 1.1905 - acc: 0.5474 - f1score: 0.6149 - val_loss: 1.1866 - val_acc: 0.5500 - val_f1score: 0.6426\n",
      "Epoch 10/30\n",
      "28698/28698 [==============================] - 160s 6ms/sample - loss: 1.1594 - acc: 0.5622 - f1score: 0.6406 - val_loss: 1.1812 - val_acc: 0.5506 - val_f1score: 0.6850\n",
      "Epoch 11/30\n",
      "28698/28698 [==============================] - 159s 6ms/sample - loss: 1.1242 - acc: 0.5730 - f1score: 0.6652 - val_loss: 1.1746 - val_acc: 0.5520 - val_f1score: 0.6233\n",
      "Epoch 12/30\n",
      "28698/28698 [==============================] - 160s 6ms/sample - loss: 1.0813 - acc: 0.5931 - f1score: 0.6872 - val_loss: 1.1530 - val_acc: 0.5612 - val_f1score: 0.6801\n",
      "Epoch 13/30\n",
      "28698/28698 [==============================] - 159s 6ms/sample - loss: 1.0552 - acc: 0.6034 - f1score: 0.7048 - val_loss: 1.1625 - val_acc: 0.5648 - val_f1score: 0.7246\n",
      "Epoch 14/30\n",
      "28698/28698 [==============================] - 162s 6ms/sample - loss: 1.0140 - acc: 0.6243 - f1score: 0.7239 - val_loss: 1.1669 - val_acc: 0.5795 - val_f1score: 0.7411\n",
      "Epoch 15/30\n",
      "28698/28698 [==============================] - 160s 6ms/sample - loss: 0.9852 - acc: 0.6328 - f1score: 0.7343 - val_loss: 1.1662 - val_acc: 0.5651 - val_f1score: 0.7137\n",
      "Epoch 16/30\n",
      "28698/28698 [==============================] - 161s 6ms/sample - loss: 0.9510 - acc: 0.6467 - f1score: 0.7568 - val_loss: 1.1706 - val_acc: 0.5612 - val_f1score: 0.7320\n",
      "Epoch 17/30\n",
      "28698/28698 [==============================] - 162s 6ms/sample - loss: 0.9081 - acc: 0.6624 - f1score: 0.7737 - val_loss: 1.1757 - val_acc: 0.5790 - val_f1score: 0.7781\n",
      "Epoch 18/30\n",
      "28698/28698 [==============================] - 162s 6ms/sample - loss: 0.8776 - acc: 0.6763 - f1score: 0.7881 - val_loss: 1.2189 - val_acc: 0.5648 - val_f1score: 0.7658\n",
      "Epoch 19/30\n",
      "28698/28698 [==============================] - 162s 6ms/sample - loss: 0.8476 - acc: 0.6873 - f1score: 0.7966 - val_loss: 1.2393 - val_acc: 0.5715 - val_f1score: 0.7719\n",
      "Epoch 20/30\n",
      "28698/28698 [==============================] - 163s 6ms/sample - loss: 0.8164 - acc: 0.6971 - f1score: 0.8046 - val_loss: 1.2025 - val_acc: 0.5720 - val_f1score: 0.7641\n",
      "Epoch 21/30\n",
      "28698/28698 [==============================] - 160s 6ms/sample - loss: 0.7895 - acc: 0.7090 - f1score: 0.8133 - val_loss: 1.2839 - val_acc: 0.5670 - val_f1score: 0.8169\n",
      "Epoch 22/30\n",
      "28698/28698 [==============================] - 161s 6ms/sample - loss: 0.7517 - acc: 0.7220 - f1score: 0.8246 - val_loss: 1.2564 - val_acc: 0.5809 - val_f1score: 0.8145\n",
      "Epoch 23/30\n",
      "28698/28698 [==============================] - 160s 6ms/sample - loss: 0.7222 - acc: 0.7336 - f1score: 0.8336 - val_loss: 1.2834 - val_acc: 0.5782 - val_f1score: 0.8041\n",
      "Epoch 24/30\n",
      "28698/28698 [==============================] - 160s 6ms/sample - loss: 0.6870 - acc: 0.7457 - f1score: 0.8427 - val_loss: 1.2881 - val_acc: 0.5834 - val_f1score: 0.8152\n",
      "Epoch 25/30\n",
      "28698/28698 [==============================] - 160s 6ms/sample - loss: 0.6576 - acc: 0.7579 - f1score: 0.8492 - val_loss: 1.4131 - val_acc: 0.5759 - val_f1score: 0.8386\n",
      "Epoch 26/30\n",
      "28698/28698 [==============================] - 162s 6ms/sample - loss: 0.6279 - acc: 0.7693 - f1score: 0.8561 - val_loss: 1.3805 - val_acc: 0.5756 - val_f1score: 0.8431\n",
      "Epoch 27/30\n",
      "28698/28698 [==============================] - 160s 6ms/sample - loss: 0.6156 - acc: 0.7747 - f1score: 0.8592 - val_loss: 1.4313 - val_acc: 0.5723 - val_f1score: 0.8466\n",
      "Epoch 28/30\n",
      "28698/28698 [==============================] - 160s 6ms/sample - loss: 0.5717 - acc: 0.7917 - f1score: 0.8659 - val_loss: 1.4581 - val_acc: 0.5731 - val_f1score: 0.8488\n",
      "Epoch 29/30\n",
      "28698/28698 [==============================] - 160s 6ms/sample - loss: 0.5424 - acc: 0.7992 - f1score: 0.8730 - val_loss: 1.6012 - val_acc: 0.5681 - val_f1score: 0.8636\n",
      "Epoch 30/30\n",
      "28698/28698 [==============================] - 159s 6ms/sample - loss: 0.5188 - acc: 0.8102 - f1score: 0.8754 - val_loss: 1.5701 - val_acc: 0.5754 - val_f1score: 0.8557\n"
     ]
    },
    {
     "data": {
      "text/plain": [
       "<tensorflow.python.keras.callbacks.History at 0x7f927e080eb8>"
      ]
     },
     "execution_count": 25,
     "metadata": {
      "tags": []
     },
     "output_type": "execute_result"
    }
   ],
   "source": [
    "model.fit(x_train_zoom,y_train,batch_size=128, validation_data=(x_valid_zoom,y_valid) , epochs=30)"
   ]
  },
  {
   "cell_type": "markdown",
   "metadata": {},
   "source": [
    "Instead of touching the original model, we need to proceed with data augmentation. <br>\n",
    "However, because of the limitation of computer performance, the code is changed like this."
   ]
  },
  {
   "cell_type": "markdown",
   "metadata": {},
   "source": [
    "My Alexnet <br>\n",
    "In Epoch 10/30\n",
    "<br>\n",
    "Train // $\\quad$ Accuracy : 0.5622 $\\quad$ F1 Score : 0.6406  <br>\n",
    "Valid //  $\\quad$ Accuracy : 0.5506 $\\quad$  F1 Score : 0.6850 "
   ]
  },
  {
   "cell_type": "code",
   "execution_count": 1,
   "metadata": {},
   "outputs": [],
   "source": [
    "# _, acc, f1 = model.evaluate(x_test_zoom,y_test,batch_size=128)  # early stopping으로 training에서  epoch 10번후 적용해야함.\n",
    "# print(\"\\nAccuracy: {:.4f}, F1 Score: {:.4f}\".format(acc,f1))"
   ]
  }
 ],
 "metadata": {
  "colab": {
   "collapsed_sections": [],
   "machine_shape": "hm",
   "name": "03. FER_Basic_Models(AlexNet) - 2020.02.12(WED).ipynb",
   "provenance": []
  },
  "kernelspec": {
   "display_name": "Python 3",
   "language": "python",
   "name": "python3"
  },
  "language_info": {
   "codemirror_mode": {
    "name": "ipython",
    "version": 3
   },
   "file_extension": ".py",
   "mimetype": "text/x-python",
   "name": "python",
   "nbconvert_exporter": "python",
   "pygments_lexer": "ipython3",
   "version": "3.7.3"
  }
 },
 "nbformat": 4,
 "nbformat_minor": 1
}
