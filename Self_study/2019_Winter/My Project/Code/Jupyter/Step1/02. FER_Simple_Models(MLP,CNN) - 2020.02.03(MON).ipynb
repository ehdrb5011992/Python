{
 "cells": [
  {
   "cell_type": "markdown",
   "metadata": {
    "colab_type": "text",
    "id": "PqFpO1rVyMGI"
   },
   "source": [
    "# [Simple Models]"
   ]
  },
  {
   "cell_type": "markdown",
   "metadata": {
    "colab_type": "text",
    "id": "xl3DaiIcyMGL"
   },
   "source": [
    "*KU LeeDongGyu*"
   ]
  },
  {
   "cell_type": "markdown",
   "metadata": {
    "colab_type": "text",
    "id": "XcvkJkns5NJ2"
   },
   "source": [
    "### Contents"
   ]
  },
  {
   "cell_type": "markdown",
   "metadata": {
    "colab_type": "text",
    "id": "s7Z4tNgp5NJ3"
   },
   "source": [
    "1. MLP & Data Import\n",
    "```\n",
    "1) Size = 64\n",
    "2) Size = 48.\n",
    "```\n",
    "2. Simple CNN\n",
    "```\n",
    "1) Size = 64\n",
    "2) Size = 48\n",
    "```\n",
    "3. Size = 48 , No Early Stopping\n",
    "```\n",
    "1) Epoch = 50\n",
    "      (1) MLP\n",
    "      (2) Simple CNN\n",
    "2) Epoch = 100\n",
    "      (1) MLP\n",
    "      (2) Simple CNN\n",
    "```\n"
   ]
  },
  {
   "cell_type": "markdown",
   "metadata": {
    "colab_type": "text",
    "id": "HzEKYXpyyMGM"
   },
   "source": [
    "### Module"
   ]
  },
  {
   "cell_type": "code",
   "execution_count": 1,
   "metadata": {
    "colab": {
     "base_uri": "https://localhost:8080/",
     "height": 127
    },
    "colab_type": "code",
    "executionInfo": {
     "elapsed": 16815,
     "status": "ok",
     "timestamp": 1582956316540,
     "user": {
      "displayName": "‍이동규[ 대학원석사과정재학 / 통계학과 ]",
      "photoUrl": "",
      "userId": "08134145419451519269"
     },
     "user_tz": -540
    },
    "id": "ztnu5ZzWyRQK",
    "outputId": "93577782-be45-4365-f3b4-1adb9244a956"
   },
   "outputs": [
    {
     "name": "stdout",
     "output_type": "stream",
     "text": [
      "Go to this URL in a browser: https://accounts.google.com/o/oauth2/auth?client_id=947318989803-6bn6qk8qdgf4n4g3pfee6491hc0brc4i.apps.googleusercontent.com&redirect_uri=urn%3aietf%3awg%3aoauth%3a2.0%3aoob&response_type=code&scope=email%20https%3a%2f%2fwww.googleapis.com%2fauth%2fdocs.test%20https%3a%2f%2fwww.googleapis.com%2fauth%2fdrive%20https%3a%2f%2fwww.googleapis.com%2fauth%2fdrive.photos.readonly%20https%3a%2f%2fwww.googleapis.com%2fauth%2fpeopleapi.readonly\n",
      "\n",
      "Enter your authorization code:\n",
      "··········\n",
      "Mounted at /content/drive\n"
     ]
    }
   ],
   "source": [
    "from google.colab import drive\n",
    "drive.mount('/content/drive')"
   ]
  },
  {
   "cell_type": "code",
   "execution_count": 2,
   "metadata": {
    "colab": {
     "base_uri": "https://localhost:8080/",
     "height": 35
    },
    "colab_type": "code",
    "executionInfo": {
     "elapsed": 15563,
     "status": "ok",
     "timestamp": 1582956316541,
     "user": {
      "displayName": "‍이동규[ 대학원석사과정재학 / 통계학과 ]",
      "photoUrl": "",
      "userId": "08134145419451519269"
     },
     "user_tz": -540
    },
    "id": "5Gw1yw6JySsX",
    "outputId": "0fefb384-ba83-45b1-ec0c-022cc48db85a"
   },
   "outputs": [
    {
     "name": "stdout",
     "output_type": "stream",
     "text": [
      "/content/drive/My Drive/Colab Notebooks/project\n"
     ]
    }
   ],
   "source": [
    "cd /content/drive/My Drive/Colab Notebooks/project"
   ]
  },
  {
   "cell_type": "code",
   "execution_count": 0,
   "metadata": {
    "colab": {},
    "colab_type": "code",
    "id": "r-LIano3yUg_"
   },
   "outputs": [],
   "source": [
    "import sys"
   ]
  },
  {
   "cell_type": "code",
   "execution_count": 4,
   "metadata": {
    "colab": {
     "base_uri": "https://localhost:8080/",
     "height": 179
    },
    "colab_type": "code",
    "executionInfo": {
     "elapsed": 1087,
     "status": "ok",
     "timestamp": 1582956316543,
     "user": {
      "displayName": "‍이동규[ 대학원석사과정재학 / 통계학과 ]",
      "photoUrl": "",
      "userId": "08134145419451519269"
     },
     "user_tz": -540
    },
    "id": "UkyIxHSoyUjW",
    "outputId": "2dc49136-8b19-4fff-ba37-79b45b9701b2"
   },
   "outputs": [
    {
     "data": {
      "text/plain": [
       "['',\n",
       " '/env/python',\n",
       " '/usr/lib/python36.zip',\n",
       " '/usr/lib/python3.6',\n",
       " '/usr/lib/python3.6/lib-dynload',\n",
       " '/usr/local/lib/python3.6/dist-packages',\n",
       " '/usr/lib/python3/dist-packages',\n",
       " '/usr/local/lib/python3.6/dist-packages/IPython/extensions',\n",
       " '/root/.ipython']"
      ]
     },
     "execution_count": 4,
     "metadata": {
      "tags": []
     },
     "output_type": "execute_result"
    }
   ],
   "source": [
    "# 모듈로 받을 경로 확인\n",
    "sys.path"
   ]
  },
  {
   "cell_type": "code",
   "execution_count": 0,
   "metadata": {
    "colab": {},
    "colab_type": "code",
    "id": "Qe39dJqmyUlb"
   },
   "outputs": [],
   "source": [
    "# 내 노트북이 아닌, 전산실 컴퓨터의 colab에서 돌렸으므로, 다시돌리려면 경로 수정할것!\n",
    "sys.path.append(\"/content/drive/My Drive/Colab Notebooks/project\")"
   ]
  },
  {
   "cell_type": "code",
   "execution_count": 6,
   "metadata": {
    "colab": {
     "base_uri": "https://localhost:8080/",
     "height": 64
    },
    "colab_type": "code",
    "executionInfo": {
     "elapsed": 2830,
     "status": "ok",
     "timestamp": 1582956320901,
     "user": {
      "displayName": "‍이동규[ 대학원석사과정재학 / 통계학과 ]",
      "photoUrl": "",
      "userId": "08134145419451519269"
     },
     "user_tz": -540
    },
    "id": "nCIO4eZgyMGO",
    "outputId": "613b1a6b-0a26-4dac-c6c1-3ecacc957c65"
   },
   "outputs": [
    {
     "data": {
      "text/html": [
       "<p style=\"color: red;\">\n",
       "The default version of TensorFlow in Colab will soon switch to TensorFlow 2.x.<br>\n",
       "We recommend you <a href=\"https://www.tensorflow.org/guide/migrate\" target=\"_blank\">upgrade</a> now \n",
       "or ensure your notebook will continue to use TensorFlow 1.x via the <code>%tensorflow_version 1.x</code> magic:\n",
       "<a href=\"https://colab.research.google.com/notebooks/tensorflow_version.ipynb\" target=\"_blank\">more info</a>.</p>\n"
      ],
      "text/plain": [
       "<IPython.core.display.HTML object>"
      ]
     },
     "metadata": {
      "tags": []
     },
     "output_type": "display_data"
    }
   ],
   "source": [
    "import tensorflow as tf\n",
    "import numpy as np\n",
    "import pandas as pd\n",
    "import cv2\n",
    "from tensorflow.keras import backend as K\n",
    "from tensorflow.keras.callbacks import EarlyStopping\n",
    "from tensorflow.keras.utils import to_categorical"
   ]
  },
  {
   "cell_type": "code",
   "execution_count": 0,
   "metadata": {
    "colab": {},
    "colab_type": "code",
    "id": "PLKpxpJkyMGg"
   },
   "outputs": [],
   "source": [
    "from f1score import macro_f1score, weighted_f1score"
   ]
  },
  {
   "cell_type": "markdown",
   "metadata": {
    "colab_type": "text",
    "id": "PdaLO7qQyMGl"
   },
   "source": [
    "## 1. MLP & Data Import\n",
    "---"
   ]
  },
  {
   "cell_type": "code",
   "execution_count": 0,
   "metadata": {
    "colab": {},
    "colab_type": "code",
    "id": "qvOHW7BmyMGm"
   },
   "outputs": [],
   "source": [
    "###################### 1. model - MLP ######################\n",
    "\n",
    "# data import\n",
    "x_train = pd.read_csv(\"mydata/X_train.csv\",header=0,index_col=0)\n",
    "x_valid = pd.read_csv(\"mydata/X_private_test.csv\",header=0,index_col=0)\n",
    "x_test = pd.read_csv(\"mydata/X_public_test.csv\",header=0,index_col=0)\n",
    "y_train = pd.read_csv(\"mydata/y_train.csv\",header=0,index_col=0)\n",
    "y_valid = pd.read_csv(\"mydata/y_private_test.csv\",header=0,index_col=0)\n",
    "y_test = pd.read_csv(\"mydata/y_public_test.csv\",header=0,index_col=0)"
   ]
  },
  {
   "cell_type": "code",
   "execution_count": 0,
   "metadata": {
    "colab": {},
    "colab_type": "code",
    "id": "iGUOd7Y3yMGq"
   },
   "outputs": [],
   "source": [
    "# data handling\n",
    "x_train = np.array(x_train).reshape([-1,48,48,3]) \n",
    "x_valid = np.array(x_valid).reshape([-1,48,48,3]) \n",
    "x_test = np.array(x_test).reshape([-1,48,48,3]) \n",
    "\n",
    "y_train=to_categorical(y_train) # one hot encoding\n",
    "y_valid=to_categorical(y_valid)\n",
    "y_test=to_categorical(y_test)"
   ]
  },
  {
   "cell_type": "code",
   "execution_count": 0,
   "metadata": {
    "colab": {},
    "colab_type": "code",
    "id": "QmhiKGPQ5NKb"
   },
   "outputs": [],
   "source": [
    "size=64\n",
    "x_train = np.array(x_train).reshape([-1,48,48,3])"
   ]
  },
  {
   "cell_type": "code",
   "execution_count": 11,
   "metadata": {
    "colab": {
     "base_uri": "https://localhost:8080/",
     "height": 35
    },
    "colab_type": "code",
    "executionInfo": {
     "elapsed": 40986,
     "status": "ok",
     "timestamp": 1582956371970,
     "user": {
      "displayName": "‍이동규[ 대학원석사과정재학 / 통계학과 ]",
      "photoUrl": "",
      "userId": "08134145419451519269"
     },
     "user_tz": -540
    },
    "id": "FGkAMlP25NKd",
    "outputId": "2e954292-ee21-43f1-f259-6dd25580faaa"
   },
   "outputs": [
    {
     "data": {
      "text/plain": [
       "(28698, 48, 48, 3)"
      ]
     },
     "execution_count": 11,
     "metadata": {
      "tags": []
     },
     "output_type": "execute_result"
    }
   ],
   "source": [
    "x_train.shape"
   ]
  },
  {
   "cell_type": "code",
   "execution_count": 0,
   "metadata": {
    "colab": {},
    "colab_type": "code",
    "id": "xxnvpfrN5NKg"
   },
   "outputs": [],
   "source": [
    "x_train_zoom = np.zeros([x_train.shape[0],size,size,3],dtype=\"float32\")\n",
    "\n",
    "for i in range(x_train.shape[0]):\n",
    "    x_train_zoom[i,:] = cv2.resize(x_train[i,:].astype('uint8'), (size, size),\n",
    "                                  interpolation=cv2.INTER_CUBIC).reshape(size,size,3) /255"
   ]
  },
  {
   "cell_type": "code",
   "execution_count": 13,
   "metadata": {
    "colab": {
     "base_uri": "https://localhost:8080/",
     "height": 35
    },
    "colab_type": "code",
    "executionInfo": {
     "elapsed": 3765,
     "status": "ok",
     "timestamp": 1582956375783,
     "user": {
      "displayName": "‍이동규[ 대학원석사과정재학 / 통계학과 ]",
      "photoUrl": "",
      "userId": "08134145419451519269"
     },
     "user_tz": -540
    },
    "id": "mOnYHXUvyMGt",
    "outputId": "0748aae6-acd4-473d-ad77-97fa476c91c5"
   },
   "outputs": [
    {
     "data": {
      "text/plain": [
       "(28698, 64, 64, 3)"
      ]
     },
     "execution_count": 13,
     "metadata": {
      "tags": []
     },
     "output_type": "execute_result"
    }
   ],
   "source": [
    "x_train_zoom.shape"
   ]
  },
  {
   "cell_type": "code",
   "execution_count": 0,
   "metadata": {
    "colab": {},
    "colab_type": "code",
    "id": "y0NIv02Wo_v-"
   },
   "outputs": [],
   "source": [
    "x_train = x_train / 255 # x_train, x_train_zoom 모두 0과 1사이에 값이 위치하게 설정."
   ]
  },
  {
   "cell_type": "code",
   "execution_count": 0,
   "metadata": {
    "colab": {},
    "colab_type": "code",
    "id": "53scbBL55NKn"
   },
   "outputs": [],
   "source": [
    "x_valid = np.array(x_valid).reshape([-1,48,48,3])\n",
    "x_valid_zoom = np.zeros([x_valid.shape[0],size,size,3],dtype=\"float32\")\n",
    "for i in range(x_valid.shape[0]):\n",
    "    x_valid_zoom[i,:] = cv2.resize(x_valid[i,:].astype('uint8'), (size, size),\n",
    "                                  interpolation=cv2.INTER_CUBIC).reshape(size,size,3) /255"
   ]
  },
  {
   "cell_type": "code",
   "execution_count": 16,
   "metadata": {
    "colab": {
     "base_uri": "https://localhost:8080/",
     "height": 35
    },
    "colab_type": "code",
    "executionInfo": {
     "elapsed": 4922,
     "status": "ok",
     "timestamp": 1582956376970,
     "user": {
      "displayName": "‍이동규[ 대학원석사과정재학 / 통계학과 ]",
      "photoUrl": "",
      "userId": "08134145419451519269"
     },
     "user_tz": -540
    },
    "id": "Rzvxe8vq5NKq",
    "outputId": "5deb17df-e949-4977-c436-88374d056e5f"
   },
   "outputs": [
    {
     "data": {
      "text/plain": [
       "(3589, 64, 64, 3)"
      ]
     },
     "execution_count": 16,
     "metadata": {
      "tags": []
     },
     "output_type": "execute_result"
    }
   ],
   "source": [
    "x_valid_zoom.shape"
   ]
  },
  {
   "cell_type": "code",
   "execution_count": 0,
   "metadata": {
    "colab": {},
    "colab_type": "code",
    "id": "2XrJP1DFg-yw"
   },
   "outputs": [],
   "source": [
    " x_valid = x_valid / 255"
   ]
  },
  {
   "cell_type": "code",
   "execution_count": 0,
   "metadata": {
    "colab": {},
    "colab_type": "code",
    "id": "k6mDCQYa5NKt"
   },
   "outputs": [],
   "source": [
    "x_test = np.array(x_test).reshape([-1,48,48,3])\n",
    "x_test_zoom = np.zeros([x_test.shape[0],size,size,3],dtype=\"float32\")\n",
    "for i in range(x_test.shape[0]):\n",
    "    x_test_zoom[i,:] = cv2.resize(x_test[i,:].astype('uint8'), (size, size),\n",
    "                                  interpolation=cv2.INTER_CUBIC).reshape(size,size,3) / 255"
   ]
  },
  {
   "cell_type": "code",
   "execution_count": 19,
   "metadata": {
    "colab": {
     "base_uri": "https://localhost:8080/",
     "height": 35
    },
    "colab_type": "code",
    "executionInfo": {
     "elapsed": 5618,
     "status": "ok",
     "timestamp": 1582956377694,
     "user": {
      "displayName": "‍이동규[ 대학원석사과정재학 / 통계학과 ]",
      "photoUrl": "",
      "userId": "08134145419451519269"
     },
     "user_tz": -540
    },
    "id": "TwJNlvxChC1n",
    "outputId": "79b9a601-4fa6-4ac2-9d5a-b07a10cc2079"
   },
   "outputs": [
    {
     "data": {
      "text/plain": [
       "(3588, 64, 64, 3)"
      ]
     },
     "execution_count": 19,
     "metadata": {
      "tags": []
     },
     "output_type": "execute_result"
    }
   ],
   "source": [
    "x_test_zoom.shape"
   ]
  },
  {
   "cell_type": "code",
   "execution_count": 0,
   "metadata": {
    "colab": {},
    "colab_type": "code",
    "id": "mE1P2-8bhCzj"
   },
   "outputs": [],
   "source": [
    "x_test = x_test / 255"
   ]
  },
  {
   "cell_type": "markdown",
   "metadata": {
    "colab_type": "text",
    "id": "FjBPzDl45NKw"
   },
   "source": [
    "### 1) Size = 64"
   ]
  },
  {
   "cell_type": "code",
   "execution_count": 0,
   "metadata": {
    "colab": {},
    "colab_type": "code",
    "id": "HNFLYggS5NKx"
   },
   "outputs": [],
   "source": [
    "# MLP model\n",
    "inputs = tf.keras.Input(shape=(64,64,3))\n",
    "x=tf.keras.layers.Flatten()(inputs)\n",
    "x=tf.keras.layers.Dense(units=128,activation = 'relu',name='d1')(x)\n",
    "x=tf.keras.layers.Dropout(0.3)(x)\n",
    "x=tf.keras.layers.Dense(units=512,activation = 'relu',name='d2')(x)\n",
    "x=tf.keras.layers.Dropout(0.3)(x)\n",
    "outputs = tf.keras.layers.Dense(units=7,activation = tf.nn.softmax,name='d3')(x)"
   ]
  },
  {
   "cell_type": "code",
   "execution_count": 0,
   "metadata": {
    "colab": {},
    "colab_type": "code",
    "id": "kH6YGyrQ5NKz"
   },
   "outputs": [],
   "source": [
    "model = tf.keras.Model(inputs=inputs,outputs=outputs)"
   ]
  },
  {
   "cell_type": "code",
   "execution_count": 47,
   "metadata": {
    "colab": {
     "base_uri": "https://localhost:8080/",
     "height": 413
    },
    "colab_type": "code",
    "executionInfo": {
     "elapsed": 1155,
     "status": "ok",
     "timestamp": 1582956035447,
     "user": {
      "displayName": "‍이동규[ 대학원석사과정재학 / 통계학과 ]",
      "photoUrl": "",
      "userId": "08134145419451519269"
     },
     "user_tz": -540
    },
    "id": "rEI9OB_p5NK3",
    "outputId": "e0fd51c5-d911-4082-8465-9d52e5f3ad15"
   },
   "outputs": [
    {
     "name": "stdout",
     "output_type": "stream",
     "text": [
      "Model: \"model_1\"\n",
      "_________________________________________________________________\n",
      "Layer (type)                 Output Shape              Param #   \n",
      "=================================================================\n",
      "input_2 (InputLayer)         [(None, 64, 64, 3)]       0         \n",
      "_________________________________________________________________\n",
      "flatten_1 (Flatten)          (None, 12288)             0         \n",
      "_________________________________________________________________\n",
      "d1 (Dense)                   (None, 128)               1572992   \n",
      "_________________________________________________________________\n",
      "dropout_2 (Dropout)          (None, 128)               0         \n",
      "_________________________________________________________________\n",
      "d2 (Dense)                   (None, 512)               66048     \n",
      "_________________________________________________________________\n",
      "dropout_3 (Dropout)          (None, 512)               0         \n",
      "_________________________________________________________________\n",
      "d3 (Dense)                   (None, 7)                 3591      \n",
      "=================================================================\n",
      "Total params: 1,642,631\n",
      "Trainable params: 1,642,631\n",
      "Non-trainable params: 0\n",
      "_________________________________________________________________\n"
     ]
    }
   ],
   "source": [
    "model.summary()"
   ]
  },
  {
   "cell_type": "code",
   "execution_count": 0,
   "metadata": {
    "colab": {},
    "colab_type": "code",
    "id": "zissGCpJ5NK6"
   },
   "outputs": [],
   "source": [
    "model.compile(optimizer = tf.keras.optimizers.Adam(),\n",
    "              loss='categorical_crossentropy',metrics=['accuracy',macro_f1score,weighted_f1score])"
   ]
  },
  {
   "cell_type": "code",
   "execution_count": 0,
   "metadata": {
    "colab": {},
    "colab_type": "code",
    "id": "IiXOwj8k5NK-"
   },
   "outputs": [],
   "source": [
    "early_stopping = EarlyStopping(monitor='val_macro_f1score', patience=3, verbose=1,mode='max')\n",
    "\n",
    "\n",
    "# early stopping의 옵션은 다음과 같다.\n",
    "# monitor : 관찰하고자 하는 항목. 'val_loss', 'val_acc' 가 기본이고, 내가 정의하는 옵션을 기준으로 삼을수도 있다.\n",
    "# mode라는 옵션을 통해, 최소를 정할지 최대를 정할지 구체화해서 정할 수 있으며, mode옵션을 주지 않으면 auto가 default이므로, 알아서 정해줌\n",
    "# 우리는 mode='max'임.\n",
    "\n",
    "# min_delta : 개선되고 있다고 판단하기 위한 최소 변화량을 나타낸다.\n",
    "# 만약 변화량이 min_delta보다 적은 경우에는 개선이 없다고 판단한다.\n",
    "\n",
    "# patience : 개선이 없다고 바로 종료하지 않고 개선이 없는 epoch를 얼마나 기다려 줄 것인 가를 지정한다.\n",
    "# 만약 10이라고 지정하면 개선이 없는 epoch가 10회가 되도록 지속될 경우 학습일 종료한다.\n",
    "# 데이터의 형태에 따라 잡는 방법이 다르지만, 보통 1~10의 숫자를 택한다.\n",
    "\n",
    "\n",
    "# verbose : 얼마나 자세하게 정보를 표시할 것인가를 지정한다. (0, 1, 2)\n",
    "\n",
    "# mode : 관찰 항목에 대해 개선이 없다고 판단하기 위한 기준을 지정한다. - 다음과 같은 하위항목(auto,min,max)을 따른다.\n",
    "# 예를 들어 관찰 항목이 ‘val_loss’인 경우에는 감소되는 것이 멈출 때 종료되어야 하므로, ‘min’으로 설정됨.\n",
    "    # auto : 관찰하는 이름에 따라 자동으로 지정한다.\n",
    "    # min : 관찰하고 있는 항목이 감소되는 것을 멈출 때 종료한다.\n",
    "    # max : 관찰하고 있는 항목이 증가되는 것을 멈출 때 종료한다."
   ]
  },
  {
   "cell_type": "code",
   "execution_count": 50,
   "metadata": {
    "colab": {
     "base_uri": "https://localhost:8080/",
     "height": 215
    },
    "colab_type": "code",
    "executionInfo": {
     "elapsed": 18299,
     "status": "ok",
     "timestamp": 1582956062722,
     "user": {
      "displayName": "‍이동규[ 대학원석사과정재학 / 통계학과 ]",
      "photoUrl": "",
      "userId": "08134145419451519269"
     },
     "user_tz": -540
    },
    "id": "Pog3e4JU5NLA",
    "outputId": "2193c061-411d-4437-b0ce-5d8ec84ec8da"
   },
   "outputs": [
    {
     "name": "stdout",
     "output_type": "stream",
     "text": [
      "Train on 28698 samples, validate on 3589 samples\n",
      "Epoch 1/100\n",
      "28698/28698 [==============================] - 4s 141us/sample - loss: 1.8652 - acc: 0.2426 - macro_f1score: 0.0054 - weighted_f1score: 0.0013 - val_loss: 1.7960 - val_acc: 0.2449 - val_macro_f1score: 0.0018 - val_weighted_f1score: 4.4255e-04\n",
      "Epoch 2/100\n",
      "28698/28698 [==============================] - 2s 58us/sample - loss: 1.8081 - acc: 0.2514 - macro_f1score: 0.0037 - weighted_f1score: 9.4604e-04 - val_loss: 1.8167 - val_acc: 0.2449 - val_macro_f1score: 0.0000e+00 - val_weighted_f1score: 0.0000e+00\n",
      "Epoch 3/100\n",
      "28698/28698 [==============================] - 2s 60us/sample - loss: 1.8158 - acc: 0.2514 - macro_f1score: 4.0312e-04 - weighted_f1score: 8.7554e-05 - val_loss: 1.8156 - val_acc: 0.2449 - val_macro_f1score: 0.0000e+00 - val_weighted_f1score: 0.0000e+00\n",
      "Epoch 4/100\n",
      "28698/28698 [==============================] - 2s 60us/sample - loss: 1.8110 - acc: 0.2514 - macro_f1score: 0.0000e+00 - weighted_f1score: 0.0000e+00 - val_loss: 1.8160 - val_acc: 0.2449 - val_macro_f1score: 0.0000e+00 - val_weighted_f1score: 0.0000e+00\n",
      "Epoch 00004: early stopping\n"
     ]
    },
    {
     "data": {
      "text/plain": [
       "<tensorflow.python.keras.callbacks.History at 0x7fc6bf49ec88>"
      ]
     },
     "execution_count": 50,
     "metadata": {
      "tags": []
     },
     "output_type": "execute_result"
    }
   ],
   "source": [
    "model.fit(x_train_zoom,y_train,batch_size=128, validation_data=(x_valid_zoom,y_valid) , epochs=100, callbacks=[early_stopping]) "
   ]
  },
  {
   "cell_type": "code",
   "execution_count": 51,
   "metadata": {
    "colab": {
     "base_uri": "https://localhost:8080/",
     "height": 71
    },
    "colab_type": "code",
    "executionInfo": {
     "elapsed": 1100,
     "status": "ok",
     "timestamp": 1582956068017,
     "user": {
      "displayName": "‍이동규[ 대학원석사과정재학 / 통계학과 ]",
      "photoUrl": "",
      "userId": "08134145419451519269"
     },
     "user_tz": -540
    },
    "id": "RumFl8Zd5NLD",
    "outputId": "910eb030-73de-4da1-ed3b-f4fe083a19d0"
   },
   "outputs": [
    {
     "name": "stdout",
     "output_type": "stream",
     "text": [
      "3588/3588 [==============================] - 0s 48us/sample - loss: 1.8107 - acc: 0.2494 - macro_f1score: 0.0000e+00 - weighted_f1score: 0.0000e+00\n",
      "\n",
      "Accuracy: 0.2494, Macro F1 Score: 0.0000, Weighted F1 Score: 0.0000\n"
     ]
    }
   ],
   "source": [
    "_, acc, mac_f1, wei_f1 = model.evaluate(x_test_zoom,y_test,batch_size=128)\n",
    "print(\"\\nAccuracy: {:.4f}, Macro F1 Score: {:.4f}, Weighted F1 Score: {:.4f}\".format(acc,mac_f1,wei_f1))"
   ]
  },
  {
   "cell_type": "markdown",
   "metadata": {
    "colab_type": "text",
    "id": "45sRLEBQ5NLG"
   },
   "source": [
    "### 2) Size = 48"
   ]
  },
  {
   "cell_type": "code",
   "execution_count": 0,
   "metadata": {
    "colab": {},
    "colab_type": "code",
    "id": "pCG9QrQbyMGy"
   },
   "outputs": [],
   "source": [
    "# MLP model\n",
    "inputs = tf.keras.Input(shape=(48,48,3))\n",
    "x=tf.keras.layers.Flatten()(inputs)\n",
    "x=tf.keras.layers.Dense(units=128,activation = 'relu',name='d1')(x)\n",
    "x=tf.keras.layers.Dropout(0.3)(x)\n",
    "x=tf.keras.layers.Dense(units=512,activation = 'relu',name='d2')(x)\n",
    "x=tf.keras.layers.Dropout(0.3)(x)\n",
    "outputs = tf.keras.layers.Dense(units=7,activation = tf.nn.softmax,name='d3')(x)"
   ]
  },
  {
   "cell_type": "code",
   "execution_count": 0,
   "metadata": {
    "colab": {},
    "colab_type": "code",
    "id": "jDIP0w4gyMG2"
   },
   "outputs": [],
   "source": [
    "model = tf.keras.Model(inputs=inputs,outputs=outputs)"
   ]
  },
  {
   "cell_type": "code",
   "execution_count": 59,
   "metadata": {
    "colab": {
     "base_uri": "https://localhost:8080/",
     "height": 413
    },
    "colab_type": "code",
    "executionInfo": {
     "elapsed": 1155,
     "status": "ok",
     "timestamp": 1582956106788,
     "user": {
      "displayName": "‍이동규[ 대학원석사과정재학 / 통계학과 ]",
      "photoUrl": "",
      "userId": "08134145419451519269"
     },
     "user_tz": -540
    },
    "id": "RkiZEnDbyMG5",
    "outputId": "91c79a31-517f-4ccb-98bc-a58cb274be3c"
   },
   "outputs": [
    {
     "name": "stdout",
     "output_type": "stream",
     "text": [
      "Model: \"model_3\"\n",
      "_________________________________________________________________\n",
      "Layer (type)                 Output Shape              Param #   \n",
      "=================================================================\n",
      "input_4 (InputLayer)         [(None, 48, 48, 3)]       0         \n",
      "_________________________________________________________________\n",
      "flatten_3 (Flatten)          (None, 6912)              0         \n",
      "_________________________________________________________________\n",
      "d1 (Dense)                   (None, 128)               884864    \n",
      "_________________________________________________________________\n",
      "dropout_6 (Dropout)          (None, 128)               0         \n",
      "_________________________________________________________________\n",
      "d2 (Dense)                   (None, 512)               66048     \n",
      "_________________________________________________________________\n",
      "dropout_7 (Dropout)          (None, 512)               0         \n",
      "_________________________________________________________________\n",
      "d3 (Dense)                   (None, 7)                 3591      \n",
      "=================================================================\n",
      "Total params: 954,503\n",
      "Trainable params: 954,503\n",
      "Non-trainable params: 0\n",
      "_________________________________________________________________\n"
     ]
    }
   ],
   "source": [
    "model.summary()"
   ]
  },
  {
   "cell_type": "code",
   "execution_count": 0,
   "metadata": {
    "colab": {},
    "colab_type": "code",
    "id": "95WAewF_yMG8"
   },
   "outputs": [],
   "source": [
    "model.compile(optimizer = tf.keras.optimizers.Adam(),\n",
    "              loss='categorical_crossentropy',metrics=['accuracy',macro_f1score,weighted_f1score])"
   ]
  },
  {
   "cell_type": "code",
   "execution_count": 0,
   "metadata": {
    "colab": {},
    "colab_type": "code",
    "id": "mP44TeDDyMHD"
   },
   "outputs": [],
   "source": [
    "early_stopping = EarlyStopping(monitor='val_macro_f1score', patience=3, verbose=1,mode='max')\n"
   ]
  },
  {
   "cell_type": "code",
   "execution_count": 62,
   "metadata": {
    "colab": {
     "base_uri": "https://localhost:8080/",
     "height": 215
    },
    "colab_type": "code",
    "executionInfo": {
     "elapsed": 10826,
     "status": "ok",
     "timestamp": 1582956120032,
     "user": {
      "displayName": "‍이동규[ 대학원석사과정재학 / 통계학과 ]",
      "photoUrl": "",
      "userId": "08134145419451519269"
     },
     "user_tz": -540
    },
    "id": "X4USF-7hyMHH",
    "outputId": "89f320dd-319b-4ffe-cfd1-f361a38fab4b"
   },
   "outputs": [
    {
     "name": "stdout",
     "output_type": "stream",
     "text": [
      "Train on 28698 samples, validate on 3589 samples\n",
      "Epoch 1/100\n",
      "28698/28698 [==============================] - 2s 83us/sample - loss: 1.8522 - acc: 0.2421 - macro_f1score: 0.0018 - weighted_f1score: 3.5235e-04 - val_loss: 1.8154 - val_acc: 0.2455 - val_macro_f1score: 0.0000e+00 - val_weighted_f1score: 0.0000e+00\n",
      "Epoch 2/100\n",
      "28698/28698 [==============================] - 2s 76us/sample - loss: 1.8108 - acc: 0.2514 - macro_f1score: 3.1746e-05 - weighted_f1score: 9.6726e-06 - val_loss: 1.8158 - val_acc: 0.2449 - val_macro_f1score: 0.0000e+00 - val_weighted_f1score: 0.0000e+00\n",
      "Epoch 3/100\n",
      "28698/28698 [==============================] - 2s 75us/sample - loss: 1.8096 - acc: 0.2513 - macro_f1score: 6.5727e-04 - weighted_f1score: 1.5112e-04 - val_loss: 1.8155 - val_acc: 0.2449 - val_macro_f1score: 0.0000e+00 - val_weighted_f1score: 0.0000e+00\n",
      "Epoch 4/100\n",
      "28698/28698 [==============================] - 2s 75us/sample - loss: 1.8107 - acc: 0.2514 - macro_f1score: 2.0378e-04 - weighted_f1score: 5.2894e-05 - val_loss: 1.8158 - val_acc: 0.2449 - val_macro_f1score: 0.0000e+00 - val_weighted_f1score: 0.0000e+00\n",
      "Epoch 00004: early stopping\n"
     ]
    },
    {
     "data": {
      "text/plain": [
       "<tensorflow.python.keras.callbacks.History at 0x7fc6b0377da0>"
      ]
     },
     "execution_count": 62,
     "metadata": {
      "tags": []
     },
     "output_type": "execute_result"
    }
   ],
   "source": [
    "model.fit(x_train,y_train,batch_size=128, validation_data=(x_valid,y_valid) , epochs=100, callbacks=[early_stopping]) "
   ]
  },
  {
   "cell_type": "code",
   "execution_count": 63,
   "metadata": {
    "colab": {
     "base_uri": "https://localhost:8080/",
     "height": 71
    },
    "colab_type": "code",
    "executionInfo": {
     "elapsed": 1530,
     "status": "ok",
     "timestamp": 1582956121587,
     "user": {
      "displayName": "‍이동규[ 대학원석사과정재학 / 통계학과 ]",
      "photoUrl": "",
      "userId": "08134145419451519269"
     },
     "user_tz": -540
    },
    "id": "3_O7c2G6yMHK",
    "outputId": "3f52117c-13b4-4e7f-f0bd-6441edbb950d",
    "scrolled": true
   },
   "outputs": [
    {
     "name": "stdout",
     "output_type": "stream",
     "text": [
      "3588/3588 [==============================] - 1s 163us/sample - loss: 1.8106 - acc: 0.2494 - macro_f1score: 0.0000e+00 - weighted_f1score: 0.0000e+00\n",
      "\n",
      "Accuracy: 0.2494, Macro F1 Score: 0.0000, Weighted F1 Score: 0.0000\n"
     ]
    }
   ],
   "source": [
    "_, acc, mac_f1, wei_f1 = model.evaluate(x_test,y_test,batch_size=128)\n",
    "print(\"\\nAccuracy: {:.4f}, Macro F1 Score: {:.4f}, Weighted F1 Score: {:.4f}\".format(acc,mac_f1,wei_f1))"
   ]
  },
  {
   "cell_type": "markdown",
   "metadata": {
    "colab_type": "text",
    "id": "VoUnO_72yMHR"
   },
   "source": [
    "## 2. Simple CNN\n",
    "---"
   ]
  },
  {
   "cell_type": "code",
   "execution_count": 0,
   "metadata": {
    "colab": {},
    "colab_type": "code",
    "id": "4sXP5MnLyMHS"
   },
   "outputs": [],
   "source": [
    "# FER2013 데이터를 들어가기 앞서, 주의해야할 사항이 있다.\n",
    "# 기본이기도 하지만, 데이터가 Label에 대해 균형이어야 좋은 performance를 낸다. 이는 CNN에서 특히 더그런다.\n",
    "# 내가가진 데이터는 불균형이므로, 불균형문제를 해결하는게 옳다.\n",
    "# 이 방법은 ADASYN, SMOTE, GAN, AutoEncoder등으로 해결할 수 있으며, 이에 대한 개념을 훗날 배우고 더 적용시켜보도록 한다.\n",
    "# 또한, 불균형이기에 F1 score도 같이 제시함을 잊지 않는다.\n",
    "\n",
    "###################### 2. model - CNN Simple ######################\n"
   ]
  },
  {
   "cell_type": "code",
   "execution_count": 0,
   "metadata": {
    "colab": {},
    "colab_type": "code",
    "id": "MZGUhqtEyMHY"
   },
   "outputs": [],
   "source": [
    "epochs = 100\n",
    "classes = y_test.shape[1]\n",
    "size=64\n",
    "\n",
    "input_shape = (size,size,3)\n",
    "batch_size = 128\n",
    "kernel_size = (3,3) \n",
    "filters = 64 \n",
    "dropout = 0.3 "
   ]
  },
  {
   "cell_type": "markdown",
   "metadata": {
    "colab_type": "text",
    "id": "E2iVXw9S9JQr"
   },
   "source": [
    "### 1) Size 64"
   ]
  },
  {
   "cell_type": "code",
   "execution_count": 22,
   "metadata": {
    "colab": {
     "base_uri": "https://localhost:8080/",
     "height": 91
    },
    "colab_type": "code",
    "executionInfo": {
     "elapsed": 745,
     "status": "ok",
     "timestamp": 1582956392368,
     "user": {
      "displayName": "‍이동규[ 대학원석사과정재학 / 통계학과 ]",
      "photoUrl": "",
      "userId": "08134145419451519269"
     },
     "user_tz": -540
    },
    "id": "YbGTY1MMyMHb",
    "outputId": "d6baaa6e-99f9-4e03-c219-048bac1ea94b"
   },
   "outputs": [
    {
     "name": "stdout",
     "output_type": "stream",
     "text": [
      "WARNING:tensorflow:From /usr/local/lib/python3.6/dist-packages/tensorflow_core/python/ops/resource_variable_ops.py:1630: calling BaseResourceVariable.__init__ (from tensorflow.python.ops.resource_variable_ops) with constraint is deprecated and will be removed in a future version.\n",
      "Instructions for updating:\n",
      "If using Keras pass *_constraint arguments to layers.\n"
     ]
    }
   ],
   "source": [
    "# CNN model\n",
    "cnn_model = tf.keras.models.Sequential()\n",
    "cnn_model.add(tf.keras.layers.Conv2D(filters=filters, kernel_size=kernel_size,\n",
    "                                     activation='relu', input_shape=input_shape, strides = (1,1) , name='Conv2D_layer1'))\n",
    "cnn_model.add(tf.keras.layers.MaxPooling2D((2, 2), name='Maxpooling1_2D'))\n",
    "cnn_model.add(tf.keras.layers.Conv2D(filters=filters, kernel_size=kernel_size,\n",
    "                                     activation='relu', strides = (1,1) , name='Conv2D_layer2'))\n",
    "cnn_model.add(tf.keras.layers.MaxPooling2D((2, 2), name='Maxpooling2_2D'))\n",
    "cnn_model.add(tf.keras.layers.Flatten(name='Flatten'))\n",
    "cnn_model.add(tf.keras.layers.Dropout(dropout))\n",
    "cnn_model.add(tf.keras.layers.Dense(64, activation='relu', name='Hidden_layer'))\n",
    "cnn_model.add(tf.keras.layers.Dense(classes, activation='softmax', name='Output_layer'))"
   ]
  },
  {
   "cell_type": "code",
   "execution_count": 23,
   "metadata": {
    "colab": {
     "base_uri": "https://localhost:8080/",
     "height": 449
    },
    "colab_type": "code",
    "executionInfo": {
     "elapsed": 849,
     "status": "ok",
     "timestamp": 1582956394232,
     "user": {
      "displayName": "‍이동규[ 대학원석사과정재학 / 통계학과 ]",
      "photoUrl": "",
      "userId": "08134145419451519269"
     },
     "user_tz": -540
    },
    "id": "s4XB2rENyMHe",
    "outputId": "4173ce56-400e-4685-c8d1-02ee1a5b0b3e"
   },
   "outputs": [
    {
     "name": "stdout",
     "output_type": "stream",
     "text": [
      "Model: \"sequential\"\n",
      "_________________________________________________________________\n",
      "Layer (type)                 Output Shape              Param #   \n",
      "=================================================================\n",
      "Conv2D_layer1 (Conv2D)       (None, 62, 62, 64)        1792      \n",
      "_________________________________________________________________\n",
      "Maxpooling1_2D (MaxPooling2D (None, 31, 31, 64)        0         \n",
      "_________________________________________________________________\n",
      "Conv2D_layer2 (Conv2D)       (None, 29, 29, 64)        36928     \n",
      "_________________________________________________________________\n",
      "Maxpooling2_2D (MaxPooling2D (None, 14, 14, 64)        0         \n",
      "_________________________________________________________________\n",
      "Flatten (Flatten)            (None, 12544)             0         \n",
      "_________________________________________________________________\n",
      "dropout (Dropout)            (None, 12544)             0         \n",
      "_________________________________________________________________\n",
      "Hidden_layer (Dense)         (None, 64)                802880    \n",
      "_________________________________________________________________\n",
      "Output_layer (Dense)         (None, 7)                 455       \n",
      "=================================================================\n",
      "Total params: 842,055\n",
      "Trainable params: 842,055\n",
      "Non-trainable params: 0\n",
      "_________________________________________________________________\n"
     ]
    }
   ],
   "source": [
    "cnn_model.summary()"
   ]
  },
  {
   "cell_type": "code",
   "execution_count": 0,
   "metadata": {
    "colab": {},
    "colab_type": "code",
    "id": "gmba-gxOyMHh"
   },
   "outputs": [],
   "source": [
    "cnn_model.compile(optimizer='adam', loss='categorical_crossentropy',\n",
    "                  metrics=['accuracy',macro_f1score,weighted_f1score])"
   ]
  },
  {
   "cell_type": "code",
   "execution_count": 0,
   "metadata": {
    "colab": {},
    "colab_type": "code",
    "id": "DrRGtWJoyMHk"
   },
   "outputs": [],
   "source": [
    "early_stopping = EarlyStopping(monitor='val_macro_f1score', patience=3, verbose=1,mode='max')"
   ]
  },
  {
   "cell_type": "code",
   "execution_count": 26,
   "metadata": {
    "colab": {
     "base_uri": "https://localhost:8080/",
     "height": 1000
    },
    "colab_type": "code",
    "executionInfo": {
     "elapsed": 106727,
     "status": "ok",
     "timestamp": 1582956504776,
     "user": {
      "displayName": "‍이동규[ 대학원석사과정재학 / 통계학과 ]",
      "photoUrl": "",
      "userId": "08134145419451519269"
     },
     "user_tz": -540
    },
    "id": "eGGNbzpvyMHn",
    "outputId": "68a4e375-82ff-4018-b926-4f178b9a3854",
    "scrolled": true
   },
   "outputs": [
    {
     "name": "stdout",
     "output_type": "stream",
     "text": [
      "Train on 28698 samples, validate on 3589 samples\n",
      "Epoch 1/100\n",
      "28698/28698 [==============================] - 10s 336us/sample - loss: 1.6711 - acc: 0.3395 - macro_f1score: 0.0525 - weighted_f1score: 0.0102 - val_loss: 1.5394 - val_acc: 0.4205 - val_macro_f1score: 0.1052 - val_weighted_f1score: 0.0198\n",
      "Epoch 2/100\n",
      "28698/28698 [==============================] - 3s 118us/sample - loss: 1.4472 - acc: 0.4535 - macro_f1score: 0.1951 - weighted_f1score: 0.0353 - val_loss: 1.3941 - val_acc: 0.4753 - val_macro_f1score: 0.2065 - val_weighted_f1score: 0.0387\n",
      "Epoch 3/100\n",
      "28698/28698 [==============================] - 3s 118us/sample - loss: 1.3439 - acc: 0.4901 - macro_f1score: 0.2638 - weighted_f1score: 0.0467 - val_loss: 1.3421 - val_acc: 0.4804 - val_macro_f1score: 0.2763 - val_weighted_f1score: 0.0484\n",
      "Epoch 4/100\n",
      "28698/28698 [==============================] - 3s 118us/sample - loss: 1.2708 - acc: 0.5171 - macro_f1score: 0.3097 - weighted_f1score: 0.0541 - val_loss: 1.3045 - val_acc: 0.4993 - val_macro_f1score: 0.3030 - val_weighted_f1score: 0.0538\n",
      "Epoch 5/100\n",
      "28698/28698 [==============================] - 3s 120us/sample - loss: 1.2146 - acc: 0.5413 - macro_f1score: 0.3462 - weighted_f1score: 0.0599 - val_loss: 1.3120 - val_acc: 0.5001 - val_macro_f1score: 0.3165 - val_weighted_f1score: 0.0554\n",
      "Epoch 6/100\n",
      "28698/28698 [==============================] - 3s 120us/sample - loss: 1.1613 - acc: 0.5629 - macro_f1score: 0.3789 - weighted_f1score: 0.0649 - val_loss: 1.3001 - val_acc: 0.5029 - val_macro_f1score: 0.3048 - val_weighted_f1score: 0.0553\n",
      "Epoch 7/100\n",
      "28698/28698 [==============================] - 3s 118us/sample - loss: 1.1067 - acc: 0.5830 - macro_f1score: 0.4156 - weighted_f1score: 0.0699 - val_loss: 1.2561 - val_acc: 0.5191 - val_macro_f1score: 0.3393 - val_weighted_f1score: 0.0586\n",
      "Epoch 8/100\n",
      "28698/28698 [==============================] - 3s 118us/sample - loss: 1.0537 - acc: 0.6064 - macro_f1score: 0.4581 - weighted_f1score: 0.0751 - val_loss: 1.2558 - val_acc: 0.5272 - val_macro_f1score: 0.3695 - val_weighted_f1score: 0.0623\n",
      "Epoch 9/100\n",
      "28698/28698 [==============================] - 3s 117us/sample - loss: 1.0022 - acc: 0.6281 - macro_f1score: 0.4848 - weighted_f1score: 0.0794 - val_loss: 1.2682 - val_acc: 0.5233 - val_macro_f1score: 0.3983 - val_weighted_f1score: 0.0664\n",
      "Epoch 10/100\n",
      "28698/28698 [==============================] - 3s 117us/sample - loss: 0.9526 - acc: 0.6495 - macro_f1score: 0.5298 - weighted_f1score: 0.0845 - val_loss: 1.2959 - val_acc: 0.5247 - val_macro_f1score: 0.4164 - val_weighted_f1score: 0.0663\n",
      "Epoch 11/100\n",
      "28698/28698 [==============================] - 3s 118us/sample - loss: 0.9043 - acc: 0.6683 - macro_f1score: 0.5606 - weighted_f1score: 0.0880 - val_loss: 1.2774 - val_acc: 0.5350 - val_macro_f1score: 0.4377 - val_weighted_f1score: 0.0684\n",
      "Epoch 12/100\n",
      "28698/28698 [==============================] - 3s 118us/sample - loss: 0.8598 - acc: 0.6826 - macro_f1score: 0.5925 - weighted_f1score: 0.0914 - val_loss: 1.2772 - val_acc: 0.5291 - val_macro_f1score: 0.4333 - val_weighted_f1score: 0.0663\n",
      "Epoch 13/100\n",
      "28698/28698 [==============================] - 3s 118us/sample - loss: 0.8138 - acc: 0.6990 - macro_f1score: 0.6194 - weighted_f1score: 0.0945 - val_loss: 1.3231 - val_acc: 0.5249 - val_macro_f1score: 0.4278 - val_weighted_f1score: 0.0697\n",
      "Epoch 14/100\n",
      "28698/28698 [==============================] - 3s 120us/sample - loss: 0.7716 - acc: 0.7172 - macro_f1score: 0.6414 - weighted_f1score: 0.0980 - val_loss: 1.3508 - val_acc: 0.5272 - val_macro_f1score: 0.4472 - val_weighted_f1score: 0.0698\n",
      "Epoch 15/100\n",
      "28698/28698 [==============================] - 4s 122us/sample - loss: 0.7357 - acc: 0.7286 - macro_f1score: 0.6618 - weighted_f1score: 0.1003 - val_loss: 1.3886 - val_acc: 0.5305 - val_macro_f1score: 0.4495 - val_weighted_f1score: 0.0709\n",
      "Epoch 16/100\n",
      "28698/28698 [==============================] - 3s 121us/sample - loss: 0.6905 - acc: 0.7484 - macro_f1score: 0.6871 - weighted_f1score: 0.1037 - val_loss: 1.4241 - val_acc: 0.5325 - val_macro_f1score: 0.4673 - val_weighted_f1score: 0.0732\n",
      "Epoch 17/100\n",
      "28698/28698 [==============================] - 3s 120us/sample - loss: 0.6607 - acc: 0.7576 - macro_f1score: 0.7029 - weighted_f1score: 0.1058 - val_loss: 1.4194 - val_acc: 0.5297 - val_macro_f1score: 0.4575 - val_weighted_f1score: 0.0717\n",
      "Epoch 18/100\n",
      "28698/28698 [==============================] - 3s 117us/sample - loss: 0.6278 - acc: 0.7701 - macro_f1score: 0.7155 - weighted_f1score: 0.1074 - val_loss: 1.4873 - val_acc: 0.5322 - val_macro_f1score: 0.4754 - val_weighted_f1score: 0.0729\n",
      "Epoch 19/100\n",
      "28698/28698 [==============================] - 3s 119us/sample - loss: 0.5933 - acc: 0.7837 - macro_f1score: 0.7399 - weighted_f1score: 0.1098 - val_loss: 1.4827 - val_acc: 0.5325 - val_macro_f1score: 0.4712 - val_weighted_f1score: 0.0733\n",
      "Epoch 20/100\n",
      "28698/28698 [==============================] - 3s 119us/sample - loss: 0.5633 - acc: 0.7940 - macro_f1score: 0.7562 - weighted_f1score: 0.1120 - val_loss: 1.5972 - val_acc: 0.5249 - val_macro_f1score: 0.4690 - val_weighted_f1score: 0.0731\n",
      "Epoch 21/100\n",
      "28698/28698 [==============================] - 3s 119us/sample - loss: 0.5307 - acc: 0.8067 - macro_f1score: 0.7680 - weighted_f1score: 0.1141 - val_loss: 1.5509 - val_acc: 0.5286 - val_macro_f1score: 0.4790 - val_weighted_f1score: 0.0729\n",
      "Epoch 22/100\n",
      "28698/28698 [==============================] - 3s 120us/sample - loss: 0.5112 - acc: 0.8174 - macro_f1score: 0.7831 - weighted_f1score: 0.1155 - val_loss: 1.5950 - val_acc: 0.5327 - val_macro_f1score: 0.4767 - val_weighted_f1score: 0.0745\n",
      "Epoch 23/100\n",
      "28698/28698 [==============================] - 3s 119us/sample - loss: 0.4972 - acc: 0.8202 - macro_f1score: 0.7800 - weighted_f1score: 0.1161 - val_loss: 1.6347 - val_acc: 0.5261 - val_macro_f1score: 0.4691 - val_weighted_f1score: 0.0755\n",
      "Epoch 24/100\n",
      "28698/28698 [==============================] - 3s 119us/sample - loss: 0.4747 - acc: 0.8249 - macro_f1score: 0.7945 - weighted_f1score: 0.1172 - val_loss: 1.6587 - val_acc: 0.5358 - val_macro_f1score: 0.5055 - val_weighted_f1score: 0.0768\n",
      "Epoch 25/100\n",
      "28698/28698 [==============================] - 3s 119us/sample - loss: 0.4508 - acc: 0.8363 - macro_f1score: 0.7972 - weighted_f1score: 0.1184 - val_loss: 1.7118 - val_acc: 0.5355 - val_macro_f1score: 0.4802 - val_weighted_f1score: 0.0763\n",
      "Epoch 26/100\n",
      "28698/28698 [==============================] - 3s 119us/sample - loss: 0.4310 - acc: 0.8438 - macro_f1score: 0.8100 - weighted_f1score: 0.1199 - val_loss: 1.7800 - val_acc: 0.5408 - val_macro_f1score: 0.4839 - val_weighted_f1score: 0.0763\n",
      "Epoch 27/100\n",
      "28698/28698 [==============================] - 3s 119us/sample - loss: 0.4174 - acc: 0.8493 - macro_f1score: 0.8147 - weighted_f1score: 0.1206 - val_loss: 1.7640 - val_acc: 0.5327 - val_macro_f1score: 0.4759 - val_weighted_f1score: 0.0747\n",
      "Epoch 00027: early stopping\n"
     ]
    },
    {
     "data": {
      "text/plain": [
       "<tensorflow.python.keras.callbacks.History at 0x7fe7e65c73c8>"
      ]
     },
     "execution_count": 26,
     "metadata": {
      "tags": []
     },
     "output_type": "execute_result"
    }
   ],
   "source": [
    "cnn_model.fit(x_train_zoom,y_train, validation_data=(x_valid_zoom,y_valid) ,batch_size=batch_size,epochs=epochs,callbacks=[early_stopping])"
   ]
  },
  {
   "cell_type": "code",
   "execution_count": 27,
   "metadata": {
    "colab": {
     "base_uri": "https://localhost:8080/",
     "height": 71
    },
    "colab_type": "code",
    "executionInfo": {
     "elapsed": 1127,
     "status": "ok",
     "timestamp": 1582956511934,
     "user": {
      "displayName": "‍이동규[ 대학원석사과정재학 / 통계학과 ]",
      "photoUrl": "",
      "userId": "08134145419451519269"
     },
     "user_tz": -540
    },
    "id": "DVPdLntjyMHq",
    "outputId": "299a69c0-9af6-44c9-f7e6-a50738d829c6",
    "scrolled": true
   },
   "outputs": [
    {
     "name": "stdout",
     "output_type": "stream",
     "text": [
      "3588/3588 [==============================] - 0s 60us/sample - loss: 1.8693 - acc: 0.5223 - macro_f1score: 0.4650 - weighted_f1score: 0.0731\n",
      "\n",
      "Accuracy: 0.5223, Macro F1 Score: 0.4650, Weighted F1 Score: 0.0731\n"
     ]
    }
   ],
   "source": [
    "_, acc, mac_f1, wei_f1 = cnn_model.evaluate(x_test_zoom,y_test,batch_size=128)\n",
    "print(\"\\nAccuracy: {:.4f}, Macro F1 Score: {:.4f}, Weighted F1 Score: {:.4f}\".format(acc,mac_f1,wei_f1))"
   ]
  },
  {
   "cell_type": "markdown",
   "metadata": {
    "colab_type": "text",
    "id": "Cc5SwW0D5NMS"
   },
   "source": [
    "### 2) Size = 48"
   ]
  },
  {
   "cell_type": "code",
   "execution_count": 0,
   "metadata": {
    "colab": {},
    "colab_type": "code",
    "id": "LFk-_H9x7pP9"
   },
   "outputs": [],
   "source": [
    "epochs = 100\n",
    "classes = y_test.shape[1]\n",
    "size=48\n",
    "\n",
    "input_shape = (size,size,3)\n",
    "batch_size = 128\n",
    "kernel_size = (3,3) \n",
    "filters = 64 \n",
    "dropout = 0.3 "
   ]
  },
  {
   "cell_type": "code",
   "execution_count": 0,
   "metadata": {
    "colab": {},
    "colab_type": "code",
    "id": "4lapYUWF4ktb"
   },
   "outputs": [],
   "source": [
    "# CNN model\n",
    "cnn_model2 = tf.keras.models.Sequential()\n",
    "cnn_model2.add(tf.keras.layers.Conv2D(filters=filters, kernel_size=kernel_size,\n",
    "                                     activation='relu', input_shape=input_shape, strides = (1,1) , name='Conv2D_layer1'))\n",
    "cnn_model2.add(tf.keras.layers.MaxPooling2D((2, 2), name='Maxpooling1_2D'))\n",
    "cnn_model2.add(tf.keras.layers.Conv2D(filters=filters, kernel_size=kernel_size,\n",
    "                                     activation='relu',  strides = (1,1) , name='Conv2D_layer2'))\n",
    "cnn_model2.add(tf.keras.layers.MaxPooling2D((2, 2), name='Maxpooling2_2D'))\n",
    "cnn_model2.add(tf.keras.layers.Flatten(name='Flatten'))\n",
    "cnn_model2.add(tf.keras.layers.Dropout(dropout))\n",
    "cnn_model2.add(tf.keras.layers.Dense(64, activation='relu', name='Hidden_layer'))\n",
    "cnn_model2.add(tf.keras.layers.Dense(classes, activation='softmax', name='Output_layer'))"
   ]
  },
  {
   "cell_type": "code",
   "execution_count": 32,
   "metadata": {
    "colab": {
     "base_uri": "https://localhost:8080/",
     "height": 449
    },
    "colab_type": "code",
    "executionInfo": {
     "elapsed": 763,
     "status": "ok",
     "timestamp": 1582956590784,
     "user": {
      "displayName": "‍이동규[ 대학원석사과정재학 / 통계학과 ]",
      "photoUrl": "",
      "userId": "08134145419451519269"
     },
     "user_tz": -540
    },
    "id": "VKSjB0U94kz_",
    "outputId": "9a51f03f-002d-4814-f0c8-b5e09e043457"
   },
   "outputs": [
    {
     "name": "stdout",
     "output_type": "stream",
     "text": [
      "Model: \"sequential_1\"\n",
      "_________________________________________________________________\n",
      "Layer (type)                 Output Shape              Param #   \n",
      "=================================================================\n",
      "Conv2D_layer1 (Conv2D)       (None, 46, 46, 64)        1792      \n",
      "_________________________________________________________________\n",
      "Maxpooling1_2D (MaxPooling2D (None, 23, 23, 64)        0         \n",
      "_________________________________________________________________\n",
      "Conv2D_layer2 (Conv2D)       (None, 21, 21, 64)        36928     \n",
      "_________________________________________________________________\n",
      "Maxpooling2_2D (MaxPooling2D (None, 10, 10, 64)        0         \n",
      "_________________________________________________________________\n",
      "Flatten (Flatten)            (None, 6400)              0         \n",
      "_________________________________________________________________\n",
      "dropout_1 (Dropout)          (None, 6400)              0         \n",
      "_________________________________________________________________\n",
      "Hidden_layer (Dense)         (None, 64)                409664    \n",
      "_________________________________________________________________\n",
      "Output_layer (Dense)         (None, 7)                 455       \n",
      "=================================================================\n",
      "Total params: 448,839\n",
      "Trainable params: 448,839\n",
      "Non-trainable params: 0\n",
      "_________________________________________________________________\n"
     ]
    }
   ],
   "source": [
    "cnn_model2.summary()"
   ]
  },
  {
   "cell_type": "code",
   "execution_count": 0,
   "metadata": {
    "colab": {},
    "colab_type": "code",
    "id": "yVOMeynE4k3a"
   },
   "outputs": [],
   "source": [
    "cnn_model2.compile(optimizer='adam', loss='categorical_crossentropy',\n",
    "                  metrics=['accuracy',macro_f1score,weighted_f1score])"
   ]
  },
  {
   "cell_type": "code",
   "execution_count": 0,
   "metadata": {
    "colab": {},
    "colab_type": "code",
    "id": "_EJHvBDr4k55"
   },
   "outputs": [],
   "source": [
    "early_stopping = EarlyStopping(monitor='val_macro_f1score', patience=3, verbose=1,mode='max')"
   ]
  },
  {
   "cell_type": "code",
   "execution_count": 35,
   "metadata": {
    "colab": {
     "base_uri": "https://localhost:8080/",
     "height": 791
    },
    "colab_type": "code",
    "executionInfo": {
     "elapsed": 101876,
     "status": "ok",
     "timestamp": 1582956700644,
     "user": {
      "displayName": "‍이동규[ 대학원석사과정재학 / 통계학과 ]",
      "photoUrl": "",
      "userId": "08134145419451519269"
     },
     "user_tz": -540
    },
    "id": "tC5mRagd4k9I",
    "outputId": "83769bcd-96cc-46a8-bc6b-0d64be759fd8"
   },
   "outputs": [
    {
     "name": "stdout",
     "output_type": "stream",
     "text": [
      "Train on 28698 samples, validate on 3589 samples\n",
      "Epoch 1/100\n",
      "28698/28698 [==============================] - 5s 183us/sample - loss: 1.6986 - acc: 0.3239 - macro_f1score: 0.0436 - weighted_f1score: 0.0084 - val_loss: 1.5679 - val_acc: 0.3865 - val_macro_f1score: 0.1304 - val_weighted_f1score: 0.0241\n",
      "Epoch 2/100\n",
      "28698/28698 [==============================] - 5s 174us/sample - loss: 1.4966 - acc: 0.4278 - macro_f1score: 0.1567 - weighted_f1score: 0.0289 - val_loss: 1.4843 - val_acc: 0.4461 - val_macro_f1score: 0.1761 - val_weighted_f1score: 0.0325\n",
      "Epoch 3/100\n",
      "28698/28698 [==============================] - 5s 173us/sample - loss: 1.4054 - acc: 0.4665 - macro_f1score: 0.2157 - weighted_f1score: 0.0387 - val_loss: 1.3798 - val_acc: 0.4798 - val_macro_f1score: 0.2172 - val_weighted_f1score: 0.0389\n",
      "Epoch 4/100\n",
      "28698/28698 [==============================] - 5s 173us/sample - loss: 1.3454 - acc: 0.4921 - macro_f1score: 0.2534 - weighted_f1score: 0.0448 - val_loss: 1.3795 - val_acc: 0.4625 - val_macro_f1score: 0.2517 - val_weighted_f1score: 0.0481\n",
      "Epoch 5/100\n",
      "28698/28698 [==============================] - 5s 173us/sample - loss: 1.2929 - acc: 0.5102 - macro_f1score: 0.2881 - weighted_f1score: 0.0505 - val_loss: 1.3092 - val_acc: 0.4960 - val_macro_f1score: 0.2680 - val_weighted_f1score: 0.0466\n",
      "Epoch 6/100\n",
      "28698/28698 [==============================] - 5s 174us/sample - loss: 1.2456 - acc: 0.5292 - macro_f1score: 0.3173 - weighted_f1score: 0.0554 - val_loss: 1.2957 - val_acc: 0.5001 - val_macro_f1score: 0.2937 - val_weighted_f1score: 0.0544\n",
      "Epoch 7/100\n",
      "28698/28698 [==============================] - 5s 174us/sample - loss: 1.2049 - acc: 0.5446 - macro_f1score: 0.3443 - weighted_f1score: 0.0597 - val_loss: 1.2640 - val_acc: 0.5157 - val_macro_f1score: 0.3047 - val_weighted_f1score: 0.0540\n",
      "Epoch 8/100\n",
      "28698/28698 [==============================] - 5s 174us/sample - loss: 1.1676 - acc: 0.5608 - macro_f1score: 0.3685 - weighted_f1score: 0.0633 - val_loss: 1.2565 - val_acc: 0.5180 - val_macro_f1score: 0.3211 - val_weighted_f1score: 0.0564\n",
      "Epoch 9/100\n",
      "28698/28698 [==============================] - 5s 174us/sample - loss: 1.1380 - acc: 0.5708 - macro_f1score: 0.3891 - weighted_f1score: 0.0662 - val_loss: 1.2291 - val_acc: 0.5305 - val_macro_f1score: 0.3372 - val_weighted_f1score: 0.0586\n",
      "Epoch 10/100\n",
      "28698/28698 [==============================] - 5s 174us/sample - loss: 1.1078 - acc: 0.5852 - macro_f1score: 0.4119 - weighted_f1score: 0.0692 - val_loss: 1.2289 - val_acc: 0.5319 - val_macro_f1score: 0.3735 - val_weighted_f1score: 0.0633\n",
      "Epoch 11/100\n",
      "28698/28698 [==============================] - 5s 177us/sample - loss: 1.0737 - acc: 0.5960 - macro_f1score: 0.4351 - weighted_f1score: 0.0723 - val_loss: 1.2300 - val_acc: 0.5233 - val_macro_f1score: 0.3714 - val_weighted_f1score: 0.0611\n",
      "Epoch 12/100\n",
      "28698/28698 [==============================] - 5s 173us/sample - loss: 1.0434 - acc: 0.6090 - macro_f1score: 0.4606 - weighted_f1score: 0.0752 - val_loss: 1.2172 - val_acc: 0.5327 - val_macro_f1score: 0.3749 - val_weighted_f1score: 0.0620\n",
      "Epoch 13/100\n",
      "28698/28698 [==============================] - 5s 178us/sample - loss: 1.0146 - acc: 0.6209 - macro_f1score: 0.4761 - weighted_f1score: 0.0777 - val_loss: 1.2219 - val_acc: 0.5300 - val_macro_f1score: 0.3772 - val_weighted_f1score: 0.0612\n",
      "Epoch 14/100\n",
      "28698/28698 [==============================] - 5s 175us/sample - loss: 0.9879 - acc: 0.6287 - macro_f1score: 0.4992 - weighted_f1score: 0.0803 - val_loss: 1.2389 - val_acc: 0.5313 - val_macro_f1score: 0.4174 - val_weighted_f1score: 0.0691\n",
      "Epoch 15/100\n",
      "28698/28698 [==============================] - 5s 177us/sample - loss: 0.9637 - acc: 0.6383 - macro_f1score: 0.5179 - weighted_f1score: 0.0825 - val_loss: 1.2422 - val_acc: 0.5327 - val_macro_f1score: 0.4218 - val_weighted_f1score: 0.0657\n",
      "Epoch 16/100\n",
      "28698/28698 [==============================] - 5s 173us/sample - loss: 0.9433 - acc: 0.6475 - macro_f1score: 0.5309 - weighted_f1score: 0.0839 - val_loss: 1.2829 - val_acc: 0.5210 - val_macro_f1score: 0.4142 - val_weighted_f1score: 0.0668\n",
      "Epoch 17/100\n",
      "28698/28698 [==============================] - 5s 177us/sample - loss: 0.9119 - acc: 0.6598 - macro_f1score: 0.5534 - weighted_f1score: 0.0869 - val_loss: 1.2596 - val_acc: 0.5316 - val_macro_f1score: 0.4471 - val_weighted_f1score: 0.0706\n",
      "Epoch 18/100\n",
      "28698/28698 [==============================] - 5s 175us/sample - loss: 0.8894 - acc: 0.6669 - macro_f1score: 0.5692 - weighted_f1score: 0.0888 - val_loss: 1.2465 - val_acc: 0.5389 - val_macro_f1score: 0.4241 - val_weighted_f1score: 0.0703\n",
      "Epoch 19/100\n",
      "28698/28698 [==============================] - 5s 178us/sample - loss: 0.8713 - acc: 0.6761 - macro_f1score: 0.5765 - weighted_f1score: 0.0900 - val_loss: 1.2612 - val_acc: 0.5425 - val_macro_f1score: 0.4395 - val_weighted_f1score: 0.0711\n",
      "Epoch 20/100\n",
      "28698/28698 [==============================] - 5s 174us/sample - loss: 0.8515 - acc: 0.6838 - macro_f1score: 0.5918 - weighted_f1score: 0.0917 - val_loss: 1.2787 - val_acc: 0.5391 - val_macro_f1score: 0.4296 - val_weighted_f1score: 0.0673\n",
      "Epoch 00020: early stopping\n"
     ]
    },
    {
     "data": {
      "text/plain": [
       "<tensorflow.python.keras.callbacks.History at 0x7fe7a2536a20>"
      ]
     },
     "execution_count": 35,
     "metadata": {
      "tags": []
     },
     "output_type": "execute_result"
    }
   ],
   "source": [
    "cnn_model2.fit(x_train,y_train, validation_data=(x_valid,y_valid) ,batch_size=batch_size,epochs=epochs,callbacks=[early_stopping])"
   ]
  },
  {
   "cell_type": "code",
   "execution_count": 36,
   "metadata": {
    "colab": {
     "base_uri": "https://localhost:8080/",
     "height": 71
    },
    "colab_type": "code",
    "executionInfo": {
     "elapsed": 92326,
     "status": "ok",
     "timestamp": 1582956700994,
     "user": {
      "displayName": "‍이동규[ 대학원석사과정재학 / 통계학과 ]",
      "photoUrl": "",
      "userId": "08134145419451519269"
     },
     "user_tz": -540
    },
    "id": "5t_YOz8-4k_l",
    "outputId": "a7782939-5bb2-4c7e-f701-36e8151cc1cf"
   },
   "outputs": [
    {
     "name": "stdout",
     "output_type": "stream",
     "text": [
      "3588/3588 [==============================] - 0s 71us/sample - loss: 1.2895 - acc: 0.5371 - macro_f1score: 0.4326 - weighted_f1score: 0.0689\n",
      "\n",
      "Accuracy: 0.5371, Macro F1 Score: 0.4326, Weighted F1 Score: 0.0689\n"
     ]
    }
   ],
   "source": [
    "_, acc, mac_f1, wei_f1 = cnn_model2.evaluate(x_test,y_test,batch_size=128)\n",
    "print(\"\\nAccuracy: {:.4f}, Macro F1 Score: {:.4f}, Weighted F1 Score: {:.4f}\".format(acc,mac_f1,wei_f1))"
   ]
  },
  {
   "cell_type": "markdown",
   "metadata": {
    "colab_type": "text",
    "id": "iJYqQlHTFFFR"
   },
   "source": [
    "## 3. Size = 48 , No Early Stopping\n",
    "---"
   ]
  },
  {
   "cell_type": "markdown",
   "metadata": {
    "colab_type": "text",
    "id": "St20KkfUFFH8"
   },
   "source": [
    "### 1) Epoch = 50"
   ]
  },
  {
   "cell_type": "markdown",
   "metadata": {
    "colab_type": "text",
    "id": "t1zHsowRFheM"
   },
   "source": [
    "#### (1) MLP"
   ]
  },
  {
   "cell_type": "code",
   "execution_count": 0,
   "metadata": {
    "colab": {},
    "colab_type": "code",
    "id": "7Oo_jCrDGsjg"
   },
   "outputs": [],
   "source": [
    "# MLP model\n",
    "inputs = tf.keras.Input(shape=(48,48,3))\n",
    "x=tf.keras.layers.Flatten()(inputs)\n",
    "x=tf.keras.layers.Dense(units=128,activation = 'relu',name='d1')(x)\n",
    "x=tf.keras.layers.Dropout(0.3)(x)\n",
    "x=tf.keras.layers.Dense(units=512,activation = 'relu',name='d2')(x)\n",
    "x=tf.keras.layers.Dropout(0.3)(x)\n",
    "outputs = tf.keras.layers.Dense(units=7,activation = tf.nn.softmax,name='d3')(x)"
   ]
  },
  {
   "cell_type": "code",
   "execution_count": 0,
   "metadata": {
    "colab": {},
    "colab_type": "code",
    "id": "qz1jRXg_GsoB"
   },
   "outputs": [],
   "source": [
    "model = tf.keras.Model(inputs=inputs,outputs=outputs)"
   ]
  },
  {
   "cell_type": "code",
   "execution_count": 0,
   "metadata": {
    "colab": {},
    "colab_type": "code",
    "id": "C9QaWc7SGsqz"
   },
   "outputs": [],
   "source": [
    "model.compile(optimizer = tf.keras.optimizers.Adam(),\n",
    "              loss='categorical_crossentropy',metrics=['accuracy',macro_f1score,weighted_f1score])"
   ]
  },
  {
   "cell_type": "code",
   "execution_count": 40,
   "metadata": {
    "colab": {
     "base_uri": "https://localhost:8080/",
     "height": 1000
    },
    "colab_type": "code",
    "executionInfo": {
     "elapsed": 196337,
     "status": "ok",
     "timestamp": 1582956897404,
     "user": {
      "displayName": "‍이동규[ 대학원석사과정재학 / 통계학과 ]",
      "photoUrl": "",
      "userId": "08134145419451519269"
     },
     "user_tz": -540
    },
    "id": "M1qQE4aIGs1y",
    "outputId": "16fc816b-5e25-482b-941c-c3ac6b165f51"
   },
   "outputs": [
    {
     "name": "stdout",
     "output_type": "stream",
     "text": [
      "Train on 28698 samples, validate on 3589 samples\n",
      "Epoch 1/50\n",
      "28698/28698 [==============================] - 4s 134us/sample - loss: 1.8588 - acc: 0.2440 - macro_f1score: 0.0046 - weighted_f1score: 8.7411e-04 - val_loss: 1.7995 - val_acc: 0.2449 - val_macro_f1score: 0.0024 - val_weighted_f1score: 5.9226e-04\n",
      "Epoch 2/50\n",
      "28698/28698 [==============================] - 4s 129us/sample - loss: 1.8113 - acc: 0.2514 - macro_f1score: 2.3954e-04 - weighted_f1score: 5.1452e-05 - val_loss: 1.8154 - val_acc: 0.2449 - val_macro_f1score: 0.0000e+00 - val_weighted_f1score: 0.0000e+00\n",
      "Epoch 3/50\n",
      "28698/28698 [==============================] - 4s 127us/sample - loss: 1.8111 - acc: 0.2514 - macro_f1score: 0.0000e+00 - weighted_f1score: 0.0000e+00 - val_loss: 1.8153 - val_acc: 0.2449 - val_macro_f1score: 0.0000e+00 - val_weighted_f1score: 0.0000e+00\n",
      "Epoch 4/50\n",
      "28698/28698 [==============================] - 4s 127us/sample - loss: 1.8110 - acc: 0.2514 - macro_f1score: 0.0000e+00 - weighted_f1score: 0.0000e+00 - val_loss: 1.8157 - val_acc: 0.2449 - val_macro_f1score: 0.0000e+00 - val_weighted_f1score: 0.0000e+00\n",
      "Epoch 5/50\n",
      "28698/28698 [==============================] - 4s 129us/sample - loss: 1.8107 - acc: 0.2514 - macro_f1score: 0.0000e+00 - weighted_f1score: 0.0000e+00 - val_loss: 1.8150 - val_acc: 0.2449 - val_macro_f1score: 0.0000e+00 - val_weighted_f1score: 0.0000e+00\n",
      "Epoch 6/50\n",
      "28698/28698 [==============================] - 4s 128us/sample - loss: 1.8107 - acc: 0.2514 - macro_f1score: 0.0000e+00 - weighted_f1score: 0.0000e+00 - val_loss: 1.8152 - val_acc: 0.2449 - val_macro_f1score: 0.0000e+00 - val_weighted_f1score: 0.0000e+00\n",
      "Epoch 7/50\n",
      "28698/28698 [==============================] - 4s 127us/sample - loss: 1.8110 - acc: 0.2514 - macro_f1score: 5.2910e-05 - weighted_f1score: 9.5073e-06 - val_loss: 1.8158 - val_acc: 0.2449 - val_macro_f1score: 0.0000e+00 - val_weighted_f1score: 0.0000e+00\n",
      "Epoch 8/50\n",
      "28698/28698 [==============================] - 4s 129us/sample - loss: 1.8108 - acc: 0.2514 - macro_f1score: 0.0000e+00 - weighted_f1score: 0.0000e+00 - val_loss: 1.8159 - val_acc: 0.2449 - val_macro_f1score: 0.0000e+00 - val_weighted_f1score: 0.0000e+00\n",
      "Epoch 9/50\n",
      "28698/28698 [==============================] - 4s 133us/sample - loss: 1.8107 - acc: 0.2514 - macro_f1score: 1.0280e-04 - weighted_f1score: 1.9038e-05 - val_loss: 1.8151 - val_acc: 0.2449 - val_macro_f1score: 0.0000e+00 - val_weighted_f1score: 0.0000e+00\n",
      "Epoch 10/50\n",
      "28698/28698 [==============================] - 4s 130us/sample - loss: 1.8106 - acc: 0.2514 - macro_f1score: 4.2328e-05 - weighted_f1score: 9.5899e-06 - val_loss: 1.8158 - val_acc: 0.2452 - val_macro_f1score: 0.0000e+00 - val_weighted_f1score: 0.0000e+00\n",
      "Epoch 11/50\n",
      "28698/28698 [==============================] - 4s 129us/sample - loss: 1.8108 - acc: 0.2514 - macro_f1score: 9.7825e-05 - weighted_f1score: 1.9077e-05 - val_loss: 1.8152 - val_acc: 0.2449 - val_macro_f1score: 0.0000e+00 - val_weighted_f1score: 0.0000e+00\n",
      "Epoch 12/50\n",
      "28698/28698 [==============================] - 4s 129us/sample - loss: 1.8108 - acc: 0.2514 - macro_f1score: 1.2169e-04 - weighted_f1score: 1.8891e-05 - val_loss: 1.8148 - val_acc: 0.2452 - val_macro_f1score: 0.0000e+00 - val_weighted_f1score: 0.0000e+00\n",
      "Epoch 13/50\n",
      "28698/28698 [==============================] - 4s 132us/sample - loss: 1.8104 - acc: 0.2514 - macro_f1score: 1.0931e-04 - weighted_f1score: 1.8987e-05 - val_loss: 1.8156 - val_acc: 0.2452 - val_macro_f1score: 0.0000e+00 - val_weighted_f1score: 0.0000e+00\n",
      "Epoch 14/50\n",
      "28698/28698 [==============================] - 4s 130us/sample - loss: 1.8111 - acc: 0.2514 - macro_f1score: 1.0812e-04 - weighted_f1score: 1.8997e-05 - val_loss: 1.8147 - val_acc: 0.2452 - val_macro_f1score: 0.0000e+00 - val_weighted_f1score: 0.0000e+00\n",
      "Epoch 15/50\n",
      "28698/28698 [==============================] - 4s 131us/sample - loss: 1.8103 - acc: 0.2515 - macro_f1score: 1.4847e-04 - weighted_f1score: 2.8602e-05 - val_loss: 1.8156 - val_acc: 0.2452 - val_macro_f1score: 0.0000e+00 - val_weighted_f1score: 0.0000e+00\n",
      "Epoch 16/50\n",
      "28698/28698 [==============================] - 4s 137us/sample - loss: 1.8104 - acc: 0.2514 - macro_f1score: 8.9139e-05 - weighted_f1score: 1.9145e-05 - val_loss: 1.8154 - val_acc: 0.2452 - val_macro_f1score: 0.0000e+00 - val_weighted_f1score: 0.0000e+00\n",
      "Epoch 17/50\n",
      "28698/28698 [==============================] - 4s 137us/sample - loss: 1.8106 - acc: 0.2515 - macro_f1score: 1.4884e-04 - weighted_f1score: 2.8599e-05 - val_loss: 1.8149 - val_acc: 0.2452 - val_macro_f1score: 0.0000e+00 - val_weighted_f1score: 0.0000e+00\n",
      "Epoch 18/50\n",
      "28698/28698 [==============================] - 4s 142us/sample - loss: 1.8105 - acc: 0.2514 - macro_f1score: 4.2328e-05 - weighted_f1score: 9.5899e-06 - val_loss: 1.8150 - val_acc: 0.2452 - val_macro_f1score: 0.0000e+00 - val_weighted_f1score: 0.0000e+00\n",
      "Epoch 19/50\n",
      "28698/28698 [==============================] - 4s 139us/sample - loss: 1.8105 - acc: 0.2514 - macro_f1score: 6.0469e-05 - weighted_f1score: 9.4482e-06 - val_loss: 1.8148 - val_acc: 0.2452 - val_macro_f1score: 0.0000e+00 - val_weighted_f1score: 0.0000e+00\n",
      "Epoch 20/50\n",
      "28698/28698 [==============================] - 4s 141us/sample - loss: 1.8106 - acc: 0.2515 - macro_f1score: 1.1293e-04 - weighted_f1score: 1.8959e-05 - val_loss: 1.8161 - val_acc: 0.2452 - val_macro_f1score: 0.0000e+00 - val_weighted_f1score: 0.0000e+00\n",
      "Epoch 21/50\n",
      "28698/28698 [==============================] - 4s 139us/sample - loss: 1.8101 - acc: 0.2515 - macro_f1score: 2.6410e-04 - weighted_f1score: 3.7619e-05 - val_loss: 1.8157 - val_acc: 0.2452 - val_macro_f1score: 0.0000e+00 - val_weighted_f1score: 0.0000e+00\n",
      "Epoch 22/50\n",
      "28698/28698 [==============================] - 4s 138us/sample - loss: 1.8103 - acc: 0.2515 - macro_f1score: 2.1238e-04 - weighted_f1score: 2.8103e-05 - val_loss: 1.8154 - val_acc: 0.2452 - val_macro_f1score: 0.0000e+00 - val_weighted_f1score: 0.0000e+00\n",
      "Epoch 23/50\n",
      "28698/28698 [==============================] - 4s 137us/sample - loss: 1.8104 - acc: 0.2515 - macro_f1score: 2.5415e-04 - weighted_f1score: 3.7697e-05 - val_loss: 1.8157 - val_acc: 0.2452 - val_macro_f1score: 0.0000e+00 - val_weighted_f1score: 0.0000e+00\n",
      "Epoch 24/50\n",
      "28698/28698 [==============================] - 4s 138us/sample - loss: 1.8108 - acc: 0.2515 - macro_f1score: 1.6524e-04 - weighted_f1score: 2.8471e-05 - val_loss: 1.8148 - val_acc: 0.2452 - val_macro_f1score: 0.0000e+00 - val_weighted_f1score: 0.0000e+00\n",
      "Epoch 25/50\n",
      "28698/28698 [==============================] - 4s 137us/sample - loss: 1.8106 - acc: 0.2515 - macro_f1score: 2.0580e-04 - weighted_f1score: 2.8154e-05 - val_loss: 1.8159 - val_acc: 0.2452 - val_macro_f1score: 0.0000e+00 - val_weighted_f1score: 0.0000e+00\n",
      "Epoch 26/50\n",
      "28698/28698 [==============================] - 4s 136us/sample - loss: 1.8103 - acc: 0.2515 - macro_f1score: 2.2933e-04 - weighted_f1score: 3.7891e-05 - val_loss: 1.8152 - val_acc: 0.2452 - val_macro_f1score: 0.0000e+00 - val_weighted_f1score: 0.0000e+00\n",
      "Epoch 27/50\n",
      "28698/28698 [==============================] - 4s 138us/sample - loss: 1.8100 - acc: 0.2516 - macro_f1score: 3.1746e-04 - weighted_f1score: 4.7123e-05 - val_loss: 1.8156 - val_acc: 0.2452 - val_macro_f1score: 0.0000e+00 - val_weighted_f1score: 0.0000e+00\n",
      "Epoch 28/50\n",
      "28698/28698 [==============================] - 4s 139us/sample - loss: 1.8103 - acc: 0.2514 - macro_f1score: 1.1204e-04 - weighted_f1score: 1.8966e-05 - val_loss: 1.8152 - val_acc: 0.2452 - val_macro_f1score: 0.0000e+00 - val_weighted_f1score: 0.0000e+00\n",
      "Epoch 29/50\n",
      "28698/28698 [==============================] - 4s 138us/sample - loss: 1.8104 - acc: 0.2515 - macro_f1score: 2.7336e-04 - weighted_f1score: 3.7547e-05 - val_loss: 1.8155 - val_acc: 0.2452 - val_macro_f1score: 0.0000e+00 - val_weighted_f1score: 0.0000e+00\n",
      "Epoch 30/50\n",
      "28698/28698 [==============================] - 4s 138us/sample - loss: 1.8101 - acc: 0.2514 - macro_f1score: 9.6750e-05 - weighted_f1score: 1.9085e-05 - val_loss: 1.8152 - val_acc: 0.2452 - val_macro_f1score: 0.0000e+00 - val_weighted_f1score: 0.0000e+00\n",
      "Epoch 31/50\n",
      "28698/28698 [==============================] - 4s 142us/sample - loss: 1.8103 - acc: 0.2515 - macro_f1score: 1.9213e-04 - weighted_f1score: 2.8261e-05 - val_loss: 1.8155 - val_acc: 0.2452 - val_macro_f1score: 0.0000e+00 - val_weighted_f1score: 0.0000e+00\n",
      "Epoch 32/50\n",
      "28698/28698 [==============================] - 4s 139us/sample - loss: 1.8103 - acc: 0.2515 - macro_f1score: 3.0640e-04 - weighted_f1score: 3.7289e-05 - val_loss: 1.8154 - val_acc: 0.2452 - val_macro_f1score: 0.0000e+00 - val_weighted_f1score: 0.0000e+00\n",
      "Epoch 33/50\n",
      "28698/28698 [==============================] - 4s 142us/sample - loss: 1.8106 - acc: 0.2515 - macro_f1score: 2.1336e-04 - weighted_f1score: 2.8095e-05 - val_loss: 1.8159 - val_acc: 0.2452 - val_macro_f1score: 0.0000e+00 - val_weighted_f1score: 0.0000e+00\n",
      "Epoch 34/50\n",
      "28698/28698 [==============================] - 4s 137us/sample - loss: 1.8100 - acc: 0.2515 - macro_f1score: 1.6859e-04 - weighted_f1score: 2.8445e-05 - val_loss: 1.8158 - val_acc: 0.2452 - val_macro_f1score: 0.0000e+00 - val_weighted_f1score: 0.0000e+00\n",
      "Epoch 35/50\n",
      "28698/28698 [==============================] - 4s 137us/sample - loss: 1.8104 - acc: 0.2514 - macro_f1score: 1.4147e-04 - weighted_f1score: 1.8736e-05 - val_loss: 1.8156 - val_acc: 0.2452 - val_macro_f1score: 0.0000e+00 - val_weighted_f1score: 0.0000e+00\n",
      "Epoch 36/50\n",
      "28698/28698 [==============================] - 4s 137us/sample - loss: 1.8099 - acc: 0.2516 - macro_f1score: 2.7732e-04 - weighted_f1score: 4.7437e-05 - val_loss: 1.8148 - val_acc: 0.2452 - val_macro_f1score: 0.0000e+00 - val_weighted_f1score: 0.0000e+00\n",
      "Epoch 37/50\n",
      "28698/28698 [==============================] - 4s 137us/sample - loss: 1.8106 - acc: 0.2514 - macro_f1score: 1.0931e-04 - weighted_f1score: 1.8987e-05 - val_loss: 1.8147 - val_acc: 0.2452 - val_macro_f1score: 0.0000e+00 - val_weighted_f1score: 0.0000e+00\n",
      "Epoch 38/50\n",
      "28698/28698 [==============================] - 4s 138us/sample - loss: 1.8100 - acc: 0.2516 - macro_f1score: 3.2441e-04 - weighted_f1score: 4.7069e-05 - val_loss: 1.8158 - val_acc: 0.2452 - val_macro_f1score: 0.0000e+00 - val_weighted_f1score: 0.0000e+00\n",
      "Epoch 39/50\n",
      "28698/28698 [==============================] - 4s 137us/sample - loss: 1.8101 - acc: 0.2516 - macro_f1score: 2.3641e-04 - weighted_f1score: 3.7836e-05 - val_loss: 1.8156 - val_acc: 0.2452 - val_macro_f1score: 3.3973e-04 - val_weighted_f1score: 7.4316e-05\n",
      "Epoch 40/50\n",
      "28698/28698 [==============================] - 4s 139us/sample - loss: 1.8105 - acc: 0.2515 - macro_f1score: 2.4910e-04 - weighted_f1score: 4.6467e-05 - val_loss: 1.8154 - val_acc: 0.2449 - val_macro_f1score: 0.0000e+00 - val_weighted_f1score: 0.0000e+00\n",
      "Epoch 41/50\n",
      "28698/28698 [==============================] - 4s 137us/sample - loss: 1.8103 - acc: 0.2514 - macro_f1score: 1.3738e-04 - weighted_f1score: 1.8768e-05 - val_loss: 1.8153 - val_acc: 0.2449 - val_macro_f1score: 0.0000e+00 - val_weighted_f1score: 0.0000e+00\n",
      "Epoch 42/50\n",
      "28698/28698 [==============================] - 4s 136us/sample - loss: 1.8101 - acc: 0.2515 - macro_f1score: 1.9221e-04 - weighted_f1score: 2.8260e-05 - val_loss: 1.8150 - val_acc: 0.2449 - val_macro_f1score: 0.0000e+00 - val_weighted_f1score: 0.0000e+00\n",
      "Epoch 43/50\n",
      "28698/28698 [==============================] - 4s 138us/sample - loss: 1.8103 - acc: 0.2514 - macro_f1score: 6.6834e-05 - weighted_f1score: 9.3985e-06 - val_loss: 1.8154 - val_acc: 0.2449 - val_macro_f1score: 0.0000e+00 - val_weighted_f1score: 0.0000e+00\n",
      "Epoch 44/50\n",
      "28698/28698 [==============================] - 4s 138us/sample - loss: 1.8104 - acc: 0.2515 - macro_f1score: 2.2452e-04 - weighted_f1score: 2.8008e-05 - val_loss: 1.8153 - val_acc: 0.2449 - val_macro_f1score: 0.0000e+00 - val_weighted_f1score: 0.0000e+00\n",
      "Epoch 45/50\n",
      "28698/28698 [==============================] - 4s 138us/sample - loss: 1.8100 - acc: 0.2515 - macro_f1score: 2.3672e-04 - weighted_f1score: 3.7833e-05 - val_loss: 1.8151 - val_acc: 0.2449 - val_macro_f1score: 0.0000e+00 - val_weighted_f1score: 0.0000e+00\n",
      "Epoch 46/50\n",
      "28698/28698 [==============================] - 4s 141us/sample - loss: 1.8104 - acc: 0.2515 - macro_f1score: 1.9762e-04 - weighted_f1score: 2.8218e-05 - val_loss: 1.8150 - val_acc: 0.2449 - val_macro_f1score: 0.0000e+00 - val_weighted_f1score: 0.0000e+00\n",
      "Epoch 47/50\n",
      "28698/28698 [==============================] - 4s 138us/sample - loss: 1.8099 - acc: 0.2515 - macro_f1score: 2.0678e-04 - weighted_f1score: 3.8067e-05 - val_loss: 1.8157 - val_acc: 0.2449 - val_macro_f1score: 0.0000e+00 - val_weighted_f1score: 0.0000e+00\n",
      "Epoch 48/50\n",
      "28698/28698 [==============================] - 4s 142us/sample - loss: 1.8100 - acc: 0.2516 - macro_f1score: 2.6902e-04 - weighted_f1score: 4.7501e-05 - val_loss: 1.8153 - val_acc: 0.2449 - val_macro_f1score: 0.0000e+00 - val_weighted_f1score: 0.0000e+00\n",
      "Epoch 49/50\n",
      "28698/28698 [==============================] - 4s 138us/sample - loss: 1.8100 - acc: 0.2515 - macro_f1score: 2.4885e-04 - weighted_f1score: 3.7738e-05 - val_loss: 1.8150 - val_acc: 0.2449 - val_macro_f1score: 0.0000e+00 - val_weighted_f1score: 0.0000e+00\n",
      "Epoch 50/50\n",
      "28698/28698 [==============================] - 4s 136us/sample - loss: 1.8101 - acc: 0.2515 - macro_f1score: 2.5769e-04 - weighted_f1score: 3.7669e-05 - val_loss: 1.8158 - val_acc: 0.2449 - val_macro_f1score: 0.0000e+00 - val_weighted_f1score: 0.0000e+00\n"
     ]
    },
    {
     "data": {
      "text/plain": [
       "<tensorflow.python.keras.callbacks.History at 0x7fe7a18cdf28>"
      ]
     },
     "execution_count": 40,
     "metadata": {
      "tags": []
     },
     "output_type": "execute_result"
    }
   ],
   "source": [
    "model.fit(x_train,y_train,batch_size=128, validation_data=(x_valid,y_valid) , epochs=50) "
   ]
  },
  {
   "cell_type": "code",
   "execution_count": 41,
   "metadata": {
    "colab": {
     "base_uri": "https://localhost:8080/",
     "height": 71
    },
    "colab_type": "code",
    "executionInfo": {
     "elapsed": 196614,
     "status": "ok",
     "timestamp": 1582956897694,
     "user": {
      "displayName": "‍이동규[ 대학원석사과정재학 / 통계학과 ]",
      "photoUrl": "",
      "userId": "08134145419451519269"
     },
     "user_tz": -540
    },
    "id": "e9wIBOBTGszx",
    "outputId": "873aa75e-ad05-426f-fd28-e1f0977830c2"
   },
   "outputs": [
    {
     "name": "stdout",
     "output_type": "stream",
     "text": [
      "3588/3588 [==============================] - 0s 53us/sample - loss: 1.8112 - acc: 0.2494 - macro_f1score: 0.0000e+00 - weighted_f1score: 0.0000e+00\n",
      "\n",
      "Accuracy: 0.2494, Macro F1 Score: 0.0000, Weighted F1 Score: 0.0000\n"
     ]
    }
   ],
   "source": [
    "_, acc, mac_f1, wei_f1 = model.evaluate(x_test,y_test,batch_size=128)\n",
    "print(\"\\nAccuracy: {:.4f}, Macro F1 Score: {:.4f}, Weighted F1 Score: {:.4f}\".format(acc,mac_f1,wei_f1))"
   ]
  },
  {
   "cell_type": "markdown",
   "metadata": {
    "colab_type": "text",
    "id": "ZnBf8RuTFl1R"
   },
   "source": [
    "#### (2) Simple CNN"
   ]
  },
  {
   "cell_type": "code",
   "execution_count": 0,
   "metadata": {
    "colab": {},
    "colab_type": "code",
    "id": "zBrdFLUMOVTJ"
   },
   "outputs": [],
   "source": [
    "# early stopping 없이 \n",
    "epochs = 50\n",
    "classes = y_test.shape[1]\n",
    "size=48\n",
    "\n",
    "input_shape = (size,size,3)\n",
    "batch_size = 128\n",
    "kernel_size = (3,3) \n",
    "filters = 64 \n",
    "dropout = 0.3 "
   ]
  },
  {
   "cell_type": "code",
   "execution_count": 0,
   "metadata": {
    "colab": {},
    "colab_type": "code",
    "id": "sPz1lX70OVO_"
   },
   "outputs": [],
   "source": [
    "# CNN model\n",
    "cnn_model2 = tf.keras.models.Sequential()\n",
    "cnn_model2.add(tf.keras.layers.Conv2D(filters=filters, kernel_size=kernel_size,\n",
    "                                     activation='relu', input_shape=input_shape, strides = (1,1) , name='Conv2D_layer1'))\n",
    "cnn_model2.add(tf.keras.layers.MaxPooling2D((2, 2), name='Maxpooling1_2D'))\n",
    "cnn_model2.add(tf.keras.layers.Conv2D(filters=filters, kernel_size=kernel_size,\n",
    "                                     activation='relu',  strides = (1,1) , name='Conv2D_layer2'))\n",
    "cnn_model2.add(tf.keras.layers.MaxPooling2D((2, 2), name='Maxpooling2_2D'))\n",
    "cnn_model2.add(tf.keras.layers.Flatten(name='Flatten'))\n",
    "cnn_model2.add(tf.keras.layers.Dropout(dropout))\n",
    "cnn_model2.add(tf.keras.layers.Dense(64, activation='relu', name='Hidden_layer'))\n",
    "cnn_model2.add(tf.keras.layers.Dense(classes, activation='softmax', name='Output_layer'))"
   ]
  },
  {
   "cell_type": "code",
   "execution_count": 0,
   "metadata": {
    "colab": {},
    "colab_type": "code",
    "id": "aPWu2_MjOVNF"
   },
   "outputs": [],
   "source": [
    "cnn_model2.compile(optimizer='adam', loss='categorical_crossentropy',\n",
    "                  metrics=['accuracy',macro_f1score,weighted_f1score])"
   ]
  },
  {
   "cell_type": "code",
   "execution_count": 45,
   "metadata": {
    "colab": {
     "base_uri": "https://localhost:8080/",
     "height": 1000
    },
    "colab_type": "code",
    "executionInfo": {
     "elapsed": 457449,
     "status": "ok",
     "timestamp": 1582957158550,
     "user": {
      "displayName": "‍이동규[ 대학원석사과정재학 / 통계학과 ]",
      "photoUrl": "",
      "userId": "08134145419451519269"
     },
     "user_tz": -540
    },
    "id": "wcwCE6BFOVLy",
    "outputId": "a112fdf1-7c70-47fa-ee1c-9aef520b8d0e"
   },
   "outputs": [
    {
     "name": "stdout",
     "output_type": "stream",
     "text": [
      "Train on 28698 samples, validate on 3589 samples\n",
      "Epoch 1/50\n",
      "28698/28698 [==============================] - 5s 191us/sample - loss: 1.6717 - acc: 0.3387 - macro_f1score: 0.0563 - weighted_f1score: 0.0113 - val_loss: 1.5254 - val_acc: 0.4230 - val_macro_f1score: 0.1236 - val_weighted_f1score: 0.0237\n",
      "Epoch 2/50\n",
      "28698/28698 [==============================] - 5s 184us/sample - loss: 1.4779 - acc: 0.4344 - macro_f1score: 0.1670 - weighted_f1score: 0.0313 - val_loss: 1.4173 - val_acc: 0.4614 - val_macro_f1score: 0.2073 - val_weighted_f1score: 0.0371\n",
      "Epoch 3/50\n",
      "28698/28698 [==============================] - 5s 183us/sample - loss: 1.3905 - acc: 0.4692 - macro_f1score: 0.2218 - weighted_f1score: 0.0397 - val_loss: 1.3668 - val_acc: 0.4706 - val_macro_f1score: 0.2502 - val_weighted_f1score: 0.0452\n",
      "Epoch 4/50\n",
      "28698/28698 [==============================] - 5s 183us/sample - loss: 1.3205 - acc: 0.4972 - macro_f1score: 0.2656 - weighted_f1score: 0.0471 - val_loss: 1.3071 - val_acc: 0.4987 - val_macro_f1score: 0.2559 - val_weighted_f1score: 0.0467\n",
      "Epoch 5/50\n",
      "28698/28698 [==============================] - 5s 182us/sample - loss: 1.2736 - acc: 0.5180 - macro_f1score: 0.2933 - weighted_f1score: 0.0516 - val_loss: 1.3155 - val_acc: 0.4921 - val_macro_f1score: 0.2877 - val_weighted_f1score: 0.0524\n",
      "Epoch 6/50\n",
      "28698/28698 [==============================] - 5s 183us/sample - loss: 1.2341 - acc: 0.5322 - macro_f1score: 0.3208 - weighted_f1score: 0.0559 - val_loss: 1.2663 - val_acc: 0.5052 - val_macro_f1score: 0.2825 - val_weighted_f1score: 0.0511\n",
      "Epoch 7/50\n",
      "28698/28698 [==============================] - 5s 182us/sample - loss: 1.1929 - acc: 0.5484 - macro_f1score: 0.3508 - weighted_f1score: 0.0601 - val_loss: 1.2453 - val_acc: 0.5171 - val_macro_f1score: 0.3369 - val_weighted_f1score: 0.0597\n",
      "Epoch 8/50\n",
      "28698/28698 [==============================] - 5s 182us/sample - loss: 1.1538 - acc: 0.5623 - macro_f1score: 0.3804 - weighted_f1score: 0.0643 - val_loss: 1.2466 - val_acc: 0.5185 - val_macro_f1score: 0.3339 - val_weighted_f1score: 0.0593\n",
      "Epoch 9/50\n",
      "28698/28698 [==============================] - 5s 183us/sample - loss: 1.1241 - acc: 0.5737 - macro_f1score: 0.4000 - weighted_f1score: 0.0670 - val_loss: 1.2443 - val_acc: 0.5208 - val_macro_f1score: 0.3604 - val_weighted_f1score: 0.0591\n",
      "Epoch 10/50\n",
      "28698/28698 [==============================] - 5s 185us/sample - loss: 1.0885 - acc: 0.5893 - macro_f1score: 0.4233 - weighted_f1score: 0.0700 - val_loss: 1.2218 - val_acc: 0.5274 - val_macro_f1score: 0.3469 - val_weighted_f1score: 0.0602\n",
      "Epoch 11/50\n",
      "28698/28698 [==============================] - 5s 181us/sample - loss: 1.0626 - acc: 0.6022 - macro_f1score: 0.4422 - weighted_f1score: 0.0725 - val_loss: 1.2384 - val_acc: 0.5313 - val_macro_f1score: 0.3828 - val_weighted_f1score: 0.0632\n",
      "Epoch 12/50\n",
      "28698/28698 [==============================] - 5s 181us/sample - loss: 1.0258 - acc: 0.6149 - macro_f1score: 0.4726 - weighted_f1score: 0.0763 - val_loss: 1.2213 - val_acc: 0.5453 - val_macro_f1score: 0.4007 - val_weighted_f1score: 0.0648\n",
      "Epoch 13/50\n",
      "28698/28698 [==============================] - 5s 182us/sample - loss: 1.0009 - acc: 0.6254 - macro_f1score: 0.4901 - weighted_f1score: 0.0789 - val_loss: 1.2378 - val_acc: 0.5308 - val_macro_f1score: 0.3945 - val_weighted_f1score: 0.0626\n",
      "Epoch 14/50\n",
      "28698/28698 [==============================] - 5s 182us/sample - loss: 0.9699 - acc: 0.6360 - macro_f1score: 0.5195 - weighted_f1score: 0.0817 - val_loss: 1.2173 - val_acc: 0.5430 - val_macro_f1score: 0.4094 - val_weighted_f1score: 0.0665\n",
      "Epoch 15/50\n",
      "28698/28698 [==============================] - 5s 183us/sample - loss: 0.9457 - acc: 0.6485 - macro_f1score: 0.5355 - weighted_f1score: 0.0839 - val_loss: 1.2522 - val_acc: 0.5442 - val_macro_f1score: 0.4325 - val_weighted_f1score: 0.0681\n",
      "Epoch 16/50\n",
      "28698/28698 [==============================] - 5s 181us/sample - loss: 0.9212 - acc: 0.6584 - macro_f1score: 0.5470 - weighted_f1score: 0.0862 - val_loss: 1.2295 - val_acc: 0.5458 - val_macro_f1score: 0.4166 - val_weighted_f1score: 0.0673\n",
      "Epoch 17/50\n",
      "28698/28698 [==============================] - 5s 183us/sample - loss: 0.9022 - acc: 0.6675 - macro_f1score: 0.5631 - weighted_f1score: 0.0881 - val_loss: 1.2446 - val_acc: 0.5478 - val_macro_f1score: 0.4445 - val_weighted_f1score: 0.0713\n",
      "Epoch 18/50\n",
      "28698/28698 [==============================] - 5s 184us/sample - loss: 0.8748 - acc: 0.6747 - macro_f1score: 0.5808 - weighted_f1score: 0.0898 - val_loss: 1.2560 - val_acc: 0.5419 - val_macro_f1score: 0.4305 - val_weighted_f1score: 0.0698\n",
      "Epoch 19/50\n",
      "28698/28698 [==============================] - 5s 182us/sample - loss: 0.8511 - acc: 0.6851 - macro_f1score: 0.5889 - weighted_f1score: 0.0913 - val_loss: 1.2684 - val_acc: 0.5350 - val_macro_f1score: 0.4325 - val_weighted_f1score: 0.0704\n",
      "Epoch 20/50\n",
      "28698/28698 [==============================] - 5s 184us/sample - loss: 0.8273 - acc: 0.6937 - macro_f1score: 0.6075 - weighted_f1score: 0.0934 - val_loss: 1.2863 - val_acc: 0.5352 - val_macro_f1score: 0.4293 - val_weighted_f1score: 0.0703\n",
      "Epoch 21/50\n",
      "28698/28698 [==============================] - 5s 184us/sample - loss: 0.8119 - acc: 0.6976 - macro_f1score: 0.6133 - weighted_f1score: 0.0944 - val_loss: 1.3144 - val_acc: 0.5294 - val_macro_f1score: 0.4439 - val_weighted_f1score: 0.0708\n",
      "Epoch 22/50\n",
      "28698/28698 [==============================] - 5s 182us/sample - loss: 0.7844 - acc: 0.7135 - macro_f1score: 0.6312 - weighted_f1score: 0.0970 - val_loss: 1.3109 - val_acc: 0.5469 - val_macro_f1score: 0.4533 - val_weighted_f1score: 0.0738\n",
      "Epoch 23/50\n",
      "28698/28698 [==============================] - 5s 183us/sample - loss: 0.7690 - acc: 0.7152 - macro_f1score: 0.6350 - weighted_f1score: 0.0979 - val_loss: 1.3194 - val_acc: 0.5350 - val_macro_f1score: 0.4581 - val_weighted_f1score: 0.0715\n",
      "Epoch 24/50\n",
      "28698/28698 [==============================] - 5s 182us/sample - loss: 0.7528 - acc: 0.7213 - macro_f1score: 0.6461 - weighted_f1score: 0.0990 - val_loss: 1.3557 - val_acc: 0.5308 - val_macro_f1score: 0.4394 - val_weighted_f1score: 0.0703\n",
      "Epoch 25/50\n",
      "28698/28698 [==============================] - 5s 181us/sample - loss: 0.7358 - acc: 0.7275 - macro_f1score: 0.6541 - weighted_f1score: 0.1004 - val_loss: 1.3429 - val_acc: 0.5428 - val_macro_f1score: 0.4595 - val_weighted_f1score: 0.0730\n",
      "Epoch 26/50\n",
      "28698/28698 [==============================] - 5s 182us/sample - loss: 0.7152 - acc: 0.7348 - macro_f1score: 0.6669 - weighted_f1score: 0.1019 - val_loss: 1.3883 - val_acc: 0.5366 - val_macro_f1score: 0.4653 - val_weighted_f1score: 0.0725\n",
      "Epoch 27/50\n",
      "28698/28698 [==============================] - 5s 183us/sample - loss: 0.7064 - acc: 0.7406 - macro_f1score: 0.6699 - weighted_f1score: 0.1028 - val_loss: 1.3763 - val_acc: 0.5333 - val_macro_f1score: 0.4570 - val_weighted_f1score: 0.0717\n",
      "Epoch 28/50\n",
      "28698/28698 [==============================] - 5s 183us/sample - loss: 0.6938 - acc: 0.7404 - macro_f1score: 0.6788 - weighted_f1score: 0.1027 - val_loss: 1.3855 - val_acc: 0.5327 - val_macro_f1score: 0.4632 - val_weighted_f1score: 0.0718\n",
      "Epoch 29/50\n",
      "28698/28698 [==============================] - 5s 183us/sample - loss: 0.6765 - acc: 0.7515 - macro_f1score: 0.6857 - weighted_f1score: 0.1040 - val_loss: 1.4178 - val_acc: 0.5403 - val_macro_f1score: 0.4759 - val_weighted_f1score: 0.0747\n",
      "Epoch 30/50\n",
      "28698/28698 [==============================] - 5s 183us/sample - loss: 0.6590 - acc: 0.7555 - macro_f1score: 0.6942 - weighted_f1score: 0.1057 - val_loss: 1.4335 - val_acc: 0.5386 - val_macro_f1score: 0.4737 - val_weighted_f1score: 0.0730\n",
      "Epoch 31/50\n",
      "28698/28698 [==============================] - 5s 183us/sample - loss: 0.6475 - acc: 0.7639 - macro_f1score: 0.7000 - weighted_f1score: 0.1066 - val_loss: 1.4525 - val_acc: 0.5436 - val_macro_f1score: 0.4586 - val_weighted_f1score: 0.0714\n",
      "Epoch 32/50\n",
      "28698/28698 [==============================] - 5s 183us/sample - loss: 0.6320 - acc: 0.7689 - macro_f1score: 0.7053 - weighted_f1score: 0.1076 - val_loss: 1.4313 - val_acc: 0.5380 - val_macro_f1score: 0.4724 - val_weighted_f1score: 0.0726\n",
      "Epoch 33/50\n",
      "28698/28698 [==============================] - 5s 184us/sample - loss: 0.6153 - acc: 0.7736 - macro_f1score: 0.7209 - weighted_f1score: 0.1082 - val_loss: 1.4791 - val_acc: 0.5305 - val_macro_f1score: 0.4711 - val_weighted_f1score: 0.0735\n",
      "Epoch 34/50\n",
      "28698/28698 [==============================] - 5s 182us/sample - loss: 0.6109 - acc: 0.7765 - macro_f1score: 0.7265 - weighted_f1score: 0.1091 - val_loss: 1.4902 - val_acc: 0.5366 - val_macro_f1score: 0.4751 - val_weighted_f1score: 0.0739\n",
      "Epoch 35/50\n",
      "28698/28698 [==============================] - 5s 184us/sample - loss: 0.5971 - acc: 0.7778 - macro_f1score: 0.7251 - weighted_f1score: 0.1093 - val_loss: 1.5004 - val_acc: 0.5394 - val_macro_f1score: 0.4820 - val_weighted_f1score: 0.0750\n",
      "Epoch 36/50\n",
      "28698/28698 [==============================] - 5s 185us/sample - loss: 0.5913 - acc: 0.7829 - macro_f1score: 0.7333 - weighted_f1score: 0.1102 - val_loss: 1.5328 - val_acc: 0.5386 - val_macro_f1score: 0.4709 - val_weighted_f1score: 0.0736\n",
      "Epoch 37/50\n",
      "28698/28698 [==============================] - 5s 184us/sample - loss: 0.5710 - acc: 0.7933 - macro_f1score: 0.7429 - weighted_f1score: 0.1115 - val_loss: 1.5354 - val_acc: 0.5316 - val_macro_f1score: 0.4771 - val_weighted_f1score: 0.0748\n",
      "Epoch 38/50\n",
      "28698/28698 [==============================] - 5s 182us/sample - loss: 0.5592 - acc: 0.7944 - macro_f1score: 0.7464 - weighted_f1score: 0.1120 - val_loss: 1.5395 - val_acc: 0.5394 - val_macro_f1score: 0.4854 - val_weighted_f1score: 0.0753\n",
      "Epoch 39/50\n",
      "28698/28698 [==============================] - 5s 175us/sample - loss: 0.5472 - acc: 0.7985 - macro_f1score: 0.7548 - weighted_f1score: 0.1129 - val_loss: 1.5651 - val_acc: 0.5403 - val_macro_f1score: 0.4709 - val_weighted_f1score: 0.0748\n",
      "Epoch 40/50\n",
      "28698/28698 [==============================] - 5s 174us/sample - loss: 0.5422 - acc: 0.8024 - macro_f1score: 0.7570 - weighted_f1score: 0.1132 - val_loss: 1.5965 - val_acc: 0.5272 - val_macro_f1score: 0.4761 - val_weighted_f1score: 0.0725\n",
      "Epoch 41/50\n",
      "28698/28698 [==============================] - 5s 175us/sample - loss: 0.5395 - acc: 0.8023 - macro_f1score: 0.7597 - weighted_f1score: 0.1136 - val_loss: 1.5848 - val_acc: 0.5344 - val_macro_f1score: 0.4702 - val_weighted_f1score: 0.0745\n",
      "Epoch 42/50\n",
      "28698/28698 [==============================] - 5s 174us/sample - loss: 0.5215 - acc: 0.8096 - macro_f1score: 0.7610 - weighted_f1score: 0.1144 - val_loss: 1.6101 - val_acc: 0.5375 - val_macro_f1score: 0.4995 - val_weighted_f1score: 0.0742\n",
      "Epoch 43/50\n",
      "28698/28698 [==============================] - 5s 176us/sample - loss: 0.5107 - acc: 0.8136 - macro_f1score: 0.7705 - weighted_f1score: 0.1151 - val_loss: 1.6840 - val_acc: 0.5411 - val_macro_f1score: 0.4714 - val_weighted_f1score: 0.0760\n",
      "Epoch 44/50\n",
      "28698/28698 [==============================] - 5s 174us/sample - loss: 0.5039 - acc: 0.8141 - macro_f1score: 0.7688 - weighted_f1score: 0.1154 - val_loss: 1.6811 - val_acc: 0.5294 - val_macro_f1score: 0.4712 - val_weighted_f1score: 0.0731\n",
      "Epoch 45/50\n",
      "28698/28698 [==============================] - 5s 175us/sample - loss: 0.4896 - acc: 0.8201 - macro_f1score: 0.7792 - weighted_f1score: 0.1161 - val_loss: 1.6455 - val_acc: 0.5361 - val_macro_f1score: 0.4912 - val_weighted_f1score: 0.0752\n",
      "Epoch 46/50\n",
      "28698/28698 [==============================] - 5s 174us/sample - loss: 0.4935 - acc: 0.8198 - macro_f1score: 0.7769 - weighted_f1score: 0.1164 - val_loss: 1.6649 - val_acc: 0.5269 - val_macro_f1score: 0.4768 - val_weighted_f1score: 0.0733\n",
      "Epoch 47/50\n",
      "28698/28698 [==============================] - 5s 174us/sample - loss: 0.4792 - acc: 0.8231 - macro_f1score: 0.7795 - weighted_f1score: 0.1167 - val_loss: 1.6695 - val_acc: 0.5364 - val_macro_f1score: 0.4815 - val_weighted_f1score: 0.0740\n",
      "Epoch 48/50\n",
      "28698/28698 [==============================] - 5s 174us/sample - loss: 0.4705 - acc: 0.8275 - macro_f1score: 0.7920 - weighted_f1score: 0.1176 - val_loss: 1.7167 - val_acc: 0.5291 - val_macro_f1score: 0.4734 - val_weighted_f1score: 0.0742\n",
      "Epoch 49/50\n",
      "28698/28698 [==============================] - 5s 175us/sample - loss: 0.4716 - acc: 0.8272 - macro_f1score: 0.7841 - weighted_f1score: 0.1174 - val_loss: 1.7033 - val_acc: 0.5411 - val_macro_f1score: 0.4822 - val_weighted_f1score: 0.0772\n",
      "Epoch 50/50\n",
      "28698/28698 [==============================] - 5s 173us/sample - loss: 0.4577 - acc: 0.8344 - macro_f1score: 0.7954 - weighted_f1score: 0.1186 - val_loss: 1.7199 - val_acc: 0.5339 - val_macro_f1score: 0.4753 - val_weighted_f1score: 0.0755\n"
     ]
    },
    {
     "data": {
      "text/plain": [
       "<tensorflow.python.keras.callbacks.History at 0x7fe7a16b3fd0>"
      ]
     },
     "execution_count": 45,
     "metadata": {
      "tags": []
     },
     "output_type": "execute_result"
    }
   ],
   "source": [
    "cnn_model2.fit(x_train,y_train, validation_data=(x_valid,y_valid) ,batch_size=batch_size,epochs=epochs)"
   ]
  },
  {
   "cell_type": "code",
   "execution_count": 46,
   "metadata": {
    "colab": {
     "base_uri": "https://localhost:8080/",
     "height": 71
    },
    "colab_type": "code",
    "executionInfo": {
     "elapsed": 457440,
     "status": "ok",
     "timestamp": 1582957158553,
     "user": {
      "displayName": "‍이동규[ 대학원석사과정재학 / 통계학과 ]",
      "photoUrl": "",
      "userId": "08134145419451519269"
     },
     "user_tz": -540
    },
    "id": "eoik6vDvOVJ6",
    "outputId": "005c1f1c-3e8c-4c64-fb4e-3fa7d65cd31b"
   },
   "outputs": [
    {
     "name": "stdout",
     "output_type": "stream",
     "text": [
      "3588/3588 [==============================] - 0s 63us/sample - loss: 1.6452 - acc: 0.5446 - macro_f1score: 0.4846 - weighted_f1score: 0.0750\n",
      "\n",
      "Accuracy: 0.5446, Macro F1 Score: 0.4846, Weighted F1 Score: 0.0750\n"
     ]
    }
   ],
   "source": [
    "_, acc, mac_f1, wei_f1 = cnn_model2.evaluate(x_test,y_test,batch_size=128)\n",
    "print(\"\\nAccuracy: {:.4f}, Macro F1 Score: {:.4f}, Weighted F1 Score: {:.4f}\".format(acc,mac_f1,wei_f1))"
   ]
  },
  {
   "cell_type": "markdown",
   "metadata": {
    "colab_type": "text",
    "id": "GgGqQkR6F40J"
   },
   "source": [
    "### 2) Epoch = 100"
   ]
  },
  {
   "cell_type": "markdown",
   "metadata": {
    "colab_type": "text",
    "id": "zGlzf1aOF5hB"
   },
   "source": [
    "#### (1) MLP"
   ]
  },
  {
   "cell_type": "code",
   "execution_count": 0,
   "metadata": {
    "colab": {},
    "colab_type": "code",
    "id": "Orv4LwlYOVDD"
   },
   "outputs": [],
   "source": [
    "# MLP model\n",
    "inputs = tf.keras.Input(shape=(48,48,3))\n",
    "x=tf.keras.layers.Flatten()(inputs)\n",
    "x=tf.keras.layers.Dense(units=128,activation = 'relu',name='d1')(x)\n",
    "x=tf.keras.layers.Dropout(0.3)(x)\n",
    "x=tf.keras.layers.Dense(units=512,activation = 'relu',name='d2')(x)\n",
    "x=tf.keras.layers.Dropout(0.3)(x)\n",
    "outputs = tf.keras.layers.Dense(units=7,activation = tf.nn.softmax,name='d3')(x)"
   ]
  },
  {
   "cell_type": "code",
   "execution_count": 0,
   "metadata": {
    "colab": {},
    "colab_type": "code",
    "id": "rOpu1WlZFp4S"
   },
   "outputs": [],
   "source": [
    "model = tf.keras.Model(inputs=inputs,outputs=outputs)"
   ]
  },
  {
   "cell_type": "code",
   "execution_count": 0,
   "metadata": {
    "colab": {},
    "colab_type": "code",
    "id": "R3kP8bkaFqCX"
   },
   "outputs": [],
   "source": [
    "model.compile(optimizer = tf.keras.optimizers.Adam(),\n",
    "              loss='categorical_crossentropy',metrics=['accuracy',macro_f1score,weighted_f1score])"
   ]
  },
  {
   "cell_type": "code",
   "execution_count": 50,
   "metadata": {
    "colab": {
     "base_uri": "https://localhost:8080/",
     "height": 1000
    },
    "colab_type": "code",
    "executionInfo": {
     "elapsed": 832173,
     "status": "ok",
     "timestamp": 1582957533306,
     "user": {
      "displayName": "‍이동규[ 대학원석사과정재학 / 통계학과 ]",
      "photoUrl": "",
      "userId": "08134145419451519269"
     },
     "user_tz": -540
    },
    "id": "4uwnUzwKFqGy",
    "outputId": "8fc08529-c15f-40c4-88bb-9e8c7b9714dd"
   },
   "outputs": [
    {
     "name": "stdout",
     "output_type": "stream",
     "text": [
      "Train on 28698 samples, validate on 3589 samples\n",
      "Epoch 1/100\n",
      "28698/28698 [==============================] - 4s 138us/sample - loss: 1.8380 - acc: 0.2465 - macro_f1score: 0.0051 - weighted_f1score: 0.0012 - val_loss: 1.8014 - val_acc: 0.2449 - val_macro_f1score: 0.0000e+00 - val_weighted_f1score: 0.0000e+00\n",
      "Epoch 2/100\n",
      "28698/28698 [==============================] - 4s 129us/sample - loss: 1.8052 - acc: 0.2501 - macro_f1score: 0.0036 - weighted_f1score: 9.4075e-04 - val_loss: 1.8167 - val_acc: 0.2449 - val_macro_f1score: 0.0000e+00 - val_weighted_f1score: 0.0000e+00\n",
      "Epoch 3/100\n",
      "28698/28698 [==============================] - 4s 132us/sample - loss: 1.8106 - acc: 0.2514 - macro_f1score: 0.0000e+00 - weighted_f1score: 0.0000e+00 - val_loss: 1.8159 - val_acc: 0.2449 - val_macro_f1score: 0.0000e+00 - val_weighted_f1score: 0.0000e+00\n",
      "Epoch 4/100\n",
      "28698/28698 [==============================] - 4s 129us/sample - loss: 1.8111 - acc: 0.2514 - macro_f1score: 0.0000e+00 - weighted_f1score: 0.0000e+00 - val_loss: 1.8158 - val_acc: 0.2449 - val_macro_f1score: 0.0000e+00 - val_weighted_f1score: 0.0000e+00\n",
      "Epoch 5/100\n",
      "28698/28698 [==============================] - 4s 130us/sample - loss: 1.8114 - acc: 0.2514 - macro_f1score: 0.0000e+00 - weighted_f1score: 0.0000e+00 - val_loss: 1.8159 - val_acc: 0.2449 - val_macro_f1score: 0.0000e+00 - val_weighted_f1score: 0.0000e+00\n",
      "Epoch 6/100\n",
      "28698/28698 [==============================] - 4s 134us/sample - loss: 1.8112 - acc: 0.2514 - macro_f1score: 5.5210e-05 - weighted_f1score: 9.4893e-06 - val_loss: 1.8158 - val_acc: 0.2449 - val_macro_f1score: 0.0000e+00 - val_weighted_f1score: 0.0000e+00\n",
      "Epoch 7/100\n",
      "28698/28698 [==============================] - 4s 128us/sample - loss: 1.8107 - acc: 0.2514 - macro_f1score: 0.0000e+00 - weighted_f1score: 0.0000e+00 - val_loss: 1.8158 - val_acc: 0.2449 - val_macro_f1score: 0.0000e+00 - val_weighted_f1score: 0.0000e+00\n",
      "Epoch 8/100\n",
      "28698/28698 [==============================] - 4s 133us/sample - loss: 1.8109 - acc: 0.2514 - macro_f1score: 0.0000e+00 - weighted_f1score: 0.0000e+00 - val_loss: 1.8154 - val_acc: 0.2449 - val_macro_f1score: 0.0000e+00 - val_weighted_f1score: 0.0000e+00\n",
      "Epoch 9/100\n",
      "28698/28698 [==============================] - 4s 129us/sample - loss: 1.8110 - acc: 0.2514 - macro_f1score: 0.0000e+00 - weighted_f1score: 0.0000e+00 - val_loss: 1.8149 - val_acc: 0.2449 - val_macro_f1score: 0.0000e+00 - val_weighted_f1score: 0.0000e+00\n",
      "Epoch 10/100\n",
      "28698/28698 [==============================] - 4s 129us/sample - loss: 1.8104 - acc: 0.2514 - macro_f1score: 0.0000e+00 - weighted_f1score: 0.0000e+00 - val_loss: 1.8162 - val_acc: 0.2449 - val_macro_f1score: 0.0000e+00 - val_weighted_f1score: 0.0000e+00\n",
      "Epoch 11/100\n",
      "28698/28698 [==============================] - 4s 128us/sample - loss: 1.8106 - acc: 0.2514 - macro_f1score: 2.0606e-04 - weighted_f1score: 4.7521e-05 - val_loss: 1.8154 - val_acc: 0.2449 - val_macro_f1score: 0.0000e+00 - val_weighted_f1score: 0.0000e+00\n",
      "Epoch 12/100\n",
      "28698/28698 [==============================] - 4s 130us/sample - loss: 1.8105 - acc: 0.2514 - macro_f1score: 0.0000e+00 - weighted_f1score: 0.0000e+00 - val_loss: 1.8156 - val_acc: 0.2449 - val_macro_f1score: 0.0000e+00 - val_weighted_f1score: 0.0000e+00\n",
      "Epoch 13/100\n",
      "28698/28698 [==============================] - 4s 129us/sample - loss: 1.8108 - acc: 0.2514 - macro_f1score: 0.0000e+00 - weighted_f1score: 0.0000e+00 - val_loss: 1.8153 - val_acc: 0.2449 - val_macro_f1score: 0.0000e+00 - val_weighted_f1score: 0.0000e+00\n",
      "Epoch 14/100\n",
      "28698/28698 [==============================] - 4s 130us/sample - loss: 1.8111 - acc: 0.2514 - macro_f1score: 0.0000e+00 - weighted_f1score: 0.0000e+00 - val_loss: 1.8153 - val_acc: 0.2449 - val_macro_f1score: 0.0000e+00 - val_weighted_f1score: 0.0000e+00\n",
      "Epoch 15/100\n",
      "28698/28698 [==============================] - 4s 129us/sample - loss: 1.8108 - acc: 0.2514 - macro_f1score: 0.0000e+00 - weighted_f1score: 0.0000e+00 - val_loss: 1.8154 - val_acc: 0.2449 - val_macro_f1score: 0.0000e+00 - val_weighted_f1score: 0.0000e+00\n",
      "Epoch 16/100\n",
      "28698/28698 [==============================] - 4s 130us/sample - loss: 1.8105 - acc: 0.2514 - macro_f1score: 0.0000e+00 - weighted_f1score: 0.0000e+00 - val_loss: 1.8161 - val_acc: 0.2449 - val_macro_f1score: 0.0000e+00 - val_weighted_f1score: 0.0000e+00\n",
      "Epoch 17/100\n",
      "28698/28698 [==============================] - 4s 129us/sample - loss: 1.8107 - acc: 0.2514 - macro_f1score: 0.0000e+00 - weighted_f1score: 0.0000e+00 - val_loss: 1.8154 - val_acc: 0.2449 - val_macro_f1score: 0.0000e+00 - val_weighted_f1score: 0.0000e+00\n",
      "Epoch 18/100\n",
      "28698/28698 [==============================] - 4s 130us/sample - loss: 1.8109 - acc: 0.2514 - macro_f1score: 0.0000e+00 - weighted_f1score: 0.0000e+00 - val_loss: 1.8155 - val_acc: 0.2449 - val_macro_f1score: 0.0000e+00 - val_weighted_f1score: 0.0000e+00\n",
      "Epoch 19/100\n",
      "28698/28698 [==============================] - 4s 133us/sample - loss: 1.8106 - acc: 0.2514 - macro_f1score: 0.0000e+00 - weighted_f1score: 0.0000e+00 - val_loss: 1.8167 - val_acc: 0.2449 - val_macro_f1score: 0.0000e+00 - val_weighted_f1score: 0.0000e+00\n",
      "Epoch 20/100\n",
      "28698/28698 [==============================] - 4s 131us/sample - loss: 1.8105 - acc: 0.2514 - macro_f1score: 0.0000e+00 - weighted_f1score: 0.0000e+00 - val_loss: 1.8151 - val_acc: 0.2449 - val_macro_f1score: 0.0000e+00 - val_weighted_f1score: 0.0000e+00\n",
      "Epoch 21/100\n",
      "28698/28698 [==============================] - 4s 129us/sample - loss: 1.8103 - acc: 0.2514 - macro_f1score: 0.0000e+00 - weighted_f1score: 0.0000e+00 - val_loss: 1.8150 - val_acc: 0.2449 - val_macro_f1score: 0.0000e+00 - val_weighted_f1score: 0.0000e+00\n",
      "Epoch 22/100\n",
      "28698/28698 [==============================] - 4s 133us/sample - loss: 1.8108 - acc: 0.2514 - macro_f1score: 7.4697e-05 - weighted_f1score: 9.3371e-06 - val_loss: 1.8153 - val_acc: 0.2449 - val_macro_f1score: 0.0000e+00 - val_weighted_f1score: 0.0000e+00\n",
      "Epoch 23/100\n",
      "28698/28698 [==============================] - 4s 129us/sample - loss: 1.8108 - acc: 0.2514 - macro_f1score: 0.0000e+00 - weighted_f1score: 0.0000e+00 - val_loss: 1.8151 - val_acc: 0.2449 - val_macro_f1score: 0.0000e+00 - val_weighted_f1score: 0.0000e+00\n",
      "Epoch 24/100\n",
      "28698/28698 [==============================] - 4s 133us/sample - loss: 1.8105 - acc: 0.2512 - macro_f1score: 0.0000e+00 - weighted_f1score: 0.0000e+00 - val_loss: 1.8150 - val_acc: 0.2449 - val_macro_f1score: 0.0000e+00 - val_weighted_f1score: 0.0000e+00\n",
      "Epoch 25/100\n",
      "28698/28698 [==============================] - 4s 128us/sample - loss: 1.8107 - acc: 0.2514 - macro_f1score: 0.0000e+00 - weighted_f1score: 0.0000e+00 - val_loss: 1.8150 - val_acc: 0.2449 - val_macro_f1score: 0.0000e+00 - val_weighted_f1score: 0.0000e+00\n",
      "Epoch 26/100\n",
      "28698/28698 [==============================] - 4s 128us/sample - loss: 1.8106 - acc: 0.2514 - macro_f1score: 6.3492e-05 - weighted_f1score: 9.4246e-06 - val_loss: 1.8154 - val_acc: 0.2449 - val_macro_f1score: 0.0000e+00 - val_weighted_f1score: 0.0000e+00\n",
      "Epoch 27/100\n",
      "28698/28698 [==============================] - 4s 129us/sample - loss: 1.8106 - acc: 0.2514 - macro_f1score: 1.1568e-04 - weighted_f1score: 1.8938e-05 - val_loss: 1.8151 - val_acc: 0.2449 - val_macro_f1score: 0.0000e+00 - val_weighted_f1score: 0.0000e+00\n",
      "Epoch 28/100\n",
      "28698/28698 [==============================] - 4s 129us/sample - loss: 1.8103 - acc: 0.2514 - macro_f1score: 1.5285e-04 - weighted_f1score: 1.8647e-05 - val_loss: 1.8153 - val_acc: 0.2449 - val_macro_f1score: 0.0000e+00 - val_weighted_f1score: 0.0000e+00\n",
      "Epoch 29/100\n",
      "28698/28698 [==============================] - 4s 131us/sample - loss: 1.8106 - acc: 0.2514 - macro_f1score: 5.0794e-05 - weighted_f1score: 9.5238e-06 - val_loss: 1.8154 - val_acc: 0.2449 - val_macro_f1score: 0.0000e+00 - val_weighted_f1score: 0.0000e+00\n",
      "Epoch 30/100\n",
      "28698/28698 [==============================] - 4s 129us/sample - loss: 1.8105 - acc: 0.2514 - macro_f1score: 1.1293e-04 - weighted_f1score: 1.8959e-05 - val_loss: 1.8153 - val_acc: 0.2449 - val_macro_f1score: 0.0000e+00 - val_weighted_f1score: 0.0000e+00\n",
      "Epoch 31/100\n",
      "28698/28698 [==============================] - 4s 129us/sample - loss: 1.8103 - acc: 0.2514 - macro_f1score: 5.7720e-05 - weighted_f1score: 9.4697e-06 - val_loss: 1.8154 - val_acc: 0.2449 - val_macro_f1score: 0.0000e+00 - val_weighted_f1score: 0.0000e+00\n",
      "Epoch 32/100\n",
      "28698/28698 [==============================] - 4s 131us/sample - loss: 1.8105 - acc: 0.2514 - macro_f1score: 1.1763e-04 - weighted_f1score: 1.8922e-05 - val_loss: 1.8155 - val_acc: 0.2449 - val_macro_f1score: 0.0000e+00 - val_weighted_f1score: 0.0000e+00\n",
      "Epoch 33/100\n",
      "28698/28698 [==============================] - 4s 129us/sample - loss: 1.8105 - acc: 0.2514 - macro_f1score: 1.3404e-04 - weighted_f1score: 1.8794e-05 - val_loss: 1.8148 - val_acc: 0.2449 - val_macro_f1score: 0.0000e+00 - val_weighted_f1score: 0.0000e+00\n",
      "Epoch 34/100\n",
      "28698/28698 [==============================] - 4s 130us/sample - loss: 1.8103 - acc: 0.2514 - macro_f1score: 1.2354e-04 - weighted_f1score: 1.8876e-05 - val_loss: 1.8153 - val_acc: 0.2449 - val_macro_f1score: 0.0000e+00 - val_weighted_f1score: 0.0000e+00\n",
      "Epoch 35/100\n",
      "28698/28698 [==============================] - 4s 132us/sample - loss: 1.8104 - acc: 0.2514 - macro_f1score: 1.7316e-04 - weighted_f1score: 1.8488e-05 - val_loss: 1.8155 - val_acc: 0.2449 - val_macro_f1score: 0.0000e+00 - val_weighted_f1score: 0.0000e+00\n",
      "Epoch 36/100\n",
      "28698/28698 [==============================] - 4s 129us/sample - loss: 1.8104 - acc: 0.2514 - macro_f1score: 7.9365e-05 - weighted_f1score: 9.3006e-06 - val_loss: 1.8158 - val_acc: 0.2449 - val_macro_f1score: 0.0000e+00 - val_weighted_f1score: 0.0000e+00\n",
      "Epoch 37/100\n",
      "28698/28698 [==============================] - 4s 130us/sample - loss: 1.8107 - acc: 0.2514 - macro_f1score: 1.5406e-04 - weighted_f1score: 1.8638e-05 - val_loss: 1.8153 - val_acc: 0.2449 - val_macro_f1score: 0.0000e+00 - val_weighted_f1score: 0.0000e+00\n",
      "Epoch 38/100\n",
      "28698/28698 [==============================] - 4s 135us/sample - loss: 1.8104 - acc: 0.2514 - macro_f1score: 1.3517e-04 - weighted_f1score: 1.8785e-05 - val_loss: 1.8153 - val_acc: 0.2449 - val_macro_f1score: 0.0000e+00 - val_weighted_f1score: 0.0000e+00\n",
      "Epoch 39/100\n",
      "28698/28698 [==============================] - 4s 130us/sample - loss: 1.8105 - acc: 0.2514 - macro_f1score: 1.4991e-04 - weighted_f1score: 1.8670e-05 - val_loss: 1.8153 - val_acc: 0.2449 - val_macro_f1score: 0.0000e+00 - val_weighted_f1score: 0.0000e+00\n",
      "Epoch 40/100\n",
      "28698/28698 [==============================] - 4s 134us/sample - loss: 1.8103 - acc: 0.2514 - macro_f1score: 1.0931e-04 - weighted_f1score: 1.8987e-05 - val_loss: 1.8151 - val_acc: 0.2449 - val_macro_f1score: 0.0000e+00 - val_weighted_f1score: 0.0000e+00\n",
      "Epoch 41/100\n",
      "28698/28698 [==============================] - 4s 129us/sample - loss: 1.8102 - acc: 0.2514 - macro_f1score: 1.0851e-04 - weighted_f1score: 1.8994e-05 - val_loss: 1.8154 - val_acc: 0.2449 - val_macro_f1score: 0.0000e+00 - val_weighted_f1score: 0.0000e+00\n",
      "Epoch 42/100\n",
      "28698/28698 [==============================] - 4s 129us/sample - loss: 1.8104 - acc: 0.2514 - macro_f1score: 0.0000e+00 - weighted_f1score: 0.0000e+00 - val_loss: 1.8166 - val_acc: 0.2449 - val_macro_f1score: 0.0000e+00 - val_weighted_f1score: 0.0000e+00\n",
      "Epoch 43/100\n",
      "28698/28698 [==============================] - 4s 129us/sample - loss: 1.8103 - acc: 0.2514 - macro_f1score: 1.2455e-04 - weighted_f1score: 1.8868e-05 - val_loss: 1.8154 - val_acc: 0.2449 - val_macro_f1score: 0.0000e+00 - val_weighted_f1score: 0.0000e+00\n",
      "Epoch 44/100\n",
      "28698/28698 [==============================] - 4s 128us/sample - loss: 1.8103 - acc: 0.2514 - macro_f1score: 1.4153e-04 - weighted_f1score: 1.8736e-05 - val_loss: 1.8151 - val_acc: 0.2449 - val_macro_f1score: 0.0000e+00 - val_weighted_f1score: 0.0000e+00\n",
      "Epoch 45/100\n",
      "28698/28698 [==============================] - 4s 128us/sample - loss: 1.8101 - acc: 0.2514 - macro_f1score: 7.9365e-05 - weighted_f1score: 9.3006e-06 - val_loss: 1.8154 - val_acc: 0.2449 - val_macro_f1score: 0.0000e+00 - val_weighted_f1score: 0.0000e+00\n",
      "Epoch 46/100\n",
      "28698/28698 [==============================] - 4s 129us/sample - loss: 1.8104 - acc: 0.2514 - macro_f1score: 1.0812e-04 - weighted_f1score: 1.8997e-05 - val_loss: 1.8157 - val_acc: 0.2449 - val_macro_f1score: 0.0000e+00 - val_weighted_f1score: 0.0000e+00\n",
      "Epoch 47/100\n",
      "28698/28698 [==============================] - 4s 129us/sample - loss: 1.8101 - acc: 0.2514 - macro_f1score: 1.3757e-04 - weighted_f1score: 1.8767e-05 - val_loss: 1.8152 - val_acc: 0.2449 - val_macro_f1score: 0.0000e+00 - val_weighted_f1score: 0.0000e+00\n",
      "Epoch 48/100\n",
      "28698/28698 [==============================] - 4s 130us/sample - loss: 1.8101 - acc: 0.2514 - macro_f1score: 1.3517e-04 - weighted_f1score: 1.8785e-05 - val_loss: 1.8151 - val_acc: 0.2449 - val_macro_f1score: 0.0000e+00 - val_weighted_f1score: 0.0000e+00\n",
      "Epoch 49/100\n",
      "28698/28698 [==============================] - 4s 128us/sample - loss: 1.8107 - acc: 0.2514 - macro_f1score: 6.6834e-05 - weighted_f1score: 9.3985e-06 - val_loss: 1.8150 - val_acc: 0.2449 - val_macro_f1score: 0.0000e+00 - val_weighted_f1score: 0.0000e+00\n",
      "Epoch 50/100\n",
      "28698/28698 [==============================] - 4s 131us/sample - loss: 1.8101 - acc: 0.2514 - macro_f1score: 1.4153e-04 - weighted_f1score: 1.8736e-05 - val_loss: 1.8151 - val_acc: 0.2449 - val_macro_f1score: 0.0000e+00 - val_weighted_f1score: 0.0000e+00\n",
      "Epoch 51/100\n",
      "28698/28698 [==============================] - 4s 133us/sample - loss: 1.8106 - acc: 0.2514 - macro_f1score: 5.7720e-05 - weighted_f1score: 9.4697e-06 - val_loss: 1.8152 - val_acc: 0.2449 - val_macro_f1score: 0.0000e+00 - val_weighted_f1score: 0.0000e+00\n",
      "Epoch 52/100\n",
      "28698/28698 [==============================] - 4s 128us/sample - loss: 1.8103 - acc: 0.2514 - macro_f1score: 8.4656e-05 - weighted_f1score: 9.2593e-06 - val_loss: 1.8152 - val_acc: 0.2449 - val_macro_f1score: 0.0000e+00 - val_weighted_f1score: 0.0000e+00\n",
      "Epoch 53/100\n",
      "28698/28698 [==============================] - 4s 129us/sample - loss: 1.8100 - acc: 0.2514 - macro_f1score: 1.3016e-04 - weighted_f1score: 1.8824e-05 - val_loss: 1.8151 - val_acc: 0.2449 - val_macro_f1score: 0.0000e+00 - val_weighted_f1score: 0.0000e+00\n",
      "Epoch 54/100\n",
      "28698/28698 [==============================] - 4s 133us/sample - loss: 1.8106 - acc: 0.2514 - macro_f1score: 6.6834e-05 - weighted_f1score: 9.3985e-06 - val_loss: 1.8151 - val_acc: 0.2449 - val_macro_f1score: 0.0000e+00 - val_weighted_f1score: 0.0000e+00\n",
      "Epoch 55/100\n",
      "28698/28698 [==============================] - 4s 129us/sample - loss: 1.8104 - acc: 0.2514 - macro_f1score: 1.4238e-04 - weighted_f1score: 1.8729e-05 - val_loss: 1.8157 - val_acc: 0.2449 - val_macro_f1score: 0.0000e+00 - val_weighted_f1score: 0.0000e+00\n",
      "Epoch 56/100\n",
      "28698/28698 [==============================] - 4s 133us/sample - loss: 1.8104 - acc: 0.2514 - macro_f1score: 5.7720e-05 - weighted_f1score: 9.4697e-06 - val_loss: 1.8152 - val_acc: 0.2449 - val_macro_f1score: 0.0000e+00 - val_weighted_f1score: 0.0000e+00\n",
      "Epoch 57/100\n",
      "28698/28698 [==============================] - 4s 129us/sample - loss: 1.8104 - acc: 0.2514 - macro_f1score: 1.0056e-04 - weighted_f1score: 1.9056e-05 - val_loss: 1.8154 - val_acc: 0.2449 - val_macro_f1score: 0.0000e+00 - val_weighted_f1score: 0.0000e+00\n",
      "Epoch 58/100\n",
      "28698/28698 [==============================] - 4s 129us/sample - loss: 1.8105 - acc: 0.2514 - macro_f1score: 7.9365e-05 - weighted_f1score: 9.3006e-06 - val_loss: 1.8151 - val_acc: 0.2449 - val_macro_f1score: 0.0000e+00 - val_weighted_f1score: 0.0000e+00\n",
      "Epoch 59/100\n",
      "28698/28698 [==============================] - 4s 128us/sample - loss: 1.8101 - acc: 0.2514 - macro_f1score: 6.6834e-05 - weighted_f1score: 9.3985e-06 - val_loss: 1.8162 - val_acc: 0.2449 - val_macro_f1score: 0.0000e+00 - val_weighted_f1score: 0.0000e+00\n",
      "Epoch 60/100\n",
      "28698/28698 [==============================] - 4s 127us/sample - loss: 1.8101 - acc: 0.2514 - macro_f1score: 6.3492e-05 - weighted_f1score: 9.4246e-06 - val_loss: 1.8153 - val_acc: 0.2449 - val_macro_f1score: 0.0000e+00 - val_weighted_f1score: 0.0000e+00\n",
      "Epoch 61/100\n",
      "28698/28698 [==============================] - 4s 130us/sample - loss: 1.8103 - acc: 0.2514 - macro_f1score: 1.3016e-04 - weighted_f1score: 1.8824e-05 - val_loss: 1.8154 - val_acc: 0.2449 - val_macro_f1score: 0.0000e+00 - val_weighted_f1score: 0.0000e+00\n",
      "Epoch 62/100\n",
      "28698/28698 [==============================] - 4s 131us/sample - loss: 1.8103 - acc: 0.2514 - macro_f1score: 6.0469e-05 - weighted_f1score: 9.4482e-06 - val_loss: 1.8155 - val_acc: 0.2449 - val_macro_f1score: 0.0000e+00 - val_weighted_f1score: 0.0000e+00\n",
      "Epoch 63/100\n",
      "28698/28698 [==============================] - 4s 133us/sample - loss: 1.8104 - acc: 0.2514 - macro_f1score: 7.9365e-05 - weighted_f1score: 9.3006e-06 - val_loss: 1.8160 - val_acc: 0.2449 - val_macro_f1score: 0.0000e+00 - val_weighted_f1score: 0.0000e+00\n",
      "Epoch 64/100\n",
      "28698/28698 [==============================] - 4s 133us/sample - loss: 1.8104 - acc: 0.2514 - macro_f1score: 6.3492e-05 - weighted_f1score: 9.4246e-06 - val_loss: 1.8161 - val_acc: 0.2449 - val_macro_f1score: 0.0000e+00 - val_weighted_f1score: 0.0000e+00\n",
      "Epoch 65/100\n",
      "28698/28698 [==============================] - 4s 130us/sample - loss: 1.8105 - acc: 0.2514 - macro_f1score: 1.3033e-04 - weighted_f1score: 1.8823e-05 - val_loss: 1.8160 - val_acc: 0.2449 - val_macro_f1score: 0.0000e+00 - val_weighted_f1score: 0.0000e+00\n",
      "Epoch 66/100\n",
      "28698/28698 [==============================] - 4s 129us/sample - loss: 1.8103 - acc: 0.2514 - macro_f1score: 7.0547e-05 - weighted_f1score: 9.3695e-06 - val_loss: 1.8150 - val_acc: 0.2449 - val_macro_f1score: 0.0000e+00 - val_weighted_f1score: 0.0000e+00\n",
      "Epoch 67/100\n",
      "28698/28698 [==============================] - 4s 132us/sample - loss: 1.8102 - acc: 0.2514 - macro_f1score: 1.4524e-04 - weighted_f1score: 1.8707e-05 - val_loss: 1.8155 - val_acc: 0.2449 - val_macro_f1score: 0.0000e+00 - val_weighted_f1score: 0.0000e+00\n",
      "Epoch 68/100\n",
      "28698/28698 [==============================] - 4s 128us/sample - loss: 1.8099 - acc: 0.2514 - macro_f1score: 1.2455e-04 - weighted_f1score: 1.8868e-05 - val_loss: 1.8157 - val_acc: 0.2449 - val_macro_f1score: 0.0000e+00 - val_weighted_f1score: 0.0000e+00\n",
      "Epoch 69/100\n",
      "28698/28698 [==============================] - 4s 129us/sample - loss: 1.8100 - acc: 0.2514 - macro_f1score: 7.0547e-05 - weighted_f1score: 9.3695e-06 - val_loss: 1.8155 - val_acc: 0.2449 - val_macro_f1score: 0.0000e+00 - val_weighted_f1score: 0.0000e+00\n",
      "Epoch 70/100\n",
      "28698/28698 [==============================] - 4s 131us/sample - loss: 1.8102 - acc: 0.2514 - macro_f1score: 9.0703e-05 - weighted_f1score: 9.2120e-06 - val_loss: 1.8151 - val_acc: 0.2449 - val_macro_f1score: 0.0000e+00 - val_weighted_f1score: 0.0000e+00\n",
      "Epoch 71/100\n",
      "28698/28698 [==============================] - 4s 130us/sample - loss: 1.8106 - acc: 0.2514 - macro_f1score: 6.3492e-05 - weighted_f1score: 9.4246e-06 - val_loss: 1.8153 - val_acc: 0.2449 - val_macro_f1score: 0.0000e+00 - val_weighted_f1score: 0.0000e+00\n",
      "Epoch 72/100\n",
      "28698/28698 [==============================] - 4s 131us/sample - loss: 1.8102 - acc: 0.2514 - macro_f1score: 1.9652e-04 - weighted_f1score: 1.8306e-05 - val_loss: 1.8152 - val_acc: 0.2449 - val_macro_f1score: 0.0000e+00 - val_weighted_f1score: 0.0000e+00\n",
      "Epoch 73/100\n",
      "28698/28698 [==============================] - 4s 128us/sample - loss: 1.8103 - acc: 0.2514 - macro_f1score: 1.4939e-04 - weighted_f1score: 1.8674e-05 - val_loss: 1.8151 - val_acc: 0.2449 - val_macro_f1score: 0.0000e+00 - val_weighted_f1score: 0.0000e+00\n",
      "Epoch 74/100\n",
      "28698/28698 [==============================] - 4s 129us/sample - loss: 1.8104 - acc: 0.2514 - macro_f1score: 5.0794e-05 - weighted_f1score: 9.5238e-06 - val_loss: 1.8148 - val_acc: 0.2449 - val_macro_f1score: 0.0000e+00 - val_weighted_f1score: 0.0000e+00\n",
      "Epoch 75/100\n",
      "28698/28698 [==============================] - 4s 128us/sample - loss: 1.8099 - acc: 0.2514 - macro_f1score: 6.0469e-05 - weighted_f1score: 9.4482e-06 - val_loss: 1.8157 - val_acc: 0.2449 - val_macro_f1score: 0.0000e+00 - val_weighted_f1score: 0.0000e+00\n",
      "Epoch 76/100\n",
      "28698/28698 [==============================] - 4s 128us/sample - loss: 1.8100 - acc: 0.2514 - macro_f1score: 6.6834e-05 - weighted_f1score: 9.3985e-06 - val_loss: 1.8149 - val_acc: 0.2449 - val_macro_f1score: 0.0000e+00 - val_weighted_f1score: 0.0000e+00\n",
      "Epoch 77/100\n",
      "28698/28698 [==============================] - 4s 129us/sample - loss: 1.8102 - acc: 0.2514 - macro_f1score: 7.9365e-05 - weighted_f1score: 9.3006e-06 - val_loss: 1.8152 - val_acc: 0.2449 - val_macro_f1score: 0.0000e+00 - val_weighted_f1score: 0.0000e+00\n",
      "Epoch 78/100\n",
      "28698/28698 [==============================] - 4s 131us/sample - loss: 1.8102 - acc: 0.2514 - macro_f1score: 1.4991e-04 - weighted_f1score: 1.8670e-05 - val_loss: 1.8153 - val_acc: 0.2449 - val_macro_f1score: 0.0000e+00 - val_weighted_f1score: 0.0000e+00\n",
      "Epoch 79/100\n",
      "28698/28698 [==============================] - 4s 129us/sample - loss: 1.8102 - acc: 0.2514 - macro_f1score: 6.0469e-05 - weighted_f1score: 9.4482e-06 - val_loss: 1.8150 - val_acc: 0.2449 - val_macro_f1score: 0.0000e+00 - val_weighted_f1score: 0.0000e+00\n",
      "Epoch 80/100\n",
      "28698/28698 [==============================] - 4s 130us/sample - loss: 1.8102 - acc: 0.2514 - macro_f1score: 9.0703e-05 - weighted_f1score: 9.2120e-06 - val_loss: 1.8150 - val_acc: 0.2449 - val_macro_f1score: 0.0000e+00 - val_weighted_f1score: 0.0000e+00\n",
      "Epoch 81/100\n",
      "28698/28698 [==============================] - 4s 129us/sample - loss: 1.8103 - acc: 0.2514 - macro_f1score: 1.5420e-04 - weighted_f1score: 1.8637e-05 - val_loss: 1.8152 - val_acc: 0.2449 - val_macro_f1score: 0.0000e+00 - val_weighted_f1score: 0.0000e+00\n",
      "Epoch 82/100\n",
      "28698/28698 [==============================] - 4s 130us/sample - loss: 1.8101 - acc: 0.2514 - macro_f1score: 1.8838e-04 - weighted_f1score: 1.8370e-05 - val_loss: 1.8151 - val_acc: 0.2449 - val_macro_f1score: 0.0000e+00 - val_weighted_f1score: 0.0000e+00\n",
      "Epoch 83/100\n",
      "28698/28698 [==============================] - 4s 132us/sample - loss: 1.8100 - acc: 0.2514 - macro_f1score: 5.2910e-05 - weighted_f1score: 9.5073e-06 - val_loss: 1.8150 - val_acc: 0.2449 - val_macro_f1score: 0.0000e+00 - val_weighted_f1score: 0.0000e+00\n",
      "Epoch 84/100\n",
      "28698/28698 [==============================] - 4s 130us/sample - loss: 1.8101 - acc: 0.2514 - macro_f1score: 1.3983e-04 - weighted_f1score: 1.8749e-05 - val_loss: 1.8161 - val_acc: 0.2449 - val_macro_f1score: 0.0000e+00 - val_weighted_f1score: 0.0000e+00\n",
      "Epoch 85/100\n",
      "28698/28698 [==============================] - 4s 130us/sample - loss: 1.8103 - acc: 0.2514 - macro_f1score: 5.2910e-05 - weighted_f1score: 9.5073e-06 - val_loss: 1.8149 - val_acc: 0.2449 - val_macro_f1score: 0.0000e+00 - val_weighted_f1score: 0.0000e+00\n",
      "Epoch 86/100\n",
      "28698/28698 [==============================] - 4s 130us/sample - loss: 1.8099 - acc: 0.2514 - macro_f1score: 1.1062e-04 - weighted_f1score: 1.8977e-05 - val_loss: 1.8153 - val_acc: 0.2449 - val_macro_f1score: 0.0000e+00 - val_weighted_f1score: 0.0000e+00\n",
      "Epoch 87/100\n",
      "28698/28698 [==============================] - 4s 131us/sample - loss: 1.8099 - acc: 0.2514 - macro_f1score: 1.3819e-04 - weighted_f1score: 1.8762e-05 - val_loss: 1.8163 - val_acc: 0.2449 - val_macro_f1score: 0.0000e+00 - val_weighted_f1score: 0.0000e+00\n",
      "Epoch 88/100\n",
      "28698/28698 [==============================] - 4s 131us/sample - loss: 1.8103 - acc: 0.2514 - macro_f1score: 0.0000e+00 - weighted_f1score: 0.0000e+00 - val_loss: 1.8154 - val_acc: 0.2449 - val_macro_f1score: 0.0000e+00 - val_weighted_f1score: 0.0000e+00\n",
      "Epoch 89/100\n",
      "28698/28698 [==============================] - 4s 130us/sample - loss: 1.8100 - acc: 0.2514 - macro_f1score: 1.2549e-04 - weighted_f1score: 1.8861e-05 - val_loss: 1.8155 - val_acc: 0.2449 - val_macro_f1score: 0.0000e+00 - val_weighted_f1score: 0.0000e+00\n",
      "Epoch 90/100\n",
      "28698/28698 [==============================] - 4s 129us/sample - loss: 1.8102 - acc: 0.2514 - macro_f1score: 1.0370e-04 - weighted_f1score: 1.9031e-05 - val_loss: 1.8150 - val_acc: 0.2449 - val_macro_f1score: 0.0000e+00 - val_weighted_f1score: 0.0000e+00\n",
      "Epoch 91/100\n",
      "28698/28698 [==============================] - 4s 130us/sample - loss: 1.8102 - acc: 0.2514 - macro_f1score: 5.7720e-05 - weighted_f1score: 9.4697e-06 - val_loss: 1.8150 - val_acc: 0.2449 - val_macro_f1score: 0.0000e+00 - val_weighted_f1score: 0.0000e+00\n",
      "Epoch 92/100\n",
      "28698/28698 [==============================] - 4s 129us/sample - loss: 1.8099 - acc: 0.2514 - macro_f1score: 5.5210e-05 - weighted_f1score: 9.4893e-06 - val_loss: 1.8151 - val_acc: 0.2449 - val_macro_f1score: 0.0000e+00 - val_weighted_f1score: 0.0000e+00\n",
      "Epoch 93/100\n",
      "28698/28698 [==============================] - 4s 129us/sample - loss: 1.8101 - acc: 0.2514 - macro_f1score: 7.9365e-05 - weighted_f1score: 9.3006e-06 - val_loss: 1.8154 - val_acc: 0.2449 - val_macro_f1score: 0.0000e+00 - val_weighted_f1score: 0.0000e+00\n",
      "Epoch 94/100\n",
      "28698/28698 [==============================] - 4s 129us/sample - loss: 1.8102 - acc: 0.2514 - macro_f1score: 5.2910e-05 - weighted_f1score: 9.5073e-06 - val_loss: 1.8153 - val_acc: 0.2449 - val_macro_f1score: 0.0000e+00 - val_weighted_f1score: 0.0000e+00\n",
      "Epoch 95/100\n",
      "28698/28698 [==============================] - 4s 129us/sample - loss: 1.8102 - acc: 0.2514 - macro_f1score: 7.4697e-05 - weighted_f1score: 9.3371e-06 - val_loss: 1.8154 - val_acc: 0.2449 - val_macro_f1score: 0.0000e+00 - val_weighted_f1score: 0.0000e+00\n",
      "Epoch 96/100\n",
      "28698/28698 [==============================] - 4s 130us/sample - loss: 1.8105 - acc: 0.2514 - macro_f1score: 0.0000e+00 - weighted_f1score: 0.0000e+00 - val_loss: 1.8153 - val_acc: 0.2449 - val_macro_f1score: 0.0000e+00 - val_weighted_f1score: 0.0000e+00\n",
      "Epoch 97/100\n",
      "28698/28698 [==============================] - 4s 128us/sample - loss: 1.8100 - acc: 0.2514 - macro_f1score: 7.0547e-05 - weighted_f1score: 9.3695e-06 - val_loss: 1.8151 - val_acc: 0.2449 - val_macro_f1score: 0.0000e+00 - val_weighted_f1score: 0.0000e+00\n",
      "Epoch 98/100\n",
      "28698/28698 [==============================] - 4s 129us/sample - loss: 1.8102 - acc: 0.2514 - macro_f1score: 9.7680e-05 - weighted_f1score: 9.1575e-06 - val_loss: 1.8152 - val_acc: 0.2449 - val_macro_f1score: 0.0000e+00 - val_weighted_f1score: 0.0000e+00\n",
      "Epoch 99/100\n",
      "28698/28698 [==============================] - 4s 131us/sample - loss: 1.8100 - acc: 0.2514 - macro_f1score: 0.0000e+00 - weighted_f1score: 0.0000e+00 - val_loss: 1.8149 - val_acc: 0.2449 - val_macro_f1score: 0.0000e+00 - val_weighted_f1score: 0.0000e+00\n",
      "Epoch 100/100\n",
      "28698/28698 [==============================] - 4s 129us/sample - loss: 1.8103 - acc: 0.2514 - macro_f1score: 5.7720e-05 - weighted_f1score: 9.4697e-06 - val_loss: 1.8150 - val_acc: 0.2449 - val_macro_f1score: 0.0000e+00 - val_weighted_f1score: 0.0000e+00\n"
     ]
    },
    {
     "data": {
      "text/plain": [
       "<tensorflow.python.keras.callbacks.History at 0x7fe79ebfaf28>"
      ]
     },
     "execution_count": 50,
     "metadata": {
      "tags": []
     },
     "output_type": "execute_result"
    }
   ],
   "source": [
    "model.fit(x_train,y_train,batch_size=128, validation_data=(x_valid,y_valid) , epochs=100) "
   ]
  },
  {
   "cell_type": "code",
   "execution_count": 51,
   "metadata": {
    "colab": {
     "base_uri": "https://localhost:8080/",
     "height": 71
    },
    "colab_type": "code",
    "executionInfo": {
     "elapsed": 832463,
     "status": "ok",
     "timestamp": 1582957533608,
     "user": {
      "displayName": "‍이동규[ 대학원석사과정재학 / 통계학과 ]",
      "photoUrl": "",
      "userId": "08134145419451519269"
     },
     "user_tz": -540
    },
    "id": "zbQODvRtFqJG",
    "outputId": "0563d0e3-6617-4f1a-fc23-7d3ca40efdb0"
   },
   "outputs": [
    {
     "name": "stdout",
     "output_type": "stream",
     "text": [
      "3588/3588 [==============================] - 0s 50us/sample - loss: 1.8113 - acc: 0.2494 - macro_f1score: 0.0000e+00 - weighted_f1score: 0.0000e+00\n",
      "\n",
      "Accuracy: 0.2494, Macro F1 Score: 0.0000, Weighted F1 Score: 0.0000\n"
     ]
    }
   ],
   "source": [
    "_, acc, mac_f1, wei_f1 = model.evaluate(x_test,y_test,batch_size=128)\n",
    "print(\"\\nAccuracy: {:.4f}, Macro F1 Score: {:.4f}, Weighted F1 Score: {:.4f}\".format(acc,mac_f1,wei_f1))"
   ]
  },
  {
   "cell_type": "markdown",
   "metadata": {
    "colab_type": "text",
    "id": "EVhIkQf4F0AJ"
   },
   "source": [
    "#### (2) Simple CNN"
   ]
  },
  {
   "cell_type": "code",
   "execution_count": 0,
   "metadata": {
    "colab": {},
    "colab_type": "code",
    "id": "HhIpBPk7FqFa"
   },
   "outputs": [],
   "source": [
    "# early stopping 없이 \n",
    "epochs = 100\n",
    "classes = y_test.shape[1]\n",
    "size=48\n",
    "\n",
    "input_shape = (size,size,3)\n",
    "batch_size = 128\n",
    "kernel_size = (3,3) \n",
    "filters = 64 \n",
    "dropout = 0.3 "
   ]
  },
  {
   "cell_type": "code",
   "execution_count": 0,
   "metadata": {
    "colab": {},
    "colab_type": "code",
    "id": "gNw2YsO6FqA1"
   },
   "outputs": [],
   "source": [
    "# CNN model\n",
    "cnn_model2 = tf.keras.models.Sequential()\n",
    "cnn_model2.add(tf.keras.layers.Conv2D(filters=filters, kernel_size=kernel_size,\n",
    "                                     activation='relu', input_shape=input_shape, strides = (1,1) , name='Conv2D_layer1'))\n",
    "cnn_model2.add(tf.keras.layers.MaxPooling2D((2, 2), name='Maxpooling1_2D'))\n",
    "cnn_model2.add(tf.keras.layers.Conv2D(filters=filters, kernel_size=kernel_size,\n",
    "                                     activation='relu',  strides = (1,1) , name='Conv2D_layer2'))\n",
    "cnn_model2.add(tf.keras.layers.MaxPooling2D((2, 2), name='Maxpooling2_2D'))\n",
    "cnn_model2.add(tf.keras.layers.Flatten(name='Flatten'))\n",
    "cnn_model2.add(tf.keras.layers.Dropout(dropout))\n",
    "cnn_model2.add(tf.keras.layers.Dense(64, activation='relu', name='Hidden_layer'))\n",
    "cnn_model2.add(tf.keras.layers.Dense(classes, activation='softmax', name='Output_layer'))"
   ]
  },
  {
   "cell_type": "code",
   "execution_count": 0,
   "metadata": {
    "colab": {},
    "colab_type": "code",
    "id": "xm3euJQDFp-2"
   },
   "outputs": [],
   "source": [
    "cnn_model2.compile(optimizer='adam', loss='categorical_crossentropy',\n",
    "                  metrics=['accuracy',macro_f1score,weighted_f1score])"
   ]
  },
  {
   "cell_type": "code",
   "execution_count": 55,
   "metadata": {
    "colab": {
     "base_uri": "https://localhost:8080/",
     "height": 1000
    },
    "colab_type": "code",
    "executionInfo": {
     "elapsed": 1348913,
     "status": "ok",
     "timestamp": 1582958050078,
     "user": {
      "displayName": "‍이동규[ 대학원석사과정재학 / 통계학과 ]",
      "photoUrl": "",
      "userId": "08134145419451519269"
     },
     "user_tz": -540
    },
    "id": "vo8OZhwiFp8h",
    "outputId": "35e44b76-2b2b-44c2-b665-27cadc6a9c31"
   },
   "outputs": [
    {
     "name": "stdout",
     "output_type": "stream",
     "text": [
      "Train on 28698 samples, validate on 3589 samples\n",
      "Epoch 1/100\n",
      "28698/28698 [==============================] - 5s 184us/sample - loss: 1.7035 - acc: 0.3204 - macro_f1score: 0.0365 - weighted_f1score: 0.0071 - val_loss: 1.5744 - val_acc: 0.4026 - val_macro_f1score: 0.1055 - val_weighted_f1score: 0.0210\n",
      "Epoch 2/100\n",
      "28698/28698 [==============================] - 5s 175us/sample - loss: 1.5140 - acc: 0.4260 - macro_f1score: 0.1419 - weighted_f1score: 0.0267 - val_loss: 1.4311 - val_acc: 0.4503 - val_macro_f1score: 0.1719 - val_weighted_f1score: 0.0317\n",
      "Epoch 3/100\n",
      "28698/28698 [==============================] - 5s 177us/sample - loss: 1.4120 - acc: 0.4637 - macro_f1score: 0.2024 - weighted_f1score: 0.0370 - val_loss: 1.3588 - val_acc: 0.4837 - val_macro_f1score: 0.2309 - val_weighted_f1score: 0.0423\n",
      "Epoch 4/100\n",
      "28698/28698 [==============================] - 5s 175us/sample - loss: 1.3553 - acc: 0.4861 - macro_f1score: 0.2422 - weighted_f1score: 0.0433 - val_loss: 1.3300 - val_acc: 0.4887 - val_macro_f1score: 0.2670 - val_weighted_f1score: 0.0491\n",
      "Epoch 5/100\n",
      "28698/28698 [==============================] - 5s 174us/sample - loss: 1.3016 - acc: 0.5069 - macro_f1score: 0.2779 - weighted_f1score: 0.0491 - val_loss: 1.2968 - val_acc: 0.5046 - val_macro_f1score: 0.2629 - val_weighted_f1score: 0.0473\n",
      "Epoch 6/100\n",
      "28698/28698 [==============================] - 5s 174us/sample - loss: 1.2599 - acc: 0.5231 - macro_f1score: 0.3037 - weighted_f1score: 0.0534 - val_loss: 1.2794 - val_acc: 0.5079 - val_macro_f1score: 0.2623 - val_weighted_f1score: 0.0454\n",
      "Epoch 7/100\n",
      "28698/28698 [==============================] - 5s 174us/sample - loss: 1.2240 - acc: 0.5384 - macro_f1score: 0.3267 - weighted_f1score: 0.0571 - val_loss: 1.2351 - val_acc: 0.5269 - val_macro_f1score: 0.3223 - val_weighted_f1score: 0.0560\n",
      "Epoch 8/100\n",
      "28698/28698 [==============================] - 5s 173us/sample - loss: 1.1885 - acc: 0.5513 - macro_f1score: 0.3498 - weighted_f1score: 0.0607 - val_loss: 1.2228 - val_acc: 0.5274 - val_macro_f1score: 0.3303 - val_weighted_f1score: 0.0578\n",
      "Epoch 9/100\n",
      "28698/28698 [==============================] - 5s 174us/sample - loss: 1.1582 - acc: 0.5640 - macro_f1score: 0.3707 - weighted_f1score: 0.0637 - val_loss: 1.2204 - val_acc: 0.5300 - val_macro_f1score: 0.3416 - val_weighted_f1score: 0.0601\n",
      "Epoch 10/100\n",
      "28698/28698 [==============================] - 5s 174us/sample - loss: 1.1282 - acc: 0.5777 - macro_f1score: 0.3930 - weighted_f1score: 0.0670 - val_loss: 1.2186 - val_acc: 0.5386 - val_macro_f1score: 0.3910 - val_weighted_f1score: 0.0653\n",
      "Epoch 11/100\n",
      "28698/28698 [==============================] - 5s 176us/sample - loss: 1.0879 - acc: 0.5930 - macro_f1score: 0.4252 - weighted_f1score: 0.0709 - val_loss: 1.1992 - val_acc: 0.5327 - val_macro_f1score: 0.3838 - val_weighted_f1score: 0.0659\n",
      "Epoch 12/100\n",
      "28698/28698 [==============================] - 5s 173us/sample - loss: 1.0612 - acc: 0.5992 - macro_f1score: 0.4495 - weighted_f1score: 0.0736 - val_loss: 1.1988 - val_acc: 0.5419 - val_macro_f1score: 0.3825 - val_weighted_f1score: 0.0637\n",
      "Epoch 13/100\n",
      "28698/28698 [==============================] - 5s 174us/sample - loss: 1.0401 - acc: 0.6121 - macro_f1score: 0.4685 - weighted_f1score: 0.0760 - val_loss: 1.1924 - val_acc: 0.5467 - val_macro_f1score: 0.4189 - val_weighted_f1score: 0.0688\n",
      "Epoch 14/100\n",
      "28698/28698 [==============================] - 5s 182us/sample - loss: 1.0138 - acc: 0.6211 - macro_f1score: 0.4808 - weighted_f1score: 0.0779 - val_loss: 1.1992 - val_acc: 0.5464 - val_macro_f1score: 0.4286 - val_weighted_f1score: 0.0704\n",
      "Epoch 15/100\n",
      "28698/28698 [==============================] - 5s 183us/sample - loss: 0.9844 - acc: 0.6306 - macro_f1score: 0.5042 - weighted_f1score: 0.0806 - val_loss: 1.2161 - val_acc: 0.5500 - val_macro_f1score: 0.4339 - val_weighted_f1score: 0.0690\n",
      "Epoch 16/100\n",
      "28698/28698 [==============================] - 5s 182us/sample - loss: 0.9641 - acc: 0.6395 - macro_f1score: 0.5202 - weighted_f1score: 0.0827 - val_loss: 1.2248 - val_acc: 0.5391 - val_macro_f1score: 0.4404 - val_weighted_f1score: 0.0715\n",
      "Epoch 17/100\n",
      "28698/28698 [==============================] - 5s 182us/sample - loss: 0.9410 - acc: 0.6500 - macro_f1score: 0.5355 - weighted_f1score: 0.0844 - val_loss: 1.1932 - val_acc: 0.5531 - val_macro_f1score: 0.4163 - val_weighted_f1score: 0.0680\n",
      "Epoch 18/100\n",
      "28698/28698 [==============================] - 5s 180us/sample - loss: 0.9140 - acc: 0.6581 - macro_f1score: 0.5525 - weighted_f1score: 0.0867 - val_loss: 1.2029 - val_acc: 0.5534 - val_macro_f1score: 0.4489 - val_weighted_f1score: 0.0709\n",
      "Epoch 19/100\n",
      "28698/28698 [==============================] - 5s 182us/sample - loss: 0.8958 - acc: 0.6665 - macro_f1score: 0.5679 - weighted_f1score: 0.0888 - val_loss: 1.2126 - val_acc: 0.5570 - val_macro_f1score: 0.4674 - val_weighted_f1score: 0.0715\n",
      "Epoch 20/100\n",
      "28698/28698 [==============================] - 5s 182us/sample - loss: 0.8691 - acc: 0.6759 - macro_f1score: 0.5813 - weighted_f1score: 0.0902 - val_loss: 1.2233 - val_acc: 0.5517 - val_macro_f1score: 0.4447 - val_weighted_f1score: 0.0695\n",
      "Epoch 21/100\n",
      "28698/28698 [==============================] - 5s 181us/sample - loss: 0.8521 - acc: 0.6835 - macro_f1score: 0.5918 - weighted_f1score: 0.0916 - val_loss: 1.2301 - val_acc: 0.5606 - val_macro_f1score: 0.4701 - val_weighted_f1score: 0.0737\n",
      "Epoch 22/100\n",
      "28698/28698 [==============================] - 5s 181us/sample - loss: 0.8333 - acc: 0.6953 - macro_f1score: 0.6089 - weighted_f1score: 0.0936 - val_loss: 1.2379 - val_acc: 0.5556 - val_macro_f1score: 0.4669 - val_weighted_f1score: 0.0751\n",
      "Epoch 23/100\n",
      "28698/28698 [==============================] - 5s 185us/sample - loss: 0.8107 - acc: 0.6959 - macro_f1score: 0.6171 - weighted_f1score: 0.0948 - val_loss: 1.2498 - val_acc: 0.5614 - val_macro_f1score: 0.4651 - val_weighted_f1score: 0.0736\n",
      "Epoch 24/100\n",
      "28698/28698 [==============================] - 5s 182us/sample - loss: 0.7904 - acc: 0.7058 - macro_f1score: 0.6313 - weighted_f1score: 0.0963 - val_loss: 1.2403 - val_acc: 0.5628 - val_macro_f1score: 0.4801 - val_weighted_f1score: 0.0749\n",
      "Epoch 25/100\n",
      "28698/28698 [==============================] - 5s 183us/sample - loss: 0.7835 - acc: 0.7090 - macro_f1score: 0.6341 - weighted_f1score: 0.0967 - val_loss: 1.2685 - val_acc: 0.5584 - val_macro_f1score: 0.4780 - val_weighted_f1score: 0.0746\n",
      "Epoch 26/100\n",
      "28698/28698 [==============================] - 5s 181us/sample - loss: 0.7681 - acc: 0.7145 - macro_f1score: 0.6437 - weighted_f1score: 0.0981 - val_loss: 1.2683 - val_acc: 0.5606 - val_macro_f1score: 0.4926 - val_weighted_f1score: 0.0764\n",
      "Epoch 27/100\n",
      "28698/28698 [==============================] - 5s 184us/sample - loss: 0.7503 - acc: 0.7212 - macro_f1score: 0.6569 - weighted_f1score: 0.0993 - val_loss: 1.2904 - val_acc: 0.5600 - val_macro_f1score: 0.4833 - val_weighted_f1score: 0.0761\n",
      "Epoch 28/100\n",
      "28698/28698 [==============================] - 5s 179us/sample - loss: 0.7278 - acc: 0.7293 - macro_f1score: 0.6688 - weighted_f1score: 0.1014 - val_loss: 1.2842 - val_acc: 0.5584 - val_macro_f1score: 0.4772 - val_weighted_f1score: 0.0752\n",
      "Epoch 29/100\n",
      "28698/28698 [==============================] - 5s 181us/sample - loss: 0.7217 - acc: 0.7306 - macro_f1score: 0.6652 - weighted_f1score: 0.1011 - val_loss: 1.3154 - val_acc: 0.5617 - val_macro_f1score: 0.4883 - val_weighted_f1score: 0.0768\n",
      "Epoch 30/100\n",
      "28698/28698 [==============================] - 5s 180us/sample - loss: 0.7046 - acc: 0.7384 - macro_f1score: 0.6784 - weighted_f1score: 0.1028 - val_loss: 1.3071 - val_acc: 0.5670 - val_macro_f1score: 0.5039 - val_weighted_f1score: 0.0780\n",
      "Epoch 31/100\n",
      "28698/28698 [==============================] - 5s 179us/sample - loss: 0.6931 - acc: 0.7416 - macro_f1score: 0.6833 - weighted_f1score: 0.1031 - val_loss: 1.3626 - val_acc: 0.5637 - val_macro_f1score: 0.4953 - val_weighted_f1score: 0.0772\n",
      "Epoch 32/100\n",
      "28698/28698 [==============================] - 5s 181us/sample - loss: 0.6809 - acc: 0.7470 - macro_f1score: 0.6950 - weighted_f1score: 0.1043 - val_loss: 1.3751 - val_acc: 0.5598 - val_macro_f1score: 0.4874 - val_weighted_f1score: 0.0782\n",
      "Epoch 33/100\n",
      "28698/28698 [==============================] - 5s 184us/sample - loss: 0.6682 - acc: 0.7505 - macro_f1score: 0.7025 - weighted_f1score: 0.1052 - val_loss: 1.3300 - val_acc: 0.5584 - val_macro_f1score: 0.4927 - val_weighted_f1score: 0.0767\n",
      "Epoch 34/100\n",
      "28698/28698 [==============================] - 5s 185us/sample - loss: 0.6543 - acc: 0.7572 - macro_f1score: 0.7063 - weighted_f1score: 0.1059 - val_loss: 1.3517 - val_acc: 0.5542 - val_macro_f1score: 0.4849 - val_weighted_f1score: 0.0763\n",
      "Epoch 35/100\n",
      "28698/28698 [==============================] - 5s 185us/sample - loss: 0.6423 - acc: 0.7616 - macro_f1score: 0.7100 - weighted_f1score: 0.1069 - val_loss: 1.3861 - val_acc: 0.5542 - val_macro_f1score: 0.4906 - val_weighted_f1score: 0.0783\n",
      "Epoch 36/100\n",
      "28698/28698 [==============================] - 5s 180us/sample - loss: 0.6311 - acc: 0.7670 - macro_f1score: 0.7171 - weighted_f1score: 0.1077 - val_loss: 1.4047 - val_acc: 0.5570 - val_macro_f1score: 0.4934 - val_weighted_f1score: 0.0767\n",
      "Epoch 37/100\n",
      "28698/28698 [==============================] - 5s 181us/sample - loss: 0.6176 - acc: 0.7720 - macro_f1score: 0.7192 - weighted_f1score: 0.1083 - val_loss: 1.3929 - val_acc: 0.5550 - val_macro_f1score: 0.4966 - val_weighted_f1score: 0.0775\n",
      "Epoch 38/100\n",
      "28698/28698 [==============================] - 5s 183us/sample - loss: 0.6094 - acc: 0.7739 - macro_f1score: 0.7239 - weighted_f1score: 0.1087 - val_loss: 1.4363 - val_acc: 0.5609 - val_macro_f1score: 0.4860 - val_weighted_f1score: 0.0761\n",
      "Epoch 39/100\n",
      "28698/28698 [==============================] - 5s 181us/sample - loss: 0.5965 - acc: 0.7785 - macro_f1score: 0.7339 - weighted_f1score: 0.1099 - val_loss: 1.4360 - val_acc: 0.5609 - val_macro_f1score: 0.5119 - val_weighted_f1score: 0.0805\n",
      "Epoch 40/100\n",
      "28698/28698 [==============================] - 5s 181us/sample - loss: 0.5861 - acc: 0.7840 - macro_f1score: 0.7313 - weighted_f1score: 0.1103 - val_loss: 1.4518 - val_acc: 0.5578 - val_macro_f1score: 0.4968 - val_weighted_f1score: 0.0772\n",
      "Epoch 41/100\n",
      "28698/28698 [==============================] - 5s 182us/sample - loss: 0.5785 - acc: 0.7853 - macro_f1score: 0.7395 - weighted_f1score: 0.1111 - val_loss: 1.4715 - val_acc: 0.5578 - val_macro_f1score: 0.5036 - val_weighted_f1score: 0.0779\n",
      "Epoch 42/100\n",
      "28698/28698 [==============================] - 5s 182us/sample - loss: 0.5812 - acc: 0.7867 - macro_f1score: 0.7435 - weighted_f1score: 0.1109 - val_loss: 1.4467 - val_acc: 0.5620 - val_macro_f1score: 0.5140 - val_weighted_f1score: 0.0778\n",
      "Epoch 43/100\n",
      "28698/28698 [==============================] - 5s 181us/sample - loss: 0.5712 - acc: 0.7891 - macro_f1score: 0.7423 - weighted_f1score: 0.1113 - val_loss: 1.4794 - val_acc: 0.5620 - val_macro_f1score: 0.4965 - val_weighted_f1score: 0.0767\n",
      "Epoch 44/100\n",
      "28698/28698 [==============================] - 5s 179us/sample - loss: 0.5602 - acc: 0.7940 - macro_f1score: 0.7501 - weighted_f1score: 0.1120 - val_loss: 1.5337 - val_acc: 0.5600 - val_macro_f1score: 0.5155 - val_weighted_f1score: 0.0801\n",
      "Epoch 45/100\n",
      "28698/28698 [==============================] - 5s 181us/sample - loss: 0.5493 - acc: 0.7963 - macro_f1score: 0.7502 - weighted_f1score: 0.1125 - val_loss: 1.4537 - val_acc: 0.5489 - val_macro_f1score: 0.4923 - val_weighted_f1score: 0.0750\n",
      "Epoch 46/100\n",
      "28698/28698 [==============================] - 5s 184us/sample - loss: 0.5458 - acc: 0.7998 - macro_f1score: 0.7594 - weighted_f1score: 0.1132 - val_loss: 1.4907 - val_acc: 0.5500 - val_macro_f1score: 0.5116 - val_weighted_f1score: 0.0775\n",
      "Epoch 47/100\n",
      "28698/28698 [==============================] - 5s 182us/sample - loss: 0.5368 - acc: 0.8007 - macro_f1score: 0.7581 - weighted_f1score: 0.1133 - val_loss: 1.4928 - val_acc: 0.5553 - val_macro_f1score: 0.5018 - val_weighted_f1score: 0.0773\n",
      "Epoch 48/100\n",
      "28698/28698 [==============================] - 5s 185us/sample - loss: 0.5255 - acc: 0.8054 - macro_f1score: 0.7597 - weighted_f1score: 0.1141 - val_loss: 1.5477 - val_acc: 0.5634 - val_macro_f1score: 0.5012 - val_weighted_f1score: 0.0792\n",
      "Epoch 49/100\n",
      "28698/28698 [==============================] - 5s 182us/sample - loss: 0.5216 - acc: 0.8066 - macro_f1score: 0.7643 - weighted_f1score: 0.1143 - val_loss: 1.5745 - val_acc: 0.5606 - val_macro_f1score: 0.5030 - val_weighted_f1score: 0.0779\n",
      "Epoch 50/100\n",
      "28698/28698 [==============================] - 5s 184us/sample - loss: 0.5187 - acc: 0.8079 - macro_f1score: 0.7704 - weighted_f1score: 0.1146 - val_loss: 1.5527 - val_acc: 0.5567 - val_macro_f1score: 0.5140 - val_weighted_f1score: 0.0787\n",
      "Epoch 51/100\n",
      "28698/28698 [==============================] - 5s 182us/sample - loss: 0.5197 - acc: 0.8065 - macro_f1score: 0.7685 - weighted_f1score: 0.1142 - val_loss: 1.5359 - val_acc: 0.5525 - val_macro_f1score: 0.5067 - val_weighted_f1score: 0.0795\n",
      "Epoch 52/100\n",
      "28698/28698 [==============================] - 5s 178us/sample - loss: 0.5092 - acc: 0.8106 - macro_f1score: 0.7734 - weighted_f1score: 0.1149 - val_loss: 1.6053 - val_acc: 0.5542 - val_macro_f1score: 0.4996 - val_weighted_f1score: 0.0780\n",
      "Epoch 53/100\n",
      "28698/28698 [==============================] - 5s 181us/sample - loss: 0.5019 - acc: 0.8162 - macro_f1score: 0.7776 - weighted_f1score: 0.1157 - val_loss: 1.6187 - val_acc: 0.5645 - val_macro_f1score: 0.5086 - val_weighted_f1score: 0.0787\n",
      "Epoch 54/100\n",
      "28698/28698 [==============================] - 5s 181us/sample - loss: 0.4969 - acc: 0.8175 - macro_f1score: 0.7823 - weighted_f1score: 0.1161 - val_loss: 1.5710 - val_acc: 0.5550 - val_macro_f1score: 0.5069 - val_weighted_f1score: 0.0773\n",
      "Epoch 55/100\n",
      "28698/28698 [==============================] - 5s 182us/sample - loss: 0.4968 - acc: 0.8180 - macro_f1score: 0.7792 - weighted_f1score: 0.1161 - val_loss: 1.6133 - val_acc: 0.5592 - val_macro_f1score: 0.4792 - val_weighted_f1score: 0.0763\n",
      "Epoch 56/100\n",
      "28698/28698 [==============================] - 5s 182us/sample - loss: 0.4895 - acc: 0.8213 - macro_f1score: 0.7821 - weighted_f1score: 0.1163 - val_loss: 1.5844 - val_acc: 0.5531 - val_macro_f1score: 0.4955 - val_weighted_f1score: 0.0753\n",
      "Epoch 57/100\n",
      "28698/28698 [==============================] - 5s 183us/sample - loss: 0.4851 - acc: 0.8234 - macro_f1score: 0.7807 - weighted_f1score: 0.1165 - val_loss: 1.6324 - val_acc: 0.5600 - val_macro_f1score: 0.5022 - val_weighted_f1score: 0.0772\n",
      "Epoch 58/100\n",
      "28698/28698 [==============================] - 5s 183us/sample - loss: 0.4664 - acc: 0.8268 - macro_f1score: 0.7807 - weighted_f1score: 0.1175 - val_loss: 1.5835 - val_acc: 0.5539 - val_macro_f1score: 0.4964 - val_weighted_f1score: 0.0768\n",
      "Epoch 59/100\n",
      "28698/28698 [==============================] - 5s 183us/sample - loss: 0.4740 - acc: 0.8241 - macro_f1score: 0.7885 - weighted_f1score: 0.1173 - val_loss: 1.6041 - val_acc: 0.5534 - val_macro_f1score: 0.5001 - val_weighted_f1score: 0.0769\n",
      "Epoch 60/100\n",
      "28698/28698 [==============================] - 5s 182us/sample - loss: 0.4712 - acc: 0.8277 - macro_f1score: 0.7896 - weighted_f1score: 0.1176 - val_loss: 1.6484 - val_acc: 0.5612 - val_macro_f1score: 0.5134 - val_weighted_f1score: 0.0803\n",
      "Epoch 61/100\n",
      "28698/28698 [==============================] - 5s 183us/sample - loss: 0.4716 - acc: 0.8260 - macro_f1score: 0.7852 - weighted_f1score: 0.1173 - val_loss: 1.6776 - val_acc: 0.5631 - val_macro_f1score: 0.5181 - val_weighted_f1score: 0.0788\n",
      "Epoch 62/100\n",
      "28698/28698 [==============================] - 5s 182us/sample - loss: 0.4567 - acc: 0.8337 - macro_f1score: 0.7982 - weighted_f1score: 0.1184 - val_loss: 1.6186 - val_acc: 0.5564 - val_macro_f1score: 0.5028 - val_weighted_f1score: 0.0777\n",
      "Epoch 63/100\n",
      "28698/28698 [==============================] - 5s 181us/sample - loss: 0.4490 - acc: 0.8374 - macro_f1score: 0.7991 - weighted_f1score: 0.1188 - val_loss: 1.5981 - val_acc: 0.5539 - val_macro_f1score: 0.5112 - val_weighted_f1score: 0.0784\n",
      "Epoch 64/100\n",
      "28698/28698 [==============================] - 5s 180us/sample - loss: 0.4493 - acc: 0.8356 - macro_f1score: 0.7991 - weighted_f1score: 0.1188 - val_loss: 1.6364 - val_acc: 0.5548 - val_macro_f1score: 0.5104 - val_weighted_f1score: 0.0792\n",
      "Epoch 65/100\n",
      "28698/28698 [==============================] - 5s 182us/sample - loss: 0.4434 - acc: 0.8365 - macro_f1score: 0.7968 - weighted_f1score: 0.1190 - val_loss: 1.6386 - val_acc: 0.5578 - val_macro_f1score: 0.5030 - val_weighted_f1score: 0.0784\n",
      "Epoch 66/100\n",
      "28698/28698 [==============================] - 5s 183us/sample - loss: 0.4363 - acc: 0.8415 - macro_f1score: 0.8050 - weighted_f1score: 0.1199 - val_loss: 1.7174 - val_acc: 0.5592 - val_macro_f1score: 0.4868 - val_weighted_f1score: 0.0779\n",
      "Epoch 67/100\n",
      "28698/28698 [==============================] - 5s 181us/sample - loss: 0.4252 - acc: 0.8444 - macro_f1score: 0.8142 - weighted_f1score: 0.1201 - val_loss: 1.6593 - val_acc: 0.5592 - val_macro_f1score: 0.5128 - val_weighted_f1score: 0.0782\n",
      "Epoch 68/100\n",
      "28698/28698 [==============================] - 5s 180us/sample - loss: 0.4294 - acc: 0.8428 - macro_f1score: 0.8107 - weighted_f1score: 0.1198 - val_loss: 1.7110 - val_acc: 0.5637 - val_macro_f1score: 0.5027 - val_weighted_f1score: 0.0775\n",
      "Epoch 69/100\n",
      "28698/28698 [==============================] - 5s 184us/sample - loss: 0.4304 - acc: 0.8421 - macro_f1score: 0.8057 - weighted_f1score: 0.1200 - val_loss: 1.7322 - val_acc: 0.5614 - val_macro_f1score: 0.5033 - val_weighted_f1score: 0.0784\n",
      "Epoch 70/100\n",
      "28698/28698 [==============================] - 5s 183us/sample - loss: 0.4295 - acc: 0.8436 - macro_f1score: 0.8131 - weighted_f1score: 0.1201 - val_loss: 1.6493 - val_acc: 0.5584 - val_macro_f1score: 0.4954 - val_weighted_f1score: 0.0778\n",
      "Epoch 71/100\n",
      "28698/28698 [==============================] - 5s 184us/sample - loss: 0.4248 - acc: 0.8429 - macro_f1score: 0.8090 - weighted_f1score: 0.1203 - val_loss: 1.6834 - val_acc: 0.5528 - val_macro_f1score: 0.5110 - val_weighted_f1score: 0.0808\n",
      "Epoch 72/100\n",
      "28698/28698 [==============================] - 5s 182us/sample - loss: 0.4122 - acc: 0.8487 - macro_f1score: 0.8179 - weighted_f1score: 0.1209 - val_loss: 1.6968 - val_acc: 0.5603 - val_macro_f1score: 0.5082 - val_weighted_f1score: 0.0796\n",
      "Epoch 73/100\n",
      "28698/28698 [==============================] - 5s 182us/sample - loss: 0.4112 - acc: 0.8517 - macro_f1score: 0.8149 - weighted_f1score: 0.1212 - val_loss: 1.7642 - val_acc: 0.5503 - val_macro_f1score: 0.5078 - val_weighted_f1score: 0.0795\n",
      "Epoch 74/100\n",
      "28698/28698 [==============================] - 5s 178us/sample - loss: 0.4161 - acc: 0.8481 - macro_f1score: 0.8082 - weighted_f1score: 0.1207 - val_loss: 1.7417 - val_acc: 0.5595 - val_macro_f1score: 0.5069 - val_weighted_f1score: 0.0798\n",
      "Epoch 75/100\n",
      "28698/28698 [==============================] - 5s 173us/sample - loss: 0.4149 - acc: 0.8482 - macro_f1score: 0.8083 - weighted_f1score: 0.1208 - val_loss: 1.7675 - val_acc: 0.5553 - val_macro_f1score: 0.4967 - val_weighted_f1score: 0.0771\n",
      "Epoch 76/100\n",
      "28698/28698 [==============================] - 5s 176us/sample - loss: 0.4149 - acc: 0.8499 - macro_f1score: 0.8150 - weighted_f1score: 0.1208 - val_loss: 1.7152 - val_acc: 0.5542 - val_macro_f1score: 0.4939 - val_weighted_f1score: 0.0773\n",
      "Epoch 77/100\n",
      "28698/28698 [==============================] - 5s 175us/sample - loss: 0.4054 - acc: 0.8511 - macro_f1score: 0.8204 - weighted_f1score: 0.1214 - val_loss: 1.7270 - val_acc: 0.5514 - val_macro_f1score: 0.4946 - val_weighted_f1score: 0.0779\n",
      "Epoch 78/100\n",
      "28698/28698 [==============================] - 5s 175us/sample - loss: 0.4003 - acc: 0.8544 - macro_f1score: 0.8176 - weighted_f1score: 0.1217 - val_loss: 1.7665 - val_acc: 0.5559 - val_macro_f1score: 0.5134 - val_weighted_f1score: 0.0787\n",
      "Epoch 79/100\n",
      "28698/28698 [==============================] - 5s 174us/sample - loss: 0.4032 - acc: 0.8509 - macro_f1score: 0.8166 - weighted_f1score: 0.1212 - val_loss: 1.7273 - val_acc: 0.5536 - val_macro_f1score: 0.5141 - val_weighted_f1score: 0.0802\n",
      "Epoch 80/100\n",
      "28698/28698 [==============================] - 5s 175us/sample - loss: 0.3908 - acc: 0.8586 - macro_f1score: 0.8228 - weighted_f1score: 0.1223 - val_loss: 1.6914 - val_acc: 0.5556 - val_macro_f1score: 0.4998 - val_weighted_f1score: 0.0779\n",
      "Epoch 81/100\n",
      "28698/28698 [==============================] - 5s 178us/sample - loss: 0.3854 - acc: 0.8602 - macro_f1score: 0.8288 - weighted_f1score: 0.1225 - val_loss: 1.7453 - val_acc: 0.5556 - val_macro_f1score: 0.5181 - val_weighted_f1score: 0.0801\n",
      "Epoch 82/100\n",
      "28698/28698 [==============================] - 5s 179us/sample - loss: 0.3925 - acc: 0.8573 - macro_f1score: 0.8211 - weighted_f1score: 0.1220 - val_loss: 1.7978 - val_acc: 0.5595 - val_macro_f1score: 0.5016 - val_weighted_f1score: 0.0784\n",
      "Epoch 83/100\n",
      "28698/28698 [==============================] - 5s 176us/sample - loss: 0.3929 - acc: 0.8570 - macro_f1score: 0.8235 - weighted_f1score: 0.1221 - val_loss: 1.7359 - val_acc: 0.5548 - val_macro_f1score: 0.5049 - val_weighted_f1score: 0.0781\n",
      "Epoch 84/100\n",
      "28698/28698 [==============================] - 5s 176us/sample - loss: 0.3842 - acc: 0.8572 - macro_f1score: 0.8212 - weighted_f1score: 0.1221 - val_loss: 1.7650 - val_acc: 0.5500 - val_macro_f1score: 0.4874 - val_weighted_f1score: 0.0758\n",
      "Epoch 85/100\n",
      "28698/28698 [==============================] - 5s 174us/sample - loss: 0.3800 - acc: 0.8604 - macro_f1score: 0.8274 - weighted_f1score: 0.1226 - val_loss: 1.8113 - val_acc: 0.5570 - val_macro_f1score: 0.4915 - val_weighted_f1score: 0.0783\n",
      "Epoch 86/100\n",
      "28698/28698 [==============================] - 5s 174us/sample - loss: 0.3784 - acc: 0.8628 - macro_f1score: 0.8276 - weighted_f1score: 0.1230 - val_loss: 1.7984 - val_acc: 0.5525 - val_macro_f1score: 0.4976 - val_weighted_f1score: 0.0781\n",
      "Epoch 87/100\n",
      "28698/28698 [==============================] - 5s 174us/sample - loss: 0.3834 - acc: 0.8592 - macro_f1score: 0.8256 - weighted_f1score: 0.1226 - val_loss: 1.7708 - val_acc: 0.5520 - val_macro_f1score: 0.4991 - val_weighted_f1score: 0.0797\n",
      "Epoch 88/100\n",
      "28698/28698 [==============================] - 5s 175us/sample - loss: 0.3745 - acc: 0.8620 - macro_f1score: 0.8223 - weighted_f1score: 0.1229 - val_loss: 1.7453 - val_acc: 0.5511 - val_macro_f1score: 0.5080 - val_weighted_f1score: 0.0767\n",
      "Epoch 89/100\n",
      "28698/28698 [==============================] - 5s 175us/sample - loss: 0.3787 - acc: 0.8632 - macro_f1score: 0.8307 - weighted_f1score: 0.1229 - val_loss: 1.8513 - val_acc: 0.5617 - val_macro_f1score: 0.5128 - val_weighted_f1score: 0.0808\n",
      "Epoch 90/100\n",
      "28698/28698 [==============================] - 5s 175us/sample - loss: 0.3778 - acc: 0.8620 - macro_f1score: 0.8272 - weighted_f1score: 0.1228 - val_loss: 1.8043 - val_acc: 0.5531 - val_macro_f1score: 0.5023 - val_weighted_f1score: 0.0786\n",
      "Epoch 91/100\n",
      "28698/28698 [==============================] - 5s 174us/sample - loss: 0.3738 - acc: 0.8627 - macro_f1score: 0.8258 - weighted_f1score: 0.1230 - val_loss: 1.8649 - val_acc: 0.5508 - val_macro_f1score: 0.5026 - val_weighted_f1score: 0.0796\n",
      "Epoch 92/100\n",
      "28698/28698 [==============================] - 5s 175us/sample - loss: 0.3747 - acc: 0.8623 - macro_f1score: 0.8279 - weighted_f1score: 0.1231 - val_loss: 1.8229 - val_acc: 0.5575 - val_macro_f1score: 0.5069 - val_weighted_f1score: 0.0772\n",
      "Epoch 93/100\n",
      "28698/28698 [==============================] - 5s 178us/sample - loss: 0.3678 - acc: 0.8665 - macro_f1score: 0.8334 - weighted_f1score: 0.1234 - val_loss: 1.7532 - val_acc: 0.5573 - val_macro_f1score: 0.4954 - val_weighted_f1score: 0.0773\n",
      "Epoch 94/100\n",
      "28698/28698 [==============================] - 5s 179us/sample - loss: 0.3682 - acc: 0.8650 - macro_f1score: 0.8335 - weighted_f1score: 0.1235 - val_loss: 1.7733 - val_acc: 0.5606 - val_macro_f1score: 0.4973 - val_weighted_f1score: 0.0788\n",
      "Epoch 95/100\n",
      "28698/28698 [==============================] - 5s 179us/sample - loss: 0.3588 - acc: 0.8714 - macro_f1score: 0.8408 - weighted_f1score: 0.1242 - val_loss: 1.8256 - val_acc: 0.5567 - val_macro_f1score: 0.5086 - val_weighted_f1score: 0.0804\n",
      "Epoch 96/100\n",
      "28698/28698 [==============================] - 5s 178us/sample - loss: 0.3587 - acc: 0.8712 - macro_f1score: 0.8394 - weighted_f1score: 0.1242 - val_loss: 1.8397 - val_acc: 0.5609 - val_macro_f1score: 0.5133 - val_weighted_f1score: 0.0805\n",
      "Epoch 97/100\n",
      "28698/28698 [==============================] - 5s 175us/sample - loss: 0.3668 - acc: 0.8626 - macro_f1score: 0.8257 - weighted_f1score: 0.1232 - val_loss: 1.8278 - val_acc: 0.5548 - val_macro_f1score: 0.5101 - val_weighted_f1score: 0.0788\n",
      "Epoch 98/100\n",
      "28698/28698 [==============================] - 5s 175us/sample - loss: 0.3597 - acc: 0.8696 - macro_f1score: 0.8292 - weighted_f1score: 0.1240 - val_loss: 1.8710 - val_acc: 0.5589 - val_macro_f1score: 0.5119 - val_weighted_f1score: 0.0796\n",
      "Epoch 99/100\n",
      "28698/28698 [==============================] - 5s 174us/sample - loss: 0.3592 - acc: 0.8700 - macro_f1score: 0.8416 - weighted_f1score: 0.1239 - val_loss: 1.8844 - val_acc: 0.5469 - val_macro_f1score: 0.4863 - val_weighted_f1score: 0.0753\n",
      "Epoch 100/100\n",
      "28698/28698 [==============================] - 5s 175us/sample - loss: 0.3581 - acc: 0.8685 - macro_f1score: 0.8317 - weighted_f1score: 0.1239 - val_loss: 1.9340 - val_acc: 0.5536 - val_macro_f1score: 0.4912 - val_weighted_f1score: 0.0771\n"
     ]
    },
    {
     "data": {
      "text/plain": [
       "<tensorflow.python.keras.callbacks.History at 0x7fe79eac7d68>"
      ]
     },
     "execution_count": 55,
     "metadata": {
      "tags": []
     },
     "output_type": "execute_result"
    }
   ],
   "source": [
    "cnn_model2.fit(x_train,y_train, validation_data=(x_valid,y_valid) ,batch_size=batch_size,epochs=epochs)"
   ]
  },
  {
   "cell_type": "code",
   "execution_count": 56,
   "metadata": {
    "colab": {
     "base_uri": "https://localhost:8080/",
     "height": 71
    },
    "colab_type": "code",
    "executionInfo": {
     "elapsed": 1348910,
     "status": "ok",
     "timestamp": 1582958050087,
     "user": {
      "displayName": "‍이동규[ 대학원석사과정재학 / 통계학과 ]",
      "photoUrl": "",
      "userId": "08134145419451519269"
     },
     "user_tz": -540
    },
    "id": "IdL_1FZSFp6q",
    "outputId": "9990caaa-4872-4377-d438-6aa8a8f467a3"
   },
   "outputs": [
    {
     "name": "stdout",
     "output_type": "stream",
     "text": [
      "3588/3588 [==============================] - 0s 64us/sample - loss: 2.0290 - acc: 0.5527 - macro_f1score: 0.4996 - weighted_f1score: 0.0781\n",
      "\n",
      "Accuracy: 0.5527, Macro F1 Score: 0.4996, Weighted F1 Score: 0.0781\n"
     ]
    }
   ],
   "source": [
    "_, acc, mac_f1, wei_f1 = cnn_model2.evaluate(x_test,y_test,batch_size=128)\n",
    "print(\"\\nAccuracy: {:.4f}, Macro F1 Score: {:.4f}, Weighted F1 Score: {:.4f}\".format(acc,mac_f1,wei_f1))"
   ]
  }
 ],
 "metadata": {
  "accelerator": "GPU",
  "colab": {
   "collapsed_sections": [],
   "machine_shape": "hm",
   "name": "02. FER_Simple_Models(MLP,CNN) - 2020.02.03(MON).ipynb",
   "provenance": []
  },
  "kernelspec": {
   "display_name": "Python 3",
   "language": "python",
   "name": "python3"
  },
  "language_info": {
   "codemirror_mode": {
    "name": "ipython",
    "version": 3
   },
   "file_extension": ".py",
   "mimetype": "text/x-python",
   "name": "python",
   "nbconvert_exporter": "python",
   "pygments_lexer": "ipython3",
   "version": "3.7.3"
  }
 },
 "nbformat": 4,
 "nbformat_minor": 1
}
