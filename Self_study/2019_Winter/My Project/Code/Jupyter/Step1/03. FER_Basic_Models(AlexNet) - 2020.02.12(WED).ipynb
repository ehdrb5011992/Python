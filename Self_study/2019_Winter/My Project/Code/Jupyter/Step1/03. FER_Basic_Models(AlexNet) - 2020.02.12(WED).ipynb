{
 "cells": [
  {
   "cell_type": "markdown",
   "metadata": {
    "colab_type": "text",
    "id": "vwVmRuFcUBkT"
   },
   "source": [
    "# [AlexNet]"
   ]
  },
  {
   "cell_type": "markdown",
   "metadata": {
    "colab_type": "text",
    "id": "N0MMz6DhUBkW"
   },
   "source": [
    "*KU LeeDongGyu*"
   ]
  },
  {
   "cell_type": "markdown",
   "metadata": {
    "colab_type": "text",
    "id": "jyk7Sp2m5ODF"
   },
   "source": [
    "### Contents"
   ]
  },
  {
   "cell_type": "markdown",
   "metadata": {
    "colab_type": "text",
    "id": "X8ffQ4gg5ODH"
   },
   "source": [
    "1. Almost Original Alexnet\n",
    "2. My Alexnet\n",
    "```\n",
    "1) Size = 64,\n",
    "2) Size = 48,\n",
    "```\n",
    "3. Size = 48, No Early Stopping\n",
    "```\n",
    "1) Epoch = 50\n",
    "2) Epoch = 100\n",
    "```"
   ]
  },
  {
   "cell_type": "markdown",
   "metadata": {
    "colab_type": "text",
    "id": "U01q4o40UBkY"
   },
   "source": [
    "### Install Packages"
   ]
  },
  {
   "cell_type": "code",
   "execution_count": 0,
   "metadata": {
    "colab": {
     "base_uri": "https://localhost:8080/",
     "height": 53
    },
    "colab_type": "code",
    "executionInfo": {
     "elapsed": 4581,
     "status": "ok",
     "timestamp": 1581559861213,
     "user": {
      "displayName": "‍이동규[ 대학원석사과정재학 / 통계학과 ]",
      "photoUrl": "",
      "userId": "08134145419451519269"
     },
     "user_tz": -540
    },
    "id": "crt5-Uz4UBkZ",
    "outputId": "97b13743-1993-442b-cbec-0c465f72a8ee",
    "scrolled": true
   },
   "outputs": [
    {
     "name": "stdout",
     "output_type": "stream",
     "text": [
      "Requirement already satisfied: opencv-python in /usr/local/lib/python3.6/dist-packages (4.1.2.30)\n",
      "Requirement already satisfied: numpy>=1.11.3 in /usr/local/lib/python3.6/dist-packages (from opencv-python) (1.17.5)\n"
     ]
    }
   ],
   "source": [
    "pip install opencv-python"
   ]
  },
  {
   "cell_type": "markdown",
   "metadata": {
    "colab_type": "text",
    "id": "XjdygsS_UBke"
   },
   "source": [
    "### Module"
   ]
  },
  {
   "cell_type": "code",
   "execution_count": 0,
   "metadata": {
    "colab": {
     "base_uri": "https://localhost:8080/",
     "height": 127
    },
    "colab_type": "code",
    "executionInfo": {
     "elapsed": 15502,
     "status": "ok",
     "timestamp": 1582677416686,
     "user": {
      "displayName": "‍이동규[ 대학원석사과정재학 / 통계학과 ]",
      "photoUrl": "",
      "userId": "08134145419451519269"
     },
     "user_tz": -540
    },
    "id": "o1tpIlBhXG2i",
    "outputId": "ca7ba289-13a4-4261-d012-6abdf113a6df"
   },
   "outputs": [
    {
     "name": "stdout",
     "output_type": "stream",
     "text": [
      "Go to this URL in a browser: https://accounts.google.com/o/oauth2/auth?client_id=947318989803-6bn6qk8qdgf4n4g3pfee6491hc0brc4i.apps.googleusercontent.com&redirect_uri=urn%3aietf%3awg%3aoauth%3a2.0%3aoob&response_type=code&scope=email%20https%3a%2f%2fwww.googleapis.com%2fauth%2fdocs.test%20https%3a%2f%2fwww.googleapis.com%2fauth%2fdrive%20https%3a%2f%2fwww.googleapis.com%2fauth%2fdrive.photos.readonly%20https%3a%2f%2fwww.googleapis.com%2fauth%2fpeopleapi.readonly\n",
      "\n",
      "Enter your authorization code:\n",
      "··········\n",
      "Mounted at /content/drive\n"
     ]
    }
   ],
   "source": [
    "from google.colab import drive\n",
    "drive.mount('/content/drive')"
   ]
  },
  {
   "cell_type": "code",
   "execution_count": 0,
   "metadata": {
    "colab": {
     "base_uri": "https://localhost:8080/",
     "height": 35
    },
    "colab_type": "code",
    "executionInfo": {
     "elapsed": 15490,
     "status": "ok",
     "timestamp": 1582677416687,
     "user": {
      "displayName": "‍이동규[ 대학원석사과정재학 / 통계학과 ]",
      "photoUrl": "",
      "userId": "08134145419451519269"
     },
     "user_tz": -540
    },
    "id": "IJdbC2nRXR6h",
    "outputId": "0496a251-2296-4598-f439-8c971d0423cb"
   },
   "outputs": [
    {
     "name": "stdout",
     "output_type": "stream",
     "text": [
      "/content/drive/My Drive/Colab Notebooks/project\n"
     ]
    }
   ],
   "source": [
    "cd /content/drive/My Drive/Colab Notebooks/project"
   ]
  },
  {
   "cell_type": "code",
   "execution_count": 0,
   "metadata": {
    "colab": {},
    "colab_type": "code",
    "id": "bCx2JDrkW6sn"
   },
   "outputs": [],
   "source": [
    "import sys"
   ]
  },
  {
   "cell_type": "code",
   "execution_count": 0,
   "metadata": {
    "colab": {
     "base_uri": "https://localhost:8080/",
     "height": 179
    },
    "colab_type": "code",
    "executionInfo": {
     "elapsed": 15477,
     "status": "ok",
     "timestamp": 1582677416688,
     "user": {
      "displayName": "‍이동규[ 대학원석사과정재학 / 통계학과 ]",
      "photoUrl": "",
      "userId": "08134145419451519269"
     },
     "user_tz": -540
    },
    "id": "qQKQi4SjY3Ug",
    "outputId": "50db8b1c-a587-4ecd-d4f3-afbd701a9caa"
   },
   "outputs": [
    {
     "data": {
      "text/plain": [
       "['',\n",
       " '/env/python',\n",
       " '/usr/lib/python36.zip',\n",
       " '/usr/lib/python3.6',\n",
       " '/usr/lib/python3.6/lib-dynload',\n",
       " '/usr/local/lib/python3.6/dist-packages',\n",
       " '/usr/lib/python3/dist-packages',\n",
       " '/usr/local/lib/python3.6/dist-packages/IPython/extensions',\n",
       " '/root/.ipython']"
      ]
     },
     "execution_count": 4,
     "metadata": {
      "tags": []
     },
     "output_type": "execute_result"
    }
   ],
   "source": [
    "# 모듈로 받을 경로 확인\n",
    "sys.path"
   ]
  },
  {
   "cell_type": "code",
   "execution_count": 0,
   "metadata": {
    "colab": {},
    "colab_type": "code",
    "id": "d9dGjq6aY3cN"
   },
   "outputs": [],
   "source": [
    "# 내 노트북이 아닌, 전산실 컴퓨터의 colab에서 돌렸으므로, 다시돌리려면 경로 수정할것!\n",
    "sys.path.append(\"/content/drive/My Drive/Colab Notebooks/project\")"
   ]
  },
  {
   "cell_type": "code",
   "execution_count": 0,
   "metadata": {
    "colab": {
     "base_uri": "https://localhost:8080/",
     "height": 64
    },
    "colab_type": "code",
    "executionInfo": {
     "elapsed": 18870,
     "status": "ok",
     "timestamp": 1582677420094,
     "user": {
      "displayName": "‍이동규[ 대학원석사과정재학 / 통계학과 ]",
      "photoUrl": "",
      "userId": "08134145419451519269"
     },
     "user_tz": -540
    },
    "id": "MM1f9wE47hsv",
    "outputId": "158aa8ee-3f43-4f13-a096-1341c7f75055"
   },
   "outputs": [
    {
     "data": {
      "text/html": [
       "<p style=\"color: red;\">\n",
       "The default version of TensorFlow in Colab will soon switch to TensorFlow 2.x.<br>\n",
       "We recommend you <a href=\"https://www.tensorflow.org/guide/migrate\" target=\"_blank\">upgrade</a> now \n",
       "or ensure your notebook will continue to use TensorFlow 1.x via the <code>%tensorflow_version 1.x</code> magic:\n",
       "<a href=\"https://colab.research.google.com/notebooks/tensorflow_version.ipynb\" target=\"_blank\">more info</a>.</p>\n"
      ],
      "text/plain": [
       "<IPython.core.display.HTML object>"
      ]
     },
     "metadata": {
      "tags": []
     },
     "output_type": "display_data"
    }
   ],
   "source": [
    "from lrn import LRN #만든 모듈, class\n",
    "from f1score import macro_f1score, weighted_f1score\n",
    "from pool_helper import PoolHelper"
   ]
  },
  {
   "cell_type": "code",
   "execution_count": 0,
   "metadata": {
    "colab": {},
    "colab_type": "code",
    "id": "HKLMWqbuUBkf"
   },
   "outputs": [],
   "source": [
    "import pandas as pd\n",
    "import numpy as np\n",
    "import cv2\n",
    "import os\n",
    "import tensorflow as tf\n",
    "from tensorflow.keras.models import Sequential\n",
    "from tensorflow.keras.layers import Dense, Dropout, Activation, Flatten , ZeroPadding2D\n",
    "from tensorflow.keras.layers import Conv2D, MaxPooling2D \n",
    "from tensorflow.keras.utils import to_categorical\n",
    "from tensorflow.keras.regularizers import l2\n",
    "from tensorflow.keras import backend as K\n",
    "from tensorflow.keras.callbacks import EarlyStopping"
   ]
  },
  {
   "cell_type": "code",
   "execution_count": 0,
   "metadata": {
    "colab": {
     "base_uri": "https://localhost:8080/",
     "height": 35
    },
    "colab_type": "code",
    "executionInfo": {
     "elapsed": 692,
     "status": "ok",
     "timestamp": 1582677421133,
     "user": {
      "displayName": "‍이동규[ 대학원석사과정재학 / 통계학과 ]",
      "photoUrl": "",
      "userId": "08134145419451519269"
     },
     "user_tz": -540
    },
    "id": "cbiFovMgXTax",
    "outputId": "295debf1-625c-4704-b8a0-b9800e78bb1c"
   },
   "outputs": [
    {
     "data": {
      "text/plain": [
       "'/content/drive/My Drive/Colab Notebooks/project'"
      ]
     },
     "execution_count": 8,
     "metadata": {
      "tags": []
     },
     "output_type": "execute_result"
    }
   ],
   "source": [
    "os.getcwd()"
   ]
  },
  {
   "cell_type": "markdown",
   "metadata": {
    "colab_type": "text",
    "id": "sTXnS6_magkg"
   },
   "source": [
    "## 1. Almost Original Alexnet"
   ]
  },
  {
   "cell_type": "code",
   "execution_count": 0,
   "metadata": {
    "colab": {},
    "colab_type": "code",
    "id": "FU8MecfwUBkt"
   },
   "outputs": [],
   "source": [
    "# data import\n",
    "x_train = pd.read_csv(\"mydata/X_train.csv\",header=0,index_col=0)\n",
    "x_valid = pd.read_csv(\"mydata/X_private_test.csv\",header=0,index_col=0)\n",
    "x_test = pd.read_csv(\"mydata/X_public_test.csv\",header=0,index_col=0)\n",
    "y_train = pd.read_csv(\"mydata/y_train.csv\",header=0,index_col=0)\n",
    "y_valid = pd.read_csv(\"mydata/y_private_test.csv\",header=0,index_col=0)\n",
    "y_test = pd.read_csv(\"mydata/y_public_test.csv\",header=0,index_col=0)\n",
    "\n",
    "\n",
    "y_train=to_categorical(y_train) # one hot encoding\n",
    "y_valid=to_categorical(y_valid)\n",
    "y_test=to_categorical(y_test)"
   ]
  },
  {
   "cell_type": "code",
   "execution_count": 0,
   "metadata": {
    "colab": {},
    "colab_type": "code",
    "id": "wuAEBQRtUBk3"
   },
   "outputs": [],
   "source": [
    "# data handling\n",
    "# uint는 부호없는 정수로, 타입을 바꿔줘야함!\n",
    "size = 227\n",
    "x_train = np.array(x_train).reshape([-1,48,48,1])"
   ]
  },
  {
   "cell_type": "code",
   "execution_count": 0,
   "metadata": {
    "colab": {
     "base_uri": "https://localhost:8080/",
     "height": 35
    },
    "colab_type": "code",
    "executionInfo": {
     "elapsed": 20498,
     "status": "ok",
     "timestamp": 1582677440959,
     "user": {
      "displayName": "‍이동규[ 대학원석사과정재학 / 통계학과 ]",
      "photoUrl": "",
      "userId": "08134145419451519269"
     },
     "user_tz": -540
    },
    "id": "LpYcNYHpUBk7",
    "outputId": "ea60c501-a51c-4841-e406-bdfa21ea5da0"
   },
   "outputs": [
    {
     "data": {
      "text/plain": [
       "(28698, 48, 48, 1)"
      ]
     },
     "execution_count": 11,
     "metadata": {
      "tags": []
     },
     "output_type": "execute_result"
    }
   ],
   "source": [
    "x_train.shape"
   ]
  },
  {
   "cell_type": "code",
   "execution_count": 0,
   "metadata": {
    "colab": {},
    "colab_type": "code",
    "id": "JUh5IzGYUBk-"
   },
   "outputs": [],
   "source": [
    "x_train_zoom = np.zeros([x_train.shape[0],size,size,1],dtype=\"float32\")\n",
    "\n",
    "for i in range(x_train.shape[0]):\n",
    "    x_train_zoom[i,:] = cv2.resize(x_train[i,:].astype('uint8'), (size, size),\n",
    "                                  interpolation=cv2.INTER_CUBIC).reshape(size,size,1) /255"
   ]
  },
  {
   "cell_type": "code",
   "execution_count": 0,
   "metadata": {
    "colab": {
     "base_uri": "https://localhost:8080/",
     "height": 35
    },
    "colab_type": "code",
    "executionInfo": {
     "elapsed": 33276,
     "status": "ok",
     "timestamp": 1582677453752,
     "user": {
      "displayName": "‍이동규[ 대학원석사과정재학 / 통계학과 ]",
      "photoUrl": "",
      "userId": "08134145419451519269"
     },
     "user_tz": -540
    },
    "id": "jPHUMDkCUBlB",
    "outputId": "ffbc9fb8-0df1-40e3-852b-703b9e462d87"
   },
   "outputs": [
    {
     "data": {
      "text/plain": [
       "(28698, 227, 227, 1)"
      ]
     },
     "execution_count": 13,
     "metadata": {
      "tags": []
     },
     "output_type": "execute_result"
    }
   ],
   "source": [
    "x_train_zoom.shape"
   ]
  },
  {
   "cell_type": "code",
   "execution_count": 0,
   "metadata": {
    "colab": {},
    "colab_type": "code",
    "id": "w3qmmnzNUBlE"
   },
   "outputs": [],
   "source": [
    "x_valid = np.array(x_valid).reshape([-1,48,48,1])\n",
    "x_valid_zoom = np.zeros([x_valid.shape[0],size,size,1],dtype=\"float32\")\n",
    "for i in range(x_valid.shape[0]):\n",
    "    x_valid_zoom[i,:] = cv2.resize(x_valid[i,:].astype('uint8'), (size, size),\n",
    "                                  interpolation=cv2.INTER_CUBIC).reshape(size,size,1) /255"
   ]
  },
  {
   "cell_type": "code",
   "execution_count": 0,
   "metadata": {
    "colab": {
     "base_uri": "https://localhost:8080/",
     "height": 35
    },
    "colab_type": "code",
    "executionInfo": {
     "elapsed": 34984,
     "status": "ok",
     "timestamp": 1582677455474,
     "user": {
      "displayName": "‍이동규[ 대학원석사과정재학 / 통계학과 ]",
      "photoUrl": "",
      "userId": "08134145419451519269"
     },
     "user_tz": -540
    },
    "id": "I3V15xJuUBlH",
    "outputId": "30190a9d-d947-4011-99a0-75557325c06f"
   },
   "outputs": [
    {
     "data": {
      "text/plain": [
       "(3589, 227, 227, 1)"
      ]
     },
     "execution_count": 15,
     "metadata": {
      "tags": []
     },
     "output_type": "execute_result"
    }
   ],
   "source": [
    "x_valid_zoom.shape"
   ]
  },
  {
   "cell_type": "code",
   "execution_count": 0,
   "metadata": {
    "colab": {},
    "colab_type": "code",
    "id": "qFInNp5RUBlK"
   },
   "outputs": [],
   "source": [
    "x_test = np.array(x_test).reshape([-1,48,48,1])\n",
    "x_test_zoom = np.zeros([x_test.shape[0],size,size,1],dtype=\"float32\")\n",
    "for i in range(x_test.shape[0]):\n",
    "    x_test_zoom[i,:] = cv2.resize(x_test[i,:].astype('uint8'), (size, size),\n",
    "                                  interpolation=cv2.INTER_CUBIC).reshape(size,size,1) /255"
   ]
  },
  {
   "cell_type": "code",
   "execution_count": 0,
   "metadata": {
    "colab": {
     "base_uri": "https://localhost:8080/",
     "height": 35
    },
    "colab_type": "code",
    "executionInfo": {
     "elapsed": 35058,
     "status": "ok",
     "timestamp": 1582677457175,
     "user": {
      "displayName": "‍이동규[ 대학원석사과정재학 / 통계학과 ]",
      "photoUrl": "",
      "userId": "08134145419451519269"
     },
     "user_tz": -540
    },
    "id": "pZHAXg5nUBlV",
    "outputId": "9c00f2d5-3b17-4747-8ec4-bd9b8a39554c"
   },
   "outputs": [
    {
     "data": {
      "text/plain": [
       "(3588, 227, 227, 1)"
      ]
     },
     "execution_count": 17,
     "metadata": {
      "tags": []
     },
     "output_type": "execute_result"
    }
   ],
   "source": [
    "x_test_zoom.shape"
   ]
  },
  {
   "cell_type": "code",
   "execution_count": 0,
   "metadata": {
    "colab": {},
    "colab_type": "code",
    "id": "RQQSvuzfUBlZ"
   },
   "outputs": [],
   "source": [
    "# Alexnet을 최대한 논문에 가깝게 맞춰 모형작성.\n",
    "# 또한, Data Augmentation은 컴퓨터 성능의 한계로 하지 않음.\n",
    "# 출처 : https://github.com/eweill/keras-deepcv/blob/master/models/classification/alexnet.py\n",
    "\n",
    "def Alexnet(img_shape=(227, 227, 1), n_classes=10, l2_reg=0.,weights=None):\n",
    "\n",
    "    # Initialize model\n",
    "    alexnet = Sequential()\n",
    "\n",
    "    # Layer 1\n",
    "    alexnet.add(Conv2D(96, (11, 11), input_shape=img_shape, strides=4,kernel_regularizer=l2(l2_reg)))\n",
    "    alexnet.add(Activation('relu'))\n",
    "    alexnet.add(LRN(name='layer1_LRN'))\n",
    "    alexnet.add(MaxPooling2D(pool_size=(3, 3),strides=2))\n",
    "\n",
    "    # Layer 2\n",
    "    alexnet.add(Conv2D(256, (5, 5), padding='same',strides=1,kernel_regularizer=l2(l2_reg)))\n",
    "    alexnet.add(Activation('relu'))\n",
    "    alexnet.add(LRN(name='layer2_LRN'))\n",
    "    alexnet.add(MaxPooling2D(pool_size=(3, 3),strides=2))\n",
    "    \n",
    "    # Layer 3\n",
    "    alexnet.add(Conv2D(384, (3, 3), padding='same', strides=1,kernel_regularizer=l2(l2_reg)))\n",
    "    alexnet.add(Activation('relu'))\n",
    "    alexnet.add(LRN(name='layer3_LRN'))\n",
    "    \n",
    "    # Layer 4\n",
    "    alexnet.add(Conv2D(384, (3, 3), padding='same'))\n",
    "    alexnet.add(Activation('relu'))\n",
    "    alexnet.add(LRN(name='layer4_LRN'))\n",
    "\n",
    "    # Layer 5\n",
    "    alexnet.add(Conv2D(256, (3, 3), padding='same'))\n",
    "    alexnet.add(Activation('relu'))\n",
    "    alexnet.add(LRN(name='layer5_LRN'))\n",
    "    alexnet.add(MaxPooling2D(pool_size=(3, 3),strides=2))\n",
    "\n",
    "    # Layer 6\n",
    "    alexnet.add(Flatten())\n",
    "    alexnet.add(Dense(4096,kernel_regularizer=l2(l2_reg)))\n",
    "    alexnet.add(Activation('relu'))\n",
    "    alexnet.add(Dropout(0.5))\n",
    "\n",
    "    # Layer 7\n",
    "    alexnet.add(Dense(4096,kernel_regularizer=l2(l2_reg)))\n",
    "    alexnet.add(Activation('relu'))\n",
    "    alexnet.add(Dropout(0.5))\n",
    "\n",
    "    # Layer 8\n",
    "    alexnet.add(Dense(n_classes))\n",
    "    alexnet.add(Activation('softmax'))\n",
    "\n",
    "    if weights is not None:\n",
    "        alexnet.load_weights(weights)\n",
    "\n",
    "    return alexnet"
   ]
  },
  {
   "cell_type": "code",
   "execution_count": 0,
   "metadata": {
    "colab": {
     "base_uri": "https://localhost:8080/",
     "height": 91
    },
    "colab_type": "code",
    "executionInfo": {
     "elapsed": 28260,
     "status": "ok",
     "timestamp": 1582527376865,
     "user": {
      "displayName": "‍이동규[ 대학원석사과정재학 / 통계학과 ]",
      "photoUrl": "",
      "userId": "08134145419451519269"
     },
     "user_tz": -540
    },
    "id": "oKNZkR1NUBlc",
    "outputId": "5243554e-4ae5-4def-becd-88381271d832"
   },
   "outputs": [
    {
     "name": "stdout",
     "output_type": "stream",
     "text": [
      "WARNING:tensorflow:From /usr/local/lib/python3.6/dist-packages/tensorflow_core/python/ops/resource_variable_ops.py:1630: calling BaseResourceVariable.__init__ (from tensorflow.python.ops.resource_variable_ops) with constraint is deprecated and will be removed in a future version.\n",
      "Instructions for updating:\n",
      "If using Keras pass *_constraint arguments to layers.\n"
     ]
    }
   ],
   "source": [
    "model = Alexnet(img_shape=(227, 227, 1), n_classes=7, l2_reg=0.,weights=None)"
   ]
  },
  {
   "cell_type": "code",
   "execution_count": 0,
   "metadata": {
    "colab": {
     "base_uri": "https://localhost:8080/",
     "height": 1000
    },
    "colab_type": "code",
    "executionInfo": {
     "elapsed": 27539,
     "status": "ok",
     "timestamp": 1582527376866,
     "user": {
      "displayName": "‍이동규[ 대학원석사과정재학 / 통계학과 ]",
      "photoUrl": "",
      "userId": "08134145419451519269"
     },
     "user_tz": -540
    },
    "id": "te4pinumUBle",
    "outputId": "7e7e1966-d417-46e5-d218-6bfe89a1418e"
   },
   "outputs": [
    {
     "name": "stdout",
     "output_type": "stream",
     "text": [
      "Model: \"sequential\"\n",
      "_________________________________________________________________\n",
      "Layer (type)                 Output Shape              Param #   \n",
      "=================================================================\n",
      "conv2d (Conv2D)              (None, 55, 55, 96)        11712     \n",
      "_________________________________________________________________\n",
      "activation (Activation)      (None, 55, 55, 96)        0         \n",
      "_________________________________________________________________\n",
      "layer1_LRN (LRN)             (None, 55, 55, 96)        0         \n",
      "_________________________________________________________________\n",
      "max_pooling2d (MaxPooling2D) (None, 27, 27, 96)        0         \n",
      "_________________________________________________________________\n",
      "conv2d_1 (Conv2D)            (None, 27, 27, 256)       614656    \n",
      "_________________________________________________________________\n",
      "activation_1 (Activation)    (None, 27, 27, 256)       0         \n",
      "_________________________________________________________________\n",
      "layer2_LRN (LRN)             (None, 27, 27, 256)       0         \n",
      "_________________________________________________________________\n",
      "max_pooling2d_1 (MaxPooling2 (None, 13, 13, 256)       0         \n",
      "_________________________________________________________________\n",
      "conv2d_2 (Conv2D)            (None, 13, 13, 384)       885120    \n",
      "_________________________________________________________________\n",
      "activation_2 (Activation)    (None, 13, 13, 384)       0         \n",
      "_________________________________________________________________\n",
      "layer3_LRN (LRN)             (None, 13, 13, 384)       0         \n",
      "_________________________________________________________________\n",
      "conv2d_3 (Conv2D)            (None, 13, 13, 384)       1327488   \n",
      "_________________________________________________________________\n",
      "activation_3 (Activation)    (None, 13, 13, 384)       0         \n",
      "_________________________________________________________________\n",
      "layer4_LRN (LRN)             (None, 13, 13, 384)       0         \n",
      "_________________________________________________________________\n",
      "conv2d_4 (Conv2D)            (None, 13, 13, 256)       884992    \n",
      "_________________________________________________________________\n",
      "activation_4 (Activation)    (None, 13, 13, 256)       0         \n",
      "_________________________________________________________________\n",
      "layer5_LRN (LRN)             (None, 13, 13, 256)       0         \n",
      "_________________________________________________________________\n",
      "max_pooling2d_2 (MaxPooling2 (None, 6, 6, 256)         0         \n",
      "_________________________________________________________________\n",
      "flatten (Flatten)            (None, 9216)              0         \n",
      "_________________________________________________________________\n",
      "dense (Dense)                (None, 4096)              37752832  \n",
      "_________________________________________________________________\n",
      "activation_5 (Activation)    (None, 4096)              0         \n",
      "_________________________________________________________________\n",
      "dropout (Dropout)            (None, 4096)              0         \n",
      "_________________________________________________________________\n",
      "dense_1 (Dense)              (None, 4096)              16781312  \n",
      "_________________________________________________________________\n",
      "activation_6 (Activation)    (None, 4096)              0         \n",
      "_________________________________________________________________\n",
      "dropout_1 (Dropout)          (None, 4096)              0         \n",
      "_________________________________________________________________\n",
      "dense_2 (Dense)              (None, 7)                 28679     \n",
      "_________________________________________________________________\n",
      "activation_7 (Activation)    (None, 7)                 0         \n",
      "=================================================================\n",
      "Total params: 58,286,791\n",
      "Trainable params: 58,286,791\n",
      "Non-trainable params: 0\n",
      "_________________________________________________________________\n"
     ]
    }
   ],
   "source": [
    "#모수가 데이터에 비해 굉장히 많지만, 일단 진행\n",
    "model.summary()"
   ]
  },
  {
   "cell_type": "code",
   "execution_count": 0,
   "metadata": {
    "colab": {},
    "colab_type": "code",
    "id": "lIilrDtxUBli"
   },
   "outputs": [],
   "source": [
    "# 여기는 학습의 효율을 위해. Adam으로 넘어간다.\n",
    "model.compile(optimizer=tf.keras.optimizers.Adam(lr=0.001), loss='categorical_crossentropy',\n",
    "              metrics=['accuracy',macro_f1score,weighted_f1score])"
   ]
  },
  {
   "cell_type": "code",
   "execution_count": 0,
   "metadata": {
    "colab": {},
    "colab_type": "code",
    "id": "3SIE6Gn7-aHn"
   },
   "outputs": [],
   "source": [
    "early_stopping = EarlyStopping(monitor='val_macro_f1score',patience=3,verbose=1,mode='max')"
   ]
  },
  {
   "cell_type": "code",
   "execution_count": 0,
   "metadata": {
    "colab": {
     "base_uri": "https://localhost:8080/",
     "height": 289
    },
    "colab_type": "code",
    "executionInfo": {
     "elapsed": 12374776,
     "status": "ok",
     "timestamp": 1582539728006,
     "user": {
      "displayName": "‍이동규[ 대학원석사과정재학 / 통계학과 ]",
      "photoUrl": "",
      "userId": "08134145419451519269"
     },
     "user_tz": -540
    },
    "id": "eh9WSnNLUBlk",
    "outputId": "e265079f-bffc-4996-82cb-e7458c5c72de",
    "scrolled": false
   },
   "outputs": [
    {
     "name": "stdout",
     "output_type": "stream",
     "text": [
      "WARNING:tensorflow:From /usr/local/lib/python3.6/dist-packages/tensorflow_core/python/ops/math_grad.py:1375: where (from tensorflow.python.ops.array_ops) is deprecated and will be removed in a future version.\n",
      "Instructions for updating:\n",
      "Use tf.where in 2.0, which has the same broadcast rule as np.where\n",
      "Train on 28698 samples, validate on 3589 samples\n",
      "Epoch 1/10\n",
      "28698/28698 [==============================] - 3093s 108ms/sample - loss: 1.8708 - acc: 0.2479 - macro_f1score: 1.7897e-04 - weighted_f1score: 2.9362e-05 - val_loss: 1.8170 - val_acc: 0.2449 - val_macro_f1score: 0.0000e+00 - val_weighted_f1score: 0.0000e+00\n",
      "Epoch 2/10\n",
      "28698/28698 [==============================] - 3085s 108ms/sample - loss: 1.8144 - acc: 0.2513 - macro_f1score: 0.0000e+00 - weighted_f1score: 0.0000e+00 - val_loss: 1.8151 - val_acc: 0.2449 - val_macro_f1score: 0.0000e+00 - val_weighted_f1score: 0.0000e+00\n",
      "Epoch 3/10\n",
      "28698/28698 [==============================] - 3086s 108ms/sample - loss: 1.8125 - acc: 0.2514 - macro_f1score: 0.0000e+00 - weighted_f1score: 0.0000e+00 - val_loss: 1.8178 - val_acc: 0.2449 - val_macro_f1score: 0.0000e+00 - val_weighted_f1score: 0.0000e+00\n",
      "Epoch 4/10\n",
      "28698/28698 [==============================] - 3084s 107ms/sample - loss: 1.8122 - acc: 0.2514 - macro_f1score: 0.0000e+00 - weighted_f1score: 0.0000e+00 - val_loss: 1.8163 - val_acc: 0.2449 - val_macro_f1score: 0.0000e+00 - val_weighted_f1score: 0.0000e+00\n",
      "Epoch 00004: early stopping\n"
     ]
    },
    {
     "data": {
      "text/plain": [
       "<tensorflow.python.keras.callbacks.History at 0x7fca1a1c6e80>"
      ]
     },
     "execution_count": 23,
     "metadata": {
      "tags": []
     },
     "output_type": "execute_result"
    }
   ],
   "source": [
    "model.fit(x_train_zoom,y_train,batch_size=128, validation_data=(x_valid_zoom,y_valid) , epochs=10,callbacks=[early_stopping])"
   ]
  },
  {
   "cell_type": "markdown",
   "metadata": {
    "colab_type": "text",
    "id": "QKtq75U4agkw"
   },
   "source": [
    "Too many parameters compared to the data. <br>\n",
    "So it doesn't work well."
   ]
  },
  {
   "cell_type": "markdown",
   "metadata": {
    "colab_type": "text",
    "id": "Kiu3oJRIagkw"
   },
   "source": [
    "## 2. My Alexnet"
   ]
  },
  {
   "cell_type": "code",
   "execution_count": 0,
   "metadata": {
    "colab": {},
    "colab_type": "code",
    "id": "5Ix8wPCMWm-z"
   },
   "outputs": [],
   "source": [
    "# Alexnet을 개조\n",
    "# Data Augmentation은 컴퓨터 성능의 한계로 못하기 때문에 변형함.\n",
    "\n",
    "# 주의 !!!!기본은 모형을 조절하는 것이 아닌, 데이터를 뻥튀기 하는 것임을 늘 잊지말기!!!!\n",
    "\n",
    "# data import\n",
    "x_train = pd.read_csv(\"mydata/X_train.csv\",header=0,index_col=0)\n",
    "x_valid = pd.read_csv(\"mydata/X_private_test.csv\",header=0,index_col=0)\n",
    "x_test = pd.read_csv(\"mydata/X_public_test.csv\",header=0,index_col=0)\n",
    "y_train = pd.read_csv(\"mydata/y_train.csv\",header=0,index_col=0)\n",
    "y_valid = pd.read_csv(\"mydata/y_private_test.csv\",header=0,index_col=0)\n",
    "y_test = pd.read_csv(\"mydata/y_public_test.csv\",header=0,index_col=0)\n",
    "\n",
    "y_train=to_categorical(y_train) # one hot encoding\n",
    "y_valid=to_categorical(y_valid)\n",
    "y_test=to_categorical(y_test)"
   ]
  },
  {
   "cell_type": "code",
   "execution_count": 0,
   "metadata": {
    "colab": {},
    "colab_type": "code",
    "id": "u4J2YJEXb4H0"
   },
   "outputs": [],
   "source": [
    "# data handling\n",
    "size = 64 #적당한 크기로 잡음.\n",
    "x_train = np.array(x_train).reshape([-1,48,48,1])"
   ]
  },
  {
   "cell_type": "code",
   "execution_count": 0,
   "metadata": {
    "colab": {
     "base_uri": "https://localhost:8080/",
     "height": 35
    },
    "colab_type": "code",
    "executionInfo": {
     "elapsed": 12783,
     "status": "ok",
     "timestamp": 1582604646003,
     "user": {
      "displayName": "‍이동규[ 대학원석사과정재학 / 통계학과 ]",
      "photoUrl": "",
      "userId": "08134145419451519269"
     },
     "user_tz": -540
    },
    "id": "PGBslOblb7AP",
    "outputId": "f6ca47a0-48e2-4623-9b04-6766cd3a9849"
   },
   "outputs": [
    {
     "data": {
      "text/plain": [
       "(28698, 48, 48, 1)"
      ]
     },
     "execution_count": 28,
     "metadata": {
      "tags": []
     },
     "output_type": "execute_result"
    }
   ],
   "source": [
    "x_train.shape"
   ]
  },
  {
   "cell_type": "code",
   "execution_count": 0,
   "metadata": {
    "colab": {},
    "colab_type": "code",
    "id": "PzT0Hoc0WnK3"
   },
   "outputs": [],
   "source": [
    "x_train_zoom = np.zeros([x_train.shape[0],size,size,1],dtype=\"float32\")\n",
    "for i in range(x_train.shape[0]):\n",
    "    x_train_zoom[i,:] = cv2.resize(x_train[i,:].astype('uint8'), (size, size),\n",
    "                                  interpolation=cv2.INTER_CUBIC).reshape(size,size,1) /255"
   ]
  },
  {
   "cell_type": "code",
   "execution_count": 0,
   "metadata": {
    "colab": {
     "base_uri": "https://localhost:8080/",
     "height": 35
    },
    "colab_type": "code",
    "executionInfo": {
     "elapsed": 13755,
     "status": "ok",
     "timestamp": 1582604648970,
     "user": {
      "displayName": "‍이동규[ 대학원석사과정재학 / 통계학과 ]",
      "photoUrl": "",
      "userId": "08134145419451519269"
     },
     "user_tz": -540
    },
    "id": "3GGQnreNWnPw",
    "outputId": "3cc0ce6e-d5ee-49d1-df6d-585554800406"
   },
   "outputs": [
    {
     "data": {
      "text/plain": [
       "(28698, 64, 64, 1)"
      ]
     },
     "execution_count": 30,
     "metadata": {
      "tags": []
     },
     "output_type": "execute_result"
    }
   ],
   "source": [
    "x_train_zoom.shape"
   ]
  },
  {
   "cell_type": "code",
   "execution_count": 0,
   "metadata": {
    "colab": {},
    "colab_type": "code",
    "id": "N-W1s7KpWnee"
   },
   "outputs": [],
   "source": [
    "x_valid = np.array(x_valid).reshape([-1,48,48,1])\n",
    "x_valid_zoom = np.zeros([x_valid.shape[0],size,size,1],dtype=\"float32\")\n",
    "for i in range(x_valid.shape[0]):\n",
    "    x_valid_zoom[i,:] = cv2.resize(x_valid[i,:].astype('uint8'), (size, size),\n",
    "                                  interpolation=cv2.INTER_CUBIC).reshape(size,size,1) /255"
   ]
  },
  {
   "cell_type": "code",
   "execution_count": 0,
   "metadata": {
    "colab": {
     "base_uri": "https://localhost:8080/",
     "height": 35
    },
    "colab_type": "code",
    "executionInfo": {
     "elapsed": 12510,
     "status": "ok",
     "timestamp": 1582604649231,
     "user": {
      "displayName": "‍이동규[ 대학원석사과정재학 / 통계학과 ]",
      "photoUrl": "",
      "userId": "08134145419451519269"
     },
     "user_tz": -540
    },
    "id": "M9kLXfu0WnN2",
    "outputId": "c893a355-432a-4d9d-9744-5fdc67ad5f17"
   },
   "outputs": [
    {
     "data": {
      "text/plain": [
       "(3589, 64, 64, 1)"
      ]
     },
     "execution_count": 32,
     "metadata": {
      "tags": []
     },
     "output_type": "execute_result"
    }
   ],
   "source": [
    "x_valid_zoom.shape"
   ]
  },
  {
   "cell_type": "code",
   "execution_count": 0,
   "metadata": {
    "colab": {},
    "colab_type": "code",
    "id": "zBIQHqomb--R"
   },
   "outputs": [],
   "source": [
    "x_test = np.array(x_test).reshape([-1,48,48,1])\n",
    "x_test_zoom = np.zeros([x_test.shape[0],size,size,1],dtype=\"float32\")\n",
    "for i in range(x_test.shape[0]):\n",
    "    x_test_zoom[i,:] = cv2.resize(x_test[i,:].astype('uint8'), (size, size),\n",
    "                                  interpolation=cv2.INTER_CUBIC).reshape(size,size,1) /255"
   ]
  },
  {
   "cell_type": "code",
   "execution_count": 0,
   "metadata": {
    "colab": {
     "base_uri": "https://localhost:8080/",
     "height": 35
    },
    "colab_type": "code",
    "executionInfo": {
     "elapsed": 10273,
     "status": "ok",
     "timestamp": 1582604649742,
     "user": {
      "displayName": "‍이동규[ 대학원석사과정재학 / 통계학과 ]",
      "photoUrl": "",
      "userId": "08134145419451519269"
     },
     "user_tz": -540
    },
    "id": "PcshKAu1b_H6",
    "outputId": "17c26443-7706-4efb-89e1-eb75604a998a"
   },
   "outputs": [
    {
     "data": {
      "text/plain": [
       "(3588, 64, 64, 1)"
      ]
     },
     "execution_count": 34,
     "metadata": {
      "tags": []
     },
     "output_type": "execute_result"
    }
   ],
   "source": [
    "x_test_zoom.shape"
   ]
  },
  {
   "cell_type": "markdown",
   "metadata": {
    "colab_type": "text",
    "id": "5UromlgD5OEz"
   },
   "source": [
    "#### 1) Size = 64"
   ]
  },
  {
   "cell_type": "code",
   "execution_count": 0,
   "metadata": {
    "colab": {},
    "colab_type": "code",
    "id": "bSApK_jeb_Lo"
   },
   "outputs": [],
   "source": [
    "# 다음의 절차로 모형을 개조한다.\n",
    "\n",
    "# 1. 227의 대략 1/4 연산인 64로 이미지사이즈를 재조정한다.\n",
    "# 2. 모수와 관련이 가장 깊은 fc층에서, 기존의 4096개의 노드를 1/16 (비율) 배 만큼, 즉 256개로줄인다.\n",
    "# 3. 다음과 같이 모형을 재구성한다.\n",
    "\n",
    "# convolution layer\n",
    "# 입력 : 64x64x1\n",
    "# 첫번째 층 : 5x5 필터 24장, strides = 2 -> maxpooling 3x3 , stirdes = 2   ===> 14 x 14 x 24 feature map\n",
    "# 두번째 층 : 3x3 필터 64장, strides = 1, padding = \"same\"                 ===> 14 x 14 x 64 feature map\n",
    "# 세번째 층 : 3x3 필터 96장, strides = 1                                   ===> 12 x 12 x 96 feature map\n",
    "# 네번째 층 : 3x3 필터 96장, strides = 1, padding = \"same\"                 ===> 12 x 12 x 96 feature map\n",
    "# 다섯째 층 : 3x3 필터 64장, strides = 1 -> maxpooling 3x3 , strides = 2   ===> 4 x 4 x 64 feature map\n",
    "\n",
    "# fc layer\n",
    "# 여섯째 층 : 노드 256개, dropout = 0.5\n",
    "# 일곱째 층 : 노드 256개, dropout = 0.5\n",
    "# 여덟째 층 : 노드 7개\n",
    "\n",
    "\n",
    "\n",
    "def Alexnet(img_shape=(64, 64, 1), n_classes=7, l2_reg=0.,\n",
    "\tweights=None):\n",
    "\n",
    "\t# Initialize model\n",
    "\talexnet = Sequential()\n",
    "\n",
    "\t# Layer 1\n",
    "\talexnet.add(Conv2D(24, (5, 5), input_shape=img_shape, strides=2,kernel_regularizer=l2(l2_reg)))\n",
    "\talexnet.add(Activation('relu'))\n",
    "\talexnet.add(LRN(name='layer1_LRN'))\n",
    "\talexnet.add(MaxPooling2D(pool_size=(3, 3),strides=2))\n",
    "\n",
    "\t# Layer 2\n",
    "\talexnet.add(Conv2D(64, (3, 3), padding='same',strides=1,kernel_regularizer=l2(l2_reg)))\n",
    "\talexnet.add(Activation('relu'))\n",
    "\talexnet.add(LRN(name='layer2_LRN'))\n",
    "\n",
    "\t# Layer 3\n",
    "\talexnet.add(Conv2D(96, (3, 3),  strides=1,kernel_regularizer=l2(l2_reg)))\n",
    "\talexnet.add(Activation('relu'))\n",
    "\talexnet.add(LRN(name='layer3_LRN'))\n",
    "\n",
    "\t# Layer 4\n",
    "\talexnet.add(Conv2D(96, (3, 3), padding='same'))\n",
    "\talexnet.add(Activation('relu'))\n",
    "\talexnet.add(LRN(name='layer4_LRN'))\n",
    "\n",
    "\t# Layer 5\n",
    "\talexnet.add(Conv2D(64, (3, 3)))\n",
    "\talexnet.add(Activation('relu'))\n",
    "\talexnet.add(LRN(name='layer5_LRN'))\n",
    "\talexnet.add(MaxPooling2D(pool_size=(3, 3),strides=2))\n",
    "\n",
    "\t# Layer 6\n",
    "\talexnet.add(Flatten())\n",
    "\talexnet.add(Dense(256,kernel_regularizer=l2(l2_reg)))\n",
    "\n",
    "\talexnet.add(Activation('relu'))\n",
    "\talexnet.add(Dropout(0.5))\n",
    "\n",
    "\t# Layer 7\n",
    "\talexnet.add(Dense(256,kernel_regularizer=l2(l2_reg)))\n",
    "\talexnet.add(Activation('relu'))\n",
    "\talexnet.add(Dropout(0.5))\n",
    "\n",
    "\t# Layer 8\n",
    "\talexnet.add(Dense(n_classes))\n",
    "\talexnet.add(Activation('softmax'))\n",
    "\n",
    "\tif weights is not None:\n",
    "\t\talexnet.load_weights(weights)\n",
    "\n",
    "\treturn alexnet"
   ]
  },
  {
   "cell_type": "code",
   "execution_count": 0,
   "metadata": {
    "colab": {},
    "colab_type": "code",
    "id": "6BGhZH2FcL4S"
   },
   "outputs": [],
   "source": [
    "#내 데이터 맞춤형 모형\n",
    "model = Alexnet(img_shape=(64, 64, 1), n_classes=7, l2_reg=0.,weights=None)"
   ]
  },
  {
   "cell_type": "code",
   "execution_count": 0,
   "metadata": {
    "colab": {
     "base_uri": "https://localhost:8080/",
     "height": 1000
    },
    "colab_type": "code",
    "executionInfo": {
     "elapsed": 6232,
     "status": "ok",
     "timestamp": 1582604650364,
     "user": {
      "displayName": "‍이동규[ 대학원석사과정재학 / 통계학과 ]",
      "photoUrl": "",
      "userId": "08134145419451519269"
     },
     "user_tz": -540
    },
    "id": "TKsFtx5-b_PS",
    "outputId": "61e8504d-bc18-4095-e4a7-4fca74386328",
    "scrolled": true
   },
   "outputs": [
    {
     "name": "stdout",
     "output_type": "stream",
     "text": [
      "Model: \"sequential_1\"\n",
      "_________________________________________________________________\n",
      "Layer (type)                 Output Shape              Param #   \n",
      "=================================================================\n",
      "conv2d_5 (Conv2D)            (None, 30, 30, 24)        624       \n",
      "_________________________________________________________________\n",
      "activation_8 (Activation)    (None, 30, 30, 24)        0         \n",
      "_________________________________________________________________\n",
      "layer1_LRN (LRN)             (None, 30, 30, 24)        0         \n",
      "_________________________________________________________________\n",
      "max_pooling2d_2 (MaxPooling2 (None, 14, 14, 24)        0         \n",
      "_________________________________________________________________\n",
      "conv2d_6 (Conv2D)            (None, 14, 14, 64)        13888     \n",
      "_________________________________________________________________\n",
      "activation_9 (Activation)    (None, 14, 14, 64)        0         \n",
      "_________________________________________________________________\n",
      "layer2_LRN (LRN)             (None, 14, 14, 64)        0         \n",
      "_________________________________________________________________\n",
      "conv2d_7 (Conv2D)            (None, 12, 12, 96)        55392     \n",
      "_________________________________________________________________\n",
      "activation_10 (Activation)   (None, 12, 12, 96)        0         \n",
      "_________________________________________________________________\n",
      "layer3_LRN (LRN)             (None, 12, 12, 96)        0         \n",
      "_________________________________________________________________\n",
      "conv2d_8 (Conv2D)            (None, 12, 12, 96)        83040     \n",
      "_________________________________________________________________\n",
      "activation_11 (Activation)   (None, 12, 12, 96)        0         \n",
      "_________________________________________________________________\n",
      "layer4_LRN (LRN)             (None, 12, 12, 96)        0         \n",
      "_________________________________________________________________\n",
      "conv2d_9 (Conv2D)            (None, 10, 10, 64)        55360     \n",
      "_________________________________________________________________\n",
      "activation_12 (Activation)   (None, 10, 10, 64)        0         \n",
      "_________________________________________________________________\n",
      "layer5_LRN (LRN)             (None, 10, 10, 64)        0         \n",
      "_________________________________________________________________\n",
      "max_pooling2d_3 (MaxPooling2 (None, 4, 4, 64)          0         \n",
      "_________________________________________________________________\n",
      "flatten_1 (Flatten)          (None, 1024)              0         \n",
      "_________________________________________________________________\n",
      "dense_3 (Dense)              (None, 256)               262400    \n",
      "_________________________________________________________________\n",
      "activation_13 (Activation)   (None, 256)               0         \n",
      "_________________________________________________________________\n",
      "dropout_2 (Dropout)          (None, 256)               0         \n",
      "_________________________________________________________________\n",
      "dense_4 (Dense)              (None, 256)               65792     \n",
      "_________________________________________________________________\n",
      "activation_14 (Activation)   (None, 256)               0         \n",
      "_________________________________________________________________\n",
      "dropout_3 (Dropout)          (None, 256)               0         \n",
      "_________________________________________________________________\n",
      "dense_5 (Dense)              (None, 7)                 1799      \n",
      "_________________________________________________________________\n",
      "activation_15 (Activation)   (None, 7)                 0         \n",
      "=================================================================\n",
      "Total params: 538,295\n",
      "Trainable params: 538,295\n",
      "Non-trainable params: 0\n",
      "_________________________________________________________________\n"
     ]
    }
   ],
   "source": [
    "model.summary()"
   ]
  },
  {
   "cell_type": "code",
   "execution_count": 0,
   "metadata": {
    "colab": {},
    "colab_type": "code",
    "id": "ipySpUqSb_TI"
   },
   "outputs": [],
   "source": [
    "# 여기는 학습의 효율을 위해. Adam으로 넘어간다.\n",
    "model.compile(optimizer=tf.keras.optimizers.Adam(lr=0.001), loss='categorical_crossentropy',\n",
    "              metrics=['accuracy',macro_f1score,weighted_f1score])"
   ]
  },
  {
   "cell_type": "code",
   "execution_count": 0,
   "metadata": {
    "colab": {},
    "colab_type": "code",
    "id": "SSlrXTG57Ro2"
   },
   "outputs": [],
   "source": [
    "early_stopping = EarlyStopping(monitor='val_macro_f1score',patience=3,verbose=1,mode='max')"
   ]
  },
  {
   "cell_type": "code",
   "execution_count": 0,
   "metadata": {
    "colab": {
     "base_uri": "https://localhost:8080/",
     "height": 1000
    },
    "colab_type": "code",
    "executionInfo": {
     "elapsed": 6436454,
     "status": "ok",
     "timestamp": 1582611083798,
     "user": {
      "displayName": "‍이동규[ 대학원석사과정재학 / 통계학과 ]",
      "photoUrl": "",
      "userId": "08134145419451519269"
     },
     "user_tz": -540
    },
    "id": "xCrOgpYza35L",
    "outputId": "db5a57f3-0e95-4f44-dbc4-5e2a89173561",
    "scrolled": false
   },
   "outputs": [
    {
     "name": "stdout",
     "output_type": "stream",
     "text": [
      "Train on 28698 samples, validate on 3589 samples\n",
      "Epoch 1/100\n",
      "28698/28698 [==============================] - 196s 7ms/sample - loss: 1.8248 - acc: 0.2443 - macro_f1score: 0.0000e+00 - weighted_f1score: 0.0000e+00 - val_loss: 1.8159 - val_acc: 0.2449 - val_macro_f1score: 0.0000e+00 - val_weighted_f1score: 0.0000e+00\n",
      "Epoch 2/100\n",
      "28698/28698 [==============================] - 196s 7ms/sample - loss: 1.8148 - acc: 0.2509 - macro_f1score: 0.0000e+00 - weighted_f1score: 0.0000e+00 - val_loss: 1.8133 - val_acc: 0.2449 - val_macro_f1score: 0.0000e+00 - val_weighted_f1score: 0.0000e+00\n",
      "Epoch 3/100\n",
      "28698/28698 [==============================] - 194s 7ms/sample - loss: 1.7927 - acc: 0.2532 - macro_f1score: 0.0019 - weighted_f1score: 2.2977e-04 - val_loss: 1.7458 - val_acc: 0.2767 - val_macro_f1score: 0.0062 - val_weighted_f1score: 6.2836e-04\n",
      "Epoch 4/100\n",
      "28698/28698 [==============================] - 194s 7ms/sample - loss: 1.6952 - acc: 0.3110 - macro_f1score: 0.0543 - weighted_f1score: 0.0075 - val_loss: 1.5940 - val_acc: 0.3697 - val_macro_f1score: 0.1187 - val_weighted_f1score: 0.0221\n",
      "Epoch 5/100\n",
      "28698/28698 [==============================] - 196s 7ms/sample - loss: 1.5826 - acc: 0.3752 - macro_f1score: 0.1274 - weighted_f1score: 0.0234 - val_loss: 1.4920 - val_acc: 0.4235 - val_macro_f1score: 0.1484 - val_weighted_f1score: 0.0266\n",
      "Epoch 6/100\n",
      "28698/28698 [==============================] - 195s 7ms/sample - loss: 1.4976 - acc: 0.4221 - macro_f1score: 0.1632 - weighted_f1score: 0.0307 - val_loss: 1.4368 - val_acc: 0.4486 - val_macro_f1score: 0.1708 - val_weighted_f1score: 0.0321\n",
      "Epoch 7/100\n",
      "28698/28698 [==============================] - 198s 7ms/sample - loss: 1.4335 - acc: 0.4500 - macro_f1score: 0.1945 - weighted_f1score: 0.0361 - val_loss: 1.3817 - val_acc: 0.4656 - val_macro_f1score: 0.2094 - val_weighted_f1score: 0.0384\n",
      "Epoch 8/100\n",
      "28698/28698 [==============================] - 196s 7ms/sample - loss: 1.3821 - acc: 0.4726 - macro_f1score: 0.2235 - weighted_f1score: 0.0409 - val_loss: 1.3438 - val_acc: 0.4831 - val_macro_f1score: 0.2104 - val_weighted_f1score: 0.0380\n",
      "Epoch 9/100\n",
      "28698/28698 [==============================] - 195s 7ms/sample - loss: 1.3478 - acc: 0.4829 - macro_f1score: 0.2375 - weighted_f1score: 0.0434 - val_loss: 1.3048 - val_acc: 0.4968 - val_macro_f1score: 0.2566 - val_weighted_f1score: 0.0473\n",
      "Epoch 10/100\n",
      "28698/28698 [==============================] - 195s 7ms/sample - loss: 1.3034 - acc: 0.5023 - macro_f1score: 0.2601 - weighted_f1score: 0.0470 - val_loss: 1.3019 - val_acc: 0.4901 - val_macro_f1score: 0.2425 - val_weighted_f1score: 0.0439\n",
      "Epoch 11/100\n",
      "28698/28698 [==============================] - 194s 7ms/sample - loss: 1.2798 - acc: 0.5128 - macro_f1score: 0.2711 - weighted_f1score: 0.0489 - val_loss: 1.2701 - val_acc: 0.5183 - val_macro_f1score: 0.2404 - val_weighted_f1score: 0.0451\n",
      "Epoch 12/100\n",
      "28698/28698 [==============================] - 194s 7ms/sample - loss: 1.2571 - acc: 0.5223 - macro_f1score: 0.2839 - weighted_f1score: 0.0510 - val_loss: 1.2459 - val_acc: 0.5188 - val_macro_f1score: 0.2691 - val_weighted_f1score: 0.0488\n",
      "Epoch 13/100\n",
      "28698/28698 [==============================] - 196s 7ms/sample - loss: 1.2285 - acc: 0.5351 - macro_f1score: 0.2997 - weighted_f1score: 0.0536 - val_loss: 1.2469 - val_acc: 0.5143 - val_macro_f1score: 0.2730 - val_weighted_f1score: 0.0498\n",
      "Epoch 14/100\n",
      "28698/28698 [==============================] - 195s 7ms/sample - loss: 1.2070 - acc: 0.5407 - macro_f1score: 0.3160 - weighted_f1score: 0.0561 - val_loss: 1.2402 - val_acc: 0.5224 - val_macro_f1score: 0.2901 - val_weighted_f1score: 0.0523\n",
      "Epoch 15/100\n",
      "28698/28698 [==============================] - 197s 7ms/sample - loss: 1.1848 - acc: 0.5471 - macro_f1score: 0.3297 - weighted_f1score: 0.0585 - val_loss: 1.2149 - val_acc: 0.5249 - val_macro_f1score: 0.3074 - val_weighted_f1score: 0.0547\n",
      "Epoch 16/100\n",
      "28698/28698 [==============================] - 196s 7ms/sample - loss: 1.1650 - acc: 0.5587 - macro_f1score: 0.3458 - weighted_f1score: 0.0609 - val_loss: 1.2142 - val_acc: 0.5391 - val_macro_f1score: 0.3064 - val_weighted_f1score: 0.0552\n",
      "Epoch 17/100\n",
      "28698/28698 [==============================] - 196s 7ms/sample - loss: 1.1443 - acc: 0.5685 - macro_f1score: 0.3564 - weighted_f1score: 0.0626 - val_loss: 1.2061 - val_acc: 0.5364 - val_macro_f1score: 0.3202 - val_weighted_f1score: 0.0571\n",
      "Epoch 18/100\n",
      "28698/28698 [==============================] - 196s 7ms/sample - loss: 1.1212 - acc: 0.5759 - macro_f1score: 0.3691 - weighted_f1score: 0.0647 - val_loss: 1.2172 - val_acc: 0.5347 - val_macro_f1score: 0.3394 - val_weighted_f1score: 0.0595\n",
      "Epoch 19/100\n",
      "28698/28698 [==============================] - 197s 7ms/sample - loss: 1.1118 - acc: 0.5823 - macro_f1score: 0.3821 - weighted_f1score: 0.0668 - val_loss: 1.2239 - val_acc: 0.5358 - val_macro_f1score: 0.3505 - val_weighted_f1score: 0.0609\n",
      "Epoch 20/100\n",
      "28698/28698 [==============================] - 195s 7ms/sample - loss: 1.0869 - acc: 0.5891 - macro_f1score: 0.3938 - weighted_f1score: 0.0684 - val_loss: 1.1960 - val_acc: 0.5411 - val_macro_f1score: 0.3441 - val_weighted_f1score: 0.0599\n",
      "Epoch 21/100\n",
      "28698/28698 [==============================] - 196s 7ms/sample - loss: 1.0700 - acc: 0.5956 - macro_f1score: 0.4053 - weighted_f1score: 0.0699 - val_loss: 1.1940 - val_acc: 0.5472 - val_macro_f1score: 0.3663 - val_weighted_f1score: 0.0670\n",
      "Epoch 22/100\n",
      "28698/28698 [==============================] - 194s 7ms/sample - loss: 1.0506 - acc: 0.6072 - macro_f1score: 0.4218 - weighted_f1score: 0.0728 - val_loss: 1.2234 - val_acc: 0.5339 - val_macro_f1score: 0.3525 - val_weighted_f1score: 0.0638\n",
      "Epoch 23/100\n",
      "28698/28698 [==============================] - 194s 7ms/sample - loss: 1.0334 - acc: 0.6117 - macro_f1score: 0.4337 - weighted_f1score: 0.0744 - val_loss: 1.2020 - val_acc: 0.5450 - val_macro_f1score: 0.3686 - val_weighted_f1score: 0.0618\n",
      "Epoch 24/100\n",
      "28698/28698 [==============================] - 196s 7ms/sample - loss: 1.0161 - acc: 0.6165 - macro_f1score: 0.4421 - weighted_f1score: 0.0751 - val_loss: 1.2107 - val_acc: 0.5408 - val_macro_f1score: 0.3822 - val_weighted_f1score: 0.0650\n",
      "Epoch 25/100\n",
      "28698/28698 [==============================] - 193s 7ms/sample - loss: 0.9868 - acc: 0.6279 - macro_f1score: 0.4638 - weighted_f1score: 0.0783 - val_loss: 1.2092 - val_acc: 0.5548 - val_macro_f1score: 0.3889 - val_weighted_f1score: 0.0682\n",
      "Epoch 26/100\n",
      "28698/28698 [==============================] - 193s 7ms/sample - loss: 0.9802 - acc: 0.6290 - macro_f1score: 0.4727 - weighted_f1score: 0.0793 - val_loss: 1.2191 - val_acc: 0.5483 - val_macro_f1score: 0.4007 - val_weighted_f1score: 0.0684\n",
      "Epoch 27/100\n",
      "28698/28698 [==============================] - 193s 7ms/sample - loss: 0.9488 - acc: 0.6409 - macro_f1score: 0.4864 - weighted_f1score: 0.0810 - val_loss: 1.2495 - val_acc: 0.5394 - val_macro_f1score: 0.3970 - val_weighted_f1score: 0.0674\n",
      "Epoch 28/100\n",
      "28698/28698 [==============================] - 193s 7ms/sample - loss: 0.9421 - acc: 0.6474 - macro_f1score: 0.4914 - weighted_f1score: 0.0820 - val_loss: 1.2210 - val_acc: 0.5589 - val_macro_f1score: 0.3881 - val_weighted_f1score: 0.0673\n",
      "Epoch 29/100\n",
      "28698/28698 [==============================] - 195s 7ms/sample - loss: 0.9230 - acc: 0.6520 - macro_f1score: 0.5074 - weighted_f1score: 0.0837 - val_loss: 1.2417 - val_acc: 0.5453 - val_macro_f1score: 0.4150 - val_weighted_f1score: 0.0701\n",
      "Epoch 30/100\n",
      "28698/28698 [==============================] - 193s 7ms/sample - loss: 0.9059 - acc: 0.6597 - macro_f1score: 0.5182 - weighted_f1score: 0.0853 - val_loss: 1.2199 - val_acc: 0.5522 - val_macro_f1score: 0.4311 - val_weighted_f1score: 0.0703\n",
      "Epoch 31/100\n",
      "28698/28698 [==============================] - 195s 7ms/sample - loss: 0.8901 - acc: 0.6634 - macro_f1score: 0.5271 - weighted_f1score: 0.0868 - val_loss: 1.2139 - val_acc: 0.5589 - val_macro_f1score: 0.4174 - val_weighted_f1score: 0.0692\n",
      "Epoch 32/100\n",
      "28698/28698 [==============================] - 193s 7ms/sample - loss: 0.8719 - acc: 0.6696 - macro_f1score: 0.5383 - weighted_f1score: 0.0880 - val_loss: 1.2805 - val_acc: 0.5575 - val_macro_f1score: 0.4288 - val_weighted_f1score: 0.0710\n",
      "Epoch 33/100\n",
      "28698/28698 [==============================] - 193s 7ms/sample - loss: 0.8596 - acc: 0.6749 - macro_f1score: 0.5489 - weighted_f1score: 0.0886 - val_loss: 1.2429 - val_acc: 0.5575 - val_macro_f1score: 0.4119 - val_weighted_f1score: 0.0687\n",
      "Epoch 00033: early stopping\n"
     ]
    },
    {
     "data": {
      "text/plain": [
       "<tensorflow.python.keras.callbacks.History at 0x7efe95a09898>"
      ]
     },
     "execution_count": 40,
     "metadata": {
      "tags": []
     },
     "output_type": "execute_result"
    }
   ],
   "source": [
    "# early stopping \n",
    "model.fit(x_train_zoom,y_train,batch_size=128, validation_data=(x_valid_zoom,y_valid) , epochs=100,callbacks=[early_stopping])"
   ]
  },
  {
   "cell_type": "code",
   "execution_count": 0,
   "metadata": {
    "colab": {
     "base_uri": "https://localhost:8080/",
     "height": 71
    },
    "colab_type": "code",
    "executionInfo": {
     "elapsed": 6442406,
     "status": "ok",
     "timestamp": 1582611091531,
     "user": {
      "displayName": "‍이동규[ 대학원석사과정재학 / 통계학과 ]",
      "photoUrl": "",
      "userId": "08134145419451519269"
     },
     "user_tz": -540
    },
    "id": "tx4jkpqMagld",
    "outputId": "47b80c52-9283-4ae6-ffb8-1bc912544689",
    "scrolled": true
   },
   "outputs": [
    {
     "name": "stdout",
     "output_type": "stream",
     "text": [
      "3588/3588 [==============================] - 8s 2ms/sample - loss: 1.2813 - acc: 0.5538 - macro_f1score: 0.4167 - weighted_f1score: 0.0694\n",
      "\n",
      "Accuracy: 0.5538, Macro F1 Score: 0.4167, Weighted F1 Score: 0.0694\n"
     ]
    }
   ],
   "source": [
    "_, acc, mac_f1, wei_f1 = model.evaluate(x_test_zoom,y_test,batch_size=128)\n",
    "print(\"\\nAccuracy: {:.4f}, Macro F1 Score: {:.4f}, Weighted F1 Score: {:.4f}\".format(acc,mac_f1,wei_f1))"
   ]
  },
  {
   "cell_type": "markdown",
   "metadata": {
    "colab_type": "text",
    "id": "AZulQOln5OFK"
   },
   "source": [
    "#### 2) Size = 48"
   ]
  },
  {
   "cell_type": "code",
   "execution_count": 0,
   "metadata": {
    "colab": {},
    "colab_type": "code",
    "id": "awn16_7N5OFM"
   },
   "outputs": [],
   "source": [
    "# 다음의 절차로 모형을 개조한다.\n",
    "\n",
    "# 1. 227의 대략 1/4 연산인 64로 이미지사이즈를 재조정한다.\n",
    "# 2. 모수와 관련이 가장 깊은 fc층에서, 기존의 4096개의 노드를 1/16 (비율) 배 만큼, 즉 256개로줄인다.\n",
    "# 3. 다음과 같이 모형을 재구성한다.\n",
    "\n",
    "# convolution layer\n",
    "# 입력 : 64x64x1\n",
    "# 첫번째 층 : 5x5 필터 24장, strides = 2 -> maxpooling 3x3 , stirdes = 2   ===> 10 x 10 x 24 feature map\n",
    "# 두번째 층 : 3x3 필터 64장, strides = 1, padding = \"same\"                 ===> 14 x 14 x 64 feature map\n",
    "# 세번째 층 : 3x3 필터 96장, strides = 1                                   ===> 12 x 12 x 96 feature map\n",
    "# 네번째 층 : 3x3 필터 96장, strides = 1, padding = \"same\"                 ===> 12 x 12 x 96 feature map\n",
    "# 다섯째 층 : 3x3 필터 64장, strides = 1 -> maxpooling 3x3 , strides = 2   ===> 4 x 4 x 64 feature map\n",
    "\n",
    "# fc layer\n",
    "# 여섯째 층 : 노드 256개, dropout = 0.5\n",
    "# 일곱째 층 : 노드 256개, dropout = 0.5\n",
    "# 여덟째 층 : 노드 7개\n",
    "\n",
    "\n",
    "\n",
    "def Alexnet(img_shape=(48, 48, 1), n_classes=7, l2_reg=0., weights=None):\n",
    "\n",
    "\t# Initialize model\n",
    "\talexnet = Sequential()\n",
    "\n",
    "\n",
    "\t# Layer 1\n",
    "\talexnet.add(Conv2D(24, (5, 5), input_shape=img_shape, strides=2,kernel_regularizer=l2(l2_reg)))\n",
    "\talexnet.add(Activation('relu'))\n",
    "\talexnet.add(LRN(name='layer1_LRN'))\n",
    "\talexnet.add(MaxPooling2D(pool_size=(3, 3),strides=2))\n",
    "\n",
    "\t# Layer 2\n",
    "\talexnet.add(Conv2D(64, (3, 3), padding='same',strides=1,kernel_regularizer=l2(l2_reg)))\n",
    "\talexnet.add(Activation('relu'))\n",
    "\talexnet.add(LRN(name='layer2_LRN'))\n",
    "\n",
    "\t# Layer 3\n",
    "\talexnet.add(Conv2D(96, (3, 3),  strides=1,kernel_regularizer=l2(l2_reg)))\n",
    "\talexnet.add(Activation('relu'))\n",
    "\talexnet.add(LRN(name='layer3_LRN'))\n",
    "\n",
    "\t# Layer 4\n",
    "\talexnet.add(Conv2D(96, (3, 3), padding='same'))\n",
    "\talexnet.add(Activation('relu'))\n",
    "\talexnet.add(LRN(name='layer4_LRN'))\n",
    "\n",
    "\t# Layer 5\n",
    "\talexnet.add(Conv2D(64, (3, 3)))\n",
    "\talexnet.add(Activation('relu'))\n",
    "\talexnet.add(LRN(name='layer5_LRN'))\n",
    "\talexnet.add(MaxPooling2D(pool_size=(3, 3),strides=2))\n",
    "\n",
    "\t# Layer 6\n",
    "\talexnet.add(Flatten())\n",
    "\talexnet.add(Dense(256,kernel_regularizer=l2(l2_reg)))\n",
    "\n",
    "\talexnet.add(Activation('relu'))\n",
    "\talexnet.add(Dropout(0.5))\n",
    "\n",
    "\t# Layer 7\n",
    "\talexnet.add(Dense(256,kernel_regularizer=l2(l2_reg)))\n",
    "\talexnet.add(Activation('relu'))\n",
    "\talexnet.add(Dropout(0.5))\n",
    "\n",
    "\t# Layer 8\n",
    "\talexnet.add(Dense(n_classes))\n",
    "\talexnet.add(Activation('softmax'))\n",
    "\n",
    "\tif weights is not None:\n",
    "\t\talexnet.load_weights(weights)\n",
    "\n",
    "\treturn alexnet"
   ]
  },
  {
   "cell_type": "code",
   "execution_count": 0,
   "metadata": {
    "colab": {},
    "colab_type": "code",
    "id": "IpvNZ_S46glS"
   },
   "outputs": [],
   "source": [
    "#내 데이터 맞춤형 모형\n",
    "model = Alexnet(img_shape=(48, 48, 1), n_classes=7, l2_reg=0.,weights=None)"
   ]
  },
  {
   "cell_type": "code",
   "execution_count": 0,
   "metadata": {
    "colab": {
     "base_uri": "https://localhost:8080/",
     "height": 1000
    },
    "colab_type": "code",
    "executionInfo": {
     "elapsed": 608,
     "status": "ok",
     "timestamp": 1582611145734,
     "user": {
      "displayName": "‍이동규[ 대학원석사과정재학 / 통계학과 ]",
      "photoUrl": "",
      "userId": "08134145419451519269"
     },
     "user_tz": -540
    },
    "id": "MP0_eJO16kYn",
    "outputId": "1a234ff5-051f-415e-f678-17869ba01500"
   },
   "outputs": [
    {
     "name": "stdout",
     "output_type": "stream",
     "text": [
      "Model: \"sequential_4\"\n",
      "_________________________________________________________________\n",
      "Layer (type)                 Output Shape              Param #   \n",
      "=================================================================\n",
      "conv2d_20 (Conv2D)           (None, 22, 22, 24)        624       \n",
      "_________________________________________________________________\n",
      "activation_32 (Activation)   (None, 22, 22, 24)        0         \n",
      "_________________________________________________________________\n",
      "layer1_LRN (LRN)             (None, 22, 22, 24)        0         \n",
      "_________________________________________________________________\n",
      "max_pooling2d_8 (MaxPooling2 (None, 10, 10, 24)        0         \n",
      "_________________________________________________________________\n",
      "conv2d_21 (Conv2D)           (None, 10, 10, 64)        13888     \n",
      "_________________________________________________________________\n",
      "activation_33 (Activation)   (None, 10, 10, 64)        0         \n",
      "_________________________________________________________________\n",
      "layer2_LRN (LRN)             (None, 10, 10, 64)        0         \n",
      "_________________________________________________________________\n",
      "conv2d_22 (Conv2D)           (None, 8, 8, 96)          55392     \n",
      "_________________________________________________________________\n",
      "activation_34 (Activation)   (None, 8, 8, 96)          0         \n",
      "_________________________________________________________________\n",
      "layer3_LRN (LRN)             (None, 8, 8, 96)          0         \n",
      "_________________________________________________________________\n",
      "conv2d_23 (Conv2D)           (None, 8, 8, 96)          83040     \n",
      "_________________________________________________________________\n",
      "activation_35 (Activation)   (None, 8, 8, 96)          0         \n",
      "_________________________________________________________________\n",
      "layer4_LRN (LRN)             (None, 8, 8, 96)          0         \n",
      "_________________________________________________________________\n",
      "conv2d_24 (Conv2D)           (None, 6, 6, 64)          55360     \n",
      "_________________________________________________________________\n",
      "activation_36 (Activation)   (None, 6, 6, 64)          0         \n",
      "_________________________________________________________________\n",
      "layer5_LRN (LRN)             (None, 6, 6, 64)          0         \n",
      "_________________________________________________________________\n",
      "max_pooling2d_9 (MaxPooling2 (None, 2, 2, 64)          0         \n",
      "_________________________________________________________________\n",
      "flatten_4 (Flatten)          (None, 256)               0         \n",
      "_________________________________________________________________\n",
      "dense_12 (Dense)             (None, 256)               65792     \n",
      "_________________________________________________________________\n",
      "activation_37 (Activation)   (None, 256)               0         \n",
      "_________________________________________________________________\n",
      "dropout_8 (Dropout)          (None, 256)               0         \n",
      "_________________________________________________________________\n",
      "dense_13 (Dense)             (None, 256)               65792     \n",
      "_________________________________________________________________\n",
      "activation_38 (Activation)   (None, 256)               0         \n",
      "_________________________________________________________________\n",
      "dropout_9 (Dropout)          (None, 256)               0         \n",
      "_________________________________________________________________\n",
      "dense_14 (Dense)             (None, 7)                 1799      \n",
      "_________________________________________________________________\n",
      "activation_39 (Activation)   (None, 7)                 0         \n",
      "=================================================================\n",
      "Total params: 341,687\n",
      "Trainable params: 341,687\n",
      "Non-trainable params: 0\n",
      "_________________________________________________________________\n"
     ]
    }
   ],
   "source": [
    "model.summary()"
   ]
  },
  {
   "cell_type": "code",
   "execution_count": 0,
   "metadata": {
    "colab": {},
    "colab_type": "code",
    "id": "fgvI2ih45OFP"
   },
   "outputs": [],
   "source": [
    "# 여기는 학습의 효율을 위해. Adam으로 넘어간다.\n",
    "model.compile(optimizer=tf.keras.optimizers.Adam(lr=0.001), loss='categorical_crossentropy',\n",
    "              metrics=['accuracy',macro_f1score,weighted_f1score])"
   ]
  },
  {
   "cell_type": "code",
   "execution_count": 0,
   "metadata": {
    "colab": {},
    "colab_type": "code",
    "id": "GtKWoWXi5OFU"
   },
   "outputs": [],
   "source": [
    "early_stopping = EarlyStopping(monitor='val_macro_f1score',patience=3,verbose=1,mode='max')"
   ]
  },
  {
   "cell_type": "code",
   "execution_count": 0,
   "metadata": {
    "colab": {
     "base_uri": "https://localhost:8080/",
     "height": 1000
    },
    "colab_type": "code",
    "executionInfo": {
     "elapsed": 2783383,
     "status": "ok",
     "timestamp": 1582613934284,
     "user": {
      "displayName": "‍이동규[ 대학원석사과정재학 / 통계학과 ]",
      "photoUrl": "",
      "userId": "08134145419451519269"
     },
     "user_tz": -540
    },
    "id": "WjKY-EtF5OFX",
    "outputId": "891fa65b-e0b4-463a-853f-1fe03aba5975"
   },
   "outputs": [
    {
     "name": "stdout",
     "output_type": "stream",
     "text": [
      "Train on 28698 samples, validate on 3589 samples\n",
      "Epoch 1/100\n",
      "28698/28698 [==============================] - 97s 3ms/sample - loss: 1.9048 - acc: 0.2390 - macro_f1score: 0.0022 - weighted_f1score: 3.8506e-04 - val_loss: 1.8137 - val_acc: 0.2449 - val_macro_f1score: 0.0000e+00 - val_weighted_f1score: 0.0000e+00\n",
      "Epoch 2/100\n",
      "28698/28698 [==============================] - 95s 3ms/sample - loss: 1.7417 - acc: 0.2885 - macro_f1score: 0.0408 - weighted_f1score: 0.0103 - val_loss: 1.6544 - val_acc: 0.3369 - val_macro_f1score: 0.0780 - val_weighted_f1score: 0.0196\n",
      "Epoch 3/100\n",
      "28698/28698 [==============================] - 95s 3ms/sample - loss: 1.6641 - acc: 0.3336 - macro_f1score: 0.0756 - weighted_f1score: 0.0187 - val_loss: 1.6205 - val_acc: 0.3522 - val_macro_f1score: 0.0873 - val_weighted_f1score: 0.0223\n",
      "Epoch 4/100\n",
      "28698/28698 [==============================] - 96s 3ms/sample - loss: 1.6079 - acc: 0.3632 - macro_f1score: 0.1028 - weighted_f1score: 0.0228 - val_loss: 1.5585 - val_acc: 0.3901 - val_macro_f1score: 0.1143 - val_weighted_f1score: 0.0240\n",
      "Epoch 5/100\n",
      "28698/28698 [==============================] - 95s 3ms/sample - loss: 1.5330 - acc: 0.3965 - macro_f1score: 0.1419 - weighted_f1score: 0.0280 - val_loss: 1.5887 - val_acc: 0.3806 - val_macro_f1score: 0.0905 - val_weighted_f1score: 0.0159\n",
      "Epoch 6/100\n",
      "28698/28698 [==============================] - 95s 3ms/sample - loss: 1.4902 - acc: 0.4146 - macro_f1score: 0.1613 - weighted_f1score: 0.0307 - val_loss: 1.4723 - val_acc: 0.4232 - val_macro_f1score: 0.1563 - val_weighted_f1score: 0.0299\n",
      "Epoch 7/100\n",
      "28698/28698 [==============================] - 96s 3ms/sample - loss: 1.4488 - acc: 0.4355 - macro_f1score: 0.1787 - weighted_f1score: 0.0337 - val_loss: 1.4319 - val_acc: 0.4472 - val_macro_f1score: 0.1542 - val_weighted_f1score: 0.0294\n",
      "Epoch 8/100\n",
      "28698/28698 [==============================] - 95s 3ms/sample - loss: 1.4232 - acc: 0.4486 - macro_f1score: 0.1921 - weighted_f1score: 0.0357 - val_loss: 1.4292 - val_acc: 0.4439 - val_macro_f1score: 0.1730 - val_weighted_f1score: 0.0321\n",
      "Epoch 9/100\n",
      "28698/28698 [==============================] - 96s 3ms/sample - loss: 1.4036 - acc: 0.4588 - macro_f1score: 0.2003 - weighted_f1score: 0.0373 - val_loss: 1.3716 - val_acc: 0.4648 - val_macro_f1score: 0.2099 - val_weighted_f1score: 0.0397\n",
      "Epoch 10/100\n",
      "28698/28698 [==============================] - 98s 3ms/sample - loss: 1.3650 - acc: 0.4750 - macro_f1score: 0.2192 - weighted_f1score: 0.0404 - val_loss: 1.3967 - val_acc: 0.4578 - val_macro_f1score: 0.1841 - val_weighted_f1score: 0.0332\n",
      "Epoch 11/100\n",
      "28698/28698 [==============================] - 95s 3ms/sample - loss: 1.3452 - acc: 0.4830 - macro_f1score: 0.2294 - weighted_f1score: 0.0420 - val_loss: 1.3723 - val_acc: 0.4684 - val_macro_f1score: 0.2160 - val_weighted_f1score: 0.0417\n",
      "Epoch 12/100\n",
      "28698/28698 [==============================] - 95s 3ms/sample - loss: 1.3226 - acc: 0.4941 - macro_f1score: 0.2432 - weighted_f1score: 0.0440 - val_loss: 1.3463 - val_acc: 0.4859 - val_macro_f1score: 0.2277 - val_weighted_f1score: 0.0446\n",
      "Epoch 13/100\n",
      "28698/28698 [==============================] - 96s 3ms/sample - loss: 1.3025 - acc: 0.4991 - macro_f1score: 0.2529 - weighted_f1score: 0.0459 - val_loss: 1.3305 - val_acc: 0.4798 - val_macro_f1score: 0.2398 - val_weighted_f1score: 0.0439\n",
      "Epoch 14/100\n",
      "28698/28698 [==============================] - 96s 3ms/sample - loss: 1.2823 - acc: 0.5074 - macro_f1score: 0.2625 - weighted_f1score: 0.0474 - val_loss: 1.3311 - val_acc: 0.4820 - val_macro_f1score: 0.2464 - val_weighted_f1score: 0.0452\n",
      "Epoch 15/100\n",
      "28698/28698 [==============================] - 97s 3ms/sample - loss: 1.2543 - acc: 0.5192 - macro_f1score: 0.2790 - weighted_f1score: 0.0501 - val_loss: 1.3057 - val_acc: 0.4884 - val_macro_f1score: 0.2470 - val_weighted_f1score: 0.0459\n",
      "Epoch 16/100\n",
      "28698/28698 [==============================] - 95s 3ms/sample - loss: 1.2383 - acc: 0.5252 - macro_f1score: 0.2855 - weighted_f1score: 0.0513 - val_loss: 1.3370 - val_acc: 0.4851 - val_macro_f1score: 0.2297 - val_weighted_f1score: 0.0415\n",
      "Epoch 17/100\n",
      "28698/28698 [==============================] - 96s 3ms/sample - loss: 1.2129 - acc: 0.5339 - macro_f1score: 0.3014 - weighted_f1score: 0.0537 - val_loss: 1.3513 - val_acc: 0.4826 - val_macro_f1score: 0.2214 - val_weighted_f1score: 0.0397\n",
      "Epoch 18/100\n",
      "28698/28698 [==============================] - 96s 3ms/sample - loss: 1.1969 - acc: 0.5402 - macro_f1score: 0.3090 - weighted_f1score: 0.0553 - val_loss: 1.2828 - val_acc: 0.5060 - val_macro_f1score: 0.2717 - val_weighted_f1score: 0.0503\n",
      "Epoch 19/100\n",
      "28698/28698 [==============================] - 96s 3ms/sample - loss: 1.1738 - acc: 0.5481 - macro_f1score: 0.3240 - weighted_f1score: 0.0573 - val_loss: 1.2991 - val_acc: 0.4965 - val_macro_f1score: 0.2677 - val_weighted_f1score: 0.0482\n",
      "Epoch 20/100\n",
      "28698/28698 [==============================] - 96s 3ms/sample - loss: 1.1467 - acc: 0.5620 - macro_f1score: 0.3466 - weighted_f1score: 0.0604 - val_loss: 1.2988 - val_acc: 0.5091 - val_macro_f1score: 0.2979 - val_weighted_f1score: 0.0529\n",
      "Epoch 21/100\n",
      "28698/28698 [==============================] - 95s 3ms/sample - loss: 1.1122 - acc: 0.5771 - macro_f1score: 0.3723 - weighted_f1score: 0.0639 - val_loss: 1.3117 - val_acc: 0.5068 - val_macro_f1score: 0.3070 - val_weighted_f1score: 0.0540\n",
      "Epoch 22/100\n",
      "28698/28698 [==============================] - 95s 3ms/sample - loss: 1.0876 - acc: 0.5845 - macro_f1score: 0.3849 - weighted_f1score: 0.0659 - val_loss: 1.3174 - val_acc: 0.5029 - val_macro_f1score: 0.3151 - val_weighted_f1score: 0.0544\n",
      "Epoch 23/100\n",
      "28698/28698 [==============================] - 95s 3ms/sample - loss: 1.0717 - acc: 0.5928 - macro_f1score: 0.3977 - weighted_f1score: 0.0680 - val_loss: 1.3259 - val_acc: 0.5049 - val_macro_f1score: 0.3218 - val_weighted_f1score: 0.0565\n",
      "Epoch 24/100\n",
      "28698/28698 [==============================] - 95s 3ms/sample - loss: 1.0279 - acc: 0.6071 - macro_f1score: 0.4299 - weighted_f1score: 0.0719 - val_loss: 1.3340 - val_acc: 0.4976 - val_macro_f1score: 0.2949 - val_weighted_f1score: 0.0520\n",
      "Epoch 25/100\n",
      "28698/28698 [==============================] - 95s 3ms/sample - loss: 1.0133 - acc: 0.6177 - macro_f1score: 0.4475 - weighted_f1score: 0.0739 - val_loss: 1.3760 - val_acc: 0.5074 - val_macro_f1score: 0.3306 - val_weighted_f1score: 0.0577\n",
      "Epoch 26/100\n",
      "28698/28698 [==============================] - 95s 3ms/sample - loss: 0.9790 - acc: 0.6311 - macro_f1score: 0.4647 - weighted_f1score: 0.0770 - val_loss: 1.3944 - val_acc: 0.5127 - val_macro_f1score: 0.3708 - val_weighted_f1score: 0.0619\n",
      "Epoch 27/100\n",
      "28698/28698 [==============================] - 95s 3ms/sample - loss: 0.9613 - acc: 0.6391 - macro_f1score: 0.4807 - weighted_f1score: 0.0787 - val_loss: 1.3536 - val_acc: 0.5127 - val_macro_f1score: 0.3652 - val_weighted_f1score: 0.0627\n",
      "Epoch 28/100\n",
      "28698/28698 [==============================] - 96s 3ms/sample - loss: 0.9231 - acc: 0.6553 - macro_f1score: 0.5084 - weighted_f1score: 0.0827 - val_loss: 1.4123 - val_acc: 0.5057 - val_macro_f1score: 0.3619 - val_weighted_f1score: 0.0630\n",
      "Epoch 29/100\n",
      "28698/28698 [==============================] - 101s 4ms/sample - loss: 0.8909 - acc: 0.6650 - macro_f1score: 0.5302 - weighted_f1score: 0.0852 - val_loss: 1.3837 - val_acc: 0.5068 - val_macro_f1score: 0.3669 - val_weighted_f1score: 0.0604\n",
      "Epoch 00029: early stopping\n"
     ]
    },
    {
     "data": {
      "text/plain": [
       "<tensorflow.python.keras.callbacks.History at 0x7efe94e708d0>"
      ]
     },
     "execution_count": 55,
     "metadata": {
      "tags": []
     },
     "output_type": "execute_result"
    }
   ],
   "source": [
    "# early stopping \n",
    "model.fit(x_train,y_train,batch_size=128, validation_data=(x_valid,y_valid) , epochs=100,callbacks=[early_stopping])"
   ]
  },
  {
   "cell_type": "code",
   "execution_count": 0,
   "metadata": {
    "colab": {
     "base_uri": "https://localhost:8080/",
     "height": 71
    },
    "colab_type": "code",
    "executionInfo": {
     "elapsed": 2784752,
     "status": "ok",
     "timestamp": 1582613937288,
     "user": {
      "displayName": "‍이동규[ 대학원석사과정재학 / 통계학과 ]",
      "photoUrl": "",
      "userId": "08134145419451519269"
     },
     "user_tz": -540
    },
    "id": "Gww6lUzt5OFa",
    "outputId": "ba9dc1b3-3c80-4900-f160-50dc674f7082"
   },
   "outputs": [
    {
     "name": "stdout",
     "output_type": "stream",
     "text": [
      "3588/3588 [==============================] - 3s 855us/sample - loss: 1.4436 - acc: 0.5061 - macro_f1score: 0.3665 - weighted_f1score: 0.0618\n",
      "\n",
      "Accuracy: 0.5061, Macro F1 Score: 0.3665, Weighted F1 Score: 0.0618\n"
     ]
    }
   ],
   "source": [
    "_, acc, mac_f1, wei_f1 = model.evaluate(x_test,y_test,batch_size=128)\n",
    "print(\"\\nAccuracy: {:.4f}, Macro F1 Score: {:.4f}, Weighted F1 Score: {:.4f}\".format(acc,mac_f1,wei_f1))"
   ]
  },
  {
   "cell_type": "markdown",
   "metadata": {
    "colab_type": "text",
    "id": "fRKo8Wjy7_B4"
   },
   "source": [
    "## 3. Size = 48 , No Early Stopping\n",
    "---"
   ]
  },
  {
   "cell_type": "markdown",
   "metadata": {
    "colab_type": "text",
    "id": "awydQFNZ7_Ep"
   },
   "source": [
    "### 1) Epoch = 50"
   ]
  },
  {
   "cell_type": "code",
   "execution_count": 0,
   "metadata": {
    "colab": {},
    "colab_type": "code",
    "id": "vcWika1_lrH-"
   },
   "outputs": [],
   "source": [
    "### early stopping 없이 ###"
   ]
  },
  {
   "cell_type": "code",
   "execution_count": 0,
   "metadata": {
    "colab": {
     "base_uri": "https://localhost:8080/",
     "height": 91
    },
    "colab_type": "code",
    "executionInfo": {
     "elapsed": 2061,
     "status": "ok",
     "timestamp": 1582677506169,
     "user": {
      "displayName": "‍이동규[ 대학원석사과정재학 / 통계학과 ]",
      "photoUrl": "",
      "userId": "08134145419451519269"
     },
     "user_tz": -540
    },
    "id": "C9Tc7DsXlrRl",
    "outputId": "99b97442-ca44-4d21-c415-918c7debbf7a"
   },
   "outputs": [
    {
     "name": "stdout",
     "output_type": "stream",
     "text": [
      "WARNING:tensorflow:From /usr/local/lib/python3.6/dist-packages/tensorflow_core/python/ops/resource_variable_ops.py:1630: calling BaseResourceVariable.__init__ (from tensorflow.python.ops.resource_variable_ops) with constraint is deprecated and will be removed in a future version.\n",
      "Instructions for updating:\n",
      "If using Keras pass *_constraint arguments to layers.\n"
     ]
    }
   ],
   "source": [
    "#내 데이터 맞춤형 모형\n",
    "model = Alexnet(img_shape=(48, 48, 1), n_classes=7, l2_reg=0.,weights=None)"
   ]
  },
  {
   "cell_type": "code",
   "execution_count": 0,
   "metadata": {
    "colab": {},
    "colab_type": "code",
    "id": "8pFI8gf8lrV3"
   },
   "outputs": [],
   "source": [
    "# 여기는 학습의 효율을 위해. Adam으로 넘어간다.\n",
    "model.compile(optimizer=tf.keras.optimizers.Adam(lr=0.001), loss='categorical_crossentropy',\n",
    "              metrics=['accuracy',macro_f1score,weighted_f1score])"
   ]
  },
  {
   "cell_type": "code",
   "execution_count": 0,
   "metadata": {
    "colab": {
     "base_uri": "https://localhost:8080/",
     "height": 1000
    },
    "colab_type": "code",
    "executionInfo": {
     "elapsed": 4707582,
     "status": "ok",
     "timestamp": 1582682219075,
     "user": {
      "displayName": "‍이동규[ 대학원석사과정재학 / 통계학과 ]",
      "photoUrl": "",
      "userId": "08134145419451519269"
     },
     "user_tz": -540
    },
    "id": "5GGVdpQ3lrUc",
    "outputId": "d7cf6b43-fe78-4549-85ed-e296f252a7dd"
   },
   "outputs": [
    {
     "name": "stdout",
     "output_type": "stream",
     "text": [
      "WARNING:tensorflow:From /usr/local/lib/python3.6/dist-packages/tensorflow_core/python/ops/math_grad.py:1375: where (from tensorflow.python.ops.array_ops) is deprecated and will be removed in a future version.\n",
      "Instructions for updating:\n",
      "Use tf.where in 2.0, which has the same broadcast rule as np.where\n",
      "Train on 28698 samples, validate on 3589 samples\n",
      "Epoch 1/50\n",
      "28698/28698 [==============================] - 95s 3ms/sample - loss: 1.8570 - acc: 0.2407 - macro_f1score: 0.0026 - weighted_f1score: 4.5010e-04 - val_loss: 1.7650 - val_acc: 0.2686 - val_macro_f1score: 6.1576e-04 - val_weighted_f1score: 7.2160e-05\n",
      "Epoch 2/50\n",
      "28698/28698 [==============================] - 95s 3ms/sample - loss: 1.6773 - acc: 0.3249 - macro_f1score: 0.0771 - weighted_f1score: 0.0131 - val_loss: 1.6173 - val_acc: 0.3511 - val_macro_f1score: 0.1425 - val_weighted_f1score: 0.0261\n",
      "Epoch 3/50\n",
      "28698/28698 [==============================] - 94s 3ms/sample - loss: 1.5590 - acc: 0.3956 - macro_f1score: 0.1386 - weighted_f1score: 0.0261 - val_loss: 1.5232 - val_acc: 0.4152 - val_macro_f1score: 0.1499 - val_weighted_f1score: 0.0306\n",
      "Epoch 4/50\n",
      "28698/28698 [==============================] - 94s 3ms/sample - loss: 1.4749 - acc: 0.4310 - macro_f1score: 0.1692 - weighted_f1score: 0.0319 - val_loss: 1.4308 - val_acc: 0.4408 - val_macro_f1score: 0.1838 - val_weighted_f1score: 0.0349\n",
      "Epoch 5/50\n",
      "28698/28698 [==============================] - 95s 3ms/sample - loss: 1.4183 - acc: 0.4549 - macro_f1score: 0.1995 - weighted_f1score: 0.0368 - val_loss: 1.4117 - val_acc: 0.4533 - val_macro_f1score: 0.2111 - val_weighted_f1score: 0.0392\n",
      "Epoch 6/50\n",
      "28698/28698 [==============================] - 94s 3ms/sample - loss: 1.3709 - acc: 0.4778 - macro_f1score: 0.2215 - weighted_f1score: 0.0404 - val_loss: 1.3745 - val_acc: 0.4664 - val_macro_f1score: 0.2057 - val_weighted_f1score: 0.0378\n",
      "Epoch 7/50\n",
      "28698/28698 [==============================] - 94s 3ms/sample - loss: 1.3286 - acc: 0.4964 - macro_f1score: 0.2460 - weighted_f1score: 0.0450 - val_loss: 1.3374 - val_acc: 0.4887 - val_macro_f1score: 0.2301 - val_weighted_f1score: 0.0414\n",
      "Epoch 8/50\n",
      "28698/28698 [==============================] - 94s 3ms/sample - loss: 1.2917 - acc: 0.5057 - macro_f1score: 0.2667 - weighted_f1score: 0.0482 - val_loss: 1.3500 - val_acc: 0.4765 - val_macro_f1score: 0.2330 - val_weighted_f1score: 0.0429\n",
      "Epoch 9/50\n",
      "28698/28698 [==============================] - 95s 3ms/sample - loss: 1.2605 - acc: 0.5159 - macro_f1score: 0.2825 - weighted_f1score: 0.0508 - val_loss: 1.3016 - val_acc: 0.4982 - val_macro_f1score: 0.2646 - val_weighted_f1score: 0.0474\n",
      "Epoch 10/50\n",
      "28698/28698 [==============================] - 94s 3ms/sample - loss: 1.2135 - acc: 0.5407 - macro_f1score: 0.3145 - weighted_f1score: 0.0559 - val_loss: 1.3160 - val_acc: 0.4943 - val_macro_f1score: 0.2592 - val_weighted_f1score: 0.0466\n",
      "Epoch 11/50\n",
      "28698/28698 [==============================] - 94s 3ms/sample - loss: 1.1726 - acc: 0.5543 - macro_f1score: 0.3376 - weighted_f1score: 0.0596 - val_loss: 1.2943 - val_acc: 0.5032 - val_macro_f1score: 0.2657 - val_weighted_f1score: 0.0471\n",
      "Epoch 12/50\n",
      "28698/28698 [==============================] - 94s 3ms/sample - loss: 1.1374 - acc: 0.5719 - macro_f1score: 0.3627 - weighted_f1score: 0.0634 - val_loss: 1.2716 - val_acc: 0.5171 - val_macro_f1score: 0.3017 - val_weighted_f1score: 0.0531\n",
      "Epoch 13/50\n",
      "28698/28698 [==============================] - 94s 3ms/sample - loss: 1.0988 - acc: 0.5865 - macro_f1score: 0.3915 - weighted_f1score: 0.0678 - val_loss: 1.2934 - val_acc: 0.5205 - val_macro_f1score: 0.3238 - val_weighted_f1score: 0.0574\n",
      "Epoch 14/50\n",
      "28698/28698 [==============================] - 94s 3ms/sample - loss: 1.0594 - acc: 0.6047 - macro_f1score: 0.4187 - weighted_f1score: 0.0714 - val_loss: 1.3055 - val_acc: 0.5174 - val_macro_f1score: 0.3227 - val_weighted_f1score: 0.0575\n",
      "Epoch 15/50\n",
      "28698/28698 [==============================] - 95s 3ms/sample - loss: 1.0155 - acc: 0.6199 - macro_f1score: 0.4426 - weighted_f1score: 0.0750 - val_loss: 1.3234 - val_acc: 0.5213 - val_macro_f1score: 0.3735 - val_weighted_f1score: 0.0615\n",
      "Epoch 16/50\n",
      "28698/28698 [==============================] - 94s 3ms/sample - loss: 0.9784 - acc: 0.6349 - macro_f1score: 0.4683 - weighted_f1score: 0.0787 - val_loss: 1.3628 - val_acc: 0.5099 - val_macro_f1score: 0.3461 - val_weighted_f1score: 0.0592\n",
      "Epoch 17/50\n",
      "28698/28698 [==============================] - 94s 3ms/sample - loss: 0.9432 - acc: 0.6507 - macro_f1score: 0.4990 - weighted_f1score: 0.0825 - val_loss: 1.3873 - val_acc: 0.5152 - val_macro_f1score: 0.3604 - val_weighted_f1score: 0.0623\n",
      "Epoch 18/50\n",
      "28698/28698 [==============================] - 94s 3ms/sample - loss: 0.9020 - acc: 0.6637 - macro_f1score: 0.5291 - weighted_f1score: 0.0859 - val_loss: 1.3946 - val_acc: 0.5096 - val_macro_f1score: 0.3935 - val_weighted_f1score: 0.0667\n",
      "Epoch 19/50\n",
      "28698/28698 [==============================] - 95s 3ms/sample - loss: 0.8488 - acc: 0.6842 - macro_f1score: 0.5653 - weighted_f1score: 0.0900 - val_loss: 1.4299 - val_acc: 0.5149 - val_macro_f1score: 0.4002 - val_weighted_f1score: 0.0666\n",
      "Epoch 20/50\n",
      "28698/28698 [==============================] - 94s 3ms/sample - loss: 0.8095 - acc: 0.6979 - macro_f1score: 0.5868 - weighted_f1score: 0.0934 - val_loss: 1.4329 - val_acc: 0.5040 - val_macro_f1score: 0.3838 - val_weighted_f1score: 0.0635\n",
      "Epoch 21/50\n",
      "28698/28698 [==============================] - 94s 3ms/sample - loss: 0.7753 - acc: 0.7163 - macro_f1score: 0.6155 - weighted_f1score: 0.0964 - val_loss: 1.5084 - val_acc: 0.5096 - val_macro_f1score: 0.4095 - val_weighted_f1score: 0.0665\n",
      "Epoch 22/50\n",
      "28698/28698 [==============================] - 95s 3ms/sample - loss: 0.7346 - acc: 0.7313 - macro_f1score: 0.6335 - weighted_f1score: 0.0995 - val_loss: 1.5522 - val_acc: 0.5046 - val_macro_f1score: 0.4242 - val_weighted_f1score: 0.0692\n",
      "Epoch 23/50\n",
      "28698/28698 [==============================] - 94s 3ms/sample - loss: 0.6987 - acc: 0.7464 - macro_f1score: 0.6582 - weighted_f1score: 0.1025 - val_loss: 1.5376 - val_acc: 0.5224 - val_macro_f1score: 0.4263 - val_weighted_f1score: 0.0687\n",
      "Epoch 24/50\n",
      "28698/28698 [==============================] - 94s 3ms/sample - loss: 0.6563 - acc: 0.7598 - macro_f1score: 0.6759 - weighted_f1score: 0.1048 - val_loss: 1.6059 - val_acc: 0.5224 - val_macro_f1score: 0.4316 - val_weighted_f1score: 0.0691\n",
      "Epoch 25/50\n",
      "28698/28698 [==============================] - 95s 3ms/sample - loss: 0.6180 - acc: 0.7773 - macro_f1score: 0.6998 - weighted_f1score: 0.1081 - val_loss: 1.6073 - val_acc: 0.5152 - val_macro_f1score: 0.4205 - val_weighted_f1score: 0.0678\n",
      "Epoch 26/50\n",
      "28698/28698 [==============================] - 94s 3ms/sample - loss: 0.6014 - acc: 0.7833 - macro_f1score: 0.7045 - weighted_f1score: 0.1089 - val_loss: 1.6947 - val_acc: 0.5252 - val_macro_f1score: 0.4305 - val_weighted_f1score: 0.0690\n",
      "Epoch 27/50\n",
      "28698/28698 [==============================] - 94s 3ms/sample - loss: 0.5510 - acc: 0.8026 - macro_f1score: 0.7341 - weighted_f1score: 0.1125 - val_loss: 1.8685 - val_acc: 0.5191 - val_macro_f1score: 0.4427 - val_weighted_f1score: 0.0731\n",
      "Epoch 28/50\n",
      "28698/28698 [==============================] - 94s 3ms/sample - loss: 0.5341 - acc: 0.8085 - macro_f1score: 0.7453 - weighted_f1score: 0.1138 - val_loss: 1.8755 - val_acc: 0.5249 - val_macro_f1score: 0.4340 - val_weighted_f1score: 0.0696\n",
      "Epoch 29/50\n",
      "28698/28698 [==============================] - 94s 3ms/sample - loss: 0.4896 - acc: 0.8251 - macro_f1score: 0.7676 - weighted_f1score: 0.1164 - val_loss: 1.8869 - val_acc: 0.5208 - val_macro_f1score: 0.4315 - val_weighted_f1score: 0.0711\n",
      "Epoch 30/50\n",
      "28698/28698 [==============================] - 93s 3ms/sample - loss: 0.4801 - acc: 0.8313 - macro_f1score: 0.7687 - weighted_f1score: 0.1172 - val_loss: 1.9474 - val_acc: 0.5235 - val_macro_f1score: 0.4555 - val_weighted_f1score: 0.0715\n",
      "Epoch 31/50\n",
      "28698/28698 [==============================] - 93s 3ms/sample - loss: 0.4556 - acc: 0.8400 - macro_f1score: 0.7828 - weighted_f1score: 0.1187 - val_loss: 1.9636 - val_acc: 0.5049 - val_macro_f1score: 0.4352 - val_weighted_f1score: 0.0697\n",
      "Epoch 32/50\n",
      "28698/28698 [==============================] - 95s 3ms/sample - loss: 0.4169 - acc: 0.8523 - macro_f1score: 0.7935 - weighted_f1score: 0.1209 - val_loss: 2.1382 - val_acc: 0.5130 - val_macro_f1score: 0.4322 - val_weighted_f1score: 0.0697\n",
      "Epoch 33/50\n",
      "28698/28698 [==============================] - 94s 3ms/sample - loss: 0.4241 - acc: 0.8507 - macro_f1score: 0.7954 - weighted_f1score: 0.1206 - val_loss: 2.0542 - val_acc: 0.5171 - val_macro_f1score: 0.4573 - val_weighted_f1score: 0.0711\n",
      "Epoch 34/50\n",
      "28698/28698 [==============================] - 93s 3ms/sample - loss: 0.3905 - acc: 0.8648 - macro_f1score: 0.8124 - weighted_f1score: 0.1226 - val_loss: 2.1207 - val_acc: 0.5213 - val_macro_f1score: 0.4647 - val_weighted_f1score: 0.0725\n",
      "Epoch 35/50\n",
      "28698/28698 [==============================] - 94s 3ms/sample - loss: 0.3729 - acc: 0.8712 - macro_f1score: 0.8168 - weighted_f1score: 0.1237 - val_loss: 2.1456 - val_acc: 0.5121 - val_macro_f1score: 0.4578 - val_weighted_f1score: 0.0708\n",
      "Epoch 36/50\n",
      "28698/28698 [==============================] - 93s 3ms/sample - loss: 0.3680 - acc: 0.8717 - macro_f1score: 0.8206 - weighted_f1score: 0.1240 - val_loss: 2.1305 - val_acc: 0.5230 - val_macro_f1score: 0.4712 - val_weighted_f1score: 0.0727\n",
      "Epoch 37/50\n",
      "28698/28698 [==============================] - 93s 3ms/sample - loss: 0.3283 - acc: 0.8867 - macro_f1score: 0.8410 - weighted_f1score: 0.1263 - val_loss: 2.2717 - val_acc: 0.5160 - val_macro_f1score: 0.4589 - val_weighted_f1score: 0.0728\n",
      "Epoch 38/50\n",
      "28698/28698 [==============================] - 94s 3ms/sample - loss: 0.3321 - acc: 0.8868 - macro_f1score: 0.8453 - weighted_f1score: 0.1264 - val_loss: 2.3547 - val_acc: 0.5233 - val_macro_f1score: 0.4699 - val_weighted_f1score: 0.0732\n",
      "Epoch 39/50\n",
      "28698/28698 [==============================] - 94s 3ms/sample - loss: 0.3214 - acc: 0.8909 - macro_f1score: 0.8479 - weighted_f1score: 0.1267 - val_loss: 2.2195 - val_acc: 0.5263 - val_macro_f1score: 0.4725 - val_weighted_f1score: 0.0744\n",
      "Epoch 40/50\n",
      "28698/28698 [==============================] - 94s 3ms/sample - loss: 0.2950 - acc: 0.8995 - macro_f1score: 0.8601 - weighted_f1score: 0.1283 - val_loss: 2.4363 - val_acc: 0.5222 - val_macro_f1score: 0.4773 - val_weighted_f1score: 0.0742\n",
      "Epoch 41/50\n",
      "28698/28698 [==============================] - 94s 3ms/sample - loss: 0.3065 - acc: 0.8971 - macro_f1score: 0.8528 - weighted_f1score: 0.1278 - val_loss: 2.4346 - val_acc: 0.5196 - val_macro_f1score: 0.4628 - val_weighted_f1score: 0.0725\n",
      "Epoch 42/50\n",
      "28698/28698 [==============================] - 96s 3ms/sample - loss: 0.3016 - acc: 0.9008 - macro_f1score: 0.8627 - weighted_f1score: 0.1285 - val_loss: 2.3257 - val_acc: 0.5104 - val_macro_f1score: 0.4669 - val_weighted_f1score: 0.0713\n",
      "Epoch 43/50\n",
      "28698/28698 [==============================] - 94s 3ms/sample - loss: 0.2814 - acc: 0.9046 - macro_f1score: 0.8704 - weighted_f1score: 0.1290 - val_loss: 2.4572 - val_acc: 0.5135 - val_macro_f1score: 0.4736 - val_weighted_f1score: 0.0736\n",
      "Epoch 44/50\n",
      "28698/28698 [==============================] - 94s 3ms/sample - loss: 0.2598 - acc: 0.9128 - macro_f1score: 0.8723 - weighted_f1score: 0.1302 - val_loss: 2.4567 - val_acc: 0.5283 - val_macro_f1score: 0.4674 - val_weighted_f1score: 0.0738\n",
      "Epoch 45/50\n",
      "28698/28698 [==============================] - 94s 3ms/sample - loss: 0.2819 - acc: 0.9068 - macro_f1score: 0.8658 - weighted_f1score: 0.1292 - val_loss: 2.4314 - val_acc: 0.5261 - val_macro_f1score: 0.4733 - val_weighted_f1score: 0.0732\n",
      "Epoch 46/50\n",
      "28698/28698 [==============================] - 94s 3ms/sample - loss: 0.2632 - acc: 0.9148 - macro_f1score: 0.8772 - weighted_f1score: 0.1302 - val_loss: 2.4007 - val_acc: 0.5194 - val_macro_f1score: 0.4513 - val_weighted_f1score: 0.0732\n",
      "Epoch 47/50\n",
      "28698/28698 [==============================] - 94s 3ms/sample - loss: 0.2583 - acc: 0.9120 - macro_f1score: 0.8735 - weighted_f1score: 0.1300 - val_loss: 2.7831 - val_acc: 0.5224 - val_macro_f1score: 0.4693 - val_weighted_f1score: 0.0745\n",
      "Epoch 48/50\n",
      "28698/28698 [==============================] - 94s 3ms/sample - loss: 0.2799 - acc: 0.9059 - macro_f1score: 0.8688 - weighted_f1score: 0.1292 - val_loss: 2.5933 - val_acc: 0.5166 - val_macro_f1score: 0.4906 - val_weighted_f1score: 0.0758\n",
      "Epoch 49/50\n",
      "28698/28698 [==============================] - 94s 3ms/sample - loss: 0.2618 - acc: 0.9137 - macro_f1score: 0.8831 - weighted_f1score: 0.1304 - val_loss: 2.5945 - val_acc: 0.5188 - val_macro_f1score: 0.4668 - val_weighted_f1score: 0.0740\n",
      "Epoch 50/50\n",
      "28698/28698 [==============================] - 94s 3ms/sample - loss: 0.2544 - acc: 0.9170 - macro_f1score: 0.8825 - weighted_f1score: 0.1308 - val_loss: 2.5023 - val_acc: 0.5096 - val_macro_f1score: 0.4600 - val_weighted_f1score: 0.0705\n"
     ]
    },
    {
     "data": {
      "text/plain": [
       "<tensorflow.python.keras.callbacks.History at 0x7fb5c8287470>"
      ]
     },
     "execution_count": 22,
     "metadata": {
      "tags": []
     },
     "output_type": "execute_result"
    }
   ],
   "source": [
    "# early stopping \n",
    "model.fit(x_train,y_train,batch_size=128, validation_data=(x_valid,y_valid) , epochs=50)"
   ]
  },
  {
   "cell_type": "code",
   "execution_count": 0,
   "metadata": {
    "colab": {
     "base_uri": "https://localhost:8080/",
     "height": 71
    },
    "colab_type": "code",
    "executionInfo": {
     "elapsed": 4707182,
     "status": "ok",
     "timestamp": 1582682222286,
     "user": {
      "displayName": "‍이동규[ 대학원석사과정재학 / 통계학과 ]",
      "photoUrl": "",
      "userId": "08134145419451519269"
     },
     "user_tz": -540
    },
    "id": "FVZ_A3a7lrGq",
    "outputId": "5724b049-98f3-4894-fd8e-7f5d39cea02a"
   },
   "outputs": [
    {
     "name": "stdout",
     "output_type": "stream",
     "text": [
      "3588/3588 [==============================] - 3s 824us/sample - loss: 2.5452 - acc: 0.5059 - macro_f1score: 0.4456 - weighted_f1score: 0.0704\n",
      "\n",
      "Accuracy: 0.5059, Macro F1 Score: 0.4456, Weighted F1 Score: 0.0704\n"
     ]
    }
   ],
   "source": [
    "_, acc, mac_f1, wei_f1 = model.evaluate(x_test,y_test,batch_size=128)\n",
    "print(\"\\nAccuracy: {:.4f}, Macro F1 Score: {:.4f}, Weighted F1 Score: {:.4f}\".format(acc,mac_f1,wei_f1))"
   ]
  },
  {
   "cell_type": "markdown",
   "metadata": {
    "colab_type": "text",
    "id": "ZvtDTmNY8P_k"
   },
   "source": [
    "### 2) Epoch = 100"
   ]
  },
  {
   "cell_type": "code",
   "execution_count": 0,
   "metadata": {
    "colab": {},
    "colab_type": "code",
    "id": "SMtIUkjHlq9n"
   },
   "outputs": [],
   "source": [
    "#내 데이터 맞춤형 모형\n",
    "model = Alexnet(img_shape=(48, 48, 1), n_classes=7, l2_reg=0.,weights=None)"
   ]
  },
  {
   "cell_type": "code",
   "execution_count": 0,
   "metadata": {
    "colab": {},
    "colab_type": "code",
    "id": "tnSCowjwlq7U"
   },
   "outputs": [],
   "source": [
    "# 여기는 학습의 효율을 위해. Adam으로 넘어간다.\n",
    "model.compile(optimizer=tf.keras.optimizers.Adam(lr=0.001), loss='categorical_crossentropy',\n",
    "              metrics=['accuracy',macro_f1score,weighted_f1score])"
   ]
  },
  {
   "cell_type": "code",
   "execution_count": 0,
   "metadata": {
    "colab": {
     "base_uri": "https://localhost:8080/",
     "height": 1000
    },
    "colab_type": "code",
    "executionInfo": {
     "elapsed": 9433328,
     "status": "ok",
     "timestamp": 1582693970410,
     "user": {
      "displayName": "‍이동규[ 대학원석사과정재학 / 통계학과 ]",
      "photoUrl": "",
      "userId": "08134145419451519269"
     },
     "user_tz": -540
    },
    "id": "IPfM9lW5lq5b",
    "outputId": "0eaeda7e-4712-4122-f2b1-b2c5f17989f9"
   },
   "outputs": [
    {
     "name": "stdout",
     "output_type": "stream",
     "text": [
      "Train on 28698 samples, validate on 3589 samples\n",
      "Epoch 1/100\n",
      "28698/28698 [==============================] - 95s 3ms/sample - loss: 1.8849 - acc: 0.2391 - macro_f1score: 0.0022 - weighted_f1score: 4.3057e-04 - val_loss: 1.7575 - val_acc: 0.2705 - val_macro_f1score: 0.0026 - val_weighted_f1score: 6.6626e-04\n",
      "Epoch 2/100\n",
      "28698/28698 [==============================] - 94s 3ms/sample - loss: 1.6683 - acc: 0.3367 - macro_f1score: 0.0790 - weighted_f1score: 0.0169 - val_loss: 1.5519 - val_acc: 0.3892 - val_macro_f1score: 0.1321 - val_weighted_f1score: 0.0266\n",
      "Epoch 3/100\n",
      "28698/28698 [==============================] - 94s 3ms/sample - loss: 1.5349 - acc: 0.4022 - macro_f1score: 0.1489 - weighted_f1score: 0.0286 - val_loss: 1.4701 - val_acc: 0.4335 - val_macro_f1score: 0.1473 - val_weighted_f1score: 0.0285\n",
      "Epoch 4/100\n",
      "28698/28698 [==============================] - 95s 3ms/sample - loss: 1.4680 - acc: 0.4290 - macro_f1score: 0.1783 - weighted_f1score: 0.0335 - val_loss: 1.4311 - val_acc: 0.4547 - val_macro_f1score: 0.1708 - val_weighted_f1score: 0.0333\n",
      "Epoch 5/100\n",
      "28698/28698 [==============================] - 94s 3ms/sample - loss: 1.4159 - acc: 0.4582 - macro_f1score: 0.2030 - weighted_f1score: 0.0376 - val_loss: 1.3719 - val_acc: 0.4714 - val_macro_f1score: 0.2313 - val_weighted_f1score: 0.0431\n",
      "Epoch 6/100\n",
      "28698/28698 [==============================] - 96s 3ms/sample - loss: 1.3679 - acc: 0.4759 - macro_f1score: 0.2299 - weighted_f1score: 0.0422 - val_loss: 1.3489 - val_acc: 0.4829 - val_macro_f1score: 0.2166 - val_weighted_f1score: 0.0390\n",
      "Epoch 7/100\n",
      "28698/28698 [==============================] - 95s 3ms/sample - loss: 1.3329 - acc: 0.4910 - macro_f1score: 0.2449 - weighted_f1score: 0.0447 - val_loss: 1.3493 - val_acc: 0.4912 - val_macro_f1score: 0.2391 - val_weighted_f1score: 0.0467\n",
      "Epoch 8/100\n",
      "28698/28698 [==============================] - 94s 3ms/sample - loss: 1.2917 - acc: 0.5094 - macro_f1score: 0.2676 - weighted_f1score: 0.0483 - val_loss: 1.3167 - val_acc: 0.4954 - val_macro_f1score: 0.2459 - val_weighted_f1score: 0.0436\n",
      "Epoch 9/100\n",
      "28698/28698 [==============================] - 95s 3ms/sample - loss: 1.2640 - acc: 0.5212 - macro_f1score: 0.2872 - weighted_f1score: 0.0515 - val_loss: 1.2821 - val_acc: 0.5102 - val_macro_f1score: 0.2730 - val_weighted_f1score: 0.0498\n",
      "Epoch 10/100\n",
      "28698/28698 [==============================] - 95s 3ms/sample - loss: 1.2345 - acc: 0.5328 - macro_f1score: 0.3053 - weighted_f1score: 0.0544 - val_loss: 1.3008 - val_acc: 0.4946 - val_macro_f1score: 0.2468 - val_weighted_f1score: 0.0433\n",
      "Epoch 11/100\n",
      "28698/28698 [==============================] - 94s 3ms/sample - loss: 1.2020 - acc: 0.5442 - macro_f1score: 0.3224 - weighted_f1score: 0.0571 - val_loss: 1.2776 - val_acc: 0.5180 - val_macro_f1score: 0.2939 - val_weighted_f1score: 0.0530\n",
      "Epoch 12/100\n",
      "28698/28698 [==============================] - 95s 3ms/sample - loss: 1.1755 - acc: 0.5548 - macro_f1score: 0.3418 - weighted_f1score: 0.0601 - val_loss: 1.2900 - val_acc: 0.5026 - val_macro_f1score: 0.2773 - val_weighted_f1score: 0.0499\n",
      "Epoch 13/100\n",
      "28698/28698 [==============================] - 94s 3ms/sample - loss: 1.1425 - acc: 0.5695 - macro_f1score: 0.3629 - weighted_f1score: 0.0634 - val_loss: 1.2568 - val_acc: 0.5235 - val_macro_f1score: 0.3083 - val_weighted_f1score: 0.0559\n",
      "Epoch 14/100\n",
      "28698/28698 [==============================] - 95s 3ms/sample - loss: 1.1184 - acc: 0.5784 - macro_f1score: 0.3774 - weighted_f1score: 0.0653 - val_loss: 1.2587 - val_acc: 0.5272 - val_macro_f1score: 0.3357 - val_weighted_f1score: 0.0612\n",
      "Epoch 15/100\n",
      "28698/28698 [==============================] - 94s 3ms/sample - loss: 1.0850 - acc: 0.5924 - macro_f1score: 0.4021 - weighted_f1score: 0.0690 - val_loss: 1.2785 - val_acc: 0.5157 - val_macro_f1score: 0.3146 - val_weighted_f1score: 0.0569\n",
      "Epoch 16/100\n",
      "28698/28698 [==============================] - 94s 3ms/sample - loss: 1.0516 - acc: 0.6029 - macro_f1score: 0.4265 - weighted_f1score: 0.0721 - val_loss: 1.2463 - val_acc: 0.5300 - val_macro_f1score: 0.3636 - val_weighted_f1score: 0.0614\n",
      "Epoch 17/100\n",
      "28698/28698 [==============================] - 94s 3ms/sample - loss: 1.0269 - acc: 0.6145 - macro_f1score: 0.4391 - weighted_f1score: 0.0737 - val_loss: 1.2931 - val_acc: 0.5194 - val_macro_f1score: 0.3416 - val_weighted_f1score: 0.0605\n",
      "Epoch 18/100\n",
      "28698/28698 [==============================] - 94s 3ms/sample - loss: 0.9865 - acc: 0.6315 - macro_f1score: 0.4716 - weighted_f1score: 0.0786 - val_loss: 1.3143 - val_acc: 0.5124 - val_macro_f1score: 0.3492 - val_weighted_f1score: 0.0577\n",
      "Epoch 19/100\n",
      "28698/28698 [==============================] - 94s 3ms/sample - loss: 0.9575 - acc: 0.6426 - macro_f1score: 0.4925 - weighted_f1score: 0.0813 - val_loss: 1.3040 - val_acc: 0.5235 - val_macro_f1score: 0.3574 - val_weighted_f1score: 0.0621\n",
      "Epoch 20/100\n",
      "28698/28698 [==============================] - 94s 3ms/sample - loss: 0.9151 - acc: 0.6566 - macro_f1score: 0.5165 - weighted_f1score: 0.0843 - val_loss: 1.3223 - val_acc: 0.5341 - val_macro_f1score: 0.4000 - val_weighted_f1score: 0.0643\n",
      "Epoch 21/100\n",
      "28698/28698 [==============================] - 94s 3ms/sample - loss: 0.8868 - acc: 0.6702 - macro_f1score: 0.5461 - weighted_f1score: 0.0869 - val_loss: 1.3196 - val_acc: 0.5291 - val_macro_f1score: 0.4053 - val_weighted_f1score: 0.0668\n",
      "Epoch 22/100\n",
      "28698/28698 [==============================] - 94s 3ms/sample - loss: 0.8544 - acc: 0.6841 - macro_f1score: 0.5619 - weighted_f1score: 0.0901 - val_loss: 1.3308 - val_acc: 0.5222 - val_macro_f1score: 0.3908 - val_weighted_f1score: 0.0662\n",
      "Epoch 23/100\n",
      "28698/28698 [==============================] - 95s 3ms/sample - loss: 0.8118 - acc: 0.7002 - macro_f1score: 0.5928 - weighted_f1score: 0.0932 - val_loss: 1.3749 - val_acc: 0.5258 - val_macro_f1score: 0.4232 - val_weighted_f1score: 0.0692\n",
      "Epoch 24/100\n",
      "28698/28698 [==============================] - 94s 3ms/sample - loss: 0.7813 - acc: 0.7146 - macro_f1score: 0.6176 - weighted_f1score: 0.0962 - val_loss: 1.5191 - val_acc: 0.5283 - val_macro_f1score: 0.4307 - val_weighted_f1score: 0.0706\n",
      "Epoch 25/100\n",
      "28698/28698 [==============================] - 94s 3ms/sample - loss: 0.7575 - acc: 0.7205 - macro_f1score: 0.6249 - weighted_f1score: 0.0980 - val_loss: 1.4553 - val_acc: 0.5294 - val_macro_f1score: 0.4265 - val_weighted_f1score: 0.0669\n",
      "Epoch 26/100\n",
      "28698/28698 [==============================] - 97s 3ms/sample - loss: 0.7266 - acc: 0.7345 - macro_f1score: 0.6511 - weighted_f1score: 0.1004 - val_loss: 1.5015 - val_acc: 0.5160 - val_macro_f1score: 0.4163 - val_weighted_f1score: 0.0673\n",
      "Epoch 27/100\n",
      "28698/28698 [==============================] - 95s 3ms/sample - loss: 0.6974 - acc: 0.7422 - macro_f1score: 0.6571 - weighted_f1score: 0.1019 - val_loss: 1.5813 - val_acc: 0.5222 - val_macro_f1score: 0.4404 - val_weighted_f1score: 0.0686\n",
      "Epoch 28/100\n",
      "28698/28698 [==============================] - 95s 3ms/sample - loss: 0.6549 - acc: 0.7619 - macro_f1score: 0.6867 - weighted_f1score: 0.1052 - val_loss: 1.5819 - val_acc: 0.5235 - val_macro_f1score: 0.4430 - val_weighted_f1score: 0.0712\n",
      "Epoch 29/100\n",
      "28698/28698 [==============================] - 95s 3ms/sample - loss: 0.6345 - acc: 0.7676 - macro_f1score: 0.6991 - weighted_f1score: 0.1067 - val_loss: 1.6491 - val_acc: 0.5238 - val_macro_f1score: 0.4405 - val_weighted_f1score: 0.0709\n",
      "Epoch 30/100\n",
      "28698/28698 [==============================] - 95s 3ms/sample - loss: 0.6157 - acc: 0.7773 - macro_f1score: 0.7122 - weighted_f1score: 0.1081 - val_loss: 1.5492 - val_acc: 0.5274 - val_macro_f1score: 0.4506 - val_weighted_f1score: 0.0719\n",
      "Epoch 31/100\n",
      "28698/28698 [==============================] - 94s 3ms/sample - loss: 0.5637 - acc: 0.7977 - macro_f1score: 0.7352 - weighted_f1score: 0.1120 - val_loss: 1.6908 - val_acc: 0.5249 - val_macro_f1score: 0.4443 - val_weighted_f1score: 0.0714\n",
      "Epoch 32/100\n",
      "28698/28698 [==============================] - 94s 3ms/sample - loss: 0.5543 - acc: 0.8035 - macro_f1score: 0.7406 - weighted_f1score: 0.1126 - val_loss: 1.7257 - val_acc: 0.5258 - val_macro_f1score: 0.4710 - val_weighted_f1score: 0.0717\n",
      "Epoch 33/100\n",
      "28698/28698 [==============================] - 94s 3ms/sample - loss: 0.5406 - acc: 0.8083 - macro_f1score: 0.7535 - weighted_f1score: 0.1137 - val_loss: 1.7595 - val_acc: 0.5339 - val_macro_f1score: 0.4465 - val_weighted_f1score: 0.0712\n",
      "Epoch 34/100\n",
      "28698/28698 [==============================] - 94s 3ms/sample - loss: 0.4982 - acc: 0.8235 - macro_f1score: 0.7696 - weighted_f1score: 0.1160 - val_loss: 1.9017 - val_acc: 0.5316 - val_macro_f1score: 0.4678 - val_weighted_f1score: 0.0744\n",
      "Epoch 35/100\n",
      "28698/28698 [==============================] - 94s 3ms/sample - loss: 0.4901 - acc: 0.8245 - macro_f1score: 0.7762 - weighted_f1score: 0.1165 - val_loss: 1.8090 - val_acc: 0.5258 - val_macro_f1score: 0.4475 - val_weighted_f1score: 0.0722\n",
      "Epoch 36/100\n",
      "28698/28698 [==============================] - 94s 3ms/sample - loss: 0.4589 - acc: 0.8383 - macro_f1score: 0.7880 - weighted_f1score: 0.1187 - val_loss: 1.8596 - val_acc: 0.5269 - val_macro_f1score: 0.4685 - val_weighted_f1score: 0.0742\n",
      "Epoch 37/100\n",
      "28698/28698 [==============================] - 94s 3ms/sample - loss: 0.4364 - acc: 0.8451 - macro_f1score: 0.8031 - weighted_f1score: 0.1199 - val_loss: 1.9734 - val_acc: 0.5110 - val_macro_f1score: 0.4534 - val_weighted_f1score: 0.0716\n",
      "Epoch 38/100\n",
      "28698/28698 [==============================] - 94s 3ms/sample - loss: 0.4179 - acc: 0.8523 - macro_f1score: 0.8082 - weighted_f1score: 0.1207 - val_loss: 1.9715 - val_acc: 0.5308 - val_macro_f1score: 0.4569 - val_weighted_f1score: 0.0749\n",
      "Epoch 39/100\n",
      "28698/28698 [==============================] - 94s 3ms/sample - loss: 0.4010 - acc: 0.8593 - macro_f1score: 0.8198 - weighted_f1score: 0.1222 - val_loss: 2.2255 - val_acc: 0.5213 - val_macro_f1score: 0.4749 - val_weighted_f1score: 0.0755\n",
      "Epoch 40/100\n",
      "28698/28698 [==============================] - 94s 3ms/sample - loss: 0.3802 - acc: 0.8680 - macro_f1score: 0.8315 - weighted_f1score: 0.1235 - val_loss: 2.1689 - val_acc: 0.5188 - val_macro_f1score: 0.4619 - val_weighted_f1score: 0.0734\n",
      "Epoch 41/100\n",
      "28698/28698 [==============================] - 94s 3ms/sample - loss: 0.3921 - acc: 0.8652 - macro_f1score: 0.8226 - weighted_f1score: 0.1226 - val_loss: 2.0082 - val_acc: 0.5202 - val_macro_f1score: 0.4514 - val_weighted_f1score: 0.0726\n",
      "Epoch 42/100\n",
      "28698/28698 [==============================] - 94s 3ms/sample - loss: 0.3745 - acc: 0.8700 - macro_f1score: 0.8306 - weighted_f1score: 0.1237 - val_loss: 2.2570 - val_acc: 0.5233 - val_macro_f1score: 0.4593 - val_weighted_f1score: 0.0741\n",
      "Epoch 43/100\n",
      "28698/28698 [==============================] - 94s 3ms/sample - loss: 0.3438 - acc: 0.8808 - macro_f1score: 0.8426 - weighted_f1score: 0.1254 - val_loss: 2.0833 - val_acc: 0.5210 - val_macro_f1score: 0.4632 - val_weighted_f1score: 0.0751\n",
      "Epoch 44/100\n",
      "28698/28698 [==============================] - 94s 3ms/sample - loss: 0.3367 - acc: 0.8848 - macro_f1score: 0.8416 - weighted_f1score: 0.1259 - val_loss: 2.2806 - val_acc: 0.5252 - val_macro_f1score: 0.4663 - val_weighted_f1score: 0.0717\n",
      "Epoch 45/100\n",
      "28698/28698 [==============================] - 95s 3ms/sample - loss: 0.3367 - acc: 0.8834 - macro_f1score: 0.8441 - weighted_f1score: 0.1259 - val_loss: 2.3077 - val_acc: 0.5205 - val_macro_f1score: 0.4587 - val_weighted_f1score: 0.0725\n",
      "Epoch 46/100\n",
      "28698/28698 [==============================] - 94s 3ms/sample - loss: 0.3095 - acc: 0.8954 - macro_f1score: 0.8621 - weighted_f1score: 0.1276 - val_loss: 2.3053 - val_acc: 0.5152 - val_macro_f1score: 0.4700 - val_weighted_f1score: 0.0737\n",
      "Epoch 47/100\n",
      "28698/28698 [==============================] - 94s 3ms/sample - loss: 0.3334 - acc: 0.8857 - macro_f1score: 0.8539 - weighted_f1score: 0.1261 - val_loss: 2.1243 - val_acc: 0.5196 - val_macro_f1score: 0.4635 - val_weighted_f1score: 0.0736\n",
      "Epoch 48/100\n",
      "28698/28698 [==============================] - 95s 3ms/sample - loss: 0.2800 - acc: 0.9044 - macro_f1score: 0.8667 - weighted_f1score: 0.1290 - val_loss: 2.4442 - val_acc: 0.5247 - val_macro_f1score: 0.4572 - val_weighted_f1score: 0.0725\n",
      "Epoch 49/100\n",
      "28698/28698 [==============================] - 94s 3ms/sample - loss: 0.2982 - acc: 0.9009 - macro_f1score: 0.8614 - weighted_f1score: 0.1283 - val_loss: 2.3143 - val_acc: 0.5185 - val_macro_f1score: 0.4707 - val_weighted_f1score: 0.0738\n",
      "Epoch 50/100\n",
      "28698/28698 [==============================] - 94s 3ms/sample - loss: 0.2866 - acc: 0.9040 - macro_f1score: 0.8642 - weighted_f1score: 0.1289 - val_loss: 2.5390 - val_acc: 0.5294 - val_macro_f1score: 0.4596 - val_weighted_f1score: 0.0748\n",
      "Epoch 51/100\n",
      "28698/28698 [==============================] - 94s 3ms/sample - loss: 0.2723 - acc: 0.9096 - macro_f1score: 0.8776 - weighted_f1score: 0.1298 - val_loss: 2.4398 - val_acc: 0.5141 - val_macro_f1score: 0.4566 - val_weighted_f1score: 0.0703\n",
      "Epoch 52/100\n",
      "28698/28698 [==============================] - 94s 3ms/sample - loss: 0.2630 - acc: 0.9132 - macro_f1score: 0.8792 - weighted_f1score: 0.1303 - val_loss: 2.4904 - val_acc: 0.5132 - val_macro_f1score: 0.4538 - val_weighted_f1score: 0.0724\n",
      "Epoch 53/100\n",
      "28698/28698 [==============================] - 94s 3ms/sample - loss: 0.2595 - acc: 0.9139 - macro_f1score: 0.8780 - weighted_f1score: 0.1302 - val_loss: 2.5627 - val_acc: 0.5169 - val_macro_f1score: 0.4564 - val_weighted_f1score: 0.0723\n",
      "Epoch 54/100\n",
      "28698/28698 [==============================] - 94s 3ms/sample - loss: 0.3005 - acc: 0.8998 - macro_f1score: 0.8576 - weighted_f1score: 0.1284 - val_loss: 2.3718 - val_acc: 0.5280 - val_macro_f1score: 0.4547 - val_weighted_f1score: 0.0728\n",
      "Epoch 55/100\n",
      "28698/28698 [==============================] - 94s 3ms/sample - loss: 0.2745 - acc: 0.9100 - macro_f1score: 0.8761 - weighted_f1score: 0.1297 - val_loss: 2.6358 - val_acc: 0.5188 - val_macro_f1score: 0.4580 - val_weighted_f1score: 0.0753\n",
      "Epoch 56/100\n",
      "28698/28698 [==============================] - 94s 3ms/sample - loss: 0.2655 - acc: 0.9122 - macro_f1score: 0.8735 - weighted_f1score: 0.1301 - val_loss: 2.5701 - val_acc: 0.5333 - val_macro_f1score: 0.4737 - val_weighted_f1score: 0.0759\n",
      "Epoch 57/100\n",
      "28698/28698 [==============================] - 94s 3ms/sample - loss: 0.2511 - acc: 0.9153 - macro_f1score: 0.8808 - weighted_f1score: 0.1306 - val_loss: 2.5218 - val_acc: 0.5277 - val_macro_f1score: 0.4791 - val_weighted_f1score: 0.0739\n",
      "Epoch 58/100\n",
      "28698/28698 [==============================] - 94s 3ms/sample - loss: 0.2325 - acc: 0.9236 - macro_f1score: 0.8921 - weighted_f1score: 0.1317 - val_loss: 2.5225 - val_acc: 0.5238 - val_macro_f1score: 0.4703 - val_weighted_f1score: 0.0736\n",
      "Epoch 59/100\n",
      "28698/28698 [==============================] - 94s 3ms/sample - loss: 0.2366 - acc: 0.9211 - macro_f1score: 0.8896 - weighted_f1score: 0.1315 - val_loss: 2.5667 - val_acc: 0.5308 - val_macro_f1score: 0.4818 - val_weighted_f1score: 0.0750\n",
      "Epoch 60/100\n",
      "28698/28698 [==============================] - 94s 3ms/sample - loss: 0.2330 - acc: 0.9250 - macro_f1score: 0.8955 - weighted_f1score: 0.1319 - val_loss: 2.7162 - val_acc: 0.5311 - val_macro_f1score: 0.4623 - val_weighted_f1score: 0.0753\n",
      "Epoch 61/100\n",
      "28698/28698 [==============================] - 94s 3ms/sample - loss: 0.2324 - acc: 0.9257 - macro_f1score: 0.8916 - weighted_f1score: 0.1320 - val_loss: 2.5389 - val_acc: 0.5308 - val_macro_f1score: 0.4649 - val_weighted_f1score: 0.0734\n",
      "Epoch 62/100\n",
      "28698/28698 [==============================] - 94s 3ms/sample - loss: 0.2077 - acc: 0.9348 - macro_f1score: 0.8982 - weighted_f1score: 0.1333 - val_loss: 2.7499 - val_acc: 0.5180 - val_macro_f1score: 0.4582 - val_weighted_f1score: 0.0719\n",
      "Epoch 63/100\n",
      "28698/28698 [==============================] - 94s 3ms/sample - loss: 0.2399 - acc: 0.9241 - macro_f1score: 0.8855 - weighted_f1score: 0.1318 - val_loss: 2.4353 - val_acc: 0.5180 - val_macro_f1score: 0.4662 - val_weighted_f1score: 0.0745\n",
      "Epoch 64/100\n",
      "28698/28698 [==============================] - 94s 3ms/sample - loss: 0.2170 - acc: 0.9310 - macro_f1score: 0.8960 - weighted_f1score: 0.1327 - val_loss: 2.6990 - val_acc: 0.5241 - val_macro_f1score: 0.4523 - val_weighted_f1score: 0.0739\n",
      "Epoch 65/100\n",
      "28698/28698 [==============================] - 99s 3ms/sample - loss: 0.2335 - acc: 0.9248 - macro_f1score: 0.8933 - weighted_f1score: 0.1319 - val_loss: 2.7037 - val_acc: 0.5160 - val_macro_f1score: 0.4492 - val_weighted_f1score: 0.0709\n",
      "Epoch 66/100\n",
      "28698/28698 [==============================] - 94s 3ms/sample - loss: 0.2262 - acc: 0.9286 - macro_f1score: 0.8950 - weighted_f1score: 0.1325 - val_loss: 2.5902 - val_acc: 0.5208 - val_macro_f1score: 0.4439 - val_weighted_f1score: 0.0706\n",
      "Epoch 67/100\n",
      "28698/28698 [==============================] - 94s 3ms/sample - loss: 0.2263 - acc: 0.9292 - macro_f1score: 0.8989 - weighted_f1score: 0.1324 - val_loss: 2.6888 - val_acc: 0.5241 - val_macro_f1score: 0.4626 - val_weighted_f1score: 0.0735\n",
      "Epoch 68/100\n",
      "28698/28698 [==============================] - 94s 3ms/sample - loss: 0.2130 - acc: 0.9328 - macro_f1score: 0.8972 - weighted_f1score: 0.1332 - val_loss: 2.6815 - val_acc: 0.5341 - val_macro_f1score: 0.4680 - val_weighted_f1score: 0.0753\n",
      "Epoch 69/100\n",
      "28698/28698 [==============================] - 94s 3ms/sample - loss: 0.2281 - acc: 0.9270 - macro_f1score: 0.8922 - weighted_f1score: 0.1323 - val_loss: 2.4033 - val_acc: 0.5224 - val_macro_f1score: 0.4585 - val_weighted_f1score: 0.0755\n",
      "Epoch 70/100\n",
      "28698/28698 [==============================] - 94s 3ms/sample - loss: 0.2029 - acc: 0.9329 - macro_f1score: 0.9018 - weighted_f1score: 0.1331 - val_loss: 2.8026 - val_acc: 0.5185 - val_macro_f1score: 0.4523 - val_weighted_f1score: 0.0728\n",
      "Epoch 71/100\n",
      "28698/28698 [==============================] - 94s 3ms/sample - loss: 0.2037 - acc: 0.9350 - macro_f1score: 0.9026 - weighted_f1score: 0.1334 - val_loss: 2.6767 - val_acc: 0.5380 - val_macro_f1score: 0.4750 - val_weighted_f1score: 0.0737\n",
      "Epoch 72/100\n",
      "28698/28698 [==============================] - 94s 3ms/sample - loss: 0.2114 - acc: 0.9314 - macro_f1score: 0.9003 - weighted_f1score: 0.1330 - val_loss: 2.5673 - val_acc: 0.5235 - val_macro_f1score: 0.4659 - val_weighted_f1score: 0.0723\n",
      "Epoch 73/100\n",
      "28698/28698 [==============================] - 94s 3ms/sample - loss: 0.1887 - acc: 0.9391 - macro_f1score: 0.9103 - weighted_f1score: 0.1341 - val_loss: 2.6120 - val_acc: 0.5110 - val_macro_f1score: 0.4479 - val_weighted_f1score: 0.0712\n",
      "Epoch 74/100\n",
      "28698/28698 [==============================] - 94s 3ms/sample - loss: 0.1895 - acc: 0.9390 - macro_f1score: 0.9094 - weighted_f1score: 0.1340 - val_loss: 2.8413 - val_acc: 0.5255 - val_macro_f1score: 0.4504 - val_weighted_f1score: 0.0733\n",
      "Epoch 75/100\n",
      "28698/28698 [==============================] - 95s 3ms/sample - loss: 0.2153 - acc: 0.9316 - macro_f1score: 0.8986 - weighted_f1score: 0.1330 - val_loss: 2.6624 - val_acc: 0.5177 - val_macro_f1score: 0.4720 - val_weighted_f1score: 0.0754\n",
      "Epoch 76/100\n",
      "28698/28698 [==============================] - 94s 3ms/sample - loss: 0.1741 - acc: 0.9454 - macro_f1score: 0.9139 - weighted_f1score: 0.1348 - val_loss: 2.6235 - val_acc: 0.5249 - val_macro_f1score: 0.4821 - val_weighted_f1score: 0.0740\n",
      "Epoch 77/100\n",
      "28698/28698 [==============================] - 96s 3ms/sample - loss: 0.2095 - acc: 0.9325 - macro_f1score: 0.9015 - weighted_f1score: 0.1331 - val_loss: 2.8655 - val_acc: 0.5247 - val_macro_f1score: 0.4666 - val_weighted_f1score: 0.0728\n",
      "Epoch 78/100\n",
      "28698/28698 [==============================] - 95s 3ms/sample - loss: 0.1557 - acc: 0.9503 - macro_f1score: 0.9228 - weighted_f1score: 0.1358 - val_loss: 2.9786 - val_acc: 0.5205 - val_macro_f1score: 0.4717 - val_weighted_f1score: 0.0742\n",
      "Epoch 79/100\n",
      "28698/28698 [==============================] - 95s 3ms/sample - loss: 0.2009 - acc: 0.9364 - macro_f1score: 0.9070 - weighted_f1score: 0.1337 - val_loss: 2.6462 - val_acc: 0.5205 - val_macro_f1score: 0.4561 - val_weighted_f1score: 0.0729\n",
      "Epoch 80/100\n",
      "28698/28698 [==============================] - 95s 3ms/sample - loss: 0.2029 - acc: 0.9362 - macro_f1score: 0.9053 - weighted_f1score: 0.1335 - val_loss: 2.8256 - val_acc: 0.5227 - val_macro_f1score: 0.4438 - val_weighted_f1score: 0.0739\n",
      "Epoch 81/100\n",
      "28698/28698 [==============================] - 95s 3ms/sample - loss: 0.2299 - acc: 0.9291 - macro_f1score: 0.8963 - weighted_f1score: 0.1326 - val_loss: 2.4191 - val_acc: 0.5194 - val_macro_f1score: 0.4591 - val_weighted_f1score: 0.0719\n",
      "Epoch 82/100\n",
      "28698/28698 [==============================] - 94s 3ms/sample - loss: 0.2008 - acc: 0.9375 - macro_f1score: 0.9055 - weighted_f1score: 0.1337 - val_loss: 2.6988 - val_acc: 0.5171 - val_macro_f1score: 0.4628 - val_weighted_f1score: 0.0709\n",
      "Epoch 83/100\n",
      "28698/28698 [==============================] - 94s 3ms/sample - loss: 0.1669 - acc: 0.9484 - macro_f1score: 0.9206 - weighted_f1score: 0.1354 - val_loss: 2.7379 - val_acc: 0.5297 - val_macro_f1score: 0.4656 - val_weighted_f1score: 0.0736\n",
      "Epoch 84/100\n",
      "28698/28698 [==============================] - 96s 3ms/sample - loss: 0.1624 - acc: 0.9500 - macro_f1score: 0.9240 - weighted_f1score: 0.1357 - val_loss: 2.7710 - val_acc: 0.5266 - val_macro_f1score: 0.4713 - val_weighted_f1score: 0.0740\n",
      "Epoch 85/100\n",
      "28698/28698 [==============================] - 94s 3ms/sample - loss: 0.2218 - acc: 0.9325 - macro_f1score: 0.9039 - weighted_f1score: 0.1331 - val_loss: 2.5038 - val_acc: 0.5188 - val_macro_f1score: 0.4668 - val_weighted_f1score: 0.0734\n",
      "Epoch 86/100\n",
      "28698/28698 [==============================] - 94s 3ms/sample - loss: 0.1925 - acc: 0.9407 - macro_f1score: 0.9133 - weighted_f1score: 0.1342 - val_loss: 2.6721 - val_acc: 0.5216 - val_macro_f1score: 0.4716 - val_weighted_f1score: 0.0726\n",
      "Epoch 87/100\n",
      "28698/28698 [==============================] - 94s 3ms/sample - loss: 0.1755 - acc: 0.9452 - macro_f1score: 0.9126 - weighted_f1score: 0.1350 - val_loss: 2.8064 - val_acc: 0.5188 - val_macro_f1score: 0.4714 - val_weighted_f1score: 0.0743\n",
      "Epoch 88/100\n",
      "28698/28698 [==============================] - 94s 3ms/sample - loss: 0.1967 - acc: 0.9370 - macro_f1score: 0.9113 - weighted_f1score: 0.1340 - val_loss: 2.6889 - val_acc: 0.5166 - val_macro_f1score: 0.4574 - val_weighted_f1score: 0.0734\n",
      "Epoch 89/100\n",
      "28698/28698 [==============================] - 94s 3ms/sample - loss: 0.1521 - acc: 0.9533 - macro_f1score: 0.9282 - weighted_f1score: 0.1361 - val_loss: 2.8043 - val_acc: 0.5163 - val_macro_f1score: 0.4630 - val_weighted_f1score: 0.0715\n",
      "Epoch 90/100\n",
      "28698/28698 [==============================] - 94s 3ms/sample - loss: 0.1606 - acc: 0.9507 - macro_f1score: 0.9182 - weighted_f1score: 0.1357 - val_loss: 2.9632 - val_acc: 0.5300 - val_macro_f1score: 0.4737 - val_weighted_f1score: 0.0738\n",
      "Epoch 91/100\n",
      "28698/28698 [==============================] - 94s 3ms/sample - loss: 0.1983 - acc: 0.9399 - macro_f1score: 0.9118 - weighted_f1score: 0.1341 - val_loss: 2.5860 - val_acc: 0.5247 - val_macro_f1score: 0.4653 - val_weighted_f1score: 0.0755\n",
      "Epoch 92/100\n",
      "28698/28698 [==============================] - 93s 3ms/sample - loss: 0.1645 - acc: 0.9493 - macro_f1score: 0.9231 - weighted_f1score: 0.1357 - val_loss: 2.8789 - val_acc: 0.5138 - val_macro_f1score: 0.4805 - val_weighted_f1score: 0.0753\n",
      "Epoch 93/100\n",
      "28698/28698 [==============================] - 94s 3ms/sample - loss: 0.1975 - acc: 0.9395 - macro_f1score: 0.9136 - weighted_f1score: 0.1342 - val_loss: 2.7772 - val_acc: 0.5183 - val_macro_f1score: 0.4597 - val_weighted_f1score: 0.0745\n",
      "Epoch 94/100\n",
      "28698/28698 [==============================] - 95s 3ms/sample - loss: 0.1506 - acc: 0.9531 - macro_f1score: 0.9266 - weighted_f1score: 0.1360 - val_loss: 2.8200 - val_acc: 0.5116 - val_macro_f1score: 0.4594 - val_weighted_f1score: 0.0711\n",
      "Epoch 95/100\n",
      "28698/28698 [==============================] - 94s 3ms/sample - loss: 0.1806 - acc: 0.9459 - macro_f1score: 0.9187 - weighted_f1score: 0.1350 - val_loss: 2.6979 - val_acc: 0.5213 - val_macro_f1score: 0.4612 - val_weighted_f1score: 0.0727\n",
      "Epoch 96/100\n",
      "28698/28698 [==============================] - 94s 3ms/sample - loss: 0.1846 - acc: 0.9440 - macro_f1score: 0.9144 - weighted_f1score: 0.1347 - val_loss: 2.4987 - val_acc: 0.5118 - val_macro_f1score: 0.4524 - val_weighted_f1score: 0.0713\n",
      "Epoch 97/100\n",
      "28698/28698 [==============================] - 94s 3ms/sample - loss: 0.1915 - acc: 0.9400 - macro_f1score: 0.9136 - weighted_f1score: 0.1342 - val_loss: 2.5763 - val_acc: 0.5104 - val_macro_f1score: 0.4579 - val_weighted_f1score: 0.0707\n",
      "Epoch 98/100\n",
      "28698/28698 [==============================] - 94s 3ms/sample - loss: 0.1686 - acc: 0.9481 - macro_f1score: 0.9169 - weighted_f1score: 0.1354 - val_loss: 2.9347 - val_acc: 0.5185 - val_macro_f1score: 0.4539 - val_weighted_f1score: 0.0723\n",
      "Epoch 99/100\n",
      "28698/28698 [==============================] - 94s 3ms/sample - loss: 0.1602 - acc: 0.9508 - macro_f1score: 0.9248 - weighted_f1score: 0.1357 - val_loss: 3.0075 - val_acc: 0.5152 - val_macro_f1score: 0.4631 - val_weighted_f1score: 0.0727\n",
      "Epoch 100/100\n",
      "28698/28698 [==============================] - 94s 3ms/sample - loss: 0.1485 - acc: 0.9549 - macro_f1score: 0.9236 - weighted_f1score: 0.1363 - val_loss: 2.9828 - val_acc: 0.5107 - val_macro_f1score: 0.4614 - val_weighted_f1score: 0.0743\n"
     ]
    },
    {
     "data": {
      "text/plain": [
       "<tensorflow.python.keras.callbacks.History at 0x7fb5be47dbe0>"
      ]
     },
     "execution_count": 29,
     "metadata": {
      "tags": []
     },
     "output_type": "execute_result"
    }
   ],
   "source": [
    "# early stopping \n",
    "model.fit(x_train,y_train,batch_size=128, validation_data=(x_valid,y_valid) , epochs=100)"
   ]
  },
  {
   "cell_type": "code",
   "execution_count": 0,
   "metadata": {
    "colab": {
     "base_uri": "https://localhost:8080/",
     "height": 71
    },
    "colab_type": "code",
    "executionInfo": {
     "elapsed": 9432795,
     "status": "ok",
     "timestamp": 1582693973690,
     "user": {
      "displayName": "‍이동규[ 대학원석사과정재학 / 통계학과 ]",
      "photoUrl": "",
      "userId": "08134145419451519269"
     },
     "user_tz": -540
    },
    "id": "akWV60jPlq3_",
    "outputId": "fcb2ef25-6beb-4cf4-9413-663717e93c4a"
   },
   "outputs": [
    {
     "name": "stdout",
     "output_type": "stream",
     "text": [
      "3588/3588 [==============================] - 3s 889us/sample - loss: 2.8512 - acc: 0.5298 - macro_f1score: 0.4614 - weighted_f1score: 0.0738\n",
      "\n",
      "Accuracy: 0.5298, Macro F1 Score: 0.4614, Weighted F1 Score: 0.0738\n"
     ]
    }
   ],
   "source": [
    "_, acc, mac_f1, wei_f1 = model.evaluate(x_test,y_test,batch_size=128)\n",
    "print(\"\\nAccuracy: {:.4f}, Macro F1 Score: {:.4f}, Weighted F1 Score: {:.4f}\".format(acc,mac_f1,wei_f1))"
   ]
  }
 ],
 "metadata": {
  "accelerator": "GPU",
  "colab": {
   "collapsed_sections": [],
   "machine_shape": "hm",
   "name": "03. FER_Basic_Models(AlexNet) - 2020.02.12(WED).ipynb",
   "provenance": []
  },
  "kernelspec": {
   "display_name": "Python 3",
   "language": "python",
   "name": "python3"
  },
  "language_info": {
   "codemirror_mode": {
    "name": "ipython",
    "version": 3
   },
   "file_extension": ".py",
   "mimetype": "text/x-python",
   "name": "python",
   "nbconvert_exporter": "python",
   "pygments_lexer": "ipython3",
   "version": "3.7.3"
  }
 },
 "nbformat": 4,
 "nbformat_minor": 1
}
