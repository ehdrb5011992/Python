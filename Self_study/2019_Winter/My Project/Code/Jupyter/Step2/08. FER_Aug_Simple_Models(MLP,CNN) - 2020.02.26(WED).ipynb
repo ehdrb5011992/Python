{
 "cells": [
  {
   "cell_type": "markdown",
   "metadata": {
    "colab_type": "text",
    "id": "PqFpO1rVyMGI"
   },
   "source": [
    "# [Simple Models]"
   ]
  },
  {
   "cell_type": "markdown",
   "metadata": {
    "colab_type": "text",
    "id": "xl3DaiIcyMGL"
   },
   "source": [
    "*KU LeeDongGyu*"
   ]
  },
  {
   "cell_type": "markdown",
   "metadata": {
    "colab_type": "text",
    "id": "XcvkJkns5NJ2"
   },
   "source": [
    "### Contents"
   ]
  },
  {
   "cell_type": "markdown",
   "metadata": {
    "colab_type": "text",
    "id": "s7Z4tNgp5NJ3"
   },
   "source": [
    "1. MLP & Data Import\n",
    "```\n",
    "1) Data Augmentation\n",
    "2) Size = 64\n",
    "3) Size = 48.\n",
    "```\n",
    "2. Simple CNN\n",
    "```\n",
    "1) Size = 64\n",
    "2) Size = 48\n",
    "```\n",
    "3. Size = 48 , No Early Stopping\n",
    "```\n",
    "1) Epoch = 50\n",
    "      (1) MLP\n",
    "      (2) Simple CNN\n",
    "2) Epoch = 100\n",
    "      (1) MLP\n",
    "      (2) Simple CNN\n",
    "```\n"
   ]
  },
  {
   "cell_type": "markdown",
   "metadata": {
    "colab_type": "text",
    "id": "hGs8np53CY4X"
   },
   "source": [
    "### Install Packages"
   ]
  },
  {
   "cell_type": "code",
   "execution_count": 3,
   "metadata": {
    "colab": {
     "base_uri": "https://localhost:8080/",
     "height": 953
    },
    "colab_type": "code",
    "executionInfo": {
     "elapsed": 97851,
     "status": "ok",
     "timestamp": 1583294447733,
     "user": {
      "displayName": "‍이동규[ 대학원석사과정재학 / 통계학과 ]",
      "photoUrl": "",
      "userId": "08134145419451519269"
     },
     "user_tz": -540
    },
    "id": "5qEPBxF8CYQ4",
    "outputId": "8317553d-5e58-4b76-f1d5-2df93ee18415"
   },
   "outputs": [
    {
     "name": "stdout",
     "output_type": "stream",
     "text": [
      "Collecting tensorflow==2.1.0\n",
      "\u001b[?25l  Downloading https://files.pythonhosted.org/packages/85/d4/c0cd1057b331bc38b65478302114194bd8e1b9c2bbc06e300935c0e93d90/tensorflow-2.1.0-cp36-cp36m-manylinux2010_x86_64.whl (421.8MB)\n",
      "\u001b[K     |████████████████████████████████| 421.8MB 17kB/s \n",
      "\u001b[?25hRequirement already satisfied: gast==0.2.2 in /usr/local/lib/python3.6/dist-packages (from tensorflow==2.1.0) (0.2.2)\n",
      "Requirement already satisfied: protobuf>=3.8.0 in /usr/local/lib/python3.6/dist-packages (from tensorflow==2.1.0) (3.10.0)\n",
      "Collecting tensorboard<2.2.0,>=2.1.0\n",
      "\u001b[?25l  Downloading https://files.pythonhosted.org/packages/d9/41/bbf49b61370e4f4d245d4c6051dfb6db80cec672605c91b1652ac8cc3d38/tensorboard-2.1.1-py3-none-any.whl (3.8MB)\n",
      "\u001b[K     |████████████████████████████████| 3.9MB 33.2MB/s \n",
      "\u001b[?25hRequirement already satisfied: astor>=0.6.0 in /usr/local/lib/python3.6/dist-packages (from tensorflow==2.1.0) (0.8.1)\n",
      "Requirement already satisfied: wheel>=0.26; python_version >= \"3\" in /usr/local/lib/python3.6/dist-packages (from tensorflow==2.1.0) (0.34.2)\n",
      "Requirement already satisfied: grpcio>=1.8.6 in /usr/local/lib/python3.6/dist-packages (from tensorflow==2.1.0) (1.27.1)\n",
      "Requirement already satisfied: numpy<2.0,>=1.16.0 in /usr/local/lib/python3.6/dist-packages (from tensorflow==2.1.0) (1.17.5)\n",
      "Requirement already satisfied: opt-einsum>=2.3.2 in /usr/local/lib/python3.6/dist-packages (from tensorflow==2.1.0) (3.1.0)\n",
      "Requirement already satisfied: six>=1.12.0 in /usr/local/lib/python3.6/dist-packages (from tensorflow==2.1.0) (1.12.0)\n",
      "Requirement already satisfied: scipy==1.4.1; python_version >= \"3\" in /usr/local/lib/python3.6/dist-packages (from tensorflow==2.1.0) (1.4.1)\n",
      "Requirement already satisfied: absl-py>=0.7.0 in /usr/local/lib/python3.6/dist-packages (from tensorflow==2.1.0) (0.9.0)\n",
      "Requirement already satisfied: termcolor>=1.1.0 in /usr/local/lib/python3.6/dist-packages (from tensorflow==2.1.0) (1.1.0)\n",
      "Requirement already satisfied: google-pasta>=0.1.6 in /usr/local/lib/python3.6/dist-packages (from tensorflow==2.1.0) (0.1.8)\n",
      "Requirement already satisfied: keras-preprocessing>=1.1.0 in /usr/local/lib/python3.6/dist-packages (from tensorflow==2.1.0) (1.1.0)\n",
      "Collecting tensorflow-estimator<2.2.0,>=2.1.0rc0\n",
      "\u001b[?25l  Downloading https://files.pythonhosted.org/packages/18/90/b77c328a1304437ab1310b463e533fa7689f4bfc41549593056d812fab8e/tensorflow_estimator-2.1.0-py2.py3-none-any.whl (448kB)\n",
      "\u001b[K     |████████████████████████████████| 450kB 32.1MB/s \n",
      "\u001b[?25hRequirement already satisfied: wrapt>=1.11.1 in /usr/local/lib/python3.6/dist-packages (from tensorflow==2.1.0) (1.11.2)\n",
      "Requirement already satisfied: keras-applications>=1.0.8 in /usr/local/lib/python3.6/dist-packages (from tensorflow==2.1.0) (1.0.8)\n",
      "Requirement already satisfied: setuptools in /usr/local/lib/python3.6/dist-packages (from protobuf>=3.8.0->tensorflow==2.1.0) (45.1.0)\n",
      "Requirement already satisfied: google-auth<2,>=1.6.3 in /usr/local/lib/python3.6/dist-packages (from tensorboard<2.2.0,>=2.1.0->tensorflow==2.1.0) (1.7.2)\n",
      "Requirement already satisfied: google-auth-oauthlib<0.5,>=0.4.1 in /usr/local/lib/python3.6/dist-packages (from tensorboard<2.2.0,>=2.1.0->tensorflow==2.1.0) (0.4.1)\n",
      "Requirement already satisfied: requests<3,>=2.21.0 in /usr/local/lib/python3.6/dist-packages (from tensorboard<2.2.0,>=2.1.0->tensorflow==2.1.0) (2.21.0)\n",
      "Requirement already satisfied: markdown>=2.6.8 in /usr/local/lib/python3.6/dist-packages (from tensorboard<2.2.0,>=2.1.0->tensorflow==2.1.0) (3.2.1)\n",
      "Requirement already satisfied: werkzeug>=0.11.15 in /usr/local/lib/python3.6/dist-packages (from tensorboard<2.2.0,>=2.1.0->tensorflow==2.1.0) (1.0.0)\n",
      "Requirement already satisfied: h5py in /usr/local/lib/python3.6/dist-packages (from keras-applications>=1.0.8->tensorflow==2.1.0) (2.8.0)\n",
      "Requirement already satisfied: pyasn1-modules>=0.2.1 in /usr/local/lib/python3.6/dist-packages (from google-auth<2,>=1.6.3->tensorboard<2.2.0,>=2.1.0->tensorflow==2.1.0) (0.2.8)\n",
      "Requirement already satisfied: rsa<4.1,>=3.1.4 in /usr/local/lib/python3.6/dist-packages (from google-auth<2,>=1.6.3->tensorboard<2.2.0,>=2.1.0->tensorflow==2.1.0) (4.0)\n",
      "Requirement already satisfied: cachetools<3.2,>=2.0.0 in /usr/local/lib/python3.6/dist-packages (from google-auth<2,>=1.6.3->tensorboard<2.2.0,>=2.1.0->tensorflow==2.1.0) (3.1.1)\n",
      "Requirement already satisfied: requests-oauthlib>=0.7.0 in /usr/local/lib/python3.6/dist-packages (from google-auth-oauthlib<0.5,>=0.4.1->tensorboard<2.2.0,>=2.1.0->tensorflow==2.1.0) (1.3.0)\n",
      "Requirement already satisfied: idna<2.9,>=2.5 in /usr/local/lib/python3.6/dist-packages (from requests<3,>=2.21.0->tensorboard<2.2.0,>=2.1.0->tensorflow==2.1.0) (2.8)\n",
      "Requirement already satisfied: certifi>=2017.4.17 in /usr/local/lib/python3.6/dist-packages (from requests<3,>=2.21.0->tensorboard<2.2.0,>=2.1.0->tensorflow==2.1.0) (2019.11.28)\n",
      "Requirement already satisfied: chardet<3.1.0,>=3.0.2 in /usr/local/lib/python3.6/dist-packages (from requests<3,>=2.21.0->tensorboard<2.2.0,>=2.1.0->tensorflow==2.1.0) (3.0.4)\n",
      "Requirement already satisfied: urllib3<1.25,>=1.21.1 in /usr/local/lib/python3.6/dist-packages (from requests<3,>=2.21.0->tensorboard<2.2.0,>=2.1.0->tensorflow==2.1.0) (1.24.3)\n",
      "Requirement already satisfied: pyasn1<0.5.0,>=0.4.6 in /usr/local/lib/python3.6/dist-packages (from pyasn1-modules>=0.2.1->google-auth<2,>=1.6.3->tensorboard<2.2.0,>=2.1.0->tensorflow==2.1.0) (0.4.8)\n",
      "Requirement already satisfied: oauthlib>=3.0.0 in /usr/local/lib/python3.6/dist-packages (from requests-oauthlib>=0.7.0->google-auth-oauthlib<0.5,>=0.4.1->tensorboard<2.2.0,>=2.1.0->tensorflow==2.1.0) (3.1.0)\n",
      "Installing collected packages: tensorboard, tensorflow-estimator, tensorflow\n",
      "  Found existing installation: tensorboard 1.15.0\n",
      "    Uninstalling tensorboard-1.15.0:\n",
      "      Successfully uninstalled tensorboard-1.15.0\n",
      "  Found existing installation: tensorflow-estimator 1.15.1\n",
      "    Uninstalling tensorflow-estimator-1.15.1:\n",
      "      Successfully uninstalled tensorflow-estimator-1.15.1\n",
      "  Found existing installation: tensorflow 1.15.0\n",
      "    Uninstalling tensorflow-1.15.0:\n",
      "      Successfully uninstalled tensorflow-1.15.0\n",
      "Successfully installed tensorboard-2.1.1 tensorflow-2.1.0 tensorflow-estimator-2.1.0\n"
     ]
    }
   ],
   "source": [
    "pip install tensorflow==2.1.0"
   ]
  },
  {
   "cell_type": "markdown",
   "metadata": {
    "colab_type": "text",
    "id": "HzEKYXpyyMGM"
   },
   "source": [
    "### Module"
   ]
  },
  {
   "cell_type": "code",
   "execution_count": 4,
   "metadata": {
    "colab": {
     "base_uri": "https://localhost:8080/",
     "height": 127
    },
    "colab_type": "code",
    "executionInfo": {
     "elapsed": 119443,
     "status": "ok",
     "timestamp": 1583294471256,
     "user": {
      "displayName": "‍이동규[ 대학원석사과정재학 / 통계학과 ]",
      "photoUrl": "",
      "userId": "08134145419451519269"
     },
     "user_tz": -540
    },
    "id": "ztnu5ZzWyRQK",
    "outputId": "c0fab303-b2f3-430f-d41c-e8f7002ff668"
   },
   "outputs": [
    {
     "name": "stdout",
     "output_type": "stream",
     "text": [
      "Go to this URL in a browser: https://accounts.google.com/o/oauth2/auth?client_id=947318989803-6bn6qk8qdgf4n4g3pfee6491hc0brc4i.apps.googleusercontent.com&redirect_uri=urn%3aietf%3awg%3aoauth%3a2.0%3aoob&response_type=code&scope=email%20https%3a%2f%2fwww.googleapis.com%2fauth%2fdocs.test%20https%3a%2f%2fwww.googleapis.com%2fauth%2fdrive%20https%3a%2f%2fwww.googleapis.com%2fauth%2fdrive.photos.readonly%20https%3a%2f%2fwww.googleapis.com%2fauth%2fpeopleapi.readonly\n",
      "\n",
      "Enter your authorization code:\n",
      "··········\n",
      "Mounted at /content/drive\n"
     ]
    }
   ],
   "source": [
    "from google.colab import drive\n",
    "drive.mount('/content/drive')"
   ]
  },
  {
   "cell_type": "code",
   "execution_count": 5,
   "metadata": {
    "colab": {
     "base_uri": "https://localhost:8080/",
     "height": 35
    },
    "colab_type": "code",
    "executionInfo": {
     "elapsed": 118679,
     "status": "ok",
     "timestamp": 1583294471258,
     "user": {
      "displayName": "‍이동규[ 대학원석사과정재학 / 통계학과 ]",
      "photoUrl": "",
      "userId": "08134145419451519269"
     },
     "user_tz": -540
    },
    "id": "5Gw1yw6JySsX",
    "outputId": "1871213f-84e1-457d-ef4c-b8f312217afe"
   },
   "outputs": [
    {
     "name": "stdout",
     "output_type": "stream",
     "text": [
      "/content/drive/My Drive/Colab Notebooks/project\n"
     ]
    }
   ],
   "source": [
    "cd /content/drive/My Drive/Colab Notebooks/project"
   ]
  },
  {
   "cell_type": "code",
   "execution_count": 0,
   "metadata": {
    "colab": {},
    "colab_type": "code",
    "id": "r-LIano3yUg_"
   },
   "outputs": [],
   "source": [
    "import sys"
   ]
  },
  {
   "cell_type": "code",
   "execution_count": 7,
   "metadata": {
    "colab": {
     "base_uri": "https://localhost:8080/",
     "height": 179
    },
    "colab_type": "code",
    "executionInfo": {
     "elapsed": 117417,
     "status": "ok",
     "timestamp": 1583294471259,
     "user": {
      "displayName": "‍이동규[ 대학원석사과정재학 / 통계학과 ]",
      "photoUrl": "",
      "userId": "08134145419451519269"
     },
     "user_tz": -540
    },
    "id": "UkyIxHSoyUjW",
    "outputId": "918a5daa-7aae-42db-c013-1d96a7cd88ef"
   },
   "outputs": [
    {
     "data": {
      "text/plain": [
       "['',\n",
       " '/env/python',\n",
       " '/usr/lib/python36.zip',\n",
       " '/usr/lib/python3.6',\n",
       " '/usr/lib/python3.6/lib-dynload',\n",
       " '/usr/local/lib/python3.6/dist-packages',\n",
       " '/usr/lib/python3/dist-packages',\n",
       " '/usr/local/lib/python3.6/dist-packages/IPython/extensions',\n",
       " '/root/.ipython']"
      ]
     },
     "execution_count": 7,
     "metadata": {
      "tags": []
     },
     "output_type": "execute_result"
    }
   ],
   "source": [
    "# 모듈로 받을 경로 확인\n",
    "sys.path"
   ]
  },
  {
   "cell_type": "code",
   "execution_count": 0,
   "metadata": {
    "colab": {},
    "colab_type": "code",
    "id": "Qe39dJqmyUlb"
   },
   "outputs": [],
   "source": [
    "# 내 노트북이 아닌, 전산실 컴퓨터의 colab에서 돌렸으므로, 다시돌리려면 경로 수정할것!\n",
    "sys.path.append(\"/content/drive/My Drive/Colab Notebooks/project\")"
   ]
  },
  {
   "cell_type": "code",
   "execution_count": 0,
   "metadata": {
    "colab": {},
    "colab_type": "code",
    "id": "nCIO4eZgyMGO"
   },
   "outputs": [],
   "source": [
    "import tensorflow as tf\n",
    "import numpy as np\n",
    "import pandas as pd\n",
    "import cv2\n",
    "from tensorflow.keras import backend as K\n",
    "from tensorflow.keras.callbacks import EarlyStopping\n",
    "from tensorflow.keras.utils import to_categorical"
   ]
  },
  {
   "cell_type": "code",
   "execution_count": 0,
   "metadata": {
    "colab": {},
    "colab_type": "code",
    "id": "PLKpxpJkyMGg"
   },
   "outputs": [],
   "source": [
    "from f1score import macro_f1score, weighted_f1score"
   ]
  },
  {
   "cell_type": "code",
   "execution_count": 0,
   "metadata": {
    "colab": {},
    "colab_type": "code",
    "id": "bEDKbmg5EYHq"
   },
   "outputs": [],
   "source": [
    "from tensorflow.keras.preprocessing.image import ImageDataGenerator"
   ]
  },
  {
   "cell_type": "code",
   "execution_count": 12,
   "metadata": {
    "colab": {
     "base_uri": "https://localhost:8080/",
     "height": 35
    },
    "colab_type": "code",
    "executionInfo": {
     "elapsed": 118821,
     "status": "ok",
     "timestamp": 1583294476984,
     "user": {
      "displayName": "‍이동규[ 대학원석사과정재학 / 통계학과 ]",
      "photoUrl": "",
      "userId": "08134145419451519269"
     },
     "user_tz": -540
    },
    "id": "cs7xi4alBeTh",
    "outputId": "cbdc84e1-12ae-40ee-ee94-6ad5a924c356"
   },
   "outputs": [
    {
     "data": {
      "text/plain": [
       "'2.1.0'"
      ]
     },
     "execution_count": 12,
     "metadata": {
      "tags": []
     },
     "output_type": "execute_result"
    }
   ],
   "source": [
    "tf.__version__"
   ]
  },
  {
   "cell_type": "code",
   "execution_count": null,
   "metadata": {},
   "outputs": [],
   "source": [
    "tf.test.gpu_device_name()"
   ]
  },
  {
   "cell_type": "markdown",
   "metadata": {
    "colab_type": "text",
    "id": "PdaLO7qQyMGl"
   },
   "source": [
    "## 1. MLP & Data Import\n",
    "---"
   ]
  },
  {
   "cell_type": "code",
   "execution_count": 0,
   "metadata": {
    "colab": {},
    "colab_type": "code",
    "id": "qvOHW7BmyMGm"
   },
   "outputs": [],
   "source": [
    "###################### 1. model - MLP ######################\n",
    "\n",
    "# data import\n",
    "x_train = pd.read_csv(\"mydata/X_train.csv\",header=0,index_col=0)\n",
    "x_valid = pd.read_csv(\"mydata/X_private_test.csv\",header=0,index_col=0)\n",
    "x_test = pd.read_csv(\"mydata/X_public_test.csv\",header=0,index_col=0)\n",
    "y_train = pd.read_csv(\"mydata/y_train.csv\",header=0,index_col=0)\n",
    "y_valid = pd.read_csv(\"mydata/y_private_test.csv\",header=0,index_col=0)\n",
    "y_test = pd.read_csv(\"mydata/y_public_test.csv\",header=0,index_col=0)"
   ]
  },
  {
   "cell_type": "code",
   "execution_count": 0,
   "metadata": {
    "colab": {},
    "colab_type": "code",
    "id": "iGUOd7Y3yMGq"
   },
   "outputs": [],
   "source": [
    "# data handling\n",
    "x_train = np.array(x_train).reshape([-1,48,48,3]) \n",
    "x_valid = np.array(x_valid).reshape([-1,48,48,3]) \n",
    "x_test = np.array(x_test).reshape([-1,48,48,3]) \n",
    "\n",
    "y_train=to_categorical(y_train) # one hot encoding\n",
    "y_valid=to_categorical(y_valid)\n",
    "y_test=to_categorical(y_test)"
   ]
  },
  {
   "cell_type": "code",
   "execution_count": 0,
   "metadata": {
    "colab": {},
    "colab_type": "code",
    "id": "QmhiKGPQ5NKb"
   },
   "outputs": [],
   "source": [
    "size=64\n",
    "x_train = np.array(x_train).reshape([-1,48,48,3])"
   ]
  },
  {
   "cell_type": "code",
   "execution_count": 0,
   "metadata": {
    "colab": {},
    "colab_type": "code",
    "id": "xxnvpfrN5NKg"
   },
   "outputs": [],
   "source": [
    "x_train_zoom = np.zeros([x_train.shape[0],size,size,3],dtype=\"float32\")\n",
    "\n",
    "for i in range(x_train.shape[0]):\n",
    "    x_train_zoom[i,:] = cv2.resize(x_train[i,:].astype('uint8'), (size, size),\n",
    "                                  interpolation=cv2.INTER_CUBIC).reshape(size,size,3) /255"
   ]
  },
  {
   "cell_type": "code",
   "execution_count": 0,
   "metadata": {
    "colab": {},
    "colab_type": "code",
    "id": "ko0cOyv0P8T4"
   },
   "outputs": [],
   "source": [
    "x_train = x_train / 255"
   ]
  },
  {
   "cell_type": "code",
   "execution_count": 0,
   "metadata": {
    "colab": {},
    "colab_type": "code",
    "id": "53scbBL55NKn"
   },
   "outputs": [],
   "source": [
    "x_valid = np.array(x_valid).reshape([-1,48,48,3])\n",
    "x_valid_zoom = np.zeros([x_valid.shape[0],size,size,3],dtype=\"float32\")\n",
    "for i in range(x_valid.shape[0]):\n",
    "    x_valid_zoom[i,:] = cv2.resize(x_valid[i,:].astype('uint8'), (size, size),\n",
    "                                  interpolation=cv2.INTER_CUBIC).reshape(size,size,3) /255"
   ]
  },
  {
   "cell_type": "code",
   "execution_count": 0,
   "metadata": {
    "colab": {},
    "colab_type": "code",
    "id": "_iHLG_9wP8uF"
   },
   "outputs": [],
   "source": [
    "x_valid = x_valid / 255"
   ]
  },
  {
   "cell_type": "code",
   "execution_count": 0,
   "metadata": {
    "colab": {},
    "colab_type": "code",
    "id": "k6mDCQYa5NKt"
   },
   "outputs": [],
   "source": [
    "x_test = np.array(x_test).reshape([-1,48,48,3])\n",
    "x_test_zoom = np.zeros([x_test.shape[0],size,size,3],dtype=\"float32\")\n",
    "for i in range(x_test.shape[0]):\n",
    "    x_test_zoom[i,:] = cv2.resize(x_test[i,:].astype('uint8'), (size, size),\n",
    "                                  interpolation=cv2.INTER_CUBIC).reshape(size,size,3) / 255"
   ]
  },
  {
   "cell_type": "code",
   "execution_count": 0,
   "metadata": {
    "colab": {},
    "colab_type": "code",
    "id": "gCMR05R9HSFF"
   },
   "outputs": [],
   "source": [
    "x_test = x_test / 255"
   ]
  },
  {
   "cell_type": "code",
   "execution_count": 22,
   "metadata": {
    "colab": {
     "base_uri": "https://localhost:8080/",
     "height": 251
    },
    "colab_type": "code",
    "executionInfo": {
     "elapsed": 72594,
     "status": "ok",
     "timestamp": 1583233134582,
     "user": {
      "displayName": "‍이동규[ 대학원석사과정재학 / 통계학과 ]",
      "photoUrl": "",
      "userId": "08134145419451519269"
     },
     "user_tz": -540
    },
    "id": "TwJNlvxChC1n",
    "outputId": "e217d133-3e42-49da-e358-369e658dc875"
   },
   "outputs": [
    {
     "data": {
      "text/plain": [
       "array([[0.66666667, 0.4627451 , 0.39607843, ..., 0.43921569, 0.51372549,\n",
       "        0.48627451],\n",
       "       [0.65882353, 0.49019608, 0.42352941, ..., 0.43529412, 0.48627451,\n",
       "        0.52156863],\n",
       "       [0.67843137, 0.5254902 , 0.44313725, ..., 0.40392157, 0.44705882,\n",
       "        0.50196078],\n",
       "       ...,\n",
       "       [0.32156863, 0.41568627, 0.38823529, ..., 0.64313725, 0.51764706,\n",
       "        0.49803922],\n",
       "       [0.37647059, 0.41176471, 0.38431373, ..., 0.63529412, 0.50980392,\n",
       "        0.51764706],\n",
       "       [0.40784314, 0.40392157, 0.38823529, ..., 0.62352941, 0.52156863,\n",
       "        0.51372549]])"
      ]
     },
     "execution_count": 22,
     "metadata": {
      "tags": []
     },
     "output_type": "execute_result"
    }
   ],
   "source": [
    "x_valid[0,:,:,0]"
   ]
  },
  {
   "cell_type": "code",
   "execution_count": 23,
   "metadata": {
    "colab": {
     "base_uri": "https://localhost:8080/",
     "height": 35
    },
    "colab_type": "code",
    "executionInfo": {
     "elapsed": 72580,
     "status": "ok",
     "timestamp": 1583233134583,
     "user": {
      "displayName": "‍이동규[ 대학원석사과정재학 / 통계학과 ]",
      "photoUrl": "",
      "userId": "08134145419451519269"
     },
     "user_tz": -540
    },
    "id": "etvYw79EFIad",
    "outputId": "79a4e72a-f240-41c3-8195-446ccf040f7b"
   },
   "outputs": [
    {
     "data": {
      "text/plain": [
       "(3589, 48, 48, 3)"
      ]
     },
     "execution_count": 23,
     "metadata": {
      "tags": []
     },
     "output_type": "execute_result"
    }
   ],
   "source": [
    "x_valid.shape"
   ]
  },
  {
   "cell_type": "code",
   "execution_count": 24,
   "metadata": {
    "colab": {
     "base_uri": "https://localhost:8080/",
     "height": 251
    },
    "colab_type": "code",
    "executionInfo": {
     "elapsed": 72566,
     "status": "ok",
     "timestamp": 1583233134584,
     "user": {
      "displayName": "‍이동규[ 대학원석사과정재학 / 통계학과 ]",
      "photoUrl": "",
      "userId": "08134145419451519269"
     },
     "user_tz": -540
    },
    "id": "Uh9PyxAxE0ny",
    "outputId": "efcbc59d-c243-49cd-9ee3-759f92051970"
   },
   "outputs": [
    {
     "data": {
      "text/plain": [
       "array([[0.68235296, 0.5411765 , 0.41568628, ..., 0.49019608, 0.5137255 ,\n",
       "        0.48235294],\n",
       "       [0.6745098 , 0.54901963, 0.43529412, ..., 0.47843137, 0.50980395,\n",
       "        0.50980395],\n",
       "       [0.6745098 , 0.5686275 , 0.4627451 , ..., 0.45490196, 0.49411765,\n",
       "        0.5254902 ],\n",
       "       ...,\n",
       "       [0.34509805, 0.39607844, 0.4117647 , ..., 0.5529412 , 0.49803922,\n",
       "        0.5137255 ],\n",
       "       [0.39215687, 0.40392157, 0.40392157, ..., 0.54901963, 0.5019608 ,\n",
       "        0.5176471 ],\n",
       "       [0.4117647 , 0.40784314, 0.4       , ..., 0.5568628 , 0.50980395,\n",
       "        0.5137255 ]], dtype=float32)"
      ]
     },
     "execution_count": 24,
     "metadata": {
      "tags": []
     },
     "output_type": "execute_result"
    }
   ],
   "source": [
    "x_valid_zoom[0,:,:,0]"
   ]
  },
  {
   "cell_type": "code",
   "execution_count": 25,
   "metadata": {
    "colab": {
     "base_uri": "https://localhost:8080/",
     "height": 35
    },
    "colab_type": "code",
    "executionInfo": {
     "elapsed": 72552,
     "status": "ok",
     "timestamp": 1583233134585,
     "user": {
      "displayName": "‍이동규[ 대학원석사과정재학 / 통계학과 ]",
      "photoUrl": "",
      "userId": "08134145419451519269"
     },
     "user_tz": -540
    },
    "id": "U6RMRrNoFKSW",
    "outputId": "ac8a87b2-ec28-4fb9-96a1-286dc02223d2"
   },
   "outputs": [
    {
     "data": {
      "text/plain": [
       "(3589, 64, 64, 3)"
      ]
     },
     "execution_count": 25,
     "metadata": {
      "tags": []
     },
     "output_type": "execute_result"
    }
   ],
   "source": [
    "x_valid_zoom.shape"
   ]
  },
  {
   "cell_type": "markdown",
   "metadata": {
    "colab_type": "text",
    "id": "6Zu0enYcEYIj"
   },
   "source": [
    "#### 1) Data Augmentation"
   ]
  },
  {
   "cell_type": "code",
   "execution_count": 0,
   "metadata": {
    "colab": {},
    "colab_type": "code",
    "id": "4N-MevjOEYIl"
   },
   "outputs": [],
   "source": [
    "# Data Augmentation은 다음과 같은 옵션을 주어 실행한다. 이 생성방식은 모든 데이터에 적용.\n",
    "# 1. 좌우 회전 10도 - 회전하다가 손실되는 데이터 방지 (작은 값)\n",
    "# 2. 좌우 이동 10% (작은 값)\n",
    "# 3. 좌우 반전 (표정 데이터이기 때문에 시도했으며, 상하반전은 시도하지 않았다.)\n",
    "# 4. 줌범위 90% ~ 100% (너무 큰 줌은 데이터 손실을 유발함.)\n",
    "\n",
    "datagen = ImageDataGenerator(\n",
    "    featurewise_center=False,\n",
    "    featurewise_std_normalization=False,\n",
    "    rotation_range=10,\n",
    "    width_shift_range=0.1,\n",
    "    height_shift_range=0.1,\n",
    "    horizontal_flip=True,\n",
    "    zoom_range=[0.9,1.0])"
   ]
  },
  {
   "cell_type": "code",
   "execution_count": 0,
   "metadata": {
    "colab": {},
    "colab_type": "code",
    "id": "H6BrqVJYEYIo"
   },
   "outputs": [],
   "source": [
    "# train // training data 만 augmentation을 한다.\n",
    "# featurewise 기능이나, ZCA whitening을 할 때 사용함. 그 외에는 굳이 선언할 필요 없음.\n",
    "# 여기서 할 필요는 없지만, 주석처리는 안하고 넘어감.\n",
    "# datagen.fit(x_train)\n",
    "# datagen.fit(x_train_zoom)"
   ]
  },
  {
   "cell_type": "code",
   "execution_count": 0,
   "metadata": {
    "colab": {},
    "colab_type": "code",
    "id": "Z3hxUIQawQNa"
   },
   "outputs": [],
   "source": [
    "# flow_from_directory를 사용하면 더 쉽게 변수를 저장할 수 있지만 \n",
    "# 우리는 작업해야 하는 데이터가 있으므로 위 메서드를 사용하지 않음.\n",
    "\n",
    "# validation 은 그 자체로만 둔다.\n",
    "# 다만 type은 gernerator로 바꿔준다.\n",
    "datagen_val = ImageDataGenerator()"
   ]
  },
  {
   "cell_type": "code",
   "execution_count": 0,
   "metadata": {
    "colab": {},
    "colab_type": "code",
    "id": "9hI2gpFlwQK_"
   },
   "outputs": [],
   "source": [
    "xy_valid_zoom_gen = datagen_val.flow(x_valid_zoom,y_valid,batch_size=128)\n",
    "xy_valid_gen = datagen_val.flow(x_valid,y_valid,batch_size=128)"
   ]
  },
  {
   "cell_type": "markdown",
   "metadata": {
    "colab_type": "text",
    "id": "FjBPzDl45NKw"
   },
   "source": [
    "#### 2) Size = 64"
   ]
  },
  {
   "cell_type": "code",
   "execution_count": 0,
   "metadata": {
    "colab": {},
    "colab_type": "code",
    "id": "HNFLYggS5NKx"
   },
   "outputs": [],
   "source": [
    "# MLP model\n",
    "inputs = tf.keras.Input(shape=(64,64,3))\n",
    "x=tf.keras.layers.Flatten()(inputs)\n",
    "x=tf.keras.layers.Dense(units=128,activation = 'relu',name='d1')(x)\n",
    "x=tf.keras.layers.Dropout(0.3)(x)\n",
    "x=tf.keras.layers.Dense(units=512,activation = 'relu',name='d2')(x)\n",
    "x=tf.keras.layers.Dropout(0.3)(x)\n",
    "outputs = tf.keras.layers.Dense(units=7,activation = tf.nn.softmax,name='d3')(x)"
   ]
  },
  {
   "cell_type": "code",
   "execution_count": 0,
   "metadata": {
    "colab": {},
    "colab_type": "code",
    "id": "kH6YGyrQ5NKz"
   },
   "outputs": [],
   "source": [
    "model = tf.keras.Model(inputs=inputs,outputs=outputs)"
   ]
  },
  {
   "cell_type": "code",
   "execution_count": 32,
   "metadata": {
    "colab": {
     "base_uri": "https://localhost:8080/",
     "height": 413
    },
    "colab_type": "code",
    "executionInfo": {
     "elapsed": 72848,
     "status": "ok",
     "timestamp": 1583233134997,
     "user": {
      "displayName": "‍이동규[ 대학원석사과정재학 / 통계학과 ]",
      "photoUrl": "",
      "userId": "08134145419451519269"
     },
     "user_tz": -540
    },
    "id": "rEI9OB_p5NK3",
    "outputId": "9af38617-0ec5-450d-8b10-e85df06ebfe0"
   },
   "outputs": [
    {
     "name": "stdout",
     "output_type": "stream",
     "text": [
      "Model: \"model\"\n",
      "_________________________________________________________________\n",
      "Layer (type)                 Output Shape              Param #   \n",
      "=================================================================\n",
      "input_1 (InputLayer)         [(None, 64, 64, 3)]       0         \n",
      "_________________________________________________________________\n",
      "flatten (Flatten)            (None, 12288)             0         \n",
      "_________________________________________________________________\n",
      "d1 (Dense)                   (None, 128)               1572992   \n",
      "_________________________________________________________________\n",
      "dropout (Dropout)            (None, 128)               0         \n",
      "_________________________________________________________________\n",
      "d2 (Dense)                   (None, 512)               66048     \n",
      "_________________________________________________________________\n",
      "dropout_1 (Dropout)          (None, 512)               0         \n",
      "_________________________________________________________________\n",
      "d3 (Dense)                   (None, 7)                 3591      \n",
      "=================================================================\n",
      "Total params: 1,642,631\n",
      "Trainable params: 1,642,631\n",
      "Non-trainable params: 0\n",
      "_________________________________________________________________\n"
     ]
    }
   ],
   "source": [
    "model.summary()"
   ]
  },
  {
   "cell_type": "code",
   "execution_count": 0,
   "metadata": {
    "colab": {},
    "colab_type": "code",
    "id": "zissGCpJ5NK6"
   },
   "outputs": [],
   "source": [
    "model.compile(optimizer = tf.keras.optimizers.Adam(),\n",
    "              loss='categorical_crossentropy',metrics=['accuracy',macro_f1score,weighted_f1score])"
   ]
  },
  {
   "cell_type": "code",
   "execution_count": 0,
   "metadata": {
    "colab": {},
    "colab_type": "code",
    "id": "IiXOwj8k5NK-"
   },
   "outputs": [],
   "source": [
    "early_stopping = EarlyStopping(monitor='val_macro_f1score', patience=3, verbose=1,mode='max')"
   ]
  },
  {
   "cell_type": "code",
   "execution_count": 35,
   "metadata": {
    "colab": {
     "base_uri": "https://localhost:8080/",
     "height": 53
    },
    "colab_type": "code",
    "executionInfo": {
     "elapsed": 72792,
     "status": "ok",
     "timestamp": 1583233134999,
     "user": {
      "displayName": "‍이동규[ 대학원석사과정재학 / 통계학과 ]",
      "photoUrl": "",
      "userId": "08134145419451519269"
     },
     "user_tz": -540
    },
    "id": "oQcFVqOwCv3P",
    "outputId": "75add720-b618-429d-eb25-697a10eec2ab"
   },
   "outputs": [
    {
     "name": "stdout",
     "output_type": "stream",
     "text": [
      "(3589, 64, 64, 3)\n",
      "28.0390625\n"
     ]
    }
   ],
   "source": [
    "print(x_valid_zoom.shape)\n",
    "print(3589/128)"
   ]
  },
  {
   "cell_type": "code",
   "execution_count": 36,
   "metadata": {
    "colab": {
     "base_uri": "https://localhost:8080/",
     "height": 53
    },
    "colab_type": "code",
    "executionInfo": {
     "elapsed": 72774,
     "status": "ok",
     "timestamp": 1583233134999,
     "user": {
      "displayName": "‍이동규[ 대학원석사과정재학 / 통계학과 ]",
      "photoUrl": "",
      "userId": "08134145419451519269"
     },
     "user_tz": -540
    },
    "id": "zm94B8dAC1Xp",
    "outputId": "364d6ed8-74ea-4b4b-8bdb-dea1191b48a1"
   },
   "outputs": [
    {
     "name": "stdout",
     "output_type": "stream",
     "text": [
      "(28698, 64, 64, 3)\n",
      "224.203125\n"
     ]
    }
   ],
   "source": [
    "print(x_train_zoom.shape)\n",
    "print(28698/128)"
   ]
  },
  {
   "cell_type": "code",
   "execution_count": 37,
   "metadata": {
    "colab": {
     "base_uri": "https://localhost:8080/",
     "height": 35
    },
    "colab_type": "code",
    "executionInfo": {
     "elapsed": 72760,
     "status": "ok",
     "timestamp": 1583233134999,
     "user": {
      "displayName": "‍이동규[ 대학원석사과정재학 / 통계학과 ]",
      "photoUrl": "",
      "userId": "08134145419451519269"
     },
     "user_tz": -540
    },
    "id": "-VZDKjqXC-bV",
    "outputId": "a8d82d6a-c33b-41dc-b58b-d4e4c633a3eb"
   },
   "outputs": [
    {
     "name": "stdout",
     "output_type": "stream",
     "text": [
      "28.03125\n"
     ]
    }
   ],
   "source": [
    "x_test_zoom.shape\n",
    "print(3588/128)"
   ]
  },
  {
   "cell_type": "code",
   "execution_count": 38,
   "metadata": {
    "colab": {
     "base_uri": "https://localhost:8080/",
     "height": 379
    },
    "colab_type": "code",
    "executionInfo": {
     "elapsed": 174976,
     "status": "ok",
     "timestamp": 1583233237232,
     "user": {
      "displayName": "‍이동규[ 대학원석사과정재학 / 통계학과 ]",
      "photoUrl": "",
      "userId": "08134145419451519269"
     },
     "user_tz": -540
    },
    "id": "Pog3e4JU5NLA",
    "outputId": "e315223c-7c04-4882-de01-2233f57be2aa"
   },
   "outputs": [
    {
     "name": "stdout",
     "output_type": "stream",
     "text": [
      "WARNING:tensorflow:sample_weight modes were coerced from\n",
      "  ...\n",
      "    to  \n",
      "  ['...']\n",
      "WARNING:tensorflow:sample_weight modes were coerced from\n",
      "  ...\n",
      "    to  \n",
      "  ['...']\n",
      "Train for 224.203125 steps, validate for 28.0390625 steps\n",
      "Epoch 1/100\n",
      "225/224 [==============================] - 26s 117ms/step - loss: 1.8994 - accuracy: 0.2432 - macro_f1score: 0.0020 - weighted_f1score: 3.3397e-04 - val_loss: 1.8768 - val_accuracy: 0.2449 - val_macro_f1score: 0.0000e+00 - val_weighted_f1score: 0.0000e+00\n",
      "Epoch 2/100\n",
      "225/224 [==============================] - 25s 113ms/step - loss: 1.8107 - accuracy: 0.2514 - macro_f1score: 0.0000e+00 - weighted_f1score: 0.0000e+00 - val_loss: 1.8763 - val_accuracy: 0.2449 - val_macro_f1score: 0.0000e+00 - val_weighted_f1score: 0.0000e+00\n",
      "Epoch 3/100\n",
      "225/224 [==============================] - 25s 111ms/step - loss: 1.8111 - accuracy: 0.2514 - macro_f1score: 0.0000e+00 - weighted_f1score: 0.0000e+00 - val_loss: 1.8769 - val_accuracy: 0.2449 - val_macro_f1score: 0.0000e+00 - val_weighted_f1score: 0.0000e+00\n",
      "Epoch 4/100\n",
      "225/224 [==============================] - 26s 113ms/step - loss: 1.8113 - accuracy: 0.2508 - macro_f1score: 7.9365e-05 - weighted_f1score: 9.3006e-06 - val_loss: 1.8759 - val_accuracy: 0.2449 - val_macro_f1score: 0.0000e+00 - val_weighted_f1score: 0.0000e+00\n",
      "Epoch 00004: early stopping\n"
     ]
    },
    {
     "data": {
      "text/plain": [
       "<tensorflow.python.keras.callbacks.History at 0x7f231929cbe0>"
      ]
     },
     "execution_count": 38,
     "metadata": {
      "tags": []
     },
     "output_type": "execute_result"
    }
   ],
   "source": [
    "# tensorflow의 버전이 2.1 버전인지 꼭 확인하고 돌려볼것. 2.1버전부터 아래의 코드가 제대로 돌아감!!!\n",
    "# fit_generator은 tf.keras에서 사라지고, fit으로 모두 통합된다. 참고하기\n",
    "\n",
    "model.fit(datagen.flow(x_train_zoom,y_train,batch_size=128), steps_per_epoch=len(x_train)/128, validation_data= xy_valid_zoom_gen, validation_steps=len(x_valid_zoom)/128, epochs=100, callbacks=[early_stopping]) "
   ]
  },
  {
   "cell_type": "code",
   "execution_count": 39,
   "metadata": {
    "colab": {
     "base_uri": "https://localhost:8080/",
     "height": 71
    },
    "colab_type": "code",
    "executionInfo": {
     "elapsed": 180415,
     "status": "ok",
     "timestamp": 1583233242689,
     "user": {
      "displayName": "‍이동규[ 대학원석사과정재학 / 통계학과 ]",
      "photoUrl": "",
      "userId": "08134145419451519269"
     },
     "user_tz": -540
    },
    "id": "RumFl8Zd5NLD",
    "outputId": "0284b842-57c5-48fb-975a-815208c3d197"
   },
   "outputs": [
    {
     "name": "stdout",
     "output_type": "stream",
     "text": [
      "3588/3588 [==============================] - 0s 71us/sample - loss: 1.8112 - accuracy: 0.2494 - macro_f1score: 0.0000e+00 - weighted_f1score: 0.0000e+00\n",
      "\n",
      "Accuracy: 0.2494, Macro F1 Score: 0.0000, Weighted F1 Score: 0.0000\n"
     ]
    }
   ],
   "source": [
    "_, acc, mac_f1, wei_f1 = model.evaluate(x_test_zoom,y_test,batch_size=128)\n",
    "print(\"\\nAccuracy: {:.4f}, Macro F1 Score: {:.4f}, Weighted F1 Score: {:.4f}\".format(acc,mac_f1,wei_f1))\n",
    "\n",
    "# 주의할 점이 있다. \n",
    "# 만약, 데이터를 생성해서 모델을 평가하고 싶으면 evaluate_generator를 사용하면 된다. \n",
    "# 물론, test데이터도 train과 valid처럼 data를 generating 해야함."
   ]
  },
  {
   "cell_type": "code",
   "execution_count": 40,
   "metadata": {
    "colab": {
     "base_uri": "https://localhost:8080/",
     "height": 1000
    },
    "colab_type": "code",
    "executionInfo": {
     "elapsed": 180404,
     "status": "ok",
     "timestamp": 1583233242689,
     "user": {
      "displayName": "‍이동규[ 대학원석사과정재학 / 통계학과 ]",
      "photoUrl": "",
      "userId": "08134145419451519269"
     },
     "user_tz": -540
    },
    "id": "foYY-wQmIzVR",
    "outputId": "54a3398a-28e6-47e5-dada-c0e36cc1bdc2"
   },
   "outputs": [
    {
     "data": {
      "text/plain": [
       "[array([[-0.01696256,  0.01554262, -0.00380234, ...,  0.00857061,\n",
       "          0.01488426,  0.00090484],\n",
       "        [-0.01229869,  0.00273906,  0.00334038, ...,  0.00864739,\n",
       "         -0.0214268 , -0.02441904],\n",
       "        [ 0.01170512, -0.00876398, -0.01309185, ..., -0.022129  ,\n",
       "         -0.01574958, -0.02672933],\n",
       "        ...,\n",
       "        [-0.00629854,  0.00947341,  0.00714864, ..., -0.0067593 ,\n",
       "         -0.0150979 , -0.02127404],\n",
       "        [-0.00395063, -0.01508432, -0.01807434, ..., -0.0154744 ,\n",
       "          0.01307693, -0.00123153],\n",
       "        [ 0.0103083 , -0.02627275, -0.00928748, ..., -0.00878498,\n",
       "         -0.02572644, -0.00039663]], dtype=float32),\n",
       " array([ 0.0001111 , -0.00600481, -0.00579334, -0.00598015, -0.00596151,\n",
       "        -0.00599416, -0.00599818, -0.00149885, -0.00672707, -0.00922093,\n",
       "        -0.01084612, -0.00068719, -0.00478786, -0.00862671, -0.00599819,\n",
       "        -0.00502018, -0.0060046 , -0.00264179, -0.00598124, -0.00599368,\n",
       "        -0.00598948, -0.00596462, -0.00600165, -0.00508756, -0.006003  ,\n",
       "        -0.00328333, -0.00600271, -0.00815645, -0.00460703, -0.00595496,\n",
       "        -0.00675764, -0.00554225, -0.00600416, -0.00407821, -0.00539605,\n",
       "        -0.00816863, -0.00420418, -0.00057904, -0.00580054, -0.00655048,\n",
       "        -0.00600473, -0.00265345, -0.00644601, -0.00574067, -0.00158996,\n",
       "        -0.0087442 , -0.00352958, -0.00454029, -0.00526737, -0.00600406,\n",
       "        -0.00600312, -0.00322249, -0.00445108, -0.00600457, -0.00600182,\n",
       "        -0.00593445, -0.00509077, -0.00599198, -0.00600357, -0.00600369,\n",
       "        -0.0058402 , -0.00597422, -0.00409813, -0.0060042 , -0.00318765,\n",
       "        -0.00600436, -0.00453179, -0.01087151, -0.00391094, -0.00418296,\n",
       "        -0.00600338, -0.00600392, -0.00600235, -0.0045576 , -0.00531712,\n",
       "        -0.00600355, -0.00667238, -0.00364759, -0.00194568, -0.00600196,\n",
       "        -0.00569988, -0.00019808, -0.00215261, -0.00449056, -0.00507532,\n",
       "        -0.00600082, -0.00600432, -0.00600364, -0.00599276, -0.00645924,\n",
       "        -0.00288445, -0.00600468, -0.00600454, -0.0060035 , -0.00599668,\n",
       "        -0.00600341, -0.00600342, -0.00537753, -0.00296803, -0.00477404,\n",
       "        -0.00600351, -0.00600306, -0.00600438, -0.00391655, -0.00356924,\n",
       "        -0.00097862,  0.00474307, -0.00446776, -0.00554695, -0.0060037 ,\n",
       "        -0.00812231, -0.00600077, -0.00600336, -0.00596538, -0.0043803 ,\n",
       "        -0.00597324, -0.00599777, -0.00600474, -0.00315724, -0.0051933 ,\n",
       "        -0.00520227, -0.00714645, -0.00600401, -0.00599861, -0.00088961,\n",
       "         0.00595567, -0.0063216 , -0.00597974], dtype=float32),\n",
       " array([[-0.00063664,  0.06585948, -0.05205929, ..., -0.09935838,\n",
       "          0.0590464 , -0.06552745],\n",
       "        [-0.08758167,  0.00360962,  0.02321213, ..., -0.03287472,\n",
       "          0.05080197, -0.02990375],\n",
       "        [ 0.04518943, -0.08310578, -0.03429382, ..., -0.01899141,\n",
       "         -0.07334688, -0.04913362],\n",
       "        ...,\n",
       "        [ 0.05145436,  0.02932628,  0.05608749, ..., -0.03443202,\n",
       "         -0.06235906, -0.0189728 ],\n",
       "        [-0.08692709,  0.05292227, -0.07186544, ...,  0.04707289,\n",
       "         -0.06243227,  0.05696536],\n",
       "        [ 0.05588358, -0.04659863, -0.06317709, ..., -0.05972924,\n",
       "          0.00048456, -0.07481699]], dtype=float32),\n",
       " array([-0.00370704, -0.00923696,  0.08637346,  0.03780166, -0.00076418,\n",
       "        -0.00303173, -0.01313264,  0.10124005, -0.01308905, -0.00342751,\n",
       "         0.06367766, -0.02867788,  0.06856932,  0.1096186 , -0.01615909,\n",
       "        -0.0114011 , -0.01437815, -0.00806476, -0.01285988,  0.06837335,\n",
       "        -0.00942591, -0.00647482,  0.11456554, -0.00845025,  0.03236151,\n",
       "        -0.01358642,  0.01891526, -0.00734891, -0.01138323,  0.08513702,\n",
       "        -0.00099521,  0.09074841, -0.00712809, -0.02359316, -0.00031811,\n",
       "         0.10095001, -0.00296209, -0.00548563,  0.01762354, -0.0192223 ,\n",
       "        -0.00415348,  0.09241705, -0.00332705,  0.16722001,  0.12402905,\n",
       "        -0.00236182, -0.00137671,  0.10780226,  0.00158009, -0.00057443,\n",
       "        -0.009293  , -0.02451553,  0.11382226,  0.06430726, -0.01675459,\n",
       "        -0.00965584, -0.00329947,  0.04909056,  0.10330149, -0.02294219,\n",
       "        -0.00608833,  0.02773849,  0.03091243,  0.08216511, -0.00104597,\n",
       "        -0.01908847,  0.1357986 , -0.00965071,  0.09849175, -0.01137207,\n",
       "        -0.0196192 ,  0.07442504, -0.02662598,  0.03024195, -0.02180636,\n",
       "        -0.00763337,  0.11503368, -0.01534621, -0.00093728, -0.00962978,\n",
       "        -0.00356997,  0.06308116, -0.00577529, -0.01565083,  0.06883092,\n",
       "        -0.02999103, -0.00170549,  0.0408196 , -0.01425239, -0.00382528,\n",
       "         0.11971237, -0.00704748, -0.01262216, -0.01007569, -0.01481727,\n",
       "         0.02463231,  0.11312583,  0.09269027, -0.01157286,  0.09482088,\n",
       "        -0.00428022,  0.07673931,  0.03556962, -0.00247128, -0.00883636,\n",
       "        -0.0069635 , -0.00274231,  0.04804971, -0.0126492 ,  0.0012411 ,\n",
       "        -0.01721589, -0.01425043, -0.00130122, -0.01202733,  0.06833529,\n",
       "        -0.01070328,  0.05299132,  0.08753791,  0.01420141, -0.00142352,\n",
       "        -0.00556743, -0.00569645,  0.05257805,  0.05881146, -0.01125652,\n",
       "        -0.00960566, -0.0024757 ,  0.12401484, -0.00499526, -0.0130043 ,\n",
       "         0.1139539 , -0.00539768,  0.10531634, -0.00903883, -0.03291734,\n",
       "         0.1014649 , -0.00368787, -0.02974375, -0.02495934,  0.02482283,\n",
       "         0.06337759,  0.11069468, -0.00091089, -0.01597905, -0.00158681,\n",
       "        -0.00877932, -0.01569117,  0.03870553, -0.00309807, -0.00210391,\n",
       "         0.12945066, -0.00356728, -0.00754731, -0.02018293,  0.11796852,\n",
       "        -0.01787482, -0.03451451,  0.06735218,  0.07542387, -0.01432898,\n",
       "        -0.01162962,  0.07716297, -0.01078498,  0.08302875, -0.00724404,\n",
       "        -0.00921389, -0.0047638 ,  0.01379137,  0.09553087, -0.01573507,\n",
       "        -0.01030123, -0.00515674, -0.01915638, -0.00698218, -0.01503559,\n",
       "         0.09554709, -0.03837409, -0.0038607 , -0.00335794, -0.01772194,\n",
       "         0.08558086,  0.0565064 , -0.01367946, -0.02075412, -0.02020051,\n",
       "         0.02698752, -0.00661357, -0.00879079,  0.07059509, -0.01566257,\n",
       "        -0.00023134,  0.04163743,  0.14551742, -0.00653787, -0.00363077,\n",
       "        -0.01633089, -0.00929605, -0.00649056, -0.0006558 , -0.01630894,\n",
       "         0.05832637, -0.02680022, -0.01436512, -0.01022363, -0.01141208,\n",
       "         0.05777382, -0.00936252, -0.00056625,  0.11080939, -0.01966721,\n",
       "        -0.02048603,  0.0967861 , -0.00567102, -0.00470469,  0.10687984,\n",
       "         0.09890756,  0.08504818, -0.00734968, -0.00402151,  0.02638848,\n",
       "        -0.00162095, -0.01325317, -0.00896496, -0.00866875,  0.14023678,\n",
       "        -0.00359012, -0.00319253,  0.08123516,  0.04870174, -0.00321146,\n",
       "        -0.00365087, -0.0038333 ,  0.02099355, -0.01758866, -0.0044574 ,\n",
       "        -0.01902122,  0.12285043,  0.10774801, -0.02214425,  0.01776059,\n",
       "        -0.00096559, -0.01318626, -0.018789  , -0.00217965, -0.01777577,\n",
       "         0.08058102, -0.00928653, -0.01848621, -0.00479343, -0.00373828,\n",
       "        -0.01223099,  0.08960757,  0.11077466, -0.01475226,  0.05477086,\n",
       "        -0.00504608, -0.00267994, -0.01070005,  0.06117735, -0.00415632,\n",
       "         0.10979841, -0.01009577,  0.06211455, -0.00243366, -0.02344311,\n",
       "        -0.01232146,  0.13443634, -0.0157539 , -0.00231988, -0.00641475,\n",
       "         0.04652788,  0.0788464 , -0.00156093,  0.04193576, -0.00485172,\n",
       "        -0.00247428,  0.13955973, -0.01841012, -0.01987665, -0.00120028,\n",
       "         0.09677093,  0.05854667, -0.00838373,  0.02506968,  0.02817225,\n",
       "         0.03033078,  0.04879033, -0.00461914,  0.07926564, -0.00081072,\n",
       "        -0.00245645, -0.01097424, -0.00661815, -0.01632083, -0.01683598,\n",
       "        -0.00602469, -0.00917253, -0.01592664,  0.03522231, -0.00054552,\n",
       "        -0.0057891 , -0.01527782,  0.03170123, -0.01839904,  0.11396485,\n",
       "         0.05294601, -0.0207523 , -0.02137192,  0.10453835,  0.0135264 ,\n",
       "        -0.00888851,  0.04383075, -0.01078986, -0.00636139,  0.0703706 ,\n",
       "         0.11722597, -0.01248652, -0.0223217 , -0.01484964, -0.01380129,\n",
       "        -0.00511385,  0.06553692, -0.03047737, -0.00870995, -0.00903928,\n",
       "         0.02459751,  0.11299892, -0.00102565, -0.00026569, -0.00368371,\n",
       "        -0.01423865,  0.1058739 , -0.01479228,  0.02958304,  0.09199754,\n",
       "         0.04551742, -0.02392296, -0.00445074, -0.00774954,  0.06064397,\n",
       "         0.04540799, -0.0061038 , -0.01808635, -0.01075891, -0.00519334,\n",
       "         0.082722  , -0.00554114, -0.01456002, -0.00490421,  0.04045942,\n",
       "         0.13671166, -0.01552038,  0.01329105, -0.00190336,  0.05812664,\n",
       "         0.02875359, -0.01101098, -0.00733732, -0.00141899, -0.00231123,\n",
       "         0.04468032, -0.03158387,  0.10107172, -0.00361382, -0.00355111,\n",
       "        -0.01012337, -0.00278559,  0.01403314, -0.00368915,  0.07426739,\n",
       "         0.07214072, -0.03905988,  0.02440217, -0.01925194,  0.05486542,\n",
       "         0.05334064,  0.08885746, -0.0056445 , -0.01468797, -0.01305799,\n",
       "        -0.00321846, -0.01238298,  0.12243107, -0.02506219, -0.01758772,\n",
       "        -0.00155636, -0.0124288 ,  0.08421777, -0.01031498,  0.05021702,\n",
       "        -0.02429359, -0.00560271,  0.05570071, -0.0063649 ,  0.18106592,\n",
       "        -0.00737267,  0.03456401,  0.01723272, -0.01462407,  0.09292615,\n",
       "        -0.00790854,  0.09136143,  0.02860638, -0.00181616, -0.00429679,\n",
       "         0.08552444,  0.03109326,  0.08006418, -0.01623739,  0.08006947,\n",
       "         0.10412659, -0.00549017,  0.07000076,  0.11012617, -0.00589124,\n",
       "        -0.02405734,  0.05741486, -0.01124273, -0.00911066, -0.00284163,\n",
       "         0.00097763,  0.07712779,  0.10298485, -0.01119081,  0.06781993,\n",
       "         0.10391467, -0.00065499, -0.00173852,  0.05560052, -0.02540533,\n",
       "        -0.00291541,  0.04055202, -0.006286  ,  0.09018455,  0.0681897 ,\n",
       "        -0.00079349, -0.02141886, -0.01395958,  0.08073721,  0.03100207,\n",
       "        -0.00710916,  0.11460195,  0.05627987, -0.01208397, -0.00370576,\n",
       "        -0.01402229, -0.00351953, -0.01177343, -0.01306642, -0.01821637,\n",
       "         0.07042772,  0.08019523,  0.01998776,  0.0973189 ,  0.09347769,\n",
       "        -0.00992461, -0.01013381, -0.00563749, -0.02619564, -0.00174617,\n",
       "         0.04989538, -0.00996553, -0.01447496,  0.12111007, -0.00323393,\n",
       "         0.0941167 , -0.01782528,  0.09637956, -0.01218849,  0.08415423,\n",
       "         0.054099  , -0.0238573 , -0.00737941, -0.01304297, -0.00332645,\n",
       "        -0.0040958 , -0.00855925, -0.00450318,  0.04771229, -0.01201443,\n",
       "        -0.00123819, -0.01561464, -0.00364992, -0.00170114, -0.00354195,\n",
       "        -0.01613064, -0.02355678,  0.05598158,  0.04743152, -0.00931814,\n",
       "        -0.00211241, -0.00483461, -0.01551244,  0.05008093, -0.00869772,\n",
       "        -0.00372904,  0.04854995, -0.01154386,  0.07734373,  0.011484  ,\n",
       "         0.06323389,  0.05919648, -0.00629238,  0.03659676, -0.02552928,\n",
       "        -0.00815534, -0.01140573, -0.03299597,  0.13973841, -0.0166433 ,\n",
       "        -0.00451605, -0.0150901 ], dtype=float32),\n",
       " array([[-0.02966849, -0.04138399,  0.0946857 , ...,  0.06662477,\n",
       "          0.04599373, -0.09281611],\n",
       "        [ 0.05558934, -0.09537757,  0.08917513, ...,  0.10224117,\n",
       "          0.05044477, -0.06446076],\n",
       "        [ 0.00855637, -0.17015688, -0.05460707, ...,  0.00892097,\n",
       "         -0.02586097,  0.04093178],\n",
       "        ...,\n",
       "        [-0.04774444,  0.00212821, -0.07810051, ...,  0.071124  ,\n",
       "          0.11032236,  0.09496464],\n",
       "        [ 0.0321586 , -0.06032602, -0.06968787, ...,  0.03815239,\n",
       "         -0.02754584, -0.03739861],\n",
       "        [ 0.05123851,  0.08565911, -0.00388895, ...,  0.0715519 ,\n",
       "         -0.03318878, -0.03591755]], dtype=float32),\n",
       " array([ 0.0070682 , -0.15364726,  0.003587  ,  0.04690126,  0.03290129,\n",
       "        -0.0220891 ,  0.02941673], dtype=float32)]"
      ]
     },
     "execution_count": 40,
     "metadata": {
      "tags": []
     },
     "output_type": "execute_result"
    }
   ],
   "source": [
    "model.get_weights()"
   ]
  },
  {
   "cell_type": "markdown",
   "metadata": {
    "colab_type": "text",
    "id": "45sRLEBQ5NLG"
   },
   "source": [
    "#### 3) Size = 48"
   ]
  },
  {
   "cell_type": "code",
   "execution_count": 0,
   "metadata": {
    "colab": {},
    "colab_type": "code",
    "id": "pCG9QrQbyMGy"
   },
   "outputs": [],
   "source": [
    "# MLP model\n",
    "inputs = tf.keras.Input(shape=(48,48,3))\n",
    "x=tf.keras.layers.Flatten()(inputs)\n",
    "x=tf.keras.layers.Dense(units=128,activation = 'relu',name='d1')(x)\n",
    "x=tf.keras.layers.Dropout(0.3)(x)\n",
    "x=tf.keras.layers.Dense(units=512,activation = 'relu',name='d2')(x)\n",
    "x=tf.keras.layers.Dropout(0.3)(x)\n",
    "outputs = tf.keras.layers.Dense(units=7,activation = tf.nn.softmax,name='d3')(x)"
   ]
  },
  {
   "cell_type": "code",
   "execution_count": 0,
   "metadata": {
    "colab": {},
    "colab_type": "code",
    "id": "jDIP0w4gyMG2"
   },
   "outputs": [],
   "source": [
    "model = tf.keras.Model(inputs=inputs,outputs=outputs)"
   ]
  },
  {
   "cell_type": "code",
   "execution_count": 43,
   "metadata": {
    "colab": {
     "base_uri": "https://localhost:8080/",
     "height": 413
    },
    "colab_type": "code",
    "executionInfo": {
     "elapsed": 180360,
     "status": "ok",
     "timestamp": 1583233242691,
     "user": {
      "displayName": "‍이동규[ 대학원석사과정재학 / 통계학과 ]",
      "photoUrl": "",
      "userId": "08134145419451519269"
     },
     "user_tz": -540
    },
    "id": "RkiZEnDbyMG5",
    "outputId": "0d17fff9-e799-41e5-938d-2372130d3752"
   },
   "outputs": [
    {
     "name": "stdout",
     "output_type": "stream",
     "text": [
      "Model: \"model_1\"\n",
      "_________________________________________________________________\n",
      "Layer (type)                 Output Shape              Param #   \n",
      "=================================================================\n",
      "input_2 (InputLayer)         [(None, 48, 48, 3)]       0         \n",
      "_________________________________________________________________\n",
      "flatten_1 (Flatten)          (None, 6912)              0         \n",
      "_________________________________________________________________\n",
      "d1 (Dense)                   (None, 128)               884864    \n",
      "_________________________________________________________________\n",
      "dropout_2 (Dropout)          (None, 128)               0         \n",
      "_________________________________________________________________\n",
      "d2 (Dense)                   (None, 512)               66048     \n",
      "_________________________________________________________________\n",
      "dropout_3 (Dropout)          (None, 512)               0         \n",
      "_________________________________________________________________\n",
      "d3 (Dense)                   (None, 7)                 3591      \n",
      "=================================================================\n",
      "Total params: 954,503\n",
      "Trainable params: 954,503\n",
      "Non-trainable params: 0\n",
      "_________________________________________________________________\n"
     ]
    }
   ],
   "source": [
    "model.summary()"
   ]
  },
  {
   "cell_type": "code",
   "execution_count": 0,
   "metadata": {
    "colab": {},
    "colab_type": "code",
    "id": "95WAewF_yMG8"
   },
   "outputs": [],
   "source": [
    "model.compile(optimizer = tf.keras.optimizers.Adam(),\n",
    "              loss='categorical_crossentropy',metrics=['accuracy',macro_f1score,weighted_f1score])"
   ]
  },
  {
   "cell_type": "code",
   "execution_count": 0,
   "metadata": {
    "colab": {},
    "colab_type": "code",
    "id": "mP44TeDDyMHD"
   },
   "outputs": [],
   "source": [
    "early_stopping = EarlyStopping(monitor='val_macro_f1score', patience=3, verbose=1,mode='max')\n"
   ]
  },
  {
   "cell_type": "code",
   "execution_count": 46,
   "metadata": {
    "colab": {
     "base_uri": "https://localhost:8080/",
     "height": 379
    },
    "colab_type": "code",
    "executionInfo": {
     "elapsed": 257082,
     "status": "ok",
     "timestamp": 1583233319503,
     "user": {
      "displayName": "‍이동규[ 대학원석사과정재학 / 통계학과 ]",
      "photoUrl": "",
      "userId": "08134145419451519269"
     },
     "user_tz": -540
    },
    "id": "X4USF-7hyMHH",
    "outputId": "5b21185a-5d5a-47f3-84ce-9fc791467ff6"
   },
   "outputs": [
    {
     "name": "stdout",
     "output_type": "stream",
     "text": [
      "WARNING:tensorflow:sample_weight modes were coerced from\n",
      "  ...\n",
      "    to  \n",
      "  ['...']\n",
      "WARNING:tensorflow:sample_weight modes were coerced from\n",
      "  ...\n",
      "    to  \n",
      "  ['...']\n",
      "Train for 224.203125 steps, validate for 28.0390625 steps\n",
      "Epoch 1/100\n",
      "225/224 [==============================] - 21s 92ms/step - loss: 1.8677 - accuracy: 0.2413 - macro_f1score: 0.0019 - weighted_f1score: 3.5147e-04 - val_loss: 1.8956 - val_accuracy: 0.2449 - val_macro_f1score: 0.0000e+00 - val_weighted_f1score: 0.0000e+00\n",
      "Epoch 2/100\n",
      "225/224 [==============================] - 20s 88ms/step - loss: 1.8118 - accuracy: 0.2514 - macro_f1score: 0.0000e+00 - weighted_f1score: 0.0000e+00 - val_loss: 1.8964 - val_accuracy: 0.2449 - val_macro_f1score: 0.0000e+00 - val_weighted_f1score: 0.0000e+00\n",
      "Epoch 3/100\n",
      "225/224 [==============================] - 20s 89ms/step - loss: 1.8109 - accuracy: 0.2514 - macro_f1score: 0.0000e+00 - weighted_f1score: 0.0000e+00 - val_loss: 1.8970 - val_accuracy: 0.2449 - val_macro_f1score: 0.0000e+00 - val_weighted_f1score: 0.0000e+00\n",
      "Epoch 4/100\n",
      "225/224 [==============================] - 20s 89ms/step - loss: 1.8107 - accuracy: 0.2514 - macro_f1score: 0.0000e+00 - weighted_f1score: 0.0000e+00 - val_loss: 1.8965 - val_accuracy: 0.2449 - val_macro_f1score: 0.0000e+00 - val_weighted_f1score: 0.0000e+00\n",
      "Epoch 00004: early stopping\n"
     ]
    },
    {
     "data": {
      "text/plain": [
       "<tensorflow.python.keras.callbacks.History at 0x7f231948a128>"
      ]
     },
     "execution_count": 46,
     "metadata": {
      "tags": []
     },
     "output_type": "execute_result"
    }
   ],
   "source": [
    "# tensorflow의 버전이 2.1 버전인지 꼭 확인하고 돌려볼것. 2.1버전부터 아래의 코드가 제대로 돌아감!!!\n",
    "# fit_generator은 tf.keras에서 사라지고, fit으로 모두 통합된다. 참고하기\n",
    "model.fit(datagen.flow(x_train,y_train,batch_size=128), steps_per_epoch=len(x_train)/128, validation_data= xy_valid_gen, validation_steps=len(x_valid)/128 ,epochs=100, callbacks=[early_stopping]) "
   ]
  },
  {
   "cell_type": "code",
   "execution_count": 47,
   "metadata": {
    "colab": {
     "base_uri": "https://localhost:8080/",
     "height": 71
    },
    "colab_type": "code",
    "executionInfo": {
     "elapsed": 257053,
     "status": "ok",
     "timestamp": 1583233319510,
     "user": {
      "displayName": "‍이동규[ 대학원석사과정재학 / 통계학과 ]",
      "photoUrl": "",
      "userId": "08134145419451519269"
     },
     "user_tz": -540
    },
    "id": "3_O7c2G6yMHK",
    "outputId": "4bb89e6e-cc0d-4576-f14a-e18b9a208a0e",
    "scrolled": true
   },
   "outputs": [
    {
     "name": "stdout",
     "output_type": "stream",
     "text": [
      "3588/3588 [==============================] - 0s 69us/sample - loss: 1.8114 - accuracy: 0.2494 - macro_f1score: 0.0000e+00 - weighted_f1score: 0.0000e+00\n",
      "\n",
      "Accuracy: 0.2494, Macro F1 Score: 0.0000, Weighted F1 Score: 0.0000\n"
     ]
    }
   ],
   "source": [
    "_, acc, mac_f1, wei_f1 = model.evaluate(x_test,y_test,batch_size=128)\n",
    "print(\"\\nAccuracy: {:.4f}, Macro F1 Score: {:.4f}, Weighted F1 Score: {:.4f}\".format(acc,mac_f1,wei_f1))"
   ]
  },
  {
   "cell_type": "markdown",
   "metadata": {
    "colab_type": "text",
    "id": "VoUnO_72yMHR"
   },
   "source": [
    "## 2. Simple CNN\n",
    "---"
   ]
  },
  {
   "cell_type": "code",
   "execution_count": 0,
   "metadata": {
    "colab": {},
    "colab_type": "code",
    "id": "4sXP5MnLyMHS"
   },
   "outputs": [],
   "source": [
    "# FER2013 데이터를 들어가기 앞서, 주의해야할 사항이 있다.\n",
    "# 기본이기도 하지만, 데이터가 Label에 대해 균형이어야 좋은 performance를 낸다. 이는 CNN에서 특히 더 그렇다.\n",
    "# 내가가진 데이터는 불균형이므로, 불균형문제를 해결하는게 옳다.\n",
    "# 이 방법은 ADASYN, SMOTE, GAN, AutoEncoder등으로 해결할 수 있으며, 이에 대한 개념을 훗날 배우고 더 적용시켜보도록 한다.\n",
    "# 또한, 불균형이기에 F1 score도 같이 제시함을 잊지 않는다.\n",
    "\n",
    "###################### 2. model - CNN Simple ######################\n"
   ]
  },
  {
   "cell_type": "markdown",
   "metadata": {
    "colab_type": "text",
    "id": "E2iVXw9S9JQr"
   },
   "source": [
    "### 1) Size 64"
   ]
  },
  {
   "cell_type": "code",
   "execution_count": 0,
   "metadata": {
    "colab": {},
    "colab_type": "code",
    "id": "MZGUhqtEyMHY"
   },
   "outputs": [],
   "source": [
    "classes = y_test.shape[1]\n",
    "size=64\n",
    "\n",
    "input_shape = (size,size,3)\n",
    "batch_size = 128\n",
    "kernel_size = (3,3) \n",
    "filters = 64 \n",
    "dropout = 0.3 "
   ]
  },
  {
   "cell_type": "code",
   "execution_count": 0,
   "metadata": {
    "colab": {},
    "colab_type": "code",
    "id": "YbGTY1MMyMHb"
   },
   "outputs": [],
   "source": [
    "# CNN model\n",
    "cnn_model = tf.keras.models.Sequential()\n",
    "cnn_model.add(tf.keras.layers.Conv2D(filters=filters, kernel_size=kernel_size,\n",
    "                                     activation='relu', input_shape=input_shape, strides = (1,1) , name='Conv2D_layer1'))\n",
    "cnn_model.add(tf.keras.layers.MaxPooling2D((2, 2), name='Maxpooling1_2D'))\n",
    "cnn_model.add(tf.keras.layers.Conv2D(filters=filters, kernel_size=kernel_size,\n",
    "                                     activation='relu', strides = (1,1) , name='Conv2D_layer2'))\n",
    "cnn_model.add(tf.keras.layers.MaxPooling2D((2, 2), name='Maxpooling2_2D'))\n",
    "cnn_model.add(tf.keras.layers.Flatten(name='Flatten'))\n",
    "cnn_model.add(tf.keras.layers.Dropout(dropout))\n",
    "cnn_model.add(tf.keras.layers.Dense(64, activation='relu', name='Hidden_layer'))\n",
    "cnn_model.add(tf.keras.layers.Dense(classes, activation='softmax', name='Output_layer'))"
   ]
  },
  {
   "cell_type": "code",
   "execution_count": 50,
   "metadata": {
    "colab": {
     "base_uri": "https://localhost:8080/",
     "height": 449
    },
    "colab_type": "code",
    "executionInfo": {
     "elapsed": 257002,
     "status": "ok",
     "timestamp": 1583233319513,
     "user": {
      "displayName": "‍이동규[ 대학원석사과정재학 / 통계학과 ]",
      "photoUrl": "",
      "userId": "08134145419451519269"
     },
     "user_tz": -540
    },
    "id": "s4XB2rENyMHe",
    "outputId": "4eee217e-6eaf-46e6-9b52-4ebe76bc5dee"
   },
   "outputs": [
    {
     "name": "stdout",
     "output_type": "stream",
     "text": [
      "Model: \"sequential\"\n",
      "_________________________________________________________________\n",
      "Layer (type)                 Output Shape              Param #   \n",
      "=================================================================\n",
      "Conv2D_layer1 (Conv2D)       (None, 62, 62, 64)        1792      \n",
      "_________________________________________________________________\n",
      "Maxpooling1_2D (MaxPooling2D (None, 31, 31, 64)        0         \n",
      "_________________________________________________________________\n",
      "Conv2D_layer2 (Conv2D)       (None, 29, 29, 64)        36928     \n",
      "_________________________________________________________________\n",
      "Maxpooling2_2D (MaxPooling2D (None, 14, 14, 64)        0         \n",
      "_________________________________________________________________\n",
      "Flatten (Flatten)            (None, 12544)             0         \n",
      "_________________________________________________________________\n",
      "dropout_4 (Dropout)          (None, 12544)             0         \n",
      "_________________________________________________________________\n",
      "Hidden_layer (Dense)         (None, 64)                802880    \n",
      "_________________________________________________________________\n",
      "Output_layer (Dense)         (None, 7)                 455       \n",
      "=================================================================\n",
      "Total params: 842,055\n",
      "Trainable params: 842,055\n",
      "Non-trainable params: 0\n",
      "_________________________________________________________________\n"
     ]
    }
   ],
   "source": [
    "cnn_model.summary()"
   ]
  },
  {
   "cell_type": "code",
   "execution_count": 0,
   "metadata": {
    "colab": {},
    "colab_type": "code",
    "id": "gmba-gxOyMHh"
   },
   "outputs": [],
   "source": [
    "cnn_model.compile(optimizer='adam', loss='categorical_crossentropy',\n",
    "                  metrics=['accuracy',macro_f1score,weighted_f1score])"
   ]
  },
  {
   "cell_type": "code",
   "execution_count": 0,
   "metadata": {
    "colab": {},
    "colab_type": "code",
    "id": "DrRGtWJoyMHk"
   },
   "outputs": [],
   "source": [
    "early_stopping = EarlyStopping(monitor='val_macro_f1score', patience=3, verbose=1,mode='max')"
   ]
  },
  {
   "cell_type": "code",
   "execution_count": 53,
   "metadata": {
    "colab": {
     "base_uri": "https://localhost:8080/",
     "height": 1000
    },
    "colab_type": "code",
    "executionInfo": {
     "elapsed": 984888,
     "status": "ok",
     "timestamp": 1583234047452,
     "user": {
      "displayName": "‍이동규[ 대학원석사과정재학 / 통계학과 ]",
      "photoUrl": "",
      "userId": "08134145419451519269"
     },
     "user_tz": -540
    },
    "id": "eGGNbzpvyMHn",
    "outputId": "1307bf42-74b1-4ffb-da2f-1ebfbb0be44b",
    "scrolled": true
   },
   "outputs": [
    {
     "name": "stdout",
     "output_type": "stream",
     "text": [
      "WARNING:tensorflow:sample_weight modes were coerced from\n",
      "  ...\n",
      "    to  \n",
      "  ['...']\n",
      "WARNING:tensorflow:sample_weight modes were coerced from\n",
      "  ...\n",
      "    to  \n",
      "  ['...']\n",
      "Train for 224.203125 steps, validate for 28.0390625 steps\n",
      "Epoch 1/100\n",
      "225/224 [==============================] - 30s 135ms/step - loss: 1.7573 - accuracy: 0.2855 - macro_f1score: 0.0067 - weighted_f1score: 9.9569e-04 - val_loss: 1.6892 - val_accuracy: 0.3491 - val_macro_f1score: 0.0830 - val_weighted_f1score: 0.0132\n",
      "Epoch 2/100\n",
      "225/224 [==============================] - 25s 113ms/step - loss: 1.6433 - accuracy: 0.3545 - macro_f1score: 0.0643 - weighted_f1score: 0.0119 - val_loss: 1.5357 - val_accuracy: 0.4294 - val_macro_f1score: 0.1329 - val_weighted_f1score: 0.0244\n",
      "Epoch 3/100\n",
      "225/224 [==============================] - 26s 115ms/step - loss: 1.5663 - accuracy: 0.3942 - macro_f1score: 0.1203 - weighted_f1score: 0.0223 - val_loss: 1.4869 - val_accuracy: 0.4383 - val_macro_f1score: 0.1636 - val_weighted_f1score: 0.0302\n",
      "Epoch 4/100\n",
      "225/224 [==============================] - 26s 115ms/step - loss: 1.5216 - accuracy: 0.4124 - macro_f1score: 0.1474 - weighted_f1score: 0.0274 - val_loss: 1.4408 - val_accuracy: 0.4620 - val_macro_f1score: 0.2264 - val_weighted_f1score: 0.0418\n",
      "Epoch 5/100\n",
      "225/224 [==============================] - 26s 114ms/step - loss: 1.4848 - accuracy: 0.4256 - macro_f1score: 0.1644 - weighted_f1score: 0.0304 - val_loss: 1.4033 - val_accuracy: 0.4706 - val_macro_f1score: 0.2305 - val_weighted_f1score: 0.0418\n",
      "Epoch 6/100\n",
      "225/224 [==============================] - 26s 116ms/step - loss: 1.4590 - accuracy: 0.4381 - macro_f1score: 0.1817 - weighted_f1score: 0.0332 - val_loss: 1.3536 - val_accuracy: 0.4957 - val_macro_f1score: 0.2449 - val_weighted_f1score: 0.0446\n",
      "Epoch 7/100\n",
      "225/224 [==============================] - 26s 115ms/step - loss: 1.4305 - accuracy: 0.4473 - macro_f1score: 0.1973 - weighted_f1score: 0.0358 - val_loss: 1.3528 - val_accuracy: 0.4962 - val_macro_f1score: 0.2534 - val_weighted_f1score: 0.0461\n",
      "Epoch 8/100\n",
      "225/224 [==============================] - 26s 114ms/step - loss: 1.4113 - accuracy: 0.4551 - macro_f1score: 0.2117 - weighted_f1score: 0.0383 - val_loss: 1.3349 - val_accuracy: 0.4971 - val_macro_f1score: 0.2491 - val_weighted_f1score: 0.0445\n",
      "Epoch 9/100\n",
      "225/224 [==============================] - 26s 114ms/step - loss: 1.3888 - accuracy: 0.4674 - macro_f1score: 0.2235 - weighted_f1score: 0.0403 - val_loss: 1.3068 - val_accuracy: 0.5099 - val_macro_f1score: 0.2849 - val_weighted_f1score: 0.0510\n",
      "Epoch 10/100\n",
      "225/224 [==============================] - 26s 115ms/step - loss: 1.3715 - accuracy: 0.4753 - macro_f1score: 0.2315 - weighted_f1score: 0.0417 - val_loss: 1.3021 - val_accuracy: 0.5132 - val_macro_f1score: 0.3021 - val_weighted_f1score: 0.0539\n",
      "Epoch 11/100\n",
      "225/224 [==============================] - 26s 115ms/step - loss: 1.3617 - accuracy: 0.4787 - macro_f1score: 0.2379 - weighted_f1score: 0.0427 - val_loss: 1.2815 - val_accuracy: 0.5169 - val_macro_f1score: 0.3037 - val_weighted_f1score: 0.0544\n",
      "Epoch 12/100\n",
      "225/224 [==============================] - 26s 113ms/step - loss: 1.3376 - accuracy: 0.4878 - macro_f1score: 0.2514 - weighted_f1score: 0.0452 - val_loss: 1.2772 - val_accuracy: 0.5233 - val_macro_f1score: 0.3132 - val_weighted_f1score: 0.0565\n",
      "Epoch 13/100\n",
      "225/224 [==============================] - 26s 115ms/step - loss: 1.3376 - accuracy: 0.4866 - macro_f1score: 0.2568 - weighted_f1score: 0.0460 - val_loss: 1.2713 - val_accuracy: 0.5286 - val_macro_f1score: 0.2885 - val_weighted_f1score: 0.0522\n",
      "Epoch 14/100\n",
      "225/224 [==============================] - 26s 114ms/step - loss: 1.3252 - accuracy: 0.4932 - macro_f1score: 0.2602 - weighted_f1score: 0.0467 - val_loss: 1.2586 - val_accuracy: 0.5297 - val_macro_f1score: 0.3057 - val_weighted_f1score: 0.0545\n",
      "Epoch 15/100\n",
      "225/224 [==============================] - 26s 114ms/step - loss: 1.3129 - accuracy: 0.4979 - macro_f1score: 0.2709 - weighted_f1score: 0.0485 - val_loss: 1.2537 - val_accuracy: 0.5263 - val_macro_f1score: 0.3218 - val_weighted_f1score: 0.0572\n",
      "Epoch 16/100\n",
      "225/224 [==============================] - 25s 113ms/step - loss: 1.3018 - accuracy: 0.5016 - macro_f1score: 0.2734 - weighted_f1score: 0.0489 - val_loss: 1.2540 - val_accuracy: 0.5263 - val_macro_f1score: 0.3258 - val_weighted_f1score: 0.0581\n",
      "Epoch 17/100\n",
      "225/224 [==============================] - 26s 115ms/step - loss: 1.2926 - accuracy: 0.5038 - macro_f1score: 0.2842 - weighted_f1score: 0.0505 - val_loss: 1.2701 - val_accuracy: 0.5272 - val_macro_f1score: 0.3103 - val_weighted_f1score: 0.0551\n",
      "Epoch 18/100\n",
      "225/224 [==============================] - 26s 114ms/step - loss: 1.2862 - accuracy: 0.5087 - macro_f1score: 0.2866 - weighted_f1score: 0.0508 - val_loss: 1.2178 - val_accuracy: 0.5447 - val_macro_f1score: 0.3457 - val_weighted_f1score: 0.0612\n",
      "Epoch 19/100\n",
      "225/224 [==============================] - 26s 114ms/step - loss: 1.2769 - accuracy: 0.5116 - macro_f1score: 0.2944 - weighted_f1score: 0.0522 - val_loss: 1.2368 - val_accuracy: 0.5325 - val_macro_f1score: 0.3108 - val_weighted_f1score: 0.0557\n",
      "Epoch 20/100\n",
      "225/224 [==============================] - 26s 115ms/step - loss: 1.2786 - accuracy: 0.5095 - macro_f1score: 0.2919 - weighted_f1score: 0.0519 - val_loss: 1.2070 - val_accuracy: 0.5389 - val_macro_f1score: 0.3333 - val_weighted_f1score: 0.0591\n",
      "Epoch 21/100\n",
      "225/224 [==============================] - 26s 114ms/step - loss: 1.2674 - accuracy: 0.5193 - macro_f1score: 0.3019 - weighted_f1score: 0.0534 - val_loss: 1.2098 - val_accuracy: 0.5456 - val_macro_f1score: 0.3516 - val_weighted_f1score: 0.0620\n",
      "Epoch 22/100\n",
      "225/224 [==============================] - 26s 115ms/step - loss: 1.2619 - accuracy: 0.5160 - macro_f1score: 0.3045 - weighted_f1score: 0.0537 - val_loss: 1.2136 - val_accuracy: 0.5475 - val_macro_f1score: 0.3448 - val_weighted_f1score: 0.0606\n",
      "Epoch 23/100\n",
      "225/224 [==============================] - 25s 113ms/step - loss: 1.2548 - accuracy: 0.5230 - macro_f1score: 0.3076 - weighted_f1score: 0.0542 - val_loss: 1.2107 - val_accuracy: 0.5483 - val_macro_f1score: 0.3257 - val_weighted_f1score: 0.0576\n",
      "Epoch 24/100\n",
      "225/224 [==============================] - 26s 115ms/step - loss: 1.2567 - accuracy: 0.5216 - macro_f1score: 0.3085 - weighted_f1score: 0.0541 - val_loss: 1.2239 - val_accuracy: 0.5369 - val_macro_f1score: 0.3545 - val_weighted_f1score: 0.0614\n",
      "Epoch 25/100\n",
      "225/224 [==============================] - 27s 120ms/step - loss: 1.2458 - accuracy: 0.5277 - macro_f1score: 0.3191 - weighted_f1score: 0.0557 - val_loss: 1.1981 - val_accuracy: 0.5475 - val_macro_f1score: 0.3658 - val_weighted_f1score: 0.0641\n",
      "Epoch 26/100\n",
      "225/224 [==============================] - 26s 117ms/step - loss: 1.2513 - accuracy: 0.5213 - macro_f1score: 0.3154 - weighted_f1score: 0.0552 - val_loss: 1.1965 - val_accuracy: 0.5536 - val_macro_f1score: 0.3509 - val_weighted_f1score: 0.0619\n",
      "Epoch 27/100\n",
      "225/224 [==============================] - 27s 120ms/step - loss: 1.2387 - accuracy: 0.5292 - macro_f1score: 0.3203 - weighted_f1score: 0.0562 - val_loss: 1.1955 - val_accuracy: 0.5506 - val_macro_f1score: 0.3494 - val_weighted_f1score: 0.0617\n",
      "Epoch 28/100\n",
      "225/224 [==============================] - 26s 114ms/step - loss: 1.2313 - accuracy: 0.5317 - macro_f1score: 0.3252 - weighted_f1score: 0.0569 - val_loss: 1.1895 - val_accuracy: 0.5534 - val_macro_f1score: 0.3624 - val_weighted_f1score: 0.0635\n",
      "Epoch 00028: early stopping\n"
     ]
    },
    {
     "data": {
      "text/plain": [
       "<tensorflow.python.keras.callbacks.History at 0x7f231918d550>"
      ]
     },
     "execution_count": 53,
     "metadata": {
      "tags": []
     },
     "output_type": "execute_result"
    }
   ],
   "source": [
    "# tensorflow의 버전이 2.1 버전인지 꼭 확인하고 돌려볼것. 2.1버전부터 아래의 코드가 제대로 돌아감!!!\n",
    "# fit_generator은 tf.keras에서 사라지고, fit으로 모두 통합된다. 참고하기\n",
    "cnn_model.fit(datagen.flow(x_train_zoom,y_train,batch_size=128), steps_per_epoch=len(x_train)/128, validation_data= xy_valid_zoom_gen, validation_steps=len(x_valid_zoom)/128,epochs=100, callbacks=[early_stopping]) "
   ]
  },
  {
   "cell_type": "code",
   "execution_count": 54,
   "metadata": {
    "colab": {
     "base_uri": "https://localhost:8080/",
     "height": 71
    },
    "colab_type": "code",
    "executionInfo": {
     "elapsed": 985512,
     "status": "ok",
     "timestamp": 1583234048088,
     "user": {
      "displayName": "‍이동규[ 대학원석사과정재학 / 통계학과 ]",
      "photoUrl": "",
      "userId": "08134145419451519269"
     },
     "user_tz": -540
    },
    "id": "DVPdLntjyMHq",
    "outputId": "dbd83855-a4b7-4c51-e138-a5840ad4b6f5",
    "scrolled": true
   },
   "outputs": [
    {
     "name": "stdout",
     "output_type": "stream",
     "text": [
      "3588/3588 [==============================] - 0s 93us/sample - loss: 1.1779 - accuracy: 0.5541 - macro_f1score: 0.3637 - weighted_f1score: 0.0613\n",
      "\n",
      "Accuracy: 0.5541, Macro F1 Score: 0.3637, Weighted F1 Score: 0.0613\n"
     ]
    }
   ],
   "source": [
    "_, acc, mac_f1, wei_f1 = cnn_model.evaluate(x_test_zoom,y_test,batch_size=128)\n",
    "print(\"\\nAccuracy: {:.4f}, Macro F1 Score: {:.4f}, Weighted F1 Score: {:.4f}\".format(acc,mac_f1,wei_f1))"
   ]
  },
  {
   "cell_type": "markdown",
   "metadata": {
    "colab_type": "text",
    "id": "Cc5SwW0D5NMS"
   },
   "source": [
    "### 2) Size = 48"
   ]
  },
  {
   "cell_type": "code",
   "execution_count": 0,
   "metadata": {
    "colab": {},
    "colab_type": "code",
    "id": "LFk-_H9x7pP9"
   },
   "outputs": [],
   "source": [
    "epochs = 100\n",
    "classes = y_test.shape[1]\n",
    "size=48\n",
    "\n",
    "input_shape = (size,size,3)\n",
    "batch_size = 128\n",
    "kernel_size = (3,3) \n",
    "filters = 64 \n",
    "dropout = 0.3 "
   ]
  },
  {
   "cell_type": "code",
   "execution_count": 0,
   "metadata": {
    "colab": {},
    "colab_type": "code",
    "id": "4lapYUWF4ktb"
   },
   "outputs": [],
   "source": [
    "# CNN model\n",
    "cnn_model2 = tf.keras.models.Sequential()\n",
    "cnn_model2.add(tf.keras.layers.Conv2D(filters=filters, kernel_size=kernel_size,\n",
    "                                     activation='relu', input_shape=input_shape, strides = (1,1) , name='Conv2D_layer1'))\n",
    "cnn_model2.add(tf.keras.layers.MaxPooling2D((2, 2), name='Maxpooling1_2D'))\n",
    "cnn_model2.add(tf.keras.layers.Conv2D(filters=filters, kernel_size=kernel_size,\n",
    "                                     activation='relu', strides = (1,1) , name='Conv2D_layer2'))\n",
    "cnn_model2.add(tf.keras.layers.MaxPooling2D((2, 2), name='Maxpooling2_2D'))\n",
    "cnn_model2.add(tf.keras.layers.Flatten(name='Flatten'))\n",
    "cnn_model2.add(tf.keras.layers.Dropout(dropout))\n",
    "cnn_model2.add(tf.keras.layers.Dense(64, activation='relu', name='Hidden_layer'))\n",
    "cnn_model2.add(tf.keras.layers.Dense(classes, activation='softmax', name='Output_layer'))"
   ]
  },
  {
   "cell_type": "code",
   "execution_count": 57,
   "metadata": {
    "colab": {
     "base_uri": "https://localhost:8080/",
     "height": 449
    },
    "colab_type": "code",
    "executionInfo": {
     "elapsed": 985456,
     "status": "ok",
     "timestamp": 1583234048093,
     "user": {
      "displayName": "‍이동규[ 대학원석사과정재학 / 통계학과 ]",
      "photoUrl": "",
      "userId": "08134145419451519269"
     },
     "user_tz": -540
    },
    "id": "VKSjB0U94kz_",
    "outputId": "aa62f006-b341-4610-dbe0-f0724d6b79dd"
   },
   "outputs": [
    {
     "name": "stdout",
     "output_type": "stream",
     "text": [
      "Model: \"sequential_1\"\n",
      "_________________________________________________________________\n",
      "Layer (type)                 Output Shape              Param #   \n",
      "=================================================================\n",
      "Conv2D_layer1 (Conv2D)       (None, 46, 46, 64)        1792      \n",
      "_________________________________________________________________\n",
      "Maxpooling1_2D (MaxPooling2D (None, 23, 23, 64)        0         \n",
      "_________________________________________________________________\n",
      "Conv2D_layer2 (Conv2D)       (None, 21, 21, 64)        36928     \n",
      "_________________________________________________________________\n",
      "Maxpooling2_2D (MaxPooling2D (None, 10, 10, 64)        0         \n",
      "_________________________________________________________________\n",
      "Flatten (Flatten)            (None, 6400)              0         \n",
      "_________________________________________________________________\n",
      "dropout_5 (Dropout)          (None, 6400)              0         \n",
      "_________________________________________________________________\n",
      "Hidden_layer (Dense)         (None, 64)                409664    \n",
      "_________________________________________________________________\n",
      "Output_layer (Dense)         (None, 7)                 455       \n",
      "=================================================================\n",
      "Total params: 448,839\n",
      "Trainable params: 448,839\n",
      "Non-trainable params: 0\n",
      "_________________________________________________________________\n"
     ]
    }
   ],
   "source": [
    "cnn_model2.summary()"
   ]
  },
  {
   "cell_type": "code",
   "execution_count": 0,
   "metadata": {
    "colab": {},
    "colab_type": "code",
    "id": "yVOMeynE4k3a"
   },
   "outputs": [],
   "source": [
    "cnn_model2.compile(optimizer='adam', loss='categorical_crossentropy',\n",
    "                  metrics=['accuracy',macro_f1score,weighted_f1score])"
   ]
  },
  {
   "cell_type": "code",
   "execution_count": 0,
   "metadata": {
    "colab": {},
    "colab_type": "code",
    "id": "_EJHvBDr4k55"
   },
   "outputs": [],
   "source": [
    "early_stopping = EarlyStopping(monitor='val_macro_f1score', patience=3, verbose=1,mode='max')"
   ]
  },
  {
   "cell_type": "code",
   "execution_count": 60,
   "metadata": {
    "colab": {
     "base_uri": "https://localhost:8080/",
     "height": 971
    },
    "colab_type": "code",
    "executionInfo": {
     "elapsed": 1410528,
     "status": "ok",
     "timestamp": 1583234473217,
     "user": {
      "displayName": "‍이동규[ 대학원석사과정재학 / 통계학과 ]",
      "photoUrl": "",
      "userId": "08134145419451519269"
     },
     "user_tz": -540
    },
    "id": "tC5mRagd4k9I",
    "outputId": "79557568-7005-45d5-9eba-66c2821eddfd"
   },
   "outputs": [
    {
     "name": "stdout",
     "output_type": "stream",
     "text": [
      "WARNING:tensorflow:sample_weight modes were coerced from\n",
      "  ...\n",
      "    to  \n",
      "  ['...']\n",
      "WARNING:tensorflow:sample_weight modes were coerced from\n",
      "  ...\n",
      "    to  \n",
      "  ['...']\n",
      "Train for 224.203125 steps, validate for 28.0390625 steps\n",
      "Epoch 1/100\n",
      "225/224 [==============================] - 21s 93ms/step - loss: 1.7728 - accuracy: 0.2761 - macro_f1score: 0.0023 - weighted_f1score: 4.1412e-04 - val_loss: 1.7256 - val_accuracy: 0.3488 - val_macro_f1score: 0.0412 - val_weighted_f1score: 0.0071\n",
      "Epoch 2/100\n",
      "225/224 [==============================] - 20s 90ms/step - loss: 1.6655 - accuracy: 0.3397 - macro_f1score: 0.0524 - weighted_f1score: 0.0095 - val_loss: 1.6400 - val_accuracy: 0.3859 - val_macro_f1score: 0.1402 - val_weighted_f1score: 0.0273\n",
      "Epoch 3/100\n",
      "225/224 [==============================] - 20s 89ms/step - loss: 1.5831 - accuracy: 0.3839 - macro_f1score: 0.1092 - weighted_f1score: 0.0203 - val_loss: 1.5164 - val_accuracy: 0.4575 - val_macro_f1score: 0.1728 - val_weighted_f1score: 0.0306\n",
      "Epoch 4/100\n",
      "225/224 [==============================] - 20s 91ms/step - loss: 1.5350 - accuracy: 0.4049 - macro_f1score: 0.1335 - weighted_f1score: 0.0250 - val_loss: 1.4959 - val_accuracy: 0.4539 - val_macro_f1score: 0.1981 - val_weighted_f1score: 0.0368\n",
      "Epoch 5/100\n",
      "225/224 [==============================] - 20s 91ms/step - loss: 1.5005 - accuracy: 0.4239 - macro_f1score: 0.1548 - weighted_f1score: 0.0284 - val_loss: 1.4762 - val_accuracy: 0.4636 - val_macro_f1score: 0.2037 - val_weighted_f1score: 0.0373\n",
      "Epoch 6/100\n",
      "225/224 [==============================] - 20s 90ms/step - loss: 1.4694 - accuracy: 0.4333 - macro_f1score: 0.1732 - weighted_f1score: 0.0317 - val_loss: 1.4209 - val_accuracy: 0.4882 - val_macro_f1score: 0.2297 - val_weighted_f1score: 0.0417\n",
      "Epoch 7/100\n",
      "225/224 [==============================] - 21s 91ms/step - loss: 1.4428 - accuracy: 0.4429 - macro_f1score: 0.1851 - weighted_f1score: 0.0340 - val_loss: 1.3999 - val_accuracy: 0.4979 - val_macro_f1score: 0.2470 - val_weighted_f1score: 0.0445\n",
      "Epoch 8/100\n",
      "225/224 [==============================] - 20s 90ms/step - loss: 1.4242 - accuracy: 0.4586 - macro_f1score: 0.1974 - weighted_f1score: 0.0360 - val_loss: 1.3801 - val_accuracy: 0.5026 - val_macro_f1score: 0.2595 - val_weighted_f1score: 0.0466\n",
      "Epoch 9/100\n",
      "225/224 [==============================] - 20s 90ms/step - loss: 1.4095 - accuracy: 0.4579 - macro_f1score: 0.2064 - weighted_f1score: 0.0374 - val_loss: 1.3687 - val_accuracy: 0.5015 - val_macro_f1score: 0.2812 - val_weighted_f1score: 0.0500\n",
      "Epoch 10/100\n",
      "225/224 [==============================] - 20s 90ms/step - loss: 1.3865 - accuracy: 0.4689 - macro_f1score: 0.2247 - weighted_f1score: 0.0406 - val_loss: 1.3382 - val_accuracy: 0.5194 - val_macro_f1score: 0.2731 - val_weighted_f1score: 0.0485\n",
      "Epoch 11/100\n",
      "225/224 [==============================] - 20s 89ms/step - loss: 1.3724 - accuracy: 0.4745 - macro_f1score: 0.2286 - weighted_f1score: 0.0415 - val_loss: 1.3335 - val_accuracy: 0.5127 - val_macro_f1score: 0.3051 - val_weighted_f1score: 0.0542\n",
      "Epoch 12/100\n",
      "225/224 [==============================] - 20s 89ms/step - loss: 1.3542 - accuracy: 0.4826 - macro_f1score: 0.2423 - weighted_f1score: 0.0434 - val_loss: 1.3236 - val_accuracy: 0.5302 - val_macro_f1score: 0.3004 - val_weighted_f1score: 0.0527\n",
      "Epoch 13/100\n",
      "225/224 [==============================] - 20s 90ms/step - loss: 1.3455 - accuracy: 0.4904 - macro_f1score: 0.2493 - weighted_f1score: 0.0447 - val_loss: 1.3090 - val_accuracy: 0.5183 - val_macro_f1score: 0.3029 - val_weighted_f1score: 0.0530\n",
      "Epoch 14/100\n",
      "225/224 [==============================] - 20s 89ms/step - loss: 1.3406 - accuracy: 0.4906 - macro_f1score: 0.2508 - weighted_f1score: 0.0449 - val_loss: 1.2841 - val_accuracy: 0.5372 - val_macro_f1score: 0.3224 - val_weighted_f1score: 0.0564\n",
      "Epoch 15/100\n",
      "225/224 [==============================] - 20s 89ms/step - loss: 1.3237 - accuracy: 0.4933 - macro_f1score: 0.2606 - weighted_f1score: 0.0467 - val_loss: 1.2966 - val_accuracy: 0.5305 - val_macro_f1score: 0.2925 - val_weighted_f1score: 0.0524\n",
      "Epoch 16/100\n",
      "225/224 [==============================] - 20s 90ms/step - loss: 1.3102 - accuracy: 0.5004 - macro_f1score: 0.2705 - weighted_f1score: 0.0483 - val_loss: 1.2611 - val_accuracy: 0.5458 - val_macro_f1score: 0.3289 - val_weighted_f1score: 0.0578\n",
      "Epoch 17/100\n",
      "225/224 [==============================] - 20s 90ms/step - loss: 1.3060 - accuracy: 0.5017 - macro_f1score: 0.2750 - weighted_f1score: 0.0491 - val_loss: 1.2610 - val_accuracy: 0.5497 - val_macro_f1score: 0.3307 - val_weighted_f1score: 0.0580\n",
      "Epoch 18/100\n",
      "225/224 [==============================] - 20s 89ms/step - loss: 1.2918 - accuracy: 0.5044 - macro_f1score: 0.2859 - weighted_f1score: 0.0510 - val_loss: 1.2661 - val_accuracy: 0.5419 - val_macro_f1score: 0.3442 - val_weighted_f1score: 0.0608\n",
      "Epoch 19/100\n",
      "225/224 [==============================] - 20s 90ms/step - loss: 1.2933 - accuracy: 0.5062 - macro_f1score: 0.2816 - weighted_f1score: 0.0501 - val_loss: 1.2459 - val_accuracy: 0.5511 - val_macro_f1score: 0.3380 - val_weighted_f1score: 0.0593\n",
      "Epoch 20/100\n",
      "225/224 [==============================] - 20s 89ms/step - loss: 1.2861 - accuracy: 0.5106 - macro_f1score: 0.2910 - weighted_f1score: 0.0515 - val_loss: 1.2390 - val_accuracy: 0.5534 - val_macro_f1score: 0.3411 - val_weighted_f1score: 0.0601\n",
      "Epoch 21/100\n",
      "225/224 [==============================] - 20s 89ms/step - loss: 1.2792 - accuracy: 0.5118 - macro_f1score: 0.2918 - weighted_f1score: 0.0518 - val_loss: 1.2497 - val_accuracy: 0.5539 - val_macro_f1score: 0.3405 - val_weighted_f1score: 0.0602\n",
      "Epoch 00021: early stopping\n"
     ]
    },
    {
     "data": {
      "text/plain": [
       "<tensorflow.python.keras.callbacks.History at 0x7f2318dec470>"
      ]
     },
     "execution_count": 60,
     "metadata": {
      "tags": []
     },
     "output_type": "execute_result"
    }
   ],
   "source": [
    "# tensorflow의 버전이 2.1 버전인지 꼭 확인하고 돌려볼것. 2.1버전부터 아래의 코드가 제대로 돌아감!!!\n",
    "# fit_generator은 tf.keras에서 사라지고, fit으로 모두 통합된다. 참고하기\n",
    "cnn_model2.fit(datagen.flow(x_train,y_train,batch_size=128), steps_per_epoch=len(x_train)/128, validation_data= xy_valid_gen, validation_steps=len(x_valid)/128,epochs=100, callbacks=[early_stopping]) "
   ]
  },
  {
   "cell_type": "code",
   "execution_count": 61,
   "metadata": {
    "colab": {
     "base_uri": "https://localhost:8080/",
     "height": 71
    },
    "colab_type": "code",
    "executionInfo": {
     "elapsed": 1411151,
     "status": "ok",
     "timestamp": 1583234473856,
     "user": {
      "displayName": "‍이동규[ 대학원석사과정재학 / 통계학과 ]",
      "photoUrl": "",
      "userId": "08134145419451519269"
     },
     "user_tz": -540
    },
    "id": "5t_YOz8-4k_l",
    "outputId": "ef87633b-3e33-4d6d-94ad-fcfac4e98537"
   },
   "outputs": [
    {
     "name": "stdout",
     "output_type": "stream",
     "text": [
      "3588/3588 [==============================] - 0s 90us/sample - loss: 1.2030 - accuracy: 0.5412 - macro_f1score: 0.3303 - weighted_f1score: 0.0582\n",
      "\n",
      "Accuracy: 0.5412, Macro F1 Score: 0.3303, Weighted F1 Score: 0.0582\n"
     ]
    }
   ],
   "source": [
    "_, acc, mac_f1, wei_f1 = cnn_model2.evaluate(x_test,y_test,batch_size=128)\n",
    "print(\"\\nAccuracy: {:.4f}, Macro F1 Score: {:.4f}, Weighted F1 Score: {:.4f}\".format(acc,mac_f1,wei_f1))"
   ]
  },
  {
   "cell_type": "markdown",
   "metadata": {
    "colab_type": "text",
    "id": "iJYqQlHTFFFR"
   },
   "source": [
    "## 3. Size = 48 , No Early Stopping\n",
    "---"
   ]
  },
  {
   "cell_type": "markdown",
   "metadata": {
    "colab_type": "text",
    "id": "St20KkfUFFH8"
   },
   "source": [
    "### 1) Epoch = 50"
   ]
  },
  {
   "cell_type": "markdown",
   "metadata": {
    "colab_type": "text",
    "id": "t1zHsowRFheM"
   },
   "source": [
    "#### (1) MLP"
   ]
  },
  {
   "cell_type": "code",
   "execution_count": 0,
   "metadata": {
    "colab": {},
    "colab_type": "code",
    "id": "7Oo_jCrDGsjg"
   },
   "outputs": [],
   "source": [
    "# MLP model\n",
    "inputs = tf.keras.Input(shape=(48,48,3))\n",
    "x=tf.keras.layers.Flatten()(inputs)\n",
    "x=tf.keras.layers.Dense(units=128,activation = 'relu',name='d1')(x)\n",
    "x=tf.keras.layers.Dropout(0.3)(x)\n",
    "x=tf.keras.layers.Dense(units=512,activation = 'relu',name='d2')(x)\n",
    "x=tf.keras.layers.Dropout(0.3)(x)\n",
    "outputs = tf.keras.layers.Dense(units=7,activation = tf.nn.softmax,name='d3')(x)"
   ]
  },
  {
   "cell_type": "code",
   "execution_count": 0,
   "metadata": {
    "colab": {},
    "colab_type": "code",
    "id": "qz1jRXg_GsoB"
   },
   "outputs": [],
   "source": [
    "model = tf.keras.Model(inputs=inputs,outputs=outputs)"
   ]
  },
  {
   "cell_type": "code",
   "execution_count": 0,
   "metadata": {
    "colab": {},
    "colab_type": "code",
    "id": "C9QaWc7SGsqz"
   },
   "outputs": [],
   "source": [
    "model.compile(optimizer = tf.keras.optimizers.Adam(),\n",
    "              loss='categorical_crossentropy',metrics=['accuracy',macro_f1score,weighted_f1score])"
   ]
  },
  {
   "cell_type": "code",
   "execution_count": 65,
   "metadata": {
    "colab": {
     "base_uri": "https://localhost:8080/",
     "height": 1000
    },
    "colab_type": "code",
    "executionInfo": {
     "elapsed": 2416028,
     "status": "ok",
     "timestamp": 1583235478828,
     "user": {
      "displayName": "‍이동규[ 대학원석사과정재학 / 통계학과 ]",
      "photoUrl": "",
      "userId": "08134145419451519269"
     },
     "user_tz": -540
    },
    "id": "M1qQE4aIGs1y",
    "outputId": "73381639-59ec-4867-9e8d-070d264f7c8c"
   },
   "outputs": [
    {
     "name": "stdout",
     "output_type": "stream",
     "text": [
      "WARNING:tensorflow:sample_weight modes were coerced from\n",
      "  ...\n",
      "    to  \n",
      "  ['...']\n",
      "WARNING:tensorflow:sample_weight modes were coerced from\n",
      "  ...\n",
      "    to  \n",
      "  ['...']\n",
      "Train for 224.203125 steps, validate for 28.0390625 steps\n",
      "Epoch 1/50\n",
      "225/224 [==============================] - 21s 93ms/step - loss: 1.8566 - accuracy: 0.2433 - macro_f1score: 0.0016 - weighted_f1score: 3.0694e-04 - val_loss: 1.8931 - val_accuracy: 0.2449 - val_macro_f1score: 0.0000e+00 - val_weighted_f1score: 0.0000e+00\n",
      "Epoch 2/50\n",
      "225/224 [==============================] - 20s 88ms/step - loss: 1.8105 - accuracy: 0.2513 - macro_f1score: 8.2257e-05 - weighted_f1score: 1.9199e-05 - val_loss: 1.8958 - val_accuracy: 0.2449 - val_macro_f1score: 0.0000e+00 - val_weighted_f1score: 0.0000e+00\n",
      "Epoch 3/50\n",
      "225/224 [==============================] - 20s 88ms/step - loss: 1.8110 - accuracy: 0.2514 - macro_f1score: 0.0000e+00 - weighted_f1score: 0.0000e+00 - val_loss: 1.8986 - val_accuracy: 0.2449 - val_macro_f1score: 0.0000e+00 - val_weighted_f1score: 0.0000e+00\n",
      "Epoch 4/50\n",
      "225/224 [==============================] - 20s 91ms/step - loss: 1.8103 - accuracy: 0.2509 - macro_f1score: 1.1761e-04 - weighted_f1score: 2.8843e-05 - val_loss: 1.8960 - val_accuracy: 0.2449 - val_macro_f1score: 0.0000e+00 - val_weighted_f1score: 0.0000e+00\n",
      "Epoch 5/50\n",
      "225/224 [==============================] - 20s 87ms/step - loss: 1.8101 - accuracy: 0.2514 - macro_f1score: 0.0000e+00 - weighted_f1score: 0.0000e+00 - val_loss: 1.8958 - val_accuracy: 0.2449 - val_macro_f1score: 0.0000e+00 - val_weighted_f1score: 0.0000e+00\n",
      "Epoch 6/50\n",
      "225/224 [==============================] - 20s 88ms/step - loss: 1.8106 - accuracy: 0.2514 - macro_f1score: 0.0000e+00 - weighted_f1score: 0.0000e+00 - val_loss: 1.8967 - val_accuracy: 0.2449 - val_macro_f1score: 0.0000e+00 - val_weighted_f1score: 0.0000e+00\n",
      "Epoch 7/50\n",
      "225/224 [==============================] - 20s 90ms/step - loss: 1.8105 - accuracy: 0.2514 - macro_f1score: 0.0000e+00 - weighted_f1score: 0.0000e+00 - val_loss: 1.8986 - val_accuracy: 0.2449 - val_macro_f1score: 0.0000e+00 - val_weighted_f1score: 0.0000e+00\n",
      "Epoch 8/50\n",
      "225/224 [==============================] - 20s 88ms/step - loss: 1.8109 - accuracy: 0.2514 - macro_f1score: 0.0000e+00 - weighted_f1score: 0.0000e+00 - val_loss: 1.8973 - val_accuracy: 0.2449 - val_macro_f1score: 0.0000e+00 - val_weighted_f1score: 0.0000e+00\n",
      "Epoch 9/50\n",
      "225/224 [==============================] - 20s 88ms/step - loss: 1.8108 - accuracy: 0.2514 - macro_f1score: 0.0000e+00 - weighted_f1score: 0.0000e+00 - val_loss: 1.8965 - val_accuracy: 0.2449 - val_macro_f1score: 0.0000e+00 - val_weighted_f1score: 0.0000e+00\n",
      "Epoch 10/50\n",
      "225/224 [==============================] - 20s 90ms/step - loss: 1.8105 - accuracy: 0.2514 - macro_f1score: 0.0000e+00 - weighted_f1score: 0.0000e+00 - val_loss: 1.8972 - val_accuracy: 0.2449 - val_macro_f1score: 0.0000e+00 - val_weighted_f1score: 0.0000e+00\n",
      "Epoch 11/50\n",
      "225/224 [==============================] - 20s 87ms/step - loss: 1.8104 - accuracy: 0.2514 - macro_f1score: 0.0000e+00 - weighted_f1score: 0.0000e+00 - val_loss: 1.8963 - val_accuracy: 0.2449 - val_macro_f1score: 0.0000e+00 - val_weighted_f1score: 0.0000e+00\n",
      "Epoch 12/50\n",
      "225/224 [==============================] - 20s 89ms/step - loss: 1.8106 - accuracy: 0.2514 - macro_f1score: 0.0000e+00 - weighted_f1score: 0.0000e+00 - val_loss: 1.8974 - val_accuracy: 0.2449 - val_macro_f1score: 0.0000e+00 - val_weighted_f1score: 0.0000e+00\n",
      "Epoch 13/50\n",
      "225/224 [==============================] - 20s 90ms/step - loss: 1.8102 - accuracy: 0.2514 - macro_f1score: 0.0000e+00 - weighted_f1score: 0.0000e+00 - val_loss: 1.8964 - val_accuracy: 0.2449 - val_macro_f1score: 0.0000e+00 - val_weighted_f1score: 0.0000e+00\n",
      "Epoch 14/50\n",
      "225/224 [==============================] - 20s 88ms/step - loss: 1.8104 - accuracy: 0.2514 - macro_f1score: 0.0000e+00 - weighted_f1score: 0.0000e+00 - val_loss: 1.8967 - val_accuracy: 0.2449 - val_macro_f1score: 0.0000e+00 - val_weighted_f1score: 0.0000e+00\n",
      "Epoch 15/50\n",
      "225/224 [==============================] - 20s 88ms/step - loss: 1.8101 - accuracy: 0.2514 - macro_f1score: 0.0000e+00 - weighted_f1score: 0.0000e+00 - val_loss: 1.8966 - val_accuracy: 0.2449 - val_macro_f1score: 0.0000e+00 - val_weighted_f1score: 0.0000e+00\n",
      "Epoch 16/50\n",
      "225/224 [==============================] - 20s 91ms/step - loss: 1.8101 - accuracy: 0.2514 - macro_f1score: 0.0000e+00 - weighted_f1score: 0.0000e+00 - val_loss: 1.8978 - val_accuracy: 0.2449 - val_macro_f1score: 0.0000e+00 - val_weighted_f1score: 0.0000e+00\n",
      "Epoch 17/50\n",
      "225/224 [==============================] - 20s 89ms/step - loss: 1.8102 - accuracy: 0.2514 - macro_f1score: 0.0000e+00 - weighted_f1score: 0.0000e+00 - val_loss: 1.8987 - val_accuracy: 0.2449 - val_macro_f1score: 0.0000e+00 - val_weighted_f1score: 0.0000e+00\n",
      "Epoch 18/50\n",
      "225/224 [==============================] - 20s 89ms/step - loss: 1.8103 - accuracy: 0.2514 - macro_f1score: 0.0000e+00 - weighted_f1score: 0.0000e+00 - val_loss: 1.8959 - val_accuracy: 0.2449 - val_macro_f1score: 0.0000e+00 - val_weighted_f1score: 0.0000e+00\n",
      "Epoch 19/50\n",
      "225/224 [==============================] - 20s 91ms/step - loss: 1.8106 - accuracy: 0.2514 - macro_f1score: 0.0000e+00 - weighted_f1score: 0.0000e+00 - val_loss: 1.8981 - val_accuracy: 0.2449 - val_macro_f1score: 0.0000e+00 - val_weighted_f1score: 0.0000e+00\n",
      "Epoch 20/50\n",
      "225/224 [==============================] - 20s 89ms/step - loss: 1.8102 - accuracy: 0.2514 - macro_f1score: 0.0000e+00 - weighted_f1score: 0.0000e+00 - val_loss: 1.8966 - val_accuracy: 0.2449 - val_macro_f1score: 0.0000e+00 - val_weighted_f1score: 0.0000e+00\n",
      "Epoch 21/50\n",
      "225/224 [==============================] - 20s 88ms/step - loss: 1.8102 - accuracy: 0.2514 - macro_f1score: 0.0000e+00 - weighted_f1score: 0.0000e+00 - val_loss: 1.8966 - val_accuracy: 0.2449 - val_macro_f1score: 0.0000e+00 - val_weighted_f1score: 0.0000e+00\n",
      "Epoch 22/50\n",
      "225/224 [==============================] - 20s 90ms/step - loss: 1.8118 - accuracy: 0.2512 - macro_f1score: 1.4430e-04 - weighted_f1score: 3.0438e-05 - val_loss: 1.8969 - val_accuracy: 0.2449 - val_macro_f1score: 0.0000e+00 - val_weighted_f1score: 0.0000e+00\n",
      "Epoch 23/50\n",
      "225/224 [==============================] - 20s 88ms/step - loss: 1.8103 - accuracy: 0.2514 - macro_f1score: 0.0000e+00 - weighted_f1score: 0.0000e+00 - val_loss: 1.8958 - val_accuracy: 0.2449 - val_macro_f1score: 0.0000e+00 - val_weighted_f1score: 0.0000e+00\n",
      "Epoch 24/50\n",
      "225/224 [==============================] - 20s 89ms/step - loss: 1.8101 - accuracy: 0.2514 - macro_f1score: 0.0000e+00 - weighted_f1score: 0.0000e+00 - val_loss: 1.8967 - val_accuracy: 0.2449 - val_macro_f1score: 0.0000e+00 - val_weighted_f1score: 0.0000e+00\n",
      "Epoch 25/50\n",
      "225/224 [==============================] - 20s 91ms/step - loss: 1.8104 - accuracy: 0.2514 - macro_f1score: 0.0000e+00 - weighted_f1score: 0.0000e+00 - val_loss: 1.8970 - val_accuracy: 0.2449 - val_macro_f1score: 0.0000e+00 - val_weighted_f1score: 0.0000e+00\n",
      "Epoch 26/50\n",
      "225/224 [==============================] - 20s 87ms/step - loss: 1.8104 - accuracy: 0.2514 - macro_f1score: 0.0000e+00 - weighted_f1score: 0.0000e+00 - val_loss: 1.8980 - val_accuracy: 0.2449 - val_macro_f1score: 0.0000e+00 - val_weighted_f1score: 0.0000e+00\n",
      "Epoch 27/50\n",
      "225/224 [==============================] - 20s 88ms/step - loss: 1.8105 - accuracy: 0.2514 - macro_f1score: 0.0000e+00 - weighted_f1score: 0.0000e+00 - val_loss: 1.8967 - val_accuracy: 0.2449 - val_macro_f1score: 0.0000e+00 - val_weighted_f1score: 0.0000e+00\n",
      "Epoch 28/50\n",
      "225/224 [==============================] - 21s 92ms/step - loss: 1.8100 - accuracy: 0.2514 - macro_f1score: 0.0000e+00 - weighted_f1score: 0.0000e+00 - val_loss: 1.8955 - val_accuracy: 0.2449 - val_macro_f1score: 0.0000e+00 - val_weighted_f1score: 0.0000e+00\n",
      "Epoch 29/50\n",
      "225/224 [==============================] - 21s 91ms/step - loss: 1.8117 - accuracy: 0.2513 - macro_f1score: 2.8860e-05 - weighted_f1score: 4.9603e-06 - val_loss: 1.8953 - val_accuracy: 0.2449 - val_macro_f1score: 0.0000e+00 - val_weighted_f1score: 0.0000e+00\n",
      "Epoch 30/50\n",
      "225/224 [==============================] - 20s 89ms/step - loss: 1.8103 - accuracy: 0.2514 - macro_f1score: 0.0000e+00 - weighted_f1score: 0.0000e+00 - val_loss: 1.8985 - val_accuracy: 0.2449 - val_macro_f1score: 0.0000e+00 - val_weighted_f1score: 0.0000e+00\n",
      "Epoch 31/50\n",
      "225/224 [==============================] - 21s 93ms/step - loss: 1.8101 - accuracy: 0.2514 - macro_f1score: 1.2761e-04 - weighted_f1score: 1.8844e-05 - val_loss: 1.8977 - val_accuracy: 0.2449 - val_macro_f1score: 0.0000e+00 - val_weighted_f1score: 0.0000e+00\n",
      "Epoch 32/50\n",
      "225/224 [==============================] - 20s 90ms/step - loss: 1.8102 - accuracy: 0.2514 - macro_f1score: 1.2761e-04 - weighted_f1score: 1.8844e-05 - val_loss: 1.8973 - val_accuracy: 0.2449 - val_macro_f1score: 0.0000e+00 - val_weighted_f1score: 0.0000e+00\n",
      "Epoch 33/50\n",
      "225/224 [==============================] - 20s 88ms/step - loss: 1.8099 - accuracy: 0.2514 - macro_f1score: 5.2910e-05 - weighted_f1score: 9.5073e-06 - val_loss: 1.8974 - val_accuracy: 0.2449 - val_macro_f1score: 0.0000e+00 - val_weighted_f1score: 0.0000e+00\n",
      "Epoch 34/50\n",
      "225/224 [==============================] - 20s 91ms/step - loss: 1.8099 - accuracy: 0.2514 - macro_f1score: 7.4697e-05 - weighted_f1score: 9.3371e-06 - val_loss: 1.8989 - val_accuracy: 0.2449 - val_macro_f1score: 0.0000e+00 - val_weighted_f1score: 0.0000e+00\n",
      "Epoch 35/50\n",
      "225/224 [==============================] - 20s 88ms/step - loss: 1.8101 - accuracy: 0.2514 - macro_f1score: 5.2910e-05 - weighted_f1score: 9.5073e-06 - val_loss: 1.8951 - val_accuracy: 0.2449 - val_macro_f1score: 0.0000e+00 - val_weighted_f1score: 0.0000e+00\n",
      "Epoch 36/50\n",
      "225/224 [==============================] - 20s 89ms/step - loss: 1.8108 - accuracy: 0.2512 - macro_f1score: 2.9531e-05 - weighted_f1score: 9.6899e-06 - val_loss: 1.8964 - val_accuracy: 0.2449 - val_macro_f1score: 0.0000e+00 - val_weighted_f1score: 0.0000e+00\n",
      "Epoch 37/50\n",
      "225/224 [==============================] - 21s 91ms/step - loss: 1.8131 - accuracy: 0.2511 - macro_f1score: 1.2636e-04 - weighted_f1score: 1.5905e-05 - val_loss: 1.8959 - val_accuracy: 0.2449 - val_macro_f1score: 0.0000e+00 - val_weighted_f1score: 0.0000e+00\n",
      "Epoch 38/50\n",
      "225/224 [==============================] - 20s 88ms/step - loss: 1.8100 - accuracy: 0.2514 - macro_f1score: 7.4697e-05 - weighted_f1score: 9.3371e-06 - val_loss: 1.8956 - val_accuracy: 0.2449 - val_macro_f1score: 0.0000e+00 - val_weighted_f1score: 0.0000e+00\n",
      "Epoch 39/50\n",
      "225/224 [==============================] - 20s 88ms/step - loss: 1.8104 - accuracy: 0.2514 - macro_f1score: 0.0000e+00 - weighted_f1score: 0.0000e+00 - val_loss: 1.8966 - val_accuracy: 0.2449 - val_macro_f1score: 0.0000e+00 - val_weighted_f1score: 0.0000e+00\n",
      "Epoch 40/50\n",
      "225/224 [==============================] - 21s 92ms/step - loss: 1.8100 - accuracy: 0.2514 - macro_f1score: 7.4697e-05 - weighted_f1score: 9.3371e-06 - val_loss: 1.8973 - val_accuracy: 0.2449 - val_macro_f1score: 0.0000e+00 - val_weighted_f1score: 0.0000e+00\n",
      "Epoch 41/50\n",
      "225/224 [==============================] - 20s 88ms/step - loss: 1.8102 - accuracy: 0.2514 - macro_f1score: 0.0000e+00 - weighted_f1score: 0.0000e+00 - val_loss: 1.8967 - val_accuracy: 0.2449 - val_macro_f1score: 0.0000e+00 - val_weighted_f1score: 0.0000e+00\n",
      "Epoch 42/50\n",
      "225/224 [==============================] - 20s 89ms/step - loss: 1.8101 - accuracy: 0.2514 - macro_f1score: 0.0000e+00 - weighted_f1score: 0.0000e+00 - val_loss: 1.8959 - val_accuracy: 0.2449 - val_macro_f1score: 0.0000e+00 - val_weighted_f1score: 0.0000e+00\n",
      "Epoch 43/50\n",
      "225/224 [==============================] - 21s 91ms/step - loss: 1.8099 - accuracy: 0.2514 - macro_f1score: 7.4697e-05 - weighted_f1score: 9.3371e-06 - val_loss: 1.8957 - val_accuracy: 0.2449 - val_macro_f1score: 0.0000e+00 - val_weighted_f1score: 0.0000e+00\n",
      "Epoch 44/50\n",
      "225/224 [==============================] - 20s 89ms/step - loss: 1.8099 - accuracy: 0.2514 - macro_f1score: 5.2910e-05 - weighted_f1score: 9.5073e-06 - val_loss: 1.8967 - val_accuracy: 0.2449 - val_macro_f1score: 0.0000e+00 - val_weighted_f1score: 0.0000e+00\n",
      "Epoch 45/50\n",
      "225/224 [==============================] - 20s 88ms/step - loss: 1.8102 - accuracy: 0.2514 - macro_f1score: 0.0000e+00 - weighted_f1score: 0.0000e+00 - val_loss: 1.8959 - val_accuracy: 0.2449 - val_macro_f1score: 0.0000e+00 - val_weighted_f1score: 0.0000e+00\n",
      "Epoch 46/50\n",
      "225/224 [==============================] - 20s 91ms/step - loss: 1.8097 - accuracy: 0.2514 - macro_f1score: 5.2910e-05 - weighted_f1score: 9.5073e-06 - val_loss: 1.8953 - val_accuracy: 0.2449 - val_macro_f1score: 0.0000e+00 - val_weighted_f1score: 0.0000e+00\n",
      "Epoch 47/50\n",
      "225/224 [==============================] - 20s 89ms/step - loss: 1.8100 - accuracy: 0.2514 - macro_f1score: 0.0000e+00 - weighted_f1score: 0.0000e+00 - val_loss: 1.8973 - val_accuracy: 0.2449 - val_macro_f1score: 0.0000e+00 - val_weighted_f1score: 0.0000e+00\n",
      "Epoch 48/50\n",
      "225/224 [==============================] - 20s 89ms/step - loss: 1.8102 - accuracy: 0.2514 - macro_f1score: 7.4697e-05 - weighted_f1score: 9.3371e-06 - val_loss: 1.8968 - val_accuracy: 0.2449 - val_macro_f1score: 0.0000e+00 - val_weighted_f1score: 0.0000e+00\n",
      "Epoch 49/50\n",
      "225/224 [==============================] - 20s 91ms/step - loss: 1.8098 - accuracy: 0.2514 - macro_f1score: 1.2761e-04 - weighted_f1score: 1.8844e-05 - val_loss: 1.8967 - val_accuracy: 0.2449 - val_macro_f1score: 0.0000e+00 - val_weighted_f1score: 0.0000e+00\n",
      "Epoch 50/50\n",
      "225/224 [==============================] - 20s 87ms/step - loss: 1.8097 - accuracy: 0.2514 - macro_f1score: 5.2910e-05 - weighted_f1score: 9.5073e-06 - val_loss: 1.8988 - val_accuracy: 0.2449 - val_macro_f1score: 0.0000e+00 - val_weighted_f1score: 0.0000e+00\n"
     ]
    },
    {
     "data": {
      "text/plain": [
       "<tensorflow.python.keras.callbacks.History at 0x7f2318b0b320>"
      ]
     },
     "execution_count": 65,
     "metadata": {
      "tags": []
     },
     "output_type": "execute_result"
    }
   ],
   "source": [
    "# tensorflow의 버전이 2.1 버전인지 꼭 확인하고 돌려볼것. 2.1버전부터 아래의 코드가 제대로 돌아감!!!\n",
    "# fit_generator은 tf.keras에서 사라지고, fit으로 모두 통합된다. 참고하기\n",
    "model.fit(datagen.flow(x_train,y_train,batch_size=128), steps_per_epoch=len(x_train)/128, validation_data= xy_valid_gen, validation_steps=len(x_valid)/128,epochs=50) "
   ]
  },
  {
   "cell_type": "code",
   "execution_count": 66,
   "metadata": {
    "colab": {
     "base_uri": "https://localhost:8080/",
     "height": 71
    },
    "colab_type": "code",
    "executionInfo": {
     "elapsed": 2416887,
     "status": "ok",
     "timestamp": 1583235479699,
     "user": {
      "displayName": "‍이동규[ 대학원석사과정재학 / 통계학과 ]",
      "photoUrl": "",
      "userId": "08134145419451519269"
     },
     "user_tz": -540
    },
    "id": "e9wIBOBTGszx",
    "outputId": "1e181eb7-9410-47d2-ba18-647daddf74c9"
   },
   "outputs": [
    {
     "name": "stdout",
     "output_type": "stream",
     "text": [
      "3588/3588 [==============================] - 0s 70us/sample - loss: 1.8125 - accuracy: 0.2494 - macro_f1score: 0.0000e+00 - weighted_f1score: 0.0000e+00\n",
      "\n",
      "Accuracy: 0.2494, Macro F1 Score: 0.0000, Weighted F1 Score: 0.0000\n"
     ]
    }
   ],
   "source": [
    "_, acc, mac_f1, wei_f1 = model.evaluate(x_test,y_test,batch_size=128)\n",
    "print(\"\\nAccuracy: {:.4f}, Macro F1 Score: {:.4f}, Weighted F1 Score: {:.4f}\".format(acc,mac_f1,wei_f1))"
   ]
  },
  {
   "cell_type": "markdown",
   "metadata": {
    "colab_type": "text",
    "id": "ZnBf8RuTFl1R"
   },
   "source": [
    "#### (2) Simple CNN"
   ]
  },
  {
   "cell_type": "code",
   "execution_count": 0,
   "metadata": {
    "colab": {},
    "colab_type": "code",
    "id": "zBrdFLUMOVTJ"
   },
   "outputs": [],
   "source": [
    "# early stopping 없이 \n",
    "epochs = 50\n",
    "classes = y_test.shape[1]\n",
    "size=48\n",
    "\n",
    "input_shape = (size,size,3)\n",
    "batch_size = 128\n",
    "kernel_size = (3,3) \n",
    "filters = 64 \n",
    "dropout = 0.3 "
   ]
  },
  {
   "cell_type": "code",
   "execution_count": 0,
   "metadata": {
    "colab": {},
    "colab_type": "code",
    "id": "sPz1lX70OVO_"
   },
   "outputs": [],
   "source": [
    "# CNN model\n",
    "cnn_model2 = tf.keras.models.Sequential()\n",
    "cnn_model2.add(tf.keras.layers.Conv2D(filters=filters, kernel_size=kernel_size,\n",
    "                                     activation='relu', input_shape=input_shape, strides = (1,1) , name='Conv2D_layer1'))\n",
    "cnn_model2.add(tf.keras.layers.MaxPooling2D((2, 2), name='Maxpooling1_2D'))\n",
    "cnn_model2.add(tf.keras.layers.Conv2D(filters=filters, kernel_size=kernel_size,\n",
    "                                     activation='relu',  strides = (1,1) , name='Conv2D_layer2'))\n",
    "cnn_model2.add(tf.keras.layers.MaxPooling2D((2, 2), name='Maxpooling2_2D'))\n",
    "cnn_model2.add(tf.keras.layers.Flatten(name='Flatten'))\n",
    "cnn_model2.add(tf.keras.layers.Dropout(dropout))\n",
    "cnn_model2.add(tf.keras.layers.Dense(64, activation='relu', name='Hidden_layer'))\n",
    "cnn_model2.add(tf.keras.layers.Dense(classes, activation='softmax', name='Output_layer'))"
   ]
  },
  {
   "cell_type": "code",
   "execution_count": 0,
   "metadata": {
    "colab": {},
    "colab_type": "code",
    "id": "aPWu2_MjOVNF"
   },
   "outputs": [],
   "source": [
    "cnn_model2.compile(optimizer='adam', loss='categorical_crossentropy',\n",
    "                  metrics=['accuracy',macro_f1score,weighted_f1score])"
   ]
  },
  {
   "cell_type": "code",
   "execution_count": 70,
   "metadata": {
    "colab": {
     "base_uri": "https://localhost:8080/",
     "height": 1000
    },
    "colab_type": "code",
    "executionInfo": {
     "elapsed": 3434042,
     "status": "ok",
     "timestamp": 1583236496898,
     "user": {
      "displayName": "‍이동규[ 대학원석사과정재학 / 통계학과 ]",
      "photoUrl": "",
      "userId": "08134145419451519269"
     },
     "user_tz": -540
    },
    "id": "wcwCE6BFOVLy",
    "outputId": "ddd78a63-6337-4a86-a351-ead3c8feb654"
   },
   "outputs": [
    {
     "name": "stdout",
     "output_type": "stream",
     "text": [
      "WARNING:tensorflow:sample_weight modes were coerced from\n",
      "  ...\n",
      "    to  \n",
      "  ['...']\n",
      "WARNING:tensorflow:sample_weight modes were coerced from\n",
      "  ...\n",
      "    to  \n",
      "  ['...']\n",
      "Train for 224.203125 steps, validate for 28.0390625 steps\n",
      "Epoch 1/50\n",
      "225/224 [==============================] - 21s 93ms/step - loss: 1.7834 - accuracy: 0.2672 - macro_f1score: 8.5055e-04 - weighted_f1score: 1.2156e-04 - val_loss: 1.7619 - val_accuracy: 0.3288 - val_macro_f1score: 0.0176 - val_weighted_f1score: 0.0022\n",
      "Epoch 2/50\n",
      "225/224 [==============================] - 21s 91ms/step - loss: 1.6966 - accuracy: 0.3231 - macro_f1score: 0.0303 - weighted_f1score: 0.0048 - val_loss: 1.6380 - val_accuracy: 0.4001 - val_macro_f1score: 0.1141 - val_weighted_f1score: 0.0191\n",
      "Epoch 3/50\n",
      "225/224 [==============================] - 20s 89ms/step - loss: 1.6157 - accuracy: 0.3686 - macro_f1score: 0.0878 - weighted_f1score: 0.0161 - val_loss: 1.5572 - val_accuracy: 0.4330 - val_macro_f1score: 0.1485 - val_weighted_f1score: 0.0255\n",
      "Epoch 4/50\n",
      "225/224 [==============================] - 20s 90ms/step - loss: 1.5632 - accuracy: 0.3948 - macro_f1score: 0.1209 - weighted_f1score: 0.0227 - val_loss: 1.4948 - val_accuracy: 0.4528 - val_macro_f1score: 0.1861 - val_weighted_f1score: 0.0334\n",
      "Epoch 5/50\n",
      "225/224 [==============================] - 21s 92ms/step - loss: 1.5244 - accuracy: 0.4119 - macro_f1score: 0.1423 - weighted_f1score: 0.0266 - val_loss: 1.4875 - val_accuracy: 0.4592 - val_macro_f1score: 0.2056 - val_weighted_f1score: 0.0379\n",
      "Epoch 6/50\n",
      "225/224 [==============================] - 21s 91ms/step - loss: 1.4876 - accuracy: 0.4245 - macro_f1score: 0.1638 - weighted_f1score: 0.0303 - val_loss: 1.4412 - val_accuracy: 0.4726 - val_macro_f1score: 0.2462 - val_weighted_f1score: 0.0450\n",
      "Epoch 7/50\n",
      "225/224 [==============================] - 20s 91ms/step - loss: 1.4634 - accuracy: 0.4350 - macro_f1score: 0.1780 - weighted_f1score: 0.0328 - val_loss: 1.4149 - val_accuracy: 0.4795 - val_macro_f1score: 0.2275 - val_weighted_f1score: 0.0412\n",
      "Epoch 8/50\n",
      "225/224 [==============================] - 21s 92ms/step - loss: 1.4367 - accuracy: 0.4405 - macro_f1score: 0.1930 - weighted_f1score: 0.0352 - val_loss: 1.3940 - val_accuracy: 0.4896 - val_macro_f1score: 0.2458 - val_weighted_f1score: 0.0429\n",
      "Epoch 9/50\n",
      "225/224 [==============================] - 20s 91ms/step - loss: 1.4236 - accuracy: 0.4547 - macro_f1score: 0.1980 - weighted_f1score: 0.0361 - val_loss: 1.3684 - val_accuracy: 0.5021 - val_macro_f1score: 0.2604 - val_weighted_f1score: 0.0466\n",
      "Epoch 10/50\n",
      "225/224 [==============================] - 20s 91ms/step - loss: 1.4037 - accuracy: 0.4610 - macro_f1score: 0.2141 - weighted_f1score: 0.0390 - val_loss: 1.3756 - val_accuracy: 0.4993 - val_macro_f1score: 0.2782 - val_weighted_f1score: 0.0496\n",
      "Epoch 11/50\n",
      "225/224 [==============================] - 21s 92ms/step - loss: 1.3844 - accuracy: 0.4707 - macro_f1score: 0.2211 - weighted_f1score: 0.0400 - val_loss: 1.3476 - val_accuracy: 0.5091 - val_macro_f1score: 0.2747 - val_weighted_f1score: 0.0491\n",
      "Epoch 12/50\n",
      "225/224 [==============================] - 20s 89ms/step - loss: 1.3775 - accuracy: 0.4691 - macro_f1score: 0.2255 - weighted_f1score: 0.0407 - val_loss: 1.3398 - val_accuracy: 0.5130 - val_macro_f1score: 0.2897 - val_weighted_f1score: 0.0519\n",
      "Epoch 13/50\n",
      "225/224 [==============================] - 21s 92ms/step - loss: 1.3612 - accuracy: 0.4805 - macro_f1score: 0.2343 - weighted_f1score: 0.0425 - val_loss: 1.3298 - val_accuracy: 0.5249 - val_macro_f1score: 0.3101 - val_weighted_f1score: 0.0553\n",
      "Epoch 14/50\n",
      "225/224 [==============================] - 21s 93ms/step - loss: 1.3538 - accuracy: 0.4795 - macro_f1score: 0.2419 - weighted_f1score: 0.0437 - val_loss: 1.3202 - val_accuracy: 0.5180 - val_macro_f1score: 0.2942 - val_weighted_f1score: 0.0526\n",
      "Epoch 15/50\n",
      "225/224 [==============================] - 20s 89ms/step - loss: 1.3423 - accuracy: 0.4820 - macro_f1score: 0.2505 - weighted_f1score: 0.0449 - val_loss: 1.3118 - val_accuracy: 0.5230 - val_macro_f1score: 0.3067 - val_weighted_f1score: 0.0543\n",
      "Epoch 16/50\n",
      "225/224 [==============================] - 20s 90ms/step - loss: 1.3368 - accuracy: 0.4893 - macro_f1score: 0.2519 - weighted_f1score: 0.0451 - val_loss: 1.2958 - val_accuracy: 0.5294 - val_macro_f1score: 0.3104 - val_weighted_f1score: 0.0546\n",
      "Epoch 17/50\n",
      "225/224 [==============================] - 21s 92ms/step - loss: 1.3203 - accuracy: 0.4951 - macro_f1score: 0.2637 - weighted_f1score: 0.0473 - val_loss: 1.3428 - val_accuracy: 0.5018 - val_macro_f1score: 0.2981 - val_weighted_f1score: 0.0525\n",
      "Epoch 18/50\n",
      "225/224 [==============================] - 20s 89ms/step - loss: 1.3225 - accuracy: 0.4959 - macro_f1score: 0.2614 - weighted_f1score: 0.0468 - val_loss: 1.2955 - val_accuracy: 0.5333 - val_macro_f1score: 0.2980 - val_weighted_f1score: 0.0530\n",
      "Epoch 19/50\n",
      "225/224 [==============================] - 20s 90ms/step - loss: 1.3135 - accuracy: 0.4999 - macro_f1score: 0.2689 - weighted_f1score: 0.0482 - val_loss: 1.2871 - val_accuracy: 0.5311 - val_macro_f1score: 0.3137 - val_weighted_f1score: 0.0558\n",
      "Epoch 20/50\n",
      "225/224 [==============================] - 21s 92ms/step - loss: 1.3053 - accuracy: 0.5024 - macro_f1score: 0.2744 - weighted_f1score: 0.0489 - val_loss: 1.2852 - val_accuracy: 0.5283 - val_macro_f1score: 0.3386 - val_weighted_f1score: 0.0593\n",
      "Epoch 21/50\n",
      "225/224 [==============================] - 20s 89ms/step - loss: 1.3030 - accuracy: 0.5040 - macro_f1score: 0.2763 - weighted_f1score: 0.0494 - val_loss: 1.2688 - val_accuracy: 0.5450 - val_macro_f1score: 0.3268 - val_weighted_f1score: 0.0567\n",
      "Epoch 22/50\n",
      "225/224 [==============================] - 21s 93ms/step - loss: 1.2954 - accuracy: 0.5048 - macro_f1score: 0.2812 - weighted_f1score: 0.0500 - val_loss: 1.2610 - val_accuracy: 0.5492 - val_macro_f1score: 0.3142 - val_weighted_f1score: 0.0560\n",
      "Epoch 23/50\n",
      "225/224 [==============================] - 20s 91ms/step - loss: 1.2861 - accuracy: 0.5092 - macro_f1score: 0.2864 - weighted_f1score: 0.0508 - val_loss: 1.2567 - val_accuracy: 0.5456 - val_macro_f1score: 0.3454 - val_weighted_f1score: 0.0601\n",
      "Epoch 24/50\n",
      "225/224 [==============================] - 20s 90ms/step - loss: 1.2867 - accuracy: 0.5113 - macro_f1score: 0.2870 - weighted_f1score: 0.0509 - val_loss: 1.2629 - val_accuracy: 0.5472 - val_macro_f1score: 0.3177 - val_weighted_f1score: 0.0563\n",
      "Epoch 25/50\n",
      "225/224 [==============================] - 21s 92ms/step - loss: 1.2828 - accuracy: 0.5101 - macro_f1score: 0.2876 - weighted_f1score: 0.0511 - val_loss: 1.2520 - val_accuracy: 0.5483 - val_macro_f1score: 0.3488 - val_weighted_f1score: 0.0613\n",
      "Epoch 26/50\n",
      "225/224 [==============================] - 20s 90ms/step - loss: 1.2703 - accuracy: 0.5162 - macro_f1score: 0.2990 - weighted_f1score: 0.0527 - val_loss: 1.2479 - val_accuracy: 0.5486 - val_macro_f1score: 0.3454 - val_weighted_f1score: 0.0603\n",
      "Epoch 27/50\n",
      "225/224 [==============================] - 20s 89ms/step - loss: 1.2716 - accuracy: 0.5177 - macro_f1score: 0.2959 - weighted_f1score: 0.0524 - val_loss: 1.2309 - val_accuracy: 0.5542 - val_macro_f1score: 0.3300 - val_weighted_f1score: 0.0580\n",
      "Epoch 28/50\n",
      "225/224 [==============================] - 21s 92ms/step - loss: 1.2600 - accuracy: 0.5207 - macro_f1score: 0.3023 - weighted_f1score: 0.0534 - val_loss: 1.2439 - val_accuracy: 0.5550 - val_macro_f1score: 0.3546 - val_weighted_f1score: 0.0620\n",
      "Epoch 29/50\n",
      "225/224 [==============================] - 20s 90ms/step - loss: 1.2581 - accuracy: 0.5197 - macro_f1score: 0.3032 - weighted_f1score: 0.0536 - val_loss: 1.2366 - val_accuracy: 0.5539 - val_macro_f1score: 0.3260 - val_weighted_f1score: 0.0574\n",
      "Epoch 30/50\n",
      "225/224 [==============================] - 20s 89ms/step - loss: 1.2612 - accuracy: 0.5185 - macro_f1score: 0.3056 - weighted_f1score: 0.0536 - val_loss: 1.2339 - val_accuracy: 0.5575 - val_macro_f1score: 0.3334 - val_weighted_f1score: 0.0582\n",
      "Epoch 31/50\n",
      "225/224 [==============================] - 20s 91ms/step - loss: 1.2516 - accuracy: 0.5230 - macro_f1score: 0.3099 - weighted_f1score: 0.0545 - val_loss: 1.2286 - val_accuracy: 0.5511 - val_macro_f1score: 0.3533 - val_weighted_f1score: 0.0605\n",
      "Epoch 32/50\n",
      "225/224 [==============================] - 20s 90ms/step - loss: 1.2538 - accuracy: 0.5208 - macro_f1score: 0.3081 - weighted_f1score: 0.0543 - val_loss: 1.2559 - val_accuracy: 0.5508 - val_macro_f1score: 0.3435 - val_weighted_f1score: 0.0597\n",
      "Epoch 33/50\n",
      "225/224 [==============================] - 20s 89ms/step - loss: 1.2447 - accuracy: 0.5267 - macro_f1score: 0.3149 - weighted_f1score: 0.0553 - val_loss: 1.2113 - val_accuracy: 0.5606 - val_macro_f1score: 0.3677 - val_weighted_f1score: 0.0639\n",
      "Epoch 34/50\n",
      "225/224 [==============================] - 20s 91ms/step - loss: 1.2446 - accuracy: 0.5251 - macro_f1score: 0.3122 - weighted_f1score: 0.0550 - val_loss: 1.2325 - val_accuracy: 0.5486 - val_macro_f1score: 0.3720 - val_weighted_f1score: 0.0644\n",
      "Epoch 35/50\n",
      "225/224 [==============================] - 20s 89ms/step - loss: 1.2474 - accuracy: 0.5231 - macro_f1score: 0.3132 - weighted_f1score: 0.0550 - val_loss: 1.2257 - val_accuracy: 0.5592 - val_macro_f1score: 0.3827 - val_weighted_f1score: 0.0662\n",
      "Epoch 36/50\n",
      "225/224 [==============================] - 20s 88ms/step - loss: 1.2425 - accuracy: 0.5241 - macro_f1score: 0.3180 - weighted_f1score: 0.0555 - val_loss: 1.2181 - val_accuracy: 0.5578 - val_macro_f1score: 0.3599 - val_weighted_f1score: 0.0625\n",
      "Epoch 37/50\n",
      "225/224 [==============================] - 21s 92ms/step - loss: 1.2320 - accuracy: 0.5335 - macro_f1score: 0.3232 - weighted_f1score: 0.0565 - val_loss: 1.2320 - val_accuracy: 0.5556 - val_macro_f1score: 0.3802 - val_weighted_f1score: 0.0652\n",
      "Epoch 38/50\n",
      "225/224 [==============================] - 20s 90ms/step - loss: 1.2311 - accuracy: 0.5292 - macro_f1score: 0.3242 - weighted_f1score: 0.0564 - val_loss: 1.2363 - val_accuracy: 0.5573 - val_macro_f1score: 0.3677 - val_weighted_f1score: 0.0636\n",
      "Epoch 39/50\n",
      "225/224 [==============================] - 20s 89ms/step - loss: 1.2313 - accuracy: 0.5332 - macro_f1score: 0.3224 - weighted_f1score: 0.0567 - val_loss: 1.2216 - val_accuracy: 0.5550 - val_macro_f1score: 0.3604 - val_weighted_f1score: 0.0617\n",
      "Epoch 40/50\n",
      "225/224 [==============================] - 20s 91ms/step - loss: 1.2237 - accuracy: 0.5353 - macro_f1score: 0.3267 - weighted_f1score: 0.0571 - val_loss: 1.2019 - val_accuracy: 0.5656 - val_macro_f1score: 0.3786 - val_weighted_f1score: 0.0647\n",
      "Epoch 41/50\n",
      "225/224 [==============================] - 20s 89ms/step - loss: 1.2247 - accuracy: 0.5328 - macro_f1score: 0.3324 - weighted_f1score: 0.0578 - val_loss: 1.2269 - val_accuracy: 0.5559 - val_macro_f1score: 0.3696 - val_weighted_f1score: 0.0632\n",
      "Epoch 42/50\n",
      "225/224 [==============================] - 20s 89ms/step - loss: 1.2207 - accuracy: 0.5378 - macro_f1score: 0.3323 - weighted_f1score: 0.0580 - val_loss: 1.2223 - val_accuracy: 0.5550 - val_macro_f1score: 0.3610 - val_weighted_f1score: 0.0631\n",
      "Epoch 43/50\n",
      "225/224 [==============================] - 21s 93ms/step - loss: 1.2279 - accuracy: 0.5312 - macro_f1score: 0.3262 - weighted_f1score: 0.0571 - val_loss: 1.2578 - val_accuracy: 0.5439 - val_macro_f1score: 0.3407 - val_weighted_f1score: 0.0576\n",
      "Epoch 44/50\n",
      "225/224 [==============================] - 20s 89ms/step - loss: 1.2122 - accuracy: 0.5375 - macro_f1score: 0.3356 - weighted_f1score: 0.0585 - val_loss: 1.2151 - val_accuracy: 0.5612 - val_macro_f1score: 0.3841 - val_weighted_f1score: 0.0662\n",
      "Epoch 45/50\n",
      "225/224 [==============================] - 20s 89ms/step - loss: 1.2169 - accuracy: 0.5359 - macro_f1score: 0.3343 - weighted_f1score: 0.0582 - val_loss: 1.2302 - val_accuracy: 0.5589 - val_macro_f1score: 0.3490 - val_weighted_f1score: 0.0609\n",
      "Epoch 46/50\n",
      "225/224 [==============================] - 21s 92ms/step - loss: 1.2159 - accuracy: 0.5381 - macro_f1score: 0.3328 - weighted_f1score: 0.0580 - val_loss: 1.1994 - val_accuracy: 0.5645 - val_macro_f1score: 0.3819 - val_weighted_f1score: 0.0652\n",
      "Epoch 47/50\n",
      "225/224 [==============================] - 20s 89ms/step - loss: 1.2122 - accuracy: 0.5363 - macro_f1score: 0.3406 - weighted_f1score: 0.0589 - val_loss: 1.2285 - val_accuracy: 0.5589 - val_macro_f1score: 0.3454 - val_weighted_f1score: 0.0594\n",
      "Epoch 48/50\n",
      "225/224 [==============================] - 20s 89ms/step - loss: 1.2048 - accuracy: 0.5420 - macro_f1score: 0.3431 - weighted_f1score: 0.0595 - val_loss: 1.2268 - val_accuracy: 0.5651 - val_macro_f1score: 0.3805 - val_weighted_f1score: 0.0656\n",
      "Epoch 49/50\n",
      "225/224 [==============================] - 21s 92ms/step - loss: 1.2052 - accuracy: 0.5403 - macro_f1score: 0.3372 - weighted_f1score: 0.0586 - val_loss: 1.2176 - val_accuracy: 0.5567 - val_macro_f1score: 0.3903 - val_weighted_f1score: 0.0664\n",
      "Epoch 50/50\n",
      "225/224 [==============================] - 20s 89ms/step - loss: 1.2045 - accuracy: 0.5396 - macro_f1score: 0.3427 - weighted_f1score: 0.0595 - val_loss: 1.2152 - val_accuracy: 0.5673 - val_macro_f1score: 0.3837 - val_weighted_f1score: 0.0652\n"
     ]
    },
    {
     "data": {
      "text/plain": [
       "<tensorflow.python.keras.callbacks.History at 0x7f2316e49e80>"
      ]
     },
     "execution_count": 70,
     "metadata": {
      "tags": []
     },
     "output_type": "execute_result"
    }
   ],
   "source": [
    "# tensorflow의 버전이 2.1 버전인지 꼭 확인하고 돌려볼것. 2.1버전부터 아래의 코드가 제대로 돌아감!!!\n",
    "# fit_generator은 tf.keras에서 사라지고, fit으로 모두 통합된다. 참고하기\n",
    "cnn_model2.fit(datagen.flow(x_train,y_train,batch_size=128), steps_per_epoch=len(x_train)/128, validation_data= xy_valid_gen, validation_steps=len(x_valid)/128,epochs=50) "
   ]
  },
  {
   "cell_type": "code",
   "execution_count": 71,
   "metadata": {
    "colab": {
     "base_uri": "https://localhost:8080/",
     "height": 71
    },
    "colab_type": "code",
    "executionInfo": {
     "elapsed": 3434040,
     "status": "ok",
     "timestamp": 1583236496905,
     "user": {
      "displayName": "‍이동규[ 대학원석사과정재학 / 통계학과 ]",
      "photoUrl": "",
      "userId": "08134145419451519269"
     },
     "user_tz": -540
    },
    "id": "eoik6vDvOVJ6",
    "outputId": "e48eace9-332a-4c32-fe78-8b87df09b7f4"
   },
   "outputs": [
    {
     "name": "stdout",
     "output_type": "stream",
     "text": [
      "3588/3588 [==============================] - 0s 86us/sample - loss: 1.1865 - accuracy: 0.5532 - macro_f1score: 0.3704 - weighted_f1score: 0.0632\n",
      "\n",
      "Accuracy: 0.5532, Macro F1 Score: 0.3704, Weighted F1 Score: 0.0632\n"
     ]
    }
   ],
   "source": [
    "_, acc, mac_f1, wei_f1 = cnn_model2.evaluate(x_test,y_test,batch_size=128)\n",
    "print(\"\\nAccuracy: {:.4f}, Macro F1 Score: {:.4f}, Weighted F1 Score: {:.4f}\".format(acc,mac_f1,wei_f1))"
   ]
  },
  {
   "cell_type": "markdown",
   "metadata": {
    "colab_type": "text",
    "id": "GgGqQkR6F40J"
   },
   "source": [
    "### 2) Epoch = 100"
   ]
  },
  {
   "cell_type": "markdown",
   "metadata": {
    "colab_type": "text",
    "id": "zGlzf1aOF5hB"
   },
   "source": [
    "#### 1) MLP"
   ]
  },
  {
   "cell_type": "code",
   "execution_count": 0,
   "metadata": {
    "colab": {},
    "colab_type": "code",
    "id": "Orv4LwlYOVDD"
   },
   "outputs": [],
   "source": [
    "# MLP model\n",
    "inputs = tf.keras.Input(shape=(48,48,3))\n",
    "x=tf.keras.layers.Flatten()(inputs)\n",
    "x=tf.keras.layers.Dense(units=128,activation = 'relu',name='d1')(x)\n",
    "x=tf.keras.layers.Dropout(0.3)(x)\n",
    "x=tf.keras.layers.Dense(units=512,activation = 'relu',name='d2')(x)\n",
    "x=tf.keras.layers.Dropout(0.3)(x)\n",
    "outputs = tf.keras.layers.Dense(units=7,activation = tf.nn.softmax,name='d3')(x)"
   ]
  },
  {
   "cell_type": "code",
   "execution_count": 0,
   "metadata": {
    "colab": {},
    "colab_type": "code",
    "id": "rOpu1WlZFp4S"
   },
   "outputs": [],
   "source": [
    "model = tf.keras.Model(inputs=inputs,outputs=outputs)"
   ]
  },
  {
   "cell_type": "code",
   "execution_count": 0,
   "metadata": {
    "colab": {},
    "colab_type": "code",
    "id": "R3kP8bkaFqCX"
   },
   "outputs": [],
   "source": [
    "model.compile(optimizer = tf.keras.optimizers.Adam(),\n",
    "              loss='categorical_crossentropy',metrics=['accuracy',macro_f1score,weighted_f1score])"
   ]
  },
  {
   "cell_type": "code",
   "execution_count": 35,
   "metadata": {
    "colab": {
     "base_uri": "https://localhost:8080/",
     "height": 1000
    },
    "colab_type": "code",
    "executionInfo": {
     "elapsed": 1087638,
     "status": "ok",
     "timestamp": 1583297436432,
     "user": {
      "displayName": "‍이동규[ 대학원석사과정재학 / 통계학과 ]",
      "photoUrl": "",
      "userId": "08134145419451519269"
     },
     "user_tz": -540
    },
    "id": "4uwnUzwKFqGy",
    "outputId": "64042f32-0ad8-4bad-cc5f-939dc0986a12"
   },
   "outputs": [
    {
     "name": "stdout",
     "output_type": "stream",
     "text": [
      "WARNING:tensorflow:sample_weight modes were coerced from\n",
      "  ...\n",
      "    to  \n",
      "  ['...']\n",
      "WARNING:tensorflow:sample_weight modes were coerced from\n",
      "  ...\n",
      "    to  \n",
      "  ['...']\n",
      "Train for 224.203125 steps, validate for 28.0390625 steps\n",
      "Epoch 1/100\n",
      "225/224 [==============================] - 30s 134ms/step - loss: 1.8519 - accuracy: 0.2449 - macro_f1score: 0.0023 - weighted_f1score: 5.1312e-04 - val_loss: 1.8746 - val_accuracy: 0.2449 - val_macro_f1score: 0.0000e+00 - val_weighted_f1score: 0.0000e+00\n",
      "Epoch 2/100\n",
      "225/224 [==============================] - 29s 128ms/step - loss: 1.8112 - accuracy: 0.2514 - macro_f1score: 0.0000e+00 - weighted_f1score: 0.0000e+00 - val_loss: 1.8724 - val_accuracy: 0.2449 - val_macro_f1score: 0.0000e+00 - val_weighted_f1score: 0.0000e+00\n",
      "Epoch 3/100\n",
      "225/224 [==============================] - 29s 129ms/step - loss: 1.8113 - accuracy: 0.2514 - macro_f1score: 0.0000e+00 - weighted_f1score: 0.0000e+00 - val_loss: 1.8726 - val_accuracy: 0.2449 - val_macro_f1score: 0.0000e+00 - val_weighted_f1score: 0.0000e+00\n",
      "Epoch 4/100\n",
      "225/224 [==============================] - 28s 126ms/step - loss: 1.8124 - accuracy: 0.2512 - macro_f1score: 9.0703e-05 - weighted_f1score: 1.2046e-05 - val_loss: 1.8728 - val_accuracy: 0.2449 - val_macro_f1score: 0.0000e+00 - val_weighted_f1score: 0.0000e+00\n",
      "Epoch 5/100\n",
      "225/224 [==============================] - 28s 126ms/step - loss: 1.8111 - accuracy: 0.2514 - macro_f1score: 0.0000e+00 - weighted_f1score: 0.0000e+00 - val_loss: 1.8719 - val_accuracy: 0.2449 - val_macro_f1score: 0.0000e+00 - val_weighted_f1score: 0.0000e+00\n",
      "Epoch 6/100\n",
      "225/224 [==============================] - 29s 128ms/step - loss: 1.8110 - accuracy: 0.2514 - macro_f1score: 0.0000e+00 - weighted_f1score: 0.0000e+00 - val_loss: 1.8733 - val_accuracy: 0.2449 - val_macro_f1score: 0.0000e+00 - val_weighted_f1score: 0.0000e+00\n",
      "Epoch 7/100\n",
      "225/224 [==============================] - 29s 127ms/step - loss: 1.8110 - accuracy: 0.2514 - macro_f1score: 0.0000e+00 - weighted_f1score: 0.0000e+00 - val_loss: 1.8730 - val_accuracy: 0.2449 - val_macro_f1score: 0.0000e+00 - val_weighted_f1score: 0.0000e+00\n",
      "Epoch 8/100\n",
      "225/224 [==============================] - 29s 127ms/step - loss: 1.8107 - accuracy: 0.2514 - macro_f1score: 0.0000e+00 - weighted_f1score: 0.0000e+00 - val_loss: 1.8731 - val_accuracy: 0.2449 - val_macro_f1score: 0.0000e+00 - val_weighted_f1score: 0.0000e+00\n",
      "Epoch 9/100\n",
      "225/224 [==============================] - 29s 127ms/step - loss: 1.8109 - accuracy: 0.2514 - macro_f1score: 6.3492e-05 - weighted_f1score: 9.4246e-06 - val_loss: 1.8734 - val_accuracy: 0.2449 - val_macro_f1score: 0.0000e+00 - val_weighted_f1score: 0.0000e+00\n",
      "Epoch 10/100\n",
      "225/224 [==============================] - 29s 127ms/step - loss: 1.8123 - accuracy: 0.2515 - macro_f1score: 4.1419e-04 - weighted_f1score: 8.2906e-05 - val_loss: 1.8738 - val_accuracy: 0.2449 - val_macro_f1score: 0.0000e+00 - val_weighted_f1score: 0.0000e+00\n",
      "Epoch 11/100\n",
      "225/224 [==============================] - 29s 128ms/step - loss: 1.8112 - accuracy: 0.2514 - macro_f1score: 1.2396e-04 - weighted_f1score: 1.6983e-05 - val_loss: 1.8723 - val_accuracy: 0.2449 - val_macro_f1score: 0.0000e+00 - val_weighted_f1score: 0.0000e+00\n",
      "Epoch 12/100\n",
      "225/224 [==============================] - 29s 128ms/step - loss: 1.8111 - accuracy: 0.2513 - macro_f1score: 0.0000e+00 - weighted_f1score: 0.0000e+00 - val_loss: 1.8723 - val_accuracy: 0.2449 - val_macro_f1score: 0.0000e+00 - val_weighted_f1score: 0.0000e+00\n",
      "Epoch 13/100\n",
      "225/224 [==============================] - 29s 129ms/step - loss: 1.8110 - accuracy: 0.2514 - macro_f1score: 0.0000e+00 - weighted_f1score: 0.0000e+00 - val_loss: 1.8731 - val_accuracy: 0.2449 - val_macro_f1score: 0.0000e+00 - val_weighted_f1score: 0.0000e+00\n",
      "Epoch 14/100\n",
      "225/224 [==============================] - 29s 129ms/step - loss: 1.8108 - accuracy: 0.2514 - macro_f1score: 0.0000e+00 - weighted_f1score: 0.0000e+00 - val_loss: 1.8718 - val_accuracy: 0.2449 - val_macro_f1score: 0.0000e+00 - val_weighted_f1score: 0.0000e+00\n",
      "Epoch 15/100\n",
      "225/224 [==============================] - 29s 129ms/step - loss: 1.8108 - accuracy: 0.2514 - macro_f1score: 5.7720e-05 - weighted_f1score: 9.4697e-06 - val_loss: 1.8733 - val_accuracy: 0.2449 - val_macro_f1score: 0.0000e+00 - val_weighted_f1score: 0.0000e+00\n",
      "Epoch 16/100\n",
      "225/224 [==============================] - 29s 130ms/step - loss: 1.8113 - accuracy: 0.2513 - macro_f1score: 5.7720e-05 - weighted_f1score: 9.4697e-06 - val_loss: 1.8718 - val_accuracy: 0.2449 - val_macro_f1score: 0.0000e+00 - val_weighted_f1score: 0.0000e+00\n",
      "Epoch 17/100\n",
      "225/224 [==============================] - 29s 130ms/step - loss: 1.8112 - accuracy: 0.2514 - macro_f1score: 5.7720e-05 - weighted_f1score: 9.4697e-06 - val_loss: 1.8727 - val_accuracy: 0.2449 - val_macro_f1score: 0.0000e+00 - val_weighted_f1score: 0.0000e+00\n",
      "Epoch 18/100\n",
      "225/224 [==============================] - 29s 130ms/step - loss: 1.8108 - accuracy: 0.2514 - macro_f1score: 5.7720e-05 - weighted_f1score: 9.4697e-06 - val_loss: 1.8725 - val_accuracy: 0.2449 - val_macro_f1score: 0.0000e+00 - val_weighted_f1score: 0.0000e+00\n",
      "Epoch 19/100\n",
      "225/224 [==============================] - 30s 131ms/step - loss: 1.8102 - accuracy: 0.2514 - macro_f1score: 0.0000e+00 - weighted_f1score: 0.0000e+00 - val_loss: 1.8739 - val_accuracy: 0.2449 - val_macro_f1score: 0.0000e+00 - val_weighted_f1score: 0.0000e+00\n",
      "Epoch 20/100\n",
      "225/224 [==============================] - 29s 130ms/step - loss: 1.8129 - accuracy: 0.2513 - macro_f1score: 2.6556e-04 - weighted_f1score: 4.8777e-05 - val_loss: 1.8719 - val_accuracy: 0.2449 - val_macro_f1score: 0.0000e+00 - val_weighted_f1score: 0.0000e+00\n",
      "Epoch 21/100\n",
      "225/224 [==============================] - 29s 130ms/step - loss: 1.8107 - accuracy: 0.2514 - macro_f1score: 1.2121e-04 - weighted_f1score: 1.8894e-05 - val_loss: 1.8732 - val_accuracy: 0.2449 - val_macro_f1score: 0.0000e+00 - val_weighted_f1score: 0.0000e+00\n",
      "Epoch 22/100\n",
      "225/224 [==============================] - 29s 130ms/step - loss: 1.8109 - accuracy: 0.2514 - macro_f1score: 1.2121e-04 - weighted_f1score: 1.8894e-05 - val_loss: 1.8719 - val_accuracy: 0.2449 - val_macro_f1score: 0.0000e+00 - val_weighted_f1score: 0.0000e+00\n",
      "Epoch 23/100\n",
      "225/224 [==============================] - 29s 129ms/step - loss: 1.8104 - accuracy: 0.2514 - macro_f1score: 5.7720e-05 - weighted_f1score: 9.4697e-06 - val_loss: 1.8720 - val_accuracy: 0.2449 - val_macro_f1score: 0.0000e+00 - val_weighted_f1score: 0.0000e+00\n",
      "Epoch 24/100\n",
      "225/224 [==============================] - 29s 130ms/step - loss: 1.8106 - accuracy: 0.2514 - macro_f1score: 5.7720e-05 - weighted_f1score: 9.4697e-06 - val_loss: 1.8727 - val_accuracy: 0.2449 - val_macro_f1score: 0.0000e+00 - val_weighted_f1score: 0.0000e+00\n",
      "Epoch 25/100\n",
      "225/224 [==============================] - 29s 128ms/step - loss: 1.8109 - accuracy: 0.2514 - macro_f1score: 5.7720e-05 - weighted_f1score: 9.4697e-06 - val_loss: 1.8736 - val_accuracy: 0.2449 - val_macro_f1score: 0.0000e+00 - val_weighted_f1score: 0.0000e+00\n",
      "Epoch 26/100\n",
      "225/224 [==============================] - 29s 128ms/step - loss: 1.8108 - accuracy: 0.2514 - macro_f1score: 0.0000e+00 - weighted_f1score: 0.0000e+00 - val_loss: 1.8730 - val_accuracy: 0.2449 - val_macro_f1score: 0.0000e+00 - val_weighted_f1score: 0.0000e+00\n",
      "Epoch 27/100\n",
      "225/224 [==============================] - 29s 131ms/step - loss: 1.8107 - accuracy: 0.2514 - macro_f1score: 0.0000e+00 - weighted_f1score: 0.0000e+00 - val_loss: 1.8726 - val_accuracy: 0.2449 - val_macro_f1score: 0.0000e+00 - val_weighted_f1score: 0.0000e+00\n",
      "Epoch 28/100\n",
      "225/224 [==============================] - 29s 130ms/step - loss: 1.8112 - accuracy: 0.2515 - macro_f1score: 1.7746e-04 - weighted_f1score: 3.6012e-05 - val_loss: 1.8725 - val_accuracy: 0.2449 - val_macro_f1score: 0.0000e+00 - val_weighted_f1score: 0.0000e+00\n",
      "Epoch 29/100\n",
      "225/224 [==============================] - 29s 131ms/step - loss: 1.8103 - accuracy: 0.2514 - macro_f1score: 5.7720e-05 - weighted_f1score: 9.4697e-06 - val_loss: 1.8722 - val_accuracy: 0.2449 - val_macro_f1score: 0.0000e+00 - val_weighted_f1score: 0.0000e+00\n",
      "Epoch 30/100\n",
      "225/224 [==============================] - 30s 132ms/step - loss: 1.8105 - accuracy: 0.2514 - macro_f1score: 0.0000e+00 - weighted_f1score: 0.0000e+00 - val_loss: 1.8727 - val_accuracy: 0.2449 - val_macro_f1score: 0.0000e+00 - val_weighted_f1score: 0.0000e+00\n",
      "Epoch 31/100\n",
      "225/224 [==============================] - 29s 129ms/step - loss: 1.8104 - accuracy: 0.2514 - macro_f1score: 5.7720e-05 - weighted_f1score: 9.4697e-06 - val_loss: 1.8729 - val_accuracy: 0.2449 - val_macro_f1score: 0.0000e+00 - val_weighted_f1score: 0.0000e+00\n",
      "Epoch 32/100\n",
      "225/224 [==============================] - 29s 130ms/step - loss: 1.8106 - accuracy: 0.2514 - macro_f1score: 5.7720e-05 - weighted_f1score: 9.4697e-06 - val_loss: 1.8729 - val_accuracy: 0.2449 - val_macro_f1score: 0.0000e+00 - val_weighted_f1score: 0.0000e+00\n",
      "Epoch 33/100\n",
      "225/224 [==============================] - 29s 129ms/step - loss: 1.8102 - accuracy: 0.2514 - macro_f1score: 5.7720e-05 - weighted_f1score: 9.4697e-06 - val_loss: 1.8728 - val_accuracy: 0.2449 - val_macro_f1score: 0.0000e+00 - val_weighted_f1score: 0.0000e+00\n",
      "Epoch 34/100\n",
      "225/224 [==============================] - 29s 130ms/step - loss: 1.8104 - accuracy: 0.2514 - macro_f1score: 6.3492e-05 - weighted_f1score: 9.4246e-06 - val_loss: 1.8730 - val_accuracy: 0.2449 - val_macro_f1score: 0.0000e+00 - val_weighted_f1score: 0.0000e+00\n",
      "Epoch 35/100\n",
      "225/224 [==============================] - 29s 130ms/step - loss: 1.8099 - accuracy: 0.2514 - macro_f1score: 6.3492e-05 - weighted_f1score: 9.4246e-06 - val_loss: 1.8725 - val_accuracy: 0.2449 - val_macro_f1score: 0.0000e+00 - val_weighted_f1score: 0.0000e+00\n",
      "Epoch 36/100\n",
      "225/224 [==============================] - 29s 130ms/step - loss: 1.8106 - accuracy: 0.2514 - macro_f1score: 1.2121e-04 - weighted_f1score: 1.8894e-05 - val_loss: 1.8726 - val_accuracy: 0.2449 - val_macro_f1score: 0.0000e+00 - val_weighted_f1score: 0.0000e+00\n",
      "Epoch 37/100\n",
      "225/224 [==============================] - 29s 130ms/step - loss: 1.8106 - accuracy: 0.2514 - macro_f1score: 6.3492e-05 - weighted_f1score: 9.4246e-06 - val_loss: 1.8727 - val_accuracy: 0.2449 - val_macro_f1score: 0.0000e+00 - val_weighted_f1score: 0.0000e+00\n",
      "Epoch 38/100\n",
      "225/224 [==============================] - 29s 129ms/step - loss: 1.8105 - accuracy: 0.2514 - macro_f1score: 1.2121e-04 - weighted_f1score: 1.8894e-05 - val_loss: 1.8730 - val_accuracy: 0.2449 - val_macro_f1score: 0.0000e+00 - val_weighted_f1score: 0.0000e+00\n",
      "Epoch 39/100\n",
      "225/224 [==============================] - 29s 130ms/step - loss: 1.8104 - accuracy: 0.2514 - macro_f1score: 5.7720e-05 - weighted_f1score: 9.4697e-06 - val_loss: 1.8725 - val_accuracy: 0.2449 - val_macro_f1score: 0.0000e+00 - val_weighted_f1score: 0.0000e+00\n",
      "Epoch 40/100\n",
      "225/224 [==============================] - 29s 130ms/step - loss: 1.8106 - accuracy: 0.2514 - macro_f1score: 0.0000e+00 - weighted_f1score: 0.0000e+00 - val_loss: 1.8726 - val_accuracy: 0.2449 - val_macro_f1score: 0.0000e+00 - val_weighted_f1score: 0.0000e+00\n",
      "Epoch 41/100\n",
      "225/224 [==============================] - 29s 130ms/step - loss: 1.8103 - accuracy: 0.2514 - macro_f1score: 1.2121e-04 - weighted_f1score: 1.8894e-05 - val_loss: 1.8725 - val_accuracy: 0.2449 - val_macro_f1score: 0.0000e+00 - val_weighted_f1score: 0.0000e+00\n",
      "Epoch 42/100\n",
      "225/224 [==============================] - 29s 129ms/step - loss: 1.8106 - accuracy: 0.2514 - macro_f1score: 0.0000e+00 - weighted_f1score: 0.0000e+00 - val_loss: 1.8721 - val_accuracy: 0.2449 - val_macro_f1score: 0.0000e+00 - val_weighted_f1score: 0.0000e+00\n",
      "Epoch 43/100\n",
      "225/224 [==============================] - 29s 128ms/step - loss: 1.8103 - accuracy: 0.2514 - macro_f1score: 1.2121e-04 - weighted_f1score: 1.8894e-05 - val_loss: 1.8726 - val_accuracy: 0.2449 - val_macro_f1score: 0.0000e+00 - val_weighted_f1score: 0.0000e+00\n",
      "Epoch 44/100\n",
      "225/224 [==============================] - 29s 128ms/step - loss: 1.8102 - accuracy: 0.2514 - macro_f1score: 1.2121e-04 - weighted_f1score: 1.8894e-05 - val_loss: 1.8722 - val_accuracy: 0.2449 - val_macro_f1score: 0.0000e+00 - val_weighted_f1score: 0.0000e+00\n",
      "Epoch 45/100\n",
      "225/224 [==============================] - 29s 127ms/step - loss: 1.8107 - accuracy: 0.2514 - macro_f1score: 5.7720e-05 - weighted_f1score: 9.4697e-06 - val_loss: 1.8721 - val_accuracy: 0.2449 - val_macro_f1score: 0.0000e+00 - val_weighted_f1score: 0.0000e+00\n",
      "Epoch 46/100\n",
      "225/224 [==============================] - 29s 128ms/step - loss: 1.8105 - accuracy: 0.2514 - macro_f1score: 0.0000e+00 - weighted_f1score: 0.0000e+00 - val_loss: 1.8724 - val_accuracy: 0.2449 - val_macro_f1score: 0.0000e+00 - val_weighted_f1score: 0.0000e+00\n",
      "Epoch 47/100\n",
      "225/224 [==============================] - 29s 127ms/step - loss: 1.8104 - accuracy: 0.2514 - macro_f1score: 6.3492e-05 - weighted_f1score: 9.4246e-06 - val_loss: 1.8723 - val_accuracy: 0.2449 - val_macro_f1score: 0.0000e+00 - val_weighted_f1score: 0.0000e+00\n",
      "Epoch 48/100\n",
      "225/224 [==============================] - 29s 128ms/step - loss: 1.8105 - accuracy: 0.2514 - macro_f1score: 1.2121e-04 - weighted_f1score: 1.8894e-05 - val_loss: 1.8720 - val_accuracy: 0.2449 - val_macro_f1score: 0.0000e+00 - val_weighted_f1score: 0.0000e+00\n",
      "Epoch 49/100\n",
      "225/224 [==============================] - 28s 126ms/step - loss: 1.8104 - accuracy: 0.2514 - macro_f1score: 1.2121e-04 - weighted_f1score: 1.8894e-05 - val_loss: 1.8717 - val_accuracy: 0.2449 - val_macro_f1score: 0.0000e+00 - val_weighted_f1score: 0.0000e+00\n",
      "Epoch 50/100\n",
      "225/224 [==============================] - 29s 127ms/step - loss: 1.8103 - accuracy: 0.2514 - macro_f1score: 5.7720e-05 - weighted_f1score: 9.4697e-06 - val_loss: 1.8736 - val_accuracy: 0.2449 - val_macro_f1score: 0.0000e+00 - val_weighted_f1score: 0.0000e+00\n",
      "Epoch 51/100\n",
      "225/224 [==============================] - 29s 128ms/step - loss: 1.8107 - accuracy: 0.2514 - macro_f1score: 1.2121e-04 - weighted_f1score: 1.8894e-05 - val_loss: 1.8729 - val_accuracy: 0.2449 - val_macro_f1score: 0.0000e+00 - val_weighted_f1score: 0.0000e+00\n",
      "Epoch 52/100\n",
      "225/224 [==============================] - 29s 128ms/step - loss: 1.8102 - accuracy: 0.2514 - macro_f1score: 1.2121e-04 - weighted_f1score: 1.8894e-05 - val_loss: 1.8722 - val_accuracy: 0.2449 - val_macro_f1score: 0.0000e+00 - val_weighted_f1score: 0.0000e+00\n",
      "Epoch 53/100\n",
      "225/224 [==============================] - 29s 128ms/step - loss: 1.8109 - accuracy: 0.2514 - macro_f1score: 1.2121e-04 - weighted_f1score: 1.8894e-05 - val_loss: 1.8729 - val_accuracy: 0.2449 - val_macro_f1score: 0.0000e+00 - val_weighted_f1score: 0.0000e+00\n",
      "Epoch 54/100\n",
      "225/224 [==============================] - 29s 128ms/step - loss: 1.8103 - accuracy: 0.2514 - macro_f1score: 1.2121e-04 - weighted_f1score: 1.8894e-05 - val_loss: 1.8733 - val_accuracy: 0.2449 - val_macro_f1score: 0.0000e+00 - val_weighted_f1score: 0.0000e+00\n",
      "Epoch 55/100\n",
      "225/224 [==============================] - 29s 129ms/step - loss: 1.8105 - accuracy: 0.2514 - macro_f1score: 5.7720e-05 - weighted_f1score: 9.4697e-06 - val_loss: 1.8729 - val_accuracy: 0.2449 - val_macro_f1score: 0.0000e+00 - val_weighted_f1score: 0.0000e+00\n",
      "Epoch 56/100\n",
      "225/224 [==============================] - 29s 129ms/step - loss: 1.8104 - accuracy: 0.2514 - macro_f1score: 5.7720e-05 - weighted_f1score: 9.4697e-06 - val_loss: 1.8724 - val_accuracy: 0.2449 - val_macro_f1score: 0.0000e+00 - val_weighted_f1score: 0.0000e+00\n",
      "Epoch 57/100\n",
      "225/224 [==============================] - 29s 129ms/step - loss: 1.8101 - accuracy: 0.2514 - macro_f1score: 5.7720e-05 - weighted_f1score: 9.4697e-06 - val_loss: 1.8726 - val_accuracy: 0.2449 - val_macro_f1score: 0.0000e+00 - val_weighted_f1score: 0.0000e+00\n",
      "Epoch 58/100\n",
      "225/224 [==============================] - 29s 128ms/step - loss: 1.8104 - accuracy: 0.2514 - macro_f1score: 5.7720e-05 - weighted_f1score: 9.4697e-06 - val_loss: 1.8719 - val_accuracy: 0.2449 - val_macro_f1score: 0.0000e+00 - val_weighted_f1score: 0.0000e+00\n",
      "Epoch 59/100\n",
      "225/224 [==============================] - 29s 129ms/step - loss: 1.8106 - accuracy: 0.2514 - macro_f1score: 5.7720e-05 - weighted_f1score: 9.4697e-06 - val_loss: 1.8719 - val_accuracy: 0.2449 - val_macro_f1score: 0.0000e+00 - val_weighted_f1score: 0.0000e+00\n",
      "Epoch 60/100\n",
      "225/224 [==============================] - 29s 128ms/step - loss: 1.8103 - accuracy: 0.2514 - macro_f1score: 5.7720e-05 - weighted_f1score: 9.4697e-06 - val_loss: 1.8724 - val_accuracy: 0.2449 - val_macro_f1score: 0.0000e+00 - val_weighted_f1score: 0.0000e+00\n",
      "Epoch 61/100\n",
      "225/224 [==============================] - 29s 129ms/step - loss: 1.8103 - accuracy: 0.2514 - macro_f1score: 5.7720e-05 - weighted_f1score: 9.4697e-06 - val_loss: 1.8720 - val_accuracy: 0.2449 - val_macro_f1score: 0.0000e+00 - val_weighted_f1score: 0.0000e+00\n",
      "Epoch 62/100\n",
      "225/224 [==============================] - 29s 128ms/step - loss: 1.8103 - accuracy: 0.2514 - macro_f1score: 1.2121e-04 - weighted_f1score: 1.8894e-05 - val_loss: 1.8729 - val_accuracy: 0.2449 - val_macro_f1score: 0.0000e+00 - val_weighted_f1score: 0.0000e+00\n",
      "Epoch 63/100\n",
      "225/224 [==============================] - 30s 132ms/step - loss: 1.8103 - accuracy: 0.2514 - macro_f1score: 1.2121e-04 - weighted_f1score: 1.8894e-05 - val_loss: 1.8724 - val_accuracy: 0.2449 - val_macro_f1score: 0.0000e+00 - val_weighted_f1score: 0.0000e+00\n",
      "Epoch 64/100\n",
      "225/224 [==============================] - 29s 130ms/step - loss: 1.8103 - accuracy: 0.2514 - macro_f1score: 1.2121e-04 - weighted_f1score: 1.8894e-05 - val_loss: 1.8724 - val_accuracy: 0.2449 - val_macro_f1score: 0.0000e+00 - val_weighted_f1score: 0.0000e+00\n",
      "Epoch 65/100\n",
      "225/224 [==============================] - 29s 129ms/step - loss: 1.8104 - accuracy: 0.2514 - macro_f1score: 5.7720e-05 - weighted_f1score: 9.4697e-06 - val_loss: 1.8727 - val_accuracy: 0.2449 - val_macro_f1score: 0.0000e+00 - val_weighted_f1score: 0.0000e+00\n",
      "Epoch 66/100\n",
      "225/224 [==============================] - 29s 128ms/step - loss: 1.8103 - accuracy: 0.2514 - macro_f1score: 1.2121e-04 - weighted_f1score: 1.8894e-05 - val_loss: 1.8725 - val_accuracy: 0.2449 - val_macro_f1score: 0.0000e+00 - val_weighted_f1score: 0.0000e+00\n",
      "Epoch 67/100\n",
      "225/224 [==============================] - 29s 128ms/step - loss: 1.8105 - accuracy: 0.2514 - macro_f1score: 5.7720e-05 - weighted_f1score: 9.4697e-06 - val_loss: 1.8723 - val_accuracy: 0.2449 - val_macro_f1score: 0.0000e+00 - val_weighted_f1score: 0.0000e+00\n",
      "Epoch 68/100\n",
      "225/224 [==============================] - 29s 128ms/step - loss: 1.8102 - accuracy: 0.2514 - macro_f1score: 1.2121e-04 - weighted_f1score: 1.8894e-05 - val_loss: 1.8722 - val_accuracy: 0.2449 - val_macro_f1score: 0.0000e+00 - val_weighted_f1score: 0.0000e+00\n",
      "Epoch 69/100\n",
      "225/224 [==============================] - 29s 129ms/step - loss: 1.8104 - accuracy: 0.2514 - macro_f1score: 1.2121e-04 - weighted_f1score: 1.8894e-05 - val_loss: 1.8726 - val_accuracy: 0.2449 - val_macro_f1score: 0.0000e+00 - val_weighted_f1score: 0.0000e+00\n",
      "Epoch 70/100\n",
      "225/224 [==============================] - 29s 128ms/step - loss: 1.8100 - accuracy: 0.2514 - macro_f1score: 1.2121e-04 - weighted_f1score: 1.8894e-05 - val_loss: 1.8728 - val_accuracy: 0.2449 - val_macro_f1score: 0.0000e+00 - val_weighted_f1score: 0.0000e+00\n",
      "Epoch 71/100\n",
      "225/224 [==============================] - 29s 129ms/step - loss: 1.8105 - accuracy: 0.2514 - macro_f1score: 1.2121e-04 - weighted_f1score: 1.8894e-05 - val_loss: 1.8725 - val_accuracy: 0.2449 - val_macro_f1score: 0.0000e+00 - val_weighted_f1score: 0.0000e+00\n",
      "Epoch 72/100\n",
      "225/224 [==============================] - 29s 129ms/step - loss: 1.8103 - accuracy: 0.2514 - macro_f1score: 5.7720e-05 - weighted_f1score: 9.4697e-06 - val_loss: 1.8721 - val_accuracy: 0.2449 - val_macro_f1score: 0.0000e+00 - val_weighted_f1score: 0.0000e+00\n",
      "Epoch 73/100\n",
      "225/224 [==============================] - 29s 130ms/step - loss: 1.8102 - accuracy: 0.2514 - macro_f1score: 5.7720e-05 - weighted_f1score: 9.4697e-06 - val_loss: 1.8725 - val_accuracy: 0.2449 - val_macro_f1score: 0.0000e+00 - val_weighted_f1score: 0.0000e+00\n",
      "Epoch 74/100\n",
      "225/224 [==============================] - 29s 130ms/step - loss: 1.8103 - accuracy: 0.2514 - macro_f1score: 5.7720e-05 - weighted_f1score: 9.4697e-06 - val_loss: 1.8719 - val_accuracy: 0.2449 - val_macro_f1score: 0.0000e+00 - val_weighted_f1score: 0.0000e+00\n",
      "Epoch 75/100\n",
      "225/224 [==============================] - 29s 129ms/step - loss: 1.8100 - accuracy: 0.2514 - macro_f1score: 1.2121e-04 - weighted_f1score: 1.8894e-05 - val_loss: 1.8722 - val_accuracy: 0.2449 - val_macro_f1score: 0.0000e+00 - val_weighted_f1score: 0.0000e+00\n",
      "Epoch 76/100\n",
      "225/224 [==============================] - 29s 129ms/step - loss: 1.8106 - accuracy: 0.2514 - macro_f1score: 5.7720e-05 - weighted_f1score: 9.4697e-06 - val_loss: 1.8730 - val_accuracy: 0.2449 - val_macro_f1score: 0.0000e+00 - val_weighted_f1score: 0.0000e+00\n",
      "Epoch 77/100\n",
      "225/224 [==============================] - 29s 128ms/step - loss: 1.8105 - accuracy: 0.2514 - macro_f1score: 5.7720e-05 - weighted_f1score: 9.4697e-06 - val_loss: 1.8722 - val_accuracy: 0.2449 - val_macro_f1score: 0.0000e+00 - val_weighted_f1score: 0.0000e+00\n",
      "Epoch 78/100\n",
      "225/224 [==============================] - 29s 127ms/step - loss: 1.8102 - accuracy: 0.2514 - macro_f1score: 1.2121e-04 - weighted_f1score: 1.8894e-05 - val_loss: 1.8731 - val_accuracy: 0.2449 - val_macro_f1score: 0.0000e+00 - val_weighted_f1score: 0.0000e+00\n",
      "Epoch 79/100\n",
      "225/224 [==============================] - 29s 127ms/step - loss: 1.8104 - accuracy: 0.2514 - macro_f1score: 5.7720e-05 - weighted_f1score: 9.4697e-06 - val_loss: 1.8730 - val_accuracy: 0.2449 - val_macro_f1score: 0.0000e+00 - val_weighted_f1score: 0.0000e+00\n",
      "Epoch 80/100\n",
      "225/224 [==============================] - 29s 128ms/step - loss: 1.8100 - accuracy: 0.2514 - macro_f1score: 6.3492e-05 - weighted_f1score: 9.4246e-06 - val_loss: 1.8720 - val_accuracy: 0.2449 - val_macro_f1score: 0.0000e+00 - val_weighted_f1score: 0.0000e+00\n",
      "Epoch 81/100\n",
      "225/224 [==============================] - 29s 127ms/step - loss: 1.8104 - accuracy: 0.2514 - macro_f1score: 1.2121e-04 - weighted_f1score: 1.8894e-05 - val_loss: 1.8722 - val_accuracy: 0.2449 - val_macro_f1score: 0.0000e+00 - val_weighted_f1score: 0.0000e+00\n",
      "Epoch 82/100\n",
      "225/224 [==============================] - 29s 128ms/step - loss: 1.8100 - accuracy: 0.2514 - macro_f1score: 1.2121e-04 - weighted_f1score: 1.8894e-05 - val_loss: 1.8728 - val_accuracy: 0.2449 - val_macro_f1score: 0.0000e+00 - val_weighted_f1score: 0.0000e+00\n",
      "Epoch 83/100\n",
      "225/224 [==============================] - 29s 129ms/step - loss: 1.8106 - accuracy: 0.2514 - macro_f1score: 0.0000e+00 - weighted_f1score: 0.0000e+00 - val_loss: 1.8722 - val_accuracy: 0.2449 - val_macro_f1score: 0.0000e+00 - val_weighted_f1score: 0.0000e+00\n",
      "Epoch 84/100\n",
      "225/224 [==============================] - 29s 129ms/step - loss: 1.8102 - accuracy: 0.2514 - macro_f1score: 1.2121e-04 - weighted_f1score: 1.8894e-05 - val_loss: 1.8729 - val_accuracy: 0.2449 - val_macro_f1score: 0.0000e+00 - val_weighted_f1score: 0.0000e+00\n",
      "Epoch 85/100\n",
      "225/224 [==============================] - 29s 129ms/step - loss: 1.8103 - accuracy: 0.2514 - macro_f1score: 5.7720e-05 - weighted_f1score: 9.4697e-06 - val_loss: 1.8724 - val_accuracy: 0.2449 - val_macro_f1score: 0.0000e+00 - val_weighted_f1score: 0.0000e+00\n",
      "Epoch 86/100\n",
      "225/224 [==============================] - 29s 129ms/step - loss: 1.8104 - accuracy: 0.2514 - macro_f1score: 5.7720e-05 - weighted_f1score: 9.4697e-06 - val_loss: 1.8726 - val_accuracy: 0.2449 - val_macro_f1score: 0.0000e+00 - val_weighted_f1score: 0.0000e+00\n",
      "Epoch 87/100\n",
      "225/224 [==============================] - 29s 128ms/step - loss: 1.8101 - accuracy: 0.2514 - macro_f1score: 5.7720e-05 - weighted_f1score: 9.4697e-06 - val_loss: 1.8724 - val_accuracy: 0.2449 - val_macro_f1score: 0.0000e+00 - val_weighted_f1score: 0.0000e+00\n",
      "Epoch 88/100\n",
      "225/224 [==============================] - 29s 127ms/step - loss: 1.8105 - accuracy: 0.2514 - macro_f1score: 6.3492e-05 - weighted_f1score: 9.4246e-06 - val_loss: 1.8722 - val_accuracy: 0.2449 - val_macro_f1score: 0.0000e+00 - val_weighted_f1score: 0.0000e+00\n",
      "Epoch 89/100\n",
      "225/224 [==============================] - 29s 128ms/step - loss: 1.8103 - accuracy: 0.2514 - macro_f1score: 1.2121e-04 - weighted_f1score: 1.8894e-05 - val_loss: 1.8719 - val_accuracy: 0.2449 - val_macro_f1score: 0.0000e+00 - val_weighted_f1score: 0.0000e+00\n",
      "Epoch 90/100\n",
      "225/224 [==============================] - 29s 129ms/step - loss: 1.8102 - accuracy: 0.2514 - macro_f1score: 1.2121e-04 - weighted_f1score: 1.8894e-05 - val_loss: 1.8723 - val_accuracy: 0.2449 - val_macro_f1score: 0.0000e+00 - val_weighted_f1score: 0.0000e+00\n",
      "Epoch 91/100\n",
      "225/224 [==============================] - 29s 128ms/step - loss: 1.8099 - accuracy: 0.2514 - macro_f1score: 1.2121e-04 - weighted_f1score: 1.8894e-05 - val_loss: 1.8726 - val_accuracy: 0.2449 - val_macro_f1score: 0.0000e+00 - val_weighted_f1score: 0.0000e+00\n",
      "Epoch 92/100\n",
      "225/224 [==============================] - 29s 127ms/step - loss: 1.8104 - accuracy: 0.2514 - macro_f1score: 1.2121e-04 - weighted_f1score: 1.8894e-05 - val_loss: 1.8720 - val_accuracy: 0.2449 - val_macro_f1score: 0.0000e+00 - val_weighted_f1score: 0.0000e+00\n",
      "Epoch 93/100\n",
      "225/224 [==============================] - 29s 128ms/step - loss: 1.8105 - accuracy: 0.2514 - macro_f1score: 5.7720e-05 - weighted_f1score: 9.4697e-06 - val_loss: 1.8723 - val_accuracy: 0.2449 - val_macro_f1score: 0.0000e+00 - val_weighted_f1score: 0.0000e+00\n",
      "Epoch 94/100\n",
      "225/224 [==============================] - 29s 128ms/step - loss: 1.8103 - accuracy: 0.2514 - macro_f1score: 1.2121e-04 - weighted_f1score: 1.8894e-05 - val_loss: 1.8723 - val_accuracy: 0.2449 - val_macro_f1score: 0.0000e+00 - val_weighted_f1score: 0.0000e+00\n",
      "Epoch 95/100\n",
      "225/224 [==============================] - 29s 128ms/step - loss: 1.8103 - accuracy: 0.2514 - macro_f1score: 5.7720e-05 - weighted_f1score: 9.4697e-06 - val_loss: 1.8726 - val_accuracy: 0.2449 - val_macro_f1score: 0.0000e+00 - val_weighted_f1score: 0.0000e+00\n",
      "Epoch 96/100\n",
      "225/224 [==============================] - 29s 127ms/step - loss: 1.8100 - accuracy: 0.2514 - macro_f1score: 5.7720e-05 - weighted_f1score: 9.4697e-06 - val_loss: 1.8721 - val_accuracy: 0.2449 - val_macro_f1score: 0.0000e+00 - val_weighted_f1score: 0.0000e+00\n",
      "Epoch 97/100\n",
      "225/224 [==============================] - 29s 129ms/step - loss: 1.8101 - accuracy: 0.2514 - macro_f1score: 1.2121e-04 - weighted_f1score: 1.8894e-05 - val_loss: 1.8725 - val_accuracy: 0.2449 - val_macro_f1score: 0.0000e+00 - val_weighted_f1score: 0.0000e+00\n",
      "Epoch 98/100\n",
      "225/224 [==============================] - 29s 127ms/step - loss: 1.8108 - accuracy: 0.2514 - macro_f1score: 0.0000e+00 - weighted_f1score: 0.0000e+00 - val_loss: 1.8725 - val_accuracy: 0.2449 - val_macro_f1score: 0.0000e+00 - val_weighted_f1score: 0.0000e+00\n",
      "Epoch 99/100\n",
      "225/224 [==============================] - 29s 127ms/step - loss: 1.8104 - accuracy: 0.2514 - macro_f1score: 0.0000e+00 - weighted_f1score: 0.0000e+00 - val_loss: 1.8719 - val_accuracy: 0.2449 - val_macro_f1score: 0.0000e+00 - val_weighted_f1score: 0.0000e+00\n",
      "Epoch 100/100\n",
      "225/224 [==============================] - 29s 127ms/step - loss: 1.8104 - accuracy: 0.2514 - macro_f1score: 5.7720e-05 - weighted_f1score: 9.4697e-06 - val_loss: 1.8726 - val_accuracy: 0.2449 - val_macro_f1score: 0.0000e+00 - val_weighted_f1score: 0.0000e+00\n"
     ]
    },
    {
     "data": {
      "text/plain": [
       "<tensorflow.python.keras.callbacks.History at 0x7fb0cf316b00>"
      ]
     },
     "execution_count": 35,
     "metadata": {
      "tags": []
     },
     "output_type": "execute_result"
    }
   ],
   "source": [
    "# tensorflow의 버전이 2.1 버전인지 꼭 확인하고 돌려볼것. 2.1버전부터 아래의 코드가 제대로 돌아감!!!\n",
    "# fit_generator은 tf.keras에서 사라지고, fit으로 모두 통합된다. 참고하기\n",
    "model.fit(datagen.flow(x_train,y_train,batch_size=128), steps_per_epoch=len(x_train)/128, validation_data= xy_valid_gen, validation_steps=len(x_valid)/128,epochs=100) "
   ]
  },
  {
   "cell_type": "code",
   "execution_count": 36,
   "metadata": {
    "colab": {
     "base_uri": "https://localhost:8080/",
     "height": 71
    },
    "colab_type": "code",
    "executionInfo": {
     "elapsed": 350,
     "status": "ok",
     "timestamp": 1583297436771,
     "user": {
      "displayName": "‍이동규[ 대학원석사과정재학 / 통계학과 ]",
      "photoUrl": "",
      "userId": "08134145419451519269"
     },
     "user_tz": -540
    },
    "id": "zbQODvRtFqJG",
    "outputId": "cd7331c5-d584-4aa4-d543-ba5cde8bcbea"
   },
   "outputs": [
    {
     "name": "stdout",
     "output_type": "stream",
     "text": [
      "3588/3588 [==============================] - 0s 97us/sample - loss: 1.8110 - accuracy: 0.2494 - macro_f1score: 0.0000e+00 - weighted_f1score: 0.0000e+00\n",
      "\n",
      "Accuracy: 0.2494, Macro F1 Score: 0.0000, Weighted F1 Score: 0.0000\n"
     ]
    }
   ],
   "source": [
    "_, acc, mac_f1, wei_f1 = model.evaluate(x_test,y_test,batch_size=128)\n",
    "print(\"\\nAccuracy: {:.4f}, Macro F1 Score: {:.4f}, Weighted F1 Score: {:.4f}\".format(acc,mac_f1,wei_f1))"
   ]
  },
  {
   "cell_type": "markdown",
   "metadata": {
    "colab_type": "text",
    "id": "EVhIkQf4F0AJ"
   },
   "source": [
    "#### (2) Simple CNN"
   ]
  },
  {
   "cell_type": "code",
   "execution_count": 0,
   "metadata": {
    "colab": {},
    "colab_type": "code",
    "id": "HhIpBPk7FqFa"
   },
   "outputs": [],
   "source": [
    "# early stopping 없이 \n",
    "epochs = 100\n",
    "classes = y_test.shape[1]\n",
    "size=48\n",
    "\n",
    "input_shape = (size,size,3)\n",
    "batch_size = 128\n",
    "kernel_size = (3,3) \n",
    "filters = 64 \n",
    "dropout = 0.3 "
   ]
  },
  {
   "cell_type": "code",
   "execution_count": 0,
   "metadata": {
    "colab": {},
    "colab_type": "code",
    "id": "gNw2YsO6FqA1"
   },
   "outputs": [],
   "source": [
    "# CNN model\n",
    "cnn_model2 = tf.keras.models.Sequential()\n",
    "cnn_model2.add(tf.keras.layers.Conv2D(filters=filters, kernel_size=kernel_size,\n",
    "                                     activation='relu', input_shape=input_shape, strides = (1,1) , name='Conv2D_layer1'))\n",
    "cnn_model2.add(tf.keras.layers.MaxPooling2D((2, 2), name='Maxpooling1_2D'))\n",
    "cnn_model2.add(tf.keras.layers.Conv2D(filters=filters, kernel_size=kernel_size,\n",
    "                                     activation='relu', strides = (1,1) , name='Conv2D_layer2'))\n",
    "cnn_model2.add(tf.keras.layers.MaxPooling2D((2, 2), name='Maxpooling2_2D'))\n",
    "cnn_model2.add(tf.keras.layers.Flatten(name='Flatten'))\n",
    "cnn_model2.add(tf.keras.layers.Dropout(dropout))\n",
    "cnn_model2.add(tf.keras.layers.Dense(64, activation='relu', name='Hidden_layer'))\n",
    "cnn_model2.add(tf.keras.layers.Dense(classes, activation='softmax', name='Output_layer'))"
   ]
  },
  {
   "cell_type": "code",
   "execution_count": 0,
   "metadata": {
    "colab": {},
    "colab_type": "code",
    "id": "xm3euJQDFp-2"
   },
   "outputs": [],
   "source": [
    "cnn_model2.compile(optimizer='adam', loss='categorical_crossentropy',\n",
    "                  metrics=['accuracy',macro_f1score,weighted_f1score])"
   ]
  },
  {
   "cell_type": "code",
   "execution_count": 40,
   "metadata": {
    "colab": {
     "base_uri": "https://localhost:8080/",
     "height": 1000
    },
    "colab_type": "code",
    "executionInfo": {
     "elapsed": 2918857,
     "status": "ok",
     "timestamp": 1583300355912,
     "user": {
      "displayName": "‍이동규[ 대학원석사과정재학 / 통계학과 ]",
      "photoUrl": "",
      "userId": "08134145419451519269"
     },
     "user_tz": -540
    },
    "id": "vo8OZhwiFp8h",
    "outputId": "de4126de-d410-458b-bef2-9c9569749396"
   },
   "outputs": [
    {
     "name": "stdout",
     "output_type": "stream",
     "text": [
      "WARNING:tensorflow:sample_weight modes were coerced from\n",
      "  ...\n",
      "    to  \n",
      "  ['...']\n",
      "WARNING:tensorflow:sample_weight modes were coerced from\n",
      "  ...\n",
      "    to  \n",
      "  ['...']\n",
      "Train for 224.203125 steps, validate for 28.0390625 steps\n",
      "Epoch 1/100\n",
      "225/224 [==============================] - 34s 150ms/step - loss: 1.7670 - accuracy: 0.2790 - macro_f1score: 0.0053 - weighted_f1score: 7.2610e-04 - val_loss: 1.7261 - val_accuracy: 0.3572 - val_macro_f1score: 0.0135 - val_weighted_f1score: 0.0016\n",
      "Epoch 2/100\n",
      "225/224 [==============================] - 29s 130ms/step - loss: 1.6427 - accuracy: 0.3574 - macro_f1score: 0.0653 - weighted_f1score: 0.0115 - val_loss: 1.5678 - val_accuracy: 0.4244 - val_macro_f1score: 0.1468 - val_weighted_f1score: 0.0254\n",
      "Epoch 3/100\n",
      "225/224 [==============================] - 29s 130ms/step - loss: 1.5714 - accuracy: 0.3913 - macro_f1score: 0.1181 - weighted_f1score: 0.0216 - val_loss: 1.4955 - val_accuracy: 0.4475 - val_macro_f1score: 0.1870 - val_weighted_f1score: 0.0336\n",
      "Epoch 4/100\n",
      "225/224 [==============================] - 29s 130ms/step - loss: 1.5222 - accuracy: 0.4132 - macro_f1score: 0.1489 - weighted_f1score: 0.0272 - val_loss: 1.4351 - val_accuracy: 0.4678 - val_macro_f1score: 0.2276 - val_weighted_f1score: 0.0419\n",
      "Epoch 5/100\n",
      "225/224 [==============================] - 30s 131ms/step - loss: 1.4858 - accuracy: 0.4271 - macro_f1score: 0.1697 - weighted_f1score: 0.0309 - val_loss: 1.3883 - val_accuracy: 0.4790 - val_macro_f1score: 0.2302 - val_weighted_f1score: 0.0424\n",
      "Epoch 6/100\n",
      "225/224 [==============================] - 29s 130ms/step - loss: 1.4529 - accuracy: 0.4395 - macro_f1score: 0.1890 - weighted_f1score: 0.0343 - val_loss: 1.3582 - val_accuracy: 0.4834 - val_macro_f1score: 0.2488 - val_weighted_f1score: 0.0468\n",
      "Epoch 7/100\n",
      "225/224 [==============================] - 29s 130ms/step - loss: 1.4263 - accuracy: 0.4526 - macro_f1score: 0.2028 - weighted_f1score: 0.0366 - val_loss: 1.3277 - val_accuracy: 0.4957 - val_macro_f1score: 0.2629 - val_weighted_f1score: 0.0487\n",
      "Epoch 8/100\n",
      "225/224 [==============================] - 29s 129ms/step - loss: 1.4025 - accuracy: 0.4612 - macro_f1score: 0.2148 - weighted_f1score: 0.0387 - val_loss: 1.3127 - val_accuracy: 0.5052 - val_macro_f1score: 0.2973 - val_weighted_f1score: 0.0537\n",
      "Epoch 9/100\n",
      "225/224 [==============================] - 29s 130ms/step - loss: 1.3797 - accuracy: 0.4706 - macro_f1score: 0.2295 - weighted_f1score: 0.0413 - val_loss: 1.3019 - val_accuracy: 0.5113 - val_macro_f1score: 0.2929 - val_weighted_f1score: 0.0533\n",
      "Epoch 10/100\n",
      "225/224 [==============================] - 29s 129ms/step - loss: 1.3718 - accuracy: 0.4765 - macro_f1score: 0.2348 - weighted_f1score: 0.0422 - val_loss: 1.2872 - val_accuracy: 0.5188 - val_macro_f1score: 0.2933 - val_weighted_f1score: 0.0535\n",
      "Epoch 11/100\n",
      "225/224 [==============================] - 29s 131ms/step - loss: 1.3534 - accuracy: 0.4842 - macro_f1score: 0.2434 - weighted_f1score: 0.0437 - val_loss: 1.2847 - val_accuracy: 0.5238 - val_macro_f1score: 0.2763 - val_weighted_f1score: 0.0511\n",
      "Epoch 12/100\n",
      "225/224 [==============================] - 30s 131ms/step - loss: 1.3420 - accuracy: 0.4845 - macro_f1score: 0.2503 - weighted_f1score: 0.0449 - val_loss: 1.2658 - val_accuracy: 0.5213 - val_macro_f1score: 0.3116 - val_weighted_f1score: 0.0565\n",
      "Epoch 13/100\n",
      "225/224 [==============================] - 30s 132ms/step - loss: 1.3277 - accuracy: 0.4952 - macro_f1score: 0.2595 - weighted_f1score: 0.0463 - val_loss: 1.2696 - val_accuracy: 0.5219 - val_macro_f1score: 0.3018 - val_weighted_f1score: 0.0545\n",
      "Epoch 14/100\n",
      "225/224 [==============================] - 30s 132ms/step - loss: 1.3224 - accuracy: 0.4929 - macro_f1score: 0.2602 - weighted_f1score: 0.0465 - val_loss: 1.2461 - val_accuracy: 0.5266 - val_macro_f1score: 0.3128 - val_weighted_f1score: 0.0565\n",
      "Epoch 15/100\n",
      "225/224 [==============================] - 30s 134ms/step - loss: 1.3110 - accuracy: 0.4981 - macro_f1score: 0.2727 - weighted_f1score: 0.0482 - val_loss: 1.2198 - val_accuracy: 0.5336 - val_macro_f1score: 0.3341 - val_weighted_f1score: 0.0599\n",
      "Epoch 16/100\n",
      "225/224 [==============================] - 30s 132ms/step - loss: 1.3018 - accuracy: 0.4995 - macro_f1score: 0.2714 - weighted_f1score: 0.0483 - val_loss: 1.2304 - val_accuracy: 0.5325 - val_macro_f1score: 0.3416 - val_weighted_f1score: 0.0613\n",
      "Epoch 17/100\n",
      "225/224 [==============================] - 29s 131ms/step - loss: 1.2898 - accuracy: 0.5113 - macro_f1score: 0.2854 - weighted_f1score: 0.0504 - val_loss: 1.2207 - val_accuracy: 0.5322 - val_macro_f1score: 0.3449 - val_weighted_f1score: 0.0621\n",
      "Epoch 18/100\n",
      "225/224 [==============================] - 29s 129ms/step - loss: 1.2928 - accuracy: 0.5033 - macro_f1score: 0.2817 - weighted_f1score: 0.0499 - val_loss: 1.2071 - val_accuracy: 0.5366 - val_macro_f1score: 0.3512 - val_weighted_f1score: 0.0625\n",
      "Epoch 19/100\n",
      "225/224 [==============================] - 29s 129ms/step - loss: 1.2823 - accuracy: 0.5092 - macro_f1score: 0.2870 - weighted_f1score: 0.0507 - val_loss: 1.2115 - val_accuracy: 0.5447 - val_macro_f1score: 0.3372 - val_weighted_f1score: 0.0604\n",
      "Epoch 20/100\n",
      "225/224 [==============================] - 30s 132ms/step - loss: 1.2746 - accuracy: 0.5089 - macro_f1score: 0.2925 - weighted_f1score: 0.0515 - val_loss: 1.2151 - val_accuracy: 0.5394 - val_macro_f1score: 0.3318 - val_weighted_f1score: 0.0599\n",
      "Epoch 21/100\n",
      "225/224 [==============================] - 29s 131ms/step - loss: 1.2654 - accuracy: 0.5200 - macro_f1score: 0.3023 - weighted_f1score: 0.0532 - val_loss: 1.1911 - val_accuracy: 0.5394 - val_macro_f1score: 0.3517 - val_weighted_f1score: 0.0619\n",
      "Epoch 22/100\n",
      "225/224 [==============================] - 30s 132ms/step - loss: 1.2694 - accuracy: 0.5169 - macro_f1score: 0.3013 - weighted_f1score: 0.0528 - val_loss: 1.1857 - val_accuracy: 0.5478 - val_macro_f1score: 0.3595 - val_weighted_f1score: 0.0635\n",
      "Epoch 23/100\n",
      "225/224 [==============================] - 29s 131ms/step - loss: 1.2535 - accuracy: 0.5207 - macro_f1score: 0.3098 - weighted_f1score: 0.0542 - val_loss: 1.1966 - val_accuracy: 0.5414 - val_macro_f1score: 0.3453 - val_weighted_f1score: 0.0613\n",
      "Epoch 24/100\n",
      "225/224 [==============================] - 30s 131ms/step - loss: 1.2529 - accuracy: 0.5224 - macro_f1score: 0.3080 - weighted_f1score: 0.0540 - val_loss: 1.1707 - val_accuracy: 0.5503 - val_macro_f1score: 0.3542 - val_weighted_f1score: 0.0635\n",
      "Epoch 25/100\n",
      "225/224 [==============================] - 29s 130ms/step - loss: 1.2489 - accuracy: 0.5233 - macro_f1score: 0.3141 - weighted_f1score: 0.0548 - val_loss: 1.1807 - val_accuracy: 0.5528 - val_macro_f1score: 0.3482 - val_weighted_f1score: 0.0626\n",
      "Epoch 26/100\n",
      "225/224 [==============================] - 30s 133ms/step - loss: 1.2454 - accuracy: 0.5238 - macro_f1score: 0.3188 - weighted_f1score: 0.0555 - val_loss: 1.1902 - val_accuracy: 0.5481 - val_macro_f1score: 0.3629 - val_weighted_f1score: 0.0638\n",
      "Epoch 27/100\n",
      "225/224 [==============================] - 29s 128ms/step - loss: 1.2420 - accuracy: 0.5271 - macro_f1score: 0.3194 - weighted_f1score: 0.0554 - val_loss: 1.1703 - val_accuracy: 0.5559 - val_macro_f1score: 0.3681 - val_weighted_f1score: 0.0658\n",
      "Epoch 28/100\n",
      "225/224 [==============================] - 29s 130ms/step - loss: 1.2403 - accuracy: 0.5281 - macro_f1score: 0.3186 - weighted_f1score: 0.0555 - val_loss: 1.1665 - val_accuracy: 0.5517 - val_macro_f1score: 0.3634 - val_weighted_f1score: 0.0647\n",
      "Epoch 29/100\n",
      "225/224 [==============================] - 29s 130ms/step - loss: 1.2288 - accuracy: 0.5315 - macro_f1score: 0.3267 - weighted_f1score: 0.0568 - val_loss: 1.1834 - val_accuracy: 0.5503 - val_macro_f1score: 0.3496 - val_weighted_f1score: 0.0628\n",
      "Epoch 30/100\n",
      "225/224 [==============================] - 30s 132ms/step - loss: 1.2250 - accuracy: 0.5326 - macro_f1score: 0.3278 - weighted_f1score: 0.0569 - val_loss: 1.1573 - val_accuracy: 0.5581 - val_macro_f1score: 0.3747 - val_weighted_f1score: 0.0670\n",
      "Epoch 31/100\n",
      "225/224 [==============================] - 29s 130ms/step - loss: 1.2230 - accuracy: 0.5337 - macro_f1score: 0.3305 - weighted_f1score: 0.0575 - val_loss: 1.1697 - val_accuracy: 0.5534 - val_macro_f1score: 0.3719 - val_weighted_f1score: 0.0667\n",
      "Epoch 32/100\n",
      "225/224 [==============================] - 30s 133ms/step - loss: 1.2210 - accuracy: 0.5365 - macro_f1score: 0.3316 - weighted_f1score: 0.0575 - val_loss: 1.1721 - val_accuracy: 0.5595 - val_macro_f1score: 0.3601 - val_weighted_f1score: 0.0645\n",
      "Epoch 33/100\n",
      "225/224 [==============================] - 29s 129ms/step - loss: 1.2220 - accuracy: 0.5326 - macro_f1score: 0.3347 - weighted_f1score: 0.0579 - val_loss: 1.1433 - val_accuracy: 0.5620 - val_macro_f1score: 0.3860 - val_weighted_f1score: 0.0681\n",
      "Epoch 34/100\n",
      "225/224 [==============================] - 30s 132ms/step - loss: 1.2124 - accuracy: 0.5369 - macro_f1score: 0.3352 - weighted_f1score: 0.0580 - val_loss: 1.1477 - val_accuracy: 0.5692 - val_macro_f1score: 0.3908 - val_weighted_f1score: 0.0698\n",
      "Epoch 35/100\n",
      "225/224 [==============================] - 29s 131ms/step - loss: 1.2097 - accuracy: 0.5384 - macro_f1score: 0.3400 - weighted_f1score: 0.0590 - val_loss: 1.1386 - val_accuracy: 0.5695 - val_macro_f1score: 0.4078 - val_weighted_f1score: 0.0713\n",
      "Epoch 36/100\n",
      "225/224 [==============================] - 29s 130ms/step - loss: 1.1991 - accuracy: 0.5420 - macro_f1score: 0.3474 - weighted_f1score: 0.0596 - val_loss: 1.1486 - val_accuracy: 0.5614 - val_macro_f1score: 0.3815 - val_weighted_f1score: 0.0679\n",
      "Epoch 37/100\n",
      "225/224 [==============================] - 29s 130ms/step - loss: 1.2023 - accuracy: 0.5410 - macro_f1score: 0.3468 - weighted_f1score: 0.0597 - val_loss: 1.1379 - val_accuracy: 0.5645 - val_macro_f1score: 0.3959 - val_weighted_f1score: 0.0701\n",
      "Epoch 38/100\n",
      "225/224 [==============================] - 30s 132ms/step - loss: 1.2066 - accuracy: 0.5424 - macro_f1score: 0.3518 - weighted_f1score: 0.0601 - val_loss: 1.1433 - val_accuracy: 0.5637 - val_macro_f1score: 0.3820 - val_weighted_f1score: 0.0683\n",
      "Epoch 39/100\n",
      "225/224 [==============================] - 29s 131ms/step - loss: 1.2037 - accuracy: 0.5382 - macro_f1score: 0.3458 - weighted_f1score: 0.0598 - val_loss: 1.1499 - val_accuracy: 0.5628 - val_macro_f1score: 0.3900 - val_weighted_f1score: 0.0675\n",
      "Epoch 40/100\n",
      "225/224 [==============================] - 30s 133ms/step - loss: 1.1994 - accuracy: 0.5444 - macro_f1score: 0.3513 - weighted_f1score: 0.0601 - val_loss: 1.1524 - val_accuracy: 0.5662 - val_macro_f1score: 0.3979 - val_weighted_f1score: 0.0692\n",
      "Epoch 41/100\n",
      "225/224 [==============================] - 30s 131ms/step - loss: 1.1885 - accuracy: 0.5468 - macro_f1score: 0.3624 - weighted_f1score: 0.0619 - val_loss: 1.1424 - val_accuracy: 0.5681 - val_macro_f1score: 0.3723 - val_weighted_f1score: 0.0673\n",
      "Epoch 42/100\n",
      "225/224 [==============================] - 30s 133ms/step - loss: 1.1979 - accuracy: 0.5441 - macro_f1score: 0.3454 - weighted_f1score: 0.0598 - val_loss: 1.1344 - val_accuracy: 0.5712 - val_macro_f1score: 0.3950 - val_weighted_f1score: 0.0691\n",
      "Epoch 43/100\n",
      "225/224 [==============================] - 29s 130ms/step - loss: 1.1872 - accuracy: 0.5460 - macro_f1score: 0.3598 - weighted_f1score: 0.0614 - val_loss: 1.1235 - val_accuracy: 0.5779 - val_macro_f1score: 0.4000 - val_weighted_f1score: 0.0700\n",
      "Epoch 44/100\n",
      "225/224 [==============================] - 30s 132ms/step - loss: 1.1882 - accuracy: 0.5488 - macro_f1score: 0.3623 - weighted_f1score: 0.0618 - val_loss: 1.1276 - val_accuracy: 0.5656 - val_macro_f1score: 0.4127 - val_weighted_f1score: 0.0722\n",
      "Epoch 45/100\n",
      "225/224 [==============================] - 30s 132ms/step - loss: 1.1852 - accuracy: 0.5490 - macro_f1score: 0.3564 - weighted_f1score: 0.0607 - val_loss: 1.1511 - val_accuracy: 0.5595 - val_macro_f1score: 0.3844 - val_weighted_f1score: 0.0680\n",
      "Epoch 46/100\n",
      "225/224 [==============================] - 30s 132ms/step - loss: 1.1807 - accuracy: 0.5459 - macro_f1score: 0.3620 - weighted_f1score: 0.0619 - val_loss: 1.1364 - val_accuracy: 0.5706 - val_macro_f1score: 0.4164 - val_weighted_f1score: 0.0721\n",
      "Epoch 47/100\n",
      "225/224 [==============================] - 30s 132ms/step - loss: 1.1883 - accuracy: 0.5478 - macro_f1score: 0.3547 - weighted_f1score: 0.0610 - val_loss: 1.1277 - val_accuracy: 0.5709 - val_macro_f1score: 0.4000 - val_weighted_f1score: 0.0699\n",
      "Epoch 48/100\n",
      "225/224 [==============================] - 30s 132ms/step - loss: 1.1769 - accuracy: 0.5510 - macro_f1score: 0.3619 - weighted_f1score: 0.0618 - val_loss: 1.1305 - val_accuracy: 0.5676 - val_macro_f1score: 0.3872 - val_weighted_f1score: 0.0683\n",
      "Epoch 49/100\n",
      "225/224 [==============================] - 30s 133ms/step - loss: 1.1714 - accuracy: 0.5523 - macro_f1score: 0.3688 - weighted_f1score: 0.0629 - val_loss: 1.1106 - val_accuracy: 0.5765 - val_macro_f1score: 0.4061 - val_weighted_f1score: 0.0711\n",
      "Epoch 50/100\n",
      "225/224 [==============================] - 30s 133ms/step - loss: 1.1722 - accuracy: 0.5521 - macro_f1score: 0.3642 - weighted_f1score: 0.0624 - val_loss: 1.1250 - val_accuracy: 0.5776 - val_macro_f1score: 0.4229 - val_weighted_f1score: 0.0734\n",
      "Epoch 51/100\n",
      "225/224 [==============================] - 30s 133ms/step - loss: 1.1796 - accuracy: 0.5510 - macro_f1score: 0.3649 - weighted_f1score: 0.0625 - val_loss: 1.1192 - val_accuracy: 0.5801 - val_macro_f1score: 0.4200 - val_weighted_f1score: 0.0740\n",
      "Epoch 52/100\n",
      "225/224 [==============================] - 30s 131ms/step - loss: 1.1710 - accuracy: 0.5559 - macro_f1score: 0.3678 - weighted_f1score: 0.0627 - val_loss: 1.1108 - val_accuracy: 0.5804 - val_macro_f1score: 0.4064 - val_weighted_f1score: 0.0714\n",
      "Epoch 53/100\n",
      "225/224 [==============================] - 29s 128ms/step - loss: 1.1752 - accuracy: 0.5543 - macro_f1score: 0.3644 - weighted_f1score: 0.0625 - val_loss: 1.1233 - val_accuracy: 0.5773 - val_macro_f1score: 0.3963 - val_weighted_f1score: 0.0699\n",
      "Epoch 54/100\n",
      "225/224 [==============================] - 29s 127ms/step - loss: 1.1680 - accuracy: 0.5562 - macro_f1score: 0.3681 - weighted_f1score: 0.0628 - val_loss: 1.1243 - val_accuracy: 0.5698 - val_macro_f1score: 0.4060 - val_weighted_f1score: 0.0714\n",
      "Epoch 55/100\n",
      "225/224 [==============================] - 28s 126ms/step - loss: 1.1767 - accuracy: 0.5528 - macro_f1score: 0.3732 - weighted_f1score: 0.0631 - val_loss: 1.1058 - val_accuracy: 0.5823 - val_macro_f1score: 0.4190 - val_weighted_f1score: 0.0734\n",
      "Epoch 56/100\n",
      "225/224 [==============================] - 29s 127ms/step - loss: 1.1663 - accuracy: 0.5567 - macro_f1score: 0.3755 - weighted_f1score: 0.0635 - val_loss: 1.1231 - val_accuracy: 0.5759 - val_macro_f1score: 0.4017 - val_weighted_f1score: 0.0707\n",
      "Epoch 57/100\n",
      "225/224 [==============================] - 29s 128ms/step - loss: 1.1594 - accuracy: 0.5596 - macro_f1score: 0.3817 - weighted_f1score: 0.0645 - val_loss: 1.1097 - val_accuracy: 0.5837 - val_macro_f1score: 0.4164 - val_weighted_f1score: 0.0721\n",
      "Epoch 58/100\n",
      "225/224 [==============================] - 29s 130ms/step - loss: 1.1719 - accuracy: 0.5528 - macro_f1score: 0.3690 - weighted_f1score: 0.0629 - val_loss: 1.1296 - val_accuracy: 0.5790 - val_macro_f1score: 0.4214 - val_weighted_f1score: 0.0734\n",
      "Epoch 59/100\n",
      "225/224 [==============================] - 29s 127ms/step - loss: 1.1639 - accuracy: 0.5584 - macro_f1score: 0.3756 - weighted_f1score: 0.0641 - val_loss: 1.1170 - val_accuracy: 0.5784 - val_macro_f1score: 0.4042 - val_weighted_f1score: 0.0716\n",
      "Epoch 60/100\n",
      "225/224 [==============================] - 29s 127ms/step - loss: 1.1556 - accuracy: 0.5589 - macro_f1score: 0.3763 - weighted_f1score: 0.0642 - val_loss: 1.0945 - val_accuracy: 0.5885 - val_macro_f1score: 0.4196 - val_weighted_f1score: 0.0731\n",
      "Epoch 61/100\n",
      "225/224 [==============================] - 28s 125ms/step - loss: 1.1578 - accuracy: 0.5600 - macro_f1score: 0.3845 - weighted_f1score: 0.0648 - val_loss: 1.0987 - val_accuracy: 0.5876 - val_macro_f1score: 0.4152 - val_weighted_f1score: 0.0731\n",
      "Epoch 62/100\n",
      "225/224 [==============================] - 28s 126ms/step - loss: 1.1597 - accuracy: 0.5574 - macro_f1score: 0.3815 - weighted_f1score: 0.0643 - val_loss: 1.1063 - val_accuracy: 0.5793 - val_macro_f1score: 0.4167 - val_weighted_f1score: 0.0728\n",
      "Epoch 63/100\n",
      "225/224 [==============================] - 29s 127ms/step - loss: 1.1531 - accuracy: 0.5609 - macro_f1score: 0.3809 - weighted_f1score: 0.0642 - val_loss: 1.1113 - val_accuracy: 0.5818 - val_macro_f1score: 0.4246 - val_weighted_f1score: 0.0730\n",
      "Epoch 64/100\n",
      "225/224 [==============================] - 28s 125ms/step - loss: 1.1634 - accuracy: 0.5589 - macro_f1score: 0.3740 - weighted_f1score: 0.0639 - val_loss: 1.0991 - val_accuracy: 0.5921 - val_macro_f1score: 0.4181 - val_weighted_f1score: 0.0726\n",
      "Epoch 65/100\n",
      "225/224 [==============================] - 28s 126ms/step - loss: 1.1464 - accuracy: 0.5624 - macro_f1score: 0.3885 - weighted_f1score: 0.0652 - val_loss: 1.1241 - val_accuracy: 0.5751 - val_macro_f1score: 0.4033 - val_weighted_f1score: 0.0714\n",
      "Epoch 66/100\n",
      "225/224 [==============================] - 28s 125ms/step - loss: 1.1421 - accuracy: 0.5659 - macro_f1score: 0.3890 - weighted_f1score: 0.0657 - val_loss: 1.0871 - val_accuracy: 0.5915 - val_macro_f1score: 0.4434 - val_weighted_f1score: 0.0755\n",
      "Epoch 67/100\n",
      "225/224 [==============================] - 29s 127ms/step - loss: 1.1528 - accuracy: 0.5603 - macro_f1score: 0.3833 - weighted_f1score: 0.0649 - val_loss: 1.1181 - val_accuracy: 0.5829 - val_macro_f1score: 0.4105 - val_weighted_f1score: 0.0721\n",
      "Epoch 68/100\n",
      "225/224 [==============================] - 28s 126ms/step - loss: 1.1489 - accuracy: 0.5612 - macro_f1score: 0.3863 - weighted_f1score: 0.0653 - val_loss: 1.1049 - val_accuracy: 0.5899 - val_macro_f1score: 0.4147 - val_weighted_f1score: 0.0729\n",
      "Epoch 69/100\n",
      "225/224 [==============================] - 29s 129ms/step - loss: 1.1496 - accuracy: 0.5655 - macro_f1score: 0.3898 - weighted_f1score: 0.0657 - val_loss: 1.1278 - val_accuracy: 0.5756 - val_macro_f1score: 0.4094 - val_weighted_f1score: 0.0717\n",
      "Epoch 70/100\n",
      "225/224 [==============================] - 28s 126ms/step - loss: 1.1478 - accuracy: 0.5634 - macro_f1score: 0.3841 - weighted_f1score: 0.0653 - val_loss: 1.1105 - val_accuracy: 0.5812 - val_macro_f1score: 0.4160 - val_weighted_f1score: 0.0721\n",
      "Epoch 71/100\n",
      "225/224 [==============================] - 29s 127ms/step - loss: 1.1405 - accuracy: 0.5673 - macro_f1score: 0.3940 - weighted_f1score: 0.0662 - val_loss: 1.0939 - val_accuracy: 0.5871 - val_macro_f1score: 0.4342 - val_weighted_f1score: 0.0756\n",
      "Epoch 72/100\n",
      "225/224 [==============================] - 28s 126ms/step - loss: 1.1449 - accuracy: 0.5647 - macro_f1score: 0.3871 - weighted_f1score: 0.0655 - val_loss: 1.1110 - val_accuracy: 0.5846 - val_macro_f1score: 0.4242 - val_weighted_f1score: 0.0728\n",
      "Epoch 73/100\n",
      "225/224 [==============================] - 28s 126ms/step - loss: 1.1359 - accuracy: 0.5697 - macro_f1score: 0.3933 - weighted_f1score: 0.0661 - val_loss: 1.0953 - val_accuracy: 0.5854 - val_macro_f1score: 0.4224 - val_weighted_f1score: 0.0737\n",
      "Epoch 74/100\n",
      "225/224 [==============================] - 29s 127ms/step - loss: 1.1389 - accuracy: 0.5650 - macro_f1score: 0.3975 - weighted_f1score: 0.0666 - val_loss: 1.0862 - val_accuracy: 0.5882 - val_macro_f1score: 0.4375 - val_weighted_f1score: 0.0749\n",
      "Epoch 75/100\n",
      "225/224 [==============================] - 29s 127ms/step - loss: 1.1448 - accuracy: 0.5650 - macro_f1score: 0.3912 - weighted_f1score: 0.0661 - val_loss: 1.0832 - val_accuracy: 0.5868 - val_macro_f1score: 0.4350 - val_weighted_f1score: 0.0739\n",
      "Epoch 76/100\n",
      "225/224 [==============================] - 28s 126ms/step - loss: 1.1436 - accuracy: 0.5645 - macro_f1score: 0.3888 - weighted_f1score: 0.0656 - val_loss: 1.1010 - val_accuracy: 0.5843 - val_macro_f1score: 0.4238 - val_weighted_f1score: 0.0743\n",
      "Epoch 77/100\n",
      "225/224 [==============================] - 29s 127ms/step - loss: 1.1404 - accuracy: 0.5678 - macro_f1score: 0.3932 - weighted_f1score: 0.0661 - val_loss: 1.1063 - val_accuracy: 0.5815 - val_macro_f1score: 0.4213 - val_weighted_f1score: 0.0734\n",
      "Epoch 78/100\n",
      "225/224 [==============================] - 28s 126ms/step - loss: 1.1415 - accuracy: 0.5635 - macro_f1score: 0.3956 - weighted_f1score: 0.0660 - val_loss: 1.0911 - val_accuracy: 0.5840 - val_macro_f1score: 0.4221 - val_weighted_f1score: 0.0739\n",
      "Epoch 79/100\n",
      "225/224 [==============================] - 29s 128ms/step - loss: 1.1360 - accuracy: 0.5688 - macro_f1score: 0.3969 - weighted_f1score: 0.0664 - val_loss: 1.1115 - val_accuracy: 0.5773 - val_macro_f1score: 0.4278 - val_weighted_f1score: 0.0732\n",
      "Epoch 80/100\n",
      "225/224 [==============================] - 29s 127ms/step - loss: 1.1353 - accuracy: 0.5713 - macro_f1score: 0.3975 - weighted_f1score: 0.0666 - val_loss: 1.0992 - val_accuracy: 0.5834 - val_macro_f1score: 0.4124 - val_weighted_f1score: 0.0725\n",
      "Epoch 81/100\n",
      "225/224 [==============================] - 28s 125ms/step - loss: 1.1335 - accuracy: 0.5685 - macro_f1score: 0.3965 - weighted_f1score: 0.0669 - val_loss: 1.0830 - val_accuracy: 0.5893 - val_macro_f1score: 0.4183 - val_weighted_f1score: 0.0727\n",
      "Epoch 82/100\n",
      "225/224 [==============================] - 28s 126ms/step - loss: 1.1308 - accuracy: 0.5714 - macro_f1score: 0.3978 - weighted_f1score: 0.0669 - val_loss: 1.0970 - val_accuracy: 0.5837 - val_macro_f1score: 0.4216 - val_weighted_f1score: 0.0745\n",
      "Epoch 83/100\n",
      "225/224 [==============================] - 28s 126ms/step - loss: 1.1375 - accuracy: 0.5648 - macro_f1score: 0.3929 - weighted_f1score: 0.0665 - val_loss: 1.1009 - val_accuracy: 0.5823 - val_macro_f1score: 0.4104 - val_weighted_f1score: 0.0720\n",
      "Epoch 84/100\n",
      "225/224 [==============================] - 28s 127ms/step - loss: 1.1291 - accuracy: 0.5661 - macro_f1score: 0.3962 - weighted_f1score: 0.0668 - val_loss: 1.0856 - val_accuracy: 0.5862 - val_macro_f1score: 0.4219 - val_weighted_f1score: 0.0728\n",
      "Epoch 85/100\n",
      "225/224 [==============================] - 28s 126ms/step - loss: 1.1282 - accuracy: 0.5717 - macro_f1score: 0.4061 - weighted_f1score: 0.0675 - val_loss: 1.0934 - val_accuracy: 0.5862 - val_macro_f1score: 0.4370 - val_weighted_f1score: 0.0752\n",
      "Epoch 86/100\n",
      "225/224 [==============================] - 28s 125ms/step - loss: 1.1267 - accuracy: 0.5723 - macro_f1score: 0.4042 - weighted_f1score: 0.0678 - val_loss: 1.0919 - val_accuracy: 0.5893 - val_macro_f1score: 0.4282 - val_weighted_f1score: 0.0746\n",
      "Epoch 87/100\n",
      "225/224 [==============================] - 28s 126ms/step - loss: 1.1209 - accuracy: 0.5763 - macro_f1score: 0.4049 - weighted_f1score: 0.0680 - val_loss: 1.0988 - val_accuracy: 0.5826 - val_macro_f1score: 0.4282 - val_weighted_f1score: 0.0755\n",
      "Epoch 88/100\n",
      "225/224 [==============================] - 29s 127ms/step - loss: 1.1243 - accuracy: 0.5746 - macro_f1score: 0.4053 - weighted_f1score: 0.0679 - val_loss: 1.1278 - val_accuracy: 0.5770 - val_macro_f1score: 0.4202 - val_weighted_f1score: 0.0740\n",
      "Epoch 89/100\n",
      "225/224 [==============================] - 29s 128ms/step - loss: 1.1314 - accuracy: 0.5706 - macro_f1score: 0.3940 - weighted_f1score: 0.0670 - val_loss: 1.0919 - val_accuracy: 0.5896 - val_macro_f1score: 0.4315 - val_weighted_f1score: 0.0751\n",
      "Epoch 90/100\n",
      "225/224 [==============================] - 30s 132ms/step - loss: 1.1276 - accuracy: 0.5715 - macro_f1score: 0.4059 - weighted_f1score: 0.0676 - val_loss: 1.0801 - val_accuracy: 0.5887 - val_macro_f1score: 0.4296 - val_weighted_f1score: 0.0749\n",
      "Epoch 91/100\n",
      "225/224 [==============================] - 29s 131ms/step - loss: 1.1237 - accuracy: 0.5756 - macro_f1score: 0.4061 - weighted_f1score: 0.0681 - val_loss: 1.1087 - val_accuracy: 0.5840 - val_macro_f1score: 0.4298 - val_weighted_f1score: 0.0743\n",
      "Epoch 92/100\n",
      "225/224 [==============================] - 30s 132ms/step - loss: 1.1205 - accuracy: 0.5744 - macro_f1score: 0.4026 - weighted_f1score: 0.0678 - val_loss: 1.0973 - val_accuracy: 0.5899 - val_macro_f1score: 0.4330 - val_weighted_f1score: 0.0756\n",
      "Epoch 93/100\n",
      "225/224 [==============================] - 29s 131ms/step - loss: 1.1218 - accuracy: 0.5749 - macro_f1score: 0.4074 - weighted_f1score: 0.0682 - val_loss: 1.0845 - val_accuracy: 0.5887 - val_macro_f1score: 0.4360 - val_weighted_f1score: 0.0748\n",
      "Epoch 94/100\n",
      "225/224 [==============================] - 29s 129ms/step - loss: 1.1126 - accuracy: 0.5780 - macro_f1score: 0.4096 - weighted_f1score: 0.0686 - val_loss: 1.1299 - val_accuracy: 0.5812 - val_macro_f1score: 0.4330 - val_weighted_f1score: 0.0750\n",
      "Epoch 95/100\n",
      "225/224 [==============================] - 30s 134ms/step - loss: 1.1239 - accuracy: 0.5717 - macro_f1score: 0.4023 - weighted_f1score: 0.0675 - val_loss: 1.0998 - val_accuracy: 0.5837 - val_macro_f1score: 0.4444 - val_weighted_f1score: 0.0758\n",
      "Epoch 96/100\n",
      "225/224 [==============================] - 30s 132ms/step - loss: 1.1174 - accuracy: 0.5782 - macro_f1score: 0.4092 - weighted_f1score: 0.0687 - val_loss: 1.1032 - val_accuracy: 0.5818 - val_macro_f1score: 0.4241 - val_weighted_f1score: 0.0733\n",
      "Epoch 97/100\n",
      "225/224 [==============================] - 30s 134ms/step - loss: 1.1243 - accuracy: 0.5717 - macro_f1score: 0.4047 - weighted_f1score: 0.0678 - val_loss: 1.0825 - val_accuracy: 0.5807 - val_macro_f1score: 0.4302 - val_weighted_f1score: 0.0753\n",
      "Epoch 98/100\n",
      "225/224 [==============================] - 29s 131ms/step - loss: 1.1195 - accuracy: 0.5756 - macro_f1score: 0.4110 - weighted_f1score: 0.0686 - val_loss: 1.0742 - val_accuracy: 0.6018 - val_macro_f1score: 0.4260 - val_weighted_f1score: 0.0746\n",
      "Epoch 99/100\n",
      "225/224 [==============================] - 30s 133ms/step - loss: 1.1138 - accuracy: 0.5784 - macro_f1score: 0.4083 - weighted_f1score: 0.0690 - val_loss: 1.0812 - val_accuracy: 0.5965 - val_macro_f1score: 0.4440 - val_weighted_f1score: 0.0763\n",
      "Epoch 100/100\n",
      "225/224 [==============================] - 30s 133ms/step - loss: 1.1099 - accuracy: 0.5778 - macro_f1score: 0.4162 - weighted_f1score: 0.0692 - val_loss: 1.0778 - val_accuracy: 0.5854 - val_macro_f1score: 0.4489 - val_weighted_f1score: 0.0776\n"
     ]
    },
    {
     "data": {
      "text/plain": [
       "<tensorflow.python.keras.callbacks.History at 0x7fb0d89c8b38>"
      ]
     },
     "execution_count": 40,
     "metadata": {
      "tags": []
     },
     "output_type": "execute_result"
    }
   ],
   "source": [
    "# tensorflow의 버전이 2.1 버전인지 꼭 확인하고 돌려볼것. 2.1버전부터 아래의 코드가 제대로 돌아감!!!\n",
    "# fit_generator은 tf.keras에서 사라지고, fit으로 모두 통합된다. 참고하기\n",
    "cnn_model2.fit(datagen.flow(x_train,y_train,batch_size=128), steps_per_epoch=len(x_train)/128, validation_data= xy_valid_gen, validation_steps=len(x_valid)/128,epochs=100) "
   ]
  },
  {
   "cell_type": "code",
   "execution_count": 41,
   "metadata": {
    "colab": {
     "base_uri": "https://localhost:8080/",
     "height": 71
    },
    "colab_type": "code",
    "executionInfo": {
     "elapsed": 638,
     "status": "ok",
     "timestamp": 1583300356540,
     "user": {
      "displayName": "‍이동규[ 대학원석사과정재학 / 통계학과 ]",
      "photoUrl": "",
      "userId": "08134145419451519269"
     },
     "user_tz": -540
    },
    "id": "IdL_1FZSFp6q",
    "outputId": "07edc131-6c94-441f-dd90-da2c3f842029"
   },
   "outputs": [
    {
     "name": "stdout",
     "output_type": "stream",
     "text": [
      "3588/3588 [==============================] - 1s 175us/sample - loss: 1.1390 - accuracy: 0.5797 - macro_f1score: 0.4367 - weighted_f1score: 0.0718\n",
      "\n",
      "Accuracy: 0.5797, Macro F1 Score: 0.4367, Weighted F1 Score: 0.0718\n"
     ]
    }
   ],
   "source": [
    "_, acc, mac_f1, wei_f1 = cnn_model2.evaluate(x_test,y_test,batch_size=128)\n",
    "print(\"\\nAccuracy: {:.4f}, Macro F1 Score: {:.4f}, Weighted F1 Score: {:.4f}\".format(acc,mac_f1,wei_f1))"
   ]
  }
 ],
 "metadata": {
  "accelerator": "GPU",
  "colab": {
   "collapsed_sections": [],
   "machine_shape": "hm",
   "name": "08. FER_Aug_Simple_Models(MLP,CNN) - 2020.02.26(WED).ipynb",
   "provenance": []
  },
  "kernelspec": {
   "display_name": "Python 3",
   "language": "python",
   "name": "python3"
  },
  "language_info": {
   "codemirror_mode": {
    "name": "ipython",
    "version": 3
   },
   "file_extension": ".py",
   "mimetype": "text/x-python",
   "name": "python",
   "nbconvert_exporter": "python",
   "pygments_lexer": "ipython3",
   "version": "3.7.3"
  }
 },
 "nbformat": 4,
 "nbformat_minor": 1
}
