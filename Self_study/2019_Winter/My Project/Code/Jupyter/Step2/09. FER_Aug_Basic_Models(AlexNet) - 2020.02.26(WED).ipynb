{
 "cells": [
  {
   "cell_type": "markdown",
   "metadata": {
    "colab_type": "text",
    "id": "vwVmRuFcUBkT"
   },
   "source": [
    "# [AlexNet]"
   ]
  },
  {
   "cell_type": "markdown",
   "metadata": {
    "colab_type": "text",
    "id": "N0MMz6DhUBkW"
   },
   "source": [
    "*KU LeeDongGyu*"
   ]
  },
  {
   "cell_type": "markdown",
   "metadata": {
    "colab_type": "text",
    "id": "jyk7Sp2m5ODF"
   },
   "source": [
    "### Contents"
   ]
  },
  {
   "cell_type": "markdown",
   "metadata": {
    "colab_type": "text",
    "id": "X8ffQ4gg5ODH"
   },
   "source": [
    "1. Almost Original Alexnet\n",
    "2. My Alexnet & Data Import\n",
    "```\n",
    "1) Data Import\n",
    "2) Data Augmentation\n",
    "3) Size = 64,\n",
    "4) Size = 48,\n",
    "```\n",
    "3. Size = 48, No Early Stopping\n",
    "```\n",
    "1) Epoch = 50\n",
    "2) Epoch = 100\n",
    "```"
   ]
  },
  {
   "cell_type": "markdown",
   "metadata": {
    "colab_type": "text",
    "id": "U01q4o40UBkY"
   },
   "source": [
    "### Install Packages"
   ]
  },
  {
   "cell_type": "code",
   "execution_count": 1,
   "metadata": {
    "colab": {
     "base_uri": "https://localhost:8080/",
     "height": 953
    },
    "colab_type": "code",
    "executionInfo": {
     "elapsed": 96168,
     "status": "ok",
     "timestamp": 1583309601339,
     "user": {
      "displayName": "‍이동규[ 대학원석사과정재학 / 통계학과 ]",
      "photoUrl": "",
      "userId": "08134145419451519269"
     },
     "user_tz": -540
    },
    "id": "xydm31d1CTyX",
    "outputId": "032a5f43-ede8-4e80-c6f6-53ed08f0fabf"
   },
   "outputs": [
    {
     "name": "stdout",
     "output_type": "stream",
     "text": [
      "Collecting tensorflow==2.1.0\n",
      "\u001b[?25l  Downloading https://files.pythonhosted.org/packages/85/d4/c0cd1057b331bc38b65478302114194bd8e1b9c2bbc06e300935c0e93d90/tensorflow-2.1.0-cp36-cp36m-manylinux2010_x86_64.whl (421.8MB)\n",
      "\u001b[K     |████████████████████████████████| 421.8MB 38kB/s \n",
      "\u001b[?25hRequirement already satisfied: keras-applications>=1.0.8 in /usr/local/lib/python3.6/dist-packages (from tensorflow==2.1.0) (1.0.8)\n",
      "Requirement already satisfied: keras-preprocessing>=1.1.0 in /usr/local/lib/python3.6/dist-packages (from tensorflow==2.1.0) (1.1.0)\n",
      "Requirement already satisfied: numpy<2.0,>=1.16.0 in /usr/local/lib/python3.6/dist-packages (from tensorflow==2.1.0) (1.17.5)\n",
      "Requirement already satisfied: opt-einsum>=2.3.2 in /usr/local/lib/python3.6/dist-packages (from tensorflow==2.1.0) (3.1.0)\n",
      "Collecting tensorboard<2.2.0,>=2.1.0\n",
      "\u001b[?25l  Downloading https://files.pythonhosted.org/packages/d9/41/bbf49b61370e4f4d245d4c6051dfb6db80cec672605c91b1652ac8cc3d38/tensorboard-2.1.1-py3-none-any.whl (3.8MB)\n",
      "\u001b[K     |████████████████████████████████| 3.9MB 38.0MB/s \n",
      "\u001b[?25hRequirement already satisfied: wrapt>=1.11.1 in /usr/local/lib/python3.6/dist-packages (from tensorflow==2.1.0) (1.11.2)\n",
      "Requirement already satisfied: google-pasta>=0.1.6 in /usr/local/lib/python3.6/dist-packages (from tensorflow==2.1.0) (0.1.8)\n",
      "Requirement already satisfied: termcolor>=1.1.0 in /usr/local/lib/python3.6/dist-packages (from tensorflow==2.1.0) (1.1.0)\n",
      "Requirement already satisfied: wheel>=0.26; python_version >= \"3\" in /usr/local/lib/python3.6/dist-packages (from tensorflow==2.1.0) (0.34.2)\n",
      "Requirement already satisfied: grpcio>=1.8.6 in /usr/local/lib/python3.6/dist-packages (from tensorflow==2.1.0) (1.27.1)\n",
      "Collecting tensorflow-estimator<2.2.0,>=2.1.0rc0\n",
      "\u001b[?25l  Downloading https://files.pythonhosted.org/packages/18/90/b77c328a1304437ab1310b463e533fa7689f4bfc41549593056d812fab8e/tensorflow_estimator-2.1.0-py2.py3-none-any.whl (448kB)\n",
      "\u001b[K     |████████████████████████████████| 450kB 45.4MB/s \n",
      "\u001b[?25hRequirement already satisfied: protobuf>=3.8.0 in /usr/local/lib/python3.6/dist-packages (from tensorflow==2.1.0) (3.10.0)\n",
      "Requirement already satisfied: absl-py>=0.7.0 in /usr/local/lib/python3.6/dist-packages (from tensorflow==2.1.0) (0.9.0)\n",
      "Requirement already satisfied: scipy==1.4.1; python_version >= \"3\" in /usr/local/lib/python3.6/dist-packages (from tensorflow==2.1.0) (1.4.1)\n",
      "Requirement already satisfied: astor>=0.6.0 in /usr/local/lib/python3.6/dist-packages (from tensorflow==2.1.0) (0.8.1)\n",
      "Requirement already satisfied: gast==0.2.2 in /usr/local/lib/python3.6/dist-packages (from tensorflow==2.1.0) (0.2.2)\n",
      "Requirement already satisfied: six>=1.12.0 in /usr/local/lib/python3.6/dist-packages (from tensorflow==2.1.0) (1.12.0)\n",
      "Requirement already satisfied: h5py in /usr/local/lib/python3.6/dist-packages (from keras-applications>=1.0.8->tensorflow==2.1.0) (2.8.0)\n",
      "Requirement already satisfied: markdown>=2.6.8 in /usr/local/lib/python3.6/dist-packages (from tensorboard<2.2.0,>=2.1.0->tensorflow==2.1.0) (3.2.1)\n",
      "Requirement already satisfied: google-auth<2,>=1.6.3 in /usr/local/lib/python3.6/dist-packages (from tensorboard<2.2.0,>=2.1.0->tensorflow==2.1.0) (1.7.2)\n",
      "Requirement already satisfied: google-auth-oauthlib<0.5,>=0.4.1 in /usr/local/lib/python3.6/dist-packages (from tensorboard<2.2.0,>=2.1.0->tensorflow==2.1.0) (0.4.1)\n",
      "Requirement already satisfied: requests<3,>=2.21.0 in /usr/local/lib/python3.6/dist-packages (from tensorboard<2.2.0,>=2.1.0->tensorflow==2.1.0) (2.21.0)\n",
      "Requirement already satisfied: werkzeug>=0.11.15 in /usr/local/lib/python3.6/dist-packages (from tensorboard<2.2.0,>=2.1.0->tensorflow==2.1.0) (1.0.0)\n",
      "Requirement already satisfied: setuptools>=41.0.0 in /usr/local/lib/python3.6/dist-packages (from tensorboard<2.2.0,>=2.1.0->tensorflow==2.1.0) (45.1.0)\n",
      "Requirement already satisfied: pyasn1-modules>=0.2.1 in /usr/local/lib/python3.6/dist-packages (from google-auth<2,>=1.6.3->tensorboard<2.2.0,>=2.1.0->tensorflow==2.1.0) (0.2.8)\n",
      "Requirement already satisfied: cachetools<3.2,>=2.0.0 in /usr/local/lib/python3.6/dist-packages (from google-auth<2,>=1.6.3->tensorboard<2.2.0,>=2.1.0->tensorflow==2.1.0) (3.1.1)\n",
      "Requirement already satisfied: rsa<4.1,>=3.1.4 in /usr/local/lib/python3.6/dist-packages (from google-auth<2,>=1.6.3->tensorboard<2.2.0,>=2.1.0->tensorflow==2.1.0) (4.0)\n",
      "Requirement already satisfied: requests-oauthlib>=0.7.0 in /usr/local/lib/python3.6/dist-packages (from google-auth-oauthlib<0.5,>=0.4.1->tensorboard<2.2.0,>=2.1.0->tensorflow==2.1.0) (1.3.0)\n",
      "Requirement already satisfied: chardet<3.1.0,>=3.0.2 in /usr/local/lib/python3.6/dist-packages (from requests<3,>=2.21.0->tensorboard<2.2.0,>=2.1.0->tensorflow==2.1.0) (3.0.4)\n",
      "Requirement already satisfied: certifi>=2017.4.17 in /usr/local/lib/python3.6/dist-packages (from requests<3,>=2.21.0->tensorboard<2.2.0,>=2.1.0->tensorflow==2.1.0) (2019.11.28)\n",
      "Requirement already satisfied: idna<2.9,>=2.5 in /usr/local/lib/python3.6/dist-packages (from requests<3,>=2.21.0->tensorboard<2.2.0,>=2.1.0->tensorflow==2.1.0) (2.8)\n",
      "Requirement already satisfied: urllib3<1.25,>=1.21.1 in /usr/local/lib/python3.6/dist-packages (from requests<3,>=2.21.0->tensorboard<2.2.0,>=2.1.0->tensorflow==2.1.0) (1.24.3)\n",
      "Requirement already satisfied: pyasn1<0.5.0,>=0.4.6 in /usr/local/lib/python3.6/dist-packages (from pyasn1-modules>=0.2.1->google-auth<2,>=1.6.3->tensorboard<2.2.0,>=2.1.0->tensorflow==2.1.0) (0.4.8)\n",
      "Requirement already satisfied: oauthlib>=3.0.0 in /usr/local/lib/python3.6/dist-packages (from requests-oauthlib>=0.7.0->google-auth-oauthlib<0.5,>=0.4.1->tensorboard<2.2.0,>=2.1.0->tensorflow==2.1.0) (3.1.0)\n",
      "Installing collected packages: tensorboard, tensorflow-estimator, tensorflow\n",
      "  Found existing installation: tensorboard 1.15.0\n",
      "    Uninstalling tensorboard-1.15.0:\n",
      "      Successfully uninstalled tensorboard-1.15.0\n",
      "  Found existing installation: tensorflow-estimator 1.15.1\n",
      "    Uninstalling tensorflow-estimator-1.15.1:\n",
      "      Successfully uninstalled tensorflow-estimator-1.15.1\n",
      "  Found existing installation: tensorflow 1.15.0\n",
      "    Uninstalling tensorflow-1.15.0:\n",
      "      Successfully uninstalled tensorflow-1.15.0\n",
      "Successfully installed tensorboard-2.1.1 tensorflow-2.1.0 tensorflow-estimator-2.1.0\n"
     ]
    }
   ],
   "source": [
    "pip install tensorflow==2.1.0"
   ]
  },
  {
   "cell_type": "markdown",
   "metadata": {
    "colab_type": "text",
    "id": "XjdygsS_UBke"
   },
   "source": [
    "### Module"
   ]
  },
  {
   "cell_type": "code",
   "execution_count": 2,
   "metadata": {
    "colab": {
     "base_uri": "https://localhost:8080/",
     "height": 127
    },
    "colab_type": "code",
    "executionInfo": {
     "elapsed": 127905,
     "status": "ok",
     "timestamp": 1583309633090,
     "user": {
      "displayName": "‍이동규[ 대학원석사과정재학 / 통계학과 ]",
      "photoUrl": "",
      "userId": "08134145419451519269"
     },
     "user_tz": -540
    },
    "id": "o1tpIlBhXG2i",
    "outputId": "f19254ee-d00b-43a6-880c-fe87b712fd85"
   },
   "outputs": [
    {
     "name": "stdout",
     "output_type": "stream",
     "text": [
      "Go to this URL in a browser: https://accounts.google.com/o/oauth2/auth?client_id=947318989803-6bn6qk8qdgf4n4g3pfee6491hc0brc4i.apps.googleusercontent.com&redirect_uri=urn%3aietf%3awg%3aoauth%3a2.0%3aoob&response_type=code&scope=email%20https%3a%2f%2fwww.googleapis.com%2fauth%2fdocs.test%20https%3a%2f%2fwww.googleapis.com%2fauth%2fdrive%20https%3a%2f%2fwww.googleapis.com%2fauth%2fdrive.photos.readonly%20https%3a%2f%2fwww.googleapis.com%2fauth%2fpeopleapi.readonly\n",
      "\n",
      "Enter your authorization code:\n",
      "··········\n",
      "Mounted at /content/drive\n"
     ]
    }
   ],
   "source": [
    "from google.colab import drive\n",
    "drive.mount('/content/drive')"
   ]
  },
  {
   "cell_type": "code",
   "execution_count": 3,
   "metadata": {
    "colab": {
     "base_uri": "https://localhost:8080/",
     "height": 35
    },
    "colab_type": "code",
    "executionInfo": {
     "elapsed": 127696,
     "status": "ok",
     "timestamp": 1583309633093,
     "user": {
      "displayName": "‍이동규[ 대학원석사과정재학 / 통계학과 ]",
      "photoUrl": "",
      "userId": "08134145419451519269"
     },
     "user_tz": -540
    },
    "id": "IJdbC2nRXR6h",
    "outputId": "2634e46b-b0aa-445a-f3cb-4a5800b09b97"
   },
   "outputs": [
    {
     "name": "stdout",
     "output_type": "stream",
     "text": [
      "/content/drive/My Drive/Colab Notebooks/project\n"
     ]
    }
   ],
   "source": [
    "cd /content/drive/My Drive/Colab Notebooks/project"
   ]
  },
  {
   "cell_type": "code",
   "execution_count": 0,
   "metadata": {
    "colab": {},
    "colab_type": "code",
    "id": "bCx2JDrkW6sn"
   },
   "outputs": [],
   "source": [
    "import sys"
   ]
  },
  {
   "cell_type": "code",
   "execution_count": 5,
   "metadata": {
    "colab": {
     "base_uri": "https://localhost:8080/",
     "height": 179
    },
    "colab_type": "code",
    "executionInfo": {
     "elapsed": 126917,
     "status": "ok",
     "timestamp": 1583309633096,
     "user": {
      "displayName": "‍이동규[ 대학원석사과정재학 / 통계학과 ]",
      "photoUrl": "",
      "userId": "08134145419451519269"
     },
     "user_tz": -540
    },
    "id": "qQKQi4SjY3Ug",
    "outputId": "7d52c16e-6118-4ebf-adaf-6fe492c79ee9"
   },
   "outputs": [
    {
     "data": {
      "text/plain": [
       "['',\n",
       " '/env/python',\n",
       " '/usr/lib/python36.zip',\n",
       " '/usr/lib/python3.6',\n",
       " '/usr/lib/python3.6/lib-dynload',\n",
       " '/usr/local/lib/python3.6/dist-packages',\n",
       " '/usr/lib/python3/dist-packages',\n",
       " '/usr/local/lib/python3.6/dist-packages/IPython/extensions',\n",
       " '/root/.ipython']"
      ]
     },
     "execution_count": 5,
     "metadata": {
      "tags": []
     },
     "output_type": "execute_result"
    }
   ],
   "source": [
    "# 모듈로 받을 경로 확인\n",
    "sys.path"
   ]
  },
  {
   "cell_type": "code",
   "execution_count": 0,
   "metadata": {
    "colab": {},
    "colab_type": "code",
    "id": "d9dGjq6aY3cN"
   },
   "outputs": [],
   "source": [
    "# 내 노트북이 아닌, 전산실 컴퓨터의 colab에서 돌렸으므로, 다시돌리려면 경로 수정할것!\n",
    "sys.path.append(\"/content/drive/My Drive/Colab Notebooks/project\")"
   ]
  },
  {
   "cell_type": "code",
   "execution_count": 0,
   "metadata": {
    "colab": {},
    "colab_type": "code",
    "id": "MM1f9wE47hsv"
   },
   "outputs": [],
   "source": [
    "from lrn import LRN #만든 모듈, class\n",
    "from f1score import macro_f1score, weighted_f1score\n",
    "from pool_helper import PoolHelper"
   ]
  },
  {
   "cell_type": "code",
   "execution_count": 0,
   "metadata": {
    "colab": {},
    "colab_type": "code",
    "id": "HKLMWqbuUBkf"
   },
   "outputs": [],
   "source": [
    "import pandas as pd\n",
    "import numpy as np\n",
    "import cv2\n",
    "import os\n",
    "import tensorflow as tf\n",
    "from tensorflow.keras.models import Sequential\n",
    "from tensorflow.keras.layers import Dense, Dropout, Activation, Flatten , ZeroPadding2D\n",
    "from tensorflow.keras.layers import Conv2D, MaxPooling2D \n",
    "from tensorflow.keras.utils import to_categorical\n",
    "from tensorflow.keras.regularizers import l2\n",
    "from tensorflow.keras import backend as K\n",
    "from tensorflow.keras.callbacks import EarlyStopping\n",
    "from tensorflow.keras.preprocessing.image import ImageDataGenerator"
   ]
  },
  {
   "cell_type": "code",
   "execution_count": 9,
   "metadata": {
    "colab": {
     "base_uri": "https://localhost:8080/",
     "height": 35
    },
    "colab_type": "code",
    "executionInfo": {
     "elapsed": 129220,
     "status": "ok",
     "timestamp": 1583309639949,
     "user": {
      "displayName": "‍이동규[ 대학원석사과정재학 / 통계학과 ]",
      "photoUrl": "",
      "userId": "08134145419451519269"
     },
     "user_tz": -540
    },
    "id": "cbiFovMgXTax",
    "outputId": "915fd8ab-0e42-49f5-947a-161444f60447"
   },
   "outputs": [
    {
     "data": {
      "text/plain": [
       "'/content/drive/My Drive/Colab Notebooks/project'"
      ]
     },
     "execution_count": 9,
     "metadata": {
      "tags": []
     },
     "output_type": "execute_result"
    }
   ],
   "source": [
    "os.getcwd()"
   ]
  },
  {
   "cell_type": "code",
   "execution_count": 10,
   "metadata": {
    "colab": {
     "base_uri": "https://localhost:8080/",
     "height": 35
    },
    "colab_type": "code",
    "executionInfo": {
     "elapsed": 128032,
     "status": "ok",
     "timestamp": 1583309639950,
     "user": {
      "displayName": "‍이동규[ 대학원석사과정재학 / 통계학과 ]",
      "photoUrl": "",
      "userId": "08134145419451519269"
     },
     "user_tz": -540
    },
    "id": "mvPi8gr0DjxJ",
    "outputId": "7f712f7a-3653-4a64-fbe6-1ee9251b29b4"
   },
   "outputs": [
    {
     "data": {
      "text/plain": [
       "'2.1.0'"
      ]
     },
     "execution_count": 10,
     "metadata": {
      "tags": []
     },
     "output_type": "execute_result"
    }
   ],
   "source": [
    "tf.__version__"
   ]
  },
  {
   "cell_type": "code",
   "execution_count": null,
   "metadata": {},
   "outputs": [],
   "source": [
    "tf.test.gpu_device_name()"
   ]
  },
  {
   "cell_type": "markdown",
   "metadata": {
    "colab_type": "text",
    "id": "sTXnS6_magkg"
   },
   "source": [
    "## 1. Almost Original Alexnet"
   ]
  },
  {
   "cell_type": "code",
   "execution_count": 0,
   "metadata": {
    "colab": {},
    "colab_type": "code",
    "id": "RQQSvuzfUBlZ"
   },
   "outputs": [],
   "source": [
    "# Alexnet을 최대한 논문에 가깝게 맞춰 모형작성.\n",
    "# 또한, Data Augmentation은 컴퓨터 성능의 한계로 하지 않음.\n",
    "# 출처 : https://github.com/eweill/keras-deepcv/blob/master/models/classification/alexnet.py\n",
    "\n",
    "def Alexnet(img_shape=(227, 227, 3), n_classes=10, l2_reg=0.,weights=None):\n",
    "\n",
    "    # Initialize model\n",
    "    alexnet = Sequential()\n",
    "\n",
    "    # Layer 1\n",
    "    alexnet.add(Conv2D(96, (11, 11), input_shape=img_shape, strides=4,kernel_regularizer=l2(l2_reg)))\n",
    "    alexnet.add(Activation('relu'))\n",
    "    alexnet.add(LRN(name='layer1_LRN'))\n",
    "    alexnet.add(MaxPooling2D(pool_size=(3, 3),strides=2))\n",
    "\n",
    "    # Layer 2\n",
    "    alexnet.add(Conv2D(256, (5, 5), padding='same',strides=1,kernel_regularizer=l2(l2_reg)))\n",
    "    alexnet.add(Activation('relu'))\n",
    "    alexnet.add(LRN(name='layer2_LRN'))\n",
    "    alexnet.add(MaxPooling2D(pool_size=(3, 3),strides=2))\n",
    "    \n",
    "    # Layer 3\n",
    "    alexnet.add(Conv2D(384, (3, 3), padding='same', strides=1,kernel_regularizer=l2(l2_reg)))\n",
    "    alexnet.add(Activation('relu'))\n",
    "    alexnet.add(LRN(name='layer3_LRN'))\n",
    "    \n",
    "    # Layer 4\n",
    "    alexnet.add(Conv2D(384, (3, 3), padding='same'))\n",
    "    alexnet.add(Activation('relu'))\n",
    "    alexnet.add(LRN(name='layer4_LRN'))\n",
    "\n",
    "    # Layer 5\n",
    "    alexnet.add(Conv2D(256, (3, 3), padding='same'))\n",
    "    alexnet.add(Activation('relu'))\n",
    "    alexnet.add(LRN(name='layer5_LRN'))\n",
    "    alexnet.add(MaxPooling2D(pool_size=(3, 3),strides=2))\n",
    "\n",
    "    # Layer 6\n",
    "    alexnet.add(Flatten())\n",
    "    alexnet.add(Dense(4096,kernel_regularizer=l2(l2_reg)))\n",
    "    alexnet.add(Activation('relu'))\n",
    "    alexnet.add(Dropout(0.5))\n",
    "\n",
    "    # Layer 7\n",
    "    alexnet.add(Dense(4096,kernel_regularizer=l2(l2_reg)))\n",
    "    alexnet.add(Activation('relu'))\n",
    "    alexnet.add(Dropout(0.5))\n",
    "\n",
    "    # Layer 8\n",
    "    alexnet.add(Dense(n_classes))\n",
    "    alexnet.add(Activation('softmax'))\n",
    "\n",
    "    if weights is not None:\n",
    "        alexnet.load_weights(weights)\n",
    "\n",
    "    return alexnet"
   ]
  },
  {
   "cell_type": "code",
   "execution_count": 0,
   "metadata": {
    "colab": {},
    "colab_type": "code",
    "id": "oKNZkR1NUBlc"
   },
   "outputs": [],
   "source": [
    "model = Alexnet(img_shape=(227, 227, 3), n_classes=7, l2_reg=0.,weights=None)"
   ]
  },
  {
   "cell_type": "code",
   "execution_count": 0,
   "metadata": {
    "colab": {
     "base_uri": "https://localhost:8080/",
     "height": 1000
    },
    "colab_type": "code",
    "executionInfo": {
     "elapsed": 127463,
     "status": "ok",
     "timestamp": 1583300537250,
     "user": {
      "displayName": "‍이동규[ 대학원석사과정재학 / 통계학과 ]",
      "photoUrl": "",
      "userId": "08134145419451519269"
     },
     "user_tz": -540
    },
    "id": "te4pinumUBle",
    "outputId": "0c2bf8e6-b8fb-4e1d-e97b-ced5fe464d89"
   },
   "outputs": [
    {
     "name": "stdout",
     "output_type": "stream",
     "text": [
      "Model: \"sequential\"\n",
      "_________________________________________________________________\n",
      "Layer (type)                 Output Shape              Param #   \n",
      "=================================================================\n",
      "conv2d (Conv2D)              (None, 55, 55, 96)        34944     \n",
      "_________________________________________________________________\n",
      "activation (Activation)      (None, 55, 55, 96)        0         \n",
      "_________________________________________________________________\n",
      "layer1_LRN (LRN)             (None, 55, 55, 96)        0         \n",
      "_________________________________________________________________\n",
      "max_pooling2d (MaxPooling2D) (None, 27, 27, 96)        0         \n",
      "_________________________________________________________________\n",
      "conv2d_1 (Conv2D)            (None, 27, 27, 256)       614656    \n",
      "_________________________________________________________________\n",
      "activation_1 (Activation)    (None, 27, 27, 256)       0         \n",
      "_________________________________________________________________\n",
      "layer2_LRN (LRN)             (None, 27, 27, 256)       0         \n",
      "_________________________________________________________________\n",
      "max_pooling2d_1 (MaxPooling2 (None, 13, 13, 256)       0         \n",
      "_________________________________________________________________\n",
      "conv2d_2 (Conv2D)            (None, 13, 13, 384)       885120    \n",
      "_________________________________________________________________\n",
      "activation_2 (Activation)    (None, 13, 13, 384)       0         \n",
      "_________________________________________________________________\n",
      "layer3_LRN (LRN)             (None, 13, 13, 384)       0         \n",
      "_________________________________________________________________\n",
      "conv2d_3 (Conv2D)            (None, 13, 13, 384)       1327488   \n",
      "_________________________________________________________________\n",
      "activation_3 (Activation)    (None, 13, 13, 384)       0         \n",
      "_________________________________________________________________\n",
      "layer4_LRN (LRN)             (None, 13, 13, 384)       0         \n",
      "_________________________________________________________________\n",
      "conv2d_4 (Conv2D)            (None, 13, 13, 256)       884992    \n",
      "_________________________________________________________________\n",
      "activation_4 (Activation)    (None, 13, 13, 256)       0         \n",
      "_________________________________________________________________\n",
      "layer5_LRN (LRN)             (None, 13, 13, 256)       0         \n",
      "_________________________________________________________________\n",
      "max_pooling2d_2 (MaxPooling2 (None, 6, 6, 256)         0         \n",
      "_________________________________________________________________\n",
      "flatten (Flatten)            (None, 9216)              0         \n",
      "_________________________________________________________________\n",
      "dense (Dense)                (None, 4096)              37752832  \n",
      "_________________________________________________________________\n",
      "activation_5 (Activation)    (None, 4096)              0         \n",
      "_________________________________________________________________\n",
      "dropout (Dropout)            (None, 4096)              0         \n",
      "_________________________________________________________________\n",
      "dense_1 (Dense)              (None, 4096)              16781312  \n",
      "_________________________________________________________________\n",
      "activation_6 (Activation)    (None, 4096)              0         \n",
      "_________________________________________________________________\n",
      "dropout_1 (Dropout)          (None, 4096)              0         \n",
      "_________________________________________________________________\n",
      "dense_2 (Dense)              (None, 7)                 28679     \n",
      "_________________________________________________________________\n",
      "activation_7 (Activation)    (None, 7)                 0         \n",
      "=================================================================\n",
      "Total params: 58,310,023\n",
      "Trainable params: 58,310,023\n",
      "Non-trainable params: 0\n",
      "_________________________________________________________________\n"
     ]
    }
   ],
   "source": [
    "#모수가 데이터에 비해 굉장히 많지만, 일단 진행\n",
    "model.summary()"
   ]
  },
  {
   "cell_type": "markdown",
   "metadata": {
    "colab_type": "text",
    "id": "QKtq75U4agkw"
   },
   "source": [
    "Too many parameters compared to the data. "
   ]
  },
  {
   "cell_type": "markdown",
   "metadata": {
    "colab_type": "text",
    "id": "Kiu3oJRIagkw"
   },
   "source": [
    "## 2. My Alexnet"
   ]
  },
  {
   "cell_type": "markdown",
   "metadata": {
    "colab_type": "text",
    "id": "FWigHOuzCRRj"
   },
   "source": [
    "### 1) Data Import"
   ]
  },
  {
   "cell_type": "code",
   "execution_count": 0,
   "metadata": {
    "colab": {},
    "colab_type": "code",
    "id": "5Ix8wPCMWm-z"
   },
   "outputs": [],
   "source": [
    "# Alexnet을 개조\n",
    "# Data Augmentation은 컴퓨터 성능의 한계로 못하기 때문에 변형함.\n",
    "\n",
    "# 주의 !!!!기본은 모형을 조절하는 것이 아닌, 데이터를 뻥튀기 하는 것임을 늘 잊지말기!!!!\n",
    "\n",
    "# data import\n",
    "x_train = pd.read_csv(\"mydata/X_train.csv\",header=0,index_col=0)\n",
    "x_valid = pd.read_csv(\"mydata/X_private_test.csv\",header=0,index_col=0)\n",
    "x_test = pd.read_csv(\"mydata/X_public_test.csv\",header=0,index_col=0)\n",
    "y_train = pd.read_csv(\"mydata/y_train.csv\",header=0,index_col=0)\n",
    "y_valid = pd.read_csv(\"mydata/y_private_test.csv\",header=0,index_col=0)\n",
    "y_test = pd.read_csv(\"mydata/y_public_test.csv\",header=0,index_col=0)"
   ]
  },
  {
   "cell_type": "code",
   "execution_count": 0,
   "metadata": {
    "colab": {},
    "colab_type": "code",
    "id": "eWHRjz5AnGBE"
   },
   "outputs": [],
   "source": [
    "# data handling\n",
    "x_train = np.array(x_train).reshape([-1,48,48,3]) \n",
    "x_valid = np.array(x_valid).reshape([-1,48,48,3]) \n",
    "x_test = np.array(x_test).reshape([-1,48,48,3]) \n",
    "\n",
    "y_train=to_categorical(y_train) # one hot encoding\n",
    "y_valid=to_categorical(y_valid)\n",
    "y_test=to_categorical(y_test)"
   ]
  },
  {
   "cell_type": "code",
   "execution_count": 0,
   "metadata": {
    "colab": {},
    "colab_type": "code",
    "id": "u4J2YJEXb4H0"
   },
   "outputs": [],
   "source": [
    "# data handling\n",
    "size = 64 #적당한 크기로 잡음.\n",
    "x_train = np.array(x_train).reshape([-1,48,48,3])"
   ]
  },
  {
   "cell_type": "code",
   "execution_count": 0,
   "metadata": {
    "colab": {},
    "colab_type": "code",
    "id": "PzT0Hoc0WnK3"
   },
   "outputs": [],
   "source": [
    "x_train_zoom = np.zeros([x_train.shape[0],size,size,3],dtype=\"float32\")\n",
    "\n",
    "for i in range(x_train.shape[0]):\n",
    "    x_train_zoom[i,:] = cv2.resize(x_train[i,:].astype('uint8'), (size, size),\n",
    "                                  interpolation=cv2.INTER_CUBIC).reshape(size,size,3) /255"
   ]
  },
  {
   "cell_type": "code",
   "execution_count": 0,
   "metadata": {
    "colab": {},
    "colab_type": "code",
    "id": "xSE3FHaZnMzw"
   },
   "outputs": [],
   "source": [
    "x_train = x_train / 255 "
   ]
  },
  {
   "cell_type": "code",
   "execution_count": 0,
   "metadata": {
    "colab": {},
    "colab_type": "code",
    "id": "N-W1s7KpWnee"
   },
   "outputs": [],
   "source": [
    "x_valid = np.array(x_valid).reshape([-1,48,48,3])\n",
    "x_valid_zoom = np.zeros([x_valid.shape[0],size,size,3],dtype=\"float32\")\n",
    "for i in range(x_valid.shape[0]):\n",
    "    x_valid_zoom[i,:] = cv2.resize(x_valid[i,:].astype('uint8'), (size, size),\n",
    "                                  interpolation=cv2.INTER_CUBIC).reshape(size,size,3) /255"
   ]
  },
  {
   "cell_type": "code",
   "execution_count": 0,
   "metadata": {
    "colab": {},
    "colab_type": "code",
    "id": "wOgYraUQnNFx"
   },
   "outputs": [],
   "source": [
    " x_valid = x_valid / 255"
   ]
  },
  {
   "cell_type": "code",
   "execution_count": 0,
   "metadata": {
    "colab": {},
    "colab_type": "code",
    "id": "zBIQHqomb--R"
   },
   "outputs": [],
   "source": [
    "x_test = np.array(x_test).reshape([-1,48,48,3])\n",
    "x_test_zoom = np.zeros([x_test.shape[0],size,size,3],dtype=\"float32\")\n",
    "for i in range(x_test.shape[0]):\n",
    "    x_test_zoom[i,:] = cv2.resize(x_test[i,:].astype('uint8'), (size, size),\n",
    "                                  interpolation=cv2.INTER_CUBIC).reshape(size,size,3) /255"
   ]
  },
  {
   "cell_type": "code",
   "execution_count": 0,
   "metadata": {
    "colab": {},
    "colab_type": "code",
    "id": "9r1wRmn0nNb4"
   },
   "outputs": [],
   "source": [
    "x_test = x_test / 255"
   ]
  },
  {
   "cell_type": "markdown",
   "metadata": {
    "colab_type": "text",
    "id": "XrNLBwoJCRR9"
   },
   "source": [
    "### 2) Data Augmentation"
   ]
  },
  {
   "cell_type": "code",
   "execution_count": 0,
   "metadata": {
    "colab": {},
    "colab_type": "code",
    "id": "zNLG_Q4LCRR-"
   },
   "outputs": [],
   "source": [
    "datagen = ImageDataGenerator(\n",
    "    featurewise_center=False,\n",
    "    featurewise_std_normalization=False,\n",
    "    rotation_range=10,\n",
    "    width_shift_range=0.1,\n",
    "    height_shift_range=0.1,\n",
    "    horizontal_flip=True,\n",
    "    zoom_range=[0.9,1.0])"
   ]
  },
  {
   "cell_type": "code",
   "execution_count": 0,
   "metadata": {
    "colab": {},
    "colab_type": "code",
    "id": "Wu67A9xLCRSA"
   },
   "outputs": [],
   "source": [
    "datagen_val = ImageDataGenerator()"
   ]
  },
  {
   "cell_type": "code",
   "execution_count": 0,
   "metadata": {
    "colab": {},
    "colab_type": "code",
    "id": "bWvLB1sdCRSC"
   },
   "outputs": [],
   "source": [
    "xy_valid_zoom_gen = datagen_val.flow(x_valid_zoom,y_valid,batch_size=128)\n",
    "xy_valid_gen = datagen_val.flow(x_valid,y_valid,batch_size=128)"
   ]
  },
  {
   "cell_type": "markdown",
   "metadata": {
    "colab_type": "text",
    "id": "5UromlgD5OEz"
   },
   "source": [
    "### 3) Size = 64"
   ]
  },
  {
   "cell_type": "code",
   "execution_count": 0,
   "metadata": {
    "colab": {},
    "colab_type": "code",
    "id": "bSApK_jeb_Lo"
   },
   "outputs": [],
   "source": [
    "# 다음의 절차로 모형을 개조한다.\n",
    "\n",
    "# 1. 227의 대략 1/4 연산인 64로 이미지사이즈를 재조정한다.\n",
    "# 2. 모수와 관련이 가장 깊은 fc층에서, 기존의 4096개의 노드를 1/16 (비율) 배 만큼, 즉 256개로줄인다.\n",
    "# 3. 다음과 같이 모형을 재구성한다.\n",
    "\n",
    "# convolution layer\n",
    "# 입력 : 64x64x1\n",
    "# 첫번째 층 : 5x5 필터 24장, strides = 2 -> maxpooling 3x3 , stirdes = 2   ===> 14 x 14 x 24 feature map\n",
    "# 두번째 층 : 3x3 필터 64장, strides = 1, padding = \"same\"                 ===> 14 x 14 x 64 feature map\n",
    "# 세번째 층 : 3x3 필터 96장, strides = 1                                   ===> 12 x 12 x 96 feature map\n",
    "# 네번째 층 : 3x3 필터 96장, strides = 1, padding = \"same\"                 ===> 12 x 12 x 96 feature map\n",
    "# 다섯째 층 : 3x3 필터 64장, strides = 1 -> maxpooling 3x3 , strides = 2   ===> 4 x 4 x 64 feature map\n",
    "\n",
    "# fc layer\n",
    "# 여섯째 층 : 노드 256개, dropout = 0.5\n",
    "# 일곱째 층 : 노드 256개, dropout = 0.5\n",
    "# 여덟째 층 : 노드 7개\n",
    "\n",
    "\n",
    "\n",
    "def Alexnet(img_shape=(64, 64, 3), n_classes=7, l2_reg=0.,\n",
    "\tweights=None):\n",
    "\n",
    "\t# Initialize model\n",
    "\talexnet = Sequential()\n",
    "\n",
    "\t# Layer 1\n",
    "\talexnet.add(Conv2D(24, (5, 5), input_shape=img_shape, strides=2,kernel_regularizer=l2(l2_reg)))\n",
    "\talexnet.add(Activation('relu'))\n",
    "\talexnet.add(LRN(name='layer1_LRN'))\n",
    "\talexnet.add(MaxPooling2D(pool_size=(3, 3),strides=2))\n",
    "\n",
    "\t# Layer 2\n",
    "\talexnet.add(Conv2D(64, (3, 3), padding='same',strides=1,kernel_regularizer=l2(l2_reg)))\n",
    "\talexnet.add(Activation('relu'))\n",
    "\talexnet.add(LRN(name='layer2_LRN'))\n",
    "\n",
    "\t# Layer 3\n",
    "\talexnet.add(Conv2D(96, (3, 3),  strides=1,kernel_regularizer=l2(l2_reg)))\n",
    "\talexnet.add(Activation('relu'))\n",
    "\talexnet.add(LRN(name='layer3_LRN'))\n",
    "\n",
    "\t# Layer 4\n",
    "\talexnet.add(Conv2D(96, (3, 3), padding='same'))\n",
    "\talexnet.add(Activation('relu'))\n",
    "\talexnet.add(LRN(name='layer4_LRN'))\n",
    "\n",
    "\t# Layer 5\n",
    "\talexnet.add(Conv2D(64, (3, 3)))\n",
    "\talexnet.add(Activation('relu'))\n",
    "\talexnet.add(LRN(name='layer5_LRN'))\n",
    "\talexnet.add(MaxPooling2D(pool_size=(3, 3),strides=2))\n",
    "\n",
    "\t# Layer 6\n",
    "\talexnet.add(Flatten())\n",
    "\talexnet.add(Dense(256,kernel_regularizer=l2(l2_reg)))\n",
    "\n",
    "\talexnet.add(Activation('relu'))\n",
    "\talexnet.add(Dropout(0.5))\n",
    "\n",
    "\t# Layer 7\n",
    "\talexnet.add(Dense(256,kernel_regularizer=l2(l2_reg)))\n",
    "\talexnet.add(Activation('relu'))\n",
    "\talexnet.add(Dropout(0.5))\n",
    "\n",
    "\t# Layer 8\n",
    "\talexnet.add(Dense(n_classes))\n",
    "\talexnet.add(Activation('softmax'))\n",
    "\n",
    "\tif weights is not None:\n",
    "\t\talexnet.load_weights(weights)\n",
    "\n",
    "\treturn alexnet"
   ]
  },
  {
   "cell_type": "code",
   "execution_count": 0,
   "metadata": {
    "colab": {},
    "colab_type": "code",
    "id": "6BGhZH2FcL4S"
   },
   "outputs": [],
   "source": [
    "#내 데이터 맞춤형 모형\n",
    "model = Alexnet(img_shape=(64, 64, 3), n_classes=7, l2_reg=0.,weights=None)"
   ]
  },
  {
   "cell_type": "code",
   "execution_count": 0,
   "metadata": {
    "colab": {
     "base_uri": "https://localhost:8080/",
     "height": 1000
    },
    "colab_type": "code",
    "executionInfo": {
     "elapsed": 1011,
     "status": "ok",
     "timestamp": 1583300706259,
     "user": {
      "displayName": "‍이동규[ 대학원석사과정재학 / 통계학과 ]",
      "photoUrl": "",
      "userId": "08134145419451519269"
     },
     "user_tz": -540
    },
    "id": "TKsFtx5-b_PS",
    "outputId": "13fa046b-096c-4236-9826-b047e7a22f0f",
    "scrolled": true
   },
   "outputs": [
    {
     "name": "stdout",
     "output_type": "stream",
     "text": [
      "Model: \"sequential_1\"\n",
      "_________________________________________________________________\n",
      "Layer (type)                 Output Shape              Param #   \n",
      "=================================================================\n",
      "conv2d_5 (Conv2D)            (None, 30, 30, 24)        1824      \n",
      "_________________________________________________________________\n",
      "activation_8 (Activation)    (None, 30, 30, 24)        0         \n",
      "_________________________________________________________________\n",
      "layer1_LRN (LRN)             (None, 30, 30, 24)        0         \n",
      "_________________________________________________________________\n",
      "max_pooling2d_3 (MaxPooling2 (None, 14, 14, 24)        0         \n",
      "_________________________________________________________________\n",
      "conv2d_6 (Conv2D)            (None, 14, 14, 64)        13888     \n",
      "_________________________________________________________________\n",
      "activation_9 (Activation)    (None, 14, 14, 64)        0         \n",
      "_________________________________________________________________\n",
      "layer2_LRN (LRN)             (None, 14, 14, 64)        0         \n",
      "_________________________________________________________________\n",
      "conv2d_7 (Conv2D)            (None, 12, 12, 96)        55392     \n",
      "_________________________________________________________________\n",
      "activation_10 (Activation)   (None, 12, 12, 96)        0         \n",
      "_________________________________________________________________\n",
      "layer3_LRN (LRN)             (None, 12, 12, 96)        0         \n",
      "_________________________________________________________________\n",
      "conv2d_8 (Conv2D)            (None, 12, 12, 96)        83040     \n",
      "_________________________________________________________________\n",
      "activation_11 (Activation)   (None, 12, 12, 96)        0         \n",
      "_________________________________________________________________\n",
      "layer4_LRN (LRN)             (None, 12, 12, 96)        0         \n",
      "_________________________________________________________________\n",
      "conv2d_9 (Conv2D)            (None, 10, 10, 64)        55360     \n",
      "_________________________________________________________________\n",
      "activation_12 (Activation)   (None, 10, 10, 64)        0         \n",
      "_________________________________________________________________\n",
      "layer5_LRN (LRN)             (None, 10, 10, 64)        0         \n",
      "_________________________________________________________________\n",
      "max_pooling2d_4 (MaxPooling2 (None, 4, 4, 64)          0         \n",
      "_________________________________________________________________\n",
      "flatten_1 (Flatten)          (None, 1024)              0         \n",
      "_________________________________________________________________\n",
      "dense_3 (Dense)              (None, 256)               262400    \n",
      "_________________________________________________________________\n",
      "activation_13 (Activation)   (None, 256)               0         \n",
      "_________________________________________________________________\n",
      "dropout_2 (Dropout)          (None, 256)               0         \n",
      "_________________________________________________________________\n",
      "dense_4 (Dense)              (None, 256)               65792     \n",
      "_________________________________________________________________\n",
      "activation_14 (Activation)   (None, 256)               0         \n",
      "_________________________________________________________________\n",
      "dropout_3 (Dropout)          (None, 256)               0         \n",
      "_________________________________________________________________\n",
      "dense_5 (Dense)              (None, 7)                 1799      \n",
      "_________________________________________________________________\n",
      "activation_15 (Activation)   (None, 7)                 0         \n",
      "=================================================================\n",
      "Total params: 539,495\n",
      "Trainable params: 539,495\n",
      "Non-trainable params: 0\n",
      "_________________________________________________________________\n"
     ]
    }
   ],
   "source": [
    "model.summary()"
   ]
  },
  {
   "cell_type": "code",
   "execution_count": 0,
   "metadata": {
    "colab": {},
    "colab_type": "code",
    "id": "ipySpUqSb_TI"
   },
   "outputs": [],
   "source": [
    "# 여기는 학습의 효율을 위해. Adam으로 넘어간다.\n",
    "model.compile(optimizer=tf.keras.optimizers.Adam(lr=0.001), loss='categorical_crossentropy',\n",
    "              metrics=['accuracy',macro_f1score,weighted_f1score])"
   ]
  },
  {
   "cell_type": "code",
   "execution_count": 0,
   "metadata": {
    "colab": {},
    "colab_type": "code",
    "id": "SSlrXTG57Ro2"
   },
   "outputs": [],
   "source": [
    "early_stopping = EarlyStopping(monitor='val_macro_f1score',patience=3,verbose=1,mode='max')"
   ]
  },
  {
   "cell_type": "code",
   "execution_count": 0,
   "metadata": {
    "colab": {
     "base_uri": "https://localhost:8080/",
     "height": 811
    },
    "colab_type": "code",
    "executionInfo": {
     "elapsed": 539252,
     "status": "ok",
     "timestamp": 1583301246448,
     "user": {
      "displayName": "‍이동규[ 대학원석사과정재학 / 통계학과 ]",
      "photoUrl": "",
      "userId": "08134145419451519269"
     },
     "user_tz": -540
    },
    "id": "xCrOgpYza35L",
    "outputId": "1132970e-09bd-4fe4-d179-2b5dca9e8466",
    "scrolled": false
   },
   "outputs": [
    {
     "name": "stdout",
     "output_type": "stream",
     "text": [
      "WARNING:tensorflow:sample_weight modes were coerced from\n",
      "  ...\n",
      "    to  \n",
      "  ['...']\n",
      "WARNING:tensorflow:sample_weight modes were coerced from\n",
      "  ...\n",
      "    to  \n",
      "  ['...']\n",
      "Train for 224.203125 steps, validate for 28.0390625 steps\n",
      "Epoch 1/100\n",
      "225/224 [==============================] - 40s 180ms/step - loss: 1.8275 - accuracy: 0.2445 - macro_f1score: 1.1318e-04 - weighted_f1score: 2.8294e-05 - val_loss: 1.8759 - val_accuracy: 0.2449 - val_macro_f1score: 0.0000e+00 - val_weighted_f1score: 0.0000e+00\n",
      "Epoch 2/100\n",
      "225/224 [==============================] - 33s 145ms/step - loss: 1.8103 - accuracy: 0.2521 - macro_f1score: 1.8599e-04 - weighted_f1score: 2.7407e-05 - val_loss: 1.8533 - val_accuracy: 0.2513 - val_macro_f1score: 0.0000e+00 - val_weighted_f1score: 0.0000e+00\n",
      "Epoch 3/100\n",
      "225/224 [==============================] - 33s 145ms/step - loss: 1.7846 - accuracy: 0.2574 - macro_f1score: 0.0011 - weighted_f1score: 1.2574e-04 - val_loss: 1.7867 - val_accuracy: 0.2937 - val_macro_f1score: 0.0058 - val_weighted_f1score: 6.8769e-04\n",
      "Epoch 4/100\n",
      "225/224 [==============================] - 33s 146ms/step - loss: 1.7388 - accuracy: 0.2857 - macro_f1score: 0.0258 - weighted_f1score: 0.0029 - val_loss: 1.7354 - val_accuracy: 0.3210 - val_macro_f1score: 0.0277 - val_weighted_f1score: 0.0031\n",
      "Epoch 5/100\n",
      "225/224 [==============================] - 33s 149ms/step - loss: 1.6807 - accuracy: 0.3249 - macro_f1score: 0.0656 - weighted_f1score: 0.0102 - val_loss: 1.6321 - val_accuracy: 0.3795 - val_macro_f1score: 0.1331 - val_weighted_f1score: 0.0258\n",
      "Epoch 6/100\n",
      "225/224 [==============================] - 33s 147ms/step - loss: 1.6105 - accuracy: 0.3635 - macro_f1score: 0.1163 - weighted_f1score: 0.0217 - val_loss: 1.5655 - val_accuracy: 0.4177 - val_macro_f1score: 0.1653 - val_weighted_f1score: 0.0304\n",
      "Epoch 7/100\n",
      "225/224 [==============================] - 32s 142ms/step - loss: 1.5458 - accuracy: 0.3984 - macro_f1score: 0.1382 - weighted_f1score: 0.0262 - val_loss: 1.5282 - val_accuracy: 0.4313 - val_macro_f1score: 0.1532 - val_weighted_f1score: 0.0281\n",
      "Epoch 8/100\n",
      "225/224 [==============================] - 33s 144ms/step - loss: 1.4960 - accuracy: 0.4150 - macro_f1score: 0.1632 - weighted_f1score: 0.0306 - val_loss: 1.4776 - val_accuracy: 0.4572 - val_macro_f1score: 0.1721 - val_weighted_f1score: 0.0316\n",
      "Epoch 9/100\n",
      "225/224 [==============================] - 34s 149ms/step - loss: 1.4473 - accuracy: 0.4408 - macro_f1score: 0.1842 - weighted_f1score: 0.0343 - val_loss: 1.4254 - val_accuracy: 0.4840 - val_macro_f1score: 0.1997 - val_weighted_f1score: 0.0378\n",
      "Epoch 10/100\n",
      "225/224 [==============================] - 35s 154ms/step - loss: 1.4072 - accuracy: 0.4578 - macro_f1score: 0.2049 - weighted_f1score: 0.0379 - val_loss: 1.4055 - val_accuracy: 0.4915 - val_macro_f1score: 0.2373 - val_weighted_f1score: 0.0434\n",
      "Epoch 11/100\n",
      "225/224 [==============================] - 34s 152ms/step - loss: 1.3808 - accuracy: 0.4715 - macro_f1score: 0.2160 - weighted_f1score: 0.0399 - val_loss: 1.3660 - val_accuracy: 0.5054 - val_macro_f1score: 0.2469 - val_weighted_f1score: 0.0446\n",
      "Epoch 12/100\n",
      "225/224 [==============================] - 33s 149ms/step - loss: 1.3519 - accuracy: 0.4824 - macro_f1score: 0.2345 - weighted_f1score: 0.0428 - val_loss: 1.3075 - val_accuracy: 0.5305 - val_macro_f1score: 0.2642 - val_weighted_f1score: 0.0480\n",
      "Epoch 13/100\n",
      "225/224 [==============================] - 33s 146ms/step - loss: 1.3234 - accuracy: 0.4947 - macro_f1score: 0.2500 - weighted_f1score: 0.0454 - val_loss: 1.3287 - val_accuracy: 0.5180 - val_macro_f1score: 0.2938 - val_weighted_f1score: 0.0524\n",
      "Epoch 14/100\n",
      "225/224 [==============================] - 33s 149ms/step - loss: 1.3041 - accuracy: 0.5016 - macro_f1score: 0.2601 - weighted_f1score: 0.0471 - val_loss: 1.3244 - val_accuracy: 0.5261 - val_macro_f1score: 0.2601 - val_weighted_f1score: 0.0467\n",
      "Epoch 15/100\n",
      "225/224 [==============================] - 34s 150ms/step - loss: 1.2849 - accuracy: 0.5143 - macro_f1score: 0.2716 - weighted_f1score: 0.0492 - val_loss: 1.2822 - val_accuracy: 0.5375 - val_macro_f1score: 0.2838 - val_weighted_f1score: 0.0512\n",
      "Epoch 16/100\n",
      "225/224 [==============================] - 33s 147ms/step - loss: 1.2699 - accuracy: 0.5169 - macro_f1score: 0.2794 - weighted_f1score: 0.0505 - val_loss: 1.2928 - val_accuracy: 0.5336 - val_macro_f1score: 0.2905 - val_weighted_f1score: 0.0519\n",
      "Epoch 00016: early stopping\n"
     ]
    },
    {
     "data": {
      "text/plain": [
       "<tensorflow.python.keras.callbacks.History at 0x7f71bc4124e0>"
      ]
     },
     "execution_count": 34,
     "metadata": {
      "tags": []
     },
     "output_type": "execute_result"
    }
   ],
   "source": [
    "# early stopping \n",
    "model.fit(datagen.flow(x_train_zoom,y_train,batch_size=128), steps_per_epoch=len(x_train)/128, validation_data= xy_valid_zoom_gen, validation_steps=len(x_valid_zoom)/128, epochs=100, callbacks=[early_stopping]) "
   ]
  },
  {
   "cell_type": "code",
   "execution_count": 0,
   "metadata": {
    "colab": {
     "base_uri": "https://localhost:8080/",
     "height": 71
    },
    "colab_type": "code",
    "executionInfo": {
     "elapsed": 539193,
     "status": "ok",
     "timestamp": 1583301247101,
     "user": {
      "displayName": "‍이동규[ 대학원석사과정재학 / 통계학과 ]",
      "photoUrl": "",
      "userId": "08134145419451519269"
     },
     "user_tz": -540
    },
    "id": "tx4jkpqMagld",
    "outputId": "c6916241-cbf4-4caa-e0c4-45d4ce89c45e",
    "scrolled": true
   },
   "outputs": [
    {
     "name": "stdout",
     "output_type": "stream",
     "text": [
      "3588/3588 [==============================] - 1s 197us/sample - loss: 1.2379 - accuracy: 0.5309 - macro_f1score: 0.2963 - weighted_f1score: 0.0523\n",
      "\n",
      "Accuracy: 0.5309, Macro F1 Score: 0.2963, Weighted F1 Score: 0.0523\n"
     ]
    }
   ],
   "source": [
    "_, acc, mac_f1, wei_f1 = model.evaluate(x_test_zoom,y_test,batch_size=128)\n",
    "print(\"\\nAccuracy: {:.4f}, Macro F1 Score: {:.4f}, Weighted F1 Score: {:.4f}\".format(acc,mac_f1,wei_f1))"
   ]
  },
  {
   "cell_type": "markdown",
   "metadata": {
    "colab_type": "text",
    "id": "AZulQOln5OFK"
   },
   "source": [
    "### 4) Size = 48"
   ]
  },
  {
   "cell_type": "code",
   "execution_count": 0,
   "metadata": {
    "colab": {},
    "colab_type": "code",
    "id": "awn16_7N5OFM"
   },
   "outputs": [],
   "source": [
    "# 다음의 절차로 모형을 개조한다.\n",
    "\n",
    "# 1. 227의 대략 1/4 연산인 64로 이미지사이즈를 재조정한다.\n",
    "# 2. 모수와 관련이 가장 깊은 fc층에서, 기존의 4096개의 노드를 1/16 (비율) 배 만큼, 즉 256개로줄인다.\n",
    "# 3. 다음과 같이 모형을 재구성한다.\n",
    "\n",
    "# convolution layer\n",
    "# 입력 : 64x64x1\n",
    "# 첫번째 층 : 5x5 필터 24장, strides = 2 -> maxpooling 3x3 , stirdes = 2   ===> 10 x 10 x 24 feature map\n",
    "# 두번째 층 : 3x3 필터 64장, strides = 1, padding = \"same\"                 ===> 14 x 14 x 64 feature map\n",
    "# 세번째 층 : 3x3 필터 96장, strides = 1                                   ===> 12 x 12 x 96 feature map\n",
    "# 네번째 층 : 3x3 필터 96장, strides = 1, padding = \"same\"                 ===> 12 x 12 x 96 feature map\n",
    "# 다섯째 층 : 3x3 필터 64장, strides = 1 -> maxpooling 3x3 , strides = 2   ===> 4 x 4 x 64 feature map\n",
    "\n",
    "# fc layer\n",
    "# 여섯째 층 : 노드 256개, dropout = 0.5\n",
    "# 일곱째 층 : 노드 256개, dropout = 0.5\n",
    "# 여덟째 층 : 노드 7개\n",
    "\n",
    "\n",
    "\n",
    "def Alexnet(img_shape=(48, 48, 3), n_classes=7, l2_reg=0., weights=None):\n",
    "\n",
    "\t# Initialize model\n",
    "\talexnet = Sequential()\n",
    "\n",
    "\n",
    "\t# Layer 1\n",
    "\talexnet.add(Conv2D(24, (5, 5), input_shape=img_shape, strides=2,kernel_regularizer=l2(l2_reg)))\n",
    "\talexnet.add(Activation('relu'))\n",
    "\talexnet.add(LRN(name='layer1_LRN'))\n",
    "\talexnet.add(MaxPooling2D(pool_size=(3, 3),strides=2))\n",
    "\n",
    "\t# Layer 2\n",
    "\talexnet.add(Conv2D(64, (3, 3), padding='same',strides=1,kernel_regularizer=l2(l2_reg)))\n",
    "\talexnet.add(Activation('relu'))\n",
    "\talexnet.add(LRN(name='layer2_LRN'))\n",
    "\n",
    "\t# Layer 3\n",
    "\talexnet.add(Conv2D(96, (3, 3),  strides=1,kernel_regularizer=l2(l2_reg)))\n",
    "\talexnet.add(Activation('relu'))\n",
    "\talexnet.add(LRN(name='layer3_LRN'))\n",
    "\n",
    "\t# Layer 4\n",
    "\talexnet.add(Conv2D(96, (3, 3), padding='same'))\n",
    "\talexnet.add(Activation('relu'))\n",
    "\talexnet.add(LRN(name='layer4_LRN'))\n",
    "\n",
    "\t# Layer 5\n",
    "\talexnet.add(Conv2D(64, (3, 3)))\n",
    "\talexnet.add(Activation('relu'))\n",
    "\talexnet.add(LRN(name='layer5_LRN'))\n",
    "\talexnet.add(MaxPooling2D(pool_size=(3, 3),strides=2))\n",
    "\n",
    "\t# Layer 6\n",
    "\talexnet.add(Flatten())\n",
    "\talexnet.add(Dense(256,kernel_regularizer=l2(l2_reg)))\n",
    "\n",
    "\talexnet.add(Activation('relu'))\n",
    "\talexnet.add(Dropout(0.5))\n",
    "\n",
    "\t# Layer 7\n",
    "\talexnet.add(Dense(256,kernel_regularizer=l2(l2_reg)))\n",
    "\talexnet.add(Activation('relu'))\n",
    "\talexnet.add(Dropout(0.5))\n",
    "\n",
    "\t# Layer 8\n",
    "\talexnet.add(Dense(n_classes))\n",
    "\talexnet.add(Activation('softmax'))\n",
    "\n",
    "\tif weights is not None:\n",
    "\t\talexnet.load_weights(weights)\n",
    "\n",
    "\treturn alexnet"
   ]
  },
  {
   "cell_type": "code",
   "execution_count": 0,
   "metadata": {
    "colab": {},
    "colab_type": "code",
    "id": "IpvNZ_S46glS"
   },
   "outputs": [],
   "source": [
    "#내 데이터 맞춤형 모형\n",
    "model = Alexnet(img_shape=(48, 48, 3), n_classes=7, l2_reg=0.,weights=None)"
   ]
  },
  {
   "cell_type": "code",
   "execution_count": 0,
   "metadata": {
    "colab": {
     "base_uri": "https://localhost:8080/",
     "height": 1000
    },
    "colab_type": "code",
    "executionInfo": {
     "elapsed": 534524,
     "status": "ok",
     "timestamp": 1583301247428,
     "user": {
      "displayName": "‍이동규[ 대학원석사과정재학 / 통계학과 ]",
      "photoUrl": "",
      "userId": "08134145419451519269"
     },
     "user_tz": -540
    },
    "id": "MP0_eJO16kYn",
    "outputId": "16a3150d-95aa-4883-91f4-12661034b7a6"
   },
   "outputs": [
    {
     "name": "stdout",
     "output_type": "stream",
     "text": [
      "Model: \"sequential_2\"\n",
      "_________________________________________________________________\n",
      "Layer (type)                 Output Shape              Param #   \n",
      "=================================================================\n",
      "conv2d_10 (Conv2D)           (None, 22, 22, 24)        1824      \n",
      "_________________________________________________________________\n",
      "activation_16 (Activation)   (None, 22, 22, 24)        0         \n",
      "_________________________________________________________________\n",
      "layer1_LRN (LRN)             (None, 22, 22, 24)        0         \n",
      "_________________________________________________________________\n",
      "max_pooling2d_5 (MaxPooling2 (None, 10, 10, 24)        0         \n",
      "_________________________________________________________________\n",
      "conv2d_11 (Conv2D)           (None, 10, 10, 64)        13888     \n",
      "_________________________________________________________________\n",
      "activation_17 (Activation)   (None, 10, 10, 64)        0         \n",
      "_________________________________________________________________\n",
      "layer2_LRN (LRN)             (None, 10, 10, 64)        0         \n",
      "_________________________________________________________________\n",
      "conv2d_12 (Conv2D)           (None, 8, 8, 96)          55392     \n",
      "_________________________________________________________________\n",
      "activation_18 (Activation)   (None, 8, 8, 96)          0         \n",
      "_________________________________________________________________\n",
      "layer3_LRN (LRN)             (None, 8, 8, 96)          0         \n",
      "_________________________________________________________________\n",
      "conv2d_13 (Conv2D)           (None, 8, 8, 96)          83040     \n",
      "_________________________________________________________________\n",
      "activation_19 (Activation)   (None, 8, 8, 96)          0         \n",
      "_________________________________________________________________\n",
      "layer4_LRN (LRN)             (None, 8, 8, 96)          0         \n",
      "_________________________________________________________________\n",
      "conv2d_14 (Conv2D)           (None, 6, 6, 64)          55360     \n",
      "_________________________________________________________________\n",
      "activation_20 (Activation)   (None, 6, 6, 64)          0         \n",
      "_________________________________________________________________\n",
      "layer5_LRN (LRN)             (None, 6, 6, 64)          0         \n",
      "_________________________________________________________________\n",
      "max_pooling2d_6 (MaxPooling2 (None, 2, 2, 64)          0         \n",
      "_________________________________________________________________\n",
      "flatten_2 (Flatten)          (None, 256)               0         \n",
      "_________________________________________________________________\n",
      "dense_6 (Dense)              (None, 256)               65792     \n",
      "_________________________________________________________________\n",
      "activation_21 (Activation)   (None, 256)               0         \n",
      "_________________________________________________________________\n",
      "dropout_4 (Dropout)          (None, 256)               0         \n",
      "_________________________________________________________________\n",
      "dense_7 (Dense)              (None, 256)               65792     \n",
      "_________________________________________________________________\n",
      "activation_22 (Activation)   (None, 256)               0         \n",
      "_________________________________________________________________\n",
      "dropout_5 (Dropout)          (None, 256)               0         \n",
      "_________________________________________________________________\n",
      "dense_8 (Dense)              (None, 7)                 1799      \n",
      "_________________________________________________________________\n",
      "activation_23 (Activation)   (None, 7)                 0         \n",
      "=================================================================\n",
      "Total params: 342,887\n",
      "Trainable params: 342,887\n",
      "Non-trainable params: 0\n",
      "_________________________________________________________________\n"
     ]
    }
   ],
   "source": [
    "model.summary()"
   ]
  },
  {
   "cell_type": "code",
   "execution_count": 0,
   "metadata": {
    "colab": {},
    "colab_type": "code",
    "id": "fgvI2ih45OFP"
   },
   "outputs": [],
   "source": [
    "# 여기는 학습의 효율을 위해. Adam으로 넘어간다.\n",
    "model.compile(optimizer=tf.keras.optimizers.Adam(lr=0.001), loss='categorical_crossentropy',\n",
    "              metrics=['accuracy',macro_f1score,weighted_f1score])"
   ]
  },
  {
   "cell_type": "code",
   "execution_count": 0,
   "metadata": {
    "colab": {},
    "colab_type": "code",
    "id": "GtKWoWXi5OFU"
   },
   "outputs": [],
   "source": [
    "early_stopping = EarlyStopping(monitor='val_macro_f1score',patience=3,verbose=1,mode='max')"
   ]
  },
  {
   "cell_type": "code",
   "execution_count": 0,
   "metadata": {
    "colab": {
     "base_uri": "https://localhost:8080/",
     "height": 1000
    },
    "colab_type": "code",
    "executionInfo": {
     "elapsed": 1172804,
     "status": "ok",
     "timestamp": 1583301887235,
     "user": {
      "displayName": "‍이동규[ 대학원석사과정재학 / 통계학과 ]",
      "photoUrl": "",
      "userId": "08134145419451519269"
     },
     "user_tz": -540
    },
    "id": "WjKY-EtF5OFX",
    "outputId": "2f0492e8-89cd-48f0-d5a4-fa617161845d"
   },
   "outputs": [
    {
     "name": "stdout",
     "output_type": "stream",
     "text": [
      "WARNING:tensorflow:sample_weight modes were coerced from\n",
      "  ...\n",
      "    to  \n",
      "  ['...']\n",
      "WARNING:tensorflow:sample_weight modes were coerced from\n",
      "  ...\n",
      "    to  \n",
      "  ['...']\n",
      "Train for 224.203125 steps, validate for 28.0390625 steps\n",
      "Epoch 1/100\n",
      "225/224 [==============================] - 29s 131ms/step - loss: 1.8256 - accuracy: 0.2454 - macro_f1score: 0.0000e+00 - weighted_f1score: 0.0000e+00 - val_loss: 1.8703 - val_accuracy: 0.2449 - val_macro_f1score: 0.0000e+00 - val_weighted_f1score: 0.0000e+00\n",
      "Epoch 2/100\n",
      "225/224 [==============================] - 26s 115ms/step - loss: 1.8044 - accuracy: 0.2518 - macro_f1score: 0.0000e+00 - weighted_f1score: 0.0000e+00 - val_loss: 1.8436 - val_accuracy: 0.2575 - val_macro_f1score: 0.0000e+00 - val_weighted_f1score: 0.0000e+00\n",
      "Epoch 3/100\n",
      "225/224 [==============================] - 26s 117ms/step - loss: 1.7642 - accuracy: 0.2777 - macro_f1score: 0.0115 - weighted_f1score: 0.0014 - val_loss: 1.7323 - val_accuracy: 0.3218 - val_macro_f1score: 0.0243 - val_weighted_f1score: 0.0028\n",
      "Epoch 4/100\n",
      "225/224 [==============================] - 26s 117ms/step - loss: 1.6617 - accuracy: 0.3399 - macro_f1score: 0.0834 - weighted_f1score: 0.0156 - val_loss: 1.6161 - val_accuracy: 0.3895 - val_macro_f1score: 0.1176 - val_weighted_f1score: 0.0254\n",
      "Epoch 5/100\n",
      "225/224 [==============================] - 26s 116ms/step - loss: 1.5825 - accuracy: 0.3783 - macro_f1score: 0.1269 - weighted_f1score: 0.0245 - val_loss: 1.5159 - val_accuracy: 0.4263 - val_macro_f1score: 0.1718 - val_weighted_f1score: 0.0332\n",
      "Epoch 6/100\n",
      "225/224 [==============================] - 27s 118ms/step - loss: 1.5343 - accuracy: 0.4046 - macro_f1score: 0.1452 - weighted_f1score: 0.0278 - val_loss: 1.4830 - val_accuracy: 0.4489 - val_macro_f1score: 0.1599 - val_weighted_f1score: 0.0322\n",
      "Epoch 7/100\n",
      "225/224 [==============================] - 26s 115ms/step - loss: 1.4927 - accuracy: 0.4228 - macro_f1score: 0.1655 - weighted_f1score: 0.0315 - val_loss: 1.4479 - val_accuracy: 0.4631 - val_macro_f1score: 0.1824 - val_weighted_f1score: 0.0347\n",
      "Epoch 8/100\n",
      "225/224 [==============================] - 26s 114ms/step - loss: 1.4524 - accuracy: 0.4402 - macro_f1score: 0.1824 - weighted_f1score: 0.0345 - val_loss: 1.4149 - val_accuracy: 0.4678 - val_macro_f1score: 0.2259 - val_weighted_f1score: 0.0426\n",
      "Epoch 9/100\n",
      "225/224 [==============================] - 26s 114ms/step - loss: 1.4206 - accuracy: 0.4555 - macro_f1score: 0.2022 - weighted_f1score: 0.0378 - val_loss: 1.3664 - val_accuracy: 0.4876 - val_macro_f1score: 0.2370 - val_weighted_f1score: 0.0445\n",
      "Epoch 10/100\n",
      "225/224 [==============================] - 26s 116ms/step - loss: 1.3916 - accuracy: 0.4693 - macro_f1score: 0.2169 - weighted_f1score: 0.0404 - val_loss: 1.3548 - val_accuracy: 0.4943 - val_macro_f1score: 0.2566 - val_weighted_f1score: 0.0477\n",
      "Epoch 11/100\n",
      "225/224 [==============================] - 26s 114ms/step - loss: 1.3690 - accuracy: 0.4778 - macro_f1score: 0.2295 - weighted_f1score: 0.0422 - val_loss: 1.3671 - val_accuracy: 0.4862 - val_macro_f1score: 0.2506 - val_weighted_f1score: 0.0468\n",
      "Epoch 12/100\n",
      "225/224 [==============================] - 26s 115ms/step - loss: 1.3450 - accuracy: 0.4888 - macro_f1score: 0.2463 - weighted_f1score: 0.0450 - val_loss: 1.3089 - val_accuracy: 0.5121 - val_macro_f1score: 0.2590 - val_weighted_f1score: 0.0483\n",
      "Epoch 13/100\n",
      "225/224 [==============================] - 26s 117ms/step - loss: 1.3316 - accuracy: 0.4960 - macro_f1score: 0.2520 - weighted_f1score: 0.0459 - val_loss: 1.2996 - val_accuracy: 0.5054 - val_macro_f1score: 0.2729 - val_weighted_f1score: 0.0502\n",
      "Epoch 14/100\n",
      "225/224 [==============================] - 26s 116ms/step - loss: 1.3226 - accuracy: 0.4996 - macro_f1score: 0.2587 - weighted_f1score: 0.0470 - val_loss: 1.2673 - val_accuracy: 0.5344 - val_macro_f1score: 0.2929 - val_weighted_f1score: 0.0539\n",
      "Epoch 15/100\n",
      "225/224 [==============================] - 27s 118ms/step - loss: 1.3127 - accuracy: 0.5018 - macro_f1score: 0.2636 - weighted_f1score: 0.0478 - val_loss: 1.2803 - val_accuracy: 0.5146 - val_macro_f1score: 0.2808 - val_weighted_f1score: 0.0516\n",
      "Epoch 16/100\n",
      "225/224 [==============================] - 26s 117ms/step - loss: 1.2976 - accuracy: 0.5130 - macro_f1score: 0.2698 - weighted_f1score: 0.0488 - val_loss: 1.2499 - val_accuracy: 0.5266 - val_macro_f1score: 0.3058 - val_weighted_f1score: 0.0562\n",
      "Epoch 17/100\n",
      "225/224 [==============================] - 27s 118ms/step - loss: 1.2795 - accuracy: 0.5164 - macro_f1score: 0.2861 - weighted_f1score: 0.0515 - val_loss: 1.2789 - val_accuracy: 0.5202 - val_macro_f1score: 0.2876 - val_weighted_f1score: 0.0530\n",
      "Epoch 18/100\n",
      "225/224 [==============================] - 26s 117ms/step - loss: 1.2803 - accuracy: 0.5176 - macro_f1score: 0.2830 - weighted_f1score: 0.0510 - val_loss: 1.2573 - val_accuracy: 0.5300 - val_macro_f1score: 0.3097 - val_weighted_f1score: 0.0566\n",
      "Epoch 19/100\n",
      "225/224 [==============================] - 27s 122ms/step - loss: 1.2698 - accuracy: 0.5240 - macro_f1score: 0.2845 - weighted_f1score: 0.0515 - val_loss: 1.2887 - val_accuracy: 0.5202 - val_macro_f1score: 0.2915 - val_weighted_f1score: 0.0540\n",
      "Epoch 20/100\n",
      "225/224 [==============================] - 28s 126ms/step - loss: 1.2554 - accuracy: 0.5293 - macro_f1score: 0.2949 - weighted_f1score: 0.0531 - val_loss: 1.2287 - val_accuracy: 0.5378 - val_macro_f1score: 0.3059 - val_weighted_f1score: 0.0563\n",
      "Epoch 21/100\n",
      "225/224 [==============================] - 28s 126ms/step - loss: 1.2540 - accuracy: 0.5291 - macro_f1score: 0.2966 - weighted_f1score: 0.0533 - val_loss: 1.2089 - val_accuracy: 0.5503 - val_macro_f1score: 0.3227 - val_weighted_f1score: 0.0589\n",
      "Epoch 22/100\n",
      "225/224 [==============================] - 28s 122ms/step - loss: 1.2443 - accuracy: 0.5332 - macro_f1score: 0.3048 - weighted_f1score: 0.0545 - val_loss: 1.2199 - val_accuracy: 0.5456 - val_macro_f1score: 0.3137 - val_weighted_f1score: 0.0574\n",
      "Epoch 23/100\n",
      "225/224 [==============================] - 27s 121ms/step - loss: 1.2407 - accuracy: 0.5344 - macro_f1score: 0.3063 - weighted_f1score: 0.0548 - val_loss: 1.2136 - val_accuracy: 0.5508 - val_macro_f1score: 0.3136 - val_weighted_f1score: 0.0572\n",
      "Epoch 24/100\n",
      "225/224 [==============================] - 27s 120ms/step - loss: 1.2327 - accuracy: 0.5379 - macro_f1score: 0.3096 - weighted_f1score: 0.0555 - val_loss: 1.2270 - val_accuracy: 0.5391 - val_macro_f1score: 0.3139 - val_weighted_f1score: 0.0570\n",
      "Epoch 00024: early stopping\n"
     ]
    },
    {
     "data": {
      "text/plain": [
       "<tensorflow.python.keras.callbacks.History at 0x7f71bc7ffe10>"
      ]
     },
     "execution_count": 41,
     "metadata": {
      "tags": []
     },
     "output_type": "execute_result"
    }
   ],
   "source": [
    "# early stopping \n",
    "model.fit(datagen.flow(x_train,y_train,batch_size=128), steps_per_epoch=len(x_train)/128, validation_data= xy_valid_gen, validation_steps=len(x_valid)/128, epochs=100, callbacks=[early_stopping]) "
   ]
  },
  {
   "cell_type": "code",
   "execution_count": 0,
   "metadata": {
    "colab": {
     "base_uri": "https://localhost:8080/",
     "height": 71
    },
    "colab_type": "code",
    "executionInfo": {
     "elapsed": 1173006,
     "status": "ok",
     "timestamp": 1583301887888,
     "user": {
      "displayName": "‍이동규[ 대학원석사과정재학 / 통계학과 ]",
      "photoUrl": "",
      "userId": "08134145419451519269"
     },
     "user_tz": -540
    },
    "id": "Gww6lUzt5OFa",
    "outputId": "d5cc113d-9403-4831-ce67-80f5d89a1af4"
   },
   "outputs": [
    {
     "name": "stdout",
     "output_type": "stream",
     "text": [
      "3588/3588 [==============================] - 1s 190us/sample - loss: 1.2257 - accuracy: 0.5284 - macro_f1score: 0.3075 - weighted_f1score: 0.0547\n",
      "\n",
      "Accuracy: 0.5284, Macro F1 Score: 0.3075, Weighted F1 Score: 0.0547\n"
     ]
    }
   ],
   "source": [
    "_, acc, mac_f1, wei_f1 = model.evaluate(x_test,y_test,batch_size=128)\n",
    "print(\"\\nAccuracy: {:.4f}, Macro F1 Score: {:.4f}, Weighted F1 Score: {:.4f}\".format(acc,mac_f1,wei_f1))"
   ]
  },
  {
   "cell_type": "markdown",
   "metadata": {
    "colab_type": "text",
    "id": "fRKo8Wjy7_B4"
   },
   "source": [
    "## 3. Size = 48 , No Early Stopping\n",
    "---"
   ]
  },
  {
   "cell_type": "markdown",
   "metadata": {
    "colab_type": "text",
    "id": "awydQFNZ7_Ep"
   },
   "source": [
    "### 1) Epoch = 50"
   ]
  },
  {
   "cell_type": "code",
   "execution_count": 0,
   "metadata": {
    "colab": {},
    "colab_type": "code",
    "id": "vcWika1_lrH-"
   },
   "outputs": [],
   "source": [
    "### early stopping 없이 ###"
   ]
  },
  {
   "cell_type": "code",
   "execution_count": 0,
   "metadata": {
    "colab": {},
    "colab_type": "code",
    "id": "C9Tc7DsXlrRl"
   },
   "outputs": [],
   "source": [
    "#내 데이터 맞춤형 모형\n",
    "model = Alexnet(img_shape=(48, 48, 3), n_classes=7, l2_reg=0.,weights=None)"
   ]
  },
  {
   "cell_type": "code",
   "execution_count": 0,
   "metadata": {
    "colab": {},
    "colab_type": "code",
    "id": "8pFI8gf8lrV3"
   },
   "outputs": [],
   "source": [
    "# 여기는 학습의 효율을 위해. Adam으로 넘어간다.\n",
    "model.compile(optimizer=tf.keras.optimizers.Adam(lr=0.001), loss='categorical_crossentropy',\n",
    "              metrics=['accuracy',macro_f1score,weighted_f1score])"
   ]
  },
  {
   "cell_type": "code",
   "execution_count": 0,
   "metadata": {
    "colab": {
     "base_uri": "https://localhost:8080/",
     "height": 1000
    },
    "colab_type": "code",
    "executionInfo": {
     "elapsed": 2540461,
     "status": "ok",
     "timestamp": 1583303258456,
     "user": {
      "displayName": "‍이동규[ 대학원석사과정재학 / 통계학과 ]",
      "photoUrl": "",
      "userId": "08134145419451519269"
     },
     "user_tz": -540
    },
    "id": "5GGVdpQ3lrUc",
    "outputId": "987fea04-be49-4f3a-fe1b-66282afa14b3"
   },
   "outputs": [
    {
     "name": "stdout",
     "output_type": "stream",
     "text": [
      "WARNING:tensorflow:sample_weight modes were coerced from\n",
      "  ...\n",
      "    to  \n",
      "  ['...']\n",
      "WARNING:tensorflow:sample_weight modes were coerced from\n",
      "  ...\n",
      "    to  \n",
      "  ['...']\n",
      "Train for 224.203125 steps, validate for 28.0390625 steps\n",
      "Epoch 1/50\n",
      "225/224 [==============================] - 29s 131ms/step - loss: 1.8271 - accuracy: 0.2467 - macro_f1score: 0.0000e+00 - weighted_f1score: 0.0000e+00 - val_loss: 1.8755 - val_accuracy: 0.2449 - val_macro_f1score: 0.0000e+00 - val_weighted_f1score: 0.0000e+00\n",
      "Epoch 2/50\n",
      "225/224 [==============================] - 27s 120ms/step - loss: 1.8154 - accuracy: 0.2514 - macro_f1score: 0.0000e+00 - weighted_f1score: 0.0000e+00 - val_loss: 1.8642 - val_accuracy: 0.2449 - val_macro_f1score: 0.0000e+00 - val_weighted_f1score: 0.0000e+00\n",
      "Epoch 3/50\n",
      "225/224 [==============================] - 27s 121ms/step - loss: 1.8047 - accuracy: 0.2512 - macro_f1score: 0.0000e+00 - weighted_f1score: 0.0000e+00 - val_loss: 1.8411 - val_accuracy: 0.2449 - val_macro_f1score: 0.0000e+00 - val_weighted_f1score: 0.0000e+00\n",
      "Epoch 4/50\n",
      "225/224 [==============================] - 27s 121ms/step - loss: 1.7722 - accuracy: 0.2648 - macro_f1score: 0.0091 - weighted_f1score: 0.0010 - val_loss: 1.7668 - val_accuracy: 0.2953 - val_macro_f1score: 0.0430 - val_weighted_f1score: 0.0050\n",
      "Epoch 5/50\n",
      "225/224 [==============================] - 27s 121ms/step - loss: 1.7143 - accuracy: 0.3049 - macro_f1score: 0.0417 - weighted_f1score: 0.0052 - val_loss: 1.6945 - val_accuracy: 0.3410 - val_macro_f1score: 0.1051 - val_weighted_f1score: 0.0173\n",
      "Epoch 6/50\n",
      "225/224 [==============================] - 27s 122ms/step - loss: 1.6511 - accuracy: 0.3412 - macro_f1score: 0.0944 - weighted_f1score: 0.0173 - val_loss: 1.6229 - val_accuracy: 0.3823 - val_macro_f1score: 0.1208 - val_weighted_f1score: 0.0216\n",
      "Epoch 7/50\n",
      "225/224 [==============================] - 27s 120ms/step - loss: 1.6056 - accuracy: 0.3688 - macro_f1score: 0.1185 - weighted_f1score: 0.0223 - val_loss: 1.5889 - val_accuracy: 0.4074 - val_macro_f1score: 0.1164 - val_weighted_f1score: 0.0227\n",
      "Epoch 8/50\n",
      "225/224 [==============================] - 27s 121ms/step - loss: 1.5683 - accuracy: 0.3873 - macro_f1score: 0.1319 - weighted_f1score: 0.0250 - val_loss: 1.5453 - val_accuracy: 0.4140 - val_macro_f1score: 0.1329 - val_weighted_f1score: 0.0247\n",
      "Epoch 9/50\n",
      "225/224 [==============================] - 27s 122ms/step - loss: 1.5472 - accuracy: 0.3977 - macro_f1score: 0.1380 - weighted_f1score: 0.0261 - val_loss: 1.4960 - val_accuracy: 0.4363 - val_macro_f1score: 0.1702 - val_weighted_f1score: 0.0322\n",
      "Epoch 10/50\n",
      "225/224 [==============================] - 27s 120ms/step - loss: 1.5210 - accuracy: 0.4080 - macro_f1score: 0.1498 - weighted_f1score: 0.0283 - val_loss: 1.4901 - val_accuracy: 0.4450 - val_macro_f1score: 0.1580 - val_weighted_f1score: 0.0304\n",
      "Epoch 11/50\n",
      "225/224 [==============================] - 27s 122ms/step - loss: 1.5025 - accuracy: 0.4206 - macro_f1score: 0.1615 - weighted_f1score: 0.0302 - val_loss: 1.5005 - val_accuracy: 0.4450 - val_macro_f1score: 0.1585 - val_weighted_f1score: 0.0292\n",
      "Epoch 12/50\n",
      "225/224 [==============================] - 27s 122ms/step - loss: 1.4849 - accuracy: 0.4272 - macro_f1score: 0.1657 - weighted_f1score: 0.0313 - val_loss: 1.4513 - val_accuracy: 0.4631 - val_macro_f1score: 0.1759 - val_weighted_f1score: 0.0327\n",
      "Epoch 13/50\n",
      "225/224 [==============================] - 28s 123ms/step - loss: 1.4706 - accuracy: 0.4362 - macro_f1score: 0.1758 - weighted_f1score: 0.0328 - val_loss: 1.4474 - val_accuracy: 0.4614 - val_macro_f1score: 0.2054 - val_weighted_f1score: 0.0376\n",
      "Epoch 14/50\n",
      "225/224 [==============================] - 28s 123ms/step - loss: 1.4576 - accuracy: 0.4399 - macro_f1score: 0.1816 - weighted_f1score: 0.0338 - val_loss: 1.4205 - val_accuracy: 0.4675 - val_macro_f1score: 0.2136 - val_weighted_f1score: 0.0403\n",
      "Epoch 15/50\n",
      "225/224 [==============================] - 27s 122ms/step - loss: 1.4381 - accuracy: 0.4462 - macro_f1score: 0.1881 - weighted_f1score: 0.0349 - val_loss: 1.3963 - val_accuracy: 0.4728 - val_macro_f1score: 0.2150 - val_weighted_f1score: 0.0400\n",
      "Epoch 16/50\n",
      "225/224 [==============================] - 27s 122ms/step - loss: 1.4265 - accuracy: 0.4577 - macro_f1score: 0.1998 - weighted_f1score: 0.0366 - val_loss: 1.4209 - val_accuracy: 0.4681 - val_macro_f1score: 0.2057 - val_weighted_f1score: 0.0376\n",
      "Epoch 17/50\n",
      "225/224 [==============================] - 28s 123ms/step - loss: 1.4133 - accuracy: 0.4575 - macro_f1score: 0.2054 - weighted_f1score: 0.0378 - val_loss: 1.3929 - val_accuracy: 0.4739 - val_macro_f1score: 0.2214 - val_weighted_f1score: 0.0404\n",
      "Epoch 18/50\n",
      "225/224 [==============================] - 27s 121ms/step - loss: 1.4059 - accuracy: 0.4642 - macro_f1score: 0.2097 - weighted_f1score: 0.0386 - val_loss: 1.3824 - val_accuracy: 0.4739 - val_macro_f1score: 0.2054 - val_weighted_f1score: 0.0385\n",
      "Epoch 19/50\n",
      "225/224 [==============================] - 27s 122ms/step - loss: 1.4011 - accuracy: 0.4638 - macro_f1score: 0.2127 - weighted_f1score: 0.0390 - val_loss: 1.3688 - val_accuracy: 0.4862 - val_macro_f1score: 0.2181 - val_weighted_f1score: 0.0409\n",
      "Epoch 20/50\n",
      "225/224 [==============================] - 27s 122ms/step - loss: 1.3872 - accuracy: 0.4708 - macro_f1score: 0.2192 - weighted_f1score: 0.0402 - val_loss: 1.3727 - val_accuracy: 0.4787 - val_macro_f1score: 0.2301 - val_weighted_f1score: 0.0425\n",
      "Epoch 21/50\n",
      "225/224 [==============================] - 27s 122ms/step - loss: 1.3836 - accuracy: 0.4730 - macro_f1score: 0.2225 - weighted_f1score: 0.0406 - val_loss: 1.3569 - val_accuracy: 0.4845 - val_macro_f1score: 0.2338 - val_weighted_f1score: 0.0429\n",
      "Epoch 22/50\n",
      "225/224 [==============================] - 28s 123ms/step - loss: 1.3754 - accuracy: 0.4757 - macro_f1score: 0.2260 - weighted_f1score: 0.0413 - val_loss: 1.3634 - val_accuracy: 0.4918 - val_macro_f1score: 0.2316 - val_weighted_f1score: 0.0424\n",
      "Epoch 23/50\n",
      "225/224 [==============================] - 28s 122ms/step - loss: 1.3738 - accuracy: 0.4771 - macro_f1score: 0.2313 - weighted_f1score: 0.0420 - val_loss: 1.3489 - val_accuracy: 0.4887 - val_macro_f1score: 0.2513 - val_weighted_f1score: 0.0465\n",
      "Epoch 24/50\n",
      "225/224 [==============================] - 28s 123ms/step - loss: 1.3571 - accuracy: 0.4830 - macro_f1score: 0.2340 - weighted_f1score: 0.0428 - val_loss: 1.3326 - val_accuracy: 0.5052 - val_macro_f1score: 0.2487 - val_weighted_f1score: 0.0467\n",
      "Epoch 25/50\n",
      "225/224 [==============================] - 28s 123ms/step - loss: 1.3557 - accuracy: 0.4862 - macro_f1score: 0.2379 - weighted_f1score: 0.0434 - val_loss: 1.3178 - val_accuracy: 0.5029 - val_macro_f1score: 0.2522 - val_weighted_f1score: 0.0468\n",
      "Epoch 26/50\n",
      "225/224 [==============================] - 27s 121ms/step - loss: 1.3441 - accuracy: 0.4898 - macro_f1score: 0.2426 - weighted_f1score: 0.0441 - val_loss: 1.3252 - val_accuracy: 0.4923 - val_macro_f1score: 0.2462 - val_weighted_f1score: 0.0456\n",
      "Epoch 27/50\n",
      "225/224 [==============================] - 28s 123ms/step - loss: 1.3405 - accuracy: 0.4924 - macro_f1score: 0.2439 - weighted_f1score: 0.0444 - val_loss: 1.3274 - val_accuracy: 0.5032 - val_macro_f1score: 0.2641 - val_weighted_f1score: 0.0491\n",
      "Epoch 28/50\n",
      "225/224 [==============================] - 28s 123ms/step - loss: 1.3372 - accuracy: 0.4916 - macro_f1score: 0.2462 - weighted_f1score: 0.0448 - val_loss: 1.3142 - val_accuracy: 0.5079 - val_macro_f1score: 0.2705 - val_weighted_f1score: 0.0499\n",
      "Epoch 29/50\n",
      "225/224 [==============================] - 27s 122ms/step - loss: 1.3275 - accuracy: 0.4934 - macro_f1score: 0.2545 - weighted_f1score: 0.0460 - val_loss: 1.2893 - val_accuracy: 0.5082 - val_macro_f1score: 0.2728 - val_weighted_f1score: 0.0508\n",
      "Epoch 30/50\n",
      "225/224 [==============================] - 27s 122ms/step - loss: 1.3186 - accuracy: 0.5020 - macro_f1score: 0.2560 - weighted_f1score: 0.0464 - val_loss: 1.2955 - val_accuracy: 0.5085 - val_macro_f1score: 0.2635 - val_weighted_f1score: 0.0485\n",
      "Epoch 31/50\n",
      "225/224 [==============================] - 27s 121ms/step - loss: 1.3093 - accuracy: 0.5042 - macro_f1score: 0.2627 - weighted_f1score: 0.0476 - val_loss: 1.2945 - val_accuracy: 0.5116 - val_macro_f1score: 0.2653 - val_weighted_f1score: 0.0489\n",
      "Epoch 32/50\n",
      "225/224 [==============================] - 27s 121ms/step - loss: 1.3032 - accuracy: 0.5100 - macro_f1score: 0.2686 - weighted_f1score: 0.0483 - val_loss: 1.2872 - val_accuracy: 0.5104 - val_macro_f1score: 0.2599 - val_weighted_f1score: 0.0479\n",
      "Epoch 33/50\n",
      "225/224 [==============================] - 27s 122ms/step - loss: 1.2924 - accuracy: 0.5127 - macro_f1score: 0.2752 - weighted_f1score: 0.0494 - val_loss: 1.3011 - val_accuracy: 0.5130 - val_macro_f1score: 0.2777 - val_weighted_f1score: 0.0519\n",
      "Epoch 34/50\n",
      "225/224 [==============================] - 27s 121ms/step - loss: 1.2999 - accuracy: 0.5104 - macro_f1score: 0.2673 - weighted_f1score: 0.0484 - val_loss: 1.2692 - val_accuracy: 0.5241 - val_macro_f1score: 0.2750 - val_weighted_f1score: 0.0509\n",
      "Epoch 35/50\n",
      "225/224 [==============================] - 27s 122ms/step - loss: 1.2860 - accuracy: 0.5116 - macro_f1score: 0.2784 - weighted_f1score: 0.0499 - val_loss: 1.2844 - val_accuracy: 0.5202 - val_macro_f1score: 0.2629 - val_weighted_f1score: 0.0479\n",
      "Epoch 36/50\n",
      "225/224 [==============================] - 27s 121ms/step - loss: 1.2854 - accuracy: 0.5149 - macro_f1score: 0.2756 - weighted_f1score: 0.0497 - val_loss: 1.2937 - val_accuracy: 0.5171 - val_macro_f1score: 0.2898 - val_weighted_f1score: 0.0522\n",
      "Epoch 37/50\n",
      "225/224 [==============================] - 27s 121ms/step - loss: 1.2811 - accuracy: 0.5154 - macro_f1score: 0.2791 - weighted_f1score: 0.0501 - val_loss: 1.2628 - val_accuracy: 0.5216 - val_macro_f1score: 0.2956 - val_weighted_f1score: 0.0539\n",
      "Epoch 38/50\n",
      "225/224 [==============================] - 27s 121ms/step - loss: 1.2740 - accuracy: 0.5207 - macro_f1score: 0.2860 - weighted_f1score: 0.0512 - val_loss: 1.2621 - val_accuracy: 0.5355 - val_macro_f1score: 0.2845 - val_weighted_f1score: 0.0522\n",
      "Epoch 39/50\n",
      "225/224 [==============================] - 27s 122ms/step - loss: 1.2701 - accuracy: 0.5221 - macro_f1score: 0.2873 - weighted_f1score: 0.0515 - val_loss: 1.2664 - val_accuracy: 0.5185 - val_macro_f1score: 0.2893 - val_weighted_f1score: 0.0529\n",
      "Epoch 40/50\n",
      "225/224 [==============================] - 27s 121ms/step - loss: 1.2665 - accuracy: 0.5222 - macro_f1score: 0.2863 - weighted_f1score: 0.0513 - val_loss: 1.2565 - val_accuracy: 0.5261 - val_macro_f1score: 0.2764 - val_weighted_f1score: 0.0505\n",
      "Epoch 41/50\n",
      "225/224 [==============================] - 27s 122ms/step - loss: 1.2618 - accuracy: 0.5214 - macro_f1score: 0.2904 - weighted_f1score: 0.0521 - val_loss: 1.2503 - val_accuracy: 0.5302 - val_macro_f1score: 0.3013 - val_weighted_f1score: 0.0553\n",
      "Epoch 42/50\n",
      "225/224 [==============================] - 27s 121ms/step - loss: 1.2573 - accuracy: 0.5223 - macro_f1score: 0.2960 - weighted_f1score: 0.0529 - val_loss: 1.2492 - val_accuracy: 0.5361 - val_macro_f1score: 0.3324 - val_weighted_f1score: 0.0603\n",
      "Epoch 43/50\n",
      "225/224 [==============================] - 27s 121ms/step - loss: 1.2554 - accuracy: 0.5258 - macro_f1score: 0.2983 - weighted_f1score: 0.0531 - val_loss: 1.2424 - val_accuracy: 0.5339 - val_macro_f1score: 0.3131 - val_weighted_f1score: 0.0568\n",
      "Epoch 44/50\n",
      "225/224 [==============================] - 27s 121ms/step - loss: 1.2563 - accuracy: 0.5259 - macro_f1score: 0.2940 - weighted_f1score: 0.0524 - val_loss: 1.2735 - val_accuracy: 0.5283 - val_macro_f1score: 0.3169 - val_weighted_f1score: 0.0579\n",
      "Epoch 45/50\n",
      "225/224 [==============================] - 27s 120ms/step - loss: 1.2467 - accuracy: 0.5311 - macro_f1score: 0.2983 - weighted_f1score: 0.0532 - val_loss: 1.2464 - val_accuracy: 0.5325 - val_macro_f1score: 0.3011 - val_weighted_f1score: 0.0551\n",
      "Epoch 46/50\n",
      "225/224 [==============================] - 27s 121ms/step - loss: 1.2525 - accuracy: 0.5306 - macro_f1score: 0.3000 - weighted_f1score: 0.0533 - val_loss: 1.2486 - val_accuracy: 0.5288 - val_macro_f1score: 0.3052 - val_weighted_f1score: 0.0554\n",
      "Epoch 47/50\n",
      "225/224 [==============================] - 27s 120ms/step - loss: 1.2382 - accuracy: 0.5300 - macro_f1score: 0.2994 - weighted_f1score: 0.0537 - val_loss: 1.2392 - val_accuracy: 0.5325 - val_macro_f1score: 0.2966 - val_weighted_f1score: 0.0540\n",
      "Epoch 48/50\n",
      "225/224 [==============================] - 28s 123ms/step - loss: 1.2365 - accuracy: 0.5348 - macro_f1score: 0.3104 - weighted_f1score: 0.0553 - val_loss: 1.2475 - val_accuracy: 0.5258 - val_macro_f1score: 0.3124 - val_weighted_f1score: 0.0561\n",
      "Epoch 49/50\n",
      "225/224 [==============================] - 27s 120ms/step - loss: 1.2309 - accuracy: 0.5366 - macro_f1score: 0.3160 - weighted_f1score: 0.0560 - val_loss: 1.2393 - val_accuracy: 0.5339 - val_macro_f1score: 0.3103 - val_weighted_f1score: 0.0566\n",
      "Epoch 50/50\n",
      "225/224 [==============================] - 28s 122ms/step - loss: 1.2382 - accuracy: 0.5336 - macro_f1score: 0.3102 - weighted_f1score: 0.0550 - val_loss: 1.2517 - val_accuracy: 0.5288 - val_macro_f1score: 0.2966 - val_weighted_f1score: 0.0542\n"
     ]
    },
    {
     "data": {
      "text/plain": [
       "<tensorflow.python.keras.callbacks.History at 0x7f717b7c8c88>"
      ]
     },
     "execution_count": 46,
     "metadata": {
      "tags": []
     },
     "output_type": "execute_result"
    }
   ],
   "source": [
    "\n",
    "model.fit(datagen.flow(x_train,y_train,batch_size=128), steps_per_epoch=len(x_train)/128, validation_data= xy_valid_gen, validation_steps=len(x_valid)/128 ,epochs=50) "
   ]
  },
  {
   "cell_type": "code",
   "execution_count": 0,
   "metadata": {
    "colab": {
     "base_uri": "https://localhost:8080/",
     "height": 71
    },
    "colab_type": "code",
    "executionInfo": {
     "elapsed": 2540671,
     "status": "ok",
     "timestamp": 1583303259119,
     "user": {
      "displayName": "‍이동규[ 대학원석사과정재학 / 통계학과 ]",
      "photoUrl": "",
      "userId": "08134145419451519269"
     },
     "user_tz": -540
    },
    "id": "FVZ_A3a7lrGq",
    "outputId": "f4ae8369-95d5-46ab-b09f-2a5aeedbd136"
   },
   "outputs": [
    {
     "name": "stdout",
     "output_type": "stream",
     "text": [
      "3588/3588 [==============================] - 1s 176us/sample - loss: 1.2387 - accuracy: 0.5215 - macro_f1score: 0.3033 - weighted_f1score: 0.0537\n",
      "\n",
      "Accuracy: 0.5215, Macro F1 Score: 0.3033, Weighted F1 Score: 0.0537\n"
     ]
    }
   ],
   "source": [
    "_, acc, mac_f1, wei_f1 = model.evaluate(x_test,y_test,batch_size=128)\n",
    "print(\"\\nAccuracy: {:.4f}, Macro F1 Score: {:.4f}, Weighted F1 Score: {:.4f}\".format(acc,mac_f1,wei_f1))"
   ]
  },
  {
   "cell_type": "markdown",
   "metadata": {
    "colab_type": "text",
    "id": "ZvtDTmNY8P_k"
   },
   "source": [
    "### 2) Epoch = 100"
   ]
  },
  {
   "cell_type": "code",
   "execution_count": 0,
   "metadata": {
    "colab": {},
    "colab_type": "code",
    "id": "SMtIUkjHlq9n"
   },
   "outputs": [],
   "source": [
    "#내 데이터 맞춤형 모형\n",
    "model = Alexnet(img_shape=(48, 48, 3), n_classes=7, l2_reg=0.,weights=None)"
   ]
  },
  {
   "cell_type": "code",
   "execution_count": 0,
   "metadata": {
    "colab": {},
    "colab_type": "code",
    "id": "tnSCowjwlq7U"
   },
   "outputs": [],
   "source": [
    "# 여기는 학습의 효율을 위해. Adam으로 넘어간다.\n",
    "model.compile(optimizer=tf.keras.optimizers.Adam(lr=0.001), loss='categorical_crossentropy',\n",
    "              metrics=['accuracy',macro_f1score,weighted_f1score])"
   ]
  },
  {
   "cell_type": "code",
   "execution_count": 30,
   "metadata": {
    "colab": {
     "base_uri": "https://localhost:8080/",
     "height": 1000
    },
    "colab_type": "code",
    "executionInfo": {
     "elapsed": 977485,
     "status": "ok",
     "timestamp": 1583312496180,
     "user": {
      "displayName": "‍이동규[ 대학원석사과정재학 / 통계학과 ]",
      "photoUrl": "",
      "userId": "08134145419451519269"
     },
     "user_tz": -540
    },
    "id": "IPfM9lW5lq5b",
    "outputId": "1c17822e-a560-4b79-9929-61001f162b6e"
   },
   "outputs": [
    {
     "name": "stdout",
     "output_type": "stream",
     "text": [
      "WARNING:tensorflow:sample_weight modes were coerced from\n",
      "  ...\n",
      "    to  \n",
      "  ['...']\n",
      "WARNING:tensorflow:sample_weight modes were coerced from\n",
      "  ...\n",
      "    to  \n",
      "  ['...']\n",
      "Train for 224.203125 steps, validate for 28.0390625 steps\n",
      "Epoch 1/100\n",
      "225/224 [==============================] - 36s 160ms/step - loss: 1.8289 - accuracy: 0.2445 - macro_f1score: 0.0000e+00 - weighted_f1score: 0.0000e+00 - val_loss: 1.8782 - val_accuracy: 0.2449 - val_macro_f1score: 0.0000e+00 - val_weighted_f1score: 0.0000e+00\n",
      "Epoch 2/100\n",
      "225/224 [==============================] - 28s 126ms/step - loss: 1.8156 - accuracy: 0.2514 - macro_f1score: 4.2328e-05 - weighted_f1score: 9.5899e-06 - val_loss: 1.8796 - val_accuracy: 0.2449 - val_macro_f1score: 0.0000e+00 - val_weighted_f1score: 0.0000e+00\n",
      "Epoch 3/100\n",
      "225/224 [==============================] - 28s 126ms/step - loss: 1.8016 - accuracy: 0.2550 - macro_f1score: 0.0014 - weighted_f1score: 1.7645e-04 - val_loss: 1.7905 - val_accuracy: 0.2937 - val_macro_f1score: 0.0383 - val_weighted_f1score: 0.0047\n",
      "Epoch 4/100\n",
      "225/224 [==============================] - 29s 128ms/step - loss: 1.7100 - accuracy: 0.3037 - macro_f1score: 0.0596 - weighted_f1score: 0.0107 - val_loss: 1.6743 - val_accuracy: 0.3653 - val_macro_f1score: 0.1235 - val_weighted_f1score: 0.0238\n",
      "Epoch 5/100\n",
      "225/224 [==============================] - 28s 127ms/step - loss: 1.6207 - accuracy: 0.3519 - macro_f1score: 0.1137 - weighted_f1score: 0.0222 - val_loss: 1.5927 - val_accuracy: 0.4113 - val_macro_f1score: 0.1205 - val_weighted_f1score: 0.0218\n",
      "Epoch 6/100\n",
      "225/224 [==============================] - 29s 127ms/step - loss: 1.5508 - accuracy: 0.3890 - macro_f1score: 0.1406 - weighted_f1score: 0.0267 - val_loss: 1.5006 - val_accuracy: 0.4500 - val_macro_f1score: 0.1599 - val_weighted_f1score: 0.0299\n",
      "Epoch 7/100\n",
      "225/224 [==============================] - 29s 128ms/step - loss: 1.5027 - accuracy: 0.4188 - macro_f1score: 0.1599 - weighted_f1score: 0.0303 - val_loss: 1.4614 - val_accuracy: 0.4508 - val_macro_f1score: 0.1881 - val_weighted_f1score: 0.0356\n",
      "Epoch 8/100\n",
      "225/224 [==============================] - 29s 127ms/step - loss: 1.4722 - accuracy: 0.4323 - macro_f1score: 0.1725 - weighted_f1score: 0.0324 - val_loss: 1.4375 - val_accuracy: 0.4700 - val_macro_f1score: 0.1941 - val_weighted_f1score: 0.0351\n",
      "Epoch 9/100\n",
      "225/224 [==============================] - 29s 127ms/step - loss: 1.4359 - accuracy: 0.4477 - macro_f1score: 0.1895 - weighted_f1score: 0.0353 - val_loss: 1.4305 - val_accuracy: 0.4653 - val_macro_f1score: 0.2328 - val_weighted_f1score: 0.0432\n",
      "Epoch 10/100\n",
      "225/224 [==============================] - 29s 128ms/step - loss: 1.4120 - accuracy: 0.4565 - macro_f1score: 0.2031 - weighted_f1score: 0.0376 - val_loss: 1.3979 - val_accuracy: 0.4753 - val_macro_f1score: 0.2172 - val_weighted_f1score: 0.0390\n",
      "Epoch 11/100\n",
      "225/224 [==============================] - 29s 127ms/step - loss: 1.3986 - accuracy: 0.4617 - macro_f1score: 0.2098 - weighted_f1score: 0.0387 - val_loss: 1.3995 - val_accuracy: 0.4804 - val_macro_f1score: 0.2424 - val_weighted_f1score: 0.0435\n",
      "Epoch 12/100\n",
      "225/224 [==============================] - 28s 126ms/step - loss: 1.3813 - accuracy: 0.4656 - macro_f1score: 0.2201 - weighted_f1score: 0.0404 - val_loss: 1.3867 - val_accuracy: 0.4862 - val_macro_f1score: 0.2279 - val_weighted_f1score: 0.0406\n",
      "Epoch 13/100\n",
      "225/224 [==============================] - 28s 126ms/step - loss: 1.3733 - accuracy: 0.4750 - macro_f1score: 0.2226 - weighted_f1score: 0.0407 - val_loss: 1.3676 - val_accuracy: 0.4879 - val_macro_f1score: 0.2619 - val_weighted_f1score: 0.0482\n",
      "Epoch 14/100\n",
      "225/224 [==============================] - 28s 126ms/step - loss: 1.3503 - accuracy: 0.4805 - macro_f1score: 0.2339 - weighted_f1score: 0.0427 - val_loss: 1.3519 - val_accuracy: 0.5013 - val_macro_f1score: 0.2537 - val_weighted_f1score: 0.0455\n",
      "Epoch 15/100\n",
      "225/224 [==============================] - 28s 125ms/step - loss: 1.3385 - accuracy: 0.4876 - macro_f1score: 0.2474 - weighted_f1score: 0.0449 - val_loss: 1.3510 - val_accuracy: 0.4965 - val_macro_f1score: 0.2317 - val_weighted_f1score: 0.0415\n",
      "Epoch 16/100\n",
      "225/224 [==============================] - 28s 125ms/step - loss: 1.3343 - accuracy: 0.4895 - macro_f1score: 0.2473 - weighted_f1score: 0.0448 - val_loss: 1.3136 - val_accuracy: 0.5146 - val_macro_f1score: 0.2561 - val_weighted_f1score: 0.0457\n",
      "Epoch 17/100\n",
      "225/224 [==============================] - 28s 124ms/step - loss: 1.3218 - accuracy: 0.4972 - macro_f1score: 0.2488 - weighted_f1score: 0.0452 - val_loss: 1.3231 - val_accuracy: 0.5068 - val_macro_f1score: 0.2810 - val_weighted_f1score: 0.0500\n",
      "Epoch 18/100\n",
      "225/224 [==============================] - 28s 124ms/step - loss: 1.3051 - accuracy: 0.5054 - macro_f1score: 0.2602 - weighted_f1score: 0.0471 - val_loss: 1.3094 - val_accuracy: 0.5135 - val_macro_f1score: 0.2785 - val_weighted_f1score: 0.0490\n",
      "Epoch 19/100\n",
      "225/224 [==============================] - 28s 125ms/step - loss: 1.3062 - accuracy: 0.5062 - macro_f1score: 0.2609 - weighted_f1score: 0.0472 - val_loss: 1.3148 - val_accuracy: 0.5155 - val_macro_f1score: 0.2679 - val_weighted_f1score: 0.0478\n",
      "Epoch 20/100\n",
      "225/224 [==============================] - 28s 124ms/step - loss: 1.2957 - accuracy: 0.5087 - macro_f1score: 0.2650 - weighted_f1score: 0.0480 - val_loss: 1.2903 - val_accuracy: 0.5202 - val_macro_f1score: 0.2875 - val_weighted_f1score: 0.0529\n",
      "Epoch 21/100\n",
      "225/224 [==============================] - 28s 124ms/step - loss: 1.2868 - accuracy: 0.5097 - macro_f1score: 0.2720 - weighted_f1score: 0.0491 - val_loss: 1.3112 - val_accuracy: 0.5143 - val_macro_f1score: 0.2638 - val_weighted_f1score: 0.0468\n",
      "Epoch 22/100\n",
      "225/224 [==============================] - 28s 124ms/step - loss: 1.2801 - accuracy: 0.5152 - macro_f1score: 0.2786 - weighted_f1score: 0.0500 - val_loss: 1.2923 - val_accuracy: 0.5227 - val_macro_f1score: 0.2939 - val_weighted_f1score: 0.0524\n",
      "Epoch 23/100\n",
      "225/224 [==============================] - 28s 123ms/step - loss: 1.2728 - accuracy: 0.5176 - macro_f1score: 0.2837 - weighted_f1score: 0.0507 - val_loss: 1.3079 - val_accuracy: 0.5149 - val_macro_f1score: 0.2891 - val_weighted_f1score: 0.0529\n",
      "Epoch 24/100\n",
      "225/224 [==============================] - 28s 124ms/step - loss: 1.2767 - accuracy: 0.5166 - macro_f1score: 0.2786 - weighted_f1score: 0.0503 - val_loss: 1.2716 - val_accuracy: 0.5333 - val_macro_f1score: 0.2817 - val_weighted_f1score: 0.0501\n",
      "Epoch 25/100\n",
      "225/224 [==============================] - 27s 121ms/step - loss: 1.2633 - accuracy: 0.5224 - macro_f1score: 0.2870 - weighted_f1score: 0.0515 - val_loss: 1.2761 - val_accuracy: 0.5291 - val_macro_f1score: 0.2934 - val_weighted_f1score: 0.0528\n",
      "Epoch 26/100\n",
      "225/224 [==============================] - 27s 120ms/step - loss: 1.2530 - accuracy: 0.5257 - macro_f1score: 0.2972 - weighted_f1score: 0.0532 - val_loss: 1.2869 - val_accuracy: 0.5341 - val_macro_f1score: 0.2996 - val_weighted_f1score: 0.0528\n",
      "Epoch 27/100\n",
      "225/224 [==============================] - 27s 120ms/step - loss: 1.2481 - accuracy: 0.5281 - macro_f1score: 0.2931 - weighted_f1score: 0.0526 - val_loss: 1.2675 - val_accuracy: 0.5339 - val_macro_f1score: 0.3009 - val_weighted_f1score: 0.0542\n",
      "Epoch 28/100\n",
      "225/224 [==============================] - 27s 119ms/step - loss: 1.2508 - accuracy: 0.5299 - macro_f1score: 0.2962 - weighted_f1score: 0.0530 - val_loss: 1.2464 - val_accuracy: 0.5386 - val_macro_f1score: 0.3013 - val_weighted_f1score: 0.0546\n",
      "Epoch 29/100\n",
      "225/224 [==============================] - 27s 118ms/step - loss: 1.2371 - accuracy: 0.5317 - macro_f1score: 0.3061 - weighted_f1score: 0.0544 - val_loss: 1.2754 - val_accuracy: 0.5258 - val_macro_f1score: 0.2967 - val_weighted_f1score: 0.0538\n",
      "Epoch 30/100\n",
      "225/224 [==============================] - 27s 119ms/step - loss: 1.2351 - accuracy: 0.5346 - macro_f1score: 0.3038 - weighted_f1score: 0.0542 - val_loss: 1.2501 - val_accuracy: 0.5456 - val_macro_f1score: 0.3168 - val_weighted_f1score: 0.0568\n",
      "Epoch 31/100\n",
      "225/224 [==============================] - 27s 119ms/step - loss: 1.2337 - accuracy: 0.5341 - macro_f1score: 0.3064 - weighted_f1score: 0.0546 - val_loss: 1.2440 - val_accuracy: 0.5372 - val_macro_f1score: 0.3105 - val_weighted_f1score: 0.0547\n",
      "Epoch 32/100\n",
      "225/224 [==============================] - 27s 120ms/step - loss: 1.2272 - accuracy: 0.5366 - macro_f1score: 0.3094 - weighted_f1score: 0.0551 - val_loss: 1.2454 - val_accuracy: 0.5450 - val_macro_f1score: 0.3169 - val_weighted_f1score: 0.0556\n",
      "Epoch 33/100\n",
      "225/224 [==============================] - 27s 119ms/step - loss: 1.2162 - accuracy: 0.5433 - macro_f1score: 0.3192 - weighted_f1score: 0.0568 - val_loss: 1.2295 - val_accuracy: 0.5403 - val_macro_f1score: 0.3253 - val_weighted_f1score: 0.0580\n",
      "Epoch 34/100\n",
      "225/224 [==============================] - 27s 120ms/step - loss: 1.2247 - accuracy: 0.5376 - macro_f1score: 0.3133 - weighted_f1score: 0.0556 - val_loss: 1.2318 - val_accuracy: 0.5439 - val_macro_f1score: 0.3281 - val_weighted_f1score: 0.0586\n",
      "Epoch 35/100\n",
      "225/224 [==============================] - 27s 119ms/step - loss: 1.2186 - accuracy: 0.5414 - macro_f1score: 0.3224 - weighted_f1score: 0.0569 - val_loss: 1.2187 - val_accuracy: 0.5559 - val_macro_f1score: 0.3240 - val_weighted_f1score: 0.0579\n",
      "Epoch 36/100\n",
      "225/224 [==============================] - 27s 119ms/step - loss: 1.2123 - accuracy: 0.5424 - macro_f1score: 0.3217 - weighted_f1score: 0.0570 - val_loss: 1.2519 - val_accuracy: 0.5358 - val_macro_f1score: 0.3099 - val_weighted_f1score: 0.0540\n",
      "Epoch 37/100\n",
      "225/224 [==============================] - 27s 118ms/step - loss: 1.2066 - accuracy: 0.5460 - macro_f1score: 0.3236 - weighted_f1score: 0.0571 - val_loss: 1.3044 - val_accuracy: 0.5258 - val_macro_f1score: 0.2937 - val_weighted_f1score: 0.0525\n",
      "Epoch 38/100\n",
      "225/224 [==============================] - 27s 121ms/step - loss: 1.2130 - accuracy: 0.5440 - macro_f1score: 0.3241 - weighted_f1score: 0.0572 - val_loss: 1.2466 - val_accuracy: 0.5389 - val_macro_f1score: 0.3192 - val_weighted_f1score: 0.0555\n",
      "Epoch 39/100\n",
      "225/224 [==============================] - 29s 130ms/step - loss: 1.2051 - accuracy: 0.5444 - macro_f1score: 0.3237 - weighted_f1score: 0.0574 - val_loss: 1.2145 - val_accuracy: 0.5506 - val_macro_f1score: 0.3346 - val_weighted_f1score: 0.0595\n",
      "Epoch 40/100\n",
      "225/224 [==============================] - 28s 124ms/step - loss: 1.2032 - accuracy: 0.5481 - macro_f1score: 0.3383 - weighted_f1score: 0.0594 - val_loss: 1.2301 - val_accuracy: 0.5531 - val_macro_f1score: 0.3482 - val_weighted_f1score: 0.0617\n",
      "Epoch 41/100\n",
      "225/224 [==============================] - 28s 125ms/step - loss: 1.2046 - accuracy: 0.5477 - macro_f1score: 0.3321 - weighted_f1score: 0.0586 - val_loss: 1.2136 - val_accuracy: 0.5531 - val_macro_f1score: 0.3137 - val_weighted_f1score: 0.0551\n",
      "Epoch 42/100\n",
      "225/224 [==============================] - 28s 123ms/step - loss: 1.1946 - accuracy: 0.5485 - macro_f1score: 0.3353 - weighted_f1score: 0.0589 - val_loss: 1.2275 - val_accuracy: 0.5444 - val_macro_f1score: 0.3164 - val_weighted_f1score: 0.0559\n",
      "Epoch 43/100\n",
      "225/224 [==============================] - 28s 123ms/step - loss: 1.1929 - accuracy: 0.5516 - macro_f1score: 0.3378 - weighted_f1score: 0.0594 - val_loss: 1.2064 - val_accuracy: 0.5553 - val_macro_f1score: 0.3534 - val_weighted_f1score: 0.0614\n",
      "Epoch 44/100\n",
      "225/224 [==============================] - 28s 123ms/step - loss: 1.1879 - accuracy: 0.5524 - macro_f1score: 0.3418 - weighted_f1score: 0.0599 - val_loss: 1.2271 - val_accuracy: 0.5456 - val_macro_f1score: 0.3412 - val_weighted_f1score: 0.0590\n",
      "Epoch 45/100\n",
      "225/224 [==============================] - 28s 124ms/step - loss: 1.1888 - accuracy: 0.5513 - macro_f1score: 0.3418 - weighted_f1score: 0.0598 - val_loss: 1.2350 - val_accuracy: 0.5506 - val_macro_f1score: 0.3378 - val_weighted_f1score: 0.0591\n",
      "Epoch 46/100\n",
      "225/224 [==============================] - 28s 126ms/step - loss: 1.1867 - accuracy: 0.5525 - macro_f1score: 0.3442 - weighted_f1score: 0.0603 - val_loss: 1.2652 - val_accuracy: 0.5358 - val_macro_f1score: 0.3278 - val_weighted_f1score: 0.0566\n",
      "Epoch 47/100\n",
      "225/224 [==============================] - 28s 124ms/step - loss: 1.1769 - accuracy: 0.5538 - macro_f1score: 0.3462 - weighted_f1score: 0.0607 - val_loss: 1.2171 - val_accuracy: 0.5458 - val_macro_f1score: 0.3407 - val_weighted_f1score: 0.0605\n",
      "Epoch 48/100\n",
      "225/224 [==============================] - 28s 125ms/step - loss: 1.1777 - accuracy: 0.5576 - macro_f1score: 0.3460 - weighted_f1score: 0.0604 - val_loss: 1.2135 - val_accuracy: 0.5626 - val_macro_f1score: 0.3466 - val_weighted_f1score: 0.0616\n",
      "Epoch 49/100\n",
      "225/224 [==============================] - 28s 125ms/step - loss: 1.1741 - accuracy: 0.5619 - macro_f1score: 0.3506 - weighted_f1score: 0.0611 - val_loss: 1.1970 - val_accuracy: 0.5603 - val_macro_f1score: 0.3314 - val_weighted_f1score: 0.0596\n",
      "Epoch 50/100\n",
      "225/224 [==============================] - 28s 126ms/step - loss: 1.1751 - accuracy: 0.5580 - macro_f1score: 0.3471 - weighted_f1score: 0.0608 - val_loss: 1.2004 - val_accuracy: 0.5581 - val_macro_f1score: 0.3549 - val_weighted_f1score: 0.0630\n",
      "Epoch 51/100\n",
      "225/224 [==============================] - 29s 127ms/step - loss: 1.1711 - accuracy: 0.5621 - macro_f1score: 0.3538 - weighted_f1score: 0.0616 - val_loss: 1.2047 - val_accuracy: 0.5581 - val_macro_f1score: 0.3550 - val_weighted_f1score: 0.0616\n",
      "Epoch 52/100\n",
      "225/224 [==============================] - 28s 126ms/step - loss: 1.1657 - accuracy: 0.5655 - macro_f1score: 0.3604 - weighted_f1score: 0.0624 - val_loss: 1.2066 - val_accuracy: 0.5653 - val_macro_f1score: 0.3536 - val_weighted_f1score: 0.0620\n",
      "Epoch 53/100\n",
      "225/224 [==============================] - 28s 124ms/step - loss: 1.1675 - accuracy: 0.5629 - macro_f1score: 0.3610 - weighted_f1score: 0.0625 - val_loss: 1.2012 - val_accuracy: 0.5628 - val_macro_f1score: 0.3399 - val_weighted_f1score: 0.0595\n",
      "Epoch 54/100\n",
      "225/224 [==============================] - 28s 125ms/step - loss: 1.1639 - accuracy: 0.5646 - macro_f1score: 0.3650 - weighted_f1score: 0.0635 - val_loss: 1.1948 - val_accuracy: 0.5614 - val_macro_f1score: 0.3532 - val_weighted_f1score: 0.0617\n",
      "Epoch 55/100\n",
      "225/224 [==============================] - 28s 124ms/step - loss: 1.1620 - accuracy: 0.5652 - macro_f1score: 0.3665 - weighted_f1score: 0.0632 - val_loss: 1.1931 - val_accuracy: 0.5667 - val_macro_f1score: 0.3598 - val_weighted_f1score: 0.0629\n",
      "Epoch 56/100\n",
      "225/224 [==============================] - 28s 125ms/step - loss: 1.1588 - accuracy: 0.5668 - macro_f1score: 0.3700 - weighted_f1score: 0.0637 - val_loss: 1.1923 - val_accuracy: 0.5662 - val_macro_f1score: 0.3613 - val_weighted_f1score: 0.0640\n",
      "Epoch 57/100\n",
      "225/224 [==============================] - 27s 121ms/step - loss: 1.1600 - accuracy: 0.5640 - macro_f1score: 0.3604 - weighted_f1score: 0.0625 - val_loss: 1.2017 - val_accuracy: 0.5570 - val_macro_f1score: 0.3513 - val_weighted_f1score: 0.0629\n",
      "Epoch 58/100\n",
      "225/224 [==============================] - 27s 120ms/step - loss: 1.1611 - accuracy: 0.5654 - macro_f1score: 0.3684 - weighted_f1score: 0.0634 - val_loss: 1.2012 - val_accuracy: 0.5617 - val_macro_f1score: 0.3666 - val_weighted_f1score: 0.0634\n",
      "Epoch 59/100\n",
      "225/224 [==============================] - 27s 121ms/step - loss: 1.1536 - accuracy: 0.5686 - macro_f1score: 0.3722 - weighted_f1score: 0.0644 - val_loss: 1.1996 - val_accuracy: 0.5645 - val_macro_f1score: 0.3629 - val_weighted_f1score: 0.0622\n",
      "Epoch 60/100\n",
      "225/224 [==============================] - 27s 120ms/step - loss: 1.1543 - accuracy: 0.5714 - macro_f1score: 0.3727 - weighted_f1score: 0.0644 - val_loss: 1.1831 - val_accuracy: 0.5642 - val_macro_f1score: 0.3668 - val_weighted_f1score: 0.0634\n",
      "Epoch 61/100\n",
      "225/224 [==============================] - 27s 120ms/step - loss: 1.1505 - accuracy: 0.5699 - macro_f1score: 0.3742 - weighted_f1score: 0.0644 - val_loss: 1.1744 - val_accuracy: 0.5706 - val_macro_f1score: 0.3580 - val_weighted_f1score: 0.0637\n",
      "Epoch 62/100\n",
      "225/224 [==============================] - 27s 120ms/step - loss: 1.1522 - accuracy: 0.5685 - macro_f1score: 0.3673 - weighted_f1score: 0.0635 - val_loss: 1.1747 - val_accuracy: 0.5726 - val_macro_f1score: 0.3808 - val_weighted_f1score: 0.0674\n",
      "Epoch 63/100\n",
      "225/224 [==============================] - 27s 121ms/step - loss: 1.1472 - accuracy: 0.5705 - macro_f1score: 0.3778 - weighted_f1score: 0.0649 - val_loss: 1.1855 - val_accuracy: 0.5709 - val_macro_f1score: 0.3554 - val_weighted_f1score: 0.0631\n",
      "Epoch 64/100\n",
      "225/224 [==============================] - 27s 120ms/step - loss: 1.1418 - accuracy: 0.5732 - macro_f1score: 0.3776 - weighted_f1score: 0.0650 - val_loss: 1.1742 - val_accuracy: 0.5695 - val_macro_f1score: 0.3622 - val_weighted_f1score: 0.0623\n",
      "Epoch 65/100\n",
      "225/224 [==============================] - 28s 122ms/step - loss: 1.1425 - accuracy: 0.5720 - macro_f1score: 0.3793 - weighted_f1score: 0.0655 - val_loss: 1.1786 - val_accuracy: 0.5687 - val_macro_f1score: 0.3646 - val_weighted_f1score: 0.0630\n",
      "Epoch 66/100\n",
      "225/224 [==============================] - 27s 121ms/step - loss: 1.1365 - accuracy: 0.5758 - macro_f1score: 0.3817 - weighted_f1score: 0.0655 - val_loss: 1.1851 - val_accuracy: 0.5623 - val_macro_f1score: 0.3649 - val_weighted_f1score: 0.0649\n",
      "Epoch 67/100\n",
      "225/224 [==============================] - 27s 121ms/step - loss: 1.1341 - accuracy: 0.5743 - macro_f1score: 0.3852 - weighted_f1score: 0.0658 - val_loss: 1.1667 - val_accuracy: 0.5784 - val_macro_f1score: 0.3899 - val_weighted_f1score: 0.0657\n",
      "Epoch 68/100\n",
      "225/224 [==============================] - 27s 120ms/step - loss: 1.1388 - accuracy: 0.5722 - macro_f1score: 0.3799 - weighted_f1score: 0.0655 - val_loss: 1.1733 - val_accuracy: 0.5715 - val_macro_f1score: 0.3733 - val_weighted_f1score: 0.0655\n",
      "Epoch 69/100\n",
      "225/224 [==============================] - 27s 119ms/step - loss: 1.1371 - accuracy: 0.5773 - macro_f1score: 0.3841 - weighted_f1score: 0.0658 - val_loss: 1.1740 - val_accuracy: 0.5745 - val_macro_f1score: 0.3798 - val_weighted_f1score: 0.0653\n",
      "Epoch 70/100\n",
      "225/224 [==============================] - 27s 120ms/step - loss: 1.1316 - accuracy: 0.5756 - macro_f1score: 0.3852 - weighted_f1score: 0.0661 - val_loss: 1.1847 - val_accuracy: 0.5684 - val_macro_f1score: 0.3596 - val_weighted_f1score: 0.0622\n",
      "Epoch 71/100\n",
      "225/224 [==============================] - 27s 120ms/step - loss: 1.1310 - accuracy: 0.5740 - macro_f1score: 0.3832 - weighted_f1score: 0.0657 - val_loss: 1.1707 - val_accuracy: 0.5751 - val_macro_f1score: 0.3625 - val_weighted_f1score: 0.0635\n",
      "Epoch 72/100\n",
      "225/224 [==============================] - 27s 122ms/step - loss: 1.1305 - accuracy: 0.5812 - macro_f1score: 0.3907 - weighted_f1score: 0.0669 - val_loss: 1.1780 - val_accuracy: 0.5731 - val_macro_f1score: 0.3719 - val_weighted_f1score: 0.0632\n",
      "Epoch 73/100\n",
      "225/224 [==============================] - 27s 121ms/step - loss: 1.1256 - accuracy: 0.5776 - macro_f1score: 0.3914 - weighted_f1score: 0.0671 - val_loss: 1.1919 - val_accuracy: 0.5695 - val_macro_f1score: 0.3846 - val_weighted_f1score: 0.0654\n",
      "Epoch 74/100\n",
      "225/224 [==============================] - 27s 121ms/step - loss: 1.1238 - accuracy: 0.5812 - macro_f1score: 0.3919 - weighted_f1score: 0.0667 - val_loss: 1.1760 - val_accuracy: 0.5759 - val_macro_f1score: 0.3761 - val_weighted_f1score: 0.0646\n",
      "Epoch 75/100\n",
      "225/224 [==============================] - 27s 120ms/step - loss: 1.1241 - accuracy: 0.5822 - macro_f1score: 0.3998 - weighted_f1score: 0.0676 - val_loss: 1.1826 - val_accuracy: 0.5782 - val_macro_f1score: 0.3819 - val_weighted_f1score: 0.0659\n",
      "Epoch 76/100\n",
      "225/224 [==============================] - 27s 120ms/step - loss: 1.1254 - accuracy: 0.5812 - macro_f1score: 0.3920 - weighted_f1score: 0.0671 - val_loss: 1.1796 - val_accuracy: 0.5678 - val_macro_f1score: 0.3602 - val_weighted_f1score: 0.0641\n",
      "Epoch 77/100\n",
      "225/224 [==============================] - 27s 122ms/step - loss: 1.1276 - accuracy: 0.5791 - macro_f1score: 0.3918 - weighted_f1score: 0.0668 - val_loss: 1.1691 - val_accuracy: 0.5784 - val_macro_f1score: 0.3749 - val_weighted_f1score: 0.0658\n",
      "Epoch 78/100\n",
      "225/224 [==============================] - 27s 120ms/step - loss: 1.1180 - accuracy: 0.5851 - macro_f1score: 0.3982 - weighted_f1score: 0.0678 - val_loss: 1.1624 - val_accuracy: 0.5782 - val_macro_f1score: 0.3723 - val_weighted_f1score: 0.0643\n",
      "Epoch 79/100\n",
      "225/224 [==============================] - 27s 121ms/step - loss: 1.1162 - accuracy: 0.5844 - macro_f1score: 0.4023 - weighted_f1score: 0.0683 - val_loss: 1.1702 - val_accuracy: 0.5723 - val_macro_f1score: 0.3841 - val_weighted_f1score: 0.0663\n",
      "Epoch 80/100\n",
      "225/224 [==============================] - 27s 119ms/step - loss: 1.1187 - accuracy: 0.5844 - macro_f1score: 0.4035 - weighted_f1score: 0.0681 - val_loss: 1.1761 - val_accuracy: 0.5695 - val_macro_f1score: 0.3813 - val_weighted_f1score: 0.0658\n",
      "Epoch 81/100\n",
      "225/224 [==============================] - 27s 119ms/step - loss: 1.1118 - accuracy: 0.5863 - macro_f1score: 0.4055 - weighted_f1score: 0.0690 - val_loss: 1.1646 - val_accuracy: 0.5754 - val_macro_f1score: 0.3772 - val_weighted_f1score: 0.0649\n",
      "Epoch 82/100\n",
      "225/224 [==============================] - 27s 119ms/step - loss: 1.1160 - accuracy: 0.5838 - macro_f1score: 0.4003 - weighted_f1score: 0.0681 - val_loss: 1.1898 - val_accuracy: 0.5726 - val_macro_f1score: 0.3641 - val_weighted_f1score: 0.0623\n",
      "Epoch 83/100\n",
      "225/224 [==============================] - 29s 128ms/step - loss: 1.1081 - accuracy: 0.5867 - macro_f1score: 0.4064 - weighted_f1score: 0.0683 - val_loss: 1.1680 - val_accuracy: 0.5692 - val_macro_f1score: 0.3986 - val_weighted_f1score: 0.0710\n",
      "Epoch 84/100\n",
      "225/224 [==============================] - 28s 125ms/step - loss: 1.1118 - accuracy: 0.5859 - macro_f1score: 0.4115 - weighted_f1score: 0.0692 - val_loss: 1.1597 - val_accuracy: 0.5812 - val_macro_f1score: 0.3984 - val_weighted_f1score: 0.0661\n",
      "Epoch 85/100\n",
      "225/224 [==============================] - 28s 125ms/step - loss: 1.1072 - accuracy: 0.5907 - macro_f1score: 0.4137 - weighted_f1score: 0.0692 - val_loss: 1.1606 - val_accuracy: 0.5743 - val_macro_f1score: 0.3878 - val_weighted_f1score: 0.0680\n",
      "Epoch 86/100\n",
      "225/224 [==============================] - 28s 125ms/step - loss: 1.1081 - accuracy: 0.5862 - macro_f1score: 0.4076 - weighted_f1score: 0.0689 - val_loss: 1.1569 - val_accuracy: 0.5815 - val_macro_f1score: 0.3900 - val_weighted_f1score: 0.0670\n",
      "Epoch 87/100\n",
      "225/224 [==============================] - 28s 124ms/step - loss: 1.1132 - accuracy: 0.5840 - macro_f1score: 0.4043 - weighted_f1score: 0.0683 - val_loss: 1.1472 - val_accuracy: 0.5848 - val_macro_f1score: 0.3972 - val_weighted_f1score: 0.0697\n",
      "Epoch 88/100\n",
      "225/224 [==============================] - 28s 123ms/step - loss: 1.1051 - accuracy: 0.5882 - macro_f1score: 0.4087 - weighted_f1score: 0.0688 - val_loss: 1.1421 - val_accuracy: 0.5818 - val_macro_f1score: 0.3821 - val_weighted_f1score: 0.0667\n",
      "Epoch 89/100\n",
      "225/224 [==============================] - 30s 131ms/step - loss: 1.1072 - accuracy: 0.5901 - macro_f1score: 0.4154 - weighted_f1score: 0.0697 - val_loss: 1.1339 - val_accuracy: 0.5843 - val_macro_f1score: 0.3806 - val_weighted_f1score: 0.0661\n",
      "Epoch 90/100\n",
      "225/224 [==============================] - 29s 130ms/step - loss: 1.1104 - accuracy: 0.5855 - macro_f1score: 0.4102 - weighted_f1score: 0.0690 - val_loss: 1.1701 - val_accuracy: 0.5776 - val_macro_f1score: 0.3932 - val_weighted_f1score: 0.0660\n",
      "Epoch 91/100\n",
      "225/224 [==============================] - 28s 125ms/step - loss: 1.0988 - accuracy: 0.5911 - macro_f1score: 0.4166 - weighted_f1score: 0.0701 - val_loss: 1.1558 - val_accuracy: 0.5821 - val_macro_f1score: 0.4130 - val_weighted_f1score: 0.0692\n",
      "Epoch 92/100\n",
      "225/224 [==============================] - 28s 124ms/step - loss: 1.0979 - accuracy: 0.5901 - macro_f1score: 0.4186 - weighted_f1score: 0.0699 - val_loss: 1.1497 - val_accuracy: 0.5837 - val_macro_f1score: 0.3989 - val_weighted_f1score: 0.0659\n",
      "Epoch 93/100\n",
      "225/224 [==============================] - 28s 124ms/step - loss: 1.0891 - accuracy: 0.5917 - macro_f1score: 0.4200 - weighted_f1score: 0.0702 - val_loss: 1.1353 - val_accuracy: 0.5901 - val_macro_f1score: 0.4052 - val_weighted_f1score: 0.0679\n",
      "Epoch 94/100\n",
      "225/224 [==============================] - 28s 125ms/step - loss: 1.0994 - accuracy: 0.5901 - macro_f1score: 0.4181 - weighted_f1score: 0.0699 - val_loss: 1.1482 - val_accuracy: 0.5787 - val_macro_f1score: 0.3968 - val_weighted_f1score: 0.0689\n",
      "Epoch 95/100\n",
      "225/224 [==============================] - 28s 126ms/step - loss: 1.0962 - accuracy: 0.5929 - macro_f1score: 0.4242 - weighted_f1score: 0.0705 - val_loss: 1.1571 - val_accuracy: 0.5815 - val_macro_f1score: 0.3983 - val_weighted_f1score: 0.0691\n",
      "Epoch 96/100\n",
      "225/224 [==============================] - 28s 125ms/step - loss: 1.0982 - accuracy: 0.5937 - macro_f1score: 0.4230 - weighted_f1score: 0.0703 - val_loss: 1.1543 - val_accuracy: 0.5804 - val_macro_f1score: 0.3801 - val_weighted_f1score: 0.0670\n",
      "Epoch 97/100\n",
      "225/224 [==============================] - 28s 126ms/step - loss: 1.0900 - accuracy: 0.5920 - macro_f1score: 0.4245 - weighted_f1score: 0.0708 - val_loss: 1.1478 - val_accuracy: 0.5868 - val_macro_f1score: 0.4005 - val_weighted_f1score: 0.0685\n",
      "Epoch 98/100\n",
      "225/224 [==============================] - 29s 127ms/step - loss: 1.0944 - accuracy: 0.5890 - macro_f1score: 0.4184 - weighted_f1score: 0.0703 - val_loss: 1.1348 - val_accuracy: 0.5887 - val_macro_f1score: 0.4086 - val_weighted_f1score: 0.0699\n",
      "Epoch 99/100\n",
      "225/224 [==============================] - 29s 127ms/step - loss: 1.0916 - accuracy: 0.5920 - macro_f1score: 0.4221 - weighted_f1score: 0.0704 - val_loss: 1.1266 - val_accuracy: 0.5840 - val_macro_f1score: 0.4040 - val_weighted_f1score: 0.0703\n",
      "Epoch 100/100\n",
      "225/224 [==============================] - 28s 125ms/step - loss: 1.0805 - accuracy: 0.5962 - macro_f1score: 0.4269 - weighted_f1score: 0.0709 - val_loss: 1.1449 - val_accuracy: 0.5893 - val_macro_f1score: 0.4098 - val_weighted_f1score: 0.0663\n"
     ]
    },
    {
     "data": {
      "text/plain": [
       "<tensorflow.python.keras.callbacks.History at 0x7fdec4bf1b70>"
      ]
     },
     "execution_count": 30,
     "metadata": {
      "tags": []
     },
     "output_type": "execute_result"
    }
   ],
   "source": [
    "model.fit(datagen.flow(x_train,y_train,batch_size=128), steps_per_epoch=len(x_train)/128, validation_data= xy_valid_gen, validation_steps=len(x_valid)/128 ,epochs=100) "
   ]
  },
  {
   "cell_type": "code",
   "execution_count": 31,
   "metadata": {
    "colab": {
     "base_uri": "https://localhost:8080/",
     "height": 71
    },
    "colab_type": "code",
    "executionInfo": {
     "elapsed": 918,
     "status": "ok",
     "timestamp": 1583312497083,
     "user": {
      "displayName": "‍이동규[ 대학원석사과정재학 / 통계학과 ]",
      "photoUrl": "",
      "userId": "08134145419451519269"
     },
     "user_tz": -540
    },
    "id": "akWV60jPlq3_",
    "outputId": "07ae1630-eb7b-4fcf-dbbf-1e29732a19bf"
   },
   "outputs": [
    {
     "name": "stdout",
     "output_type": "stream",
     "text": [
      "3588/3588 [==============================] - 1s 263us/sample - loss: 1.1154 - accuracy: 0.5753 - macro_f1score: 0.4176 - weighted_f1score: 0.0672\n",
      "\n",
      "Accuracy: 0.5753, Macro F1 Score: 0.4176, Weighted F1 Score: 0.0672\n"
     ]
    }
   ],
   "source": [
    "_, acc, mac_f1, wei_f1 = model.evaluate(x_test,y_test,batch_size=128)\n",
    "print(\"\\nAccuracy: {:.4f}, Macro F1 Score: {:.4f}, Weighted F1 Score: {:.4f}\".format(acc,mac_f1,wei_f1))"
   ]
  }
 ],
 "metadata": {
  "accelerator": "GPU",
  "colab": {
   "collapsed_sections": [],
   "machine_shape": "hm",
   "name": "09. FER_Aug_Basic_Models(AlexNet) - 2020.02.26(WED).ipynb",
   "provenance": []
  },
  "kernelspec": {
   "display_name": "Python 3",
   "language": "python",
   "name": "python3"
  },
  "language_info": {
   "codemirror_mode": {
    "name": "ipython",
    "version": 3
   },
   "file_extension": ".py",
   "mimetype": "text/x-python",
   "name": "python",
   "nbconvert_exporter": "python",
   "pygments_lexer": "ipython3",
   "version": "3.7.3"
  }
 },
 "nbformat": 4,
 "nbformat_minor": 1
}
