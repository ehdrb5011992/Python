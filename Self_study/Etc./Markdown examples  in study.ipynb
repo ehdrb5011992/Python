{
 "cells": [
  {
   "cell_type": "markdown",
   "metadata": {},
   "source": [
    "$\n",
    "\\begin{split}\n",
    "\\mathcal C = \\left\\{(x,N) \\in \\mathcal X \\times \\mathcal M : s_i \\leq \\frac {N_i \\mathcal x_i}{X} \\frac{L_i} {T} \\quad ,  \\forall{i} \\in U \\right\\} .\n",
    "\\end{split}\n",
    "$"
   ]
  },
  {
   "cell_type": "markdown",
   "metadata": {},
   "source": [
    "$\n",
    "\\begin{split}\n",
    "E = \\sum_{n=1}^N E_n = \\frac 1 2 \\sum_{n=1}^N \\| t_n - P_n \\|^2 \\Longrightarrow \\nabla E = \\sum_{n=1}^N \n",
    "\\nabla E_n = - \\sum_{n=1}^N (t_n - P_n)\n",
    "\\end{split}\n",
    "$"
   ]
  },
  {
   "cell_type": "markdown",
   "metadata": {},
   "source": [
    "$\n",
    "\\begin{split}\n",
    "P_{succ,i} (c) & = \\tau_i (c) \\prod_{k \\in \\mathcal N(c) \\backslash \\{i\\} } (1- \\tau_k (c) ) = P_{idle} (c) \n",
    "\\frac{\\tau_i (c)}{1-\\tau_i (c)} \\\\\n",
    "P_{succ}(c) & = \\sum_{i \\in \\mathcal N(c)} P_{succ,i}(c) \\\\\n",
    "& = \\sum_{i \\in \\mathcal N(c)} \\tau_i (c) \\prod_{k \\in \\mathcal N(c) \\backslash \\{i\\} } (1-\\tau_k (c)) \\\\\n",
    "& = P_{idle} (c) \\sum_{i \\in \\mathcal N(c)} \\frac {\\tau_i (c)} {1-\\tau_i (c)}\n",
    "\\end{split}\n",
    "$"
   ]
  }
 ],
 "metadata": {
  "kernelspec": {
   "display_name": "Python 3",
   "language": "python",
   "name": "python3"
  },
  "language_info": {
   "codemirror_mode": {
    "name": "ipython",
    "version": 3
   },
   "file_extension": ".py",
   "mimetype": "text/x-python",
   "name": "python",
   "nbconvert_exporter": "python",
   "pygments_lexer": "ipython3",
   "version": "3.7.3"
  }
 },
 "nbformat": 4,
 "nbformat_minor": 2
}
