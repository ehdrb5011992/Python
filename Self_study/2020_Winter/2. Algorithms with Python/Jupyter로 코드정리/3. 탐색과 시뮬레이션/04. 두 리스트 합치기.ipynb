{
 "cells": [
  {
   "cell_type": "markdown",
   "metadata": {},
   "source": [
    "# 내 풀이"
   ]
  },
  {
   "cell_type": "markdown",
   "metadata": {},
   "source": [
    "sort로 정렬을 진행하면, O(nlogn)이지만, <br>\n",
    "정렬되어있다는 사실을 알면 O(n)으로 반복문을 끝내버릴 수 있다. <br>\n",
    "\n",
    "그리고 이 차이는 굉장히 크다"
   ]
  },
  {
   "cell_type": "markdown",
   "metadata": {},
   "source": [
    "if 문에서 ==는 굉장히 특이케이스일때 쓰는거임.  <br>\n",
    "while Ture를 쓸지, while 조건은 어느상황에 어떻게 구분지어야하는지 앞으로 좀 더 익혀보기."
   ]
  },
  {
   "cell_type": "markdown",
   "metadata": {},
   "source": [
    "이 문제의 경우 while의 조건에서, 포인트와 길이의 관계에 따른 idx가 어떻게 처리되는지, <br>\n",
    "그냥 외우기\n",
    "                                           "
   ]
  },
  {
   "cell_type": "code",
   "execution_count": 33,
   "metadata": {},
   "outputs": [],
   "source": [
    "n=3\n",
    "n_x=[1,3,5]\n",
    "m=5\n",
    "m_x=[2,3,6,7,9]"
   ]
  },
  {
   "cell_type": "code",
   "execution_count": 34,
   "metadata": {
    "scrolled": true
   },
   "outputs": [
    {
     "data": {
      "text/plain": [
       "[1, 2, 3, 3, 5, 6, 7, 9]"
      ]
     },
     "execution_count": 34,
     "metadata": {},
     "output_type": "execute_result"
    }
   ],
   "source": [
    "# 이렇게 말고, 제대로 짜보자.\n",
    "def do_not(n_x,m_x):\n",
    "    return sorted(n_x+m_x)\n",
    "do_not(n_x,m_x)"
   ]
  },
  {
   "cell_type": "code",
   "execution_count": 40,
   "metadata": {},
   "outputs": [],
   "source": [
    "def list_add(n_x, m_x):\n",
    "    p1=0\n",
    "    p2=0\n",
    "    ans=[]\n",
    "    n=len(n_x) \n",
    "    m=len(m_x)\n",
    "    while p1 < n and p2 < m:\n",
    "        if n_x[p1] <= m_x[p2]:\n",
    "            ans.append(n_x[p1])\n",
    "            p1+=1\n",
    "        else :\n",
    "            ans.append(m_x[p2])\n",
    "            p2+=1\n",
    "    if p2 == m: # 그렇게 while문을 튀어 나왔을때가 특이케이스이기 때문에.\n",
    "        ans += n_x[p1:]\n",
    "    if p1 == n: # 이렇게 등호가 직관적임\n",
    "        ans += m_x[p2:]\n",
    "    return ans"
   ]
  },
  {
   "cell_type": "code",
   "execution_count": 41,
   "metadata": {},
   "outputs": [
    {
     "data": {
      "text/plain": [
       "[1, 2, 3, 3, 5, 6, 7, 9]"
      ]
     },
     "execution_count": 41,
     "metadata": {},
     "output_type": "execute_result"
    }
   ],
   "source": [
    "list_add(n_x,m_x)"
   ]
  },
  {
   "cell_type": "markdown",
   "metadata": {},
   "source": [
    "# 답 풀이"
   ]
  },
  {
   "cell_type": "markdown",
   "metadata": {},
   "source": [
    "채점코드를 위해서, 아래와 같이 구성\n",
    "```\n",
    "import sys\n",
    "sys.stdin=open(\"input.txt\",'rt') # 경로 잡고, 파일 엵음. rt= read a file as text\n",
    "```\n",
    "\n",
    "실행할때는, sys.stdin=open('input.txt','rt)를 주석처리 하고 실행시키면 된다."
   ]
  },
  {
   "cell_type": "code",
   "execution_count": null,
   "metadata": {},
   "outputs": [],
   "source": [
    "import sys\n",
    "#sys.stdin=open(\"input.txt\",'rt') # 경로 잡고, 파일 엵음. read a file as text\n",
    "\n",
    "n=int(input())\n",
    "a=list(map(int,input().split()))\n",
    "m=int(input())\n",
    "b=list(map(int,input().split()))\n",
    "\n",
    "p1=p2=0\n",
    "c=[]\n",
    "while p1<n and p2<m:\n",
    "    if a[p1] <= b[p2]:\n",
    "       c.append(a[p1])\n",
    "       p1+=1\n",
    "    else:\n",
    "        c.append(b[p2])\n",
    "        p2+=1\n",
    "if p1<n:  \n",
    "    c=c+a[p1:]\n",
    "if p2<m:\n",
    "    c=c+b[p2:]\n",
    "\n",
    "for x in c:\n",
    "    print(x, end=' ')\n"
   ]
  }
 ],
 "metadata": {
  "kernelspec": {
   "display_name": "Python 3",
   "language": "python",
   "name": "python3"
  },
  "language_info": {
   "codemirror_mode": {
    "name": "ipython",
    "version": 3
   },
   "file_extension": ".py",
   "mimetype": "text/x-python",
   "name": "python",
   "nbconvert_exporter": "python",
   "pygments_lexer": "ipython3",
   "version": "3.8.5"
  }
 },
 "nbformat": 4,
 "nbformat_minor": 2
}
