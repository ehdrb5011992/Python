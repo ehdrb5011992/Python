{
 "cells": [
  {
   "cell_type": "markdown",
   "metadata": {},
   "source": [
    "# 내 풀이"
   ]
  },
  {
   "cell_type": "markdown",
   "metadata": {},
   "source": [
    "시간초과가 뜨며, 부분 정답에 대해 오류가 뜸. <br>\n",
    "정말 지저분한 풀이이며, 이렇게 하지 말기 <br>\n",
    "답 풀이를 보고 이해할 것"
   ]
  },
  {
   "cell_type": "markdown",
   "metadata": {},
   "source": [
    "뒤집는다는건, 앞뒤로 숫자를 바꾼다는 의미임!"
   ]
  },
  {
   "cell_type": "code",
   "execution_count": 44,
   "metadata": {},
   "outputs": [],
   "source": [
    "x = [19,20]\n",
    "num=list(range(1,21))"
   ]
  },
  {
   "cell_type": "code",
   "execution_count": 55,
   "metadata": {},
   "outputs": [],
   "source": [
    "def reverse_num(num,x):\n",
    "    le,ri = x[0]-1,x[1]-1\n",
    "    if le == 0 and ri==len(num)-1:\n",
    "        return num[::-1]\n",
    "    elif le==0:\n",
    "        return num[ri::-1]+num[ri+1:]\n",
    "    elif ri==len(num)-1:\n",
    "        return num[:le]+num[ri:le-1:-1]\n",
    "    else:\n",
    "        return num[0:le]+num[ri:le-1:-1]+num[ri+1:]"
   ]
  },
  {
   "cell_type": "code",
   "execution_count": null,
   "metadata": {},
   "outputs": [],
   "source": [
    "while True:\n",
    "    try:\n",
    "        s=list(map(int,input().split()))\n",
    "        num=reverse_num(num,s)\n",
    "    except:\n",
    "        break"
   ]
  },
  {
   "cell_type": "code",
   "execution_count": null,
   "metadata": {},
   "outputs": [],
   "source": [
    "print(num)"
   ]
  },
  {
   "cell_type": "markdown",
   "metadata": {},
   "source": [
    "# 답 풀이"
   ]
  },
  {
   "cell_type": "markdown",
   "metadata": {},
   "source": [
    "채점코드를 위해서, 아래와 같이 구성\n",
    "```\n",
    "import sys\n",
    "sys.stdin=open(\"input.txt\",'rt') # 경로 잡고, 파일 엵음. rt= read a file as text\n",
    "```\n",
    "\n",
    "실행할때는, sys.stdin=open('input.txt','rt)를 주석처리 하고 실행시키면 된다."
   ]
  },
  {
   "cell_type": "code",
   "execution_count": null,
   "metadata": {},
   "outputs": [],
   "source": [
    "import sys\n",
    "#sys.stdin=open(\"input.txt\",'rt') # 경로 잡고, 파일 엵음. read a file as text\n",
    "\n",
    "a=list(range(21)) # 이렇게 생성하면, index가 숫자값을 고스란히 따라감.\n",
    "for _ in range(10): # 10개라고 문제에서 주어짐... 문제를 잘읽자.\n",
    "    s,e = map(int,input().split())\n",
    "    for i in range((e-s+1)//2): # 스와핑을 할거임. 그에 따른 loop횟수\n",
    "        a[s+i],a[e-i]=a[e-i],a[s+i]\n",
    "a.pop(0) # 햇갈리지 않게 그냥 0부터 뽑아놓고, 나중에 0을 지워버리자.\n",
    "for i in a:\n",
    "    print(i,end=' ')\n"
   ]
  }
 ],
 "metadata": {
  "kernelspec": {
   "display_name": "Python 3",
   "language": "python",
   "name": "python3"
  },
  "language_info": {
   "codemirror_mode": {
    "name": "ipython",
    "version": 3
   },
   "file_extension": ".py",
   "mimetype": "text/x-python",
   "name": "python",
   "nbconvert_exporter": "python",
   "pygments_lexer": "ipython3",
   "version": "3.8.5"
  }
 },
 "nbformat": 4,
 "nbformat_minor": 2
}
