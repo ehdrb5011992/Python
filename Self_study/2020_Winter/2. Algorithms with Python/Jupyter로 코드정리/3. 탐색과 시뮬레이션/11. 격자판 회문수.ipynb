{
 "cells": [
  {
   "cell_type": "markdown",
   "metadata": {},
   "source": [
    "# 내 풀이"
   ]
  },
  {
   "cell_type": "code",
   "execution_count": 1,
   "metadata": {},
   "outputs": [],
   "source": [
    "x=['2 4 1 5 3 2 6'.split(),\n",
    "'3 5 1 8 7 1 7'.split(),\n",
    "'8 3 2 7 1 3 8'.split(),\n",
    "'6 1 2 3 2 1 1'.split(),\n",
    "'1 3 1 3 5 3 2'.split(),\n",
    "'1 1 2 5 6 5 2'.split(),\n",
    "'1 2 2 2 2 1 5'.split()]\n",
    "x = [list(map(lambda a:int(a),i)) for i in x]"
   ]
  },
  {
   "cell_type": "code",
   "execution_count": 13,
   "metadata": {},
   "outputs": [],
   "source": [
    "def is_circul(x): # x- > 5원소 리스트\n",
    "    n=len(x)//2    \n",
    "    if all(x[i]==x[-(i+1)] for i in range(n)): #회문이면 True, 아니면 False\n",
    "        return True\n",
    "    else:\n",
    "        return False"
   ]
  },
  {
   "cell_type": "code",
   "execution_count": 14,
   "metadata": {},
   "outputs": [],
   "source": [
    "def transpose(x): # x-> 매트릭스\n",
    "    temp=[[0]*len(x) for _ in range(len(x[0]))]\n",
    "    for i in range(len(x)):\n",
    "        for j in range(len(x[0])):\n",
    "             temp[j][i] = x[i][j]\n",
    "    return temp"
   ]
  },
  {
   "cell_type": "code",
   "execution_count": 16,
   "metadata": {},
   "outputs": [],
   "source": [
    "def count_circul(x): # x-> 매트릭스\n",
    "    \n",
    "    cnt=0 \n",
    "    for i in x: # 행기준\n",
    "        for j in range(3):\n",
    "            check=i[j:j+5]\n",
    "            if is_circul(check):\n",
    "                cnt+=1\n",
    "    x = transpose(x) \n",
    "    for i in x: # 열기준\n",
    "        for j in range(3):\n",
    "            check=i[j:j+5]\n",
    "            if is_circul(check):\n",
    "                cnt+=1\n",
    "        \n",
    "    return cnt"
   ]
  },
  {
   "cell_type": "code",
   "execution_count": 17,
   "metadata": {},
   "outputs": [
    {
     "data": {
      "text/plain": [
       "3"
      ]
     },
     "execution_count": 17,
     "metadata": {},
     "output_type": "execute_result"
    }
   ],
   "source": [
    "count_circul(x)"
   ]
  },
  {
   "cell_type": "markdown",
   "metadata": {},
   "source": [
    "# 답 풀이"
   ]
  },
  {
   "cell_type": "markdown",
   "metadata": {},
   "source": [
    "채점코드를 위해서, 아래와 같이 구성\n",
    "```\n",
    "import sys\n",
    "sys.stdin=open(\"input.txt\",'rt') # 경로 잡고, 파일 엵음. rt= read a file as text\n",
    "```\n",
    "\n",
    "실행할때는, sys.stdin=open('input.txt','rt)를 주석처리 하고 실행시키면 된다."
   ]
  },
  {
   "cell_type": "code",
   "execution_count": null,
   "metadata": {},
   "outputs": [],
   "source": [
    "import sys\n",
    "#sys.stdin=open(\"input.txt\",'rt') # 경로 잡고, 파일 엵음. read a file as text\n",
    "\n",
    "board=[list(map(int,input().split())) for _ in range(7)]\n",
    "\n",
    "cnt=0\n",
    "for i in range(3):\n",
    "    for j in range(7):\n",
    "        tmp=board[j][i:i+5]\n",
    "        if tmp== tmp[::-1]: # 회문\n",
    "            cnt+=1\n",
    "        for k in range(2):  # 이거는 세로기준 회문. list는 슬라이스 세로방향으로는 안됨.\n",
    "            if board[i+k][j] != board[i+5-k-1][j]:\n",
    "                break\n",
    "        else:\n",
    "            cnt+=1\n",
    "    \n",
    "print(cnt)\n"
   ]
  }
 ],
 "metadata": {
  "kernelspec": {
   "display_name": "Python 3",
   "language": "python",
   "name": "python3"
  },
  "language_info": {
   "codemirror_mode": {
    "name": "ipython",
    "version": 3
   },
   "file_extension": ".py",
   "mimetype": "text/x-python",
   "name": "python",
   "nbconvert_exporter": "python",
   "pygments_lexer": "ipython3",
   "version": "3.8.5"
  }
 },
 "nbformat": 4,
 "nbformat_minor": 2
}
