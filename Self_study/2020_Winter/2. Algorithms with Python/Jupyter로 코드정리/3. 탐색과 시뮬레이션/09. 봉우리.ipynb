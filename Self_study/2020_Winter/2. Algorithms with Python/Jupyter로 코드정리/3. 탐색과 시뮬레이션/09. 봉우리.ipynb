{
 "cells": [
  {
   "cell_type": "markdown",
   "metadata": {},
   "source": [
    "# 내 풀이"
   ]
  },
  {
   "cell_type": "markdown",
   "metadata": {},
   "source": [
    "네방향 탐색에 대해서 꼭 알아두기. <br>\n",
    "dx=[-1,0,1,0] <br>\n",
    "dy=[0,1,0,-1] <br>\n",
    "로 초기화 한 후, "
   ]
  },
  {
   "cell_type": "markdown",
   "metadata": {},
   "source": [
    "#### [i+dx[k]][j+dy[k]] for k in range(4) "
   ]
  },
  {
   "cell_type": "markdown",
   "metadata": {},
   "source": [
    "이런식으로 흘러감."
   ]
  },
  {
   "cell_type": "markdown",
   "metadata": {},
   "source": [
    "이때, all함수에 list comprehension과 같은 문법이 사용가능하며,"
   ]
  },
  {
   "cell_type": "markdown",
   "metadata": {},
   "source": [
    "#### all(a[i][j]>a[i+dx[k]][j+dy[k]] for k in range(4))"
   ]
  },
  {
   "cell_type": "markdown",
   "metadata": {},
   "source": [
    "역시 같이 알아두기. <br>\n",
    "all과 any는 if문과 주로 같이 쓰이며, <br>\n",
    "if all (조건 for i in ..) : 의 형태로 자주쓰임."
   ]
  },
  {
   "cell_type": "code",
   "execution_count": 1,
   "metadata": {},
   "outputs": [],
   "source": [
    "x=[[5,3,7,2,3],[3,7,1,6,1],[7,2,5,3,4],[4,3,6,4,1],[8,7,3,5,2]]\n",
    "N=len(x)"
   ]
  },
  {
   "cell_type": "code",
   "execution_count": 2,
   "metadata": {},
   "outputs": [],
   "source": [
    "def padding(x,N):\n",
    "    for i in range(N):\n",
    "        x[i].insert(0,0)\n",
    "        x[i].append(0)\n",
    "    x.insert(0,[0]*(N+2))\n",
    "    x.append([0]*(N+2))\n",
    "    return x"
   ]
  },
  {
   "cell_type": "code",
   "execution_count": 3,
   "metadata": {},
   "outputs": [],
   "source": [
    "def check_peak(x,N):\n",
    "    cnt=0\n",
    "    for i in range(1,(N+1)):\n",
    "        for j in range(1,(N+1)):\n",
    "            case1=x[i][j]>x[i-1][j]\n",
    "            case2=x[i][j]>x[i+1][j]\n",
    "            case3=x[i][j]>x[i][j-1]\n",
    "            case4=x[i][j]>x[i][j+1]\n",
    "            if case1 & case2 & case3 & case4 :\n",
    "                cnt+=1\n",
    "    return cnt"
   ]
  },
  {
   "cell_type": "code",
   "execution_count": 5,
   "metadata": {},
   "outputs": [],
   "source": [
    "x=padding(x,N)"
   ]
  },
  {
   "cell_type": "code",
   "execution_count": 6,
   "metadata": {},
   "outputs": [
    {
     "data": {
      "text/plain": [
       "10"
      ]
     },
     "execution_count": 6,
     "metadata": {},
     "output_type": "execute_result"
    }
   ],
   "source": [
    "check_peak(x,N)"
   ]
  },
  {
   "cell_type": "markdown",
   "metadata": {},
   "source": [
    "# 답 풀이"
   ]
  },
  {
   "cell_type": "markdown",
   "metadata": {},
   "source": [
    "채점코드를 위해서, 아래와 같이 구성\n",
    "```\n",
    "import sys\n",
    "sys.stdin=open(\"input.txt\",'rt') # 경로 잡고, 파일 엵음. rt= read a file as text\n",
    "```\n",
    "\n",
    "실행할때는, sys.stdin=open('input.txt','rt)를 주석처리 하고 실행시키면 된다."
   ]
  },
  {
   "cell_type": "code",
   "execution_count": null,
   "metadata": {},
   "outputs": [],
   "source": [
    "import sys\n",
    "#sys.stdin=open(\"input.txt\",'rt') # 경로 잡고, 파일 엵음. read a file as text\n",
    "\n",
    "n=int(input())\n",
    "a=[list(map(int,input().split())) for _ in range(n)]\n",
    "\n",
    "#padding\n",
    "a.insert(0,[0]*n)\n",
    "a.append([0]*(n+2))\n",
    "for x in a:\n",
    "    x.insert(0,0)\n",
    "    x.append(0)\n",
    "\n",
    "cnt=0\n",
    "dx=[-1,0,1,0] # 팁처럼 암기하기. 이건 시계방향으로 탐색하는 코드임.\n",
    "dy=[0,1,0,-1] # (dx,dy)쌍에 대해, 왼쪽, 위, 오른쪽, 아래 순임.\n",
    "\n",
    "for i in range(1,n+1):\n",
    "    for j in range(1,n+1):\n",
    "        if all(a[i][j]>a[i+dx[k]][j+dy[k]] for k in range(4)): # 이 조건이 모두참\n",
    "            cnt+=1\n",
    "\n",
    "print(cnt)\n",
    "\n",
    "# 네방향 탐색 꼭 알아두기. 이렇게 탐색함.\n",
    "        \n"
   ]
  }
 ],
 "metadata": {
  "kernelspec": {
   "display_name": "Python 3",
   "language": "python",
   "name": "python3"
  },
  "language_info": {
   "codemirror_mode": {
    "name": "ipython",
    "version": 3
   },
   "file_extension": ".py",
   "mimetype": "text/x-python",
   "name": "python",
   "nbconvert_exporter": "python",
   "pygments_lexer": "ipython3",
   "version": "3.8.5"
  }
 },
 "nbformat": 4,
 "nbformat_minor": 2
}
