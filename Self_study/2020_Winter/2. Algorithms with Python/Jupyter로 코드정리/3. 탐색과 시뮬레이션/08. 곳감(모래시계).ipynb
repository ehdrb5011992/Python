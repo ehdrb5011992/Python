{
 "cells": [
  {
   "cell_type": "markdown",
   "metadata": {},
   "source": [
    "# 내 풀이"
   ]
  },
  {
   "cell_type": "markdown",
   "metadata": {},
   "source": [
    "강의 듣기 시작한 이후로 풀면서 제일 힘들었던 문제인거같음.\n"
   ]
  },
  {
   "cell_type": "markdown",
   "metadata": {},
   "source": [
    "가급적 start와 end 두개의 포인트를 따로따로 잡는걸 늘 생각하기. (포인트잡기)"
   ]
  },
  {
   "cell_type": "code",
   "execution_count": 1,
   "metadata": {},
   "outputs": [],
   "source": [
    "N=5\n",
    "x = [[10,13,10,12,15],[12,39,30,23,11],[11,25,50,53,15],\\\n",
    "     [19,27,29,37,27],[19,13,30,13,19]]\n",
    "M=3\n",
    "y=[[2,0,3],[5,1,2],[3,1,4]]"
   ]
  },
  {
   "cell_type": "code",
   "execution_count": 2,
   "metadata": {
    "scrolled": true
   },
   "outputs": [],
   "source": [
    "def convert(x,y,N):\n",
    "    for case in y:\n",
    "        num_row,dire,dx=case[0]-1,case[1],case[2]\n",
    "        idx = list(range(N))\n",
    "        new_list = []\n",
    "        if dire==0: #왼쪽\n",
    "            new_idx = list(map(lambda x: (x+dx)% N ,idx))\n",
    "            for i in new_idx:\n",
    "                new_list.append(x[num_row][i])\n",
    "            x[num_row] = new_list\n",
    "        else: # 오른쪽\n",
    "            new_idx = list(map(lambda x: (x-dx)% N ,idx))\n",
    "            for i in new_idx:\n",
    "                new_list.append(x[num_row][i])\n",
    "            x[num_row] = new_list        \n",
    "    return x"
   ]
  },
  {
   "cell_type": "code",
   "execution_count": 6,
   "metadata": {},
   "outputs": [],
   "source": [
    "def summation(x,N):\n",
    "    dx=ct=N//2\n",
    "    cumsum=0\n",
    "    for i in range(N):\n",
    "        cumsum+=sum(x[i][(ct-dx):(ct+dx+1)])\n",
    "        if i < N//2:\n",
    "            dx-=1\n",
    "        else:\n",
    "            dx+=1\n",
    "    return cumsum"
   ]
  },
  {
   "cell_type": "code",
   "execution_count": null,
   "metadata": {},
   "outputs": [],
   "source": [
    "x=convert(x,y,N,M)"
   ]
  },
  {
   "cell_type": "code",
   "execution_count": 7,
   "metadata": {},
   "outputs": [
    {
     "name": "stdout",
     "output_type": "stream",
     "text": [
      "362\n"
     ]
    }
   ],
   "source": [
    "print(summation(x,N))"
   ]
  },
  {
   "cell_type": "markdown",
   "metadata": {},
   "source": [
    "# 답 풀이"
   ]
  },
  {
   "cell_type": "markdown",
   "metadata": {},
   "source": [
    "채점코드를 위해서, 아래와 같이 구성\n",
    "```\n",
    "import sys\n",
    "sys.stdin=open(\"input.txt\",'rt') # 경로 잡고, 파일 엵음. rt= read a file as text\n",
    "```\n",
    "\n",
    "실행할때는, sys.stdin=open('input.txt','rt)를 주석처리 하고 실행시키면 된다."
   ]
  },
  {
   "cell_type": "code",
   "execution_count": null,
   "metadata": {},
   "outputs": [],
   "source": [
    "import sys\n",
    "#sys.stdin=open(\"input.txt\",'rt') # 경로 잡고, 파일 엵음. read a file as text\n",
    "\n",
    "n=int(input())\n",
    "a=[list(map(int,input().split())) for _ in range(n)]\n",
    "m=int(input())\n",
    "\n",
    "# 아래는 회전코드\n",
    "for i in range(m):\n",
    "    h,t,k = map(int,input().split())\n",
    "    if t==0:\n",
    "        for _ in range(k):\n",
    "            a[h-1].append(a[h-1].pop(0)) # 이게 하나의 회전이 일어나는거임.\n",
    "    else :\n",
    "        for _ in range(k):\n",
    "            a[h-1].insert(0,a[h-1].pop()) # 이게 하나의 회전이 일어나는거임.\n",
    "\n",
    "res=0\n",
    "s=0\n",
    "e=n-1\n",
    "for i in range(n): # i는 행번호\n",
    "    for j in range(s,e+1): # e까지 돎\n",
    "        res +=a[i][j]\n",
    "    if i<n//2:\n",
    "        s+=1\n",
    "        e-=1\n",
    "    else:\n",
    "        s-=1\n",
    "        e+=1\n",
    "print(res)\n",
    "        \n",
    "    "
   ]
  }
 ],
 "metadata": {
  "kernelspec": {
   "display_name": "Python 3",
   "language": "python",
   "name": "python3"
  },
  "language_info": {
   "codemirror_mode": {
    "name": "ipython",
    "version": 3
   },
   "file_extension": ".py",
   "mimetype": "text/x-python",
   "name": "python",
   "nbconvert_exporter": "python",
   "pygments_lexer": "ipython3",
   "version": "3.8.5"
  }
 },
 "nbformat": 4,
 "nbformat_minor": 2
}
