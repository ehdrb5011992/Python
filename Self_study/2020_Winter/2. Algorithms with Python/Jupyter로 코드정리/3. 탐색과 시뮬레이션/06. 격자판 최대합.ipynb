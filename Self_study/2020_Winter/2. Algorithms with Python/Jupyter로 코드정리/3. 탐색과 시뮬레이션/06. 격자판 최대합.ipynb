{
 "cells": [
  {
   "cell_type": "markdown",
   "metadata": {},
   "source": [
    "# 내 풀이"
   ]
  },
  {
   "cell_type": "code",
   "execution_count": 12,
   "metadata": {},
   "outputs": [],
   "source": [
    "N=5\n",
    "x = [[10,13,10,12,15],[12,39,30,23,11],[11,25,50,53,15],\\\n",
    "     [19,27,29,37,27],[19,13,30,13,19]]"
   ]
  },
  {
   "cell_type": "code",
   "execution_count": 13,
   "metadata": {},
   "outputs": [
    {
     "data": {
      "text/plain": [
       "[[10, 13, 10, 12, 15],\n",
       " [12, 39, 30, 23, 11],\n",
       " [11, 25, 50, 53, 15],\n",
       " [19, 27, 29, 37, 27],\n",
       " [19, 13, 30, 13, 19]]"
      ]
     },
     "execution_count": 13,
     "metadata": {},
     "output_type": "execute_result"
    }
   ],
   "source": [
    "x"
   ]
  },
  {
   "cell_type": "code",
   "execution_count": 19,
   "metadata": {},
   "outputs": [],
   "source": [
    "def grid_max(x,N):\n",
    "    tmp = -2147000000\n",
    "    cumsum_diag1=0\n",
    "    cumsum_diag2=0\n",
    "    for i in range(N):\n",
    "        cumsum_row=0\n",
    "        cumsum_col=0\n",
    "        for j in range(N):\n",
    "            cumsum_row+=x[i][j] # 행합\n",
    "            cumsum_col+=x[j][i] # 열합\n",
    "\n",
    "        if cumsum_row > tmp:\n",
    "            tmp = cumsum_row\n",
    "            cumsum_row=0\n",
    "        elif cumsum_col > tmp:\n",
    "            tmp= cumsum_col\n",
    "            cumsum_col=0\n",
    "\n",
    "        cumsum_diag1+=x[i][i] # 대각선\n",
    "        cumsum_diag2+=x[i][-(i+1)]\n",
    "\n",
    "    if cumsum_diag1 > tmp:\n",
    "        tmp = cumsum_diag1\n",
    "    elif cumsum_diag2 > tmp:\n",
    "        tmp = cumsum_diag2\n",
    "        \n",
    "    return tmp"
   ]
  },
  {
   "cell_type": "code",
   "execution_count": 20,
   "metadata": {},
   "outputs": [
    {
     "name": "stdout",
     "output_type": "stream",
     "text": [
      "155\n"
     ]
    }
   ],
   "source": [
    "print(grid_max(x,N))"
   ]
  },
  {
   "cell_type": "markdown",
   "metadata": {},
   "source": [
    "# 답 풀이"
   ]
  },
  {
   "cell_type": "markdown",
   "metadata": {},
   "source": [
    "채점코드를 위해서, 아래와 같이 구성\n",
    "```\n",
    "import sys\n",
    "sys.stdin=open(\"input.txt\",'rt') # 경로 잡고, 파일 엵음. rt= read a file as text\n",
    "```\n",
    "\n",
    "실행할때는, sys.stdin=open('input.txt','rt)를 주석처리 하고 실행시키면 된다."
   ]
  },
  {
   "cell_type": "code",
   "execution_count": null,
   "metadata": {},
   "outputs": [],
   "source": [
    "import sys\n",
    "#sys.stdin=open(\"input.txt\",'rt') # 경로 잡고, 파일 엵음. read a file as text\n",
    "\n",
    "n = int(input())\n",
    "a=[list(map(int,input().split())) for _ in range(n)] # 5줄 읽어들임.\n",
    "\n",
    "\n",
    "largest=-214700000\n",
    "for i in range(n):\n",
    "    sum1=sum2=0\n",
    "    for j in range(n):\n",
    "        sum1+=a[i][j]\n",
    "        sum2+=a[j][i]\n",
    "    if sum1>largest:\n",
    "        largest = sum1\n",
    "    if sum2>largest:\n",
    "        largest = sum2\n",
    "        \n",
    "sum1=sum2=0 # 대각선\n",
    "for i in range(n):\n",
    "    sum1+=a[i][i]\n",
    "    sum2+=a[i][n-i-1]\n",
    "if sum1>largest:\n",
    "    largest = sum1\n",
    "if sum2>largest:\n",
    "    largest = sum2\n",
    "\n",
    "print(largest)"
   ]
  }
 ],
 "metadata": {
  "kernelspec": {
   "display_name": "Python 3",
   "language": "python",
   "name": "python3"
  },
  "language_info": {
   "codemirror_mode": {
    "name": "ipython",
    "version": 3
   },
   "file_extension": ".py",
   "mimetype": "text/x-python",
   "name": "python",
   "nbconvert_exporter": "python",
   "pygments_lexer": "ipython3",
   "version": "3.8.5"
  }
 },
 "nbformat": 4,
 "nbformat_minor": 2
}
