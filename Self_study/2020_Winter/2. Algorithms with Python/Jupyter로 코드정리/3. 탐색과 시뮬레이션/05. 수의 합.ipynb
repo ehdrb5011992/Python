{
 "cells": [
  {
   "cell_type": "markdown",
   "metadata": {},
   "source": [
    "# 내 풀이"
   ]
  },
  {
   "cell_type": "markdown",
   "metadata": {},
   "source": [
    "80%정답률임. <br>\n",
    "나머지 하나는 시간초과가 뜬다."
   ]
  },
  {
   "cell_type": "markdown",
   "metadata": {},
   "source": [
    "### 보통 연속적인 값 잡는 문제는 포인터 두개잡음"
   ]
  },
  {
   "cell_type": "markdown",
   "metadata": {},
   "source": [
    "그 이유는 축을 한개만 잡았기 때문. <br>\n",
    "포인터를 두개(왼쪽과 오른쪽) 으로 잡으면서 둘다 움직이면, <br>\n",
    "for문의 횟수를 줄일 수 있음. <br>\n",
    "\n",
    "나의 경우는 포인터를 왼쪽(i) 한개만 잡았기 때문에 loop를 많이돌아야함."
   ]
  },
  {
   "cell_type": "markdown",
   "metadata": {},
   "source": [
    "더불어 if문 내에서는, 미래 지향적으로 코딩하는것이 좋아보임. <br>\n",
    "다음 루프를 돌걸 대비해서, 미리 값들을 변화시켜놓는거임."
   ]
  },
  {
   "cell_type": "code",
   "execution_count": 2,
   "metadata": {},
   "outputs": [],
   "source": [
    "x = [1,2,1,3,1,1,1,2]\n",
    "N = len(x)\n",
    "M = 3"
   ]
  },
  {
   "cell_type": "code",
   "execution_count": 5,
   "metadata": {},
   "outputs": [],
   "source": [
    "def sum_value(x,N,M):\n",
    "    cnt = 0\n",
    "    for i in range(N):\n",
    "        cumsum = 0\n",
    "        for j in range(i,N):\n",
    "            cumsum += x[j]\n",
    "            if cumsum > M:\n",
    "                break\n",
    "            elif cumsum < M:\n",
    "                continue\n",
    "            else:\n",
    "                cnt+=1\n",
    "                break\n",
    "    return cnt\n",
    "        "
   ]
  },
  {
   "cell_type": "code",
   "execution_count": 6,
   "metadata": {},
   "outputs": [
    {
     "data": {
      "text/plain": [
       "5"
      ]
     },
     "execution_count": 6,
     "metadata": {},
     "output_type": "execute_result"
    }
   ],
   "source": [
    "sum_value(x,N,M)"
   ]
  },
  {
   "cell_type": "markdown",
   "metadata": {},
   "source": [
    "# 답 풀이"
   ]
  },
  {
   "cell_type": "markdown",
   "metadata": {},
   "source": [
    "채점코드를 위해서, 아래와 같이 구성\n",
    "```\n",
    "import sys\n",
    "sys.stdin=open(\"input.txt\",'rt') # 경로 잡고, 파일 엵음. rt= read a file as text\n",
    "```\n",
    "\n",
    "실행할때는, sys.stdin=open('input.txt','rt)를 주석처리 하고 실행시키면 된다."
   ]
  },
  {
   "cell_type": "code",
   "execution_count": null,
   "metadata": {},
   "outputs": [],
   "source": [
    "import sys\n",
    "#sys.stdin=open(\"input.txt\",'rt') # 경로 잡고, 파일 엵음. read a file as text\n",
    "\n",
    "n,m=map(int,input().split())\n",
    "a = list(map(int,input().split()))\n",
    "\n",
    "lt=0 # 왼쪽포인터\n",
    "rt=1 # 오른쪽 포인터 // 이렇게 설정해야 a[lt:rt] 를 인식한다.\n",
    "tot=a[0] # 초기값 설정. (cumsum에 해당함)\n",
    "cnt=0\n",
    "while True:\n",
    "    if tot<m: # 오른쪽 포인터를 하나씩 늘려가면서 값을 보는것.\n",
    "        if rt<n: # 늘렸는데, 길이를 넘어가면 안됨. (인덱스가 길이보다 작을 때만)\n",
    "            tot+=a[rt] # 더함\n",
    "            rt+=1 # 포인터 하나 증가\n",
    "        else: # 1. rt가 더이상 못늘어남. 2. \n",
    "            break # 이경우들에, 무조건 여기와서 break된다.\n",
    "    elif tot==m:\n",
    "        cnt +=1 #이때가 정답 증가\n",
    "        tot -= a[lt] #다음 값을 살펴보기 위해 값 줄임.\n",
    "        lt += 1 #그리고 왼쪽포인터 이동.\n",
    "    else: # 만약 tot > m이면\n",
    "        tot -= a[lt] #너무 값이 크기때문에 줄여주고\n",
    "        lt += 1 #왼쪽포인터도 하나 옮겨서 살펴봄.\n",
    "print(cnt)\n"
   ]
  }
 ],
 "metadata": {
  "kernelspec": {
   "display_name": "Python 3",
   "language": "python",
   "name": "python3"
  },
  "language_info": {
   "codemirror_mode": {
    "name": "ipython",
    "version": 3
   },
   "file_extension": ".py",
   "mimetype": "text/x-python",
   "name": "python",
   "nbconvert_exporter": "python",
   "pygments_lexer": "ipython3",
   "version": "3.8.5"
  }
 },
 "nbformat": 4,
 "nbformat_minor": 2
}
