{
 "cells": [
  {
   "cell_type": "markdown",
   "metadata": {},
   "source": [
    "# 내 풀이"
   ]
  },
  {
   "cell_type": "code",
   "execution_count": 17,
   "metadata": {},
   "outputs": [],
   "source": [
    "N=5\n",
    "x = [[10,13,10,12,15],[12,39,30,23,11],[11,25,50,53,15],\\\n",
    "     [19,27,29,37,27],[19,13,30,13,19]]"
   ]
  },
  {
   "cell_type": "code",
   "execution_count": 18,
   "metadata": {},
   "outputs": [],
   "source": [
    "def apple_tree(x,N):\n",
    "\n",
    "    dx=0\n",
    "    tot=0\n",
    "    st= N//2\n",
    "    for i in range(N):\n",
    "        tot += sum(x[i][(st-dx):(st+dx+1)])\n",
    "        if i < (N-1)//2:\n",
    "            dx+=1\n",
    "        else:\n",
    "            dx-=1\n",
    "    return(tot)\n"
   ]
  },
  {
   "cell_type": "code",
   "execution_count": 19,
   "metadata": {},
   "outputs": [
    {
     "name": "stdout",
     "output_type": "stream",
     "text": [
      "379\n"
     ]
    }
   ],
   "source": [
    "print(apple_tree(x,N))"
   ]
  },
  {
   "cell_type": "markdown",
   "metadata": {},
   "source": [
    "# 답 풀이"
   ]
  },
  {
   "cell_type": "markdown",
   "metadata": {},
   "source": [
    "채점코드를 위해서, 아래와 같이 구성\n",
    "```\n",
    "import sys\n",
    "sys.stdin=open(\"input.txt\",'rt') # 경로 잡고, 파일 엵음. rt= read a file as text\n",
    "```\n",
    "\n",
    "실행할때는, sys.stdin=open('input.txt','rt)를 주석처리 하고 실행시키면 된다."
   ]
  },
  {
   "cell_type": "code",
   "execution_count": null,
   "metadata": {},
   "outputs": [],
   "source": [
    "import sys\n",
    "#sys.stdin=open(\"input.txt\",'rt') # 경로 잡고, 파일 엵음. read a file as text\n",
    "\n",
    "n=int(input())\n",
    "x=[list(map(int,input().split())) for _ in range(n)]\n",
    "\n",
    "res=0\n",
    "\n",
    "s=e=n//2\n",
    "for i in range(n):\n",
    "    for j in range(s,e+1):\n",
    "        res+=a[i][j]\n",
    "\n",
    "    if i< n//2:\n",
    "        s-=1\n",
    "        e+=1\n",
    "    else:\n",
    "        s+=1\n",
    "        e-=1\n",
    "print(res)"
   ]
  }
 ],
 "metadata": {
  "kernelspec": {
   "display_name": "Python 3",
   "language": "python",
   "name": "python3"
  },
  "language_info": {
   "codemirror_mode": {
    "name": "ipython",
    "version": 3
   },
   "file_extension": ".py",
   "mimetype": "text/x-python",
   "name": "python",
   "nbconvert_exporter": "python",
   "pygments_lexer": "ipython3",
   "version": "3.8.5"
  }
 },
 "nbformat": 4,
 "nbformat_minor": 2
}
