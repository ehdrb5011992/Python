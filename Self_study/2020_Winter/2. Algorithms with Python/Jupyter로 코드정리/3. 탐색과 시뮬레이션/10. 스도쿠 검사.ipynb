{
 "cells": [
  {
   "cell_type": "markdown",
   "metadata": {},
   "source": [
    "# 내 풀이"
   ]
  },
  {
   "cell_type": "markdown",
   "metadata": {},
   "source": [
    "와... 정답풀이를 꼭 이해하기 <br>\n",
    "0으로 초기화한 체크리스트를 만들고, 숫자가 들어가있으면 하나씩 카운트로 채운다. <br>\n",
    "그리고 다 더했을때 9가 되지 않으면, 정답이 아닌거임. <br>\n",
    "아이디어를 본받기 <br>\n",
    "\n",
    "\n",
    "그룹탐색은 4중 for문을 사용할수밖에 없음."
   ]
  },
  {
   "cell_type": "markdown",
   "metadata": {},
   "source": [
    "range 영역은 최대한 깔끔하게 정리하기. <br>\n",
    "for문에서 어떤게 돌아가는지 정확히 알기위해선, 이런 코딩스타일이 중요함."
   ]
  },
  {
   "cell_type": "code",
   "execution_count": 1,
   "metadata": {},
   "outputs": [],
   "source": [
    "x=['1 4 3 6 2 8 5 7 9'.split(),\n",
    "'5 7 2 1 3 9 4 6 8'.split(),\n",
    "'9 8 6 7 5 4 2 3 1'.split(),\n",
    "'3 9 1 5 4 2 7 8 6'.split(),\n",
    "'4 6 8 9 1 7 3 5 2'.split(),\n",
    "'7 2 5 8 6 3 9 1 4'.split(),\n",
    "'2 3 7 4 8 1 6 9 5'.split(),\n",
    "'6 1 9 2 7 5 8 4 3'.split(),\n",
    "'8 5 4 3 9 6 1 2 7'.split()]\n",
    "x = [list(map(lambda a:int(a),i)) for i in x]"
   ]
  },
  {
   "cell_type": "code",
   "execution_count": 2,
   "metadata": {},
   "outputs": [],
   "source": [
    "def is_zero_nine(x):\n",
    "    answer=set(range(1,10))\n",
    "    x=set(x)\n",
    "    if x == answer:\n",
    "        return True\n",
    "    else:\n",
    "        return False"
   ]
  },
  {
   "cell_type": "code",
   "execution_count": 3,
   "metadata": {},
   "outputs": [],
   "source": [
    "def transpose(x):\n",
    "    ans = [[0]*len(x) for _ in range(len(x))]\n",
    "    for i in range(len(x)):\n",
    "        for j in range(len(x)):\n",
    "            ans[i][j] = x[j][i]\n",
    "    return ans"
   ]
  },
  {
   "cell_type": "code",
   "execution_count": 4,
   "metadata": {},
   "outputs": [],
   "source": [
    "def line_check(x):\n",
    "    for row in x:\n",
    "        if is_zero_nine(row):\n",
    "            continue\n",
    "        else:\n",
    "            return False\n",
    "    x=transpose(x)\n",
    "    for col in x:\n",
    "        if is_zero_nine(col):\n",
    "            continue\n",
    "        else:\n",
    "            return False\n",
    "    return True"
   ]
  },
  {
   "cell_type": "code",
   "execution_count": 22,
   "metadata": {},
   "outputs": [],
   "source": [
    "def square_check(x):\n",
    "    for case_row in range(3):\n",
    "        for case_col in range(3):\n",
    "            ans=[]\n",
    "            for row in range(3*case_row,3*(case_row+1)):\n",
    "                for col in range(3*case_col,3*(case_col+1)): \n",
    "                    ans.append(x[row][col])\n",
    "            if is_zero_nine(ans):\n",
    "                continue\n",
    "            else:\n",
    "                return False\n",
    "    return True                "
   ]
  },
  {
   "cell_type": "code",
   "execution_count": 24,
   "metadata": {},
   "outputs": [],
   "source": [
    "def total_check(x):\n",
    "    if line_check(x) & square_check(x):\n",
    "        return 'YES'\n",
    "    else:\n",
    "        return 'NO'\n",
    "    "
   ]
  },
  {
   "cell_type": "code",
   "execution_count": 26,
   "metadata": {},
   "outputs": [
    {
     "name": "stdout",
     "output_type": "stream",
     "text": [
      "YES\n"
     ]
    }
   ],
   "source": [
    "print(total_check(x))"
   ]
  },
  {
   "cell_type": "markdown",
   "metadata": {},
   "source": [
    "# 답 풀이"
   ]
  },
  {
   "cell_type": "markdown",
   "metadata": {},
   "source": [
    "채점코드를 위해서, 아래와 같이 구성\n",
    "```\n",
    "import sys\n",
    "sys.stdin=open(\"input.txt\",'rt') # 경로 잡고, 파일 엵음. rt= read a file as text\n",
    "```\n",
    "\n",
    "실행할때는, sys.stdin=open('input.txt','rt)를 주석처리 하고 실행시키면 된다."
   ]
  },
  {
   "cell_type": "code",
   "execution_count": null,
   "metadata": {},
   "outputs": [],
   "source": [
    "import sys\n",
    "#sys.stdin=open(\"input.txt\", \"r\")\n",
    "def check(a):\n",
    "    for i in range(9):\n",
    "        ch1=[0]*10\n",
    "        ch2=[0]*10\n",
    "        for j in range(9):\n",
    "            ch1[a[i][j]]=1\n",
    "            ch2[a[j][i]]=1\n",
    "        if sum(ch1)!=9 or sum(ch2)!=9:\n",
    "            return False\n",
    "        \n",
    "    for i in range(3): # 여기가 그룹탐색\n",
    "        for j in range(3):\n",
    "            ch3=[0]*10\n",
    "            for k in range(3):\n",
    "                for s in range(3):\n",
    "                    ch3[a[i*3+k][j*3+s]]=1 # 3x3그룹이 구성되고, \n",
    "                                            # 그 그룹안에서 또다시 3x3으로 탐색\n",
    "            if sum(ch3)!=9:\n",
    "                return False\n",
    "    return True\n",
    "\n",
    "a=[list(map(int, input().split())) for _ in range(9)]\n",
    "if check(a):\n",
    "    print(\"YES\")\n",
    "else:\n",
    "    print(\"NO\")"
   ]
  }
 ],
 "metadata": {
  "kernelspec": {
   "display_name": "Python 3",
   "language": "python",
   "name": "python3"
  },
  "language_info": {
   "codemirror_mode": {
    "name": "ipython",
    "version": 3
   },
   "file_extension": ".py",
   "mimetype": "text/x-python",
   "name": "python",
   "nbconvert_exporter": "python",
   "pygments_lexer": "ipython3",
   "version": "3.8.5"
  }
 },
 "nbformat": 4,
 "nbformat_minor": 2
}
