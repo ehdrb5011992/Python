{
 "cells": [
  {
   "cell_type": "markdown",
   "metadata": {},
   "source": [
    "# 내 풀이"
   ]
  },
  {
   "cell_type": "markdown",
   "metadata": {},
   "source": [
    "DFS를 풀때 인덱스로 들어갈 수 있으며, <br>\n",
    "인자는 2개 이상도 받을 수 있음을 명심하기. <br>\n",
    "아래 내풀이는 텀을 두고, 강의에서 들은 것을 재구현해봄"
   ]
  },
  {
   "cell_type": "code",
   "execution_count": 1,
   "metadata": {},
   "outputs": [],
   "source": [
    "n=6\n",
    "a=[1,3,5,6,7,10]"
   ]
  },
  {
   "cell_type": "code",
   "execution_count": 13,
   "metadata": {},
   "outputs": [],
   "source": [
    "tot=sum(a)"
   ]
  },
  {
   "cell_type": "code",
   "execution_count": 19,
   "metadata": {},
   "outputs": [],
   "source": [
    "import sys\n",
    "def DFS(i,c_tot): # 인덱스로 받으면, 어차피 함수로 사용할거기 때문에,\n",
    "                   # 변수할당따로필요 없음.\n",
    "    \n",
    "    if c_tot > tot//2:\n",
    "        return\n",
    "    \n",
    "    if i==n:\n",
    "        if c_tot== tot-c_tot:\n",
    "            print('YES')\n",
    "            sys.exit(0)\n",
    "            \n",
    "    else:\n",
    "        DFS(i+1,c_tot+a[i])\n",
    "        DFS(i+1,c_tot)"
   ]
  },
  {
   "cell_type": "code",
   "execution_count": 20,
   "metadata": {
    "scrolled": true
   },
   "outputs": [
    {
     "name": "stdout",
     "output_type": "stream",
     "text": [
      "YES\n"
     ]
    },
    {
     "ename": "SystemExit",
     "evalue": "0",
     "output_type": "error",
     "traceback": [
      "An exception has occurred, use %tb to see the full traceback.\n",
      "\u001b[1;31mSystemExit\u001b[0m\u001b[1;31m:\u001b[0m 0\n"
     ]
    }
   ],
   "source": [
    "DFS(0,0)\n",
    "print('NO')"
   ]
  },
  {
   "cell_type": "markdown",
   "metadata": {},
   "source": [
    "# 답 풀이"
   ]
  },
  {
   "cell_type": "markdown",
   "metadata": {},
   "source": [
    "채점코드를 위해서, 아래와 같이 구성\n",
    "```\n",
    "import sys\n",
    "sys.stdin=open(\"input.txt\",'rt') # 경로 잡고, 파일 엵음. rt= read a file as text\n",
    "```\n",
    "\n",
    "실행할때는, sys.stdin=open('input.txt','rt)를 주석처리 하고 실행시키면 된다."
   ]
  },
  {
   "cell_type": "code",
   "execution_count": null,
   "metadata": {},
   "outputs": [],
   "source": [
    "import sys\n",
    "#sys.stdin=open(\"input.txt\",'rt') # 경로 잡고, 파일 엵음. read a file as text\n",
    "\n",
    "def DFS(L,sum): # L은 index번호, sum은 부분집합의 누적합 (l은 level의 의미가있음)\n",
    "    if L==n:\n",
    "        if sum==(total-sum): # 부분집합의 합이 같으면,\n",
    "            print('YES')\n",
    "            sys.exit(0) #함수가 아니라, 프로그램이 아예 종료. 아래 print(NO가 있기 때문.)\n",
    "    else:\n",
    "        DFS(L+1,sum+a[L]) # 하거나,\n",
    "        DFS(L+1,sum) # 하지 않거나.\n",
    "\n",
    "\n",
    "if __name__=='__main__':\n",
    "    n=int(input()) # 마찬가지로, 전역변수로써 사용됨.\n",
    "    a=list(map(int,input().split()))\n",
    "    total=sum(a)\n",
    "    DFS(0,0)\n",
    "    print('NO')\n"
   ]
  },
  {
   "cell_type": "markdown",
   "metadata": {},
   "source": [
    "좀 더 시간복잡도를 줄여보자."
   ]
  },
  {
   "cell_type": "code",
   "execution_count": null,
   "metadata": {},
   "outputs": [],
   "source": [
    "import sys\n",
    "#sys.stdin=open(\"input.txt\",'rt') # 경로 잡고, 파일 엵음. read a file as text\n",
    "\n",
    "def DFS(L,sum): # L은 index번호, sum은 부분집합의 누적합 (l은 level의 의미가있음)\n",
    "    \n",
    "    if sum>total//2: # 여기가 추가됨. \n",
    "                      # sum==total-sum대신에 sum==total//2를 하면, \n",
    "                      # 홀수만있는경우 문제가 생김.\n",
    "        return\n",
    "\n",
    "\n",
    "    if L==n:\n",
    "        if sum==(total-sum): # 부분집합의 합이 같으면,\n",
    "            print('YES')\n",
    "            sys.exit(0) #함수가 아니라, 프로그램이 아예 종료\n",
    "    else:\n",
    "        DFS(L+1,sum+a[L]) # 하거나,\n",
    "        DFS(L+1,sum) # 하지 않거나.\n",
    "        \n",
    "if __name__=='__main__':\n",
    "    n=int(input()) # 마찬가지로, 전역변수로써 사용됨.\n",
    "    a=list(map(int,input().split()))\n",
    "    total=sum(a)\n",
    "    DFS(0,0)\n",
    "    print('NO')"
   ]
  }
 ],
 "metadata": {
  "kernelspec": {
   "display_name": "Python 3",
   "language": "python",
   "name": "python3"
  },
  "language_info": {
   "codemirror_mode": {
    "name": "ipython",
    "version": 3
   },
   "file_extension": ".py",
   "mimetype": "text/x-python",
   "name": "python",
   "nbconvert_exporter": "python",
   "pygments_lexer": "ipython3",
   "version": "3.8.5"
  }
 },
 "nbformat": 4,
 "nbformat_minor": 2
}
