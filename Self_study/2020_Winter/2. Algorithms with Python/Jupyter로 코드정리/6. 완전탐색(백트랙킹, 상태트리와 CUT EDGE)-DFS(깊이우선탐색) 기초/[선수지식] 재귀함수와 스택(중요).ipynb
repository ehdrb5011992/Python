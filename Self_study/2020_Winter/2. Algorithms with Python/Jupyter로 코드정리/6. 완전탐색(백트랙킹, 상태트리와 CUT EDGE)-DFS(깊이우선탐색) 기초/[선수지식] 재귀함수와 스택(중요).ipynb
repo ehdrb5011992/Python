{
 "cells": [
  {
   "cell_type": "markdown",
   "metadata": {},
   "source": [
    "재귀 함수에 대해 배워보자. (자기자신을 호출하는 함수) <br>\n",
    "재귀함수는 호출할때 stack이라는 자료구조로 호출을 한다."
   ]
  },
  {
   "cell_type": "markdown",
   "metadata": {},
   "source": [
    "재귀함수는 반복문의 효과를 낼 수 있다. <br>\n",
    "삼중for문 등은 문제 효율이 떨어지는 경우가 있다. <br>\n"
   ]
  },
  {
   "cell_type": "markdown",
   "metadata": {},
   "source": [
    "그런 문제는 재귀함수를 작성하면, 효율적으로 풀 수 있다. "
   ]
  },
  {
   "cell_type": "code",
   "execution_count": 1,
   "metadata": {},
   "outputs": [],
   "source": [
    "x=3"
   ]
  },
  {
   "cell_type": "code",
   "execution_count": 2,
   "metadata": {},
   "outputs": [],
   "source": [
    "def DFS(x):\n",
    "    if x > 0: # if문이 없으면, 무한루프로 돌게 됨.\n",
    "        print(x)\n",
    "        DFS(x-1) "
   ]
  },
  {
   "cell_type": "code",
   "execution_count": 4,
   "metadata": {},
   "outputs": [
    {
     "name": "stdout",
     "output_type": "stream",
     "text": [
      "3\n",
      "3\n",
      "2\n",
      "1\n"
     ]
    }
   ],
   "source": [
    "if __name__=='__main__': #메인 스크립트를 구분한다.\n",
    "    n=int(input())\n",
    "    DFS(n)"
   ]
  },
  {
   "cell_type": "code",
   "execution_count": null,
   "metadata": {},
   "outputs": [],
   "source": [
    "# 만약 1,2,3으로 출력하고 싶다면,\n",
    "def DFS(x):\n",
    "    if x > 0: # if문이 없으면, 무한루프로 돌게 됨.\n",
    "        DFS(x-1)\n",
    "        print(x, end=' ')\n",
    "# 이렇게 print문의 위치를 바꾸면 됨. 그러면 1,2,3 출력함"
   ]
  },
  {
   "cell_type": "markdown",
   "metadata": {},
   "source": [
    "무슨 차이가 있을까? <br>\n",
    "이건 재귀함수가 stack을 활용해서 돌아가기 때문임."
   ]
  },
  {
   "cell_type": "markdown",
   "metadata": {},
   "source": [
    "stack 영역에 (매개변수, 지역변수, 복귀주소) 묶음으로 해서 DFS(n)이라는 함수가 작동함. <br>\n",
    "물론 그밖에도 많은 것들이 기록이 된다. "
   ]
  },
  {
   "cell_type": "markdown",
   "metadata": {},
   "source": [
    "즉, [DFS(3), DFS(2), DFS(1), DFS(0)] (리스트를 스택처럼 표현)<br>\n",
    "이고, 세부적으로, <br>\n",
    "[(X=3, 지역변수, DFS(n)), (X=2, 지역변수, DFS(3)), (X=1,지역변수, DFS(2)),(X=0, 지역변수, DFS(1))] 이고, <br> \n",
    "각 묶음을 stack frame이라고 부른다. 명심할건, 각 X는 서로 다른거임."
   ]
  },
  {
   "cell_type": "markdown",
   "metadata": {},
   "source": [
    "stack의 마지막이 False가 나올때까지 쭉 쌓이며, <br>\n",
    "stack이기 때문에, DFS(0)(False)를 쌓고 작동하고나면 DFS(0)스택프레임은 지워짐. <br>\n",
    "이와 동시에 하나씩 저장했던 변수들을 호출해내면서 값을 불러오는거임."
   ]
  },
  {
   "cell_type": "markdown",
   "metadata": {},
   "source": [
    "### stack으로 재귀함수가 구성된다는게 굉장히 중요하며, \n"
   ]
  },
  {
   "cell_type": "markdown",
   "metadata": {},
   "source": [
    "이에 따라 재귀함수아래에 실행문이 필요한지,<br> \n",
    "혹은 재귀함수 위에 실행문이 필요한지 판단하는 능력이 생기게 된다."
   ]
  }
 ],
 "metadata": {
  "kernelspec": {
   "display_name": "Python 3",
   "language": "python",
   "name": "python3"
  },
  "language_info": {
   "codemirror_mode": {
    "name": "ipython",
    "version": 3
   },
   "file_extension": ".py",
   "mimetype": "text/x-python",
   "name": "python",
   "nbconvert_exporter": "python",
   "pygments_lexer": "ipython3",
   "version": "3.8.5"
  }
 },
 "nbformat": 4,
 "nbformat_minor": 2
}
