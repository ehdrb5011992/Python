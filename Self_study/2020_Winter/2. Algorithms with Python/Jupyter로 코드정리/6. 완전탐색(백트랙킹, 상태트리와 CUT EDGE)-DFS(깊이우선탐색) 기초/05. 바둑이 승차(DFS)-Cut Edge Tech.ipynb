{
 "cells": [
  {
   "cell_type": "markdown",
   "metadata": {},
   "source": [
    "# 내 풀이"
   ]
  },
  {
   "cell_type": "markdown",
   "metadata": {},
   "source": [
    "이것도 부분집합을 사용하면 끝나는 문제이다. "
   ]
  },
  {
   "cell_type": "markdown",
   "metadata": {},
   "source": [
    "5초로 설정해도, time limit이 뜬다. <br>\n",
    "답 풀이를 이해하고, 내것으로 만들어보자."
   ]
  },
  {
   "cell_type": "code",
   "execution_count": 51,
   "metadata": {},
   "outputs": [],
   "source": [
    "C=259\n",
    "N=5\n",
    "x=[81,58,42,33,61]"
   ]
  },
  {
   "cell_type": "code",
   "execution_count": 52,
   "metadata": {},
   "outputs": [],
   "source": [
    "res=[]"
   ]
  },
  {
   "cell_type": "code",
   "execution_count": 53,
   "metadata": {},
   "outputs": [],
   "source": [
    "def DFS(i,tot,tmp): # i=index, tot=total, tmp= temp(current max value)\n",
    "    if i==N:\n",
    "        if tmp<= tot <= C:\n",
    "            tmp = tot\n",
    "            res.append(tmp)\n",
    "        \n",
    "    else:\n",
    "        DFS(i+1,tot+x[i],tmp)\n",
    "        DFS(i+1,tot,tmp)"
   ]
  },
  {
   "cell_type": "code",
   "execution_count": 54,
   "metadata": {},
   "outputs": [],
   "source": [
    "DFS(0,0,0)"
   ]
  },
  {
   "cell_type": "code",
   "execution_count": 57,
   "metadata": {},
   "outputs": [
    {
     "name": "stdout",
     "output_type": "stream",
     "text": [
      "242\n"
     ]
    }
   ],
   "source": [
    "print(max(res))"
   ]
  },
  {
   "cell_type": "markdown",
   "metadata": {},
   "source": [
    "# 답 풀이"
   ]
  },
  {
   "cell_type": "markdown",
   "metadata": {},
   "source": [
    "채점코드를 위해서, 아래와 같이 구성\n",
    "```\n",
    "import sys\n",
    "sys.stdin=open(\"input.txt\",'rt') # 경로 잡고, 파일 엵음. rt= read a file as text\n",
    "```\n",
    "\n",
    "실행할때는, sys.stdin=open('input.txt','rt)를 주석처리 하고 실행시키면 된다."
   ]
  },
  {
   "cell_type": "markdown",
   "metadata": {},
   "source": [
    "### 1) 평범하게 짜면 이렇게 짠다. 그러나, 시간이 오래걸린다."
   ]
  },
  {
   "cell_type": "code",
   "execution_count": null,
   "metadata": {},
   "outputs": [],
   "source": [
    "import sys\n",
    "#sys.stdin=open(\"input.txt\",'rt') # 경로 잡고, 파일 엵음. read a file as text\n",
    "\n",
    "def DFS(L,sum): # L은 index번호 , sum은 부분집합의 합\n",
    "\n",
    "    global result # 3. 그래서 이렇게 global선언을 해줌.\n",
    "\n",
    "    if sum>c: # 4. 가장 나중에 추가해주므로써, 얘가 중요함. (종료조건은 나중에만듦)\n",
    "              # 값이 C를 넘어가면 안되므로, 이렇게 하면 됨. (종료조건)\n",
    "        return # 아무것도 안하고 종료.\n",
    "\n",
    "    \n",
    "    if L==n: # 부분집합이 하나 완성 \n",
    "        if sum > result :\n",
    "            result=sum # 1. 이건 로컬변수이다. (숫자순으로 읽기)\n",
    "                       # 2. 근데, 바로 윗줄에서 참조할때 글로벌처럼 취급함.\n",
    "    else:\n",
    "        DFS(L+1,sum+a[L])\n",
    "        DFS(L+1,sum)\n",
    "    \n",
    "\n",
    "\n",
    "if __name__=='__main__': # 아마, 이렇게 main 스크립트에 저장하는 이유는,\n",
    "                         # 변수를 local, global로 섞어쓰기때문에 그러지 않을까,,\n",
    "    c,n=map(int,input().split())\n",
    "    a=[0]*n # 무게를 여기다 넣고 접근할꺼임.\n",
    "    result=-2147000000 # 최댓값을 찾을꺼지, 낮은값으로 초기화\n",
    "    for i in range(n):\n",
    "        a[i]=int(input())\n",
    "    DFS(0,0)\n",
    "    print(result)\n"
   ]
  },
  {
   "cell_type": "markdown",
   "metadata": {},
   "source": [
    "### 2) 그래서 가지치기가 필요하다."
   ]
  },
  {
   "cell_type": "markdown",
   "metadata": {},
   "source": [
    "tsum에 대해 생각해보자"
   ]
  },
  {
   "cell_type": "code",
   "execution_count": null,
   "metadata": {},
   "outputs": [],
   "source": [
    "import sys\n",
    "#sys.stdin=open(\"input.txt\",'rt') # 경로 잡고, 파일 엵음. read a file as text\n",
    "\n",
    "def DFS(L,sum,tsum): # L은 index번호 , sum은 현재까지 실제 만든 부분집합의 합\n",
    "                     # tsum은 살펴본 level까지의 누적합.\n",
    "\n",
    "    global result\n",
    "\n",
    "    if sum +(total-tsum) < result: # 이 문장을 추가해주면 됨. (가지치기)\n",
    "                                    # (total-tsum)은 앞으로 판단을 해야할 것들의 무게합\n",
    "        return\n",
    "\n",
    "    if sum>c: \n",
    "        return\n",
    "    \n",
    "    \n",
    "    if L==n: \n",
    "        if sum > result :\n",
    "            result=sum \n",
    "                       \n",
    "    else:\n",
    "        DFS(L+1,sum+a[L],tsum+a[L]) #부분집합에 들어가지 않았어도, 더해줌.\n",
    "        DFS(L+1,sum,tsum+a[L])\n",
    "    \n",
    "\n",
    "\n",
    "if __name__=='__main__': \n",
    "    c,n=map(int,input().split())\n",
    "    a=[0]*n \n",
    "    result=-2147000000\n",
    "    for i in range(n):\n",
    "        a[i]=int(input())\n",
    "    total = sum(a) #바둑이 총합 추가\n",
    "    DFS(0,0,0)\n",
    "    print(result)\n"
   ]
  }
 ],
 "metadata": {
  "kernelspec": {
   "display_name": "Python 3",
   "language": "python",
   "name": "python3"
  },
  "language_info": {
   "codemirror_mode": {
    "name": "ipython",
    "version": 3
   },
   "file_extension": ".py",
   "mimetype": "text/x-python",
   "name": "python",
   "nbconvert_exporter": "python",
   "pygments_lexer": "ipython3",
   "version": "3.8.5"
  }
 },
 "nbformat": 4,
 "nbformat_minor": 2
}
