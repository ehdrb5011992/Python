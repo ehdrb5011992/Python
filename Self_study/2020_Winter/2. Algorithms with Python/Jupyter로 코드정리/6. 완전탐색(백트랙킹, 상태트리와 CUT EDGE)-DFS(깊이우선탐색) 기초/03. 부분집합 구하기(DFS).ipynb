{
 "cells": [
  {
   "cell_type": "markdown",
   "metadata": {},
   "source": [
    "# 내 풀이"
   ]
  },
  {
   "cell_type": "markdown",
   "metadata": {},
   "source": [
    "강의를 듣고, 코드를 재구현해보았다. <br>\n",
    "기본적으로, 이진트리란 True and False 와 결합해 잘 쓴다라는걸 명심하고 코딩하기 <br>\n",
    "이런걸 상태트리라고 부르며, 사용하면 왼쪽, 사용하지 않으면 오른쪽으로 구성한다. <br>"
   ]
  },
  {
   "cell_type": "markdown",
   "metadata": {},
   "source": [
    "### 앞으로 DFS를 잘하려면, 이런 상태트리만 잘 구성할줄 알면 된다."
   ]
  },
  {
   "cell_type": "markdown",
   "metadata": {},
   "source": [
    "원소가 있니 없니를 생각하며 트리를 구성하면 된다."
   ]
  },
  {
   "cell_type": "code",
   "execution_count": 27,
   "metadata": {},
   "outputs": [],
   "source": [
    "n=3\n",
    "check=[0]*(n+1)"
   ]
  },
  {
   "cell_type": "code",
   "execution_count": 30,
   "metadata": {},
   "outputs": [],
   "source": [
    "def DFS(x):\n",
    "    if x==(n+1):\n",
    "        for i in range(1,n+1):\n",
    "            if check[i]==1:\n",
    "                print(i,end=' ')\n",
    "        print()\n",
    "    else:\n",
    "        check[x]=1\n",
    "        DFS(x+1)\n",
    "        check[x]=0\n",
    "        DFS(x+1)"
   ]
  },
  {
   "cell_type": "code",
   "execution_count": 31,
   "metadata": {},
   "outputs": [
    {
     "name": "stdout",
     "output_type": "stream",
     "text": [
      "1 2 3 \n",
      "1 2 \n",
      "1 3 \n",
      "1 \n",
      "2 3 \n",
      "2 \n",
      "3 \n",
      "\n"
     ]
    }
   ],
   "source": [
    "DFS(1)"
   ]
  },
  {
   "cell_type": "markdown",
   "metadata": {},
   "source": [
    "# 답 풀이"
   ]
  },
  {
   "cell_type": "markdown",
   "metadata": {},
   "source": [
    "채점코드를 위해서, 아래와 같이 구성\n",
    "```\n",
    "import sys\n",
    "sys.stdin=open(\"input.txt\",'rt') # 경로 잡고, 파일 엵음. rt= read a file as text\n",
    "```\n",
    "\n",
    "실행할때는, sys.stdin=open('input.txt','rt)를 주석처리 하고 실행시키면 된다."
   ]
  },
  {
   "cell_type": "code",
   "execution_count": null,
   "metadata": {},
   "outputs": [],
   "source": [
    "import sys\n",
    "#sys.stdin=open(\"input.txt\",'rt') # 경로 잡고, 파일 엵음. read a file as text\n",
    "\n",
    "def DFS(v):\n",
    "    if v==n+1: # 3의 부분집합을 구하는경우, 리프 노드로 4를가지면 출력하는거임.\n",
    "        for i in range(1,n+1): # 공집합인경우는 출력안해도 됨.\n",
    "            if ch[i]==1: \n",
    "                print(i,end=' ') # 그래서 들어와있는 쌍에 따라 출력\n",
    "        print() # 줄바꿈\n",
    "\n",
    "    else: # 여기가 재귀문.\n",
    "        \n",
    "        ch[v]=1 # 켯음.\n",
    "        DFS(v+1)\n",
    "        ch[v]=0 # 껏음.\n",
    "        DFS(v+1)\n",
    "\n",
    "\n",
    "if __name__=='__main__':\n",
    "    n=int(input()) # 마찬가지로, 전역변수로써 사용됨.\n",
    "    ch=[0]*(n+1) # check변수. 왼쪽 및 오른쪽임. 넉넉히 n+1 // 전역변수로써 외부에씀\n",
    "    DFS(1)\n",
    "\n"
   ]
  }
 ],
 "metadata": {
  "kernelspec": {
   "display_name": "Python 3",
   "language": "python",
   "name": "python3"
  },
  "language_info": {
   "codemirror_mode": {
    "name": "ipython",
    "version": 3
   },
   "file_extension": ".py",
   "mimetype": "text/x-python",
   "name": "python",
   "nbconvert_exporter": "python",
   "pygments_lexer": "ipython3",
   "version": "3.8.5"
  }
 },
 "nbformat": 4,
 "nbformat_minor": 2
}
