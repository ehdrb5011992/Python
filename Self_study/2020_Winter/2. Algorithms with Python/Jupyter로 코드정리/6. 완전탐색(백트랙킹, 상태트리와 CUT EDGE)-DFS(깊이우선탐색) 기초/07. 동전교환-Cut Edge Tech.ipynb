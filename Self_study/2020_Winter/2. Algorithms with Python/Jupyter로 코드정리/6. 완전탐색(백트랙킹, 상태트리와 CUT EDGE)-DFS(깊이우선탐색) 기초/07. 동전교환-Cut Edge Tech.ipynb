{
 "cells": [
  {
   "cell_type": "markdown",
   "metadata": {},
   "source": [
    "# 내 풀이"
   ]
  },
  {
   "cell_type": "markdown",
   "metadata": {},
   "source": [
    "### 가지치기를 어떻게 해야할지 모르겠다. "
   ]
  },
  {
   "cell_type": "markdown",
   "metadata": {},
   "source": [
    "와... 기존 데이터를 내림차순으로 정렬하는, 기초적인 생각하는거 잊지말기..."
   ]
  },
  {
   "cell_type": "markdown",
   "metadata": {},
   "source": [
    "더불어, 가지치기는 현재 index보다 클 필요가 없다는데에 목적을 두고 코딩하면 됨."
   ]
  },
  {
   "cell_type": "code",
   "execution_count": 1,
   "metadata": {},
   "outputs": [],
   "source": [
    "n=3\n",
    "m=15\n",
    "x=[1,2,5]"
   ]
  },
  {
   "cell_type": "code",
   "execution_count": 2,
   "metadata": {},
   "outputs": [],
   "source": [
    "res=2147000000"
   ]
  },
  {
   "cell_type": "code",
   "execution_count": 4,
   "metadata": {},
   "outputs": [],
   "source": [
    "def DFS(index,sum):\n",
    "    \n",
    "    global res\n",
    "    \n",
    "    if sum > m: # sum이 필요이상으로 굉장히 크면, 종료.\n",
    "        return\n",
    "\n",
    "    if sum==m:\n",
    "        if index < res:\n",
    "            res=index\n",
    "    else:\n",
    "        for val in x:\n",
    "            DFS(index+1,sum+val)"
   ]
  },
  {
   "cell_type": "code",
   "execution_count": 5,
   "metadata": {},
   "outputs": [
    {
     "name": "stdout",
     "output_type": "stream",
     "text": [
      "3\n"
     ]
    }
   ],
   "source": [
    "DFS(0,0)\n",
    "print(res)"
   ]
  },
  {
   "cell_type": "markdown",
   "metadata": {},
   "source": [
    "# 답 풀이"
   ]
  },
  {
   "cell_type": "markdown",
   "metadata": {},
   "source": [
    "채점코드를 위해서, 아래와 같이 구성\n",
    "```\n",
    "import sys\n",
    "sys.stdin=open(\"input.txt\",'rt') # 경로 잡고, 파일 엵음. rt= read a file as text\n",
    "```\n",
    "\n",
    "실행할때는, sys.stdin=open('input.txt','rt)를 주석처리 하고 실행시키면 된다."
   ]
  },
  {
   "cell_type": "code",
   "execution_count": null,
   "metadata": {},
   "outputs": [],
   "source": [
    "import sys\n",
    "#sys.stdin=open(\"input.txt\",'rt') # 경로 잡고, 파일 엵음. read a file as text\n",
    "\n",
    "\n",
    "def DFS(L,sum):\n",
    "    global res\n",
    "    if L>res:\n",
    "        return\n",
    "    if sum > m: # 값이 만약 가지고 제한보다 크면 / 가지뻗으면안됨.\n",
    "        return\n",
    "    \n",
    "    if sum==m:\n",
    "        if L < res: # 2. 이미 참조하고 있었음.\n",
    "            res=L # 1. 지역변수 선언했는데,\n",
    "    else:\n",
    "        for i in range(n): # 동전의 개수만큼 돎.\n",
    "            DFS(L+1,sum+a[i])\n",
    "                                \n",
    "\n",
    "if __name__=='__main__':\n",
    "    \n",
    "\n",
    "    n=int(input())\n",
    "    a=list(map(int,input().split()))\n",
    "    m=int(input())\n",
    "    res=2147000000\n",
    "    a.sort(reverse=True) # 가지를 뻗을때는\n",
    "                         # 기존 데이터를 내림차순으로 정렬 시, 빨리 볼 수 있다.\n",
    "    DFS(0,0)\n",
    "    print(res)\n"
   ]
  }
 ],
 "metadata": {
  "kernelspec": {
   "display_name": "Python 3",
   "language": "python",
   "name": "python3"
  },
  "language_info": {
   "codemirror_mode": {
    "name": "ipython",
    "version": 3
   },
   "file_extension": ".py",
   "mimetype": "text/x-python",
   "name": "python",
   "nbconvert_exporter": "python",
   "pygments_lexer": "ipython3",
   "version": "3.8.5"
  }
 },
 "nbformat": 4,
 "nbformat_minor": 2
}
