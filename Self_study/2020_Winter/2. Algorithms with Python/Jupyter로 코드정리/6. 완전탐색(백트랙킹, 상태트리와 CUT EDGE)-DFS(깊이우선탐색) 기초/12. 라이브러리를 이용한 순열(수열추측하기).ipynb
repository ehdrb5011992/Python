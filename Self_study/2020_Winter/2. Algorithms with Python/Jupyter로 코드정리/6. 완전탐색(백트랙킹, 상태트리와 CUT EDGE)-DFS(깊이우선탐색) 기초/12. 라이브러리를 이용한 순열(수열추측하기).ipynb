{
 "cells": [
  {
   "cell_type": "markdown",
   "metadata": {},
   "source": [
    "# 내 풀이"
   ]
  },
  {
   "cell_type": "markdown",
   "metadata": {},
   "source": [
    "이 문제는, 앞의 [09. 수열추측하기] 문제를 라이브러리를 이용하여 풀어본다."
   ]
  },
  {
   "cell_type": "markdown",
   "metadata": {},
   "source": [
    "강의를 듣고, 라이브러리의 사용법을 익혀서 다시한번 구현해보았다."
   ]
  },
  {
   "cell_type": "markdown",
   "metadata": {},
   "source": [
    "## 주의) 라이브러리에 의존하지 말기. \n",
    "## 기본은 재귀함수를 구현할줄 알아야함. "
   ]
  },
  {
   "cell_type": "code",
   "execution_count": 6,
   "metadata": {},
   "outputs": [],
   "source": [
    "n,f=4,16"
   ]
  },
  {
   "cell_type": "code",
   "execution_count": 9,
   "metadata": {},
   "outputs": [
    {
     "name": "stdout",
     "output_type": "stream",
     "text": [
      "3 1 2 4 "
     ]
    }
   ],
   "source": [
    "import itertools as it\n",
    "\n",
    "coef=[1]*n\n",
    "for i in range(1,n):\n",
    "    coef[i]=coef[i-1]*(n-i)/i\n",
    "\n",
    "one_to_n=list(range(1,n+1))\n",
    "    \n",
    "for case in it.permutations(one_to_n):\n",
    "    sum=0\n",
    "    for idx,num in enumerate(case):\n",
    "        sum+= num*coef[idx]\n",
    "    if sum==f:\n",
    "        for i in case:\n",
    "            print(i,end=' ')\n",
    "        break"
   ]
  },
  {
   "cell_type": "markdown",
   "metadata": {},
   "source": [
    "# 답 풀이"
   ]
  },
  {
   "cell_type": "markdown",
   "metadata": {},
   "source": [
    "채점코드를 위해서, 아래와 같이 구성\n",
    "```\n",
    "import sys\n",
    "sys.stdin=open(\"input.txt\",'rt') # 경로 잡고, 파일 엵음. rt= read a file as text\n",
    "```\n",
    "\n",
    "실행할때는, sys.stdin=open('input.txt','rt)를 주석처리 하고 실행시키면 된다."
   ]
  },
  {
   "cell_type": "code",
   "execution_count": null,
   "metadata": {},
   "outputs": [],
   "source": [
    "import sys\n",
    "#sys.stdin=open(\"input.txt\",'rt') # 경로 잡고, 파일 엵음. read a file as text\n",
    "\n",
    "# 다만, 라이브러리를 사용해서 순열,조합을 사용하는데 익숙해지지 말기.\n",
    "# 조건이 주어지면, 라이브러리 안통함.\n",
    "\n",
    "import itertools as it # itertools라는 라이브러리를 쓸거다.\n",
    "n,f=map(int,input().split())\n",
    "b=[1]*n\n",
    "for i in range(1,n):\n",
    "    b[i]=b[i-1]*(n-i)/i # 이항계수\n",
    "\n",
    "a=list(range(1,n+1))\n",
    "for tmp in it.permutations(a): # a의 permutation 조합을 튜플형태로 구해준다.\n",
    "                               # it.permutations(a,3)은 a리스트에서 3개 퍼뮤테이션\n",
    "\n",
    "    sum=0\n",
    "    for L,x in enumerate(tmp):\n",
    "        sum+=(x*b[L]) #원소곱\n",
    "    if sum==f:\n",
    "        for x in tmp:\n",
    "            print(x,end=' ')\n",
    "        break # 같으면 종료)\n"
   ]
  }
 ],
 "metadata": {
  "kernelspec": {
   "display_name": "Python 3",
   "language": "python",
   "name": "python3"
  },
  "language_info": {
   "codemirror_mode": {
    "name": "ipython",
    "version": 3
   },
   "file_extension": ".py",
   "mimetype": "text/x-python",
   "name": "python",
   "nbconvert_exporter": "python",
   "pygments_lexer": "ipython3",
   "version": "3.8.5"
  }
 },
 "nbformat": 4,
 "nbformat_minor": 2
}
