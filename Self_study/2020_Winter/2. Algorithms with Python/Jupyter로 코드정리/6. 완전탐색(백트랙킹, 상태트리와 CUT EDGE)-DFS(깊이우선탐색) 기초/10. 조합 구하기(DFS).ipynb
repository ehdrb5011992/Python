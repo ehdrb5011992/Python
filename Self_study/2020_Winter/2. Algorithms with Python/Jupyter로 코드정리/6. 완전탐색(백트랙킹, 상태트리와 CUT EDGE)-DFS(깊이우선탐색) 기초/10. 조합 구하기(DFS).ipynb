{
 "cells": [
  {
   "cell_type": "markdown",
   "metadata": {},
   "source": [
    "# 내 풀이"
   ]
  },
  {
   "cell_type": "markdown",
   "metadata": {},
   "source": [
    "강의를 설명을 듣고 문제를 풀어봄. "
   ]
  },
  {
   "cell_type": "markdown",
   "metadata": {},
   "source": [
    "조합문제는 굉장히 중요하다. 거의 다 외워버리기 <br>\n",
    "상태트리가 굉장히 중요함. 꼭 숙지하자"
   ]
  },
  {
   "cell_type": "markdown",
   "metadata": {},
   "source": [
    "순열은 check변수가 필요하고, <br>\n",
    "조합은 DFS의 변수가 1개 더 필요함. (현재 가지에서 +1로 인식되는 변수)"
   ]
  },
  {
   "cell_type": "code",
   "execution_count": 32,
   "metadata": {},
   "outputs": [],
   "source": [
    "n=4\n",
    "m=2"
   ]
  },
  {
   "cell_type": "code",
   "execution_count": 34,
   "metadata": {},
   "outputs": [],
   "source": [
    "res=[0]*m\n",
    "check=[0]*(n+1)\n",
    "cnt=0"
   ]
  },
  {
   "cell_type": "code",
   "execution_count": 35,
   "metadata": {},
   "outputs": [
    {
     "data": {
      "text/plain": [
       "[0, 0]"
      ]
     },
     "execution_count": 35,
     "metadata": {},
     "output_type": "execute_result"
    }
   ],
   "source": [
    "res"
   ]
  },
  {
   "cell_type": "code",
   "execution_count": 36,
   "metadata": {},
   "outputs": [],
   "source": [
    "def DFS(level,st): # 조합 꼭 숙지. \n",
    "    global cnt\n",
    "    \n",
    "    if level==m:\n",
    "        for j in res:\n",
    "            print(j,end=' ')\n",
    "        print()\n",
    "        cnt+=1\n",
    "    else:\n",
    "        for i in range(st,n+1): # 여기는 너비에 대한 영역\n",
    "            if check[i]==0: \n",
    "                check[i]==1\n",
    "                res[level]=i\n",
    "                DFS(level+1,res[level]+1)\n",
    "                check[i]==0"
   ]
  },
  {
   "cell_type": "code",
   "execution_count": 38,
   "metadata": {},
   "outputs": [
    {
     "name": "stdout",
     "output_type": "stream",
     "text": [
      "1 2 \n",
      "1 3 \n",
      "1 4 \n",
      "2 3 \n",
      "2 4 \n",
      "3 4 \n",
      "6\n"
     ]
    }
   ],
   "source": [
    "DFS(0,1)\n",
    "print(cnt)"
   ]
  },
  {
   "cell_type": "markdown",
   "metadata": {},
   "source": [
    "# 답 풀이"
   ]
  },
  {
   "cell_type": "markdown",
   "metadata": {},
   "source": [
    "채점코드를 위해서, 아래와 같이 구성\n",
    "```\n",
    "import sys\n",
    "sys.stdin=open(\"input.txt\",'rt') # 경로 잡고, 파일 엵음. rt= read a file as text\n",
    "```\n",
    "\n",
    "실행할때는, sys.stdin=open('input.txt','rt)를 주석처리 하고 실행시키면 된다."
   ]
  },
  {
   "cell_type": "code",
   "execution_count": null,
   "metadata": {},
   "outputs": [],
   "source": [
    "import sys\n",
    "#sys.stdin=open(\"input.txt\",'rt') # 경로 잡고, 파일 엵음. read a file as text\n",
    "\n",
    "\n",
    "def DFS(L,s):\n",
    "    global cnt\n",
    "    if L==m:\n",
    "        for j in range(L):\n",
    "            print(res[j],end=' ')\n",
    "        cnt+=1\n",
    "        print()\n",
    "    else:\n",
    "        for i in range(s,n+1):\n",
    "            res[L]=i\n",
    "            DFS(L+1,i+1)\n",
    "\n",
    "    \n",
    "\n",
    "if __name__=='__main__':\n",
    "    n,m=map(int,input().split())\n",
    "    res=[0]*(n+1)\n",
    "    cnt=0\n",
    "    DFS(0,1)\n",
    "    print(cnt)\n"
   ]
  }
 ],
 "metadata": {
  "kernelspec": {
   "display_name": "Python 3",
   "language": "python",
   "name": "python3"
  },
  "language_info": {
   "codemirror_mode": {
    "name": "ipython",
    "version": 3
   },
   "file_extension": ".py",
   "mimetype": "text/x-python",
   "name": "python",
   "nbconvert_exporter": "python",
   "pygments_lexer": "ipython3",
   "version": "3.8.5"
  }
 },
 "nbformat": 4,
 "nbformat_minor": 2
}
