{
 "cells": [
  {
   "cell_type": "markdown",
   "metadata": {},
   "source": [
    "# 내 풀이"
   ]
  },
  {
   "cell_type": "markdown",
   "metadata": {},
   "source": [
    "### DFS에 대한 이해를 위해, 강의를 듣고, 풀이는 강의를 참고하였다."
   ]
  },
  {
   "cell_type": "markdown",
   "metadata": {},
   "source": [
    "트리를 탐색하는건 DFS, BFS가 있음. <br>\n",
    "BFS는 나중에 큐를 이용해서 탐색하는걸 살펴볼거고, \n",
    "이번시간엔 DFS에 대해서 알아볼거임. (이 문제의 트리는 거들뿐) <br>\n",
    "\n",
    "트리의 DFS는 기본적으로, 왼쪽으로 계속 파고들어감. (1 2 4 5 3 6 7 - 깊이순) <br>\n",
    "참고로, BFS는 옆으로 탐색해나감. (1 2 3 4 5 6 7 - 레벨순) <br>\n",
    "\n",
    "DFS를 세분화하면 전위,중위,후위 출력이 있는데 크게 중요하진 않지만 해보자 <br>\n",
    "```\n",
    "전위순회 : 가장 기본적인 DFS 출력. 함수 본인의 일을 처리하고, 왼쪽과 오른쪽 출력\n",
    "(부모 -> 왼쪽자식 -> 오른쪽 자식 출력) : 1 2 4 5 3 6 7 (자주쓰임)\n",
    "중위순회 : (왼쪽자식 -> 부모 -> 오른쪽 자식 출력) : 4 2 5 1 6 3 7 (거의안쓰임)\n",
    "후위순회 : (왼쪽자식 -> 오른쪽자식 -> 부모 출력) : 4 5 2 6 7 3 1 (병합정렬에서 약간)\n",
    "```\n",
    "D(1) -> D(2) 는 1 x 2 관계식, <br>\n",
    "D(1) -> D(3) 는 1 x 2 + 1 의 관계식임."
   ]
  },
  {
   "cell_type": "code",
   "execution_count": 21,
   "metadata": {},
   "outputs": [],
   "source": [
    "n=1"
   ]
  },
  {
   "cell_type": "code",
   "execution_count": 24,
   "metadata": {},
   "outputs": [],
   "source": [
    "def f_DFS(x):\n",
    "    if x>7:\n",
    "        return\n",
    "    else:\n",
    "        print(x,end=' ')\n",
    "        f_DFS(x*2)\n",
    "        f_DFS(x*2+1)"
   ]
  },
  {
   "cell_type": "code",
   "execution_count": 25,
   "metadata": {},
   "outputs": [],
   "source": [
    "def m_DFS(x):\n",
    "    if x>7:\n",
    "        return\n",
    "    else:\n",
    "        m_DFS(x*2)\n",
    "        print(x,end=' ')\n",
    "        m_DFS(x*2+1)"
   ]
  },
  {
   "cell_type": "code",
   "execution_count": 26,
   "metadata": {},
   "outputs": [],
   "source": [
    "def l_DFS(x):\n",
    "    if x>7:\n",
    "        return\n",
    "    else:\n",
    "        l_DFS(x*2)\n",
    "        l_DFS(x*2+1)\n",
    "        print(x,end=' ')"
   ]
  },
  {
   "cell_type": "code",
   "execution_count": 27,
   "metadata": {},
   "outputs": [
    {
     "name": "stdout",
     "output_type": "stream",
     "text": [
      "1 2 4 5 3 6 7 \n",
      "4 2 5 1 6 3 7 \n",
      "4 5 2 6 7 3 1 "
     ]
    }
   ],
   "source": [
    "f_DFS(n) ; print()\n",
    "m_DFS(n) ; print()\n",
    "l_DFS(n)"
   ]
  },
  {
   "cell_type": "markdown",
   "metadata": {},
   "source": [
    "# 답 풀이"
   ]
  },
  {
   "cell_type": "markdown",
   "metadata": {},
   "source": [
    "채점코드를 위해서, 아래와 같이 구성\n",
    "```\n",
    "import sys\n",
    "sys.stdin=open(\"input.txt\",'rt') # 경로 잡고, 파일 엵음. rt= read a file as text\n",
    "```\n",
    "\n",
    "실행할때는, sys.stdin=open('input.txt','rt)를 주석처리 하고 실행시키면 된다."
   ]
  },
  {
   "cell_type": "markdown",
   "metadata": {},
   "source": [
    "### 1) 전위순회"
   ]
  },
  {
   "cell_type": "code",
   "execution_count": null,
   "metadata": {},
   "outputs": [],
   "source": [
    "import sys\n",
    "sys.stdin=open(\"input.txt\",'rt') # 경로 잡고, 파일 엵음. read a file as text\n",
    "\n",
    "# 앞으로 재귀함수 이름은 DFS로 하겠음.\n",
    "def DFS(v):\n",
    "    if v>7:\n",
    "        return # 이렇게 조건을 주면 함수를 끝내버림.\n",
    "    else:\n",
    "        print(v, end='') # 함수 본연의 일. (방문) -> 자기일을 먼저 하고, DFS아래로 내려가면 전위순회\n",
    "        DFS(v*2) # 왼쪽노드 호출\n",
    "        DFS(v*2+1) # 오른쪽 노드 호출\n",
    "\n",
    "if __name__=='__main__':\n",
    "    DFS(1)\n",
    "\n"
   ]
  },
  {
   "cell_type": "markdown",
   "metadata": {},
   "source": [
    "### 2) 중위순회"
   ]
  },
  {
   "cell_type": "code",
   "execution_count": null,
   "metadata": {},
   "outputs": [],
   "source": [
    "import sys\n",
    "sys.stdin=open(\"input.txt\",'rt') # 경로 잡고, 파일 엵음. read a file as text\n",
    "\n",
    "# 앞으로 재귀함수 이름은 DFS로 하겠음.\n",
    "def DFS(v):\n",
    "    if v>7:\n",
    "        return\n",
    "    else:\n",
    "        DFS(v*2) # 왼쪽노드 호출\n",
    "        print(v, end='') # 이렇게 하면 중위순회 방식/ 왼쪽자식 처리후 본인(부모)가 처리됨.\n",
    "        DFS(v*2+1) # 오른쪽 노드 호출\n",
    "\n",
    "if __name__=='__main__':\n",
    "    DFS(1)\n",
    "\n"
   ]
  },
  {
   "cell_type": "markdown",
   "metadata": {},
   "source": [
    "### 3) 후위순회 (대표적으로 병합정렬의 경우에 필요하다.)"
   ]
  },
  {
   "cell_type": "code",
   "execution_count": null,
   "metadata": {},
   "outputs": [],
   "source": [
    "import sys\n",
    "sys.stdin=open(\"input.txt\",'rt') # 경로 잡고, 파일 엵음. read a file as text\n",
    "\n",
    "# 앞으로 재귀함수 이름은 DFS로 하겠음.\n",
    "def DFS(v):\n",
    "    if v>7:\n",
    "        return\n",
    "    else:\n",
    "        DFS(v*2) # 왼쪽노드 호출\n",
    "        DFS(v*2+1) # 오른쪽 노드 호출\n",
    "        print(v, end='') # 이렇게 하면 후위순회 방식/ 왼쪽,오른쪽 다 처리하고 본인.\n",
    "\n",
    "\n",
    "if __name__=='__main__':\n",
    "    DFS(1)\n",
    "\n"
   ]
  },
  {
   "cell_type": "markdown",
   "metadata": {},
   "source": [
    "후위순회의 경우, 특히 트리의 스택이 어떻게 돌아가는지를 알아야함. <br>\n",
    "현재 어디가 활성화 되어있고, 위의 print가 어떻게 돌아가는지를 능숙하게 다룰 수 있어야함."
   ]
  }
 ],
 "metadata": {
  "kernelspec": {
   "display_name": "Python 3",
   "language": "python",
   "name": "python3"
  },
  "language_info": {
   "codemirror_mode": {
    "name": "ipython",
    "version": 3
   },
   "file_extension": ".py",
   "mimetype": "text/x-python",
   "name": "python",
   "nbconvert_exporter": "python",
   "pygments_lexer": "ipython3",
   "version": "3.8.5"
  }
 },
 "nbformat": 4,
 "nbformat_minor": 2
}
