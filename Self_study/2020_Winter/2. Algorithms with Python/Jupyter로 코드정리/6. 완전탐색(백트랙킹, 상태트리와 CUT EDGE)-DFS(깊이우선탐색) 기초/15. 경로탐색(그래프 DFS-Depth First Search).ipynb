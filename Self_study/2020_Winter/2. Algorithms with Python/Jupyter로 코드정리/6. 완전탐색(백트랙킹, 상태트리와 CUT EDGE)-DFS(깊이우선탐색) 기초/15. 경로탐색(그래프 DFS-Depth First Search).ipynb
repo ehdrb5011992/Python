{
 "cells": [
  {
   "cell_type": "markdown",
   "metadata": {},
   "source": [
    "# 내 풀이"
   ]
  },
  {
   "cell_type": "markdown",
   "metadata": {},
   "source": [
    "설명을 듣고, 재구현해보았다. <br>"
   ]
  },
  {
   "cell_type": "markdown",
   "metadata": {},
   "source": [
    "g그래프 말고도, 노드에 대한 check변수가 필요하다. <br>\n",
    "그래서 체크되어있는 노드로 다시 돌아오지 않게 해야한다. "
   ]
  },
  {
   "cell_type": "code",
   "execution_count": 49,
   "metadata": {},
   "outputs": [],
   "source": [
    "n,m=5,9\n",
    "x=[[1,2],[1,3],[1,4],[2,1],[2,3],[2,5],[3,4],[4,2],[4,5]]"
   ]
  },
  {
   "cell_type": "code",
   "execution_count": 51,
   "metadata": {},
   "outputs": [],
   "source": [
    "g=[[0]*(n+1) for _ in range(n+1)]\n",
    "for i,j in x:\n",
    "    g[i][j]=1"
   ]
  },
  {
   "cell_type": "code",
   "execution_count": 52,
   "metadata": {},
   "outputs": [],
   "source": [
    "cnt=0\n",
    "check=[0]*(n+1)\n",
    "check[1]=1\n",
    "path=[]\n",
    "path.append(1)"
   ]
  },
  {
   "cell_type": "code",
   "execution_count": 53,
   "metadata": {},
   "outputs": [
    {
     "data": {
      "text/plain": [
       "[1]"
      ]
     },
     "execution_count": 53,
     "metadata": {},
     "output_type": "execute_result"
    }
   ],
   "source": [
    "path"
   ]
  },
  {
   "cell_type": "code",
   "execution_count": 54,
   "metadata": {},
   "outputs": [],
   "source": [
    "def DFS(value):\n",
    "    global cnt\n",
    "    if value==n:\n",
    "        for j in path:\n",
    "            print(j,end=' ')   \n",
    "        print()\n",
    "        cnt+=1\n",
    "    else:\n",
    "        for i in range(1,n+1):\n",
    "            if g[value][i]==1 and check[i]==0:\n",
    "                check[i]=1\n",
    "                path.append(i)\n",
    "                DFS(i)\n",
    "                path.pop()\n",
    "                check[i]=0"
   ]
  },
  {
   "cell_type": "code",
   "execution_count": 55,
   "metadata": {},
   "outputs": [
    {
     "name": "stdout",
     "output_type": "stream",
     "text": [
      "1 2 3 4 5 \n",
      "1 2 5 \n",
      "1 3 4 2 5 \n",
      "1 3 4 5 \n",
      "1 4 2 5 \n",
      "1 4 5 \n",
      "6\n"
     ]
    }
   ],
   "source": [
    "DFS(1)\n",
    "print(cnt)"
   ]
  },
  {
   "cell_type": "markdown",
   "metadata": {},
   "source": [
    "# 답 풀이"
   ]
  },
  {
   "cell_type": "markdown",
   "metadata": {},
   "source": [
    "채점코드를 위해서, 아래와 같이 구성\n",
    "```\n",
    "import sys\n",
    "sys.stdin=open(\"input.txt\",'rt') # 경로 잡고, 파일 엵음. rt= read a file as text\n",
    "```\n",
    "\n",
    "실행할때는, sys.stdin=open('input.txt','rt)를 주석처리 하고 실행시키면 된다."
   ]
  },
  {
   "cell_type": "markdown",
   "metadata": {},
   "source": [
    "### 1) 경로 횟수 출력"
   ]
  },
  {
   "cell_type": "code",
   "execution_count": null,
   "metadata": {},
   "outputs": [],
   "source": [
    "import sys\n",
    "#sys.stdin=open(\"input.txt\",'rt') # 경로 잡고, 파일 엵음. read a file as text\n",
    "\n",
    "\n",
    "def DFS(v): # 이제는 수준이 아닌, 각 값으로 취급된다.\n",
    "    global cnt\n",
    "    if v==n: # 내가 목표하는 숫자에 온다면, 종료.\n",
    "        cnt+=1\n",
    "    else:\n",
    "        for i in range(1,n+1): # n가지 뻗고,\n",
    "            if g[v][i]==1 and ch[i]==0: # 만약 경로가 있고 방문을 안햇으면,\n",
    "                ch[i]=1 # 방문하면서\n",
    "                DFS(i)  # 다음으로 뻗어나갈 준비.\n",
    "                ch[i]=0 # 한개 케이스의 탐색이 끝나면 원상복귀 \n",
    "        \n",
    "\n",
    "if __name__=='__main__':\n",
    "    n,m = map(int,input().split())\n",
    "    g=[[0]*(n+1) for _ in range(n+1)] # 앞의 0번쨰 인덱스는 취급도 안할꺼임.\n",
    "    ch=[0]*(n+1) # 마찬가지로 0번째 인덱스는 취급도 안할꺼임.\n",
    "    for i in range(m):\n",
    "        a,b=map(int,input().split())\n",
    "        g[a][b]=1\n",
    "    cnt=0\n",
    "    ch[1]=1 # 1번노드는 언제나 체크되어있음.\n",
    "    DFS(1)\n",
    "    print(cnt)\n"
   ]
  },
  {
   "cell_type": "markdown",
   "metadata": {},
   "source": [
    "### 2) 각 경로가 어떻게 한번씩 탐색하는지 출력"
   ]
  },
  {
   "cell_type": "code",
   "execution_count": null,
   "metadata": {},
   "outputs": [],
   "source": [
    "import sys\n",
    "#sys.stdin=open(\"input.txt\",'rt') # 경로 잡고, 파일 엵음. read a file as text\n",
    "\n",
    "\n",
    "def DFS(v): \n",
    "    global cnt\n",
    "    if v==n:\n",
    "        cnt+=1\n",
    "        for x in path: # 이거 추가.\n",
    "            print(x,end= ' ')\n",
    "        print()\n",
    "    else:\n",
    "        for i in range(1,n+1):\n",
    "            if g[v][i]==1 and ch[i]==0:\n",
    "                ch[i]=1\n",
    "                path.append(i) # 길 더해주고,\n",
    "                DFS(i) # 여기서 v==n 조건까지 어차피 끝을봄.\n",
    "                path.pop() # 빼주고 (대칭으로 들어감을 명심하기) ->  이렇게하면서 path변수  재활용\n",
    "                ch[i]=0  \n",
    "        \n",
    "\n",
    "if __name__=='__main__':\n",
    "    n,m = map(int,input().split())\n",
    "    g=[[0]*(n+1) for _ in range(n+1)]\n",
    "    ch=[0]*(n+1)\n",
    "    for i in range(m):\n",
    "        a,b=map(int,input().split())\n",
    "        g[a][b]=1\n",
    "    cnt=0\n",
    "    path=[] # 각 경로를 살펴보기위해, 할당함.\n",
    "    path.append(1) # 1은 무조건 들어가야함.\n",
    "    ch[1]=1 \n",
    "    DFS(1)\n",
    "    print(cnt)\n"
   ]
  }
 ],
 "metadata": {
  "kernelspec": {
   "display_name": "Python 3",
   "language": "python",
   "name": "python3"
  },
  "language_info": {
   "codemirror_mode": {
    "name": "ipython",
    "version": 3
   },
   "file_extension": ".py",
   "mimetype": "text/x-python",
   "name": "python",
   "nbconvert_exporter": "python",
   "pygments_lexer": "ipython3",
   "version": "3.8.5"
  }
 },
 "nbformat": 4,
 "nbformat_minor": 2
}
