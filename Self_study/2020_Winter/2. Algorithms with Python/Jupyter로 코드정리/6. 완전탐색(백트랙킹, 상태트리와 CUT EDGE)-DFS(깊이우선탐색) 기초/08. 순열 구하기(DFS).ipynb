{
 "cells": [
  {
   "cell_type": "markdown",
   "metadata": {},
   "source": [
    "# 내 풀이"
   ]
  },
  {
   "cell_type": "markdown",
   "metadata": {},
   "source": [
    "강의를 듣고, 참고해서 풀었다."
   ]
  },
  {
   "cell_type": "code",
   "execution_count": 5,
   "metadata": {},
   "outputs": [],
   "source": [
    "n=3\n",
    "m=2"
   ]
  },
  {
   "cell_type": "code",
   "execution_count": 6,
   "metadata": {},
   "outputs": [],
   "source": [
    "res=[0]*m\n",
    "check=[0]*(n+1)\n",
    "cnt=0"
   ]
  },
  {
   "cell_type": "code",
   "execution_count": 7,
   "metadata": {},
   "outputs": [],
   "source": [
    "def DFS(index):\n",
    "    global cnt\n",
    "    \n",
    "    if index==m:\n",
    "        for j in res:\n",
    "            print(j, end=' ')\n",
    "        print()\n",
    "        cnt+=1\n",
    "        \n",
    "    else:\n",
    "        for i in range(1,n+1):\n",
    "            if check[i]==0:\n",
    "                check[i]=1\n",
    "                res[index]=i\n",
    "                DFS(index+1)\n",
    "                check[i]=0"
   ]
  },
  {
   "cell_type": "code",
   "execution_count": 8,
   "metadata": {},
   "outputs": [
    {
     "name": "stdout",
     "output_type": "stream",
     "text": [
      "1 2 \n",
      "1 3 \n",
      "2 1 \n",
      "2 3 \n",
      "3 1 \n",
      "3 2 \n",
      "6\n"
     ]
    }
   ],
   "source": [
    "DFS(0)\n",
    "print(cnt)"
   ]
  },
  {
   "cell_type": "markdown",
   "metadata": {},
   "source": [
    "# 답 풀이"
   ]
  },
  {
   "cell_type": "code",
   "execution_count": null,
   "metadata": {},
   "outputs": [],
   "source": []
  },
  {
   "cell_type": "markdown",
   "metadata": {},
   "source": [
    "채점코드를 위해서, 아래와 같이 구성\n",
    "```\n",
    "import sys\n",
    "sys.stdin=open(\"input.txt\",'rt') # 경로 잡고, 파일 엵음. rt= read a file as text\n",
    "```\n",
    "\n",
    "실행할때는, sys.stdin=open('input.txt','rt)를 주석처리 하고 실행시키면 된다."
   ]
  },
  {
   "cell_type": "code",
   "execution_count": null,
   "metadata": {},
   "outputs": [],
   "source": [
    "import sys\n",
    "#sys.stdin=open(\"input.txt\",'rt') # 경로 잡고, 파일 엵음. read a file as text\n",
    "\n",
    "\n",
    "def DFS(L):\n",
    "    global cnt\n",
    "    if L==m: # 여기는 도달했을때 출력 처리를 어떻게 할것인지에 대한 논의\n",
    "        for j in range(m): \n",
    "            print(res[j],end=' ')\n",
    "        print()\n",
    "        cnt+=1\n",
    "    else:\n",
    "        for i in range(1,n+1): # 여기를 더 건드리므로써, 가지치기를 선택적으로가능.\n",
    "            if ch[i]==0:\n",
    "                ch[i]=1 # 작업을 하기전에 qnfma.\n",
    "                res[L]=i \n",
    "                DFS(L+1) #작업함.\n",
    "                ch[i]=0 #그리고 다시 역순으로 돌려줘야함\n",
    "                \n",
    "\n",
    "if __name__=='__main__':\n",
    "\n",
    "    n,m=map(int,input().split())\n",
    "    res=[0]*n\n",
    "    ch=[0]*(n+1)\n",
    "    cnt=0\n",
    "    DFS(0)\n",
    "    print(cnt)\n"
   ]
  },
  {
   "cell_type": "code",
   "execution_count": null,
   "metadata": {},
   "outputs": [],
   "source": [
    "cnt=0"
   ]
  },
  {
   "cell_type": "code",
   "execution_count": null,
   "metadata": {},
   "outputs": [],
   "source": []
  },
  {
   "cell_type": "code",
   "execution_count": null,
   "metadata": {},
   "outputs": [],
   "source": []
  }
 ],
 "metadata": {
  "kernelspec": {
   "display_name": "Python 3",
   "language": "python",
   "name": "python3"
  },
  "language_info": {
   "codemirror_mode": {
    "name": "ipython",
    "version": 3
   },
   "file_extension": ".py",
   "mimetype": "text/x-python",
   "name": "python",
   "nbconvert_exporter": "python",
   "pygments_lexer": "ipython3",
   "version": "3.8.5"
  }
 },
 "nbformat": 4,
 "nbformat_minor": 2
}
