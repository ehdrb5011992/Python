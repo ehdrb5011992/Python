{
 "cells": [
  {
   "cell_type": "markdown",
   "metadata": {},
   "source": [
    "새로운 개념이므로 <br>\n",
    "강의를 먼저 듣고, 코드를 구현하였다."
   ]
  },
  {
   "cell_type": "markdown",
   "metadata": {},
   "source": [
    "그래프는 노드와 간선으로 이루어진다. <br>\n",
    "이때, 숫자가 있으면 가중치 그래프 <br>\n",
    "방향이 있으면, 방향그래프라고 한다. <br>"
   ]
  },
  {
   "cell_type": "markdown",
   "metadata": {},
   "source": [
    "## 1) 무방향 그래프"
   ]
  },
  {
   "cell_type": "markdown",
   "metadata": {},
   "source": [
    "무방향 그래프는 간선만 이루어 져있는것으로, 양방향으로 다 갈수있다는 뜻임. <br>\n",
    "둘이 어떻게 연결이 되어있는지 코드로 구현할까?"
   ]
  },
  {
   "cell_type": "markdown",
   "metadata": {},
   "source": [
    "이는 행렬로 이루어진다. <br>\n",
    "5개의 노드가 있다면, 5x5의 행렬이 필요하고, 행이 출발, 열이 도착임 <br>\n",
    "그리고 연결되어있다면 숫자 1을 (행,열) 인덱스에 체크해줌. <br>\n",
    "무방향 그래프는, 양방향이므로 symmetric이다."
   ]
  },
  {
   "cell_type": "markdown",
   "metadata": {},
   "source": [
    "즉, g[a][b]=1 , g[b][a]=1 을 해준다."
   ]
  },
  {
   "cell_type": "markdown",
   "metadata": {},
   "source": [
    "무방향 그래프부터 코드구현을 해보자."
   ]
  },
  {
   "cell_type": "markdown",
   "metadata": {},
   "source": [
    "input.txt\n",
    "```\n",
    "5 5\n",
    "1 2\n",
    "1 3\n",
    "2 4\n",
    "3 4\n",
    "4 5\n",
    "```"
   ]
  },
  {
   "cell_type": "code",
   "execution_count": null,
   "metadata": {},
   "outputs": [],
   "source": [
    "n,m=5,5 # 노드번호, 간선의 개수\n",
    "g=[[0]*(n+1) for _ in range(n+1)] # 0번부터 n번까지 index번호가 생김. (index는 노드임)\n",
    "                                   # 그리고 다 0초기화\n"
   ]
  },
  {
   "cell_type": "code",
   "execution_count": null,
   "metadata": {},
   "outputs": [],
   "source": [
    "for i in range(m):\n",
    "    a,b = map(int,input().split())\n",
    "    g[a][b]=1\n",
    "    g[b][a]=1 # 인접행렬 완성 // 여기까지는 무방향 그래프였다.\n",
    "    "
   ]
  },
  {
   "cell_type": "markdown",
   "metadata": {},
   "source": [
    "여기까지 무방향 그래프다."
   ]
  },
  {
   "cell_type": "markdown",
   "metadata": {},
   "source": [
    "## 2) 방향그래프"
   ]
  },
  {
   "cell_type": "markdown",
   "metadata": {},
   "source": [
    "방향그래프는, 무방향 그래프와 달리 방향이 적어도 한개 있다. (양방향일수도 있음) <br>\n",
    "그렇기 때문에 행렬이 symmetric하지 않다."
   ]
  },
  {
   "cell_type": "markdown",
   "metadata": {},
   "source": [
    "더불어, 무방향 그래프에서 행렬의 원소 1을, 숫자로 대체한다면 <br>\n",
    "이는 바로 가중치 그래프가 된다."
   ]
  },
  {
   "cell_type": "markdown",
   "metadata": {},
   "source": [
    "기본적으로, 행에서 열로 해석한다는 규칙은 동일하다."
   ]
  },
  {
   "cell_type": "markdown",
   "metadata": {},
   "source": [
    "### 이번 챕터의 문제는, \n",
    "### 노드와 간선정보가 주어지면, 이를 행렬로 표현하라는 간단한 문제이다."
   ]
  },
  {
   "cell_type": "markdown",
   "metadata": {},
   "source": [
    "# 내 풀이"
   ]
  },
  {
   "cell_type": "code",
   "execution_count": 3,
   "metadata": {},
   "outputs": [],
   "source": [
    "n,m=6,9"
   ]
  },
  {
   "cell_type": "code",
   "execution_count": 4,
   "metadata": {},
   "outputs": [],
   "source": [
    "x=[127,134,212,235,255,345,422,455,645]"
   ]
  },
  {
   "cell_type": "code",
   "execution_count": 8,
   "metadata": {
    "scrolled": true
   },
   "outputs": [],
   "source": [
    "trans_x= list(map(str,x))"
   ]
  },
  {
   "cell_type": "code",
   "execution_count": 14,
   "metadata": {},
   "outputs": [],
   "source": [
    "new_x=[list(map(int,list(i))) for i in trans_x]"
   ]
  },
  {
   "cell_type": "code",
   "execution_count": 23,
   "metadata": {},
   "outputs": [
    {
     "data": {
      "text/plain": [
       "[[1, 2, 7],\n",
       " [1, 3, 4],\n",
       " [2, 1, 2],\n",
       " [2, 3, 5],\n",
       " [2, 5, 5],\n",
       " [3, 4, 5],\n",
       " [4, 2, 2],\n",
       " [4, 5, 5],\n",
       " [6, 4, 5]]"
      ]
     },
     "execution_count": 23,
     "metadata": {},
     "output_type": "execute_result"
    }
   ],
   "source": [
    "new_x"
   ]
  },
  {
   "cell_type": "code",
   "execution_count": 15,
   "metadata": {},
   "outputs": [],
   "source": [
    "g=[[0]*(n+1) for _ in range(n+1)]"
   ]
  },
  {
   "cell_type": "code",
   "execution_count": 19,
   "metadata": {},
   "outputs": [],
   "source": [
    "for case in new_x:\n",
    "    g[case[0]][case[1]]=case[2]"
   ]
  },
  {
   "cell_type": "code",
   "execution_count": 22,
   "metadata": {},
   "outputs": [
    {
     "name": "stdout",
     "output_type": "stream",
     "text": [
      "0 7 4 0 0 0 \n",
      "2 0 5 0 5 0 \n",
      "0 0 0 5 0 0 \n",
      "0 2 0 0 5 0 \n",
      "0 0 0 0 0 0 \n",
      "0 0 0 5 0 0 \n"
     ]
    }
   ],
   "source": [
    "for i in range(1,n+1):\n",
    "    for j in range(1,n+1):\n",
    "        print(g[i][j], end=' ')\n",
    "    print()"
   ]
  },
  {
   "cell_type": "markdown",
   "metadata": {},
   "source": [
    "# 답 풀이"
   ]
  },
  {
   "cell_type": "markdown",
   "metadata": {},
   "source": [
    "채점코드를 위해서, 아래와 같이 구성\n",
    "```\n",
    "import sys\n",
    "sys.stdin=open(\"input.txt\",'rt') # 경로 잡고, 파일 엵음. rt= read a file as text\n",
    "```\n",
    "\n",
    "실행할때는, sys.stdin=open('input.txt','rt)를 주석처리 하고 실행시키면 된다."
   ]
  },
  {
   "cell_type": "code",
   "execution_count": null,
   "metadata": {},
   "outputs": [],
   "source": [
    "import sys\n",
    "sys.stdin=open(\"input.txt\",'rt') # 경로 잡고, 파일 엵음. read a file as text\n",
    "\n",
    "\n",
    "n,m=map(int,input().split())\n",
    "g=[[0]*(n+1) for _ in range(n+1)]\n",
    "for i in range(m):\n",
    "    a,b,c=map(int,input().split())\n",
    "    g[a][b]=c\n",
    "\n",
    "for i in range(1,n+1):\n",
    "    for j in range(1,n+1):\n",
    "        print(g[i][j],end=' ')\n",
    "    print()"
   ]
  }
 ],
 "metadata": {
  "kernelspec": {
   "display_name": "Python 3",
   "language": "python",
   "name": "python3"
  },
  "language_info": {
   "codemirror_mode": {
    "name": "ipython",
    "version": 3
   },
   "file_extension": ".py",
   "mimetype": "text/x-python",
   "name": "python",
   "nbconvert_exporter": "python",
   "pygments_lexer": "ipython3",
   "version": "3.8.5"
  }
 },
 "nbformat": 4,
 "nbformat_minor": 2
}
