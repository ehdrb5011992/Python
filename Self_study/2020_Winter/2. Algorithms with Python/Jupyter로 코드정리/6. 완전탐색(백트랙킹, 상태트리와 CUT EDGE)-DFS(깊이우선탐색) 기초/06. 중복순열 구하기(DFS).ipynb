{
 "cells": [
  {
   "cell_type": "markdown",
   "metadata": {},
   "source": [
    "# 내 풀이"
   ]
  },
  {
   "cell_type": "markdown",
   "metadata": {},
   "source": [
    "강의를 듣고, 코드를 재구현해보았다."
   ]
  },
  {
   "cell_type": "code",
   "execution_count": 12,
   "metadata": {},
   "outputs": [],
   "source": [
    "n=3\n",
    "m=2"
   ]
  },
  {
   "cell_type": "code",
   "execution_count": 13,
   "metadata": {},
   "outputs": [],
   "source": [
    "res=[0]*m # 우리가 할당할 숫자들 모임.\n",
    "cnt=0"
   ]
  },
  {
   "cell_type": "code",
   "execution_count": 14,
   "metadata": {},
   "outputs": [],
   "source": [
    "def DFS(index):\n",
    "    global cnt\n",
    "    if index==m: # 최종 깊이로 넘어온다면,\n",
    "        for j in range(m): # 각자릿수에 대하여\n",
    "            print(res[j],end= ' ') # 숫자 입력.\n",
    "        print() #다음줄 출력\n",
    "        cnt+=1 #cnt 하나 세줌. 이때, cnt는 local변수이기 때문에 global선언\n",
    "    \n",
    "    else:\n",
    "        for i in range(1,n+1): # 같은 레벨에서, 너비에 해당\n",
    "            res[index]=i # 각 너비가 무슨값인지 인식.\n",
    "            DFS(index+1) # 그다음 깊이로 넘어감."
   ]
  },
  {
   "cell_type": "code",
   "execution_count": 15,
   "metadata": {},
   "outputs": [
    {
     "name": "stdout",
     "output_type": "stream",
     "text": [
      "1 1 \n",
      "1 2 \n",
      "1 3 \n",
      "2 1 \n",
      "2 2 \n",
      "2 3 \n",
      "3 1 \n",
      "3 2 \n",
      "3 3 \n",
      "9\n"
     ]
    }
   ],
   "source": [
    "DFS(0)\n",
    "print(cnt)"
   ]
  },
  {
   "cell_type": "markdown",
   "metadata": {},
   "source": [
    "# 답 풀이"
   ]
  },
  {
   "cell_type": "markdown",
   "metadata": {},
   "source": [
    "채점코드를 위해서, 아래와 같이 구성\n",
    "```\n",
    "import sys\n",
    "sys.stdin=open(\"input.txt\",'rt') # 경로 잡고, 파일 엵음. rt= read a file as text\n",
    "```\n",
    "\n",
    "실행할때는, sys.stdin=open('input.txt','rt)를 주석처리 하고 실행시키면 된다."
   ]
  },
  {
   "cell_type": "code",
   "execution_count": null,
   "metadata": {},
   "outputs": [],
   "source": [
    "import sys\n",
    "#sys.stdin=open(\"input.txt\",'rt') # 경로 잡고, 파일 엵음. read a file as text\n",
    "\n",
    "def DFS(L):\n",
    "    global cnt\n",
    "    if L==m:\n",
    "        for j in range(m):\n",
    "            print(res[j],end=' ')\n",
    "        print()\n",
    "        cnt=cnt+1\n",
    "\n",
    "    else:\n",
    "        for i in range(1,n+1):\n",
    "            res[L]=i\n",
    "            DFS(L+1)\n",
    "\n",
    "if __name__=='__main__':\n",
    "    n,m=map(int,input().split())\n",
    "    res=[0]*n\n",
    "    cnt=0\n",
    "    DFS(0)\n",
    "    print(cnt)\n"
   ]
  }
 ],
 "metadata": {
  "kernelspec": {
   "display_name": "Python 3",
   "language": "python",
   "name": "python3"
  },
  "language_info": {
   "codemirror_mode": {
    "name": "ipython",
    "version": 3
   },
   "file_extension": ".py",
   "mimetype": "text/x-python",
   "name": "python",
   "nbconvert_exporter": "python",
   "pygments_lexer": "ipython3",
   "version": "3.8.5"
  }
 },
 "nbformat": 4,
 "nbformat_minor": 2
}
