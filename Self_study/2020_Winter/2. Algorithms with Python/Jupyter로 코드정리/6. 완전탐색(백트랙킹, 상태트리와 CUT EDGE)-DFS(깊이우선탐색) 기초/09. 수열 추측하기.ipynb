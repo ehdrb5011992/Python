{
 "cells": [
  {
   "cell_type": "markdown",
   "metadata": {},
   "source": [
    "# 내 풀이"
   ]
  },
  {
   "cell_type": "markdown",
   "metadata": {},
   "source": [
    "강의를 듣고, 다시 코드를 작성해보았다. <br>\n",
    "이 역시, 모든 숫자 순열 쌍들을 다루는 문제이므로, DFS로 구한다."
   ]
  },
  {
   "cell_type": "code",
   "execution_count": 30,
   "metadata": {},
   "outputs": [],
   "source": [
    "n=4\n",
    "f=16"
   ]
  },
  {
   "cell_type": "code",
   "execution_count": 31,
   "metadata": {},
   "outputs": [],
   "source": [
    "numof=[1]*n\n",
    "for i in range(1,n-1):\n",
    "    numof[i]=int(numof[i-1]*(n-i)/i)\n",
    "    "
   ]
  },
  {
   "cell_type": "code",
   "execution_count": 32,
   "metadata": {},
   "outputs": [],
   "source": [
    "check=[0]*(n+1)\n",
    "res=[0]*n"
   ]
  },
  {
   "cell_type": "code",
   "execution_count": 33,
   "metadata": {},
   "outputs": [],
   "source": [
    "import sys\n",
    "def DFS(index,sum):\n",
    "    if index==n and sum==f:\n",
    "        for j in res:\n",
    "            print(j,end=' ')\n",
    "        sys.exit(0)\n",
    "        \n",
    "    else:\n",
    "        for i in range(1,n+1):\n",
    "            if check[i]==0:\n",
    "                check[i]=1\n",
    "                res[index]=i\n",
    "                DFS(index+1,sum+(res[index]*numof[index]))\n",
    "                check[i]=0"
   ]
  },
  {
   "cell_type": "code",
   "execution_count": 24,
   "metadata": {},
   "outputs": [
    {
     "name": "stdout",
     "output_type": "stream",
     "text": [
      "3 1 2 4 \n",
      "3 2 1 4 \n",
      "4 1 2 3 \n",
      "4 2 1 3 \n"
     ]
    }
   ],
   "source": [
    "DFS(0,0) # sys.exit 추가안함."
   ]
  },
  {
   "cell_type": "code",
   "execution_count": 34,
   "metadata": {},
   "outputs": [
    {
     "name": "stdout",
     "output_type": "stream",
     "text": [
      "3 1 2 4 "
     ]
    },
    {
     "ename": "SystemExit",
     "evalue": "0",
     "output_type": "error",
     "traceback": [
      "An exception has occurred, use %tb to see the full traceback.\n",
      "\u001b[1;31mSystemExit\u001b[0m\u001b[1;31m:\u001b[0m 0\n"
     ]
    },
    {
     "name": "stderr",
     "output_type": "stream",
     "text": [
      "C:\\ProgramData\\Anaconda3\\lib\\site-packages\\IPython\\core\\interactiveshell.py:3426: UserWarning: To exit: use 'exit', 'quit', or Ctrl-D.\n",
      "  warn(\"To exit: use 'exit', 'quit', or Ctrl-D.\", stacklevel=1)\n"
     ]
    }
   ],
   "source": [
    "DFS(0,0) # sys.exit 추가함."
   ]
  },
  {
   "cell_type": "markdown",
   "metadata": {},
   "source": [
    "# 답 풀이"
   ]
  },
  {
   "cell_type": "markdown",
   "metadata": {},
   "source": [
    "채점코드를 위해서, 아래와 같이 구성\n",
    "```\n",
    "import sys\n",
    "sys.stdin=open(\"input.txt\",'rt') # 경로 잡고, 파일 엵음. rt= read a file as text\n",
    "```\n",
    "\n",
    "실행할때는, sys.stdin=open('input.txt','rt)를 주석처리 하고 실행시키면 된다."
   ]
  },
  {
   "cell_type": "code",
   "execution_count": null,
   "metadata": {},
   "outputs": [],
   "source": [
    "import sys\n",
    "#sys.stdin=open(\"input.txt\",'rt') # 경로 잡고, 파일 엵음. read a file as text\n",
    "\n",
    "def DFS(L,sum):\n",
    "    if L==n and sum==f: #종료 조건\n",
    "        for x in p:\n",
    "            print(x,end=' ') # 답출력\n",
    "        sys.exit(0) # 첫번째껏만 보려고 자체를 종료\n",
    "\n",
    "    else:\n",
    "        for i in range(1,n+1): # 순열만듦. 작은것부터 보는게 사전순임.\n",
    "            if ch[i]==0:\n",
    "                ch[i]=1\n",
    "                p[L]=i\n",
    "                DFS(L+1,sum+(p[L]*b[L]))\n",
    "                ch[i]=0\n",
    "\n",
    "\n",
    "if __name__==\"__main__\":\n",
    "    n,f = map(int,input().split())\n",
    "    p=[0]*n # 1 4 \n",
    "    b=[1]*n # 개수 공간. 맨 끝은 1로 초기화\n",
    "    ch=[0]*(n+1)\n",
    "    for i in range(1,n): # 개수를 만들자. \n",
    "        b[i] = b[i-1]*(n-i)// i\n",
    "    DFS(0,0)\n"
   ]
  }
 ],
 "metadata": {
  "kernelspec": {
   "display_name": "Python 3",
   "language": "python",
   "name": "python3"
  },
  "language_info": {
   "codemirror_mode": {
    "name": "ipython",
    "version": 3
   },
   "file_extension": ".py",
   "mimetype": "text/x-python",
   "name": "python",
   "nbconvert_exporter": "python",
   "pygments_lexer": "ipython3",
   "version": "3.8.5"
  }
 },
 "nbformat": 4,
 "nbformat_minor": 2
}
