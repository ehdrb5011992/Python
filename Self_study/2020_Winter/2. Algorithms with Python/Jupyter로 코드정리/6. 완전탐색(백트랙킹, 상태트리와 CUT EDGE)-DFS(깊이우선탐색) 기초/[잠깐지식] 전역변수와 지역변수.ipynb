{
 "cells": [
  {
   "cell_type": "markdown",
   "metadata": {},
   "source": [
    "전역변수와 지역변수에 대해 알아보자"
   ]
  },
  {
   "cell_type": "code",
   "execution_count": 2,
   "metadata": {},
   "outputs": [
    {
     "name": "stdout",
     "output_type": "stream",
     "text": [
      "5\n",
      "5\n",
      "5\n"
     ]
    }
   ],
   "source": [
    "def DFS1():\n",
    "    print(cnt)\n",
    "    \n",
    "def DFS2():\n",
    "    if cnt==5:\n",
    "        print(cnt)\n",
    "if __name__==\"__main__\":\n",
    "    cnt=5 # 이게 전역변수 선언. 변수생성 + 할당\n",
    "          # 기본적으로 모든함수가 다 접근할 수 있음.\n",
    "    DFS1()# DFS에 cnt를 참조해서 출력해야하는데, \n",
    "          # 이 순서는 cnt가 지역변수인지 우선 확인함.\n",
    "          # 근데 지역변수가 아니라면 젼역변수를 사용함. 이런식의 순서를 가짐.\n",
    "          # 여기서는 전역변수로 확인\n",
    "        \n",
    "    DFS2()# 마찬가지로 DFS2에서도 전역변수로 취급함\n",
    "    print(cnt)"
   ]
  },
  {
   "cell_type": "markdown",
   "metadata": {},
   "source": [
    "아래의 변경상황을 보면서 이해해보자. (DFS1 수정)"
   ]
  },
  {
   "cell_type": "code",
   "execution_count": 3,
   "metadata": {},
   "outputs": [
    {
     "name": "stdout",
     "output_type": "stream",
     "text": [
      "1000000\n",
      "5\n",
      "5\n"
     ]
    }
   ],
   "source": [
    "def DFS1():\n",
    "    cnt=1000000\n",
    "    print(cnt)\n",
    "    \n",
    "def DFS2():\n",
    "    if cnt==5:\n",
    "        print(cnt)\n",
    "if __name__==\"__main__\":\n",
    "    cnt=5 \n",
    "    DFS1() # 이제는 cnt가 바뀌어있으므로, 다르게 출력함\n",
    "    DFS2() \n",
    "    print(cnt)"
   ]
  },
  {
   "cell_type": "markdown",
   "metadata": {},
   "source": [
    "다음의 예제도 변경상황을 보자 (DFS2수정)"
   ]
  },
  {
   "cell_type": "code",
   "execution_count": 4,
   "metadata": {},
   "outputs": [
    {
     "name": "stdout",
     "output_type": "stream",
     "text": [
      "1000000\n"
     ]
    },
    {
     "ename": "UnboundLocalError",
     "evalue": "local variable 'cnt' referenced before assignment",
     "output_type": "error",
     "traceback": [
      "\u001b[1;31m---------------------------------------------------------------------------\u001b[0m",
      "\u001b[1;31mUnboundLocalError\u001b[0m                         Traceback (most recent call last)",
      "\u001b[1;32m<ipython-input-4-b1fdd0674893>\u001b[0m in \u001b[0;36m<module>\u001b[1;34m\u001b[0m\n\u001b[0;32m     12\u001b[0m     \u001b[0mcnt\u001b[0m\u001b[1;33m=\u001b[0m\u001b[1;36m5\u001b[0m\u001b[1;33m\u001b[0m\u001b[1;33m\u001b[0m\u001b[0m\n\u001b[0;32m     13\u001b[0m     \u001b[0mDFS1\u001b[0m\u001b[1;33m(\u001b[0m\u001b[1;33m)\u001b[0m \u001b[1;31m# 이제는 cnt가 바뀌어있으므로, 다르게 출력함\u001b[0m\u001b[1;33m\u001b[0m\u001b[1;33m\u001b[0m\u001b[0m\n\u001b[1;32m---> 14\u001b[1;33m     \u001b[0mDFS2\u001b[0m\u001b[1;33m(\u001b[0m\u001b[1;33m)\u001b[0m\u001b[1;33m\u001b[0m\u001b[1;33m\u001b[0m\u001b[0m\n\u001b[0m\u001b[0;32m     15\u001b[0m     \u001b[0mprint\u001b[0m\u001b[1;33m(\u001b[0m\u001b[0mcnt\u001b[0m\u001b[1;33m)\u001b[0m\u001b[1;33m\u001b[0m\u001b[1;33m\u001b[0m\u001b[0m\n",
      "\u001b[1;32m<ipython-input-4-b1fdd0674893>\u001b[0m in \u001b[0;36mDFS2\u001b[1;34m()\u001b[0m\n\u001b[0;32m      4\u001b[0m \u001b[1;33m\u001b[0m\u001b[0m\n\u001b[0;32m      5\u001b[0m \u001b[1;32mdef\u001b[0m \u001b[0mDFS2\u001b[0m\u001b[1;33m(\u001b[0m\u001b[1;33m)\u001b[0m\u001b[1;33m:\u001b[0m\u001b[1;33m\u001b[0m\u001b[1;33m\u001b[0m\u001b[0m\n\u001b[1;32m----> 6\u001b[1;33m     \u001b[1;32mif\u001b[0m \u001b[0mcnt\u001b[0m\u001b[1;33m==\u001b[0m\u001b[1;36m5\u001b[0m\u001b[1;33m:\u001b[0m\u001b[1;33m\u001b[0m\u001b[1;33m\u001b[0m\u001b[0m\n\u001b[0m\u001b[0;32m      7\u001b[0m         \u001b[0mcnt\u001b[0m\u001b[1;33m=\u001b[0m\u001b[0mcnt\u001b[0m\u001b[1;33m+\u001b[0m\u001b[1;36m1\u001b[0m \u001b[1;31m# 이 라인때문에 cnt는 지역변수가 된거다.\u001b[0m\u001b[1;33m\u001b[0m\u001b[1;33m\u001b[0m\u001b[0m\n\u001b[0;32m      8\u001b[0m                   \u001b[1;31m# 근데, DFS2에는 cnt라는 변수를 받지 않으므로,\u001b[0m\u001b[1;33m\u001b[0m\u001b[1;33m\u001b[0m\u001b[1;33m\u001b[0m\u001b[0m\n",
      "\u001b[1;31mUnboundLocalError\u001b[0m: local variable 'cnt' referenced before assignment"
     ]
    }
   ],
   "source": [
    "def DFS1():\n",
    "    cnt=1000000\n",
    "    print(cnt)\n",
    "    \n",
    "def DFS2():\n",
    "    if cnt==5:\n",
    "        cnt=cnt+1 # 이 라인때문에 cnt는 지역변수가 된거다.\n",
    "                  # 근데, DFS2에는 cnt라는 변수를 받지 않으므로, \n",
    "                  # if문에서부터 애러가 뜨게 된다.\n",
    "        print(cnt)\n",
    "if __name__==\"__main__\":\n",
    "    cnt=5 \n",
    "    DFS1() # 이제는 cnt가 바뀌어있으므로, 다르게 출력함\n",
    "    DFS2() \n",
    "    print(cnt)"
   ]
  },
  {
   "cell_type": "markdown",
   "metadata": {},
   "source": [
    "따라서 DFS2함수에 global cnt를 추가해주면, <br>\n",
    "전역변수 취급을 해준다."
   ]
  },
  {
   "cell_type": "code",
   "execution_count": 5,
   "metadata": {},
   "outputs": [
    {
     "name": "stdout",
     "output_type": "stream",
     "text": [
      "1000000\n",
      "6\n",
      "6\n"
     ]
    }
   ],
   "source": [
    "def DFS1():\n",
    "    cnt=1000000\n",
    "    print(cnt)\n",
    "    \n",
    "def DFS2():\n",
    "    global cnt #이렇게 두면 cnt가 전역변수로, if문의 cnt가 언어번역 되기 전에 알려줌.\n",
    "    if cnt==5:\n",
    "        cnt=cnt+1 \n",
    "        print(cnt)\n",
    "if __name__==\"__main__\":\n",
    "    cnt=5 \n",
    "    DFS1() \n",
    "    DFS2() \n",
    "    print(cnt) # cnt가 전역변수로, DFS2에서 참조했기 때문에 6을 출력함"
   ]
  },
  {
   "cell_type": "markdown",
   "metadata": {},
   "source": [
    "리스트의 경우 아래를 조심하자."
   ]
  },
  {
   "cell_type": "code",
   "execution_count": 7,
   "metadata": {},
   "outputs": [
    {
     "name": "stdout",
     "output_type": "stream",
     "text": [
      "[7, 2, 3]\n",
      "[7, 2, 3]\n"
     ]
    }
   ],
   "source": [
    "def DFS():\n",
    "    a[0]=7 #이건 리스트를 새롭게 생성한다가 아니라, 변경한다 정도의 참조임.\n",
    "    print(a) # 여기는 그냥 전역리스트임.\n",
    "if __name__=='__main__':\n",
    "    a=[1,2,3]\n",
    "    DFS()\n",
    "    print(a)"
   ]
  },
  {
   "cell_type": "markdown",
   "metadata": {},
   "source": [
    "만약 a=[7,8]이라고 DFS함수에서 만들면, 당연히 결과가 다르게 나온다."
   ]
  },
  {
   "cell_type": "code",
   "execution_count": 8,
   "metadata": {},
   "outputs": [
    {
     "name": "stdout",
     "output_type": "stream",
     "text": [
      "[7, 8]\n",
      "[1, 2, 3]\n"
     ]
    }
   ],
   "source": [
    "def DFS():\n",
    "    a=[7,8] # 이게 바로 지역리스트임 생성됨.\n",
    "    print(a)\n",
    "if __name__=='__main__':\n",
    "    a=[1,2,3]\n",
    "    DFS()\n",
    "    print(a)"
   ]
  },
  {
   "cell_type": "markdown",
   "metadata": {},
   "source": [
    "이렇게 짜면, 지역변수로 인식되어서 오류가 뜬다."
   ]
  },
  {
   "cell_type": "code",
   "execution_count": 9,
   "metadata": {
    "scrolled": true
   },
   "outputs": [
    {
     "ename": "UnboundLocalError",
     "evalue": "local variable 'a' referenced before assignment",
     "output_type": "error",
     "traceback": [
      "\u001b[1;31m---------------------------------------------------------------------------\u001b[0m",
      "\u001b[1;31mUnboundLocalError\u001b[0m                         Traceback (most recent call last)",
      "\u001b[1;32m<ipython-input-9-1980a074dc35>\u001b[0m in \u001b[0;36m<module>\u001b[1;34m\u001b[0m\n\u001b[0;32m      4\u001b[0m \u001b[1;32mif\u001b[0m \u001b[0m__name__\u001b[0m\u001b[1;33m==\u001b[0m\u001b[1;34m'__main__'\u001b[0m\u001b[1;33m:\u001b[0m\u001b[1;33m\u001b[0m\u001b[1;33m\u001b[0m\u001b[0m\n\u001b[0;32m      5\u001b[0m     \u001b[0ma\u001b[0m\u001b[1;33m=\u001b[0m\u001b[1;33m[\u001b[0m\u001b[1;36m1\u001b[0m\u001b[1;33m,\u001b[0m\u001b[1;36m2\u001b[0m\u001b[1;33m,\u001b[0m\u001b[1;36m3\u001b[0m\u001b[1;33m]\u001b[0m\u001b[1;33m\u001b[0m\u001b[1;33m\u001b[0m\u001b[0m\n\u001b[1;32m----> 6\u001b[1;33m     \u001b[0mDFS\u001b[0m\u001b[1;33m(\u001b[0m\u001b[1;33m)\u001b[0m\u001b[1;33m\u001b[0m\u001b[1;33m\u001b[0m\u001b[0m\n\u001b[0m\u001b[0;32m      7\u001b[0m     \u001b[0mprint\u001b[0m\u001b[1;33m(\u001b[0m\u001b[0ma\u001b[0m\u001b[1;33m)\u001b[0m\u001b[1;33m\u001b[0m\u001b[1;33m\u001b[0m\u001b[0m\n",
      "\u001b[1;32m<ipython-input-9-1980a074dc35>\u001b[0m in \u001b[0;36mDFS\u001b[1;34m()\u001b[0m\n\u001b[0;32m      1\u001b[0m \u001b[1;32mdef\u001b[0m \u001b[0mDFS\u001b[0m\u001b[1;33m(\u001b[0m\u001b[1;33m)\u001b[0m\u001b[1;33m:\u001b[0m\u001b[1;33m\u001b[0m\u001b[1;33m\u001b[0m\u001b[0m\n\u001b[1;32m----> 2\u001b[1;33m     \u001b[0ma\u001b[0m\u001b[1;33m=\u001b[0m\u001b[0ma\u001b[0m\u001b[1;33m+\u001b[0m\u001b[1;33m[\u001b[0m\u001b[1;36m4\u001b[0m\u001b[1;33m]\u001b[0m \u001b[1;31m# 이러면 애러가 뜸. 이떄야 비로소 a를 지역리스트로 인식중.\u001b[0m\u001b[1;33m\u001b[0m\u001b[1;33m\u001b[0m\u001b[0m\n\u001b[0m\u001b[0;32m      3\u001b[0m     \u001b[0mprint\u001b[0m\u001b[1;33m(\u001b[0m\u001b[0ma\u001b[0m\u001b[1;33m)\u001b[0m\u001b[1;33m\u001b[0m\u001b[1;33m\u001b[0m\u001b[0m\n\u001b[0;32m      4\u001b[0m \u001b[1;32mif\u001b[0m \u001b[0m__name__\u001b[0m\u001b[1;33m==\u001b[0m\u001b[1;34m'__main__'\u001b[0m\u001b[1;33m:\u001b[0m\u001b[1;33m\u001b[0m\u001b[1;33m\u001b[0m\u001b[0m\n\u001b[0;32m      5\u001b[0m     \u001b[0ma\u001b[0m\u001b[1;33m=\u001b[0m\u001b[1;33m[\u001b[0m\u001b[1;36m1\u001b[0m\u001b[1;33m,\u001b[0m\u001b[1;36m2\u001b[0m\u001b[1;33m,\u001b[0m\u001b[1;36m3\u001b[0m\u001b[1;33m]\u001b[0m\u001b[1;33m\u001b[0m\u001b[1;33m\u001b[0m\u001b[0m\n",
      "\u001b[1;31mUnboundLocalError\u001b[0m: local variable 'a' referenced before assignment"
     ]
    }
   ],
   "source": [
    "def DFS():\n",
    "    a=a+[4] # 이러면 애러가 뜸. 이떄야 비로소 a를 지역리스트로 인식중.\n",
    "    print(a)\n",
    "if __name__=='__main__':\n",
    "    a=[1,2,3]\n",
    "    DFS()\n",
    "    print(a)"
   ]
  },
  {
   "cell_type": "markdown",
   "metadata": {},
   "source": [
    "이를위해 global a로 해결하면 된다."
   ]
  },
  {
   "cell_type": "code",
   "execution_count": 10,
   "metadata": {},
   "outputs": [
    {
     "name": "stdout",
     "output_type": "stream",
     "text": [
      "[1, 2, 3, 4]\n",
      "[1, 2, 3, 4]\n"
     ]
    }
   ],
   "source": [
    "def DFS():\n",
    "    global a # a를 지역이아닌, 전역으로 취급해서 부른다.\n",
    "    a=a+[4] # 이러면 애러가 뜸. 이떄야 비로소 a를 지역리스트로 인식중.\n",
    "    print(a)\n",
    "if __name__=='__main__':\n",
    "    a=[1,2,3]\n",
    "    DFS()\n",
    "    print(a)"
   ]
  }
 ],
 "metadata": {
  "kernelspec": {
   "display_name": "Python 3",
   "language": "python",
   "name": "python3"
  },
  "language_info": {
   "codemirror_mode": {
    "name": "ipython",
    "version": 3
   },
   "file_extension": ".py",
   "mimetype": "text/x-python",
   "name": "python",
   "nbconvert_exporter": "python",
   "pygments_lexer": "ipython3",
   "version": "3.8.5"
  }
 },
 "nbformat": 4,
 "nbformat_minor": 2
}
