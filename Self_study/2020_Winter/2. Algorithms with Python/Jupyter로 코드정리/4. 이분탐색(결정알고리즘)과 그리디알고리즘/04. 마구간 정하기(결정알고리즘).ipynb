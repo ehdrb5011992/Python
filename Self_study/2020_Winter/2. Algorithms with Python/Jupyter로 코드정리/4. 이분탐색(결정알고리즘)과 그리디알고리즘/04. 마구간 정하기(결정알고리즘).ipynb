{
 "cells": [
  {
   "cell_type": "markdown",
   "metadata": {},
   "source": [
    "# 내 풀이"
   ]
  },
  {
   "cell_type": "markdown",
   "metadata": {},
   "source": [
    "역시 강의를 통해 문제접근법을 알고나서, 코드를 짜봄 <br>"
   ]
  },
  {
   "cell_type": "markdown",
   "metadata": {},
   "source": [
    "가장 가까운 말의 거리를 출력하는것이므로, <br>\n",
    "목적에 맞게 얘를 기준으로 이진탐색을 진행"
   ]
  },
  {
   "cell_type": "markdown",
   "metadata": {},
   "source": [
    "말을 배치할때, 두 말을 기준으로 가장 가까운 말의 최대거리가 기준임. <br>\n",
    "배치할 경우 어느 말이든 이 거리보다 작을 수는 없음. <br>\n",
    "그러므로 최소거리 자체를 탐색들어가면 됨."
   ]
  },
  {
   "cell_type": "markdown",
   "metadata": {},
   "source": [
    "이경우 특이한점은, lr은 고정이라는 점임. 말 하나는 적어도 맨 구석에 있어야 하기 때문.(기준)"
   ]
  },
  {
   "cell_type": "markdown",
   "metadata": {},
   "source": [
    "문제를 한번에 보지말고, 기본부터 올라간다는 느낌으로 탐색하기"
   ]
  },
  {
   "cell_type": "markdown",
   "metadata": {},
   "source": [
    "#### 이진탐색은 언제나 정렬이 되어있어야 함을 잊지말기"
   ]
  },
  {
   "cell_type": "code",
   "execution_count": 51,
   "metadata": {},
   "outputs": [],
   "source": [
    "N=5\n",
    "C=3\n",
    "x=[1,2,8,4,9]\n",
    "x.sort()"
   ]
  },
  {
   "cell_type": "code",
   "execution_count": 52,
   "metadata": {},
   "outputs": [],
   "source": [
    "def horse(mid,x):\n",
    "    cnt=1\n",
    "    p1=x[0]\n",
    "    for p2 in x[1:]:\n",
    "        dist=p2-p1\n",
    "        if dist >= mid:\n",
    "            cnt+=1\n",
    "            p1=p2            \n",
    "    \n",
    "    return cnt"
   ]
  },
  {
   "cell_type": "code",
   "execution_count": 53,
   "metadata": {},
   "outputs": [],
   "source": [
    "def solution(x,C):\n",
    "    lt=x[0]\n",
    "    rt=x[-1]\n",
    "    res=0\n",
    "    while lt<=rt: # mid와 rt, lt는 전부 말과 말(두마리) 사이의 거리.\n",
    "        mid = (lt+rt) // 2\n",
    "        if horse(mid,x) >= C:\n",
    "            res=mid\n",
    "            lt = mid+1\n",
    "        else:\n",
    "            rt = mid-1\n",
    "    return res"
   ]
  },
  {
   "cell_type": "code",
   "execution_count": 54,
   "metadata": {},
   "outputs": [
    {
     "data": {
      "text/plain": [
       "3"
      ]
     },
     "execution_count": 54,
     "metadata": {},
     "output_type": "execute_result"
    }
   ],
   "source": [
    "solution(x,C)"
   ]
  },
  {
   "cell_type": "markdown",
   "metadata": {},
   "source": [
    "# 답 풀이"
   ]
  },
  {
   "cell_type": "markdown",
   "metadata": {},
   "source": [
    "채점코드를 위해서, 아래와 같이 구성\n",
    "```\n",
    "import sys\n",
    "sys.stdin=open(\"input.txt\",'rt') # 경로 잡고, 파일 엵음. rt= read a file as text\n",
    "```\n",
    "\n",
    "실행할때는, sys.stdin=open('input.txt','rt)를 주석처리 하고 실행시키면 된다."
   ]
  },
  {
   "cell_type": "code",
   "execution_count": null,
   "metadata": {},
   "outputs": [],
   "source": [
    "import sys\n",
    "#sys.stdin=open(\"input.txt\",'rt') # 경로 잡고, 파일 엵음. read a file as text\n",
    "\n",
    "n,c = map(int,input().split())\n",
    "Line=[]\n",
    "for _ in range(n):\n",
    "    Line.append(int(input()))\n",
    "Line.sort()\n",
    "\n",
    "lt=1 # 두 말사이의 거리 최솟값은 1\n",
    "rt=Line[n-1] #아니면, 끝 좌표 (엄밀히는 끝좌표보다 1이 작으나, 크게상관없음)\n",
    "\n",
    "\n",
    "def Count(len):\n",
    "    cnt=1\n",
    "    ep=Line[0] # 첫번째 마굿간에 배치\n",
    "    for i in range(1,n):\n",
    "        if Line[i]-ep >=len:\n",
    "            cnt+=1\n",
    "            ep=Line[i]\n",
    "    return cnt\n",
    "\n",
    "\n",
    "while lt<=rt:\n",
    "    mid=(lt+rt)//2\n",
    "    if Count(mid)>=c:\n",
    "        res=mid\n",
    "        lt=mid+1\n",
    "    else:\n",
    "        rt=mid-1\n",
    "print(res)\n"
   ]
  }
 ],
 "metadata": {
  "kernelspec": {
   "display_name": "Python 3",
   "language": "python",
   "name": "python3"
  },
  "language_info": {
   "codemirror_mode": {
    "name": "ipython",
    "version": 3
   },
   "file_extension": ".py",
   "mimetype": "text/x-python",
   "name": "python",
   "nbconvert_exporter": "python",
   "pygments_lexer": "ipython3",
   "version": "3.8.5"
  }
 },
 "nbformat": 4,
 "nbformat_minor": 2
}
