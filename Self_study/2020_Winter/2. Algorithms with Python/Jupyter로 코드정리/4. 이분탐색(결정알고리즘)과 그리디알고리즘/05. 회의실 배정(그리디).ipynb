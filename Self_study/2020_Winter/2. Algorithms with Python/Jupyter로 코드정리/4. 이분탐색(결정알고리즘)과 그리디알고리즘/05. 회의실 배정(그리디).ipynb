{
 "cells": [
  {
   "cell_type": "markdown",
   "metadata": {},
   "source": [
    "# 내 풀이"
   ]
  },
  {
   "cell_type": "markdown",
   "metadata": {},
   "source": [
    "그리디 알고리즘은 거의 다 정렬과 더불어서 해결이 된다."
   ]
  },
  {
   "cell_type": "markdown",
   "metadata": {},
   "source": [
    "이 경우는, 회의를 끝나는 시간으로 정렬한다. <br>\n",
    "회의를 많이 하는것이 중요하므로, 시작시간은 상대적으로 덜중요하다"
   ]
  },
  {
   "cell_type": "code",
   "execution_count": 35,
   "metadata": {},
   "outputs": [],
   "source": [
    "x=[(1,4),(2,3),(3,5),(4,6),(5,7)]\n",
    "n=5"
   ]
  },
  {
   "cell_type": "code",
   "execution_count": 36,
   "metadata": {},
   "outputs": [],
   "source": [
    "sorted_x=sorted(x, key=lambda x:(x[1],x[0])) # 정렬순서가 x[1]번째 후에 x[0]번째"
   ]
  },
  {
   "cell_type": "code",
   "execution_count": 37,
   "metadata": {},
   "outputs": [
    {
     "data": {
      "text/plain": [
       "[(2, 3), (1, 4), (3, 5), (4, 6), (5, 7)]"
      ]
     },
     "execution_count": 37,
     "metadata": {},
     "output_type": "execute_result"
    }
   ],
   "source": [
    "sorted_x"
   ]
  },
  {
   "cell_type": "code",
   "execution_count": 42,
   "metadata": {},
   "outputs": [],
   "source": [
    "cnt=1\n",
    "s,e=sorted_x[0]\n",
    "for i in range(1,n):\n",
    "    if sorted_x[i][0] >= e :\n",
    "        cnt+=1\n",
    "        s,e=sorted_x[i]"
   ]
  },
  {
   "cell_type": "code",
   "execution_count": 43,
   "metadata": {},
   "outputs": [
    {
     "data": {
      "text/plain": [
       "3"
      ]
     },
     "execution_count": 43,
     "metadata": {},
     "output_type": "execute_result"
    }
   ],
   "source": [
    "cnt"
   ]
  },
  {
   "cell_type": "markdown",
   "metadata": {},
   "source": [
    "# 답 풀이"
   ]
  },
  {
   "cell_type": "markdown",
   "metadata": {},
   "source": [
    "채점코드를 위해서, 아래와 같이 구성\n",
    "```\n",
    "import sys\n",
    "sys.stdin=open(\"input.txt\",'rt') # 경로 잡고, 파일 엵음. rt= read a file as text\n",
    "```\n",
    "\n",
    "실행할때는, sys.stdin=open('input.txt','rt)를 주석처리 하고 실행시키면 된다."
   ]
  },
  {
   "cell_type": "code",
   "execution_count": null,
   "metadata": {},
   "outputs": [],
   "source": [
    "import sys\n",
    "#sys.stdin=open(\"input.txt\",'rt') # 경로 잡고, 파일 엵음. read a file as text\n",
    "\n",
    "n=int(input())\n",
    "meeting=[]\n",
    "for _ in range(n):\n",
    "    meeting.append(tuple(map(int,input().split())))\n",
    "\n",
    "meeting.sort(key=lambda x: (x[1],x[0])) #정렬순서를 x[1]를 우선으로. \n",
    "\n",
    "et=0 # 끝나는시간 초기화 (앞으로 s가 들어왔을때 e로써 사용할 공간)\n",
    "cnt=0\n",
    "for s,e in meeting:\n",
    "    if s >= et: # 첫번째 회의는 무조건 함\n",
    "        et=e\n",
    "        cnt+=1\n",
    "print(cnt)\n"
   ]
  }
 ],
 "metadata": {
  "kernelspec": {
   "display_name": "Python 3",
   "language": "python",
   "name": "python3"
  },
  "language_info": {
   "codemirror_mode": {
    "name": "ipython",
    "version": 3
   },
   "file_extension": ".py",
   "mimetype": "text/x-python",
   "name": "python",
   "nbconvert_exporter": "python",
   "pygments_lexer": "ipython3",
   "version": "3.8.5"
  }
 },
 "nbformat": 4,
 "nbformat_minor": 2
}
