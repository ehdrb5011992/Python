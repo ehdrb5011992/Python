{
 "cells": [
  {
   "cell_type": "markdown",
   "metadata": {},
   "source": [
    "# 내 풀이"
   ]
  },
  {
   "cell_type": "markdown",
   "metadata": {},
   "source": [
    "못풀었음... <br>\n",
    "문제 접근법 듣고 푼걸 내 풀이로 올린다. "
   ]
  },
  {
   "cell_type": "markdown",
   "metadata": {},
   "source": [
    "이 문제의 경우 <br>\n",
    "정답을 찾아 나아가는 문제로써 <br>\n",
    "정수형 수치값이 연속형+ 정렬되어있기 때문에 <br>\n",
    "2진탐색을 쓰기에 아주 적합하다"
   ]
  },
  {
   "cell_type": "code",
   "execution_count": 31,
   "metadata": {},
   "outputs": [],
   "source": [
    "K=4\n",
    "N=11\n",
    "x=[802,743,457,539]"
   ]
  },
  {
   "cell_type": "code",
   "execution_count": 32,
   "metadata": {},
   "outputs": [],
   "source": [
    "def line_split(x,N):\n",
    "    lt=1\n",
    "    rt=214700000 # 어차피 탐색할거기 때문에, 4개의 사례중 가장 큰값보다도 더 큰범위면됨.\n",
    "    ans=-2147000000\n",
    "\n",
    "    while lt<=rt:\n",
    "        mid=(lt+rt)//2\n",
    "\n",
    "        tot=0\n",
    "        for i in x:\n",
    "            tot+=i//mid\n",
    "\n",
    "        if tot >= N:\n",
    "            ans = mid\n",
    "            lt = mid+1\n",
    "        else:\n",
    "            rt = mid-1\n",
    "    return ans"
   ]
  },
  {
   "cell_type": "code",
   "execution_count": 33,
   "metadata": {
    "scrolled": true
   },
   "outputs": [
    {
     "data": {
      "text/plain": [
       "200"
      ]
     },
     "execution_count": 33,
     "metadata": {},
     "output_type": "execute_result"
    }
   ],
   "source": [
    "line_split(x,N)"
   ]
  },
  {
   "cell_type": "markdown",
   "metadata": {},
   "source": [
    "# 답 풀이"
   ]
  },
  {
   "cell_type": "markdown",
   "metadata": {},
   "source": [
    "채점코드를 위해서, 아래와 같이 구성\n",
    "```\n",
    "import sys\n",
    "sys.stdin=open(\"input.txt\",'rt') # 경로 잡고, 파일 엵음. rt= read a file as text\n",
    "```\n",
    "\n",
    "실행할때는, sys.stdin=open('input.txt','rt)를 주석처리 하고 실행시키면 된다."
   ]
  },
  {
   "cell_type": "code",
   "execution_count": null,
   "metadata": {},
   "outputs": [],
   "source": [
    "import sys\n",
    "#sys.stdin=open(\"input.txt\",'rt') # 경로 잡고, 파일 엵음. read a file as text\n",
    "\n",
    "k,n=map(int,input().split())\n",
    "line=[]\n",
    "largest=0\n",
    "for _ in range(k):\n",
    "    tmp=int(input())\n",
    "    line.append(tmp)\n",
    "    largest=max(largest,tmp) # 큰값 갱신. max를 쓰더라도,\n",
    "                             # 이렇게 두개중에 하나로 쓰는게 좋음.\n",
    "\n",
    "\n",
    "res=-2147000000\n",
    "lt=1\n",
    "rt=largest\n",
    "\n",
    "def Count(len):\n",
    "    cnt=0\n",
    "    for x in line:\n",
    "        cnt+=(x//len)\n",
    "    return cnt\n",
    "\n",
    "while lt<=rt:\n",
    "    mid=(lt+rt)//2\n",
    "    if Count(mid) >= n:\n",
    "        res=mid\n",
    "        lt=mid+1\n",
    "    else:\n",
    "        rt=mid-1\n",
    "print(res)"
   ]
  }
 ],
 "metadata": {
  "kernelspec": {
   "display_name": "Python 3",
   "language": "python",
   "name": "python3"
  },
  "language_info": {
   "codemirror_mode": {
    "name": "ipython",
    "version": 3
   },
   "file_extension": ".py",
   "mimetype": "text/x-python",
   "name": "python",
   "nbconvert_exporter": "python",
   "pygments_lexer": "ipython3",
   "version": "3.8.5"
  }
 },
 "nbformat": 4,
 "nbformat_minor": 2
}
