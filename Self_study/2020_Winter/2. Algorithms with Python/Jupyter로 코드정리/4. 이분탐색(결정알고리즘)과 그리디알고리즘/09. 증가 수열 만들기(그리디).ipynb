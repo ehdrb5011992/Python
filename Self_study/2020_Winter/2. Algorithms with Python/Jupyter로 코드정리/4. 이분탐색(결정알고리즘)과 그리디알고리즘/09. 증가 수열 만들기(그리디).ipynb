{
 "cells": [
  {
   "cell_type": "markdown",
   "metadata": {},
   "source": [
    "# 내 풀이"
   ]
  },
  {
   "cell_type": "code",
   "execution_count": 22,
   "metadata": {},
   "outputs": [],
   "source": [
    "n=10\n",
    "x=[3,2,10,1,5,4,7,8,9,6]"
   ]
  },
  {
   "cell_type": "code",
   "execution_count": 28,
   "metadata": {},
   "outputs": [],
   "source": [
    "def solution(n,x):\n",
    "    ans=''\n",
    "    num=0\n",
    "    cnt=0\n",
    "    while n:\n",
    "        s=x[0]\n",
    "        e=x[-1]\n",
    "\n",
    "        if (len(x)==1) & (x[0]>num) :\n",
    "            ans+='L'\n",
    "            cnt+=1\n",
    "            \n",
    "        if num < s and num < e:\n",
    "            if s<e:\n",
    "                num=x.pop(0)\n",
    "                ans+='L'\n",
    "                cnt+=1\n",
    "            elif s>e:\n",
    "                num=x.pop()\n",
    "                ans+='R'\n",
    "                cnt+=1\n",
    "\n",
    "        elif num < s and num > e:\n",
    "            num=x.pop(0)\n",
    "            ans+='L'\n",
    "            cnt+=1\n",
    "\n",
    "        elif num > s and num < e:\n",
    "            num=x.pop()\n",
    "            ans+='R'\n",
    "            cnt+=1\n",
    "\n",
    "        else:\n",
    "            break\n",
    "        n-=1\n",
    "    return print(cnt,ans,sep='\\n')\n",
    "        "
   ]
  },
  {
   "cell_type": "code",
   "execution_count": 29,
   "metadata": {},
   "outputs": [
    {
     "name": "stdout",
     "output_type": "stream",
     "text": [
      "3\n",
      "LRL\n"
     ]
    }
   ],
   "source": [
    "solution(n,x)"
   ]
  },
  {
   "cell_type": "markdown",
   "metadata": {},
   "source": [
    "# 답 풀이"
   ]
  },
  {
   "cell_type": "markdown",
   "metadata": {},
   "source": [
    "채점코드를 위해서, 아래와 같이 구성\n",
    "```\n",
    "import sys\n",
    "sys.stdin=open(\"input.txt\",'rt') # 경로 잡고, 파일 엵음. rt= read a file as text\n",
    "```\n",
    "\n",
    "실행할때는, sys.stdin=open('input.txt','rt)를 주석처리 하고 실행시키면 된다."
   ]
  },
  {
   "cell_type": "code",
   "execution_count": null,
   "metadata": {},
   "outputs": [],
   "source": [
    "import sys\n",
    "#sys.stdin=open(\"input.txt\",'rt') # 경로 잡고, 파일 엵음. read a file as text\n",
    "\n",
    "n=int(input())\n",
    "a=list(map(int,input().split()))\n",
    "\n",
    "lt=0\n",
    "rt=n-1 # point 설정\n",
    "last=0 # 초기화\n",
    "res='' #문자열\n",
    "tmp = [] # 추가할 값 리스트\n",
    "while lt<=rt: # 이분탐색처럼 두개의 포인터\n",
    "    if a[lt] > last:\n",
    "        tmp.append((a[lt],'L')) # 튜플로 처리\n",
    "    if a[rt] > last:\n",
    "        tmp.append((a[rt],'R')) # 일단 이렇게 둘다 받음. \n",
    "\n",
    "    tmp.sort() # 튜플의 첫 자료값에 대해 정렬함. (받은값에 대해 오름차순)\n",
    "\n",
    "    if len(tmp)==0: # 둘다 못받았으면 break\n",
    "        break\n",
    "    else:\n",
    "        res=res+tmp[0][1] # 출력할 답\n",
    "        last=tmp[0][0] # 숫자\n",
    "\n",
    "        if tmp[0][1] =='L':\n",
    "            lt+=1\n",
    "        else:\n",
    "            rt-=1\n",
    "    tmp.clear() # 싹 지워버림. tmp는 정렬된 값임. (앞에께 작음)\n",
    "print(len(res))\n",
    "print(res)\n"
   ]
  }
 ],
 "metadata": {
  "kernelspec": {
   "display_name": "Python 3",
   "language": "python",
   "name": "python3"
  },
  "language_info": {
   "codemirror_mode": {
    "name": "ipython",
    "version": 3
   },
   "file_extension": ".py",
   "mimetype": "text/x-python",
   "name": "python",
   "nbconvert_exporter": "python",
   "pygments_lexer": "ipython3",
   "version": "3.8.5"
  }
 },
 "nbformat": 4,
 "nbformat_minor": 2
}
