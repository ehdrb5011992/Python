{
 "cells": [
  {
   "cell_type": "markdown",
   "metadata": {},
   "source": [
    "# 내 풀이"
   ]
  },
  {
   "cell_type": "markdown",
   "metadata": {},
   "source": [
    "답지 꼭 숙지하기 <br>\n",
    "죽어라고 고민했는데 코드가 틀렸을 뿐더러, <br>\n",
    "굉장히 더럽기까지도 함. <br>\n",
    "\n",
    "여기서 명심할건, 코드를 재참조하는 행위는 굉장히 나쁜버릇이며 말이안되는거같음. <br>\n",
    "이 의미는 for문의 영역에 res로 받은 값이 for문 내에서 갱신되면서 영역이 계속 바뀌는걸 의미.\n",
    "\n",
    "절대로 이렇게 짜지 말기. <br>\n",
    "(즉, for x in y: 이런형태를 지양하고, for x in range(9): 이런형태를 지향하기)\n",
    "\n",
    "더불어, 초기화는 0으로 진행하며, 펜을들고 알고리즘 추이를 따라가보기"
   ]
  },
  {
   "cell_type": "markdown",
   "metadata": {},
   "source": []
  },
  {
   "cell_type": "code",
   "execution_count": 36,
   "metadata": {},
   "outputs": [],
   "source": [
    "n=8\n",
    "x=[5,3,4,0,2,1,1,0]"
   ]
  },
  {
   "cell_type": "code",
   "execution_count": 37,
   "metadata": {},
   "outputs": [],
   "source": [
    "# 틀린 코드\n",
    "def solution(x,n):\n",
    "    res=[0]*n \n",
    "    value=1\n",
    "    for cnt in x:\n",
    "        large=0\n",
    "        idx=0\n",
    "\n",
    "        for target in res:\n",
    "            if (target==0) & (large==cnt):\n",
    "                res[idx]=value\n",
    "                break\n",
    "            if target==0:\n",
    "                large+=1\n",
    "\n",
    "            idx+=1\n",
    "\n",
    "        value+=1\n",
    "    return res"
   ]
  },
  {
   "cell_type": "code",
   "execution_count": 38,
   "metadata": {},
   "outputs": [
    {
     "data": {
      "text/plain": [
       "[4, 8, 6, 2, 5, 1, 3, 7]"
      ]
     },
     "execution_count": 38,
     "metadata": {},
     "output_type": "execute_result"
    }
   ],
   "source": [
    "solution(x,n)"
   ]
  },
  {
   "cell_type": "code",
   "execution_count": 39,
   "metadata": {},
   "outputs": [],
   "source": [
    "n=10\n",
    "x=[8, 4, 0, 5, 2, 3, 0, 0, 0] "
   ]
  },
  {
   "cell_type": "code",
   "execution_count": 40,
   "metadata": {},
   "outputs": [
    {
     "data": {
      "text/plain": [
       "[3, 7, 8, 5, 2, 9, 6, 4, 1, 0]"
      ]
     },
     "execution_count": 40,
     "metadata": {},
     "output_type": "execute_result"
    }
   ],
   "source": [
    "solution(x,n) #틀렸다"
   ]
  },
  {
   "cell_type": "code",
   "execution_count": null,
   "metadata": {},
   "outputs": [],
   "source": [
    "# 답은 4 8 9 6 1 3 10 7 5 2"
   ]
  },
  {
   "cell_type": "markdown",
   "metadata": {},
   "source": [
    "# 답 풀이"
   ]
  },
  {
   "cell_type": "markdown",
   "metadata": {},
   "source": [
    "채점코드를 위해서, 아래와 같이 구성\n",
    "```\n",
    "import sys\n",
    "sys.stdin=open(\"input.txt\",'rt') # 경로 잡고, 파일 엵음. rt= read a file as text\n",
    "```\n",
    "\n",
    "실행할때는, sys.stdin=open('input.txt','rt)를 주석처리 하고 실행시키면 된다."
   ]
  },
  {
   "cell_type": "code",
   "execution_count": null,
   "metadata": {},
   "outputs": [],
   "source": [
    "import sys\n",
    "#sys.stdin=open(\"input.txt\",'rt') # 경로 잡고, 파일 엵음. read a file as text\n",
    "\n",
    "n=int(input())\n",
    "a=list(map(int,input().split()))\n",
    "\n",
    "seq=[0]*n # 그냥 n+1개 방 생성. 우리는 아래코드에서 0번째부터 n-1번째까지만 본다.\n",
    "for i in range(n):\n",
    "    for j in range(n):\n",
    "        if a[i]==0 and seq[j]==0:\n",
    "            seq[j]=i+1\n",
    "            break\n",
    "        elif seq[j]==0 :# 빈자리 발견\n",
    "            a[i]-=1\n",
    "for x in seq:\n",
    "    print(x, end=' ')\n",
    "    \n"
   ]
  }
 ],
 "metadata": {
  "kernelspec": {
   "display_name": "Python 3",
   "language": "python",
   "name": "python3"
  },
  "language_info": {
   "codemirror_mode": {
    "name": "ipython",
    "version": 3
   },
   "file_extension": ".py",
   "mimetype": "text/x-python",
   "name": "python",
   "nbconvert_exporter": "python",
   "pygments_lexer": "ipython3",
   "version": "3.8.5"
  }
 },
 "nbformat": 4,
 "nbformat_minor": 2
}
