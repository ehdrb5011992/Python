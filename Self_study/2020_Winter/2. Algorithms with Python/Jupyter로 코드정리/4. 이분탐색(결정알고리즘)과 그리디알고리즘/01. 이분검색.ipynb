{
 "cells": [
  {
   "cell_type": "markdown",
   "metadata": {},
   "source": [
    "# 내 풀이"
   ]
  },
  {
   "cell_type": "markdown",
   "metadata": {},
   "source": [
    "이분검색은 기본적으로 정렬이 되어있어야 한다. <br>\n",
    "O(log_2(N))"
   ]
  },
  {
   "cell_type": "code",
   "execution_count": 5,
   "metadata": {},
   "outputs": [],
   "source": [
    "N=8\n",
    "x=[23,87,65,12,57,32,99,81]\n",
    "M=32"
   ]
  },
  {
   "cell_type": "code",
   "execution_count": 6,
   "metadata": {},
   "outputs": [],
   "source": [
    "x_sort=sorted(x)"
   ]
  },
  {
   "cell_type": "code",
   "execution_count": 9,
   "metadata": {},
   "outputs": [
    {
     "data": {
      "text/plain": [
       "[12, 23, 32, 57, 65, 81, 87, 99]"
      ]
     },
     "execution_count": 9,
     "metadata": {},
     "output_type": "execute_result"
    }
   ],
   "source": [
    "x_sort"
   ]
  },
  {
   "cell_type": "code",
   "execution_count": 10,
   "metadata": {},
   "outputs": [
    {
     "name": "stdout",
     "output_type": "stream",
     "text": [
      "2\n"
     ]
    }
   ],
   "source": [
    "s=0\n",
    "e=N-1\n",
    "while True:\n",
    "    mid=(s+e)//2\n",
    "    if x_sort[s] == M:\n",
    "        mid=s\n",
    "        break\n",
    "    elif x_sort[e]==M:\n",
    "        mid=e\n",
    "        break\n",
    "    elif x_sort[mid]==M:\n",
    "        break\n",
    "    \n",
    "    if M>x_sort[mid]:\n",
    "        s=mid\n",
    "    elif M<x_sort[mid]:\n",
    "        e=mid\n",
    "    else:\n",
    "        break\n",
    "print(mid+1)"
   ]
  },
  {
   "cell_type": "markdown",
   "metadata": {},
   "source": [
    "# 답 풀이"
   ]
  },
  {
   "cell_type": "markdown",
   "metadata": {},
   "source": [
    "채점코드를 위해서, 아래와 같이 구성\n",
    "```\n",
    "import sys\n",
    "sys.stdin=open(\"input.txt\",'rt') # 경로 잡고, 파일 엵음. rt= read a file as text\n",
    "```\n",
    "\n",
    "실행할때는, sys.stdin=open('input.txt','rt)를 주석처리 하고 실행시키면 된다."
   ]
  },
  {
   "cell_type": "code",
   "execution_count": null,
   "metadata": {},
   "outputs": [],
   "source": [
    "import sys\n",
    "sys.stdin=open(\"input.txt\",'rt') # 경로 잡고, 파일 엵음. read a file as text\n",
    "\n",
    "n,m = map(int,input().split())\n",
    "a=list(map(int,input().split()))\n",
    "\n",
    "a.sort()\n",
    "lt=0\n",
    "rt=n-1\n",
    "\n",
    "while lt<=rt: # True로 해도 됨. 다만, 확실하게 lt<=rt일때 그냥 계속 돎. \n",
    "    mid=(lt+rt)//2\n",
    "    if a[mid]==m:\n",
    "        print(mid+1) #mid는 인덱스기 때문에, 번째를 위해 +1\n",
    "        break\n",
    "    elif a[mid]>m:\n",
    "        rt=mid-1 # mid도 타겟이 아니기 때문에, 인덱스 하나 더 땡김.\n",
    "    else:\n",
    "        lt=mid+1 # 마찬가지임."
   ]
  }
 ],
 "metadata": {
  "kernelspec": {
   "display_name": "Python 3",
   "language": "python",
   "name": "python3"
  },
  "language_info": {
   "codemirror_mode": {
    "name": "ipython",
    "version": 3
   },
   "file_extension": ".py",
   "mimetype": "text/x-python",
   "name": "python",
   "nbconvert_exporter": "python",
   "pygments_lexer": "ipython3",
   "version": "3.8.5"
  }
 },
 "nbformat": 4,
 "nbformat_minor": 2
}
