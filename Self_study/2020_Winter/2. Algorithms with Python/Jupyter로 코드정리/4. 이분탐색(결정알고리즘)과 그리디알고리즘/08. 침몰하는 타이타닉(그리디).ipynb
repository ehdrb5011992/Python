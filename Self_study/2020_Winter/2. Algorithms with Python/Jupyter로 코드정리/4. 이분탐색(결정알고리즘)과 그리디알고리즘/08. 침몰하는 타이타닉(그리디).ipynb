{
 "cells": [
  {
   "cell_type": "markdown",
   "metadata": {},
   "source": [
    "# 내 풀이"
   ]
  },
  {
   "cell_type": "markdown",
   "metadata": {},
   "source": [
    "### deque라는 자료구조가 있음. 숙지하고 넘어갈것"
   ]
  },
  {
   "cell_type": "markdown",
   "metadata": {},
   "source": [
    "더불어, 내 코드는 remove도있고, for문도 중첩되어있어서 비효율적임. <br> \n",
    "정답을 보고 효율적으로 연습하기"
   ]
  },
  {
   "cell_type": "markdown",
   "metadata": {},
   "source": [
    "그냥 가장 무거운사람과 가장 가벼운사람이 한팀이되서 나가면 됨. <br>\n",
    "충분한 생각을 했다면, 타당한 접근임."
   ]
  },
  {
   "cell_type": "code",
   "execution_count": 45,
   "metadata": {},
   "outputs": [],
   "source": [
    "N=5\n",
    "M=140\n",
    "x=[90,50,70,100,60]"
   ]
  },
  {
   "cell_type": "code",
   "execution_count": 41,
   "metadata": {},
   "outputs": [],
   "source": [
    "sorted_x=sorted(x,reverse=True)"
   ]
  },
  {
   "cell_type": "code",
   "execution_count": 42,
   "metadata": {},
   "outputs": [
    {
     "data": {
      "text/plain": [
       "[100, 90, 70, 60, 50]"
      ]
     },
     "execution_count": 42,
     "metadata": {},
     "output_type": "execute_result"
    }
   ],
   "source": [
    "sorted(x,reverse=True)"
   ]
  },
  {
   "cell_type": "code",
   "execution_count": 43,
   "metadata": {},
   "outputs": [],
   "source": [
    "def solution(x,M):\n",
    "    cnt=0\n",
    "    while sorted_x:\n",
    "        hvy= sorted_x.pop(0)\n",
    "        for pson in sorted_x:\n",
    "            if hvy+pson <=M:\n",
    "                sorted_x.remove(pson)\n",
    "                cnt+=1\n",
    "                break\n",
    "        else:\n",
    "            cnt+=1\n",
    "    return cnt\n",
    "        "
   ]
  },
  {
   "cell_type": "code",
   "execution_count": 44,
   "metadata": {
    "scrolled": true
   },
   "outputs": [
    {
     "name": "stdout",
     "output_type": "stream",
     "text": [
      "3\n"
     ]
    }
   ],
   "source": [
    "print(solution(x,M))"
   ]
  },
  {
   "cell_type": "markdown",
   "metadata": {},
   "source": [
    "# 답 풀이"
   ]
  },
  {
   "cell_type": "markdown",
   "metadata": {},
   "source": [
    "채점코드를 위해서, 아래와 같이 구성\n",
    "```\n",
    "import sys\n",
    "sys.stdin=open(\"input.txt\",'rt') # 경로 잡고, 파일 엵음. rt= read a file as text\n",
    "```\n",
    "\n",
    "실행할때는, sys.stdin=open('input.txt','rt)를 주석처리 하고 실행시키면 된다."
   ]
  },
  {
   "cell_type": "markdown",
   "metadata": {},
   "source": [
    "### 1) list"
   ]
  },
  {
   "cell_type": "code",
   "execution_count": null,
   "metadata": {},
   "outputs": [],
   "source": [
    "import sys\n",
    "#sys.stdin=open(\"input.txt\",'rt') # 경로 잡고, 파일 엵음. read a file as text\n",
    "\n",
    "\n",
    "n,limit=map(int,input().split())\n",
    "p=list(map(int,input().split()))\n",
    "\n",
    "p.sort() # 오름차순 정렬\n",
    "cnt=0\n",
    "\n",
    "while p:\n",
    "\n",
    "    if len(p) ==1: # 마지막 한명은 보트타고 나가버리면 되는거임.\n",
    "                   # 이렇게 특수케이스를 처리.\n",
    "        cnt+=1\n",
    "        break\n",
    "    if p[0]+p[-1] > limit:\n",
    "        p.pop() # 가장 무거운 사람이 사라짐. (오름차순정렬임)\n",
    "        cnt+=1\n",
    "    else:\n",
    "        p.pop(0)\n",
    "        p.pop()\n",
    "        cnt+=1\n",
    "print(cnt)"
   ]
  },
  {
   "cell_type": "markdown",
   "metadata": {},
   "source": [
    "### 2) deque"
   ]
  },
  {
   "cell_type": "markdown",
   "metadata": {},
   "source": [
    "deque는 list에서 pop이 다소 불편한걸 보완할 수 있는 자료구조. <br>\n",
    "list의 경우 .pop(0)을 하면, 자료들이 전부 앞으로 한칸씩 움직인다. <br>\n",
    "하지만, deque 자료구조의 경우, 양옆에서 접근할 수 있다. (자료가 움직이지 않는다, 포인터가 2개임) <br>\n",
    "list는 끝값을 살피는 경우 O(n)이지만, deque의 경우는 O(1)로 접근가능하며, <br>\n",
    "보통의 경우 list보다 deque가 우월하다."
   ]
  },
  {
   "cell_type": "code",
   "execution_count": 47,
   "metadata": {},
   "outputs": [
    {
     "name": "stdout",
     "output_type": "stream",
     "text": [
      "5 140\n",
      "1\n",
      "1\n"
     ]
    }
   ],
   "source": [
    "import sys\n",
    "from collections import deque\n",
    "#sys.stdin=open(\"input.txt\",'rt') # 경로 잡고, 파일 엵음. read a file as text\n",
    "\n",
    "\n",
    "n,limit=map(int,input().split())\n",
    "p=list(map(int,input().split()))\n",
    "\n",
    "p.sort()\n",
    "p=deque(p)\n",
    "cnt=0\n",
    "\n",
    "while p:\n",
    "\n",
    "    if len(p) ==1: \n",
    "        cnt+=1\n",
    "        break\n",
    "    if p[0]+p[-1] > limit:\n",
    "        p.pop() \n",
    "        cnt+=1\n",
    "    else:\n",
    "        p.popleft() #왼쪽을 뽑아냄.\n",
    "        p.pop()\n",
    "        cnt+=1\n",
    "print(cnt)"
   ]
  }
 ],
 "metadata": {
  "kernelspec": {
   "display_name": "Python 3",
   "language": "python",
   "name": "python3"
  },
  "language_info": {
   "codemirror_mode": {
    "name": "ipython",
    "version": 3
   },
   "file_extension": ".py",
   "mimetype": "text/x-python",
   "name": "python",
   "nbconvert_exporter": "python",
   "pygments_lexer": "ipython3",
   "version": "3.8.5"
  }
 },
 "nbformat": 4,
 "nbformat_minor": 2
}
