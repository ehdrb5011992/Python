{
 "cells": [
  {
   "cell_type": "markdown",
   "metadata": {},
   "source": [
    "# 내 풀이"
   ]
  },
  {
   "cell_type": "markdown",
   "metadata": {},
   "source": [
    "문제접근법 강의를 듣고나서, 참고하여 코드를 작성해보았다.<br>\n",
    "좀 더 연습하기 (더구나, 내풀이는 반례가 있는 반쪽자리임)"
   ]
  },
  {
   "cell_type": "markdown",
   "metadata": {},
   "source": [
    "정답이 되는 클래스를(그 값 자체를) 이진탐색하는것임."
   ]
  },
  {
   "cell_type": "markdown",
   "metadata": {},
   "source": [
    "미래에 ~라면 이라는 조건은 말 그대로, if문에서 들어가는거임!!! <br>\n",
    "맨날 헤메는데, 쉽게생각하기"
   ]
  },
  {
   "cell_type": "markdown",
   "metadata": {},
   "source": [
    "더불어, 함수를 짤때도 T/F로 나오는 함수를 가급적 짜지 말기. <br>\n",
    "구체적인게 좋음."
   ]
  },
  {
   "cell_type": "code",
   "execution_count": 7,
   "metadata": {},
   "outputs": [],
   "source": [
    "N=9\n",
    "M=3\n",
    "x=[1,2,3,4,5,6,7,8,9]"
   ]
  },
  {
   "cell_type": "code",
   "execution_count": 8,
   "metadata": {},
   "outputs": [],
   "source": [
    "def check_sum(x,mid,M):\n",
    "    tot=0\n",
    "    dvd=[]\n",
    "    for i in x:\n",
    "        if tot+i > mid: #이렇게 하는거임!!!! 매우중요\n",
    "            dvd.append(tot)\n",
    "            tot=i\n",
    "        else:\n",
    "            tot+=i\n",
    "    else: # 그리고 나서, 부족한건 for else로 처리할생각하면됨.\n",
    "        dvd.append(tot)\n",
    "        \n",
    "    if len(dvd) <= M: # 조건을 전부 통과시킴\n",
    "        return True\n",
    "    else:\n",
    "        return False"
   ]
  },
  {
   "cell_type": "code",
   "execution_count": 9,
   "metadata": {
    "scrolled": true
   },
   "outputs": [],
   "source": [
    "def music(x,M):\n",
    "    lt=1\n",
    "    rt=sum(x)\n",
    "    ans=0 # 결국 찾을 위치가 어딘지 초기화.\n",
    "    while lt<=rt:\n",
    "        mid=(lt+rt)//2\n",
    "        if check_sum(x,mid,M):\n",
    "            ans=mid # 조건을 통과하고 나온 최종 mid값이 ans\n",
    "            rt = mid-1\n",
    "        else:\n",
    "            lt = mid+1\n",
    "    return ans"
   ]
  },
  {
   "cell_type": "code",
   "execution_count": 10,
   "metadata": {},
   "outputs": [
    {
     "name": "stdout",
     "output_type": "stream",
     "text": [
      "1\n"
     ]
    }
   ],
   "source": [
    "print(music(x,M))"
   ]
  },
  {
   "cell_type": "markdown",
   "metadata": {},
   "source": [
    "# 답 풀이"
   ]
  },
  {
   "cell_type": "markdown",
   "metadata": {},
   "source": [
    "채점코드를 위해서, 아래와 같이 구성\n",
    "```\n",
    "import sys\n",
    "sys.stdin=open(\"input.txt\",'rt') # 경로 잡고, 파일 엵음. rt= read a file as text\n",
    "```\n",
    "\n",
    "실행할때는, sys.stdin=open('input.txt','rt)를 주석처리 하고 실행시키면 된다."
   ]
  },
  {
   "cell_type": "code",
   "execution_count": 2,
   "metadata": {},
   "outputs": [
    {
     "name": "stdout",
     "output_type": "stream",
     "text": [
      "9 3\n",
      "1 2 3 4 5 6 7 8 9\n",
      "17\n"
     ]
    }
   ],
   "source": [
    "import sys\n",
    "#sys.stdin=open(\"input.txt\",'rt') # 경로 잡고, 파일 엵음. read a file as text\n",
    "\n",
    "n,m = map(int,input().split())\n",
    "Music=list(map(int,input().split()))\n",
    "maxx=max(Music) # 우리가 가진 dvd용량은 적어도 가장 긴 음악 1곡은 수용할 수 있어야함.\n",
    "lt=1\n",
    "rt=sum(Music)\n",
    "res=0\n",
    "\n",
    "def Count(capacity):\n",
    "    cnt=1\n",
    "    sum=0\n",
    "    for x in Music:\n",
    "        if sum+x > capacity:\n",
    "            cnt+=1\n",
    "            sum=x\n",
    "        else:\n",
    "            sum+=x\n",
    "    return cnt\n",
    "\n",
    "while lt<=rt:\n",
    "    mid=(lt+rt)//2\n",
    "    if mid>=maxx and Count(mid)<=m:\n",
    "        res=mid\n",
    "        rt=mid-1\n",
    "    else:\n",
    "        lt=mid+1\n",
    "print(res)"
   ]
  }
 ],
 "metadata": {
  "kernelspec": {
   "display_name": "Python 3",
   "language": "python",
   "name": "python3"
  },
  "language_info": {
   "codemirror_mode": {
    "name": "ipython",
    "version": 3
   },
   "file_extension": ".py",
   "mimetype": "text/x-python",
   "name": "python",
   "nbconvert_exporter": "python",
   "pygments_lexer": "ipython3",
   "version": "3.8.5"
  }
 },
 "nbformat": 4,
 "nbformat_minor": 2
}
