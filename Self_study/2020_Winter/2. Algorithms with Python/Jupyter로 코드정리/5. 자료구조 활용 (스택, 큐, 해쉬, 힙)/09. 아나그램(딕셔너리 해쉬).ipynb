{
 "cells": [
  {
   "cell_type": "markdown",
   "metadata": {},
   "source": [
    "# 내 풀이"
   ]
  },
  {
   "cell_type": "markdown",
   "metadata": {},
   "source": [
    "all : 모두 참이여야만 참을 반환 <br>\n",
    "any : 하나만 참이어도 참을 반환"
   ]
  },
  {
   "cell_type": "markdown",
   "metadata": {},
   "source": [
    "dictionary에 <br> \n",
    "word1_dict.get('A',0)+1 <br> \n",
    "과 같은 'get'이라는 매서드가 있음. <br>\n",
    "'A'라는 문자가 없으면 key를 생성해서 받으면서 0을 넣으라는거고, <br>\n",
    "있으면 그 key값의 value를 return하라는 의미임. <br>\n",
    "\n",
    "결국 word1_dict['A']=word1_dict.get('A',0)+1 로 하면, <br>\n",
    "\n",
    "        if w1 not in word1_dict:\n",
    "            word1_dict[w1]=1\n",
    "        else:\n",
    "            word1_dict[w1]+=1\n",
    "            \n",
    "이런 꼴이 한줄로 구현됨"
   ]
  },
  {
   "cell_type": "code",
   "execution_count": 39,
   "metadata": {},
   "outputs": [],
   "source": [
    "word1='ABCDqtqtqEFqGHIJKLMNOPQRSTUVWetagdgXYabcdefghijklmnopqrstuwxyz'\n",
    "word2='aBcdewrqwtqFghIJklMnOpqrsTuegagaeVxyYAbCDEfGHijKLmNoPQRStUwWXz'"
   ]
  },
  {
   "cell_type": "code",
   "execution_count": 33,
   "metadata": {},
   "outputs": [],
   "source": [
    "def solution(word1,word2):\n",
    "    my_dict={}\n",
    "    sub_dict={}\n",
    "    for w1 in word1:\n",
    "        if w1 not in my_dict:\n",
    "            my_dict[w1]=1\n",
    "        else:\n",
    "            my_dict[w1]+=1\n",
    "\n",
    "    for w2 in word2:\n",
    "        if w2 in my_dict:\n",
    "            my_dict[w2]-=1\n",
    "        else:\n",
    "            sub_dict[w2]=1\n",
    "\n",
    "    if all(x==0 for x in my_dict.values()) and all(x==0 for x in sub_dict.values()):\n",
    "        return 'YES'\n",
    "    else:\n",
    "        return 'NO'"
   ]
  },
  {
   "cell_type": "code",
   "execution_count": 35,
   "metadata": {},
   "outputs": [
    {
     "name": "stdout",
     "output_type": "stream",
     "text": [
      "NO\n"
     ]
    }
   ],
   "source": [
    "print(solution(word1,word2))"
   ]
  },
  {
   "cell_type": "markdown",
   "metadata": {},
   "source": [
    "# 답 풀이"
   ]
  },
  {
   "cell_type": "markdown",
   "metadata": {},
   "source": [
    "채점코드를 위해서, 아래와 같이 구성\n",
    "```\n",
    "import sys\n",
    "sys.stdin=open(\"input.txt\",'rt') # 경로 잡고, 파일 엵음. rt= read a file as text\n",
    "```\n",
    "\n",
    "실행할때는, sys.stdin=open('input.txt','rt)를 주석처리 하고 실행시키면 된다."
   ]
  },
  {
   "cell_type": "markdown",
   "metadata": {},
   "source": [
    "### 1) dictionary original"
   ]
  },
  {
   "cell_type": "code",
   "execution_count": null,
   "metadata": {},
   "outputs": [],
   "source": [
    "import sys\n",
    "#sys.stdin=open(\"input.txt\",'rt') # 경로 잡고, 파일 엵음. read a file as text\n",
    "\n",
    "a=input()\n",
    "b=input()\n",
    "\n",
    "sH=dict()\n",
    "for x in a:\n",
    "    sH[x]=sH.get(x,0)+1 # 다 반영하고,\n",
    "       \n",
    "for x in b:\n",
    "    sH[x]=sH.get(x,0)-1 # 다시 다 빼주면 전부 0이 나와야함.\n",
    "\n",
    "for x in a:\n",
    "    if sH.get(x)>0: # 원래거 기준으로, 모든 key에 대해 value값이 0이 나와야함.\n",
    "       print('NO')\n",
    "       break\n",
    "else:\n",
    "    print(\"YES\")\n",
    "    \n"
   ]
  },
  {
   "cell_type": "markdown",
   "metadata": {},
   "source": [
    "### 2) dictionary advanced"
   ]
  },
  {
   "cell_type": "markdown",
   "metadata": {},
   "source": [
    "개인적으로, 이 코드는 오류가 있다고 생각함. <br>\n",
    "반례)  <br>\n",
    "AbaAeCe <br>\n",
    "baeeACAa "
   ]
  },
  {
   "cell_type": "code",
   "execution_count": null,
   "metadata": {},
   "outputs": [],
   "source": [
    "import sys\n",
    "#sys.stdin=open(\"input.txt\",'rt') # 경로 잡고, 파일 엵음. read a file as text\n",
    "\n",
    "a=input()\n",
    "b=input()\n",
    "\n",
    "sH=dict()\n",
    "for x in a:\n",
    "    sH[x=sH.get(x,0)+1 # 다 반영하고,\n",
    "       \n",
    "for x in b:\n",
    "    sH[x]=sH.get(x,0)-1 # 다시 다 빼주면 전부 0이 나와야함.\n",
    "\n",
    "for x in a:\n",
    "    if sH.get(x)>0: # 원래거 기준으로, 모든 key에 대해 value값이 0이 나와야함.\n",
    "       print('NO')\n",
    "       break\n",
    "else:\n",
    "    print(\"YES\")\n",
    "    "
   ]
  },
  {
   "cell_type": "markdown",
   "metadata": {},
   "source": [
    "### 3) list"
   ]
  },
  {
   "cell_type": "markdown",
   "metadata": {},
   "source": [
    "아스키 코드를 바꿔서 리스트에 해싱한다."
   ]
  },
  {
   "cell_type": "code",
   "execution_count": null,
   "metadata": {},
   "outputs": [],
   "source": [
    "import sys\n",
    "#sys.stdin=open(\"input.txt\",'rt') # 경로 잡고, 파일 엵음. read a file as text\n",
    "\n",
    "a=input()\n",
    "b=input()\n",
    "str1=[0]*52\n",
    "str2=[0]*52\n",
    "\n",
    "for x in a:\n",
    "    if x.isupper():\n",
    "        str1[ord(x)-65]+=1 # 아스키넘버로 변환 (A~Z: 65~90 / a~z: 97~122)\n",
    "    else:\n",
    "        str1[ord(x)-71]+=1 # 소문자 a가 26번으로 해싱됨\n",
    "\n",
    "for x in b:\n",
    "    if x.isupper():\n",
    "        str1[ord(x)-65]+=1 \n",
    "    else:\n",
    "        str1[ord(x)-71]+=1\n",
    "for i in range(52):\n",
    "    if str1[i]!=str2[i]:\n",
    "        print('NO')\n",
    "        break\n",
    "else:\n",
    "    print('YES')\n"
   ]
  }
 ],
 "metadata": {
  "kernelspec": {
   "display_name": "Python 3",
   "language": "python",
   "name": "python3"
  },
  "language_info": {
   "codemirror_mode": {
    "name": "ipython",
    "version": 3
   },
   "file_extension": ".py",
   "mimetype": "text/x-python",
   "name": "python",
   "nbconvert_exporter": "python",
   "pygments_lexer": "ipython3",
   "version": "3.8.5"
  }
 },
 "nbformat": 4,
 "nbformat_minor": 2
}
