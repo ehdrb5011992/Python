{
 "cells": [
  {
   "cell_type": "markdown",
   "metadata": {},
   "source": [
    "# 내 풀이"
   ]
  },
  {
   "cell_type": "code",
   "execution_count": 1,
   "metadata": {},
   "outputs": [],
   "source": [
    "n=[5,3,6,0,5,0,2,4,0,-1]"
   ]
  },
  {
   "cell_type": "code",
   "execution_count": 2,
   "metadata": {},
   "outputs": [],
   "source": [
    "import heapq as hq\n",
    "a=[]"
   ]
  },
  {
   "cell_type": "code",
   "execution_count": 3,
   "metadata": {},
   "outputs": [
    {
     "name": "stdout",
     "output_type": "stream",
     "text": [
      "6\n",
      "5\n",
      "5\n"
     ]
    }
   ],
   "source": [
    "for i in n:\n",
    "    if i==-1:\n",
    "        break\n",
    "    elif i==0:\n",
    "        if len(a)==0:\n",
    "            print(-1)\n",
    "        else:\n",
    "            print(hq.heappop(a)[1]) #(아래주석에서 올라옴) 그리고, 뒤에꺼를 출력해서 봄.\n",
    "    else:\n",
    "        hq.heappush(a,(-i,i)) # 최소힙만 지원을 하기 떄문에, -를 붙여 최소를 최대로 치환"
   ]
  },
  {
   "cell_type": "markdown",
   "metadata": {},
   "source": [
    "# 답 풀이"
   ]
  },
  {
   "cell_type": "markdown",
   "metadata": {},
   "source": [
    "채점코드를 위해서, 아래와 같이 구성\n",
    "```\n",
    "import sys\n",
    "sys.stdin=open(\"input.txt\",'rt') # 경로 잡고, 파일 엵음. rt= read a file as text\n",
    "```\n",
    "\n",
    "실행할때는, sys.stdin=open('input.txt','rt)를 주석처리 하고 실행시키면 된다."
   ]
  },
  {
   "cell_type": "code",
   "execution_count": null,
   "metadata": {},
   "outputs": [],
   "source": [
    "import sys\n",
    "#sys.stdin=open(\"input.txt\",'rt') # 경로 잡고, 파일 엵음. read a file as text\n",
    "\n",
    "import heapq as hq\n",
    "\n",
    "a=[]\n",
    "n=[]\n",
    "while True:\n",
    "    num=int(input())\n",
    "    n.append(num)\n",
    "    if num==-1:\n",
    "        break\n",
    "    \n",
    "for i in n:\n",
    "    if i==-1:\n",
    "        break\n",
    "    elif i==0:\n",
    "        if len(a)==0:\n",
    "            print(-1)\n",
    "        else:\n",
    "            print(-hq.heappop(a)) # 음수를 받았으므로, 다시 음수를 바꿔 출력\n",
    "    else:\n",
    "        hq.heappush(a,-i) # 음수를 기준으로 정렬\n"
   ]
  }
 ],
 "metadata": {
  "kernelspec": {
   "display_name": "Python 3",
   "language": "python",
   "name": "python3"
  },
  "language_info": {
   "codemirror_mode": {
    "name": "ipython",
    "version": 3
   },
   "file_extension": ".py",
   "mimetype": "text/x-python",
   "name": "python",
   "nbconvert_exporter": "python",
   "pygments_lexer": "ipython3",
   "version": "3.8.5"
  }
 },
 "nbformat": 4,
 "nbformat_minor": 2
}
