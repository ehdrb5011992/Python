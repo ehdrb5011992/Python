{
 "cells": [
  {
   "cell_type": "markdown",
   "metadata": {},
   "source": [
    "# 내 풀이"
   ]
  },
  {
   "cell_type": "markdown",
   "metadata": {},
   "source": [
    "이런 문제는 스텍, 큐, 힙이라는 자료구조를 배우면 매우 쉽게 짤 수 있다. <br>\n",
    "먼저 스택에 대해서 알아보자."
   ]
  },
  {
   "cell_type": "markdown",
   "metadata": {},
   "source": [
    "Last In First Out (스택)\n",
    "스택은 들어가는 입구와 출구가 한개로, 들어가면 차곡차곡 쌓인다. <br>\n",
    "따라서 나중에 들어가는게 제일 먼저 나와야 한다. <br>\n",
    "\n",
    "파이썬에서는 리스트가 바로 스택임. <br>\n",
    "pop()과 append()를 이용하면, 뒤에서 뽑고 붙이기를 하기때문. <br>\n",
    "따라서 파이썬에서는 스택이라는 자료구조가 따로 존재하지 않음. <br>\n",
    "그냥 list를 구현하면 된다.\n"
   ]
  },
  {
   "cell_type": "markdown",
   "metadata": {},
   "source": [
    "외적으로, for문과 while문의 가장 큰 차이는, <br>\n",
    "while문은 어느 조건이 걸렸을 때 반복하기 쉽다는점임. <br>\n",
    "이점을 잘 염두해서 둘선택을 고민하기"
   ]
  },
  {
   "cell_type": "markdown",
   "metadata": {},
   "source": [
    "아래의 내풀이는 stack 강의를 듣고, 다시 구현한 코드임. <br>\n",
    "정답을 보면서 코딩연습을 하자"
   ]
  },
  {
   "cell_type": "code",
   "execution_count": 3,
   "metadata": {},
   "outputs": [],
   "source": [
    "m=3\n",
    "x=[5,2,7,6,8,2,3]"
   ]
  },
  {
   "cell_type": "code",
   "execution_count": 7,
   "metadata": {},
   "outputs": [],
   "source": [
    "def solution(x,m):\n",
    "    stack=[]\n",
    "    for i in x:\n",
    "        while stack and i>stack[-1] and m>0:\n",
    "            stack.pop()\n",
    "            m-=1\n",
    "        stack.append(i)\n",
    "    if m!=0:\n",
    "        stack=stack[:-m] #뒤에서 m개를 자름.\n",
    "    return ''.join(map(str,stack))"
   ]
  },
  {
   "cell_type": "code",
   "execution_count": 8,
   "metadata": {},
   "outputs": [
    {
     "name": "stdout",
     "output_type": "stream",
     "text": [
      "7823\n"
     ]
    }
   ],
   "source": [
    "print(solution(x,m))"
   ]
  },
  {
   "cell_type": "markdown",
   "metadata": {},
   "source": [
    "# 답 풀이"
   ]
  },
  {
   "cell_type": "markdown",
   "metadata": {},
   "source": [
    "채점코드를 위해서, 아래와 같이 구성\n",
    "```\n",
    "import sys\n",
    "sys.stdin=open(\"input.txt\",'rt') # 경로 잡고, 파일 엵음. rt= read a file as text\n",
    "```\n",
    "\n",
    "실행할때는, sys.stdin=open('input.txt','rt)를 주석처리 하고 실행시키면 된다."
   ]
  },
  {
   "cell_type": "code",
   "execution_count": null,
   "metadata": {},
   "outputs": [],
   "source": [
    "import sys\n",
    "#sys.stdin=open(\"input.txt\",'rt') # 경로 잡고, 파일 엵음. read a file as text\n",
    "\n",
    "num, m=map(int,input().split())\n",
    "num=list(map(int,str(num)))\n",
    "\n",
    "stack=[]\n",
    "for x in num:\n",
    "    # stack에서 값을 뽑을 조건.\n",
    "    while stack and  m>0 and stack[-1] < x: # stack이 비어있거나, \n",
    "                                              # 줄일게 더이상 없거나,\n",
    "                                              # stack쌓은 마지막숫자가 x보다 크거나 (같으면)\n",
    "                                              # while문을 나가야함.\n",
    "        stack.pop()\n",
    "        m-=1\n",
    "    stack.append(x) # 기본적으로는 붙이는거임.\n",
    "\n",
    "if m!=0:\n",
    "    stack=stack[:-m]\n",
    "res=''.join(map(str,stack)) # 이렇게 join사용법을 봐도 됨.\n",
    "print(res)\n"
   ]
  }
 ],
 "metadata": {
  "kernelspec": {
   "display_name": "Python 3",
   "language": "python",
   "name": "python3"
  },
  "language_info": {
   "codemirror_mode": {
    "name": "ipython",
    "version": 3
   },
   "file_extension": ".py",
   "mimetype": "text/x-python",
   "name": "python",
   "nbconvert_exporter": "python",
   "pygments_lexer": "ipython3",
   "version": "3.8.5"
  }
 },
 "nbformat": 4,
 "nbformat_minor": 2
}
