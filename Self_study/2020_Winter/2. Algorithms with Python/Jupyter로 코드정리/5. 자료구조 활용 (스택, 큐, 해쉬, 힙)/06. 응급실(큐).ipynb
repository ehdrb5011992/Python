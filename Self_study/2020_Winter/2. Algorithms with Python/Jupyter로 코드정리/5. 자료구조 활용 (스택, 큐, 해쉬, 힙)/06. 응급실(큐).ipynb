{
 "cells": [
  {
   "cell_type": "markdown",
   "metadata": {},
   "source": [
    "# 내 풀이"
   ]
  },
  {
   "cell_type": "markdown",
   "metadata": {},
   "source": [
    "enumerate를 잘쓰자. <br>\n",
    "동일한 값이 있는것에 대해서 인덱스를 부여해주고, 구분짓게 만들어줌."
   ]
  },
  {
   "cell_type": "markdown",
   "metadata": {},
   "source": [
    "와.... enumerate와 any의 사용법을 잘 익히고 가자"
   ]
  },
  {
   "cell_type": "code",
   "execution_count": 51,
   "metadata": {},
   "outputs": [],
   "source": [
    "n=5\n",
    "m=2\n",
    "x=[60,50,70,80,90]"
   ]
  },
  {
   "cell_type": "code",
   "execution_count": 52,
   "metadata": {},
   "outputs": [],
   "source": [
    "def solution(x,m):\n",
    "    from collections import deque\n",
    "    dq=[(idx,val) for idx,val in enumerate(x)]\n",
    "    dq=deque(dq)\n",
    "    cnt=0\n",
    "    while True:\n",
    "        cur=dq.popleft()\n",
    "        if any(cur[1]<x[1] for x in dq):\n",
    "            dq.append(cur)\n",
    "        else:\n",
    "            cnt+=1\n",
    "            if cur[0]==m:\n",
    "                break\n",
    "\n",
    "    return cnt"
   ]
  },
  {
   "cell_type": "code",
   "execution_count": 53,
   "metadata": {},
   "outputs": [
    {
     "name": "stdout",
     "output_type": "stream",
     "text": [
      "3\n"
     ]
    }
   ],
   "source": [
    "print(solution(x,m))"
   ]
  },
  {
   "cell_type": "markdown",
   "metadata": {},
   "source": [
    "# 답 풀이"
   ]
  },
  {
   "cell_type": "markdown",
   "metadata": {},
   "source": [
    "채점코드를 위해서, 아래와 같이 구성\n",
    "```\n",
    "import sys\n",
    "sys.stdin=open(\"input.txt\",'rt') # 경로 잡고, 파일 엵음. rt= read a file as text\n",
    "```\n",
    "\n",
    "실행할때는, sys.stdin=open('input.txt','rt)를 주석처리 하고 실행시키면 된다."
   ]
  },
  {
   "cell_type": "code",
   "execution_count": null,
   "metadata": {},
   "outputs": [],
   "source": [
    "import sys\n",
    "from collections import deque\n",
    "#sys.stdin=open(\"input.txt\",'rt') # 경로 잡고, 파일 엵음. read a file as text\n",
    "\n",
    "\n",
    "n,m = map(int,input().split())\n",
    "Q=[(pos,val) for pos,val in enumerate(list(map(int,input().split())))]\n",
    "\n",
    "Q=deque(Q)\n",
    "cnt=0\n",
    "\n",
    "while True:\n",
    "    cur=Q.popleft()\n",
    "    if any(cur[1] < x[1] for x in Q): #Q에 있는 어느 x[1]가 cur[1] 큰게 적어도 한개 있으면\n",
    "        # 즉, any는 적어도임.\n",
    "        Q.append(cur) # Q에 붙여줌.\n",
    "    else:\n",
    "        cnt+=1 #아니면 진료 받음.\n",
    "        if cur[0]==m:\n",
    "            break\n",
    "print(cnt)\n"
   ]
  }
 ],
 "metadata": {
  "kernelspec": {
   "display_name": "Python 3",
   "language": "python",
   "name": "python3"
  },
  "language_info": {
   "codemirror_mode": {
    "name": "ipython",
    "version": 3
   },
   "file_extension": ".py",
   "mimetype": "text/x-python",
   "name": "python",
   "nbconvert_exporter": "python",
   "pygments_lexer": "ipython3",
   "version": "3.8.5"
  }
 },
 "nbformat": 4,
 "nbformat_minor": 2
}
