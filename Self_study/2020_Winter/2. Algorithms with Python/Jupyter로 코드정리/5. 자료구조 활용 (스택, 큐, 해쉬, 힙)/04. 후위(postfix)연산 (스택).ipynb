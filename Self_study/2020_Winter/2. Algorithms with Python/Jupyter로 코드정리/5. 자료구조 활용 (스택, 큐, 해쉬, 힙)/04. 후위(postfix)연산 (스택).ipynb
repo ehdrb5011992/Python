{
 "cells": [
  {
   "cell_type": "markdown",
   "metadata": {},
   "source": [
    "# 내 풀이"
   ]
  },
  {
   "cell_type": "code",
   "execution_count": 22,
   "metadata": {},
   "outputs": [],
   "source": [
    "x='352+*9-'\n",
    "stack=[]\n",
    "res=0"
   ]
  },
  {
   "cell_type": "code",
   "execution_count": 25,
   "metadata": {},
   "outputs": [],
   "source": [
    "def solution(x):\n",
    "    res=0\n",
    "    stack=[]\n",
    "    for i in x:\n",
    "        if i.isdecimal():\n",
    "            stack.append(i)\n",
    "        else:\n",
    "            if stack and (i in '+-*/'):\n",
    "                n1=stack.pop()\n",
    "                n2=stack.pop()\n",
    "                res=eval(n2+i+n1)\n",
    "                stack.append(str(res))\n",
    "    else:\n",
    "        return(res)\n",
    "    \n",
    "    "
   ]
  },
  {
   "cell_type": "code",
   "execution_count": 26,
   "metadata": {},
   "outputs": [
    {
     "name": "stdout",
     "output_type": "stream",
     "text": [
      "12\n"
     ]
    }
   ],
   "source": [
    "print(solution(x))"
   ]
  },
  {
   "cell_type": "markdown",
   "metadata": {},
   "source": [
    "# 답 풀이"
   ]
  },
  {
   "cell_type": "markdown",
   "metadata": {},
   "source": [
    "채점코드를 위해서, 아래와 같이 구성\n",
    "```\n",
    "import sys\n",
    "sys.stdin=open(\"input.txt\",'rt') # 경로 잡고, 파일 엵음. rt= read a file as text\n",
    "```\n",
    "\n",
    "실행할때는, sys.stdin=open('input.txt','rt)를 주석처리 하고 실행시키면 된다."
   ]
  },
  {
   "cell_type": "code",
   "execution_count": null,
   "metadata": {},
   "outputs": [],
   "source": [
    "import sys\n",
    "#sys.stdin=open(\"input.txt\",'rt') # 경로 잡고, 파일 엵음. read a file as text\n",
    "\n",
    "\n",
    "a=input()\n",
    "\n",
    "stack=[]\n",
    "for x in a:\n",
    "    if x.isdecimal():\n",
    "        stack.append(int(x))\n",
    "    else:\n",
    "        if x=='+':\n",
    "            n1=stack.pop()\n",
    "            n2=stack.pop()\n",
    "            stack.append(n2+n1)\n",
    "        elif x=='-':\n",
    "            n1=stack.pop()\n",
    "            n2=stack.pop()\n",
    "            stack.append(n2-n1)\n",
    "        elif x=='*':\n",
    "            n1=stack.pop()\n",
    "            n2=stack.pop()\n",
    "            stack.append(n2*n1)\n",
    "        elif x=='/':\n",
    "            n1=stack.pop()\n",
    "            n2=stack.pop()\n",
    "            stack.append(n2/n1)\n",
    "print(stack[0])\n"
   ]
  }
 ],
 "metadata": {
  "kernelspec": {
   "display_name": "Python 3",
   "language": "python",
   "name": "python3"
  },
  "language_info": {
   "codemirror_mode": {
    "name": "ipython",
    "version": 3
   },
   "file_extension": ".py",
   "mimetype": "text/x-python",
   "name": "python",
   "nbconvert_exporter": "python",
   "pygments_lexer": "ipython3",
   "version": "3.8.5"
  }
 },
 "nbformat": 4,
 "nbformat_minor": 2
}
