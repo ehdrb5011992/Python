{
 "cells": [
  {
   "cell_type": "markdown",
   "metadata": {},
   "source": [
    "# 내 풀이"
   ]
  },
  {
   "cell_type": "markdown",
   "metadata": {},
   "source": [
    "치환하는건 했는데, 자른걸 어떻게 카운팅해야할지를 모르겠어서  <br>\n",
    "강의를 듣고 다시풀어봄."
   ]
  },
  {
   "cell_type": "code",
   "execution_count": 14,
   "metadata": {},
   "outputs": [],
   "source": [
    "x='()(((()())(())()))(())'"
   ]
  },
  {
   "cell_type": "code",
   "execution_count": 15,
   "metadata": {},
   "outputs": [],
   "source": [
    "a=x.replace('()','#') "
   ]
  },
  {
   "cell_type": "code",
   "execution_count": 17,
   "metadata": {},
   "outputs": [],
   "source": [
    "a=list(a)"
   ]
  },
  {
   "cell_type": "code",
   "execution_count": 27,
   "metadata": {},
   "outputs": [],
   "source": [
    "def solution(a):\n",
    "    cnt=0\n",
    "    res=0\n",
    "    for i in a:\n",
    "        if i == '#':\n",
    "            res+=cnt\n",
    "        elif i=='(':\n",
    "            cnt+=1\n",
    "        else : # i가 ) 인 경우 \n",
    "            cnt-=1\n",
    "            res+=1\n",
    "    return res"
   ]
  },
  {
   "cell_type": "code",
   "execution_count": 28,
   "metadata": {},
   "outputs": [
    {
     "data": {
      "text/plain": [
       "17"
      ]
     },
     "execution_count": 28,
     "metadata": {},
     "output_type": "execute_result"
    }
   ],
   "source": [
    "solution(a)"
   ]
  },
  {
   "cell_type": "markdown",
   "metadata": {},
   "source": [
    "# 답 풀이"
   ]
  },
  {
   "cell_type": "markdown",
   "metadata": {},
   "source": [
    "채점코드를 위해서, 아래와 같이 구성\n",
    "```\n",
    "import sys\n",
    "sys.stdin=open(\"input.txt\",'rt') # 경로 잡고, 파일 엵음. rt= read a file as text\n",
    "```\n",
    "\n",
    "실행할때는, sys.stdin=open('input.txt','rt)를 주석처리 하고 실행시키면 된다."
   ]
  },
  {
   "cell_type": "code",
   "execution_count": null,
   "metadata": {},
   "outputs": [],
   "source": [
    "import sys\n",
    "sys.stdin=open(\"input.txt\",'rt') # 경로 잡고, 파일 엵음. read a file as text\n",
    "\n",
    "s=input()\n",
    "stack=[]\n",
    "cnt=0\n",
    "\n",
    "for i in range(len(s)):\n",
    "    if s[i]=='(':\n",
    "        stack.append(s[i])\n",
    "    else:\n",
    "        stack.pop() #얘는 아래의 주석을 빼고, 위로그냥 올려버림. \n",
    "                    #아래의 조건과 관계 없이 항상 1개를 뽑기 때문.\n",
    "        if s[i-1]=='(': # 레이저의 경우\n",
    "            #stack.pop()\n",
    "            cnt+=len(stack)\n",
    "        else: # 쇠막대기의 끝인 경우\n",
    "            #stack.pop()\n",
    "            cnt+=1\n",
    "\n",
    "print(cnt)\n"
   ]
  }
 ],
 "metadata": {
  "kernelspec": {
   "display_name": "Python 3",
   "language": "python",
   "name": "python3"
  },
  "language_info": {
   "codemirror_mode": {
    "name": "ipython",
    "version": 3
   },
   "file_extension": ".py",
   "mimetype": "text/x-python",
   "name": "python",
   "nbconvert_exporter": "python",
   "pygments_lexer": "ipython3",
   "version": "3.8.5"
  }
 },
 "nbformat": 4,
 "nbformat_minor": 2
}
