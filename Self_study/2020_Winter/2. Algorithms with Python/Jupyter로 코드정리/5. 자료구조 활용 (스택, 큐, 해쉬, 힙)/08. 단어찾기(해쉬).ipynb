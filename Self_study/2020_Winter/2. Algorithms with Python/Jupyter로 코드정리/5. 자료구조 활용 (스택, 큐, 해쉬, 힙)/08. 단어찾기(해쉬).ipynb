{
 "cells": [
  {
   "cell_type": "markdown",
   "metadata": {},
   "source": [
    "# 내 풀이"
   ]
  },
  {
   "cell_type": "markdown",
   "metadata": {},
   "source": [
    "이 문제는 dictionary라는 자료구조를 쓰면 쉬움. <br>\n",
    "인덱스를 숫자를 쓰는것 뿐만 아니라, 문자도 받아서 쉽게 처리가 가능"
   ]
  },
  {
   "cell_type": "code",
   "execution_count": 19,
   "metadata": {},
   "outputs": [],
   "source": [
    "n=5\n",
    "words=['big','good','sky','blue','mouse']\n",
    "poet=['sky','good','mouse','big']"
   ]
  },
  {
   "cell_type": "code",
   "execution_count": 20,
   "metadata": {},
   "outputs": [],
   "source": [
    "def solution(words,poet):\n",
    "    word_dict={}\n",
    "    for i in words:\n",
    "        word_dict[i]=0\n",
    "    for i in poet:\n",
    "        word_dict[i]+=1\n",
    "    \n",
    "    for key,value in word_dict.items():\n",
    "        if value==0:\n",
    "            return key"
   ]
  },
  {
   "cell_type": "code",
   "execution_count": 23,
   "metadata": {},
   "outputs": [
    {
     "name": "stdout",
     "output_type": "stream",
     "text": [
      "blue\n"
     ]
    }
   ],
   "source": [
    "print(solution(words,poet))"
   ]
  },
  {
   "cell_type": "markdown",
   "metadata": {},
   "source": [
    "# 답 풀이"
   ]
  },
  {
   "cell_type": "markdown",
   "metadata": {},
   "source": [
    "채점코드를 위해서, 아래와 같이 구성\n",
    "```\n",
    "import sys\n",
    "sys.stdin=open(\"input.txt\",'rt') # 경로 잡고, 파일 엵음. rt= read a file as text\n",
    "```\n",
    "\n",
    "실행할때는, sys.stdin=open('input.txt','rt)를 주석처리 하고 실행시키면 된다."
   ]
  },
  {
   "cell_type": "code",
   "execution_count": null,
   "metadata": {},
   "outputs": [],
   "source": [
    "import sys\n",
    "#sys.stdin=open(\"input.txt\",'rt') # 경로 잡고, 파일 엵음. read a file as text\n",
    "\n",
    "n=int(input())\n",
    "p=dict()\n",
    "for i in range(n):\n",
    "    word=input()\n",
    "    p[word]=1\n",
    "for i in range(n-1):\n",
    "    word=input()\n",
    "    p[word]=0\n",
    "for key, value in p.items():\n",
    "    if value==1:\n",
    "        print(key)\n",
    "        break\n"
   ]
  }
 ],
 "metadata": {
  "kernelspec": {
   "display_name": "Python 3",
   "language": "python",
   "name": "python3"
  },
  "language_info": {
   "codemirror_mode": {
    "name": "ipython",
    "version": 3
   },
   "file_extension": ".py",
   "mimetype": "text/x-python",
   "name": "python",
   "nbconvert_exporter": "python",
   "pygments_lexer": "ipython3",
   "version": "3.8.5"
  }
 },
 "nbformat": 4,
 "nbformat_minor": 2
}
