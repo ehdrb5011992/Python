{
 "cells": [
  {
   "cell_type": "markdown",
   "metadata": {},
   "source": [
    "# 내 풀이"
   ]
  },
  {
   "cell_type": "markdown",
   "metadata": {},
   "source": [
    "최소힙 자료구조란, <br>\n",
    "이진 트리에서 부모노드(root node)가 자식노드 값보다 작게 구성이 되어있는 것을 말한다. <br>\n",
    "\n",
    "힙에는 push와 pop이 있다. <br>\n",
    "pop은 최상단의 부모노드를 뽑는걸 말하며, 이때 가장 낮은 level의 자식노드가 맨 위로 올라간다 <br>\n",
    "그 후, 다시 최소힙 자료구조 과정을 거치게 되며, push가 되는건 무조건 level순으로 뽑힌다. <br>\n",
    "\n",
    "파이썬에서는 힙큐 자료구조를 통해 해결한다.<br>\n",
    "\n",
    "    import heapq as hq\n",
    "\n",
    "\n",
    "\n",
    "처음보는 자료구조이므로, 일단 강의를 듣고 코드구현을 마치고, <br>\n",
    "이를 참고하여 코딩을 해보았다."
   ]
  },
  {
   "cell_type": "code",
   "execution_count": 1,
   "metadata": {},
   "outputs": [],
   "source": [
    "n=[5,3,6,0,5,0,2,4,0,-1]"
   ]
  },
  {
   "cell_type": "code",
   "execution_count": 2,
   "metadata": {},
   "outputs": [
    {
     "name": "stdout",
     "output_type": "stream",
     "text": [
      "3\n",
      "5\n",
      "2\n"
     ]
    }
   ],
   "source": [
    "import heapq as hq\n",
    "\n",
    "a=[]\n",
    "for i in n:\n",
    "    if i==-1:\n",
    "        break\n",
    "    elif i==0:\n",
    "        if len(a)==0:\n",
    "            print(-1)\n",
    "        else:\n",
    "            print(hq.heappop(a))\n",
    "    else:\n",
    "        hq.heappush(a,i)"
   ]
  },
  {
   "cell_type": "code",
   "execution_count": 3,
   "metadata": {},
   "outputs": [
    {
     "data": {
      "text/plain": [
       "[4, 6, 5]"
      ]
     },
     "execution_count": 3,
     "metadata": {},
     "output_type": "execute_result"
    }
   ],
   "source": [
    "a"
   ]
  },
  {
   "cell_type": "markdown",
   "metadata": {},
   "source": [
    "# 답 풀이"
   ]
  },
  {
   "cell_type": "markdown",
   "metadata": {},
   "source": [
    "채점코드를 위해서, 아래와 같이 구성\n",
    "```\n",
    "import sys\n",
    "sys.stdin=open(\"input.txt\",'rt') # 경로 잡고, 파일 엵음. rt= read a file as text\n",
    "```\n",
    "\n",
    "실행할때는, sys.stdin=open('input.txt','rt)를 주석처리 하고 실행시키면 된다."
   ]
  },
  {
   "cell_type": "code",
   "execution_count": null,
   "metadata": {},
   "outputs": [],
   "source": [
    "# 시간이 걸릴 수 있으니, 5초 허용 exe파일을 돌려서 채점받아도 무방하다.\n",
    "\n",
    "import sys\n",
    "#sys.stdin=open(\"input.txt\",'rt') # 경로 잡고, 파일 엵음. read a file as text\n",
    "\n",
    "import heapq as hq\n",
    "\n",
    "a=[] #힙큐에서는 빈 리스트가 필요함. push와 pop도 가능.\n",
    "while True:\n",
    "    n=int(input())\n",
    "    if n==-1:\n",
    "        break\n",
    "    if n==0: # 숫자 0이 입력되면 최소힙에서 최솟값을 꺼낸다.\n",
    "        if len(a)==0: # 출력할 자료가 없으면,\n",
    "            print(-1) # -1 return\n",
    "        else:\n",
    "            print(hq.heappop(a)) #이렇게 하면 루트노드값을 뽑아줌. pop의 사용이 좀다름\n",
    "    else:\n",
    "        hq.heappush(a,n) #a라는 list에 n값을 push해라"
   ]
  }
 ],
 "metadata": {
  "kernelspec": {
   "display_name": "Python 3",
   "language": "python",
   "name": "python3"
  },
  "language_info": {
   "codemirror_mode": {
    "name": "ipython",
    "version": 3
   },
   "file_extension": ".py",
   "mimetype": "text/x-python",
   "name": "python",
   "nbconvert_exporter": "python",
   "pygments_lexer": "ipython3",
   "version": "3.8.5"
  }
 },
 "nbformat": 4,
 "nbformat_minor": 2
}
