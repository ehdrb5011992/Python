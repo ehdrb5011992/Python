{
 "cells": [
  {
   "cell_type": "markdown",
   "metadata": {},
   "source": [
    "# 내 풀이"
   ]
  },
  {
   "cell_type": "code",
   "execution_count": 57,
   "metadata": {},
   "outputs": [],
   "source": [
    "nece='CBA'\n",
    "cases=['CBDAGE','FGCDAB','CTSBDEA']"
   ]
  },
  {
   "cell_type": "code",
   "execution_count": 58,
   "metadata": {},
   "outputs": [],
   "source": []
  },
  {
   "cell_type": "code",
   "execution_count": 62,
   "metadata": {},
   "outputs": [
    {
     "name": "stdout",
     "output_type": "stream",
     "text": [
      "#1 YES\n",
      "#2 NO\n",
      "#3 YES\n"
     ]
    }
   ],
   "source": [
    "def solution(cases,nece):\n",
    "    from collections import deque\n",
    "    for idx,val in enumerate(cases):\n",
    "        dq=deque(nece)\n",
    "        for x in val:\n",
    "            if x in dq:\n",
    "                if x != dq.popleft():\n",
    "                    print('#{0:1d} NO'.format(idx+1))\n",
    "                    break\n",
    "        else:\n",
    "            if len(dq) == 0:\n",
    "                print('#{0:1d} YES'.format(idx+1))\n",
    "            else:\n",
    "                print('#{0:1d} NO'.format(idx+1))\n",
    "    "
   ]
  },
  {
   "cell_type": "markdown",
   "metadata": {},
   "source": [
    "# 답 풀이"
   ]
  },
  {
   "cell_type": "markdown",
   "metadata": {},
   "source": [
    "채점코드를 위해서, 아래와 같이 구성\n",
    "```\n",
    "import sys\n",
    "sys.stdin=open(\"input.txt\",'rt') # 경로 잡고, 파일 엵음. rt= read a file as text\n",
    "```\n",
    "\n",
    "실행할때는, sys.stdin=open('input.txt','rt)를 주석처리 하고 실행시키면 된다."
   ]
  },
  {
   "cell_type": "code",
   "execution_count": null,
   "metadata": {},
   "outputs": [],
   "source": [
    "import sys\n",
    "#sys.stdin=open(\"input.txt\",'rt') # 경로 잡고, 파일 엵음. read a file as text\n",
    "from collections import deque\n",
    "\n",
    "need = input()\n",
    "n = int(input())\n",
    "for i in range(n):\n",
    "    plan=input()\n",
    "    dq=deque(need)\n",
    "    for x in plan:\n",
    "        if x in dq:\n",
    "            if x!=dq.popleft():\n",
    "                print(\"#%d NO\"%(i+1))\n",
    "                break\n",
    "    else:\n",
    "        if len(dq)==0:\n",
    "            print(\"#%d YES\"%(i+1))\n",
    "        else:\n",
    "            print(\"#%d NO\"%(i+1))\n",
    "        \n"
   ]
  }
 ],
 "metadata": {
  "kernelspec": {
   "display_name": "Python 3",
   "language": "python",
   "name": "python3"
  },
  "language_info": {
   "codemirror_mode": {
    "name": "ipython",
    "version": 3
   },
   "file_extension": ".py",
   "mimetype": "text/x-python",
   "name": "python",
   "nbconvert_exporter": "python",
   "pygments_lexer": "ipython3",
   "version": "3.8.5"
  }
 },
 "nbformat": 4,
 "nbformat_minor": 2
}
