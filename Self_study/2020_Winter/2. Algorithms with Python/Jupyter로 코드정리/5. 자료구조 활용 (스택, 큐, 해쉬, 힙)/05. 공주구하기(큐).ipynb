{
 "cells": [
  {
   "cell_type": "markdown",
   "metadata": {},
   "source": [
    "# 내 풀이"
   ]
  },
  {
   "cell_type": "markdown",
   "metadata": {},
   "source": [
    "queue라는 자료구조는, <br>\n",
    "자료를 뒤에서 넣고, 앞에서 나온다. <br>\n",
    "즉, first in first out이다. <br>\n",
    "\n",
    "stack과 상반되는 개념. <br>\n",
    "누가 먼저나오느냐를 보면 잘 이해할 수 있다. <br>\n",
    "\n",
    "파이썬은 deque라는 자료구조를 가져다가 쓰면 된다. <br>\n",
    "deque는 list가 오른쪽에서 뽑고 추가하는것과 다르게, <br>\n",
    "양쪽에서 넣고 뺄 수 있다."
   ]
  },
  {
   "cell_type": "code",
   "execution_count": null,
   "metadata": {},
   "outputs": [],
   "source": [
    "N=8\n",
    "K=3"
   ]
  },
  {
   "cell_type": "code",
   "execution_count": 1,
   "metadata": {},
   "outputs": [],
   "source": [
    "x=list(range(1,N+1))"
   ]
  },
  {
   "cell_type": "code",
   "execution_count": 13,
   "metadata": {},
   "outputs": [],
   "source": [
    "def solution(x,k):\n",
    "    while len(x)>1:\n",
    "        for i in range(k-1):\n",
    "            x.append(x.pop(0))\n",
    "        x.pop(0)\n",
    "    return x[0]        "
   ]
  },
  {
   "cell_type": "code",
   "execution_count": 14,
   "metadata": {},
   "outputs": [
    {
     "name": "stdout",
     "output_type": "stream",
     "text": [
      "7\n"
     ]
    }
   ],
   "source": [
    "print(solution(x))"
   ]
  },
  {
   "cell_type": "markdown",
   "metadata": {},
   "source": [
    "# 답 풀이"
   ]
  },
  {
   "cell_type": "markdown",
   "metadata": {},
   "source": [
    "채점코드를 위해서, 아래와 같이 구성\n",
    "```\n",
    "import sys\n",
    "sys.stdin=open(\"input.txt\",'rt') # 경로 잡고, 파일 엵음. rt= read a file as text\n",
    "```\n",
    "\n",
    "실행할때는, sys.stdin=open('input.txt','rt)를 주석처리 하고 실행시키면 된다."
   ]
  },
  {
   "cell_type": "code",
   "execution_count": null,
   "metadata": {},
   "outputs": [],
   "source": [
    "import sys\n",
    "from collections import deque # deque는 collections에 있음.\n",
    "#sys.stdin=open(\"input.txt\",'rt') # 경로 잡고, 파일 엵음. read a file as text\n",
    "\n",
    "n,k=map(int,input().split())\n",
    "dq=list(range(1,n+1)) # 아직은 리스트\n",
    "dq=deque(dq) #여기서 자료구조가 데큐로 바뀜.\n",
    "\n",
    "while dq:\n",
    "    for _ in range(k-1):\n",
    "        cur=dq.popleft()\n",
    "        dq.append(cur)\n",
    "    dq.popleft()\n",
    "    if len(dq)==1:\n",
    "        print(dq[0])\n",
    "        dq.popleft() # 여기서 break를 해도 상관없음.\n"
   ]
  }
 ],
 "metadata": {
  "kernelspec": {
   "display_name": "Python 3",
   "language": "python",
   "name": "python3"
  },
  "language_info": {
   "codemirror_mode": {
    "name": "ipython",
    "version": 3
   },
   "file_extension": ".py",
   "mimetype": "text/x-python",
   "name": "python",
   "nbconvert_exporter": "python",
   "pygments_lexer": "ipython3",
   "version": "3.8.5"
  }
 },
 "nbformat": 4,
 "nbformat_minor": 2
}
