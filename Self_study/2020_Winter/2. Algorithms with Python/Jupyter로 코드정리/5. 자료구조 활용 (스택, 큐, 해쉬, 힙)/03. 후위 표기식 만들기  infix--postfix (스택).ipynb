{
 "cells": [
  {
   "cell_type": "markdown",
   "metadata": {},
   "source": [
    "# 내 풀이"
   ]
  },
  {
   "cell_type": "markdown",
   "metadata": {},
   "source": [
    "컴퓨터는 중위표기식으로 연산을 하지 않음. <br>\n",
    "중위표기식은 앞에서 처리하기엔 굉장히 직관적이지 않기 때문. <br>"
   ]
  },
  {
   "cell_type": "markdown",
   "metadata": {},
   "source": [
    "강의 설명을 듣고, 코드를 구현해봄. (사칙연산을 stack으로 쌓아야 한다.) <br>\n",
    "꼭 다시 풀어보기"
   ]
  },
  {
   "cell_type": "code",
   "execution_count": 66,
   "metadata": {},
   "outputs": [],
   "source": [
    "s='3+5*2/(7-2)'"
   ]
  },
  {
   "cell_type": "code",
   "execution_count": 67,
   "metadata": {},
   "outputs": [],
   "source": [
    "stack=[]\n",
    "res=''"
   ]
  },
  {
   "cell_type": "code",
   "execution_count": 68,
   "metadata": {},
   "outputs": [
    {
     "name": "stdout",
     "output_type": "stream",
     "text": [
      "352*72-/+\n"
     ]
    }
   ],
   "source": [
    "for i in s:\n",
    "    if i.isdigit():\n",
    "        res+=i\n",
    "    else: \n",
    "        if i=='(':\n",
    "            stack.append(i) \n",
    "        elif i in '*/':\n",
    "            while stack and (stack[-1] in '*/'):\n",
    "                res+=stack.pop()\n",
    "            stack.append(i)\n",
    "        elif i in '+-':\n",
    "            while stack and stack[-1] != '(':\n",
    "                res+=stack.pop()\n",
    "            stack.append(i)\n",
    "        elif i in ')':\n",
    "            while stack and stack[-1] != '(':\n",
    "                res+=stack.pop()\n",
    "            stack.pop()\n",
    "while stack:\n",
    "    res+=stack.pop()\n",
    "print(res)"
   ]
  },
  {
   "cell_type": "markdown",
   "metadata": {},
   "source": [
    "# 답 풀이"
   ]
  },
  {
   "cell_type": "markdown",
   "metadata": {},
   "source": [
    "채점코드를 위해서, 아래와 같이 구성\n",
    "```\n",
    "import sys\n",
    "sys.stdin=open(\"input.txt\",'rt') # 경로 잡고, 파일 엵음. rt= read a file as text\n",
    "```\n",
    "\n",
    "실행할때는, sys.stdin=open('input.txt','rt)를 주석처리 하고 실행시키면 된다."
   ]
  },
  {
   "cell_type": "code",
   "execution_count": 63,
   "metadata": {},
   "outputs": [
    {
     "name": "stdout",
     "output_type": "stream",
     "text": [
      "d\n",
      "\n"
     ]
    }
   ],
   "source": [
    "import sys\n",
    "#sys.stdin=open(\"input.txt\",'rt') # 경로 잡고, 파일 엵음. read a file as text\n",
    "\n",
    "\n",
    "a=input()\n",
    "stack=[]\n",
    "res=''\n",
    "\n",
    "for x in a:\n",
    "    if x.isdecimal():\n",
    "        res+=x\n",
    "    else: # 직관적으로 이렇게 가자. 숫자인지, 아닌지를 일단 나눠야함.\n",
    "        if x=='(': # 무조건 (는 stack에 더해야함.\n",
    "            stack.append(x)\n",
    "        elif x=='*' or x=='/': # *와 /라면,\n",
    "            while stack and (stack[-1]=='*' or stack[-1]=='/'):\n",
    "                res+=stack.pop() # 계속 stack을 뒤에서 하나씩뽑아서 더해줌.\n",
    "            stack.append(x)\n",
    "        elif x=='+' or x=='-': \n",
    "            while stack and stack[-1]!='(':\n",
    "                res+=stack.pop()\n",
    "            stack.append(x)\n",
    "        elif x==')':\n",
    "            while stack and stack[-1]!='(':\n",
    "                res+=stack.pop()\n",
    "            stack.pop() # (를 뽑아내야함.\n",
    "\n",
    "while stack: # 나머지 stack에 있는 연산자 뽑아냄\n",
    "    res+=stack.pop()\n",
    "\n",
    "print(res)"
   ]
  }
 ],
 "metadata": {
  "kernelspec": {
   "display_name": "Python 3",
   "language": "python",
   "name": "python3"
  },
  "language_info": {
   "codemirror_mode": {
    "name": "ipython",
    "version": 3
   },
   "file_extension": ".py",
   "mimetype": "text/x-python",
   "name": "python",
   "nbconvert_exporter": "python",
   "pygments_lexer": "ipython3",
   "version": "3.8.5"
  }
 },
 "nbformat": 4,
 "nbformat_minor": 2
}
