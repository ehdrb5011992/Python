{
 "cells": [
  {
   "cell_type": "markdown",
   "metadata": {},
   "source": [
    "# 내 풀이"
   ]
  },
  {
   "cell_type": "markdown",
   "metadata": {},
   "source": [
    "보통 간이 함수를 만들땐, 1변수함수를 만드는게 좋음. <br>\n",
    "최대한 단순하고 직관적이게 만들자. <br>\n",
    "내 경우, 함수의 arguments를 리스트로 받는데, <br>\n",
    "이런것보다 숫자 개개인의 값을 받는게 직관적인 코딩이 가능함."
   ]
  },
  {
   "cell_type": "code",
   "execution_count": 10,
   "metadata": {},
   "outputs": [],
   "source": [
    "x = [125,15232,97]"
   ]
  },
  {
   "cell_type": "code",
   "execution_count": 11,
   "metadata": {},
   "outputs": [],
   "source": [
    "def digit_sum(x):\n",
    "    str_x = list(map(str,x))\n",
    "    num_sum=[]\n",
    "    \n",
    "    for digit in str_x:\n",
    "        num=list(map(int,list(digit)))\n",
    "        num_sum.append(sum(num))\n",
    "    \n",
    "    cri = 0\n",
    "    for idx,num in enumerate(num_sum):\n",
    "        if num > cri:\n",
    "            cri=num\n",
    "            cri_idx=idx\n",
    "    return x[cri_idx]       "
   ]
  },
  {
   "cell_type": "code",
   "execution_count": 12,
   "metadata": {},
   "outputs": [
    {
     "data": {
      "text/plain": [
       "97"
      ]
     },
     "execution_count": 12,
     "metadata": {},
     "output_type": "execute_result"
    }
   ],
   "source": [
    "digit_sum(x)"
   ]
  },
  {
   "cell_type": "code",
   "execution_count": 3,
   "metadata": {},
   "outputs": [
    {
     "ename": "TypeError",
     "evalue": "unsupported operand type(s) for +: 'int' and 'str'",
     "output_type": "error",
     "traceback": [
      "\u001b[1;31m---------------------------------------------------------------------------\u001b[0m",
      "\u001b[1;31mTypeError\u001b[0m                                 Traceback (most recent call last)",
      "\u001b[1;32m<ipython-input-3-ebbb9d56fc39>\u001b[0m in \u001b[0;36m<module>\u001b[1;34m\u001b[0m\n\u001b[1;32m----> 1\u001b[1;33m \u001b[0msum\u001b[0m\u001b[1;33m(\u001b[0m\u001b[0mlist\u001b[0m\u001b[1;33m(\u001b[0m\u001b[1;34m'125'\u001b[0m\u001b[1;33m)\u001b[0m\u001b[1;33m)\u001b[0m\u001b[1;33m\u001b[0m\u001b[1;33m\u001b[0m\u001b[0m\n\u001b[0m",
      "\u001b[1;31mTypeError\u001b[0m: unsupported operand type(s) for +: 'int' and 'str'"
     ]
    }
   ],
   "source": []
  },
  {
   "cell_type": "markdown",
   "metadata": {},
   "source": [
    "# 답 풀이"
   ]
  },
  {
   "cell_type": "markdown",
   "metadata": {},
   "source": [
    "채점코드를 위해서, 아래와 같이 구성\n",
    "```\n",
    "import sys\n",
    "sys.stdin=open(\"input.txt\",'rt') # 경로 잡고, 파일 엵음. rt= read a file as text\n",
    "```\n",
    "\n",
    "실행할때는, sys.stdin=open('input.txt','rt)를 주석처리 하고 실행시키면 된다."
   ]
  },
  {
   "cell_type": "code",
   "execution_count": null,
   "metadata": {},
   "outputs": [],
   "source": [
    "import sys\n",
    "#sys.stdin=open(\"input.txt\",'rt') # 경로 잡고, 파일 엵음. read a file as text\n",
    "\n",
    "n = int(input())\n",
    "a = list(map(int,input().split()))\n",
    "\n",
    "def digit_sum(x):\n",
    "    sum = 0\n",
    "    while x>0:\n",
    "        sum += x%10 # 자릿수를 이렇게 구해버린다....와..\n",
    "        x = x//10 # 10으로 나눠가면서 나머지를 몫으로 더해버림.\n",
    "                  # x는 몫으로 계속 나오며, 만약 8이 나와 10으로 나누면 다음은 0임. \n",
    "                  # 이에따라 while문 종료.\n",
    "    return sum\n",
    "\n",
    "max = -2147000000\n",
    "\n",
    "for x in a:\n",
    "    tot=digit_sum(x)\n",
    "    if tot > max:\n",
    "        max = tot\n",
    "        res = x  # 그때의 값을 res로 저장. 굳이 index를 만들필요가 없음.\n",
    "print(res)\n",
    "\n",
    "print(digit_sum(x))\n"
   ]
  },
  {
   "cell_type": "markdown",
   "metadata": {},
   "source": [
    "또는, 이런풀이도 가능하다."
   ]
  },
  {
   "cell_type": "code",
   "execution_count": null,
   "metadata": {},
   "outputs": [],
   "source": [
    "import sys\n",
    "#sys.stdin=open(\"input.txt\",'rt') # 경로 잡고, 파일 엵음. read a file as text\n",
    "\n",
    "n = int(input())\n",
    "a = list(map(int,input().split()))\n",
    "\n",
    "def digit_sum(x):\n",
    "    sum = 0\n",
    "    for i in str(x):\n",
    "        sum += int(i)\n",
    "\n",
    "    return sum\n",
    "\n",
    "\n",
    "max = -2147000000\n",
    "# 2의 31제곱인데, C나 C++로 넘어가게 된다면 4바이트를 지원하기때문.\n",
    "# 정확한 값은 아닌데, 뒤의 6자리는 외우기 까다로우니 그냥 0으로 대체\n",
    "\n",
    "for x in a:\n",
    "    tot=digit_sum(x)\n",
    "    if tot > max:\n",
    "        max = tot\n",
    "        res = x  # 그때의 값을 res로 저장. 굳이 index를 만들필요가 없음.\n",
    "print(res)\n",
    "\n",
    "print(digit_sum(x))\n"
   ]
  }
 ],
 "metadata": {
  "kernelspec": {
   "display_name": "Python 3",
   "language": "python",
   "name": "python3"
  },
  "language_info": {
   "codemirror_mode": {
    "name": "ipython",
    "version": 3
   },
   "file_extension": ".py",
   "mimetype": "text/x-python",
   "name": "python",
   "nbconvert_exporter": "python",
   "pygments_lexer": "ipython3",
   "version": "3.8.5"
  }
 },
 "nbformat": 4,
 "nbformat_minor": 2
}
