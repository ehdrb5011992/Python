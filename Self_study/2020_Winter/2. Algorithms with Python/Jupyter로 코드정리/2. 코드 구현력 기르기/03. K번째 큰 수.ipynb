{
 "cells": [
  {
   "cell_type": "markdown",
   "metadata": {},
   "source": [
    "# 내 풀이"
   ]
  },
  {
   "cell_type": "code",
   "execution_count": 18,
   "metadata": {},
   "outputs": [],
   "source": [
    "def Kth_large(x,k):\n",
    "    total=[]\n",
    "    N = len(x)\n",
    "    for i in range(N):\n",
    "        for j in range(i+1,N):\n",
    "            for l in range(j+1,N):\n",
    "                total.append(x[i]+x[j]+x[l])\n",
    "    total=set(total)\n",
    "    total=list(total)\n",
    "    total.sort(reverse=True)\n",
    "    return(total[k-1])"
   ]
  },
  {
   "cell_type": "markdown",
   "metadata": {},
   "source": [
    "# 답 풀이"
   ]
  },
  {
   "cell_type": "markdown",
   "metadata": {},
   "source": [
    "채점코드를 위해서, 아래와 같이 구성\n",
    "```\n",
    "import sys\n",
    "sys.stdin=open(\"input.txt\",'rt') # 경로 잡고, 파일 엵음. rt= read a file as text\n",
    "```\n",
    "\n",
    "실행할때는, sys.stdin=open('input.txt','rt)를 주석처리 하고 실행시키면 된다."
   ]
  },
  {
   "cell_type": "code",
   "execution_count": 11,
   "metadata": {},
   "outputs": [],
   "source": [
    "# 굉장히 브루스포스한 코딩이다. 이렇게라도 푸는 방법을 익히기."
   ]
  },
  {
   "cell_type": "code",
   "execution_count": null,
   "metadata": {},
   "outputs": [],
   "source": [
    "N,K = map(int,input().split())\n",
    "a = list(map(int,input().split()))\n",
    "\n",
    "res=set() # 중복을 제거하는 자료구조\n",
    "for i in range(N):\n",
    "    for j in range(i+1,N):\n",
    "        for m in range(j+1,N):\n",
    "            res.add(a[i]+a[j]+a[m]) # 중복을 제거하면서 set에 append마냥 추가해줌.\n",
    "\n",
    "res=list(res)\n",
    "res.sort(reverse=True)\n",
    "print(res[K-1])"
   ]
  }
 ],
 "metadata": {
  "kernelspec": {
   "display_name": "Python 3",
   "language": "python",
   "name": "python3"
  },
  "language_info": {
   "codemirror_mode": {
    "name": "ipython",
    "version": 3
   },
   "file_extension": ".py",
   "mimetype": "text/x-python",
   "name": "python",
   "nbconvert_exporter": "python",
   "pygments_lexer": "ipython3",
   "version": "3.8.5"
  }
 },
 "nbformat": 4,
 "nbformat_minor": 2
}
