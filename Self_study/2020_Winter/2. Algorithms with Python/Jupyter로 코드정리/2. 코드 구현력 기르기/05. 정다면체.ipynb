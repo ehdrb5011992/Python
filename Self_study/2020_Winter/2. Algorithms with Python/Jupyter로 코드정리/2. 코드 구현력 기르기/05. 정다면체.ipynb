{
 "cells": [
  {
   "cell_type": "markdown",
   "metadata": {},
   "source": [
    "# 내 풀이"
   ]
  },
  {
   "cell_type": "markdown",
   "metadata": {},
   "source": [
    "80점이다... 틀린코딩 <br>\n",
    "이렇게 복잡하게 코딩하지 말자. <br>\n",
    "아직 dictionary를 이 강의에서 사용방법을 안배웠으므로 list로 하는걸 고려해보기 <br>\n",
    "\n",
    "<br>\n",
    "\n",
    "최대값과 같은 여러개를 찾는거면, 최대값 하나를 찾아버리고, <br>\n",
    "또다신 for문 돌려버리는게 직관적임.\n"
   ]
  },
  {
   "cell_type": "code",
   "execution_count": 7,
   "metadata": {},
   "outputs": [],
   "source": [
    "x=[4,6]"
   ]
  },
  {
   "cell_type": "code",
   "execution_count": 86,
   "metadata": {},
   "outputs": [],
   "source": [
    "def three_d_fig(x):\n",
    "    all_cases = {}\n",
    "    for i in range(1,x[0]+1):\n",
    "        for j in range(1,x[1]+1):\n",
    "            num = i+j\n",
    "            if num not in all_cases:\n",
    "                all_cases[num]=1\n",
    "            else :\n",
    "                all_cases[num]+=1\n",
    "                \n",
    "    cur_max = 0\n",
    "    cur_value = 0\n",
    "    answer = []\n",
    "    for key, value in all_cases.items():\n",
    "        if value > cur_value :\n",
    "            cur_max = key\n",
    "            cur_value = value\n",
    "        elif value == cur_value:\n",
    "            if answer==[]:\n",
    "                answer.append(key-1) # 전번째꺼 인위적으로 -1\n",
    "                answer.append(key) # 그리고 그다음꺼\n",
    "            else:\n",
    "                answer.append(key)\n",
    "    ans = \"\"\n",
    "    for t in answer:\n",
    "        ans += str(t) + ' '\n",
    "    return print(ans)"
   ]
  },
  {
   "cell_type": "code",
   "execution_count": 87,
   "metadata": {},
   "outputs": [
    {
     "name": "stdout",
     "output_type": "stream",
     "text": [
      "5 6 7 \n"
     ]
    }
   ],
   "source": [
    "three_d_fig(x)"
   ]
  },
  {
   "cell_type": "markdown",
   "metadata": {},
   "source": [
    "# 답 풀이"
   ]
  },
  {
   "cell_type": "markdown",
   "metadata": {},
   "source": [
    "채점코드를 위해서, 아래와 같이 구성\n",
    "```\n",
    "import sys\n",
    "sys.stdin=open(\"input.txt\",'rt') # 경로 잡고, 파일 엵음. rt= read a file as text\n",
    "```\n",
    "\n",
    "실행할때는, sys.stdin=open('input.txt','rt)를 주석처리 하고 실행시키면 된다."
   ]
  },
  {
   "cell_type": "code",
   "execution_count": null,
   "metadata": {},
   "outputs": [],
   "source": [
    "import sys\n",
    "#sys.stdin=open(\"input.txt\",'rt') # 경로 잡고, 파일 엵음. read a file as text\n",
    "\n",
    "n,m = list(map(int,input().split()))\n",
    "\n",
    "cnt=[0]*(n+m+3) # 범위 초기화. +3까지 넉넉하게 잡음. n+m일꺼임.\n",
    "max = -214700000 # 가장 작은값으로 초기화\n",
    "\n",
    "for i in range(1,n+1):\n",
    "    for j in range(1,m+1):\n",
    "        cnt[i+j] += 1\n",
    "\n",
    "for i in range(n+m+1): # 값이 n+m까지 돌아야함.\n",
    "    if cnt[i] > max:\n",
    "        max = cnt[i] # 이렇게해서 최대값을 고정시켜버림.\n",
    "        \n",
    "for i in range(n+m+1): # 그리고나서 최대값과 같은거있으면 계속출력.\n",
    "    if cnt[i] == max:\n",
    "        print(i, end=' ')"
   ]
  }
 ],
 "metadata": {
  "kernelspec": {
   "display_name": "Python 3",
   "language": "python",
   "name": "python3"
  },
  "language_info": {
   "codemirror_mode": {
    "name": "ipython",
    "version": 3
   },
   "file_extension": ".py",
   "mimetype": "text/x-python",
   "name": "python",
   "nbconvert_exporter": "python",
   "pygments_lexer": "ipython3",
   "version": "3.8.5"
  }
 },
 "nbformat": 4,
 "nbformat_minor": 2
}
