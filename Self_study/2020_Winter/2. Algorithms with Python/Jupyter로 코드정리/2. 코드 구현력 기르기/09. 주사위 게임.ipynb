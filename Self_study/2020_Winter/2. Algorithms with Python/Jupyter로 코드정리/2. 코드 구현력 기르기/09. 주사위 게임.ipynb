{
 "cells": [
  {
   "cell_type": "markdown",
   "metadata": {},
   "source": [
    "# 내 풀이"
   ]
  },
  {
   "cell_type": "code",
   "execution_count": 6,
   "metadata": {},
   "outputs": [],
   "source": [
    "x = [[3,3,6],[2,2,2],[6,2,5]]"
   ]
  },
  {
   "cell_type": "code",
   "execution_count": 13,
   "metadata": {},
   "outputs": [],
   "source": [
    "# 한명에 대해 상금 출력.\n",
    "def price(x):\n",
    "    spa = [0]*7 # 주사위 (0과 1~6)\n",
    "    for i in x:\n",
    "        spa[i]+=1\n",
    "        \n",
    "    tmp = -2147000000\n",
    "    for idx,value in enumerate(spa):\n",
    "        if value == 3:\n",
    "            return 10000+idx*1000\n",
    "        elif value == 2:\n",
    "            return 1000+idx*100\n",
    "        elif value == 1:\n",
    "            pri = idx*100\n",
    "            if pri>tmp:\n",
    "                tmp=pri\n",
    "    return tmp"
   ]
  },
  {
   "cell_type": "code",
   "execution_count": 15,
   "metadata": {},
   "outputs": [
    {
     "name": "stdout",
     "output_type": "stream",
     "text": [
      "12000\n"
     ]
    }
   ],
   "source": [
    "tmp = -2147000000\n",
    "for ins in x:\n",
    "    ins_price=price(ins)\n",
    "    if ins_price > tmp:\n",
    "        tmp = ins_price\n",
    "print(tmp)"
   ]
  },
  {
   "cell_type": "markdown",
   "metadata": {},
   "source": [
    "# 답 풀이"
   ]
  },
  {
   "cell_type": "markdown",
   "metadata": {},
   "source": [
    "채점코드를 위해서, 아래와 같이 구성\n",
    "```\n",
    "import sys\n",
    "sys.stdin=open(\"input.txt\",'rt') # 경로 잡고, 파일 엵음. rt= read a file as text\n",
    "```\n",
    "\n",
    "실행할때는, sys.stdin=open('input.txt','rt)를 주석처리 하고 실행시키면 된다."
   ]
  },
  {
   "cell_type": "code",
   "execution_count": null,
   "metadata": {},
   "outputs": [],
   "source": [
    "import sys\n",
    "#sys.stdin=open(\"input.txt\",'rt') # 경로 잡고, 파일 엵음. read a file as text\n",
    "\n",
    "n = int(input())\n",
    "for i in range(n):\n",
    "    tmp=input().split()\n",
    "    tmp.sort()\n",
    "    a,b,c = map(int,tmp)\n",
    "\n",
    "    if a==b and b==c:   # 가장 상금이 커서 영향력있는걸 위에다가 검. 세게 다 같은경우\n",
    "        money = 10000+a*1000\n",
    "    elif a==b or a==c:\n",
    "        money = 1000+(a*100)\n",
    "    elif b==c:\n",
    "        money = 1000+(b*100)\n",
    "    else:\n",
    "        money = c*100\n",
    "    if money > res:\n",
    "        res= money\n",
    "print(res)"
   ]
  }
 ],
 "metadata": {
  "kernelspec": {
   "display_name": "Python 3",
   "language": "python",
   "name": "python3"
  },
  "language_info": {
   "codemirror_mode": {
    "name": "ipython",
    "version": 3
   },
   "file_extension": ".py",
   "mimetype": "text/x-python",
   "name": "python",
   "nbconvert_exporter": "python",
   "pygments_lexer": "ipython3",
   "version": "3.8.5"
  }
 },
 "nbformat": 4,
 "nbformat_minor": 2
}
