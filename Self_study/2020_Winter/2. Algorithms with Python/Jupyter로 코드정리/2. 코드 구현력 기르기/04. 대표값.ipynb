{
 "cells": [
  {
   "cell_type": "markdown",
   "metadata": {},
   "source": [
    "# 내 풀이"
   ]
  },
  {
   "cell_type": "markdown",
   "metadata": {},
   "source": [
    "    주의. \n",
    "    파이썬에서 round함수는 round_half_even임.\n",
    "    4.5를 반올림을 하면, 4로 반올림을 함. 짝수쪽으로 치우지게 반올림을 진행함.\n",
    "    \n",
    "    그래서 우리는 4.5 반올림을 진행하는 함수를 사용하고 싶으면\n",
    "    a = a + 0.5를 하고, \n",
    "    a = int(a) 로 두번의 번거로운 과정을 거쳐야함. \n",
    "    \n",
    "    잊지말기."
   ]
  },
  {
   "cell_type": "code",
   "execution_count": 22,
   "metadata": {},
   "outputs": [],
   "source": [
    "x = [45,73,66,87,92,67,75,79,75,80]"
   ]
  },
  {
   "cell_type": "code",
   "execution_count": 32,
   "metadata": {},
   "outputs": [],
   "source": [
    "def repre_value(x):\n",
    "    mean_x = round(sum(x)/len(x)) # round_half_even방식임. \n",
    "    \n",
    "    compare_number = x[0]\n",
    "    index_reposit = 0\n",
    "    \n",
    "    for index in range(len(x)):\n",
    "        if abs(x[index]-mean_x) < abs(compare_number-mean_x):\n",
    "            compare_number=x[index]\n",
    "            index_reposit=index\n",
    "        elif abs(x[index]-mean_x) == abs(compare_number-mean_x): \n",
    "            # 이렇게 특이케이스인 경우는 if == 로 보통 해결됨. 특정한 한 경우일때 \n",
    "            \n",
    "            if x[index] > compare_number:\n",
    "                compare_number=x[index]\n",
    "                index_reposit=index\n",
    "    return print(mean_x,index_reposit+1)"
   ]
  },
  {
   "cell_type": "markdown",
   "metadata": {},
   "source": [
    "# 답 풀이"
   ]
  },
  {
   "cell_type": "markdown",
   "metadata": {},
   "source": [
    "채점코드를 위해서, 아래와 같이 구성\n",
    "```\n",
    "import sys\n",
    "sys.stdin=open(\"input.txt\",'rt') # 경로 잡고, 파일 엵음. rt= read a file as text\n",
    "```\n",
    "\n",
    "실행할때는, sys.stdin=open('input.txt','rt)를 주석처리 하고 실행시키면 된다."
   ]
  },
  {
   "cell_type": "code",
   "execution_count": null,
   "metadata": {},
   "outputs": [],
   "source": [
    "import sys\n",
    "#sys.stdin=open(\"input.txt\",'rt') # 경로 잡고, 파일 엵음. read a file as text\n",
    "\n",
    "n = input()\n",
    "x = list(map(int,input().split()))\n",
    "\n",
    "ave=int(sum(x)/n+0.5)\n",
    "min = x[0] # 2147000000 그냥 큰수.\n",
    "for idx, x in enumerate(x):\n",
    "    tmp=abs(x-ave)\n",
    "    if tmp < min:\n",
    "        min=tmp\n",
    "        score=x\n",
    "        res=idx+1 # 0부터 시작했기 때문\n",
    "    elif tmp == min:\n",
    "        if x > score:\n",
    "            score = x\n",
    "            res=idx +1\n",
    "print(ave,res)"
   ]
  }
 ],
 "metadata": {
  "kernelspec": {
   "display_name": "Python 3",
   "language": "python",
   "name": "python3"
  },
  "language_info": {
   "codemirror_mode": {
    "name": "ipython",
    "version": 3
   },
   "file_extension": ".py",
   "mimetype": "text/x-python",
   "name": "python",
   "nbconvert_exporter": "python",
   "pygments_lexer": "ipython3",
   "version": "3.8.5"
  }
 },
 "nbformat": 4,
 "nbformat_minor": 2
}
