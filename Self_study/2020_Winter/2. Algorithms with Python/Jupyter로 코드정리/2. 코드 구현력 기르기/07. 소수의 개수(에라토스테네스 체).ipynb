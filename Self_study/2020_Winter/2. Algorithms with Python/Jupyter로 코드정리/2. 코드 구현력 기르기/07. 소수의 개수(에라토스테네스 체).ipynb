{
 "cells": [
  {
   "cell_type": "markdown",
   "metadata": {},
   "source": [
    "# 내 풀이"
   ]
  },
  {
   "cell_type": "markdown",
   "metadata": {},
   "source": [
    "Counting을 할거면, counting에 초점을 두면됨. <br>\n",
    "굳이 그 구성성분을 다 구해서, len할 생각하는건 비효율적임.\n",
    "\n",
    "list로도 다 풀수 있음."
   ]
  },
  {
   "cell_type": "code",
   "execution_count": 9,
   "metadata": {},
   "outputs": [],
   "source": [
    "x = 2"
   ]
  },
  {
   "cell_type": "code",
   "execution_count": 13,
   "metadata": {},
   "outputs": [],
   "source": [
    "def eratos(x):\n",
    "    cur_num = set(range(2,x+1))\n",
    "    my_prime = set()\n",
    "\n",
    "    for i in range(2,x+1):\n",
    "        prime=cur_num.pop()\n",
    "        my_prime.add(prime)\n",
    "        cur_num -= set(range(i,x+1,i))\n",
    "        \n",
    "        if cur_num == set():\n",
    "            break\n",
    "            \n",
    "    return len(my_prime)"
   ]
  },
  {
   "cell_type": "code",
   "execution_count": 14,
   "metadata": {},
   "outputs": [
    {
     "data": {
      "text/plain": [
       "17984"
      ]
     },
     "execution_count": 14,
     "metadata": {},
     "output_type": "execute_result"
    }
   ],
   "source": [
    "eratos(200000)"
   ]
  },
  {
   "cell_type": "markdown",
   "metadata": {},
   "source": [
    "# 답 풀이"
   ]
  },
  {
   "cell_type": "markdown",
   "metadata": {},
   "source": [
    "채점코드를 위해서, 아래와 같이 구성\n",
    "```\n",
    "import sys\n",
    "sys.stdin=open(\"input.txt\",'rt') # 경로 잡고, 파일 엵음. rt= read a file as text\n",
    "```\n",
    "\n",
    "실행할때는, sys.stdin=open('input.txt','rt)를 주석처리 하고 실행시키면 된다."
   ]
  },
  {
   "cell_type": "code",
   "execution_count": 15,
   "metadata": {},
   "outputs": [
    {
     "name": "stdout",
     "output_type": "stream",
     "text": [
      "200000\n",
      "17984\n"
     ]
    }
   ],
   "source": [
    "import sys\n",
    "#sys.stdin=open(\"input.txt\",'rt') # 경로 잡고, 파일 엵음. read a file as text\n",
    "\n",
    "n = int(input())\n",
    "\n",
    "ch = [0] * (n+1) # n까지니까 직관적으로 n+1까지 초기화\n",
    "cnt=0\n",
    "for i in range(2,n+1):\n",
    "    if ch[i] == 0:\n",
    "        cnt += 1\n",
    "        for j in range(i,n+1, i): # i의 배수로.\n",
    "             ch[j] = 1\n",
    "print(cnt)\n"
   ]
  }
 ],
 "metadata": {
  "kernelspec": {
   "display_name": "Python 3",
   "language": "python",
   "name": "python3"
  },
  "language_info": {
   "codemirror_mode": {
    "name": "ipython",
    "version": 3
   },
   "file_extension": ".py",
   "mimetype": "text/x-python",
   "name": "python",
   "nbconvert_exporter": "python",
   "pygments_lexer": "ipython3",
   "version": "3.8.5"
  }
 },
 "nbformat": 4,
 "nbformat_minor": 2
}
