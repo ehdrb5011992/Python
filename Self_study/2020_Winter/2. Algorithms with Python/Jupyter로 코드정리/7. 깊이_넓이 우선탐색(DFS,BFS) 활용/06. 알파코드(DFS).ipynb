{
 "cells": [
  {
   "cell_type": "markdown",
   "metadata": {},
   "source": [
    "#### 7단원부터는, 내 풀이는 강의의 도움 없이 혼자 푼다. (DFS) <br>\n",
    "틀린 풀이에 대해서는 각 주피터노트북 별 코맨트를 닮으로써 <br>\n",
    "답 풀이를 참고할 수 있도록 한다. <br>\n",
    "물론 풀었어도, 답풀이를 볾으로써 더 완벽한 풀이를 익히도록 한다."
   ]
  },
  {
   "cell_type": "markdown",
   "metadata": {},
   "source": [
    "### 순수한 내풀이는 5개중 1개맞고 2개틀리고 2개는 time limit 뜸."
   ]
  },
  {
   "cell_type": "markdown",
   "metadata": {},
   "source": [
    "node를 뻗히는 case는 정확하게 닫혀있는게 코드짜기에 편하다"
   ]
  },
  {
   "cell_type": "markdown",
   "metadata": {},
   "source": [
    "# 내 풀이"
   ]
  },
  {
   "cell_type": "code",
   "execution_count": 38,
   "metadata": {},
   "outputs": [],
   "source": [
    "x='25114'"
   ]
  },
  {
   "cell_type": "code",
   "execution_count": 40,
   "metadata": {},
   "outputs": [],
   "source": [
    "n=len(x)"
   ]
  },
  {
   "cell_type": "code",
   "execution_count": 41,
   "metadata": {},
   "outputs": [],
   "source": [
    "res=[]\n",
    "cnt=0"
   ]
  },
  {
   "cell_type": "code",
   "execution_count": 42,
   "metadata": {},
   "outputs": [],
   "source": [
    "def DFS(L):\n",
    "    global cnt\n",
    "    if L==n+1:\n",
    "        for j in res:\n",
    "            print(chr(int(j)+64), end='')\n",
    "        print()\n",
    "        cnt+=1\n",
    "    else:\n",
    "        if x[L-1]==0:\n",
    "            res.append(x[L-2:L-1])\n",
    "            DFS(L+1)\n",
    "            \n",
    "        else:\n",
    "            res.append(x[L-1])\n",
    "            DFS(L+1)\n",
    "            res.pop()\n",
    "            if (L+1 <= n) and (x[L-1:L+1] <= str(26)):\n",
    "                res.append(x[L-1:L+1])\n",
    "                DFS(L+2)\n",
    "                res.pop()"
   ]
  },
  {
   "cell_type": "code",
   "execution_count": 43,
   "metadata": {},
   "outputs": [
    {
     "name": "stdout",
     "output_type": "stream",
     "text": [
      "BEAAD\n",
      "BEAN\n",
      "BEKD\n",
      "YAAD\n",
      "YAN\n",
      "YKD\n",
      "6\n"
     ]
    }
   ],
   "source": [
    "DFS(1)\n",
    "print(cnt)"
   ]
  },
  {
   "cell_type": "code",
   "execution_count": null,
   "metadata": {},
   "outputs": [],
   "source": [
    "DFS(0,0)"
   ]
  },
  {
   "cell_type": "markdown",
   "metadata": {},
   "source": [
    "# 답 풀이"
   ]
  },
  {
   "cell_type": "markdown",
   "metadata": {},
   "source": [
    "채점코드를 위해서, 아래와 같이 구성\n",
    "```\n",
    "import sys\n",
    "sys.stdin=open(\"input.txt\",'rt') # 경로 잡고, 파일 엵음. rt= read a file as text\n",
    "```\n",
    "\n",
    "실행할때는, sys.stdin=open('input.txt','rt)를 주석처리 하고 실행시키면 된다."
   ]
  },
  {
   "cell_type": "code",
   "execution_count": null,
   "metadata": {},
   "outputs": [],
   "source": [
    "import sys\n",
    "#sys.stdin=open(\"input.txt\",'rt') # 경로 잡고, 파일 엵음. read a file as text\n",
    "\n",
    "def DFS(L,P):\n",
    "    global cnt\n",
    "    if L==n:\n",
    "        cnt+=1\n",
    "        for j in range(P): # P는 res에 들어갈 index\n",
    "            print(chr(res[j]+64),end='')\n",
    "        print()\n",
    "\n",
    "    else:\n",
    "        for i in range(1,27): # 26개의 가닥 뻗음.\n",
    "            if code[L] ==i:\n",
    "                res[P]=i\n",
    "                DFS(L+1,P+1) # P는 index\n",
    "            elif i>=10 and code[L]==i//10 and code[L+1]==i%10: # 여기서 out of range가 나옴.\n",
    "                res[P]=i\n",
    "                DFS(L+2,P+1)\n",
    "                \n",
    "                \n",
    "             \n",
    "    \n",
    "                res.pop()\n",
    "\n",
    "if __name__=='__main__':\n",
    "    code=list(map(int,input()))\n",
    "    n=len(code)\n",
    "    code.insert(n,-1) # out of range를 방지하기 위해 -1를 추가함.\n",
    "    res=[0]*(n+3) # 숫자 넣는거임.\n",
    "    cnt=0\n",
    "    DFS(0,0)\n",
    "    print(cnt)\n"
   ]
  }
 ],
 "metadata": {
  "kernelspec": {
   "display_name": "Python 3",
   "language": "python",
   "name": "python3"
  },
  "language_info": {
   "codemirror_mode": {
    "name": "ipython",
    "version": 3
   },
   "file_extension": ".py",
   "mimetype": "text/x-python",
   "name": "python",
   "nbconvert_exporter": "python",
   "pygments_lexer": "ipython3",
   "version": "3.8.5"
  }
 },
 "nbformat": 4,
 "nbformat_minor": 2
}
