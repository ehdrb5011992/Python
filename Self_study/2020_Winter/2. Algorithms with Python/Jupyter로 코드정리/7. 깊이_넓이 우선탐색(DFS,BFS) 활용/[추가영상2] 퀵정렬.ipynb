{
 "cells": [
  {
   "cell_type": "markdown",
   "metadata": {},
   "source": [
    "퀵정렬도 병합정렬과 비슷하다. <br>\n",
    "pivot을 잡고, partition을 나누는 작업을 한다. <br>\n",
    "그렇게 나눠진 구역을 정렬함. (전위순회방식) <br>\n",
    "\n",
    "참고로 병합정렬은 후위순회방식이라 한다."
   ]
  },
  {
   "cell_type": "markdown",
   "metadata": {},
   "source": [
    "arr=[45,21,23,36,15,67,11,60,20,33] 라고 하자"
   ]
  },
  {
   "cell_type": "markdown",
   "metadata": {},
   "source": [
    "퀵정렬은 pivot을 무엇을 쓰느냐에 따라 속도가 많이 달라진다. <br>\n",
    "우리는 arr[-1]값을 pivot이라고 설정하고 작업해보겠다. (무작위임) <br>\n",
    "이 경우는 33이 되고, 33을 기준으로 왼쪽과 오른쪽으로 나누고 작업한다."
   ]
  },
  {
   "cell_type": "markdown",
   "metadata": {},
   "source": [
    "이를 pos변수를 잡고, 0번부터 8번 인덱스까지 탐색한다. <br>\n",
    "그리고 pivot값보다 작으면 arr[pos]와 arr[index]와 스왑한다. <br>\n",
    "크면 변동없음."
   ]
  },
  {
   "cell_type": "markdown",
   "metadata": {},
   "source": [
    "그리고나서, 마지막으로 9번 인덱스인 pivot값과 pos변수가 가리키는 곳을 스왑한다 <br>\n",
    "이를 반복한다"
   ]
  },
  {
   "cell_type": "code",
   "execution_count": null,
   "metadata": {},
   "outputs": [],
   "source": [
    "def Qsort(lt,rt):\n",
    "    if lt<rt:\n",
    "        pos=lt # 0이라고 하면 안된다. 분할된 영역의 시작지점임.\n",
    "        pivot=arr[rt] # 얘 역시 마찬가지\n",
    "        for i in range(lt,rt):\n",
    "            if arr[i]<=pivot:\n",
    "                arr[i],arr[pos]=arr[pos],arr[i] # 스와핑\n",
    "                pos+=1\n",
    "        pivot,arr[pos]=arr[pos],pivot # pivot값을 스와핑\n",
    "\n",
    "        # 그다음 분할들어가면 된다.\n",
    "        Qsort(lt,pos-1)\n",
    "        Qsort(pos+1,rt) # 이렇게하면 퀵소트 끝.\n",
    "\n",
    "# 퀵소트는 이렇게 파티션하고 분할들어가고 이걸 반복하면 끝남.\n",
    "\n",
    "\n",
    "\n",
    "if __name__=='__main__':\n",
    "    arr=[45,21,23,36,15,67,11,60,20,33]\n",
    "    print('before sort: ',end=' ')\n",
    "    print(arr)\n",
    "    Dsort(0,7)\n",
    "    print()\n",
    "    print('after sort:', end=' ')\n",
    "    print(arr)\n",
    "    \n"
   ]
  }
 ],
 "metadata": {
  "kernelspec": {
   "display_name": "Python 3",
   "language": "python",
   "name": "python3"
  },
  "language_info": {
   "codemirror_mode": {
    "name": "ipython",
    "version": 3
   },
   "file_extension": ".py",
   "mimetype": "text/x-python",
   "name": "python",
   "nbconvert_exporter": "python",
   "pygments_lexer": "ipython3",
   "version": "3.8.5"
  }
 },
 "nbformat": 4,
 "nbformat_minor": 2
}
