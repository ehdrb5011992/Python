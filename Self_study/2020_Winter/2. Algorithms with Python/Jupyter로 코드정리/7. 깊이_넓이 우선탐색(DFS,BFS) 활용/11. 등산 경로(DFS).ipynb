{
 "cells": [
  {
   "cell_type": "markdown",
   "metadata": {},
   "source": [
    "#### 7단원부터는, 내 풀이는 강의의 도움 없이 혼자 푼다. (DFS) <br>\n",
    "틀린 풀이에 대해서는 각 주피터노트북 별 코맨트를 닮으로써 <br>\n",
    "답 풀이를 참고할 수 있도록 한다. <br>\n",
    "물론 풀었어도, 답풀이를 볾으로써 더 완벽한 풀이를 익히도록 한다."
   ]
  },
  {
   "cell_type": "markdown",
   "metadata": {},
   "source": [
    "정답 맞췄다 <br>\n",
    "만약 어떤 루트로 따라왔는지를 알려면, check 변수에다가 저장해야함. <br>\n",
    "답풀이는 이에대해서도 확인할 수 있음."
   ]
  },
  {
   "cell_type": "markdown",
   "metadata": {},
   "source": [
    "# 내 풀이"
   ]
  },
  {
   "cell_type": "code",
   "execution_count": 1,
   "metadata": {},
   "outputs": [],
   "source": [
    "n=5\n",
    "mapp=[\n",
    "    [2 ,23, 92, 78, 93],\n",
    "    [59, 50, 48, 90, 80],\n",
    "    [30, 53, 70, 75, 96],\n",
    "    [94, 91, 82, 89, 93],\n",
    "    [97, 98, 95, 96, 100]\n",
    "    \n",
    "]"
   ]
  },
  {
   "cell_type": "code",
   "execution_count": 2,
   "metadata": {},
   "outputs": [],
   "source": [
    "tmp1=-2147000000\n",
    "tmp2=2147000000\n",
    "minmax_ind=[(n-1,n-1),(0,0)] # max / min"
   ]
  },
  {
   "cell_type": "code",
   "execution_count": 3,
   "metadata": {},
   "outputs": [],
   "source": [
    "for i in range(n):\n",
    "    for j in range(n):\n",
    "        if mapp[i][j] >tmp1:\n",
    "            minmax_ind[0]=i,j\n",
    "            tmp1 = mapp[i][j]\n",
    "        \n",
    "        if tmp2 > mapp[i][j]:\n",
    "            minmax_ind[1]=i,j\n",
    "            tmp2=mapp[i][j]\n",
    "        "
   ]
  },
  {
   "cell_type": "code",
   "execution_count": null,
   "metadata": {},
   "outputs": [],
   "source": [
    "cnt=0\n",
    "dx=[-1,0,1,0]\n",
    "dy=[0,1,0,-1]"
   ]
  },
  {
   "cell_type": "code",
   "execution_count": null,
   "metadata": {},
   "outputs": [],
   "source": [
    "minmax_ind"
   ]
  },
  {
   "cell_type": "code",
   "execution_count": null,
   "metadata": {},
   "outputs": [],
   "source": [
    "def DFS(x,y):\n",
    "    global cnt\n",
    "    if (x,y) == (minmax_ind[0][0],minmax_ind[0][1]):\n",
    "        cnt+=1\n",
    "    else:\n",
    "        for i,j in zip(dx,dy):\n",
    "            xx=x+i\n",
    "            yy=y+j\n",
    "            if 0<=xx<=n-1 and 0<=yy<=n-1:\n",
    "                if mapp[x][y]<mapp[xx][yy]:\n",
    "                    DFS(xx,yy)"
   ]
  },
  {
   "cell_type": "code",
   "execution_count": null,
   "metadata": {},
   "outputs": [],
   "source": [
    "DFS(minmax_ind[1][0],minmax_ind[1][1])\n"
   ]
  },
  {
   "cell_type": "code",
   "execution_count": null,
   "metadata": {},
   "outputs": [],
   "source": [
    "print(cnt)"
   ]
  },
  {
   "cell_type": "markdown",
   "metadata": {},
   "source": [
    "# 답 풀이"
   ]
  },
  {
   "cell_type": "markdown",
   "metadata": {},
   "source": [
    "채점코드를 위해서, 아래와 같이 구성\n",
    "```\n",
    "import sys\n",
    "sys.stdin=open(\"input.txt\",'rt') # 경로 잡고, 파일 엵음. rt= read a file as text\n",
    "```\n",
    "\n",
    "실행할때는, sys.stdin=open('input.txt','rt)를 주석처리 하고 실행시키면 된다."
   ]
  },
  {
   "cell_type": "code",
   "execution_count": null,
   "metadata": {},
   "outputs": [],
   "source": [
    "import sys\n",
    "#sys.stdin=open(\"input.txt\",'rt') # 경로 잡고, 파일 엵음. read a file as text\n",
    "\n",
    "dx=[-1, 0, 1, 0]\n",
    "dy=[0, 1, 0, -1]\n",
    "\n",
    "def DFS(x, y):\n",
    "    global cnt\n",
    "    if x==ex and y==ey:\n",
    "        cnt+=1\n",
    "    else:\n",
    "        for k in range(4):\n",
    "            xx=x+dx[k]\n",
    "            yy=y+dy[k]\n",
    "            if 0<=xx<n and 0<=yy<n and ch[xx][yy]==0 and board[xx][yy]>board[x][y]:\n",
    "                ch[xx][yy]=1\n",
    "                DFS(xx, yy)\n",
    "                ch[xx][yy]=0 # 백하는거임.\n",
    "\n",
    "if __name__==\"__main__\":\n",
    "    n=int(input())\n",
    "    board=[[0]*n for _ in range(n)] \n",
    "    ch=[[0]*n for _ in range(n)] # 어떤 경로로 왔는지 체크하면서 감.\n",
    "                                 # 내가 만약 루트를 뽑고싶으면 얘가 필요함.\n",
    "    max=-2147000000\n",
    "    min=2147000000\n",
    "    for i in range(n):\n",
    "        tmp=list(map(int, input().split()))\n",
    "        for j in range(n):\n",
    "            if tmp[j]<min:\n",
    "                min=tmp[j]\n",
    "                sx=i\n",
    "                sy=j\n",
    "            if tmp[j]>max:\n",
    "                max=tmp[j]\n",
    "                ex=i\n",
    "                ey=j      \n",
    "            board[i][j]=tmp[j]\n",
    "    ch[sx][sy]=1\n",
    "    cnt=0\n",
    "    DFS(sx, sy)\n",
    "    print(cnt)\n"
   ]
  }
 ],
 "metadata": {
  "kernelspec": {
   "display_name": "Python 3",
   "language": "python",
   "name": "python3"
  },
  "language_info": {
   "codemirror_mode": {
    "name": "ipython",
    "version": 3
   },
   "file_extension": ".py",
   "mimetype": "text/x-python",
   "name": "python",
   "nbconvert_exporter": "python",
   "pygments_lexer": "ipython3",
   "version": "3.8.5"
  }
 },
 "nbformat": 4,
 "nbformat_minor": 2
}
