{
 "cells": [
  {
   "cell_type": "markdown",
   "metadata": {},
   "source": [
    "#### 7단원부터는, 내 풀이는 강의의 도움 없이 혼자 푼다. (DFS) <br>\n",
    "틀린 풀이에 대해서는 각 주피터노트북 별 코맨트를 닮으로써 <br>\n",
    "답 풀이를 참고할 수 있도록 한다. <br>\n",
    "물론 풀었어도, 답풀이를 볾으로써 더 완벽한 풀이를 익히도록 한다."
   ]
  },
  {
   "cell_type": "markdown",
   "metadata": {},
   "source": [
    "# 내 풀이"
   ]
  },
  {
   "cell_type": "markdown",
   "metadata": {},
   "source": [
    "min을 쓰는방법에 대해 아주 잘 나온 문제"
   ]
  },
  {
   "cell_type": "code",
   "execution_count": 51,
   "metadata": {},
   "outputs": [],
   "source": [
    "n,m=4,4"
   ]
  },
  {
   "cell_type": "code",
   "execution_count": 52,
   "metadata": {},
   "outputs": [],
   "source": [
    "mapp=[\n",
    "    [0, 1, 2, 0],\n",
    "    [1, 0, 2, 1],\n",
    "    [0, 2, 1, 2],\n",
    "    [2, 0, 1, 2]\n",
    "]"
   ]
  },
  {
   "cell_type": "code",
   "execution_count": 53,
   "metadata": {},
   "outputs": [],
   "source": [
    "def manhattan_dist(a,b): # a와 b는 index 튜플\n",
    "    return abs(a[0]-b[0])+abs(a[1]-b[1])"
   ]
  },
  {
   "cell_type": "code",
   "execution_count": 54,
   "metadata": {},
   "outputs": [],
   "source": [
    "tmp=[]\n",
    "house=[]\n",
    "pizza=[]\n",
    "res=2147000000\n",
    "dist=0"
   ]
  },
  {
   "cell_type": "code",
   "execution_count": 55,
   "metadata": {},
   "outputs": [],
   "source": [
    "# 피자집 골라내고, 집골라내고\n",
    "for x in range(n):\n",
    "    for y in range(n):\n",
    "        if mapp[y][x]==2:\n",
    "            tmp.append((x,y))\n",
    "        elif mapp[y][x]==1:\n",
    "            house.append((x,y))"
   ]
  },
  {
   "cell_type": "code",
   "execution_count": 56,
   "metadata": {},
   "outputs": [],
   "source": [
    "# 4개의 피자집 선택하고\n",
    "def DFS(L,st):\n",
    "    global res\n",
    "    if L==m:\n",
    "        dist=0\n",
    "        for h_ind in house: # 집을 기준으로 시작해야 함.\n",
    "            tmpp=2147000000\n",
    "            for pz_ind in pizza:\n",
    "                tmpp=min(tmpp,manhattan_dist(h_ind,pz_ind)) # 집하나골라서, 최소인거찾음.\n",
    "            dist+=tmpp # 그래야 피자집까지의 거리를 모조리 더할 수있음.\n",
    "        if res>dist:\n",
    "            res=dist # 한 케이스에 대해, 거리가 최소가 될때까지 갱신\n",
    "         \n",
    "    else:\n",
    "        for ind in range(st,len(tmp)):\n",
    "            pizza.append(tmp[ind])\n",
    "            DFS(L+1,ind+1)\n",
    "            pizza.pop()"
   ]
  },
  {
   "cell_type": "code",
   "execution_count": 57,
   "metadata": {
    "scrolled": true
   },
   "outputs": [],
   "source": [
    "DFS(0,0)"
   ]
  },
  {
   "cell_type": "code",
   "execution_count": 59,
   "metadata": {},
   "outputs": [
    {
     "name": "stdout",
     "output_type": "stream",
     "text": [
      "6\n"
     ]
    }
   ],
   "source": [
    "print(res)"
   ]
  },
  {
   "cell_type": "markdown",
   "metadata": {},
   "source": [
    "# 답 풀이"
   ]
  },
  {
   "cell_type": "markdown",
   "metadata": {},
   "source": [
    "채점코드를 위해서, 아래와 같이 구성\n",
    "```\n",
    "import sys\n",
    "sys.stdin=open(\"input.txt\",'rt') # 경로 잡고, 파일 엵음. rt= read a file as text\n",
    "```\n",
    "\n",
    "실행할때는, sys.stdin=open('input.txt','rt)를 주석처리 하고 실행시키면 된다."
   ]
  },
  {
   "cell_type": "code",
   "execution_count": null,
   "metadata": {},
   "outputs": [],
   "source": [
    "import sys\n",
    "sys.stdin=open(\"input.txt\",'rt') # 경로 잡고, 파일 엵음. read a file as text\n",
    "\n",
    "def DFS(L,s):\n",
    "    global res\n",
    "    if L==m:\n",
    "        sum=0\n",
    "        for j in range(len(hs)):\n",
    "            x1,y1=hs[j][0],hs[j][1]\n",
    "            dis=2147000000\n",
    "            for x in cb:\n",
    "                x2,y2=pz[x][0],pz[x][1]\n",
    "                dis=min(dis,abs(x1-x2)+abs(y1-y2)) # 작은값이 갱신\n",
    "            sum+=dis\n",
    "        if sum<res:\n",
    "            res=sum\n",
    "\n",
    "            \n",
    "    else:\n",
    "        for i in range(s,len(pz)):\n",
    "            cb[L]=i # 피자집의 번호\n",
    "            DFS(L+1,i+1)\n",
    "    \n",
    "\n",
    "\n",
    "\n",
    "if __name__=='__main__':\n",
    "    n,m=map(int,input().split())\n",
    "    board=[list(map(int,input().split())) for _ in range(n)]\n",
    "    hs=[]\n",
    "    pz=[]\n",
    "    cb=[0]*m # 선택되는 피자\n",
    "    res=2147000000\n",
    "    for i in range(n):\n",
    "        for j in range(n):\n",
    "            if board[i][j]==1:\n",
    "                hs.append((i,j))\n",
    "            elif board[i][j]==2:\n",
    "                pz.append((i,j))\n",
    "    DFS(0,0)\n",
    "    print(res)\n",
    "\n"
   ]
  }
 ],
 "metadata": {
  "kernelspec": {
   "display_name": "Python 3",
   "language": "python",
   "name": "python3"
  },
  "language_info": {
   "codemirror_mode": {
    "name": "ipython",
    "version": 3
   },
   "file_extension": ".py",
   "mimetype": "text/x-python",
   "name": "python",
   "nbconvert_exporter": "python",
   "pygments_lexer": "ipython3",
   "version": "3.8.5"
  }
 },
 "nbformat": 4,
 "nbformat_minor": 2
}
