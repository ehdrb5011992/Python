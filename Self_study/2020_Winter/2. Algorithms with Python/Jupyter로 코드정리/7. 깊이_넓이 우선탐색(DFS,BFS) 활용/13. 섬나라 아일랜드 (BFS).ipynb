{
 "cells": [
  {
   "cell_type": "markdown",
   "metadata": {},
   "source": [
    "#### 7단원부터는, 내 풀이는 강의의 도움 없이 혼자 푼다. (DFS) <br>\n",
    "틀린 풀이에 대해서는 각 주피터노트북 별 코맨트를 닮으로써 <br>\n",
    "답 풀이를 참고할 수 있도록 한다. <br>\n",
    "물론 풀었어도, 답풀이를 볾으로써 더 완벽한 풀이를 익히도록 한다."
   ]
  },
  {
   "cell_type": "markdown",
   "metadata": {},
   "source": [
    "잘풀엇다"
   ]
  },
  {
   "cell_type": "markdown",
   "metadata": {},
   "source": [
    "# 내 풀이"
   ]
  },
  {
   "cell_type": "code",
   "execution_count": 9,
   "metadata": {},
   "outputs": [],
   "source": [
    "n=7\n",
    "board=[\n",
    "    [1, 1, 0, 0, 0, 1, 0],\n",
    "    [0, 1, 1, 0, 1, 1, 0],\n",
    "    [0, 1, 0, 0, 0, 0, 0],\n",
    "    [0, 0, 0, 1, 0, 1, 1],\n",
    "    [1, 1, 0, 1, 1, 0, 0],\n",
    "    [1, 0, 0, 0, 1, 0, 0],\n",
    "    [1, 0, 1, 0, 1, 0, 0]\n",
    "]"
   ]
  },
  {
   "cell_type": "code",
   "execution_count": 10,
   "metadata": {},
   "outputs": [],
   "source": [
    "dx=[-1,-1,0,1,1,1,0,-1]\n",
    "dy=[0,1,1,1,0,-1,-1,-1]"
   ]
  },
  {
   "cell_type": "code",
   "execution_count": 11,
   "metadata": {},
   "outputs": [],
   "source": [
    "from collections import deque"
   ]
  },
  {
   "cell_type": "code",
   "execution_count": 12,
   "metadata": {},
   "outputs": [],
   "source": [
    "dq=deque()\n",
    "res=0"
   ]
  },
  {
   "cell_type": "code",
   "execution_count": 13,
   "metadata": {},
   "outputs": [],
   "source": [
    "for i in range(n):\n",
    "    for j in range(n):\n",
    "        if board[i][j]==1:\n",
    "            board[i][j]=0\n",
    "            res+=1\n",
    "            dq.append((i,j))\n",
    "            while dq:\n",
    "                cx,cy=dq.popleft()\n",
    "                for x,y in zip(dx,dy):\n",
    "                    xx=cx+x\n",
    "                    yy=cy+y\n",
    "                    if 0<=xx<n and 0<=yy<n: \n",
    "                        if board[xx][yy]==1:\n",
    "                            board[xx][yy]=0\n",
    "                            dq.append((xx,yy))"
   ]
  },
  {
   "cell_type": "code",
   "execution_count": 14,
   "metadata": {},
   "outputs": [
    {
     "name": "stdout",
     "output_type": "stream",
     "text": [
      "5\n"
     ]
    }
   ],
   "source": [
    "print(res)"
   ]
  },
  {
   "cell_type": "markdown",
   "metadata": {},
   "source": [
    "# 답 풀이"
   ]
  },
  {
   "cell_type": "markdown",
   "metadata": {},
   "source": [
    "채점코드를 위해서, 아래와 같이 구성\n",
    "```\n",
    "import sys\n",
    "sys.stdin=open(\"input.txt\",'rt') # 경로 잡고, 파일 엵음. rt= read a file as text\n",
    "```\n",
    "\n",
    "실행할때는, sys.stdin=open('input.txt','rt)를 주석처리 하고 실행시키면 된다."
   ]
  },
  {
   "cell_type": "code",
   "execution_count": null,
   "metadata": {},
   "outputs": [],
   "source": [
    "import sys\n",
    "#sys.stdin=open(\"input.txt\",'rt') # 경로 잡고, 파일 엵음. read a file as text\n",
    "\n",
    "n=int(input())\n",
    "board=[list(map(int,input().split())) for _ in range(n)] \n",
    "\n",
    "from collections import deque\n",
    "dx=[-1,-1,0,1,1,1,0,-1]\n",
    "dy=[0,1,1,1,0,-1,-1,-1]\n",
    "cnt=0\n",
    "Q=deque()\n",
    "\n",
    "for i in range(n):\n",
    "    for j in range(n):\n",
    "        if board[i][j]==1:\n",
    "            board[i][j]=0\n",
    "            Q.append((i,j))\n",
    "            while Q:\n",
    "                tmp=Q.popleft()\n",
    "                for k in range(8):\n",
    "                    x=tmp[0]+dx[k]\n",
    "                    y=tmp[1]+dy[k]\n",
    "                    if 0<=x<n and 0<=y<n and board[x][y]==1:\n",
    "                        board[x][y]=0\n",
    "                        Q.append((x,y))\n",
    "            cnt+=1\n",
    "\n",
    "print(cnt)\n"
   ]
  }
 ],
 "metadata": {
  "kernelspec": {
   "display_name": "Python 3",
   "language": "python",
   "name": "python3"
  },
  "language_info": {
   "codemirror_mode": {
    "name": "ipython",
    "version": 3
   },
   "file_extension": ".py",
   "mimetype": "text/x-python",
   "name": "python",
   "nbconvert_exporter": "python",
   "pygments_lexer": "ipython3",
   "version": "3.8.5"
  }
 },
 "nbformat": 4,
 "nbformat_minor": 2
}
