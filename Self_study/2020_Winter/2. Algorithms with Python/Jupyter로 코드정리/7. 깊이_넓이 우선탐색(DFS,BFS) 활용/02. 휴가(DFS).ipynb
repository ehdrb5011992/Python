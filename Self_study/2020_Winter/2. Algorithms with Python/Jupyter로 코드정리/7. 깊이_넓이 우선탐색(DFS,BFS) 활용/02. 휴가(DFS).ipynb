{
 "cells": [
  {
   "cell_type": "markdown",
   "metadata": {},
   "source": [
    "#### 7단원부터는, 내 풀이는 강의의 도움 없이 혼자 푼다. (DFS) <br>\n",
    "틀린 풀이에 대해서는 각 주피터노트북 별 코맨트를 닮으로써 <br>\n",
    "답 풀이를 참고할 수 있도록 한다. <br>\n",
    "물론 풀었어도, 답풀이를 볾으로써 더 완벽한 풀이를 익히도록 한다."
   ]
  },
  {
   "cell_type": "markdown",
   "metadata": {},
   "source": [
    "### 내 답은 틀렸다. 답을보고 이해하기."
   ]
  },
  {
   "cell_type": "markdown",
   "metadata": {},
   "source": [
    "초기값으로 현재시점의 이득과 미래시점을 변수로 동시에 써도 됨. <br>\n",
    "각 변수마다 의미만 잘 부여하기 "
   ]
  },
  {
   "cell_type": "markdown",
   "metadata": {},
   "source": [
    "# 내 풀이"
   ]
  },
  {
   "cell_type": "code",
   "execution_count": 24,
   "metadata": {},
   "outputs": [],
   "source": [
    "n=7\n",
    "x=[(4,20),(2,10),(3,15),(3,20),(2,30),(2,20),(1,10)]"
   ]
  },
  {
   "cell_type": "code",
   "execution_count": 27,
   "metadata": {},
   "outputs": [],
   "source": [
    "res=-2147000000"
   ]
  },
  {
   "cell_type": "code",
   "execution_count": 28,
   "metadata": {},
   "outputs": [],
   "source": [
    "def DFS(t,p_sum): \n",
    "    global res\n",
    "    \n",
    "    if t > n:\n",
    "        return\n",
    "    \n",
    "    if t==n:\n",
    "        if p_sum > res:\n",
    "            res=p_sum\n",
    "    else:\n",
    "        \n",
    "        DFS(t+x[t-1][0],p_sum+x[t-1][1])\n",
    "        if t <= n+1:\n",
    "            DFS(t+x[t][0],p_sum+x[t][1])"
   ]
  },
  {
   "cell_type": "code",
   "execution_count": 29,
   "metadata": {},
   "outputs": [
    {
     "name": "stdout",
     "output_type": "stream",
     "text": [
      "50\n"
     ]
    }
   ],
   "source": [
    "DFS(1,0) \n",
    "print(res)"
   ]
  },
  {
   "cell_type": "markdown",
   "metadata": {},
   "source": [
    "# 답 풀이"
   ]
  },
  {
   "cell_type": "markdown",
   "metadata": {},
   "source": [
    "채점코드를 위해서, 아래와 같이 구성\n",
    "```\n",
    "import sys\n",
    "sys.stdin=open(\"input.txt\",'rt') # 경로 잡고, 파일 엵음. rt= read a file as text\n",
    "```\n",
    "\n",
    "실행할때는, sys.stdin=open('input.txt','rt)를 주석처리 하고 실행시키면 된다."
   ]
  },
  {
   "cell_type": "code",
   "execution_count": null,
   "metadata": {},
   "outputs": [],
   "source": [
    "import sys\n",
    "#sys.stdin=open(\"input.txt\",'rt') # 경로 잡고, 파일 엵음. read a file as text\n",
    "\n",
    "def DFS(L,sum): #L은 미래날짜, sum은 현재까지 이익 -> 현재와 미래를 같이 진행함.\n",
    "    global res\n",
    "    if L==n+1:\n",
    "        if sum>res:\n",
    "            res=sum\n",
    "    else:\n",
    "        if L+T[L] <= n+1:\n",
    "            DFS(L+T[L],sum+P[L])\n",
    "        DFS(L+1,sum) # 다음날짜를 봄.\n",
    "\n",
    "if __name__ == '__main__':\n",
    "    n=int(input())\n",
    "    T=list()\n",
    "    P=list()\n",
    "    for i in range(n):\n",
    "        a,b = map(int,input().split())\n",
    "        T.append(a)\n",
    "        P.append(b)\n",
    "    res=-2147000000\n",
    "    T.insert(0,0) # 인덱스를 날짜로 하기 위해 미는효과를 부여함.\n",
    "    P.insert(0,0)\n",
    "    DFS(1,0)\n",
    "    print(res)\n"
   ]
  }
 ],
 "metadata": {
  "kernelspec": {
   "display_name": "Python 3",
   "language": "python",
   "name": "python3"
  },
  "language_info": {
   "codemirror_mode": {
    "name": "ipython",
    "version": 3
   },
   "file_extension": ".py",
   "mimetype": "text/x-python",
   "name": "python",
   "nbconvert_exporter": "python",
   "pygments_lexer": "ipython3",
   "version": "3.8.5"
  }
 },
 "nbformat": 4,
 "nbformat_minor": 2
}
