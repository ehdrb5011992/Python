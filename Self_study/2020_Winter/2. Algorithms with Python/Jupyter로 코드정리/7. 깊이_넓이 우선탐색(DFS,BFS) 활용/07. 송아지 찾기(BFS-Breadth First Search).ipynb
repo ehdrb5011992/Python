{
 "cells": [
  {
   "cell_type": "markdown",
   "metadata": {},
   "source": [
    "BFS에 대해 알아보자"
   ]
  },
  {
   "cell_type": "markdown",
   "metadata": {},
   "source": [
    "넓이 우선 탐색(BFS)는 level 순서대로 탐색한다 <br>\n",
    "BFS는 queue를 가지고 사용한다. "
   ]
  },
  {
   "cell_type": "markdown",
   "metadata": {},
   "source": [
    "queue에 해당 레벨의 숫자값을 순서대로 넣고, <br>\n",
    "다음 레벨로 진행될 때, 맨 앞에 있는 수를(전번째 level) 빼면서 <br>\n",
    "뒤에 빼는 숫자의 하위 level의 숫자들을 append시켜준다. <br>\n",
    "이런식으로 BFS가 진행됨."
   ]
  },
  {
   "cell_type": "markdown",
   "metadata": {},
   "source": [
    "### BFS는 최단거리를 풀 때 보통 사용한다. <br>\n",
    "한번 시행했는데, 다 탐색했는데 답이 없으면 그제서야 깊이를 뻗어나아가야 하기 때문.<br>\n",
    "기본적으로 케이스를 살펴보는게 우선이어야 한다."
   ]
  },
  {
   "cell_type": "markdown",
   "metadata": {},
   "source": [
    "재귀함수를 사용하지 않고, while문으로 해결한다"
   ]
  },
  {
   "cell_type": "markdown",
   "metadata": {},
   "source": [
    "# 내 풀이"
   ]
  },
  {
   "cell_type": "code",
   "execution_count": 8,
   "metadata": {},
   "outputs": [],
   "source": [
    "s=5\n",
    "e=14\n",
    "from collections import deque"
   ]
  },
  {
   "cell_type": "code",
   "execution_count": 9,
   "metadata": {},
   "outputs": [],
   "source": [
    "dq=deque()\n",
    "ch=[0]*10001\n",
    "res=[0]*10001"
   ]
  },
  {
   "cell_type": "code",
   "execution_count": 10,
   "metadata": {},
   "outputs": [],
   "source": [
    "ch[s]=1\n",
    "res[s]=0\n",
    "dq.append(s)"
   ]
  },
  {
   "cell_type": "code",
   "execution_count": 11,
   "metadata": {},
   "outputs": [],
   "source": [
    "while dq:\n",
    "    now=dq.popleft()\n",
    "    if now==e:\n",
    "        break\n",
    "    for next in (now+1,now-1,now+5):\n",
    "        if next>0 and next<=10001:\n",
    "            if ch[next]==0:\n",
    "                dq.append(next)\n",
    "                ch[next]=1\n",
    "                res[next]=res[now]+1"
   ]
  },
  {
   "cell_type": "code",
   "execution_count": 12,
   "metadata": {},
   "outputs": [
    {
     "name": "stdout",
     "output_type": "stream",
     "text": [
      "3\n"
     ]
    }
   ],
   "source": [
    "print(res[e])"
   ]
  },
  {
   "cell_type": "markdown",
   "metadata": {},
   "source": [
    "# 답 풀이"
   ]
  },
  {
   "cell_type": "markdown",
   "metadata": {},
   "source": [
    "채점코드를 위해서, 아래와 같이 구성\n",
    "```\n",
    "import sys\n",
    "sys.stdin=open(\"input.txt\",'rt') # 경로 잡고, 파일 엵음. rt= read a file as text\n",
    "```\n",
    "\n",
    "실행할때는, sys.stdin=open('input.txt','rt)를 주석처리 하고 실행시키면 된다."
   ]
  },
  {
   "cell_type": "code",
   "execution_count": null,
   "metadata": {},
   "outputs": [],
   "source": [
    "import sys\n",
    "#sys.stdin=open(\"input.txt\",'rt') # 경로 잡고, 파일 엵음. read a file as text\n",
    "\n",
    "from collections import deque\n",
    "\n",
    "max=10000\n",
    "ch=[0]*(max+1) #좌표에 따라 인덱스를 그대로 사용하기 위해.\n",
    "dis=[0]*(max+1) # 갔던 곳은 재방문 하지 않기 위해. (여기에 최소숫자가 저장됨.)\n",
    "n,m=map(int,input().split())\n",
    "\n",
    "ch[n]=1 # 초기값 부여 (방문했으면 1)\n",
    "dis[n]=0 # 방문을 처음하는 경우, 이동 최소횟수 초기값 부여\n",
    "dQ=deque() # dQ를 만들고,\n",
    "dQ.append(n) # dQ에 초기값을 넣어버리자.\n",
    "while dQ: # BFS는 queue가 비어있으면 종료하는거임. 물론, 이경우는 비어있지 않음.\n",
    "    now=dQ.popleft()\n",
    "\n",
    "    if now==m:  #여기가 종료조건\n",
    "        break\n",
    "\n",
    "\n",
    "    # 여기를 돌리는거임.\n",
    "    for next in (now-1,now+1,now+5): # 이렇게 현재 값에서 세 가닥으로 뽑는다는거임.\n",
    "        if 0<next<=max:\n",
    "            if ch[next]==0:\n",
    "                dQ.append(next)\n",
    "                ch[next]=1\n",
    "                dis[next]=dis[now]+1 # now까지 방문한 횟수에서, 한번 더 움직였으므로.\n",
    "print(dis[m])\n"
   ]
  }
 ],
 "metadata": {
  "kernelspec": {
   "display_name": "Python 3",
   "language": "python",
   "name": "python3"
  },
  "language_info": {
   "codemirror_mode": {
    "name": "ipython",
    "version": 3
   },
   "file_extension": ".py",
   "mimetype": "text/x-python",
   "name": "python",
   "nbconvert_exporter": "python",
   "pygments_lexer": "ipython3",
   "version": "3.8.5"
  }
 },
 "nbformat": 4,
 "nbformat_minor": 2
}
