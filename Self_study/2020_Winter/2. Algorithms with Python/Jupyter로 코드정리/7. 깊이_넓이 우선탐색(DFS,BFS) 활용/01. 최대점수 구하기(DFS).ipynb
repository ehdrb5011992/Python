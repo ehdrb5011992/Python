{
 "cells": [
  {
   "cell_type": "markdown",
   "metadata": {},
   "source": [
    "#### 7단원부터는, 내 풀이는 강의의 도움 없이 혼자 푼다. (DFS) <br>\n",
    "틀린 풀이에 대해서는 각 주피터노트북 별 코맨트를 닮으로써 <br>\n",
    "답 풀이를 참고할 수 있도록 한다. <br>\n",
    "물론 풀었어도, 답풀이를 볾으로써 더 완벽한 풀이를 익히도록 한다."
   ]
  },
  {
   "cell_type": "markdown",
   "metadata": {},
   "source": [
    "이 문제는 직접 풀었다."
   ]
  },
  {
   "cell_type": "markdown",
   "metadata": {},
   "source": [
    "# 내 풀이"
   ]
  },
  {
   "cell_type": "markdown",
   "metadata": {},
   "source": [
    "코드를 짤때, 조합처럼 뽑는문제라도, <br>\n",
    "nCk에서 k가 정해져 있지 않는 경우, <br>\n",
    "대개는 부분집합의 o,x로 푼다."
   ]
  },
  {
   "cell_type": "markdown",
   "metadata": {},
   "source": [
    "다시한번 강조하지만, 부분집합 문제의 경우 o,x로 풀며, <br>\n",
    "else 구문쪽에 DFS가 두번 나오게 된다. (한번은 참, 한번은 거짓) <br>\n",
    "check 변수의 경우, 내가 사용한 숫자가 어느것인지를 확인하기 위해서만 필요하다"
   ]
  },
  {
   "cell_type": "code",
   "execution_count": 32,
   "metadata": {},
   "outputs": [],
   "source": [
    "n,m=5,20\n",
    "x=[(10,5),(25,12),(15,8),(6,3),(7,4)]"
   ]
  },
  {
   "cell_type": "code",
   "execution_count": 34,
   "metadata": {},
   "outputs": [],
   "source": [
    "x.sort(key=lambda x:x[0],reverse=True)"
   ]
  },
  {
   "cell_type": "code",
   "execution_count": 82,
   "metadata": {},
   "outputs": [
    {
     "data": {
      "text/plain": [
       "[(25, 12), (15, 8), (10, 5), (7, 4), (6, 3)]"
      ]
     },
     "execution_count": 82,
     "metadata": {},
     "output_type": "execute_result"
    }
   ],
   "source": [
    "x"
   ]
  },
  {
   "cell_type": "code",
   "execution_count": 83,
   "metadata": {},
   "outputs": [],
   "source": [
    "ch=[0]*n # check는 필요 없다. \n",
    "ti_sum=0\n",
    "tmp=0\n",
    "res=-2147000000"
   ]
  },
  {
   "cell_type": "code",
   "execution_count": 84,
   "metadata": {},
   "outputs": [],
   "source": [
    "def DFS(L):\n",
    "    global ti_sum,res,tmp\n",
    "    if ti_sum > m:\n",
    "        return\n",
    "    \n",
    "    if L==n:\n",
    "        if tmp >= res:\n",
    "            res=tmp\n",
    "        \n",
    "    else:\n",
    "        ch[L]=1\n",
    "        ti_sum += x[L][1] # 여기서부터\n",
    "        tmp+=x[L][0]\n",
    "        DFS(L+1)  # 여기까지 하나로 합칠 수 있음.\n",
    "        tmp-=x[L][0]\n",
    "        ti_sum -= x[L][1]\n",
    "        ch[L]=0\n",
    "        DFS(L+1)\n",
    "        "
   ]
  },
  {
   "cell_type": "code",
   "execution_count": 86,
   "metadata": {
    "scrolled": true
   },
   "outputs": [
    {
     "name": "stdout",
     "output_type": "stream",
     "text": [
      "41\n"
     ]
    }
   ],
   "source": [
    "DFS(0)\n",
    "print(res)"
   ]
  },
  {
   "cell_type": "markdown",
   "metadata": {},
   "source": [
    "# 답 풀이"
   ]
  },
  {
   "cell_type": "markdown",
   "metadata": {},
   "source": [
    "채점코드를 위해서, 아래와 같이 구성\n",
    "```\n",
    "import sys\n",
    "sys.stdin=open(\"input.txt\",'rt') # 경로 잡고, 파일 엵음. rt= read a file as text\n",
    "```\n",
    "\n",
    "실행할때는, sys.stdin=open('input.txt','rt)를 주석처리 하고 실행시키면 된다."
   ]
  },
  {
   "cell_type": "code",
   "execution_count": null,
   "metadata": {},
   "outputs": [],
   "source": [
    "import sys\n",
    "#sys.stdin=open(\"input.txt\",'rt') # 경로 잡고, 파일 엵음. read a file as text\n",
    "\n",
    "def DFS(L,sum,time):\n",
    "    global res\n",
    "\n",
    "    if time>m:\n",
    "        return # 가지치기\n",
    "    \n",
    "    if L==n:\n",
    "        if sum > res:\n",
    "            res=sum\n",
    "    else:\n",
    "        DFS(L+1,sum+pv[L],time+pt[L]) # 문제 풀거나,\n",
    "        DFS(L+1,sum,time) # 문제 풀지않거나,\n",
    "\n",
    "\n",
    "\n",
    "if __name__ == '__main__':\n",
    "    n,m=map(int,input().split())\n",
    "    pv=[] # 문제점수\n",
    "    pt=[] # 문제 푸는데 걸리는 시간\n",
    "    for i in range(n):\n",
    "        a,b= map(int,input().split())\n",
    "        pv.append(a)\n",
    "        pt.append(b)\n",
    "    res=-2147000000 # 답이될거니까, 가장 작은숫자\n",
    "    DFS(0,0,0) # 레벨, 총점, 시간\n",
    "    print(res)\n"
   ]
  }
 ],
 "metadata": {
  "kernelspec": {
   "display_name": "Python 3",
   "language": "python",
   "name": "python3"
  },
  "language_info": {
   "codemirror_mode": {
    "name": "ipython",
    "version": 3
   },
   "file_extension": ".py",
   "mimetype": "text/x-python",
   "name": "python",
   "nbconvert_exporter": "python",
   "pygments_lexer": "ipython3",
   "version": "3.8.5"
  }
 },
 "nbformat": 4,
 "nbformat_minor": 2
}
