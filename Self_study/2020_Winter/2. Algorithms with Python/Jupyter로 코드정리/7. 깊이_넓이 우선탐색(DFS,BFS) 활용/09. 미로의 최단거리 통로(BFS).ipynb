{
 "cells": [
  {
   "cell_type": "markdown",
   "metadata": {},
   "source": [
    "BFS는 아직 미숙하여 첫도전으로 잘 풀리지 않았다. <br>\n",
    "이에 강의에서 접근 방법을 듣고 내 코드를 구현해보았다."
   ]
  },
  {
   "cell_type": "markdown",
   "metadata": {},
   "source": [
    "이렇게 최단거를 푸는 문제는, BFS로 해결하면 편하다"
   ]
  },
  {
   "cell_type": "markdown",
   "metadata": {},
   "source": [
    "잘 풀었다. 답을보고 보다 더 정확하게 익히자"
   ]
  },
  {
   "cell_type": "markdown",
   "metadata": {},
   "source": [
    "# 내 풀이"
   ]
  },
  {
   "cell_type": "code",
   "execution_count": 1,
   "metadata": {},
   "outputs": [],
   "source": [
    "board=[\n",
    "    [0, 0, 0, 0, 0, 0, 0],\n",
    "    [0, 1, 1, 1, 1, 1, 0],\n",
    "    [0, 0, 0, 1, 0, 0, 0],\n",
    "    [1, 1, 0, 1, 0, 1, 1],\n",
    "    [1, 1, 0, 1, 0, 0, 0],\n",
    "    [1, 0, 0, 0, 1, 0, 0],\n",
    "    [1, 0, 1, 0, 0, 0, 0],\n",
    "]"
   ]
  },
  {
   "cell_type": "code",
   "execution_count": 2,
   "metadata": {},
   "outputs": [],
   "source": [
    "from collections import deque"
   ]
  },
  {
   "cell_type": "code",
   "execution_count": 3,
   "metadata": {},
   "outputs": [],
   "source": [
    "dq=deque()\n",
    "dq.append((0,0))\n",
    "dx=[-1,0,1,0]\n",
    "dy=[0,1,0,-1]\n",
    "n=7"
   ]
  },
  {
   "cell_type": "code",
   "execution_count": 4,
   "metadata": {},
   "outputs": [],
   "source": [
    "res=[[0]*n for _ in range(n)] # 있으면 안 뻗을꺼임."
   ]
  },
  {
   "cell_type": "code",
   "execution_count": 5,
   "metadata": {},
   "outputs": [],
   "source": [
    "while dq:\n",
    "    \n",
    "    x,y=dq.popleft()\n",
    "    \n",
    "    if (x,y) == (n-1,n-1):\n",
    "        break\n",
    "    \n",
    "    for i,j in zip(dx,dy):\n",
    "        next_x=x+i\n",
    "        next_y=y+j\n",
    "        if n-1>= next_x >=0 and n-1>= next_y >= 0 :\n",
    "            if board[next_x][next_y]==0 and res[next_x][next_y] ==0 :\n",
    "        \n",
    "                dq.append((next_x,next_y))\n",
    "                res[next_x][next_y]=res[x][y]+1\n",
    "        \n",
    "                    "
   ]
  },
  {
   "cell_type": "code",
   "execution_count": 6,
   "metadata": {},
   "outputs": [
    {
     "data": {
      "text/plain": [
       "[[0, 0, 0, 0, 0, 0, 0],\n",
       " [0, 1, 1, 1, 1, 1, 0],\n",
       " [0, 0, 0, 1, 0, 0, 0],\n",
       " [1, 1, 0, 1, 0, 1, 1],\n",
       " [1, 1, 0, 1, 0, 0, 0],\n",
       " [1, 0, 0, 0, 1, 0, 0],\n",
       " [1, 0, 1, 0, 0, 0, 0]]"
      ]
     },
     "execution_count": 6,
     "metadata": {},
     "output_type": "execute_result"
    }
   ],
   "source": [
    "board"
   ]
  },
  {
   "cell_type": "code",
   "execution_count": 7,
   "metadata": {},
   "outputs": [
    {
     "data": {
      "text/plain": [
       "[[2, 1, 2, 3, 4, 5, 6],\n",
       " [1, 0, 0, 0, 0, 0, 7],\n",
       " [2, 3, 4, 0, 10, 9, 8],\n",
       " [0, 0, 5, 0, 11, 0, 0],\n",
       " [0, 0, 6, 0, 12, 13, 0],\n",
       " [0, 8, 7, 8, 0, 12, 13],\n",
       " [0, 9, 0, 9, 10, 11, 12]]"
      ]
     },
     "execution_count": 7,
     "metadata": {},
     "output_type": "execute_result"
    }
   ],
   "source": [
    "# 위의 while문에서, break와 관련된 조건이 걸려서 res[4,6]이 14출력이 안됨.\n",
    "# 최종적인 답을 출력하는것과는 전혀 상관이 없다.\n",
    "res "
   ]
  },
  {
   "cell_type": "code",
   "execution_count": 8,
   "metadata": {},
   "outputs": [
    {
     "name": "stdout",
     "output_type": "stream",
     "text": [
      "12\n"
     ]
    }
   ],
   "source": [
    "if res[n-1][n-1]==0:\n",
    "    print(-1)\n",
    "else:\n",
    "    print(res[n-1][n-1])"
   ]
  },
  {
   "cell_type": "markdown",
   "metadata": {},
   "source": [
    "# 답 풀이"
   ]
  },
  {
   "cell_type": "markdown",
   "metadata": {},
   "source": [
    "채점코드를 위해서, 아래와 같이 구성\n",
    "```\n",
    "import sys\n",
    "sys.stdin=open(\"input.txt\",'rt') # 경로 잡고, 파일 엵음. rt= read a file as text\n",
    "```\n",
    "\n",
    "실행할때는, sys.stdin=open('input.txt','rt)를 주석처리 하고 실행시키면 된다."
   ]
  },
  {
   "cell_type": "code",
   "execution_count": null,
   "metadata": {},
   "outputs": [],
   "source": [
    "import sys\n",
    "#sys.stdin=open(\"input.txt\",'rt') # 경로 잡고, 파일 엵음. read a file as text\n",
    "\n",
    "from collections import deque\n",
    "dx=[-1,0,1,0]\n",
    "dy=[0,1,0,-1]\n",
    "board=[list(map(int,input().split())) for _ in range(7)]\n",
    "dis=[[0]*7 for _ in range(7)]\n",
    "Q=deque()\n",
    "Q.append((0,0))\n",
    "board[0][0]=1 # 그냥 한번 방문한곳은 벽으로 만들어버림.\n",
    "\n",
    "while Q: # 결국엔 Q에는 아무것도 없게 된다.\n",
    "    tmp=Q.popleft()\n",
    "    for i in range(4): # 4방향 탐색\n",
    "        x=tmp[0]+dx[i]\n",
    "        y=tmp[1]+dy[i]\n",
    "        if 0<=x<=6 and 0<=y<=6 and board[x][y]==0:\n",
    "            board[x][y]=1 # 방문한곳은 닫아버리자\n",
    "            dis[x][y]=dis[tmp[0]][tmp[1]]+1\n",
    "            Q.append((x,y))\n",
    "        \n",
    "if dis[6][6]==0: # 자동으로 최소값이 출력된다. 방문한 곳은 닫아버리기 때문.\n",
    "    print(-1)\n",
    "else:\n",
    "    print(dis[6][6])\n"
   ]
  }
 ],
 "metadata": {
  "kernelspec": {
   "display_name": "Python 3",
   "language": "python",
   "name": "python3"
  },
  "language_info": {
   "codemirror_mode": {
    "name": "ipython",
    "version": 3
   },
   "file_extension": ".py",
   "mimetype": "text/x-python",
   "name": "python",
   "nbconvert_exporter": "python",
   "pygments_lexer": "ipython3",
   "version": "3.8.5"
  }
 },
 "nbformat": 4,
 "nbformat_minor": 2
}
