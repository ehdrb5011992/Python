{
 "cells": [
  {
   "cell_type": "markdown",
   "metadata": {},
   "source": [
    "#### 7단원부터는, 내 풀이는 강의의 도움 없이 혼자 푼다. (DFS) <br>\n",
    "틀린 풀이에 대해서는 각 주피터노트북 별 코맨트를 닮으로써 <br>\n",
    "답 풀이를 참고할 수 있도록 한다. <br>\n",
    "물론 풀었어도, 답풀이를 볾으로써 더 완벽한 풀이를 익히도록 한다."
   ]
  },
  {
   "cell_type": "markdown",
   "metadata": {},
   "source": [
    "## 와 =+로 해도 코드가 돌아감.  <br>\n",
    "이런걸로 헤메지 말기. 조심하기 "
   ]
  },
  {
   "cell_type": "markdown",
   "metadata": {},
   "source": [
    "### 격자판을 가지고 특정 영역을 찾아내는 문제 이런건 <br>\n",
    "### BFS나 DFS 어떤걸 써도 상관이 없다."
   ]
  },
  {
   "cell_type": "markdown",
   "metadata": {},
   "source": [
    "# 내 풀이"
   ]
  },
  {
   "cell_type": "code",
   "execution_count": 1,
   "metadata": {},
   "outputs": [],
   "source": [
    "n=5\n",
    "city=[\n",
    "    [6, 8, 2, 6, 2],\n",
    "    [3, 2, 3, 4, 6],\n",
    "    [6, 7, 3, 3, 2],\n",
    "    [7, 2, 5, 3, 6],\n",
    "    [8, 9, 5, 2, 7]\n",
    "]"
   ]
  },
  {
   "cell_type": "code",
   "execution_count": 2,
   "metadata": {},
   "outputs": [],
   "source": [
    "from collections import deque"
   ]
  },
  {
   "cell_type": "code",
   "execution_count": 3,
   "metadata": {},
   "outputs": [],
   "source": [
    "res=-2147000000\n",
    "dx=[-1,0,1,0]\n",
    "dy=[0,1,0,-1]\n",
    "dq=deque()"
   ]
  },
  {
   "cell_type": "code",
   "execution_count": 4,
   "metadata": {},
   "outputs": [],
   "source": [
    "rain_max=-2147000000\n",
    "for i in range(n):\n",
    "    for j in range(n):\n",
    "        if city[i][j]> rain_max:\n",
    "            rain_max=city[i][j]"
   ]
  },
  {
   "cell_type": "code",
   "execution_count": 5,
   "metadata": {},
   "outputs": [
    {
     "name": "stdout",
     "output_type": "stream",
     "text": [
      "5\n"
     ]
    }
   ],
   "source": [
    "for rain in range(1,rain_max):\n",
    "    \n",
    "    cnt=0\n",
    "    ch=[[1]*n for _ in range(n)]\n",
    "    for i in range(n):\n",
    "        for j in range(n):\n",
    "            if city[i][j] <= rain:\n",
    "                ch[i][j]=0 # 0이면 침수.\n",
    "\n",
    "    for i in range(n):\n",
    "        for j in range(n):\n",
    "            if ch[i][j]==1: # 땅이있음.\n",
    "                cnt+=1\n",
    "                ch[i][j]=0 # 땅을 없앰\n",
    "                dq.append((i,j)) # 인덱스저장\n",
    "                while dq:\n",
    "                    cx,cy=dq.popleft() # 출발\n",
    "                    for x,y in zip(dx,dy):\n",
    "                        xx=cx+x\n",
    "                        yy=cy+y\n",
    "                        if 0<=xx<n and 0<=yy<n and ch[xx][yy]==1:\n",
    "                            ch[xx][yy]=0\n",
    "                            dq.append((xx,yy))\n",
    "    else:        \n",
    "        if cnt>res:\n",
    "            res=cnt\n",
    "else:\n",
    "    print(res)"
   ]
  },
  {
   "cell_type": "markdown",
   "metadata": {},
   "source": [
    "# 답 풀이"
   ]
  },
  {
   "cell_type": "markdown",
   "metadata": {},
   "source": [
    "채점코드를 위해서, 아래와 같이 구성\n",
    "```\n",
    "import sys\n",
    "sys.stdin=open(\"input.txt\",'rt') # 경로 잡고, 파일 엵음. rt= read a file as text\n",
    "```\n",
    "\n",
    "실행할때는, sys.stdin=open('input.txt','rt)를 주석처리 하고 실행시키면 된다."
   ]
  },
  {
   "cell_type": "markdown",
   "metadata": {},
   "source": [
    "### DFS 로 풀었다."
   ]
  },
  {
   "cell_type": "code",
   "execution_count": null,
   "metadata": {},
   "outputs": [],
   "source": [
    "import sys\n",
    "#sys.stdin=open(\"input.txt\",'rt') # 경로 잡고, 파일 엵음. read a file as text\n",
    "\n",
    "dx=[-1,0,1,0]\n",
    "dy=[0,1,0,-1]\n",
    "\n",
    "sys.setrecursionlimit(10**6)\n",
    "# 10**6정도의 시간이 넘어가면 그만둬버린다.\n",
    "# 이렇게 해야지 채점이 된다.\n",
    "# 데이터가 많고 런타임 에러가 난다면, 이렇게 채점을 해야함.\n",
    "\n",
    "def DFS(x,y,h):\n",
    "    ch[x][y]=1 # 펼쳐나감.\n",
    "    for i in range(4):\n",
    "        xx=x+dx[i]\n",
    "        yy=y+dy[i]\n",
    "        if 0<=xx <n and 0<=yy < n and ch[xx][yy]==0 and board[xx][yy] >h:\n",
    "            DFS(xx,yy,h)\n",
    "\n",
    "\n",
    "\n",
    "if __name__==\"__main__\":\n",
    "    n=int(input())\n",
    "    res=0\n",
    "    board=[list(map(int,input().split())) for _ in range(n)]\n",
    "    for h in range(100): # 높이. (높이를 100을 할 필요는 없음.)\n",
    "        ch=[[0]*n for _ in range(n)]\n",
    "        cnt=0 # 높이가 바뀌면 카운팅이 바뀜.\n",
    "        for i in range(n):\n",
    "            for j in range(n):\n",
    "                if ch[i][j]==0 and board[i][j] >h:\n",
    "                    cnt+=1 # 이때만 영역으로써 인\n",
    "                    DFS(i,j,h) # 이 경우에만, 퍼져나간다.\n",
    "        res=max(res,cnt) # res는 바꿔주면서 최댓값 찾음.\n",
    "        if cnt==0:\n",
    "            break # 안정영역이 0개이면 break해버림.\n",
    "    print(res)\n"
   ]
  }
 ],
 "metadata": {
  "kernelspec": {
   "display_name": "Python 3",
   "language": "python",
   "name": "python3"
  },
  "language_info": {
   "codemirror_mode": {
    "name": "ipython",
    "version": 3
   },
   "file_extension": ".py",
   "mimetype": "text/x-python",
   "name": "python",
   "nbconvert_exporter": "python",
   "pygments_lexer": "ipython3",
   "version": "3.8.5"
  }
 },
 "nbformat": 4,
 "nbformat_minor": 2
}
