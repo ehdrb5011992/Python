{
 "cells": [
  {
   "cell_type": "markdown",
   "metadata": {},
   "source": [
    "분할한다음 정렬(divide and conquer)하는 병합정렬에 대해 알아보자. <br>\n"
   ]
  },
  {
   "cell_type": "markdown",
   "metadata": {},
   "source": [
    "아래의 Dsort는 자기의 영역을 정확하게 나누는 역할을 한다. <br>\n",
    "그리고 mid라는 변수를 통해 중앙을 자르고, D(lt,mid) 와 D(mid+1,rt)로 구성한다."
   ]
  },
  {
   "cell_type": "markdown",
   "metadata": {},
   "source": [
    "그리고 나서 D는 각 부분을 정렬하고, 최종적으로 합치게 된다. <br>\n",
    "### 기본적으로 우리가 오름차순으로 정렬되어있는 리스트합치기 문제를 풀었을때를 기억해야함 <br>\n",
    "그리고 두개의 원소가 남을때까지 계속 쪼개고, tmp라는 임시변수에 저장하고 이를 반복한다"
   ]
  },
  {
   "cell_type": "code",
   "execution_count": 1,
   "metadata": {},
   "outputs": [
    {
     "name": "stdout",
     "output_type": "stream",
     "text": [
      "before sort:  [23, 11, 45, 36, 15, 67, 33, 21]\n",
      "\n",
      "after sort: [11, 15, 21, 23, 33, 36, 45, 67]\n"
     ]
    }
   ],
   "source": [
    "def Dsort(lt,rt): # 정렬하고자 하는 양쪽 (맨 왼쪽, 맨 오른쪽)\n",
    "    if lt<rt:\n",
    "        mid = (lt+rt)//2\n",
    "        Dsort(lt,mid) # lt부터 mid까지 딱 반띵\n",
    "        Dsort(mid+1,rt) # 두갈래로 전부 뻗어준다. 그다음 아래작업을 해야함. (최소2개공간)\n",
    "        \n",
    "        p1=lt # 비교를 위해 사용할 포인터\n",
    "        p2=mid+1 # 비교를 위해 사용할 포인터\n",
    "        tmp=[]\n",
    "        while p1<=mid and p2<=rt: # 두리스트 합치기 (두개의 포인터)\n",
    "            if arr[p1]<arr[p2]:\n",
    "                tmp.append(arr[p1])\n",
    "                p1+=1\n",
    "            else:\n",
    "                tmp.append(arr[p2])\n",
    "                p2+=1\n",
    "        if p1<=mid: tmp=tmp+arr[p1:mid+1] # p2에 의해 while이 끝난경우\n",
    "        if p2<=rt: tmp=tmp+arr[p2:rt+1] # p1에 의해 while이 끝난경우 \n",
    "                                         # --> 반대쪽을 tmp에 그대로 붙이기.\n",
    "        for i in range(len(tmp)): # 그리고나서 arr에 새롭게 할당\n",
    "            arr[lt+i]=tmp[i] # arr이 자꾸 바뀌어야함. (lt+i에 조심. 갈래로 나뉘기때문)\n",
    "\n",
    "                \n",
    "\n",
    "\n",
    "\n",
    "if __name__=='__main__':\n",
    "    arr=[23,11,45,36,15,67,33,21]\n",
    "    print('before sort: ',end=' ')\n",
    "    print(arr)\n",
    "    Dsort(0,7)\n",
    "    print()\n",
    "    print('after sort:', end=' ')\n",
    "    print(arr)\n",
    "\n"
   ]
  }
 ],
 "metadata": {
  "kernelspec": {
   "display_name": "Python 3",
   "language": "python",
   "name": "python3"
  },
  "language_info": {
   "codemirror_mode": {
    "name": "ipython",
    "version": 3
   },
   "file_extension": ".py",
   "mimetype": "text/x-python",
   "name": "python",
   "nbconvert_exporter": "python",
   "pygments_lexer": "ipython3",
   "version": "3.8.5"
  }
 },
 "nbformat": 4,
 "nbformat_minor": 2
}
