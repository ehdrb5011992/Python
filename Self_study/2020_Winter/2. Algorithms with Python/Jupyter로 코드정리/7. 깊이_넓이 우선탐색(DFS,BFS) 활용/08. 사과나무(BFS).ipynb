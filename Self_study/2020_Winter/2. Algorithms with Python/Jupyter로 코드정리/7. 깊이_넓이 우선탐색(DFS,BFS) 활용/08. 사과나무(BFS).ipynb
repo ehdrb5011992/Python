{
 "cells": [
  {
   "cell_type": "markdown",
   "metadata": {},
   "source": [
    "BFS는 아직 미숙하여 첫도전으로 잘 풀리지 않았다. <br>\n",
    "이에 강의에서 접근 방법을 듣고 내 코드를 구현해보았다."
   ]
  },
  {
   "cell_type": "markdown",
   "metadata": {},
   "source": [
    "# 내 풀이"
   ]
  },
  {
   "cell_type": "code",
   "execution_count": 1,
   "metadata": {},
   "outputs": [],
   "source": [
    "n=5"
   ]
  },
  {
   "cell_type": "code",
   "execution_count": 2,
   "metadata": {},
   "outputs": [],
   "source": [
    "x=[\n",
    "    [10, 13, 10, 12, 15],\n",
    "    [12, 39, 30, 23, 11],\n",
    "    [11, 25, 50, 53, 15],\n",
    "    [19, 27, 29, 37, 27],\n",
    "    [19, 13, 30, 13, 19]\n",
    "]"
   ]
  },
  {
   "cell_type": "code",
   "execution_count": 3,
   "metadata": {},
   "outputs": [],
   "source": [
    "from collections import deque"
   ]
  },
  {
   "cell_type": "code",
   "execution_count": 4,
   "metadata": {},
   "outputs": [],
   "source": [
    "dq=deque()\n",
    "m= n//2\n",
    "dq.append((m,m)) # 초기값 설정\n",
    "ch=[[0]*n for _ in range(n)] # 있으면 안뻗을꺼임.\n",
    "ch[m][m]=1 # 초기값 설정\n",
    "dx=[-1,0,1,0]\n",
    "dy=[0,1,0,-1]\n",
    "res=x[m][m] # 정답넣을거임.\n",
    "L=0"
   ]
  },
  {
   "cell_type": "code",
   "execution_count": 5,
   "metadata": {},
   "outputs": [],
   "source": [
    "while dq:\n",
    "    if L==m:\n",
    "        break\n",
    "    else:\n",
    "        tmp=len(dq)\n",
    "        for _ in range(tmp):\n",
    "            now_x,now_y=dq.popleft()\n",
    "            for a,b in zip(dx,dy):\n",
    "                if ch[now_x+a][now_y+b]==0:\n",
    "                    ch[now_x+a][now_y+b]=1\n",
    "                    res+=x[now_x+a][now_y+b]\n",
    "                    dq.append((now_x+a,now_y+b))\n",
    "        L+=1"
   ]
  },
  {
   "cell_type": "code",
   "execution_count": 6,
   "metadata": {},
   "outputs": [
    {
     "data": {
      "text/plain": [
       "379"
      ]
     },
     "execution_count": 6,
     "metadata": {},
     "output_type": "execute_result"
    }
   ],
   "source": [
    "res"
   ]
  },
  {
   "cell_type": "code",
   "execution_count": 7,
   "metadata": {},
   "outputs": [
    {
     "data": {
      "text/plain": [
       "[[0, 0, 1, 0, 0],\n",
       " [0, 1, 1, 1, 0],\n",
       " [1, 1, 1, 1, 1],\n",
       " [0, 1, 1, 1, 0],\n",
       " [0, 0, 1, 0, 0]]"
      ]
     },
     "execution_count": 7,
     "metadata": {},
     "output_type": "execute_result"
    }
   ],
   "source": [
    "ch"
   ]
  },
  {
   "cell_type": "markdown",
   "metadata": {},
   "source": [
    "# 답 풀이"
   ]
  },
  {
   "cell_type": "markdown",
   "metadata": {},
   "source": [
    "채점코드를 위해서, 아래와 같이 구성\n",
    "```\n",
    "import sys\n",
    "sys.stdin=open(\"input.txt\",'rt') # 경로 잡고, 파일 엵음. rt= read a file as text\n",
    "```\n",
    "\n",
    "실행할때는, sys.stdin=open('input.txt','rt)를 주석처리 하고 실행시키면 된다."
   ]
  },
  {
   "cell_type": "code",
   "execution_count": null,
   "metadata": {},
   "outputs": [],
   "source": [
    "import sys\n",
    "#sys.stdin=open(\"input.txt\",'rt') # 경로 잡고, 파일 엵음. read a file as text\n",
    "\n",
    "from collections import deque\n",
    "\n",
    "dx=[-1,0,1,0]\n",
    "dy=[0,1,0,-1]\n",
    "n=int(input())\n",
    "a=[list(map(int,input().split()))for _ in range(n)]\n",
    "ch=[[0]*n for _ in range(n)]\n",
    "sum=0\n",
    "Q=deque()\n",
    "ch[n//2][n//2]=1\n",
    "sum+=a[n//2][n//2]\n",
    "Q.append((n//2,n//2))\n",
    "L=0\n",
    "\n",
    "while True:\n",
    "    if L==n//2:\n",
    "        break\n",
    "    size=len(Q)\n",
    "    for i in range(size):\n",
    "        tmp=Q.popleft()\n",
    "        for j in range(4):\n",
    "            x=tmp[0]+dx[j]\n",
    "            y=tmp[1]+dy[j]\n",
    "            if ch[x][y]==0:\n",
    "                sum+=a[x][y]\n",
    "                ch[x][y]=1\n",
    "                Q.append((x,y))\n",
    "    L+=1\n",
    "print(sum)\n"
   ]
  }
 ],
 "metadata": {
  "kernelspec": {
   "display_name": "Python 3",
   "language": "python",
   "name": "python3"
  },
  "language_info": {
   "codemirror_mode": {
    "name": "ipython",
    "version": 3
   },
   "file_extension": ".py",
   "mimetype": "text/x-python",
   "name": "python",
   "nbconvert_exporter": "python",
   "pygments_lexer": "ipython3",
   "version": "3.8.5"
  }
 },
 "nbformat": 4,
 "nbformat_minor": 2
}
