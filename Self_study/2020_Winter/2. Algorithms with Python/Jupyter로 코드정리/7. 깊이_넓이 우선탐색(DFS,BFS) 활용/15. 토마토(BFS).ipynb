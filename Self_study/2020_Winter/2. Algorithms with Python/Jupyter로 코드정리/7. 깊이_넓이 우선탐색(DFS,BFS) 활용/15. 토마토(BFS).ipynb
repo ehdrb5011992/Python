{
 "cells": [
  {
   "cell_type": "markdown",
   "metadata": {},
   "source": [
    "#### 7단원부터는, 내 풀이는 강의의 도움 없이 혼자 푼다. (DFS) <br>\n",
    "틀린 풀이에 대해서는 각 주피터노트북 별 코맨트를 닮으로써 <br>\n",
    "답 풀이를 참고할 수 있도록 한다. <br>\n",
    "물론 풀었어도, 답풀이를 볾으로써 더 완벽한 풀이를 익히도록 한다."
   ]
  },
  {
   "cell_type": "markdown",
   "metadata": {},
   "source": [
    "# 내 풀이"
   ]
  },
  {
   "cell_type": "markdown",
   "metadata": {},
   "source": [
    "마지막 day-1 부분이 결과를 보고, 인위적인것 같아 살짝 아쉽다.."
   ]
  },
  {
   "cell_type": "code",
   "execution_count": 6,
   "metadata": {},
   "outputs": [],
   "source": [
    "m,n=6,4\n",
    "box=[\n",
    "    [0, 0, -1, 0, 0, 0],\n",
    "    [0, 0, 1, 0, -1, 0],\n",
    "    [0, 0, -1, 0, 0, 0],\n",
    "    [0, 0, 0, 0, -1, 1]\n",
    "]"
   ]
  },
  {
   "cell_type": "code",
   "execution_count": 7,
   "metadata": {},
   "outputs": [],
   "source": [
    "dx=[-1,0,1,0]\n",
    "dy=[0,1,0,-1]"
   ]
  },
  {
   "cell_type": "code",
   "execution_count": 8,
   "metadata": {},
   "outputs": [],
   "source": [
    "from collections import deque\n",
    "dq=deque()\n",
    "day=0"
   ]
  },
  {
   "cell_type": "code",
   "execution_count": 9,
   "metadata": {},
   "outputs": [],
   "source": [
    "for i in range(m):\n",
    "    for j in range(n):\n",
    "        if box[j][i]==1:\n",
    "            dq.append((i,j))\n",
    "            \n",
    "# start point가 여러개인 경우, while을 이렇게 빼줘야함.            \n",
    "while dq: \n",
    "    st=len(dq)\n",
    "    day+=1\n",
    "    for _ in range(st):\n",
    "        cx,cy=dq.popleft()\n",
    "        for x,y in zip(dx,dy):\n",
    "            xx=cx+x\n",
    "            yy=cy+y\n",
    "            if 0<=xx<m and 0<=yy<n:\n",
    "                if box[yy][xx]==0:\n",
    "                    box[yy][xx]=1\n",
    "                    dq.append((xx,yy))                "
   ]
  },
  {
   "cell_type": "code",
   "execution_count": 10,
   "metadata": {},
   "outputs": [
    {
     "name": "stdout",
     "output_type": "stream",
     "text": [
      "4\n"
     ]
    }
   ],
   "source": [
    "if any(box[i][j]==0 for i in range(n) for j in range(m)):\n",
    "    print(-1)\n",
    "elif all(box[i][j]==1 for i in range(n) for j in range(m)):\n",
    "    print(0)\n",
    "else:\n",
    "    print(day-1)"
   ]
  },
  {
   "cell_type": "markdown",
   "metadata": {},
   "source": [
    "# 답 풀이"
   ]
  },
  {
   "cell_type": "markdown",
   "metadata": {},
   "source": [
    "채점코드를 위해서, 아래와 같이 구성\n",
    "```\n",
    "import sys\n",
    "sys.stdin=open(\"input.txt\",'rt') # 경로 잡고, 파일 엵음. rt= read a file as text\n",
    "```\n",
    "\n",
    "실행할때는, sys.stdin=open('input.txt','rt)를 주석처리 하고 실행시키면 된다."
   ]
  },
  {
   "cell_type": "code",
   "execution_count": null,
   "metadata": {},
   "outputs": [],
   "source": [
    "import sys\n",
    "sys.stdin=open(\"input.txt\",'rt') # 경로 잡고, 파일 엵음. read a file as text\n",
    "from collections import deque\n",
    "\n",
    "dx=[-1, 0, 1, 0]\n",
    "dy=[0, 1, 0, -1]\n",
    "n, m=map(int, input().split())\n",
    "board=[list(map(int, input().split())) for _ in range(m)]\n",
    "Q=deque()\n",
    "dis=[[0]*n for _ in range(m)] # 여기다가 걸리는 날짜 저장할꺼임. \n",
    "for i in range(m):\n",
    "    for j in range(n):\n",
    "        if board[i][j]==1:\n",
    "            Q.append((i, j))\n",
    "while Q:\n",
    "    x, y=Q.popleft()\n",
    "    for i in range(4):\n",
    "        nx=x+dx[i]\n",
    "        ny=y+dy[i]\n",
    "        if 0<=nx<m and 0<=ny<n and board[nx][ny]==0:\n",
    "            board[nx][ny]=1\n",
    "            dis[nx][ny]=dis[x][y]+1\n",
    "            Q.append((nx, ny))\n",
    "flag=1\n",
    "for i in range(m):\n",
    "    for j in range(n):\n",
    "        if board[i][j]==0:\n",
    "            flag=0\n",
    "result=0\n",
    "if flag==1:\n",
    "    for i in range(m):\n",
    "        for j in range(n):\n",
    "            if dis[i][j]>result:\n",
    "                result=dis[i][j]\n",
    "    print(result)\n",
    "else:\n",
    "    print(-1)\n"
   ]
  }
 ],
 "metadata": {
  "kernelspec": {
   "display_name": "Python 3",
   "language": "python",
   "name": "python3"
  },
  "language_info": {
   "codemirror_mode": {
    "name": "ipython",
    "version": 3
   },
   "file_extension": ".py",
   "mimetype": "text/x-python",
   "name": "python",
   "nbconvert_exporter": "python",
   "pygments_lexer": "ipython3",
   "version": "3.8.5"
  }
 },
 "nbformat": 4,
 "nbformat_minor": 2
}
