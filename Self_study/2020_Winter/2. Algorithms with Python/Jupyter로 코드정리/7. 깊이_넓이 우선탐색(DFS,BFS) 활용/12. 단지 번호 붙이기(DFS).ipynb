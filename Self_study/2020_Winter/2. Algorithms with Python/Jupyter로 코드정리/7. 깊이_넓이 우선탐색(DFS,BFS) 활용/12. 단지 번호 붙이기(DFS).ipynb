{
 "cells": [
  {
   "cell_type": "markdown",
   "metadata": {},
   "source": [
    "#### 7단원부터는, 내 풀이는 강의의 도움 없이 혼자 푼다. (DFS) <br>\n",
    "틀린 풀이에 대해서는 각 주피터노트북 별 코맨트를 닮으로써 <br>\n",
    "답 풀이를 참고할 수 있도록 한다. <br>\n",
    "물론 풀었어도, 답풀이를 볾으로써 더 완벽한 풀이를 익히도록 한다."
   ]
  },
  {
   "cell_type": "markdown",
   "metadata": {},
   "source": [
    "#### DFS: 접근방법을 듣고, 다시 도전함. <br>\n",
    "그럼에도 불구하고, 못풀었다. <br>\n",
    "DFS는 종료조건을 선언 안해줘도 됨. 기본적으로 list와 재귀함수의 사용이 DFS임.\n",
    "\n"
   ]
  },
  {
   "cell_type": "markdown",
   "metadata": {},
   "source": [
    "#### BFS:  확실히 방법을 알아서 그런지, 쉽게 풀었다."
   ]
  },
  {
   "cell_type": "markdown",
   "metadata": {},
   "source": [
    "# 내 풀이"
   ]
  },
  {
   "cell_type": "markdown",
   "metadata": {},
   "source": [
    "### 1) DFS"
   ]
  },
  {
   "cell_type": "code",
   "execution_count": null,
   "metadata": {},
   "outputs": [],
   "source": [
    "n=7\n",
    "mapp=[\n",
    "    [0,1,1,0,1,0,0],\n",
    "    [0,1,1,0,1,0,1],\n",
    "    [1,1,1,0,1,0,1],\n",
    "    [0,0,0,0,1,1,1],\n",
    "    [0,1,0,0,0,0,0],\n",
    "    [0,1,1,1,1,1,0],\n",
    "    [0,1,1,1,0,0,0]\n",
    "]"
   ]
  },
  {
   "cell_type": "code",
   "execution_count": null,
   "metadata": {},
   "outputs": [],
   "source": [
    "dx=[-1,0,1,0]\n",
    "dy=[0,1,0,-1]\n",
    "cplx=[]"
   ]
  },
  {
   "cell_type": "code",
   "execution_count": null,
   "metadata": {},
   "outputs": [],
   "source": [
    "def DFS(x,y):\n",
    "    global cnt\n",
    "    if : # 종료조건을 어떻게 할지 몰랐는데, 안할수도 있었던거임.\n",
    "        \n",
    "    else:\n",
    "        for row in range(n): # 또한, 여기를 이렇게 복잡하게 짤 필요도 없음.\n",
    "            for col in range(n):\n",
    "                if mapp[row][col] == 1:\n",
    "                    for i,j in zip(dx,dy):\n",
    "                        xx=x+i\n",
    "                        yy=y+j\n",
    "                        if 0<=xx<=(n-1) and 0<=yy<=(n-1):\n",
    "                            if mapp[xx][yy]==1:\n",
    "                                mapp[xx][yy]=0\n",
    "                                cnt+=1\n",
    "                                DFS(xx,yy)\n"
   ]
  },
  {
   "cell_type": "code",
   "execution_count": null,
   "metadata": {},
   "outputs": [],
   "source": [
    "print(cplx)\n",
    "print(len(cplx))"
   ]
  },
  {
   "cell_type": "markdown",
   "metadata": {},
   "source": [
    "### 2) BFS"
   ]
  },
  {
   "cell_type": "code",
   "execution_count": 19,
   "metadata": {},
   "outputs": [],
   "source": [
    "n=7\n",
    "mapp=[\n",
    "    [0,1,1,0,1,0,0],\n",
    "    [0,1,1,0,1,0,1],\n",
    "    [1,1,1,0,1,0,1],\n",
    "    [0,0,0,0,1,1,1],\n",
    "    [0,1,0,0,0,0,0],\n",
    "    [0,1,1,1,1,1,0],\n",
    "    [0,1,1,1,0,0,0]\n",
    "]"
   ]
  },
  {
   "cell_type": "code",
   "execution_count": 20,
   "metadata": {},
   "outputs": [],
   "source": [
    "from collections import deque"
   ]
  },
  {
   "cell_type": "code",
   "execution_count": 21,
   "metadata": {},
   "outputs": [],
   "source": [
    "dx=[-1,0,1,0]\n",
    "dy=[0,1,0,-1]\n",
    "cplx=[]"
   ]
  },
  {
   "cell_type": "code",
   "execution_count": 22,
   "metadata": {},
   "outputs": [],
   "source": [
    "dq=deque()"
   ]
  },
  {
   "cell_type": "code",
   "execution_count": 23,
   "metadata": {},
   "outputs": [],
   "source": [
    "for i in range(n):\n",
    "    for j in range(n):\n",
    "        if mapp[i][j]==1:\n",
    "            mapp[i][j]=0\n",
    "            cnt=1\n",
    "            dq.append((i,j))\n",
    "            while dq: # 와 훨씬 직관적이네\n",
    "                now=dq.popleft()\n",
    "                for x,y in zip(dx,dy):\n",
    "                    xx=now[0]+x\n",
    "                    yy=now[1]+y\n",
    "                    if 0<=xx<n and 0<=yy<n and mapp[xx][yy]==1:\n",
    "                        mapp[xx][yy]=0\n",
    "                        dq.append((xx,yy))\n",
    "                        cnt+=1\n",
    "            cplx.append(cnt)"
   ]
  },
  {
   "cell_type": "code",
   "execution_count": 24,
   "metadata": {},
   "outputs": [
    {
     "name": "stdout",
     "output_type": "stream",
     "text": [
      "3\n",
      "7\n",
      "8\n",
      "9\n"
     ]
    }
   ],
   "source": [
    "cplx.sort()\n",
    "print(len(cplx))\n",
    "for i in cplx:\n",
    "    print(i)"
   ]
  },
  {
   "cell_type": "markdown",
   "metadata": {},
   "source": [
    "# 답 풀이"
   ]
  },
  {
   "cell_type": "markdown",
   "metadata": {},
   "source": [
    "채점코드를 위해서, 아래와 같이 구성\n",
    "```\n",
    "import sys\n",
    "sys.stdin=open(\"input.txt\",'rt') # 경로 잡고, 파일 엵음. rt= read a file as text\n",
    "```\n",
    "\n",
    "실행할때는, sys.stdin=open('input.txt','rt)를 주석처리 하고 실행시키면 된다."
   ]
  },
  {
   "cell_type": "markdown",
   "metadata": {},
   "source": [
    "### 1) DFS"
   ]
  },
  {
   "cell_type": "code",
   "execution_count": null,
   "metadata": {},
   "outputs": [],
   "source": [
    "import sys\n",
    "sys.stdin=open(\"input.txt\",'rt') # 경로 잡고, 파일 엵음. read a file as text\n",
    "\n",
    "dx=[-1, 0, 1, 0]\n",
    "dy=[0, 1, 0, -1]\n",
    "\n",
    "def DFS(x,y):\n",
    "    global cnt\n",
    "    cnt+=1\n",
    "    board[x][y]=0 # 방들어오면, 그 공간은 0으로\n",
    "    for i in range(4):\n",
    "        xx=x+dx[i]\n",
    "        yy=y+dy[i]\n",
    "        if 0<=xx<n and 0<=yy<n and board[xx][yy]==1:\n",
    "            DFS(xx,yy)\n",
    "\n",
    "\n",
    "if __name__==\"__main__\":\n",
    "    n=int(input())\n",
    "    board=[list(map(int,input())) for _ in range(n)]\n",
    "    res=[]\n",
    "    for i in range(n):\n",
    "        for j in range(n):\n",
    "            if board[i][j]==1:\n",
    "                cnt=0 # 단지가 나타날때마다 초기화\n",
    "                DFS(i,j) # 1 하나 발견하면, DFS시작. (관련된거 다 잡아먹음)\n",
    "                res.append(cnt)\n",
    "res.sort()\n",
    "print(len(res))\n",
    "for i in res:\n",
    "    print(i)\n",
    "\n"
   ]
  },
  {
   "cell_type": "markdown",
   "metadata": {},
   "source": [
    "### 2) BFS"
   ]
  },
  {
   "cell_type": "code",
   "execution_count": null,
   "metadata": {},
   "outputs": [],
   "source": [
    "import sys\n",
    "from collections import deque\n",
    "sys.stdin=open(\"input.txt\", \"r\")\n",
    "dx=[-1, 0, 1, 0]\n",
    "dy=[0, 1, 0, -1]\n",
    "n=int(input())\n",
    "board=[list(map(int, input())) for _ in range(n)]\n",
    "cnt=0\n",
    "res=[]\n",
    "Q=deque()\n",
    "for i in range(n):\n",
    "    for j in range(n):\n",
    "        if board[i][j]==1:\n",
    "            board[i][j]=0\n",
    "            Q.append((i, j))\n",
    "            cnt=1\n",
    "            while Q:\n",
    "                tmp=Q.popleft()\n",
    "                for k in range(4):\n",
    "                    x=tmp[0]+dx[k]\n",
    "                    y=tmp[1]+dy[k]\n",
    "                    if x<0 or x>=n or y<0 or y>=n or board[x][y]==0:\n",
    "                        continue\n",
    "                    board[x][y]=0\n",
    "                    Q.append((x, y))\n",
    "                    cnt+=1\n",
    "            res.append(cnt)\n",
    "\n",
    "print(len(res))\n",
    "res.sort()\n",
    "for x in res:\n",
    "    print(x)"
   ]
  }
 ],
 "metadata": {
  "kernelspec": {
   "display_name": "Python 3",
   "language": "python",
   "name": "python3"
  },
  "language_info": {
   "codemirror_mode": {
    "name": "ipython",
    "version": 3
   },
   "file_extension": ".py",
   "mimetype": "text/x-python",
   "name": "python",
   "nbconvert_exporter": "python",
   "pygments_lexer": "ipython3",
   "version": "3.8.5"
  }
 },
 "nbformat": 4,
 "nbformat_minor": 2
}
