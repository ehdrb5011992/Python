{
 "cells": [
  {
   "cell_type": "markdown",
   "metadata": {},
   "source": [
    "#### 7단원부터는, 내 풀이는 강의의 도움 없이 혼자 푼다. (DFS) <br>\n",
    "틀린 풀이에 대해서는 각 주피터노트북 별 코맨트를 닮으로써 <br>\n",
    "답 풀이를 참고할 수 있도록 한다. <br>\n",
    "물론 풀었어도, 답풀이를 볾으로써 더 완벽한 풀이를 익히도록 한다."
   ]
  },
  {
   "cell_type": "markdown",
   "metadata": {},
   "source": [
    "case별로 나눠서 DFS를 탐색할수 있음도 명심하기"
   ]
  },
  {
   "cell_type": "markdown",
   "metadata": {},
   "source": [
    "DFS문제다 싶으면, 코드손대는거 금물. 상태트리부터 그려보기"
   ]
  },
  {
   "cell_type": "markdown",
   "metadata": {},
   "source": [
    "### 내풀이, 답풀이 둘다 봐보기\n"
   ]
  },
  {
   "cell_type": "markdown",
   "metadata": {},
   "source": [
    "# 내 풀이"
   ]
  },
  {
   "cell_type": "code",
   "execution_count": 11,
   "metadata": {},
   "outputs": [],
   "source": [
    "n=7\n",
    "x=[8,9,11,12,23,15,17]"
   ]
  },
  {
   "cell_type": "code",
   "execution_count": 12,
   "metadata": {},
   "outputs": [],
   "source": [
    "res=21470000000"
   ]
  },
  {
   "cell_type": "code",
   "execution_count": 13,
   "metadata": {},
   "outputs": [],
   "source": [
    "def DFS(L,sa,sb,sc):\n",
    "    global res\n",
    "    \n",
    "    if L==n:\n",
    "        if sa==sb or sa==sc:\n",
    "            return\n",
    "        elif sb==sc:\n",
    "            return\n",
    "        \n",
    "        lar=max(sa,sb,sc)\n",
    "        sm=min(sa,sb,sc)\n",
    "        tmp=lar-sm\n",
    "        if res>tmp:\n",
    "            res=tmp\n",
    "    else:\n",
    "        DFS(L+1,sa+x[L],sb,sc)\n",
    "        DFS(L+1,sa,sb+x[L],sc)\n",
    "        DFS(L+1,sa,sb,sc+x[L])"
   ]
  },
  {
   "cell_type": "code",
   "execution_count": 14,
   "metadata": {},
   "outputs": [
    {
     "name": "stdout",
     "output_type": "stream",
     "text": [
      "5\n"
     ]
    }
   ],
   "source": [
    "DFS(0,0,0,0)\n",
    "print(res)"
   ]
  },
  {
   "cell_type": "markdown",
   "metadata": {},
   "source": [
    "# 답 풀이"
   ]
  },
  {
   "cell_type": "markdown",
   "metadata": {},
   "source": [
    "채점코드를 위해서, 아래와 같이 구성\n",
    "```\n",
    "import sys\n",
    "sys.stdin=open(\"input.txt\",'rt') # 경로 잡고, 파일 엵음. rt= read a file as text\n",
    "```\n",
    "\n",
    "실행할때는, sys.stdin=open('input.txt','rt)를 주석처리 하고 실행시키면 된다."
   ]
  },
  {
   "cell_type": "code",
   "execution_count": null,
   "metadata": {},
   "outputs": [],
   "source": [
    "import sys\n",
    "#sys.stdin=open(\"input.txt\",'rt') # 경로 잡고, 파일 엵음. read a file as text\n",
    "\n",
    "def DFS(L):\n",
    "    global res\n",
    "    if L==n:\n",
    "        cha=max(money)-min(money)\n",
    "        if cha < res:\n",
    "\n",
    "            # 아래 if문에 종속되는 문장을 잘 보자.\n",
    "            tmp = set()\n",
    "            for x in money:\n",
    "                tmp.add(x) # 중복허락하지 않음.\n",
    "            if len(tmp)==3:\n",
    "                res=cha # 위에 해당할때만~ res=cha로 허락.\n",
    "\n",
    "        \n",
    "    else:\n",
    "        for i in range(3):\n",
    "            money[i]+=coin[L]\n",
    "            DFS(L+1)\n",
    "            money[i]-=coin[L] # 코인 취소해줘야함. back의 상황\n",
    "\n",
    "if __name__=='__main__':\n",
    "    n=int(input())\n",
    "    coin=[]\n",
    "    money=[0]*3\n",
    "    res=2147000000\n",
    "    for _ in range(n):\n",
    "        coin.append(int(input()))\n",
    "    DFS(0)\n",
    "    print(res)\n"
   ]
  }
 ],
 "metadata": {
  "kernelspec": {
   "display_name": "Python 3",
   "language": "python",
   "name": "python3"
  },
  "language_info": {
   "codemirror_mode": {
    "name": "ipython",
    "version": 3
   },
   "file_extension": ".py",
   "mimetype": "text/x-python",
   "name": "python",
   "nbconvert_exporter": "python",
   "pygments_lexer": "ipython3",
   "version": "3.8.5"
  }
 },
 "nbformat": 4,
 "nbformat_minor": 2
}
