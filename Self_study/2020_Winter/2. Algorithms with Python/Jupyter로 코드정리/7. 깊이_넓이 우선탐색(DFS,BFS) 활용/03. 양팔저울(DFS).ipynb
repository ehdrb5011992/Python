{
 "cells": [
  {
   "cell_type": "markdown",
   "metadata": {},
   "source": [
    "#### 7단원부터는, 내 풀이는 강의의 도움 없이 혼자 푼다. (DFS) <br>\n",
    "틀린 풀이에 대해서는 각 주피터노트북 별 코맨트를 닮으로써 <br>\n",
    "답 풀이를 참고할 수 있도록 한다. <br>\n",
    "물론 풀었어도, 답풀이를 볾으로써 더 완벽한 풀이를 익히도록 한다."
   ]
  },
  {
   "cell_type": "markdown",
   "metadata": {},
   "source": [
    "이 문제는, 왼, 오, 사용x <br>\n",
    "세갈래로 나누어 문제를 해결한다. <br>\n",
    "이때, case로 나누는 개념은 for문을 돌리는게 아니라, DFS를 여러번 써야함. <br>\n",
    "for문을 돌리는 경우는, 서로 갈래간의 연관이 있는 경우(ex. 순열)"
   ]
  },
  {
   "cell_type": "markdown",
   "metadata": {},
   "source": [
    "### 내 풀이는 5개 case중 마지막 case에 대해 시간초과가 발생함."
   ]
  },
  {
   "cell_type": "markdown",
   "metadata": {},
   "source": [
    "# 내 풀이"
   ]
  },
  {
   "cell_type": "code",
   "execution_count": 1,
   "metadata": {},
   "outputs": [],
   "source": [
    "k=3\n",
    "x=[1,5,7]\n",
    "res=[]"
   ]
  },
  {
   "cell_type": "code",
   "execution_count": 2,
   "metadata": {},
   "outputs": [],
   "source": [
    "def DFS(L,le,ri):\n",
    "    \n",
    "    plate=le-ri\n",
    "    if plate > 0 and plate not in res:\n",
    "        res.append(plate)\n",
    "    \n",
    "    if L==k:\n",
    "        return\n",
    "    else:\n",
    "        DFS(L+1,le+x[L],ri)\n",
    "        DFS(L+1,le,ri+x[L])\n",
    "        DFS(L+1,le,ri)\n",
    "        "
   ]
  },
  {
   "cell_type": "code",
   "execution_count": 3,
   "metadata": {},
   "outputs": [],
   "source": [
    "DFS(0,0,0)"
   ]
  },
  {
   "cell_type": "code",
   "execution_count": 7,
   "metadata": {},
   "outputs": [
    {
     "data": {
      "text/plain": [
       "11"
      ]
     },
     "execution_count": 7,
     "metadata": {},
     "output_type": "execute_result"
    }
   ],
   "source": [
    "len(sorted(res))"
   ]
  },
  {
   "cell_type": "markdown",
   "metadata": {},
   "source": [
    "# 답 풀이"
   ]
  },
  {
   "cell_type": "markdown",
   "metadata": {},
   "source": [
    "채점코드를 위해서, 아래와 같이 구성\n",
    "```\n",
    "import sys\n",
    "sys.stdin=open(\"input.txt\",'rt') # 경로 잡고, 파일 엵음. rt= read a file as text\n",
    "```\n",
    "\n",
    "실행할때는, sys.stdin=open('input.txt','rt)를 주석처리 하고 실행시키면 된다."
   ]
  },
  {
   "cell_type": "code",
   "execution_count": null,
   "metadata": {},
   "outputs": [],
   "source": [
    "import sys\n",
    "#sys.stdin=open(\"input.txt\",'rt') # 경로 잡고, 파일 엵음. read a file as text\n",
    "\n",
    "def DFS(L,sum):\n",
    "    global res\n",
    "    if L==n:\n",
    "        if 0<sum<=s: # 음수는 대칭이기 때문에, 안봐도 상관없음. 0은 쓸모없음.\n",
    "            res.add(sum) \n",
    "    else:\n",
    "        DFS(L+1,sum+G[L]) # 왼쪽에 놓는다.\n",
    "        DFS(L+1,sum-G[L]) # 오른쪽에 놓는다.\n",
    "        DFS(L+1,sum) # 사용하지 않는다.\n",
    "        \n",
    "\n",
    "if __name__=='__main__':\n",
    "    n=int(input())\n",
    "    G=list(map(int,input().split()))\n",
    "    s=sum(G)\n",
    "    res=set() # 중복제거 목적으로 set자료구조 사용\n",
    "    \n",
    "    DFS(0,0)\n",
    "    print(s-len(res))\n",
    "\n"
   ]
  }
 ],
 "metadata": {
  "kernelspec": {
   "display_name": "Python 3",
   "language": "python",
   "name": "python3"
  },
  "language_info": {
   "codemirror_mode": {
    "name": "ipython",
    "version": 3
   },
   "file_extension": ".py",
   "mimetype": "text/x-python",
   "name": "python",
   "nbconvert_exporter": "python",
   "pygments_lexer": "ipython3",
   "version": "3.8.5"
  }
 },
 "nbformat": 4,
 "nbformat_minor": 2
}
