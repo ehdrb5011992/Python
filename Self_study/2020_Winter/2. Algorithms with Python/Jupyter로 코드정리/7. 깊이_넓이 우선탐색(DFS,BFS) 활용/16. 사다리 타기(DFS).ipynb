{
 "cells": [
  {
   "cell_type": "markdown",
   "metadata": {},
   "source": [
    "#### 7단원부터는, 내 풀이는 강의의 도움 없이 혼자 푼다. (DFS) <br>\n",
    "틀린 풀이에 대해서는 각 주피터노트북 별 코맨트를 닮으로써 <br>\n",
    "답 풀이를 참고할 수 있도록 한다. <br>\n",
    "물론 풀었어도, 답풀이를 볾으로써 더 완벽한 풀이를 익히도록 한다."
   ]
  },
  {
   "cell_type": "markdown",
   "metadata": {},
   "source": [
    "### 주의!"
   ]
  },
  {
   "cell_type": "markdown",
   "metadata": {},
   "source": [
    "굉장히 주의할것. <br>\n",
    "아래로 내려가는건, 남쪽으로 -1이지만 index는 증가하는거임!!! <br>\n",
    "\n",
    "    서 남 동 북\n",
    "    dx=[-1,0,1,0]\n",
    "    dy=[0,1,0,-1]\n",
    "\n",
    "잊지 말자"
   ]
  },
  {
   "cell_type": "markdown",
   "metadata": {},
   "source": [
    "### 이 문제는 거꾸로 푸는게 효율적이다. \n",
    "### 첫 입력 탐색을 2로 들어가주면 됨."
   ]
  },
  {
   "cell_type": "markdown",
   "metadata": {},
   "source": [
    "정답 solution을 꼭 보기... 너무 쉽게푼다.."
   ]
  },
  {
   "cell_type": "markdown",
   "metadata": {},
   "source": [
    "# 내 풀이"
   ]
  },
  {
   "cell_type": "code",
   "execution_count": 1,
   "metadata": {},
   "outputs": [],
   "source": [
    "ladder=[\n",
    "    [1, 0, 1, 0, 0, 1, 0, 1, 0, 1],\n",
    "    [1, 0, 1, 1, 1, 1, 0, 1, 0, 1],\n",
    "    [1, 0, 1, 0, 0, 1, 0, 1, 0, 1],\n",
    "    [1, 0, 1, 0, 0, 1, 0, 1, 1, 1],\n",
    "    [1, 0, 1, 0, 0, 1, 0, 1, 0, 1],\n",
    "    [1, 0, 1, 1, 1, 1, 0, 1, 0, 1],\n",
    "    [1, 0, 1, 0, 0, 1, 0, 1, 1, 1],\n",
    "    [1, 1, 1, 0, 0, 1, 0, 1, 0, 1],\n",
    "    [1, 0, 1, 0, 0, 1, 1, 1, 0, 1],\n",
    "    [1, 0, 1, 0, 0, 2, 0, 1, 0, 1]\n",
    "]"
   ]
  },
  {
   "cell_type": "code",
   "execution_count": 2,
   "metadata": {},
   "outputs": [],
   "source": [
    "n=10"
   ]
  },
  {
   "cell_type": "code",
   "execution_count": 3,
   "metadata": {},
   "outputs": [],
   "source": [
    "# 서 남 동 북 <-------- 다시한번 주의\n",
    "dx=[-1,0,1,0]\n",
    "dy=[0,1,0,-1]"
   ]
  },
  {
   "cell_type": "code",
   "execution_count": 4,
   "metadata": {},
   "outputs": [],
   "source": [
    "def DFS(x,y):\n",
    "    global res\n",
    "    if y==n-1:\n",
    "        if ladder[y][x]==2:\n",
    "            res=True\n",
    "        else:\n",
    "            res=False\n",
    "            return\n",
    "    else:\n",
    "        lx,ly=x+dx[0],y+dy[0] # 서\n",
    "        dox,doy=x+dx[1],y+dy[1] # 남\n",
    "        rx,ry=x+dx[2],y+dy[2] # 동\n",
    "        \n",
    "\n",
    "        if 0<=lx<n and ladder[ly][lx]==1 and ch[ly][lx]==1:\n",
    "            ch[ly][lx]=0\n",
    "            DFS(lx,ly)\n",
    "        elif 0<=rx<n and ladder[ry][rx]==1 and ch[ry][rx]==1:\n",
    "            ch[ry][rx]=0\n",
    "            DFS(rx,ry)\n",
    "        elif ladder[doy][dox]!=0 and ch[doy][dox]==1:\n",
    "            ch[doy][dox]=0\n",
    "            DFS(dox,doy)\n",
    "        "
   ]
  },
  {
   "cell_type": "code",
   "execution_count": 5,
   "metadata": {},
   "outputs": [
    {
     "name": "stdout",
     "output_type": "stream",
     "text": [
      "7\n"
     ]
    }
   ],
   "source": [
    "for st_ind in range(n):\n",
    "    ch=[[1]*n for _ in range(n)]\n",
    "    ch[0]=[0]*n\n",
    "    if ladder[0][st_ind]==1:\n",
    "        DFS(st_ind,0)\n",
    "        if res:\n",
    "            print(st_ind)"
   ]
  },
  {
   "cell_type": "markdown",
   "metadata": {},
   "source": [
    "# 답 풀이"
   ]
  },
  {
   "cell_type": "markdown",
   "metadata": {},
   "source": [
    "채점코드를 위해서, 아래와 같이 구성\n",
    "```\n",
    "import sys\n",
    "sys.stdin=open(\"input.txt\",'rt') # 경로 잡고, 파일 엵음. rt= read a file as text\n",
    "```\n",
    "\n",
    "실행할때는, sys.stdin=open('input.txt','rt)를 주석처리 하고 실행시키면 된다."
   ]
  },
  {
   "cell_type": "code",
   "execution_count": null,
   "metadata": {},
   "outputs": [],
   "source": [
    "import sys\n",
    "#sys.stdin=open(\"input.txt\",'rt') # 경로 잡고, 파일 엵음. read a file as text\n",
    "\n",
    "def DFS(x,y):\n",
    "    ch[x][y]=1 # 체크는 무조건 함.\n",
    "    if x==0:\n",
    "        print(y) # 열번호 그대로 출력\n",
    "    else:\n",
    "        if y-1 >=0 and board[x][y-1]==1and ch[x][y-1]==0:\n",
    "            DFS(x,y-1) #왼쪽 이동\n",
    "        elif y+1 < 10 and board[x][y+1]==1 and ch[x][y+1]==0:\n",
    "            DFS(x,y+1) # 오른쪽 이동\n",
    "        else:\n",
    "            DFS(x-1,y) # 행번호만 감소.\n",
    "\n",
    "\n",
    "\n",
    "\n",
    "if __name__=='__main__':\n",
    "    board=[list(map(int,input().split())) for _ in range(10)]\n",
    "    ch=[[0] * 10 for _ in range(10)]\n",
    "    for y in range(10): \n",
    "        if board[9][y]==2: # 거꾸로볼꺼임.\n",
    "            DFS(9,y)\n"
   ]
  }
 ],
 "metadata": {
  "kernelspec": {
   "display_name": "Python 3",
   "language": "python",
   "name": "python3"
  },
  "language_info": {
   "codemirror_mode": {
    "name": "ipython",
    "version": 3
   },
   "file_extension": ".py",
   "mimetype": "text/x-python",
   "name": "python",
   "nbconvert_exporter": "python",
   "pygments_lexer": "ipython3",
   "version": "3.8.5"
  }
 },
 "nbformat": 4,
 "nbformat_minor": 2
}
