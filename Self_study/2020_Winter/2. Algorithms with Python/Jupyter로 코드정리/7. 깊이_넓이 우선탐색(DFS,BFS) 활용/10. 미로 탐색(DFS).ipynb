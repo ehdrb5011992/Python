{
 "cells": [
  {
   "cell_type": "markdown",
   "metadata": {},
   "source": [
    "#### 7단원부터는, 내 풀이는 강의의 도움 없이 혼자 푼다. (DFS) <br>\n",
    "틀린 풀이에 대해서는 각 주피터노트북 별 코맨트를 닮으로써 <br>\n",
    "답 풀이를 참고할 수 있도록 한다. <br>\n",
    "물론 풀었어도, 답풀이를 볾으로써 더 완벽한 풀이를 익히도록 한다."
   ]
  },
  {
   "cell_type": "markdown",
   "metadata": {},
   "source": [
    "이번엔 미로의 최단거리가 아닌, 방법의 수를 찾는 문제이다. <br>\n",
    "DFS- 경우의 수 (완전탐색) <br>\n",
    "BFS- 최단거리 (서서히 탐색하는 방법 - 물의 파문이 점차 넓어지듯)"
   ]
  },
  {
   "cell_type": "markdown",
   "metadata": {},
   "source": [
    "### DFS는 느낌온다"
   ]
  },
  {
   "cell_type": "markdown",
   "metadata": {},
   "source": [
    "# 내 풀이"
   ]
  },
  {
   "cell_type": "code",
   "execution_count": 1,
   "metadata": {},
   "outputs": [],
   "source": [
    "board=[\n",
    "    [0, 0, 0, 0, 0, 0, 0],\n",
    "    [0, 1, 1, 1, 1, 1, 0],\n",
    "    [0, 0, 0, 1, 0, 0, 0],\n",
    "    [1, 1, 0, 1, 0, 1, 1],\n",
    "    [1, 1, 0, 0, 0, 0, 1],\n",
    "    [1, 1, 0, 1, 1, 0, 0],\n",
    "    [1, 0, 0, 0, 0, 0, 0],\n",
    "]"
   ]
  },
  {
   "cell_type": "code",
   "execution_count": 2,
   "metadata": {},
   "outputs": [],
   "source": [
    "dx=[-1,0,1,0]\n",
    "dy=[0,1,0,-1]\n",
    "n=7\n",
    "cnt=0\n",
    "board[0][0]=1 # 초기화"
   ]
  },
  {
   "cell_type": "code",
   "execution_count": 3,
   "metadata": {},
   "outputs": [],
   "source": [
    "res=[]"
   ]
  },
  {
   "cell_type": "code",
   "execution_count": 4,
   "metadata": {},
   "outputs": [],
   "source": [
    "def DFS(x,y):\n",
    "    global cnt\n",
    "    if (x,y)==(6,6):\n",
    "        cnt+=1\n",
    "    else:\n",
    "        for i,j in zip(dx,dy):\n",
    "            next_x = x+i\n",
    "            next_y = y+j\n",
    "            if 0<=next_x <= (n-1) and 0<=next_y<=(n-1):\n",
    "                if board[next_x][next_y]==0:\n",
    "                    board[next_x][next_y]=1\n",
    "                    DFS(next_x,next_y)\n",
    "                    board[next_x][next_y]=0"
   ]
  },
  {
   "cell_type": "code",
   "execution_count": 5,
   "metadata": {},
   "outputs": [
    {
     "name": "stdout",
     "output_type": "stream",
     "text": [
      "8\n"
     ]
    }
   ],
   "source": [
    "DFS(0,0)\n",
    "print(cnt)"
   ]
  },
  {
   "cell_type": "markdown",
   "metadata": {},
   "source": [
    "# 답 풀이"
   ]
  },
  {
   "cell_type": "markdown",
   "metadata": {},
   "source": [
    "채점코드를 위해서, 아래와 같이 구성\n",
    "```\n",
    "import sys\n",
    "sys.stdin=open(\"input.txt\",'rt') # 경로 잡고, 파일 엵음. rt= read a file as text\n",
    "```\n",
    "\n",
    "실행할때는, sys.stdin=open('input.txt','rt)를 주석처리 하고 실행시키면 된다."
   ]
  },
  {
   "cell_type": "code",
   "execution_count": null,
   "metadata": {},
   "outputs": [],
   "source": [
    "import sys\n",
    "#sys.stdin=open(\"input.txt\",'rt') # 경로 잡고, 파일 엵음. read a file as text\n",
    "\n",
    "dx=[-1,0,1,0]\n",
    "dy=[0,1,0,-1]\n",
    "def DFS(x,y):\n",
    "    global cnt\n",
    "    if x==6 and y==6:\n",
    "        cnt+=1\n",
    "    else:\n",
    "        for i in range(4):\n",
    "            xx=x+dx[i]\n",
    "            yy=y+dy[i]\n",
    "            if 0<=xx<=6 and 0<=yy<=6 and board[xx][yy]==0:\n",
    "                board[xx][yy]=1\n",
    "                DFS(xx,yy)\n",
    "                board[xx][yy]=0\n",
    "\n",
    "\n",
    "\n",
    "if __name__==\"__main__\":\n",
    "    board=[list(map(int,input().split())) for _ in range(7)]\n",
    "    cnt=0\n",
    "    board[0][0]=1\n",
    "    DFS(0,0)\n",
    "    print(cnt)\n"
   ]
  }
 ],
 "metadata": {
  "kernelspec": {
   "display_name": "Python 3",
   "language": "python",
   "name": "python3"
  },
  "language_info": {
   "codemirror_mode": {
    "name": "ipython",
    "version": 3
   },
   "file_extension": ".py",
   "mimetype": "text/x-python",
   "name": "python",
   "nbconvert_exporter": "python",
   "pygments_lexer": "ipython3",
   "version": "3.8.5"
  }
 },
 "nbformat": 4,
 "nbformat_minor": 2
}
