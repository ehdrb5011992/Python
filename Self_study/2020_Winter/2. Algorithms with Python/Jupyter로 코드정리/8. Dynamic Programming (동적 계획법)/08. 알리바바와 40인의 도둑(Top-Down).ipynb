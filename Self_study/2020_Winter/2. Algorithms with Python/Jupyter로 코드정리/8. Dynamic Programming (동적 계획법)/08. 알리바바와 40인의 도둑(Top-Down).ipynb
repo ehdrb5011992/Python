{
 "cells": [
  {
   "cell_type": "markdown",
   "metadata": {},
   "source": [
    "Top-down도 잘 풀었다."
   ]
  },
  {
   "cell_type": "markdown",
   "metadata": {},
   "source": [
    "한가지 팁을 보자면, 메모이제이션을 통한 외워도 될정도의 코드 아래의 if문과, <br>\n",
    "\n",
    "    if dp[y][x]>0: # 이거 그냥 외워버려도 될 정도로 자주씀.\n",
    "        return dp[y][x]\n",
    "\n",
    "각 if마다 무수히 많은 return으로 반환한다는것. <br>\n",
    "그리고나서 print 꼭 잊지말기"
   ]
  },
  {
   "cell_type": "markdown",
   "metadata": {},
   "source": [
    "x와 y는 다음문제부터 통일하기. x는 세로, y는 가로 <br>\n",
    "햇갈리니, i,j로 해도 괜찮음."
   ]
  },
  {
   "cell_type": "markdown",
   "metadata": {},
   "source": [
    "# 내 풀이"
   ]
  },
  {
   "cell_type": "code",
   "execution_count": 1,
   "metadata": {},
   "outputs": [],
   "source": [
    "n=3\n",
    "arr=[\n",
    "    [3,3,5],\n",
    "    [2,3,4],\n",
    "    [6,5,2]\n",
    "      ]"
   ]
  },
  {
   "cell_type": "code",
   "execution_count": 2,
   "metadata": {},
   "outputs": [],
   "source": [
    "dp=[[0]*n for _ in range(n)]"
   ]
  },
  {
   "cell_type": "code",
   "execution_count": 3,
   "metadata": {},
   "outputs": [],
   "source": [
    "def DFS(y,x):\n",
    "    if dp[y][x]>0: # 이거 그냥 외워버려도 될 정도로 자주씀.\n",
    "        return dp[y][x]\n",
    "    \n",
    "    if x==0 and y==0:\n",
    "        dp[y][x]=arr[y][x]\n",
    "        return dp[y][x]\n",
    "    elif x==0 :\n",
    "        dp[y][x]=DFS(y-1,x)+arr[y][x]\n",
    "        return dp[y][x]\n",
    "    elif y==0 :\n",
    "        dp[y][x]=DFS(y,x-1)+arr[y][x]\n",
    "        return dp[y][x]\n",
    "    else:\n",
    "        dp[y][x]=min(DFS(y,x-1),DFS(y-1,x)) + arr[y][x]\n",
    "        return dp[y][x]"
   ]
  },
  {
   "cell_type": "code",
   "execution_count": 4,
   "metadata": {},
   "outputs": [
    {
     "name": "stdout",
     "output_type": "stream",
     "text": [
      "14\n"
     ]
    }
   ],
   "source": [
    "print(DFS(n-1,n-1))"
   ]
  },
  {
   "cell_type": "markdown",
   "metadata": {},
   "source": [
    "# 답 풀이"
   ]
  },
  {
   "cell_type": "markdown",
   "metadata": {},
   "source": [
    "채점코드를 위해서, 아래와 같이 구성\n",
    "```\n",
    "import sys\n",
    "sys.stdin=open(\"input.txt\",'rt') # 경로 잡고, 파일 엵음. rt= read a file as text\n",
    "```\n",
    "\n",
    "실행할때는, sys.stdin=open('input.txt','rt)를 주석처리 하고 실행시키면 된다."
   ]
  },
  {
   "cell_type": "markdown",
   "metadata": {},
   "source": [
    "### 1) 메모이제이션을 사용안하면, 시간초과가 난다."
   ]
  },
  {
   "cell_type": "code",
   "execution_count": null,
   "metadata": {},
   "outputs": [],
   "source": [
    "import sys\n",
    "#sys.stdin=open(\"input.txt\",'rt') # 경로 잡고, 파일 엵음. read a file as text\n",
    "\n",
    "\n",
    "def DFS(x,y):\n",
    "\n",
    "    if x==0 and y==0:\n",
    "        return arr[0][0]\n",
    "    else:\n",
    "        if y==0:\n",
    "            return DFS(x-1,y)+arr[x][y]\n",
    "        elif x==0:\n",
    "            return DFS(x,y-1)+arr[x][y]\n",
    "        else:\n",
    "            return min(DFS(x-1,y),DFS(x,y-1))+arr[x][y]\n",
    "    \n",
    "\n",
    "if __name__=='__main__':\n",
    "    n=int(input())\n",
    "    arr=[list(map(int,input().split())) for _ in range(n)]\n",
    "    print(DFS(n-1,n-1))\n"
   ]
  },
  {
   "cell_type": "markdown",
   "metadata": {},
   "source": [
    "### 2) 따라서, dy변수를 이용하여 메모이제이션 시행"
   ]
  },
  {
   "cell_type": "code",
   "execution_count": null,
   "metadata": {},
   "outputs": [],
   "source": [
    "import sys\n",
    "#sys.stdin=open(\"input.txt\",'rt') # 경로 잡고, 파일 엵음. read a file as text\n",
    "\n",
    "\n",
    "def DFS(x,y):\n",
    "\n",
    "    if dy[x][y]>0:\n",
    "        return dy[x][y]\n",
    "\n",
    "    if x==0 and y==0:\n",
    "        return arr[0][0]\n",
    "    else:\n",
    "        if y==0:\n",
    "            dy[x][y]=DFS(x-1,y)+arr[x][y]\n",
    "            return dy[x][y]\n",
    "        elif x==0:\n",
    "            dy[x][y] = DFS(x,y-1)+arr[x][y]\n",
    "            return dy[x][y]\n",
    "        else:\n",
    "            dy[x][y]= min(DFS(x-1,y),DFS(x,y-1))+arr[x][y]\n",
    "            return dy[x][y]\n",
    "    \n",
    "\n",
    "if __name__=='__main__':\n",
    "    n=int(input())\n",
    "    arr=[list(map(int,input().split())) for _ in range(n)]\n",
    "    dy=[[0]*n for _ in range(n)]\n",
    "    print(DFS(n-1,n-1))\n"
   ]
  }
 ],
 "metadata": {
  "kernelspec": {
   "display_name": "Python 3",
   "language": "python",
   "name": "python3"
  },
  "language_info": {
   "codemirror_mode": {
    "name": "ipython",
    "version": 3
   },
   "file_extension": ".py",
   "mimetype": "text/x-python",
   "name": "python",
   "nbconvert_exporter": "python",
   "pygments_lexer": "ipython3",
   "version": "3.8.5"
  }
 },
 "nbformat": 4,
 "nbformat_minor": 2
}
