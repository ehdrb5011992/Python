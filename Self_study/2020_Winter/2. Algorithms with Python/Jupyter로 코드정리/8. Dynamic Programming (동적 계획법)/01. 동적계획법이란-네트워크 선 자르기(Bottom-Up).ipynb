{
 "cells": [
  {
   "cell_type": "markdown",
   "metadata": {},
   "source": [
    "### 동적계획법에 대해 설명을 먼저 듣고 문제를 풀었다.\n",
    "### 동적계획에 대해 알아보자"
   ]
  },
  {
   "cell_type": "markdown",
   "metadata": {},
   "source": [
    "어떤 큰 하나의 문제가 주어졌을때, 이 문제를 한번에 풀기는 불가능하다고 가정하자."
   ]
  },
  {
   "cell_type": "markdown",
   "metadata": {},
   "source": [
    "그러면, 이걸 작은단위로 바꿔서 생각하고 이 작은단위의 문제를 해결한다. <br>\n",
    "그리고 이를 기초로 조금씩 확장시켜서 문제를 해결한다. <br>\n",
    "\n",
    "이 꼴은 마치 점화식과 똑같다. ex) f(n) = 2xf(n-1) <br>\n",
    "그리고 이를 Bottom up적 동적계획법이라고 말한다."
   ]
  },
  {
   "cell_type": "markdown",
   "metadata": {},
   "source": [
    "### 직관적으로 알 수 있는건 동적계획법의 초기값으로 미리 설정하고 들어간다. (마치 수열의 초기항)"
   ]
  },
  {
   "cell_type": "markdown",
   "metadata": {},
   "source": [
    "이 문제는, 피보나치수열임을 알 수 있다. (내가 미리 식을 세워야함)"
   ]
  },
  {
   "cell_type": "markdown",
   "metadata": {},
   "source": [
    "8짜리 길이가 있을때, 1짜리와 2짜리의 선으로 쪼갤수 있는 방법의 수는, <br>\n",
    "1만큼 자르고 7짜리 길이를 자르는 방법의 수와 <br>\n",
    "2만큼 자르고 6짜리 길이를 자르는 방법의 수를 더해주면 해결된다. <br>\n",
    "(4짜리를 자를때, 2 1 1과 1 1 2는 서로 다름을 허용하므로, 이러한 접근은 타당함)\n"
   ]
  },
  {
   "cell_type": "markdown",
   "metadata": {},
   "source": [
    "# 내 풀이"
   ]
  },
  {
   "cell_type": "code",
   "execution_count": 2,
   "metadata": {},
   "outputs": [],
   "source": [
    "n=7"
   ]
  },
  {
   "cell_type": "code",
   "execution_count": 3,
   "metadata": {},
   "outputs": [
    {
     "name": "stdout",
     "output_type": "stream",
     "text": [
      "21\n"
     ]
    }
   ],
   "source": [
    "dy=[0]*(n+1)\n",
    "dy[1]=1\n",
    "dy[2]=2\n",
    "for i in range(3,n+1):\n",
    "    dy[i]=dy[i-1]+dy[i-2]\n",
    "print(dy[n])"
   ]
  },
  {
   "cell_type": "markdown",
   "metadata": {},
   "source": [
    "# 답 풀이"
   ]
  },
  {
   "cell_type": "markdown",
   "metadata": {},
   "source": [
    "채점코드를 위해서, 아래와 같이 구성\n",
    "```\n",
    "import sys\n",
    "sys.stdin=open(\"input.txt\",'rt') # 경로 잡고, 파일 엵음. rt= read a file as text\n",
    "```\n",
    "\n",
    "실행할때는, sys.stdin=open('input.txt','rt)를 주석처리 하고 실행시키면 된다."
   ]
  },
  {
   "cell_type": "code",
   "execution_count": null,
   "metadata": {},
   "outputs": [],
   "source": [
    "import sys\n",
    "#sys.stdin=open(\"input.txt\",'rt') # 경로 잡고, 파일 엵음. read a file as text\n",
    "\n",
    "n=int(input())\n",
    "dy=[0]*(n+1)\n",
    "dy[1]=1\n",
    "dy[2]=2\n",
    "for i in range(3,n+1):\n",
    "    dy[i]=dy[i-1]+dy[i-2]\n",
    "\n",
    "print(dy[n])\n"
   ]
  }
 ],
 "metadata": {
  "kernelspec": {
   "display_name": "Python 3",
   "language": "python",
   "name": "python3"
  },
  "language_info": {
   "codemirror_mode": {
    "name": "ipython",
    "version": 3
   },
   "file_extension": ".py",
   "mimetype": "text/x-python",
   "name": "python",
   "nbconvert_exporter": "python",
   "pygments_lexer": "ipython3",
   "version": "3.8.5"
  }
 },
 "nbformat": 4,
 "nbformat_minor": 2
}
