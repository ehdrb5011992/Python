{
 "cells": [
  {
   "cell_type": "markdown",
   "metadata": {},
   "source": [
    "한개씩 처리해서 소모될때도, 냅색알고리즘으로 처리가능. <br>\n",
    "앞에서와 살짝 다르다."
   ]
  },
  {
   "cell_type": "markdown",
   "metadata": {},
   "source": [
    "### 굉장히 중요하다. 꼭 숙지하기"
   ]
  },
  {
   "cell_type": "markdown",
   "metadata": {},
   "source": [
    "### 일반적으로, 2차원 테이블로 동적계획법 구상을 해야한다. \n",
    "\n",
    "(문제를 중복해서 풀 수 있는것이 아닌, 한문제만 풀어야 하기 때문)"
   ]
  },
  {
   "cell_type": "markdown",
   "metadata": {},
   "source": [
    "2차원 테이블로 초기화 함으로써, 동적계획법의 참조해야하는 값이 계속 바뀐다."
   ]
  },
  {
   "cell_type": "markdown",
   "metadata": {},
   "source": [
    "그러나, 실전으로 진행할때는 메모리의 개수를 많이 잡아먹기 때문에 <br>\n",
    "공간복잡도가 크고, 이에따라 시간복잡도도 증가한다.\n",
    "### 이에 1차원으로 해결하는 방법을 익혀야 한다."
   ]
  },
  {
   "cell_type": "markdown",
   "metadata": {},
   "source": [
    "### 1차원으로 해결하는 방법은, 뒤 인덱스(-1번째)부터 점수들을 추가해주면서 살펴본다"
   ]
  },
  {
   "cell_type": "markdown",
   "metadata": {},
   "source": [
    "이는, range범위를 뒤에서부터 탐색하는것으로 해결되며, 이부분만 다르고 나머지는 다 같다"
   ]
  },
  {
   "cell_type": "markdown",
   "metadata": {},
   "source": [
    "조금만생각해보면 당연하다. <br>\n",
    "앞에서부터 탐색하는 누적은(동적계획법), 내가 앞에서부터 차례로 변화시키며, 이 부분을 누적 적용하겠다는 뜻이며,"
   ]
  },
  {
   "cell_type": "markdown",
   "metadata": {},
   "source": [
    "뒤에서부터 탐색하는 누적은, 앞부분이 변화 되어있지 않기 때문에, 앞에서부터 누적을 한다면 마치 한번만 적용되는 것처럼 누적된다."
   ]
  },
  {
   "cell_type": "markdown",
   "metadata": {},
   "source": [
    "# 내 풀이"
   ]
  },
  {
   "cell_type": "code",
   "execution_count": 19,
   "metadata": {},
   "outputs": [],
   "source": [
    "n,m=5,20\n",
    "quest=[\n",
    "    [10, 5],\n",
    "    [25, 12],\n",
    "    [15, 8],\n",
    "    [6, 3],\n",
    "    [7, 4]\n",
    "]"
   ]
  },
  {
   "cell_type": "code",
   "execution_count": 20,
   "metadata": {},
   "outputs": [],
   "source": [
    "dp=[0]*(m+1)"
   ]
  },
  {
   "cell_type": "code",
   "execution_count": 13,
   "metadata": {},
   "outputs": [],
   "source": [
    "for score,time in quest:\n",
    "    for j in range(time,m+1): # 차이점을 잘 봐라 (여기만 다름.)\n",
    "        dp[j]=max(dp[j],dp[j-time]+score)"
   ]
  },
  {
   "cell_type": "code",
   "execution_count": 14,
   "metadata": {},
   "outputs": [
    {
     "data": {
      "text/plain": [
       "[0, 0, 0, 6, 7, 10, 12, 13, 16, 18, 20, 22, 25, 26, 28, 31, 32, 35, 37, 38, 41]"
      ]
     },
     "execution_count": 14,
     "metadata": {},
     "output_type": "execute_result"
    }
   ],
   "source": [
    "dp"
   ]
  },
  {
   "cell_type": "code",
   "execution_count": 21,
   "metadata": {},
   "outputs": [],
   "source": [
    "for score,time in quest:\n",
    "    for j in range(m,time-1,-1): # 차이점을 잘 봐라. (여기만 다름.)\n",
    "        dp[j]=max(dp[j],dp[j-time]+score)"
   ]
  },
  {
   "cell_type": "code",
   "execution_count": 22,
   "metadata": {},
   "outputs": [
    {
     "data": {
      "text/plain": [
       "[0, 0, 0, 6, 7, 10, 10, 13, 16, 17, 17, 21, 25, 25, 25, 31, 32, 35, 35, 38, 41]"
      ]
     },
     "execution_count": 22,
     "metadata": {},
     "output_type": "execute_result"
    }
   ],
   "source": [
    "dp"
   ]
  },
  {
   "cell_type": "markdown",
   "metadata": {},
   "source": [
    "# 답 풀이"
   ]
  },
  {
   "cell_type": "markdown",
   "metadata": {},
   "source": [
    "채점코드를 위해서, 아래와 같이 구성\n",
    "```\n",
    "import sys\n",
    "sys.stdin=open(\"input.txt\",'rt') # 경로 잡고, 파일 엵음. rt= read a file as text\n",
    "```\n",
    "\n",
    "실행할때는, sys.stdin=open('input.txt','rt)를 주석처리 하고 실행시키면 된다."
   ]
  },
  {
   "cell_type": "code",
   "execution_count": null,
   "metadata": {},
   "outputs": [],
   "source": [
    "import sys\n",
    "#sys.stdin=open(\"input.txt\",'rt') # 경로 잡고, 파일 엵음. read a file as text\n",
    "\n",
    "\n",
    "if __name__=='__main__':\n",
    "    n,m=map(int,input().split())\n",
    "    dy=[0]*(m+1)\n",
    "    for i in range(n):\n",
    "        ps,pt=map(int,input().split()) # pv = problem value , pt=problem time\n",
    "        for j in range(m, pt-1, -1): # 이게 중요함!! 뒤에서부터 채워넣어야함.\n",
    "            dy[j]=max(dy[j],dy[j-pt]+ps) # pt문제를 푼다고 가정했을 때의 문제값\n",
    "    print(dy[m])\n"
   ]
  }
 ],
 "metadata": {
  "kernelspec": {
   "display_name": "Python 3",
   "language": "python",
   "name": "python3"
  },
  "language_info": {
   "codemirror_mode": {
    "name": "ipython",
    "version": 3
   },
   "file_extension": ".py",
   "mimetype": "text/x-python",
   "name": "python",
   "nbconvert_exporter": "python",
   "pygments_lexer": "ipython3",
   "version": "3.8.5"
  }
 },
 "nbformat": 4,
 "nbformat_minor": 2
}
