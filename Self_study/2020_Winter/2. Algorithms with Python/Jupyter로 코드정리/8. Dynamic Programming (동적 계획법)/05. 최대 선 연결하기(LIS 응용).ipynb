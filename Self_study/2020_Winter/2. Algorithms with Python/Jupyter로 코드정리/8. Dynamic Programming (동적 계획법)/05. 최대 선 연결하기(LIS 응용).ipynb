{
 "cells": [
  {
   "cell_type": "markdown",
   "metadata": {},
   "source": [
    "4장이랑 똑같아서, 쉽게 구현하였다. (복습한다는 느낌으로.)<br>\n",
    "dp문제는 dp로 풀어야겠다고 인지하는게 중요한것 같다.  <br>"
   ]
  },
  {
   "cell_type": "markdown",
   "metadata": {},
   "source": [
    "### 응용문제로 ,<br>\n",
    "선을 모두 그어놓고, 최소 몇개선을 제거하면 교차하지 않겠는가? <br>\n",
    "-> LIS"
   ]
  },
  {
   "cell_type": "markdown",
   "metadata": {},
   "source": [
    "강에 다리를 놓으려고 하는데, 최대로 놓을 수 있는 다리의 개수는 몇개인가? <br>\n",
    "이 문제 또한 LIS임. 다리는 교차할 수 없기 때문."
   ]
  },
  {
   "cell_type": "markdown",
   "metadata": {},
   "source": [
    "### 답풀이는, 똑같기 때문에 생략한다."
   ]
  },
  {
   "cell_type": "markdown",
   "metadata": {},
   "source": [
    "# 내 풀이"
   ]
  },
  {
   "cell_type": "code",
   "execution_count": 1,
   "metadata": {},
   "outputs": [],
   "source": [
    "n=10\n",
    "num=[4,1,2,3,9,7,5,6,10,8]"
   ]
  },
  {
   "cell_type": "code",
   "execution_count": 2,
   "metadata": {},
   "outputs": [],
   "source": [
    "num.insert(0,0)"
   ]
  },
  {
   "cell_type": "code",
   "execution_count": 3,
   "metadata": {},
   "outputs": [],
   "source": [
    "dp=[0]*(n+1)\n",
    "dp[1]=1 # 들어가는 수는, 선이 연결되는 개수.\n",
    "res=-2147000000"
   ]
  },
  {
   "cell_type": "code",
   "execution_count": 4,
   "metadata": {},
   "outputs": [],
   "source": [
    "for i in range(2,n+1):\n",
    "    tmp=0\n",
    "    for j in range(1,i):\n",
    "        if num[j]<num[i] and dp[j]>tmp:\n",
    "            tmp=dp[j]\n",
    "    dp[i]=tmp+1\n",
    "\n",
    "    if dp[i]>res:\n",
    "        res=dp[i]       "
   ]
  },
  {
   "cell_type": "code",
   "execution_count": 5,
   "metadata": {},
   "outputs": [
    {
     "name": "stdout",
     "output_type": "stream",
     "text": [
      "6\n"
     ]
    }
   ],
   "source": [
    "print(res)"
   ]
  },
  {
   "cell_type": "markdown",
   "metadata": {},
   "source": [
    "# 답 풀이"
   ]
  },
  {
   "cell_type": "markdown",
   "metadata": {},
   "source": [
    "채점코드를 위해서, 아래와 같이 구성\n",
    "```\n",
    "import sys\n",
    "sys.stdin=open(\"input.txt\",'rt') # 경로 잡고, 파일 엵음. rt= read a file as text\n",
    "```\n",
    "\n",
    "실행할때는, sys.stdin=open('input.txt','rt)를 주석처리 하고 실행시키면 된다."
   ]
  }
 ],
 "metadata": {
  "kernelspec": {
   "display_name": "Python 3",
   "language": "python",
   "name": "python3"
  },
  "language_info": {
   "codemirror_mode": {
    "name": "ipython",
    "version": 3
   },
   "file_extension": ".py",
   "mimetype": "text/x-python",
   "name": "python",
   "nbconvert_exporter": "python",
   "pygments_lexer": "ipython3",
   "version": "3.8.5"
  }
 },
 "nbformat": 4,
 "nbformat_minor": 2
}
