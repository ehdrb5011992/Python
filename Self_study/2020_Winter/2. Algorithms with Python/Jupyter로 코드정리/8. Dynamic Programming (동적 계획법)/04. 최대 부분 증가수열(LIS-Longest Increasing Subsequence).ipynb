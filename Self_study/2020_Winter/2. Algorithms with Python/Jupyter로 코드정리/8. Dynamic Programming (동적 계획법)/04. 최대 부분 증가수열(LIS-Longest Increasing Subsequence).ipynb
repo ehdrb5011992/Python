{
 "cells": [
  {
   "cell_type": "markdown",
   "metadata": {},
   "source": [
    "문제 해설: <br>\n",
    "각 숫자가 마지막항인 증가수열을 구성해서 저장하면서 나아간다. <br>\n",
    "예를들어 8의 경우,<br>\n",
    "\n",
    "    3 7 8 \n",
    "    5 7 8\n",
    "    3 8\n",
    "    5 8\n",
    "로 구성할 수 있다. <br>\n",
    "그리고 이 4개값은 3, 5, 7이 마지막인 경우를 8 앞에 더한것에 불과하다. <br>\n",
    "그리고, dy라는 변수에 [0]xn+1 로 초기화 한 후, 각 인덱스를 끝값으로 하는 숫자에 대해<br>\n",
    "최대길이를 저장해준다."
   ]
  },
  {
   "cell_type": "markdown",
   "metadata": {},
   "source": [
    "### 원소를 뽑아서 나열하는 문제이니, DFS로 도전해보았다. <br>\n",
    "### 그러나 뽑고나서도, 역시 각 원소가 다음번째 원소보다 작아야 하는 소규모 문제로 부딪힌다.<br>\n",
    "이러한 문제해결을 위해, 동적계획법이 필요하다!!!! <br>\n",
    "(DFS로 문제를 풀었지만, 성공과 동시에 타임리밋이 뜬다.)"
   ]
  },
  {
   "cell_type": "markdown",
   "metadata": {},
   "source": [
    "# 내 풀이"
   ]
  },
  {
   "cell_type": "markdown",
   "metadata": {},
   "source": [
    "### 1) DFS로 풀어보았다."
   ]
  },
  {
   "cell_type": "code",
   "execution_count": null,
   "metadata": {},
   "outputs": [],
   "source": [
    "n=8\n",
    "arr=[5,3,7,8,6,2,9,4]"
   ]
  },
  {
   "cell_type": "code",
   "execution_count": null,
   "metadata": {},
   "outputs": [],
   "source": [
    "s_arr=[]\n",
    "res=-2147000000"
   ]
  },
  {
   "cell_type": "code",
   "execution_count": null,
   "metadata": {},
   "outputs": [],
   "source": [
    "def DFS(L):\n",
    "    global res     \n",
    "    \n",
    "    if L==n:\n",
    "        if s_arr==[]:\n",
    "            return\n",
    "        if all(s_arr[i] <= s_arr[j] for i in range(len(s_arr)) for j in range(i+1,len(s_arr))):\n",
    "            for j in s_arr:\n",
    "                print(j,end=' ')\n",
    "            print()\n",
    "            if len(s_arr) > res:\n",
    "                res = len(s_arr)\n",
    "\n",
    "    else:\n",
    "        s_arr.append(arr[L])\n",
    "        DFS(L+1)\n",
    "        s_arr.pop()\n",
    "        DFS(L+1)"
   ]
  },
  {
   "cell_type": "code",
   "execution_count": null,
   "metadata": {
    "scrolled": true
   },
   "outputs": [],
   "source": [
    "DFS(0)\n",
    "print(res)"
   ]
  },
  {
   "cell_type": "markdown",
   "metadata": {},
   "source": [
    "### 2) 강의를 듣고, Bottom Up 방식으로 재구성해보았다."
   ]
  },
  {
   "cell_type": "code",
   "execution_count": 16,
   "metadata": {},
   "outputs": [],
   "source": [
    "n=8\n",
    "arr=[5,3,7,8,6,2,9,4]"
   ]
  },
  {
   "cell_type": "code",
   "execution_count": 17,
   "metadata": {},
   "outputs": [],
   "source": [
    "arr.insert(0,0) # 동적계획법은 이렇게 수열이다보니, 인덱스를 1번부터 주기위해 0번째 추가\n",
    "dp=[0]*(n+1) # 동적계획법은 이렇게 수열이다보니, 인덱스를 1번부터 주는게 직관적.\n",
    "dp[1]=1\n",
    "res=-2147000000"
   ]
  },
  {
   "cell_type": "code",
   "execution_count": 18,
   "metadata": {},
   "outputs": [
    {
     "name": "stdout",
     "output_type": "stream",
     "text": [
      "4\n"
     ]
    }
   ],
   "source": [
    "for i in range(2,n+1):\n",
    "    max=-2147000000\n",
    "    for j in range(1,i):\n",
    "        if arr[j]<arr[i] and dp[j] > max:\n",
    "            max=dp[j]\n",
    "    dp[i]=max+1\n",
    "    if dp[i]>res:\n",
    "        res=dp[i]\n",
    "print(res)"
   ]
  },
  {
   "cell_type": "markdown",
   "metadata": {},
   "source": [
    "# 답 풀이"
   ]
  },
  {
   "cell_type": "markdown",
   "metadata": {},
   "source": [
    "채점코드를 위해서, 아래와 같이 구성\n",
    "```\n",
    "import sys\n",
    "sys.stdin=open(\"input.txt\",'rt') # 경로 잡고, 파일 엵음. rt= read a file as text\n",
    "```\n",
    "\n",
    "실행할때는, sys.stdin=open('input.txt','rt)를 주석처리 하고 실행시키면 된다."
   ]
  },
  {
   "cell_type": "code",
   "execution_count": null,
   "metadata": {},
   "outputs": [],
   "source": [
    "import sys\n",
    "#sys.stdin=open(\"input.txt\",'rt') # 경로 잡고, 파일 엵음. read a file as text\n",
    "\n",
    "\n",
    "n=int(input())\n",
    "arr=list(map(int,input().split()))\n",
    "arr.insert(0,0) # 리스트의 1번 인덱스부터 시작하게 하려고 하나 미룸.\n",
    "dy=[0]*(n+1)\n",
    "dy[1]=1 # 직관적으로 알수 있어서 초기화\n",
    "res=0\n",
    "\n",
    "for i in range(2,n+1):\n",
    "    max=0\n",
    "    for j in range(i-1,0,-1):\n",
    "        if arr[j] < arr[i] and dy[j] > max:\n",
    "            max=dy[j]\n",
    "    dy[i]=max+1\n",
    "    if dy[i]>res:\n",
    "        res=dy[i]\n",
    "print(res)\n",
    "\n",
    "\n",
    "\n"
   ]
  }
 ],
 "metadata": {
  "kernelspec": {
   "display_name": "Python 3",
   "language": "python",
   "name": "python3"
  },
  "language_info": {
   "codemirror_mode": {
    "name": "ipython",
    "version": 3
   },
   "file_extension": ".py",
   "mimetype": "text/x-python",
   "name": "python",
   "nbconvert_exporter": "python",
   "pygments_lexer": "ipython3",
   "version": "3.8.5"
  }
 },
 "nbformat": 4,
 "nbformat_minor": 2
}
