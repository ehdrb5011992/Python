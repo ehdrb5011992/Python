{
 "cells": [
  {
   "cell_type": "markdown",
   "metadata": {},
   "source": [
    "# 내 풀이"
   ]
  },
  {
   "cell_type": "code",
   "execution_count": 16,
   "metadata": {},
   "outputs": [],
   "source": [
    "n=5\n",
    "arr=[\n",
    "    [1, 2],\n",
    "    [2, 3],\n",
    "    [3, 4],\n",
    "    [4, 5],\n",
    "    [2, 4],\n",
    "    [5, 3],\n",
    "    [-1, -1]\n",
    "]\n"
   ]
  },
  {
   "cell_type": "code",
   "execution_count": 17,
   "metadata": {},
   "outputs": [],
   "source": [
    "graph= [[1000]*(n+1) for _ in range(n+1)]\n",
    "for i in range(n+1):\n",
    "    graph[i][i]=0\n",
    "for i in range(len(arr)):\n",
    "    graph[arr[i][0]][arr[i][1]]=1\n",
    "    graph[arr[i][1]][arr[i][0]]=1"
   ]
  },
  {
   "cell_type": "code",
   "execution_count": 19,
   "metadata": {},
   "outputs": [],
   "source": [
    "for k in range(n+1):\n",
    "    for i in range(n+1):\n",
    "        for j in range(n+1):\n",
    "            graph[i][j]=min(graph[i][j],graph[i][k]+graph[k][j])"
   ]
  },
  {
   "cell_type": "code",
   "execution_count": 24,
   "metadata": {},
   "outputs": [],
   "source": [
    "res=[]\n",
    "for i in range(1,n+1):\n",
    "    res.append(max(graph[i][1:n+1]))"
   ]
  },
  {
   "cell_type": "code",
   "execution_count": 26,
   "metadata": {},
   "outputs": [],
   "source": [
    "mini=min(res)\n",
    "ans=[]\n",
    "for ind,val in enumerate(res,1):\n",
    "    if val==mini:\n",
    "        ans.append(ind)"
   ]
  },
  {
   "cell_type": "code",
   "execution_count": 31,
   "metadata": {},
   "outputs": [
    {
     "name": "stdout",
     "output_type": "stream",
     "text": [
      "2 3\n",
      "2 3 4 "
     ]
    }
   ],
   "source": [
    "print(mini,len(ans))\n",
    "for i in ans:\n",
    "    print(i, end=' ')"
   ]
  },
  {
   "cell_type": "markdown",
   "metadata": {},
   "source": [
    "# 답 풀이"
   ]
  },
  {
   "cell_type": "markdown",
   "metadata": {},
   "source": [
    "채점코드를 위해서, 아래와 같이 구성\n",
    "```\n",
    "import sys\n",
    "sys.stdin=open(\"input.txt\",'rt') # 경로 잡고, 파일 엵음. rt= read a file as text\n",
    "```\n",
    "\n",
    "실행할때는, sys.stdin=open('input.txt','rt)를 주석처리 하고 실행시키면 된다."
   ]
  },
  {
   "cell_type": "code",
   "execution_count": null,
   "metadata": {},
   "outputs": [],
   "source": [
    "import sys\n",
    "#sys.stdin = open(\"input.txt\", 'r')    \n",
    "if __name__==\"__main__\":\n",
    "    n=int(input())\n",
    "    dis=[[100]*(n+1) for _ in range(n+1)]\n",
    "    for i in range(1, n+1):\n",
    "        dis[i][i]=0\n",
    "    while True:\n",
    "        a, b=map(int, input().split())\n",
    "        if a==-1 and b==-1:\n",
    "            break\n",
    "        dis[a][b]=1 # 무방향 그래프라 이렇게 입력받음.\n",
    "        dis[b][a]=1\n",
    "\n",
    "    for k in range(1, n+1):\n",
    "        for i in range(1, n+1):\n",
    "            for j in range(1, n+1):\n",
    "                dis[i][j]=min(dis[i][j], dis[i][k]+dis[k][j])\n",
    "\n",
    "    res=[0]*(n+1)\n",
    "    score=100 # 최소값을 찾음. (회장후보를 얻기위해)\n",
    "    for i in range(1, n+1):\n",
    "        for j in range(1, n+1):\n",
    "            res[i]=max(res[i], dis[i][j]) # res는 각 회원들의 점수.\n",
    "        score=min(score, res[i])\n",
    "    out=[]\n",
    "    for i in range(1, n+1):\n",
    "        if res[i]==score:\n",
    "            out.append(i)\n",
    "    print(\"%d %d\" %(score, len(out)))\n",
    "    for x in out:\n",
    "        print(x, end=' ')"
   ]
  }
 ],
 "metadata": {
  "kernelspec": {
   "display_name": "Python 3",
   "language": "python",
   "name": "python3"
  },
  "language_info": {
   "codemirror_mode": {
    "name": "ipython",
    "version": 3
   },
   "file_extension": ".py",
   "mimetype": "text/x-python",
   "name": "python",
   "nbconvert_exporter": "python",
   "pygments_lexer": "ipython3",
   "version": "3.8.5"
  }
 },
 "nbformat": 4,
 "nbformat_minor": 2
}
