{
 "cells": [
  {
   "cell_type": "markdown",
   "metadata": {},
   "source": [
    "열심히 풀었는데... 5개중 1개맞춤. <br>\n",
    "문제 이해를 잘못했다. 나는 2가지 조건에 대해 모두 만족하는 LIS인줄을 알았음. <br>\n",
    "(즉, 벽돌이 주어진 순서대로 무조건적으로 들어는줄)"
   ]
  },
  {
   "cell_type": "markdown",
   "metadata": {},
   "source": [
    "### 위의 상태대로라면, 아래의 내풀이 코드대로 구현을 잘 했다.\n"
   ]
  },
  {
   "cell_type": "markdown",
   "metadata": {},
   "source": [
    "DP류 문제를 접근할때는, 무엇을 수열로 잡을지를 잘 살펴봐야함. <br>\n",
    "이 경우 문제접근 방법은, 각 인덱스위치에 해당하는 (넓이,무게) 앞에, <br> \n",
    "올 수 있는 타워를 구하면서, 그렇게 구한 타워들은 이후에 누적된다는 개념으로 접근한다. <br>\n",
    "\n",
    "이를 dp변수에 최대높이로 저장해준다."
   ]
  },
  {
   "cell_type": "markdown",
   "metadata": {},
   "source": [
    "더불어 LIS라고 해서 처음부터 순서가 고정되어있으리라 생각하지 말것. <br>\n",
    "이번 문제같은 경우, 2가지의 변수(넓이와 무게)에 대해 하나를 고정시켜서 내림차순<br>\n",
    "정렬 해주면, 한개의 정렬 순 문제로 바뀌게 된다. 그리고 비로소 LIS문제로 바뀜"
   ]
  },
  {
   "cell_type": "markdown",
   "metadata": {},
   "source": [
    "### 아래의 내풀이는 보지말고, 정답풀이를 보기"
   ]
  },
  {
   "cell_type": "markdown",
   "metadata": {},
   "source": [
    "# 내 풀이"
   ]
  },
  {
   "cell_type": "code",
   "execution_count": 38,
   "metadata": {},
   "outputs": [],
   "source": [
    "n=5 # 개수\n",
    "# 넓이, 무게, 높이\n",
    "area=[25,4,9,16,1] # 아래에 있을수록 넓이와 무게는 크게\n",
    "weit=[4,6,3,5,2]   \n",
    "heit=[3,4,2,2,5]   # 그때의 높이 다더하기"
   ]
  },
  {
   "cell_type": "code",
   "execution_count": 39,
   "metadata": {},
   "outputs": [],
   "source": [
    "area.insert(0,0) # 0으로 초기화 하는건 index맞추기위함 + if문에서 같이 걸러지기위함.\n",
    "weit.insert(0,0)\n",
    "heit.insert(0,0)\n",
    "\n",
    "dp=[0]*(n+1) # dp에다가는 각 인덱스에 주어진 벽돌이 가장 위에있을 때 최대높이를 저장\n",
    "dp[1]=heit[1] # (25,4) 앞에 올수 있는 건 없으므로, 자기자신 높이를 할당."
   ]
  },
  {
   "cell_type": "code",
   "execution_count": 40,
   "metadata": {},
   "outputs": [],
   "source": [
    "for i in range(2,n+1):\n",
    "    tmp=0\n",
    "    for j in range(1,i):\n",
    "        if area[j]>area[i] and weit[j]>weit[i]  :\n",
    "            cur=heit[i]+dp[j]\n",
    "            if cur > tmp:\n",
    "                tmp=cur\n",
    "        dp[i]=tmp\n",
    "    else:\n",
    "        if tmp==0:\n",
    "            dp[i]=heit[i]\n"
   ]
  },
  {
   "cell_type": "code",
   "execution_count": 43,
   "metadata": {},
   "outputs": [
    {
     "data": {
      "text/plain": [
       "[3, 4, 5, 2, 10]"
      ]
     },
     "execution_count": 43,
     "metadata": {},
     "output_type": "execute_result"
    }
   ],
   "source": [
    "dp[1:]"
   ]
  },
  {
   "cell_type": "code",
   "execution_count": 42,
   "metadata": {},
   "outputs": [
    {
     "data": {
      "text/plain": [
       "10"
      ]
     },
     "execution_count": 42,
     "metadata": {},
     "output_type": "execute_result"
    }
   ],
   "source": [
    "dp[n]"
   ]
  },
  {
   "cell_type": "markdown",
   "metadata": {},
   "source": [
    "# 답 풀이"
   ]
  },
  {
   "cell_type": "markdown",
   "metadata": {},
   "source": [
    "채점코드를 위해서, 아래와 같이 구성\n",
    "```\n",
    "import sys\n",
    "sys.stdin=open(\"input.txt\",'rt') # 경로 잡고, 파일 엵음. rt= read a file as text\n",
    "```\n",
    "\n",
    "실행할때는, sys.stdin=open('input.txt','rt)를 주석처리 하고 실행시키면 된다."
   ]
  },
  {
   "cell_type": "code",
   "execution_count": null,
   "metadata": {},
   "outputs": [],
   "source": [
    "import sys\n",
    "#sys.stdin=open(\"input.txt\",'rt') # 경로 잡고, 파일 엵음. read a file as text\n",
    "\n",
    "if __name__=='__main__':\n",
    "    n=int(input())\n",
    "    bricks=[]\n",
    "    for i in range(n):\n",
    "        a,b,c=map(int,input().split())\n",
    "        bricks.append((a,b,c))\n",
    "    bricks.sort(reverse=True) # 이렇게 정렬\n",
    "    \n",
    "    dy=[0]*n\n",
    "    dy[0]=bricks[0][1]\n",
    "    res=bricks[0][1]\n",
    "    for i in range(1,n):\n",
    "        max_h=0\n",
    "        for j in range(i-1,-1,-1):\n",
    "            if bricks[j][2]>bricks[i][2] and dy[j]>max_h:\n",
    "                max_h=dy[j]\n",
    "        dy[i]=max_h+bricks[i][1]\n",
    "        res=max(res,dy[i]) # 이렇게 max쓰는 표현 잘 알아놓기. \n",
    "    print(res)\n",
    "    \n"
   ]
  }
 ],
 "metadata": {
  "kernelspec": {
   "display_name": "Python 3",
   "language": "python",
   "name": "python3"
  },
  "language_info": {
   "codemirror_mode": {
    "name": "ipython",
    "version": 3
   },
   "file_extension": ".py",
   "mimetype": "text/x-python",
   "name": "python",
   "nbconvert_exporter": "python",
   "pygments_lexer": "ipython3",
   "version": "3.8.5"
  }
 },
 "nbformat": 4,
 "nbformat_minor": 2
}
