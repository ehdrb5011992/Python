{
 "cells": [
  {
   "cell_type": "markdown",
   "metadata": {},
   "source": [
    "Top Down 방식은 재귀함수와 메모이제이션 방법을 이용해서 푼다."
   ]
  },
  {
   "cell_type": "markdown",
   "metadata": {},
   "source": [
    "DFS(7)을 7미터 짜리의 선을 1미터 혹은 2미터의 선으로 자르는 방법의 수라고 해보자. <br>\n",
    "그러면, 마지막을 1미터로 자르고 6미터 남는 선을 자르는 경우의 수 + <br>\n",
    "마지막을 2미터로 자르고 5미터 남는 선을 자르는 경우의 수 <br>\n",
    "를 두개 더하면 된다."
   ]
  },
  {
   "cell_type": "markdown",
   "metadata": {},
   "source": [
    "즉, 상태트리는 D(7) -> D(6)+D(5) -> D(5) + D(4) + D(6) -> ... 이렇게 간다."
   ]
  },
  {
   "cell_type": "markdown",
   "metadata": {},
   "source": [
    "이때, 상태트리는 중복되는 값을 갖게되며, 이 값들을 굳이 매번 구할필요는 없다. <br>\n",
    "D(코드의 dy)라는 변수를 잡고, 여기에 기록을 하면서 D(7)을 찾아나아가면 된다. <br>\n",
    "이렇게 불필요한 연산을 제거하는걸 메모이제이션이라고 한다"
   ]
  },
  {
   "cell_type": "markdown",
   "metadata": {},
   "source": [
    "bottom up이든, top down이든 결국 dy라는 초기변수가 필요하다"
   ]
  },
  {
   "cell_type": "markdown",
   "metadata": {},
   "source": [
    "# 내 풀이"
   ]
  },
  {
   "cell_type": "code",
   "execution_count": null,
   "metadata": {},
   "outputs": [],
   "source": []
  },
  {
   "cell_type": "markdown",
   "metadata": {},
   "source": [
    "# 답 풀이"
   ]
  },
  {
   "cell_type": "markdown",
   "metadata": {},
   "source": [
    "채점코드를 위해서, 아래와 같이 구성\n",
    "```\n",
    "import sys\n",
    "sys.stdin=open(\"input.txt\",'rt') # 경로 잡고, 파일 엵음. rt= read a file as text\n",
    "```\n",
    "\n",
    "실행할때는, sys.stdin=open('input.txt','rt)를 주석처리 하고 실행시키면 된다."
   ]
  },
  {
   "cell_type": "markdown",
   "metadata": {},
   "source": [
    "### 1) 가지 컷을 안함"
   ]
  },
  {
   "cell_type": "code",
   "execution_count": null,
   "metadata": {},
   "outputs": [],
   "source": [
    "import sys\n",
    "#sys.stdin=open(\"input.txt\",'rt') # 경로 잡고, 파일 엵음. read a file as text\n",
    "\n",
    "def DFS(len):\n",
    "    if len==1 or len==2:\n",
    "        return len\n",
    "    else:\n",
    "        dy[len]=DFS(len-1)+DFS(len-2)\n",
    "        return dy[len]\n",
    "\n",
    "if __name__ == '__main__':\n",
    "    n=int(input())\n",
    "    dy=[0]*(n+1)\n",
    "    print(DFS(n))\n"
   ]
  },
  {
   "cell_type": "markdown",
   "metadata": {},
   "source": [
    "### 2) 가지 컷을 함. (메모이제이션을 하기 때문에 DP가 되는거임)"
   ]
  },
  {
   "cell_type": "code",
   "execution_count": null,
   "metadata": {},
   "outputs": [],
   "source": [
    "import sys\n",
    "#sys.stdin=open(\"input.txt\",'rt') # 경로 잡고, 파일 엵음. read a file as text\n",
    "\n",
    "def DFS(len):\n",
    "    if dy[len]>0: # <----- 메모이제이션이 굉장히 중요하다. (무슨 값이 있으면 바로 리턴)\n",
    "        return dy[len] # 그냥 하게된다면, 그건 그냥 재귀일 뿐.\n",
    "    \n",
    "    if len==1 or len==2:\n",
    "        return len\n",
    "    else:\n",
    "        dy[len]=DFS(len-1)+DFS(len-2)\n",
    "        return dy[len]\n",
    "\n",
    "if __name__ == '__main__':\n",
    "    n=int(input())\n",
    "    dy=[0]*(n+1)\n",
    "    print(DFS(n))\n"
   ]
  }
 ],
 "metadata": {
  "kernelspec": {
   "display_name": "Python 3",
   "language": "python",
   "name": "python3"
  },
  "language_info": {
   "codemirror_mode": {
    "name": "ipython",
    "version": 3
   },
   "file_extension": ".py",
   "mimetype": "text/x-python",
   "name": "python",
   "nbconvert_exporter": "python",
   "pygments_lexer": "ipython3",
   "version": "3.8.5"
  }
 },
 "nbformat": 4,
 "nbformat_minor": 2
}
