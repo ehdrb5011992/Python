{
 "cells": [
  {
   "cell_type": "markdown",
   "metadata": {},
   "source": [
    "일의 선후관계를 유지하며, 전체 일의 순서를 짜는 위상정렬에 대해 알아보자."
   ]
  },
  {
   "cell_type": "markdown",
   "metadata": {},
   "source": [
    "위상정렬에서 핵심은 노드로 들어오는 진입차수(진입간선)가 중요하다. <br>\n",
    "그리고 이 진입간선에 대한 카운트 변수를 하나 생성해야한다."
   ]
  },
  {
   "cell_type": "markdown",
   "metadata": {},
   "source": [
    "이를위해 자료구조 queue가 필요하다. <br>\n",
    "그리고 카운트변수가 0인 노드부터 넣어준다. <br>\n",
    "마지막으로 도착지점을 카운트를 감소시켜주며 이어서 넣어준다."
   ]
  },
  {
   "cell_type": "markdown",
   "metadata": {},
   "source": [
    "### 이 문제의 답은 여러개라 채점폴더는 딱히 없다."
   ]
  },
  {
   "cell_type": "markdown",
   "metadata": {},
   "source": [
    "설명을 듣고 코딩을 해보았다."
   ]
  },
  {
   "cell_type": "markdown",
   "metadata": {},
   "source": [
    "# 내 풀이"
   ]
  },
  {
   "cell_type": "code",
   "execution_count": 18,
   "metadata": {},
   "outputs": [],
   "source": [
    "n,m=6,6\n",
    "info=[\n",
    "    [1, 4],\n",
    "    [5, 4],\n",
    "    [4, 3],\n",
    "    [2, 5],\n",
    "    [2, 3],\n",
    "    [6, 2]\n",
    "]"
   ]
  },
  {
   "cell_type": "code",
   "execution_count": 19,
   "metadata": {},
   "outputs": [],
   "source": [
    "from collections import deque\n",
    "dq=deque()\n",
    "graph=[[0]*(n+1) for _ in range(n+1)]\n",
    "li_cnt=[0]*(n+1)"
   ]
  },
  {
   "cell_type": "code",
   "execution_count": 20,
   "metadata": {},
   "outputs": [],
   "source": [
    "for i in range(m):\n",
    "    graph[info[i][0]][info[i][1]]=1\n",
    "    li_cnt[info[i][1]]+=1"
   ]
  },
  {
   "cell_type": "code",
   "execution_count": 21,
   "metadata": {},
   "outputs": [
    {
     "data": {
      "text/plain": [
       "[[0, 0, 0, 0, 0, 0, 0],\n",
       " [0, 0, 0, 0, 1, 0, 0],\n",
       " [0, 0, 0, 1, 0, 1, 0],\n",
       " [0, 0, 0, 0, 0, 0, 0],\n",
       " [0, 0, 0, 1, 0, 0, 0],\n",
       " [0, 0, 0, 0, 1, 0, 0],\n",
       " [0, 0, 1, 0, 0, 0, 0]]"
      ]
     },
     "execution_count": 21,
     "metadata": {},
     "output_type": "execute_result"
    }
   ],
   "source": [
    "graph"
   ]
  },
  {
   "cell_type": "code",
   "execution_count": 22,
   "metadata": {},
   "outputs": [],
   "source": [
    "for ind,val in enumerate(li_cnt[1:],1): # 너무 이상하게 초기화 함.\n",
    "                                         # 틀린건아니지만, 답처럼 간단하게 하기\n",
    "    if val==0:\n",
    "        dq.append(ind)        "
   ]
  },
  {
   "cell_type": "code",
   "execution_count": 25,
   "metadata": {},
   "outputs": [
    {
     "name": "stdout",
     "output_type": "stream",
     "text": [
      "1 6 2 5 4 3 "
     ]
    }
   ],
   "source": [
    "while dq:\n",
    "    x=dq.popleft()\n",
    "    print(x, end=' ')\n",
    "    \n",
    "    for i in range(1,n+1):\n",
    "        if graph[x][i]==1:\n",
    "            li_cnt[i]-=1\n",
    "            if li_cnt[i]==0:\n",
    "                dq.append(i)\n",
    "    "
   ]
  },
  {
   "cell_type": "markdown",
   "metadata": {},
   "source": [
    "# 답 풀이"
   ]
  },
  {
   "cell_type": "markdown",
   "metadata": {},
   "source": [
    "채점코드를 위해서, 아래와 같이 구성\n",
    "```\n",
    "import sys\n",
    "sys.stdin=open(\"input.txt\",'rt') # 경로 잡고, 파일 엵음. rt= read a file as text\n",
    "```\n",
    "\n",
    "실행할때는, sys.stdin=open('input.txt','rt)를 주석처리 하고 실행시키면 된다."
   ]
  },
  {
   "cell_type": "code",
   "execution_count": null,
   "metadata": {},
   "outputs": [],
   "source": [
    "import sys\n",
    "#sys.stdin=open(\"input.txt\",'rt') # 경로 잡고, 파일 엵음. read a file as text\n",
    "\n",
    "from collections import deque\n",
    "n,m=map(int,input().split())\n",
    "graph=[[0]*(n+1) for _ in range(n+1)]\n",
    "degree=[0]*(n+1) # 이게 우리가 할당하는 카운트 변수.\n",
    "dQ=deque()\n",
    "for i in range(m):\n",
    "    a,b=map(int,input().split())\n",
    "    graph[a][b]=1\n",
    "    degree[b]+=1 # 이렇게 노드로 들어오는 간선에 대해 카운트 추가\n",
    "for i in range(1,n+1):\n",
    "    if degree[i]==0:\n",
    "        dQ.append(i) # 초기는 0인 값에 대해 추가\n",
    "\n",
    "while dQ:\n",
    "    x=dQ.popleft()\n",
    "    print(x,end=' ') # 바로 출력\n",
    "\n",
    "    for i in range(1,n+1):\n",
    "        if graph[x][i]==1: # x에서 i로 방향이 흐르면,\n",
    "            degree[i]-=1 # 1개감소\n",
    "            if degree[i]==0: # 그래서 또다른 0이 나오면, \n",
    "                dQ.append(i) # 또다시 추가\n",
    "        \n"
   ]
  }
 ],
 "metadata": {
  "kernelspec": {
   "display_name": "Python 3",
   "language": "python",
   "name": "python3"
  },
  "language_info": {
   "codemirror_mode": {
    "name": "ipython",
    "version": 3
   },
   "file_extension": ".py",
   "mimetype": "text/x-python",
   "name": "python",
   "nbconvert_exporter": "python",
   "pygments_lexer": "ipython3",
   "version": "3.8.5"
  }
 },
 "nbformat": 4,
 "nbformat_minor": 2
}
