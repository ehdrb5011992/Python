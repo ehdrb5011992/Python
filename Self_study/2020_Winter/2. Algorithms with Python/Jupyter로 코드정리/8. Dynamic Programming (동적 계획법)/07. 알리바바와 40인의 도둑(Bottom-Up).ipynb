{
 "cells": [
  {
   "cell_type": "markdown",
   "metadata": {},
   "source": [
    "잘 풀었다."
   ]
  },
  {
   "cell_type": "markdown",
   "metadata": {},
   "source": [
    "답 풀이도 나랑 크게 다르지않음."
   ]
  },
  {
   "cell_type": "markdown",
   "metadata": {},
   "source": [
    "# 내 풀이"
   ]
  },
  {
   "cell_type": "code",
   "execution_count": 11,
   "metadata": {},
   "outputs": [],
   "source": [
    "n=3\n",
    "x=[\n",
    "    [3,3,5],\n",
    "    [2,3,4],\n",
    "    [6,5,2]\n",
    "      ]"
   ]
  },
  {
   "cell_type": "code",
   "execution_count": 12,
   "metadata": {},
   "outputs": [],
   "source": [
    "dp=[[0]*n for _ in range(n)]\n",
    "dp[0][0]=3\n",
    "i,j=0,0"
   ]
  },
  {
   "cell_type": "code",
   "execution_count": 13,
   "metadata": {},
   "outputs": [],
   "source": [
    "for i in range(n): # y축        \n",
    "    for j in range(n): # x축\n",
    "        if i==0 and j>=1: # 맨 왼쪽은 길이 한 개\n",
    "            dp[i][j]=dp[i][j-1]+x[i][j]\n",
    "        elif j==0 and i>=1: # 맨 오른쪽도 길이 한 개 \n",
    "            dp[i][j]=dp[i-1][j]+x[i][j]\n",
    "        else:\n",
    "            lx,ly= j-1,i\n",
    "            ux,uy= j,i-1\n",
    "            \n",
    "            dp[i][j]=min(dp[uy][ux],dp[ly][lx])+x[i][j]\n"
   ]
  },
  {
   "cell_type": "code",
   "execution_count": 14,
   "metadata": {},
   "outputs": [
    {
     "name": "stdout",
     "output_type": "stream",
     "text": [
      "14\n"
     ]
    }
   ],
   "source": [
    "print(dp[n-1][n-1])"
   ]
  },
  {
   "cell_type": "markdown",
   "metadata": {},
   "source": [
    "# 답 풀이"
   ]
  },
  {
   "cell_type": "markdown",
   "metadata": {},
   "source": [
    "채점코드를 위해서, 아래와 같이 구성\n",
    "```\n",
    "import sys\n",
    "sys.stdin=open(\"input.txt\",'rt') # 경로 잡고, 파일 엵음. rt= read a file as text\n",
    "```\n",
    "\n",
    "실행할때는, sys.stdin=open('input.txt','rt)를 주석처리 하고 실행시키면 된다."
   ]
  },
  {
   "cell_type": "code",
   "execution_count": null,
   "metadata": {},
   "outputs": [],
   "source": [
    "import sys\n",
    "#sys.stdin=open(\"input.txt\",'rt') # 경로 잡고, 파일 엵음. read a file as text\n",
    "\n",
    "if __name__=='__main__':\n",
    "    n=int(input())\n",
    "    arr=[list(map(int,input().split())) for _ in range(n)]\n",
    "    dy=[[0]*n for _ in range(n)]\n",
    "    dy[0][0] == arr[0][0]\n",
    "    for i in range(n):\n",
    "        dy[0][i]=dy[0][i-1]+arr[0][i]\n",
    "        dy[i][0]=dy[i-1][0]+arr[i][0] # 가장자리 다 구함.\n",
    "    for i in range(1,n):\n",
    "        for j in range(1,n):\n",
    "            dy[i][j]=min(dy[i-1][j],dy[i][j-1]) + arr[i][j]\n",
    "    print(dy[n-1][n-1])\n"
   ]
  }
 ],
 "metadata": {
  "kernelspec": {
   "display_name": "Python 3",
   "language": "python",
   "name": "python3"
  },
  "language_info": {
   "codemirror_mode": {
    "name": "ipython",
    "version": 3
   },
   "file_extension": ".py",
   "mimetype": "text/x-python",
   "name": "python",
   "nbconvert_exporter": "python",
   "pygments_lexer": "ipython3",
   "version": "3.8.5"
  }
 },
 "nbformat": 4,
 "nbformat_minor": 2
}
