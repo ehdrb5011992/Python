{
 "cells": [
  {
   "cell_type": "markdown",
   "metadata": {},
   "source": [
    "플로이드 와샬 알고리즘에 대해 알아보자"
   ]
  },
  {
   "cell_type": "markdown",
   "metadata": {},
   "source": [
    "그래프에서 모든 노드에서 또다른 노드로 가는 최단거리를 구하는 알고리즘이다. <br>\n",
    "따라서 이 다이나믹 테이블은 2차원이어야 한다. <br>\n",
    "\n",
    "냅색알고리즘과 동일한 원리로 구성된다."
   ]
  },
  {
   "cell_type": "markdown",
   "metadata": {},
   "source": [
    "이 알고리즘의 기본은, 중간의 k번째 경유를 한것과 자기자신과의 비교중 작은것을 택하는걸로 진행된다는점. "
   ]
  },
  {
   "cell_type": "markdown",
   "metadata": {},
   "source": [
    "'더 좋은값이 있으면 바꾸고, 아니면 그대로 둔다' 라는 개념이 누적적용되여, <br>\n",
    "i번째 노드에서 j번째 노드로 가기 위한 중간 노드들의 조합순서가 <br>\n",
    "최상으로 맞춰지게 된다. 마치 모형이 학습되듯 <br>"
   ]
  },
  {
   "cell_type": "markdown",
   "metadata": {},
   "source": [
    "# 내 풀이"
   ]
  },
  {
   "cell_type": "code",
   "execution_count": 23,
   "metadata": {},
   "outputs": [],
   "source": [
    "n,m=5, 8\n",
    "mapp=[\n",
    "    [1, 2, 6],\n",
    "    [1, 3, 3],\n",
    "    [3, 2, 2],\n",
    "    [2, 4, 1],\n",
    "    [2, 5, 13],\n",
    "    [3, 4, 5],\n",
    "    [4, 2, 3],\n",
    "    [4, 5, 7]\n",
    "]"
   ]
  },
  {
   "cell_type": "code",
   "execution_count": 29,
   "metadata": {},
   "outputs": [],
   "source": [
    "res=[[2147000000]*(n+1) for _ in range(n+1)]"
   ]
  },
  {
   "cell_type": "code",
   "execution_count": 30,
   "metadata": {},
   "outputs": [],
   "source": [
    "# 그래프 그리기 완료\n",
    "for i in range(n+1):\n",
    "    res[i][i]=0\n",
    "for i in range(m):\n",
    "    res[mapp[i][0]][mapp[i][1]]=mapp[i][2]"
   ]
  },
  {
   "cell_type": "code",
   "execution_count": 34,
   "metadata": {},
   "outputs": [],
   "source": [
    "for k in range(1,n+1):\n",
    "    for i in range(1,n+1):\n",
    "        for j in range(1,n+1):\n",
    "            res[i][j]=min(res[i][j],res[i][k]+res[k][j]) # 이게 작은문제고, \n",
    "            # 윗줄이 해결되면 전체 구조가 해결이 되는셈 (dp의 특징)\n",
    "            # 더군다나, 이게 성립할수 있는 배경은 자기자신이 0일때만 가능함.\n",
    "            # 그렇지않으면, for문에서 순차적으로 돌때, k-> k 로 가는 값이 더해짐."
   ]
  },
  {
   "cell_type": "code",
   "execution_count": 32,
   "metadata": {
    "scrolled": true
   },
   "outputs": [
    {
     "data": {
      "text/plain": [
       "[[0, 2147000000, 2147000000, 2147000000, 2147000000, 2147000000],\n",
       " [2147000000, 0, 5, 3, 6, 13],\n",
       " [2147000000, 2147000000, 0, 2147000000, 1, 8],\n",
       " [2147000000, 2147000000, 2, 0, 3, 10],\n",
       " [2147000000, 2147000000, 3, 2147000000, 0, 7],\n",
       " [2147000000, 2147000000, 2147000000, 2147000000, 2147000000, 0]]"
      ]
     },
     "execution_count": 32,
     "metadata": {},
     "output_type": "execute_result"
    }
   ],
   "source": [
    "res"
   ]
  },
  {
   "cell_type": "code",
   "execution_count": 33,
   "metadata": {},
   "outputs": [
    {
     "name": "stdout",
     "output_type": "stream",
     "text": [
      "0 5 3 6 13 \n",
      "M 0 M 1 8 \n",
      "M 2 0 3 10 \n",
      "M 3 M 0 7 \n",
      "M M M M 0 \n"
     ]
    }
   ],
   "source": [
    "for i in range(1,n+1):\n",
    "    for j in range(1,n+1):\n",
    "        if res[i][j]==2147000000:\n",
    "            print('M',end= ' ')\n",
    "        else:\n",
    "            print(res[i][j],end=' ')\n",
    "    print()"
   ]
  },
  {
   "cell_type": "markdown",
   "metadata": {},
   "source": [
    "# 답 풀이"
   ]
  },
  {
   "cell_type": "markdown",
   "metadata": {},
   "source": [
    "채점코드를 위해서, 아래와 같이 구성\n",
    "```\n",
    "import sys\n",
    "sys.stdin=open(\"input.txt\",'rt') # 경로 잡고, 파일 엵음. rt= read a file as text\n",
    "```\n",
    "\n",
    "실행할때는, sys.stdin=open('input.txt','rt)를 주석처리 하고 실행시키면 된다."
   ]
  },
  {
   "cell_type": "code",
   "execution_count": null,
   "metadata": {},
   "outputs": [],
   "source": [
    "import sys\n",
    "#sys.stdin=open(\"input.txt\",'rt') # 경로 잡고, 파일 엵음. read a file as text\n",
    " \n",
    "if __name__==\"__main__\":\n",
    "    n, m=map(int, input().split()) # n은 노드수, m은 간선의 수\n",
    "    dis=[[5000]*(n+1) for _ in range(n+1)] # 5000의 큰값으로 초기화함. 최소값 찾는 문제이기 때문.\n",
    "    for i in range(1, n+1): # 자기자신은 0으로 초기화\n",
    "        dis[i][i]=0\n",
    "    for i in range(m):\n",
    "        a, b, c=map(int, input().split()) # 인접행렬 만드는 for문\n",
    "        dis[a][b]=c # i,j에서 바로 가는 초기값\n",
    "    for k in range(1, n+1): # k를 거쳐서 가는거임. k는 행의 순서가 되는거임. (노드의 개수)\n",
    "        for i in range(1, n+1):\n",
    "            for j in range(1, n+1):\n",
    "                dis[i][j]=min(dis[i][j], dis[i][k]+dis[k][j]) # 이렇게 삼중for문 돌리는게 굉장히 중요하다. 잊지말기\n",
    "                # 그리고 위의 한줄이 사실상 플로이드와샬 알고리즘의 전부임.\n",
    "    for i in range(1, n+1):\n",
    "        for j in range(1, n+1):\n",
    "            if dis[i][j]==5000: # 그렇게 돌렸는데도, 초기의 5000을 만족하면 M으로 찍을꺼임.\n",
    "                print(\"M\", end=' ')\n",
    "            else:\n",
    "                print(dis[i][j], end=' ')\n",
    "        print()\n"
   ]
  }
 ],
 "metadata": {
  "kernelspec": {
   "display_name": "Python 3",
   "language": "python",
   "name": "python3"
  },
  "language_info": {
   "codemirror_mode": {
    "name": "ipython",
    "version": 3
   },
   "file_extension": ".py",
   "mimetype": "text/x-python",
   "name": "python",
   "nbconvert_exporter": "python",
   "pygments_lexer": "ipython3",
   "version": "3.8.5"
  }
 },
 "nbformat": 4,
 "nbformat_minor": 2
}
