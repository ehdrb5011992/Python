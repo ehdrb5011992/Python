{
 "cells": [
  {
   "cell_type": "markdown",
   "metadata": {},
   "source": [
    "### 사실 동적계획법은 1차원배열, 2차원 배열을 사용하는 Bottom Up방식을 말한다. <br>"
   ]
  },
  {
   "cell_type": "markdown",
   "metadata": {},
   "source": [
    "Top-down 방식은 재귀방식이라 동적계획법이라고 부르지 않는 사람들도 있음. <br>\n",
    "하지만, 재귀를 사용하더라도 메모이제이션을 사용해주므로써 dp처럼 구현되며, <br>\n",
    "점화식처럼 표현되기 때문에 넓은 의미에서 dp라고 말한다."
   ]
  },
  {
   "cell_type": "markdown",
   "metadata": {},
   "source": [
    "앞의 문제랑 너무 똑같아서, 직접 코드를 구현해보았다. <br>\n",
    "하루 지나서 문제를 풀어도 잘 풀렸다."
   ]
  },
  {
   "cell_type": "markdown",
   "metadata": {},
   "source": [
    "# 내 풀이"
   ]
  },
  {
   "cell_type": "markdown",
   "metadata": {},
   "source": [
    "### 1) Bottom Up"
   ]
  },
  {
   "cell_type": "markdown",
   "metadata": {},
   "source": [
    "#### 아래는 계단오르기 코드뿐이며, 돌다리 건너기는 똑같기에 pass"
   ]
  },
  {
   "cell_type": "code",
   "execution_count": 1,
   "metadata": {},
   "outputs": [],
   "source": [
    "n=7"
   ]
  },
  {
   "cell_type": "code",
   "execution_count": 2,
   "metadata": {},
   "outputs": [],
   "source": [
    "dp=[0]*(n+1)"
   ]
  },
  {
   "cell_type": "code",
   "execution_count": 3,
   "metadata": {},
   "outputs": [],
   "source": [
    "dp[1],dp[2]=1,2"
   ]
  },
  {
   "cell_type": "code",
   "execution_count": 4,
   "metadata": {},
   "outputs": [],
   "source": [
    "for i in range(3,n+1):\n",
    "    dp[i]=dp[i-1]+dp[i-2]"
   ]
  },
  {
   "cell_type": "code",
   "execution_count": 5,
   "metadata": {},
   "outputs": [
    {
     "data": {
      "text/plain": [
       "21"
      ]
     },
     "execution_count": 5,
     "metadata": {},
     "output_type": "execute_result"
    }
   ],
   "source": [
    "print(dp[n])"
   ]
  },
  {
   "cell_type": "markdown",
   "metadata": {},
   "source": [
    "### 2) Top Down"
   ]
  },
  {
   "cell_type": "markdown",
   "metadata": {},
   "source": [
    "#### 1) 계단오르기"
   ]
  },
  {
   "cell_type": "code",
   "execution_count": 25,
   "metadata": {},
   "outputs": [],
   "source": [
    "n=100\n",
    "dp=[0]*(n+1)"
   ]
  },
  {
   "cell_type": "code",
   "execution_count": 26,
   "metadata": {},
   "outputs": [],
   "source": [
    "def DFS(stairs):\n",
    "    if dp[stairs]>0:\n",
    "        return dp[stairs]\n",
    "    \n",
    "    if stairs==1 or stairs==2:\n",
    "        dp[stairs]=stairs\n",
    "        return dp[stairs]\n",
    "    else:\n",
    "        dp[stairs]=DFS(stairs-1)+DFS(stairs-2)\n",
    "        return dp[stairs]"
   ]
  },
  {
   "cell_type": "code",
   "execution_count": 27,
   "metadata": {},
   "outputs": [
    {
     "data": {
      "text/plain": [
       "573147844013817084101"
      ]
     },
     "execution_count": 27,
     "metadata": {},
     "output_type": "execute_result"
    }
   ],
   "source": [
    "DFS(n)"
   ]
  },
  {
   "cell_type": "markdown",
   "metadata": {},
   "source": [
    "#### 2) 돌다리 건너기"
   ]
  },
  {
   "cell_type": "code",
   "execution_count": 31,
   "metadata": {},
   "outputs": [],
   "source": [
    "n=100 # 돌의 개수\n",
    "dp=[0]*(n+2)"
   ]
  },
  {
   "cell_type": "code",
   "execution_count": 32,
   "metadata": {},
   "outputs": [],
   "source": [
    "def DFS(dol):\n",
    "    if dp[dol]>0:\n",
    "        return dp[dol]\n",
    "    \n",
    "    if dol==1 or dol==2:\n",
    "        dp[dol]=dol\n",
    "        return dp[dol]\n",
    "    else:\n",
    "        dp[dol]=DFS(dol-1)+DFS(dol-2)\n",
    "        return dp[dol]"
   ]
  },
  {
   "cell_type": "code",
   "execution_count": 33,
   "metadata": {},
   "outputs": [
    {
     "data": {
      "text/plain": [
       "927372692193078999176"
      ]
     },
     "execution_count": 33,
     "metadata": {},
     "output_type": "execute_result"
    }
   ],
   "source": [
    "DFS(n+1) #목적지"
   ]
  },
  {
   "cell_type": "markdown",
   "metadata": {},
   "source": [
    "# 답 풀이"
   ]
  },
  {
   "cell_type": "markdown",
   "metadata": {},
   "source": [
    "채점코드를 위해서, 아래와 같이 구성\n",
    "```\n",
    "import sys\n",
    "sys.stdin=open(\"input.txt\",'rt') # 경로 잡고, 파일 엵음. rt= read a file as text\n",
    "```\n",
    "\n",
    "실행할때는, sys.stdin=open('input.txt','rt)를 주석처리 하고 실행시키면 된다."
   ]
  },
  {
   "cell_type": "markdown",
   "metadata": {},
   "source": [
    "#### 내 답이 답풀이와 완전히 같기 때문에, 이번 풀이는 pass한다."
   ]
  }
 ],
 "metadata": {
  "kernelspec": {
   "display_name": "Python 3",
   "language": "python",
   "name": "python3"
  },
  "language_info": {
   "codemirror_mode": {
    "name": "ipython",
    "version": 3
   },
   "file_extension": ".py",
   "mimetype": "text/x-python",
   "name": "python",
   "nbconvert_exporter": "python",
   "pygments_lexer": "ipython3",
   "version": "3.8.5"
  }
 },
 "nbformat": 4,
 "nbformat_minor": 2
}
