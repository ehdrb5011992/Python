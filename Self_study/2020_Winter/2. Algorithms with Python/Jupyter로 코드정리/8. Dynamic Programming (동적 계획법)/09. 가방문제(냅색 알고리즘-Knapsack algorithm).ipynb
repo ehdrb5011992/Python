{
 "cells": [
  {
   "cell_type": "markdown",
   "metadata": {},
   "source": [
    "푸는 방법을 익히고, 이를 참고하여 내 풀이를 재구현해보았다."
   ]
  },
  {
   "cell_type": "markdown",
   "metadata": {},
   "source": [
    "냅색알고리즘은 굉장히 중요하다. <br>\n",
    "뒤에 배울 폴로이드-와샬과도 연관이 크기 때문"
   ]
  },
  {
   "cell_type": "markdown",
   "metadata": {},
   "source": [
    "이 문제를 접근하는 방법은, \n",
    "\n",
    "    dp[j] : 가방에 j무게까지 담았다고 가정했을 때의 보석의 최대 가치\n",
    "    \n",
    " 라고 할 때, 5g짜리를 먼저 보석에 담아서 dp[1] ~ dp[11]값들(가치)을 갱신하고 <br>\n",
    " 이어서 3g짜리, 6g짜리를 계속 넣으면서 dp라는 가방의 무게를 갱신하는것으로 이루어진다. <br>\n",
    " 갱신하면서, 더 좋은 값이면 바꾸고, 작은 값이면 바꾸지 않는다. <br>\n",
    " \n",
    " 이게 다이나믹임. <br>\n",
    " \n",
    " 이 문제는, 무한히 많은 보석이 있다고 가정하기 때문에 이러한 접근이 가능하다."
   ]
  },
  {
   "cell_type": "markdown",
   "metadata": {},
   "source": [
    "dp는 0으로 초기된 상태로 놓는다. <br>"
   ]
  },
  {
   "cell_type": "markdown",
   "metadata": {},
   "source": [
    "# 내 풀이"
   ]
  },
  {
   "cell_type": "code",
   "execution_count": 1,
   "metadata": {},
   "outputs": [],
   "source": [
    "n,m=4,11\n",
    "jewels=[\n",
    "    [5,12],\n",
    "    [3,8],\n",
    "    [6,14],\n",
    "    [4,8]\n",
    "]"
   ]
  },
  {
   "cell_type": "code",
   "execution_count": 2,
   "metadata": {},
   "outputs": [],
   "source": [
    "dp=[0]*(m+1)"
   ]
  },
  {
   "cell_type": "code",
   "execution_count": 3,
   "metadata": {},
   "outputs": [
    {
     "name": "stdout",
     "output_type": "stream",
     "text": [
      "28\n"
     ]
    }
   ],
   "source": [
    "for wei,val in jewels:\n",
    "    for j in range(wei,m+1):\n",
    "        dp[j]=max(dp[j],dp[j-wei]+val)\n",
    "print(dp[m])"
   ]
  },
  {
   "cell_type": "markdown",
   "metadata": {},
   "source": [
    "# 답 풀이"
   ]
  },
  {
   "cell_type": "markdown",
   "metadata": {},
   "source": [
    "채점코드를 위해서, 아래와 같이 구성\n",
    "```\n",
    "import sys\n",
    "sys.stdin=open(\"input.txt\",'rt') # 경로 잡고, 파일 엵음. rt= read a file as text\n",
    "```\n",
    "\n",
    "실행할때는, sys.stdin=open('input.txt','rt)를 주석처리 하고 실행시키면 된다."
   ]
  },
  {
   "cell_type": "code",
   "execution_count": null,
   "metadata": {},
   "outputs": [],
   "source": [
    "import sys\n",
    "#sys.stdin=open(\"input.txt\",'rt') # 경로 잡고, 파일 엵음. read a file as text\n",
    "\n",
    "\n",
    "if __name__==\"__main__\":\n",
    "    n,m = map(int,input().split())\n",
    "    dy=[0]*(m+1)\n",
    "    for i in range(n):\n",
    "        w,v=map(int,input().split())\n",
    "        for j in range(w,m+1): # 미리 공간확보가 필요하기 때문에 j는 w부터돔\n",
    "            dy[j]=max(dy[j],dy[j-w]+v) # dy[j-w]: w만큼 보석을담기위해서 공간만들어놓음.\n",
    "\n",
    "    print(dy[m])\n"
   ]
  }
 ],
 "metadata": {
  "kernelspec": {
   "display_name": "Python 3",
   "language": "python",
   "name": "python3"
  },
  "language_info": {
   "codemirror_mode": {
    "name": "ipython",
    "version": 3
   },
   "file_extension": ".py",
   "mimetype": "text/x-python",
   "name": "python",
   "nbconvert_exporter": "python",
   "pygments_lexer": "ipython3",
   "version": "3.8.5"
  }
 },
 "nbformat": 4,
 "nbformat_minor": 2
}
