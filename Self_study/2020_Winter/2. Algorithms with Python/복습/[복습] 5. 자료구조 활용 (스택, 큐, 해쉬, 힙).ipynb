{
 "cells": [
  {
   "cell_type": "markdown",
   "metadata": {},
   "source": [
    "# 1. 가장 큰 수 (스택)"
   ]
  },
  {
   "cell_type": "code",
   "execution_count": 4,
   "metadata": {},
   "outputs": [],
   "source": [
    "m=3\n",
    "x='5276823'"
   ]
  },
  {
   "cell_type": "code",
   "execution_count": 5,
   "metadata": {},
   "outputs": [
    {
     "name": "stdout",
     "output_type": "stream",
     "text": [
      "7823\n"
     ]
    }
   ],
   "source": [
    "stack=[]\n",
    "for i in x:\n",
    "    while stack and m>0 and stack[-1]<i:\n",
    "        stack.pop()\n",
    "        m-=1\n",
    "    \n",
    "    stack.append(i)\n",
    "if m !=0:\n",
    "    stack=stack[:-m]\n",
    "\n",
    "res=''.join(stack)\n",
    "print(res)\n",
    "    "
   ]
  },
  {
   "cell_type": "markdown",
   "metadata": {},
   "source": [
    "# 2. 쇠막대기 (스택)"
   ]
  },
  {
   "cell_type": "code",
   "execution_count": 7,
   "metadata": {},
   "outputs": [],
   "source": [
    "x='()(((()())(())()))(())'"
   ]
  },
  {
   "cell_type": "code",
   "execution_count": 11,
   "metadata": {},
   "outputs": [],
   "source": [
    "x=x.replace('()','#')"
   ]
  },
  {
   "cell_type": "code",
   "execution_count": 13,
   "metadata": {},
   "outputs": [
    {
     "data": {
      "text/plain": [
       "'#(((##)(#)#))(#)'"
      ]
     },
     "execution_count": 13,
     "metadata": {},
     "output_type": "execute_result"
    }
   ],
   "source": [
    "x"
   ]
  },
  {
   "cell_type": "code",
   "execution_count": 14,
   "metadata": {},
   "outputs": [
    {
     "name": "stdout",
     "output_type": "stream",
     "text": [
      "17\n"
     ]
    }
   ],
   "source": [
    "cnt=0\n",
    "res=0\n",
    "for i in x:\n",
    "    if i=='(':\n",
    "        cnt+=1\n",
    "    elif i=='#':\n",
    "        res+=cnt\n",
    "    else:\n",
    "        cnt-=1\n",
    "        res+=1\n",
    "print(res)"
   ]
  },
  {
   "cell_type": "markdown",
   "metadata": {},
   "source": [
    "# 3. 후위 표기식 만들기 infix--postfix (스택)"
   ]
  },
  {
   "cell_type": "code",
   "execution_count": 58,
   "metadata": {},
   "outputs": [],
   "source": [
    "x='5+7*3-5+(3+2*3)'"
   ]
  },
  {
   "cell_type": "code",
   "execution_count": 59,
   "metadata": {},
   "outputs": [
    {
     "name": "stdout",
     "output_type": "stream",
     "text": [
      "573*+5-323*++\n"
     ]
    }
   ],
   "source": [
    "stack=[]\n",
    "res=''\n",
    "for i in x:\n",
    "    if i.isdecimal():\n",
    "        res+=i\n",
    "    else:\n",
    "        if i in '(':\n",
    "            stack.append(i)\n",
    "        elif i in '*/':\n",
    "            while stack and (stack[-1] in '*/'):\n",
    "                res+=stack.pop()\n",
    "            stack.append(i)\n",
    "        elif i in '+-':\n",
    "            while stack and (stack[-1] not in '('):\n",
    "                res+=stack.pop()\n",
    "            stack.append(i)\n",
    "        elif i in ')':\n",
    "            while stack and (stack[-1] not in '('):\n",
    "                res+=stack.pop()\n",
    "            stack.pop()    \n",
    "\n",
    "\n",
    "while stack:\n",
    "    res+=stack.pop()\n",
    "print(res)"
   ]
  },
  {
   "cell_type": "markdown",
   "metadata": {},
   "source": [
    "# 4. 후위(posfix)식 연산 (스택)"
   ]
  },
  {
   "cell_type": "code",
   "execution_count": 63,
   "metadata": {},
   "outputs": [],
   "source": [
    "x='352+*9-'"
   ]
  },
  {
   "cell_type": "code",
   "execution_count": 64,
   "metadata": {},
   "outputs": [
    {
     "name": "stdout",
     "output_type": "stream",
     "text": [
      "12\n"
     ]
    }
   ],
   "source": [
    "stack=[]\n",
    "for i in x:\n",
    "    if i.isdecimal():\n",
    "        stack.append(i)\n",
    "    else:\n",
    "        if i in '+-*/':\n",
    "            var2=stack.pop()\n",
    "            var1=stack.pop()\n",
    "            stack.append(str(eval(var1+i+var2)))\n",
    "print(int(stack[0]))"
   ]
  },
  {
   "cell_type": "markdown",
   "metadata": {},
   "source": [
    "# 5. 공주구하기 (큐)"
   ]
  },
  {
   "cell_type": "code",
   "execution_count": 84,
   "metadata": {},
   "outputs": [],
   "source": [
    "n,k=8, 3"
   ]
  },
  {
   "cell_type": "code",
   "execution_count": 85,
   "metadata": {},
   "outputs": [],
   "source": [
    "from collections import deque\n",
    "arr=deque(range(1,n+1))"
   ]
  },
  {
   "cell_type": "code",
   "execution_count": 86,
   "metadata": {},
   "outputs": [
    {
     "name": "stdout",
     "output_type": "stream",
     "text": [
      "7\n"
     ]
    }
   ],
   "source": [
    "while len(arr)>1:\n",
    "    for _ in range(k-1):\n",
    "        arr.append(arr.popleft())\n",
    "    arr.popleft()\n",
    "print(arr[0])\n",
    "    \n",
    "    "
   ]
  },
  {
   "cell_type": "markdown",
   "metadata": {},
   "source": [
    "# 6. 응급실 (큐)"
   ]
  },
  {
   "cell_type": "code",
   "execution_count": 1,
   "metadata": {},
   "outputs": [],
   "source": [
    "n,m=5,2\n",
    "x=[60,50,70,80,90]"
   ]
  },
  {
   "cell_type": "code",
   "execution_count": 2,
   "metadata": {},
   "outputs": [],
   "source": [
    "maximum=-2147000000\n",
    "for i in x:\n",
    "    if i>maximum:\n",
    "        maximum=i"
   ]
  },
  {
   "cell_type": "code",
   "execution_count": 3,
   "metadata": {},
   "outputs": [],
   "source": [
    "from collections import deque\n",
    "x=tuple(enumerate(x))\n",
    "x=deque(x)"
   ]
  },
  {
   "cell_type": "code",
   "execution_count": 6,
   "metadata": {},
   "outputs": [
    {
     "name": "stdout",
     "output_type": "stream",
     "text": [
      "3\n"
     ]
    }
   ],
   "source": [
    "cnt=1\n",
    "while True:\n",
    "    if x[0][1] == maximum:\n",
    "        if x[0][0]==m:\n",
    "            print(cnt)\n",
    "            break \n",
    "        else:\n",
    "            x.popleft()\n",
    "            cnt+=1\n",
    "            maximum=-2147000000\n",
    "            for i in x:\n",
    "                if i[1]>maximum:\n",
    "                    maximum=i[1]\n",
    "    else:\n",
    "        x.append(x.popleft())"
   ]
  },
  {
   "cell_type": "markdown",
   "metadata": {},
   "source": [
    "# 7. 교육과정 설계 (큐)"
   ]
  },
  {
   "cell_type": "code",
   "execution_count": 54,
   "metadata": {},
   "outputs": [],
   "source": [
    "nece='CBA'\n",
    "n=3\n",
    "cases=['CBDAGE','FGCDAB','CTSBDEA']"
   ]
  },
  {
   "cell_type": "code",
   "execution_count": 55,
   "metadata": {},
   "outputs": [],
   "source": [
    "from collections import deque"
   ]
  },
  {
   "cell_type": "code",
   "execution_count": 56,
   "metadata": {},
   "outputs": [
    {
     "name": "stdout",
     "output_type": "stream",
     "text": [
      "#1 YES\n",
      "#2 NO\n",
      "#3 YES\n"
     ]
    }
   ],
   "source": [
    "for i in range(n):    \n",
    "    nece_dq=deque(nece)\n",
    "    target=deque(cases[i])\n",
    "    \n",
    "    for j in target:\n",
    "        if j in nece_dq:\n",
    "            if j!=nece_dq.popleft():\n",
    "                print(f'#{i+1} NO')\n",
    "                break\n",
    "    else: # else를 넣어야 중복 출력이 안됨. 이 else도 for문의 break와 연관이 있기 때문.\n",
    "        if len(nece_dq)==0:\n",
    "            print(f'#{i+1} YES')\n",
    "        else:\n",
    "            print(f'#{i+1} NO')\n"
   ]
  },
  {
   "cell_type": "markdown",
   "metadata": {},
   "source": [
    "# 8. 단어 찾기 (해쉬)"
   ]
  },
  {
   "cell_type": "code",
   "execution_count": 57,
   "metadata": {},
   "outputs": [],
   "source": [
    "n=5\n",
    "words=['big','good','sky','blue','mouse']\n",
    "poet=['sky','good','mouse','big']"
   ]
  },
  {
   "cell_type": "code",
   "execution_count": 58,
   "metadata": {},
   "outputs": [
    {
     "name": "stdout",
     "output_type": "stream",
     "text": [
      "blue\n"
     ]
    }
   ],
   "source": [
    "book=dict()\n",
    "for i in range(n):\n",
    "    if words[i] not in book:\n",
    "        book[words[i]]=1\n",
    "for j in range(len(poet)):\n",
    "    if poet[j] in book:\n",
    "        book[poet[j]]=0\n",
    "for key,value in book.items():\n",
    "    if value==1:\n",
    "        print(key)\n",
    "        break"
   ]
  },
  {
   "cell_type": "markdown",
   "metadata": {},
   "source": [
    "# 9. 아나그램 (딕셔너리 해쉬)"
   ]
  },
  {
   "cell_type": "code",
   "execution_count": 8,
   "metadata": {},
   "outputs": [],
   "source": [
    "word1='ABCDqtqtqEFqGHIJKLMNOPQRSTUVWetagdgXYabcdefghijklmnopqrstuwxyz'\n",
    "word2='aBcdewrqwtqFghIJklMnOpqrsTuegagaeVxyYAbCDEfGHijKLmNoPQRStUwWXz'"
   ]
  },
  {
   "cell_type": "code",
   "execution_count": 11,
   "metadata": {},
   "outputs": [
    {
     "name": "stdout",
     "output_type": "stream",
     "text": [
      "NO\n"
     ]
    }
   ],
   "source": [
    "check=dict()\n",
    "for i in word1:\n",
    "    if i not in check:\n",
    "        check[i]=1\n",
    "    else:\n",
    "        check[i]+=1\n",
    "for j in word2:\n",
    "    if j in check:\n",
    "        check[j]-=1\n",
    "\n",
    "\n",
    "for k in check.values():\n",
    "    if k!=0:\n",
    "        print('NO')\n",
    "        break\n",
    "else:\n",
    "    print('YES')"
   ]
  },
  {
   "cell_type": "markdown",
   "metadata": {},
   "source": [
    "# 10. 최소힙"
   ]
  },
  {
   "cell_type": "code",
   "execution_count": 5,
   "metadata": {},
   "outputs": [],
   "source": [
    "n=[5,3,6,0,5,0,2,4,0,-1]"
   ]
  },
  {
   "cell_type": "code",
   "execution_count": 6,
   "metadata": {},
   "outputs": [],
   "source": [
    "import heapq as hq"
   ]
  },
  {
   "cell_type": "code",
   "execution_count": 7,
   "metadata": {},
   "outputs": [
    {
     "name": "stdout",
     "output_type": "stream",
     "text": [
      "3\n",
      "5\n",
      "2\n"
     ]
    }
   ],
   "source": [
    "a=[]\n",
    "for i in n:\n",
    "    if i==-1:\n",
    "        break\n",
    "    elif i==0:\n",
    "        if len(a)==0:\n",
    "            print(-1)\n",
    "        else:\n",
    "            print(hq.heappop(a))\n",
    "    else:\n",
    "        hq.heappush(a,i)"
   ]
  },
  {
   "cell_type": "markdown",
   "metadata": {},
   "source": [
    "# 11. 최대힙"
   ]
  },
  {
   "cell_type": "code",
   "execution_count": 8,
   "metadata": {},
   "outputs": [],
   "source": [
    "n=[5,3,6,0,5,0,2,4,0,-1]"
   ]
  },
  {
   "cell_type": "code",
   "execution_count": 9,
   "metadata": {},
   "outputs": [],
   "source": [
    "import heapq as hq"
   ]
  },
  {
   "cell_type": "code",
   "execution_count": 10,
   "metadata": {},
   "outputs": [
    {
     "name": "stdout",
     "output_type": "stream",
     "text": [
      "6\n",
      "5\n",
      "5\n"
     ]
    }
   ],
   "source": [
    "a=[]\n",
    "for i in n:\n",
    "    if i==-1:\n",
    "        break\n",
    "    elif i==0:\n",
    "        if len(a)==0:\n",
    "            print(-1)\n",
    "        else:\n",
    "            print(-hq.heappop(a))\n",
    "    else:\n",
    "        hq.heappush(a,-i)"
   ]
  }
 ],
 "metadata": {
  "kernelspec": {
   "display_name": "Python 3",
   "language": "python",
   "name": "python3"
  },
  "language_info": {
   "codemirror_mode": {
    "name": "ipython",
    "version": 3
   },
   "file_extension": ".py",
   "mimetype": "text/x-python",
   "name": "python",
   "nbconvert_exporter": "python",
   "pygments_lexer": "ipython3",
   "version": "3.8.5"
  }
 },
 "nbformat": 4,
 "nbformat_minor": 2
}
