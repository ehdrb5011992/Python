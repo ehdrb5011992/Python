{
 "cells": [
  {
   "cell_type": "markdown",
   "metadata": {},
   "source": [
    "# 1. 최대점수 구하기(DFS)"
   ]
  },
  {
   "cell_type": "code",
   "execution_count": 3,
   "metadata": {},
   "outputs": [
    {
     "name": "stdout",
     "output_type": "stream",
     "text": [
      "41\n"
     ]
    }
   ],
   "source": [
    "def DFS(L,val,time):\n",
    "    global res\n",
    "    if time>m:\n",
    "        return\n",
    "    if L==n and time <= m :\n",
    "        if val> res:\n",
    "            res=val\n",
    "    else:\n",
    "        DFS(L+1,val+x[L][0],time+x[L][1])\n",
    "        DFS(L+1,val,time)\n",
    "\n",
    "\n",
    "\n",
    "if __name__=='__main__':\n",
    "    n,m=5,20\n",
    "    x=[(10,5),(25,12),(15,8),(6,3),(7,4)]\n",
    "    res=-2147000000\n",
    "    DFS(0,0,0)\n",
    "    print(res)"
   ]
  },
  {
   "cell_type": "markdown",
   "metadata": {},
   "source": [
    "# 2. 휴가 (DFS활용)"
   ]
  },
  {
   "cell_type": "code",
   "execution_count": 5,
   "metadata": {},
   "outputs": [
    {
     "name": "stdout",
     "output_type": "stream",
     "text": [
      "60\n"
     ]
    }
   ],
   "source": [
    "def DFS(L,p):\n",
    "    global res\n",
    "    if L==n+1:\n",
    "        if p > res:\n",
    "            res=p\n",
    "    else:\n",
    "        if L+x[L][0] <= n+1:\n",
    "            DFS(L+x[L][0],p+x[L][1])\n",
    "        DFS(L+1,p)\n",
    "    \n",
    "if __name__=='__main__':\n",
    "    n=7\n",
    "    x=[(4,20),(2,10),(3,15),(3,20),(2,30),(2,20),(1,10)]\n",
    "    x.insert(0,(0,0))\n",
    "    res=-2147000000\n",
    "    DFS(1,0)\n",
    "    print(res)"
   ]
  },
  {
   "cell_type": "markdown",
   "metadata": {},
   "source": [
    "# 3. 양팔저울 (DFS)"
   ]
  },
  {
   "cell_type": "code",
   "execution_count": 8,
   "metadata": {},
   "outputs": [
    {
     "name": "stdout",
     "output_type": "stream",
     "text": [
      "2\n"
     ]
    }
   ],
   "source": [
    "def DFS(L,tot):\n",
    "    if L==k:\n",
    "        if 0< tot<=s:\n",
    "            res.add(tot)\n",
    "    else:\n",
    "        DFS(L+1,tot+x[L])\n",
    "        DFS(L+1,tot-x[L])\n",
    "        DFS(L+1,tot)\n",
    "\n",
    "if __name__ == '__main__':\n",
    "    k=3\n",
    "    x=[1,5,7]\n",
    "    s=sum(x)\n",
    "    res=set()\n",
    "    DFS(0,0)\n",
    "    print(s-len(res))"
   ]
  },
  {
   "cell_type": "markdown",
   "metadata": {},
   "source": [
    "# 4. 동전 바꿔주기 (DFS)"
   ]
  },
  {
   "cell_type": "code",
   "execution_count": 31,
   "metadata": {},
   "outputs": [
    {
     "name": "stdout",
     "output_type": "stream",
     "text": [
      "4\n"
     ]
    }
   ],
   "source": [
    "def DFS(L,tot):\n",
    "    global cnt\n",
    "    \n",
    "    if tot>t:\n",
    "        return\n",
    "    if L==k :\n",
    "        if tot==t:\n",
    "            cnt+=1\n",
    "    else:\n",
    "        for i in range(x[L][1]+1):\n",
    "            DFS(L+1,tot+i*x[L][0])\n",
    "\n",
    "if __name__ == '__main__':\n",
    "    t=20\n",
    "    k=3\n",
    "    x=[(5,3),(10,2),(1,5)]\n",
    "    cnt=0\n",
    "    DFS(0,0)\n",
    "    print(cnt)"
   ]
  },
  {
   "cell_type": "markdown",
   "metadata": {},
   "source": [
    "# 5. 동전 분배하기 (DFS)"
   ]
  },
  {
   "cell_type": "code",
   "execution_count": 9,
   "metadata": {},
   "outputs": [
    {
     "name": "stdout",
     "output_type": "stream",
     "text": [
      "5\n"
     ]
    }
   ],
   "source": [
    "def DFS(L,p1,p2,p3):\n",
    "    global res\n",
    "    if L==n:\n",
    "        if p1 != p2 and p2 != p3 and p3 != p1:\n",
    "            tmp=sorted([p1,p2,p3])\n",
    "            diff=tmp[2]-tmp[0]\n",
    "            if res>diff:\n",
    "                res=diff\n",
    "        \n",
    "    else:\n",
    "        DFS(L+1,p1+x[L],p2,p3)\n",
    "        DFS(L+1,p1,p2+x[L],p3)\n",
    "        DFS(L+1,p1,p2,p3+x[L])\n",
    "               \n",
    "\n",
    "if __name__ == \"__main__\":\n",
    "    n=7\n",
    "    x=[8,9,11,12,23,15,17]\n",
    "    res=2147000000\n",
    "    DFS(0,0,0,0)\n",
    "    print(res)"
   ]
  },
  {
   "cell_type": "markdown",
   "metadata": {},
   "source": [
    "\n",
    "#### 내 풀이처럼 변수를 3개 늘리는것 보다, 아래의 풀이처럼 푸는게 응용력 가능\n",
    "#### (3명이 아니라 n명이라도 풀이 가능)"
   ]
  },
  {
   "cell_type": "code",
   "execution_count": 10,
   "metadata": {
    "scrolled": true
   },
   "outputs": [
    {
     "name": "stdout",
     "output_type": "stream",
     "text": [
      "7\n",
      "8\n",
      "9\n",
      "11\n",
      "12\n",
      "23\n",
      "15\n",
      "17\n",
      "5\n"
     ]
    }
   ],
   "source": [
    "import sys\n",
    "#sys.stdin=open(\"input.txt\",'rt') # 경로 잡고, 파일 엵음. read a file as text\n",
    "\n",
    "def DFS(L):\n",
    "    global res\n",
    "    if L==n:\n",
    "        cha=max(money)-min(money)\n",
    "        if cha < res:\n",
    "\n",
    "            # 아래 if문에 종속되는 문장을 잘 보자.\n",
    "            tmp = set()\n",
    "            for x in money:\n",
    "                tmp.add(x) # 중복허락하지 않음.\n",
    "            if len(tmp)==3:\n",
    "                res=cha # 위에 해당할때만~ res=cha로 허락.\n",
    "\n",
    "        \n",
    "    else:\n",
    "        for i in range(3):\n",
    "            money[i]+=coin[L]\n",
    "            DFS(L+1)\n",
    "            money[i]-=coin[L] # 코인 취소해줘야함. back의 상황\n",
    "\n",
    "if __name__=='__main__':\n",
    "    n=int(input())\n",
    "    coin=[]\n",
    "    money=[0]*3\n",
    "    res=2147000000\n",
    "    for _ in range(n):\n",
    "        coin.append(int(input()))\n",
    "    DFS(0)\n",
    "    print(res)\n"
   ]
  },
  {
   "cell_type": "markdown",
   "metadata": {},
   "source": [
    "# 6. 알파코드(DFS)"
   ]
  },
  {
   "cell_type": "markdown",
   "metadata": {},
   "source": [
    "정답보다 더 잘푼 풀이. 깔끔하다"
   ]
  },
  {
   "cell_type": "code",
   "execution_count": 46,
   "metadata": {},
   "outputs": [
    {
     "name": "stdout",
     "output_type": "stream",
     "text": [
      "BEAAD\n",
      "BEAN\n",
      "BEKD\n",
      "YAAD\n",
      "YAN\n",
      "YKD\n",
      "6\n"
     ]
    }
   ],
   "source": [
    "def DFS(L):\n",
    "    global cnt\n",
    "    if L>=n:\n",
    "        for i in res:\n",
    "            print(i,end='')\n",
    "        cnt+=1\n",
    "        print()\n",
    "        \n",
    "    else:\n",
    "        if int(x[L]) in range(1,9):\n",
    "            res.append(chr(int(x[L])+64))\n",
    "            DFS(L+1)\n",
    "            res.pop()\n",
    "        if int(x[L:L+2]) in range(10,27):\n",
    "            res.append(chr(int(x[L:L+2])+64))\n",
    "            DFS(L+2)\n",
    "            res.pop()\n",
    "\n",
    "if __name__ == '__main__':\n",
    "    x='25114'\n",
    "    n=len(x)\n",
    "    res=[]\n",
    "    cnt=0\n",
    "    DFS(0)\n",
    "    print(cnt)"
   ]
  },
  {
   "cell_type": "markdown",
   "metadata": {},
   "source": [
    "# 7. 송아지 찾기 (BFS) BFS는 check변수가 꼭있음"
   ]
  },
  {
   "cell_type": "code",
   "execution_count": 58,
   "metadata": {},
   "outputs": [],
   "source": [
    "from collections import deque\n",
    "s,e=5,14\n",
    "bound=10000\n",
    "check=[0]*(bound+1)\n",
    "res=[0]*(bound+1)\n",
    "dq=deque()\n",
    "dq.append(s)"
   ]
  },
  {
   "cell_type": "code",
   "execution_count": 59,
   "metadata": {},
   "outputs": [
    {
     "name": "stdout",
     "output_type": "stream",
     "text": [
      "3\n"
     ]
    }
   ],
   "source": [
    "while dq:\n",
    "    now=dq.popleft()\n",
    "    if now==e:\n",
    "        print(res[now])\n",
    "        break\n",
    "    \n",
    "    for next in (now-1,now+1,now+5): # 한 레벨(깊이) 에서 뻗어나가는 가지수\n",
    "        if 0<=next<=bound:\n",
    "            if check[next]==0:\n",
    "                dq.append(next)\n",
    "                check[next]=1\n",
    "                res[next]=res[now]+1"
   ]
  },
  {
   "cell_type": "markdown",
   "metadata": {},
   "source": [
    "# 8. 사과나무 (BFS)"
   ]
  },
  {
   "cell_type": "code",
   "execution_count": 32,
   "metadata": {},
   "outputs": [],
   "source": [
    "n=5\n",
    "x=[\n",
    "    [10, 13, 10, 12, 15],\n",
    "    [12, 39, 30, 23, 11],\n",
    "    [11, 25, 50, 53, 15],\n",
    "    [19, 27, 29, 37, 27],\n",
    "    [19, 13, 30, 13, 19]\n",
    "]"
   ]
  },
  {
   "cell_type": "code",
   "execution_count": 33,
   "metadata": {},
   "outputs": [],
   "source": [
    "from collections import deque\n",
    "dq=deque()\n",
    "dx=[-1,0,1,0]\n",
    "dy=[0,1,0,-1]\n",
    "res=[]\n",
    "flag=0\n",
    "ch=[[0]*n for i in range(n)]\n",
    "dq.append((n//2,n//2))"
   ]
  },
  {
   "cell_type": "code",
   "execution_count": 37,
   "metadata": {},
   "outputs": [
    {
     "name": "stdout",
     "output_type": "stream",
     "text": [
      "379\n"
     ]
    }
   ],
   "source": [
    "while dq:\n",
    "    \n",
    "    if flag==n//2:\n",
    "        print(sum(res))\n",
    "        break\n",
    "        \n",
    "    tmp=len(dq)\n",
    "    for _ in range(tmp): # 한 레벨(깊이) 에서 뻗어나가는 가지수\n",
    "        xy=dq.popleft()\n",
    "        \n",
    "        for i in range(4):\n",
    "            next_x= xy[0]+dx[i]\n",
    "            next_y= xy[1]+dy[i]\n",
    "            if 0 <= next_x < n and 0 <= next_y < n:\n",
    "                if ch[next_y][next_x]==0:\n",
    "                    ch[next_y][next_x]=1\n",
    "                    dq.append([next_x,next_y])\n",
    "                    res.append(x[next_y][next_x])\n",
    "    flag+=1\n"
   ]
  },
  {
   "cell_type": "markdown",
   "metadata": {},
   "source": [
    "# 9. 미로의 최단거리 통로 (BFS)"
   ]
  },
  {
   "cell_type": "code",
   "execution_count": 65,
   "metadata": {},
   "outputs": [],
   "source": [
    "board=[\n",
    "    [0, 0, 0, 0, 0, 0, 0],\n",
    "    [0, 1, 1, 1, 1, 1, 0],\n",
    "    [0, 0, 0, 1, 0, 0, 0],\n",
    "    [1, 1, 0, 1, 0, 1, 1],\n",
    "    [1, 1, 0, 1, 0, 0, 0],\n",
    "    [1, 0, 0, 0, 1, 0, 0],\n",
    "    [1, 0, 1, 0, 0, 0, 0],\n",
    "]"
   ]
  },
  {
   "cell_type": "code",
   "execution_count": 66,
   "metadata": {},
   "outputs": [],
   "source": [
    "from collections import deque\n",
    "\n",
    "dq=deque()\n",
    "\n",
    "dx=[-1,0,1,0]\n",
    "dy=[0,1,0,-1]\n",
    "n=7\n",
    "res=[[0]*n for _ in range(n)]\n",
    "board[0][0]=1\n",
    "dq.append((0,0))"
   ]
  },
  {
   "cell_type": "code",
   "execution_count": 67,
   "metadata": {},
   "outputs": [
    {
     "name": "stdout",
     "output_type": "stream",
     "text": [
      "12\n"
     ]
    }
   ],
   "source": [
    "while dq:\n",
    "\n",
    "    now=dq.popleft()\n",
    "    for j in range(4):\n",
    "        next_x= now[0] + dx[j]\n",
    "        next_y= now[1] + dy[j]\n",
    "        if 0<=next_x<=(n-1) and 0<=next_y<=(n-1) and board[next_y][next_x]==0:\n",
    "            board[next_y][next_x]=1\n",
    "            res[next_y][next_x]=res[now[1]][now[0]]+1\n",
    "            dq.append((next_x,next_y))\n",
    "if board[n-1][n-1]==0:\n",
    "    print(-1)\n",
    "else:\n",
    "    print(res[n-1][n-1])"
   ]
  },
  {
   "cell_type": "markdown",
   "metadata": {},
   "source": [
    "# 10. 미로탐색 (DFS)"
   ]
  },
  {
   "cell_type": "code",
   "execution_count": 72,
   "metadata": {},
   "outputs": [
    {
     "name": "stdout",
     "output_type": "stream",
     "text": [
      "8\n"
     ]
    }
   ],
   "source": [
    "def DFS(x,y):\n",
    "    global cnt\n",
    "    if (x,y)==(n-1,n-1):\n",
    "        cnt+=1\n",
    "        \n",
    "    else:\n",
    "        for i in range(4):\n",
    "            xx=x+dx[i]\n",
    "            yy=y+dy[i]\n",
    "            if 0<=xx<=(n-1) and 0<=yy<=(n-1) and board[yy][xx]==0:\n",
    "                board[yy][xx]=1\n",
    "                DFS(xx,yy)\n",
    "                board[yy][xx]=0\n",
    "\n",
    "if __name__=='__main__':\n",
    "    board=[\n",
    "    [0, 0, 0, 0, 0, 0, 0],\n",
    "    [0, 1, 1, 1, 1, 1, 0],\n",
    "    [0, 0, 0, 1, 0, 0, 0],\n",
    "    [1, 1, 0, 1, 0, 1, 1],\n",
    "    [1, 1, 0, 0, 0, 0, 1],\n",
    "    [1, 1, 0, 1, 1, 0, 0],\n",
    "    [1, 0, 0, 0, 0, 0, 0],\n",
    "    ]\n",
    "    board[0][0]=1\n",
    "    cnt=0\n",
    "    n=7\n",
    "    dx=[-1,0,1,0]\n",
    "    dy=[0,1,0,-1]\n",
    "    DFS(0,0)\n",
    "    print(cnt)"
   ]
  },
  {
   "cell_type": "markdown",
   "metadata": {},
   "source": [
    "# 11. 등산경로 (DFS)"
   ]
  },
  {
   "cell_type": "code",
   "execution_count": 78,
   "metadata": {},
   "outputs": [
    {
     "name": "stdout",
     "output_type": "stream",
     "text": [
      "5\n"
     ]
    }
   ],
   "source": [
    "def DFS(x,y):\n",
    "    global cnt\n",
    "    if (x,y)==(e_x,e_y):\n",
    "        cnt+=1\n",
    "    else:\n",
    "        for i in range(4):\n",
    "            xx=x+dx[i]\n",
    "            yy=y+dy[i]\n",
    "            if 0<=xx<=n-1 and 0<=yy<=n-1 :\n",
    "                if mapp[yy][xx] > mapp[y][x]:\n",
    "                    DFS(xx,yy)\n",
    "\n",
    "if __name__ == '__main__':    \n",
    "    n=5\n",
    "    mapp=[\n",
    "        [2 ,23, 92, 78, 93],\n",
    "        [59, 50, 48, 90, 80],\n",
    "        [30, 53, 70, 75, 96],\n",
    "        [94, 91, 82, 89, 93],\n",
    "        [97, 98, 95, 96, 100]\n",
    "\n",
    "    ]\n",
    "    tmp1=-2147000000\n",
    "    tmp2=2147000000\n",
    "    s_x,s_y=0,0\n",
    "    e_x,e_y=0,0\n",
    "    for i in range(n):\n",
    "        for j in range(n):\n",
    "            if mapp[i][j]>tmp1:\n",
    "                tmp1=mapp[i][j]\n",
    "                e_x,e_y=j,i\n",
    "            if tmp2 > mapp[i][j]:\n",
    "                tmp2=mapp[i][j]\n",
    "                s_x,s_y=j,i\n",
    "            \n",
    "    dx=[-1,0,1,0]\n",
    "    dy=[0,1,0,-1]\n",
    "    cnt=0\n",
    "    DFS(s_x,s_y)\n",
    "    print(cnt)"
   ]
  },
  {
   "cell_type": "markdown",
   "metadata": {},
   "source": [
    "# 12-1. 단지 번호 붙이기 (DFS)"
   ]
  },
  {
   "cell_type": "code",
   "execution_count": 1,
   "metadata": {},
   "outputs": [
    {
     "name": "stdout",
     "output_type": "stream",
     "text": [
      "3\n",
      "7\n",
      "8\n",
      "9\n"
     ]
    }
   ],
   "source": [
    "def DFS(x,y):\n",
    "    global cnt\n",
    "    for i in range(4):\n",
    "        xx=x+dx[i]\n",
    "        yy=y+dy[i]\n",
    "        if 0<=xx<=(n-1) and 0<=yy<=(n-1) and mapp[yy][xx]==1:\n",
    "            mapp[yy][xx]=0\n",
    "            cnt+=1\n",
    "            DFS(xx,yy)\n",
    "\n",
    "\n",
    "if __name__=='__main__':\n",
    "    n=7\n",
    "    mapp=[\n",
    "        [0,1,1,0,1,0,0],\n",
    "        [0,1,1,0,1,0,1],\n",
    "        [1,1,1,0,1,0,1],\n",
    "        [0,0,0,0,1,1,1],\n",
    "        [0,1,0,0,0,0,0],\n",
    "        [0,1,1,1,1,1,0],\n",
    "        [0,1,1,1,0,0,0]\n",
    "    ]\n",
    "    cnts=[]\n",
    "    dx=[-1,0,1,0]\n",
    "    dy=[0,1,0,-1]\n",
    "    for i in range(n):\n",
    "        for j in range(n):\n",
    "            if mapp[j][i]==1:\n",
    "                mapp[j][i]=0\n",
    "                cnt=1\n",
    "                s_x,s_y=i,j\n",
    "                DFS(s_x,s_y)\n",
    "                cnts.append(cnt)\n",
    "\n",
    "    cnts=sorted(cnts)\n",
    "    print(len(cnts))\n",
    "    for k in cnts:\n",
    "        print(k)"
   ]
  },
  {
   "cell_type": "markdown",
   "metadata": {},
   "source": [
    "# 12-2. 단지 번호 붙이기 (BFS)"
   ]
  },
  {
   "cell_type": "code",
   "execution_count": 15,
   "metadata": {},
   "outputs": [],
   "source": [
    "from collections import deque\n",
    "n=7\n",
    "mapp=[\n",
    "    [0,1,1,0,1,0,0],\n",
    "    [0,1,1,0,1,0,1],\n",
    "    [1,1,1,0,1,0,1],\n",
    "    [0,0,0,0,1,1,1],\n",
    "    [0,1,0,0,0,0,0],\n",
    "    [0,1,1,1,1,1,0],\n",
    "    [0,1,1,1,0,0,0]\n",
    "]"
   ]
  },
  {
   "cell_type": "code",
   "execution_count": 16,
   "metadata": {},
   "outputs": [
    {
     "name": "stdout",
     "output_type": "stream",
     "text": [
      "3\n",
      "7\n",
      "8\n",
      "9\n"
     ]
    }
   ],
   "source": [
    "dq=deque()\n",
    "cnts=[]\n",
    "dx=[-1,0,1,0]\n",
    "dy=[0,1,0,-1]\n",
    "for i in range(n):\n",
    "    for j in range(n):\n",
    "        if mapp[j][i]==1:\n",
    "            mapp[j][i]=0\n",
    "            cnt=1\n",
    "            dq.append((i,j))\n",
    "            while dq:\n",
    "                now=dq.popleft()\n",
    "                for k in range(4):\n",
    "                    x=now[0]+dx[k]\n",
    "                    y=now[1]+dy[k]\n",
    "                    if 0<=x<=(n-1) and 0<=y<=(n-1):\n",
    "                        if mapp[y][x]==1:\n",
    "                            cnt+=1\n",
    "                            mapp[y][x]=0\n",
    "                            dq.append((x,y))\n",
    "            cnts.append(cnt)\n",
    "\n",
    "cnts=sorted(cnts)\n",
    "print(len(cnts))\n",
    "for k in cnts:\n",
    "    print(k)"
   ]
  },
  {
   "cell_type": "markdown",
   "metadata": {},
   "source": [
    "# 13. 섬나라 아일랜드 (BFS)"
   ]
  },
  {
   "cell_type": "code",
   "execution_count": 12,
   "metadata": {},
   "outputs": [],
   "source": [
    "n=7\n",
    "board=[\n",
    "    [1, 1, 0, 0, 0, 1, 0],\n",
    "    [0, 1, 1, 0, 1, 1, 0],\n",
    "    [0, 1, 0, 0, 0, 0, 0],\n",
    "    [0, 0, 0, 1, 0, 1, 1],\n",
    "    [1, 1, 0, 1, 1, 0, 0],\n",
    "    [1, 0, 0, 0, 1, 0, 0],\n",
    "    [1, 0, 1, 0, 1, 0, 0]\n",
    "]"
   ]
  },
  {
   "cell_type": "code",
   "execution_count": 13,
   "metadata": {},
   "outputs": [],
   "source": [
    "from collections import deque\n",
    "dq=deque()\n",
    "cnt=0\n",
    "dx=[-1,0,1,0,-1,-1,1,1]\n",
    "dy=[0,1,0,-1,1,-1,1,-1]"
   ]
  },
  {
   "cell_type": "code",
   "execution_count": 14,
   "metadata": {},
   "outputs": [
    {
     "name": "stdout",
     "output_type": "stream",
     "text": [
      "5\n"
     ]
    }
   ],
   "source": [
    "for i in range(n):\n",
    "    for j in range(n):\n",
    "        if board[j][i]==1:\n",
    "            board[j][i]=0\n",
    "            dq.append((i,j))\n",
    "            while dq:\n",
    "                now = dq.popleft()\n",
    "                for k in range(8):\n",
    "                    xx=now[0]+dx[k]\n",
    "                    yy=now[1]+dy[k]\n",
    "                    if 0<=xx<=(n-1) and 0<=yy<=(n-1) and board[yy][xx]==1:\n",
    "                        board[yy][xx]=0\n",
    "                        dq.append((xx,yy))      \n",
    "            cnt+=1\n",
    "print(cnt)"
   ]
  },
  {
   "cell_type": "markdown",
   "metadata": {},
   "source": [
    "# 14. 안전영역(BFS)"
   ]
  },
  {
   "cell_type": "code",
   "execution_count": 18,
   "metadata": {},
   "outputs": [],
   "source": [
    "n=5\n",
    "city=[\n",
    "    [6, 8, 2, 6, 2],\n",
    "    [3, 2, 3, 4, 6],\n",
    "    [6, 7, 3, 3, 2],\n",
    "    [7, 2, 5, 3, 6],\n",
    "    [8, 9, 5, 2, 7]\n",
    "]"
   ]
  },
  {
   "cell_type": "code",
   "execution_count": 19,
   "metadata": {},
   "outputs": [
    {
     "name": "stdout",
     "output_type": "stream",
     "text": [
      "5\n"
     ]
    }
   ],
   "source": [
    "maxx=-2147000000\n",
    "for i in range(n):\n",
    "    for j in range(n):\n",
    "        if  city[j][i] > maxx:\n",
    "            maxx=city[j][i]\n",
    "            \n",
    "from collections import deque\n",
    "\n",
    "dx=[-1,0,1,0]\n",
    "dy=[0,1,0,-1]\n",
    "res=-2147000000\n",
    "for h in range(maxx+1):\n",
    "    check=[[0]*n for _ in range(n)]\n",
    "    for i in range(n):\n",
    "        for j in range(n):\n",
    "            if city[j][i]>h:\n",
    "                check[j][i]=1\n",
    "    dq=deque()\n",
    "    tmp=0\n",
    "    for i in range(n):\n",
    "        for j in range(n):\n",
    "            if check[j][i]==1:\n",
    "                tmp+=1\n",
    "                check[j][i]=0\n",
    "                dq.append((i,j))\n",
    "                while dq:\n",
    "                    now=dq.popleft()\n",
    "                    for k in range(4):\n",
    "                        xx=now[0]+dx[k]\n",
    "                        yy=now[1]+dy[k]\n",
    "                        if 0<=xx<=(n-1) and 0<=yy<=(n-1) and check[yy][xx]==1:\n",
    "                            check[yy][xx]=0\n",
    "                            dq.append((xx,yy))\n",
    "    if tmp>res:\n",
    "        res=tmp\n",
    "print(res)"
   ]
  },
  {
   "cell_type": "markdown",
   "metadata": {},
   "source": [
    "# 15. 토마토 (BFS)"
   ]
  },
  {
   "cell_type": "code",
   "execution_count": 61,
   "metadata": {},
   "outputs": [],
   "source": [
    "m,n=6,4\n",
    "box=[\n",
    "    [0, 0, -1, 0, 0, 0],\n",
    "    [0, 0, 1, 0, -1, 0],\n",
    "    [0, 0, -1, 0, 0, 0],\n",
    "    [0, 0, 0, 0, -1, 1]\n",
    "]"
   ]
  },
  {
   "cell_type": "code",
   "execution_count": 62,
   "metadata": {},
   "outputs": [
    {
     "name": "stdout",
     "output_type": "stream",
     "text": [
      "4\n"
     ]
    }
   ],
   "source": [
    "dx=[-1,0,1,0]\n",
    "dy=[0,1,0,-1]\n",
    "from collections import deque\n",
    "import sys\n",
    "dq=deque()\n",
    "date=[[0]*m for i in range(n)]\n",
    "\n",
    "breaker=False\n",
    "for i in range(m):\n",
    "    for j in range(n):\n",
    "        if box[j][i]==0:\n",
    "            flag=1\n",
    "            breaker=True\n",
    "            break\n",
    "    if breaker: # 이중for문은 breaker변수로 컨트롤함.\n",
    "        break\n",
    "else:\n",
    "    print(0)\n",
    "    sys.exit(0)\n",
    "\n",
    "for i in range(m):\n",
    "    for j in range(n):\n",
    "        if box[j][i]==1:\n",
    "            dq.append((i,j))\n",
    "while dq:\n",
    "    now=dq.popleft()\n",
    "    for k in range(4):\n",
    "        xx=now[0]+dx[k]\n",
    "        yy=now[1]+dy[k]\n",
    "        if 0<=xx<=(m-1) and 0<=yy<=(n-1) and box[yy][xx]==0:\n",
    "            box[yy][xx]=1\n",
    "            date[yy][xx]=date[now[1]][now[0]]+1\n",
    "            dq.append((xx,yy))\n",
    "            \n",
    "res=-2147000000\n",
    "for i in range(m):\n",
    "    for j in range(n):\n",
    "        if box[j][i]==0:\n",
    "            flag=0\n",
    "if flag==1:\n",
    "    for i in range(m):\n",
    "        for j in range(n):\n",
    "            res=max(res,date[j][i])\n",
    "    print(res)\n",
    "else:\n",
    "    print(-1)\n",
    "    "
   ]
  },
  {
   "cell_type": "markdown",
   "metadata": {},
   "source": [
    "# 16. 사다리타기 (DFS)"
   ]
  },
  {
   "cell_type": "code",
   "execution_count": 76,
   "metadata": {},
   "outputs": [
    {
     "name": "stdout",
     "output_type": "stream",
     "text": [
      "7\n"
     ]
    }
   ],
   "source": [
    "def DFS(x,y):\n",
    "    ch[y][x]=1\n",
    "    if y==0:\n",
    "        print(x)\n",
    "    else:\n",
    "        if x-1 >= 0 and ladder[y][x-1] == 1 and ch[y][x-1]==0:\n",
    "            DFS(x-1,y)\n",
    "        elif x+1 < 10 and ladder[y][x+1]==1 and ch[y][x+1]==0:\n",
    "            DFS(x+1,y)\n",
    "        else:\n",
    "            DFS(x,y-1)\n",
    "        \n",
    "\n",
    "if __name__ == '__main__':\n",
    "    ladder=[\n",
    "    [1, 0, 1, 0, 0, 1, 0, 1, 0, 1],\n",
    "    [1, 0, 1, 1, 1, 1, 0, 1, 0, 1],\n",
    "    [1, 0, 1, 0, 0, 1, 0, 1, 0, 1],\n",
    "    [1, 0, 1, 0, 0, 1, 0, 1, 1, 1],\n",
    "    [1, 0, 1, 0, 0, 1, 0, 1, 0, 1],\n",
    "    [1, 0, 1, 1, 1, 1, 0, 1, 0, 1],\n",
    "    [1, 0, 1, 0, 0, 1, 0, 1, 1, 1],\n",
    "    [1, 1, 1, 0, 0, 1, 0, 1, 0, 1],\n",
    "    [1, 0, 1, 0, 0, 1, 1, 1, 0, 1],\n",
    "    [1, 0, 1, 0, 0, 2, 0, 1, 0, 1]\n",
    "    ]\n",
    "    ch=[[0]*10 for _ in range(10)]\n",
    "    for i in range(10):\n",
    "        if ladder[9][i]==2:\n",
    "            DFS(i,9)"
   ]
  },
  {
   "cell_type": "markdown",
   "metadata": {},
   "source": [
    "# 17. 피자 배달 거리 (DFS)"
   ]
  },
  {
   "cell_type": "code",
   "execution_count": 86,
   "metadata": {},
   "outputs": [],
   "source": [
    "n,m=4,4\n",
    "mapp=[\n",
    "    [0, 1, 2, 0],\n",
    "    [1, 0, 2, 1],\n",
    "    [0, 2, 1, 2],\n",
    "    [2, 0, 1, 2]\n",
    "]"
   ]
  },
  {
   "cell_type": "code",
   "execution_count": 89,
   "metadata": {},
   "outputs": [
    {
     "name": "stdout",
     "output_type": "stream",
     "text": [
      "6\n"
     ]
    }
   ],
   "source": [
    "def DFS(L,s):\n",
    "    global res\n",
    "    if L==m:\n",
    "        tot=0\n",
    "        for j in range(len(hs)):\n",
    "            x1,y1=hs[j][0],hs[j][1]\n",
    "            dis=2147000000\n",
    "            for x in selected_pz:\n",
    "                x2,y2=pz[x][0],pz[x][1]\n",
    "                dis=min(dis,abs(x1-x2)+abs(y1-y2))\n",
    "            tot+=dis\n",
    "        if tot<res:\n",
    "            res=tot\n",
    "        \n",
    "    else:\n",
    "        for i in range(s,len(pz)):\n",
    "            selected_pz[L]=i\n",
    "            DFS(L+1,i+1)\n",
    "    \n",
    "\n",
    "if __name__ == '__main__':\n",
    "    n,m=4,4\n",
    "    mapp=[\n",
    "        [0, 1, 2, 0],\n",
    "        [1, 0, 2, 1],\n",
    "        [0, 2, 1, 2],\n",
    "        [2, 0, 1, 2]\n",
    "    ]\n",
    "    hs=[]\n",
    "    pz=[]\n",
    "    selected_pz=[0]*m\n",
    "    for i in range(n):\n",
    "        for j in range(n):\n",
    "            if mapp[j][i]==1:\n",
    "                hs.append((i,j))\n",
    "            elif mapp[j][i]==2:\n",
    "                pz.append((i,j))\n",
    "    res=2147000000\n",
    "    DFS(0,0)\n",
    "    print(res)"
   ]
  }
 ],
 "metadata": {
  "kernelspec": {
   "display_name": "Python 3",
   "language": "python",
   "name": "python3"
  },
  "language_info": {
   "codemirror_mode": {
    "name": "ipython",
    "version": 3
   },
   "file_extension": ".py",
   "mimetype": "text/x-python",
   "name": "python",
   "nbconvert_exporter": "python",
   "pygments_lexer": "ipython3",
   "version": "3.8.5"
  }
 },
 "nbformat": 4,
 "nbformat_minor": 2
}
