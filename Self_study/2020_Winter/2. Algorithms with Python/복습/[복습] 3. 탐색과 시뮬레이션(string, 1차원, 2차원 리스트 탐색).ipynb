{
 "cells": [
  {
   "cell_type": "markdown",
   "metadata": {},
   "source": [
    "# 1. 회문 문자열 검사"
   ]
  },
  {
   "cell_type": "code",
   "execution_count": 1,
   "metadata": {},
   "outputs": [],
   "source": [
    "n=5\n",
    "words=['level',\n",
    "'moon',\n",
    "'abcba',\n",
    "'soon',\n",
    "'gooG']"
   ]
  },
  {
   "cell_type": "code",
   "execution_count": 2,
   "metadata": {},
   "outputs": [],
   "source": [
    "def check_reverse(x):\n",
    "    x=x.lower()\n",
    "    for i in range(len(x)//2):\n",
    "        if x[i]!=x[-i-1]:\n",
    "            return 'NO'\n",
    "    else:\n",
    "        return 'YES'"
   ]
  },
  {
   "cell_type": "code",
   "execution_count": 3,
   "metadata": {
    "scrolled": true
   },
   "outputs": [
    {
     "name": "stdout",
     "output_type": "stream",
     "text": [
      "#1 YES\n",
      "#2 NO\n",
      "#3 YES\n",
      "#4 NO\n",
      "#5 YES\n"
     ]
    }
   ],
   "source": [
    "for idx,word in enumerate(words,1):\n",
    "    print( f'#{idx} {check_reverse(word)}')"
   ]
  },
  {
   "cell_type": "markdown",
   "metadata": {},
   "source": [
    "# 2. 숫자만 추출"
   ]
  },
  {
   "cell_type": "code",
   "execution_count": 4,
   "metadata": {},
   "outputs": [],
   "source": [
    "x='g0en2Ts8eSoft'"
   ]
  },
  {
   "cell_type": "code",
   "execution_count": 5,
   "metadata": {},
   "outputs": [],
   "source": [
    "res=''\n",
    "for i in x:\n",
    "    if i.isdecimal():\n",
    "        res+=i\n",
    "res=int(res)\n",
    "cnt=0\n",
    "for i in range(1,res+1):\n",
    "    if res % i == 0:\n",
    "        cnt+=1"
   ]
  },
  {
   "cell_type": "code",
   "execution_count": 6,
   "metadata": {},
   "outputs": [
    {
     "name": "stdout",
     "output_type": "stream",
     "text": [
      "28\n",
      "6\n"
     ]
    }
   ],
   "source": [
    "print(res)\n",
    "print(cnt)"
   ]
  },
  {
   "cell_type": "markdown",
   "metadata": {},
   "source": [
    "# 3. 카드 역배치(정올 기출)"
   ]
  },
  {
   "cell_type": "markdown",
   "metadata": {},
   "source": [
    "입력으로 들어옴\n",
    "```\n",
    "5 10\n",
    "9 13\n",
    "1 2\n",
    "3 4\n",
    "5 6\n",
    "1 2\n",
    "3 4\n",
    "5 6\n",
    "1 20\n",
    "1 20\n",
    "```"
   ]
  },
  {
   "cell_type": "code",
   "execution_count": null,
   "metadata": {},
   "outputs": [],
   "source": [
    "cards = list(range(21))"
   ]
  },
  {
   "cell_type": "code",
   "execution_count": null,
   "metadata": {},
   "outputs": [],
   "source": [
    "for _ in range(10):\n",
    "    ai,bi = map(int,input().split())\n",
    "    cards=cards[:ai] + cards[bi:ai-1:-1] + cards[bi+1:]\n",
    "cards.remove(0)\n",
    "\n",
    "for i in cards:\n",
    "    print(i,end=' ')\n"
   ]
  },
  {
   "cell_type": "markdown",
   "metadata": {},
   "source": [
    "# 4. 두 리스트 합치기"
   ]
  },
  {
   "cell_type": "code",
   "execution_count": 7,
   "metadata": {},
   "outputs": [],
   "source": [
    "n=3\n",
    "arr1=[1, 3, 5]\n",
    "m=5\n",
    "arr2=[2, 3, 6, 7, 9]"
   ]
  },
  {
   "cell_type": "code",
   "execution_count": 8,
   "metadata": {},
   "outputs": [],
   "source": [
    "p1=p2=0\n",
    "res=[]"
   ]
  },
  {
   "cell_type": "code",
   "execution_count": 9,
   "metadata": {},
   "outputs": [
    {
     "name": "stdout",
     "output_type": "stream",
     "text": [
      "1 2 3 3 5 6 7 9 "
     ]
    }
   ],
   "source": [
    "while True:\n",
    "    if arr1[p1] < arr2[p2]:\n",
    "        res.append(arr1[p1])\n",
    "        p1+=1\n",
    "    else:\n",
    "        res.append(arr2[p2])\n",
    "        p2+=1\n",
    "        \n",
    "    if p1==len(arr1):\n",
    "        res.extend(arr2[p2:])\n",
    "        break\n",
    "    elif p2==len(arr2):\n",
    "        res.extend(arr1[p1:])\n",
    "        break      \n",
    "for i in res:\n",
    "    print(i,end=' ')"
   ]
  },
  {
   "cell_type": "markdown",
   "metadata": {},
   "source": [
    "# 5. 수들의 합"
   ]
  },
  {
   "cell_type": "code",
   "execution_count": 6,
   "metadata": {},
   "outputs": [],
   "source": [
    "n,m = 8 , 3\n",
    "arr = [1, 2, 1, 3, 1, 1, 1, 2]"
   ]
  },
  {
   "cell_type": "markdown",
   "metadata": {},
   "source": [
    "### 1) 시간초과"
   ]
  },
  {
   "cell_type": "code",
   "execution_count": 3,
   "metadata": {},
   "outputs": [],
   "source": [
    "cnt=0\n",
    "for i in range(n):\n",
    "    for j in range(i+1,n+1): # 이렇게 전부 탐색하면, 시간초과다.\n",
    "        if sum(arr[i:j]) == m:\n",
    "            cnt+=1"
   ]
  },
  {
   "cell_type": "code",
   "execution_count": 4,
   "metadata": {},
   "outputs": [
    {
     "name": "stdout",
     "output_type": "stream",
     "text": [
      "5\n"
     ]
    }
   ],
   "source": [
    "print(cnt)"
   ]
  },
  {
   "cell_type": "markdown",
   "metadata": {},
   "source": [
    "### 2) 포인터 두개잡기 (sum함수 쓰지말기. sum자체가 for문임)"
   ]
  },
  {
   "cell_type": "code",
   "execution_count": 8,
   "metadata": {},
   "outputs": [
    {
     "name": "stdout",
     "output_type": "stream",
     "text": [
      "5\n"
     ]
    }
   ],
   "source": [
    "lp=0\n",
    "rp=1\n",
    "check=arr[lp] # 초기화\n",
    "cnt=0\n",
    "while True:\n",
    "    if check < m:\n",
    "        if rp < n:\n",
    "            check+=arr[rp]\n",
    "            rp+=1\n",
    "        elif rp==n: # 포인터가 넘어가면 추가 불가능\n",
    "            break           \n",
    "    elif check > m:\n",
    "        check-=arr[lp]\n",
    "        lp+=1        \n",
    "    else:\n",
    "        cnt+=1\n",
    "        check-=arr[lp]\n",
    "        lp+=1\n",
    "    \n",
    "print(cnt)"
   ]
  },
  {
   "cell_type": "markdown",
   "metadata": {},
   "source": [
    "# 6. 격자판 최대합"
   ]
  },
  {
   "cell_type": "code",
   "execution_count": 9,
   "metadata": {},
   "outputs": [],
   "source": [
    "n=5\n",
    "x = [[10,13,10,12,15],[12,39,30,23,11],[11,25,50,53,15],\\\n",
    "     [19,27,29,37,27],[19,13,30,13,19]]"
   ]
  },
  {
   "cell_type": "code",
   "execution_count": 10,
   "metadata": {},
   "outputs": [
    {
     "name": "stdout",
     "output_type": "stream",
     "text": [
      "155\n"
     ]
    }
   ],
   "source": [
    "target=[]\n",
    "\n",
    "diag1=diag2=0\n",
    "for i in range(n):\n",
    "    diag1+=x[i][i]\n",
    "    diag2+=x[i][-i-1]    \n",
    "target.append(diag1)\n",
    "target.append(diag2)\n",
    "\n",
    "for i in range(n):\n",
    "    row=0\n",
    "    col=0\n",
    "    for j in range(n):\n",
    "        row+=x[i][j]\n",
    "        col+=x[j][i]\n",
    "\n",
    "    target.append(row)\n",
    "    target.append(col)\n",
    "\n",
    "res=-2147000000\n",
    "for i in range(len(target)):\n",
    "    if res<target[i]:\n",
    "        res=target[i]\n",
    "print(res)\n",
    "    "
   ]
  },
  {
   "cell_type": "markdown",
   "metadata": {},
   "source": [
    "# 7. 사과나무"
   ]
  },
  {
   "cell_type": "code",
   "execution_count": 24,
   "metadata": {},
   "outputs": [],
   "source": [
    "n=5\n",
    "x = [[10,13,10,12,15],[12,39,30,23,11],[11,25,50,53,15],\\\n",
    "     [19,27,29,37,27],[19,13,30,13,19]]"
   ]
  },
  {
   "cell_type": "code",
   "execution_count": 25,
   "metadata": {},
   "outputs": [],
   "source": [
    "lt = n//2\n",
    "rt = n//2 +1\n",
    "res=[]\n",
    "for i in range(n//2+1):\n",
    "    res.extend(x[i][lt-i:rt+i])\n",
    "for j in range(n//2):\n",
    "    res.extend(x[j+1+n//2][j+1:n-j-1])"
   ]
  },
  {
   "cell_type": "code",
   "execution_count": 27,
   "metadata": {},
   "outputs": [
    {
     "name": "stdout",
     "output_type": "stream",
     "text": [
      "379\n"
     ]
    }
   ],
   "source": [
    "print(sum(res))"
   ]
  },
  {
   "cell_type": "markdown",
   "metadata": {},
   "source": [
    "# 8. 곳감(모래시계)"
   ]
  },
  {
   "cell_type": "code",
   "execution_count": 115,
   "metadata": {},
   "outputs": [],
   "source": [
    "n=5\n",
    "x = [[10,13,10,12,15],[12,39,30,23,11],[11,25,50,53,15],\\\n",
    "     [19,27,29,37,27],[19,13,30,13,19]]\n",
    "m=3\n",
    "y=[[2,0,3],[5,1,2],[3,1,4]]"
   ]
  },
  {
   "cell_type": "code",
   "execution_count": 116,
   "metadata": {},
   "outputs": [],
   "source": [
    "from collections import deque"
   ]
  },
  {
   "cell_type": "code",
   "execution_count": 117,
   "metadata": {},
   "outputs": [],
   "source": [
    "for i in range(m):\n",
    "    cur_idx = y[i][0]-1\n",
    "    dq=deque(x[cur_idx])\n",
    "    \n",
    "    if y[i][1] == 0:\n",
    "        for j in range(y[i][2]):\n",
    "            dq.append(dq.popleft())\n",
    "    elif y[i][1] == 1:\n",
    "        for j in range(y[i][2]):\n",
    "            dq.appendleft(dq.pop())\n",
    "            \n",
    "    x[cur_idx]=list(dq)"
   ]
  },
  {
   "cell_type": "code",
   "execution_count": 119,
   "metadata": {},
   "outputs": [],
   "source": [
    "lt=0\n",
    "rt=n-1\n",
    "tot=0\n",
    "for i in range(n):\n",
    "    for j in range(lt,rt+1):\n",
    "        tot+=x[i][j]\n",
    "\n",
    "    if i < n//2:\n",
    "        lt+=1\n",
    "        rt-=1\n",
    "    else:\n",
    "        lt-=1\n",
    "        rt+=1"
   ]
  },
  {
   "cell_type": "code",
   "execution_count": 120,
   "metadata": {},
   "outputs": [
    {
     "name": "stdout",
     "output_type": "stream",
     "text": [
      "362\n"
     ]
    }
   ],
   "source": [
    "print(tot)"
   ]
  },
  {
   "cell_type": "markdown",
   "metadata": {},
   "source": [
    "# 9. 봉우리"
   ]
  },
  {
   "cell_type": "code",
   "execution_count": 132,
   "metadata": {},
   "outputs": [],
   "source": [
    "n=5\n",
    "x=[[5,3,7,2,3],[3,7,1,6,1],[7,2,5,3,4],[4,3,6,4,1],[8,7,3,5,2]]"
   ]
  },
  {
   "cell_type": "code",
   "execution_count": 133,
   "metadata": {},
   "outputs": [],
   "source": [
    "dx=[-1,0,1,0]\n",
    "dy=[0,1,0,-1]"
   ]
  },
  {
   "cell_type": "code",
   "execution_count": 134,
   "metadata": {},
   "outputs": [],
   "source": [
    "for i in x:\n",
    "    i.insert(0,0)\n",
    "    i.append(0)\n",
    "padding=[0]*(n+2)\n",
    "x.insert(0,padding)\n",
    "x.append(padding)"
   ]
  },
  {
   "cell_type": "code",
   "execution_count": 136,
   "metadata": {},
   "outputs": [],
   "source": [
    "cnt=0\n",
    "for i in range(1,n+1):\n",
    "    for j in range(1,n+1):\n",
    "        if all(x[i][j] > x[i+dy[k]][j+dx[k]] for k in range(4)):\n",
    "            cnt+=1"
   ]
  },
  {
   "cell_type": "code",
   "execution_count": 138,
   "metadata": {
    "scrolled": false
   },
   "outputs": [
    {
     "name": "stdout",
     "output_type": "stream",
     "text": [
      "10\n"
     ]
    }
   ],
   "source": [
    "print(cnt)"
   ]
  },
  {
   "cell_type": "markdown",
   "metadata": {},
   "source": [
    "# 10. 스토쿠 검사"
   ]
  },
  {
   "cell_type": "code",
   "execution_count": 159,
   "metadata": {},
   "outputs": [],
   "source": [
    "x=['1 4 3 6 2 8 5 7 9'.split(),\n",
    "'5 7 2 1 3 9 4 6 8'.split(),\n",
    "'9 8 6 7 5 4 2 3 1'.split(),\n",
    "'3 9 1 5 4 2 7 8 6'.split(),\n",
    "'4 6 8 9 1 7 3 5 2'.split(),\n",
    "'7 2 5 8 6 3 9 1 4'.split(),\n",
    "'2 3 7 4 8 1 6 9 5'.split(),\n",
    "'6 1 9 2 7 5 8 4 3'.split(),\n",
    "'8 5 4 3 9 6 1 2 7'.split()]\n",
    "x = [list(map(lambda a:int(a),i)) for i in x]"
   ]
  },
  {
   "cell_type": "code",
   "execution_count": 160,
   "metadata": {},
   "outputs": [
    {
     "name": "stdout",
     "output_type": "stream",
     "text": [
      "YES\n"
     ]
    }
   ],
   "source": [
    "flag=0\n",
    "for i in range(9):\n",
    "    ch1=[0]*10\n",
    "    ch2=[0]*10\n",
    "    for j in range(9):\n",
    "        ch1[x[i][j]]=1\n",
    "        ch2[x[j][i]]=1\n",
    "        \n",
    "    if sum(ch1) != 9 or sum(ch2) != 9:\n",
    "        flag=1\n",
    "        break\n",
    "        \n",
    "    for i in range(3):\n",
    "        for j in range(3):\n",
    "            ch3=[0]*10\n",
    "            for k in range(3*i,3*i+3):\n",
    "                for l in range(3*j,3*j+3):\n",
    "                    ch3[x[k][l]]=1\n",
    "            if sum(ch3) != 9:\n",
    "                flag=1\n",
    "                break\n",
    "if flag==0:\n",
    "    print('YES')\n",
    "elif flag==1:\n",
    "    print('NO')"
   ]
  },
  {
   "cell_type": "markdown",
   "metadata": {},
   "source": [
    "# 11. 격자판 회문수"
   ]
  },
  {
   "cell_type": "code",
   "execution_count": 178,
   "metadata": {},
   "outputs": [],
   "source": [
    "x=['2 4 1 5 3 2 6'.split(),\n",
    "'3 5 1 8 7 1 7'.split(),\n",
    "'8 3 2 7 1 3 8'.split(),\n",
    "'6 1 2 3 2 1 1'.split(),\n",
    "'1 3 1 3 5 3 2'.split(),\n",
    "'1 1 2 5 6 5 2'.split(),\n",
    "'1 2 2 2 2 1 5'.split()]\n",
    "x = [list(map(lambda a:int(a),i)) for i in x]"
   ]
  },
  {
   "cell_type": "code",
   "execution_count": 179,
   "metadata": {},
   "outputs": [],
   "source": [
    "cnt=0\n",
    "for i in range(7):\n",
    "    for j in range(3):\n",
    "        # 가로\n",
    "        row=x[i][j:j+5]\n",
    "        if row == row[::-1]:\n",
    "            cnt+=1\n",
    "\n",
    "        # 세로    \n",
    "        s1,e1=x[j][i],x[j+4][i]\n",
    "        s2,e2=x[j+1][i],x[j+3][i]\n",
    "        \n",
    "        if s1==e1 and s2==e2:\n",
    "            cnt+=1"
   ]
  },
  {
   "cell_type": "code",
   "execution_count": 180,
   "metadata": {},
   "outputs": [
    {
     "name": "stdout",
     "output_type": "stream",
     "text": [
      "3\n"
     ]
    }
   ],
   "source": [
    "print(cnt)"
   ]
  }
 ],
 "metadata": {
  "kernelspec": {
   "display_name": "Python 3",
   "language": "python",
   "name": "python3"
  },
  "language_info": {
   "codemirror_mode": {
    "name": "ipython",
    "version": 3
   },
   "file_extension": ".py",
   "mimetype": "text/x-python",
   "name": "python",
   "nbconvert_exporter": "python",
   "pygments_lexer": "ipython3",
   "version": "3.8.5"
  }
 },
 "nbformat": 4,
 "nbformat_minor": 2
}
