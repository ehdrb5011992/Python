{
 "cells": [
  {
   "cell_type": "markdown",
   "metadata": {},
   "source": [
    "# 1. 네트워크 선 자르기 (Bottom-Up)"
   ]
  },
  {
   "cell_type": "code",
   "execution_count": 3,
   "metadata": {},
   "outputs": [],
   "source": [
    "n=7"
   ]
  },
  {
   "cell_type": "code",
   "execution_count": 4,
   "metadata": {},
   "outputs": [
    {
     "name": "stdout",
     "output_type": "stream",
     "text": [
      "21\n"
     ]
    }
   ],
   "source": [
    "res=[0]*(n+1)\n",
    "res[1]=1\n",
    "res[2]=2\n",
    "for i in range(3,n+1):\n",
    "    res[i]=res[i-1]+res[i-2]\n",
    "print(res[n])"
   ]
  },
  {
   "cell_type": "markdown",
   "metadata": {},
   "source": [
    "# 2. 네트워크 선 자르기 (Top-Down : 재귀, 메모이제이션)"
   ]
  },
  {
   "cell_type": "code",
   "execution_count": 11,
   "metadata": {},
   "outputs": [
    {
     "name": "stdout",
     "output_type": "stream",
     "text": [
      "21\n"
     ]
    }
   ],
   "source": [
    "def DFS(length):\n",
    "    \n",
    "    if res[length]>0:  # 메모이제이션 (값이 있으면, 그대로 출력)\n",
    "        return res[length]\n",
    "    \n",
    "    if length==1 or length==2:\n",
    "        return length\n",
    "    else:\n",
    "        res[length]=DFS(length-1)+DFS(length-2)\n",
    "        return res[length]\n",
    "\n",
    "if __name__=='__main__':\n",
    "    n=7\n",
    "    res=[0]*(n+1)\n",
    "    print(DFS(n)) # print를 안하면, 연산만 하고 끝남. 그러나, print를 하면,\n",
    "                  # 결과를 출력. 이는 res[7]값을 return하기 때문.\n"
   ]
  },
  {
   "cell_type": "markdown",
   "metadata": {},
   "source": [
    "# 3. 최대 부분 증가수열 (LIS)\n",
    "# dp라는 변수 생성해야하고, 뒤에서부터 살펴봐야함"
   ]
  },
  {
   "cell_type": "markdown",
   "metadata": {},
   "source": [
    "이 문제의 경우, 앞에서부터 살펴봐도 상관없음."
   ]
  },
  {
   "cell_type": "code",
   "execution_count": 12,
   "metadata": {},
   "outputs": [],
   "source": [
    "n=8\n",
    "arr=[5,3,7,8,6,2,9,4]"
   ]
  },
  {
   "cell_type": "code",
   "execution_count": 13,
   "metadata": {},
   "outputs": [],
   "source": [
    "arr.insert(0,0)\n",
    "dp=[0]*(n+1)\n",
    "dp[1]=1\n",
    "res=0"
   ]
  },
  {
   "cell_type": "code",
   "execution_count": 14,
   "metadata": {},
   "outputs": [
    {
     "name": "stdout",
     "output_type": "stream",
     "text": [
      "4\n"
     ]
    }
   ],
   "source": [
    "for i in range(2,n+1):\n",
    "    tmp=0 # 이거 반드시 0이어야함. \n",
    "    for j in range(i-1,0,-1):\n",
    "        if arr[j]< arr[i] :\n",
    "            if dp[j] > tmp:\n",
    "                tmp=dp[j]\n",
    "    dp[i]=tmp+1 # 이전의 것들 중 최대인 것에서 한개 더 증가\n",
    "    if dp[i] > res:\n",
    "        res=dp[i]\n",
    "print(res)"
   ]
  },
  {
   "cell_type": "markdown",
   "metadata": {},
   "source": [
    "# 4. 최대 선 연결하기 (LIS 응용)"
   ]
  },
  {
   "cell_type": "code",
   "execution_count": 27,
   "metadata": {},
   "outputs": [],
   "source": [
    "n=10\n",
    "num=[4,1,2,3,9,7,5,6,10,8]"
   ]
  },
  {
   "cell_type": "code",
   "execution_count": 28,
   "metadata": {},
   "outputs": [
    {
     "name": "stdout",
     "output_type": "stream",
     "text": [
      "6\n"
     ]
    }
   ],
   "source": [
    "num.insert(0,0)\n",
    "dp=[0]*(n+1)\n",
    "dp[1]=1\n",
    "res=-2147000000\n",
    "\n",
    "for i in range(2,n+1):\n",
    "    tmp=0 # 이거 반드시 0이어야함. \n",
    "    for j in range(i-1,0,-1):\n",
    "        if num[j] < num[i]:\n",
    "            if dp[j] > tmp:\n",
    "                tmp=dp[j]\n",
    "    dp[i]=tmp+1 # if문을 만족안하면, 0에서 +1한것으로 초기값이 형성되기 때문임.\n",
    "    if dp[i]>res:\n",
    "        res=dp[i]\n",
    "print(res)"
   ]
  },
  {
   "cell_type": "markdown",
   "metadata": {},
   "source": [
    "# 5. 가장 높은 탑 쌓기 (LIS 응용)"
   ]
  },
  {
   "cell_type": "markdown",
   "metadata": {},
   "source": [
    "LIS는 증가해도되고, 감소해도 됨. 그 수열에 따라 부등호를 바꿔주면 됨."
   ]
  },
  {
   "cell_type": "code",
   "execution_count": 48,
   "metadata": {},
   "outputs": [],
   "source": [
    "n=5 # 개수\n",
    "# 넓이, 무게, 높이\n",
    "area=[25,4,9,16,1] # 아래에 있을수록 넓이와 무게는 크게\n",
    "weit=[4,6,3,5,2]   \n",
    "heit=[3,4,2,2,5]   # 그때의 높이 다더하기"
   ]
  },
  {
   "cell_type": "code",
   "execution_count": 49,
   "metadata": {},
   "outputs": [],
   "source": [
    "arr=sorted(zip(area,weit,heit),reverse=True,key=lambda x:x[0]) # 내림차순\n",
    "arr.insert(0,(0,0,0))"
   ]
  },
  {
   "cell_type": "code",
   "execution_count": 53,
   "metadata": {},
   "outputs": [
    {
     "data": {
      "text/plain": [
       "[(0, 0, 0), (25, 4, 3), (16, 5, 2), (9, 3, 2), (4, 6, 4), (1, 2, 5)]"
      ]
     },
     "execution_count": 53,
     "metadata": {},
     "output_type": "execute_result"
    }
   ],
   "source": [
    "arr"
   ]
  },
  {
   "cell_type": "code",
   "execution_count": 54,
   "metadata": {},
   "outputs": [
    {
     "name": "stdout",
     "output_type": "stream",
     "text": [
      "5\n"
     ]
    }
   ],
   "source": [
    "dp=[0]*(n+1)\n",
    "dp[1]=arr[1][2] # 높이값\n",
    "res=-2147000000\n",
    "\n",
    "for i in range(2,n+1):\n",
    "    tmp=0\n",
    "    for j in range(i-1,0,-1): \n",
    "        if arr[j][1] >  arr[i][1]: # 부등호 여기가 바뀜.\n",
    "            if dp[j] > tmp: # 가지고 있는 dp값보다 크면 (메모이제이션)\n",
    "                tmp=dp[j]\n",
    "    dp[i]=tmp+arr[i][2] # 현재 높이를 추가로 더해버림.\n",
    "    if dp[i] > res:\n",
    "        res=dp[i]\n",
    "print(res)\n",
    "    "
   ]
  },
  {
   "cell_type": "markdown",
   "metadata": {},
   "source": [
    "# 6. 알리바바와 40인의 도둑 (Bottom-Up)"
   ]
  },
  {
   "cell_type": "code",
   "execution_count": 8,
   "metadata": {},
   "outputs": [],
   "source": [
    "n=3\n",
    "x=[\n",
    "    [3,3,5],\n",
    "    [2,3,4],\n",
    "    [6,5,2]\n",
    "      ]"
   ]
  },
  {
   "cell_type": "code",
   "execution_count": 9,
   "metadata": {},
   "outputs": [
    {
     "name": "stdout",
     "output_type": "stream",
     "text": [
      "14\n"
     ]
    }
   ],
   "source": [
    "dp=[[0]*n for _ in range(n)]\n",
    "dp[0][0]=x[0][0]\n",
    "for i in range(n):\n",
    "    for j in range(n):\n",
    "        if j==0 and i>0:\n",
    "            dp[j][i]=dp[j][i-1]+x[j][i]\n",
    "        elif i==0 and j>0:\n",
    "            dp[j][i]=dp[j-1][i]+x[j][i]\n",
    "        else:\n",
    "            dp[j][i]=min(dp[j-1][i],dp[j][i-1])+x[j][i]\n",
    "print(dp[n-1][n-1])"
   ]
  },
  {
   "cell_type": "markdown",
   "metadata": {},
   "source": [
    "# 7. 알리바바와 40인의 도둑 (Top-Down)"
   ]
  },
  {
   "cell_type": "code",
   "execution_count": 17,
   "metadata": {},
   "outputs": [],
   "source": [
    "n=3\n",
    "arr=[\n",
    "    [3,3,5],\n",
    "    [2,3,4],\n",
    "    [6,5,2]\n",
    "      ]"
   ]
  },
  {
   "cell_type": "code",
   "execution_count": 18,
   "metadata": {},
   "outputs": [
    {
     "name": "stdout",
     "output_type": "stream",
     "text": [
      "14\n"
     ]
    }
   ],
   "source": [
    "def DFS(x,y):\n",
    "    \n",
    "    if dp[y][x]>0: # 메모이제이션 활용\n",
    "        return dp[y][x]\n",
    "    \n",
    "    if (x,y)==(0,0):\n",
    "        return arr[0][0]\n",
    "    else:\n",
    "        if y==0:\n",
    "            dp[y][x]=DFS(x-1,y)+arr[y][x]\n",
    "            return dp[y][x]\n",
    "        elif x==0:\n",
    "            dp[y][x]=DFS(x,y-1)+arr[y][x]\n",
    "            return dp[y][x]\n",
    "        else:\n",
    "            dp[y][x]=min(DFS(x-1,y),DFS(x,y-1))+arr[y][x]\n",
    "            return dp[y][x]\n",
    "        \n",
    "\n",
    "if __name__=='__main__':    \n",
    "    dp=[[0]*n for _ in range(n)]\n",
    "    dp[0][0]=arr[0][0]\n",
    "    print(DFS(n-1,n-1))\n",
    "    \n"
   ]
  },
  {
   "cell_type": "markdown",
   "metadata": {},
   "source": [
    "# 8. 가방문제 (냅색 알고리즘)"
   ]
  },
  {
   "cell_type": "code",
   "execution_count": 35,
   "metadata": {},
   "outputs": [],
   "source": [
    "n,m=4,11\n",
    "jewels=[\n",
    "    [5,12],\n",
    "    [3,8],\n",
    "    [6,14],\n",
    "    [4,8]\n",
    "]"
   ]
  },
  {
   "cell_type": "code",
   "execution_count": 36,
   "metadata": {},
   "outputs": [
    {
     "name": "stdout",
     "output_type": "stream",
     "text": [
      "28\n"
     ]
    }
   ],
   "source": [
    "dp=[-2147000000]*(m+1) # 최대 무게니, -2147000000으로 초기화 (최소로 초기화)\n",
    "dp[0]=0 # 초기값 설정\n",
    "for wei, val in jewels: # 한번만 사용해도, 아래에서 누적합계산이므로 무한정효과.\n",
    "    for i in range(wei,m+1):\n",
    "        dp[i]=max(dp[i],dp[i-wei]+val)\n",
    "print(dp[m])"
   ]
  },
  {
   "cell_type": "markdown",
   "metadata": {},
   "source": [
    "# 9. 동전교환 (냅색 알고리즘)\n"
   ]
  },
  {
   "cell_type": "code",
   "execution_count": 30,
   "metadata": {},
   "outputs": [],
   "source": [
    "n,m=3,15\n",
    "x=[1,2,5]"
   ]
  },
  {
   "cell_type": "code",
   "execution_count": 31,
   "metadata": {},
   "outputs": [
    {
     "name": "stdout",
     "output_type": "stream",
     "text": [
      "3\n"
     ]
    }
   ],
   "source": [
    "dp=[2147000000]*(m+1) # 최소개수니, 최대값으로 초기화\n",
    "dp[0]=0\n",
    "for i in x:\n",
    "    for j in range(i,m+1):\n",
    "        dp[j]=min(dp[j],dp[j-i]+1)\n",
    "print(dp[m])"
   ]
  },
  {
   "cell_type": "markdown",
   "metadata": {},
   "source": [
    "# 10. 최대 점수 구하기 (냅색 알고리즘)\n"
   ]
  },
  {
   "cell_type": "code",
   "execution_count": 48,
   "metadata": {},
   "outputs": [],
   "source": [
    "n,m=5,20\n",
    "quest=[\n",
    "    [10, 5],\n",
    "    [25, 12],\n",
    "    [15, 8],\n",
    "    [6, 3],\n",
    "    [7, 4]\n",
    "]"
   ]
  },
  {
   "cell_type": "code",
   "execution_count": 49,
   "metadata": {},
   "outputs": [
    {
     "name": "stdout",
     "output_type": "stream",
     "text": [
      "41\n"
     ]
    }
   ],
   "source": [
    "#dp=[-21470000000]*(m+1) # 얜 이게 안됨. 앞에서 누적이 아니기 때문에, \n",
    "                         # 초기의 -214700000 이 누적으로 쓰임.\n",
    "dp=[0]*(m+1) # 따라서 0으로 초기화 하고,\n",
    "dp[0]=0 # 제대로 초기화 할 것.\n",
    "for ps,pt in quest:\n",
    "    for i in range(m,pt-1,-1):\n",
    "        dp[i]=max(dp[i],dp[i-pt]+ps)\n",
    "print(dp[m])\n",
    "    "
   ]
  },
  {
   "cell_type": "markdown",
   "metadata": {},
   "source": [
    "# 11. 플로이드 워샬 알고리즘"
   ]
  },
  {
   "cell_type": "code",
   "execution_count": 68,
   "metadata": {},
   "outputs": [],
   "source": [
    "n,m=5, 8\n",
    "mapp=[\n",
    "    [1, 2, 6],\n",
    "    [1, 3, 3],\n",
    "    [3, 2, 2],\n",
    "    [2, 4, 1],\n",
    "    [2, 5, 13],\n",
    "    [3, 4, 5],\n",
    "    [4, 2, 3],\n",
    "    [4, 5, 7]\n",
    "]"
   ]
  },
  {
   "cell_type": "code",
   "execution_count": 69,
   "metadata": {},
   "outputs": [],
   "source": [
    "res=[[2147000000]*(n+1) for _ in range(n+1)]\n",
    "for i in range(1,n+1):\n",
    "    res[i][i]=0\n",
    "for i in range(m):\n",
    "    res[mapp[i][0]][mapp[i][1]]=mapp[i][2]"
   ]
  },
  {
   "cell_type": "code",
   "execution_count": 70,
   "metadata": {},
   "outputs": [
    {
     "name": "stdout",
     "output_type": "stream",
     "text": [
      "0 5 3 6 13 \n",
      "M 0 M 1 8 \n",
      "M 2 0 3 10 \n",
      "M 3 M 0 7 \n",
      "M M M M 0 \n"
     ]
    }
   ],
   "source": [
    "for k in range(1,n+1):\n",
    "    for i in range(1,n+1):\n",
    "        for j in range(1,n+1):\n",
    "            res[i][j]=min(res[i][j],res[i][k]+res[k][j])\n",
    "\n",
    "for i in range(1,n+1):\n",
    "    for j in range(1,n+1):\n",
    "        if res[i][j]==2147000000:\n",
    "            print(\"M\", end=' ')\n",
    "        else:\n",
    "            print(res[i][j],end=' ')\n",
    "    print()"
   ]
  },
  {
   "cell_type": "markdown",
   "metadata": {},
   "source": [
    "# 12. 회장뽑기 (플로이드 워샬 응용)"
   ]
  },
  {
   "cell_type": "code",
   "execution_count": 101,
   "metadata": {},
   "outputs": [],
   "source": [
    "n=5\n",
    "arr=[\n",
    "    [1, 2],\n",
    "    [2, 3],\n",
    "    [3, 4],\n",
    "    [4, 5],\n",
    "    [2, 4],\n",
    "    [5, 3],\n",
    "    [-1, -1]\n",
    "]"
   ]
  },
  {
   "cell_type": "code",
   "execution_count": 102,
   "metadata": {},
   "outputs": [
    {
     "name": "stdout",
     "output_type": "stream",
     "text": [
      "2 3\n",
      "2 3 4 "
     ]
    }
   ],
   "source": [
    "res=[[2147000000]*(n+1) for _ in range(n+1)]\n",
    "for i in range(1,n+1):\n",
    "    res[i][i]=0\n",
    "for i in range(len(arr)):\n",
    "    res[arr[i][0]][arr[i][1]]=1\n",
    "    res[arr[i][1]][arr[i][0]]=1\n",
    "\n",
    "# 플로이드와샬\n",
    "for k in range(1,n+1):\n",
    "    for i in range(1,n+1):\n",
    "        for j in range(1,n+1):\n",
    "            res[i][j]=min(res[i][j],res[i][k]+res[k][j])\n",
    "\n",
    "tmp=[]\n",
    "for i in range(1,n+1):\n",
    "    tmp.append(max(res[i][1:n+1]))\n",
    "\n",
    "mini=min(tmp)\n",
    "tt=[]\n",
    "for idx,val in enumerate(tmp,1):\n",
    "    if val ==mini :\n",
    "        tt.append(idx)\n",
    "print(mini,len(tt))\n",
    "for i in tt:\n",
    "    print(i,end=' ')"
   ]
  },
  {
   "cell_type": "markdown",
   "metadata": {},
   "source": [
    "# 13. 위상정렬 (그래프 정렬)"
   ]
  },
  {
   "cell_type": "code",
   "execution_count": 106,
   "metadata": {},
   "outputs": [],
   "source": [
    "n,m=6,6\n",
    "info=[\n",
    "    [1, 4],\n",
    "    [5, 4],\n",
    "    [4, 3],\n",
    "    [2, 5],\n",
    "    [2, 3],\n",
    "    [6, 2]\n",
    "]"
   ]
  },
  {
   "cell_type": "code",
   "execution_count": 107,
   "metadata": {},
   "outputs": [
    {
     "name": "stdout",
     "output_type": "stream",
     "text": [
      "1 6 2 5 4 3 "
     ]
    }
   ],
   "source": [
    "from collections import deque\n",
    "dq=deque()\n",
    "graph=[[0]*(n+1) for _ in range(n+1)]\n",
    "degree=[0]*(n+1) \n",
    "\n",
    "for i in range(m):\n",
    "    graph[info[i][0]][info[i][1]]=1\n",
    "    degree[info[i][1]]+=1\n",
    "for i in range(1,n+1):\n",
    "    if degree[i]==0:\n",
    "        dq.append(i)\n",
    "        \n",
    "while dq:\n",
    "    now=dq.popleft()\n",
    "    print(now,end=' ')\n",
    "    for x in range(1,n+1):\n",
    "        if graph[now][x]==1:\n",
    "            degree[x]-=1\n",
    "            if degree[x]==0:\n",
    "                dq.append(x)"
   ]
  }
 ],
 "metadata": {
  "kernelspec": {
   "display_name": "Python 3",
   "language": "python",
   "name": "python3"
  },
  "language_info": {
   "codemirror_mode": {
    "name": "ipython",
    "version": 3
   },
   "file_extension": ".py",
   "mimetype": "text/x-python",
   "name": "python",
   "nbconvert_exporter": "python",
   "pygments_lexer": "ipython3",
   "version": "3.8.5"
  }
 },
 "nbformat": 4,
 "nbformat_minor": 2
}
