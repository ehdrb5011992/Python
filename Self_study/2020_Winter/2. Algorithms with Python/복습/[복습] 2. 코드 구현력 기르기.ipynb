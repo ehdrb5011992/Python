{
 "cells": [
  {
   "cell_type": "markdown",
   "metadata": {},
   "source": [
    "# 1. K번째 약수"
   ]
  },
  {
   "cell_type": "code",
   "execution_count": 4,
   "metadata": {},
   "outputs": [],
   "source": [
    "n,k=6,3"
   ]
  },
  {
   "cell_type": "code",
   "execution_count": 5,
   "metadata": {},
   "outputs": [
    {
     "name": "stdout",
     "output_type": "stream",
     "text": [
      "3\n"
     ]
    }
   ],
   "source": [
    "tmp=0\n",
    "for i in range(1,n+1):\n",
    "    if n % i == 0:\n",
    "        tmp+=1\n",
    "        if tmp==k:\n",
    "            print(i)\n",
    "            break\n",
    "else:\n",
    "    print(-1)"
   ]
  },
  {
   "cell_type": "markdown",
   "metadata": {},
   "source": [
    "# 2. K번째 수"
   ]
  },
  {
   "cell_type": "code",
   "execution_count": 25,
   "metadata": {},
   "outputs": [],
   "source": [
    "t=2\n",
    "\n",
    "######## 아래는 input으로 넣을꺼임. ######## \n",
    "n,s,e,k=6, 2, 5, 3\n",
    "list1=[5, 2, 7, 3, 8, 9]\n",
    "nn,ss,ee,kk = 15, 3, 10, 3\n",
    "list2=[4, 15, 8, 16, 6, 6, 17, 3, 10, 11, 18, 7, 14, 7, 15]"
   ]
  },
  {
   "cell_type": "code",
   "execution_count": 26,
   "metadata": {},
   "outputs": [
    {
     "name": "stdout",
     "output_type": "stream",
     "text": [
      "6 2 5 3\n",
      "5 2 7 3 8 9\n",
      "#1 7\n",
      "15 3 10 3\n",
      "4 15 8 16 6 6 17 3 10 11 18 7 14 7 15\n",
      "#2 6\n"
     ]
    }
   ],
   "source": [
    "for i in range(1,t+1):\n",
    "    \n",
    "    n,s,e,k=map(int,input().split())\n",
    "    arr = list(map(int,input().split()))\n",
    "    \n",
    "    res = sorted(arr[s-1:e])[k-1] # reverse옵션임.\n",
    "    \n",
    "    print(f'#{i} {res}')\n",
    "    \n",
    "    # print('#%d %d'%(i,res))\n",
    "    # print(f'#{i} {res}')\n",
    "    # print('#{0:d} {1:d}'.format(i,res))"
   ]
  },
  {
   "cell_type": "markdown",
   "metadata": {},
   "source": [
    "# 3. K번째 큰 수"
   ]
  },
  {
   "cell_type": "code",
   "execution_count": 43,
   "metadata": {},
   "outputs": [],
   "source": [
    "n,k=10, 3\n",
    "arr=[13, 15, 34, 23, 45, 65, 33, 11, 26, 42]"
   ]
  },
  {
   "cell_type": "code",
   "execution_count": 44,
   "metadata": {},
   "outputs": [
    {
     "name": "stdout",
     "output_type": "stream",
     "text": [
      "143\n"
     ]
    }
   ],
   "source": [
    "res=set()\n",
    "for a in range(n):\n",
    "    for b in range(a+1,n):\n",
    "        for c in range(b+1,n):\n",
    "            res.add(arr[a]+arr[b]+arr[c])\n",
    "print(sorted(res,reverse=True)[k-1])"
   ]
  },
  {
   "cell_type": "markdown",
   "metadata": {},
   "source": [
    "# 4. 대표값"
   ]
  },
  {
   "cell_type": "code",
   "execution_count": 80,
   "metadata": {},
   "outputs": [],
   "source": [
    "n=10\n",
    "arr=[45, 73, 66, 87, 92, 67, 75, 79, 75, 80]"
   ]
  },
  {
   "cell_type": "code",
   "execution_count": 81,
   "metadata": {},
   "outputs": [],
   "source": [
    "math_mean= int(sum(arr)/n + 0.5)\n",
    "res=2147000000"
   ]
  },
  {
   "cell_type": "code",
   "execution_count": 82,
   "metadata": {},
   "outputs": [
    {
     "name": "stdout",
     "output_type": "stream",
     "text": [
      "74 7\n"
     ]
    }
   ],
   "source": [
    "for i in range(n):\n",
    "    dist = abs(arr[i]-math_mean)\n",
    "    if dist < res:\n",
    "        res=dist\n",
    "        idx = i\n",
    "    elif dist == res:\n",
    "        if arr[idx] < arr[i]:\n",
    "            idx = i\n",
    "            \n",
    "print(math_mean, idx+1)\n",
    "        "
   ]
  },
  {
   "cell_type": "markdown",
   "metadata": {},
   "source": [
    "# 5. 정다면체"
   ]
  },
  {
   "cell_type": "code",
   "execution_count": 93,
   "metadata": {},
   "outputs": [],
   "source": [
    "n,m=4,6"
   ]
  },
  {
   "cell_type": "code",
   "execution_count": 94,
   "metadata": {
    "scrolled": true
   },
   "outputs": [
    {
     "name": "stdout",
     "output_type": "stream",
     "text": [
      "5 6 7 "
     ]
    }
   ],
   "source": [
    "res=[0]*(n+m+1)\n",
    "tmp=-2147000000\n",
    "ans = []\n",
    "for i in range(1,n+1):\n",
    "    for j in range(1,m+1):\n",
    "        res[i+j]+=1\n",
    "        \n",
    "for i in range(len(res)):\n",
    "    if tmp < res[i] :\n",
    "        tmp=res[i]\n",
    "for idx,val in enumerate(res):\n",
    "    if tmp==val:\n",
    "        print(idx,end=' ')"
   ]
  },
  {
   "cell_type": "markdown",
   "metadata": {},
   "source": [
    "# 6. 자릿수의 합"
   ]
  },
  {
   "cell_type": "code",
   "execution_count": 98,
   "metadata": {},
   "outputs": [],
   "source": [
    "n=3\n",
    "arr=[125,15232,97]"
   ]
  },
  {
   "cell_type": "code",
   "execution_count": 97,
   "metadata": {},
   "outputs": [],
   "source": [
    "def digit_sum(x):\n",
    "    x=str(x)\n",
    "    res=0\n",
    "    for i in x:\n",
    "        res+=int(i)\n",
    "    return res"
   ]
  },
  {
   "cell_type": "code",
   "execution_count": 100,
   "metadata": {},
   "outputs": [],
   "source": [
    "apply_digit_sum=list(map(digit_sum,arr))"
   ]
  },
  {
   "cell_type": "code",
   "execution_count": 101,
   "metadata": {
    "scrolled": true
   },
   "outputs": [
    {
     "name": "stdout",
     "output_type": "stream",
     "text": [
      "97\n"
     ]
    }
   ],
   "source": [
    "tmp=-2147000000\n",
    "for idx,val in enumerate(apply_digit_sum):\n",
    "    if tmp<val:\n",
    "        tmp=val\n",
    "        tmp_idx=idx\n",
    "print(arr[tmp_idx])"
   ]
  },
  {
   "cell_type": "markdown",
   "metadata": {},
   "source": [
    "# 7. 소수(에라토스테네스 체)"
   ]
  },
  {
   "cell_type": "code",
   "execution_count": 140,
   "metadata": {},
   "outputs": [],
   "source": [
    "n=20"
   ]
  },
  {
   "cell_type": "code",
   "execution_count": 141,
   "metadata": {},
   "outputs": [],
   "source": [
    "res=[0]*(n+1)\n",
    "num_of_prime = 0"
   ]
  },
  {
   "cell_type": "code",
   "execution_count": 142,
   "metadata": {
    "scrolled": true
   },
   "outputs": [
    {
     "name": "stdout",
     "output_type": "stream",
     "text": [
      "8\n"
     ]
    }
   ],
   "source": [
    "for i in range(2,n+1): # 2부터 소수 카운트\n",
    "    if res[i] ==0:\n",
    "        num_of_prime+=1\n",
    "\n",
    "        for j in range(i,n+1,i):\n",
    "            res[j]=1\n",
    "\n",
    "print(num_of_prime)"
   ]
  },
  {
   "cell_type": "markdown",
   "metadata": {},
   "source": [
    "# 8. 뒤집은 소수"
   ]
  },
  {
   "cell_type": "code",
   "execution_count": 154,
   "metadata": {},
   "outputs": [],
   "source": [
    "n=5\n",
    "arr=[32, 55, 62, 3700, 250]\n",
    "\n"
   ]
  },
  {
   "cell_type": "code",
   "execution_count": 155,
   "metadata": {},
   "outputs": [],
   "source": [
    "def reverse(x):\n",
    "    num=''\n",
    "    while x>0:\n",
    "        digit = x%10\n",
    "        x = x//10\n",
    "        num+=str(digit)\n",
    "    return int(num)"
   ]
  },
  {
   "cell_type": "code",
   "execution_count": 156,
   "metadata": {},
   "outputs": [],
   "source": [
    "def isPrime(x):\n",
    "    if x == 1:\n",
    "        return False\n",
    "    \n",
    "    for i in range(2,x):\n",
    "        if x % i ==0:\n",
    "            return False\n",
    "    else:\n",
    "        return True"
   ]
  },
  {
   "cell_type": "code",
   "execution_count": 157,
   "metadata": {},
   "outputs": [
    {
     "name": "stdout",
     "output_type": "stream",
     "text": [
      "23 73 "
     ]
    }
   ],
   "source": [
    "for i in arr:\n",
    "    rev_num=reverse(i)\n",
    "    if isPrime(rev_num):\n",
    "        print(rev_num,end=' ')"
   ]
  },
  {
   "cell_type": "markdown",
   "metadata": {},
   "source": [
    "# 9. 주사위 게임"
   ]
  },
  {
   "cell_type": "code",
   "execution_count": 169,
   "metadata": {},
   "outputs": [],
   "source": [
    "n=3\n",
    "p1=[3, 3, 6]\n",
    "p2=[2, 2, 2]\n",
    "p3=[6, 2, 5]"
   ]
  },
  {
   "cell_type": "code",
   "execution_count": 170,
   "metadata": {},
   "outputs": [],
   "source": [
    "def price(x):\n",
    "    x.sort() # 오름차순정렬\n",
    "    if x[0]==x[1] and x[1]==x[2]:\n",
    "        return 10000+x[0]*1000\n",
    "    elif x[0]==x[1] or x[1]==x[2] :\n",
    "        return 1000+x[1]*100\n",
    "    elif x[0]==x[2]:\n",
    "        return 1000+x[0]*100\n",
    "    else:\n",
    "        return x[2]*100"
   ]
  },
  {
   "cell_type": "code",
   "execution_count": 172,
   "metadata": {},
   "outputs": [
    {
     "name": "stdout",
     "output_type": "stream",
     "text": [
      "3 3 6\n",
      "2 2 2\n",
      "6 2 5\n",
      "12000\n"
     ]
    }
   ],
   "source": [
    "res=-2147000000\n",
    "for i in range(n):\n",
    "    player=list(map(int,input().split()))\n",
    "    player_price=price(player)\n",
    "    if res<player_price:\n",
    "        res=player_price\n",
    "print(res)"
   ]
  },
  {
   "cell_type": "markdown",
   "metadata": {},
   "source": [
    "# 10. 점수 계산"
   ]
  },
  {
   "cell_type": "code",
   "execution_count": 173,
   "metadata": {},
   "outputs": [],
   "source": [
    "n=10\n",
    "arr=[1, 0, 1, 1, 1, 0, 0, 1, 1, 0]"
   ]
  },
  {
   "cell_type": "code",
   "execution_count": 174,
   "metadata": {},
   "outputs": [
    {
     "name": "stdout",
     "output_type": "stream",
     "text": [
      "10\n"
     ]
    }
   ],
   "source": [
    "local_sum=0\n",
    "total_sum=0\n",
    "for i in range(n):\n",
    "    if arr[i]==1:\n",
    "        local_sum+=1\n",
    "        total_sum+=local_sum\n",
    "    else:\n",
    "        local_sum=0\n",
    "print(total_sum)"
   ]
  }
 ],
 "metadata": {
  "kernelspec": {
   "display_name": "Python 3",
   "language": "python",
   "name": "python3"
  },
  "language_info": {
   "codemirror_mode": {
    "name": "ipython",
    "version": 3
   },
   "file_extension": ".py",
   "mimetype": "text/x-python",
   "name": "python",
   "nbconvert_exporter": "python",
   "pygments_lexer": "ipython3",
   "version": "3.8.5"
  }
 },
 "nbformat": 4,
 "nbformat_minor": 2
}
