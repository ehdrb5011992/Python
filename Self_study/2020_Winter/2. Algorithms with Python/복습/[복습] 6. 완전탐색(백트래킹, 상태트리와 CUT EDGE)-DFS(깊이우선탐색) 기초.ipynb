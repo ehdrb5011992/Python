{
 "cells": [
  {
   "cell_type": "markdown",
   "metadata": {},
   "source": [
    "# 1. 재귀함수를 이용한 이진수 출력"
   ]
  },
  {
   "cell_type": "code",
   "execution_count": 8,
   "metadata": {},
   "outputs": [],
   "source": [
    "x=11"
   ]
  },
  {
   "cell_type": "code",
   "execution_count": 9,
   "metadata": {},
   "outputs": [
    {
     "name": "stdout",
     "output_type": "stream",
     "text": [
      "1011\n"
     ]
    }
   ],
   "source": [
    "res=''\n",
    "def DFS(x):\n",
    "    global res\n",
    "    if x==0:\n",
    "        return \n",
    "    else:\n",
    "        quota, rest = divmod(x,2)\n",
    "        DFS(quota)\n",
    "        res+=str(rest)\n",
    "        \n",
    "\n",
    "if __name__=='__main__':\n",
    "    DFS(x)\n",
    "    print(res)\n",
    "    "
   ]
  },
  {
   "cell_type": "markdown",
   "metadata": {},
   "source": [
    "# 2. 이진트리 순회(DFS)"
   ]
  },
  {
   "cell_type": "markdown",
   "metadata": {},
   "source": [
    "### 1) 전위순회 출력 : 1 2 4 5 3 6 7"
   ]
  },
  {
   "cell_type": "code",
   "execution_count": 11,
   "metadata": {},
   "outputs": [
    {
     "name": "stdout",
     "output_type": "stream",
     "text": [
      "1 2 4 5 3 6 7 "
     ]
    }
   ],
   "source": [
    "def DFS(x):\n",
    "    if x>7:\n",
    "        return\n",
    "    else:\n",
    "        print(x,end=' ')\n",
    "        DFS(2*x)\n",
    "        DFS(2*x+1)\n",
    "\n",
    "if __name__=='__main__':\n",
    "    DFS(1)"
   ]
  },
  {
   "cell_type": "markdown",
   "metadata": {},
   "source": [
    "### 2) 중위순회 출력 : 4 2 5 1 6 3 7"
   ]
  },
  {
   "cell_type": "code",
   "execution_count": 12,
   "metadata": {},
   "outputs": [
    {
     "name": "stdout",
     "output_type": "stream",
     "text": [
      "4 2 5 1 6 3 7 "
     ]
    }
   ],
   "source": [
    "def DFS(x):\n",
    "    if x>7:\n",
    "        return\n",
    "    else:\n",
    "        DFS(2*x)\n",
    "        print(x,end= ' ')\n",
    "        DFS(2*x+1)\n",
    "if __name__ == '__main__':\n",
    "    DFS(1)"
   ]
  },
  {
   "cell_type": "markdown",
   "metadata": {},
   "source": [
    "### 3) 전위순회 출력 : 4 5 2 6 7 3 1"
   ]
  },
  {
   "cell_type": "code",
   "execution_count": 13,
   "metadata": {},
   "outputs": [
    {
     "name": "stdout",
     "output_type": "stream",
     "text": [
      "4 5 2 6 7 3 1 "
     ]
    }
   ],
   "source": [
    "def DFS(x):\n",
    "    if x>7:\n",
    "        return\n",
    "    else:\n",
    "        DFS(2*x)\n",
    "        DFS(2*x+1)\n",
    "        print(x,end= ' ')\n",
    "if __name__ == '__main__':\n",
    "    DFS(1)"
   ]
  },
  {
   "cell_type": "markdown",
   "metadata": {},
   "source": [
    "# 3. 부분집합 구하기 (DFS) -> check변수"
   ]
  },
  {
   "cell_type": "code",
   "execution_count": 24,
   "metadata": {},
   "outputs": [
    {
     "name": "stdout",
     "output_type": "stream",
     "text": [
      "1 2 3 \n",
      "1 2 \n",
      "1 3 \n",
      "1 \n",
      "2 3 \n",
      "2 \n",
      "3 \n",
      "\n"
     ]
    }
   ],
   "source": [
    "def DFS(L):\n",
    "    if L==x+1 :\n",
    "        for i in range(1,x+1):\n",
    "            if ch[i]==1:\n",
    "                print(i,end=' ')\n",
    "        print()\n",
    "    else:\n",
    "        ch[L]=1\n",
    "        DFS(L+1)\n",
    "        ch[L]=0\n",
    "        DFS(L+1)\n",
    "\n",
    "\n",
    "if __name__=='__main__':\n",
    "    x=3\n",
    "    ch=[0]*(x+1)\n",
    "    DFS(1)"
   ]
  },
  {
   "cell_type": "markdown",
   "metadata": {},
   "source": [
    "# 4. 합이 같은 부분집합 (DFS)"
   ]
  },
  {
   "cell_type": "code",
   "execution_count": 30,
   "metadata": {},
   "outputs": [
    {
     "name": "stdout",
     "output_type": "stream",
     "text": [
      "YES\n"
     ]
    },
    {
     "ename": "SystemExit",
     "evalue": "0",
     "output_type": "error",
     "traceback": [
      "An exception has occurred, use %tb to see the full traceback.\n",
      "\u001b[1;31mSystemExit\u001b[0m\u001b[1;31m:\u001b[0m 0\n"
     ]
    }
   ],
   "source": [
    "import sys\n",
    "def DFS(L,t):\n",
    "    if t > tot // 2:\n",
    "        return\n",
    "    \n",
    "    if L==n:\n",
    "        if tot-t == t:\n",
    "            print('YES')\n",
    "            sys.exit(0)\n",
    "    else:\n",
    "        DFS(L+1,t+arr[L])\n",
    "        DFS(L+1,t)\n",
    "\n",
    "\n",
    "if __name__ == '__main__':\n",
    "    n=6\n",
    "    arr=[1,3,5,6,7,10]\n",
    "    tot=sum(arr)\n",
    "    DFS(0,0)\n",
    "    print('NO')"
   ]
  },
  {
   "cell_type": "markdown",
   "metadata": {},
   "source": [
    "# 5. 바둑이 승차 (DFS)"
   ]
  },
  {
   "cell_type": "code",
   "execution_count": 33,
   "metadata": {},
   "outputs": [
    {
     "name": "stdout",
     "output_type": "stream",
     "text": [
      "242\n"
     ]
    }
   ],
   "source": [
    "def DFS(L,t,cut_judge):\n",
    "    global res\n",
    "    \n",
    "    if t +(total-cut_judge) < res:\n",
    "        return\n",
    "    \n",
    "    if t > c:\n",
    "        return\n",
    "    \n",
    "    if L==n:\n",
    "        if t> res:\n",
    "            res=t\n",
    "    else:\n",
    "        DFS(L+1,t+arr[L],cut_judge+arr[L])\n",
    "        DFS(L+1,t,cut_judge+arr[L])\n",
    "        \n",
    "    \n",
    "    \n",
    "\n",
    "if __name__=='__main__':\n",
    "    c,n=259,5\n",
    "    arr=[81,58,42,33,61]\n",
    "    total=sum(arr)\n",
    "    res=-2147000000\n",
    "    DFS(0,0,0)\n",
    "    print(res)"
   ]
  },
  {
   "cell_type": "markdown",
   "metadata": {},
   "source": [
    "# 6. 중복순열 구하기 (DFS) -> res변수"
   ]
  },
  {
   "cell_type": "code",
   "execution_count": 41,
   "metadata": {},
   "outputs": [
    {
     "name": "stdout",
     "output_type": "stream",
     "text": [
      "1 1 \n",
      "1 2 \n",
      "1 3 \n",
      "2 1 \n",
      "2 2 \n",
      "2 3 \n",
      "3 1 \n",
      "3 2 \n",
      "3 3 \n",
      "9\n"
     ]
    }
   ],
   "source": [
    "def DFS(L):\n",
    "    global cnt\n",
    "    if L==m:\n",
    "        for i in range(m):\n",
    "            print(res[i],end=' ')\n",
    "        print()\n",
    "        cnt+=1\n",
    "        \n",
    "    else:\n",
    "        for j in range(1,n+1):\n",
    "            res[L]=j\n",
    "            DFS(L+1)\n",
    "if __name__ == '__main__':\n",
    "    n,m=3,2\n",
    "    res=[0]*m\n",
    "    cnt=0\n",
    "    DFS(0)\n",
    "    print(cnt)"
   ]
  },
  {
   "cell_type": "markdown",
   "metadata": {},
   "source": [
    "# 7. 동전교환 (Cut Edge Tech)\n"
   ]
  },
  {
   "cell_type": "code",
   "execution_count": 46,
   "metadata": {},
   "outputs": [
    {
     "name": "stdout",
     "output_type": "stream",
     "text": [
      "3\n"
     ]
    }
   ],
   "source": [
    "def DFS(L,t):\n",
    "    global res\n",
    "    \n",
    "    if L>res:\n",
    "        return\n",
    "    if t > m: \n",
    "        return\n",
    "    \n",
    "    if t==m:\n",
    "        if res> L:\n",
    "            res=L\n",
    "    else:\n",
    "        for j in range(n):\n",
    "            DFS(L+1,t+arr[j])\n",
    "\n",
    "\n",
    "if __name__=='__main__':\n",
    "    n=3\n",
    "    arr=[1,2,5]\n",
    "    m=15\n",
    "    res=2147000000\n",
    "    DFS(0,0)\n",
    "    print(res)"
   ]
  },
  {
   "cell_type": "markdown",
   "metadata": {},
   "source": [
    "# 8. 순열 구하기 (DFS) -> 부분집합+중복순열 (check+res변수)"
   ]
  },
  {
   "cell_type": "code",
   "execution_count": 50,
   "metadata": {},
   "outputs": [
    {
     "name": "stdout",
     "output_type": "stream",
     "text": [
      "1 2 \n",
      "1 3 \n",
      "2 1 \n",
      "2 3 \n",
      "3 1 \n",
      "3 2 \n",
      "6\n"
     ]
    }
   ],
   "source": [
    "def DFS(L):\n",
    "    global cnt\n",
    "    if L==m:\n",
    "        for i in range(m):\n",
    "            print(res[i],end=' ')\n",
    "        cnt+=1\n",
    "        print()\n",
    "        \n",
    "    else:\n",
    "        for j in range(1,n+1):\n",
    "            if ch[j]==0:\n",
    "                ch[j]=1\n",
    "                res[L]=j\n",
    "                DFS(L+1)\n",
    "                ch[j]=0\n",
    "        \n",
    "if __name__ == '__main__':\n",
    "    n,m=3,2\n",
    "    cnt=0\n",
    "    res=[0]*m\n",
    "    ch=[0]*(n+1)\n",
    "    DFS(0)\n",
    "    print(cnt)"
   ]
  },
  {
   "cell_type": "markdown",
   "metadata": {},
   "source": [
    "# 9. 수열 추측하기"
   ]
  },
  {
   "cell_type": "code",
   "execution_count": 67,
   "metadata": {},
   "outputs": [
    {
     "name": "stdout",
     "output_type": "stream",
     "text": [
      "3 1 2 4 "
     ]
    },
    {
     "ename": "SystemExit",
     "evalue": "0",
     "output_type": "error",
     "traceback": [
      "An exception has occurred, use %tb to see the full traceback.\n",
      "\u001b[1;31mSystemExit\u001b[0m\u001b[1;31m:\u001b[0m 0\n"
     ]
    }
   ],
   "source": [
    "import sys\n",
    "\n",
    "def DFS(L):\n",
    "    global tot\n",
    "    if L==n:\n",
    "        for i in range(n):\n",
    "            tot+=arr[i]*res[i]\n",
    "        if tot==f:\n",
    "            for j in range(n):\n",
    "                print(res[j],end=' ')\n",
    "            sys.exit(0)\n",
    "        else:\n",
    "            tot=0\n",
    "    else:\n",
    "        for k in range(1,n+1):\n",
    "            if ch[k]==0:\n",
    "                ch[k]=1\n",
    "                res[L]=k\n",
    "                DFS(L+1)\n",
    "                ch[k]=0\n",
    "\n",
    "\n",
    "if __name__ == '__main__':\n",
    "    n,f=4,16\n",
    "    res=[0]*n\n",
    "    ch=[0]*(n+1)\n",
    "    tot=0\n",
    "    arr=[1]*n\n",
    "    for i in range(1,n):\n",
    "        arr[i]=int(arr[i-1]*(n-i) / i)\n",
    "    DFS(0)"
   ]
  },
  {
   "cell_type": "markdown",
   "metadata": {},
   "source": [
    "# 10. 조합구하기 (DFS) -> DFS인자를 2개로 구성(Level과 Start 변수)\n",
    "\n",
    "# 거기에, 중복순열과 같이 res변수 사용"
   ]
  },
  {
   "cell_type": "code",
   "execution_count": 69,
   "metadata": {},
   "outputs": [
    {
     "name": "stdout",
     "output_type": "stream",
     "text": [
      "1 2 \n",
      "1 3 \n",
      "1 4 \n",
      "2 3 \n",
      "2 4 \n",
      "3 4 \n",
      "6\n"
     ]
    }
   ],
   "source": [
    "def DFS(L,s): # s는 start 변수\n",
    "    global cnt \n",
    "    if L==m:\n",
    "        for i in range(m):\n",
    "            print(res[i],end=' ')\n",
    "        print()\n",
    "        cnt+=1\n",
    "    else:\n",
    "        for j in range(s,n+1):\n",
    "            res[L]=j\n",
    "            DFS(L+1,j+1)\n",
    "            \n",
    "        \n",
    "if __name__ == '__main__':\n",
    "    n,m=4,2\n",
    "    cnt=0\n",
    "    res=[0]*n\n",
    "    DFS(0,1)\n",
    "    print(cnt)"
   ]
  },
  {
   "cell_type": "markdown",
   "metadata": {},
   "source": [
    "# 11. 수들의 조합"
   ]
  },
  {
   "cell_type": "code",
   "execution_count": 80,
   "metadata": {},
   "outputs": [
    {
     "name": "stdout",
     "output_type": "stream",
     "text": [
      "5\n"
     ]
    }
   ],
   "source": [
    "def DFS(L,s,tot):\n",
    "    global cnt\n",
    "    \n",
    "    if L==k and tot % m ==0 :\n",
    "        cnt+=1    \n",
    "    else:\n",
    "        for j in range(s,n):\n",
    "            DFS(L+1,j+1,tot+x[j])\n",
    "\n",
    "if __name__=='__main__':\n",
    "    n,k=7,3\n",
    "    x=[2,4,5,8,12,7,13]\n",
    "    m=6\n",
    "    cnt=0\n",
    "    DFS(0,0,0)\n",
    "    print(cnt)"
   ]
  },
  {
   "cell_type": "markdown",
   "metadata": {},
   "source": [
    "# 12. 인접행렬(가중치 방향그래프)"
   ]
  },
  {
   "cell_type": "code",
   "execution_count": 81,
   "metadata": {},
   "outputs": [
    {
     "data": {
      "text/plain": [
       "[[1, 2, 7],\n",
       " [1, 3, 4],\n",
       " [2, 1, 2],\n",
       " [2, 3, 5],\n",
       " [2, 5, 5],\n",
       " [3, 4, 5],\n",
       " [4, 2, 2],\n",
       " [4, 5, 5],\n",
       " [6, 4, 5]]"
      ]
     },
     "execution_count": 81,
     "metadata": {},
     "output_type": "execute_result"
    }
   ],
   "source": [
    "n,m=6,9\n",
    "x=[127,134,212,235,255,345,422,455,645]\n",
    "trans_x= list(map(str,x))\n",
    "new_x=[list(map(int,list(i))) for i in trans_x]\n",
    "new_x"
   ]
  },
  {
   "cell_type": "code",
   "execution_count": 86,
   "metadata": {},
   "outputs": [
    {
     "name": "stdout",
     "output_type": "stream",
     "text": [
      "0 7 4 0 0 0 \n",
      "2 0 5 0 5 0 \n",
      "0 0 0 5 0 0 \n",
      "0 2 0 0 5 0 \n",
      "0 0 0 0 0 0 \n",
      "0 0 0 5 0 0 \n"
     ]
    }
   ],
   "source": [
    "graph=[[0]*n for _ in range(n)]\n",
    "for i in range(m):\n",
    "    graph[new_x[i][0]-1][new_x[i][1]-1]=new_x[i][2]\n",
    "for i in range(n):\n",
    "    for j in range(n):\n",
    "        print(graph[i][j],end=' ')\n",
    "    print()"
   ]
  },
  {
   "cell_type": "markdown",
   "metadata": {},
   "source": [
    "# 13. 경로 탐색 (그래프 DFS)"
   ]
  },
  {
   "cell_type": "code",
   "execution_count": 94,
   "metadata": {},
   "outputs": [
    {
     "name": "stdout",
     "output_type": "stream",
     "text": [
      "1 2 3 4 5 \n",
      "1 2 5 \n",
      "1 3 4 2 5 \n",
      "1 3 4 5 \n",
      "1 4 2 5 \n",
      "1 4 5 \n",
      "6\n"
     ]
    }
   ],
   "source": [
    "def DFS(v):\n",
    "    global cnt\n",
    "    if v==n:\n",
    "        for i in path:\n",
    "            print(i,end=' ')\n",
    "        cnt+=1\n",
    "        print()\n",
    "    else:\n",
    "        for j in range(1,n+1):\n",
    "            if graph[v][j]==1 and ch[j]==0:\n",
    "                ch[j]=1\n",
    "                path.append(j)\n",
    "                DFS(j)\n",
    "                path.pop()\n",
    "                ch[j]=0\n",
    "\n",
    "\n",
    "if __name__=='__main__':\n",
    "    n,m=5,9\n",
    "    x=[[1,2],[1,3],[1,4],[2,1],[2,3],[2,5],[3,4],[4,2],[4,5]]\n",
    "    graph=[[0]*(n+1) for _ in range(n+1)]\n",
    "    ch=[0]*(n+1)\n",
    "    ch[1]=1\n",
    "    cnt=0\n",
    "    path=[1]\n",
    "    for i in x:\n",
    "        graph[i[0]][i[1]]=1\n",
    "    DFS(1)\n",
    "    print(cnt)"
   ]
  }
 ],
 "metadata": {
  "kernelspec": {
   "display_name": "Python 3",
   "language": "python",
   "name": "python3"
  },
  "language_info": {
   "codemirror_mode": {
    "name": "ipython",
    "version": 3
   },
   "file_extension": ".py",
   "mimetype": "text/x-python",
   "name": "python",
   "nbconvert_exporter": "python",
   "pygments_lexer": "ipython3",
   "version": "3.8.5"
  }
 },
 "nbformat": 4,
 "nbformat_minor": 2
}
