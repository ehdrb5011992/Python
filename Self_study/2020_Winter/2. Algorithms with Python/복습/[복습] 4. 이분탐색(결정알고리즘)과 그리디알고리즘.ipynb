{
 "cells": [
  {
   "cell_type": "markdown",
   "metadata": {},
   "source": [
    "# 1. 이분검색"
   ]
  },
  {
   "cell_type": "code",
   "execution_count": 5,
   "metadata": {},
   "outputs": [],
   "source": [
    "n,m=8, 32\n",
    "arr=[23, 87, 65, 12, 57, 32, 99, 81]"
   ]
  },
  {
   "cell_type": "code",
   "execution_count": 6,
   "metadata": {},
   "outputs": [],
   "source": [
    "arr.sort()"
   ]
  },
  {
   "cell_type": "code",
   "execution_count": 8,
   "metadata": {},
   "outputs": [
    {
     "name": "stdout",
     "output_type": "stream",
     "text": [
      "3\n"
     ]
    }
   ],
   "source": [
    "lt=0\n",
    "rt=n-1\n",
    "\n",
    "while lt <= rt:\n",
    "    mid = (lt+rt) // 2\n",
    "    if arr[mid] < m:\n",
    "        lt=mid+1\n",
    "    elif m < arr[mid]:\n",
    "        rt=mid-1\n",
    "    else:\n",
    "        print(mid+1)\n",
    "        break"
   ]
  },
  {
   "cell_type": "markdown",
   "metadata": {},
   "source": [
    "# 2. 랜선자르기(결정알고리즘)"
   ]
  },
  {
   "cell_type": "code",
   "execution_count": 18,
   "metadata": {},
   "outputs": [],
   "source": [
    "k,n=4, 11\n",
    "lines=[802,743,457,539]"
   ]
  },
  {
   "cell_type": "code",
   "execution_count": 19,
   "metadata": {},
   "outputs": [
    {
     "name": "stdout",
     "output_type": "stream",
     "text": [
      "200\n"
     ]
    }
   ],
   "source": [
    "lt=1\n",
    "rt=max(lines)+10\n",
    "\n",
    "while lt<=rt:\n",
    "    mid = (lt+rt)//2\n",
    "    cnt=sum(map(lambda x:x//mid,lines))\n",
    "    \n",
    "    if cnt < n:\n",
    "        rt=mid-1\n",
    "    else : # cnt >= n\n",
    "        res=mid\n",
    "        lt=mid+1\n",
    "\n",
    "print(res)"
   ]
  },
  {
   "cell_type": "markdown",
   "metadata": {},
   "source": [
    "# 3. 뮤직비디오(결정알고리즘)"
   ]
  },
  {
   "cell_type": "code",
   "execution_count": 24,
   "metadata": {},
   "outputs": [],
   "source": [
    "n,m=9, 3\n",
    "songs = [1, 2, 3, 4, 5, 6, 7, 8, 9]"
   ]
  },
  {
   "cell_type": "code",
   "execution_count": 26,
   "metadata": {},
   "outputs": [
    {
     "name": "stdout",
     "output_type": "stream",
     "text": [
      "17\n"
     ]
    }
   ],
   "source": [
    "lt=1\n",
    "rt=sum(songs)\n",
    "least=max(songs)\n",
    "\n",
    "def count(g):\n",
    "    cnt=1 # 첫번째 자루에 넣을꺼임.\n",
    "    jaru=0\n",
    "    for x in songs:\n",
    "        if jaru+x > g:\n",
    "            cnt+=1 # 새로운자루 꺼내옴\n",
    "            jaru=x\n",
    "        else:\n",
    "            jaru+=x\n",
    "    return cnt\n",
    "\n",
    "while lt<=rt:\n",
    "    mid = (lt+rt)//2\n",
    "    if mid> least and count(mid) <= m:\n",
    "        res=mid\n",
    "        rt=mid-1\n",
    "    else:\n",
    "        lt=mid+1\n",
    "print(res)"
   ]
  },
  {
   "cell_type": "markdown",
   "metadata": {},
   "source": [
    "# 4. 마구간 정하기(결정알고리즘)"
   ]
  },
  {
   "cell_type": "code",
   "execution_count": 28,
   "metadata": {},
   "outputs": [],
   "source": [
    "n=5\n",
    "c=3\n",
    "x=[1,2,8,4,9]"
   ]
  },
  {
   "cell_type": "code",
   "execution_count": 29,
   "metadata": {},
   "outputs": [],
   "source": [
    "x.sort()"
   ]
  },
  {
   "cell_type": "code",
   "execution_count": 46,
   "metadata": {},
   "outputs": [
    {
     "name": "stdout",
     "output_type": "stream",
     "text": [
      "3\n"
     ]
    }
   ],
   "source": [
    "lt=1\n",
    "rt=x[-1]-1 # 차이값\n",
    "\n",
    "def count(delta):\n",
    "    cnt=1\n",
    "    target=x[0]\n",
    "    for i in range(1,n):\n",
    "        if x[i]-target >= delta:\n",
    "            cnt+=1\n",
    "            target=x[i]\n",
    "            \n",
    "    return cnt\n",
    "\n",
    "while lt<=rt:\n",
    "    mid = (lt+rt)//2\n",
    "    if count(mid) < c:\n",
    "        rt=mid-1\n",
    "    else:\n",
    "        res=mid\n",
    "        lt=mid+1\n",
    "print(res)\n",
    "        "
   ]
  },
  {
   "cell_type": "markdown",
   "metadata": {},
   "source": [
    "# 5. 회의실 배정(그리디)"
   ]
  },
  {
   "cell_type": "code",
   "execution_count": 53,
   "metadata": {},
   "outputs": [],
   "source": [
    "x=[(1,4),(2,3),(3,5),(4,6),(5,7)]\n",
    "n=5"
   ]
  },
  {
   "cell_type": "code",
   "execution_count": 54,
   "metadata": {},
   "outputs": [],
   "source": [
    "sort_x=sorted(x,key=lambda x:x[1])"
   ]
  },
  {
   "cell_type": "code",
   "execution_count": 55,
   "metadata": {},
   "outputs": [
    {
     "name": "stdout",
     "output_type": "stream",
     "text": [
      "3\n"
     ]
    }
   ],
   "source": [
    "cnt=1\n",
    "end_time=sort_x[0][1]\n",
    "for i in range(n):\n",
    "    if sort_x[i][0]>=end_time:\n",
    "        cnt+=1\n",
    "        end_time=sort_x[i][1]\n",
    "        \n",
    "print(cnt)"
   ]
  },
  {
   "cell_type": "markdown",
   "metadata": {},
   "source": [
    "# 6. 씨름 선수(그리디)"
   ]
  },
  {
   "cell_type": "code",
   "execution_count": 56,
   "metadata": {},
   "outputs": [],
   "source": [
    "n=5\n",
    "x=[(172,67),(183,65),(180,70),(170,72),(181,60)]"
   ]
  },
  {
   "cell_type": "code",
   "execution_count": 59,
   "metadata": {},
   "outputs": [],
   "source": [
    "sort_x=sorted(x,key=lambda x:x[0],reverse=True)"
   ]
  },
  {
   "cell_type": "code",
   "execution_count": 60,
   "metadata": {},
   "outputs": [
    {
     "data": {
      "text/plain": [
       "[(183, 65), (181, 60), (180, 70), (172, 67), (170, 72)]"
      ]
     },
     "execution_count": 60,
     "metadata": {},
     "output_type": "execute_result"
    }
   ],
   "source": [
    "sort_x"
   ]
  },
  {
   "cell_type": "code",
   "execution_count": 61,
   "metadata": {},
   "outputs": [
    {
     "name": "stdout",
     "output_type": "stream",
     "text": [
      "3\n"
     ]
    }
   ],
   "source": [
    "cnt=1\n",
    "cur_kg=sort_x[0][1]\n",
    "for i in sort_x:\n",
    "    if i[1] > cur_kg:\n",
    "        cnt+=1\n",
    "        cur_kg = i[1]\n",
    "print(cnt)"
   ]
  },
  {
   "cell_type": "markdown",
   "metadata": {},
   "source": [
    "# 7. 창고 정리(그리디)"
   ]
  },
  {
   "cell_type": "code",
   "execution_count": 67,
   "metadata": {},
   "outputs": [],
   "source": [
    "l=10\n",
    "x=[69,42,68,76,40,87,14,65,76,81]\n",
    "m=50"
   ]
  },
  {
   "cell_type": "code",
   "execution_count": 68,
   "metadata": {},
   "outputs": [],
   "source": [
    "sort_x = sorted(x,reverse=True)"
   ]
  },
  {
   "cell_type": "code",
   "execution_count": 69,
   "metadata": {},
   "outputs": [
    {
     "name": "stdout",
     "output_type": "stream",
     "text": [
      "20\n"
     ]
    }
   ],
   "source": [
    "for i in range(m):\n",
    "    sort_x[0]-=1\n",
    "    sort_x[-1]+=1\n",
    "    sort_x=sorted(sort_x,reverse=True)\n",
    "print(sort_x[0]-sort_x[-1])"
   ]
  },
  {
   "cell_type": "markdown",
   "metadata": {},
   "source": [
    "# 8. 침몰하는 타이타닉(그리디)"
   ]
  },
  {
   "cell_type": "code",
   "execution_count": 70,
   "metadata": {},
   "outputs": [],
   "source": [
    "n,m=5, 140\n",
    "weights=[90, 50, 70, 100, 60]"
   ]
  },
  {
   "cell_type": "code",
   "execution_count": 71,
   "metadata": {},
   "outputs": [],
   "source": [
    "sort_weights=sorted(weights,reverse=True)"
   ]
  },
  {
   "cell_type": "code",
   "execution_count": 73,
   "metadata": {},
   "outputs": [],
   "source": [
    "from collections import deque\n",
    "sort_weights=deque(sort_weights)"
   ]
  },
  {
   "cell_type": "code",
   "execution_count": 75,
   "metadata": {},
   "outputs": [
    {
     "name": "stdout",
     "output_type": "stream",
     "text": [
      "3\n"
     ]
    }
   ],
   "source": [
    "cnt=0\n",
    "while sort_weights:\n",
    "    if len(sort_weights)==1:\n",
    "        cnt+=1\n",
    "        break\n",
    "    big=sort_weights[0]\n",
    "    small=sort_weights[-1]\n",
    "    \n",
    "    if big+small<=m:\n",
    "        sort_weights.popleft()\n",
    "        sort_weights.pop()\n",
    "        cnt+=1\n",
    "    else:\n",
    "        sort_weights.popleft()\n",
    "        cnt+=1\n",
    "print(cnt)"
   ]
  },
  {
   "cell_type": "markdown",
   "metadata": {},
   "source": [
    "# 9. 증가수열 만들기(그리디)"
   ]
  },
  {
   "cell_type": "code",
   "execution_count": 101,
   "metadata": {},
   "outputs": [],
   "source": [
    "n=5\n",
    "arr=[2, 4, 5, 1, 3]"
   ]
  },
  {
   "cell_type": "code",
   "execution_count": 102,
   "metadata": {},
   "outputs": [
    {
     "name": "stdout",
     "output_type": "stream",
     "text": [
      "4\n",
      "LRLL\n"
     ]
    }
   ],
   "source": [
    "lt=0\n",
    "rt=n-1\n",
    "last=0\n",
    "tmp=[]\n",
    "res=''\n",
    "while lt<=rt:\n",
    "    if arr[lt] > last: \n",
    "        tmp.append((arr[lt],'L'))\n",
    "    if arr[rt] > last:\n",
    "        tmp.append((arr[rt],'R'))\n",
    "    \n",
    "    tmp.sort()\n",
    "    if len(tmp)==0:\n",
    "        break\n",
    "    else:\n",
    "        res+=tmp[0][1]\n",
    "        last=tmp[0][0]\n",
    "        if tmp[0][1]=='L':\n",
    "            lt+=1\n",
    "        else:\n",
    "            rt-=1\n",
    "    tmp.clear()\n",
    "print(len(res))\n",
    "print(res)"
   ]
  },
  {
   "cell_type": "markdown",
   "metadata": {},
   "source": [
    "# 10. 역수열(그리디)"
   ]
  },
  {
   "cell_type": "code",
   "execution_count": 109,
   "metadata": {},
   "outputs": [],
   "source": [
    "n=8\n",
    "x=[5,3,4,0,2,1,1,0]"
   ]
  },
  {
   "cell_type": "code",
   "execution_count": 110,
   "metadata": {},
   "outputs": [
    {
     "name": "stdout",
     "output_type": "stream",
     "text": [
      "4 8 6 2 5 1 3 7 "
     ]
    }
   ],
   "source": [
    "res=[0]*n\n",
    "\n",
    "for i in range(n):\n",
    "    for j in range(n):\n",
    "        if x[i]==0 and res[j]==0:\n",
    "            res[j]=i+1\n",
    "            break\n",
    "        elif res[j]==0:\n",
    "            x[i]-=1\n",
    "for x in res:\n",
    "    print(x,end=' ')"
   ]
  }
 ],
 "metadata": {
  "kernelspec": {
   "display_name": "Python 3",
   "language": "python",
   "name": "python3"
  },
  "language_info": {
   "codemirror_mode": {
    "name": "ipython",
    "version": 3
   },
   "file_extension": ".py",
   "mimetype": "text/x-python",
   "name": "python",
   "nbconvert_exporter": "python",
   "pygments_lexer": "ipython3",
   "version": "3.8.5"
  }
 },
 "nbformat": 4,
 "nbformat_minor": 2
}
