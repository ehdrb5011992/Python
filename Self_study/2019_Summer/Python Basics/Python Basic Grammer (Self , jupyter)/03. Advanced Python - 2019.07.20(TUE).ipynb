{
 "cells": [
  {
   "cell_type": "markdown",
   "metadata": {},
   "source": [
    "# [Advanced Python]\n"
   ]
  },
  {
   "cell_type": "markdown",
   "metadata": {},
   "source": [
    "*KU, LeeDongGyu*"
   ]
  },
  {
   "cell_type": "markdown",
   "metadata": {},
   "source": [
    "##  Examples\n",
    "---"
   ]
  },
  {
   "cell_type": "markdown",
   "metadata": {},
   "source": [
    "### Inner Product"
   ]
  },
  {
   "cell_type": "code",
   "execution_count": 2,
   "metadata": {},
   "outputs": [
    {
     "name": "stdout",
     "output_type": "stream",
     "text": [
      "[[0.21000000000000002, 2.1], [0.42000000000000004, 4.2]]\n"
     ]
    }
   ],
   "source": [
    "import numpy as np\n",
    "x = np.array([[1,2],[10,20]])\n",
    "y = np.array([[0.01,0.02],[0.1,0.2]])\n",
    "z = [[sum([x[i][k]*y[k][j] for k in range(2)]) for i in range(2)] for j in range(2)]\n",
    "print(z)"
   ]
  },
  {
   "cell_type": "code",
   "execution_count": 8,
   "metadata": {},
   "outputs": [
    {
     "name": "stdout",
     "output_type": "stream",
     "text": [
      "[[0.21 0.42]\n",
      " [2.1  4.2 ]]\n",
      "[[0.21 0.42]\n",
      " [2.1  4.2 ]]\n"
     ]
    }
   ],
   "source": [
    "print(y.dot(x)) ; print(x@y); # Output compare"
   ]
  },
  {
   "cell_type": "code",
   "execution_count": 9,
   "metadata": {},
   "outputs": [
    {
     "name": "stdout",
     "output_type": "stream",
     "text": [
      "1.4142135623730951\n"
     ]
    }
   ],
   "source": [
    "import math\n",
    "class Vector2:\n",
    "    def __init__(self,x,y):\n",
    "        self._x = x\n",
    "        self._y = y\n",
    "    def x(self): #x를 class로 쓰기 위해서 정의\n",
    "        return self._x\n",
    "    def y(self): #y를 class로 쓰기 위해서 정의\n",
    "        return self._y\n",
    "    def size(self):\n",
    "        return math.sqrt(self.x()**2 + self.y()**2)\n",
    "v1 = Vector2(1,1)\n",
    "print(v1.size())"
   ]
  },
  {
   "cell_type": "code",
   "execution_count": 10,
   "metadata": {},
   "outputs": [
    {
     "name": "stdout",
     "output_type": "stream",
     "text": [
      "Vector2(1,-1)\n",
      "1.4142135623730951\n"
     ]
    }
   ],
   "source": [
    "#Expansion\n",
    "import math\n",
    "class Vector2:\n",
    "    def __init__(self,x,y):\n",
    "        self._x = x\n",
    "        self._y = y\n",
    "    def x(self):\n",
    "        return self._x\n",
    "    def y(self):\n",
    "        return self._y\n",
    "    def __sub__(self, other): #뺄셈연산.\n",
    "        return Vector2(self.x() - other.x(),\n",
    "                       self.y() - other.y())\n",
    "    def __repr__(self): #표현연산.\n",
    "        return \"Vector2({},{})\".format(self.x(), self.y())\n",
    "    def size(self):\n",
    "        return math.sqrt(self.x() ** 2 + self.y() ** 2)\n",
    "\n",
    "v1 = Vector2(1, 0)\n",
    "v2 = Vector2(0, 1)\n",
    "v = v1 - v2\n",
    "print(v)\n",
    "print(v.size())\n"
   ]
  },
  {
   "cell_type": "code",
   "execution_count": 11,
   "metadata": {},
   "outputs": [],
   "source": [
    "#Expansion2\n",
    "import math\n",
    "class Vector2:\n",
    "    def __init__(self,x,y):\n",
    "        self._x = x\n",
    "        self._y = y\n",
    "    def x(self):\n",
    "        return self._x\n",
    "    def y(self):\n",
    "     return self._y\n",
    "    def __sub__(self,other):\n",
    "        return Vector2(self.x() - other.x(),\n",
    "                       self.y() - other.y())\n",
    "    def __repr__(self):\n",
    "        return \"Vector2({},{})\".format(self.x(),self.y())\n",
    "    def size(self):\n",
    "        return math.sqrt(self.x()**2 + self.y()**2)"
   ]
  },
  {
   "cell_type": "code",
   "execution_count": 12,
   "metadata": {},
   "outputs": [
    {
     "name": "stdout",
     "output_type": "stream",
     "text": [
      "1.4142135623730951\n"
     ]
    }
   ],
   "source": [
    "class Point2(Vector2): #vector2 의 성질들은 다 가지고 있음. - 계승이기에\n",
    "    def __init__(self,x,y):\n",
    "        super().__init__(x,y)\n",
    "    def distance(self,other):\n",
    "        v = self - other\n",
    "        return v.size()\n",
    "p1 = Point2(1,0)\n",
    "p2 = Point2(0,1)\n",
    "print(p1.distance(p2))\n"
   ]
  },
  {
   "cell_type": "code",
   "execution_count": 13,
   "metadata": {},
   "outputs": [],
   "source": [
    "class Vector:\n",
    "    def __init__(self,lst,dim=None):\n",
    "        self._vec = list(lst)\n",
    "        if dim is None:\n",
    "            self._dim = len(self._vec)\n",
    "        else:\n",
    "            self._dim = dim\n",
    "    def dim(self): #vector.dim()을 보기위한 함수.\n",
    "        return self._dim\n",
    "    def __repr__(self):\n",
    "        return \"Vector({0})\".format(self._vec)\n",
    "    def __str__(self): #str, repr 둘다 문자열을 반환함.\n",
    "                       #str은 추가적가공,다른데이터와 호환,\n",
    "                       #repr은 단순히 표현하는데 목적이있음.\n",
    "                       #결론 : str이 훨씬 유용함.\n",
    "        if (self.dim() > 3):\n",
    "            return \"Vector({},{},...)\".format(self[0],self[1]);\n",
    "        else:\n",
    "            return self.__repr__()\n",
    "    def __getitem__(self,key): #[]같은 명령어로 값을 얻고싶을때\n",
    "        return self._vec[key]\n",
    "    def __setitem__(self,key,val): #튜플이아닌 list처럼 값을 수정하고 싶을때\n",
    "        self._vec[key] = val\n",
    "    def __add__(self,other): #더하는 연산\n",
    "        return Vector([self[i] + other[i] for i in range(self.dim())])\n",
    "    def __sub__(self,other): #빼는 연산\n",
    "        return Vector([self[i] - other[i] for i in range(self.dim())])\n",
    "    def size(self):\n",
    "        return math.sqrt(sum([x*x for x in self._vec]))"
   ]
  },
  {
   "cell_type": "code",
   "execution_count": 14,
   "metadata": {},
   "outputs": [
    {
     "name": "stdout",
     "output_type": "stream",
     "text": [
      "x-y= Vector(10,0,...)\n",
      "x+y= Vector(10,2,...)\n",
      "x[10]= 10\n",
      "(x-y).size()= 10.0\n"
     ]
    }
   ],
   "source": [
    "x = Vector(range(100))\n",
    "y = Vector(range(100))\n",
    "x[0] = 10\n",
    "print('x-y=', x - y)\n",
    "print('x+y=', x + y)\n",
    "print('x[10]=',x[10])\n",
    "print('(x-y).size()=',(x-y).size())\n"
   ]
  },
  {
   "cell_type": "code",
   "execution_count": 28,
   "metadata": {},
   "outputs": [
    {
     "name": "stdout",
     "output_type": "stream",
     "text": [
      "p1.distance(p2)= 10.0\n"
     ]
    }
   ],
   "source": [
    "#Final\n",
    "class Point(Vector) :\n",
    "    def __init__(self,lst):\n",
    "        super().__init__(lst)\n",
    "    def distance(self,other):\n",
    "        elements = self - other\n",
    "        return elements.size()\n",
    "\n",
    "p1 = Point(range(100))\n",
    "p2 = Point(range(100))\n",
    "p1[0] = 10\n",
    "print(\"p1.distance(p2)=\",p1.distance(p2))"
   ]
  },
  {
   "cell_type": "code",
   "execution_count": 17,
   "metadata": {},
   "outputs": [],
   "source": [
    "##############str과 repr의 차이##############\n",
    "class A:\n",
    "    def __str__(self):\n",
    "        return 'str method is called'\n",
    "    def __repr__(self):\n",
    "        return 'repr method is called'\n",
    "\n",
    "##############str과 repr의 차이##############\n",
    "a=A()"
   ]
  },
  {
   "cell_type": "code",
   "execution_count": 21,
   "metadata": {},
   "outputs": [
    {
     "data": {
      "text/plain": [
       "'repr method is called'"
      ]
     },
     "execution_count": 21,
     "metadata": {},
     "output_type": "execute_result"
    }
   ],
   "source": [
    "repr(a)"
   ]
  },
  {
   "cell_type": "code",
   "execution_count": 24,
   "metadata": {},
   "outputs": [
    {
     "data": {
      "text/plain": [
       "'str method is called'"
      ]
     },
     "execution_count": 24,
     "metadata": {},
     "output_type": "execute_result"
    }
   ],
   "source": [
    "str(a)"
   ]
  },
  {
   "cell_type": "code",
   "execution_count": 23,
   "metadata": {
    "scrolled": true
   },
   "outputs": [
    {
     "data": {
      "text/plain": [
       "repr method is called"
      ]
     },
     "execution_count": 23,
     "metadata": {},
     "output_type": "execute_result"
    }
   ],
   "source": [
    "a"
   ]
  },
  {
   "cell_type": "code",
   "execution_count": 25,
   "metadata": {
    "scrolled": true
   },
   "outputs": [
    {
     "name": "stdout",
     "output_type": "stream",
     "text": [
      "str method is called\n"
     ]
    }
   ],
   "source": [
    "print(a)"
   ]
  },
  {
   "cell_type": "code",
   "execution_count": 26,
   "metadata": {},
   "outputs": [
    {
     "data": {
      "text/plain": [
       "['s',\n",
       " 't',\n",
       " 'r',\n",
       " ' ',\n",
       " 'm',\n",
       " 'e',\n",
       " 't',\n",
       " 'h',\n",
       " 'o',\n",
       " 'd',\n",
       " ' ',\n",
       " 'i',\n",
       " 's',\n",
       " ' ',\n",
       " 'c',\n",
       " 'a',\n",
       " 'l',\n",
       " 'l',\n",
       " 'e',\n",
       " 'd']"
      ]
     },
     "execution_count": 26,
     "metadata": {},
     "output_type": "execute_result"
    }
   ],
   "source": [
    "list(str(a)) #가능"
   ]
  },
  {
   "cell_type": "code",
   "execution_count": 29,
   "metadata": {},
   "outputs": [
    {
     "ename": "TypeError",
     "evalue": "'A' object is not iterable",
     "output_type": "error",
     "traceback": [
      "\u001b[1;31m---------------------------------------------------------------------------\u001b[0m",
      "\u001b[1;31mTypeError\u001b[0m                                 Traceback (most recent call last)",
      "\u001b[1;32m<ipython-input-29-0cc8208cbd54>\u001b[0m in \u001b[0;36m<module>\u001b[1;34m\u001b[0m\n\u001b[1;32m----> 1\u001b[1;33m \u001b[0mlist\u001b[0m\u001b[1;33m(\u001b[0m\u001b[0ma\u001b[0m\u001b[1;33m)\u001b[0m \u001b[1;31m#불가능\u001b[0m\u001b[1;33m\u001b[0m\u001b[1;33m\u001b[0m\u001b[0m\n\u001b[0m",
      "\u001b[1;31mTypeError\u001b[0m: 'A' object is not iterable"
     ]
    }
   ],
   "source": [
    "list(a) #불가능"
   ]
  }
 ],
 "metadata": {
  "kernelspec": {
   "display_name": "Python 3",
   "language": "python",
   "name": "python3"
  },
  "language_info": {
   "codemirror_mode": {
    "name": "ipython",
    "version": 3
   },
   "file_extension": ".py",
   "mimetype": "text/x-python",
   "name": "python",
   "nbconvert_exporter": "python",
   "pygments_lexer": "ipython3",
   "version": "3.7.3"
  }
 },
 "nbformat": 4,
 "nbformat_minor": 2
}
