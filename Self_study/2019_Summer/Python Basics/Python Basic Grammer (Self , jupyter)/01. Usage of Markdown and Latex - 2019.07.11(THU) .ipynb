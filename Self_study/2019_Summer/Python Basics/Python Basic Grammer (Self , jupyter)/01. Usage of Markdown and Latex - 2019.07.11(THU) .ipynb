{
 "cells": [
  {
   "cell_type": "markdown",
   "metadata": {},
   "source": [
    "# [Practice the mathematical expression]"
   ]
  },
  {
   "cell_type": "markdown",
   "metadata": {},
   "source": [
    "*KU, LeeDongGyu*"
   ]
  },
  {
   "cell_type": "markdown",
   "metadata": {},
   "source": [
    "## 1. Introduction\n",
    "---"
   ]
  },
  {
   "cell_type": "markdown",
   "metadata": {},
   "source": [
    " In this chapter, we are going to learn the basic usage of *Markdown* or *Latex*. Especially it is important to studying *Latex* for getting a master degree."
   ]
  },
  {
   "cell_type": "markdown",
   "metadata": {},
   "source": [
    "## 2. Markdown usage\n",
    "---"
   ]
  },
  {
   "cell_type": "markdown",
   "metadata": {},
   "source": [
    "1) Heading  \n",
    "- #\n",
    "- ##\n",
    "- ###\n",
    "- ####\n",
    "- #####\n",
    "- ######\n",
    "\n",
    "*cf.) In short the number of # (1-6).*"
   ]
  },
  {
   "cell_type": "markdown",
   "metadata": {},
   "source": [
    "2) line breaking <br>\n",
    "- &lt;br&gt;\n",
    "- Double spaces & Go to the next line."
   ]
  },
  {
   "cell_type": "markdown",
   "metadata": {},
   "source": [
    "3) Underline\n",
    "- \\-\\-\\- \n",
    "- \\_\\_\\_ (3 times underscore)\n",
    "\n",
    "*The thickness of line might be changed periodically about 1 in 4 times .(Need to confirm)*"
   ]
  },
  {
   "cell_type": "markdown",
   "metadata": {},
   "source": [
    "4) Ordered list"
   ]
  },
  {
   "cell_type": "markdown",
   "metadata": {},
   "source": [
    "1. list 1\n",
    "2. list 2\n",
    "3. list 3"
   ]
  },
  {
   "cell_type": "markdown",
   "metadata": {},
   "source": [
    "```\n",
    "1. list 1\n",
    "2. list 2\n",
    "3. list 3\n",
    "```"
   ]
  },
  {
   "cell_type": "markdown",
   "metadata": {},
   "source": [
    "5) Unordered list"
   ]
  },
  {
   "cell_type": "markdown",
   "metadata": {},
   "source": [
    "- list 1\n",
    "- list 2\n",
    "- list 3\n",
    "* list 4\n",
    "    - list 5\n",
    "        + list 5-1\n",
    "        + list 5-2\n",
    "    - list 6\n",
    "        + list 6-1\n",
    "        + list 6-2  "
   ]
  },
  {
   "cell_type": "markdown",
   "metadata": {},
   "source": [
    "```\n",
    "- list 1\n",
    "- list 2\n",
    "- list 3\n",
    "* list 4\n",
    "    - list 5\n",
    "        + list 5-1\n",
    "        + list 5-2\n",
    "    - list 6\n",
    "        + list 6-1\n",
    "        + list 6-2  \n",
    "```"
   ]
  },
  {
   "cell_type": "markdown",
   "metadata": {},
   "source": [
    "6) Table"
   ]
  },
  {
   "cell_type": "markdown",
   "metadata": {},
   "source": [
    "| Symbol | HTML Number | HTML Name | Description |\n",
    "|-|-|-|-|\n",
    "| ! | `&#33;` | ` `  |exclamation point|\n",
    "| \" | `&#34;` | &quot\\\\; | double quotes |\n",
    "| # | `&#35;` | ` ` |number sign|\n",
    "| $ | `&#36;` | ` ` | dollar sign |\n",
    "| % | `&#37;` | ` ` |percent sign|\n",
    "| & | `&#38;` | &amp\\\\; | ampersand |\n",
    "| ' | `&#39;` | ` ` |single quote|\n",
    "| ( | `&#40;` | ` ` | opening parenthesis |\n",
    "| ) | `&#41;` | ` ` | closing parenthesis|\n",
    "| * | `&#42;` | ` ` | asterisk |\n",
    "| + | `&#43;` | ` ` | plus sign  |\n",
    "| , | `&#44;` | ` ` | comma|\n",
    "| - | `&#45;` | ` ` | minus sign - hyphen |\n",
    "| . | `&#46;` | ` ` | period |\n",
    "| / | `&#47;` | ` ` |slash|\n",
    "| : | `&#58;` | ` ` | colon |\n",
    "| ; | `&#59;` | ` ` | semicolon |\n",
    "| < | `&#60;` | `&lt;` |less than sign|\n",
    "| = | `&#61;` | ` ` | equal sign |\n",
    "| > | `&#62;` | `&gt;` | greater than sign |\n",
    "| ? | `&#63;` | ` ` |question mark|\n",
    "| @ | `&#64;` | ` ` | at symbol|\n",
    "| [ | `&#91;` | ` ` | opening bracket |\n",
    "| \\\\ | `&#92;` | ` ` | backslash |\n",
    "| ] | `&#93;` | ` ` | closing bracket |\n",
    "| ^ | `&#94;` | ` ` | caret-circumflex |\n",
    "| _ | `&#95;` | ` ` | underscore |\n",
    "| ` | `&#96;` | ` ` | grave accent |\n",
    "| { | `&#123;` | ` ` | opening brace |\n",
    "| | | `&#124;` | ` ` | vertical bar-pipe |\n",
    "| } | `&#125;` | ` ` | closing brace|\n",
    "| ~ | `&#126;` | ` ` | equivalency sign - tilde |\n",
    "| -| `&#8211;` | ` ` | en dash |\n",
    "\n",
    " Source : [Symbolic character](https://4urdev.tistory.com/62)"
   ]
  },
  {
   "cell_type": "markdown",
   "metadata": {},
   "source": [
    "```\n",
    "| Symbol | HTML Number | HTML Name | Description |\n",
    "|-|-|-|-|\n",
    "| ! | `&#33;` | ` `  |exclamation point|\n",
    "| \" | `&#34;` | &quot\\\\; | double quotes | \n",
    "\n",
    "...(skip)\n",
    "```"
   ]
  },
  {
   "cell_type": "markdown",
   "metadata": {},
   "source": [
    "7) Sentense elements"
   ]
  },
  {
   "cell_type": "markdown",
   "metadata": {},
   "source": [
    "**Bold1** __Bold2__ <br>\n",
    "*Italics1* _Italics2_<br>\n",
    "~~Strikethrough~~<br>\n",
    "<u>Underline</u><br>\n",
    "`Block`<br>\n",
    ">Identation"
   ]
  },
  {
   "cell_type": "markdown",
   "metadata": {},
   "source": [
    "```\n",
    "**Bold1** __Bold2__ <br>\n",
    "*Italics1* _Italics2_<br>\n",
    "~~Strikethrough~~<br>\n",
    "<u>Underline</u><br>\n",
    "`Block`<br>\n",
    ">Identation\n",
    "```"
   ]
  },
  {
   "cell_type": "markdown",
   "metadata": {},
   "source": [
    "## 3. Latex Examples\n",
    "---"
   ]
  },
  {
   "cell_type": "markdown",
   "metadata": {},
   "source": [
    "#### 1) Equations\n",
    "$\n",
    "\\begin{split}\n",
    "\\dot{x} & = \\sigma(y-x)\\\\\n",
    "\\dot{y} & = \\rho x - y - xz\\\\\n",
    "\\dot{z} & = -\\beta z + xy \n",
    "\\end{split}\n",
    "$"
   ]
  },
  {
   "cell_type": "markdown",
   "metadata": {},
   "source": [
    "`$ \\begin{split}\n",
    "\\dot x & = \\sigma (y-x) \\\\\n",
    "\\dot y & = \\rho x-y-xz \\\\\n",
    "\\dot z & = -\\beta z + xy\n",
    "\\end{split} $`\n"
   ]
  },
  {
   "cell_type": "markdown",
   "metadata": {},
   "source": [
    "#### 2) Inequality Equation\n",
    "$\n",
    "\\begin{split}\n",
    "\\left( \\sum_{k=1}^n a_k b_k \\right)^2 \\leq \\left( \\sum_{k=1}^n a_k^2 \\right) \\left(\n",
    "\\sum_{k=1}^n b_k^2 \\right )\n",
    "\\end{split}\n",
    "$"
   ]
  },
  {
   "cell_type": "markdown",
   "metadata": {},
   "source": [
    "`$\n",
    "\\begin{split}\n",
    "\\left ( \\sum _{k=1}^n a_k b_k \\right) ^2 \\le \\left( \\sum_{k=1}^n a_k^2 \\right)\\left( \\sum_{k=1} ^n b_k^2 \\right)\n",
    "\\end{split}\n",
    "$`"
   ]
  },
  {
   "cell_type": "markdown",
   "metadata": {},
   "source": [
    "#### 3) Matrix\n",
    "$\n",
    "\\begin{split}\n",
    "\\mathbf {V}_1 \\times \\mathbf V_2 = \n",
    "\\begin{vmatrix}\n",
    "\\mathbf{i} & \\mathbf{j} & \\mathbf{k} \\\\\n",
    "\\frac{\\partial X} { \\partial u } & \\frac{\\partial Y} {\\partial u } & 0 \\\\\n",
    "\\frac{\\partial X} { \\partial v } & \\frac{\\partial Y} {\\partial v } & 0 \\\\\n",
    "\\end{vmatrix}\n",
    "\\end{split}\n",
    "$"
   ]
  },
  {
   "cell_type": "markdown",
   "metadata": {},
   "source": [
    "`$\n",
    "\\begin{split}\n",
    "\\mathbf V_1 \\times \\mathbf V_2 = \n",
    "\\begin{vmatrix}\n",
    "\\mathbf{i} & \\mathbf{j} & \\mathbf{k} \\\\\n",
    "\\frac {\\partial X} {\\partial u} & \\frac {\\partial Y} {\\partial u} & 0 \\\\\n",
    "\\frac {\\partial X} {\\partial v} & \\frac {\\partial Y} {\\partial v} & 0\n",
    "\\end{vmatrix}\n",
    "\\end{split}\n",
    "$`"
   ]
  },
  {
   "cell_type": "markdown",
   "metadata": {},
   "source": [
    "#### 4) Probability\n",
    "$\n",
    "\\begin{split}\n",
    "P(E) = {n \\choose k} p^k (1-p)^{n-k}\n",
    "\\end{split}\n",
    "$"
   ]
  },
  {
   "cell_type": "markdown",
   "metadata": {},
   "source": [
    "`$\n",
    "\\begin{split}\n",
    "P(E) = {n \\choose k } p^k (1-p)^{n-k}\n",
    "\\end{split}\n",
    "$`"
   ]
  },
  {
   "cell_type": "markdown",
   "metadata": {},
   "source": [
    "#### 5) Lamanusan Infinite Sum\n",
    "$\n",
    "\\begin{split}\n",
    "\\frac{1}{\\Bigl(\\sqrt{\\phi\\sqrt{5}} - \\phi\\Bigr) e^{\\frac {2}{5} \\pi}} = 1+\\frac{e^{-2\\pi}} { 1 + \\frac{e^{-4\\pi}} { 1 + \\frac{e^{-6\\pi}} \n",
    "{1+\\frac{e^{-8 \\pi}} {1+ \\cdots} } } }\n",
    "\\end{split}\n",
    "$"
   ]
  },
  {
   "cell_type": "markdown",
   "metadata": {},
   "source": [
    "`$\n",
    "\\begin{split}\n",
    "\\frac 1 { \\left( \\sqrt{\\phi \\sqrt 5} - \\phi \\right) e^{\\frac 2 5 \\pi } } = \n",
    "1 + \\frac {e^{-2\\pi}} { 1+ \\frac {e^{-4\\pi}} {  1+ \\frac {e^{-6\\pi}} { 1+ \\frac {e^{-8\\pi}} {1 + \\cdots} }  } }\n",
    "\\end{split}\n",
    "$`"
   ]
  },
  {
   "cell_type": "markdown",
   "metadata": {},
   "source": [
    "#### 6) Infinite Sum\n",
    "$\n",
    "\\begin{split}\n",
    "1 + \\frac{q^2} {(1-q)} + \\frac{q^6}{(1-q)(1-q^2)} + \\cdots =\n",
    "\\prod_{j=0}^\\infty \\frac 1 {(1-q^{5j+2})(1-q^{5j+3})} ,\n",
    "\\quad\\quad \\text {for $ |q| < 1$}\n",
    "\\end{split}\n",
    "$"
   ]
  },
  {
   "cell_type": "markdown",
   "metadata": {},
   "source": [
    "`$\n",
    "\\begin{split}\n",
    "1 + \\frac {q^2} {(1-q)} + \\frac{q^6} {(1-q)(1-q^2) } + \\cdots = \n",
    "\\prod_{j=0} ^\\infty \\frac{1} {(1-q^{5j+2})(1-q^{5j+3)}} , \\quad\\quad \\text {for $ |q| < 1 $ }\n",
    "\\end{split}\n",
    "$`"
   ]
  },
  {
   "cell_type": "markdown",
   "metadata": {},
   "source": [
    "#### 7) Maxwell’s Equations\n",
    "$\n",
    "\\begin{align}\n",
    "\\nabla \\times \\vec{\\mathbf{B}} -\\, \\frac1c\\, \\frac{\\partial\\vec{\\mathbf{E}}}{\\partial t} & = \\frac{4\\pi}{c}\\vec{\\mathbf{j}} \\\\   \\nabla \\cdot \\vec{\\mathbf{E}} & = 4 \\pi \\rho \\\\\n",
    "\\nabla \\times \\vec{\\mathbf{E}}\\, +\\, \\frac1c\\, \\frac{\\partial\\vec{\\mathbf{B}}}{\\partial t} & = \\vec{\\mathbf{0}} \\\\\n",
    "\\nabla \\cdot \\vec{\\mathbf{B}} & = 0\n",
    "\\end{align}\n",
    "$"
   ]
  },
  {
   "cell_type": "markdown",
   "metadata": {},
   "source": [
    "`$\n",
    "\\begin{split}\n",
    "\\nabla \\times \\vec{\\mathbf B} - \\frac {1}{c} \\frac {\\partial \\vec{\\mathbf E}} {\\partial t} & = \\frac{4\\pi}{c}\\vec{\\mathbf j} \\\\\n",
    "\\nabla \\cdot  \\vec{\\mathbf E} & = 4\\pi\\rho \\\\\n",
    "\\nabla \\times \\vec{\\mathbf E} + \\frac 1 c \\frac {\\partial \\vec{\\mathbf B}}{\\partial t} &= \\vec{\\mathbf 0 } \\\\\n",
    "\\nabla \\cdot \\vec{\\mathbf B} &= 0\n",
    "\\end{split}\n",
    "$`"
   ]
  },
  {
   "cell_type": "markdown",
   "metadata": {},
   "source": [
    "#### 8) Wooyoung's sample 1\n",
    "- $\\begin{split} \\tilde {\\phi} (x_k) = \\phi(x_k) - \\frac 1n \\sum_{k=1}^n \\phi(x_k) \\end{split}$\n",
    "- $\\begin{split} \\Sigma = \\frac 1 n \\sum_{i=1}^n \\phi(x_i )\\phi(x_i)^t \\Rightarrow \\Sigma \\nu = \\lambda \\end{split}$"
   ]
  },
  {
   "cell_type": "markdown",
   "metadata": {},
   "source": [
    "`- $\\begin{split} \\tilde {\\phi} (x_k) = \\phi(x_k) - \\frac 1n \\sum_{k=1}^n \\phi(x_k) \\end{split}$` &lt;br&gt; <br> \n",
    "`- $\\begin{split} \\Sigma = \\frac 1 n \\sum_{i=1}^n \\phi(x_i )\\phi(x_i)^t \\Rightarrow \\Sigma \\nu = \\lambda \\end{split}$`"
   ]
  },
  {
   "cell_type": "markdown",
   "metadata": {},
   "source": [
    "#### 9) Wooyoung's sample 2\n",
    "$\n",
    "\\begin{split}\n",
    "\\widetilde{K(x_i,x_j)} & = \\tilde{\\phi}(x_i)^t \\tilde {\\phi}(x_j ) \\\\ \n",
    "& = \\left( \\phi(x_i) - \\frac 1 n \\sum_{k=1}^n \\phi(x_k) \\right) ^t \\left( \\phi(x_j) - \\frac 1 n \\sum_{k=1}^n \\phi(x_k) \\right) \\\\\n",
    "& = K(x_i,x_j) - \\frac 1 n \\sum_{k=1}^n K(x_i,x_k ) - \\frac 1 n \\sum_{k=1}^n K(x_j,x_k) + \\frac 1 {n^2} \\sum_{k=1}^n \\sum_{l=1}^n K(x_l,x_k) \\\\ \\\\ \n",
    "\\end{split}\n",
    "$\n",
    "\n",
    "$\n",
    "\\begin{split}\n",
    "\\therefore \\tilde K = K - 2\\mathbf{1_{1/n}} K  +\\mathbf{1_{1/n}} K \\mathbf{1_{1/n}}  \n",
    "\\end{split}\n",
    "$"
   ]
  },
  {
   "cell_type": "markdown",
   "metadata": {},
   "source": [
    "`$\n",
    "\\begin{split}\n",
    "\\widetilde{K(x_i,x_j)} & = \\tilde{\\phi}(x_i)^t \\tilde {\\phi}(x_j ) \\\\ \n",
    "& = \\left( \\phi(x_i) - \\frac 1 n \\sum_{k=1}^n \\phi(x_k) \\right) ^t \\left( \\phi(x_j) - \\frac 1 n \\sum_{k=1}^n \\phi(x_k) \\right) \\\\\n",
    "& = K(x_i,x_j) - \\frac 1 n \\sum_{k=1}^n K(x_i,x_k ) - \\frac 1 n \\sum_{k=1}^n K(x_j,x_k) + \\frac 1 {n^2} \\sum_{k=1}^n \\sum_{l=1}^n K(x_l,x_k) \\\\ \\\\ \n",
    "\\end{split}\n",
    "$`   \n",
    "` \n",
    "$\n",
    "\\begin{split}\n",
    "\\therefore \\tilde K = K - 2\\mathbf{1_{1/n}} K  +\\mathbf{1_{1/n}} K \\mathbf{1_{1/n}}  \n",
    "\\end{split}\n",
    "$`"
   ]
  },
  {
   "cell_type": "markdown",
   "metadata": {},
   "source": [
    "#### 10) ETC\n",
    "1. $ ABCDEFGHIJKLMNOPQRSTUVWXYZ , abcdefghijklmnopqrstuvwxyz, 1234567890  $ <br> \n",
    "- $ \\mathit{ABCDEFGHIJKLMNOPQRSTUVWXYZ , abcdefghijklmnopqrstuvwxyz, 1234567890} $ <br> \n",
    "- $ \\mathbf{ABCDEFGHIJKLMNOPQRSTUVWXYZ , abcdefghijklmnopqrstuvwxyz, 1234567890} $ <br> \n",
    "- $ \\mathcal{ABCDEFGHIJKLMNOPQRSTUVWXYZ , abcdefghijklmnopqrstuvwxyz, 1234567890} $ <br> \n",
    "- $ \\dot{\\mathbf{E}} \\quad \\boldsymbol{\\dot {\\mathbf E}} \\quad \\boldsymbol{E} \\quad \\mathrm{ABCDE} \\quad ABCDE $ <br> \n",
    "- $ \\in \\notin  \\vdots \\cdots \\ldots \\ddots $ <br> \n",
    "- $ \\int_{a}^b \\iint \\limits_A  \\iiint \\limits_V \\iiiint  \\| x+y \\| \\quad \\forall \\quad \\exists $ <br> \n",
    "- $ \\tiny{abcde} \\quad \\scriptsize{abcde} \\quad \\small{abcde} \\quad \\normalsize{abcde} \\quad \\large{abcde} \\quad \\Large{abcde} \\quad \\LARGE{abcde} $ <br> \n",
    "$ % it= italicize , bf = bold font , cal=calligraphy // '%' is a comment sign. $"
   ]
  },
  {
   "cell_type": "markdown",
   "metadata": {},
   "source": [
    "     \n",
    "`1. $ ABCDEFGHIJKLMNOPQRSTUVWXYZ , abcdefghijklmnopqrstuvwxyz, 1234567890  $` &lt;br&gt;  \n",
    "`- $ \\mathit{ABCDEFGHIJKLMNOPQRSTUVWXYZ , abcdefghijklmnopqrstuvwxyz, 1234567890} $` &lt;br&gt; <br> \n",
    "`- $ \\mathbf{ABCDEFGHIJKLMNOPQRSTUVWXYZ , abcdefghijklmnopqrstuvwxyz, 1234567890} $` &lt;br&gt; <br> \n",
    "`- $ \\mathcal{ABCDEFGHIJKLMNOPQRSTUVWXYZ , abcdefghijklmnopqrstuvwxyz, 1234567890} $` &lt;br&gt; <br> \n",
    "`- $ \\dot{\\mathbf{E}} \\quad \\boldsymbol{\\dot {\\mathbf E}} \\quad \\boldsymbol{E} \\quad \\mathrm{ABCDE} \\quad ABCDE $` &lt;br&gt; <br> \n",
    "`- $ \\in \\notin  \\vdots \\cdots \\ldots \\ddots $` &lt;br&gt; <br> \n",
    "`- $ \\int_{a}^b \\iint \\limits_A  \\iiint \\limits_V \\iiiint  \\| x+y \\| \\quad \\forall \\quad \\exists $` &lt;br&gt; <br> \n",
    "`- $ \\tiny{abcde} \\quad \\scriptsize{abcde} \\quad \\small{abcde} \\quad \\normalsize{abcde} \\quad \\large{abcde} \\quad \\Large{abcde} \\quad \\LARGE{abcde} $`  &lt;br&gt; <br> \n",
    "`$ % it= italicize , bf = bold font , cal=calligraphy // '%' is a comment sign. $`"
   ]
  },
  {
   "cell_type": "markdown",
   "metadata": {},
   "source": [
    "## 4. Appendix\n",
    "---"
   ]
  },
  {
   "cell_type": "markdown",
   "metadata": {},
   "source": [
    "#### 1) Source of  the answers  in examples"
   ]
  },
  {
   "cell_type": "markdown",
   "metadata": {},
   "source": [
    "> - [Answer code](https://jupyter-notebook.readthedocs.io/en/stable/examples/Notebook/Typesetting%20Equations.html)"
   ]
  },
  {
   "cell_type": "markdown",
   "metadata": {},
   "source": [
    "#### 2) Markdown references (will be handled firsthand)"
   ]
  },
  {
   "cell_type": "markdown",
   "metadata": {},
   "source": [
    "> - [Markdown](https://cizz3007.github.io/%EB%A7%88%ED%81%AC%EB%8B%A4%EC%9A%B4/%EB%AC%B8%EB%B2%95/markdown/2018/04/08/markdown/)"
   ]
  },
  {
   "cell_type": "markdown",
   "metadata": {},
   "source": [
    "#### 3) List of LaTeX mathematical symbols"
   ]
  },
  {
   "cell_type": "markdown",
   "metadata": {},
   "source": [
    "\n",
    "> - [Oeis wiki](https://oeis.org/wiki/List_of_LaTeX_mathematical_symbols) <br>\n",
    "- [By WooYoung](http://web.ift.uib.no/Teori/KURS/WRK/TeX/symALL.html) <br>\n",
    "- [Handwriting](https://wiki.mathnt.net/index.php?title=%EC%88%98%EC%8B%9D_%ED%91%9C%ED%98%84_%EC%95%88%EB%82%B4)\n"
   ]
  },
  {
   "cell_type": "markdown",
   "metadata": {},
   "source": [
    "```python\n",
    "print('Wks')\n",
    "```"
   ]
  },
  {
   "cell_type": "markdown",
   "metadata": {},
   "source": [
    "<div class=\"alert alert-block alert-warning\">\n",
    "<b>Tip:</b> (alert-info) 파랑 / (alert-warning) 노랑 / (alter-success) 초록 / (alter-danger) 빨강"
   ]
  }
 ],
 "metadata": {
  "kernelspec": {
   "display_name": "Python 3",
   "language": "python",
   "name": "python3"
  },
  "language_info": {
   "codemirror_mode": {
    "name": "ipython",
    "version": 3
   },
   "file_extension": ".py",
   "mimetype": "text/x-python",
   "name": "python",
   "nbconvert_exporter": "python",
   "pygments_lexer": "ipython3",
   "version": "3.7.3"
  }
 },
 "nbformat": 4,
 "nbformat_minor": 2
}
