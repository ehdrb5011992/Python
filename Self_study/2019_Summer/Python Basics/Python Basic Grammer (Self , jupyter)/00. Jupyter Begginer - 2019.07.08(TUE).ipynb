{
 "cells": [
  {
   "cell_type": "markdown",
   "metadata": {},
   "source": [
    "# 1 ' 와 \"의 차이\n",
    "---"
   ]
  },
  {
   "cell_type": "markdown",
   "metadata": {},
   "source": [
    "'와 \"의 쓰임은 동일하다. 굳이 차이를 나타내자면, \n",
    "\n",
    "\n",
    "\" 안에 ' 혹은 ,\n",
    "\n",
    "' 안에 \"\n",
    "\n",
    "\n",
    "\n",
    "를 써서 구분을 지을 수 있다.\n",
    "\n"
   ]
  },
  {
   "cell_type": "code",
   "execution_count": 1,
   "metadata": {},
   "outputs": [
    {
     "name": "stdout",
     "output_type": "stream",
     "text": [
      "안녕하세요, 저는 '이동규'입니다.\n"
     ]
    }
   ],
   "source": [
    "print(\"안녕하세요, 저는 '이동규'입니다.\")"
   ]
  },
  {
   "cell_type": "markdown",
   "metadata": {},
   "source": [
    "혹은 다음과 같이도 사용할 수 있다."
   ]
  },
  {
   "cell_type": "code",
   "execution_count": 3,
   "metadata": {},
   "outputs": [
    {
     "name": "stdout",
     "output_type": "stream",
     "text": [
      "안녕하세요, 저는 \"이동규\" 입니다.\n"
     ]
    }
   ],
   "source": [
    "print(\"안녕하세요, 저는 \\\"이동규\\\" 입니다.\")"
   ]
  },
  {
   "cell_type": "code",
   "execution_count": 4,
   "metadata": {},
   "outputs": [
    {
     "name": "stdout",
     "output_type": "stream",
     "text": [
      "There's a cat.\n"
     ]
    }
   ],
   "source": [
    "print('There\\'s a cat.')"
   ]
  },
  {
   "cell_type": "markdown",
   "metadata": {},
   "source": [
    "*주의) 다음과 같이 사용하면 안된다.*"
   ]
  },
  {
   "cell_type": "code",
   "execution_count": 2,
   "metadata": {},
   "outputs": [
    {
     "ename": "SyntaxError",
     "evalue": "invalid syntax (<ipython-input-2-6ca708ad4e03>, line 1)",
     "output_type": "error",
     "traceback": [
      "\u001b[1;36m  File \u001b[1;32m\"<ipython-input-2-6ca708ad4e03>\"\u001b[1;36m, line \u001b[1;32m1\u001b[0m\n\u001b[1;33m    print('안녕하세요, 저는 '이동규'입니다.')\u001b[0m\n\u001b[1;37m                        ^\u001b[0m\n\u001b[1;31mSyntaxError\u001b[0m\u001b[1;31m:\u001b[0m invalid syntax\n"
     ]
    }
   ],
   "source": [
    "print('안녕하세요, 저는 '이동규'입니다.')"
   ]
  },
  {
   "cell_type": "markdown",
   "metadata": {},
   "source": [
    "# 2 Help함수 -도움말\n",
    "----"
   ]
  },
  {
   "cell_type": "markdown",
   "metadata": {},
   "source": [
    "function, method, 등을 모를 경우 help()함수를 통해 도움을 받을 수 있다."
   ]
  },
  {
   "cell_type": "code",
   "execution_count": 11,
   "metadata": {},
   "outputs": [
    {
     "name": "stdout",
     "output_type": "stream",
     "text": [
      "\n",
      "Welcome to Python 3.7's help utility!\n",
      "\n",
      "If this is your first time using Python, you should definitely check out\n",
      "the tutorial on the Internet at https://docs.python.org/3.7/tutorial/.\n",
      "\n",
      "Enter the name of any module, keyword, or topic to get help on writing\n",
      "Python programs and using Python modules.  To quit this help utility and\n",
      "return to the interpreter, just type \"quit\".\n",
      "\n",
      "To get a list of available modules, keywords, symbols, or topics, type\n",
      "\"modules\", \"keywords\", \"symbols\", or \"topics\".  Each module also comes\n",
      "with a one-line summary of what it does; to list the modules whose name\n",
      "or summary contain a given string such as \"spam\", type \"modules spam\".\n",
      "\n",
      "help> range\n",
      "Help on class range in module builtins:\n",
      "\n",
      "class range(object)\n",
      " |  range(stop) -> range object\n",
      " |  range(start, stop[, step]) -> range object\n",
      " |  \n",
      " |  Return an object that produces a sequence of integers from start (inclusive)\n",
      " |  to stop (exclusive) by step.  range(i, j) produces i, i+1, i+2, ..., j-1.\n",
      " |  start defaults to 0, and stop is omitted!  range(4) produces 0, 1, 2, 3.\n",
      " |  These are exactly the valid indices for a list of 4 elements.\n",
      " |  When step is given, it specifies the increment (or decrement).\n",
      " |  \n",
      " |  Methods defined here:\n",
      " |  \n",
      " |  __bool__(self, /)\n",
      " |      self != 0\n",
      " |  \n",
      " |  __contains__(self, key, /)\n",
      " |      Return key in self.\n",
      " |  \n",
      " |  __eq__(self, value, /)\n",
      " |      Return self==value.\n",
      " |  \n",
      " |  __ge__(self, value, /)\n",
      " |      Return self>=value.\n",
      " |  \n",
      " |  __getattribute__(self, name, /)\n",
      " |      Return getattr(self, name).\n",
      " |  \n",
      " |  __getitem__(self, key, /)\n",
      " |      Return self[key].\n",
      " |  \n",
      " |  __gt__(self, value, /)\n",
      " |      Return self>value.\n",
      " |  \n",
      " |  __hash__(self, /)\n",
      " |      Return hash(self).\n",
      " |  \n",
      " |  __iter__(self, /)\n",
      " |      Implement iter(self).\n",
      " |  \n",
      " |  __le__(self, value, /)\n",
      " |      Return self<=value.\n",
      " |  \n",
      " |  __len__(self, /)\n",
      " |      Return len(self).\n",
      " |  \n",
      " |  __lt__(self, value, /)\n",
      " |      Return self<value.\n",
      " |  \n",
      " |  __ne__(self, value, /)\n",
      " |      Return self!=value.\n",
      " |  \n",
      " |  __reduce__(...)\n",
      " |      Helper for pickle.\n",
      " |  \n",
      " |  __repr__(self, /)\n",
      " |      Return repr(self).\n",
      " |  \n",
      " |  __reversed__(...)\n",
      " |      Return a reverse iterator.\n",
      " |  \n",
      " |  count(...)\n",
      " |      rangeobject.count(value) -> integer -- return number of occurrences of value\n",
      " |  \n",
      " |  index(...)\n",
      " |      rangeobject.index(value, [start, [stop]]) -> integer -- return index of value.\n",
      " |      Raise ValueError if the value is not present.\n",
      " |  \n",
      " |  ----------------------------------------------------------------------\n",
      " |  Static methods defined here:\n",
      " |  \n",
      " |  __new__(*args, **kwargs) from builtins.type\n",
      " |      Create and return a new object.  See help(type) for accurate signature.\n",
      " |  \n",
      " |  ----------------------------------------------------------------------\n",
      " |  Data descriptors defined here:\n",
      " |  \n",
      " |  start\n",
      " |  \n",
      " |  step\n",
      " |  \n",
      " |  stop\n",
      "\n",
      "help> quit\n",
      "\n",
      "You are now leaving help and returning to the Python interpreter.\n",
      "If you want to ask for help on a particular object directly from the\n",
      "interpreter, you can type \"help(object)\".  Executing \"help('string')\"\n",
      "has the same effect as typing a particular string at the help> prompt.\n"
     ]
    }
   ],
   "source": [
    "help()"
   ]
  },
  {
   "cell_type": "markdown",
   "metadata": {},
   "source": [
    "다음의 사이트들을 통해 추가적인 내용을 살펴볼 수 있다.\n",
    "\n",
    "\n",
    "1. help의 기본. https://wikidocs.net/13881 \n",
    "2. python 튜토리얼 https://docs.python.org/3.7/tutorial/."
   ]
  },
  {
   "cell_type": "markdown",
   "metadata": {},
   "source": [
    "# 3 마크다운 - 수식\n",
    "---"
   ]
  },
  {
   "cell_type": "markdown",
   "metadata": {},
   "source": [
    "### 기본 규칙:\n",
    "1. begin과 end로 수식 마크다운의 시작과 끝을 알린다.\n",
    "2. 변수로 쓰지않을 모든 내장함수에 대해서는 \\가 선행해서 붙는다.\n",
    "3. 기본적으로 아래에서 위로 올라 쌓는 순서로 문법이 진행된다.\n",
    "4.  \\\\\\\\ 는 줄바꿈\n",
    "5. \\left , \\right 는 큰괄호 ,  \\leq는 <= , \\geq 는 >= , \\underline은 밑줄\n",
    "6. Gamma Delta Phi Xi Pi 등, 앞글자만 대문자로 쓰면 대문자 그리스어가 출력. 그리스어와 관련된 세부 언어 및 수학기호는 다음의 사이트들 참고. <br>  https://oeis.org/wiki/List_of_LaTeX_mathematical_symbols <br> http://web.ift.uib.no/Teori/KURS/WRK/TeX/symALL.html\n",
    "\n",
    "7. $ \\$ \\sim \\$ $ 는 문장내에서 일부의 수식을 쓸 때, $ \\$\\$ \\sim \\$\\$ $ 는 독립된 문단의 수식으로 표현할때 사용한다.\n",
    "8. 특수한 문자를 사용하고싶으면 \\를 앞에 적어주면 된다. 예를들면 $ \\{ , \\} , \\$ $ 등\n",
    "9. \\< br \\> 은 번호내 줄바꿈을 할때 표현\n",
    "10. $ \\$\\$ $ 다음줄에 $ \\begin{split} $ 를 앞 두줄에 쓰고, $ \\end{split} $ 다음줄에 $ \\$\\$ $를 끝 두줄에 붙이면  웬만한 모든 수식들이 포함된다.\n",
    "11. 마크다운으로 글을 쓸때, 수식입력으로 글을 쓸때는 아래와 같이 다르다 <br> $ abcd\\$ $ abcd\\$ \n",
    "12. 기타 마크다운의 이미지표현, 밑줄표현, 표 표현, 문장요소 표현 등 을 나타내는 사이트 <br>\n",
    "https://cizz3007.github.io/%EB%A7%88%ED%81%AC%EB%8B%A4%EC%9A%B4/%EB%AC%B8%EB%B2%95/markdown/2018/04/08/markdown/\n",
    "13. 리스트는 -,*,+ 용법에 상관이없다 오로지 띄어쓰기에 의존함.(1칸 단위도 영향받음.)\n",
    "14. \\quad 는 탭정도의 칸 벌리기(2.8칸), \\text는 글자쓰기\n",
    "---\n",
    "고민해 볼 것\n",
    "1. 등식에 있는 수식을 글자로 제시하기(motivating examples에서 표현하듯)\n",
    "2. 밑줄의 굵기를 자유롭게 조절할 줄 알기\n",
    "3. "
   ]
  },
  {
   "cell_type": "code",
   "execution_count": null,
   "metadata": {},
   "outputs": [],
   "source": []
  }
 ],
 "metadata": {
  "kernelspec": {
   "display_name": "Python 3",
   "language": "python",
   "name": "python3"
  },
  "language_info": {
   "codemirror_mode": {
    "name": "ipython",
    "version": 3
   },
   "file_extension": ".py",
   "mimetype": "text/x-python",
   "name": "python",
   "nbconvert_exporter": "python",
   "pygments_lexer": "ipython3",
   "version": "3.7.3"
  }
 },
 "nbformat": 4,
 "nbformat_minor": 2
}
