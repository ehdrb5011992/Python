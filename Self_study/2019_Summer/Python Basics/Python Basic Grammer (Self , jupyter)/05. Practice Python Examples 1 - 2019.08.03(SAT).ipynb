{
 "cells": [
  {
   "cell_type": "markdown",
   "metadata": {},
   "source": [
    "# [Practice python 1]"
   ]
  },
  {
   "cell_type": "markdown",
   "metadata": {},
   "source": [
    "*KU LeeDongGyu*"
   ]
  },
  {
   "cell_type": "markdown",
   "metadata": {},
   "source": [
    "## 1. Source\n",
    "---"
   ]
  },
  {
   "cell_type": "markdown",
   "metadata": {},
   "source": [
    "- XO : https://edabit.com/challenge/JSJEuuWduBB5hEX6k (Medium) \n",
    "- Chinese Zodiac : https://edabit.com/challenge/eSBCbWrG3PY9YYF7c (Very Hard)\n",
    "- Connecting Words : https://edabit.com/challenge/qNQkYzY8GpiFMmndh (Expert)"
   ]
  },
  {
   "cell_type": "markdown",
   "metadata": {},
   "source": [
    "## 2. Examples\n",
    "---"
   ]
  },
  {
   "cell_type": "code",
   "execution_count": 32,
   "metadata": {},
   "outputs": [],
   "source": [
    "#1. Medium\n",
    "\n",
    "# XO(\"ooxx\") ➞ true\n",
    "# XO(\"xooxx\") ➞ false\n",
    "# XO(\"ooxXm\") ➞ true\n",
    "# // Case insensitive.\n",
    "# XO(\"zpzpzpp\") ➞ true\n",
    "# // Returns true if no x and o.\n",
    "# XO(\"zzoo\") ➞ false"
   ]
  },
  {
   "cell_type": "code",
   "execution_count": 8,
   "metadata": {},
   "outputs": [],
   "source": [
    "def XO(x) :\n",
    "    try:\n",
    "        if isinstance(x , str):\n",
    "            ox=list(x) #그냥 바로 x가 str이면 list(x.lower())로 내리고 시작해도됨. 그러면 아래 if문에서 제대로 걸러짐.\n",
    "            o_num = 0\n",
    "            x_num = 0\n",
    "            for i in ox :\n",
    "                if i.lower() == \"o\":\n",
    "                    o_num += 1\n",
    "                elif i.lower() == 'x' :\n",
    "                    x_num += 1\n",
    "\n",
    "            if o_num == x_num :\n",
    "                return True\n",
    "            else:\n",
    "                return False\n",
    "        else:\n",
    "            raise Exception\n",
    "\n",
    "    except Exception:\n",
    "        print(\"문자열을 입력하세요\")"
   ]
  },
  {
   "cell_type": "code",
   "execution_count": 13,
   "metadata": {},
   "outputs": [
    {
     "name": "stdout",
     "output_type": "stream",
     "text": [
      "True\n",
      "False\n",
      "True\n",
      "True\n",
      "False\n"
     ]
    }
   ],
   "source": [
    "print(XO(\"ooxx\"));print(XO(\"xooxx\")) ; print(XO(\"ooxXm\")) ; print(XO(\"zpzpzpp\")) ; \n",
    "print(XO(\"zzoo\"))"
   ]
  },
  {
   "cell_type": "code",
   "execution_count": 14,
   "metadata": {},
   "outputs": [],
   "source": [
    "#2 . very hard\n",
    "\n",
    "#sexagenary(1971) ➞ \"Metal Pig\"\n",
    "#sexagenary(1927) ➞ \"Fire Rabbit\"\n",
    "#sexagenary(1974) ➞ \"Wood Tiger\"\n"
   ]
  },
  {
   "cell_type": "code",
   "execution_count": 31,
   "metadata": {},
   "outputs": [],
   "source": [
    "# Note : stem2 = sum([[i]*2 for i in stem],[]) "
   ]
  },
  {
   "cell_type": "code",
   "execution_count": 15,
   "metadata": {},
   "outputs": [],
   "source": [
    "def sexagenary(year) :\n",
    "    try:\n",
    "        if isinstance(year,int) :\n",
    "            stem = ['Wood', 'Fire', 'Earth', 'Metal', 'Water']\n",
    "            branch = ['Rat','Ox','Tiger','Rabbit','Dragon','Snake','Horse',\n",
    "                      'Sheep','Monkey','Rooster','Dog','Pig']\n",
    "            stem2 = sum([[i]*2 for i in stem],[])  #stem을 각각 2번씩 출력.\n",
    "            branches = branch *5 #branch 60개짜리\n",
    "\n",
    "            import operator #요소별 덧셈을 위한 모듈\n",
    "            items_sub = [i + ' ' for i in stem2] *6 #두번씩 나눠서 해야한다.\n",
    "            items = list(map(operator.add,items_sub,branches)) #역시 같은이유.\n",
    "\n",
    "            init = year-1984 #초기치를 0으로 만드는 작업. (1984년의 순서를 0으로만듦.)\n",
    "            if init >= 60 or init < 0 : #60사이클이므로 60보다 클경우와, 작은경우로 나눈다. (2044년 이후, 1984년 전)\n",
    "                init = init % 60 #나머지를 다뤄주면 된다.\n",
    "\n",
    "            zodiac = items[init]\n",
    "\n",
    "            return zodiac\n",
    "\n",
    "        else :\n",
    "            raise Exception\n",
    "    except Exception:\n",
    "        print(\"주의! 연도를 넣어주세요.\")"
   ]
  },
  {
   "cell_type": "code",
   "execution_count": 23,
   "metadata": {},
   "outputs": [
    {
     "name": "stdout",
     "output_type": "stream",
     "text": [
      "Metal Pig\n",
      "Fire Rabbit\n",
      "Wood Tiger\n"
     ]
    }
   ],
   "source": [
    "print(sexagenary(1971)) ; print( sexagenary(1927) ) ; print(sexagenary(1974) )"
   ]
  },
  {
   "cell_type": "code",
   "execution_count": 16,
   "metadata": {},
   "outputs": [],
   "source": [
    "# More concise code\n",
    "\n",
    "def sexagenary2(year) :\n",
    "    try:\n",
    "        if isinstance(year,int) :\n",
    "\n",
    "            stem = ['Wood', 'Fire', 'Earth', 'Metal', 'Water']\n",
    "            branch = ['Rat', 'Ox', 'Tiger', 'Rabbit', 'Dragon', 'Snake', 'Horse',\n",
    "                      'Sheep', 'Monkey', 'Rooster', 'Dog', 'Pig']\n",
    "\n",
    "            stem2 = sum([[i]*2 for i in stem ],[])\n",
    "            init = year - 1984\n",
    "\n",
    "            first = init % 10\n",
    "            end = init % 12\n",
    "\n",
    "            return print(stem2[first],branch[end])\n",
    "        else :\n",
    "            raise Exception\n",
    "    except Exception:\n",
    "        print(\"주의! 연도를 넣어주세요.\")\n"
   ]
  },
  {
   "cell_type": "code",
   "execution_count": 29,
   "metadata": {},
   "outputs": [
    {
     "name": "stdout",
     "output_type": "stream",
     "text": [
      "Metal Pig\n",
      "Fire Rabbit\n",
      "Wood Tiger\n"
     ]
    }
   ],
   "source": [
    "sexagenary2(1971) ; sexagenary2(1927)  ; sexagenary2(1974)"
   ]
  },
  {
   "cell_type": "code",
   "execution_count": 4,
   "metadata": {},
   "outputs": [],
   "source": [
    "#3 . Expert\n",
    "\n",
    "#join([\"oven\", \"envier\", \"erase\", \"serious\"]) ➞ [\"ovenvieraserious\", 2]\n",
    "#join([\"move\", \"over\", \"very\"]) ➞ [\"movery\", 3]\n",
    "#join([\"to\", \"ops\", \"psy\", \"syllable\"]) ➞ [\"topsyllable\", 1]\n",
    "\n",
    "# \"to\" and \"ops\" share \"o\" (1)\n",
    "# \"ops\" and \"psy\" share \"ps\" (2)\n",
    "# \"psy\" and \"syllable\" share \"sy\" (2)\n",
    "# the minimum overlap is 1\n",
    "#join([\"aaa\", \"bbb\", \"ccc\", \"ddd\"]) ➞ [\"aaabbbcccddd\", 0]\n",
    "\n",
    "x1 = [\"ovenen\", \"enenvier\", \"erase\", \"serious\"]\n",
    "x2 = [\"move\", \"over\", \"very\"]\n",
    "x3 = [\"to\", \"ops\", \"psy\", \"syllable\"]\n",
    "x4 = [\"aasfeded\", \"eded12312\", \"cswe\", \"cswe2314\"]"
   ]
  },
  {
   "cell_type": "code",
   "execution_count": 5,
   "metadata": {},
   "outputs": [],
   "source": [
    "def join(x) :\n",
    "    try:\n",
    "        if isinstance(x,list):\n",
    "            nums = [] # 초기값\n",
    "            words = x[0]\n",
    "            for i in range(len(x) - 1): #리스트 내의 단계들에 대해서 함. 리스트항목이 4개있으면 3번을 수행해야함.\n",
    "                count = min(len(x[i]), len(x[i + 1]))  # 초기값. 위에서 내려감\n",
    "                while True: #계속실행.\n",
    "\n",
    "                    if x[i][-count:] == x[i + 1][:count]: #만약 뒤의값이 같으면 나옴.\n",
    "                        words += x[i + 1][count :] #words에 단어를 잇고\n",
    "                        nums.append(count) #연결된 count를 출력\n",
    "                        break #그리고 루프나옴.\n",
    "                    elif count == 0: #만약 count==0이될때까지 안되다가 0이되면\n",
    "                        words += x[i+1] #그냥이어버리고\n",
    "                        nums.append(count) #그때의 카운트를 출력.\n",
    "                        break #그리고 나옴.\n",
    "\n",
    "                    count -= 1 #하나씩 줄이면서 살펴볼것\n",
    "\n",
    "            num = min(nums) #그렇게 얻어진 모든 count들 중에서 가장 작은 값.\n",
    "            return print([words, num]) #그리고 출력\n",
    "        else:\n",
    "            raise Exception\n",
    "    except Exception:\n",
    "        print('주의! 리스트를 입력해주세요.')"
   ]
  },
  {
   "cell_type": "code",
   "execution_count": 6,
   "metadata": {},
   "outputs": [
    {
     "name": "stdout",
     "output_type": "stream",
     "text": [
      "['ovenenvieraserious', 2]\n",
      "['movery', 3]\n",
      "['topsyllable', 1]\n",
      "['aasfeded12312cswe2314', 0]\n"
     ]
    }
   ],
   "source": [
    "join(x1) ; join(x2) ; join(x3) ; join(x4)"
   ]
  }
 ],
 "metadata": {
  "kernelspec": {
   "display_name": "Python 3",
   "language": "python",
   "name": "python3"
  },
  "language_info": {
   "codemirror_mode": {
    "name": "ipython",
    "version": 3
   },
   "file_extension": ".py",
   "mimetype": "text/x-python",
   "name": "python",
   "nbconvert_exporter": "python",
   "pygments_lexer": "ipython3",
   "version": "3.7.3"
  }
 },
 "nbformat": 4,
 "nbformat_minor": 2
}
