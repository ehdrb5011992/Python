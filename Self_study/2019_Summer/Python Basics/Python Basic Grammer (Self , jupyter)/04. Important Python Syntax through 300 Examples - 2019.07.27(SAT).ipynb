{
 "cells": [
  {
   "cell_type": "markdown",
   "metadata": {},
   "source": [
    "# [Practice the Python Usage]\n"
   ]
  },
  {
   "cell_type": "markdown",
   "metadata": {},
   "source": [
    "*KU, LeeDongGyu*"
   ]
  },
  {
   "cell_type": "markdown",
   "metadata": {},
   "source": [
    "## 1. Introduction\n",
    "---"
   ]
  },
  {
   "cell_type": "markdown",
   "metadata": {},
   "source": [
    "After taking a Python class on the internet, I picked out a few of 300 questions. If \n",
    "If you are interested in 300 questions please refer to the link below. <br>\n",
    "- https://wikidocs.net/book/922"
   ]
  },
  {
   "cell_type": "markdown",
   "metadata": {},
   "source": [
    "## 2. Examples\n",
    "---"
   ]
  },
  {
   "cell_type": "code",
   "execution_count": 1,
   "metadata": {},
   "outputs": [
    {
     "name": "stdout",
     "output_type": "stream",
     "text": [
      "firstsecond\n"
     ]
    }
   ],
   "source": [
    "#9\n",
    "print(\"first\",end=\"\");print(\"second\")"
   ]
  },
  {
   "cell_type": "code",
   "execution_count": 2,
   "metadata": {},
   "outputs": [
    {
     "name": "stdout",
     "output_type": "stream",
     "text": [
      "python java python java python java python java \n"
     ]
    }
   ],
   "source": [
    "#15\n",
    "t1='python';t2='java';print((t1+\" \"+t2+' ')*4)"
   ]
  },
  {
   "cell_type": "code",
   "execution_count": 3,
   "metadata": {
    "scrolled": true
   },
   "outputs": [
    {
     "name": "stdout",
     "output_type": "stream",
     "text": [
      "2210\n"
     ]
    }
   ],
   "source": [
    "#22\n",
    "license_plate = \"24가 2210\" ; print(license_plate[-4:])"
   ]
  },
  {
   "cell_type": "code",
   "execution_count": 4,
   "metadata": {},
   "outputs": [
    {
     "name": "stdout",
     "output_type": "stream",
     "text": [
      "홀홀홀\n",
      "홀홀홀\n"
     ]
    }
   ],
   "source": [
    "#23\n",
    "string='홀짝홀짝홀짝' ; print(string[::2])\n",
    "print(''.join([x for x in string if x == \"홀\" ]))"
   ]
  },
  {
   "cell_type": "code",
   "execution_count": 5,
   "metadata": {},
   "outputs": [
    {
     "name": "stdout",
     "output_type": "stream",
     "text": [
      "NOHTYP\n"
     ]
    }
   ],
   "source": [
    "#24\n",
    "string = \"PYTHON\" ; print(string[::-1])"
   ]
  },
  {
   "cell_type": "code",
   "execution_count": 6,
   "metadata": {},
   "outputs": [
    {
     "name": "stdout",
     "output_type": "stream",
     "text": [
      "010 1111 2222\n"
     ]
    }
   ],
   "source": [
    "#25\n",
    "phone_number = '010-1111-2222' ; print(phone_number.replace('-',' '))"
   ]
  },
  {
   "cell_type": "code",
   "execution_count": 8,
   "metadata": {},
   "outputs": [
    {
     "ename": "TypeError",
     "evalue": "'str' object does not support item assignment",
     "output_type": "error",
     "traceback": [
      "\u001b[1;31m---------------------------------------------------------------------------\u001b[0m",
      "\u001b[1;31mTypeError\u001b[0m                                 Traceback (most recent call last)",
      "\u001b[1;32m<ipython-input-8-b5a1fb77d32b>\u001b[0m in \u001b[0;36m<module>\u001b[1;34m\u001b[0m\n\u001b[0;32m      1\u001b[0m \u001b[1;31m#28 문자열은 변경이 불가능함.\u001b[0m\u001b[1;33m\u001b[0m\u001b[1;33m\u001b[0m\u001b[1;33m\u001b[0m\u001b[0m\n\u001b[1;32m----> 2\u001b[1;33m \u001b[0mlang\u001b[0m\u001b[1;33m=\u001b[0m\u001b[1;34m'python'\u001b[0m \u001b[1;33m;\u001b[0m \u001b[0mlang\u001b[0m\u001b[1;33m[\u001b[0m\u001b[1;36m0\u001b[0m\u001b[1;33m]\u001b[0m \u001b[1;33m=\u001b[0m \u001b[1;34m'P'\u001b[0m \u001b[1;33m;\u001b[0m \u001b[0mprint\u001b[0m\u001b[1;33m(\u001b[0m\u001b[0mlang\u001b[0m\u001b[1;33m)\u001b[0m \u001b[1;31m# Wrong\u001b[0m\u001b[1;33m\u001b[0m\u001b[1;33m\u001b[0m\u001b[0m\n\u001b[0m\u001b[0;32m      3\u001b[0m \u001b[1;34m\"P\"\u001b[0m\u001b[1;33m+\u001b[0m\u001b[0mlang\u001b[0m\u001b[1;33m[\u001b[0m\u001b[1;36m1\u001b[0m\u001b[1;33m:\u001b[0m\u001b[1;33m]\u001b[0m \u001b[1;31m# Correct\u001b[0m\u001b[1;33m\u001b[0m\u001b[1;33m\u001b[0m\u001b[0m\n",
      "\u001b[1;31mTypeError\u001b[0m: 'str' object does not support item assignment"
     ]
    }
   ],
   "source": [
    "#28 문자열은 변경이 불가능함.\n",
    "lang='python' ; lang[0] = 'P' ; print(lang) # Wrong\n"
   ]
  },
  {
   "cell_type": "code",
   "execution_count": 9,
   "metadata": {},
   "outputs": [
    {
     "data": {
      "text/plain": [
       "'Python'"
      ]
     },
     "execution_count": 9,
     "metadata": {},
     "output_type": "execute_result"
    }
   ],
   "source": [
    "\"P\"+lang[1:] # Correct"
   ]
  },
  {
   "cell_type": "code",
   "execution_count": 11,
   "metadata": {},
   "outputs": [
    {
     "name": "stdout",
     "output_type": "stream",
     "text": [
      "abcd\n",
      "aBcd\n"
     ]
    }
   ],
   "source": [
    "#30\n",
    "string = 'abcd' ; sr=string.replace('b','B') ; print(string) ; print(sr)"
   ]
  },
  {
   "cell_type": "code",
   "execution_count": 12,
   "metadata": {},
   "outputs": [
    {
     "name": "stdout",
     "output_type": "stream",
     "text": [
      "[2, 4, 6, 8, 10]\n"
     ]
    }
   ],
   "source": [
    "#53\n",
    "nums=[i for i in range(1,11)] ; print(nums[1::2])"
   ]
  },
  {
   "cell_type": "code",
   "execution_count": 13,
   "metadata": {},
   "outputs": [
    {
     "name": "stdout",
     "output_type": "stream",
     "text": [
      "삼성전자 LG전자 Naver SK하이닉스 미래에셋대우\n"
     ]
    }
   ],
   "source": [
    "#56\n",
    "interest=['삼성전자','LG전자','Naver','SK하이닉스','미래에셋대우']\n",
    "print(\" \".join(interest))"
   ]
  },
  {
   "cell_type": "code",
   "execution_count": 14,
   "metadata": {},
   "outputs": [
    {
     "name": "stdout",
     "output_type": "stream",
     "text": [
      "['Naver', 'LG전자', 'SK Hynix']\n",
      "['Naver', 'LG전자', 'SK Hynix']\n"
     ]
    }
   ],
   "source": [
    "#61 복사가 어떻게 일어나는지 61과 62를 통해 비교해서 알아놓기.\n",
    "interest_0 = ['삼성전자','LG전자','SK Hynix']\n",
    "interest_1 = interest_0\n",
    "interest_1[0] = \"Naver\"\n",
    "print(interest_0) ; print(interest_1)"
   ]
  },
  {
   "cell_type": "code",
   "execution_count": 15,
   "metadata": {},
   "outputs": [
    {
     "name": "stdout",
     "output_type": "stream",
     "text": [
      "['삼성전자', 'LG전자', 'SK Hynix']\n",
      "['Naver', 'LG전자']\n"
     ]
    }
   ],
   "source": [
    "#62\n",
    "interest_0 = ['삼성전자','LG전자','SK Hynix']\n",
    "interest_1 = interest_0[:2]\n",
    "interest_1[0] = \"Naver\"\n",
    "print(interest_0) ; print(interest_1)\n"
   ]
  },
  {
   "cell_type": "code",
   "execution_count": 16,
   "metadata": {},
   "outputs": [
    {
     "name": "stdout",
     "output_type": "stream",
     "text": [
      "('A', 'b', 'c')\n"
     ]
    }
   ],
   "source": [
    "#67\n",
    "t=('a','b','c') ;  t=(t[0].upper(),) + t[1:3] ; print(t)"
   ]
  },
  {
   "cell_type": "code",
   "execution_count": 18,
   "metadata": {},
   "outputs": [
    {
     "name": "stdout",
     "output_type": "stream",
     "text": [
      "0\n",
      "1\n",
      "[2, 3, 4, 5]\n"
     ]
    }
   ],
   "source": [
    "#71\n",
    "a,b,*c = (0,1,2,3,4,5) ; print(a) ; print(b) ; print(c)"
   ]
  },
  {
   "cell_type": "code",
   "execution_count": 19,
   "metadata": {},
   "outputs": [],
   "source": [
    "#72\n",
    "scores = [8.8, 8.9, 8.7, 9.2, 9.3, 9.7, 9.9, 9.5, 7.8, 9.4]\n",
    "_,_,*valid_score =scores"
   ]
  },
  {
   "cell_type": "code",
   "execution_count": 22,
   "metadata": {},
   "outputs": [
    {
     "name": "stdout",
     "output_type": "stream",
     "text": [
      "{'메로나': 1200, '폴라포': 1200, '빵빠레': 1800, '월드콘': 1500}\n"
     ]
    }
   ],
   "source": [
    "#75\n",
    "icecream_price = {'메로나':1000, '폴라포':1200, '빵빠레':1800}\n",
    "icecream_price['메로나'] = 1200\n",
    "icecream_price['월드콘'] = 1500\n",
    "print(icecream_price)"
   ]
  },
  {
   "cell_type": "code",
   "execution_count": 23,
   "metadata": {},
   "outputs": [
    {
     "name": "stdout",
     "output_type": "stream",
     "text": [
      "{'메로나': 1200, '폴라포': 1200, '빵빠레': 1800, '월드콘': 1500, '팥빙수': 2700}\n"
     ]
    }
   ],
   "source": [
    "#88\n",
    "new_prodcut = {'팥빙수':2700}\n",
    "icecream_price.update(new_prodcut) ; print(icecream_price)"
   ]
  },
  {
   "cell_type": "code",
   "execution_count": 27,
   "metadata": {},
   "outputs": [
    {
     "name": "stdout",
     "output_type": "stream",
     "text": [
      "이문제는 다시실행해보세요\n",
      "이문제는 다시실행해보세요이문제는 다시실행해보세요\n"
     ]
    }
   ],
   "source": [
    "#101\n",
    "hi = input()\n",
    "print(hi*2) #이렇게 코딩하면 받고 출력까지 한번에수행."
   ]
  },
  {
   "cell_type": "code",
   "execution_count": 30,
   "metadata": {},
   "outputs": [
    {
     "name": "stdout",
     "output_type": "stream",
     "text": [
      "입력값: 123\n",
      "출력값: 143\n"
     ]
    }
   ],
   "source": [
    "#104\n",
    "x = int(input(\"입력값: \"))\n",
    "print( \"출력값:\",min( x+20,255) ) #범위를 가를땐, min , max이용. print는 자동 띔."
   ]
  },
  {
   "cell_type": "code",
   "execution_count": 31,
   "metadata": {},
   "outputs": [
    {
     "name": "stdout",
     "output_type": "stream",
     "text": [
      "현재시간 : 15:00\n",
      "정각 입니다.\n"
     ]
    }
   ],
   "source": [
    "#106\n",
    "x=input(\"현재시간 : \")\n",
    "if x.split(':')[1] != '00' :\n",
    "    print(\"정각이 아닙니다.\")\n",
    "else:\n",
    "    print(\"정각 입니다.\")"
   ]
  },
  {
   "cell_type": "code",
   "execution_count": 32,
   "metadata": {},
   "outputs": [
    {
     "name": "stdout",
     "output_type": "stream",
     "text": [
      "투자 종목을 입력해주세요: microsoft\n",
      "투자 경고 종목입니다.\n"
     ]
    }
   ],
   "source": [
    "#108\n",
    "warn_investment_list=['Microsoft','Google','Naver','Kakao','SAMSUNG','LG']\n",
    "warn_investment_list\n",
    "x=input(\"투자 종목을 입력해주세요: \")\n",
    "if x.lower() in [y.lower() for y in warn_investment_list] :\n",
    "    print(\"투자 경고 종목입니다.\")\n",
    "else:\n",
    "    print(\"투자 경고 종목이 아닙니다.\")"
   ]
  },
  {
   "cell_type": "code",
   "execution_count": 34,
   "metadata": {},
   "outputs": [
    {
     "name": "stdout",
     "output_type": "stream",
     "text": [
      "입력 :123 달러\n",
      "143541 원\n"
     ]
    }
   ],
   "source": [
    "# 113\n",
    "x,y = input('입력 :').split(' ')\n",
    "if y == '달러' :\n",
    "    print(int(x)*1167,'원')\n",
    "elif y == '엔' :\n",
    "    print(int(x)*1.096,'원')\n",
    "elif y == '유로' :\n",
    "    print(int(x)*1268,'원')\n",
    "elif y == '위안' :\n",
    "    print(int(x)*171,'원')"
   ]
  },
  {
   "cell_type": "code",
   "execution_count": 1,
   "metadata": {},
   "outputs": [
    {
     "name": "stdout",
     "output_type": "stream",
     "text": [
      "휴대전화 번호 입력: 010-1234-5678\n",
      "당신은 알수없음 사용자입니다.\n"
     ]
    }
   ],
   "source": [
    "#115\n",
    "x = input('휴대전화 번호 입력: ').split('-')\n",
    "y = {'011':'SKT' , '016':'KT' , '019':'LGU', '010':'알수없음'}\n",
    "print('당신은 {} 사용자입니다.'.format(y[x[0]]))"
   ]
  },
  {
   "cell_type": "code",
   "execution_count": 3,
   "metadata": {},
   "outputs": [
    {
     "name": "stdout",
     "output_type": "stream",
     "text": [
      "우편번호: 10312\n",
      "도봉구\n",
      "['0', '1', '2', '3', '4', '5', '6', '7', '8', '9']\n"
     ]
    }
   ],
   "source": [
    "#116\n",
    "x = input('우편번호: ')[2]\n",
    "y = { '강북구' : ['0','1','2'] , '도봉구':['3','4','5'] ,'노원구' : ['6','7','8','9'] }\n",
    "\n",
    "def reverse(x,y):\n",
    "    for a in y:\n",
    "        if x in y[a] :\n",
    "            return(a)\n",
    "    raise ValueError(\"숫자 입력하세요.\")\n",
    "print(reverse(x,y))\n",
    "# 참고\n",
    "list_of_lists = sum( y.values() ,[]) # 리스트 내의 리스트 풀기\n",
    "print(list_of_lists)\n"
   ]
  },
  {
   "cell_type": "code",
   "execution_count": 4,
   "metadata": {},
   "outputs": [
    {
     "name": "stdout",
     "output_type": "stream",
     "text": [
      "주민등록번호: 920501-1234567\n",
      "남자\n"
     ]
    }
   ],
   "source": [
    "#117\n",
    "x = int(input('주민등록번호: ').split('-')[1][0])\n",
    "if x in (1,3) :\n",
    "    print('남자')\n",
    "elif x in (2,4) :\n",
    "    print('여자')\n",
    "else :\n",
    "    print('??')"
   ]
  },
  {
   "cell_type": "code",
   "execution_count": 7,
   "metadata": {},
   "outputs": [
    {
     "name": "stdout",
     "output_type": "stream",
     "text": [
      "주민등록번호: 920501-1234567\n",
      "유효하지 않은 주민등록번호입니다.\n"
     ]
    }
   ],
   "source": [
    "#119 <- numpy를 배우면 쉽게 요소별곱을 시행할 수 있음.\n",
    "import numpy as np\n",
    "x = input('주민등록번호: ').split('-')\n",
    "num = list(\"\".join(x))\n",
    "num2=list(map(int, num))\n",
    "a1 = np.array(num2)[:-1]\n",
    "a2 = np.array([i for i in range(2,10)] + [j for j in range(2,6)])\n",
    "first = sum(a1*a2) % 11 ; second = 11-first\n",
    "if second == int(num[-1]) :\n",
    "    print(\"유효한 주민등록번호입니다.\")\n",
    "else:\n",
    "    print(\"유효하지 않은 주민등록번호입니다.\")\n"
   ]
  },
  {
   "cell_type": "code",
   "execution_count": 8,
   "metadata": {},
   "outputs": [
    {
     "name": "stdout",
     "output_type": "stream",
     "text": [
      "129300\n",
      "1000\n",
      "2300\n",
      "[129300, 1000, 2300]\n"
     ]
    }
   ],
   "source": [
    "#129\n",
    "prices = [\"129,300\", \"1,000\", \"2,300\"]\n",
    "for i in prices :\n",
    "    print(int(i.replace(\",\",\"\")))\n",
    "print([int(i.replace(\",\",\"\")) for i in prices])"
   ]
  },
  {
   "cell_type": "code",
   "execution_count": 9,
   "metadata": {},
   "outputs": [
    {
     "name": "stdout",
     "output_type": "stream",
     "text": [
      "라면\n",
      "김밥\n",
      "튀김\n"
     ]
    }
   ],
   "source": [
    "#130\n",
    "menu = [\"면라\", \"밥김\", \"김튀\"]\n",
    "for i in menu :\n",
    "    print(i[::-1])"
   ]
  },
  {
   "cell_type": "code",
   "execution_count": 10,
   "metadata": {},
   "outputs": [
    {
     "name": "stdout",
     "output_type": "stream",
     "text": [
      "나\n",
      "다\n",
      "라\n"
     ]
    }
   ],
   "source": [
    "#131\n",
    "my_list = [\"가\", \"나\", \"다\", \"라\"]\n",
    "for i in my_list[1:]:\n",
    "    print(i)"
   ]
  },
  {
   "cell_type": "code",
   "execution_count": 11,
   "metadata": {},
   "outputs": [
    {
     "name": "stdout",
     "output_type": "stream",
     "text": [
      "7\n",
      "6\n",
      "7\n",
      "6\n"
     ]
    }
   ],
   "source": [
    "#138\n",
    "my_list = [3, 1, 7, 10, 5, 6]\n",
    "for i in my_list :\n",
    "    if 5 <i < 10 :\n",
    "        print(i)\n",
    "#또는 and. 그러나 &는 안됨. 파이썬에선 and와 &가 다름. (R은 같음)\n",
    "# x and y에서 x가 False면 x반환, x가 True면 y반환 // &는 비트연산자 <- 최대한거르는목적\n",
    "# x or y 에서 x가 True면 x반환, x가 False면 y반환 // |도 비트연산자 <- 최대한포함목적\n",
    "for i in my_list :\n",
    "    if i>5 and i < 10 :\n",
    "        print(i)"
   ]
  },
  {
   "cell_type": "code",
   "execution_count": 12,
   "metadata": {},
   "outputs": [
    {
     "name": "stdout",
     "output_type": "stream",
     "text": [
      "aBCd"
     ]
    }
   ],
   "source": [
    "#143\n",
    "my_list = [\"A\", \"b\", \"c\", \"D\"]\n",
    "for i in my_list:\n",
    "    if i.isupper():\n",
    "        print(i.lower(),end='')\n",
    "    else :\n",
    "        print(i.upper(),end='')"
   ]
  },
  {
   "cell_type": "code",
   "execution_count": 13,
   "metadata": {},
   "outputs": [
    {
     "name": "stdout",
     "output_type": "stream",
     "text": [
      "12\n"
     ]
    }
   ],
   "source": [
    "#150\n",
    "my_list = [3, 4, 5]\n",
    "a=0\n",
    "for i in my_list:\n",
    "    a += i\n",
    "print(a)\n"
   ]
  }
 ],
 "metadata": {
  "kernelspec": {
   "display_name": "Python 3",
   "language": "python",
   "name": "python3"
  },
  "language_info": {
   "codemirror_mode": {
    "name": "ipython",
    "version": 3
   },
   "file_extension": ".py",
   "mimetype": "text/x-python",
   "name": "python",
   "nbconvert_exporter": "python",
   "pygments_lexer": "ipython3",
   "version": "3.7.3"
  }
 },
 "nbformat": 4,
 "nbformat_minor": 2
}
