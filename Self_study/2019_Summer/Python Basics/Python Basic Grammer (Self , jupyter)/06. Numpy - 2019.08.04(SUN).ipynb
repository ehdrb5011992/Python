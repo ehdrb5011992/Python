{
 "cells": [
  {
   "cell_type": "markdown",
   "metadata": {},
   "source": [
    "# [Practice Numpy]"
   ]
  },
  {
   "cell_type": "markdown",
   "metadata": {},
   "source": [
    "*KU LeeDongGyu*"
   ]
  },
  {
   "cell_type": "markdown",
   "metadata": {},
   "source": [
    "Numpy is the core library for scientific computing in Python. It provides a high-performance multidimensional array object, and tools for working with these arrays."
   ]
  },
  {
   "cell_type": "markdown",
   "metadata": {},
   "source": [
    "## 1. Array Creation\n",
    "---"
   ]
  },
  {
   "cell_type": "markdown",
   "metadata": {},
   "source": [
    "A numpy array is a grid of values, all of the same type, and is indexed by a tuple of nonnegative integers. The number of dimensions is the rank of the array; the shape of an array is a tuple of integers giving the size of the array along each dimension."
   ]
  },
  {
   "cell_type": "markdown",
   "metadata": {},
   "source": [
    "## 2. Examples\n",
    "---"
   ]
  },
  {
   "cell_type": "code",
   "execution_count": 1,
   "metadata": {},
   "outputs": [],
   "source": [
    "import numpy as np"
   ]
  },
  {
   "cell_type": "code",
   "execution_count": 2,
   "metadata": {},
   "outputs": [
    {
     "name": "stdout",
     "output_type": "stream",
     "text": [
      "[2 3 4]\n",
      "int32\n",
      "float64\n"
     ]
    }
   ],
   "source": [
    "a = np.array([2,3,4]) # Not np.array(2,3,4)\n",
    "print(a)\n",
    "type(a)\n",
    "print(a.dtype)\n",
    "b = np.array([1.2, 3.5, 5.1])\n",
    "print(b.dtype)"
   ]
  },
  {
   "cell_type": "code",
   "execution_count": 3,
   "metadata": {},
   "outputs": [
    {
     "name": "stdout",
     "output_type": "stream",
     "text": [
      "[[1.5 2.  3. ]\n",
      " [4.  5.  6. ]]\n"
     ]
    }
   ],
   "source": [
    "b = np.array([(1.5,2,3), (4,5,6)])\n",
    "# 위와 같음: b = np.array([[1.5,2,3], [4,5,6]])\n",
    "print(b)"
   ]
  },
  {
   "cell_type": "code",
   "execution_count": 4,
   "metadata": {},
   "outputs": [
    {
     "data": {
      "text/plain": [
       "array([0, 1, 2, 3, 4, 5])"
      ]
     },
     "execution_count": 4,
     "metadata": {},
     "output_type": "execute_result"
    }
   ],
   "source": [
    "np.arange(6)"
   ]
  },
  {
   "cell_type": "code",
   "execution_count": 6,
   "metadata": {},
   "outputs": [
    {
     "data": {
      "text/plain": [
       "array([1, 2, 3, 4, 5, 6, 7, 8, 9])"
      ]
     },
     "execution_count": 6,
     "metadata": {},
     "output_type": "execute_result"
    }
   ],
   "source": [
    "np.arange(1, 10)"
   ]
  },
  {
   "cell_type": "code",
   "execution_count": 7,
   "metadata": {},
   "outputs": [
    {
     "data": {
      "text/plain": [
       "array([0. , 0.3, 0.6, 0.9, 1.2, 1.5, 1.8])"
      ]
     },
     "execution_count": 7,
     "metadata": {},
     "output_type": "execute_result"
    }
   ],
   "source": [
    "np.arange( 0, 2, 0.3) #처음 , 끝, 증가치"
   ]
  },
  {
   "cell_type": "code",
   "execution_count": 8,
   "metadata": {},
   "outputs": [
    {
     "data": {
      "text/plain": [
       "array([0.  , 0.25, 0.5 , 0.75, 1.  , 1.25, 1.5 , 1.75, 2.  ])"
      ]
     },
     "execution_count": 8,
     "metadata": {},
     "output_type": "execute_result"
    }
   ],
   "source": [
    "np.linspace( 0, 2, 9 )  # 9-1=8 구간임. (9개의숫자) / 결과는 벡터 / 0과 2를 포함함."
   ]
  },
  {
   "cell_type": "code",
   "execution_count": 9,
   "metadata": {},
   "outputs": [
    {
     "data": {
      "text/plain": [
       "array([[ 0,  1,  2],\n",
       "       [ 3,  4,  5],\n",
       "       [ 6,  7,  8],\n",
       "       [ 9, 10, 11]])"
      ]
     },
     "execution_count": 9,
     "metadata": {},
     "output_type": "execute_result"
    }
   ],
   "source": [
    "np.arange(12).reshape(4,3) #벡터를 행렬로 바꿔버림."
   ]
  },
  {
   "cell_type": "code",
   "execution_count": 14,
   "metadata": {},
   "outputs": [
    {
     "name": "stdout",
     "output_type": "stream",
     "text": [
      "[[2 0]\n",
      " [0 4]]\n",
      "[[5 4]\n",
      " [3 4]]\n",
      "[[5 4]\n",
      " [3 4]]\n",
      "[[0.5   inf]\n",
      " [0.   0.25]]\n",
      "[[3 1]\n",
      " [3 5]]\n",
      "[[ 1. -1.]\n",
      " [ 0.  1.]]\n",
      "1.0\n"
     ]
    },
    {
     "name": "stderr",
     "output_type": "stream",
     "text": [
      "C:\\Users\\82104\\Anaconda3\\envs\\tensorflow\\lib\\site-packages\\ipykernel_launcher.py:9: RuntimeWarning: divide by zero encountered in true_divide\n",
      "  if __name__ == '__main__':\n"
     ]
    }
   ],
   "source": [
    "A = np.array([[1,1],\n",
    "              [0,1]])\n",
    "B = np.array([[2,0],\n",
    "              [3,4]])\n",
    "\n",
    "print(A * B) # elementwise product\n",
    "print(A @ B) # matrix product (in python >=3.5)\n",
    "print(A.dot(B)) # another matrix product\n",
    "print(A/B) #요소별 나누기 (아래의 오류는 0으로 나누는 것에 대한 오류)\n",
    "print(A+B) #요소별 덧셈.\n",
    "print(np.linalg.inv(A)) #역행렬\n",
    "print(np.linalg.det(A)) #행렬식"
   ]
  },
  {
   "cell_type": "code",
   "execution_count": 11,
   "metadata": {},
   "outputs": [
    {
     "name": "stdout",
     "output_type": "stream",
     "text": [
      "[[ 0  1  2  3]\n",
      " [ 4  5  6  7]\n",
      " [ 8  9 10 11]]\n",
      "66\n",
      "0\n",
      "11\n"
     ]
    }
   ],
   "source": [
    "a = np.arange(12).reshape(3,4)\n",
    "print(a)\n",
    "print(a.sum()) #전체합\n",
    "print(a.min()) #전체 최소\n",
    "print(a.max()) #전체 최대"
   ]
  },
  {
   "cell_type": "code",
   "execution_count": 15,
   "metadata": {},
   "outputs": [
    {
     "name": "stdout",
     "output_type": "stream",
     "text": [
      "[12 15 18 21]\n",
      "[0 4 8]\n",
      "[[ 0  1  3  6]\n",
      " [ 4  9 15 22]\n",
      " [ 8 17 27 38]]\n",
      "[[ 0  1  3  6]\n",
      " [10 15 21 28]\n",
      " [36 45 55 66]]\n"
     ]
    }
   ],
   "source": [
    "print(a.sum(axis=0)) # sum of each column -> 열기준\n",
    "print(a.min(axis=1)) # min of each row -> 행기준\n",
    "print(a.cumsum(axis=1)) # cumulative sum along each row -> 열기준누적\n",
    "print(a.cumsum().reshape(3,4)) #전체 누적합구하고, reshape"
   ]
  },
  {
   "cell_type": "markdown",
   "metadata": {},
   "source": [
    "#### Indexing, Slicing and Iterating\n",
    "---"
   ]
  },
  {
   "cell_type": "code",
   "execution_count": 16,
   "metadata": {},
   "outputs": [
    {
     "name": "stdout",
     "output_type": "stream",
     "text": [
      "[ 0  1  4  9 16 25 36 49 64 81]\n",
      "***\n",
      "4\n",
      "***\n",
      "[ 4  9 16]\n",
      "***\n",
      "[-1000     1 -1000     9 -1000    25 -1000    49    64    81]\n",
      "***\n",
      "[   81    64    49 -1000    25 -1000     9 -1000     1 -1000]\n",
      "***\n",
      "-1000\n",
      "1\n",
      "-1000\n",
      "9\n",
      "-1000\n",
      "25\n",
      "-1000\n",
      "49\n",
      "64\n",
      "81\n"
     ]
    }
   ],
   "source": [
    "a = np.arange(10)**2 #요소별 제곱\n",
    "print(a)\n",
    "print(\"***\")\n",
    "print(a[2])\n",
    "print(\"***\")\n",
    "print(a[2:5]) # upto position index 4\n",
    "print(\"***\")\n",
    "a[:7:2] = -1000 # not equal to a[0:6:2] = -1000\n",
    "print(a)\n",
    "print(\"***\")\n",
    "print(a[ : :-1]) # reversed a\n",
    "print(\"***\")\n",
    "for i in a:\n",
    "    print(i)\n"
   ]
  },
  {
   "cell_type": "code",
   "execution_count": 17,
   "metadata": {},
   "outputs": [
    {
     "name": "stdout",
     "output_type": "stream",
     "text": [
      "[[ 0  1  2]\n",
      " [ 3  4  5]\n",
      " [ 6  7  8]\n",
      " [ 9 10 11]]\n",
      "***\n",
      "8\n",
      "***\n",
      "[ 1  4  7 10]\n",
      "***\n",
      "[ 1  4  7 10]\n",
      "***\n",
      "[[3 4 5]\n",
      " [6 7 8]]\n",
      "***\n",
      "[ 9 10 11]\n"
     ]
    }
   ],
   "source": [
    "b = np.arange(12).reshape(4,3)\n",
    "print(b)\n",
    "print(\"***\")\n",
    "print(b[2,2]) #<- 행렬의 3,3 임\n",
    "print(\"***\")\n",
    "print(b[0:4, 1]) # each row in the second column of b\n",
    "print(\"***\")\n",
    "print(b[ : , 1]) # equivalent to the previous example\n",
    "print(\"***\")\n",
    "print(b[1:3, : ]) # each column in the second and third row of b\n",
    "print(\"***\")\n",
    "print(b[-1]) # the last row. Equivalent to b[-1,:]"
   ]
  },
  {
   "cell_type": "code",
   "execution_count": 18,
   "metadata": {},
   "outputs": [
    {
     "name": "stdout",
     "output_type": "stream",
     "text": [
      "[ 20.    51.25  82.5  113.75 145.  ]\n",
      "***\n",
      "[[ 0.          0.84147098  0.90929743  0.14112001]\n",
      " [-0.7568025  -0.95892427 -0.2794155   0.6569866 ]\n",
      " [ 0.98935825  0.41211849 -0.54402111 -0.99999021]\n",
      " [-0.53657292  0.42016704  0.99060736  0.65028784]\n",
      " [-0.28790332 -0.96139749 -0.75098725  0.14987721]]\n",
      "***\n",
      "[2 0 3 1]\n",
      "***\n",
      "[ 82.5   20.   113.75  51.25]\n",
      "***\n",
      "[0.98935825 0.84147098 0.99060736 0.6569866 ]\n"
     ]
    }
   ],
   "source": [
    "time = np.linspace(20, 145, 5)                 # time scale\n",
    "data = np.sin(np.arange(20)).reshape(5,4)      # 4 time-dependent series\n",
    "print(time)\n",
    "print(\"***\")\n",
    "print(data)\n",
    "print(\"***\")\n",
    "ind = data.argmax(axis=0)                  # index of the maxima for each column\n",
    "print(ind)\n",
    "print(\"***\")\n",
    "time_max = time[ind]                       # times corresponding to the maxima\n",
    "print(time_max)\n",
    "print(\"***\")\n",
    "data_max = data[ind, range(data.shape[1])] # => data[ind[0],0], data[ind[1],1]...\n",
    "                                           # => data.shape : 데이터 차원크기\n",
    "# =>  data_max = list(data.max(axis = 0)) 와 동치.\n",
    "print(data_max)"
   ]
  },
  {
   "cell_type": "code",
   "execution_count": 19,
   "metadata": {},
   "outputs": [
    {
     "name": "stdout",
     "output_type": "stream",
     "text": [
      "[[ 0  1  2  3]\n",
      " [ 4  5  6  7]\n",
      " [ 8  9 10 11]]\n",
      "***\n",
      "[[False False False False]\n",
      " [False  True  True  True]\n",
      " [ True  True  True  True]]\n",
      "***\n",
      "[[0 1 2 3]\n",
      " [4 0 0 0]\n",
      " [0 0 0 0]]\n",
      "[[0 1 2 3]\n",
      " [4 0 0 0]\n",
      " [0 0 0 0]]\n"
     ]
    }
   ],
   "source": [
    "a = np.arange(12).reshape(3,4)\n",
    "b = a > 4\n",
    "print(a)\n",
    "print(\"***\")\n",
    "print(b)                                          # b is a boolean with a's shape\n",
    "print(\"***\")\n",
    "a[b] = 0                                   # All elements of 'a' higher than 4 become 0\n",
    "print(a)\n",
    "### 즉,\n",
    "a = np.arange(12).reshape(3,4)\n",
    "a[a>4]=0\n",
    "print(a)\n",
    "#####"
   ]
  },
  {
   "cell_type": "code",
   "execution_count": 20,
   "metadata": {},
   "outputs": [
    {
     "name": "stdout",
     "output_type": "stream",
     "text": [
      "[[ 0  1  2  3]\n",
      " [ 4  5  6  7]\n",
      " [ 8  9 10 11]]\n",
      "***\n",
      "[[ 4  5  6  7]\n",
      " [ 8  9 10 11]]\n",
      "***\n",
      "[[ 0  2]\n",
      " [ 4  6]\n",
      " [ 8 10]]\n"
     ]
    }
   ],
   "source": [
    "a = np.arange(12).reshape(3,4)\n",
    "b1 = np.array([False,True,True])             # first dim selection\n",
    "b2 = np.array([True,False,True,False])       # second dim selection\n",
    "print(a)\n",
    "print(\"***\")\n",
    "print(a[b1,:])                                   # selecting rows\n",
    "print(\"***\")\n",
    "print(a[:,b2])                                   # selecting columns\n"
   ]
  },
  {
   "cell_type": "markdown",
   "metadata": {},
   "source": [
    "#### Shape Manipulation\n",
    "---"
   ]
  },
  {
   "cell_type": "code",
   "execution_count": 21,
   "metadata": {},
   "outputs": [
    {
     "name": "stdout",
     "output_type": "stream",
     "text": [
      "[[2.71226116 2.89656699 7.89268946 9.30318711]\n",
      " [8.73077359 2.85063463 9.02132633 6.78952464]\n",
      " [8.30199191 4.24837679 3.53645625 0.09833965]]\n",
      "[[0. 5. 0. 5.]\n",
      " [4. 3. 1. 7.]\n",
      " [5. 9. 9. 1.]]\n",
      "***\n",
      "(3, 4)\n",
      "***\n",
      "[0. 5. 0. 5. 4. 3. 1. 7. 5. 9. 9. 1.]\n",
      "***\n",
      "[[0. 5.]\n",
      " [0. 5.]\n",
      " [4. 3.]\n",
      " [1. 7.]\n",
      " [5. 9.]\n",
      " [9. 1.]]\n",
      "***\n",
      "[[0. 4. 5.]\n",
      " [5. 3. 9.]\n",
      " [0. 1. 9.]\n",
      " [5. 7. 1.]]\n",
      "***\n",
      "(4, 3)\n",
      "***\n",
      "(3, 4)\n",
      "***\n",
      "[[0. 5. 0. 5. 4. 3.]\n",
      " [1. 7. 5. 9. 9. 1.]]\n",
      "***\n",
      "[[0. 5. 0.]\n",
      " [5. 4. 3.]\n",
      " [1. 7. 5.]\n",
      " [9. 9. 1.]]\n"
     ]
    }
   ],
   "source": [
    "a = np.array(10*np.random.random((3,4))) #(3,4) 매트릭스의 랜덤난수 출력\n",
    "print(a)\n",
    "a = np.floor(10*np.random.random((3,4))) #내림함수. np.floor\n",
    "print(a)\n",
    "print(\"***\")\n",
    "print(a.shape)\n",
    "print(\"***\")\n",
    "print(a.ravel()) # returns the array, flattened #벡터임 / 1,12는 행렬.\n",
    "print(\"***\")\n",
    "print(a.reshape(6,2)) # returns the array with a modified shape\n",
    "print(\"***\")\n",
    "print(a.T) # returns the array, transposed\n",
    "print(\"***\")\n",
    "print(a.T.shape)\n",
    "print(\"***\")\n",
    "print(a.shape)\n",
    "print(\"***\")\n",
    "a.resize((2,6))\n",
    "print(a) #a를 출력함에 주의! a.resize를 출력하지를 않는다!! 이게 reshape와 다른점\n",
    "print(\"***\")\n",
    "print(a.reshape(4,-1)) # with -1, the other dimensions are automatically calculated\n"
   ]
  },
  {
   "cell_type": "markdown",
   "metadata": {},
   "source": [
    "#### Stacking together different arrays\n",
    "---"
   ]
  },
  {
   "cell_type": "code",
   "execution_count": 22,
   "metadata": {},
   "outputs": [
    {
     "name": "stdout",
     "output_type": "stream",
     "text": [
      "[[4. 1.]\n",
      " [4. 1.]]\n",
      "[[2. 6.]\n",
      " [2. 4.]]\n"
     ]
    }
   ],
   "source": [
    "a = np.floor(10*np.random.random((2,2)))\n",
    "print(a)\n",
    "b = np.floor(10*np.random.random((2,2)))\n",
    "print(b)"
   ]
  },
  {
   "cell_type": "code",
   "execution_count": 23,
   "metadata": {},
   "outputs": [
    {
     "name": "stdout",
     "output_type": "stream",
     "text": [
      "[[4. 1.]\n",
      " [4. 1.]\n",
      " [2. 6.]\n",
      " [2. 4.]]\n",
      "***\n",
      "[[4. 1. 2. 6.]\n",
      " [4. 1. 2. 4.]]\n"
     ]
    }
   ],
   "source": [
    "print(np.vstack((a,b))) #튜플로 받음에 주목. 리스트로 받을수도 있다. 다만 \n",
    "                        #np.vstack(a,b) 이러면 안됨.\n",
    "print(\"***\")\n",
    "print(np.hstack((a,b)))\n"
   ]
  },
  {
   "cell_type": "code",
   "execution_count": 24,
   "metadata": {},
   "outputs": [
    {
     "name": "stdout",
     "output_type": "stream",
     "text": [
      "[[4. 3.]\n",
      " [2. 8.]]\n",
      "[[4. 2.]\n",
      " [3. 8.]]\n",
      "(2,)\n",
      "***\n",
      "[4. 2. 3. 8.]\n",
      "***\n",
      "[[4.]\n",
      " [2.]]\n",
      "(2, 1)\n",
      "***\n",
      "[[4. 3.]\n",
      " [2. 8.]]\n",
      "***\n",
      "[[4. 3.]\n",
      " [2. 8.]]\n"
     ]
    }
   ],
   "source": [
    "a = np.array([4.,2.]) #벡터\n",
    "b = np.array([3.,8.])\n",
    "print(np.column_stack((a,b)))     # returns a 2D array 벡터를 붙일때(변수추가) -> column으로 추가\n",
    "print(np.row_stack((a,b)))     # returns a 2D array 벡터를 붙일때(데어터추가) -> row로 추가\n",
    "#print(np.hstack((a,b))) #행렬을 붙일때\n",
    "#print(np.vstack((a,b))) # a와 b를 행렬취급해버리고 붙여버림. = print(np.row_stack((a,b)))\n",
    "print(a.shape)\n",
    "print(\"***\")\n",
    "print(np.hstack((a,b)))           # the result is different\n",
    "print(\"***\")\n",
    "print(a[:,np.newaxis])               # this allows to have a 2D columns vector 잊지말기!!!!!\n",
    "print(a[:,np.newaxis].shape)\n",
    "#행렬인경우 a = np.array([[1,2],[3,4]]) ; print(a[:,np.newaxis, :])  ; print(a[:,np.newaxis].shape) ???\n",
    "# a = np.array([[1,2],[3,4]]) ; print(a[:,:,np.newaxis])  ; print(a[:,np.newaxis].shape) ok\n",
    "print(\"***\")\n",
    "print(np.column_stack((a[:,np.newaxis],b[:,np.newaxis])))\n",
    "print(\"***\")\n",
    "print(np.hstack((a[:,np.newaxis],b[:,np.newaxis])))   # the result is the same\n"
   ]
  },
  {
   "cell_type": "code",
   "execution_count": 26,
   "metadata": {},
   "outputs": [
    {
     "name": "stdout",
     "output_type": "stream",
     "text": [
      "(12,)\n",
      "***\n",
      "True\n",
      "***\n",
      "[[ 0  1  2  3]\n",
      " [ 4  5  6  7]\n",
      " [ 8  9 10 11]]\n",
      "***\n",
      "(3, 4)\n"
     ]
    }
   ],
   "source": [
    "a = np.arange(12)\n",
    "b = a            # no new object is created\n",
    "print(a.shape)\n",
    "print(\"***\")\n",
    "print(b is a)           # a and b are two names for the same ndarray object\n",
    "print(\"***\")\n",
    "b.shape = 3,4    # changes the shape of a -> reshape랑 다름.\n",
    "                 # 이는 resize와 같음. b.resize(3,4)\n",
    "print(b)\n",
    "print(\"***\")\n",
    "print(a.shape) #즉, b를 resize시키면 a도 resize 된다."
   ]
  },
  {
   "cell_type": "code",
   "execution_count": 27,
   "metadata": {},
   "outputs": [
    {
     "name": "stdout",
     "output_type": "stream",
     "text": [
      "False\n",
      "***\n",
      "[[9999    1    2    3]\n",
      " [   4    5    6    7]\n",
      " [   8    9   10   11]]\n",
      "***\n",
      "[[ 0  1  2  3]\n",
      " [ 4  5  6  7]\n",
      " [ 8  9 10 11]]\n"
     ]
    }
   ],
   "source": [
    "d = a.copy()  # a new array object with new data is created\n",
    "print(d is a) # a와 d는 다르기에, copy함수를 쓰는것이 바람직. 이는 numpy의 내장함수는 아님.\n",
    "print(\"***\")\n",
    "d[0,0] = 9999\n",
    "print(d)\n",
    "print(\"***\")\n",
    "print(a) #a와 d는 다르다.\n"
   ]
  },
  {
   "cell_type": "markdown",
   "metadata": {},
   "source": [
    "#### Linear Algebra"
   ]
  },
  {
   "cell_type": "code",
   "execution_count": 28,
   "metadata": {},
   "outputs": [
    {
     "name": "stdout",
     "output_type": "stream",
     "text": [
      "[[1. 2.]\n",
      " [3. 4.]]\n",
      "***\n",
      "[[1. 3.]\n",
      " [2. 4.]]\n",
      "***\n",
      "[[-2.   1. ]\n",
      " [ 1.5 -0.5]]\n"
     ]
    }
   ],
   "source": [
    "a = np.array([[1.0, 2.0], [3.0, 4.0]])\n",
    "print(a)\n",
    "print(\"***\")\n",
    "print(a.transpose()) # print(a.T)\n",
    "print(\"***\")\n",
    "print(np.linalg.inv(a)) #linear algebra inverse matrix"
   ]
  },
  {
   "cell_type": "code",
   "execution_count": 29,
   "metadata": {},
   "outputs": [
    {
     "name": "stdout",
     "output_type": "stream",
     "text": [
      "[[1. 0.]\n",
      " [0. 1.]]\n",
      "***\n",
      "2.0\n"
     ]
    }
   ],
   "source": [
    "u = np.eye(2) # unit 2x2 matrix; \"eye\" represents \"I\"\n",
    "print(u)\n",
    "print(\"***\")\n",
    "print(np.trace(u))  # trace\n"
   ]
  },
  {
   "cell_type": "code",
   "execution_count": 30,
   "metadata": {},
   "outputs": [
    {
     "name": "stdout",
     "output_type": "stream",
     "text": [
      "[[ 0. -1.]\n",
      " [ 1.  0.]]\n",
      "***\n",
      "[[-1.  0.]\n",
      " [ 0. -1.]]\n"
     ]
    }
   ],
   "source": [
    "j = np.array([[0.0, -1.0], [1.0, 0.0]])\n",
    "print(j)\n",
    "print(\"***\")\n",
    "print(j @ j)        # matrix product\n"
   ]
  },
  {
   "cell_type": "code",
   "execution_count": 31,
   "metadata": {},
   "outputs": [
    {
     "name": "stdout",
     "output_type": "stream",
     "text": [
      "[[-3.]\n",
      " [ 4.]]\n"
     ]
    }
   ],
   "source": [
    "y = np.array([[5.], [7.]])\n",
    "print(np.linalg.solve(a, y))\n",
    "# solve(a, b)\n",
    "# 행렬 방정식을 해결한다.\n",
    "# a * x = b 일 경우 x의 값을 구한다."
   ]
  }
 ],
 "metadata": {
  "kernelspec": {
   "display_name": "Python 3",
   "language": "python",
   "name": "python3"
  },
  "language_info": {
   "codemirror_mode": {
    "name": "ipython",
    "version": 3
   },
   "file_extension": ".py",
   "mimetype": "text/x-python",
   "name": "python",
   "nbconvert_exporter": "python",
   "pygments_lexer": "ipython3",
   "version": "3.7.3"
  }
 },
 "nbformat": 4,
 "nbformat_minor": 2
}
