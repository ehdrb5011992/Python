{
 "cells": [
  {
   "cell_type": "markdown",
   "metadata": {},
   "source": [
    "# [Title]"
   ]
  },
  {
   "cell_type": "markdown",
   "metadata": {},
   "source": [
    "*KU, Shin wooyoung(your name)*"
   ]
  },
  {
   "cell_type": "markdown",
   "metadata": {},
   "source": [
    "## 1. Introduction"
   ]
  },
  {
   "cell_type": "markdown",
   "metadata": {},
   "source": [
    "The introduction provide a theoretical, practical, and/or historical background so that your reader will be able to understand what you did and why it was worth doing with 2-4 lines."
   ]
  },
  {
   "cell_type": "markdown",
   "metadata": {},
   "source": [
    "## 2. Materials and Methods"
   ]
  },
  {
   "cell_type": "markdown",
   "metadata": {},
   "source": [
    "Here you describe the proposed model and all the theoretical representations and derivations of the model. You can also describe what the model implicates by providing relevant interpretations."
   ]
  },
  {
   "cell_type": "markdown",
   "metadata": {},
   "source": [
    "* $\\tilde{\\phi}(x_k) = \\phi(x_k) - \\frac{1}{n}\\sum_{k = 1}^n\\phi(x_k)$\n",
    "\n",
    "\n",
    "* $\n",
    "\\Sigma = \\frac{1}{n}\\sum_{i = 1}^n \\phi(x_i)\\phi(x_i)^t \\Rightarrow \\Sigma v = \\lambda v\n",
    "$"
   ]
  },
  {
   "cell_type": "markdown",
   "metadata": {},
   "source": [
    "$$\n",
    "\\begin{split}\n",
    "\\tilde{K(x_i, x_j)} &= \\tilde{\\phi}(x_i)^t\\tilde{\\phi}(x_j)\\\\\n",
    "&= \\left(\\phi(x_i) - \\frac{1}{n}\\sum_{k = 1}^n\\phi(x_k)\\right)^t\\left(\\phi(x_j) - \\frac{1}{n}\\sum_{k = 1}^n\\phi(x_k)\\right)\\\\\n",
    "&= \\phi(x_i)^t\\phi(x_j) - \\frac{1}{n}\\sum_{k = 1}^n\\phi(x_i)^t\\phi(x_k) - \\frac{1}{n}\\sum_{k = 1}^n\\phi(x_k)^t\\phi(x_j) + \\frac{1}{n^2}\\sum_{k = 1}^n\\sum_{l = 1}^n\\phi(x_l)^t\\phi(x_k)\\\\\n",
    "&= K(x_i, x_j) - \\frac{1}{n}\\sum_{k = 1}^nK(x_i, x_k) - \\frac{1}{n}\\sum_{k = 1}^nK(x_j, x_k) + \\frac{1}{n^2}\\sum_{k = 1}^n\\sum_{l = 1}^nK(x_l, x_k)\\\\\n",
    "&\\therefore \\tilde{K} =  K - 2\\textbf{1}_{1/n}K + \\textbf{1}_{1/n}K\\textbf{1}_{1/n}\n",
    "\\end{split}\n",
    "$$"
   ]
  },
  {
   "cell_type": "markdown",
   "metadata": {},
   "source": [
    "### 2-a. Subtitle"
   ]
  },
  {
   "cell_type": "markdown",
   "metadata": {},
   "source": [
    "### 2-b. Subtitle"
   ]
  },
  {
   "cell_type": "markdown",
   "metadata": {},
   "source": [
    "## 3. Code"
   ]
  },
  {
   "cell_type": "code",
   "execution_count": 1,
   "metadata": {},
   "outputs": [],
   "source": [
    "%reset -f"
   ]
  },
  {
   "cell_type": "markdown",
   "metadata": {},
   "source": [
    "### 3-a. Data preparation"
   ]
  },
  {
   "cell_type": "code",
   "execution_count": 2,
   "metadata": {},
   "outputs": [],
   "source": [
    "import numpy as np\n",
    "import pandas as pd\n",
    "import matplotlib.pyplot as plt\n",
    "from sklearn.model_selection import train_test_split\n",
    "import os\n",
    "import h5py"
   ]
  },
  {
   "cell_type": "code",
   "execution_count": 3,
   "metadata": {},
   "outputs": [],
   "source": [
    "import tensorflow as tf\n",
    "from tensorflow.python.framework import ops\n",
    "\n",
    "(X_train, t_train), (X_test, t_test) = tf.keras.datasets.mnist.load_data()\n",
    "X_train= np.reshape(X_train, [-1, 784])\n",
    "X_test= np.reshape(X_test, [-1, 784])\n",
    "train_t= np.array(pd.get_dummies(t_train))*1.\n",
    "test_t = np.array(pd.get_dummies(t_test))*1."
   ]
  },
  {
   "cell_type": "code",
   "execution_count": 4,
   "metadata": {},
   "outputs": [
    {
     "data": {
      "image/png": "[encoded data removed]",
      "text/plain": [
       "<Figure size 576x576 with 100 Axes>"
      ]
     },
     "metadata": {},
     "output_type": "display_data"
    }
   ],
   "source": [
    "fig = plt.figure(figsize = (8,8))\n",
    "for i in range(10):\n",
    "    c = 0\n",
    "    for (image, label) in zip(np.reshape(X_train, [-1, 28,28]), train_t):\n",
    "        if np.argmax(label) != i: continue\n",
    "        subplot = fig.add_subplot(10,10,i*10+c+1)\n",
    "        subplot.set_xticks([])\n",
    "        subplot.set_yticks([])\n",
    "        subplot.imshow(image.reshape((28,28)), vmin=0, vmax=1,\n",
    "                       cmap=plt.cm.gray_r, interpolation=\"nearest\")\n",
    "        c += 1\n",
    "        if c == 10: break"
   ]
  },
  {
   "cell_type": "code",
   "execution_count": 5,
   "metadata": {},
   "outputs": [
    {
     "data": {
      "image/png": "[encoded data removed]",
      "text/plain": [
       "<Figure size 432x288 with 1 Axes>"
      ]
     },
     "metadata": {
      "needs_background": "light"
     },
     "output_type": "display_data"
    }
   ],
   "source": [
    "from sklearn.datasets import make_circles\n",
    "\n",
    "X, y = make_circles(n_samples = 200, random_state = 1, noise = 0.1, factor = 0.2)\n",
    "plt.scatter(X[y == 0, 0], X[y == 0, 1], color='red', marker='^', alpha=0.5)\n",
    "plt.scatter(X[y == 1, 0], X[y == 1, 1], color='blue', marker='o', alpha=0.5)\n",
    "plt.tight_layout()\n",
    "plt.title('True plot', size = 15)\n",
    "plt.savefig('1.png', dpi = 300)\n",
    "plt.show()"
   ]
  },
  {
   "cell_type": "markdown",
   "metadata": {},
   "source": [
    "### 3-b. Simulation"
   ]
  },
  {
   "cell_type": "markdown",
   "metadata": {},
   "source": [
    "## 4. Discussion"
   ]
  },
  {
   "cell_type": "markdown",
   "metadata": {},
   "source": [
    "Interpret the simulation results and draw conclusions by comparing with (1) what others have seen, or (2) what might have been expected in light of theory or hypothesis."
   ]
  }
 ],
 "metadata": {
  "kernelspec": {
   "display_name": "Python 3",
   "language": "python",
   "name": "python3"
  },
  "language_info": {
   "codemirror_mode": {
    "name": "ipython",
    "version": 3
   },
   "file_extension": ".py",
   "mimetype": "text/x-python",
   "name": "python",
   "nbconvert_exporter": "python",
   "pygments_lexer": "ipython3",
   "version": "3.7.3"
  }
 },
 "nbformat": 4,
 "nbformat_minor": 2
}
