{
 "cells": [
  {
   "cell_type": "markdown",
   "metadata": {},
   "source": [
    "출처 : https://swexpertacademy.com/main/code/problem/problemDetail.do?contestProbId=AV5QLkdKAz4DFAUq&categoryId=AV5QLkdKAz4DFAUq&categoryType=CODE"
   ]
  },
  {
   "cell_type": "markdown",
   "metadata": {},
   "source": [
    "# SW Expert 아카데미의 문제를 무단 복제하는 것을 금지합니다."
   ]
  },
  {
   "cell_type": "markdown",
   "metadata": {},
   "source": [
    "# 문제\n",
    "\n",
    "\n",
    "월일 순으로 구성된 8자리의 날짜가 입력으로 주어진다.\n",
    " \n",
    "\n",
    "\n",
    "\n",
    "해당 날짜의 유효성을 판단한 후, 날짜가 유효하다면\n",
    "\n",
    "[그림1] 과 같이 ”YYYY/MM/DD”형식으로 출력하고,\n",
    "\n",
    "날짜가 유효하지 않을 경우, -1 을 출력하는 프로그램을 작성하라.\n",
    "\n",
    "\n",
    "연월일로 구성된 입력에서 월은 1~12 사이 값을 가져야 하며\n",
    "\n",
    "일은 [표1] 과 같이, 1일 ~ 각각의 달에 해당하는 날짜까지의 값을 가질 수 있다.\n",
    " \n",
    "\n",
    "\n",
    "※ 2월의 경우, 28일인 경우만 고려한다. (윤년은 고려하지 않는다.)\n",
    "```\n",
    "\n",
    "[입력]\n",
    "\n",
    "입력은 첫 줄에 총 테스트 케이스의 개수 T가 온다.\n",
    "\n",
    "다음 줄부터 각 테스트 케이스가 주어진다.\n",
    "\n",
    "\n",
    "[출력]\n",
    "\n",
    "테스트 케이스 t에 대한 결과는 “#t”을 찍고, 한 칸 띄고, 정답을 출력한다.\n",
    "\n",
    "(t는 테스트 케이스의 번호를 의미하며 1부터 시작한다.)\n",
    "```"
   ]
  },
  {
   "cell_type": "markdown",
   "metadata": {},
   "source": [
    "### 내코드"
   ]
  },
  {
   "cell_type": "code",
   "execution_count": 6,
   "metadata": {
    "scrolled": false
   },
   "outputs": [
    {
     "data": {
      "text/plain": [
       "{'01': range(1, 32),\n",
       " '02': range(1, 29),\n",
       " '03': range(1, 32),\n",
       " '04': range(1, 31),\n",
       " '05': range(1, 32),\n",
       " '06': range(1, 31),\n",
       " '07': range(1, 32),\n",
       " '08': range(1, 32),\n",
       " '09': range(1, 31),\n",
       " '10': range(1, 32),\n",
       " '11': range(1, 31),\n",
       " '12': range(1, 32)}"
      ]
     },
     "execution_count": 6,
     "metadata": {},
     "output_type": "execute_result"
    }
   ],
   "source": [
    "x"
   ]
  },
  {
   "cell_type": "code",
   "execution_count": 20,
   "metadata": {},
   "outputs": [
    {
     "name": "stdout",
     "output_type": "stream",
     "text": [
      "1\n",
      "01010101\n",
      "#1 0101/01/01\n"
     ]
    }
   ],
   "source": [
    "T = int(input())\n",
    "\n",
    "\n",
    "\n",
    "\n",
    "month_list = ['01','02','03','04','05','06','07','08','09','10','11','12']\n",
    "day_list = [range(1,32),range(1,29),range(1,32),range(1,31),range(1,32),range(1,31),range(1,32),range(1,32),range(1,31),range(1,32),range(1,31),range(1,32)]\n",
    "month_day_dict = dict(zip(month_list,day_list))\n",
    "\n",
    "for test_case in range(1, T + 1):\n",
    "    ymd = input()\n",
    "    if len(ymd) != 8 :\n",
    "        print('#%d'%test_case,-1)\n",
    "    \n",
    "    year=ymd[0:4]\n",
    "    month = ymd[4:6]\n",
    "    day = int(ymd[6:8])\n",
    "    \n",
    "    if month in month_day_dict.keys():\n",
    "        if day in month_day_dict[month]:\n",
    "            \n",
    "            if day <= 9:\n",
    "                day = '0' + str(day)\n",
    "            else :\n",
    "                day = str(day)\n",
    "            \n",
    "            print('#%d '%test_case +year+'/'+month+'/'+day)\n",
    "        else :\n",
    "            print('#%d'%test_case,-1)\n",
    "    else :\n",
    "        print('#%d'%test_case,-1)"
   ]
  }
 ],
 "metadata": {
  "kernelspec": {
   "display_name": "Python 3",
   "language": "python",
   "name": "python3"
  },
  "language_info": {
   "codemirror_mode": {
    "name": "ipython",
    "version": 3
   },
   "file_extension": ".py",
   "mimetype": "text/x-python",
   "name": "python",
   "nbconvert_exporter": "python",
   "pygments_lexer": "ipython3",
   "version": "3.7.3"
  }
 },
 "nbformat": 4,
 "nbformat_minor": 2
}
