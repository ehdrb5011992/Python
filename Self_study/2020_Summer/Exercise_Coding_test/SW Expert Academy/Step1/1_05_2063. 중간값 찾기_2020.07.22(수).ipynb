{
 "cells": [
  {
   "cell_type": "markdown",
   "metadata": {},
   "source": [
    "출처 : https://swexpertacademy.com/main/code/problem/problemDetail.do?contestProbId=AV5QPsXKA2UDFAUq&categoryId=AV5QPsXKA2UDFAUq&categoryType=CODE"
   ]
  },
  {
   "cell_type": "markdown",
   "metadata": {},
   "source": [
    "# SW Expert 아카데미의 문제를 무단 복제하는 것을 금지합니다."
   ]
  },
  {
   "cell_type": "markdown",
   "metadata": {},
   "source": [
    "# 문제\n",
    "\n",
    "\n",
    "중간값은 통계 집단의 수치를 크기 순으로 배열 했을 때 전체의 중앙에 위치하는 수치를 뜻한다.\n",
    "\n",
    "입력으로 N 개의 점수가 주어졌을 때, 중간값을 출력하라.\n",
    "\n",
    "```\n",
    "[예제]\n",
    "\n",
    "N이 9 이고, 9개의 점수가 아래와 같이 주어질 경우,\n",
    "\n",
    "85 72 38 80 69 65 68 96 22\n",
    "\n",
    "69이 중간값이 된다.\n",
    "\n",
    "\n",
    "[제약 사항]\n",
    "\n",
    "1. N은 항상 홀수로 주어진다.\n",
    "\n",
    "2. N은 9이상 199 이하의 정수이다. (9 ≤ N ≤ 199)\n",
    "\n",
    "\n",
    "[입력]\n",
    "\n",
    "입력은 첫 줄에 N 이 주어진다.\n",
    "\n",
    "둘째 줄에 N 개의 점수가 주어진다.\n",
    "\n",
    "\n",
    "[출력]\n",
    "\n",
    "N 개의 점수들 중, 중간값에 해당하는 점수를 정답으로 출력한다.\n",
    "```"
   ]
  },
  {
   "cell_type": "markdown",
   "metadata": {},
   "source": [
    "### 내코드"
   ]
  },
  {
   "cell_type": "code",
   "execution_count": 3,
   "metadata": {},
   "outputs": [
    {
     "name": "stdout",
     "output_type": "stream",
     "text": [
      "3\n",
      "1 2 4\n",
      "2\n"
     ]
    }
   ],
   "source": [
    "T = int(input())\n",
    "while 1 :\n",
    "    numbers = list(map(int, input().split()))\n",
    "    if len(numbers) == T:\n",
    "        break\n",
    "\n",
    "new = sorted(numbers)\n",
    "print(new[T//2])"
   ]
  }
 ],
 "metadata": {
  "kernelspec": {
   "display_name": "Python 3",
   "language": "python",
   "name": "python3"
  },
  "language_info": {
   "codemirror_mode": {
    "name": "ipython",
    "version": 3
   },
   "file_extension": ".py",
   "mimetype": "text/x-python",
   "name": "python",
   "nbconvert_exporter": "python",
   "pygments_lexer": "ipython3",
   "version": "3.7.3"
  }
 },
 "nbformat": 4,
 "nbformat_minor": 2
}
