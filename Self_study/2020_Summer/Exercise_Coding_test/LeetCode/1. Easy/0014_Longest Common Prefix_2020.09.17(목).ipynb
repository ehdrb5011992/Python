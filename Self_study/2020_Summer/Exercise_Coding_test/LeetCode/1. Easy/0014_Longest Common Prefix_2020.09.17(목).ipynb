{
 "cells": [
  {
   "cell_type": "markdown",
   "metadata": {},
   "source": [
    "출처 : https://leetcode.com/problems/longest-common-prefix/"
   ]
  },
  {
   "cell_type": "markdown",
   "metadata": {},
   "source": [
    "# 문제\n",
    "\n",
    "Write a function to find the longest common prefix string amongst an array of strings.\n",
    "\n",
    "If there is no common prefix, return an empty string \"\".\n",
    "```\n",
    "Example 1:\n",
    "\n",
    "Input: [\"flower\",\"flow\",\"flight\"]\n",
    "Output: \"fl\"\n",
    "Example 2:\n",
    "\n",
    "Input: [\"dog\",\"racecar\",\"car\"]\n",
    "Output: \"\"\n",
    "```\n",
    "Explanation: There is no common prefix among the input strings.\n",
    "```\n",
    "Note:\n",
    "\n",
    "All given inputs are in lowercase letters a-z.\n",
    "```"
   ]
  },
  {
   "cell_type": "markdown",
   "metadata": {},
   "source": [
    "### 내코드"
   ]
  },
  {
   "cell_type": "code",
   "execution_count": 48,
   "metadata": {},
   "outputs": [],
   "source": [
    "class Solution:\n",
    "    def longestCommonPrefix(self, strs: list) -> str:\n",
    "\n",
    "        answer = []\n",
    "        for prefix_check in zip(*strs): # 리스트 내 각 단어의 철자를 하나씩 뽑아낼때는 zip(*리스트) 를 쓰면됨. (분해) - 마치 데이터프레임\n",
    "            set_prefix=set(prefix_check)\n",
    "            if len(set_prefix) == 1:\n",
    "                answer.append(prefix_check[0])\n",
    "            else:\n",
    "                break\n",
    "        return ''.join(answer)\n",
    "        "
   ]
  },
  {
   "cell_type": "markdown",
   "metadata": {},
   "source": [
    "### 다른사람 코드"
   ]
  },
  {
   "cell_type": "code",
   "execution_count": null,
   "metadata": {},
   "outputs": [],
   "source": [
    "def longestCommonPrefix(self, strs):\n",
    "    \"\"\"\n",
    "    :type strs: List[str]\n",
    "    :rtype: str\n",
    "    \"\"\"\n",
    "    if len(strs)==0:\n",
    "        return \"\"\n",
    "    if len(strs)==1:\n",
    "        return strs[0]\n",
    "    cp = ''\n",
    "    l = [len(st) for st in strs] #lengths for each string\n",
    "    for i in range(min(l)): # scan from first letter to min str lengths\n",
    "        tmp = [s[i] for s in strs] #get i-th letter from each string\n",
    "        if min(tmp)==max(tmp): #check if all of them are the same\n",
    "            cp = cp + tmp[0]\n",
    "        else:\n",
    "            return cp\n",
    "    return cp"
   ]
  }
 ],
 "metadata": {
  "kernelspec": {
   "display_name": "Python 3",
   "language": "python",
   "name": "python3"
  }
 },
 "nbformat": 4,
 "nbformat_minor": 2
}
