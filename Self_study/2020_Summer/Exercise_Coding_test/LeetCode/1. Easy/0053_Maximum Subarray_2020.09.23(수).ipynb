{
 "cells": [
  {
   "cell_type": "markdown",
   "metadata": {},
   "source": [
    "출처 : https://leetcode.com/problems/maximum-subarray/"
   ]
  },
  {
   "cell_type": "markdown",
   "metadata": {},
   "source": [
    "# 문제\n",
    "\n",
    "Given an integer array nums, find the contiguous subarray (containing at least one number) which has the largest sum and return its sum.\n",
    "\n",
    "Follow up: If you have figured out the O(n) solution, try coding another solution using the divide and conquer approach, which is more subtle.\n",
    "\n",
    " \n",
    "\n",
    "Example 1:\n",
    "```\n",
    "Input: nums = [-2,1,-3,4,-1,2,1,-5,4]\n",
    "Output: 6\n",
    "Explanation: [4,-1,2,1] has the largest sum = 6.\n",
    "```\n",
    "Example 2:\n",
    "```\n",
    "Input: nums = [1]\n",
    "Output: 1\n",
    "```\n",
    "Example 3:\n",
    "```\n",
    "Input: nums = [0]\n",
    "Output: 0\n",
    "```\n",
    "Example 4:\n",
    "```\n",
    "Input: nums = [-1]\n",
    "Output: -1\n",
    "```\n",
    "Example 5:\n",
    "```\n",
    "Input: nums = [-2147483647]\n",
    "Output: -2147483647\n",
    " \n",
    "```\n",
    "Constraints:\n",
    "```\n",
    "1 <= nums.length <= 2 * 10^4\n",
    "-2^31 <= nums[i] <= 2^31 - 1\n",
    "```"
   ]
  },
  {
   "cell_type": "markdown",
   "metadata": {},
   "source": [
    "### 내코드"
   ]
  },
  {
   "cell_type": "markdown",
   "metadata": {},
   "source": [
    "O(n^3) 부터 O(n) 까지 다양한 풀이가 있으니, https://baboc.tistory.com/282 꼭참고 \n",
    "\n",
    "\n",
    "Kadane's algorithm 쓰면 O(n) 으로 해결가능."
   ]
  },
  {
   "cell_type": "markdown",
   "metadata": {},
   "source": [
    "다이나믹 프로그래밍 (동적계획법) 은 아래의 주소를 참고\n",
    "\n",
    "https://sustainable-dev.tistory.com/23"
   ]
  },
  {
   "cell_type": "code",
   "execution_count": null,
   "metadata": {},
   "outputs": [],
   "source": [
    "nums = [-2,1,-3,4,-1,2,1,-5,4]"
   ]
  },
  {
   "cell_type": "code",
   "execution_count": 2,
   "metadata": {},
   "outputs": [],
   "source": [
    "class Solution:\n",
    "    def maxSubArray(self, nums: list) -> int:\n",
    "        current_sum = nums[0]\n",
    "        max_sum = nums[0]\n",
    "\n",
    "        for i in range(1,len(nums)):\n",
    "\n",
    "            current_sum = max(nums[i], current_sum + nums[i]) # 카데인알고리즘 (동적계획법) 적용\n",
    "            max_sum = max(max_sum,current_sum) # 새롭게 누적시키는것과 현재 가지고있는 최대값을 비교\n",
    "\n",
    "        return max_sum\n"
   ]
  },
  {
   "cell_type": "markdown",
   "metadata": {},
   "source": [
    "### 다른사람 코드"
   ]
  },
  {
   "cell_type": "code",
   "execution_count": null,
   "metadata": {},
   "outputs": [],
   "source": [
    "class Solution:\n",
    "    def maxSubArray(self, nums: List[int]) -> int:\n",
    "        '''\n",
    "        maintain dp array s.t. dp[i] gives best subarray that can be formed if we include nums[i]. \n",
    "        this lends into the dp interpretation b/c we can then say, do we want to take the prev subarray or not. \n",
    "        at the end this will yield our optimal solution. \n",
    "        we only want the previous subarray if it will contribute (> 0), \n",
    "        otherwise we shouldnt take it b/c if dp(i-1) < 0 that meansthat the best choice that ends at i-1 is not something we want to continue off of so we disregard it. \n",
    "        this is O(n) time and space, but notice that in our dp table we only look back one so we can just store this lookback in a variable and cut down our space usage to O(1)\n",
    "        '''\n",
    "        if not nums: return 0\n",
    "        N=len(nums)\n",
    "        prevSum=nums[0]\n",
    "        bestSum=nums[0]\n",
    "        \n",
    "        for i in range(1, N):\n",
    "            # do we take prev subarray or not?\n",
    "            prevSubArray=max(prevSum, 0)\n",
    "            curSum = prevSubArray+nums[i]\n",
    "            bestSum = max(curSum, bestSum)\n",
    "            prevSum = curSum\n",
    "        \n",
    "        return bestSum\n",
    "    \n",
    "    '''\n",
    "    N=len(nums)\n",
    "    time: O(N)\n",
    "    space: O(N)\n",
    "    '''"
   ]
  },
  {
   "cell_type": "code",
   "execution_count": null,
   "metadata": {},
   "outputs": [],
   "source": []
  }
 ],
 "metadata": {
  "kernelspec": {
   "display_name": "Python 3",
   "language": "python",
   "name": "python3"
  },
  "language_info": {
   "codemirror_mode": {
    "name": "ipython",
    "version": 3
   },
   "file_extension": ".py",
   "mimetype": "text/x-python",
   "name": "python",
   "nbconvert_exporter": "python",
   "pygments_lexer": "ipython3",
   "version": "3.7.3"
  }
 },
 "nbformat": 4,
 "nbformat_minor": 2
}
