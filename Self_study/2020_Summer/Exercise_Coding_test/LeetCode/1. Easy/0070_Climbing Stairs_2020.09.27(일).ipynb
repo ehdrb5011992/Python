{
 "cells": [
  {
   "cell_type": "markdown",
   "metadata": {},
   "source": [
    "출처 : https://leetcode.com/problems/climbing-stairs/"
   ]
  },
  {
   "cell_type": "markdown",
   "metadata": {},
   "source": [
    "# 문제\n",
    "\n",
    "You are climbing a stair case. It takes n steps to reach to the top.\n",
    "\n",
    "Each time you can either climb 1 or 2 steps. In how many distinct ways can you climb to the top?\n",
    "\n",
    "Example 1:\n",
    "```\n",
    "Input: 2\n",
    "Output: 2\n",
    "Explanation: There are two ways to climb to the top.\n",
    "1. 1 step + 1 step\n",
    "2. 2 steps\n",
    "```\n",
    "Example 2:\n",
    "```\n",
    "Input: 3\n",
    "Output: 3\n",
    "Explanation: There are three ways to climb to the top.\n",
    "1. 1 step + 1 step + 1 step\n",
    "2. 1 step + 2 steps\n",
    "3. 2 steps + 1 step\n",
    " \n",
    "```\n",
    "Constraints:\n",
    "```\n",
    "1 <= n <= 45\n",
    "```"
   ]
  },
  {
   "cell_type": "markdown",
   "metadata": {},
   "source": [
    "### 내코드"
   ]
  },
  {
   "cell_type": "markdown",
   "metadata": {},
   "source": [
    "피보나치 문제임을 문제를 통해 알아차렸다.\n",
    "\n",
    "이를 아래의 재귀함수를 이용하여 naive하게 짜면, 인터넷에서는 시간초과로 오류가 나온다."
   ]
  },
  {
   "cell_type": "code",
   "execution_count": null,
   "metadata": {},
   "outputs": [],
   "source": [
    "class Solution:\n",
    "    def climbStairs(self, n: int) -> int:\n",
    "        if n ==1 or n==0:\n",
    "            return 1\n",
    "        return self.climbStairs(n-1) + self.climbStairs(n-2)\n",
    "        "
   ]
  },
  {
   "cell_type": "code",
   "execution_count": 10,
   "metadata": {},
   "outputs": [
    {
     "data": {
      "text/plain": [
       "63245986"
      ]
     },
     "execution_count": 10,
     "metadata": {},
     "output_type": "execute_result"
    }
   ],
   "source": [
    "fibonacci(38)"
   ]
  },
  {
   "cell_type": "markdown",
   "metadata": {},
   "source": [
    "이를 동적계획법을 이용하여 짜보자."
   ]
  },
  {
   "cell_type": "markdown",
   "metadata": {},
   "source": [
    "1) bottom-up"
   ]
  },
  {
   "cell_type": "code",
   "execution_count": null,
   "metadata": {},
   "outputs": [],
   "source": [
    "class Solution:\n",
    "    def climbStairs(self, n: int) -> int:\n",
    "        my_dict = {0:1 , 1:1}\n",
    "\n",
    "        for i in range(2,n+1):\n",
    "            my_dict[i] = my_dict[i-1] + my_dict[i-2]\n",
    "        return my_dict[n]"
   ]
  },
  {
   "cell_type": "markdown",
   "metadata": {},
   "source": [
    "2) top-down (재귀호출)"
   ]
  },
  {
   "cell_type": "code",
   "execution_count": 5,
   "metadata": {},
   "outputs": [],
   "source": [
    "class Solution:\n",
    "    my_dict = dict(zip(range(0,100),[1]*100)) # 이렇게 초기화를 해야함.\n",
    "\n",
    "    def climbStairs(self, n: int) -> int:\n",
    "\n",
    "        if n == 0 or n == 1:\n",
    "            return 1\n",
    "        elif self.my_dict[n]>= 2 : # 초기화 한 값보다 크다면~\n",
    "            return self.my_dict[n]\n",
    "        else:\n",
    "            self.my_dict[n] = self.climbStairs(n-1) + self.climbStairs(n-2)\n",
    "            return self.my_dict[n]"
   ]
  },
  {
   "cell_type": "code",
   "execution_count": 6,
   "metadata": {},
   "outputs": [
    {
     "data": {
      "text/plain": [
       "63245986"
      ]
     },
     "execution_count": 6,
     "metadata": {},
     "output_type": "execute_result"
    }
   ],
   "source": [
    "Solution().climbStairs(38)"
   ]
  },
  {
   "cell_type": "markdown",
   "metadata": {},
   "source": [
    "### 다른사람 코드"
   ]
  },
  {
   "cell_type": "markdown",
   "metadata": {},
   "source": [
    "피보나치의 일반항을 구해서 해결"
   ]
  },
  {
   "cell_type": "code",
   "execution_count": null,
   "metadata": {},
   "outputs": [],
   "source": [
    "## note n+1 because normal sequence starts with 0 1 1 2 ... but this one is 1 2 3 5 ...\n",
    "class Solution(object):\n",
    "    def climbStairs(self, n):\n",
    "        golden_ratio = (1+ 5**.5)/2\n",
    "        return int(round( (golden_ratio**(n+1) - (1/golden_ratio)**(n+1)) / 5**.5, 0))"
   ]
  }
 ],
 "metadata": {
  "kernelspec": {
   "display_name": "Python 3",
   "language": "python",
   "name": "python3"
  },
  "language_info": {
   "codemirror_mode": {
    "name": "ipython",
    "version": 3
   },
   "file_extension": ".py",
   "mimetype": "text/x-python",
   "name": "python",
   "nbconvert_exporter": "python",
   "pygments_lexer": "ipython3",
   "version": "3.7.3"
  }
 },
 "nbformat": 4,
 "nbformat_minor": 2
}
