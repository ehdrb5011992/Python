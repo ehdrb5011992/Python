{
 "cells": [
  {
   "cell_type": "markdown",
   "metadata": {},
   "source": [
    "출처 : https://leetcode.com/problems/merge-two-sorted-lists/"
   ]
  },
  {
   "cell_type": "markdown",
   "metadata": {},
   "source": [
    "# 문제\n",
    "\n",
    "Merge two sorted linked lists and return it as a new sorted list. The new list should be made by splicing together the nodes of the first two lists.\n",
    "```\n",
    "Example:\n",
    "\n",
    "Input: 1->2->4, 1->3->4\n",
    "Output: 1->1->2->3->4->4\n",
    "```"
   ]
  },
  {
   "cell_type": "markdown",
   "metadata": {},
   "source": [
    "### 내코드 \n",
    "(https://www.youtube.com/watch?v=r3MAkVZkD0s 참고)"
   ]
  },
  {
   "cell_type": "code",
   "execution_count": 2,
   "metadata": {},
   "outputs": [],
   "source": [
    "# input\n",
    "# [1,2,4] , [1,3,4]\n",
    "\n",
    "# output\n",
    "# [1,1,2,3,4,4]"
   ]
  },
  {
   "cell_type": "code",
   "execution_count": 7,
   "metadata": {},
   "outputs": [],
   "source": [
    "class ListNode:\n",
    "    def __init__(self, val=0, next=None):\n",
    "        self.val = val\n",
    "        self.next = next"
   ]
  },
  {
   "cell_type": "code",
   "execution_count": 14,
   "metadata": {},
   "outputs": [],
   "source": [
    "# https://www.youtube.com/watch?v=r3MAkVZkD0s 참고 \n",
    "\n",
    "class Solution:\n",
    "    def mergeTwoLists(self, l1: ListNode, l2: ListNode) -> ListNode:\n",
    "        \n",
    "        #list to return\n",
    "        head = ListNode(0) # init\n",
    "        ptr = head\n",
    "        \n",
    "        while True:\n",
    "            if l1 is None and l2 is None :\n",
    "                break\n",
    "            elif l1 is None:\n",
    "                ptr.next = l2\n",
    "                break\n",
    "            elif l2 is None:\n",
    "                ptr.next = l1\n",
    "                break\n",
    "            else:\n",
    "                smallerval = 0\n",
    "                if l1.val < l2.val:\n",
    "                    smallerval = l1.val\n",
    "                    l1 = l1.next # 이거든지\n",
    "                else:\n",
    "                    smallerval = l2.val\n",
    "                    l2 = l2.next # 이거면\n",
    "                \n",
    "                newNode = ListNode(smallerval)\n",
    "                ptr.next = newNode\n",
    "                ptr = ptr.next # 얘도 옮겨야함.\n",
    "        return head.next # init은 제거하고 출력해야하니까 next부터 시작."
   ]
  },
  {
   "cell_type": "code",
   "execution_count": 15,
   "metadata": {},
   "outputs": [
    {
     "name": "stdout",
     "output_type": "stream",
     "text": [
      "5\n",
      "10\n",
      "31\n",
      "55\n",
      "56\n",
      "555\n"
     ]
    }
   ],
   "source": [
    "# input = [5,55,555] / [10,31,56] (two sorted list)\n",
    "\n",
    "if __name__ == '__main__':  # import가 아닌, 자체로 직접 실행하는 경우에 대해서만~\n",
    "    #  즉, 이 아래는 직접 실행시켰을 때만 실행되길 원하는 코드들을 넣어주는 것\n",
    "    \n",
    "    # 모듈을 불러와서 사용하는 코딩에서, 효율적으로 작업하기 위함.\n",
    "    # 내가 작업하는 공간에다가 정의하는게아니라, 불러오려는 모듈에다가 설정해놓고 쓰는거임.\n",
    "    # 즉, 내가 작업하는 공간에서만 실행하라는 코드임.\n",
    "    \n",
    "    l1_node3 = ListNode(555,None)\n",
    "    l1_node2 = ListNode(55,l1_node3)\n",
    "    l1_node1 = ListNode(5,l1_node2)\n",
    "    \n",
    "    l2_node3 = ListNode(56,None)\n",
    "    l2_node2 = ListNode(31,l2_node3)\n",
    "    l2_node1 = ListNode(10,l2_node2)\n",
    "    \n",
    "    solution = Solution()\n",
    "    tt = solution.mergeTwoLists(l1_node1,l2_node1)\n",
    "    while tt != None:\n",
    "        print(tt.val)\n",
    "        tt = tt.next\n",
    "        \n",
    "# 잘 만들어지고 있는지 확인 가능."
   ]
  },
  {
   "cell_type": "code",
   "execution_count": null,
   "metadata": {},
   "outputs": [],
   "source": [
    "Solution().mergeTwoLists(l1_node1,l2_node1).val"
   ]
  },
  {
   "cell_type": "markdown",
   "metadata": {},
   "source": [
    "### 다른사람 코드"
   ]
  },
  {
   "cell_type": "code",
   "execution_count": 16,
   "metadata": {},
   "outputs": [],
   "source": [
    "class ListNode:\n",
    "    def __init__(self, val=0, next=None):\n",
    "        self.val = val\n",
    "        self.next = next\n",
    "\n",
    "class Solution:\n",
    "    def mergeTwoLists(self, l1: ListNode, l2: ListNode) -> ListNode:\n",
    "        \n",
    "        temp = None\n",
    "        \n",
    "        if l1 is None:\n",
    "            return l2\n",
    "        if l2 is None:\n",
    "            return l1\n",
    "        \n",
    "        if l1.val <= l2.val:\n",
    "            temp = l1\n",
    "            temp.next = self.mergeTwoLists(l1.next, l2)\n",
    "        else:\n",
    "            temp = l2\n",
    "            temp.next = self.mergeTwoLists(l1, l2.next)\n",
    "            \n",
    "        return temp"
   ]
  }
 ],
 "metadata": {
  "kernelspec": {
   "display_name": "Python 3",
   "language": "python",
   "name": "python3"
  },
  "language_info": {
   "codemirror_mode": {
    "name": "ipython",
    "version": 3
   },
   "file_extension": ".py",
   "mimetype": "text/x-python",
   "name": "python",
   "nbconvert_exporter": "python",
   "pygments_lexer": "ipython3",
   "version": "3.7.3"
  }
 },
 "nbformat": 4,
 "nbformat_minor": 2
}
