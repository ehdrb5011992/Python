{
 "cells": [
  {
   "cell_type": "markdown",
   "metadata": {},
   "source": [
    "출처 : https://leetcode.com/problems/sqrtx/"
   ]
  },
  {
   "cell_type": "markdown",
   "metadata": {},
   "source": [
    "# 문제\n",
    "\n",
    "Implement int sqrt(int x).\n",
    "\n",
    "Compute and return the square root of x, where x is guaranteed to be a non-negative integer.\n",
    "\n",
    "Since the return type is an integer, the decimal digits are truncated and only the integer part of the result is returned.\n",
    "\n",
    "Example 1:\n",
    "```\n",
    "Input: 4\n",
    "Output: 2\n",
    "```\n",
    "Example 2:\n",
    "```\n",
    "Input: 8\n",
    "Output: 2\n",
    "\n",
    "Explanation: The square root of 8 is 2.82842..., and since \n",
    "             the decimal part is truncated, 2 is returned.\n",
    "```"
   ]
  },
  {
   "cell_type": "markdown",
   "metadata": {},
   "source": [
    "### 내코드"
   ]
  },
  {
   "cell_type": "code",
   "execution_count": null,
   "metadata": {},
   "outputs": [],
   "source": [
    "class Solution:\n",
    "    def mySqrt(self, x: int) -> int:\n",
    "        return int(x ** 0.5)"
   ]
  },
  {
   "cell_type": "markdown",
   "metadata": {},
   "source": [
    "### 다른사람 코드"
   ]
  },
  {
   "cell_type": "markdown",
   "metadata": {},
   "source": [
    "이진탐색 // 배열에 저장된 원소는 정렬됨을 기본으로 한다.\n",
    "\n",
    "원래는 이진탐색이 index를 기준으로 이루어지지만, 여기서는 index간격이 일정하므로 값의 더함으로 해도 무방."
   ]
  },
  {
   "cell_type": "code",
   "execution_count": null,
   "metadata": {},
   "outputs": [],
   "source": [
    "class Solution:\n",
    "    def mySqrt(self, x: int) -> int:\n",
    "        if x == 1:\n",
    "            return 1\n",
    "\n",
    "        lower = 0\n",
    "        upper = x // 2 if x > 5 else x\n",
    "        middle = (lower + upper) // 2 # 초기값 설정.\n",
    "\n",
    "        while True:\n",
    "            if middle * middle == x:\n",
    "                return middle\n",
    "            elif middle * middle > x: # 오른쪽\n",
    "                upper = middle\n",
    "            else: # 왼쪽\n",
    "                lower = middle\n",
    "\n",
    "            if (lower + upper) // 2 == middle:\n",
    "                return middle\n",
    "            middle = (lower + upper) // 2 # 계속 빙글빙글 돌아가면서 찾음."
   ]
  }
 ],
 "metadata": {
  "kernelspec": {
   "display_name": "Python 3",
   "language": "python",
   "name": "python3"
  },
  "language_info": {
   "codemirror_mode": {
    "name": "ipython",
    "version": 3
   },
   "file_extension": ".py",
   "mimetype": "text/x-python",
   "name": "python",
   "nbconvert_exporter": "python",
   "pygments_lexer": "ipython3",
   "version": "3.7.3"
  }
 },
 "nbformat": 4,
 "nbformat_minor": 2
}
