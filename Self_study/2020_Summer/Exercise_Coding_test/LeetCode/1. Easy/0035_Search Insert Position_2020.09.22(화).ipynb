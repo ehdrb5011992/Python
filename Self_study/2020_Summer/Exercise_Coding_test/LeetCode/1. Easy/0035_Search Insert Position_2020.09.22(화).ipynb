{
 "cells": [
  {
   "cell_type": "markdown",
   "metadata": {},
   "source": [
    "출처 : https://leetcode.com/problems/search-insert-position/"
   ]
  },
  {
   "cell_type": "markdown",
   "metadata": {},
   "source": [
    "# 문제\n",
    "\n",
    "Given a sorted array and a target value, return the index if the target is found. If not, return the index where it would be if it were inserted in order.\n",
    "\n",
    "You may assume no duplicates in the array.\n",
    "\n",
    "Example 1:\n",
    "```\n",
    "Input: [1,3,5,6], 5\n",
    "Output: 2\n",
    "```\n",
    "Example 2:\n",
    "```\n",
    "Input: [1,3,5,6], 2\n",
    "Output: 1\n",
    "```\n",
    "Example 3:\n",
    "```\n",
    "Input: [1,3,5,6], 7\n",
    "Output: 4\n",
    "```\n",
    "Example 4:\n",
    "```\n",
    "Input: [1,3,5,6], 0\n",
    "Output: 0\n",
    "```"
   ]
  },
  {
   "cell_type": "markdown",
   "metadata": {},
   "source": [
    "### 내코드"
   ]
  },
  {
   "cell_type": "markdown",
   "metadata": {},
   "source": [
    "24.30% faster"
   ]
  },
  {
   "cell_type": "code",
   "execution_count": 24,
   "metadata": {},
   "outputs": [],
   "source": [
    "class Solution:\n",
    "    def searchInsert(self, nums: list, target: int) -> int:\n",
    "        \n",
    "        if target in nums:\n",
    "            return nums.index(target)\n",
    "        elif target < nums[0] :\n",
    "            return 0\n",
    "        elif target > nums[-1] :\n",
    "            return len(nums)\n",
    "        else:\n",
    "            for ind in range(len(nums)-1):\n",
    "                if nums[ind] < target and target < nums[ind+1]:\n",
    "                    return ind+1"
   ]
  },
  {
   "cell_type": "code",
   "execution_count": 26,
   "metadata": {},
   "outputs": [
    {
     "data": {
      "text/plain": [
       "0"
      ]
     },
     "execution_count": 26,
     "metadata": {},
     "output_type": "execute_result"
    }
   ],
   "source": [
    "Solution().searchInsert([1],0)"
   ]
  },
  {
   "cell_type": "markdown",
   "metadata": {},
   "source": [
    "### 다른사람 코드"
   ]
  },
  {
   "cell_type": "markdown",
   "metadata": {},
   "source": [
    "59.7% faster"
   ]
  },
  {
   "cell_type": "code",
   "execution_count": 28,
   "metadata": {},
   "outputs": [],
   "source": [
    "class Solution(object):\n",
    "    def searchInsert(self, nums, target):\n",
    "        \"\"\"\n",
    "        :type nums: List[int]\n",
    "        :type target: int\n",
    "        :rtype: int\n",
    "        \"\"\"\n",
    "        if target in nums:\n",
    "            return nums.index(target)\n",
    "        \n",
    "        nums.append(target)\n",
    "        nums.sort()\n",
    "        return nums.index(target)"
   ]
  },
  {
   "cell_type": "markdown",
   "metadata": {},
   "source": [
    "98.62% faster"
   ]
  },
  {
   "cell_type": "markdown",
   "metadata": {},
   "source": [
    "사용된 알고리즘: 이진탐색"
   ]
  },
  {
   "cell_type": "markdown",
   "metadata": {},
   "source": [
    "binary search : https://www.fun-coding.org/Chapter16-binarysearch.html 참고"
   ]
  },
  {
   "cell_type": "code",
   "execution_count": null,
   "metadata": {},
   "outputs": [],
   "source": [
    "def binary_search_for_closest(arr, left, right, target):\n",
    "    if left <= right:\n",
    "        mid = (left+right) // 2\n",
    "        if arr[mid] == target:    # case 0\n",
    "            return mid\n",
    "        if mid == 0 and arr[mid] >= target:       # case 1\n",
    "                return mid\n",
    "        if arr[mid] > target and arr[mid-1] < target:   # case 2\n",
    "            return mid\n",
    "        if mid+1 == len(arr):   # case 3\n",
    "            return mid+1\n",
    "        if arr[mid] < target and arr[mid+1] > target:   # case 4\n",
    "            return mid+1\n",
    "        if arr[mid] > target:   # usual binary search traversal\n",
    "            return binary_search_for_closest(arr, left, mid-1, target)\n",
    "        return binary_search_for_closest(arr, mid+1, right, target)\n",
    "\n",
    "class Solution:\n",
    "    def searchInsert(self, nums: List[int], target: int) -> int:\n",
    "        res = binary_search_for_closest(nums, 0, len(nums)-1, target)\n",
    "        return res"
   ]
  }
 ],
 "metadata": {
  "kernelspec": {
   "display_name": "Python 3",
   "language": "python",
   "name": "python3"
  },
  "language_info": {
   "codemirror_mode": {
    "name": "ipython",
    "version": 3
   },
   "file_extension": ".py",
   "mimetype": "text/x-python",
   "name": "python",
   "nbconvert_exporter": "python",
   "pygments_lexer": "ipython3",
   "version": "3.7.3"
  }
 },
 "nbformat": 4,
 "nbformat_minor": 2
}
