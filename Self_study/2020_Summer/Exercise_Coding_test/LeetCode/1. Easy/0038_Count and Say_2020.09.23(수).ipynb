{
 "cells": [
  {
   "cell_type": "markdown",
   "metadata": {},
   "source": [
    "출처 : https://leetcode.com/problems/count-and-say/"
   ]
  },
  {
   "cell_type": "markdown",
   "metadata": {},
   "source": [
    "# 문제\n",
    "\n",
    "The count-and-say sequence is the sequence of integers with the first five terms as following:\n",
    "```\n",
    "1.     1\n",
    "2.     11\n",
    "3.     21\n",
    "4.     1211\n",
    "5.     111221\n",
    "\n",
    "1 is read off as \"one 1\" or 11.\n",
    "11 is read off as \"two 1s\" or 21.\n",
    "21 is read off as \"one 2, then one 1\" or 1211.\n",
    "```\n",
    "Given an integer n where 1 ≤ n ≤ 30, generate the nth term of the count-and-say sequence. You can do so recursively, in other words from the previous member read off the digits, counting the number of digits in groups of the same digit.\n",
    "\n",
    "Note: Each term of the sequence of integers will be represented as a string.\n",
    "\n",
    " \n",
    "```\n",
    "Example 1:\n",
    "\n",
    "Input: 1\n",
    "Output: \"1\"\n",
    "Explanation: This is the base case.\n",
    "```\n",
    "Example 2:\n",
    "```\n",
    "Input: 4\n",
    "Output: \"1211\"\n",
    "Explanation: For n = 3 the term was \"21\" in which we have two groups \"2\" and \"1\", \"2\" can be read as \"12\" which means frequency = 1 and value = 2, the same way \"1\" is read as \"11\", so the answer is the concatenation of \"12\" and \"11\" which is \"1211\".\n",
    "```"
   ]
  },
  {
   "cell_type": "markdown",
   "metadata": {},
   "source": [
    "### 내코드"
   ]
  },
  {
   "cell_type": "markdown",
   "metadata": {},
   "source": [
    "63.7% faster"
   ]
  },
  {
   "cell_type": "code",
   "execution_count": 93,
   "metadata": {},
   "outputs": [],
   "source": [
    "class Solution:\n",
    "    \n",
    "    def make_ans(self, start):\n",
    "        answer = []\n",
    "        storage = []\n",
    "\n",
    "        if len(start) == 1:\n",
    "            return \"11\"\n",
    "\n",
    "        for i in range(len(start)-1):\n",
    "\n",
    "            cur = start[i]\n",
    "            next = start[i+1]\n",
    "            storage.append(cur)\n",
    "\n",
    "            if cur != next:\n",
    "                answer.append(str(len(storage)))\n",
    "                answer.append(cur)\n",
    "                storage = []\n",
    "        else:\n",
    "            if next == start[-1]:\n",
    "                storage.append(start[-1])\n",
    "                answer.append(str(len(storage)))\n",
    "                answer.append(next)\n",
    "            else:\n",
    "                answer.append(str(len(storage)))\n",
    "                answer.append(next)\n",
    "                answer.append(1)\n",
    "                answer.append(start[-1])\n",
    "        return ''.join(answer)\n",
    "    \n",
    "    def countAndSay(self, n: int) -> str:\n",
    "        answer = '1'\n",
    "        for _ in range(n-1):\n",
    "            answer = self.make_ans(answer)\n",
    "        return answer\n",
    "      "
   ]
  },
  {
   "cell_type": "markdown",
   "metadata": {},
   "source": [
    "### 다른사람 코드"
   ]
  },
  {
   "cell_type": "markdown",
   "metadata": {},
   "source": [
    "83.9% faster"
   ]
  },
  {
   "cell_type": "code",
   "execution_count": null,
   "metadata": {},
   "outputs": [],
   "source": [
    "class Solution:\n",
    "    def countAndSay(self, n: int) -> str:\n",
    "        res = \"1\"\n",
    "        i = 2\n",
    "        while i <= n:\n",
    "            size = len(res)\n",
    "            j =1\n",
    "            res2 =''\n",
    "            while j <= size:\n",
    "                amount = 1\n",
    "                while j< size and res[j] == res[j-1]:\n",
    "                    j+=1\n",
    "                    amount+=1\n",
    "                res2 += str(amount) + res[j-1]\n",
    "                j+=1\n",
    "            res = res2    \n",
    "            i+=1\n",
    "            \n",
    "        return res"
   ]
  }
 ],
 "metadata": {
  "kernelspec": {
   "display_name": "Python 3",
   "language": "python",
   "name": "python3"
  },
  "language_info": {
   "codemirror_mode": {
    "name": "ipython",
    "version": 3
   },
   "file_extension": ".py",
   "mimetype": "text/x-python",
   "name": "python",
   "nbconvert_exporter": "python",
   "pygments_lexer": "ipython3",
   "version": "3.7.3"
  }
 },
 "nbformat": 4,
 "nbformat_minor": 2
}
