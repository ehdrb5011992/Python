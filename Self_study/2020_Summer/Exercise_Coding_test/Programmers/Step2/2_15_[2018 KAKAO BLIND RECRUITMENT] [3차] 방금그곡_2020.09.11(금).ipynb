{
 "cells": [
  {
   "cell_type": "markdown",
   "metadata": {},
   "source": [
    "출처 : https://programmers.co.kr/learn/courses/30/lessons/17683"
   ]
  },
  {
   "cell_type": "markdown",
   "metadata": {},
   "source": [
    "# 문제\n",
    "\n",
    "라디오를 자주 듣는 네오는 라디오에서 방금 나왔던 음악이 무슨 음악인지 궁금해질 때가 많다. \n",
    "\n",
    "그럴 때 네오는 다음 포털의 '방금그곡' 서비스를 이용하곤 한다. \n",
    "\n",
    "방금그곡에서는 TV, 라디오 등에서 나온 음악에 관해 제목 등의 정보를 제공하는 서비스이다.\n",
    "\n",
    "네오는 자신이 기억한 멜로디를 가지고 방금그곡을 이용해 음악을 찾는다. \n",
    "\n",
    "그런데 라디오 방송에서는 한 음악을 반복해서 재생할 때도 있어서 네오가 기억하고 있는 멜로디는 음악 끝부분과 처음 부분이 이어서 재생된 멜로디일 수도 있다. 반대로, 한 음악을 중간에 끊을 경우 원본 음악에는 네오가 기억한 멜로디가 들어있다 해도 그 곡이 네오가 들은 곡이 아닐 수도 있다. \n",
    "\n",
    "그렇기 때문에 네오는 기억한 멜로디를 재생 시간과 제공된 악보를 직접 보면서 비교하려고 한다. 다음과 같은 가정을 할 때 네오가 찾으려는 음악의 제목을 구하여라.\n",
    "```\n",
    "방금그곡 서비스에서는 음악 제목, 재생이 시작되고 끝난 시각, 악보를 제공한다.\n",
    "네오가 기억한 멜로디와 악보에 사용되는 음은 C, C#, D, D#, E, F, F#, G, G#, A, A#, B 12개이다.\n",
    "각 음은 1분에 1개씩 재생된다. \n",
    "음악은 반드시 처음부터 재생되며 음악 길이보다 재생된 시간이 길 때는 음악이 끊김 없이 처음부터 반복해서 재생된다.\n",
    "음악 길이보다 재생된 시간이 짧을 때는 처음부터 재생 시간만큼만 재생된다.\n",
    "음악이 00:00를 넘겨서까지 재생되는 일은 없다.\n",
    "조건이 일치하는 음악이 여러 개일 때에는 라디오에서 재생된 시간이 제일 긴 음악 제목을 반환한다. \n",
    "재생된 시간도 같을 경우 먼저 입력된 음악 제목을 반환한다.\n",
    "조건이 일치하는 음악이 없을 때에는 `(None)`을 반환한다.\n",
    "```\n",
    "입력 형식\n",
    "```\n",
    "입력으로 네오가 기억한 멜로디를 담은 문자열 m과 방송된 곡의 정보를 담고 있는 배열 musicinfos가 주어진다.\n",
    "\n",
    "m은 음 1개 이상 1439개 이하로 구성되어 있다.\n",
    "musicinfos는 100개 이하의 곡 정보를 담고 있는 배열로, 각각의 곡 정보는 음악이 시작한 시각, 끝난 시각, 음악 제목, 악보 정보가 ','로 구분된 문자열이다.\n",
    "음악의 시작 시각과 끝난 시각은 24시간 HH:MM 형식이다.\n",
    "음악 제목은 ',' 이외의 출력 가능한 문자로 표현된 길이 1 이상 64 이하의 문자열이다.\n",
    "악보 정보는 음 1개 이상 1439개 이하로 구성되어 있다.\n",
    "```\n",
    "출력 형식\n",
    "```\n",
    "조건과 일치하는 음악 제목을 출력한다.\n",
    "```\n",
    "입출력 예시\n",
    "```\n",
    "m\tmusicinfos\tanswer\n",
    "ABCDEFG\t[12:00,12:14,HELLO,CDEFGAB, 13:00,13:05,WORLD,ABCDEF]\tHELLO\n",
    "CC#BCC#BCC#BCC#B\t[03:00,03:30,FOO,CC#B, 04:00,04:08,BAR,CC#BCC#BCC#B]\tFOO\n",
    "ABC\t[12:00,12:14,HELLO,C#DEFGAB, 13:00,13:05,WORLD,ABCDEF]\tWORLD\n",
    "```\n",
    "설명\n",
    "```\n",
    "첫 번째 예시에서 HELLO는 길이가 7분이지만 12:00부터 12:14까지 재생되었으므로 실제로 CDEFGABCDEFGAB로 재생되었고, 이 중에 기억한 멜로디인 ABCDEFG가 들어있다.\n",
    "세 번째 예시에서 HELLO는 C#DEFGABC#DEFGAB로, WORLD는 ABCDE로 재생되었다. HELLO 안에 있는 ABC#은 기억한 멜로디인 ABC와 일치하지 않고, WORLD 안에 있는 ABC가 기억한 멜로디와 일치한다.\n",
    "```"
   ]
  },
  {
   "cell_type": "markdown",
   "metadata": {},
   "source": [
    "### 내코드"
   ]
  },
  {
   "cell_type": "code",
   "execution_count": 84,
   "metadata": {},
   "outputs": [],
   "source": [
    "m = 'ABCDEFG' ; musicinfos =  ['12:00,12:14,HELLO,CDEFGAB', '13:00,13:05,WORLD,ABCDEF']"
   ]
  },
  {
   "cell_type": "code",
   "execution_count": 95,
   "metadata": {},
   "outputs": [],
   "source": [
    "def solution(m, musicinfos):\n",
    "    \n",
    "    def change(rhythm):\n",
    "        rhythm = rhythm.replace(\"C#\", \"c\").replace(\"D#\", \"d\").replace(\"F#\", \"f\").replace(\"G#\", \"g\").replace(\"A#\", \"a\")\n",
    "        return rhythm\n",
    "    \n",
    "    def time_delta(start,end):\n",
    "        start =[int(time) for time in start.split(':')]\n",
    "        end = [int(time) for time in end.split(':')]\n",
    "        return (end[0]-start[0])*60 + (end[1]-start[1])\n",
    "    \n",
    "    music_dic = dict()\n",
    "    answer = [\"\",\"\"]\n",
    "    m = change(m)\n",
    "    \n",
    "    for music in musicinfos:\n",
    "        start, end, name, rhythm = music.split(',')\n",
    "        rhythm = change(rhythm)\n",
    "        delta_of_time = time_delta(start,end)\n",
    "        \n",
    "        rhythm = rhythm*(delta_of_time//len(rhythm)) + rhythm[0:delta_of_time%len(rhythm)]\n",
    "        music_dic[name] = rhythm\n",
    "        \n",
    "    for key,value in music_dic.items():\n",
    "        if m in value:\n",
    "            if len(answer[1]) < len(value): \n",
    "                answer[0] = key\n",
    "                answer[1] = value\n",
    "                \n",
    "    return \"(None)\" if len(answer[0]) == 0 else answer[0]"
   ]
  },
  {
   "cell_type": "code",
   "execution_count": 96,
   "metadata": {},
   "outputs": [
    {
     "data": {
      "text/plain": [
       "'HELLO'"
      ]
     },
     "execution_count": 96,
     "metadata": {},
     "output_type": "execute_result"
    }
   ],
   "source": [
    "solution(m,musicinfos)"
   ]
  },
  {
   "cell_type": "markdown",
   "metadata": {},
   "source": [
    "### 다른 사람 코드\n"
   ]
  },
  {
   "cell_type": "code",
   "execution_count": null,
   "metadata": {},
   "outputs": [],
   "source": [
    "class Music:\n",
    "    def __init__(self, start_time, end_time, name, sound):\n",
    "        self.start_time = start_time\n",
    "        self.end_time = end_time\n",
    "        self.name = name\n",
    "        self.sound = sound\n",
    "\n",
    "        self.set_music_time()\n",
    "        self.set_full_sound()\n",
    "\n",
    "    def set_music_time(self):\n",
    "        start = self.start_time.split(\":\")\n",
    "        end = self.end_time.split(\":\")\n",
    "\n",
    "        hours = int(start[0]) - int(end[0])\n",
    "        minutes = int(start[1]) - int(end[1])\n",
    "\n",
    "        time = (hours * 60) + minutes\n",
    "\n",
    "        if time < 0:\n",
    "            self.run_time = -time\n",
    "        else:\n",
    "            self.run_time = time\n",
    "\n",
    "    def set_full_sound(self):\n",
    "        self.full_sound = str()\n",
    "\n",
    "        if len(self.sound) >= self.run_time:\n",
    "            self.full_sound = self.sound[:self.run_time]\n",
    "        else:\n",
    "            tmp = self.run_time / len(self.sound)\n",
    "            self.full_sound += self.sound * int(tmp)\n",
    "\n",
    "            tmp = self.run_time % len(self.sound)\n",
    "            self.full_sound += self.sound[:int(tmp)]\n",
    "\n",
    "    def contain_sound(self, m):\n",
    "        if m in self.full_sound:\n",
    "            return True\n",
    "\n",
    "        return False\n",
    "\n",
    "    def __str__(self):\n",
    "        return \"\"\"\n",
    "        name: %s\n",
    "        start_time: %s\n",
    "        end_time: %s\n",
    "        run_time: %s\n",
    "        sound: %s\n",
    "        full_sound: %s\n",
    "        \"\"\" % (self.name, self.start_time, self.end_time, self.run_time, self.sound, self.full_sound)\n",
    "\n",
    "    def __lt__(self, other):\n",
    "        return self.run_time > other.run_time\n",
    "\n",
    "def set_music(music_info):\n",
    "\n",
    "    return Music(music_info.split(\",\")[0],\n",
    "                 music_info.split(\",\")[1],\n",
    "                 music_info.split(\",\")[2],\n",
    "                 encode_sound(music_info.split(\",\")[3]))\n",
    "\n",
    "def encode_sound(before_sound):\n",
    "    encode = before_sound\n",
    "    sound_encodes = ['C#', 'D#', 'F#', 'G#', 'A#']\n",
    "    sound_decodes = ['c', 'd', 'f', 'g', 'a']\n",
    "\n",
    "    for sound_encode, sound_decode in zip(sound_encodes, sound_decodes):\n",
    "        if sound_encode in encode:\n",
    "            encode = encode.replace(sound_encode, sound_decode)\n",
    "\n",
    "    return encode\n",
    "\n",
    "def solution(m, musicinfos):\n",
    "    answer = \"(None)\"\n",
    "\n",
    "    tmp_answer = []\n",
    "    for musicinfo in musicinfos:\n",
    "        tmp = set_music(musicinfo)\n",
    "        if tmp.contain_sound(encode_sound(m)):\n",
    "            tmp_answer.append(tmp)\n",
    "\n",
    "    if len(tmp_answer) != 0:\n",
    "        answer = sorted(tmp_answer)[0].name\n",
    "\n",
    "    return answer"
   ]
  }
 ],
 "metadata": {
  "kernelspec": {
   "display_name": "Python 3",
   "language": "python",
   "name": "python3"
  },
  "language_info": {
   "codemirror_mode": {
    "name": "ipython",
    "version": 3
   },
   "file_extension": ".py",
   "mimetype": "text/x-python",
   "name": "python",
   "nbconvert_exporter": "python",
   "pygments_lexer": "ipython3",
   "version": "3.7.3"
  }
 },
 "nbformat": 4,
 "nbformat_minor": 2
}
