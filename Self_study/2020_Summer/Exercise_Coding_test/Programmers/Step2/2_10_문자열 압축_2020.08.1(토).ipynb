{
 "cells": [
  {
   "cell_type": "markdown",
   "metadata": {},
   "source": [
    "출처 : https://programmers.co.kr/learn/courses/30/lessons/60057?language=python3"
   ]
  },
  {
   "cell_type": "markdown",
   "metadata": {},
   "source": [
    "# 문제\n",
    "\n",
    "데이터 처리 전문가가 되고 싶은 어피치는 문자열을 압축하는 방법에 대해 공부를 하고 있습니다. \n",
    "\n",
    "최근에 대량의 데이터 처리를 위한 간단한 비손실 압축 방법에 대해 공부를 하고 있는데, 문자열에서 같은 값이 연속해서 나타나는 것을 그 문자의 개수와 반복되는 값으로 표현하여 더 짧은 문자열로 줄여서 표현하는 알고리즘을 공부하고 있습니다.\n",
    "\n",
    "간단한 예로 aabbaccc의 경우 2a2ba3c(문자가 반복되지 않아 한번만 나타난 경우 1은 생략함)와 같이 표현할 수 있는데, 이러한 방식은 반복되는 문자가 적은 경우 압축률이 낮다는 단점이 있습니다. \n",
    "\n",
    "예를 들면, abcabcdede와 같은 문자열은 전혀 압축되지 않습니다. \n",
    "\n",
    "어피치는 이러한 단점을 해결하기 위해 문자열을 1개 이상의 단위로 잘라서 압축하여 더 짧은 문자열로 표현할 수 있는지 방법을 찾아보려고 합니다.\n",
    "\n",
    "예를 들어, ababcdcdababcdcd의 경우 문자를 1개 단위로 자르면 전혀 압축되지 않지만, 2개 단위로 잘라서 압축한다면 2ab2cd2ab2cd로 표현할 수 있습니다. 다른 방법으로 8개 단위로 잘라서 압축한다면 2ababcdcd로 표현할 수 있으며, 이때가 가장 짧게 압축하여 표현할 수 있는 방법입니다.\n",
    "\n",
    "다른 예로, abcabcdede와 같은 경우, 문자를 2개 단위로 잘라서 압축하면 abcabc2de가 되지만, 3개 단위로 자른다면 2abcdede가 되어 3개 단위가 가장 짧은 압축 방법이 됩니다. 이때 3개 단위로 자르고 마지막에 남는 문자열은 그대로 붙여주면 됩니다.\n",
    "\n",
    "압축할 문자열 s가 매개변수로 주어질 때, 위에 설명한 방법으로 1개 이상 단위로 문자열을 잘라 압축하여 표현한 문자열 중 가장 짧은 것의 길이를 return 하도록 solution 함수를 완성해주세요.\n",
    "\n",
    "제한사항\n",
    "```\n",
    "s의 길이는 1 이상 1,000 이하입니다.\n",
    "s는 알파벳 소문자로만 이루어져 있습니다.\n",
    "입출력 예\n",
    "s\tresult\n",
    "\"aabbaccc\"\t7\n",
    "\"ababcdcdababcdcd\"\t9\n",
    "\"abcabcdede\"\t8\n",
    "\"abcabcabcabcdededededede\"\t14\n",
    "\"xababcdcdababcdcd\"\t17\n",
    "```\n",
    "입출력 예에 대한 설명\n",
    "```\n",
    "입출력 예 #1\n",
    "\n",
    "문자열을 1개 단위로 잘라 압축했을 때 가장 짧습니다.\n",
    "\n",
    "입출력 예 #2\n",
    "\n",
    "문자열을 8개 단위로 잘라 압축했을 때 가장 짧습니다.\n",
    "\n",
    "입출력 예 #3\n",
    "\n",
    "문자열을 3개 단위로 잘라 압축했을 때 가장 짧습니다.\n",
    "\n",
    "입출력 예 #4\n",
    "\n",
    "문자열을 2개 단위로 자르면 abcabcabcabc6de 가 됩니다.\n",
    "문자열을 3개 단위로 자르면 4abcdededededede 가 됩니다.\n",
    "문자열을 4개 단위로 자르면 abcabcabcabc3dede 가 됩니다.\n",
    "문자열을 6개 단위로 자를 경우 2abcabc2dedede가 되며, 이때의 길이가 14로 가장 짧습니다.\n",
    "\n",
    "입출력 예 #5\n",
    "\n",
    "문자열은 제일 앞부터 정해진 길이만큼 잘라야 합니다.\n",
    "따라서 주어진 문자열을 x / ababcdcd / ababcdcd 로 자르는 것은 불가능 합니다.\n",
    "이 경우 어떻게 문자열을 잘라도 압축되지 않으므로 가장 짧은 길이는 17이 됩니다.\n",
    "```"
   ]
  },
  {
   "cell_type": "markdown",
   "metadata": {},
   "source": [
    "### 내코드"
   ]
  },
  {
   "cell_type": "code",
   "execution_count": null,
   "metadata": {},
   "outputs": [],
   "source": [
    "# # 참고 약수 리스트\n",
    "\n",
    "# def gcd(num) :\n",
    "#     num_list = []\n",
    "#     for i in range(1,int(np.sqrt(num)+1)):\n",
    "#         if num % i ==0 :\n",
    "#             num_list.append(i)\n",
    "#             num_list.append(int(num // i))\n",
    "\n",
    "#     temp = list(set(sorted(num_list)))\n",
    "\n",
    "#     return temp"
   ]
  },
  {
   "cell_type": "code",
   "execution_count": 9,
   "metadata": {},
   "outputs": [],
   "source": [
    "import numpy as np\n",
    "\n",
    "def solution(s):\n",
    "    \n",
    "    if len(s) == 1:\n",
    "        return 1\n",
    "    \n",
    "    strings = []\n",
    "\n",
    "    for split in range(1,len(s)//2 +1):\n",
    "\n",
    "        string = []\n",
    "        eq_count = 1\n",
    "\n",
    "        for batch in range(len(s)//split):\n",
    "            text = s[batch*split:(batch+1)*split]\n",
    "            string.append(text)\n",
    "        else:\n",
    "            string.append(s[(batch+1)*split:])\n",
    "            \n",
    "        string.append(-1)\n",
    "        \n",
    "        \n",
    "        eq_count = 1\n",
    "        eq_count_list = []\n",
    "\n",
    "        for i in range(len(string)-1):\n",
    "\n",
    "            if string[i] == string[i+1]:\n",
    "                eq_count += 1\n",
    "            else :\n",
    "                eq_count_list.append(eq_count)\n",
    "                eq_count = 1\n",
    "\n",
    "        ind = 0\n",
    "        while True:\n",
    "\n",
    "            if string[ind] == -1:\n",
    "                break\n",
    "\n",
    "            if string[ind] == string[ind+1]:\n",
    "                del string[ind]\n",
    "            else :\n",
    "                ind += 1\n",
    "\n",
    "        str_list = string[:-1]\n",
    "\n",
    "        answer_part = []\n",
    "        for i in range(len(eq_count_list)):\n",
    "            if eq_count_list[i] == 1:\n",
    "                answer_part.append(str_list[i])\n",
    "            else:\n",
    "                answer_part.append(str(eq_count_list[i]))\n",
    "                answer_part.append(str_list[i])\n",
    "\n",
    "        answer_part=''.join(answer_part)\n",
    "        answer_part_len = len(answer_part)\n",
    "\n",
    "        strings.append([answer_part,answer_part_len])\n",
    "    \n",
    "    \n",
    "    \n",
    "    return min(strings, key= lambda x: x[1])[1]"
   ]
  },
  {
   "cell_type": "code",
   "execution_count": 10,
   "metadata": {},
   "outputs": [
    {
     "data": {
      "text/plain": [
       "1"
      ]
     },
     "execution_count": 10,
     "metadata": {},
     "output_type": "execute_result"
    }
   ],
   "source": [
    "solution('a')"
   ]
  },
  {
   "cell_type": "markdown",
   "metadata": {},
   "source": [
    "### 다른 사람 코드\n"
   ]
  },
  {
   "cell_type": "code",
   "execution_count": 12,
   "metadata": {},
   "outputs": [],
   "source": [
    "def compress(text, tok_len):\n",
    "    words = [text[i:i+tok_len] for i in range(0, len(text), tok_len)]\n",
    "    res = []\n",
    "    cur_word = words[0]\n",
    "    cur_cnt = 1\n",
    "    for a, b in zip(words, words[1:] + ['']):\n",
    "        if a == b:\n",
    "            cur_cnt += 1\n",
    "        else:\n",
    "            res.append([cur_word, cur_cnt])\n",
    "            cur_word = b\n",
    "            cur_cnt = 1\n",
    "    return sum(len(word) + (len(str(cnt)) if cnt > 1 else 0) for word, cnt in res)\n",
    "\n",
    "def solution(text):\n",
    "    return min(compress(text, tok_len) for tok_len in list(range(1, int(len(text)/2) + 1)) + [len(text)])\n"
   ]
  },
  {
   "cell_type": "code",
   "execution_count": 13,
   "metadata": {},
   "outputs": [
    {
     "name": "stdout",
     "output_type": "stream",
     "text": [
      "7\n",
      "9\n",
      "8\n",
      "14\n",
      "17\n",
      "2\n"
     ]
    }
   ],
   "source": [
    "a = [\n",
    "    \"aabbaccc\",\n",
    "    \"ababcdcdababcdcd\",\n",
    "    \"abcabcdede\",\n",
    "    \"abcabcabcabcdededededede\",\n",
    "    \"xababcdcdababcdcd\",\n",
    "\n",
    "    'aaaaaa',\n",
    "]\n",
    "\n",
    "for x in a:\n",
    "    print(solution(x))"
   ]
  }
 ],
 "metadata": {
  "kernelspec": {
   "display_name": "Python 3",
   "language": "python",
   "name": "python3"
  },
  "language_info": {
   "codemirror_mode": {
    "name": "ipython",
    "version": 3
   },
   "file_extension": ".py",
   "mimetype": "text/x-python",
   "name": "python",
   "nbconvert_exporter": "python",
   "pygments_lexer": "ipython3",
   "version": "3.7.3"
  }
 },
 "nbformat": 4,
 "nbformat_minor": 2
}
