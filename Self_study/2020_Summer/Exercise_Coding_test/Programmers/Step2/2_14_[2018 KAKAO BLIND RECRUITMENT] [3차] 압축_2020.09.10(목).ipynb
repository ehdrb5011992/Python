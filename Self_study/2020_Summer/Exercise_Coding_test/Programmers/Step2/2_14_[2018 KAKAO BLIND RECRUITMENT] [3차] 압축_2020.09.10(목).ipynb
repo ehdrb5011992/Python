{
 "cells": [
  {
   "cell_type": "markdown",
   "metadata": {},
   "source": [
    "출처 : https://programmers.co.kr/learn/courses/30/lessons/17684"
   ]
  },
  {
   "cell_type": "markdown",
   "metadata": {},
   "source": [
    "# 문제\n",
    "\n",
    "신입사원 어피치는 카카오톡으로 전송되는 메시지를 압축하여 전송 효율을 높이는 업무를 맡게 되었다.\n",
    "\n",
    "메시지를 압축하더라도 전달되는 정보가 바뀌어서는 안 되므로, 압축 전의 정보를 완벽하게 복원 가능한 무손실 압축 알고리즘을 구현하기로 했다.\n",
    "\n",
    "어피치는 여러 압축 알고리즘 중에서 성능이 좋고 구현이 간단한 LZW(Lempel–Ziv–Welch) 압축을 구현하기로 했다.\n",
    "\n",
    "LZW 압축은 1983년 발표된 알고리즘으로, 이미지 파일 포맷인 GIF 등 다양한 응용에서 사용되었다.\n",
    "\n",
    "LZW 압축은 다음 과정을 거친다.\n",
    "```\n",
    "길이가 1인 모든 단어를 포함하도록 사전을 초기화한다.\n",
    "사전에서 현재 입력과 일치하는 가장 긴 문자열 w를 찾는다.\n",
    "w에 해당하는 사전의 색인 번호를 출력하고, 입력에서 w를 제거한다.\n",
    "입력에서 처리되지 않은 다음 글자가 남아있다면(c), w+c에 해당하는 단어를 사전에 등록한다.\n",
    "단계 2로 돌아간다.\n",
    "```\n",
    "압축 알고리즘이 영문 대문자만 처리한다고 할 때, 사전은 다음과 같이 초기화된다. 사전의 색인 번호는 정수값으로 주어지며, 1부터 시작한다고 하자.\n",
    "```\n",
    "색인 번호\t1\t2\t3\t...\t24\t25\t26\n",
    "단어\tA\tB\tC\t...\tX\tY\tZ\n",
    "```\n",
    "예를 들어 입력으로 KAKAO가 들어온다고 하자.\n",
    "\n",
    "현재 사전에는 KAKAO의 첫 글자 K는 등록되어 있으나, 두 번째 글자까지인 KA는 없으므로, 첫 글자 K에 해당하는 색인 번호 11을 출력하고, 다음 글자인 A를 포함한 KA를 사전에 27 번째로 등록한다.\n",
    "\n",
    "두 번째 글자 A는 사전에 있으나, 세 번째 글자까지인 AK는 사전에 없으므로, A의 색인 번호 1을 출력하고, AK를 사전에 28 번째로 등록한다.\n",
    "\n",
    "세 번째 글자에서 시작하는 KA가 사전에 있으므로, KA에 해당하는 색인 번호 27을 출력하고, 다음 글자 O를 포함한 KAO를 29 번째로 등록한다.\n",
    "\n",
    "마지막으로 처리되지 않은 글자 O에 해당하는 색인 번호 15를 출력한다.\n",
    "```\n",
    "현재 입력(w)\t다음 글자(c)\t출력\t사전 추가(w+c)\n",
    "K\tA\t11\t27: KA\n",
    "A\tK\t1\t28: AK\n",
    "KA\tO\t27\t29: KAO\n",
    "O\t\t15\t\n",
    "```\n",
    "이 과정을 거쳐 다섯 글자의 문장 KAKAO가 4개의 색인 번호 [11, 1, 27, 15]로 압축된다.\n",
    "\n",
    "입력으로 TOBEORNOTTOBEORTOBEORNOT가 들어오면 다음과 같이 압축이 진행된다.\n",
    "```\n",
    "현재 입력(w)\t다음 글자(c)\t출력\t사전 추가(w+c)\n",
    "T\tO\t20\t27: TO\n",
    "O\tB\t15\t28: OB\n",
    "B\tE\t2\t29: BE\n",
    "E\tO\t5\t30: EO\n",
    "O\tR\t15\t31: OR\n",
    "R\tN\t18\t32: RN\n",
    "N\tO\t14\t33: NO\n",
    "O\tT\t15\t34: OT\n",
    "T\tT\t20\t35: TT\n",
    "TO\tB\t27\t36: TOB\n",
    "BE\tO\t29\t37: BEO\n",
    "OR\tT\t31\t38: ORT\n",
    "TOB\tE\t36\t39: TOBE\n",
    "EO\tR\t30\t40: EOR\n",
    "RN\tO\t32\t41: RNO\n",
    "OT\t\t34\t\n",
    "```\n",
    "입력 형식\n",
    "```\n",
    "입력으로 영문 대문자로만 이뤄진 문자열 msg가 주어진다. msg의 길이는 1 글자 이상, 1000 글자 이하이다.\n",
    "```\n",
    "출력 형식\n",
    "```\n",
    "주어진 문자열을 압축한 후의 사전 색인 번호를 배열로 출력하라.\n",
    "```\n",
    "입출력 예제\n",
    "```\n",
    "msg\tanswer\n",
    "KAKAO\t[11, 1, 27, 15]\n",
    "TOBEORNOTTOBEORTOBEORNOT\t[20, 15, 2, 5, 15, 18, 14, 15, 20, 27, 29, 31, 36, 30, 32, 34]\n",
    "ABABABABABABABAB\t[1, 2, 27, 29, 28, 31, 30]\n",
    "```"
   ]
  },
  {
   "cell_type": "markdown",
   "metadata": {},
   "source": [
    "### 내코드"
   ]
  },
  {
   "cell_type": "code",
   "execution_count": 120,
   "metadata": {
    "scrolled": false
   },
   "outputs": [],
   "source": [
    "while updated_msg:\n",
    "    for i in range(1,len(updated_msg)+1):\n",
    "        check_word = updated_msg[0:i]\n",
    "        if check_word not in list(word_dict.keys()):\n",
    "            answer.append(word_dict[updated_msg[0:i-1]])\n",
    "            word_dict[check_word] = idx\n",
    "            idx += 1   \n",
    "            updated_msg = updated_msg[i-1:]\n",
    "            break\n",
    "\n",
    "        if updated_msg in word_dict.keys():\n",
    "            answer.append(word_dict[updated_msg])\n",
    "            updated_msg = []\n",
    "            break"
   ]
  },
  {
   "cell_type": "code",
   "execution_count": 123,
   "metadata": {},
   "outputs": [],
   "source": [
    "def solution(msg):\n",
    "    \n",
    "    word_dict = dict(zip(list('ABCDEFGHIJKLMNOPQRSTUVWXYZ'),list(range(1,27))))\n",
    "    answer = []\n",
    "    updated_msg = msg\n",
    "    idx = 27      \n",
    "    \n",
    "    while updated_msg:\n",
    "        for i in range(1,len(updated_msg)+1):\n",
    "            check_word = updated_msg[0:i]\n",
    "            if check_word not in list(word_dict.keys()):\n",
    "                answer.append(word_dict[updated_msg[0:i-1]])\n",
    "                word_dict[check_word] = idx\n",
    "                idx += 1   \n",
    "                updated_msg = updated_msg[i-1:]\n",
    "                break\n",
    "\n",
    "            if updated_msg in word_dict.keys():\n",
    "                answer.append(word_dict[updated_msg])\n",
    "                updated_msg = []\n",
    "                break\n",
    "            \n",
    "    return answer"
   ]
  },
  {
   "cell_type": "code",
   "execution_count": 125,
   "metadata": {},
   "outputs": [],
   "source": [
    "msgs = [\n",
    "'KAKAO',\n",
    "'TOBEORNOTTOBEORTOBEORNOT',\n",
    "'ABABABABABABABAB'\n",
    "]"
   ]
  },
  {
   "cell_type": "code",
   "execution_count": 126,
   "metadata": {},
   "outputs": [
    {
     "name": "stdout",
     "output_type": "stream",
     "text": [
      "[11, 1, 27, 15]\n",
      "[20, 15, 2, 5, 15, 18, 14, 15, 20, 27, 29, 31, 36, 30, 32, 34]\n",
      "[1, 2, 27, 29, 28, 31, 30]\n"
     ]
    }
   ],
   "source": [
    "for msg in msgs:\n",
    "    print(solution(msg))"
   ]
  },
  {
   "cell_type": "markdown",
   "metadata": {},
   "source": [
    "### 다른 사람 코드\n"
   ]
  },
  {
   "cell_type": "code",
   "execution_count": 127,
   "metadata": {},
   "outputs": [],
   "source": [
    "def solution(msg):\n",
    "    answer = []\n",
    "    tmp = {chr(e + 64): e for e in range(1, 27)}\n",
    "    num = 27\n",
    "    while msg:\n",
    "        tt = 1\n",
    "        while msg[:tt] in tmp.keys() and tt <= msg.__len__():\n",
    "            tt += 1\n",
    "        tt -= 1\n",
    "        if msg[:tt] in tmp.keys():\n",
    "            answer.append(tmp[msg[:tt]])\n",
    "            tmp[msg[:tt + 1]] = num\n",
    "            num += 1\n",
    "        msg = msg[tt:]\n",
    "    return answer"
   ]
  },
  {
   "cell_type": "code",
   "execution_count": 128,
   "metadata": {},
   "outputs": [
    {
     "name": "stdout",
     "output_type": "stream",
     "text": [
      "[11, 1, 27, 15]\n",
      "[20, 15, 2, 5, 15, 18, 14, 15, 20, 27, 29, 31, 36, 30, 32, 34]\n",
      "[1, 2, 27, 29, 28, 31, 30]\n"
     ]
    }
   ],
   "source": [
    "for msg in msgs:\n",
    "    print(solution(msg))"
   ]
  }
 ],
 "metadata": {
  "kernelspec": {
   "display_name": "Python 3",
   "language": "python",
   "name": "python3"
  },
  "language_info": {
   "codemirror_mode": {
    "name": "ipython",
    "version": 3
   },
   "file_extension": ".py",
   "mimetype": "text/x-python",
   "name": "python",
   "nbconvert_exporter": "python",
   "pygments_lexer": "ipython3",
   "version": "3.7.3"
  }
 },
 "nbformat": 4,
 "nbformat_minor": 2
}
