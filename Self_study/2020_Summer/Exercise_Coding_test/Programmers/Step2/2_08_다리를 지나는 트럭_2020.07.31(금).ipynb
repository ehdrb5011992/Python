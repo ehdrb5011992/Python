{
 "cells": [
  {
   "cell_type": "markdown",
   "metadata": {},
   "source": [
    "출처 : https://programmers.co.kr/learn/courses/30/lessons/42583?language=python3"
   ]
  },
  {
   "cell_type": "markdown",
   "metadata": {},
   "source": [
    "# 문제\n",
    "\n",
    "트럭 여러 대가 강을 가로지르는 일 차선 다리를 정해진 순으로 건너려 합니다.\n",
    "\n",
    "모든 트럭이 다리를 건너려면 최소 몇 초가 걸리는지 알아내야 합니다. \n",
    "\n",
    "트럭은 1초에 1만큼 움직이며, 다리 길이는 bridge_length이고 다리는 무게 weight까지 견딥니다.\n",
    "\n",
    "※ 트럭이 다리에 완전히 오르지 않은 경우, 이 트럭의 무게는 고려하지 않습니다.\n",
    "```\n",
    "예를 들어, 길이가 2이고 10kg 무게를 견디는 다리가 있습니다. 무게가 [7, 4, 5, 6]kg인 트럭이 순서대로 최단 시간 안에 다리를 건너려면 다음과 같이 건너야 합니다.\n",
    "\n",
    "경과 시간\t다리를 지난 트럭\t다리를 건너는 트럭\t대기 트럭\n",
    "0\t[]\t[]\t[7,4,5,6]\n",
    "1~2\t[]\t[7]\t[4,5,6]\n",
    "3\t[7]\t[4]\t[5,6]\n",
    "4\t[7]\t[4,5]\t[6]\n",
    "5\t[7,4]\t[5]\t[6]\n",
    "6~7\t[7,4,5]\t[6]\t[]\n",
    "8\t[7,4,5,6]\t[]\t[]\n",
    "따라서, 모든 트럭이 다리를 지나려면 최소 8초가 걸립니다.\n",
    "```\n",
    "\n",
    "solution 함수의 매개변수로 다리 길이 bridge_length, 다리가 견딜 수 있는 무게 weight, 트럭별 무게 truck_weights가 주어집니다. \n",
    "\n",
    "이때 모든 트럭이 다리를 건너려면 최소 몇 초가 걸리는지 return 하도록 solution 함수를 완성하세요.\n",
    "\n",
    "제한 조건\n",
    "```\n",
    "bridge_length는 1 이상 10,000 이하입니다.\n",
    "weight는 1 이상 10,000 이하입니다.\n",
    "truck_weights의 길이는 1 이상 10,000 이하입니다.\n",
    "모든 트럭의 무게는 1 이상 weight 이하입니다.\n",
    "```\n",
    "입출력 예\n",
    "```\n",
    "bridge_length\tweight\ttruck_weights\treturn\n",
    "2\t10\t[7,4,5,6]\t8\n",
    "100\t100\t[10]\t101\n",
    "100\t100\t[10,10,10,10,10,10,10,10,10,10]\t110\n",
    "```\n",
    "출처\n",
    "\n",
    "※ 공지 - 2020년 4월 06일 테스트케이스가 추가되었습니다."
   ]
  },
  {
   "cell_type": "markdown",
   "metadata": {},
   "source": [
    "### 내코드"
   ]
  },
  {
   "cell_type": "code",
   "execution_count": 210,
   "metadata": {},
   "outputs": [],
   "source": [
    "bridge_length = 2\n",
    "weight = 10\n",
    "truck_weights = [7,4,5,6]"
   ]
  },
  {
   "cell_type": "code",
   "execution_count": 217,
   "metadata": {},
   "outputs": [],
   "source": [
    "bridge_length = 100\n",
    "weight = 100\n",
    "truck_weights = [10,10,10,10,10,10,10,10,10,10]"
   ]
  },
  {
   "cell_type": "code",
   "execution_count": 207,
   "metadata": {},
   "outputs": [
    {
     "name": "stdout",
     "output_type": "stream",
     "text": [
      "경과 시간: 8 다리를 지난 트럭: [7, 4, 5, 6] 다리를 건너는 트럭: [] 대기트럭: []\n"
     ]
    }
   ],
   "source": [
    "print('경과 시간:',time,'다리를 지난 트럭:',finish ,'다리를 건너는 트럭:',on_bridge,'대기트럭:',waiting_truck)"
   ]
  },
  {
   "cell_type": "code",
   "execution_count": 218,
   "metadata": {},
   "outputs": [],
   "source": [
    "import copy\n",
    "\n",
    "def solution(bridge_length, weight, truck_weights):\n",
    "    \n",
    "    on_bridge = []\n",
    "    finish = []\n",
    "    time_truck = []\n",
    "    time = 0\n",
    "    waiting_truck = copy.copy(truck_weights)\n",
    "    \n",
    "    while True:\n",
    "    \n",
    "        if time_truck != []: \n",
    "            if  time_truck[0] == bridge_length:\n",
    "                del time_truck[0]\n",
    "                finish_truck  = on_bridge.pop(0)\n",
    "                finish.append(finish_truck)\n",
    "\n",
    "        if waiting_truck != []:\n",
    "            if sum(on_bridge) + waiting_truck[0] <= weight:\n",
    "                if len(on_bridge) < bridge_length :\n",
    "                    truck = waiting_truck.pop(0)\n",
    "                    on_bridge.append(truck)\n",
    "                    time_truck.append(0)\n",
    "                else :\n",
    "                    pass\n",
    "        else:\n",
    "            if sum(on_bridge) <= weight:\n",
    "                if len(on_bridge) < bridge_length :\n",
    "                    time_truck.append(0)\n",
    "                else :\n",
    "                    pass\n",
    "\n",
    "        time_truck=[i+1 for i in time_truck]\n",
    "        time += 1\n",
    "\n",
    "        if len(finish) == len(truck_weights):\n",
    "            break\n",
    "    \n",
    "    return time"
   ]
  },
  {
   "cell_type": "code",
   "execution_count": 219,
   "metadata": {},
   "outputs": [
    {
     "data": {
      "text/plain": [
       "110"
      ]
     },
     "execution_count": 219,
     "metadata": {},
     "output_type": "execute_result"
    }
   ],
   "source": [
    "solution(bridge_length, weight, truck_weights)"
   ]
  },
  {
   "cell_type": "markdown",
   "metadata": {},
   "source": [
    "### 다른 사람 코드\n"
   ]
  },
  {
   "cell_type": "code",
   "execution_count": 1,
   "metadata": {},
   "outputs": [
    {
     "name": "stdout",
     "output_type": "stream",
     "text": [
      "8 8\n",
      "101 101\n",
      "110 110\n"
     ]
    }
   ],
   "source": [
    "#1. class\n",
    "\n",
    "import collections\n",
    "\n",
    "DUMMY_TRUCK = 0\n",
    "\n",
    "\n",
    "class Bridge(object):\n",
    "\n",
    "    def __init__(self, length, weight):\n",
    "        self._max_length = length\n",
    "        self._max_weight = weight\n",
    "        self._queue = collections.deque()\n",
    "        self._current_weight = 0\n",
    "\n",
    "    def push(self, truck):\n",
    "        next_weight = self._current_weight + truck\n",
    "        if next_weight <= self._max_weight and len(self._queue) < self._max_length:\n",
    "            self._queue.append(truck)\n",
    "            self._current_weight = next_weight\n",
    "            return True\n",
    "        else:\n",
    "            return False\n",
    "\n",
    "    def pop(self):\n",
    "        item = self._queue.popleft()\n",
    "        self._current_weight -= item\n",
    "        return item\n",
    "\n",
    "    def __len__(self):\n",
    "        return len(self._queue)\n",
    "\n",
    "    def __repr__(self):\n",
    "        return 'Bridge({}/{} : [{}])'.format(self._current_weight, self._max_weight, list(self._queue))\n",
    "\n",
    "\n",
    "def solution(bridge_length, weight, truck_weights):\n",
    "    bridge = Bridge(bridge_length, weight)\n",
    "    trucks = collections.deque(w for w in truck_weights)\n",
    "\n",
    "    for _ in range(bridge_length):\n",
    "        bridge.push(DUMMY_TRUCK)\n",
    "\n",
    "    count = 0\n",
    "    while trucks:\n",
    "        bridge.pop()\n",
    "\n",
    "        if bridge.push(trucks[0]):\n",
    "            trucks.popleft()\n",
    "        else:\n",
    "            bridge.push(DUMMY_TRUCK)\n",
    "\n",
    "        count += 1\n",
    "\n",
    "    while bridge:\n",
    "        bridge.pop()\n",
    "        count += 1\n",
    "\n",
    "    return count\n",
    "\n",
    "\n",
    "def main():\n",
    "    print(solution(2, 10, [7, 4, 5, 6]), 8)\n",
    "    print(solution(100, 100, [10]), 101)\n",
    "    print(solution(100, 100, [10, 10, 10, 10, 10, 10, 10, 10, 10, 10]), 110)\n",
    "\n",
    "\n",
    "if __name__ == '__main__':\n",
    "    main()\n"
   ]
  },
  {
   "cell_type": "code",
   "execution_count": 4,
   "metadata": {},
   "outputs": [],
   "source": [
    "# 2. 일반\n",
    "def solution(bridge_length, weight, truck_weights):\n",
    "    time = 1 \n",
    "    passing_truck= []\n",
    "    passed_truck= []\n",
    "    current_mass = 0\n",
    "    time_dic = {}\n",
    "\n",
    "    while True:\n",
    "        while truck_weights:\n",
    "            if weight >= current_mass + truck_weights[0]:\n",
    "                passing_truck.append(truck_weights.pop(0))\n",
    "                time_dic[time] = bridge_length + time \n",
    "                current_mass = sum(passing_truck)\n",
    "                break  \n",
    "            else :\n",
    "                break\n",
    "\n",
    "        time += 1\n",
    "\n",
    "        for out_time in time_dic:\n",
    "            if time_dic[out_time] == time:\n",
    "                passed_truck.append(passing_truck.pop(0))\n",
    "\n",
    "        current_mass = sum(passing_truck)\n",
    "\n",
    "        if passing_truck == [] and truck_weights== []:\n",
    "            break\n",
    "    return time\n"
   ]
  },
  {
   "cell_type": "code",
   "execution_count": 5,
   "metadata": {},
   "outputs": [
    {
     "ename": "NameError",
     "evalue": "name 'bridge_length' is not defined",
     "output_type": "error",
     "traceback": [
      "\u001b[1;31m---------------------------------------------------------------------------\u001b[0m",
      "\u001b[1;31mNameError\u001b[0m                                 Traceback (most recent call last)",
      "\u001b[1;32m<ipython-input-5-658ea100f94e>\u001b[0m in \u001b[0;36m<module>\u001b[1;34m\u001b[0m\n\u001b[1;32m----> 1\u001b[1;33m \u001b[0msolution\u001b[0m\u001b[1;33m(\u001b[0m\u001b[0mbridge_length\u001b[0m\u001b[1;33m,\u001b[0m \u001b[0mweight\u001b[0m\u001b[1;33m,\u001b[0m \u001b[0mtruck_weights\u001b[0m\u001b[1;33m)\u001b[0m\u001b[1;33m\u001b[0m\u001b[1;33m\u001b[0m\u001b[0m\n\u001b[0m",
      "\u001b[1;31mNameError\u001b[0m: name 'bridge_length' is not defined"
     ]
    }
   ],
   "source": [
    "solution(bridge_length, weight, truck_weights)"
   ]
  },
  {
   "cell_type": "code",
   "execution_count": null,
   "metadata": {},
   "outputs": [],
   "source": []
  }
 ],
 "metadata": {
  "kernelspec": {
   "display_name": "Python 3",
   "language": "python",
   "name": "python3"
  },
  "language_info": {
   "codemirror_mode": {
    "name": "ipython",
    "version": 3
   },
   "file_extension": ".py",
   "mimetype": "text/x-python",
   "name": "python",
   "nbconvert_exporter": "python",
   "pygments_lexer": "ipython3",
   "version": "3.7.3"
  }
 },
 "nbformat": 4,
 "nbformat_minor": 2
}
