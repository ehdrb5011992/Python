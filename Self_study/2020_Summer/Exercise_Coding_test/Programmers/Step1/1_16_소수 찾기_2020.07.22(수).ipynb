{
 "cells": [
  {
   "cell_type": "markdown",
   "metadata": {},
   "source": [
    "출처 : https://programmers.co.kr/learn/courses/30/lessons/12919?language=python3"
   ]
  },
  {
   "cell_type": "markdown",
   "metadata": {},
   "source": [
    "# 문제\n",
    "\n",
    "1부터 입력받은 숫자 n 사이에 있는 소수의 개수를 반환하는 함수, solution을 만들어 보세요.\n",
    "\n",
    "소수는 1과 자기 자신으로만 나누어지는 수를 의미합니다.\n",
    "\n",
    "(1은 소수가 아닙니다.)\n",
    "\n",
    "제한 조건\n",
    "```\n",
    "n은 2이상 1000000이하의 자연수입니다.\n",
    "```\n",
    "입출력 예\n",
    "```\n",
    "n\tresult\n",
    "10\t4\n",
    "5\t3\n",
    "```\n",
    "입출력 예 설명\n",
    "```\n",
    "입출력 예 #1\n",
    "1부터 10 사이의 소수는 [2,3,5,7] 4개가 존재하므로 4를 반환\n",
    "\n",
    "입출력 예 #2\n",
    "1부터 5 사이의 소수는 [2,3,5] 3개가 존재하므로 3를 반환\n",
    "```"
   ]
  },
  {
   "cell_type": "markdown",
   "metadata": {},
   "source": [
    "### 내코드"
   ]
  },
  {
   "cell_type": "code",
   "execution_count": 138,
   "metadata": {},
   "outputs": [],
   "source": [
    "# 효율적이지 못한 코드\n",
    "\n",
    "# def solution(n):\n",
    "    \n",
    "#     x = list(range(2,n+1))\n",
    "#     prime = []\n",
    "    \n",
    "#     while x:\n",
    "        \n",
    "#         new_x = []\n",
    "#         num = x.pop(0)\n",
    "        \n",
    "#         check_list = [ [i,i % num] for i in x]\n",
    "#         new_x = [j[0] for j in check_list if j[1] != 0]\n",
    "   \n",
    "#         prime.append(num)\n",
    "#         x = new_x\n",
    "    \n",
    "#     return len(prime)"
   ]
  },
  {
   "cell_type": "code",
   "execution_count": 1,
   "metadata": {},
   "outputs": [],
   "source": [
    "# 얘도 그렇게 효율적이진 못하다.\n",
    "# def solution(n):\n",
    "    \n",
    "#     # 소수판별\n",
    "#     def is_prime(n):\n",
    "#         return all([(n%j) for j in range(2, int(n**0.5)+1)]) and n>1 \n",
    "    \n",
    "#     #소수 개수 리턴\n",
    "#     return [is_prime(x) for x in range(1, n+1)].count(True)  \n",
    "    "
   ]
  },
  {
   "cell_type": "code",
   "execution_count": 7,
   "metadata": {},
   "outputs": [],
   "source": [
    "def solution(n):\n",
    "    \n",
    "    def is_prime(n):\n",
    "        if n < 2:\n",
    "            return False\n",
    "        if n in (2,3) :\n",
    "            return True\n",
    "        if n%2 is 0 or n%3 is 0:\n",
    "            return False\n",
    "        if n < 9:\n",
    "            return True\n",
    "        k,l = 5, n**0.5\n",
    "\n",
    "        while k<= l:\n",
    "            if n % k is 0 or n % (k+2) is 0:\n",
    "                return False\n",
    "            k+=6\n",
    "        return True\n",
    "        \n",
    "    \n",
    "    return len([x for x in range(1,n+1) if is_prime(x)])"
   ]
  },
  {
   "cell_type": "code",
   "execution_count": 16,
   "metadata": {},
   "outputs": [
    {
     "data": {
      "text/plain": [
       "78498"
      ]
     },
     "execution_count": 16,
     "metadata": {},
     "output_type": "execute_result"
    }
   ],
   "source": [
    "solution(1000000)"
   ]
  },
  {
   "cell_type": "markdown",
   "metadata": {},
   "source": [
    "### 다른사람 코드"
   ]
  },
  {
   "cell_type": "code",
   "execution_count": 17,
   "metadata": {},
   "outputs": [],
   "source": [
    "def solution(n):\n",
    "    num=set(range(2,n+1))\n",
    "\n",
    "    for i in range(2,n+1):\n",
    "        if i in num:\n",
    "            num-=set(range(2*i,n+1,i))\n",
    "    return len(num)"
   ]
  },
  {
   "cell_type": "code",
   "execution_count": 18,
   "metadata": {},
   "outputs": [
    {
     "data": {
      "text/plain": [
       "78498"
      ]
     },
     "execution_count": 18,
     "metadata": {},
     "output_type": "execute_result"
    }
   ],
   "source": [
    "solution(1000000)"
   ]
  }
 ],
 "metadata": {
  "kernelspec": {
   "display_name": "Python 3",
   "language": "python",
   "name": "python3"
  },
  "language_info": {
   "codemirror_mode": {
    "name": "ipython",
    "version": 3
   },
   "file_extension": ".py",
   "mimetype": "text/x-python",
   "name": "python",
   "nbconvert_exporter": "python",
   "pygments_lexer": "ipython3",
   "version": "3.7.3"
  }
 },
 "nbformat": 4,
 "nbformat_minor": 2
}
