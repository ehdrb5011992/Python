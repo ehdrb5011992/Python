{
 "cells": [
  {
   "cell_type": "markdown",
   "metadata": {},
   "source": [
    "출처 : https://programmers.co.kr/learn/courses/30/lessons/12915"
   ]
  },
  {
   "cell_type": "markdown",
   "metadata": {},
   "source": [
    "# 문제\n",
    "\n",
    "문자열로 구성된 리스트 strings와, 정수 n이 주어졌을 때, 각 문자열의 인덱스 n번째 글자를 기준으로 오름차순 정렬하려 합니다.\n",
    "\n",
    "예를 들어 strings가 [sun, bed, car]이고 n이 1이면 각 단어의 인덱스 1의 문자 u, e, a로 strings를 정렬합니다.\n",
    "\n",
    "제한 조건\n",
    "```\n",
    "strings는 길이 1 이상, 50이하인 배열입니다.\n",
    "strings의 원소는 소문자 알파벳으로 이루어져 있습니다.\n",
    "strings의 원소는 길이 1 이상, 100이하인 문자열입니다.\n",
    "모든 strings의 원소의 길이는 n보다 큽니다.\n",
    "인덱스 1의 문자가 같은 문자열이 여럿 일 경우, 사전순으로 앞선 문자열이 앞쪽에 위치합니다.\n",
    "```\n",
    "입출력 예\n",
    "```\n",
    "strings\tn\treturn\n",
    "[sun, bed, car]\t1\t[car, bed, sun]\n",
    "[abce, abcd, cdx]\t2\t[abcd, abce, cdx]\n",
    "```\n",
    "입출력 예 설명\n",
    "```\n",
    "입출력 예 1\n",
    "sun, bed, car의 1번째 인덱스 값은 각각 u, e, a 입니다. 이를 기준으로 strings를 정렬하면 [car, bed, sun] 입니다.\n",
    "```\n",
    "```\n",
    "입출력 예 2\n",
    "abce와 abcd, cdx의 2번째 인덱스 값은 c, c, x입니다. 따라서 정렬 후에는 cdx가 가장 뒤에 위치합니다. abce와 abcd는 사전순으로 정렬하면 abcd가 우선하므로, 답은 [abcd, abce, cdx] 입니다.\n",
    "```"
   ]
  },
  {
   "cell_type": "markdown",
   "metadata": {},
   "source": [
    "### 내코드"
   ]
  },
  {
   "cell_type": "code",
   "execution_count": 33,
   "metadata": {},
   "outputs": [],
   "source": [
    "def solution(strings, n):\n",
    "    \n",
    "    answer = []\n",
    "    \n",
    "    keys = [alpha[n] for alpha in strings]\n",
    "    almost_ans = sorted( list(zip(keys,strings)) , key = lambda ele: ele[0]) \n",
    "    # key는 정렬기준 / ele은 앞에서 밭는 인자 list(zip(~))의 각 요인(ex-> ('c','abce') )에 해당.\n",
    "    # 즉, ele[0] = 'c' 이런거임. 요소 하나하나가 ele\n",
    "    \n",
    "    words = {}\n",
    "\n",
    "    for item in almost_ans:\n",
    "        if item[0] not in words:\n",
    "            words[item[0]] = [item[1]]\n",
    "        else: \n",
    "            words[item[0]].append(item[1])\n",
    "            \n",
    "    answer = []\n",
    "    for i in words.values():\n",
    "        answer.append(sorted(i))\n",
    "    \n",
    "    return sum(answer,[])"
   ]
  },
  {
   "cell_type": "code",
   "execution_count": 34,
   "metadata": {},
   "outputs": [
    {
     "data": {
      "text/plain": [
       "['car', 'bed', 'sun']"
      ]
     },
     "execution_count": 34,
     "metadata": {},
     "output_type": "execute_result"
    }
   ],
   "source": [
    "solution(['sun', 'bed', 'car'] ,1)"
   ]
  },
  {
   "cell_type": "code",
   "execution_count": 41,
   "metadata": {},
   "outputs": [
    {
     "data": {
      "text/plain": [
       "['car', 'bed', 'bed', 'bedd', 'bedf', 'sun']"
      ]
     },
     "execution_count": 41,
     "metadata": {},
     "output_type": "execute_result"
    }
   ],
   "source": [
    "solution(['sun','bed','bedf','bedd','bed','car'] ,1)"
   ]
  },
  {
   "cell_type": "markdown",
   "metadata": {},
   "source": [
    "### 다른사람 코드"
   ]
  },
  {
   "cell_type": "code",
   "execution_count": 36,
   "metadata": {},
   "outputs": [],
   "source": [
    "# 뭔가 만족스러운 답이 없는것 같아 첨부를 하지 않았음.\n",
    "\n",
    "# def strange_sort(strings, n):\n",
    "#     return sorted(strings, key=lambda x: x[n]) "
   ]
  },
  {
   "cell_type": "code",
   "execution_count": 40,
   "metadata": {},
   "outputs": [
    {
     "name": "stdout",
     "output_type": "stream",
     "text": [
      "['car', 'bed', 'bedf', 'bedd', 'bed', 'sun']\n"
     ]
    }
   ],
   "source": [
    "# print(strange_sort ( ['sun','bed','bedf','bedd','bed','car'] ,1))"
   ]
  }
 ],
 "metadata": {
  "kernelspec": {
   "display_name": "Python 3",
   "language": "python",
   "name": "python3"
  },
  "language_info": {
   "codemirror_mode": {
    "name": "ipython",
    "version": 3
   },
   "file_extension": ".py",
   "mimetype": "text/x-python",
   "name": "python",
   "nbconvert_exporter": "python",
   "pygments_lexer": "ipython3",
   "version": "3.7.3"
  }
 },
 "nbformat": 4,
 "nbformat_minor": 2
}
