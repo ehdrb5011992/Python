{
 "cells": [
  {
   "cell_type": "markdown",
   "metadata": {},
   "source": [
    "출처 : https://programmers.co.kr/learn/courses/30/lessons/17681"
   ]
  },
  {
   "cell_type": "markdown",
   "metadata": {},
   "source": [
    "# 문제\n",
    "\n",
    "네오는 평소 프로도가 비상금을 숨겨놓는 장소를 알려줄 비밀지도를 손에 넣었다. \n",
    "\n",
    "그런데 이 비밀지도는 숫자로 암호화되어 있어 위치를 확인하기 위해서는 암호를 해독해야 한다. \n",
    "\n",
    "다행히 지도 암호를 해독할 방법을 적어놓은 메모도 함께 발견했다.\n",
    "\n",
    "지도는 한 변의 길이가 n인 정사각형 배열 형태로, 각 칸은 공백(\" ) 또는벽(#\") 두 종류로 이루어져 있다.\n",
    "\n",
    "전체 지도는 두 장의 지도를 겹쳐서 얻을 수 있다. \n",
    "\n",
    "각각 지도 1과 지도 2라고 하자. \n",
    "\n",
    "지도 1 또는 지도 2 중 어느 하나라도 벽인 부분은 전체 지도에서도 벽이다. \n",
    "\n",
    "지도 1과 지도 2에서 모두 공백인 부분은 전체 지도에서도 공백이다.\n",
    "\n",
    "지도 1과 지도 2는 각각 정수 배열로 암호화되어 있다.\n",
    "암호화된 배열은 지도의 각 가로줄에서 벽 부분을 1, 공백 부분을 0으로 부호화했을 때 얻어지는 이진수에 해당하는 값의 배열이다.\n",
    "secret map\n",
    "\n",
    "네오가 프로도의 비상금을 손에 넣을 수 있도록, 비밀지도의 암호를 해독하는 작업을 도와줄 프로그램을 작성하라.\n",
    "\n",
    "입력 형식\n",
    "```\n",
    "입력으로 지도의 한 변 크기 n 과 2개의 정수 배열 arr1, arr2가 들어온다.\n",
    "\n",
    "1 ≦ n ≦ 16\n",
    "arr1, arr2는 길이 n인 정수 배열로 주어진다.\n",
    "정수 배열의 각 원소 x를 이진수로 변환했을 때의 길이는 n 이하이다. 즉, 0 ≦ x ≦ 2n - 1을 만족한다.\n",
    "```\n",
    "\n",
    "출력 형식\n",
    "```\n",
    "원래의 비밀지도를 해독하여 '#', 공백으로 구성된 문자열 배열로 출력하라.\n",
    "```\n",
    "입출력 예제\n",
    "```\n",
    "매개변수\t값\n",
    "n\t5\n",
    "arr1\t[9, 20, 28, 18, 11]\n",
    "arr2\t[30, 1, 21, 17, 28]\n",
    "출력\t[\"#####\",\"# # #\", \"### #\", \"# ##\", \"#####\"]\n",
    "매개변수\t값\n",
    "n\t6\n",
    "arr1\t[46, 33, 33 ,22, 31, 50]\n",
    "arr2\t[27 ,56, 19, 14, 14, 10]\n",
    "출력\t[\"######\", \"### #\", \"## ##\", \" #### \", \" #####\", \"### # \"]\n",
    "```"
   ]
  },
  {
   "cell_type": "markdown",
   "metadata": {},
   "source": [
    "### 내코드"
   ]
  },
  {
   "cell_type": "code",
   "execution_count": null,
   "metadata": {},
   "outputs": [],
   "source": [
    "n=6\n",
    "arr1 = [46, 33, 33 ,22, 31, 50]\n",
    "arr2 =  [27 ,56, 19, 14, 14, 10]"
   ]
  },
  {
   "cell_type": "code",
   "execution_count": 38,
   "metadata": {},
   "outputs": [],
   "source": [
    "def solution(n, arr1, arr2):\n",
    "    \n",
    "    def convert(n,num):\n",
    "        space=list('0'*n)\n",
    "        bit = bin(num)[2:]\n",
    "\n",
    "        for i in range(1,len(bit)+1):\n",
    "            space[-i]=bit[-i]\n",
    "\n",
    "        return ''.join(space)\n",
    "    \n",
    "    new_set= [list(i) for i in zip(arr1,arr2)]\n",
    "    solve = [i[0]|i[1] for i in new_set]\n",
    "    \n",
    "    answer=[]\n",
    "    \n",
    "    for num in solve:\n",
    "        text = convert(n,num)\n",
    "        text = text.replace('0',' ')\n",
    "        text = text.replace('1','#')\n",
    "        answer.append(text)\n",
    "    \n",
    "    return answer"
   ]
  },
  {
   "cell_type": "code",
   "execution_count": 40,
   "metadata": {},
   "outputs": [
    {
     "data": {
      "text/plain": [
       "['######', '###  #', '##  ##', ' #### ', ' #####', '### # ']"
      ]
     },
     "execution_count": 40,
     "metadata": {},
     "output_type": "execute_result"
    }
   ],
   "source": [
    "solution(n, arr1, arr2)"
   ]
  },
  {
   "cell_type": "markdown",
   "metadata": {},
   "source": [
    "### 다른사람 코드"
   ]
  },
  {
   "cell_type": "code",
   "execution_count": null,
   "metadata": {},
   "outputs": [],
   "source": [
    "def solution(n, arr1, arr2):\n",
    "    answer = []\n",
    "    for i,j in zip(arr1,arr2):  # 이렇게 바로 쓸수 있음을 기억하자. \n",
    "        a12 = str(bin(i|j)[2:])\n",
    "        a12=a12.rjust(n,'0') # rjust는 문자열 패딩임.\n",
    "        a12=a12.replace('1','#')\n",
    "        a12=a12.replace('0',' ')\n",
    "        answer.append(a12)\n",
    "    return answer\n"
   ]
  },
  {
   "cell_type": "code",
   "execution_count": null,
   "metadata": {},
   "outputs": [],
   "source": [
    "solution(n, arr1, arr2)"
   ]
  }
 ],
 "metadata": {
  "kernelspec": {
   "display_name": "Python 3",
   "language": "python",
   "name": "python3"
  },
  "language_info": {
   "codemirror_mode": {
    "name": "ipython",
    "version": 3
   },
   "file_extension": ".py",
   "mimetype": "text/x-python",
   "name": "python",
   "nbconvert_exporter": "python",
   "pygments_lexer": "ipython3",
   "version": "3.7.3"
  }
 },
 "nbformat": 4,
 "nbformat_minor": 2
}
