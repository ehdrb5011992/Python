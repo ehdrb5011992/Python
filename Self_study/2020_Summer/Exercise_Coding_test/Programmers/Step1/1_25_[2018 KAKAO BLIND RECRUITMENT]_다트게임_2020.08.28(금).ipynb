{
 "cells": [
  {
   "cell_type": "markdown",
   "metadata": {},
   "source": [
    "출처 : https://programmers.co.kr/learn/courses/30/lessons/17682"
   ]
  },
  {
   "cell_type": "markdown",
   "metadata": {},
   "source": [
    "# 문제\n",
    "\n",
    "카카오톡에 뜬 네 번째 별! 심심할 땐? 카카오톡 게임별~\n",
    "\n",
    "Game Star\n",
    "\n",
    "카카오톡 게임별의 하반기 신규 서비스로 다트 게임을 출시하기로 했다. \n",
    "\n",
    "다트 게임은 다트판에 다트를 세 차례 던져 그 점수의 합계로 실력을 겨루는 게임으로, 모두가 간단히 즐길 수 있다.\n",
    "\n",
    "갓 입사한 무지는 코딩 실력을 인정받아 게임의 핵심 부분인 점수 계산 로직을 맡게 되었다. \n",
    "\n",
    "다트 게임의 점수 계산 로직은 아래와 같다.\n",
    "```\n",
    "1. 다트 게임은 총 3번의 기회로 구성된다.\n",
    "2. 각 기회마다 얻을 수 있는 점수는 0점에서 10점까지이다.\n",
    "3. 점수와 함께 Single(S), Double(D), Triple(T) 영역이 존재하고 각 영역 당첨 시 점수에서 1제곱, 2제곱, 3제곱 (점수1 , 점수2 , 점수3 )으로 계산된다.\n",
    "4. 옵션으로 스타상(*) , 아차상(#)이 존재하며 스타상(*) 당첨 시 해당 점수와 바로 전에 얻은 점수를 각 2배로 만든다. 아차상(#) 당첨 시 해당 점수는 마이너스된다.\n",
    "5. 스타상(*)은 첫 번째 기회에서도 나올 수 있다. 이 경우 첫 번째 스타상(*)의 점수만 2배가 된다. (예제 4번 참고)\n",
    "6. 스타상(*)의 효과는 다른 스타상(*)의 효과와 중첩될 수 있다. 이 경우 중첩된 스타상(*) 점수는 4배가 된다. (예제 4번 참고)\n",
    "7. 스타상(*)의 효과는 아차상(#)의 효과와 중첩될 수 있다. 이 경우 중첩된 아차상(#)의 점수는 -2배가 된다. (예제 5번 참고)\n",
    "8. Single(S), Double(D), Triple(T)은 점수마다 하나씩 존재한다.\n",
    "9. 스타상(*), 아차상(#)은 점수마다 둘 중 하나만 존재할 수 있으며, 존재하지 않을 수도 있다.\n",
    "```\n",
    "0~10의 정수와 문자 S, D, T, *, #로 구성된 문자열이 입력될 시 총점수를 반환하는 함수를 작성하라.\n",
    "\n",
    "입력 형식\n",
    "```\n",
    "점수|보너스|[옵션]으로 이루어진 문자열 3세트.\n",
    "예) 1S2D*3T\n",
    "\n",
    "점수는 0에서 10 사이의 정수이다.\n",
    "보너스는 S, D, T 중 하나이다.\n",
    "옵선은 *이나 # 중 하나이며, 없을 수도 있다.\n",
    "```\n",
    "출력 형식\n",
    "```\n",
    "3번의 기회에서 얻은 점수 합계에 해당하는 정수값을 출력한다.\n",
    "예) 37\n",
    "```\n",
    "입출력 예제\n",
    "```\n",
    "예제\tdartResult\tanswer\t설명\n",
    "1\t1S2D*3T\t37\t11 * 2 + 22 * 2 + 33\n",
    "2\t1D2S#10S\t9\t12 + 21 * (-1) + 101\n",
    "3\t1D2S0T\t3\t12 + 21 + 03\n",
    "4\t1S*2T*3S\t23\t11 * 2 * 2 + 23 * 2 + 31\n",
    "5\t1D#2S*3S\t5\t12 * (-1) * 2 + 21 * 2 + 31\n",
    "6\t1T2D3D#\t-4\t13 + 22 + 32 * (-1)\n",
    "7\t1D2S3T*\t59\t12 + 21 * 2 + 33 * 2\n",
    "```"
   ]
  },
  {
   "cell_type": "markdown",
   "metadata": {},
   "source": [
    "### 내코드"
   ]
  },
  {
   "cell_type": "code",
   "execution_count": 30,
   "metadata": {},
   "outputs": [],
   "source": [
    "dartResult='1S*2T*3S*'"
   ]
  },
  {
   "cell_type": "code",
   "execution_count": 36,
   "metadata": {},
   "outputs": [],
   "source": [
    "def solution(dartResult):\n",
    "    \n",
    "    score = list('123456789')\n",
    "    score.append('10')\n",
    "    bonus = {'S':1,'D':2,'T':3}\n",
    "    options = {'*':2, '#': -1 }\n",
    "    \n",
    "    target = list(dartResult)\n",
    "    answer = []\n",
    "    options_sub = []\n",
    "\n",
    "    for _ in range(3):\n",
    "\n",
    "        before_cal = []\n",
    "\n",
    "        # score\n",
    "        if ''.join(target[0:2]).isdigit():\n",
    "            temp = []\n",
    "            temp.append(target.pop(0))\n",
    "            temp.append(target.pop(0))\n",
    "            before_cal.append(''.join(temp))\n",
    "\n",
    "        elif dartResult[0:1].isdigit():\n",
    "            temp = []\n",
    "            temp.append(target.pop(0))\n",
    "            before_cal.append(''.join(temp))\n",
    "\n",
    "        # bonus\n",
    "        if target[0] in bonus.keys():\n",
    "            before_cal.append(bonus[target.pop(0)])\n",
    "\n",
    "        # option\n",
    "        if target != []:\n",
    "            if target[0] in options.keys():\n",
    "                options_sub.append(options[target[0]])\n",
    "                before_cal.append(options[target.pop(0)])\n",
    "            else:\n",
    "                options_sub.append(1)\n",
    "        else:\n",
    "            options_sub.append(1)\n",
    "\n",
    "        cal = int(before_cal[0]) ** int(before_cal[1])\n",
    "\n",
    "        answer.append(cal)\n",
    "\n",
    "\n",
    "    tt = [i*j for i,j in zip(answer,options_sub)]\n",
    "    a = sum(tt)\n",
    "\n",
    "\n",
    "    if options_sub[1] == 2:\n",
    "        a += tt[0]\n",
    "    if options_sub[2] == 2:\n",
    "        a += tt[1]\n",
    "        \n",
    "    return a"
   ]
  },
  {
   "cell_type": "code",
   "execution_count": 37,
   "metadata": {},
   "outputs": [
    {
     "data": {
      "text/plain": [
       "42"
      ]
     },
     "execution_count": 37,
     "metadata": {},
     "output_type": "execute_result"
    }
   ],
   "source": [
    "solution(dartResult)"
   ]
  },
  {
   "cell_type": "markdown",
   "metadata": {},
   "source": [
    "### 다른사람 코드"
   ]
  },
  {
   "cell_type": "code",
   "execution_count": null,
   "metadata": {},
   "outputs": [],
   "source": [
    "# 1.\n",
    "def solution(dartResult):\n",
    "    point = []\n",
    "    answer = []\n",
    "    dartResult = dartResult.replace('10','k') # 한개로 취급하고,\n",
    "    point = ['10' if i == 'k' else i for i in dartResult] # 걔를 다시 10이라는 묶음으로 재표현.\n",
    "    print(point)\n",
    "\n",
    "    i = -1\n",
    "    sdt = ['S', 'D', 'T']\n",
    "    for j in point:\n",
    "        if j in sdt :\n",
    "            answer[i] = answer[i] ** (sdt.index(j)+1)\n",
    "        elif j == '*':\n",
    "            answer[i] = answer[i] * 2\n",
    "            if i != 0 :\n",
    "                answer[i - 1] = answer[i - 1] * 2\n",
    "        elif j == '#':\n",
    "            answer[i] = answer[i] * (-1)\n",
    "        else:\n",
    "            answer.append(int(j))\n",
    "            i += 1\n",
    "    return sum(answer)"
   ]
  },
  {
   "cell_type": "code",
   "execution_count": null,
   "metadata": {},
   "outputs": [],
   "source": [
    "# 2.\n",
    "import re\n",
    "\n",
    "\n",
    "def solution(dartResult):\n",
    "    bonus = {'S' : 1, 'D' : 2, 'T' : 3}\n",
    "    option = {'' : 1, '*' : 2, '#' : -1}\n",
    "    p = re.compile('(\\d+)([SDT])([*#]?)')\n",
    "    dart = p.findall(dartResult)\n",
    "    for i in range(len(dart)):\n",
    "        if dart[i][2] == '*' and i > 0:\n",
    "            dart[i-1] *= 2\n",
    "        dart[i] = int(dart[i][0]) ** bonus[dart[i][1]] * option[dart[i][2]]\n",
    "\n",
    "    answer = sum(dart)\n",
    "    return answer\n"
   ]
  }
 ],
 "metadata": {
  "kernelspec": {
   "display_name": "Python 3",
   "language": "python",
   "name": "python3"
  }
 },
 "nbformat": 4,
 "nbformat_minor": 2
}
