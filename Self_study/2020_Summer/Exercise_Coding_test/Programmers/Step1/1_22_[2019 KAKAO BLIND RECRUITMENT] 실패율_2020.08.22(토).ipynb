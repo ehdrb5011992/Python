{
 "cells": [
  {
   "cell_type": "markdown",
   "metadata": {},
   "source": [
    "출처 : https://programmers.co.kr/learn/courses/30/lessons/42889"
   ]
  },
  {
   "cell_type": "markdown",
   "metadata": {},
   "source": [
    "# 문제\n",
    "\n",
    "슈퍼 게임 개발자 오렐리는 큰 고민에 빠졌다. \n",
    "\n",
    "그녀가 만든 프랜즈 오천성이 대성공을 거뒀지만, 요즘 신규 사용자의 수가 급감한 것이다.\n",
    "\n",
    "원인은 신규 사용자와 기존 사용자 사이에 스테이지 차이가 너무 큰 것이 문제였다.\n",
    "\n",
    "이 문제를 어떻게 할까 고민 한 그녀는 동적으로 게임 시간을 늘려서 난이도를 조절하기로 했다. \n",
    "\n",
    "역시 슈퍼 개발자라 대부분의 로직은 쉽게 구현했지만, 실패율을 구하는 부분에서 위기에 빠지고 말았다.\n",
    "\n",
    "오렐리를 위해 실패율을 구하는 코드를 완성하라.\n",
    "\n",
    "실패율은 다음과 같이 정의한다.\n",
    "```\n",
    "스테이지에 도달했으나 아직 클리어하지 못한 플레이어의 수 / 스테이지에 도달한 플레이어 수\n",
    "전체 스테이지의 개수 N, 게임을 이용하는 사용자가 현재 멈춰있는 스테이지의 번호가 담긴 배열 stages가 매개변수로 주어질 때, 실패율이 높은 스테이지부터 내림차순으로 스테이지의 번호가 담겨있는 배열을 return 하도록 solution 함수를 완성하라.\n",
    "```\n",
    "제한사항\n",
    "```\n",
    "스테이지의 개수 N은 1 이상 500 이하의 자연수이다.\n",
    "stages의 길이는 1 이상 200,000 이하이다.\n",
    "stages에는 1 이상 N + 1 이하의 자연수가 담겨있다.\n",
    "각 자연수는 사용자가 현재 도전 중인 스테이지의 번호를 나타낸다.\n",
    "단, N + 1 은 마지막 스테이지(N 번째 스테이지) 까지 클리어 한 사용자를 나타낸다.\n",
    "만약 실패율이 같은 스테이지가 있다면 작은 번호의 스테이지가 먼저 오도록 하면 된다.\n",
    "스테이지에 도달한 유저가 없는 경우 해당 스테이지의 실패율은 0 으로 정의한다.\n",
    "```\n",
    "입출력 예\n",
    "```\n",
    "N\tstages\tresult\n",
    "5\t[2, 1, 2, 6, 2, 4, 3, 3]\t[3,4,2,1,5]\n",
    "4\t[4,4,4,4,4]\t[4,1,2,3]\n",
    "```\n",
    "입출력 예 설명\n",
    "```\n",
    "입출력 예 #1\n",
    "1번 스테이지에는 총 8명의 사용자가 도전했으며, 이 중 1명의 사용자가 아직 클리어하지 못했다. 따라서 1번 스테이지의 실패율은 다음과 같다.\n",
    "\n",
    "1 번 스테이지 실패율 : 1/8\n",
    "2번 스테이지에는 총 7명의 사용자가 도전했으며, 이 중 3명의 사용자가 아직 클리어하지 못했다. 따라서 2번 스테이지의 실패율은 다음과 같다.\n",
    "\n",
    "2 번 스테이지 실패율 : 3/7\n",
    "마찬가지로 나머지 스테이지의 실패율은 다음과 같다.\n",
    "\n",
    "3 번 스테이지 실패율 : 2/4\n",
    "4번 스테이지 실패율 : 1/2\n",
    "5번 스테이지 실패율 : 0/1\n",
    "각 스테이지의 번호를 실패율의 내림차순으로 정렬하면 다음과 같다.\n",
    "\n",
    "[3,4,2,1,5]\n",
    "입출력 예 #2\n",
    "\n",
    "모든 사용자가 마지막 스테이지에 있으므로 4번 스테이지의 실패율은 1이며 나머지 스테이지의 실패율은 0이다.\n",
    "\n",
    "[4,1,2,3]\n",
    "```"
   ]
  },
  {
   "cell_type": "markdown",
   "metadata": {},
   "source": [
    "### 내코드"
   ]
  },
  {
   "cell_type": "code",
   "execution_count": 32,
   "metadata": {},
   "outputs": [],
   "source": [
    "def solution(N, stages):\n",
    "    \n",
    "    stages_dict = dict()\n",
    "    for i in stages:\n",
    "        if i not in stages_dict:\n",
    "            stages_dict[i]=1\n",
    "        else:\n",
    "            stages_dict[i]+=1\n",
    "    \n",
    "    \n",
    "    fail_list = []\n",
    "    left_people  = len(stages)\n",
    "\n",
    "    for stage in range(1,N+1):\n",
    "\n",
    "        if stage not in stages_dict.keys():\n",
    "            fail_list.append(0)\n",
    "        else:\n",
    "            cur_people = stages_dict[stage]\n",
    "            fail = cur_people / left_people\n",
    "            left_people -= cur_people\n",
    "\n",
    "            fail_list.append(fail)\n",
    "\n",
    "    ind_and_fail = zip(list(range(1,N+1)),fail_list)\n",
    "    sort_ind_and_fail = sorted(ind_and_fail, key = lambda x : -x[1])\n",
    "\n",
    "    return [i[0] for i in sort_ind_and_fail]"
   ]
  },
  {
   "cell_type": "code",
   "execution_count": 33,
   "metadata": {},
   "outputs": [
    {
     "data": {
      "text/plain": [
       "[4, 1, 2, 3]"
      ]
     },
     "execution_count": 33,
     "metadata": {},
     "output_type": "execute_result"
    }
   ],
   "source": [
    "solution(N, stages)"
   ]
  },
  {
   "cell_type": "markdown",
   "metadata": {},
   "source": [
    "### 다른사람 코드"
   ]
  },
  {
   "cell_type": "code",
   "execution_count": 34,
   "metadata": {},
   "outputs": [],
   "source": [
    "def solution(N, stages):\n",
    "    result = {}\n",
    "    denominator = len(stages)\n",
    "    for stage in range(1, N+1):\n",
    "        if denominator != 0:\n",
    "            count = stages.count(stage)\n",
    "            result[stage] = count / denominator\n",
    "            denominator -= count\n",
    "        else:\n",
    "            result[stage] = 0\n",
    "    return sorted(result, key=lambda x : result[x], reverse=True)"
   ]
  }
 ],
 "metadata": {
  "kernelspec": {
   "display_name": "Python 3",
   "language": "python",
   "name": "python3"
  },
  "language_info": {
   "codemirror_mode": {
    "name": "ipython",
    "version": 3
   },
   "file_extension": ".py",
   "mimetype": "text/x-python",
   "name": "python",
   "nbconvert_exporter": "python",
   "pygments_lexer": "ipython3",
   "version": "3.7.3"
  }
 },
 "nbformat": 4,
 "nbformat_minor": 2
}
