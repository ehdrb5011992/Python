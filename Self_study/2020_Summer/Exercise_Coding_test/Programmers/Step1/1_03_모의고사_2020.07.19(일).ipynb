{
 "cells": [
  {
   "cell_type": "markdown",
   "metadata": {},
   "source": [
    "출처 : https://programmers.co.kr/learn/courses/30/lessons/42840?language=python3"
   ]
  },
  {
   "cell_type": "markdown",
   "metadata": {},
   "source": [
    "# 문제\n",
    "\n",
    "수포자는 수학을 포기한 사람의 준말입니다. 수포자 삼인방은 모의고사에 수학 문제를 전부 찍으려 합니다. 수포자는 1번 문제부터 마지막 문제까지 다음과 같이 찍습니다.\n",
    "\n",
    "```\n",
    "1번 수포자가 찍는 방식: 1, 2, 3, 4, 5, 1, 2, 3, 4, 5, ...\n",
    "\n",
    "2번 수포자가 찍는 방식: 2, 1, 2, 3, 2, 4, 2, 5, 2, 1, 2, 3, 2, 4, 2, 5, ...\n",
    "\n",
    "3번 수포자가 찍는 방식: 3, 3, 1, 1, 2, 2, 4, 4, 5, 5, 3, 3, 1, 1, 2, 2, 4, 4, 5, 5, ...\n",
    "```\n",
    "\n",
    "1번 문제부터 마지막 문제까지의 정답이 순서대로 들은 배열 answers가 주어졌을 때, 가장 많은 문제를 맞힌 사람이 누구인지 배열에 담아 return 하도록 solution 함수를 작성해주세요.\n",
    "\n",
    "\n",
    "제한 조건\n",
    "시험은 최대 10,000 문제로 구성되어있습니다.\n",
    "문제의 정답은 1, 2, 3, 4, 5중 하나입니다.\n",
    "가장 높은 점수를 받은 사람이 여럿일 경우, return하는 값을 오름차순 정렬해주세요.\n",
    "\n",
    "입출력 예\n",
    "```\n",
    "answers\treturn\n",
    "\n",
    "[1,2,3,4,5]\t[1]\n",
    "\n",
    "[1,3,2,4,2]\t[1,2,3]\n",
    "```\n",
    "\n",
    "\n",
    "입출력 예 설명\n",
    "\n",
    "입출력 예 #1\n",
    "\n",
    "수포자 1은 모든 문제를 맞혔습니다.\n",
    "\n",
    "수포자 2는 모든 문제를 틀렸습니다.\n",
    "\n",
    "수포자 3은 모든 문제를 틀렸습니다.\n",
    "\n",
    "따라서 가장 문제를 많이 맞힌 사람은 수포자 1입니다.\n",
    "\n",
    "입출력 예 #2\n",
    "\n",
    "모든 사람이 2문제씩을 맞췄습니다."
   ]
  },
  {
   "cell_type": "markdown",
   "metadata": {},
   "source": [
    "### 내코드"
   ]
  },
  {
   "cell_type": "code",
   "execution_count": 58,
   "metadata": {},
   "outputs": [],
   "source": [
    "def solution(answers):\n",
    "    \n",
    "    a = [i for i in range(1,6)]\n",
    "    b = [2,1,2,3,2,4,2,5]\n",
    "    c = [num for num in [3,1,2,4,5] for i in range(2)]\n",
    "    \n",
    "    a_ans = 0\n",
    "    b_ans = 0\n",
    "    c_ans = 0\n",
    "    \n",
    "    answer =[]\n",
    "    \n",
    "    answer_len_range = range(len(answers))\n",
    "    for i in answer_len_range:\n",
    "        \n",
    "        a_rep = i % 5\n",
    "        b_rep = i % 8\n",
    "        c_rep = i % 10\n",
    "        \n",
    "        if a[a_rep] == answers[i]:\n",
    "            a_ans += 1\n",
    "        if b[b_rep] == answers[i]:\n",
    "            b_ans += 1\n",
    "        if c[c_rep] == answers[i]:\n",
    "            c_ans += 1\n",
    "    \n",
    "    if a_ans > b_ans :\n",
    "        if a_ans > c_ans :\n",
    "            answer.append(1)\n",
    "        elif a_ans < c_ans :\n",
    "            answer.append(3)\n",
    "        else :\n",
    "            answer.append(1)\n",
    "            answer.append(3)\n",
    "    elif a_ans < b_ans :\n",
    "        if a_ans > c_ans :\n",
    "            answer.append(2)\n",
    "        elif a_ans < c_ans :\n",
    "            if b_ans < c_ans :\n",
    "                answer.append(3)\n",
    "            elif b_ans > c_ans :\n",
    "                answer.append(2)\n",
    "            else :\n",
    "                answer.append(2)\n",
    "                answer.append(3)\n",
    "        else:\n",
    "            answer.append(2)\n",
    "        \n",
    "    else :\n",
    "        if a_ans > c_ans :\n",
    "            answer.append(1)\n",
    "            answer.append(2)\n",
    "        elif a_ans < c_ans :\n",
    "            answer.append(3)\n",
    "        else :\n",
    "            answer.append(1)\n",
    "            answer.append(2)\n",
    "            answer.append(3)\n",
    "    \n",
    "    answer.sort()\n",
    "    \n",
    "    \n",
    "    return answer"
   ]
  },
  {
   "cell_type": "code",
   "execution_count": 60,
   "metadata": {},
   "outputs": [
    {
     "data": {
      "text/plain": [
       "[1]"
      ]
     },
     "execution_count": 60,
     "metadata": {},
     "output_type": "execute_result"
    }
   ],
   "source": [
    "solution([1,2,3,4,5])"
   ]
  },
  {
   "cell_type": "markdown",
   "metadata": {},
   "source": [
    "### 다른사람 코드"
   ]
  },
  {
   "cell_type": "code",
   "execution_count": null,
   "metadata": {},
   "outputs": [],
   "source": [
    "def solution(answers):\n",
    "    pattern1 = [1,2,3,4,5]\n",
    "    pattern2 = [2,1,2,3,2,4,2,5]\n",
    "    pattern3 = [3,3,1,1,2,2,4,4,5,5]\n",
    "    score = [0, 0, 0]\n",
    "    result = []\n",
    "\n",
    "    for idx, answer in enumerate(answers):\n",
    "        if answer == pattern1[idx%len(pattern1)]:\n",
    "            score[0] += 1\n",
    "        if answer == pattern2[idx%len(pattern2)]:\n",
    "            score[1] += 1\n",
    "        if answer == pattern3[idx%len(pattern3)]:\n",
    "            score[2] += 1\n",
    "\n",
    "    for idx, s in enumerate(score):\n",
    "        if s == max(score):\n",
    "            result.append(idx+1)\n",
    "\n",
    "    return result"
   ]
  },
  {
   "cell_type": "code",
   "execution_count": 65,
   "metadata": {},
   "outputs": [
    {
     "data": {
      "text/plain": [
       "[(0, 1), (1, 2), (2, 3), (3, 4), (4, 5)]"
      ]
     },
     "execution_count": 65,
     "metadata": {},
     "output_type": "execute_result"
    }
   ],
   "source": [
    "[a for a in enumerate([1,2,3,4,5])]"
   ]
  }
 ],
 "metadata": {
  "kernelspec": {
   "display_name": "Python 3",
   "language": "python",
   "name": "python3"
  },
  "language_info": {
   "codemirror_mode": {
    "name": "ipython",
    "version": 3
   },
   "file_extension": ".py",
   "mimetype": "text/x-python",
   "name": "python",
   "nbconvert_exporter": "python",
   "pygments_lexer": "ipython3",
   "version": "3.7.3"
  }
 },
 "nbformat": 4,
 "nbformat_minor": 2
}
