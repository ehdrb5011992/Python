{
 "cells": [
  {
   "cell_type": "markdown",
   "metadata": {},
   "source": [
    "출처 : https://programmers.co.kr/learn/courses/30/lessons/12916?language=python3"
   ]
  },
  {
   "cell_type": "markdown",
   "metadata": {},
   "source": [
    "# 문제\n",
    "\n",
    "대문자와 소문자가 섞여있는 문자열 s가 주어집니다. \n",
    "\n",
    "s에 'p'의 개수와 'y'의 개수를 비교해 같으면 True, 다르면 False를 return 하는 solution를 완성하세요. \n",
    "\n",
    "'p', 'y' 모두 하나도 없는 경우는 항상 True를 리턴합니다. \n",
    "\n",
    "단, 개수를 비교할 때 대문자와 소문자는 구별하지 않습니다.\n",
    "\n",
    "예를 들어 s가 pPoooyY면 true를 return하고 Pyy라면 false를 return합니다.\n",
    "\n",
    "제한사항\n",
    "```\n",
    "문자열 s의 길이 : 50 이하의 자연수\n",
    "문자열 s는 알파벳으로만 이루어져 있습니다.\n",
    "```\n",
    "입출력 예\n",
    "```\n",
    "s\tanswer\n",
    "pPoooyY\ttrue\n",
    "Pyy\tfalse\n",
    "```\n",
    "입출력 예 설명\n",
    "```\n",
    "입출력 예 #1\n",
    "'p'의 개수 2개, 'y'의 개수 2개로 같으므로 true를 return 합니다.\n",
    "\n",
    "입출력 예 #2\n",
    "'p'의 개수 1개, 'y'의 개수 2개로 다르므로 false를 return 합니다.\n",
    "```"
   ]
  },
  {
   "cell_type": "markdown",
   "metadata": {},
   "source": [
    "### 내코드"
   ]
  },
  {
   "cell_type": "code",
   "execution_count": 29,
   "metadata": {
    "scrolled": true
   },
   "outputs": [],
   "source": [
    "def solution(s):\n",
    "    \n",
    "    words = list(s.lower())\n",
    "    \n",
    "    n_p = sum([ 1 for word in words if 'p' == word])\n",
    "    n_y = sum([ 1 for word in words if 'y' == word])\n",
    "    \n",
    "    return n_p == n_y"
   ]
  },
  {
   "cell_type": "markdown",
   "metadata": {},
   "source": [
    "### 다른사람 코드"
   ]
  },
  {
   "cell_type": "code",
   "execution_count": null,
   "metadata": {},
   "outputs": [],
   "source": [
    "def numPY(s):\n",
    "    return s.lower().count('p') == s.lower().count('y')"
   ]
  },
  {
   "cell_type": "code",
   "execution_count": null,
   "metadata": {},
   "outputs": [],
   "source": [
    "print( numPY(\"pPoooyY\") )"
   ]
  },
  {
   "cell_type": "code",
   "execution_count": null,
   "metadata": {},
   "outputs": [],
   "source": [
    "print( numPY(\"Pyy\") )"
   ]
  }
 ],
 "metadata": {
  "kernelspec": {
   "display_name": "Python 3",
   "language": "python",
   "name": "python3"
  },
  "language_info": {
   "codemirror_mode": {
    "name": "ipython",
    "version": 3
   },
   "file_extension": ".py",
   "mimetype": "text/x-python",
   "name": "python",
   "nbconvert_exporter": "python",
   "pygments_lexer": "ipython3",
   "version": "3.7.3"
  }
 },
 "nbformat": 4,
 "nbformat_minor": 2
}
