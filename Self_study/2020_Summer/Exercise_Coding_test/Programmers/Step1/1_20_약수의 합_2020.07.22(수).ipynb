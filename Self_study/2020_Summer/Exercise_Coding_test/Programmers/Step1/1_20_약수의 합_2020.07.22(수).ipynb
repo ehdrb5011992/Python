{
 "cells": [
  {
   "cell_type": "markdown",
   "metadata": {},
   "source": [
    "출처 : https://programmers.co.kr/learn/courses/30/lessons/12928?language=python3"
   ]
  },
  {
   "cell_type": "markdown",
   "metadata": {},
   "source": [
    "# 문제\n",
    "\n",
    "정수 n을 입력받아 n의 약수를 모두 더한 값을 리턴하는 함수, solution을 완성해주세요.\n",
    "\n",
    "제한 사항\n",
    "```\n",
    "n은 0 이상 3000이하인 정수입니다.\n",
    "```\n",
    "입출력 예\n",
    "```\n",
    "n\treturn\n",
    "12\t28\n",
    "5\t6\n",
    "```\n",
    "입출력 예 설명\n",
    "```\n",
    "입출력 예 #1\n",
    "12의 약수는 1, 2, 3, 4, 6, 12입니다. 이를 모두 더하면 28입니다.\n",
    "\n",
    "입출력 예 #2\n",
    "5의 약수는 1, 5입니다. 이를 모두 더하면 6입니다.\n",
    "```"
   ]
  },
  {
   "cell_type": "markdown",
   "metadata": {},
   "source": [
    "### 내코드"
   ]
  },
  {
   "cell_type": "code",
   "execution_count": 28,
   "metadata": {},
   "outputs": [],
   "source": [
    "def solution(n):\n",
    "    answer = []\n",
    "    if n==0 :\n",
    "        return 0\n",
    "    elif n==1 :\n",
    "        return 1\n",
    "    else :\n",
    "    \n",
    "        for i in range(1,int(n**0.5)+1):\n",
    "            if n % i == 0 :\n",
    "\n",
    "                num = n // i\n",
    "                \n",
    "                if num == i:\n",
    "                    answer.append(i)\n",
    "                else:   \n",
    "                    answer.append(i)\n",
    "                    answer.append(num)\n",
    "\n",
    "    return sum(answer)"
   ]
  },
  {
   "cell_type": "code",
   "execution_count": 29,
   "metadata": {},
   "outputs": [
    {
     "data": {
      "text/plain": [
       "7"
      ]
     },
     "execution_count": 29,
     "metadata": {},
     "output_type": "execute_result"
    }
   ],
   "source": [
    "solution(4)"
   ]
  },
  {
   "cell_type": "markdown",
   "metadata": {},
   "source": [
    "### 다른사람 코드"
   ]
  },
  {
   "cell_type": "code",
   "execution_count": null,
   "metadata": {},
   "outputs": [],
   "source": [
    "def sumDivisor(num):\n",
    "    \n",
    "    return num + sum([i for i in range(1, (num // 2) + 1) if num % i == 0])"
   ]
  }
 ],
 "metadata": {
  "kernelspec": {
   "display_name": "Python 3",
   "language": "python",
   "name": "python3"
  },
  "language_info": {
   "codemirror_mode": {
    "name": "ipython",
    "version": 3
   },
   "file_extension": ".py",
   "mimetype": "text/x-python",
   "name": "python",
   "nbconvert_exporter": "python",
   "pygments_lexer": "ipython3",
   "version": "3.7.3"
  }
 },
 "nbformat": 4,
 "nbformat_minor": 2
}
