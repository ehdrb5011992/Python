{
 "cells": [
  {
   "cell_type": "markdown",
   "metadata": {},
   "source": [
    "# [Practice Pandas]"
   ]
  },
  {
   "cell_type": "markdown",
   "metadata": {},
   "source": [
    "*KU LeeDongGyu*"
   ]
  },
  {
   "cell_type": "markdown",
   "metadata": {},
   "source": [
    "## Examples\n",
    "---"
   ]
  },
  {
   "cell_type": "code",
   "execution_count": 2,
   "metadata": {},
   "outputs": [
    {
     "name": "stdout",
     "output_type": "stream",
     "text": [
      "Requirement already satisfied: pandas in c:\\users\\82104\\anaconda3\\envs\\tensorflow\\lib\\site-packages (0.25.0)\n",
      "Requirement already satisfied: python-dateutil>=2.6.1 in c:\\users\\82104\\anaconda3\\envs\\tensorflow\\lib\\site-packages (from pandas) (2.8.0)\n",
      "Requirement already satisfied: numpy>=1.13.3 in c:\\users\\82104\\anaconda3\\envs\\tensorflow\\lib\\site-packages (from pandas) (1.16.4)\n",
      "Requirement already satisfied: pytz>=2017.2 in c:\\users\\82104\\anaconda3\\envs\\tensorflow\\lib\\site-packages (from pandas) (2019.2)\n",
      "Requirement already satisfied: six>=1.5 in c:\\users\\82104\\anaconda3\\envs\\tensorflow\\lib\\site-packages (from python-dateutil>=2.6.1->pandas) (1.12.0)\n",
      "Note: you may need to restart the kernel to use updated packages.\n"
     ]
    }
   ],
   "source": [
    "pip install pandas"
   ]
  },
  {
   "cell_type": "code",
   "execution_count": 3,
   "metadata": {},
   "outputs": [],
   "source": [
    "#pandas 설치하면 numpy도 자동설치됨.\n",
    "import numpy as np\n",
    "import pandas as pd"
   ]
  },
  {
   "cell_type": "markdown",
   "metadata": {},
   "source": [
    "### Object Creation"
   ]
  },
  {
   "cell_type": "code",
   "execution_count": 7,
   "metadata": {},
   "outputs": [
    {
     "name": "stdout",
     "output_type": "stream",
     "text": [
      "0    1.0\n",
      "1    3.0\n",
      "2    5.0\n",
      "3    NaN\n",
      "4    6.0\n",
      "5    8.0\n",
      "dtype: float64\n"
     ]
    }
   ],
   "source": [
    "s = pd.Series([1,3,5,np.nan,6,8]) #NaN 출력 봐놓기\n",
    "print(s)"
   ]
  },
  {
   "cell_type": "code",
   "execution_count": 6,
   "metadata": {},
   "outputs": [
    {
     "name": "stdout",
     "output_type": "stream",
     "text": [
      "DatetimeIndex(['2013-01-01', '2013-01-02', '2013-01-03', '2013-01-04',\n",
      "               '2013-01-05', '2013-01-06'],\n",
      "              dtype='datetime64[ns]', freq='D')\n",
      "***\n",
      "                   A         B         C         D\n",
      "2013-01-01 -1.286662  2.216221 -0.265969  0.511096\n",
      "2013-01-02  0.052720  0.624139 -0.828565  0.812432\n",
      "2013-01-03 -0.221770  0.253779 -3.137794  1.113647\n",
      "2013-01-04 -0.164101 -1.111523  1.010428 -1.079208\n",
      "2013-01-05 -0.419323 -0.197844 -1.871331 -0.351558\n",
      "2013-01-06  1.202883 -0.230332 -0.570591 -0.543233\n"
     ]
    }
   ],
   "source": [
    "dates = pd.date_range('20130101', periods=6)\n",
    "print(dates)\n",
    "print(\"***\")\n",
    "df = pd.DataFrame(np.random.randn(6,4), index=dates, columns=list('ABCD')) #index는 타입상관없음.\n",
    "print(df)\n",
    "#dates = ['1','2','3','4','5','6'] #문자\n",
    "#dates = [int(i) for i in aa ] #정수 다 인덱스로 받음."
   ]
  },
  {
   "cell_type": "code",
   "execution_count": 9,
   "metadata": {
    "scrolled": true
   },
   "outputs": [
    {
     "name": "stdout",
     "output_type": "stream",
     "text": [
      "     A          B    C  D      E    F\n",
      "0  1.0 2013-01-02  1.0  3   test  foo\n",
      "1  1.0 2013-01-02  1.0  3  train  foo\n",
      "2  1.0 2013-01-02  1.0  3   test  foo\n",
      "3  1.0 2013-01-02  1.0  3  train  foo\n",
      "***\n",
      "A           float64\n",
      "B    datetime64[ns]\n",
      "C           float32\n",
      "D             int32\n",
      "E          category\n",
      "F            object\n",
      "dtype: object\n"
     ]
    }
   ],
   "source": [
    "df2 = pd.DataFrame({ 'A' : 1.,\n",
    "                     'B' : pd.Timestamp('20130102'),\n",
    "                     'C' : pd.Series(1,index=list(range(4)),dtype='float32'), #type을 실수형 32비트\n",
    "                     'D' : np.array([3] * 4,dtype='int32'), #정수형 32비트는 초기값.\n",
    "                     'E' : pd.Categorical([\"test\",\"train\",\"test\",\"train\"]),\n",
    "                     'F' : 'foo' })\n",
    "print(df2) #카테고리 빼고 리스트를 써도되나, 그러면 범주가 아님!\n",
    "print(\"***\")\n",
    "print(df2.dtypes)"
   ]
  },
  {
   "cell_type": "markdown",
   "metadata": {},
   "source": [
    "### Viewing Data"
   ]
  },
  {
   "cell_type": "code",
   "execution_count": 10,
   "metadata": {},
   "outputs": [
    {
     "name": "stdout",
     "output_type": "stream",
     "text": [
      "                   A         B         C         D\n",
      "2013-01-01 -1.286662  2.216221 -0.265969  0.511096\n",
      "2013-01-02  0.052720  0.624139 -0.828565  0.812432\n",
      "2013-01-03 -0.221770  0.253779 -3.137794  1.113647\n",
      "2013-01-04 -0.164101 -1.111523  1.010428 -1.079208\n",
      "2013-01-05 -0.419323 -0.197844 -1.871331 -0.351558\n",
      "***\n",
      "                   A         B         C         D\n",
      "2013-01-04 -0.164101 -1.111523  1.010428 -1.079208\n",
      "2013-01-05 -0.419323 -0.197844 -1.871331 -0.351558\n",
      "2013-01-06  1.202883 -0.230332 -0.570591 -0.543233\n"
     ]
    }
   ],
   "source": [
    "print(df.head())\n",
    "print(\"***\")\n",
    "print(df.tail(3))"
   ]
  },
  {
   "cell_type": "code",
   "execution_count": 11,
   "metadata": {},
   "outputs": [
    {
     "name": "stdout",
     "output_type": "stream",
     "text": [
      "DatetimeIndex(['2013-01-01', '2013-01-02', '2013-01-03', '2013-01-04',\n",
      "               '2013-01-05', '2013-01-06'],\n",
      "              dtype='datetime64[ns]', freq='D')\n",
      "***\n",
      "Index(['A', 'B', 'C', 'D'], dtype='object')\n",
      "***\n",
      "[[-1.28666227  2.21622081 -0.26596854  0.51109608]\n",
      " [ 0.05271963  0.62413894 -0.82856506  0.81243188]\n",
      " [-0.22176952  0.25377917 -3.13779425  1.11364741]\n",
      " [-0.16410104 -1.11152279  1.01042801 -1.07920828]\n",
      " [-0.41932344 -0.1978445  -1.87133124 -0.35155764]\n",
      " [ 1.20288292 -0.23033161 -0.57059109 -0.54323302]]\n"
     ]
    }
   ],
   "source": [
    "print(df.index) #인덱스 보여줌.\n",
    "print(\"***\")\n",
    "print(df.columns) #컬럼 보여줌\n",
    "print(\"***\")\n",
    "print(df.values) #값 보여줌\n"
   ]
  },
  {
   "cell_type": "code",
   "execution_count": 12,
   "metadata": {
    "scrolled": true
   },
   "outputs": [
    {
     "name": "stdout",
     "output_type": "stream",
     "text": [
      "              A         B         C         D\n",
      "count  6.000000  6.000000  6.000000  6.000000\n",
      "mean  -0.139376  0.259073 -0.943970  0.077196\n",
      "std    0.805059  1.121655  1.421615  0.861290\n",
      "min   -1.286662 -1.111523 -3.137794 -1.079208\n",
      "25%   -0.369935 -0.222210 -1.610640 -0.495314\n",
      "50%   -0.192935  0.027967 -0.699578  0.079769\n",
      "75%   -0.001486  0.531549 -0.342124  0.737098\n",
      "max    1.202883  2.216221  1.010428  1.113647\n",
      "   2013-01-01  2013-01-02  2013-01-03  2013-01-04  2013-01-05  2013-01-06\n",
      "A   -1.286662    0.052720   -0.221770   -0.164101   -0.419323    1.202883\n",
      "B    2.216221    0.624139    0.253779   -1.111523   -0.197844   -0.230332\n",
      "C   -0.265969   -0.828565   -3.137794    1.010428   -1.871331   -0.570591\n",
      "D    0.511096    0.812432    1.113647   -1.079208   -0.351558   -0.543233\n",
      "                   D         C         B         A\n",
      "2013-01-01  0.511096 -0.265969  2.216221 -1.286662\n",
      "2013-01-02  0.812432 -0.828565  0.624139  0.052720\n",
      "2013-01-03  1.113647 -3.137794  0.253779 -0.221770\n",
      "2013-01-04 -1.079208  1.010428 -1.111523 -0.164101\n",
      "2013-01-05 -0.351558 -1.871331 -0.197844 -0.419323\n",
      "2013-01-06 -0.543233 -0.570591 -0.230332  1.202883\n",
      "                   A         B         C         D\n",
      "2013-01-04 -0.164101 -1.111523  1.010428 -1.079208\n",
      "2013-01-06  1.202883 -0.230332 -0.570591 -0.543233\n",
      "2013-01-05 -0.419323 -0.197844 -1.871331 -0.351558\n",
      "2013-01-03 -0.221770  0.253779 -3.137794  1.113647\n",
      "2013-01-02  0.052720  0.624139 -0.828565  0.812432\n",
      "2013-01-01 -1.286662  2.216221 -0.265969  0.511096\n"
     ]
    }
   ],
   "source": [
    "print(df.describe()) #R의 summary함수.\n",
    "print(df.T)\n",
    "print(df.sort_index(axis=1, ascending=False)) #1이면 가로(행), 0이면 세로(열), 왼쪽은 내림차순정렬\n",
    "print(df.sort_values(by='B')) #아래로 내려갈수록 오름차순."
   ]
  },
  {
   "cell_type": "markdown",
   "metadata": {},
   "source": [
    "### Selection"
   ]
  },
  {
   "cell_type": "code",
   "execution_count": 13,
   "metadata": {},
   "outputs": [
    {
     "name": "stdout",
     "output_type": "stream",
     "text": [
      "2013-01-01   -1.286662\n",
      "2013-01-02    0.052720\n",
      "2013-01-03   -0.221770\n",
      "2013-01-04   -0.164101\n",
      "2013-01-05   -0.419323\n",
      "2013-01-06    1.202883\n",
      "Freq: D, Name: A, dtype: float64\n",
      "                   A         B\n",
      "2013-01-01 -1.286662  2.216221\n",
      "2013-01-02  0.052720  0.624139\n",
      "2013-01-03 -0.221770  0.253779\n",
      "2013-01-04 -0.164101 -1.111523\n",
      "2013-01-05 -0.419323 -0.197844\n",
      "2013-01-06  1.202883 -0.230332\n",
      "***\n"
     ]
    }
   ],
   "source": [
    "print(df['A']) #문자로 쓰면 열들을 뽑으라는것. (기본)\n",
    "print(df[['A','B']]) # = print(df.loc[:,['A','B']])\n",
    "print(\"***\")"
   ]
  },
  {
   "cell_type": "code",
   "execution_count": 14,
   "metadata": {},
   "outputs": [
    {
     "name": "stdout",
     "output_type": "stream",
     "text": [
      "                   A         B         C         D\n",
      "2013-01-01 -1.286662  2.216221 -0.265969  0.511096\n",
      "A   -1.286662\n",
      "B    2.216221\n",
      "C   -0.265969\n",
      "D    0.511096\n",
      "Name: 2013-01-01 00:00:00, dtype: float64\n",
      "                   A         B\n",
      "2013-01-01 -1.286662  2.216221\n",
      "2013-01-02  0.052720  0.624139\n",
      "2013-01-03 -0.221770  0.253779\n",
      "2013-01-04 -0.164101 -1.111523\n",
      "2013-01-05 -0.419323 -0.197844\n",
      "2013-01-06  1.202883 -0.230332\n"
     ]
    }
   ],
   "source": [
    "print(df[0:1]) #행을 뽑고 싶으면 반드시 이렇게 범위로 써야함.\n",
    "print(df.loc[dates[0]])  #print(df[0:1][:].T) 와 유사. df[행][열]\n",
    "#데이터로서 표시할때는 이렇게.\n",
    "print(df.loc[:,['A','B']]) #뽑을때는 loc함수 쓸것.얘는 이름으로뽑음."
   ]
  },
  {
   "cell_type": "code",
   "execution_count": 15,
   "metadata": {},
   "outputs": [
    {
     "name": "stdout",
     "output_type": "stream",
     "text": [
      "                   A         B\n",
      "2013-01-02  0.052720  0.624139\n",
      "2013-01-03 -0.221770  0.253779\n",
      "2013-01-04 -0.164101 -1.111523\n"
     ]
    }
   ],
   "source": [
    "print(df.loc['20130102':'20130104',['A','B']]) #==print(df[1:4][['A','B']])\n",
    "#print(df[1:4][1:2])는 [1:4]뽑은것 중 [1:2]를 의미.\n",
    "#print(df[1:4][['A','B']]) == print(df[1:4][df.columns[0:2]]) 임. 불편하지만 받아들이기.\n",
    "#==print(df.loc[dates[1:4],['A','B']])\n",
    "# print(df.loc[1:3,['A','B']]) 얘는 안됨."
   ]
  },
  {
   "cell_type": "code",
   "execution_count": 16,
   "metadata": {},
   "outputs": [
    {
     "name": "stdout",
     "output_type": "stream",
     "text": [
      "A   -0.164101\n",
      "B   -1.111523\n",
      "C    1.010428\n",
      "D   -1.079208\n",
      "Name: 2013-01-04 00:00:00, dtype: float64\n",
      "                   A         C\n",
      "2013-01-02  0.052720 -0.828565\n",
      "2013-01-03 -0.221770 -3.137794\n",
      "2013-01-05 -0.419323 -1.871331\n",
      "                   A         B         C         D\n",
      "2013-01-02  0.052720  0.624139 -0.828565  0.812432\n",
      "2013-01-06  1.202883 -0.230332 -0.570591 -0.543233\n"
     ]
    }
   ],
   "source": [
    "print(df.iloc[3]) #== print(df.loc[dates[3]])\n",
    "print(df.iloc[[1,2,4],[0,2]]) #얘는 index로 뽑는거임.\n",
    "print(df[df.A > 0]) ## df.A는 df변수의 A컬럼이라는 뜻임. 자동지정되므로 참고하기!\n"
   ]
  },
  {
   "cell_type": "code",
   "execution_count": 17,
   "metadata": {},
   "outputs": [
    {
     "name": "stdout",
     "output_type": "stream",
     "text": [
      "                   A         B         C         D\n",
      "2013-01-01 -1.286662  2.216221 -0.265969  0.511096\n",
      "2013-01-02  0.052720  0.624139 -0.828565  0.812432\n",
      "2013-01-03 -0.221770  0.253779 -3.137794  1.113647\n",
      "2013-01-04 -0.164101 -1.111523  1.010428 -1.079208\n",
      "2013-01-05 -0.419323 -0.197844 -1.871331 -0.351558\n",
      "2013-01-06  1.202883 -0.230332 -0.570591 -0.543233\n",
      "***\n",
      "                   A         B         C         D    F\n",
      "2013-01-01 -1.286662  2.216221 -0.265969  0.511096  NaN\n",
      "2013-01-02  0.052720  0.624139 -0.828565  0.812432  1.0\n",
      "2013-01-03 -0.221770  0.253779 -3.137794  1.113647  2.0\n",
      "2013-01-04 -0.164101 -1.111523  1.010428 -1.079208  3.0\n",
      "2013-01-05 -0.419323 -0.197844 -1.871331 -0.351558  4.0\n",
      "2013-01-06  1.202883 -0.230332 -0.570591 -0.543233  5.0\n"
     ]
    }
   ],
   "source": [
    "print(df)\n",
    "print(\"***\")\n",
    "s1 = pd.Series([1,2,3,4,5,6], index=pd.date_range('20130102', periods=6))\n",
    "df['F'] = s1 #기존 df의 변수에 대해서만 추가를 시킴.\n",
    "#df.F = s1 생성하면서 동시에 넣는건 위에서나 가능. 왼쪽에서처럼은 불가능.\n",
    "print(df)\n"
   ]
  },
  {
   "cell_type": "code",
   "execution_count": 18,
   "metadata": {},
   "outputs": [
    {
     "name": "stdout",
     "output_type": "stream",
     "text": [
      "                   A         B         C  D    F\n",
      "2013-01-01 -1.286662  2.216221 -0.265969  5  NaN\n",
      "2013-01-02  0.052720  0.624139 -0.828565  5  1.0\n",
      "2013-01-03 -0.221770  0.253779 -3.137794  5  2.0\n",
      "2013-01-04 -0.164101 -1.111523  1.010428  5  3.0\n",
      "2013-01-05 -0.419323 -0.197844 -1.871331  5  4.0\n",
      "2013-01-06  1.202883 -0.230332 -0.570591  5  5.0\n"
     ]
    }
   ],
   "source": [
    "df.loc[:,'D'] = 5 #바꾸는건 이렇게\n",
    "print(df)"
   ]
  },
  {
   "cell_type": "markdown",
   "metadata": {},
   "source": [
    "### Missing Data"
   ]
  },
  {
   "cell_type": "code",
   "execution_count": 19,
   "metadata": {},
   "outputs": [
    {
     "name": "stdout",
     "output_type": "stream",
     "text": [
      "                   A         B         C  D    F    E\n",
      "2013-01-01 -1.286662  2.216221 -0.265969  5  NaN  1.0\n",
      "2013-01-02  0.052720  0.624139 -0.828565  5  1.0  1.0\n",
      "2013-01-03 -0.221770  0.253779 -3.137794  5  2.0  NaN\n",
      "2013-01-04 -0.164101 -1.111523  1.010428  5  3.0  NaN\n",
      "                  A         B         C  D    F    E\n",
      "2013-01-02  0.05272  0.624139 -0.828565  5  1.0  1.0\n",
      "                   A         B         C  D    F    E\n",
      "2013-01-01 -1.286662  2.216221 -0.265969  5  5.0  1.0\n",
      "2013-01-02  0.052720  0.624139 -0.828565  5  1.0  1.0\n",
      "2013-01-03 -0.221770  0.253779 -3.137794  5  2.0  5.0\n",
      "2013-01-04 -0.164101 -1.111523  1.010428  5  3.0  5.0\n",
      "                A      B      C      D      F      E\n",
      "2013-01-01  False  False  False  False   True  False\n",
      "2013-01-02  False  False  False  False  False  False\n",
      "2013-01-03  False  False  False  False  False   True\n",
      "2013-01-04  False  False  False  False  False   True\n"
     ]
    }
   ],
   "source": [
    "df1 = df.reindex(index=dates[0:4], columns=list(df.columns) + ['E']) #index만 바꿔서 다시 데이터를 만들때\n",
    "df1.loc[dates[0:2],'E'] = 1\n",
    "print(df1)\n",
    "\n",
    "print(df1.dropna(how='any')) #NaN하나라도 있으면 버리기\n",
    "print(df1.fillna(value=5)) #NaN을 값5로 넣기 (데이터변수.na처리함수)\n",
    "print(pd.isna(df1)) #na가 있는것을 보기. 이때 pd.isna method임을 알고있기.\n"
   ]
  },
  {
   "cell_type": "markdown",
   "metadata": {},
   "source": [
    "### Operations"
   ]
  },
  {
   "cell_type": "code",
   "execution_count": 20,
   "metadata": {},
   "outputs": [
    {
     "name": "stdout",
     "output_type": "stream",
     "text": [
      "A   -0.139376\n",
      "B    0.259073\n",
      "C   -0.943970\n",
      "D    5.000000\n",
      "F    3.000000\n",
      "dtype: float64\n",
      "***\n",
      "2013-01-01    1.415898\n",
      "2013-01-02    1.169659\n",
      "2013-01-03    0.778843\n",
      "2013-01-04    1.546961\n",
      "2013-01-05    1.302300\n",
      "2013-01-06    2.080392\n",
      "Freq: D, dtype: float64\n"
     ]
    }
   ],
   "source": [
    "print(df.mean()) # == print(df.mean(0))\n",
    "print(\"***\")\n",
    "print(df.mean(1))"
   ]
  },
  {
   "cell_type": "code",
   "execution_count": 21,
   "metadata": {},
   "outputs": [
    {
     "name": "stdout",
     "output_type": "stream",
     "text": [
      "2013-01-01    1.0\n",
      "2013-01-02    3.0\n",
      "2013-01-03    5.0\n",
      "2013-01-04    NaN\n",
      "2013-01-05    6.0\n",
      "2013-01-06    8.0\n",
      "Freq: D, dtype: float64\n",
      "***\n",
      "2013-01-01    NaN\n",
      "2013-01-02    NaN\n",
      "2013-01-03    1.0\n",
      "2013-01-04    3.0\n",
      "2013-01-05    5.0\n",
      "2013-01-06    NaN\n",
      "Freq: D, dtype: float64\n",
      "***\n",
      "2013-01-01    3.0\n",
      "2013-01-02    5.0\n",
      "2013-01-03    NaN\n",
      "2013-01-04    6.0\n",
      "2013-01-05    8.0\n",
      "2013-01-06    NaN\n",
      "Freq: D, dtype: float64\n"
     ]
    }
   ],
   "source": [
    "s = pd.Series([1,3,5,np.nan,6,8], index=dates)\n",
    "print(s)\n",
    "print(\"***\")\n",
    "print(s.shift(2)) #데이터들을 아래로 2칸 옮김\n",
    "print(\"***\")\n",
    "print(s.shift(-1)) #데이터들을 위로 1칸 옮김. 빈칸은 NaN\n"
   ]
  },
  {
   "cell_type": "code",
   "execution_count": 22,
   "metadata": {},
   "outputs": [
    {
     "name": "stdout",
     "output_type": "stream",
     "text": [
      "                   A         B         C  D    F\n",
      "2013-01-01 -1.286662  2.216221 -0.265969  5  NaN\n",
      "2013-01-02  0.052720  0.624139 -0.828565  5  1.0\n",
      "2013-01-03 -0.221770  0.253779 -3.137794  5  2.0\n",
      "2013-01-04 -0.164101 -1.111523  1.010428  5  3.0\n",
      "2013-01-05 -0.419323 -0.197844 -1.871331  5  4.0\n",
      "2013-01-06  1.202883 -0.230332 -0.570591  5  5.0\n",
      "***\n",
      "                   A         B         C   D     F\n",
      "2013-01-01 -1.286662  2.216221 -0.265969   5   NaN\n",
      "2013-01-02 -1.233943  2.840360 -1.094534  10   1.0\n",
      "2013-01-03 -1.455712  3.094139 -4.232328  15   3.0\n",
      "2013-01-04 -1.619813  1.982616 -3.221900  20   6.0\n",
      "2013-01-05 -2.039137  1.784772 -5.093231  25  10.0\n",
      "2013-01-06 -0.836254  1.554440 -5.663822  30  15.0\n",
      "***\n",
      "                   A         B         C         D          F\n",
      "2013-01-01 -1.286662  0.929559  0.663590  5.663590        NaN\n",
      "2013-01-02  0.052720  0.676859 -0.151706  4.848294   5.848294\n",
      "2013-01-03 -0.221770  0.032010 -3.105785  1.894215   3.894215\n",
      "2013-01-04 -0.164101 -1.275624 -0.265196  4.734804   7.734804\n",
      "2013-01-05 -0.419323 -0.617168 -2.488499  2.511501   6.511501\n",
      "2013-01-06  1.202883  0.972551  0.401960  5.401960  10.401960\n",
      "***\n",
      "A    2.489545\n",
      "B    3.327744\n",
      "C    4.148222\n",
      "D    0.000000\n",
      "F    4.000000\n",
      "dtype: float64\n"
     ]
    }
   ],
   "source": [
    "print(df)\n",
    "print(\"***\")\n",
    "print(df.apply(np.cumsum)) # == print(df.apply(np.cumsum, axis=0)) a\n",
    "print(\"***\")\n",
    "print(df.apply(np.cumsum, axis=1))\n",
    "print(\"***\")\n",
    "print(df.apply(lambda x: x.max() - x.min())) #lambda x는 함수명령어.(아마 매틀랩에서 배운듯)\n",
    "#즉, 괄호에는 함수가 들어간다는 뜻\n",
    "#print(df.apply(sum, axis=1)) <--- apply함수는 괄호안의 첫번째에 함수를받고, 두번째에 시행하는방향.\n",
    "#R의 apply문과 비슷.\n"
   ]
  },
  {
   "cell_type": "markdown",
   "metadata": {},
   "source": [
    "### Merge"
   ]
  },
  {
   "cell_type": "code",
   "execution_count": 23,
   "metadata": {},
   "outputs": [
    {
     "name": "stdout",
     "output_type": "stream",
     "text": [
      "                   A         B         C  D    F\n",
      "2013-01-01 -1.286662  2.216221 -0.265969  5  NaN\n",
      "2013-01-02  0.052720  0.624139 -0.828565  5  1.0\n",
      "2013-01-03 -0.221770  0.253779 -3.137794  5  2.0\n",
      "2013-01-04 -0.164101 -1.111523  1.010428  5  3.0\n",
      "2013-01-05 -0.419323 -0.197844 -1.871331  5  4.0\n",
      "2013-01-06  1.202883 -0.230332 -0.570591  5  5.0\n",
      "***\n",
      "          A         B         C    D    F\n",
      "0 -1.286662  2.216221 -0.265969  5.0  NaN\n",
      "1  0.052720  0.624139 -0.828565  5.0  1.0\n",
      "2 -0.221770  0.253779 -3.137794  5.0  2.0\n",
      "3 -0.164101 -1.111523  1.010428  5.0  3.0\n",
      "4 -0.419323 -0.197844 -1.871331  5.0  4.0\n",
      "5  1.202883 -0.230332 -0.570591  5.0  5.0\n",
      "6 -0.164101 -1.111523  1.010428  5.0  3.0\n"
     ]
    }
   ],
   "source": [
    "print(df)\n",
    "print(\"***\")\n",
    "s = df.iloc[3] #4번째행이 출력됨.\n",
    "print(df.append(s, ignore_index=True)) #append명령어를 써서 출력\n",
    "#print(df.append(s, ignore_index=False)) 이건 인덱스를 고스란히 출력하라는 뜻.\n",
    "#맨 아래행에 데이터가 추가된다.\n"
   ]
  },
  {
   "cell_type": "code",
   "execution_count": 24,
   "metadata": {},
   "outputs": [
    {
     "name": "stdout",
     "output_type": "stream",
     "text": [
      "   key  rval\n",
      "0  foo     4\n",
      "1  bar     5\n",
      "***\n",
      "   key  rval  abs\n",
      "0  foo     4  foo\n",
      "1  bar     5  bar\n",
      "***\n",
      "   key  rval_x  rval_y  abs\n",
      "0  foo       4       4  foo\n",
      "1  bar       5       5  bar\n"
     ]
    }
   ],
   "source": [
    "left = pd.DataFrame({'key': ['foo', 'bar'], 'rval': [4, 5]})\n",
    "right = pd.DataFrame({'key': ['foo', 'bar'], 'rval': [4, 5] , 'abs': ['foo', 'bar']} )\n",
    "print(left)\n",
    "print(\"***\")\n",
    "print(right)\n",
    "print(\"***\")\n",
    "print(pd.merge(left, right, on='key')) #  print(pd.merge(left, right)) 얘는 최대한 다겹쳐서 출력.\n",
    "# merge는 항상 기준이 있어야함.\n",
    "#print(pd.merge(left, right, on='key')) 이러면 중복은 key만 취급. (key가 기준)"
   ]
  },
  {
   "cell_type": "markdown",
   "metadata": {},
   "source": [
    "### Grouping"
   ]
  },
  {
   "cell_type": "code",
   "execution_count": 26,
   "metadata": {},
   "outputs": [
    {
     "name": "stdout",
     "output_type": "stream",
     "text": [
      "     A      B         C         D\n",
      "0  foo    one  1.404458 -0.296578\n",
      "1  bar    one -0.510053  1.408224\n",
      "2  foo    two -1.119213 -0.587399\n",
      "3  bar  three  0.406430  0.632027\n",
      "4  foo    two  1.429356 -0.184191\n",
      "5  bar    two -0.024648 -0.881995\n",
      "6  foo    one  0.564534 -1.760849\n",
      "7  foo  three -0.996121 -0.138044\n"
     ]
    }
   ],
   "source": [
    "df = pd.DataFrame({'A' : ['foo', 'bar', 'foo', 'bar', 'foo', 'bar', 'foo', 'foo'],\n",
    "                   'B' : ['one', 'one', 'two', 'three', 'two', 'two', 'one', 'three'],\n",
    "                   'C' : np.random.randn(8),\n",
    "                   'D' : np.random.randn(8)})\n",
    "print(df)"
   ]
  },
  {
   "cell_type": "code",
   "execution_count": 27,
   "metadata": {},
   "outputs": [
    {
     "name": "stdout",
     "output_type": "stream",
     "text": [
      "            C         D\n",
      "A                      \n",
      "bar -0.128271  1.158257\n",
      "foo  1.283014 -2.967061\n",
      "                  C         D\n",
      "A   B                        \n",
      "bar one   -0.510053  1.408224\n",
      "    three  0.406430  0.632027\n",
      "    two   -0.024648 -0.881995\n",
      "foo one    1.968992 -2.057427\n",
      "    three -0.996121 -0.138044\n",
      "    two    0.310143 -0.771589\n"
     ]
    }
   ],
   "source": [
    "print(df.groupby('A').sum()) #더할수 있게되는 숫자들만 더함.\n",
    "print(df.groupby(['A','B']).sum()) #A,B순서쌍에 대한 그룹들에서 더함"
   ]
  },
  {
   "cell_type": "markdown",
   "metadata": {},
   "source": [
    "### Getting Data In/Out"
   ]
  },
  {
   "cell_type": "code",
   "execution_count": 28,
   "metadata": {},
   "outputs": [],
   "source": [
    "df = pd.DataFrame(np.random.randn(6,4), index=dates, columns=list('ABCD'))\n",
    "# df.to_csv('foo.csv') #df를 csv로 보낸다 => df.to_csv 를 씀. 실행하지는 않음."
   ]
  },
  {
   "cell_type": "code",
   "execution_count": null,
   "metadata": {},
   "outputs": [],
   "source": [
    "#pd.read_csv('foo.csv') #read_csv는 pd의 함수.\n",
    "#pd.read_csv('foo.csv', index_col=0) #index로 지정한 col은 0번째라는 뜻.\n",
    "#역시나 실행하지는 않았다. 이렇게"
   ]
  }
 ],
 "metadata": {
  "kernelspec": {
   "display_name": "Python 3",
   "language": "python",
   "name": "python3"
  },
  "language_info": {
   "codemirror_mode": {
    "name": "ipython",
    "version": 3
   },
   "file_extension": ".py",
   "mimetype": "text/x-python",
   "name": "python",
   "nbconvert_exporter": "python",
   "pygments_lexer": "ipython3",
   "version": "3.7.3"
  }
 },
 "nbformat": 4,
 "nbformat_minor": 2
}
