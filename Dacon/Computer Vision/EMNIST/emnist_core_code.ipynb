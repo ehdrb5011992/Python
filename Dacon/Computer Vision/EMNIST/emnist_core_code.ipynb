{
 "cells": [
  {
   "cell_type": "code",
   "execution_count": 1,
   "metadata": {
    "colab": {},
    "colab_type": "code",
    "executionInfo": {
     "elapsed": 10262,
     "status": "ok",
     "timestamp": 1594603153663,
     "user": {
      "displayName": "‍이동규[ 대학원석사과정재학 / 통계학과 ]",
      "photoUrl": "",
      "userId": "08134145419451519269"
     },
     "user_tz": -540
    },
    "id": "DhCakWYACG0M"
   },
   "outputs": [],
   "source": [
    "import pandas as pd\n",
    "import numpy as np\n",
    "import glob, os, cv2\n",
    "import matplotlib.pyplot as plt\n",
    "import shutil\n",
    "from tensorflow.keras.preprocessing.image import ImageDataGenerator,save_img"
   ]
  },
  {
   "cell_type": "code",
   "execution_count": 2,
   "metadata": {},
   "outputs": [
    {
     "data": {
      "text/plain": [
       "'C:\\\\Users\\\\82104\\\\Desktop\\\\dacon'"
      ]
     },
     "execution_count": 2,
     "metadata": {},
     "output_type": "execute_result"
    }
   ],
   "source": [
    "os.getcwd()"
   ]
  },
  {
   "cell_type": "code",
   "execution_count": 3,
   "metadata": {},
   "outputs": [],
   "source": [
    "train = pd.read_csv('train.csv')\n",
    "test = pd.read_csv('test.csv')"
   ]
  },
  {
   "cell_type": "code",
   "execution_count": 4,
   "metadata": {},
   "outputs": [],
   "source": [
    "x_train = train.drop(['id','digit','letter'],axis=1).values\n",
    "x_train = x_train.reshape(-1,28,28,1)\n",
    "y_train = train['digit'].values"
   ]
  },
  {
   "cell_type": "code",
   "execution_count": 27,
   "metadata": {},
   "outputs": [],
   "source": [
    "x_test = test.drop(['id','letter'],axis=1).values\n",
    "x_test = x_test.reshape(-1,28,28,1)"
   ]
  },
  {
   "cell_type": "code",
   "execution_count": 17,
   "metadata": {
    "colab": {},
    "colab_type": "code",
    "id": "7WUJnOehdB0B"
   },
   "outputs": [],
   "source": [
    "# cifar100 label list는 아래와 같음.\n",
    "\n",
    "emnist_LABELS_LIST = [\n",
    "    '0','1','2','3','4','5','6','7','8','9'\n",
    "]"
   ]
  },
  {
   "cell_type": "code",
   "execution_count": 18,
   "metadata": {
    "colab": {},
    "colab_type": "code",
    "id": "CPpZgPoPdB0K"
   },
   "outputs": [],
   "source": [
    "# make the class folder\n",
    "\n",
    "for i in emnist_LABELS_LIST:\n",
    "    os.makedirs(os.path.join(os.getcwd(),'data/images',i), exist_ok=True)"
   ]
  },
  {
   "cell_type": "code",
   "execution_count": 19,
   "metadata": {
    "colab": {},
    "colab_type": "code",
    "id": "e0AO1aVNdB0N"
   },
   "outputs": [],
   "source": [
    "# train images generator\n",
    "for i in range(len(x_train)):\n",
    "    for j in emnist_LABELS_LIST:\n",
    "        if str(y_train[i]) == j :\n",
    "            save_img(os.path.join(os.getcwd(),'data/images','%s/%05d.png'%(j,i+1) ), x_train[i])"
   ]
  },
  {
   "cell_type": "code",
   "execution_count": 28,
   "metadata": {
    "colab": {},
    "colab_type": "code",
    "id": "aaD-b-YbdB0Q"
   },
   "outputs": [],
   "source": [
    "# test images generator\n",
    "for i in range(len(x_test)):\n",
    "    save_img(os.path.join(os.getcwd(),'data/test','%05d.png'%(i+1) ), x_test[i])"
   ]
  },
  {
   "cell_type": "code",
   "execution_count": 32,
   "metadata": {
    "colab": {},
    "colab_type": "code",
    "id": "QXYdWRmodB0W"
   },
   "outputs": [],
   "source": [
    "all = 'data/images'\n",
    "train = 'data/train'\n",
    "valid = 'data/valid'"
   ]
  },
  {
   "cell_type": "code",
   "execution_count": 30,
   "metadata": {
    "colab": {},
    "colab_type": "code",
    "id": "jg9u1Y34dB0a"
   },
   "outputs": [],
   "source": [
    "# 데이터 쪼개기\n",
    "\n",
    "def split_dataset_into_test_and_train_sets(all_data_dir, training_data_dir, testing_data_dir, testing_data_pct):\n",
    "    # Recreate testing and training directories\n",
    "    if testing_data_dir.count('/') > 1:\n",
    "        shutil.rmtree(testing_data_dir, ignore_errors=False)\n",
    "        os.makedirs(testing_data_dir)\n",
    "        print(\"Successfully cleaned directory \" + testing_data_dir)\n",
    "    else:\n",
    "        print(\"Refusing to delete testing data directory \" + testing_data_dir + \" as we prevent you from doing stupid things!\")\n",
    "\n",
    "    if training_data_dir.count('/') > 1:\n",
    "        shutil.rmtree(training_data_dir, ignore_errors=False)\n",
    "        os.makedirs(training_data_dir)\n",
    "        print(\"Successfully cleaned directory \" + training_data_dir)\n",
    "    else:\n",
    "        print(\"Refusing to delete testing data directory \" + training_data_dir + \" as we prevent you from doing stupid things!\")\n",
    "\n",
    "    num_training_files = 0\n",
    "    num_testing_files = 0\n",
    "\n",
    "    for subdir, dirs, files in os.walk(all_data_dir):\n",
    "        category_name = os.path.basename(subdir)\n",
    "\n",
    "        # Don't create a subdirectory for the root directory\n",
    "        print(category_name + \" vs \" + os.path.basename(all_data_dir))\n",
    "        if category_name == os.path.basename(all_data_dir):\n",
    "            continue\n",
    "\n",
    "        training_data_category_dir = training_data_dir + '/' + category_name\n",
    "        testing_data_category_dir = testing_data_dir + '/' + category_name\n",
    "\n",
    "        if not os.path.exists(training_data_category_dir):\n",
    "            os.mkdir(training_data_category_dir)\n",
    "\n",
    "        if not os.path.exists(testing_data_category_dir):\n",
    "            os.mkdir(testing_data_category_dir)\n",
    "\n",
    "        for file in files:\n",
    "            input_file = os.path.join(subdir, file)\n",
    "            if np.random.rand(1) < testing_data_pct:\n",
    "                shutil.copy(input_file, testing_data_dir + '/' + category_name + '/' + file)\n",
    "                num_testing_files += 1\n",
    "            else:\n",
    "                shutil.copy(input_file, training_data_dir + '/' + category_name + '/' + file)\n",
    "                num_training_files += 1\n",
    "\n",
    "    print(\"Processed \" + str(num_training_files) + \" training files.\")\n",
    "    print(\"Processed \" + str(num_testing_files) + \" testing files.\")"
   ]
  },
  {
   "cell_type": "code",
   "execution_count": 35,
   "metadata": {
    "colab": {
     "base_uri": "https://localhost:8080/",
     "height": 1000
    },
    "colab_type": "code",
    "executionInfo": {
     "elapsed": 10034854,
     "status": "ok",
     "timestamp": 1594559882848,
     "user": {
      "displayName": "‍이동규[ 대학원석사과정재학 / 통계학과 ]",
      "photoUrl": "",
      "userId": "08134145419451519269"
     },
     "user_tz": -540
    },
    "id": "GW_AyAFYdB0d",
    "outputId": "d07e1ee9-1e7c-4757-8d1d-66f6f4729255",
    "scrolled": true
   },
   "outputs": [
    {
     "name": "stdout",
     "output_type": "stream",
     "text": [
      "Refusing to delete testing data directory data/valid as we prevent you from doing stupid things!\n",
      "Refusing to delete testing data directory data/train as we prevent you from doing stupid things!\n",
      "images vs images\n",
      "0 vs images\n",
      "1 vs images\n",
      "2 vs images\n",
      "3 vs images\n",
      "4 vs images\n",
      "5 vs images\n",
      "6 vs images\n",
      "7 vs images\n",
      "8 vs images\n",
      "9 vs images\n",
      "Processed 1653 training files.\n",
      "Processed 395 testing files.\n"
     ]
    }
   ],
   "source": [
    "split_dataset_into_test_and_train_sets(all, train, valid, 0.2)"
   ]
  },
  {
   "cell_type": "code",
   "execution_count": null,
   "metadata": {
    "colab": {},
    "colab_type": "code",
    "id": "hD9gbqtNdB0x"
   },
   "outputs": [],
   "source": []
  }
 ],
 "metadata": {
  "colab": {
   "collapsed_sections": [],
   "name": "cifar100_core_code.ipynb",
   "provenance": []
  },
  "kernelspec": {
   "display_name": "Python 3",
   "language": "python",
   "name": "python3"
  },
  "language_info": {
   "codemirror_mode": {
    "name": "ipython",
    "version": 3
   },
   "file_extension": ".py",
   "mimetype": "text/x-python",
   "name": "python",
   "nbconvert_exporter": "python",
   "pygments_lexer": "ipython3",
   "version": "3.7.3"
  }
 },
 "nbformat": 4,
 "nbformat_minor": 1
}
